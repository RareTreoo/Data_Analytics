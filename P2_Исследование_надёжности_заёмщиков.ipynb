{
 "cells": [
  {
   "cell_type": "markdown",
   "metadata": {
    "toc": true
   },
   "source": [
    "<h1>Содержание проекта<span class=\"tocSkip\"></span></h1>\n",
    "<div class=\"toc\"><ul class=\"toc-item\"><li><span><a href=\"#Шаг-1.-Чтение-файла-с-данными-и-изучение-общей-информации\" data-toc-modified-id=\"Шаг-1.-Чтение-файла-с-данными-и-изучение-общей-информации-1\"><span class=\"toc-item-num\">1&nbsp;&nbsp;</span>Шаг 1. Чтение файла с данными и изучение общей информации</a></span></li><li><span><a href=\"#Шаг-2.-Предобработка-данных\" data-toc-modified-id=\"Шаг-2.-Предобработка-данных-2\"><span class=\"toc-item-num\">2&nbsp;&nbsp;</span>Шаг 2. Предобработка данных</a></span><ul class=\"toc-item\"><li><span><a href=\"#Обработка-пропусков\" data-toc-modified-id=\"Обработка-пропусков-2.1\"><span class=\"toc-item-num\">2.1&nbsp;&nbsp;</span>Обработка пропусков</a></span></li><li><span><a href=\"#Замена-типа-данных\" data-toc-modified-id=\"Замена-типа-данных-2.2\"><span class=\"toc-item-num\">2.2&nbsp;&nbsp;</span>Замена типа данных</a></span></li><li><span><a href=\"#Обработка-дубликатов\" data-toc-modified-id=\"Обработка-дубликатов-2.3\"><span class=\"toc-item-num\">2.3&nbsp;&nbsp;</span>Обработка дубликатов</a></span></li><li><span><a href=\"#Лемматизация\" data-toc-modified-id=\"Лемматизация-2.4\"><span class=\"toc-item-num\">2.4&nbsp;&nbsp;</span>Лемматизация</a></span></li><li><span><a href=\"#Категоризация-данных\" data-toc-modified-id=\"Категоризация-данных-2.5\"><span class=\"toc-item-num\">2.5&nbsp;&nbsp;</span>Категоризация данных</a></span></li></ul></li><li><span><a href=\"#Шаг-3.-Аналитика\" data-toc-modified-id=\"Шаг-3.-Аналитика-3\"><span class=\"toc-item-num\">3&nbsp;&nbsp;</span>Шаг 3. Аналитика</a></span></li><li><span><a href=\"#Шаг-4.-Общий-вывод\" data-toc-modified-id=\"Шаг-4.-Общий-вывод-4\"><span class=\"toc-item-num\">4&nbsp;&nbsp;</span>Шаг 4. Общий вывод</a></span></li></ul></div>"
   ]
  },
  {
   "cell_type": "markdown",
   "metadata": {},
   "source": [
    "# Исследование надёжности заёмщиков\n",
    "\n",
    "Заказчик — кредитный отдел банка. Нужно разобраться, влияет ли семейное положение и количество детей клиента на факт погашения кредита в срок. Входные данные от банка — статистика о платёжеспособности клиентов.\n",
    "\n",
    "Результаты исследования будут учтены при построении модели **кредитного скоринга** — специальной системы, которая оценивает способность потенциального заёмщика вернуть кредит банку."
   ]
  },
  {
   "cell_type": "markdown",
   "metadata": {},
   "source": [
    "## Шаг 1. Чтение файла с данными и изучение общей информации"
   ]
  },
  {
   "cell_type": "markdown",
   "metadata": {},
   "source": [
    "Первое представление о данных. "
   ]
  },
  {
   "cell_type": "code",
   "execution_count": 1,
   "metadata": {
    "scrolled": true
   },
   "outputs": [],
   "source": [
    "# импорт библиотек\n",
    "\n",
    "import pandas as pd\n",
    "import numpy as np\n",
    "import seaborn as sns\n",
    "import matplotlib.pyplot as plt"
   ]
  },
  {
   "cell_type": "markdown",
   "metadata": {},
   "source": [
    "Прочитаем файл и запишем его в переменную `df`."
   ]
  },
  {
   "cell_type": "code",
   "execution_count": 3,
   "metadata": {},
   "outputs": [
    {
     "data": {
      "text/html": [
       "<div>\n",
       "<style scoped>\n",
       "    .dataframe tbody tr th:only-of-type {\n",
       "        vertical-align: middle;\n",
       "    }\n",
       "\n",
       "    .dataframe tbody tr th {\n",
       "        vertical-align: top;\n",
       "    }\n",
       "\n",
       "    .dataframe thead th {\n",
       "        text-align: right;\n",
       "    }\n",
       "</style>\n",
       "<table border=\"1\" class=\"dataframe\">\n",
       "  <thead>\n",
       "    <tr style=\"text-align: right;\">\n",
       "      <th></th>\n",
       "      <th>children</th>\n",
       "      <th>days_employed</th>\n",
       "      <th>dob_years</th>\n",
       "      <th>education</th>\n",
       "      <th>education_id</th>\n",
       "      <th>family_status</th>\n",
       "      <th>family_status_id</th>\n",
       "      <th>gender</th>\n",
       "      <th>income_type</th>\n",
       "      <th>debt</th>\n",
       "      <th>total_income</th>\n",
       "      <th>purpose</th>\n",
       "    </tr>\n",
       "  </thead>\n",
       "  <tbody>\n",
       "    <tr>\n",
       "      <th>0</th>\n",
       "      <td>1</td>\n",
       "      <td>-8437.673028</td>\n",
       "      <td>42</td>\n",
       "      <td>высшее</td>\n",
       "      <td>0</td>\n",
       "      <td>женат / замужем</td>\n",
       "      <td>0</td>\n",
       "      <td>F</td>\n",
       "      <td>сотрудник</td>\n",
       "      <td>0</td>\n",
       "      <td>253875.639453</td>\n",
       "      <td>покупка жилья</td>\n",
       "    </tr>\n",
       "    <tr>\n",
       "      <th>1</th>\n",
       "      <td>1</td>\n",
       "      <td>-4024.803754</td>\n",
       "      <td>36</td>\n",
       "      <td>среднее</td>\n",
       "      <td>1</td>\n",
       "      <td>женат / замужем</td>\n",
       "      <td>0</td>\n",
       "      <td>F</td>\n",
       "      <td>сотрудник</td>\n",
       "      <td>0</td>\n",
       "      <td>112080.014102</td>\n",
       "      <td>приобретение автомобиля</td>\n",
       "    </tr>\n",
       "    <tr>\n",
       "      <th>2</th>\n",
       "      <td>0</td>\n",
       "      <td>-5623.422610</td>\n",
       "      <td>33</td>\n",
       "      <td>Среднее</td>\n",
       "      <td>1</td>\n",
       "      <td>женат / замужем</td>\n",
       "      <td>0</td>\n",
       "      <td>M</td>\n",
       "      <td>сотрудник</td>\n",
       "      <td>0</td>\n",
       "      <td>145885.952297</td>\n",
       "      <td>покупка жилья</td>\n",
       "    </tr>\n",
       "    <tr>\n",
       "      <th>3</th>\n",
       "      <td>3</td>\n",
       "      <td>-4124.747207</td>\n",
       "      <td>32</td>\n",
       "      <td>среднее</td>\n",
       "      <td>1</td>\n",
       "      <td>женат / замужем</td>\n",
       "      <td>0</td>\n",
       "      <td>M</td>\n",
       "      <td>сотрудник</td>\n",
       "      <td>0</td>\n",
       "      <td>267628.550329</td>\n",
       "      <td>дополнительное образование</td>\n",
       "    </tr>\n",
       "    <tr>\n",
       "      <th>4</th>\n",
       "      <td>0</td>\n",
       "      <td>340266.072047</td>\n",
       "      <td>53</td>\n",
       "      <td>среднее</td>\n",
       "      <td>1</td>\n",
       "      <td>гражданский брак</td>\n",
       "      <td>1</td>\n",
       "      <td>F</td>\n",
       "      <td>пенсионер</td>\n",
       "      <td>0</td>\n",
       "      <td>158616.077870</td>\n",
       "      <td>сыграть свадьбу</td>\n",
       "    </tr>\n",
       "    <tr>\n",
       "      <th>5</th>\n",
       "      <td>0</td>\n",
       "      <td>-926.185831</td>\n",
       "      <td>27</td>\n",
       "      <td>высшее</td>\n",
       "      <td>0</td>\n",
       "      <td>гражданский брак</td>\n",
       "      <td>1</td>\n",
       "      <td>M</td>\n",
       "      <td>компаньон</td>\n",
       "      <td>0</td>\n",
       "      <td>255763.565419</td>\n",
       "      <td>покупка жилья</td>\n",
       "    </tr>\n",
       "    <tr>\n",
       "      <th>6</th>\n",
       "      <td>0</td>\n",
       "      <td>-2879.202052</td>\n",
       "      <td>43</td>\n",
       "      <td>высшее</td>\n",
       "      <td>0</td>\n",
       "      <td>женат / замужем</td>\n",
       "      <td>0</td>\n",
       "      <td>F</td>\n",
       "      <td>компаньон</td>\n",
       "      <td>0</td>\n",
       "      <td>240525.971920</td>\n",
       "      <td>операции с жильем</td>\n",
       "    </tr>\n",
       "    <tr>\n",
       "      <th>7</th>\n",
       "      <td>0</td>\n",
       "      <td>-152.779569</td>\n",
       "      <td>50</td>\n",
       "      <td>СРЕДНЕЕ</td>\n",
       "      <td>1</td>\n",
       "      <td>женат / замужем</td>\n",
       "      <td>0</td>\n",
       "      <td>M</td>\n",
       "      <td>сотрудник</td>\n",
       "      <td>0</td>\n",
       "      <td>135823.934197</td>\n",
       "      <td>образование</td>\n",
       "    </tr>\n",
       "    <tr>\n",
       "      <th>8</th>\n",
       "      <td>2</td>\n",
       "      <td>-6929.865299</td>\n",
       "      <td>35</td>\n",
       "      <td>ВЫСШЕЕ</td>\n",
       "      <td>0</td>\n",
       "      <td>гражданский брак</td>\n",
       "      <td>1</td>\n",
       "      <td>F</td>\n",
       "      <td>сотрудник</td>\n",
       "      <td>0</td>\n",
       "      <td>95856.832424</td>\n",
       "      <td>на проведение свадьбы</td>\n",
       "    </tr>\n",
       "    <tr>\n",
       "      <th>9</th>\n",
       "      <td>0</td>\n",
       "      <td>-2188.756445</td>\n",
       "      <td>41</td>\n",
       "      <td>среднее</td>\n",
       "      <td>1</td>\n",
       "      <td>женат / замужем</td>\n",
       "      <td>0</td>\n",
       "      <td>M</td>\n",
       "      <td>сотрудник</td>\n",
       "      <td>0</td>\n",
       "      <td>144425.938277</td>\n",
       "      <td>покупка жилья для семьи</td>\n",
       "    </tr>\n",
       "  </tbody>\n",
       "</table>\n",
       "</div>"
      ],
      "text/plain": [
       "   children  days_employed  dob_years education  education_id  \\\n",
       "0         1   -8437.673028         42    высшее             0   \n",
       "1         1   -4024.803754         36   среднее             1   \n",
       "2         0   -5623.422610         33   Среднее             1   \n",
       "3         3   -4124.747207         32   среднее             1   \n",
       "4         0  340266.072047         53   среднее             1   \n",
       "5         0    -926.185831         27    высшее             0   \n",
       "6         0   -2879.202052         43    высшее             0   \n",
       "7         0    -152.779569         50   СРЕДНЕЕ             1   \n",
       "8         2   -6929.865299         35    ВЫСШЕЕ             0   \n",
       "9         0   -2188.756445         41   среднее             1   \n",
       "\n",
       "      family_status  family_status_id gender income_type  debt   total_income  \\\n",
       "0   женат / замужем                 0      F   сотрудник     0  253875.639453   \n",
       "1   женат / замужем                 0      F   сотрудник     0  112080.014102   \n",
       "2   женат / замужем                 0      M   сотрудник     0  145885.952297   \n",
       "3   женат / замужем                 0      M   сотрудник     0  267628.550329   \n",
       "4  гражданский брак                 1      F   пенсионер     0  158616.077870   \n",
       "5  гражданский брак                 1      M   компаньон     0  255763.565419   \n",
       "6   женат / замужем                 0      F   компаньон     0  240525.971920   \n",
       "7   женат / замужем                 0      M   сотрудник     0  135823.934197   \n",
       "8  гражданский брак                 1      F   сотрудник     0   95856.832424   \n",
       "9   женат / замужем                 0      M   сотрудник     0  144425.938277   \n",
       "\n",
       "                      purpose  \n",
       "0               покупка жилья  \n",
       "1     приобретение автомобиля  \n",
       "2               покупка жилья  \n",
       "3  дополнительное образование  \n",
       "4             сыграть свадьбу  \n",
       "5               покупка жилья  \n",
       "6           операции с жильем  \n",
       "7                 образование  \n",
       "8       на проведение свадьбы  \n",
       "9     покупка жилья для семьи  "
      ]
     },
     "execution_count": 3,
     "metadata": {},
     "output_type": "execute_result"
    }
   ],
   "source": [
    "df = pd.read_csv('/datasets/data.csv') # чтение файла с данными и сохранение в df\n",
    "df.head(10) # получение первых 10 строк таблицы df"
   ]
  },
  {
   "cell_type": "markdown",
   "metadata": {},
   "source": [
    "Общая информация о таблице:"
   ]
  },
  {
   "cell_type": "code",
   "execution_count": 4,
   "metadata": {
    "scrolled": false
   },
   "outputs": [
    {
     "name": "stdout",
     "output_type": "stream",
     "text": [
      "<class 'pandas.core.frame.DataFrame'>\n",
      "RangeIndex: 21525 entries, 0 to 21524\n",
      "Data columns (total 12 columns):\n",
      " #   Column            Non-Null Count  Dtype  \n",
      "---  ------            --------------  -----  \n",
      " 0   children          21525 non-null  int64  \n",
      " 1   days_employed     19351 non-null  float64\n",
      " 2   dob_years         21525 non-null  int64  \n",
      " 3   education         21525 non-null  object \n",
      " 4   education_id      21525 non-null  int64  \n",
      " 5   family_status     21525 non-null  object \n",
      " 6   family_status_id  21525 non-null  int64  \n",
      " 7   gender            21525 non-null  object \n",
      " 8   income_type       21525 non-null  object \n",
      " 9   debt              21525 non-null  int64  \n",
      " 10  total_income      19351 non-null  float64\n",
      " 11  purpose           21525 non-null  object \n",
      "dtypes: float64(2), int64(5), object(5)\n",
      "memory usage: 2.0+ MB\n"
     ]
    }
   ],
   "source": [
    "df.info() # получение общей информации о данных в таблице df"
   ]
  },
  {
   "cell_type": "markdown",
   "metadata": {},
   "source": [
    "Итак, в таблице двенадцать столбцов. Тип данных в столбцах: `object`, `int64`, `float64`.\n",
    "\n",
    "Согласно документации к данным:\n",
    "\n",
    "* children — количество детей в семье;\n",
    "* days_employed — общий трудовой стаж в днях;\n",
    "* dob_years — возраст клиента в годах;\n",
    "* education — уровень образования клиента;\n",
    "* education_id — идентификатор уровня образования;\n",
    "* family_status — семейное положение;\n",
    "* family_status_id — идентификатор семейного положения;\n",
    "* gender — пол клиента;\n",
    "* income_type — тип занятости;\n",
    "* debt — имел ли задолженность по возврату кредитов;\n",
    "* total_income — ежемесячный доход;\n",
    "* purpose — цель получения кредита.\n",
    "\n",
    "Количество значений в столбцах различается. Значит, в данных есть пропущенные значения."
   ]
  },
  {
   "cell_type": "markdown",
   "metadata": {},
   "source": [
    "**Вывод**\n",
    "\n",
    "В каждой строке таблицы — данные о клиенте банка, а точнее о его платежеспособности. Данные описывают информацию необходимую для дальнейшего построения модели кредитного скоринга.\n",
    "\n",
    "Предварительно можно утверждать, что, данных достаточно для проверки гипотез. Также встречаются пропуски в данных, которые необходимо устранить."
   ]
  },
  {
   "cell_type": "markdown",
   "metadata": {},
   "source": [
    "## Шаг 2. Предобработка данных"
   ]
  },
  {
   "cell_type": "markdown",
   "metadata": {},
   "source": [
    "### Обработка пропусков"
   ]
  },
  {
   "cell_type": "markdown",
   "metadata": {},
   "source": [
    "Посчитаем, сколько в таблице пропущенных значений. Для этого достаточно двух методов pandas:"
   ]
  },
  {
   "cell_type": "code",
   "execution_count": 5,
   "metadata": {
    "scrolled": false
   },
   "outputs": [
    {
     "data": {
      "text/plain": [
       "children               0\n",
       "days_employed       2174\n",
       "dob_years              0\n",
       "education              0\n",
       "education_id           0\n",
       "family_status          0\n",
       "family_status_id       0\n",
       "gender                 0\n",
       "income_type            0\n",
       "debt                   0\n",
       "total_income        2174\n",
       "purpose                0\n",
       "dtype: int64"
      ]
     },
     "execution_count": 5,
     "metadata": {},
     "output_type": "execute_result"
    }
   ],
   "source": [
    "df.isna().sum() # подсчёт пропусков"
   ]
  },
  {
   "cell_type": "markdown",
   "metadata": {},
   "source": [
    "Также посмотрим удельную долю пропущенных значений в структуре."
   ]
  },
  {
   "cell_type": "code",
   "execution_count": 6,
   "metadata": {
    "scrolled": false
   },
   "outputs": [
    {
     "name": "stdout",
     "output_type": "stream",
     "text": [
      "children - 0%\n",
      "days_employed - 10%\n",
      "dob_years - 0%\n",
      "education - 0%\n",
      "education_id - 0%\n",
      "family_status - 0%\n",
      "family_status_id - 0%\n",
      "gender - 0%\n",
      "income_type - 0%\n",
      "debt - 0%\n",
      "total_income - 10%\n",
      "purpose - 0%\n"
     ]
    }
   ],
   "source": [
    "for col in df.columns:\n",
    "    pct_missing = np.mean(df[col].isnull())\n",
    "    print('{} - {}%'.format(col, round(pct_missing*100)))"
   ]
  },
  {
   "cell_type": "markdown",
   "metadata": {},
   "source": [
    "Пропуски данных в относительном выражении составляют значительную велечину в структуре данных и поэтому их необходимо заполнить."
   ]
  },
  {
   "cell_type": "markdown",
   "metadata": {},
   "source": [
    "**Вывод**"
   ]
  },
  {
   "cell_type": "markdown",
   "metadata": {},
   "source": [
    "Пропуски встретились нам в двух столбцах:\n",
    "\n",
    "* days_employed;\n",
    "* total_income.\n",
    "\n",
    "Среди причин пропущеных значений в таблице может быть:\n",
    "\n",
    "* Ошибки ввода данных;\n",
    "* Пользователь специально указал ложные данные.\n",
    "\n",
    "К сожалению пропуски встретились в важных столбцах, придётся заполнить и эти пропуски явными обозначениями."
   ]
  },
  {
   "cell_type": "code",
   "execution_count": 7,
   "metadata": {},
   "outputs": [],
   "source": [
    "data_transformed_total_income = df.groupby('income_type')['total_income'].transform('mean')\n",
    "df['total_income'] = df['total_income'].fillna(data_transformed_total_income)\n",
    "\n",
    "data_transformed_days_employed = df.groupby('income_type')['days_employed'].transform('mean')\n",
    "df['days_employed'] = df['days_employed'].fillna(data_transformed_days_employed)"
   ]
  },
  {
   "cell_type": "code",
   "execution_count": 8,
   "metadata": {
    "scrolled": false
   },
   "outputs": [
    {
     "data": {
      "text/plain": [
       "children            0\n",
       "days_employed       0\n",
       "dob_years           0\n",
       "education           0\n",
       "education_id        0\n",
       "family_status       0\n",
       "family_status_id    0\n",
       "gender              0\n",
       "income_type         0\n",
       "debt                0\n",
       "total_income        0\n",
       "purpose             0\n",
       "dtype: int64"
      ]
     },
     "execution_count": 8,
     "metadata": {},
     "output_type": "execute_result"
    }
   ],
   "source": [
    "df.isna().sum() # повторыный подсчёт пропусков, после применения метода fillna()"
   ]
  },
  {
   "cell_type": "markdown",
   "metadata": {},
   "source": [
    "После замены пропущенных значений в таблице не осталось пропусков их место заняла медиана."
   ]
  },
  {
   "cell_type": "markdown",
   "metadata": {},
   "source": [
    "### Замена типа данных"
   ]
  },
  {
   "cell_type": "code",
   "execution_count": 9,
   "metadata": {
    "scrolled": false
   },
   "outputs": [
    {
     "name": "stdout",
     "output_type": "stream",
     "text": [
      "<class 'pandas.core.frame.DataFrame'>\n",
      "RangeIndex: 21525 entries, 0 to 21524\n",
      "Data columns (total 12 columns):\n",
      " #   Column            Non-Null Count  Dtype  \n",
      "---  ------            --------------  -----  \n",
      " 0   children          21525 non-null  int64  \n",
      " 1   days_employed     21525 non-null  float64\n",
      " 2   dob_years         21525 non-null  int64  \n",
      " 3   education         21525 non-null  object \n",
      " 4   education_id      21525 non-null  int64  \n",
      " 5   family_status     21525 non-null  object \n",
      " 6   family_status_id  21525 non-null  int64  \n",
      " 7   gender            21525 non-null  object \n",
      " 8   income_type       21525 non-null  object \n",
      " 9   debt              21525 non-null  int64  \n",
      " 10  total_income      21525 non-null  float64\n",
      " 11  purpose           21525 non-null  object \n",
      "dtypes: float64(2), int64(5), object(5)\n",
      "memory usage: 2.0+ MB\n"
     ]
    }
   ],
   "source": [
    "# получение общей информации о данных в таблице df\n",
    "df.info()"
   ]
  },
  {
   "cell_type": "markdown",
   "metadata": {},
   "source": [
    "В наших данных есть два столбца с типом данных float64. Это столбцы:\n",
    "\n",
    "* days_employed;\n",
    "* total_income.\n",
    "\n",
    "Заменим тип данных этих столбцов на int64. Убрав копейки и дробные части в стаже мы ничего существенного для анализа не потеряем, зато с типом данных int64 мы получим точные данные, так как данные типа float64 хранятся не точно, а лишь с некоторым приближением, иногда это может приводить к багам.   "
   ]
  },
  {
   "cell_type": "code",
   "execution_count": 10,
   "metadata": {},
   "outputs": [],
   "source": [
    "df['days_employed'] = df['days_employed'].astype('int') # замена типа данных в столбце days_employed\n",
    "df['total_income'] = df['total_income'].astype('int') # замена типа данных в столбце total_income"
   ]
  },
  {
   "cell_type": "markdown",
   "metadata": {},
   "source": [
    "После замены типа данных, проверим информацию по нашей таблице."
   ]
  },
  {
   "cell_type": "code",
   "execution_count": 11,
   "metadata": {
    "scrolled": false
   },
   "outputs": [
    {
     "name": "stdout",
     "output_type": "stream",
     "text": [
      "<class 'pandas.core.frame.DataFrame'>\n",
      "RangeIndex: 21525 entries, 0 to 21524\n",
      "Data columns (total 12 columns):\n",
      " #   Column            Non-Null Count  Dtype \n",
      "---  ------            --------------  ----- \n",
      " 0   children          21525 non-null  int64 \n",
      " 1   days_employed     21525 non-null  int64 \n",
      " 2   dob_years         21525 non-null  int64 \n",
      " 3   education         21525 non-null  object\n",
      " 4   education_id      21525 non-null  int64 \n",
      " 5   family_status     21525 non-null  object\n",
      " 6   family_status_id  21525 non-null  int64 \n",
      " 7   gender            21525 non-null  object\n",
      " 8   income_type       21525 non-null  object\n",
      " 9   debt              21525 non-null  int64 \n",
      " 10  total_income      21525 non-null  int64 \n",
      " 11  purpose           21525 non-null  object\n",
      "dtypes: int64(7), object(5)\n",
      "memory usage: 2.0+ MB\n"
     ]
    }
   ],
   "source": [
    "df.info() # получение общей информации после замены типа данных"
   ]
  },
  {
   "cell_type": "markdown",
   "metadata": {},
   "source": [
    "**Вывод**"
   ]
  },
  {
   "cell_type": "markdown",
   "metadata": {},
   "source": [
    "Тип данных изменен, в дальнейшем это поможет нам в получении необходимых данных для банка."
   ]
  },
  {
   "cell_type": "markdown",
   "metadata": {},
   "source": [
    "### Обработка дубликатов"
   ]
  },
  {
   "cell_type": "markdown",
   "metadata": {},
   "source": [
    "Подсчет явных дубликатов в таблице:"
   ]
  },
  {
   "cell_type": "code",
   "execution_count": 12,
   "metadata": {},
   "outputs": [
    {
     "data": {
      "text/plain": [
       "54"
      ]
     },
     "execution_count": 12,
     "metadata": {},
     "output_type": "execute_result"
    }
   ],
   "source": [
    "df.duplicated().sum() # подсчёт явных дубликатов"
   ]
  },
  {
   "cell_type": "markdown",
   "metadata": {},
   "source": [
    "Вызовем метод drop_duplicates() для удаления явных дубликатов."
   ]
  },
  {
   "cell_type": "code",
   "execution_count": 13,
   "metadata": {},
   "outputs": [],
   "source": [
    "df = df.drop_duplicates().reset_index(drop=True) # удаление явных дубликатов (с удалением старых индексов и формированием новых)"
   ]
  },
  {
   "cell_type": "markdown",
   "metadata": {},
   "source": [
    "Проверка дубликатов после их удаления:"
   ]
  },
  {
   "cell_type": "code",
   "execution_count": 14,
   "metadata": {
    "scrolled": false
   },
   "outputs": [
    {
     "data": {
      "text/plain": [
       "0"
      ]
     },
     "execution_count": 14,
     "metadata": {},
     "output_type": "execute_result"
    }
   ],
   "source": [
    "df.duplicated().sum() # проверка на отсутствие дубликатов"
   ]
  },
  {
   "cell_type": "markdown",
   "metadata": {},
   "source": [
    "Явные дубликаты удалены. Теперь избавимся от неявных дубликатов в колонке education. \n",
    "\n",
    "Выведем на экран список уникальных значений столбца education и отсортируем в алфавитном порядке для наглядности. Для этого:\n",
    "\n",
    "* извлечем нужный столбец датафрейма;\n",
    "* применим к нему метод сортировки;\n",
    "* для отсортированного столбца используем метод unique(), он вернёт уникальные значения из столбца."
   ]
  },
  {
   "cell_type": "code",
   "execution_count": 15,
   "metadata": {
    "scrolled": false
   },
   "outputs": [
    {
     "data": {
      "text/plain": [
       "array(['ВЫСШЕЕ', 'Высшее', 'НАЧАЛЬНОЕ', 'НЕОКОНЧЕННОЕ ВЫСШЕЕ',\n",
       "       'Начальное', 'Неоконченное высшее', 'СРЕДНЕЕ', 'Среднее',\n",
       "       'УЧЕНАЯ СТЕПЕНЬ', 'Ученая степень', 'высшее', 'начальное',\n",
       "       'неоконченное высшее', 'среднее', 'ученая степень'], dtype=object)"
      ]
     },
     "execution_count": 15,
     "metadata": {},
     "output_type": "execute_result"
    }
   ],
   "source": [
    "df['education'].sort_values().unique() # Просмотр уникальных названий столбца education"
   ]
  },
  {
   "cell_type": "markdown",
   "metadata": {},
   "source": [
    "В значениях столбца education находятся одинаковые значения, но они записаны в разном регистре. Для того чтобы убрать неявные дубликаты приведем значения столбца education к единому регистру методом str.lower()."
   ]
  },
  {
   "cell_type": "code",
   "execution_count": 16,
   "metadata": {},
   "outputs": [],
   "source": [
    "df['education'] = df['education'].str.lower() # приведем данные столбца к нижнему регистру"
   ]
  },
  {
   "cell_type": "markdown",
   "metadata": {},
   "source": [
    "Проверка данных после изменения:"
   ]
  },
  {
   "cell_type": "code",
   "execution_count": 17,
   "metadata": {},
   "outputs": [
    {
     "data": {
      "text/plain": [
       "array(['высшее', 'начальное', 'неоконченное высшее', 'среднее',\n",
       "       'ученая степень'], dtype=object)"
      ]
     },
     "execution_count": 17,
     "metadata": {},
     "output_type": "execute_result"
    }
   ],
   "source": [
    "df['education'].sort_values().unique() # Просмотр уникальных названий столбца education после применения специального метода"
   ]
  },
  {
   "cell_type": "markdown",
   "metadata": {},
   "source": [
    "Все значения стали строчными, мы добились того чего хотели"
   ]
  },
  {
   "cell_type": "markdown",
   "metadata": {},
   "source": [
    "Далее рассмотрим значения столбца children"
   ]
  },
  {
   "cell_type": "code",
   "execution_count": 18,
   "metadata": {
    "scrolled": false
   },
   "outputs": [
    {
     "data": {
      "text/plain": [
       "array([-1,  0,  1,  2,  3,  4,  5, 20])"
      ]
     },
     "execution_count": 18,
     "metadata": {},
     "output_type": "execute_result"
    }
   ],
   "source": [
    "df['children'].sort_values().unique() # Просмотр уникальных значений столбца children"
   ]
  },
  {
   "cell_type": "markdown",
   "metadata": {},
   "source": [
    "Видно что нам попались необычные значения количества детей у заемщика, например -1 и 20, что является подозрительным и от этого нужно избавиться. Такие значения могли быть ошибкой человека, который заполнял данные. Можно предположить что значение -1 является на самом деле 1, а значение 20 - 2.  "
   ]
  },
  {
   "cell_type": "markdown",
   "metadata": {},
   "source": [
    "Для наглядности можно построить диаграммы: гистограмму и коробчатую диаграмму."
   ]
  },
  {
   "cell_type": "code",
   "execution_count": 19,
   "metadata": {
    "scrolled": false
   },
   "outputs": [
    {
     "data": {
      "image/png": "[encoded data removed]",
      "text/plain": [
       "<Figure size 864x360 with 1 Axes>"
      ]
     },
     "metadata": {
      "needs_background": "light"
     },
     "output_type": "display_data"
    }
   ],
   "source": [
    "df['children'].hist(bins=21, range=(0,21), figsize=(12,5)) # построение гистограммы по столбцу children\n",
    "\n",
    "plt.title('Гистограмма по столбцу children \\n')\n",
    "plt.xlabel('\\n Количество детей')\n",
    "plt.ylabel('\\n Число наблюдений')\n",
    "plt.show()"
   ]
  },
  {
   "cell_type": "code",
   "execution_count": 20,
   "metadata": {},
   "outputs": [
    {
     "data": {
      "image/png": "[encoded data removed]",
      "text/plain": [
       "<Figure size 864x288 with 1 Axes>"
      ]
     },
     "metadata": {
      "needs_background": "light"
     },
     "output_type": "display_data"
    }
   ],
   "source": [
    "df.boxplot(column=['children'], figsize=(12,4)) # построение коробчатой диаграммы по столбцу children\n",
    "\n",
    "plt.title('Коробчатая диаграмма по столбцу children \\n')\n",
    "plt.ylabel('Количество детей \\n')\n",
    "plt.show()"
   ]
  },
  {
   "cell_type": "markdown",
   "metadata": {},
   "source": [
    "Произведем замену подозрительных значений и проверим что получилось."
   ]
  },
  {
   "cell_type": "code",
   "execution_count": 21,
   "metadata": {},
   "outputs": [
    {
     "data": {
      "text/plain": [
       "array([0, 1, 2, 3, 4, 5])"
      ]
     },
     "execution_count": 21,
     "metadata": {},
     "output_type": "execute_result"
    }
   ],
   "source": [
    "# замена значений на более реалистичные\n",
    "df['children'] = df['children'].replace(-1, 1)\n",
    "df['children'] = df['children'].replace(20, 2)\n",
    "\n",
    "df['children'].sort_values().unique() # вывод уникальных значений столбца children"
   ]
  },
  {
   "cell_type": "code",
   "execution_count": 22,
   "metadata": {
    "scrolled": true
   },
   "outputs": [
    {
     "data": {
      "image/png": "[encoded data removed]",
      "text/plain": [
       "<Figure size 864x360 with 1 Axes>"
      ]
     },
     "metadata": {
      "needs_background": "light"
     },
     "output_type": "display_data"
    }
   ],
   "source": [
    "df['children'].hist(bins=21, range=(0,21), figsize=(12,5)) # построение гистограммы по столбцу children после замены значений -1 и 20\n",
    "\n",
    "plt.title('Гистограмма по столбцу children \\n')\n",
    "plt.xlabel('\\n Количество детей')\n",
    "plt.ylabel('\\n Число наблюдений')\n",
    "plt.show()"
   ]
  },
  {
   "cell_type": "markdown",
   "metadata": {},
   "source": [
    "Замена значений столбца children произошла успешно, мы получили точные данные."
   ]
  },
  {
   "cell_type": "markdown",
   "metadata": {},
   "source": [
    "Далее рассмотрим значения столбца family_status. В дальнейшем эти данные нам понадобятся для анализа."
   ]
  },
  {
   "cell_type": "code",
   "execution_count": 23,
   "metadata": {},
   "outputs": [
    {
     "data": {
      "text/plain": [
       "array(['Не женат / не замужем', 'в разводе', 'вдовец / вдова',\n",
       "       'гражданский брак', 'женат / замужем'], dtype=object)"
      ]
     },
     "execution_count": 23,
     "metadata": {},
     "output_type": "execute_result"
    }
   ],
   "source": [
    "df['family_status'].sort_values().unique()"
   ]
  },
  {
   "cell_type": "markdown",
   "metadata": {},
   "source": [
    "Данные столбца family_status подходят для анализа, ничего менять не будем."
   ]
  },
  {
   "cell_type": "markdown",
   "metadata": {},
   "source": [
    "**Вывод**"
   ]
  },
  {
   "cell_type": "markdown",
   "metadata": {},
   "source": [
    "Все дубликаты в столбцах, которые мы будем использовать в наших целях обработаны."
   ]
  },
  {
   "cell_type": "markdown",
   "metadata": {},
   "source": [
    "### Лемматизация"
   ]
  },
  {
   "cell_type": "markdown",
   "metadata": {},
   "source": [
    "Для решения задачи, необходимо использовать лемматизацию, импортируем библиотеку pymystem3 для лемматизации столбца purpose, в котором содержатся цели кредита."
   ]
  },
  {
   "cell_type": "code",
   "execution_count": 24,
   "metadata": {},
   "outputs": [],
   "source": [
    "# импорт pymystem3 :\n",
    "from pymystem3 import Mystem\n",
    "m = Mystem() "
   ]
  },
  {
   "cell_type": "code",
   "execution_count": 25,
   "metadata": {
    "scrolled": false
   },
   "outputs": [
    {
     "name": "stdout",
     "output_type": "stream",
     "text": [
      "0                      [покупка,  , жилье, \\n]\n",
      "1            [приобретение,  , автомобиль, \\n]\n",
      "2                      [покупка,  , жилье, \\n]\n",
      "3         [дополнительный,  , образование, \\n]\n",
      "4                    [сыграть,  , свадьба, \\n]\n",
      "5                      [покупка,  , жилье, \\n]\n",
      "6               [операция,  , с,  , жилье, \\n]\n",
      "7                            [образование, \\n]\n",
      "8          [на,  , проведение,  , свадьба, \\n]\n",
      "9    [покупка,  , жилье,  , для,  , семья, \\n]\n",
      "Name: purpose, dtype: object\n"
     ]
    }
   ],
   "source": [
    "# выделим леммы столбца purpose и выведем результат \n",
    "lemmas = df['purpose'].apply(m.lemmatize)\n",
    "df['lemmas'] = lemmas\n",
    "print(lemmas.head(10))"
   ]
  },
  {
   "cell_type": "markdown",
   "metadata": {},
   "source": [
    "Далее необходимо рассмотреть какие леммы встречались нам в процессе лемматизации."
   ]
  },
  {
   "cell_type": "code",
   "execution_count": 26,
   "metadata": {
    "scrolled": false
   },
   "outputs": [
    {
     "ename": "TypeError",
     "evalue": "unhashable type: 'list'",
     "output_type": "error",
     "traceback": [
      "\u001b[0;31m---------------------------------------------------------------------------\u001b[0m",
      "\u001b[0;31mTypeError\u001b[0m                                 Traceback (most recent call last)",
      "\u001b[0;32mpandas/_libs/hashtable_class_helper.pxi\u001b[0m in \u001b[0;36mpandas._libs.hashtable.PyObjectHashTable.map_locations\u001b[0;34m()\u001b[0m\n",
      "\u001b[0;31mTypeError\u001b[0m: unhashable type: 'list'"
     ]
    },
    {
     "name": "stderr",
     "output_type": "stream",
     "text": [
      "Exception ignored in: 'pandas._libs.index.IndexEngine._call_map_locations'\n",
      "Traceback (most recent call last):\n",
      "  File \"pandas/_libs/hashtable_class_helper.pxi\", line 4588, in pandas._libs.hashtable.PyObjectHashTable.map_locations\n",
      "TypeError: unhashable type: 'list'\n"
     ]
    },
    {
     "data": {
      "text/plain": [
       "[автомобиль, \\n]                                          972\n",
       "[свадьба, \\n]                                             793\n",
       "[на,  , проведение,  , свадьба, \\n]                       773\n",
       "[сыграть,  , свадьба, \\n]                                 769\n",
       "[операция,  , с,  , недвижимость, \\n]                     675\n",
       "[покупка,  , коммерческий,  , недвижимость, \\n]           662\n",
       "[покупка,  , жилье,  , для,  , сдача, \\n]                 652\n",
       "[операция,  , с,  , жилье, \\n]                            652\n",
       "[операция,  , с,  , коммерческий,  , недвижимость, \\n]    650\n",
       "[покупка,  , жилье, \\n]                                   646\n",
       "[жилье, \\n]                                               646\n",
       "[покупка,  , жилье,  , для,  , семья, \\n]                 638\n",
       "[строительство,  , собственный,  , недвижимость, \\n]      635\n",
       "[недвижимость, \\n]                                        633\n",
       "[операция,  , со,  , свой,  , недвижимость, \\n]           627\n",
       "[строительство,  , жилой,  , недвижимость, \\n]            625\n",
       "[покупка,  , недвижимость, \\n]                            621\n",
       "[покупка,  , свой,  , жилье, \\n]                          620\n",
       "[строительство,  , недвижимость, \\n]                      619\n",
       "[ремонт,  , жилье, \\n]                                    607\n",
       "[покупка,  , жилой,  , недвижимость, \\n]                  606\n",
       "[на,  , покупка,  , свой,  , автомобиль, \\n]              505\n",
       "[заниматься,  , высокий,  , образование, \\n]              496\n",
       "[сделка,  , с,  , подержанный,  , автомобиль, \\n]         486\n",
       "[свой,  , автомобиль, \\n]                                 479\n",
       "[на,  , покупка,  , подержать,  , автомобиль, \\n]         478\n",
       "[на,  , покупка,  , автомобиль, \\n]                       472\n",
       "[приобретение,  , автомобиль, \\n]                         461\n",
       "[дополнительный,  , образование, \\n]                      460\n",
       "[сделка,  , с,  , автомобиль, \\n]                         455\n",
       "[высокий,  , образование, \\n]                             452\n",
       "[получение,  , дополнительный,  , образование, \\n]        447\n",
       "[образование, \\n]                                         447\n",
       "[получение,  , образование, \\n]                           442\n",
       "[профильный,  , образование, \\n]                          436\n",
       "[получение,  , высокий,  , образование, \\n]               426\n",
       "[заниматься,  , образование, \\n]                          408\n",
       "Name: purpose, dtype: int64"
      ]
     },
     "execution_count": 26,
     "metadata": {},
     "output_type": "execute_result"
    }
   ],
   "source": [
    "lemmas.value_counts()"
   ]
  },
  {
   "cell_type": "markdown",
   "metadata": {},
   "source": [
    "Мы можем выделить такие цели кредита как: покупка автомобиля, свадьба, недвижимость и образование."
   ]
  },
  {
   "cell_type": "markdown",
   "metadata": {},
   "source": [
    "**Вывод**"
   ]
  },
  {
   "cell_type": "markdown",
   "metadata": {},
   "source": [
    "После процесса лематизации мы выделили основные цели кредита. Удивительно сколько кредитов берут на организацию свадьбы, но и про базовые потребности люди не забывают, достаточно много средств берут для покупки или ремонта недвижимости, также берут заемные средства на образование и на покупку автомобиля."
   ]
  },
  {
   "cell_type": "markdown",
   "metadata": {},
   "source": [
    "### Категоризация данных"
   ]
  },
  {
   "cell_type": "markdown",
   "metadata": {},
   "source": [
    "Для решения поставленных задач нам необходимо разбить данные на группы: по количеству детей, по семейному статусу, по уровню дохода и целям кредитования."
   ]
  },
  {
   "cell_type": "code",
   "execution_count": 27,
   "metadata": {
    "scrolled": true
   },
   "outputs": [
    {
     "data": {
      "text/html": [
       "<div>\n",
       "<style scoped>\n",
       "    .dataframe tbody tr th:only-of-type {\n",
       "        vertical-align: middle;\n",
       "    }\n",
       "\n",
       "    .dataframe tbody tr th {\n",
       "        vertical-align: top;\n",
       "    }\n",
       "\n",
       "    .dataframe thead th {\n",
       "        text-align: right;\n",
       "    }\n",
       "</style>\n",
       "<table border=\"1\" class=\"dataframe\">\n",
       "  <thead>\n",
       "    <tr style=\"text-align: right;\">\n",
       "      <th></th>\n",
       "      <th>days_employed</th>\n",
       "      <th>dob_years</th>\n",
       "      <th>education</th>\n",
       "      <th>education_id</th>\n",
       "      <th>family_status</th>\n",
       "      <th>family_status_id</th>\n",
       "      <th>gender</th>\n",
       "      <th>income_type</th>\n",
       "      <th>debt</th>\n",
       "      <th>total_income</th>\n",
       "      <th>purpose</th>\n",
       "      <th>lemmas</th>\n",
       "    </tr>\n",
       "    <tr>\n",
       "      <th>children</th>\n",
       "      <th></th>\n",
       "      <th></th>\n",
       "      <th></th>\n",
       "      <th></th>\n",
       "      <th></th>\n",
       "      <th></th>\n",
       "      <th></th>\n",
       "      <th></th>\n",
       "      <th></th>\n",
       "      <th></th>\n",
       "      <th></th>\n",
       "      <th></th>\n",
       "    </tr>\n",
       "  </thead>\n",
       "  <tbody>\n",
       "    <tr>\n",
       "      <th>0</th>\n",
       "      <td>14107</td>\n",
       "      <td>14107</td>\n",
       "      <td>14107</td>\n",
       "      <td>14107</td>\n",
       "      <td>14107</td>\n",
       "      <td>14107</td>\n",
       "      <td>14107</td>\n",
       "      <td>14107</td>\n",
       "      <td>14107</td>\n",
       "      <td>14107</td>\n",
       "      <td>14107</td>\n",
       "      <td>14107</td>\n",
       "    </tr>\n",
       "    <tr>\n",
       "      <th>1</th>\n",
       "      <td>4856</td>\n",
       "      <td>4856</td>\n",
       "      <td>4856</td>\n",
       "      <td>4856</td>\n",
       "      <td>4856</td>\n",
       "      <td>4856</td>\n",
       "      <td>4856</td>\n",
       "      <td>4856</td>\n",
       "      <td>4856</td>\n",
       "      <td>4856</td>\n",
       "      <td>4856</td>\n",
       "      <td>4856</td>\n",
       "    </tr>\n",
       "    <tr>\n",
       "      <th>2</th>\n",
       "      <td>2128</td>\n",
       "      <td>2128</td>\n",
       "      <td>2128</td>\n",
       "      <td>2128</td>\n",
       "      <td>2128</td>\n",
       "      <td>2128</td>\n",
       "      <td>2128</td>\n",
       "      <td>2128</td>\n",
       "      <td>2128</td>\n",
       "      <td>2128</td>\n",
       "      <td>2128</td>\n",
       "      <td>2128</td>\n",
       "    </tr>\n",
       "    <tr>\n",
       "      <th>3</th>\n",
       "      <td>330</td>\n",
       "      <td>330</td>\n",
       "      <td>330</td>\n",
       "      <td>330</td>\n",
       "      <td>330</td>\n",
       "      <td>330</td>\n",
       "      <td>330</td>\n",
       "      <td>330</td>\n",
       "      <td>330</td>\n",
       "      <td>330</td>\n",
       "      <td>330</td>\n",
       "      <td>330</td>\n",
       "    </tr>\n",
       "    <tr>\n",
       "      <th>4</th>\n",
       "      <td>41</td>\n",
       "      <td>41</td>\n",
       "      <td>41</td>\n",
       "      <td>41</td>\n",
       "      <td>41</td>\n",
       "      <td>41</td>\n",
       "      <td>41</td>\n",
       "      <td>41</td>\n",
       "      <td>41</td>\n",
       "      <td>41</td>\n",
       "      <td>41</td>\n",
       "      <td>41</td>\n",
       "    </tr>\n",
       "    <tr>\n",
       "      <th>5</th>\n",
       "      <td>9</td>\n",
       "      <td>9</td>\n",
       "      <td>9</td>\n",
       "      <td>9</td>\n",
       "      <td>9</td>\n",
       "      <td>9</td>\n",
       "      <td>9</td>\n",
       "      <td>9</td>\n",
       "      <td>9</td>\n",
       "      <td>9</td>\n",
       "      <td>9</td>\n",
       "      <td>9</td>\n",
       "    </tr>\n",
       "  </tbody>\n",
       "</table>\n",
       "</div>"
      ],
      "text/plain": [
       "          days_employed  dob_years  education  education_id  family_status  \\\n",
       "children                                                                     \n",
       "0                 14107      14107      14107         14107          14107   \n",
       "1                  4856       4856       4856          4856           4856   \n",
       "2                  2128       2128       2128          2128           2128   \n",
       "3                   330        330        330           330            330   \n",
       "4                    41         41         41            41             41   \n",
       "5                     9          9          9             9              9   \n",
       "\n",
       "          family_status_id  gender  income_type   debt  total_income  purpose  \\\n",
       "children                                                                        \n",
       "0                    14107   14107        14107  14107         14107    14107   \n",
       "1                     4856    4856         4856   4856          4856     4856   \n",
       "2                     2128    2128         2128   2128          2128     2128   \n",
       "3                      330     330          330    330           330      330   \n",
       "4                       41      41           41     41            41       41   \n",
       "5                        9       9            9      9             9        9   \n",
       "\n",
       "          lemmas  \n",
       "children          \n",
       "0          14107  \n",
       "1           4856  \n",
       "2           2128  \n",
       "3            330  \n",
       "4             41  \n",
       "5              9  "
      ]
     },
     "execution_count": 27,
     "metadata": {},
     "output_type": "execute_result"
    }
   ],
   "source": [
    "total_children_grouped = df.groupby('children').count() # Сохраняем в переменной данные по колличеству детей\n",
    "total_children_grouped # Выведем результат на экран"
   ]
  },
  {
   "cell_type": "markdown",
   "metadata": {},
   "source": [
    "Создадим функцию для разбивки на категории по колличеству детей."
   ]
  },
  {
   "cell_type": "code",
   "execution_count": 28,
   "metadata": {},
   "outputs": [],
   "source": [
    "def child_group(child):\n",
    "    if child < 1:\n",
    "        return 'Бездетные'\n",
    "    if child >= 3:\n",
    "        return 'Многодетные'\n",
    "    if child >= 5:\n",
    "        return '5+'"
   ]
  },
  {
   "cell_type": "markdown",
   "metadata": {},
   "source": [
    "Нам необходимо ответить на вопрос есть ли зависимость от наличия детей и возвратом кредита в срок, поэтому я категоризировал данные, но чтобы не уменьшать обьем имеющейся информации я удалил условие (если детей 3 и больше то это многодетная семья)."
   ]
  },
  {
   "cell_type": "markdown",
   "metadata": {},
   "source": [
    "Далее с помощью метода apply применим функцию child_group к столбцу children и выведем на экран значения полученного столбца."
   ]
  },
  {
   "cell_type": "code",
   "execution_count": 29,
   "metadata": {
    "scrolled": false
   },
   "outputs": [
    {
     "data": {
      "text/plain": [
       "Бездетные      14107\n",
       "Многодетные      380\n",
       "Name: children_group, dtype: int64"
      ]
     },
     "execution_count": 29,
     "metadata": {},
     "output_type": "execute_result"
    }
   ],
   "source": [
    "df['children_group'] = df['children'].apply(child_group)\n",
    "df['children_group'].value_counts()"
   ]
  },
  {
   "cell_type": "markdown",
   "metadata": {},
   "source": [
    "Заемщиков без детей очень много, а вот многодетных семей, которые взяли кредит не так много."
   ]
  },
  {
   "cell_type": "markdown",
   "metadata": {},
   "source": [
    "Тоже самое проведем с столбцом total_income и сделаем группы по доходу клиентов."
   ]
  },
  {
   "cell_type": "code",
   "execution_count": 30,
   "metadata": {},
   "outputs": [],
   "source": [
    "total_income_grouped = df.groupby('total_income').count()"
   ]
  },
  {
   "cell_type": "code",
   "execution_count": 31,
   "metadata": {},
   "outputs": [],
   "source": [
    "def income_group(cash):\n",
    "    if cash >= 150000:\n",
    "        return 'высокий уровень дохода'\n",
    "    if cash > 45000 and cash < 150000:\n",
    "        return 'средний уровень дохода'\n",
    "    if cash >= 1000 and cash <= 45000:\n",
    "        return 'низкий уровень дохода'\n",
    "    \n",
    "    return 'доход отсутствует'"
   ]
  },
  {
   "cell_type": "markdown",
   "metadata": {},
   "source": [
    "Также применяем функцию income_group к столбцу total_income и выведем на экран значения столбца income_group."
   ]
  },
  {
   "cell_type": "code",
   "execution_count": 32,
   "metadata": {},
   "outputs": [
    {
     "data": {
      "text/plain": [
       "высокий уровень дохода    10910\n",
       "средний уровень дохода    10344\n",
       "низкий уровень дохода       217\n",
       "Name: income_group, dtype: int64"
      ]
     },
     "execution_count": 32,
     "metadata": {},
     "output_type": "execute_result"
    }
   ],
   "source": [
    "df['income_group'] = df['total_income'].apply(income_group)\n",
    "df['income_group'].value_counts()"
   ]
  },
  {
   "cell_type": "markdown",
   "metadata": {},
   "source": [
    "Заемщики с средним уровнем дохода больше половины, также достаточно много заемщиков с средним уровнем дохода."
   ]
  },
  {
   "cell_type": "markdown",
   "metadata": {},
   "source": [
    "И еще нам необходимо группировать данные по целям кредитования, проделаем все то, что делали ранее, для этого создадим функцию lemmas_group, применим ее к столбцу lemmas и выведем ее на экран."
   ]
  },
  {
   "cell_type": "code",
   "execution_count": 33,
   "metadata": {},
   "outputs": [],
   "source": [
    "def lemmas_group(lemmas):\n",
    "    if 'автомобиль' in lemmas:\n",
    "        return 'автомобиль'\n",
    "    if 'свадьба' in lemmas:\n",
    "        return 'свадьба'\n",
    "    if 'образование' in lemmas:\n",
    "        return 'образование'\n",
    "    if 'недвижимость' or 'жилье' in lemmas:\n",
    "        return 'недвижимость'\n"
   ]
  },
  {
   "cell_type": "code",
   "execution_count": 34,
   "metadata": {
    "scrolled": false
   },
   "outputs": [
    {
     "data": {
      "text/plain": [
       "недвижимость    10814\n",
       "автомобиль       4308\n",
       "образование      4014\n",
       "свадьба          2335\n",
       "Name: purpose_group, dtype: int64"
      ]
     },
     "execution_count": 34,
     "metadata": {},
     "output_type": "execute_result"
    }
   ],
   "source": [
    "df['purpose_group'] = df['lemmas'].apply(lemmas_group)\n",
    "df['purpose_group'].value_counts()"
   ]
  },
  {
   "cell_type": "markdown",
   "metadata": {},
   "source": [
    "Чаще всего средства используются на недвижимость, примерно столько же в сумме дают колличество кредитов на авто и образование."
   ]
  },
  {
   "cell_type": "markdown",
   "metadata": {},
   "source": [
    "**Вывод**"
   ]
  },
  {
   "cell_type": "markdown",
   "metadata": {},
   "source": [
    "Данные таблицы разбиты по категориям и на следущем этапе мы узнаем как зависят различные факторы на возврат кредита в срок."
   ]
  },
  {
   "cell_type": "markdown",
   "metadata": {},
   "source": [
    "## Шаг 3. Аналитика"
   ]
  },
  {
   "cell_type": "markdown",
   "metadata": {},
   "source": [
    "**Есть ли зависимость между наличием детей и возвратом кредита в срок?**"
   ]
  },
  {
   "cell_type": "markdown",
   "metadata": {},
   "source": [
    "Для того чтобы ответить на вопрос используем метод pivot_table и сделаем сводную таблицу. "
   ]
  },
  {
   "cell_type": "code",
   "execution_count": 37,
   "metadata": {
    "scrolled": true
   },
   "outputs": [
    {
     "data": {
      "text/html": [
       "<div>\n",
       "<style scoped>\n",
       "    .dataframe tbody tr th:only-of-type {\n",
       "        vertical-align: middle;\n",
       "    }\n",
       "\n",
       "    .dataframe tbody tr th {\n",
       "        vertical-align: top;\n",
       "    }\n",
       "\n",
       "    .dataframe thead th {\n",
       "        text-align: right;\n",
       "    }\n",
       "</style>\n",
       "<table border=\"1\" class=\"dataframe\">\n",
       "  <thead>\n",
       "    <tr style=\"text-align: right;\">\n",
       "      <th>debt</th>\n",
       "      <th>0</th>\n",
       "      <th>1</th>\n",
       "    </tr>\n",
       "    <tr>\n",
       "      <th>children_group</th>\n",
       "      <th></th>\n",
       "      <th></th>\n",
       "    </tr>\n",
       "  </thead>\n",
       "  <tbody>\n",
       "    <tr>\n",
       "      <th>Бездетные</th>\n",
       "      <td>13044</td>\n",
       "      <td>1063</td>\n",
       "    </tr>\n",
       "    <tr>\n",
       "      <th>Многодетные</th>\n",
       "      <td>349</td>\n",
       "      <td>31</td>\n",
       "    </tr>\n",
       "  </tbody>\n",
       "</table>\n",
       "</div>"
      ],
      "text/plain": [
       "debt                0     1\n",
       "children_group             \n",
       "Бездетные       13044  1063\n",
       "Многодетные       349    31"
      ]
     },
     "execution_count": 37,
     "metadata": {},
     "output_type": "execute_result"
    }
   ],
   "source": [
    "# сделаем сводную таблицу и посмотрим сколько должников находится в разных группах по колличеству детей, выведем результат на экран\n",
    "data_pivot_children = df.pivot_table(index='children_group',columns='debt', values='children', aggfunc='count')\n",
    "data_pivot_children"
   ]
  },
  {
   "cell_type": "markdown",
   "metadata": {},
   "source": [
    "Клиенты с просрочкой платежа есть в каждой группе, это не удивительно. Чтобы подробнее рассмотреть полученные результаты создадим столбец ratio, в котором рассмотрим относительную велечину каждой из групп."
   ]
  },
  {
   "cell_type": "code",
   "execution_count": 38,
   "metadata": {},
   "outputs": [
    {
     "data": {
      "text/html": [
       "<div>\n",
       "<style scoped>\n",
       "    .dataframe tbody tr th:only-of-type {\n",
       "        vertical-align: middle;\n",
       "    }\n",
       "\n",
       "    .dataframe tbody tr th {\n",
       "        vertical-align: top;\n",
       "    }\n",
       "\n",
       "    .dataframe thead th {\n",
       "        text-align: right;\n",
       "    }\n",
       "</style>\n",
       "<table border=\"1\" class=\"dataframe\">\n",
       "  <thead>\n",
       "    <tr style=\"text-align: right;\">\n",
       "      <th>debt</th>\n",
       "      <th>0</th>\n",
       "      <th>1</th>\n",
       "      <th>ratio</th>\n",
       "    </tr>\n",
       "    <tr>\n",
       "      <th>children_group</th>\n",
       "      <th></th>\n",
       "      <th></th>\n",
       "      <th></th>\n",
       "    </tr>\n",
       "  </thead>\n",
       "  <tbody>\n",
       "    <tr>\n",
       "      <th>Многодетные</th>\n",
       "      <td>349</td>\n",
       "      <td>31</td>\n",
       "      <td>0.088825</td>\n",
       "    </tr>\n",
       "    <tr>\n",
       "      <th>Бездетные</th>\n",
       "      <td>13044</td>\n",
       "      <td>1063</td>\n",
       "      <td>0.081493</td>\n",
       "    </tr>\n",
       "  </tbody>\n",
       "</table>\n",
       "</div>"
      ],
      "text/plain": [
       "debt                0     1     ratio\n",
       "children_group                       \n",
       "Многодетные       349    31  0.088825\n",
       "Бездетные       13044  1063  0.081493"
      ]
     },
     "execution_count": 38,
     "metadata": {},
     "output_type": "execute_result"
    }
   ],
   "source": [
    "# добавим столбец ratio, поделим колличество клиентов у которых была задолженность на клиентов у которых не было просрочек по кредитам\n",
    "data_pivot_children['ratio'] = data_pivot_children[1] / data_pivot_children[0]\n",
    "# сортируем полученный столбец и выведем его на экран\n",
    "data_pivot_children.sort_values(by='ratio', ascending=False)"
   ]
  },
  {
   "cell_type": "markdown",
   "metadata": {},
   "source": [
    "**Вывод**"
   ]
  },
  {
   "cell_type": "markdown",
   "metadata": {},
   "source": [
    "Полученные результаты показывают нам, что 9 процентов из тех семей где много детей имели просроченную задолженность по кредиту, а клиенты у которых нет детей совершают меньше просрочек. Можно предположить что у людей без детей меньше ответственности за свою семью и средств остается больше, чего хватает на покрытие своих долгов."
   ]
  },
  {
   "cell_type": "markdown",
   "metadata": {},
   "source": [
    "**Есть ли зависимость между семейным положением и возвратом кредита в срок?**"
   ]
  },
  {
   "cell_type": "markdown",
   "metadata": {},
   "source": [
    "Для решения этого вопроса и последующих используем те же действия, что и ранее. Создадим сводную таблицу методом pivot_table."
   ]
  },
  {
   "cell_type": "code",
   "execution_count": 39,
   "metadata": {
    "scrolled": true
   },
   "outputs": [
    {
     "data": {
      "text/html": [
       "<div>\n",
       "<style scoped>\n",
       "    .dataframe tbody tr th:only-of-type {\n",
       "        vertical-align: middle;\n",
       "    }\n",
       "\n",
       "    .dataframe tbody tr th {\n",
       "        vertical-align: top;\n",
       "    }\n",
       "\n",
       "    .dataframe thead th {\n",
       "        text-align: right;\n",
       "    }\n",
       "</style>\n",
       "<table border=\"1\" class=\"dataframe\">\n",
       "  <thead>\n",
       "    <tr style=\"text-align: right;\">\n",
       "      <th>debt</th>\n",
       "      <th>0</th>\n",
       "      <th>1</th>\n",
       "    </tr>\n",
       "    <tr>\n",
       "      <th>family_status</th>\n",
       "      <th></th>\n",
       "      <th></th>\n",
       "    </tr>\n",
       "  </thead>\n",
       "  <tbody>\n",
       "    <tr>\n",
       "      <th>Не женат / не замужем</th>\n",
       "      <td>2536</td>\n",
       "      <td>274</td>\n",
       "    </tr>\n",
       "    <tr>\n",
       "      <th>в разводе</th>\n",
       "      <td>1110</td>\n",
       "      <td>85</td>\n",
       "    </tr>\n",
       "    <tr>\n",
       "      <th>вдовец / вдова</th>\n",
       "      <td>896</td>\n",
       "      <td>63</td>\n",
       "    </tr>\n",
       "    <tr>\n",
       "      <th>гражданский брак</th>\n",
       "      <td>3775</td>\n",
       "      <td>388</td>\n",
       "    </tr>\n",
       "    <tr>\n",
       "      <th>женат / замужем</th>\n",
       "      <td>11413</td>\n",
       "      <td>931</td>\n",
       "    </tr>\n",
       "  </tbody>\n",
       "</table>\n",
       "</div>"
      ],
      "text/plain": [
       "debt                       0    1\n",
       "family_status                    \n",
       "Не женат / не замужем   2536  274\n",
       "в разводе               1110   85\n",
       "вдовец / вдова           896   63\n",
       "гражданский брак        3775  388\n",
       "женат / замужем        11413  931"
      ]
     },
     "execution_count": 39,
     "metadata": {},
     "output_type": "execute_result"
    }
   ],
   "source": [
    "# сделаем сводную таблицу и посмотрим сколько должников находится в разных группах по семейному положению, выведем результат на экран\n",
    "data_pivot_family = df.pivot_table(index='family_status',columns='debt', values='family_status_id', aggfunc='count')\n",
    "data_pivot_family"
   ]
  },
  {
   "cell_type": "markdown",
   "metadata": {},
   "source": [
    "Клиенты с просрочкой платежа есть в каждой группе. Также создадим столбец ratio, в котором рассмотрим относительную велечину каждой из групп."
   ]
  },
  {
   "cell_type": "code",
   "execution_count": 40,
   "metadata": {},
   "outputs": [
    {
     "data": {
      "text/html": [
       "<div>\n",
       "<style scoped>\n",
       "    .dataframe tbody tr th:only-of-type {\n",
       "        vertical-align: middle;\n",
       "    }\n",
       "\n",
       "    .dataframe tbody tr th {\n",
       "        vertical-align: top;\n",
       "    }\n",
       "\n",
       "    .dataframe thead th {\n",
       "        text-align: right;\n",
       "    }\n",
       "</style>\n",
       "<table border=\"1\" class=\"dataframe\">\n",
       "  <thead>\n",
       "    <tr style=\"text-align: right;\">\n",
       "      <th>debt</th>\n",
       "      <th>0</th>\n",
       "      <th>1</th>\n",
       "      <th>ratio</th>\n",
       "    </tr>\n",
       "    <tr>\n",
       "      <th>family_status</th>\n",
       "      <th></th>\n",
       "      <th></th>\n",
       "      <th></th>\n",
       "    </tr>\n",
       "  </thead>\n",
       "  <tbody>\n",
       "    <tr>\n",
       "      <th>Не женат / не замужем</th>\n",
       "      <td>2536</td>\n",
       "      <td>274</td>\n",
       "      <td>0.108044</td>\n",
       "    </tr>\n",
       "    <tr>\n",
       "      <th>гражданский брак</th>\n",
       "      <td>3775</td>\n",
       "      <td>388</td>\n",
       "      <td>0.102781</td>\n",
       "    </tr>\n",
       "    <tr>\n",
       "      <th>женат / замужем</th>\n",
       "      <td>11413</td>\n",
       "      <td>931</td>\n",
       "      <td>0.081574</td>\n",
       "    </tr>\n",
       "    <tr>\n",
       "      <th>в разводе</th>\n",
       "      <td>1110</td>\n",
       "      <td>85</td>\n",
       "      <td>0.076577</td>\n",
       "    </tr>\n",
       "    <tr>\n",
       "      <th>вдовец / вдова</th>\n",
       "      <td>896</td>\n",
       "      <td>63</td>\n",
       "      <td>0.070312</td>\n",
       "    </tr>\n",
       "  </tbody>\n",
       "</table>\n",
       "</div>"
      ],
      "text/plain": [
       "debt                       0    1     ratio\n",
       "family_status                              \n",
       "Не женат / не замужем   2536  274  0.108044\n",
       "гражданский брак        3775  388  0.102781\n",
       "женат / замужем        11413  931  0.081574\n",
       "в разводе               1110   85  0.076577\n",
       "вдовец / вдова           896   63  0.070312"
      ]
     },
     "execution_count": 40,
     "metadata": {},
     "output_type": "execute_result"
    }
   ],
   "source": [
    "# добавим столбец ratio, поделим колличество клиентов у которых была задолженность на клиентов у которых не было просрочек по кредитам\n",
    "data_pivot_family['ratio'] = data_pivot_family[1] / data_pivot_family[0]\n",
    "# сортируем полученный столбец и выведем его на экран\n",
    "data_pivot_family.sort_values(by='ratio', ascending=False)"
   ]
  },
  {
   "cell_type": "markdown",
   "metadata": {},
   "source": [
    "**Вывод**"
   ]
  },
  {
   "cell_type": "markdown",
   "metadata": {},
   "source": [
    "Люди которые не состоят в браке чаще имели задолженность по кредиту, похожий результат имеет группа клиентов которые состоят в гражданском браке. Люди которые находятся в разводе и люди которые потеряли своих супругов, реже имеют просрочки по кредитам, чем остальные. \n",
    "\n",
    "Могу предположить такие версии:\n",
    "\n",
    "* Люди в разводе или те которые лишились супруга, находяться в депрессивном состоянии и им необходимо решать свои проблемы среди которых кредит и чтобы компенсировать свое состояние после ухода второй половинки, они решают личные проблемы и тем самым делают свою жизнь проще и легче. Так же могу отметить то что вдовцы и вдовы получают наследство и с помощью него могут закрыть свои долги перед банком. \n",
    "* Люди которые не состоят в браке или состоят в гражданском браке, чаще имеют задолженность по кредитам чем остальные группы, могу предположить, что это связанно с молодым возрастом так как многие еще не успели вступаить в брак или вступают в него и берут кредиты на свадьбу, а если это молодые люди то фин. грамотность, может страдать из-за отсутствия опыта обращения с денежными средствами, отсюда и кредиты на свадьбу и просрочки.\n"
   ]
  },
  {
   "cell_type": "markdown",
   "metadata": {},
   "source": [
    "**Есть ли зависимость между уровнем дохода и возвратом кредита в срок?**"
   ]
  },
  {
   "cell_type": "markdown",
   "metadata": {},
   "source": [
    "Создаем сводную таблицу и рассмотрим как уровень дохода влияет на возврат заемных средств в срок."
   ]
  },
  {
   "cell_type": "code",
   "execution_count": 41,
   "metadata": {
    "scrolled": false
   },
   "outputs": [
    {
     "data": {
      "text/html": [
       "<div>\n",
       "<style scoped>\n",
       "    .dataframe tbody tr th:only-of-type {\n",
       "        vertical-align: middle;\n",
       "    }\n",
       "\n",
       "    .dataframe tbody tr th {\n",
       "        vertical-align: top;\n",
       "    }\n",
       "\n",
       "    .dataframe thead th {\n",
       "        text-align: right;\n",
       "    }\n",
       "</style>\n",
       "<table border=\"1\" class=\"dataframe\">\n",
       "  <thead>\n",
       "    <tr style=\"text-align: right;\">\n",
       "      <th>debt</th>\n",
       "      <th>0</th>\n",
       "      <th>1</th>\n",
       "    </tr>\n",
       "    <tr>\n",
       "      <th>income_group</th>\n",
       "      <th></th>\n",
       "      <th></th>\n",
       "    </tr>\n",
       "  </thead>\n",
       "  <tbody>\n",
       "    <tr>\n",
       "      <th>высокий уровень дохода</th>\n",
       "      <td>10049</td>\n",
       "      <td>861</td>\n",
       "    </tr>\n",
       "    <tr>\n",
       "      <th>низкий уровень дохода</th>\n",
       "      <td>203</td>\n",
       "      <td>14</td>\n",
       "    </tr>\n",
       "    <tr>\n",
       "      <th>средний уровень дохода</th>\n",
       "      <td>9478</td>\n",
       "      <td>866</td>\n",
       "    </tr>\n",
       "  </tbody>\n",
       "</table>\n",
       "</div>"
      ],
      "text/plain": [
       "debt                        0    1\n",
       "income_group                      \n",
       "высокий уровень дохода  10049  861\n",
       "низкий уровень дохода     203   14\n",
       "средний уровень дохода   9478  866"
      ]
     },
     "execution_count": 41,
     "metadata": {},
     "output_type": "execute_result"
    }
   ],
   "source": [
    "# сделаем сводную таблицу и посмотрим сколько должников находится в разных группах по уровню дохода, выведем результат на экран\n",
    "data_pivot_income = df.pivot_table(index='income_group',columns='debt', values='total_income', aggfunc='count')\n",
    "data_pivot_income"
   ]
  },
  {
   "cell_type": "markdown",
   "metadata": {},
   "source": [
    "Людей с низким уровнем зарплат мало, это радует с точки зрения социологии, но для нашего анализа таккая выборка возможно даст мало информации, но возможно и выдача кредитов людям с низким уровнем дохода не много, проанализируем полученные данные. "
   ]
  },
  {
   "cell_type": "code",
   "execution_count": 42,
   "metadata": {
    "scrolled": false
   },
   "outputs": [
    {
     "data": {
      "text/html": [
       "<div>\n",
       "<style scoped>\n",
       "    .dataframe tbody tr th:only-of-type {\n",
       "        vertical-align: middle;\n",
       "    }\n",
       "\n",
       "    .dataframe tbody tr th {\n",
       "        vertical-align: top;\n",
       "    }\n",
       "\n",
       "    .dataframe thead th {\n",
       "        text-align: right;\n",
       "    }\n",
       "</style>\n",
       "<table border=\"1\" class=\"dataframe\">\n",
       "  <thead>\n",
       "    <tr style=\"text-align: right;\">\n",
       "      <th>debt</th>\n",
       "      <th>0</th>\n",
       "      <th>1</th>\n",
       "      <th>ratio</th>\n",
       "    </tr>\n",
       "    <tr>\n",
       "      <th>income_group</th>\n",
       "      <th></th>\n",
       "      <th></th>\n",
       "      <th></th>\n",
       "    </tr>\n",
       "  </thead>\n",
       "  <tbody>\n",
       "    <tr>\n",
       "      <th>средний уровень дохода</th>\n",
       "      <td>9478</td>\n",
       "      <td>866</td>\n",
       "      <td>0.091369</td>\n",
       "    </tr>\n",
       "    <tr>\n",
       "      <th>высокий уровень дохода</th>\n",
       "      <td>10049</td>\n",
       "      <td>861</td>\n",
       "      <td>0.085680</td>\n",
       "    </tr>\n",
       "    <tr>\n",
       "      <th>низкий уровень дохода</th>\n",
       "      <td>203</td>\n",
       "      <td>14</td>\n",
       "      <td>0.068966</td>\n",
       "    </tr>\n",
       "  </tbody>\n",
       "</table>\n",
       "</div>"
      ],
      "text/plain": [
       "debt                        0    1     ratio\n",
       "income_group                                \n",
       "средний уровень дохода   9478  866  0.091369\n",
       "высокий уровень дохода  10049  861  0.085680\n",
       "низкий уровень дохода     203   14  0.068966"
      ]
     },
     "execution_count": 42,
     "metadata": {},
     "output_type": "execute_result"
    }
   ],
   "source": [
    "# добавим столбец ratio, поделим колличество клиентов у которых была задолженность на клиентов у которых не было просрочек по кредитам\n",
    "data_pivot_income['ratio'] = data_pivot_income[1] / data_pivot_income[0]\n",
    "data_pivot_income.sort_values(by='ratio', ascending=False)"
   ]
  },
  {
   "cell_type": "markdown",
   "metadata": {},
   "source": [
    "**Вывод**"
   ]
  },
  {
   "cell_type": "markdown",
   "metadata": {},
   "source": [
    "Люди с средним уровнем дохода реже отдают кредит в срок и имеют просрочки чаще чем группа, уровень дохода которой является низким. Люди с высоким уровнем дохода имеют похожие результаты как и группа людей с средним уровнем дохода.\n"
   ]
  },
  {
   "cell_type": "markdown",
   "metadata": {},
   "source": [
    "**Как разные цели кредита влияют на его возврат в срок**"
   ]
  },
  {
   "cell_type": "markdown",
   "metadata": {},
   "source": [
    "Создаем сводную таблицу и рассмотрим как цели кредита влияют на возврат заемных средств в срок."
   ]
  },
  {
   "cell_type": "code",
   "execution_count": 43,
   "metadata": {
    "scrolled": true
   },
   "outputs": [
    {
     "data": {
      "text/html": [
       "<div>\n",
       "<style scoped>\n",
       "    .dataframe tbody tr th:only-of-type {\n",
       "        vertical-align: middle;\n",
       "    }\n",
       "\n",
       "    .dataframe tbody tr th {\n",
       "        vertical-align: top;\n",
       "    }\n",
       "\n",
       "    .dataframe thead th {\n",
       "        text-align: right;\n",
       "    }\n",
       "</style>\n",
       "<table border=\"1\" class=\"dataframe\">\n",
       "  <thead>\n",
       "    <tr style=\"text-align: right;\">\n",
       "      <th>debt</th>\n",
       "      <th>0</th>\n",
       "      <th>1</th>\n",
       "    </tr>\n",
       "    <tr>\n",
       "      <th>purpose_group</th>\n",
       "      <th></th>\n",
       "      <th></th>\n",
       "    </tr>\n",
       "  </thead>\n",
       "  <tbody>\n",
       "    <tr>\n",
       "      <th>автомобиль</th>\n",
       "      <td>3905</td>\n",
       "      <td>403</td>\n",
       "    </tr>\n",
       "    <tr>\n",
       "      <th>недвижимость</th>\n",
       "      <td>10032</td>\n",
       "      <td>782</td>\n",
       "    </tr>\n",
       "    <tr>\n",
       "      <th>образование</th>\n",
       "      <td>3644</td>\n",
       "      <td>370</td>\n",
       "    </tr>\n",
       "    <tr>\n",
       "      <th>свадьба</th>\n",
       "      <td>2149</td>\n",
       "      <td>186</td>\n",
       "    </tr>\n",
       "  </tbody>\n",
       "</table>\n",
       "</div>"
      ],
      "text/plain": [
       "debt               0    1\n",
       "purpose_group            \n",
       "автомобиль      3905  403\n",
       "недвижимость   10032  782\n",
       "образование     3644  370\n",
       "свадьба         2149  186"
      ]
     },
     "execution_count": 43,
     "metadata": {},
     "output_type": "execute_result"
    }
   ],
   "source": [
    "# сделаем сводную таблицу и посмотрим сколько должников находится в разных группах по целям кредитования, выведем результат на экран\n",
    "data_pivot_purpose = df.pivot_table(index='purpose_group',columns='debt', values='purpose', aggfunc='count')\n",
    "data_pivot_purpose"
   ]
  },
  {
   "cell_type": "markdown",
   "metadata": {},
   "source": [
    "Чаще всего берут кредит на цели связанные с недвижимостью, интересно что достаточно много клиентов берут средства на свадьбу. Колличество кредитов на авто и на образование примерно на одном уровне."
   ]
  },
  {
   "cell_type": "code",
   "execution_count": 44,
   "metadata": {},
   "outputs": [
    {
     "data": {
      "text/html": [
       "<div>\n",
       "<style scoped>\n",
       "    .dataframe tbody tr th:only-of-type {\n",
       "        vertical-align: middle;\n",
       "    }\n",
       "\n",
       "    .dataframe tbody tr th {\n",
       "        vertical-align: top;\n",
       "    }\n",
       "\n",
       "    .dataframe thead th {\n",
       "        text-align: right;\n",
       "    }\n",
       "</style>\n",
       "<table border=\"1\" class=\"dataframe\">\n",
       "  <thead>\n",
       "    <tr style=\"text-align: right;\">\n",
       "      <th>debt</th>\n",
       "      <th>0</th>\n",
       "      <th>1</th>\n",
       "      <th>ratio</th>\n",
       "    </tr>\n",
       "    <tr>\n",
       "      <th>purpose_group</th>\n",
       "      <th></th>\n",
       "      <th></th>\n",
       "      <th></th>\n",
       "    </tr>\n",
       "  </thead>\n",
       "  <tbody>\n",
       "    <tr>\n",
       "      <th>автомобиль</th>\n",
       "      <td>3905</td>\n",
       "      <td>403</td>\n",
       "      <td>0.103201</td>\n",
       "    </tr>\n",
       "    <tr>\n",
       "      <th>образование</th>\n",
       "      <td>3644</td>\n",
       "      <td>370</td>\n",
       "      <td>0.101537</td>\n",
       "    </tr>\n",
       "    <tr>\n",
       "      <th>свадьба</th>\n",
       "      <td>2149</td>\n",
       "      <td>186</td>\n",
       "      <td>0.086552</td>\n",
       "    </tr>\n",
       "    <tr>\n",
       "      <th>недвижимость</th>\n",
       "      <td>10032</td>\n",
       "      <td>782</td>\n",
       "      <td>0.077951</td>\n",
       "    </tr>\n",
       "  </tbody>\n",
       "</table>\n",
       "</div>"
      ],
      "text/plain": [
       "debt               0    1     ratio\n",
       "purpose_group                      \n",
       "автомобиль      3905  403  0.103201\n",
       "образование     3644  370  0.101537\n",
       "свадьба         2149  186  0.086552\n",
       "недвижимость   10032  782  0.077951"
      ]
     },
     "execution_count": 44,
     "metadata": {},
     "output_type": "execute_result"
    }
   ],
   "source": [
    "# добавим столбец ratio, поделим колличество клиентов у которых была задолженность на клиентов у которых не было просрочек по кредитам\n",
    "data_pivot_purpose['ratio'] = data_pivot_purpose[1] / data_pivot_purpose[0]\n",
    "data_pivot_purpose.sort_values(by='ratio', ascending=False)"
   ]
  },
  {
   "cell_type": "markdown",
   "metadata": {},
   "source": [
    "**Вывод**"
   ]
  },
  {
   "cell_type": "markdown",
   "metadata": {},
   "source": [
    "Клиенты которые взяли кредит на недвижимость чаще остальных возвращают займ в срок, а вот группа клиентов которые брали кредит на авто и образование чаще имели просрочки по платежам.\n",
    "\n",
    "Могу предположить такие версии:\n",
    "\n",
    "* Кредит на недвижимость закрывает потребность в аренде жилья и благодоря этому постоянные расходы на аренду жилья уходят на ежемесячные расходы по кредиту, что позволяет совершать меньше просрочек заемщику средств;\n",
    "* Возврат заемных средств по цели получения образования может быть просрочен в связи с тем что у человека не хватает времени на основную работу так как клиент занят получением образования из-за этого может быть дефицит средств на покрытие долгов.\n"
   ]
  },
  {
   "cell_type": "markdown",
   "metadata": {},
   "source": [
    "## Шаг 4. Общий вывод"
   ]
  },
  {
   "cell_type": "markdown",
   "metadata": {},
   "source": [
    "Мы рассмотрели и проанализировали данные, получили необходимые результаты и можем предоставить их заказчику.\n",
    "\n",
    "Что мы узнали в ходе анализа:\n",
    "\n",
    "* Около 9 процентов многодетных семей имели просроченную задолженность по кредиту, а клиенты у которых нет детей совершают меньше просрочек;\n",
    "\n",
    "* Клиенты которые не состоят в браке чаще имели задолженность по кредиту, похожий результат имеет группа клиентов которые состоят в гражданском браке. Люди которые находятся в разводе и люди которые потеряли своих супругов, реже имеют просрочки по кредитам, чем остальные;\n",
    "\n",
    "* Клиенты с средним уровнем дохода реже отдают кредит в срок и имеют просрочки чаще чем группа, уровень дохода которой является низким. Люди с высоким уровнем дохода имеют похожие результаты как и группа людей с средним уровнем дохода;\n",
    "\n",
    "* Клиенты которые взяли кредит на недвижимость чаще остальных возвращают займ в срок, а вот группа клиентов которые брали кредит на авто и образование чаще имели просрочки по платежам."
   ]
  }
 ],
 "metadata": {
  "ExecuteTimeLog": [
   {
    "duration": 706,
    "start_time": "2022-01-19T11:42:58.078Z"
   },
   {
    "duration": 11,
    "start_time": "2022-01-19T11:45:51.581Z"
   },
   {
    "duration": 11,
    "start_time": "2022-01-19T11:47:58.943Z"
   },
   {
    "duration": 638,
    "start_time": "2022-01-19T11:48:20.328Z"
   },
   {
    "duration": 13,
    "start_time": "2022-01-19T11:48:20.968Z"
   },
   {
    "duration": 806,
    "start_time": "2022-01-22T13:29:13.392Z"
   },
   {
    "duration": 14,
    "start_time": "2022-01-22T13:29:14.201Z"
   },
   {
    "duration": 330,
    "start_time": "2022-01-22T13:29:14.218Z"
   },
   {
    "duration": 273,
    "start_time": "2022-01-22T13:29:42.000Z"
   },
   {
    "duration": 241,
    "start_time": "2022-01-22T13:30:17.760Z"
   },
   {
    "duration": 5,
    "start_time": "2022-01-22T13:30:21.985Z"
   },
   {
    "duration": 678,
    "start_time": "2022-01-24T06:57:36.111Z"
   },
   {
    "duration": 11,
    "start_time": "2022-01-24T06:57:36.790Z"
   },
   {
    "duration": 14,
    "start_time": "2022-01-24T06:57:36.803Z"
   },
   {
    "duration": 9,
    "start_time": "2022-01-24T07:12:41.422Z"
   },
   {
    "duration": 16,
    "start_time": "2022-01-24T07:13:03.664Z"
   },
   {
    "duration": 1907,
    "start_time": "2022-01-24T08:02:03.458Z"
   },
   {
    "duration": 3,
    "start_time": "2022-01-24T08:03:41.524Z"
   },
   {
    "duration": 13,
    "start_time": "2022-01-24T08:03:41.947Z"
   },
   {
    "duration": 686,
    "start_time": "2022-01-24T08:03:48.552Z"
   },
   {
    "duration": 13,
    "start_time": "2022-01-24T08:03:49.240Z"
   },
   {
    "duration": 21,
    "start_time": "2022-01-24T08:03:49.255Z"
   },
   {
    "duration": 5,
    "start_time": "2022-01-24T08:03:49.278Z"
   },
   {
    "duration": 26,
    "start_time": "2022-01-24T08:03:49.285Z"
   },
   {
    "duration": 12,
    "start_time": "2022-01-24T08:03:49.313Z"
   },
   {
    "duration": 4,
    "start_time": "2022-01-24T08:04:00.008Z"
   },
   {
    "duration": 9,
    "start_time": "2022-01-24T08:12:15.333Z"
   },
   {
    "duration": 15,
    "start_time": "2022-01-24T08:12:15.660Z"
   },
   {
    "duration": 2494,
    "start_time": "2022-01-24T08:14:04.515Z"
   },
   {
    "duration": 6,
    "start_time": "2022-01-24T08:14:25.526Z"
   },
   {
    "duration": 13,
    "start_time": "2022-01-24T08:14:26.603Z"
   },
   {
    "duration": 2416,
    "start_time": "2022-01-24T08:14:29.044Z"
   },
   {
    "duration": 729,
    "start_time": "2022-01-24T08:14:39.808Z"
   },
   {
    "duration": 12,
    "start_time": "2022-01-24T08:14:40.539Z"
   },
   {
    "duration": 12,
    "start_time": "2022-01-24T08:14:40.554Z"
   },
   {
    "duration": 10,
    "start_time": "2022-01-24T08:14:40.568Z"
   },
   {
    "duration": 31,
    "start_time": "2022-01-24T08:14:40.580Z"
   },
   {
    "duration": 10,
    "start_time": "2022-01-24T08:14:40.613Z"
   },
   {
    "duration": 6,
    "start_time": "2022-01-24T08:16:13.677Z"
   },
   {
    "duration": 13,
    "start_time": "2022-01-24T08:29:29.834Z"
   },
   {
    "duration": 22,
    "start_time": "2022-01-24T08:46:09.719Z"
   },
   {
    "duration": 16,
    "start_time": "2022-01-24T08:46:47.582Z"
   },
   {
    "duration": 21,
    "start_time": "2022-01-24T08:47:08.758Z"
   },
   {
    "duration": 19,
    "start_time": "2022-01-24T08:47:24.774Z"
   },
   {
    "duration": 20,
    "start_time": "2022-01-24T08:47:52.930Z"
   },
   {
    "duration": 23,
    "start_time": "2022-01-24T08:47:52.953Z"
   },
   {
    "duration": 46,
    "start_time": "2022-01-24T08:47:52.978Z"
   },
   {
    "duration": 889,
    "start_time": "2022-01-24T08:48:06.866Z"
   },
   {
    "duration": 14,
    "start_time": "2022-01-24T08:48:07.757Z"
   },
   {
    "duration": 13,
    "start_time": "2022-01-24T08:48:07.773Z"
   },
   {
    "duration": 23,
    "start_time": "2022-01-24T08:48:07.789Z"
   },
   {
    "duration": 15,
    "start_time": "2022-01-24T08:48:07.814Z"
   },
   {
    "duration": 11,
    "start_time": "2022-01-24T08:48:07.831Z"
   },
   {
    "duration": 22,
    "start_time": "2022-01-24T08:48:07.844Z"
   },
   {
    "duration": 20,
    "start_time": "2022-01-24T08:48:07.869Z"
   },
   {
    "duration": 23,
    "start_time": "2022-01-24T08:48:07.908Z"
   },
   {
    "duration": 27,
    "start_time": "2022-01-24T08:48:07.933Z"
   },
   {
    "duration": 19,
    "start_time": "2022-01-24T08:51:33.567Z"
   },
   {
    "duration": 342,
    "start_time": "2022-01-24T09:13:41.418Z"
   },
   {
    "duration": 314,
    "start_time": "2022-01-24T09:14:58.148Z"
   },
   {
    "duration": 17,
    "start_time": "2022-01-24T09:16:08.835Z"
   },
   {
    "duration": 288,
    "start_time": "2022-01-24T09:17:10.268Z"
   },
   {
    "duration": 15,
    "start_time": "2022-01-24T09:17:21.115Z"
   },
   {
    "duration": 12,
    "start_time": "2022-01-24T09:17:34.187Z"
   },
   {
    "duration": 28,
    "start_time": "2022-01-24T09:17:35.266Z"
   },
   {
    "duration": 14,
    "start_time": "2022-01-24T09:19:20.443Z"
   },
   {
    "duration": 27,
    "start_time": "2022-01-24T09:19:20.811Z"
   },
   {
    "duration": 19,
    "start_time": "2022-01-24T09:19:28.250Z"
   },
   {
    "duration": 27,
    "start_time": "2022-01-24T09:19:28.930Z"
   },
   {
    "duration": 702,
    "start_time": "2022-01-24T09:19:37.697Z"
   },
   {
    "duration": 12,
    "start_time": "2022-01-24T09:19:38.401Z"
   },
   {
    "duration": 13,
    "start_time": "2022-01-24T09:19:38.416Z"
   },
   {
    "duration": 13,
    "start_time": "2022-01-24T09:19:38.431Z"
   },
   {
    "duration": 17,
    "start_time": "2022-01-24T09:19:38.447Z"
   },
   {
    "duration": 5,
    "start_time": "2022-01-24T09:19:38.467Z"
   },
   {
    "duration": 19,
    "start_time": "2022-01-24T09:19:38.474Z"
   },
   {
    "duration": 19,
    "start_time": "2022-01-24T09:19:38.510Z"
   },
   {
    "duration": 67,
    "start_time": "2022-01-24T09:19:38.531Z"
   },
   {
    "duration": 19,
    "start_time": "2022-01-24T09:19:38.600Z"
   },
   {
    "duration": 17,
    "start_time": "2022-01-24T09:19:38.621Z"
   },
   {
    "duration": 5,
    "start_time": "2022-01-24T09:19:38.639Z"
   },
   {
    "duration": 92,
    "start_time": "2022-01-24T09:19:38.645Z"
   },
   {
    "duration": 18,
    "start_time": "2022-01-24T09:20:19.425Z"
   },
   {
    "duration": 12,
    "start_time": "2022-01-24T09:20:20.497Z"
   },
   {
    "duration": 28,
    "start_time": "2022-01-24T09:20:23.201Z"
   },
   {
    "duration": 7,
    "start_time": "2022-01-24T09:26:07.389Z"
   },
   {
    "duration": 325,
    "start_time": "2022-01-24T09:29:39.351Z"
   },
   {
    "duration": 258,
    "start_time": "2022-01-24T09:29:48.415Z"
   },
   {
    "duration": 254,
    "start_time": "2022-01-24T09:30:14.248Z"
   },
   {
    "duration": 258,
    "start_time": "2022-01-24T09:30:21.663Z"
   },
   {
    "duration": 307,
    "start_time": "2022-01-24T11:06:14.541Z"
   },
   {
    "duration": 269,
    "start_time": "2022-01-24T11:06:26.308Z"
   },
   {
    "duration": 697,
    "start_time": "2022-01-24T11:11:10.854Z"
   },
   {
    "duration": 296,
    "start_time": "2022-01-24T11:11:41.215Z"
   },
   {
    "duration": 266,
    "start_time": "2022-01-24T11:11:54.794Z"
   },
   {
    "duration": 273,
    "start_time": "2022-01-24T11:12:04.411Z"
   },
   {
    "duration": 400,
    "start_time": "2022-01-24T11:12:08.158Z"
   },
   {
    "duration": 116,
    "start_time": "2022-01-24T11:12:16.158Z"
   },
   {
    "duration": 361,
    "start_time": "2022-01-24T11:12:19.295Z"
   },
   {
    "duration": 7,
    "start_time": "2022-01-24T11:12:28.029Z"
   },
   {
    "duration": 6,
    "start_time": "2022-01-24T11:12:51.862Z"
   },
   {
    "duration": -90,
    "start_time": "2022-01-24T11:13:10.053Z"
   },
   {
    "duration": 486,
    "start_time": "2022-01-24T11:13:16.598Z"
   },
   {
    "duration": 3638,
    "start_time": "2022-01-24T11:36:52.360Z"
   },
   {
    "duration": 3613,
    "start_time": "2022-01-24T11:38:37.960Z"
   },
   {
    "duration": 26,
    "start_time": "2022-01-24T11:38:56.519Z"
   },
   {
    "duration": 823,
    "start_time": "2022-01-24T11:39:38.987Z"
   },
   {
    "duration": 13,
    "start_time": "2022-01-24T11:39:39.812Z"
   },
   {
    "duration": 15,
    "start_time": "2022-01-24T11:39:39.827Z"
   },
   {
    "duration": 5,
    "start_time": "2022-01-24T11:39:39.844Z"
   },
   {
    "duration": 14,
    "start_time": "2022-01-24T11:39:39.851Z"
   },
   {
    "duration": 15,
    "start_time": "2022-01-24T11:39:39.866Z"
   },
   {
    "duration": 32,
    "start_time": "2022-01-24T11:39:39.883Z"
   },
   {
    "duration": 18,
    "start_time": "2022-01-24T11:39:39.918Z"
   },
   {
    "duration": 21,
    "start_time": "2022-01-24T11:39:39.938Z"
   },
   {
    "duration": 46,
    "start_time": "2022-01-24T11:39:39.961Z"
   },
   {
    "duration": 18,
    "start_time": "2022-01-24T11:39:40.010Z"
   },
   {
    "duration": 13,
    "start_time": "2022-01-24T11:39:40.031Z"
   },
   {
    "duration": 36,
    "start_time": "2022-01-24T11:39:40.047Z"
   },
   {
    "duration": 6,
    "start_time": "2022-01-24T11:39:40.108Z"
   },
   {
    "duration": 4256,
    "start_time": "2022-01-24T11:39:40.116Z"
   },
   {
    "duration": 44,
    "start_time": "2022-01-24T11:39:44.375Z"
   },
   {
    "duration": 2554,
    "start_time": "2022-01-24T11:42:47.465Z"
   },
   {
    "duration": 770,
    "start_time": "2022-01-24T11:42:55.979Z"
   },
   {
    "duration": 19,
    "start_time": "2022-01-24T11:42:56.752Z"
   },
   {
    "duration": 36,
    "start_time": "2022-01-24T11:42:56.773Z"
   },
   {
    "duration": 16,
    "start_time": "2022-01-24T11:42:56.812Z"
   },
   {
    "duration": 35,
    "start_time": "2022-01-24T11:42:56.830Z"
   },
   {
    "duration": 23,
    "start_time": "2022-01-24T11:42:56.867Z"
   },
   {
    "duration": 33,
    "start_time": "2022-01-24T11:42:56.892Z"
   },
   {
    "duration": 24,
    "start_time": "2022-01-24T11:42:56.928Z"
   },
   {
    "duration": 25,
    "start_time": "2022-01-24T11:42:56.954Z"
   },
   {
    "duration": 23,
    "start_time": "2022-01-24T11:42:56.981Z"
   },
   {
    "duration": 25,
    "start_time": "2022-01-24T11:42:57.005Z"
   },
   {
    "duration": 39,
    "start_time": "2022-01-24T11:42:57.032Z"
   },
   {
    "duration": 37,
    "start_time": "2022-01-24T11:42:57.073Z"
   },
   {
    "duration": 33,
    "start_time": "2022-01-24T11:42:57.113Z"
   },
   {
    "duration": 4164,
    "start_time": "2022-01-24T11:42:57.148Z"
   },
   {
    "duration": 26,
    "start_time": "2022-01-24T11:43:06.200Z"
   },
   {
    "duration": 17,
    "start_time": "2022-01-24T11:55:36.799Z"
   },
   {
    "duration": 22,
    "start_time": "2022-01-24T11:55:46.696Z"
   },
   {
    "duration": 344,
    "start_time": "2022-01-24T11:58:35.190Z"
   },
   {
    "duration": 4,
    "start_time": "2022-01-24T12:39:36.139Z"
   },
   {
    "duration": 707,
    "start_time": "2022-01-24T12:39:46.066Z"
   },
   {
    "duration": 14,
    "start_time": "2022-01-24T12:39:46.775Z"
   },
   {
    "duration": 24,
    "start_time": "2022-01-24T12:39:46.791Z"
   },
   {
    "duration": 5,
    "start_time": "2022-01-24T12:39:46.818Z"
   },
   {
    "duration": 16,
    "start_time": "2022-01-24T12:39:46.825Z"
   },
   {
    "duration": 8,
    "start_time": "2022-01-24T12:39:46.843Z"
   },
   {
    "duration": 20,
    "start_time": "2022-01-24T12:39:46.853Z"
   },
   {
    "duration": 53,
    "start_time": "2022-01-24T12:39:46.877Z"
   },
   {
    "duration": 27,
    "start_time": "2022-01-24T12:39:46.933Z"
   },
   {
    "duration": 49,
    "start_time": "2022-01-24T12:39:46.962Z"
   },
   {
    "duration": 19,
    "start_time": "2022-01-24T12:39:47.013Z"
   },
   {
    "duration": 14,
    "start_time": "2022-01-24T12:39:47.034Z"
   },
   {
    "duration": 58,
    "start_time": "2022-01-24T12:39:47.050Z"
   },
   {
    "duration": 10,
    "start_time": "2022-01-24T12:39:47.111Z"
   },
   {
    "duration": 4431,
    "start_time": "2022-01-24T12:39:47.123Z"
   },
   {
    "duration": 28,
    "start_time": "2022-01-24T12:39:51.557Z"
   },
   {
    "duration": 4,
    "start_time": "2022-01-24T12:39:51.588Z"
   },
   {
    "duration": 6,
    "start_time": "2022-01-24T12:40:10.018Z"
   },
   {
    "duration": 507,
    "start_time": "2022-01-24T12:41:04.938Z"
   },
   {
    "duration": 258,
    "start_time": "2022-01-24T12:41:11.129Z"
   },
   {
    "duration": 5,
    "start_time": "2022-01-24T12:41:16.255Z"
   },
   {
    "duration": 36,
    "start_time": "2022-01-24T12:44:51.737Z"
   },
   {
    "duration": 286,
    "start_time": "2022-01-24T12:49:26.234Z"
   },
   {
    "duration": 22,
    "start_time": "2022-01-24T12:51:31.560Z"
   },
   {
    "duration": 23,
    "start_time": "2022-01-24T12:51:46.007Z"
   },
   {
    "duration": 28,
    "start_time": "2022-01-24T13:08:55.996Z"
   },
   {
    "duration": 693,
    "start_time": "2022-01-24T13:09:10.237Z"
   },
   {
    "duration": 14,
    "start_time": "2022-01-24T13:09:10.932Z"
   },
   {
    "duration": 23,
    "start_time": "2022-01-24T13:09:10.948Z"
   },
   {
    "duration": 18,
    "start_time": "2022-01-24T13:09:10.974Z"
   },
   {
    "duration": 29,
    "start_time": "2022-01-24T13:09:10.995Z"
   },
   {
    "duration": 16,
    "start_time": "2022-01-24T13:09:11.027Z"
   },
   {
    "duration": 24,
    "start_time": "2022-01-24T13:09:11.045Z"
   },
   {
    "duration": 23,
    "start_time": "2022-01-24T13:09:11.073Z"
   },
   {
    "duration": 22,
    "start_time": "2022-01-24T13:09:11.099Z"
   },
   {
    "duration": 34,
    "start_time": "2022-01-24T13:09:11.124Z"
   },
   {
    "duration": 28,
    "start_time": "2022-01-24T13:09:11.160Z"
   },
   {
    "duration": 34,
    "start_time": "2022-01-24T13:09:11.191Z"
   },
   {
    "duration": 57,
    "start_time": "2022-01-24T13:09:11.227Z"
   },
   {
    "duration": 33,
    "start_time": "2022-01-24T13:09:11.286Z"
   },
   {
    "duration": 4224,
    "start_time": "2022-01-24T13:09:11.322Z"
   },
   {
    "duration": 27,
    "start_time": "2022-01-24T13:09:15.548Z"
   },
   {
    "duration": 5,
    "start_time": "2022-01-24T13:09:15.577Z"
   },
   {
    "duration": 23,
    "start_time": "2022-01-24T13:09:15.608Z"
   },
   {
    "duration": 14,
    "start_time": "2022-01-24T13:10:00.867Z"
   },
   {
    "duration": 28,
    "start_time": "2022-01-24T13:10:41.178Z"
   },
   {
    "duration": 27,
    "start_time": "2022-01-24T13:11:22.595Z"
   },
   {
    "duration": 286,
    "start_time": "2022-01-25T09:05:40.937Z"
   },
   {
    "duration": 675,
    "start_time": "2022-01-25T09:05:53.456Z"
   },
   {
    "duration": 11,
    "start_time": "2022-01-25T09:05:54.133Z"
   },
   {
    "duration": 31,
    "start_time": "2022-01-25T09:05:54.146Z"
   },
   {
    "duration": 16,
    "start_time": "2022-01-25T09:05:54.179Z"
   },
   {
    "duration": 36,
    "start_time": "2022-01-25T09:05:54.197Z"
   },
   {
    "duration": 24,
    "start_time": "2022-01-25T09:05:54.235Z"
   },
   {
    "duration": 22,
    "start_time": "2022-01-25T09:05:54.261Z"
   },
   {
    "duration": 37,
    "start_time": "2022-01-25T09:05:54.286Z"
   },
   {
    "duration": 16,
    "start_time": "2022-01-25T09:05:54.326Z"
   },
   {
    "duration": 28,
    "start_time": "2022-01-25T09:05:54.344Z"
   },
   {
    "duration": 16,
    "start_time": "2022-01-25T09:05:54.374Z"
   },
   {
    "duration": 22,
    "start_time": "2022-01-25T09:05:54.392Z"
   },
   {
    "duration": 41,
    "start_time": "2022-01-25T09:05:54.416Z"
   },
   {
    "duration": 16,
    "start_time": "2022-01-25T09:05:54.459Z"
   },
   {
    "duration": 3603,
    "start_time": "2022-01-25T09:05:54.477Z"
   },
   {
    "duration": 327,
    "start_time": "2022-01-25T09:05:58.082Z"
   },
   {
    "duration": -20,
    "start_time": "2022-01-25T09:05:58.431Z"
   },
   {
    "duration": -25,
    "start_time": "2022-01-25T09:05:58.438Z"
   },
   {
    "duration": -32,
    "start_time": "2022-01-25T09:05:58.446Z"
   },
   {
    "duration": 601,
    "start_time": "2022-01-25T09:06:12.910Z"
   },
   {
    "duration": 11,
    "start_time": "2022-01-25T09:06:13.513Z"
   },
   {
    "duration": 9,
    "start_time": "2022-01-25T09:06:13.526Z"
   },
   {
    "duration": 5,
    "start_time": "2022-01-25T09:06:13.536Z"
   },
   {
    "duration": 24,
    "start_time": "2022-01-25T09:06:13.542Z"
   },
   {
    "duration": 4,
    "start_time": "2022-01-25T09:06:13.568Z"
   },
   {
    "duration": 14,
    "start_time": "2022-01-25T09:06:13.574Z"
   },
   {
    "duration": 22,
    "start_time": "2022-01-25T09:06:13.590Z"
   },
   {
    "duration": 17,
    "start_time": "2022-01-25T09:06:13.615Z"
   },
   {
    "duration": 40,
    "start_time": "2022-01-25T09:06:13.634Z"
   },
   {
    "duration": 16,
    "start_time": "2022-01-25T09:06:13.676Z"
   },
   {
    "duration": 12,
    "start_time": "2022-01-25T09:06:13.694Z"
   },
   {
    "duration": 27,
    "start_time": "2022-01-25T09:06:13.708Z"
   },
   {
    "duration": 26,
    "start_time": "2022-01-25T09:06:13.736Z"
   },
   {
    "duration": 3764,
    "start_time": "2022-01-25T09:06:13.763Z"
   },
   {
    "duration": 38,
    "start_time": "2022-01-25T09:06:17.529Z"
   },
   {
    "duration": 5,
    "start_time": "2022-01-25T09:06:17.569Z"
   },
   {
    "duration": 42,
    "start_time": "2022-01-25T09:06:17.576Z"
   },
   {
    "duration": 9,
    "start_time": "2022-01-25T09:15:17.071Z"
   },
   {
    "duration": 5,
    "start_time": "2022-01-25T09:15:53.684Z"
   },
   {
    "duration": 6,
    "start_time": "2022-01-25T09:16:09.067Z"
   },
   {
    "duration": 4,
    "start_time": "2022-01-25T09:16:16.548Z"
   },
   {
    "duration": 21,
    "start_time": "2022-01-25T09:21:38.890Z"
   },
   {
    "duration": 27,
    "start_time": "2022-01-25T09:21:53.874Z"
   },
   {
    "duration": -98,
    "start_time": "2022-01-25T09:23:36.198Z"
   },
   {
    "duration": 4,
    "start_time": "2022-01-25T09:23:37.033Z"
   },
   {
    "duration": 79,
    "start_time": "2022-01-25T09:23:37.039Z"
   },
   {
    "duration": 4,
    "start_time": "2022-01-25T09:23:45.719Z"
   },
   {
    "duration": 5,
    "start_time": "2022-01-25T09:25:37.193Z"
   },
   {
    "duration": 6,
    "start_time": "2022-01-25T09:27:53.504Z"
   },
   {
    "duration": 7,
    "start_time": "2022-01-25T09:30:22.969Z"
   },
   {
    "duration": 7,
    "start_time": "2022-01-25T09:30:52.663Z"
   },
   {
    "duration": 5,
    "start_time": "2022-01-25T09:30:58.697Z"
   },
   {
    "duration": 4,
    "start_time": "2022-01-25T09:31:14.784Z"
   },
   {
    "duration": 7,
    "start_time": "2022-01-25T11:30:07.769Z"
   },
   {
    "duration": 5,
    "start_time": "2022-01-25T11:32:30.400Z"
   },
   {
    "duration": 5,
    "start_time": "2022-01-25T11:34:08.247Z"
   },
   {
    "duration": 3,
    "start_time": "2022-01-25T11:34:43.647Z"
   },
   {
    "duration": 282,
    "start_time": "2022-01-25T11:52:22.192Z"
   },
   {
    "duration": 661,
    "start_time": "2022-01-25T11:52:48.239Z"
   },
   {
    "duration": 11,
    "start_time": "2022-01-25T11:52:48.902Z"
   },
   {
    "duration": 37,
    "start_time": "2022-01-25T11:52:48.915Z"
   },
   {
    "duration": 36,
    "start_time": "2022-01-25T11:52:48.954Z"
   },
   {
    "duration": 34,
    "start_time": "2022-01-25T11:52:48.992Z"
   },
   {
    "duration": 44,
    "start_time": "2022-01-25T11:52:49.027Z"
   },
   {
    "duration": 36,
    "start_time": "2022-01-25T11:52:49.073Z"
   },
   {
    "duration": 46,
    "start_time": "2022-01-25T11:52:49.111Z"
   },
   {
    "duration": 51,
    "start_time": "2022-01-25T11:52:49.159Z"
   },
   {
    "duration": 33,
    "start_time": "2022-01-25T11:52:49.212Z"
   },
   {
    "duration": 54,
    "start_time": "2022-01-25T11:52:49.246Z"
   },
   {
    "duration": 44,
    "start_time": "2022-01-25T11:52:49.302Z"
   },
   {
    "duration": 60,
    "start_time": "2022-01-25T11:52:49.348Z"
   },
   {
    "duration": 13,
    "start_time": "2022-01-25T11:52:49.410Z"
   },
   {
    "duration": 3623,
    "start_time": "2022-01-25T11:52:49.425Z"
   },
   {
    "duration": 15,
    "start_time": "2022-01-25T11:52:53.050Z"
   },
   {
    "duration": 66,
    "start_time": "2022-01-25T11:52:53.066Z"
   },
   {
    "duration": 3,
    "start_time": "2022-01-25T11:52:53.133Z"
   },
   {
    "duration": 42,
    "start_time": "2022-01-25T11:52:53.138Z"
   },
   {
    "duration": 50,
    "start_time": "2022-01-25T11:52:53.181Z"
   },
   {
    "duration": 10,
    "start_time": "2022-01-25T11:52:53.232Z"
   },
   {
    "duration": 41,
    "start_time": "2022-01-25T11:52:53.244Z"
   },
   {
    "duration": 24,
    "start_time": "2022-01-25T11:53:24.847Z"
   },
   {
    "duration": 5,
    "start_time": "2022-01-25T11:53:55.028Z"
   },
   {
    "duration": 18,
    "start_time": "2022-01-25T11:53:55.278Z"
   },
   {
    "duration": 8037,
    "start_time": "2022-01-25T11:54:29.742Z"
   },
   {
    "duration": 4,
    "start_time": "2022-01-25T11:58:18.149Z"
   },
   {
    "duration": 669,
    "start_time": "2022-01-25T11:58:27.454Z"
   },
   {
    "duration": 11,
    "start_time": "2022-01-25T11:58:28.125Z"
   },
   {
    "duration": 31,
    "start_time": "2022-01-25T11:58:28.138Z"
   },
   {
    "duration": 22,
    "start_time": "2022-01-25T11:58:28.171Z"
   },
   {
    "duration": 27,
    "start_time": "2022-01-25T11:58:28.195Z"
   },
   {
    "duration": 14,
    "start_time": "2022-01-25T11:58:28.224Z"
   },
   {
    "duration": 32,
    "start_time": "2022-01-25T11:58:28.239Z"
   },
   {
    "duration": 26,
    "start_time": "2022-01-25T11:58:28.274Z"
   },
   {
    "duration": 31,
    "start_time": "2022-01-25T11:58:28.302Z"
   },
   {
    "duration": 20,
    "start_time": "2022-01-25T11:58:28.335Z"
   },
   {
    "duration": 47,
    "start_time": "2022-01-25T11:58:28.356Z"
   },
   {
    "duration": 33,
    "start_time": "2022-01-25T11:58:28.405Z"
   },
   {
    "duration": 60,
    "start_time": "2022-01-25T11:58:28.439Z"
   },
   {
    "duration": 7,
    "start_time": "2022-01-25T11:58:28.501Z"
   },
   {
    "duration": 3792,
    "start_time": "2022-01-25T11:58:28.510Z"
   },
   {
    "duration": 6,
    "start_time": "2022-01-25T11:58:32.304Z"
   },
   {
    "duration": 45,
    "start_time": "2022-01-25T11:58:32.311Z"
   },
   {
    "duration": 3,
    "start_time": "2022-01-25T11:58:32.357Z"
   },
   {
    "duration": 6241,
    "start_time": "2022-01-25T11:58:32.361Z"
   },
   {
    "duration": 23,
    "start_time": "2022-01-25T11:58:38.581Z"
   },
   {
    "duration": 23,
    "start_time": "2022-01-25T11:58:38.582Z"
   },
   {
    "duration": 22,
    "start_time": "2022-01-25T11:58:38.585Z"
   },
   {
    "duration": 21,
    "start_time": "2022-01-25T12:00:08.040Z"
   },
   {
    "duration": 26,
    "start_time": "2022-01-25T12:00:16.696Z"
   },
   {
    "duration": 4,
    "start_time": "2022-01-25T12:00:25.124Z"
   },
   {
    "duration": 37,
    "start_time": "2022-01-25T12:00:25.130Z"
   },
   {
    "duration": 23,
    "start_time": "2022-01-25T12:00:39.080Z"
   },
   {
    "duration": 3,
    "start_time": "2022-01-25T12:00:46.873Z"
   },
   {
    "duration": 13,
    "start_time": "2022-01-25T12:00:47.152Z"
   },
   {
    "duration": 4,
    "start_time": "2022-01-25T12:03:42.815Z"
   },
   {
    "duration": 11,
    "start_time": "2022-01-25T12:03:43.270Z"
   },
   {
    "duration": 4,
    "start_time": "2022-01-25T12:04:16.230Z"
   },
   {
    "duration": 11,
    "start_time": "2022-01-25T12:04:16.646Z"
   },
   {
    "duration": -70,
    "start_time": "2022-01-25T12:07:06.632Z"
   },
   {
    "duration": -72,
    "start_time": "2022-01-25T12:07:06.635Z"
   },
   {
    "duration": -87,
    "start_time": "2022-01-25T12:07:06.651Z"
   },
   {
    "duration": 618,
    "start_time": "2022-01-25T12:07:11.906Z"
   },
   {
    "duration": 12,
    "start_time": "2022-01-25T12:07:12.526Z"
   },
   {
    "duration": 46,
    "start_time": "2022-01-25T12:07:12.542Z"
   },
   {
    "duration": 29,
    "start_time": "2022-01-25T12:07:12.590Z"
   },
   {
    "duration": 23,
    "start_time": "2022-01-25T12:07:12.621Z"
   },
   {
    "duration": 28,
    "start_time": "2022-01-25T12:07:12.646Z"
   },
   {
    "duration": 40,
    "start_time": "2022-01-25T12:07:12.677Z"
   },
   {
    "duration": 20,
    "start_time": "2022-01-25T12:07:12.719Z"
   },
   {
    "duration": 35,
    "start_time": "2022-01-25T12:07:12.741Z"
   },
   {
    "duration": 32,
    "start_time": "2022-01-25T12:07:12.778Z"
   },
   {
    "duration": 15,
    "start_time": "2022-01-25T12:07:12.812Z"
   },
   {
    "duration": 35,
    "start_time": "2022-01-25T12:07:12.829Z"
   },
   {
    "duration": 69,
    "start_time": "2022-01-25T12:07:12.866Z"
   },
   {
    "duration": 5,
    "start_time": "2022-01-25T12:07:12.937Z"
   },
   {
    "duration": 3699,
    "start_time": "2022-01-25T12:07:12.944Z"
   },
   {
    "duration": 19,
    "start_time": "2022-01-25T12:07:16.646Z"
   },
   {
    "duration": 33,
    "start_time": "2022-01-25T12:07:16.667Z"
   },
   {
    "duration": 13,
    "start_time": "2022-01-25T12:07:16.703Z"
   },
   {
    "duration": 7011,
    "start_time": "2022-01-25T12:07:16.718Z"
   },
   {
    "duration": -25,
    "start_time": "2022-01-25T12:07:23.756Z"
   },
   {
    "duration": -27,
    "start_time": "2022-01-25T12:07:23.759Z"
   },
   {
    "duration": -29,
    "start_time": "2022-01-25T12:07:23.762Z"
   },
   {
    "duration": -31,
    "start_time": "2022-01-25T12:07:23.764Z"
   },
   {
    "duration": 12,
    "start_time": "2022-01-25T12:07:47.718Z"
   },
   {
    "duration": 11,
    "start_time": "2022-01-25T12:08:17.903Z"
   },
   {
    "duration": 11,
    "start_time": "2022-01-25T12:10:41.630Z"
   },
   {
    "duration": 22,
    "start_time": "2022-01-25T12:53:16.929Z"
   },
   {
    "duration": 3,
    "start_time": "2022-01-25T12:55:02.625Z"
   },
   {
    "duration": 12,
    "start_time": "2022-01-25T12:55:03.406Z"
   },
   {
    "duration": 11,
    "start_time": "2022-01-25T12:55:03.816Z"
   },
   {
    "duration": 5,
    "start_time": "2022-01-25T12:55:51.927Z"
   },
   {
    "duration": 16,
    "start_time": "2022-01-25T12:55:51.934Z"
   },
   {
    "duration": 17,
    "start_time": "2022-01-25T12:55:52.042Z"
   },
   {
    "duration": 15,
    "start_time": "2022-01-25T12:56:11.569Z"
   },
   {
    "duration": 16,
    "start_time": "2022-01-25T12:56:34.921Z"
   },
   {
    "duration": 267,
    "start_time": "2022-01-25T12:58:16.144Z"
   },
   {
    "duration": 250,
    "start_time": "2022-01-25T12:58:26.848Z"
   },
   {
    "duration": 21,
    "start_time": "2022-01-25T12:59:12.024Z"
   },
   {
    "duration": 18,
    "start_time": "2022-01-25T12:59:45.331Z"
   },
   {
    "duration": 19,
    "start_time": "2022-01-25T13:00:04.944Z"
   },
   {
    "duration": 11,
    "start_time": "2022-01-25T13:00:16.616Z"
   },
   {
    "duration": 19,
    "start_time": "2022-01-25T13:00:19.263Z"
   },
   {
    "duration": 11,
    "start_time": "2022-01-25T13:01:05.991Z"
   },
   {
    "duration": 7,
    "start_time": "2022-01-25T13:01:10.344Z"
   },
   {
    "duration": 7,
    "start_time": "2022-01-25T13:01:13.070Z"
   },
   {
    "duration": 12,
    "start_time": "2022-01-25T13:01:15.638Z"
   },
   {
    "duration": 20,
    "start_time": "2022-01-25T13:01:18.183Z"
   },
   {
    "duration": 690,
    "start_time": "2022-01-25T13:01:28.090Z"
   },
   {
    "duration": 12,
    "start_time": "2022-01-25T13:01:28.782Z"
   },
   {
    "duration": 16,
    "start_time": "2022-01-25T13:01:28.796Z"
   },
   {
    "duration": 39,
    "start_time": "2022-01-25T13:01:28.814Z"
   },
   {
    "duration": 47,
    "start_time": "2022-01-25T13:01:28.854Z"
   },
   {
    "duration": 23,
    "start_time": "2022-01-25T13:01:28.902Z"
   },
   {
    "duration": 25,
    "start_time": "2022-01-25T13:01:28.927Z"
   },
   {
    "duration": 36,
    "start_time": "2022-01-25T13:01:28.953Z"
   },
   {
    "duration": 22,
    "start_time": "2022-01-25T13:01:28.992Z"
   },
   {
    "duration": 31,
    "start_time": "2022-01-25T13:01:29.016Z"
   },
   {
    "duration": 44,
    "start_time": "2022-01-25T13:01:29.049Z"
   },
   {
    "duration": 28,
    "start_time": "2022-01-25T13:01:29.095Z"
   },
   {
    "duration": 55,
    "start_time": "2022-01-25T13:01:29.124Z"
   },
   {
    "duration": 19,
    "start_time": "2022-01-25T13:01:29.181Z"
   },
   {
    "duration": 3610,
    "start_time": "2022-01-25T13:01:29.202Z"
   },
   {
    "duration": 5,
    "start_time": "2022-01-25T13:01:32.815Z"
   },
   {
    "duration": 55,
    "start_time": "2022-01-25T13:01:32.822Z"
   },
   {
    "duration": 3,
    "start_time": "2022-01-25T13:01:32.879Z"
   },
   {
    "duration": 32,
    "start_time": "2022-01-25T13:01:32.883Z"
   },
   {
    "duration": 33,
    "start_time": "2022-01-25T13:01:32.917Z"
   },
   {
    "duration": 435,
    "start_time": "2022-01-25T13:01:32.951Z"
   },
   {
    "duration": 3,
    "start_time": "2022-01-25T13:01:33.384Z"
   },
   {
    "duration": 1,
    "start_time": "2022-01-25T13:01:33.387Z"
   },
   {
    "duration": 19,
    "start_time": "2022-01-25T13:01:58.839Z"
   },
   {
    "duration": 27,
    "start_time": "2022-01-25T13:03:05.311Z"
   },
   {
    "duration": 9,
    "start_time": "2022-01-25T14:24:29.295Z"
   },
   {
    "duration": 14,
    "start_time": "2022-01-25T14:24:37.968Z"
   },
   {
    "duration": 20,
    "start_time": "2022-01-25T14:25:02.559Z"
   },
   {
    "duration": 15,
    "start_time": "2022-01-25T14:25:46.864Z"
   },
   {
    "duration": 11,
    "start_time": "2022-01-25T14:36:27.788Z"
   },
   {
    "duration": 12,
    "start_time": "2022-01-25T14:38:15.733Z"
   },
   {
    "duration": 14,
    "start_time": "2022-01-25T14:38:37.181Z"
   },
   {
    "duration": 10,
    "start_time": "2022-01-25T14:38:55.924Z"
   },
   {
    "duration": 5,
    "start_time": "2022-01-25T14:43:15.640Z"
   },
   {
    "duration": 86,
    "start_time": "2022-01-25T14:43:23.146Z"
   },
   {
    "duration": 13,
    "start_time": "2022-01-25T14:43:58.011Z"
   },
   {
    "duration": 12,
    "start_time": "2022-01-25T14:44:43.243Z"
   },
   {
    "duration": 4,
    "start_time": "2022-01-25T14:44:45.789Z"
   },
   {
    "duration": 6380,
    "start_time": "2022-01-25T14:51:39.528Z"
   },
   {
    "duration": 14,
    "start_time": "2022-01-25T14:53:01.273Z"
   },
   {
    "duration": 3,
    "start_time": "2022-01-25T14:53:04.689Z"
   },
   {
    "duration": 6522,
    "start_time": "2022-01-25T14:53:04.922Z"
   },
   {
    "duration": 14,
    "start_time": "2022-01-25T14:57:06.385Z"
   },
   {
    "duration": 18,
    "start_time": "2022-01-25T14:57:29.130Z"
   },
   {
    "duration": 11,
    "start_time": "2022-01-25T14:58:40.689Z"
   },
   {
    "duration": 330,
    "start_time": "2022-01-26T07:12:19.578Z"
   },
   {
    "duration": 284,
    "start_time": "2022-01-26T07:12:33.284Z"
   },
   {
    "duration": 4,
    "start_time": "2022-01-26T07:12:45.091Z"
   },
   {
    "duration": 251,
    "start_time": "2022-01-26T07:12:45.338Z"
   },
   {
    "duration": 265,
    "start_time": "2022-01-26T07:12:52.042Z"
   },
   {
    "duration": 650,
    "start_time": "2022-01-26T07:12:58.375Z"
   },
   {
    "duration": 11,
    "start_time": "2022-01-26T07:12:59.027Z"
   },
   {
    "duration": 13,
    "start_time": "2022-01-26T07:12:59.040Z"
   },
   {
    "duration": 23,
    "start_time": "2022-01-26T07:12:59.054Z"
   },
   {
    "duration": 29,
    "start_time": "2022-01-26T07:12:59.078Z"
   },
   {
    "duration": 17,
    "start_time": "2022-01-26T07:12:59.109Z"
   },
   {
    "duration": 18,
    "start_time": "2022-01-26T07:12:59.128Z"
   },
   {
    "duration": 29,
    "start_time": "2022-01-26T07:12:59.148Z"
   },
   {
    "duration": 15,
    "start_time": "2022-01-26T07:12:59.180Z"
   },
   {
    "duration": 15,
    "start_time": "2022-01-26T07:12:59.197Z"
   },
   {
    "duration": 22,
    "start_time": "2022-01-26T07:12:59.214Z"
   },
   {
    "duration": 36,
    "start_time": "2022-01-26T07:12:59.237Z"
   },
   {
    "duration": 28,
    "start_time": "2022-01-26T07:12:59.275Z"
   },
   {
    "duration": 4,
    "start_time": "2022-01-26T07:12:59.305Z"
   },
   {
    "duration": 3713,
    "start_time": "2022-01-26T07:12:59.311Z"
   },
   {
    "duration": 14,
    "start_time": "2022-01-26T07:13:03.026Z"
   },
   {
    "duration": 8,
    "start_time": "2022-01-26T07:13:03.042Z"
   },
   {
    "duration": 47,
    "start_time": "2022-01-26T07:13:03.061Z"
   },
   {
    "duration": 37,
    "start_time": "2022-01-26T07:13:03.109Z"
   },
   {
    "duration": 7,
    "start_time": "2022-01-26T07:13:03.148Z"
   },
   {
    "duration": 50,
    "start_time": "2022-01-26T07:13:03.157Z"
   },
   {
    "duration": 14,
    "start_time": "2022-01-26T07:13:03.209Z"
   },
   {
    "duration": 46,
    "start_time": "2022-01-26T07:13:03.226Z"
   },
   {
    "duration": 24,
    "start_time": "2022-01-26T07:13:56.405Z"
   },
   {
    "duration": 14,
    "start_time": "2022-01-26T07:20:14.497Z"
   },
   {
    "duration": 21,
    "start_time": "2022-01-26T07:20:48.579Z"
   },
   {
    "duration": 17,
    "start_time": "2022-01-26T07:23:32.624Z"
   },
   {
    "duration": 24,
    "start_time": "2022-01-26T07:24:10.850Z"
   },
   {
    "duration": 23,
    "start_time": "2022-01-26T07:24:20.061Z"
   },
   {
    "duration": 4779,
    "start_time": "2022-01-26T07:25:25.162Z"
   },
   {
    "duration": 4569,
    "start_time": "2022-01-26T07:26:48.433Z"
   },
   {
    "duration": 4687,
    "start_time": "2022-01-26T07:28:27.004Z"
   },
   {
    "duration": 4613,
    "start_time": "2022-01-26T07:28:40.412Z"
   },
   {
    "duration": 9,
    "start_time": "2022-01-26T07:28:50.001Z"
   },
   {
    "duration": 10,
    "start_time": "2022-01-26T07:29:03.825Z"
   },
   {
    "duration": 8,
    "start_time": "2022-01-26T07:29:33.094Z"
   },
   {
    "duration": 8,
    "start_time": "2022-01-26T07:30:05.177Z"
   },
   {
    "duration": 81,
    "start_time": "2022-01-26T07:30:11.504Z"
   },
   {
    "duration": 21,
    "start_time": "2022-01-26T07:31:10.970Z"
   },
   {
    "duration": 279,
    "start_time": "2022-01-26T07:31:53.959Z"
   },
   {
    "duration": 246,
    "start_time": "2022-01-26T07:31:58.002Z"
   },
   {
    "duration": 268,
    "start_time": "2022-01-26T07:32:06.809Z"
   },
   {
    "duration": 5,
    "start_time": "2022-01-26T07:32:40.728Z"
   },
   {
    "duration": 6309,
    "start_time": "2022-01-26T07:32:59.896Z"
   },
   {
    "duration": 697,
    "start_time": "2022-01-26T07:33:14.303Z"
   },
   {
    "duration": 12,
    "start_time": "2022-01-26T07:33:15.002Z"
   },
   {
    "duration": 28,
    "start_time": "2022-01-26T07:33:15.016Z"
   },
   {
    "duration": 12,
    "start_time": "2022-01-26T07:33:15.047Z"
   },
   {
    "duration": 47,
    "start_time": "2022-01-26T07:33:15.062Z"
   },
   {
    "duration": 139,
    "start_time": "2022-01-26T07:33:15.117Z"
   },
   {
    "duration": 113,
    "start_time": "2022-01-26T07:33:15.259Z"
   },
   {
    "duration": 42,
    "start_time": "2022-01-26T07:33:15.379Z"
   },
   {
    "duration": 62,
    "start_time": "2022-01-26T07:33:15.424Z"
   },
   {
    "duration": 38,
    "start_time": "2022-01-26T07:33:15.489Z"
   },
   {
    "duration": 80,
    "start_time": "2022-01-26T07:33:15.529Z"
   },
   {
    "duration": 111,
    "start_time": "2022-01-26T07:33:15.612Z"
   },
   {
    "duration": 76,
    "start_time": "2022-01-26T07:33:15.726Z"
   },
   {
    "duration": 8,
    "start_time": "2022-01-26T07:33:15.804Z"
   },
   {
    "duration": 3823,
    "start_time": "2022-01-26T07:33:15.813Z"
   },
   {
    "duration": 38,
    "start_time": "2022-01-26T07:33:19.638Z"
   },
   {
    "duration": 3,
    "start_time": "2022-01-26T07:33:19.679Z"
   },
   {
    "duration": 17,
    "start_time": "2022-01-26T07:33:19.684Z"
   },
   {
    "duration": 23,
    "start_time": "2022-01-26T07:33:19.702Z"
   },
   {
    "duration": 324,
    "start_time": "2022-01-26T07:33:19.727Z"
   },
   {
    "duration": -47,
    "start_time": "2022-01-26T07:33:20.100Z"
   },
   {
    "duration": -51,
    "start_time": "2022-01-26T07:33:20.105Z"
   },
   {
    "duration": -53,
    "start_time": "2022-01-26T07:33:20.108Z"
   },
   {
    "duration": -61,
    "start_time": "2022-01-26T07:33:20.117Z"
   },
   {
    "duration": -62,
    "start_time": "2022-01-26T07:33:20.119Z"
   },
   {
    "duration": -64,
    "start_time": "2022-01-26T07:33:20.121Z"
   },
   {
    "duration": 5311,
    "start_time": "2022-01-26T07:33:40.664Z"
   },
   {
    "duration": 13,
    "start_time": "2022-01-26T07:33:56.418Z"
   },
   {
    "duration": 8,
    "start_time": "2022-01-26T07:34:12.097Z"
   },
   {
    "duration": 251,
    "start_time": "2022-01-26T07:53:56.213Z"
   },
   {
    "duration": 9,
    "start_time": "2022-01-26T07:54:03.652Z"
   },
   {
    "duration": 19,
    "start_time": "2022-01-26T07:58:07.900Z"
   },
   {
    "duration": 21,
    "start_time": "2022-01-26T07:58:20.804Z"
   },
   {
    "duration": 4,
    "start_time": "2022-01-26T07:58:23.589Z"
   },
   {
    "duration": 19,
    "start_time": "2022-01-26T07:58:29.251Z"
   },
   {
    "duration": 4,
    "start_time": "2022-01-26T07:58:55.636Z"
   },
   {
    "duration": 11,
    "start_time": "2022-01-26T07:58:57.212Z"
   },
   {
    "duration": 12,
    "start_time": "2022-01-26T07:59:11.828Z"
   },
   {
    "duration": 303,
    "start_time": "2022-01-26T08:00:44.948Z"
   },
   {
    "duration": 9,
    "start_time": "2022-01-26T08:01:43.539Z"
   },
   {
    "duration": 24,
    "start_time": "2022-01-26T08:03:31.611Z"
   },
   {
    "duration": 43,
    "start_time": "2022-01-26T08:03:51.635Z"
   },
   {
    "duration": 21,
    "start_time": "2022-01-26T08:04:07.915Z"
   },
   {
    "duration": 4,
    "start_time": "2022-01-26T08:04:16.578Z"
   },
   {
    "duration": 6269,
    "start_time": "2022-01-26T08:04:25.275Z"
   },
   {
    "duration": 13,
    "start_time": "2022-01-26T08:05:35.275Z"
   },
   {
    "duration": 242,
    "start_time": "2022-01-26T08:08:46.570Z"
   },
   {
    "duration": 21,
    "start_time": "2022-01-26T08:09:16.147Z"
   },
   {
    "duration": 4574,
    "start_time": "2022-01-26T08:10:41.577Z"
   },
   {
    "duration": 84,
    "start_time": "2022-01-26T08:11:10.962Z"
   },
   {
    "duration": 8,
    "start_time": "2022-01-26T08:11:14.613Z"
   },
   {
    "duration": 21,
    "start_time": "2022-01-26T08:26:27.975Z"
   },
   {
    "duration": 14,
    "start_time": "2022-01-26T08:28:19.123Z"
   },
   {
    "duration": 62,
    "start_time": "2022-01-26T08:30:03.279Z"
   },
   {
    "duration": 59,
    "start_time": "2022-01-26T08:30:22.099Z"
   },
   {
    "duration": 17,
    "start_time": "2022-01-26T08:32:46.901Z"
   },
   {
    "duration": 19,
    "start_time": "2022-01-26T08:33:32.957Z"
   },
   {
    "duration": 6,
    "start_time": "2022-01-26T08:33:50.836Z"
   },
   {
    "duration": 18,
    "start_time": "2022-01-26T08:34:03.348Z"
   },
   {
    "duration": 7,
    "start_time": "2022-01-26T08:35:43.141Z"
   },
   {
    "duration": 24,
    "start_time": "2022-01-26T08:35:59.494Z"
   },
   {
    "duration": 24,
    "start_time": "2022-01-26T08:36:43.491Z"
   },
   {
    "duration": 354,
    "start_time": "2022-01-26T08:37:22.204Z"
   },
   {
    "duration": 303,
    "start_time": "2022-01-26T08:38:24.651Z"
   },
   {
    "duration": 18,
    "start_time": "2022-01-26T08:41:15.394Z"
   },
   {
    "duration": 19,
    "start_time": "2022-01-26T08:44:11.810Z"
   },
   {
    "duration": 8,
    "start_time": "2022-01-26T08:46:40.402Z"
   },
   {
    "duration": 709,
    "start_time": "2022-01-26T11:43:14.437Z"
   },
   {
    "duration": 12,
    "start_time": "2022-01-26T11:43:19.772Z"
   },
   {
    "duration": 10,
    "start_time": "2022-01-26T11:43:28.877Z"
   },
   {
    "duration": 13,
    "start_time": "2022-01-26T11:44:33.766Z"
   },
   {
    "duration": 10,
    "start_time": "2022-01-26T11:44:40.597Z"
   },
   {
    "duration": 7,
    "start_time": "2022-01-26T11:44:54.139Z"
   },
   {
    "duration": 16,
    "start_time": "2022-01-26T11:44:54.605Z"
   },
   {
    "duration": 5,
    "start_time": "2022-01-26T11:44:59.533Z"
   },
   {
    "duration": 10,
    "start_time": "2022-01-26T11:45:00.077Z"
   },
   {
    "duration": 715,
    "start_time": "2022-01-26T11:46:08.744Z"
   },
   {
    "duration": 20,
    "start_time": "2022-01-26T11:46:09.462Z"
   },
   {
    "duration": 15,
    "start_time": "2022-01-26T11:46:09.484Z"
   },
   {
    "duration": 9,
    "start_time": "2022-01-26T11:46:09.501Z"
   },
   {
    "duration": 14,
    "start_time": "2022-01-26T11:46:09.512Z"
   },
   {
    "duration": 7,
    "start_time": "2022-01-26T11:46:09.528Z"
   },
   {
    "duration": 25,
    "start_time": "2022-01-26T11:46:09.536Z"
   },
   {
    "duration": 22,
    "start_time": "2022-01-26T11:46:09.566Z"
   },
   {
    "duration": 18,
    "start_time": "2022-01-26T11:46:09.590Z"
   },
   {
    "duration": 17,
    "start_time": "2022-01-26T11:46:09.610Z"
   },
   {
    "duration": 43,
    "start_time": "2022-01-26T11:46:09.628Z"
   },
   {
    "duration": 20,
    "start_time": "2022-01-26T11:46:09.673Z"
   },
   {
    "duration": 28,
    "start_time": "2022-01-26T11:46:09.694Z"
   },
   {
    "duration": 15,
    "start_time": "2022-01-26T11:46:09.724Z"
   },
   {
    "duration": 27,
    "start_time": "2022-01-26T11:46:09.741Z"
   },
   {
    "duration": 3980,
    "start_time": "2022-01-26T11:46:09.770Z"
   },
   {
    "duration": 36,
    "start_time": "2022-01-26T11:46:13.752Z"
   },
   {
    "duration": 24,
    "start_time": "2022-01-26T11:46:13.789Z"
   },
   {
    "duration": 33,
    "start_time": "2022-01-26T11:46:13.815Z"
   },
   {
    "duration": 44,
    "start_time": "2022-01-26T11:46:13.850Z"
   },
   {
    "duration": 24,
    "start_time": "2022-01-26T11:46:13.895Z"
   },
   {
    "duration": 23,
    "start_time": "2022-01-26T11:46:13.920Z"
   },
   {
    "duration": 32,
    "start_time": "2022-01-26T11:46:13.945Z"
   },
   {
    "duration": 10,
    "start_time": "2022-01-26T11:46:13.979Z"
   },
   {
    "duration": 40,
    "start_time": "2022-01-26T11:46:13.991Z"
   },
   {
    "duration": 3,
    "start_time": "2022-01-26T11:46:14.033Z"
   },
   {
    "duration": 39,
    "start_time": "2022-01-26T11:46:14.038Z"
   },
   {
    "duration": 51,
    "start_time": "2022-01-26T11:46:14.078Z"
   },
   {
    "duration": 13,
    "start_time": "2022-01-26T11:46:14.131Z"
   },
   {
    "duration": 300,
    "start_time": "2022-01-26T11:50:11.261Z"
   },
   {
    "duration": 360,
    "start_time": "2022-01-26T14:29:17.245Z"
   },
   {
    "duration": 679,
    "start_time": "2022-01-26T14:29:27.699Z"
   },
   {
    "duration": 9,
    "start_time": "2022-01-26T14:29:28.380Z"
   },
   {
    "duration": 9,
    "start_time": "2022-01-26T14:29:28.391Z"
   },
   {
    "duration": 7,
    "start_time": "2022-01-26T14:29:28.402Z"
   },
   {
    "duration": 19,
    "start_time": "2022-01-26T14:29:28.411Z"
   },
   {
    "duration": 5,
    "start_time": "2022-01-26T14:29:28.431Z"
   },
   {
    "duration": 14,
    "start_time": "2022-01-26T14:29:28.437Z"
   },
   {
    "duration": 14,
    "start_time": "2022-01-26T14:29:28.453Z"
   },
   {
    "duration": 16,
    "start_time": "2022-01-26T14:29:28.470Z"
   },
   {
    "duration": 57,
    "start_time": "2022-01-26T14:29:28.488Z"
   },
   {
    "duration": 71,
    "start_time": "2022-01-26T14:29:28.555Z"
   },
   {
    "duration": 91,
    "start_time": "2022-01-26T14:29:28.643Z"
   },
   {
    "duration": 112,
    "start_time": "2022-01-26T14:29:28.746Z"
   },
   {
    "duration": 38,
    "start_time": "2022-01-26T14:29:28.864Z"
   },
   {
    "duration": 134,
    "start_time": "2022-01-26T14:29:28.908Z"
   },
   {
    "duration": 3819,
    "start_time": "2022-01-26T14:29:29.048Z"
   },
   {
    "duration": 30,
    "start_time": "2022-01-26T14:29:32.869Z"
   },
   {
    "duration": 3,
    "start_time": "2022-01-26T14:29:32.901Z"
   },
   {
    "duration": 34,
    "start_time": "2022-01-26T14:29:32.906Z"
   },
   {
    "duration": 27,
    "start_time": "2022-01-26T14:29:32.943Z"
   },
   {
    "duration": 18,
    "start_time": "2022-01-26T14:29:32.972Z"
   },
   {
    "duration": 36,
    "start_time": "2022-01-26T14:29:32.992Z"
   },
   {
    "duration": 17,
    "start_time": "2022-01-26T14:29:33.032Z"
   },
   {
    "duration": 8,
    "start_time": "2022-01-26T14:29:33.051Z"
   },
   {
    "duration": 22,
    "start_time": "2022-01-26T14:29:33.061Z"
   },
   {
    "duration": 3,
    "start_time": "2022-01-26T14:29:33.084Z"
   },
   {
    "duration": 40,
    "start_time": "2022-01-26T14:29:33.089Z"
   },
   {
    "duration": 19,
    "start_time": "2022-01-26T14:29:33.131Z"
   },
   {
    "duration": 8,
    "start_time": "2022-01-26T14:29:33.152Z"
   },
   {
    "duration": 17,
    "start_time": "2022-01-26T14:29:54.139Z"
   },
   {
    "duration": 54,
    "start_time": "2022-01-26T14:29:57.779Z"
   },
   {
    "duration": 11,
    "start_time": "2022-01-26T14:29:59.018Z"
   },
   {
    "duration": 12,
    "start_time": "2022-01-26T14:30:04.226Z"
   },
   {
    "duration": 5,
    "start_time": "2022-01-26T14:30:05.850Z"
   },
   {
    "duration": 9,
    "start_time": "2022-01-26T14:30:06.682Z"
   },
   {
    "duration": 4,
    "start_time": "2022-01-26T14:32:50.586Z"
   },
   {
    "duration": 6,
    "start_time": "2022-01-26T14:33:08.508Z"
   },
   {
    "duration": 5,
    "start_time": "2022-01-26T14:33:20.130Z"
   },
   {
    "duration": 8325,
    "start_time": "2022-01-26T14:33:37.700Z"
   },
   {
    "duration": 114,
    "start_time": "2022-01-26T14:33:47.960Z"
   },
   {
    "duration": 9,
    "start_time": "2022-01-26T14:34:06.513Z"
   },
   {
    "duration": 679,
    "start_time": "2022-01-26T14:38:51.320Z"
   },
   {
    "duration": 11,
    "start_time": "2022-01-26T14:38:52.001Z"
   },
   {
    "duration": 8,
    "start_time": "2022-01-26T14:38:52.015Z"
   },
   {
    "duration": 6,
    "start_time": "2022-01-26T14:38:52.028Z"
   },
   {
    "duration": 9,
    "start_time": "2022-01-26T14:38:52.036Z"
   },
   {
    "duration": 4,
    "start_time": "2022-01-26T14:38:52.047Z"
   },
   {
    "duration": 10,
    "start_time": "2022-01-26T14:38:52.053Z"
   },
   {
    "duration": 14,
    "start_time": "2022-01-26T14:38:52.066Z"
   },
   {
    "duration": 59,
    "start_time": "2022-01-26T14:38:52.083Z"
   },
   {
    "duration": 17,
    "start_time": "2022-01-26T14:38:52.143Z"
   },
   {
    "duration": 17,
    "start_time": "2022-01-26T14:38:52.162Z"
   },
   {
    "duration": 12,
    "start_time": "2022-01-26T14:38:52.181Z"
   },
   {
    "duration": 56,
    "start_time": "2022-01-26T14:38:52.195Z"
   },
   {
    "duration": 16,
    "start_time": "2022-01-26T14:38:52.253Z"
   },
   {
    "duration": 5,
    "start_time": "2022-01-26T14:38:52.271Z"
   },
   {
    "duration": 3555,
    "start_time": "2022-01-26T14:38:52.278Z"
   },
   {
    "duration": 21,
    "start_time": "2022-01-26T14:38:55.834Z"
   },
   {
    "duration": 3,
    "start_time": "2022-01-26T14:38:55.856Z"
   },
   {
    "duration": 11,
    "start_time": "2022-01-26T14:38:55.861Z"
   },
   {
    "duration": 20,
    "start_time": "2022-01-26T14:38:55.874Z"
   },
   {
    "duration": 42,
    "start_time": "2022-01-26T14:38:55.895Z"
   },
   {
    "duration": 18,
    "start_time": "2022-01-26T14:38:55.939Z"
   },
   {
    "duration": 16,
    "start_time": "2022-01-26T14:38:55.960Z"
   },
   {
    "duration": 7,
    "start_time": "2022-01-26T14:38:55.977Z"
   },
   {
    "duration": 44,
    "start_time": "2022-01-26T14:38:55.986Z"
   },
   {
    "duration": 3,
    "start_time": "2022-01-26T14:38:56.032Z"
   },
   {
    "duration": 14,
    "start_time": "2022-01-26T14:38:56.036Z"
   },
   {
    "duration": 21,
    "start_time": "2022-01-26T14:38:56.051Z"
   },
   {
    "duration": 8,
    "start_time": "2022-01-26T14:38:56.073Z"
   },
   {
    "duration": 5701,
    "start_time": "2022-01-26T14:45:11.516Z"
   },
   {
    "duration": 671,
    "start_time": "2022-01-26T14:45:32.791Z"
   },
   {
    "duration": 10,
    "start_time": "2022-01-26T14:45:33.464Z"
   },
   {
    "duration": 9,
    "start_time": "2022-01-26T14:45:33.476Z"
   },
   {
    "duration": 5,
    "start_time": "2022-01-26T14:45:33.488Z"
   },
   {
    "duration": 9,
    "start_time": "2022-01-26T14:45:33.495Z"
   },
   {
    "duration": 5,
    "start_time": "2022-01-26T14:45:33.527Z"
   },
   {
    "duration": 12,
    "start_time": "2022-01-26T14:45:33.533Z"
   },
   {
    "duration": 14,
    "start_time": "2022-01-26T14:45:33.547Z"
   },
   {
    "duration": 17,
    "start_time": "2022-01-26T14:45:33.563Z"
   },
   {
    "duration": 15,
    "start_time": "2022-01-26T14:45:33.581Z"
   },
   {
    "duration": 43,
    "start_time": "2022-01-26T14:45:33.598Z"
   },
   {
    "duration": 10,
    "start_time": "2022-01-26T14:45:33.643Z"
   },
   {
    "duration": 29,
    "start_time": "2022-01-26T14:45:33.655Z"
   },
   {
    "duration": 14,
    "start_time": "2022-01-26T14:45:33.686Z"
   },
   {
    "duration": 7,
    "start_time": "2022-01-26T14:45:33.701Z"
   },
   {
    "duration": 3331,
    "start_time": "2022-01-26T14:45:33.727Z"
   },
   {
    "duration": 20,
    "start_time": "2022-01-26T14:45:37.060Z"
   },
   {
    "duration": 2,
    "start_time": "2022-01-26T14:45:37.082Z"
   },
   {
    "duration": 13,
    "start_time": "2022-01-26T14:45:37.085Z"
   },
   {
    "duration": 38,
    "start_time": "2022-01-26T14:45:37.099Z"
   },
   {
    "duration": 13,
    "start_time": "2022-01-26T14:45:37.139Z"
   },
   {
    "duration": 19,
    "start_time": "2022-01-26T14:45:37.154Z"
   },
   {
    "duration": 17,
    "start_time": "2022-01-26T14:45:37.176Z"
   },
   {
    "duration": 36,
    "start_time": "2022-01-26T14:45:37.195Z"
   },
   {
    "duration": 21,
    "start_time": "2022-01-26T14:45:37.233Z"
   },
   {
    "duration": 3,
    "start_time": "2022-01-26T14:45:37.256Z"
   },
   {
    "duration": 12,
    "start_time": "2022-01-26T14:45:37.261Z"
   },
   {
    "duration": 24,
    "start_time": "2022-01-26T14:45:37.275Z"
   },
   {
    "duration": 33,
    "start_time": "2022-01-26T14:45:37.301Z"
   },
   {
    "duration": 3405,
    "start_time": "2022-01-26T14:45:37.336Z"
   },
   {
    "duration": 338,
    "start_time": "2022-01-26T14:53:48.003Z"
   },
   {
    "duration": 692,
    "start_time": "2022-01-26T14:53:54.744Z"
   },
   {
    "duration": 13,
    "start_time": "2022-01-26T14:53:55.438Z"
   },
   {
    "duration": 80,
    "start_time": "2022-01-26T14:53:55.453Z"
   },
   {
    "duration": 69,
    "start_time": "2022-01-26T14:53:55.535Z"
   },
   {
    "duration": 80,
    "start_time": "2022-01-26T14:53:55.606Z"
   },
   {
    "duration": 88,
    "start_time": "2022-01-26T14:53:55.688Z"
   },
   {
    "duration": 83,
    "start_time": "2022-01-26T14:53:55.778Z"
   },
   {
    "duration": 63,
    "start_time": "2022-01-26T14:53:55.863Z"
   },
   {
    "duration": 40,
    "start_time": "2022-01-26T14:53:55.929Z"
   },
   {
    "duration": 70,
    "start_time": "2022-01-26T14:53:55.972Z"
   },
   {
    "duration": 68,
    "start_time": "2022-01-26T14:53:56.044Z"
   },
   {
    "duration": 31,
    "start_time": "2022-01-26T14:53:56.113Z"
   },
   {
    "duration": 51,
    "start_time": "2022-01-26T14:53:56.146Z"
   },
   {
    "duration": 27,
    "start_time": "2022-01-26T14:53:56.199Z"
   },
   {
    "duration": 31,
    "start_time": "2022-01-26T14:53:56.229Z"
   },
   {
    "duration": 3690,
    "start_time": "2022-01-26T14:53:56.262Z"
   },
   {
    "duration": 946,
    "start_time": "2022-01-26T14:53:59.954Z"
   },
   {
    "duration": 63,
    "start_time": "2022-01-26T14:54:00.839Z"
   },
   {
    "duration": 62,
    "start_time": "2022-01-26T14:54:00.841Z"
   },
   {
    "duration": 60,
    "start_time": "2022-01-26T14:54:00.844Z"
   },
   {
    "duration": 59,
    "start_time": "2022-01-26T14:54:00.846Z"
   },
   {
    "duration": 57,
    "start_time": "2022-01-26T14:54:00.848Z"
   },
   {
    "duration": 55,
    "start_time": "2022-01-26T14:54:00.851Z"
   },
   {
    "duration": 52,
    "start_time": "2022-01-26T14:54:00.855Z"
   },
   {
    "duration": 44,
    "start_time": "2022-01-26T14:54:00.864Z"
   },
   {
    "duration": 41,
    "start_time": "2022-01-26T14:54:00.867Z"
   },
   {
    "duration": 39,
    "start_time": "2022-01-26T14:54:00.870Z"
   },
   {
    "duration": 37,
    "start_time": "2022-01-26T14:54:00.873Z"
   },
   {
    "duration": 35,
    "start_time": "2022-01-26T14:54:00.876Z"
   },
   {
    "duration": 34,
    "start_time": "2022-01-26T14:54:00.878Z"
   },
   {
    "duration": 33,
    "start_time": "2022-01-26T14:54:00.880Z"
   },
   {
    "duration": 58,
    "start_time": "2022-01-26T14:56:01.633Z"
   },
   {
    "duration": 23,
    "start_time": "2022-01-26T14:56:37.656Z"
   },
   {
    "duration": 955,
    "start_time": "2022-01-26T14:59:00.243Z"
   },
   {
    "duration": 9,
    "start_time": "2022-01-26T14:59:01.200Z"
   },
   {
    "duration": 9,
    "start_time": "2022-01-26T14:59:01.211Z"
   },
   {
    "duration": 16,
    "start_time": "2022-01-26T14:59:01.221Z"
   },
   {
    "duration": 11,
    "start_time": "2022-01-26T14:59:01.239Z"
   },
   {
    "duration": 13,
    "start_time": "2022-01-26T14:59:01.252Z"
   },
   {
    "duration": 14,
    "start_time": "2022-01-26T14:59:01.266Z"
   },
   {
    "duration": 13,
    "start_time": "2022-01-26T14:59:01.282Z"
   },
   {
    "duration": 16,
    "start_time": "2022-01-26T14:59:01.297Z"
   },
   {
    "duration": 23,
    "start_time": "2022-01-26T14:59:01.315Z"
   },
   {
    "duration": 24,
    "start_time": "2022-01-26T14:59:01.339Z"
   },
   {
    "duration": 17,
    "start_time": "2022-01-26T14:59:01.365Z"
   },
   {
    "duration": 48,
    "start_time": "2022-01-26T14:59:01.384Z"
   },
   {
    "duration": 14,
    "start_time": "2022-01-26T14:59:01.433Z"
   },
   {
    "duration": 6,
    "start_time": "2022-01-26T14:59:01.449Z"
   },
   {
    "duration": 3549,
    "start_time": "2022-01-26T14:59:01.456Z"
   },
   {
    "duration": 31,
    "start_time": "2022-01-26T14:59:05.007Z"
   },
   {
    "duration": 22,
    "start_time": "2022-01-26T14:59:05.040Z"
   },
   {
    "duration": 4,
    "start_time": "2022-01-26T14:59:05.064Z"
   },
   {
    "duration": 16,
    "start_time": "2022-01-26T14:59:05.069Z"
   },
   {
    "duration": 41,
    "start_time": "2022-01-26T14:59:05.086Z"
   },
   {
    "duration": 13,
    "start_time": "2022-01-26T14:59:05.129Z"
   },
   {
    "duration": 18,
    "start_time": "2022-01-26T14:59:05.144Z"
   },
   {
    "duration": 15,
    "start_time": "2022-01-26T14:59:05.163Z"
   },
   {
    "duration": 6,
    "start_time": "2022-01-26T14:59:05.180Z"
   },
   {
    "duration": 46,
    "start_time": "2022-01-26T14:59:05.188Z"
   },
   {
    "duration": 3,
    "start_time": "2022-01-26T14:59:05.237Z"
   },
   {
    "duration": 14,
    "start_time": "2022-01-26T14:59:05.241Z"
   },
   {
    "duration": 20,
    "start_time": "2022-01-26T14:59:05.257Z"
   },
   {
    "duration": 7,
    "start_time": "2022-01-26T14:59:05.278Z"
   },
   {
    "duration": 5,
    "start_time": "2022-01-26T14:59:05.287Z"
   },
   {
    "duration": 22,
    "start_time": "2022-01-26T14:59:45.768Z"
   },
   {
    "duration": 25,
    "start_time": "2022-01-26T14:59:52.240Z"
   },
   {
    "duration": 375,
    "start_time": "2022-01-26T15:08:14.478Z"
   },
   {
    "duration": 4,
    "start_time": "2022-01-26T15:08:20.397Z"
   },
   {
    "duration": 15,
    "start_time": "2022-01-26T15:08:20.893Z"
   },
   {
    "duration": 21,
    "start_time": "2022-01-26T15:10:27.685Z"
   },
   {
    "duration": 19,
    "start_time": "2022-01-26T15:10:36.163Z"
   },
   {
    "duration": 323,
    "start_time": "2022-01-27T08:43:19.694Z"
   },
   {
    "duration": 283,
    "start_time": "2022-01-27T08:43:25.976Z"
   },
   {
    "duration": 262,
    "start_time": "2022-01-27T08:43:26.384Z"
   },
   {
    "duration": 4,
    "start_time": "2022-01-27T08:43:38.686Z"
   },
   {
    "duration": 305,
    "start_time": "2022-01-27T08:43:40.933Z"
   },
   {
    "duration": 739,
    "start_time": "2022-01-27T08:43:46.952Z"
   },
   {
    "duration": 11,
    "start_time": "2022-01-27T08:43:47.693Z"
   },
   {
    "duration": 9,
    "start_time": "2022-01-27T08:43:47.706Z"
   },
   {
    "duration": 6,
    "start_time": "2022-01-27T08:43:47.717Z"
   },
   {
    "duration": 9,
    "start_time": "2022-01-27T08:43:47.724Z"
   },
   {
    "duration": 7,
    "start_time": "2022-01-27T08:43:47.761Z"
   },
   {
    "duration": 44,
    "start_time": "2022-01-27T08:43:47.773Z"
   },
   {
    "duration": 30,
    "start_time": "2022-01-27T08:43:47.819Z"
   },
   {
    "duration": 41,
    "start_time": "2022-01-27T08:43:47.852Z"
   },
   {
    "duration": 46,
    "start_time": "2022-01-27T08:43:47.895Z"
   },
   {
    "duration": 16,
    "start_time": "2022-01-27T08:43:47.943Z"
   },
   {
    "duration": 35,
    "start_time": "2022-01-27T08:43:47.963Z"
   },
   {
    "duration": 59,
    "start_time": "2022-01-27T08:43:48.000Z"
   },
   {
    "duration": 69,
    "start_time": "2022-01-27T08:43:48.061Z"
   },
   {
    "duration": 32,
    "start_time": "2022-01-27T08:43:48.131Z"
   },
   {
    "duration": 4046,
    "start_time": "2022-01-27T08:43:48.165Z"
   },
   {
    "duration": 25,
    "start_time": "2022-01-27T08:43:52.213Z"
   },
   {
    "duration": 40,
    "start_time": "2022-01-27T08:43:52.240Z"
   },
   {
    "duration": 8,
    "start_time": "2022-01-27T08:43:52.283Z"
   },
   {
    "duration": 37,
    "start_time": "2022-01-27T08:43:52.294Z"
   },
   {
    "duration": 56,
    "start_time": "2022-01-27T08:43:52.333Z"
   },
   {
    "duration": 22,
    "start_time": "2022-01-27T08:43:52.391Z"
   },
   {
    "duration": 24,
    "start_time": "2022-01-27T08:43:52.415Z"
   },
   {
    "duration": 34,
    "start_time": "2022-01-27T08:43:52.441Z"
   },
   {
    "duration": 21,
    "start_time": "2022-01-27T08:43:52.481Z"
   },
   {
    "duration": 44,
    "start_time": "2022-01-27T08:43:52.504Z"
   },
   {
    "duration": 9,
    "start_time": "2022-01-27T08:43:52.552Z"
   },
   {
    "duration": 35,
    "start_time": "2022-01-27T08:43:52.563Z"
   },
   {
    "duration": 35,
    "start_time": "2022-01-27T08:43:52.600Z"
   },
   {
    "duration": 12,
    "start_time": "2022-01-27T08:43:52.636Z"
   },
   {
    "duration": 38,
    "start_time": "2022-01-27T08:43:52.650Z"
   },
   {
    "duration": 35,
    "start_time": "2022-01-27T08:43:52.690Z"
   },
   {
    "duration": 61,
    "start_time": "2022-01-27T08:43:52.727Z"
   },
   {
    "duration": 29,
    "start_time": "2022-01-27T08:43:52.790Z"
   },
   {
    "duration": 359,
    "start_time": "2022-01-28T06:48:39.689Z"
   },
   {
    "duration": 943,
    "start_time": "2022-01-28T06:48:47.726Z"
   },
   {
    "duration": 15,
    "start_time": "2022-01-28T06:48:48.675Z"
   },
   {
    "duration": 47,
    "start_time": "2022-01-28T06:48:48.693Z"
   },
   {
    "duration": 10,
    "start_time": "2022-01-28T06:48:48.743Z"
   },
   {
    "duration": 15,
    "start_time": "2022-01-28T06:48:48.756Z"
   },
   {
    "duration": 8,
    "start_time": "2022-01-28T06:48:48.773Z"
   },
   {
    "duration": 51,
    "start_time": "2022-01-28T06:48:48.785Z"
   },
   {
    "duration": 29,
    "start_time": "2022-01-28T06:48:48.839Z"
   },
   {
    "duration": 56,
    "start_time": "2022-01-28T06:48:48.871Z"
   },
   {
    "duration": 27,
    "start_time": "2022-01-28T06:48:48.930Z"
   },
   {
    "duration": 22,
    "start_time": "2022-01-28T06:48:48.960Z"
   },
   {
    "duration": 56,
    "start_time": "2022-01-28T06:48:48.986Z"
   },
   {
    "duration": 37,
    "start_time": "2022-01-28T06:48:49.045Z"
   },
   {
    "duration": 10,
    "start_time": "2022-01-28T06:48:49.085Z"
   },
   {
    "duration": 59,
    "start_time": "2022-01-28T06:48:49.098Z"
   },
   {
    "duration": 11,
    "start_time": "2022-01-28T06:48:49.160Z"
   },
   {
    "duration": 6116,
    "start_time": "2022-01-28T06:48:49.174Z"
   },
   {
    "duration": 75,
    "start_time": "2022-01-28T06:48:55.294Z"
   },
   {
    "duration": 56,
    "start_time": "2022-01-28T06:48:55.372Z"
   },
   {
    "duration": 4,
    "start_time": "2022-01-28T06:48:55.430Z"
   },
   {
    "duration": 18,
    "start_time": "2022-01-28T06:48:55.437Z"
   },
   {
    "duration": 68,
    "start_time": "2022-01-28T06:48:55.461Z"
   },
   {
    "duration": 23,
    "start_time": "2022-01-28T06:48:55.532Z"
   },
   {
    "duration": 65,
    "start_time": "2022-01-28T06:48:55.558Z"
   },
   {
    "duration": 30,
    "start_time": "2022-01-28T06:48:55.626Z"
   },
   {
    "duration": 13,
    "start_time": "2022-01-28T06:48:55.658Z"
   },
   {
    "duration": 66,
    "start_time": "2022-01-28T06:48:55.673Z"
   },
   {
    "duration": 4,
    "start_time": "2022-01-28T06:48:55.742Z"
   },
   {
    "duration": 20,
    "start_time": "2022-01-28T06:48:55.749Z"
   },
   {
    "duration": 61,
    "start_time": "2022-01-28T06:48:55.771Z"
   },
   {
    "duration": 12,
    "start_time": "2022-01-28T06:48:55.836Z"
   },
   {
    "duration": 8,
    "start_time": "2022-01-28T06:48:55.851Z"
   },
   {
    "duration": 27,
    "start_time": "2022-01-28T06:48:55.862Z"
   },
   {
    "duration": 66,
    "start_time": "2022-01-28T06:48:55.891Z"
   },
   {
    "duration": 12,
    "start_time": "2022-01-28T06:48:55.960Z"
   },
   {
    "duration": 7,
    "start_time": "2022-01-28T06:52:43.883Z"
   },
   {
    "duration": 13,
    "start_time": "2022-01-28T06:53:23.655Z"
   },
   {
    "duration": 815,
    "start_time": "2022-01-28T06:54:23.752Z"
   },
   {
    "duration": 16,
    "start_time": "2022-01-28T06:54:24.569Z"
   },
   {
    "duration": 13,
    "start_time": "2022-01-28T06:54:24.588Z"
   },
   {
    "duration": 8,
    "start_time": "2022-01-28T06:54:24.624Z"
   },
   {
    "duration": 13,
    "start_time": "2022-01-28T06:54:24.635Z"
   },
   {
    "duration": 5,
    "start_time": "2022-01-28T06:54:24.651Z"
   },
   {
    "duration": 64,
    "start_time": "2022-01-28T06:54:24.659Z"
   },
   {
    "duration": 24,
    "start_time": "2022-01-28T06:54:24.726Z"
   },
   {
    "duration": 34,
    "start_time": "2022-01-28T06:54:24.755Z"
   },
   {
    "duration": 57,
    "start_time": "2022-01-28T06:54:24.794Z"
   },
   {
    "duration": 35,
    "start_time": "2022-01-28T06:54:24.854Z"
   },
   {
    "duration": 50,
    "start_time": "2022-01-28T06:54:24.892Z"
   },
   {
    "duration": 35,
    "start_time": "2022-01-28T06:54:24.944Z"
   },
   {
    "duration": 10,
    "start_time": "2022-01-28T06:54:24.982Z"
   },
   {
    "duration": 39,
    "start_time": "2022-01-28T06:54:24.995Z"
   },
   {
    "duration": 33,
    "start_time": "2022-01-28T06:54:25.037Z"
   },
   {
    "duration": 11,
    "start_time": "2022-01-28T06:54:25.073Z"
   },
   {
    "duration": 5472,
    "start_time": "2022-01-28T06:54:25.087Z"
   },
   {
    "duration": 71,
    "start_time": "2022-01-28T06:54:30.562Z"
   },
   {
    "duration": 57,
    "start_time": "2022-01-28T06:54:30.636Z"
   },
   {
    "duration": 6,
    "start_time": "2022-01-28T06:54:30.696Z"
   },
   {
    "duration": 26,
    "start_time": "2022-01-28T06:54:30.725Z"
   },
   {
    "duration": 71,
    "start_time": "2022-01-28T06:54:30.754Z"
   },
   {
    "duration": 19,
    "start_time": "2022-01-28T06:54:30.827Z"
   },
   {
    "duration": 30,
    "start_time": "2022-01-28T06:54:30.849Z"
   },
   {
    "duration": 63,
    "start_time": "2022-01-28T06:54:30.882Z"
   },
   {
    "duration": 17,
    "start_time": "2022-01-28T06:54:30.952Z"
   },
   {
    "duration": 54,
    "start_time": "2022-01-28T06:54:30.973Z"
   },
   {
    "duration": 5,
    "start_time": "2022-01-28T06:54:31.029Z"
   },
   {
    "duration": 28,
    "start_time": "2022-01-28T06:54:31.037Z"
   },
   {
    "duration": 71,
    "start_time": "2022-01-28T06:54:31.068Z"
   },
   {
    "duration": 15,
    "start_time": "2022-01-28T06:54:31.141Z"
   },
   {
    "duration": 11,
    "start_time": "2022-01-28T06:54:31.158Z"
   },
   {
    "duration": 60,
    "start_time": "2022-01-28T06:54:31.172Z"
   },
   {
    "duration": 35,
    "start_time": "2022-01-28T06:54:31.234Z"
   },
   {
    "duration": 13,
    "start_time": "2022-01-28T06:54:31.272Z"
   },
   {
    "duration": 10,
    "start_time": "2022-01-28T06:55:48.897Z"
   },
   {
    "duration": 28,
    "start_time": "2022-01-28T06:58:36.496Z"
   },
   {
    "duration": 32,
    "start_time": "2022-01-28T06:58:40.136Z"
   },
   {
    "duration": 37,
    "start_time": "2022-01-28T07:09:09.375Z"
   },
   {
    "duration": 15,
    "start_time": "2022-01-28T07:09:35.494Z"
   },
   {
    "duration": 26,
    "start_time": "2022-01-28T07:17:02.604Z"
   },
   {
    "duration": 12,
    "start_time": "2022-01-28T07:17:23.996Z"
   },
   {
    "duration": 29,
    "start_time": "2022-01-28T07:18:36.731Z"
   },
   {
    "duration": 20,
    "start_time": "2022-01-28T07:19:19.339Z"
   },
   {
    "duration": 27,
    "start_time": "2022-01-28T07:19:41.812Z"
   },
   {
    "duration": 17,
    "start_time": "2022-01-28T07:20:04.490Z"
   },
   {
    "duration": 13,
    "start_time": "2022-01-28T07:20:31.219Z"
   },
   {
    "duration": 811,
    "start_time": "2022-01-28T07:22:26.172Z"
   },
   {
    "duration": 14,
    "start_time": "2022-01-28T07:22:26.986Z"
   },
   {
    "duration": 23,
    "start_time": "2022-01-28T07:22:27.004Z"
   },
   {
    "duration": 8,
    "start_time": "2022-01-28T07:22:27.030Z"
   },
   {
    "duration": 14,
    "start_time": "2022-01-28T07:22:27.041Z"
   },
   {
    "duration": 6,
    "start_time": "2022-01-28T07:22:27.057Z"
   },
   {
    "duration": 57,
    "start_time": "2022-01-28T07:22:27.066Z"
   },
   {
    "duration": 21,
    "start_time": "2022-01-28T07:22:27.128Z"
   },
   {
    "duration": 27,
    "start_time": "2022-01-28T07:22:27.152Z"
   },
   {
    "duration": 55,
    "start_time": "2022-01-28T07:22:27.181Z"
   },
   {
    "duration": 23,
    "start_time": "2022-01-28T07:22:27.239Z"
   },
   {
    "duration": 17,
    "start_time": "2022-01-28T07:22:27.265Z"
   },
   {
    "duration": 62,
    "start_time": "2022-01-28T07:22:27.285Z"
   },
   {
    "duration": 10,
    "start_time": "2022-01-28T07:22:27.350Z"
   },
   {
    "duration": 9,
    "start_time": "2022-01-28T07:22:27.362Z"
   },
   {
    "duration": 54,
    "start_time": "2022-01-28T07:22:27.374Z"
   },
   {
    "duration": 9,
    "start_time": "2022-01-28T07:22:27.430Z"
   },
   {
    "duration": 9,
    "start_time": "2022-01-28T07:22:27.442Z"
   },
   {
    "duration": 5284,
    "start_time": "2022-01-28T07:22:27.453Z"
   },
   {
    "duration": 37,
    "start_time": "2022-01-28T07:22:32.740Z"
   },
   {
    "duration": 62,
    "start_time": "2022-01-28T07:22:32.780Z"
   },
   {
    "duration": 5,
    "start_time": "2022-01-28T07:22:32.845Z"
   },
   {
    "duration": 20,
    "start_time": "2022-01-28T07:22:32.857Z"
   },
   {
    "duration": 61,
    "start_time": "2022-01-28T07:22:32.881Z"
   },
   {
    "duration": 27,
    "start_time": "2022-01-28T07:22:32.944Z"
   },
   {
    "duration": 4,
    "start_time": "2022-01-28T07:22:32.973Z"
   },
   {
    "duration": 45,
    "start_time": "2022-01-28T07:22:32.979Z"
   },
   {
    "duration": 3,
    "start_time": "2022-01-28T07:22:33.027Z"
   },
   {
    "duration": 24,
    "start_time": "2022-01-28T07:22:33.033Z"
   },
   {
    "duration": 29,
    "start_time": "2022-01-28T07:22:33.060Z"
   },
   {
    "duration": 45,
    "start_time": "2022-01-28T07:22:33.092Z"
   },
   {
    "duration": 27,
    "start_time": "2022-01-28T07:22:33.140Z"
   },
   {
    "duration": 13,
    "start_time": "2022-01-28T07:22:33.169Z"
   },
   {
    "duration": 72,
    "start_time": "2022-01-28T07:22:33.185Z"
   },
   {
    "duration": 16,
    "start_time": "2022-01-28T07:22:33.260Z"
   },
   {
    "duration": 67,
    "start_time": "2022-01-28T07:22:33.279Z"
   },
   {
    "duration": 14,
    "start_time": "2022-01-28T07:22:33.348Z"
   },
   {
    "duration": 30,
    "start_time": "2022-01-28T07:22:33.365Z"
   },
   {
    "duration": 327,
    "start_time": "2022-01-28T09:21:46.956Z"
   },
   {
    "duration": 837,
    "start_time": "2022-01-28T09:21:55.878Z"
   },
   {
    "duration": 14,
    "start_time": "2022-01-28T09:21:56.717Z"
   },
   {
    "duration": 31,
    "start_time": "2022-01-28T09:21:56.734Z"
   },
   {
    "duration": 338,
    "start_time": "2022-01-28T09:21:56.768Z"
   },
   {
    "duration": -28,
    "start_time": "2022-01-28T09:21:57.138Z"
   },
   {
    "duration": -39,
    "start_time": "2022-01-28T09:21:57.151Z"
   },
   {
    "duration": -43,
    "start_time": "2022-01-28T09:21:57.156Z"
   },
   {
    "duration": -45,
    "start_time": "2022-01-28T09:21:57.159Z"
   },
   {
    "duration": -48,
    "start_time": "2022-01-28T09:21:57.163Z"
   },
   {
    "duration": -65,
    "start_time": "2022-01-28T09:21:57.182Z"
   },
   {
    "duration": -66,
    "start_time": "2022-01-28T09:21:57.184Z"
   },
   {
    "duration": -67,
    "start_time": "2022-01-28T09:21:57.187Z"
   },
   {
    "duration": -68,
    "start_time": "2022-01-28T09:21:57.189Z"
   },
   {
    "duration": -69,
    "start_time": "2022-01-28T09:21:57.192Z"
   },
   {
    "duration": -70,
    "start_time": "2022-01-28T09:21:57.194Z"
   },
   {
    "duration": -72,
    "start_time": "2022-01-28T09:21:57.197Z"
   },
   {
    "duration": -72,
    "start_time": "2022-01-28T09:21:57.199Z"
   },
   {
    "duration": -74,
    "start_time": "2022-01-28T09:21:57.202Z"
   },
   {
    "duration": -79,
    "start_time": "2022-01-28T09:21:57.209Z"
   },
   {
    "duration": -81,
    "start_time": "2022-01-28T09:21:57.212Z"
   },
   {
    "duration": -81,
    "start_time": "2022-01-28T09:21:57.214Z"
   },
   {
    "duration": -83,
    "start_time": "2022-01-28T09:21:57.217Z"
   },
   {
    "duration": -85,
    "start_time": "2022-01-28T09:21:57.221Z"
   },
   {
    "duration": -94,
    "start_time": "2022-01-28T09:21:57.231Z"
   },
   {
    "duration": -97,
    "start_time": "2022-01-28T09:21:57.235Z"
   },
   {
    "duration": -107,
    "start_time": "2022-01-28T09:21:57.246Z"
   },
   {
    "duration": -108,
    "start_time": "2022-01-28T09:21:57.248Z"
   },
   {
    "duration": -113,
    "start_time": "2022-01-28T09:21:57.253Z"
   },
   {
    "duration": -121,
    "start_time": "2022-01-28T09:21:57.262Z"
   },
   {
    "duration": -123,
    "start_time": "2022-01-28T09:21:57.265Z"
   },
   {
    "duration": -127,
    "start_time": "2022-01-28T09:21:57.269Z"
   },
   {
    "duration": -129,
    "start_time": "2022-01-28T09:21:57.272Z"
   },
   {
    "duration": -136,
    "start_time": "2022-01-28T09:21:57.280Z"
   },
   {
    "duration": -139,
    "start_time": "2022-01-28T09:21:57.283Z"
   },
   {
    "duration": -141,
    "start_time": "2022-01-28T09:21:57.286Z"
   },
   {
    "duration": -150,
    "start_time": "2022-01-28T09:21:57.295Z"
   },
   {
    "duration": -151,
    "start_time": "2022-01-28T09:21:57.297Z"
   },
   {
    "duration": -154,
    "start_time": "2022-01-28T09:21:57.301Z"
   },
   {
    "duration": -156,
    "start_time": "2022-01-28T09:21:57.303Z"
   },
   {
    "duration": 57,
    "start_time": "2022-01-28T09:23:08.432Z"
   },
   {
    "duration": 11,
    "start_time": "2022-01-28T09:23:09.576Z"
   },
   {
    "duration": 643,
    "start_time": "2022-01-28T09:23:22.681Z"
   },
   {
    "duration": 11,
    "start_time": "2022-01-28T09:23:23.326Z"
   },
   {
    "duration": 37,
    "start_time": "2022-01-28T09:23:23.339Z"
   },
   {
    "duration": 30,
    "start_time": "2022-01-28T09:23:23.378Z"
   },
   {
    "duration": 23,
    "start_time": "2022-01-28T09:23:23.410Z"
   },
   {
    "duration": 31,
    "start_time": "2022-01-28T09:23:23.435Z"
   },
   {
    "duration": 29,
    "start_time": "2022-01-28T09:23:23.468Z"
   },
   {
    "duration": 12,
    "start_time": "2022-01-28T09:23:23.499Z"
   },
   {
    "duration": 15,
    "start_time": "2022-01-28T09:23:23.513Z"
   },
   {
    "duration": 17,
    "start_time": "2022-01-28T09:23:23.529Z"
   },
   {
    "duration": 19,
    "start_time": "2022-01-28T09:23:23.548Z"
   },
   {
    "duration": 14,
    "start_time": "2022-01-28T09:23:23.569Z"
   },
   {
    "duration": 12,
    "start_time": "2022-01-28T09:23:23.585Z"
   },
   {
    "duration": 29,
    "start_time": "2022-01-28T09:23:23.598Z"
   },
   {
    "duration": 5,
    "start_time": "2022-01-28T09:23:23.629Z"
   },
   {
    "duration": 9,
    "start_time": "2022-01-28T09:23:23.660Z"
   },
   {
    "duration": 15,
    "start_time": "2022-01-28T09:23:23.671Z"
   },
   {
    "duration": 7,
    "start_time": "2022-01-28T09:23:23.688Z"
   },
   {
    "duration": 4,
    "start_time": "2022-01-28T09:23:23.697Z"
   },
   {
    "duration": 3673,
    "start_time": "2022-01-28T09:23:23.703Z"
   },
   {
    "duration": 23,
    "start_time": "2022-01-28T09:23:27.377Z"
   },
   {
    "duration": 47,
    "start_time": "2022-01-28T09:23:27.402Z"
   },
   {
    "duration": 4,
    "start_time": "2022-01-28T09:23:27.453Z"
   },
   {
    "duration": 14,
    "start_time": "2022-01-28T09:23:27.458Z"
   },
   {
    "duration": 23,
    "start_time": "2022-01-28T09:23:27.474Z"
   },
   {
    "duration": 22,
    "start_time": "2022-01-28T09:23:27.498Z"
   },
   {
    "duration": 4,
    "start_time": "2022-01-28T09:23:27.522Z"
   },
   {
    "duration": 36,
    "start_time": "2022-01-28T09:23:27.528Z"
   },
   {
    "duration": 3,
    "start_time": "2022-01-28T09:23:27.566Z"
   },
   {
    "duration": 17,
    "start_time": "2022-01-28T09:23:27.571Z"
   },
   {
    "duration": 21,
    "start_time": "2022-01-28T09:23:27.590Z"
   },
   {
    "duration": 13,
    "start_time": "2022-01-28T09:23:27.613Z"
   },
   {
    "duration": 48,
    "start_time": "2022-01-28T09:23:27.628Z"
   },
   {
    "duration": 9,
    "start_time": "2022-01-28T09:23:27.677Z"
   },
   {
    "duration": 19,
    "start_time": "2022-01-28T09:23:27.688Z"
   },
   {
    "duration": 10,
    "start_time": "2022-01-28T09:23:27.709Z"
   },
   {
    "duration": 50,
    "start_time": "2022-01-28T09:23:27.721Z"
   },
   {
    "duration": 9,
    "start_time": "2022-01-28T09:23:27.772Z"
   },
   {
    "duration": 14,
    "start_time": "2022-01-28T09:23:27.782Z"
   },
   {
    "duration": 1151,
    "start_time": "2022-01-28T09:25:59.618Z"
   },
   {
    "duration": 18,
    "start_time": "2022-01-28T09:26:00.772Z"
   },
   {
    "duration": 29,
    "start_time": "2022-01-28T09:26:00.792Z"
   },
   {
    "duration": 40,
    "start_time": "2022-01-28T09:26:00.822Z"
   },
   {
    "duration": 30,
    "start_time": "2022-01-28T09:26:00.864Z"
   },
   {
    "duration": 28,
    "start_time": "2022-01-28T09:26:00.896Z"
   },
   {
    "duration": 34,
    "start_time": "2022-01-28T09:26:00.925Z"
   },
   {
    "duration": 40,
    "start_time": "2022-01-28T09:26:00.962Z"
   },
   {
    "duration": 39,
    "start_time": "2022-01-28T09:26:01.005Z"
   },
   {
    "duration": 47,
    "start_time": "2022-01-28T09:26:01.046Z"
   },
   {
    "duration": 34,
    "start_time": "2022-01-28T09:26:01.095Z"
   },
   {
    "duration": 23,
    "start_time": "2022-01-28T09:26:01.131Z"
   },
   {
    "duration": 55,
    "start_time": "2022-01-28T09:26:01.156Z"
   },
   {
    "duration": 71,
    "start_time": "2022-01-28T09:26:01.213Z"
   },
   {
    "duration": 34,
    "start_time": "2022-01-28T09:26:01.286Z"
   },
   {
    "duration": 32,
    "start_time": "2022-01-28T09:26:01.322Z"
   },
   {
    "duration": 44,
    "start_time": "2022-01-28T09:26:01.356Z"
   },
   {
    "duration": 10,
    "start_time": "2022-01-28T09:26:01.402Z"
   },
   {
    "duration": 18,
    "start_time": "2022-01-28T09:26:01.413Z"
   },
   {
    "duration": 3782,
    "start_time": "2022-01-28T09:26:01.433Z"
   },
   {
    "duration": 26,
    "start_time": "2022-01-28T09:26:05.217Z"
   },
   {
    "duration": 32,
    "start_time": "2022-01-28T09:26:05.261Z"
   },
   {
    "duration": 3,
    "start_time": "2022-01-28T09:26:05.297Z"
   },
   {
    "duration": 15,
    "start_time": "2022-01-28T09:26:05.302Z"
   },
   {
    "duration": 50,
    "start_time": "2022-01-28T09:26:05.319Z"
   },
   {
    "duration": 26,
    "start_time": "2022-01-28T09:26:05.372Z"
   },
   {
    "duration": 3,
    "start_time": "2022-01-28T09:26:05.400Z"
   },
   {
    "duration": 19,
    "start_time": "2022-01-28T09:26:05.404Z"
   },
   {
    "duration": 5,
    "start_time": "2022-01-28T09:26:05.425Z"
   },
   {
    "duration": 29,
    "start_time": "2022-01-28T09:26:05.432Z"
   },
   {
    "duration": 24,
    "start_time": "2022-01-28T09:26:05.463Z"
   },
   {
    "duration": 19,
    "start_time": "2022-01-28T09:26:05.489Z"
   },
   {
    "duration": 17,
    "start_time": "2022-01-28T09:26:05.510Z"
   },
   {
    "duration": 8,
    "start_time": "2022-01-28T09:26:05.529Z"
   },
   {
    "duration": 40,
    "start_time": "2022-01-28T09:26:05.539Z"
   },
   {
    "duration": 25,
    "start_time": "2022-01-28T09:26:05.581Z"
   },
   {
    "duration": 41,
    "start_time": "2022-01-28T09:26:05.608Z"
   },
   {
    "duration": 26,
    "start_time": "2022-01-28T09:26:05.651Z"
   },
   {
    "duration": 63,
    "start_time": "2022-01-28T09:26:05.679Z"
   },
   {
    "duration": 19,
    "start_time": "2022-01-28T09:26:40.231Z"
   },
   {
    "duration": 18,
    "start_time": "2022-01-28T09:26:49.791Z"
   },
   {
    "duration": 60,
    "start_time": "2022-01-28T09:26:54.407Z"
   },
   {
    "duration": 11,
    "start_time": "2022-01-28T09:26:55.494Z"
   },
   {
    "duration": 10,
    "start_time": "2022-01-28T09:26:58.686Z"
   },
   {
    "duration": 12,
    "start_time": "2022-01-28T09:26:59.392Z"
   },
   {
    "duration": 346,
    "start_time": "2022-01-28T09:28:39.775Z"
   },
   {
    "duration": 179,
    "start_time": "2022-01-28T09:28:49.119Z"
   },
   {
    "duration": 132,
    "start_time": "2022-01-28T09:30:24.086Z"
   },
   {
    "duration": 242,
    "start_time": "2022-01-28T10:16:52.676Z"
   },
   {
    "duration": 178,
    "start_time": "2022-01-28T10:16:58.628Z"
   },
   {
    "duration": 144,
    "start_time": "2022-01-28T10:27:17.137Z"
   },
   {
    "duration": 191,
    "start_time": "2022-01-28T10:27:24.642Z"
   },
   {
    "duration": 148,
    "start_time": "2022-01-28T10:28:04.347Z"
   },
   {
    "duration": 9,
    "start_time": "2022-01-28T10:28:08.995Z"
   },
   {
    "duration": 179,
    "start_time": "2022-01-28T10:28:20.810Z"
   },
   {
    "duration": 123,
    "start_time": "2022-01-28T10:29:24.171Z"
   },
   {
    "duration": 6,
    "start_time": "2022-01-28T13:27:39.244Z"
   },
   {
    "duration": 77,
    "start_time": "2022-01-28T13:33:07.245Z"
   },
   {
    "duration": 11,
    "start_time": "2022-01-28T13:38:38.874Z"
   },
   {
    "duration": 1209,
    "start_time": "2022-01-28T13:39:05.434Z"
   },
   {
    "duration": 10,
    "start_time": "2022-01-28T13:39:06.645Z"
   },
   {
    "duration": 21,
    "start_time": "2022-01-28T13:39:06.657Z"
   },
   {
    "duration": 95,
    "start_time": "2022-01-28T13:39:06.680Z"
   },
   {
    "duration": -101,
    "start_time": "2022-01-28T13:39:06.879Z"
   },
   {
    "duration": -103,
    "start_time": "2022-01-28T13:39:06.882Z"
   },
   {
    "duration": -105,
    "start_time": "2022-01-28T13:39:06.885Z"
   },
   {
    "duration": -109,
    "start_time": "2022-01-28T13:39:06.890Z"
   },
   {
    "duration": -111,
    "start_time": "2022-01-28T13:39:06.893Z"
   },
   {
    "duration": -114,
    "start_time": "2022-01-28T13:39:06.896Z"
   },
   {
    "duration": -116,
    "start_time": "2022-01-28T13:39:06.899Z"
   },
   {
    "duration": -120,
    "start_time": "2022-01-28T13:39:06.904Z"
   },
   {
    "duration": -123,
    "start_time": "2022-01-28T13:39:06.908Z"
   },
   {
    "duration": -126,
    "start_time": "2022-01-28T13:39:06.912Z"
   },
   {
    "duration": -130,
    "start_time": "2022-01-28T13:39:06.916Z"
   },
   {
    "duration": -132,
    "start_time": "2022-01-28T13:39:06.919Z"
   },
   {
    "duration": -135,
    "start_time": "2022-01-28T13:39:06.923Z"
   },
   {
    "duration": -137,
    "start_time": "2022-01-28T13:39:06.926Z"
   },
   {
    "duration": -138,
    "start_time": "2022-01-28T13:39:06.928Z"
   },
   {
    "duration": -139,
    "start_time": "2022-01-28T13:39:06.930Z"
   },
   {
    "duration": -143,
    "start_time": "2022-01-28T13:39:06.934Z"
   },
   {
    "duration": -145,
    "start_time": "2022-01-28T13:39:06.937Z"
   },
   {
    "duration": -148,
    "start_time": "2022-01-28T13:39:06.941Z"
   },
   {
    "duration": -149,
    "start_time": "2022-01-28T13:39:06.943Z"
   },
   {
    "duration": -150,
    "start_time": "2022-01-28T13:39:06.945Z"
   },
   {
    "duration": -153,
    "start_time": "2022-01-28T13:39:06.948Z"
   },
   {
    "duration": -155,
    "start_time": "2022-01-28T13:39:06.951Z"
   },
   {
    "duration": -163,
    "start_time": "2022-01-28T13:39:06.960Z"
   },
   {
    "duration": -165,
    "start_time": "2022-01-28T13:39:06.963Z"
   },
   {
    "duration": -167,
    "start_time": "2022-01-28T13:39:06.966Z"
   },
   {
    "duration": -168,
    "start_time": "2022-01-28T13:39:06.968Z"
   },
   {
    "duration": -172,
    "start_time": "2022-01-28T13:39:06.973Z"
   },
   {
    "duration": -175,
    "start_time": "2022-01-28T13:39:06.977Z"
   },
   {
    "duration": -177,
    "start_time": "2022-01-28T13:39:06.980Z"
   },
   {
    "duration": -179,
    "start_time": "2022-01-28T13:39:06.983Z"
   },
   {
    "duration": -182,
    "start_time": "2022-01-28T13:39:06.986Z"
   },
   {
    "duration": -185,
    "start_time": "2022-01-28T13:39:06.990Z"
   },
   {
    "duration": -187,
    "start_time": "2022-01-28T13:39:06.993Z"
   },
   {
    "duration": -189,
    "start_time": "2022-01-28T13:39:06.996Z"
   },
   {
    "duration": -193,
    "start_time": "2022-01-28T13:39:07.000Z"
   },
   {
    "duration": -194,
    "start_time": "2022-01-28T13:39:07.002Z"
   },
   {
    "duration": -197,
    "start_time": "2022-01-28T13:39:07.006Z"
   },
   {
    "duration": -199,
    "start_time": "2022-01-28T13:39:07.009Z"
   },
   {
    "duration": -200,
    "start_time": "2022-01-28T13:39:07.011Z"
   },
   {
    "duration": -202,
    "start_time": "2022-01-28T13:39:07.014Z"
   },
   {
    "duration": 1260,
    "start_time": "2022-01-28T13:39:37.002Z"
   },
   {
    "duration": 10,
    "start_time": "2022-01-28T13:39:38.264Z"
   },
   {
    "duration": 32,
    "start_time": "2022-01-28T13:39:38.277Z"
   },
   {
    "duration": 32,
    "start_time": "2022-01-28T13:39:38.311Z"
   },
   {
    "duration": 33,
    "start_time": "2022-01-28T13:39:38.344Z"
   },
   {
    "duration": 41,
    "start_time": "2022-01-28T13:39:38.379Z"
   },
   {
    "duration": 31,
    "start_time": "2022-01-28T13:39:38.421Z"
   },
   {
    "duration": 37,
    "start_time": "2022-01-28T13:39:38.454Z"
   },
   {
    "duration": 35,
    "start_time": "2022-01-28T13:39:38.494Z"
   },
   {
    "duration": 49,
    "start_time": "2022-01-28T13:39:38.530Z"
   },
   {
    "duration": 49,
    "start_time": "2022-01-28T13:39:38.581Z"
   },
   {
    "duration": 49,
    "start_time": "2022-01-28T13:39:38.632Z"
   },
   {
    "duration": 18,
    "start_time": "2022-01-28T13:39:38.683Z"
   },
   {
    "duration": 44,
    "start_time": "2022-01-28T13:39:38.703Z"
   },
   {
    "duration": 39,
    "start_time": "2022-01-28T13:39:38.749Z"
   },
   {
    "duration": 40,
    "start_time": "2022-01-28T13:39:38.789Z"
   },
   {
    "duration": 114,
    "start_time": "2022-01-28T13:39:38.831Z"
   },
   {
    "duration": -45,
    "start_time": "2022-01-28T13:39:38.992Z"
   },
   {
    "duration": -47,
    "start_time": "2022-01-28T13:39:38.995Z"
   },
   {
    "duration": -50,
    "start_time": "2022-01-28T13:39:38.999Z"
   },
   {
    "duration": -58,
    "start_time": "2022-01-28T13:39:39.008Z"
   },
   {
    "duration": -60,
    "start_time": "2022-01-28T13:39:39.011Z"
   },
   {
    "duration": -69,
    "start_time": "2022-01-28T13:39:39.021Z"
   },
   {
    "duration": -73,
    "start_time": "2022-01-28T13:39:39.026Z"
   },
   {
    "duration": -74,
    "start_time": "2022-01-28T13:39:39.028Z"
   },
   {
    "duration": -77,
    "start_time": "2022-01-28T13:39:39.032Z"
   },
   {
    "duration": -86,
    "start_time": "2022-01-28T13:39:39.042Z"
   },
   {
    "duration": -89,
    "start_time": "2022-01-28T13:39:39.045Z"
   },
   {
    "duration": -92,
    "start_time": "2022-01-28T13:39:39.049Z"
   },
   {
    "duration": -101,
    "start_time": "2022-01-28T13:39:39.059Z"
   },
   {
    "duration": -102,
    "start_time": "2022-01-28T13:39:39.061Z"
   },
   {
    "duration": -105,
    "start_time": "2022-01-28T13:39:39.065Z"
   },
   {
    "duration": -113,
    "start_time": "2022-01-28T13:39:39.074Z"
   },
   {
    "duration": -115,
    "start_time": "2022-01-28T13:39:39.077Z"
   },
   {
    "duration": -118,
    "start_time": "2022-01-28T13:39:39.081Z"
   },
   {
    "duration": -127,
    "start_time": "2022-01-28T13:39:39.091Z"
   },
   {
    "duration": -129,
    "start_time": "2022-01-28T13:39:39.094Z"
   },
   {
    "duration": -131,
    "start_time": "2022-01-28T13:39:39.097Z"
   },
   {
    "duration": -139,
    "start_time": "2022-01-28T13:39:39.106Z"
   },
   {
    "duration": -142,
    "start_time": "2022-01-28T13:39:39.110Z"
   },
   {
    "duration": -144,
    "start_time": "2022-01-28T13:39:39.112Z"
   },
   {
    "duration": -153,
    "start_time": "2022-01-28T13:39:39.122Z"
   },
   {
    "duration": -155,
    "start_time": "2022-01-28T13:39:39.125Z"
   },
   {
    "duration": -157,
    "start_time": "2022-01-28T13:39:39.128Z"
   },
   {
    "duration": 1203,
    "start_time": "2022-01-28T13:39:55.081Z"
   },
   {
    "duration": 11,
    "start_time": "2022-01-28T13:39:56.285Z"
   },
   {
    "duration": 27,
    "start_time": "2022-01-28T13:39:56.298Z"
   },
   {
    "duration": 17,
    "start_time": "2022-01-28T13:39:56.327Z"
   },
   {
    "duration": 17,
    "start_time": "2022-01-28T13:39:56.346Z"
   },
   {
    "duration": 20,
    "start_time": "2022-01-28T13:39:56.364Z"
   },
   {
    "duration": 52,
    "start_time": "2022-01-28T13:39:56.386Z"
   },
   {
    "duration": 4,
    "start_time": "2022-01-28T13:39:56.441Z"
   },
   {
    "duration": 12,
    "start_time": "2022-01-28T13:39:56.447Z"
   },
   {
    "duration": 14,
    "start_time": "2022-01-28T13:39:56.461Z"
   },
   {
    "duration": 15,
    "start_time": "2022-01-28T13:39:56.477Z"
   },
   {
    "duration": 15,
    "start_time": "2022-01-28T13:39:56.494Z"
   },
   {
    "duration": 15,
    "start_time": "2022-01-28T13:39:56.510Z"
   },
   {
    "duration": 37,
    "start_time": "2022-01-28T13:39:56.526Z"
   },
   {
    "duration": 25,
    "start_time": "2022-01-28T13:39:56.565Z"
   },
   {
    "duration": 5,
    "start_time": "2022-01-28T13:39:56.591Z"
   },
   {
    "duration": 215,
    "start_time": "2022-01-28T13:39:56.598Z"
   },
   {
    "duration": 147,
    "start_time": "2022-01-28T13:39:56.815Z"
   },
   {
    "duration": 10,
    "start_time": "2022-01-28T13:39:56.964Z"
   },
   {
    "duration": 210,
    "start_time": "2022-01-28T13:39:56.975Z"
   },
   {
    "duration": 20,
    "start_time": "2022-01-28T13:39:57.189Z"
   },
   {
    "duration": 7,
    "start_time": "2022-01-28T13:39:57.211Z"
   },
   {
    "duration": 7,
    "start_time": "2022-01-28T13:39:57.221Z"
   },
   {
    "duration": 3734,
    "start_time": "2022-01-28T13:39:57.230Z"
   },
   {
    "duration": 26,
    "start_time": "2022-01-28T13:40:00.966Z"
   },
   {
    "duration": 55,
    "start_time": "2022-01-28T13:40:00.994Z"
   },
   {
    "duration": 4,
    "start_time": "2022-01-28T13:40:01.051Z"
   },
   {
    "duration": 52,
    "start_time": "2022-01-28T13:40:01.057Z"
   },
   {
    "duration": 53,
    "start_time": "2022-01-28T13:40:01.111Z"
   },
   {
    "duration": 29,
    "start_time": "2022-01-28T13:40:01.166Z"
   },
   {
    "duration": 16,
    "start_time": "2022-01-28T13:40:01.198Z"
   },
   {
    "duration": 38,
    "start_time": "2022-01-28T13:40:01.216Z"
   },
   {
    "duration": 23,
    "start_time": "2022-01-28T13:40:01.256Z"
   },
   {
    "duration": 50,
    "start_time": "2022-01-28T13:40:01.280Z"
   },
   {
    "duration": 62,
    "start_time": "2022-01-28T13:40:01.332Z"
   },
   {
    "duration": 21,
    "start_time": "2022-01-28T13:40:01.396Z"
   },
   {
    "duration": 22,
    "start_time": "2022-01-28T13:40:01.418Z"
   },
   {
    "duration": 18,
    "start_time": "2022-01-28T13:40:01.442Z"
   },
   {
    "duration": 42,
    "start_time": "2022-01-28T13:40:01.462Z"
   },
   {
    "duration": 55,
    "start_time": "2022-01-28T13:40:01.506Z"
   },
   {
    "duration": 43,
    "start_time": "2022-01-28T13:40:01.563Z"
   },
   {
    "duration": 37,
    "start_time": "2022-01-28T13:40:01.609Z"
   },
   {
    "duration": 40,
    "start_time": "2022-01-28T13:40:01.648Z"
   },
   {
    "duration": 473,
    "start_time": "2022-01-30T16:33:40.634Z"
   },
   {
    "duration": 1517,
    "start_time": "2022-01-30T16:33:48.896Z"
   },
   {
    "duration": 17,
    "start_time": "2022-01-30T16:33:50.416Z"
   },
   {
    "duration": 18,
    "start_time": "2022-01-30T16:33:50.452Z"
   },
   {
    "duration": 17,
    "start_time": "2022-01-30T16:33:50.472Z"
   },
   {
    "duration": 7,
    "start_time": "2022-01-30T16:33:50.492Z"
   },
   {
    "duration": 51,
    "start_time": "2022-01-30T16:33:50.501Z"
   },
   {
    "duration": 22,
    "start_time": "2022-01-30T16:33:50.555Z"
   },
   {
    "duration": 11,
    "start_time": "2022-01-30T16:33:50.581Z"
   },
   {
    "duration": 20,
    "start_time": "2022-01-30T16:33:50.596Z"
   },
   {
    "duration": 40,
    "start_time": "2022-01-30T16:33:50.618Z"
   },
   {
    "duration": 25,
    "start_time": "2022-01-30T16:33:50.661Z"
   },
   {
    "duration": 22,
    "start_time": "2022-01-30T16:33:50.688Z"
   },
   {
    "duration": 56,
    "start_time": "2022-01-30T16:33:50.712Z"
   },
   {
    "duration": 25,
    "start_time": "2022-01-30T16:33:50.771Z"
   },
   {
    "duration": 46,
    "start_time": "2022-01-30T16:33:50.798Z"
   },
   {
    "duration": 21,
    "start_time": "2022-01-30T16:33:50.846Z"
   },
   {
    "duration": 356,
    "start_time": "2022-01-30T16:33:50.869Z"
   },
   {
    "duration": 245,
    "start_time": "2022-01-30T16:33:51.228Z"
   },
   {
    "duration": 11,
    "start_time": "2022-01-30T16:33:51.475Z"
   },
   {
    "duration": 384,
    "start_time": "2022-01-30T16:33:51.489Z"
   },
   {
    "duration": 25,
    "start_time": "2022-01-30T16:33:51.876Z"
   },
   {
    "duration": 8,
    "start_time": "2022-01-30T16:33:51.903Z"
   },
   {
    "duration": 33,
    "start_time": "2022-01-30T16:33:51.917Z"
   },
   {
    "duration": 5233,
    "start_time": "2022-01-30T16:33:51.954Z"
   },
   {
    "duration": 36,
    "start_time": "2022-01-30T16:33:57.190Z"
   },
   {
    "duration": 61,
    "start_time": "2022-01-30T16:33:57.228Z"
   },
   {
    "duration": 4,
    "start_time": "2022-01-30T16:33:57.292Z"
   },
   {
    "duration": 19,
    "start_time": "2022-01-30T16:33:57.298Z"
   },
   {
    "duration": 60,
    "start_time": "2022-01-30T16:33:57.319Z"
   },
   {
    "duration": 30,
    "start_time": "2022-01-30T16:33:57.382Z"
   },
   {
    "duration": 4,
    "start_time": "2022-01-30T16:33:57.415Z"
   },
   {
    "duration": 23,
    "start_time": "2022-01-30T16:33:57.450Z"
   },
   {
    "duration": 4,
    "start_time": "2022-01-30T16:33:57.475Z"
   },
   {
    "duration": 27,
    "start_time": "2022-01-30T16:33:57.482Z"
   },
   {
    "duration": 66,
    "start_time": "2022-01-30T16:33:57.511Z"
   },
   {
    "duration": 18,
    "start_time": "2022-01-30T16:33:57.580Z"
   },
   {
    "duration": 27,
    "start_time": "2022-01-30T16:33:57.600Z"
   },
   {
    "duration": 33,
    "start_time": "2022-01-30T16:33:57.629Z"
   },
   {
    "duration": 30,
    "start_time": "2022-01-30T16:33:57.664Z"
   },
   {
    "duration": 22,
    "start_time": "2022-01-30T16:33:57.697Z"
   },
   {
    "duration": 57,
    "start_time": "2022-01-30T16:33:57.722Z"
   },
   {
    "duration": 12,
    "start_time": "2022-01-30T16:33:57.781Z"
   },
   {
    "duration": 20,
    "start_time": "2022-01-30T16:33:57.795Z"
   },
   {
    "duration": 4670,
    "start_time": "2022-01-30T20:07:46.805Z"
   },
   {
    "duration": 51,
    "start_time": "2022-01-30T20:10:33.691Z"
   },
   {
    "duration": 2012,
    "start_time": "2022-01-30T20:10:55.861Z"
   },
   {
    "duration": 23,
    "start_time": "2022-01-30T20:10:57.876Z"
   },
   {
    "duration": 18,
    "start_time": "2022-01-30T20:10:57.904Z"
   },
   {
    "duration": 28,
    "start_time": "2022-01-30T20:10:57.950Z"
   },
   {
    "duration": 8,
    "start_time": "2022-01-30T20:10:57.981Z"
   },
   {
    "duration": 20,
    "start_time": "2022-01-30T20:10:57.991Z"
   },
   {
    "duration": 44,
    "start_time": "2022-01-30T20:10:58.013Z"
   },
   {
    "duration": 9,
    "start_time": "2022-01-30T20:10:58.063Z"
   },
   {
    "duration": 22,
    "start_time": "2022-01-30T20:10:58.077Z"
   },
   {
    "duration": 62,
    "start_time": "2022-01-30T20:10:58.102Z"
   },
   {
    "duration": 34,
    "start_time": "2022-01-30T20:10:58.167Z"
   },
   {
    "duration": 60,
    "start_time": "2022-01-30T20:10:58.204Z"
   },
   {
    "duration": 24,
    "start_time": "2022-01-30T20:10:58.267Z"
   },
   {
    "duration": 17,
    "start_time": "2022-01-30T20:10:58.294Z"
   },
   {
    "duration": 65,
    "start_time": "2022-01-30T20:10:58.314Z"
   },
   {
    "duration": 9,
    "start_time": "2022-01-30T20:10:58.381Z"
   },
   {
    "duration": 361,
    "start_time": "2022-01-30T20:10:58.394Z"
   },
   {
    "duration": 276,
    "start_time": "2022-01-30T20:10:58.758Z"
   },
   {
    "duration": 25,
    "start_time": "2022-01-30T20:10:59.037Z"
   },
   {
    "duration": 503,
    "start_time": "2022-01-30T20:10:59.065Z"
   },
   {
    "duration": 25,
    "start_time": "2022-01-30T20:10:59.571Z"
   },
   {
    "duration": 11,
    "start_time": "2022-01-30T20:10:59.600Z"
   },
   {
    "duration": 6381,
    "start_time": "2022-01-30T20:10:59.616Z"
   },
   {
    "duration": 46,
    "start_time": "2022-01-30T20:11:06.002Z"
   },
   {
    "duration": 41,
    "start_time": "2022-01-30T20:11:06.052Z"
   },
   {
    "duration": 4,
    "start_time": "2022-01-30T20:11:06.095Z"
   },
   {
    "duration": 53,
    "start_time": "2022-01-30T20:11:06.102Z"
   },
   {
    "duration": 37,
    "start_time": "2022-01-30T20:11:06.158Z"
   },
   {
    "duration": 59,
    "start_time": "2022-01-30T20:11:06.197Z"
   },
   {
    "duration": 5,
    "start_time": "2022-01-30T20:11:06.259Z"
   },
   {
    "duration": 30,
    "start_time": "2022-01-30T20:11:06.267Z"
   },
   {
    "duration": 4,
    "start_time": "2022-01-30T20:11:06.300Z"
   },
   {
    "duration": 63,
    "start_time": "2022-01-30T20:11:06.307Z"
   },
   {
    "duration": 33,
    "start_time": "2022-01-30T20:11:06.372Z"
   },
   {
    "duration": 43,
    "start_time": "2022-01-30T20:11:06.408Z"
   },
   {
    "duration": 39,
    "start_time": "2022-01-30T20:11:06.453Z"
   },
   {
    "duration": 18,
    "start_time": "2022-01-30T20:11:06.495Z"
   },
   {
    "duration": 75,
    "start_time": "2022-01-30T20:11:06.516Z"
   },
   {
    "duration": 17,
    "start_time": "2022-01-30T20:11:06.594Z"
   },
   {
    "duration": 61,
    "start_time": "2022-01-30T20:11:06.614Z"
   },
   {
    "duration": 19,
    "start_time": "2022-01-30T20:11:06.678Z"
   },
   {
    "duration": 68,
    "start_time": "2022-01-30T20:11:06.700Z"
   },
   {
    "duration": 171,
    "start_time": "2022-01-30T20:59:39.357Z"
   },
   {
    "duration": 5,
    "start_time": "2022-01-30T21:11:08.676Z"
   },
   {
    "duration": 20,
    "start_time": "2022-01-30T21:11:11.434Z"
   },
   {
    "duration": 6,
    "start_time": "2022-01-30T21:11:41.370Z"
   },
   {
    "duration": 20,
    "start_time": "2022-01-30T21:11:42.707Z"
   },
   {
    "duration": 92,
    "start_time": "2022-01-30T21:16:27.211Z"
   },
   {
    "duration": 7,
    "start_time": "2022-01-30T21:30:02.696Z"
   },
   {
    "duration": 32,
    "start_time": "2022-01-30T21:30:03.158Z"
   },
   {
    "duration": 5,
    "start_time": "2022-01-30T21:39:45.728Z"
   },
   {
    "duration": 22,
    "start_time": "2022-01-30T21:39:46.090Z"
   },
   {
    "duration": 4,
    "start_time": "2022-01-30T21:40:43.310Z"
   },
   {
    "duration": 21,
    "start_time": "2022-01-30T21:40:43.727Z"
   },
   {
    "duration": 4,
    "start_time": "2022-01-30T21:42:20.829Z"
   },
   {
    "duration": 23,
    "start_time": "2022-01-30T21:42:21.223Z"
   },
   {
    "duration": 5,
    "start_time": "2022-01-30T21:43:04.861Z"
   },
   {
    "duration": 21,
    "start_time": "2022-01-30T21:43:05.290Z"
   },
   {
    "duration": 5,
    "start_time": "2022-01-30T21:43:12.313Z"
   },
   {
    "duration": 21,
    "start_time": "2022-01-30T21:43:12.611Z"
   },
   {
    "duration": 1561,
    "start_time": "2022-01-30T21:43:22.636Z"
   },
   {
    "duration": 15,
    "start_time": "2022-01-30T21:43:24.200Z"
   },
   {
    "duration": 12,
    "start_time": "2022-01-30T21:43:24.219Z"
   },
   {
    "duration": 18,
    "start_time": "2022-01-30T21:43:24.249Z"
   },
   {
    "duration": 8,
    "start_time": "2022-01-30T21:43:24.269Z"
   },
   {
    "duration": 11,
    "start_time": "2022-01-30T21:43:24.279Z"
   },
   {
    "duration": 14,
    "start_time": "2022-01-30T21:43:24.293Z"
   },
   {
    "duration": 7,
    "start_time": "2022-01-30T21:43:24.350Z"
   },
   {
    "duration": 17,
    "start_time": "2022-01-30T21:43:24.360Z"
   },
   {
    "duration": 20,
    "start_time": "2022-01-30T21:43:24.380Z"
   },
   {
    "duration": 60,
    "start_time": "2022-01-30T21:43:24.403Z"
   },
   {
    "duration": 22,
    "start_time": "2022-01-30T21:43:24.466Z"
   },
   {
    "duration": 21,
    "start_time": "2022-01-30T21:43:24.491Z"
   },
   {
    "duration": 39,
    "start_time": "2022-01-30T21:43:24.514Z"
   },
   {
    "duration": 31,
    "start_time": "2022-01-30T21:43:24.556Z"
   },
   {
    "duration": 9,
    "start_time": "2022-01-30T21:43:24.590Z"
   },
   {
    "duration": 350,
    "start_time": "2022-01-30T21:43:24.601Z"
   },
   {
    "duration": 223,
    "start_time": "2022-01-30T21:43:24.953Z"
   },
   {
    "duration": 12,
    "start_time": "2022-01-30T21:43:25.178Z"
   },
   {
    "duration": 339,
    "start_time": "2022-01-30T21:43:25.193Z"
   },
   {
    "duration": 26,
    "start_time": "2022-01-30T21:43:25.535Z"
   },
   {
    "duration": 10,
    "start_time": "2022-01-30T21:43:25.564Z"
   },
   {
    "duration": 4750,
    "start_time": "2022-01-30T21:43:25.579Z"
   },
   {
    "duration": 44,
    "start_time": "2022-01-30T21:43:30.333Z"
   },
   {
    "duration": 42,
    "start_time": "2022-01-30T21:43:30.380Z"
   },
   {
    "duration": 24,
    "start_time": "2022-01-30T21:43:30.424Z"
   },
   {
    "duration": 43,
    "start_time": "2022-01-30T21:43:30.451Z"
   },
   {
    "duration": 42,
    "start_time": "2022-01-30T21:43:30.497Z"
   },
   {
    "duration": 4,
    "start_time": "2022-01-30T21:43:30.542Z"
   },
   {
    "duration": 40,
    "start_time": "2022-01-30T21:43:30.549Z"
   },
   {
    "duration": 16,
    "start_time": "2022-01-30T21:43:30.592Z"
   },
   {
    "duration": 41,
    "start_time": "2022-01-30T21:43:30.610Z"
   },
   {
    "duration": 34,
    "start_time": "2022-01-30T21:43:30.653Z"
   },
   {
    "duration": 19,
    "start_time": "2022-01-30T21:43:30.690Z"
   },
   {
    "duration": 53,
    "start_time": "2022-01-30T21:43:30.711Z"
   },
   {
    "duration": 12,
    "start_time": "2022-01-30T21:43:30.766Z"
   },
   {
    "duration": 54,
    "start_time": "2022-01-30T21:43:30.781Z"
   },
   {
    "duration": 15,
    "start_time": "2022-01-30T21:43:30.838Z"
   },
   {
    "duration": 34,
    "start_time": "2022-01-30T21:43:30.856Z"
   },
   {
    "duration": 12,
    "start_time": "2022-01-30T21:43:30.893Z"
   },
   {
    "duration": 48,
    "start_time": "2022-01-30T21:43:30.907Z"
   },
   {
    "duration": 5,
    "start_time": "2022-01-30T21:51:26.197Z"
   },
   {
    "duration": 22,
    "start_time": "2022-01-30T21:51:26.765Z"
   },
   {
    "duration": 5,
    "start_time": "2022-01-30T21:51:44.917Z"
   },
   {
    "duration": 24,
    "start_time": "2022-01-30T21:51:45.374Z"
   },
   {
    "duration": 5,
    "start_time": "2022-01-30T21:54:06.710Z"
   },
   {
    "duration": 24,
    "start_time": "2022-01-30T21:54:07.003Z"
   },
   {
    "duration": 4,
    "start_time": "2022-01-30T21:55:07.377Z"
   },
   {
    "duration": 25,
    "start_time": "2022-01-30T21:55:07.946Z"
   },
   {
    "duration": 1469,
    "start_time": "2022-01-30T22:05:38.410Z"
   },
   {
    "duration": 15,
    "start_time": "2022-01-30T22:05:39.881Z"
   },
   {
    "duration": 12,
    "start_time": "2022-01-30T22:05:39.899Z"
   },
   {
    "duration": 43,
    "start_time": "2022-01-30T22:05:39.914Z"
   },
   {
    "duration": 8,
    "start_time": "2022-01-30T22:05:39.959Z"
   },
   {
    "duration": 14,
    "start_time": "2022-01-30T22:05:39.970Z"
   },
   {
    "duration": 13,
    "start_time": "2022-01-30T22:05:39.987Z"
   },
   {
    "duration": 5,
    "start_time": "2022-01-30T22:05:40.004Z"
   },
   {
    "duration": 50,
    "start_time": "2022-01-30T22:05:40.012Z"
   },
   {
    "duration": 20,
    "start_time": "2022-01-30T22:05:40.064Z"
   },
   {
    "duration": 23,
    "start_time": "2022-01-30T22:05:40.087Z"
   },
   {
    "duration": 54,
    "start_time": "2022-01-30T22:05:40.112Z"
   },
   {
    "duration": 21,
    "start_time": "2022-01-30T22:05:40.169Z"
   },
   {
    "duration": 15,
    "start_time": "2022-01-30T22:05:40.192Z"
   },
   {
    "duration": 63,
    "start_time": "2022-01-30T22:05:40.210Z"
   },
   {
    "duration": 7,
    "start_time": "2022-01-30T22:05:40.276Z"
   },
   {
    "duration": 331,
    "start_time": "2022-01-30T22:05:40.285Z"
   },
   {
    "duration": 218,
    "start_time": "2022-01-30T22:05:40.619Z"
   },
   {
    "duration": 16,
    "start_time": "2022-01-30T22:05:40.840Z"
   },
   {
    "duration": 322,
    "start_time": "2022-01-30T22:05:40.858Z"
   },
   {
    "duration": 22,
    "start_time": "2022-01-30T22:05:41.182Z"
   },
   {
    "duration": 11,
    "start_time": "2022-01-30T22:05:41.207Z"
   },
   {
    "duration": 4908,
    "start_time": "2022-01-30T22:05:41.223Z"
   },
   {
    "duration": 36,
    "start_time": "2022-01-30T22:05:46.147Z"
   },
   {
    "duration": 36,
    "start_time": "2022-01-30T22:05:46.185Z"
   },
   {
    "duration": 25,
    "start_time": "2022-01-30T22:05:46.224Z"
   },
   {
    "duration": 21,
    "start_time": "2022-01-30T22:05:46.252Z"
   },
   {
    "duration": 31,
    "start_time": "2022-01-30T22:05:46.276Z"
   },
   {
    "duration": 4,
    "start_time": "2022-01-30T22:05:46.310Z"
   },
   {
    "duration": 47,
    "start_time": "2022-01-30T22:05:46.317Z"
   },
   {
    "duration": 4,
    "start_time": "2022-01-30T22:05:46.367Z"
   },
   {
    "duration": 26,
    "start_time": "2022-01-30T22:05:46.373Z"
   },
   {
    "duration": 53,
    "start_time": "2022-01-30T22:05:46.402Z"
   },
   {
    "duration": 23,
    "start_time": "2022-01-30T22:05:46.457Z"
   },
   {
    "duration": 25,
    "start_time": "2022-01-30T22:05:46.483Z"
   },
   {
    "duration": 41,
    "start_time": "2022-01-30T22:05:46.510Z"
   },
   {
    "duration": 31,
    "start_time": "2022-01-30T22:05:46.553Z"
   },
   {
    "duration": 17,
    "start_time": "2022-01-30T22:05:46.587Z"
   },
   {
    "duration": 66,
    "start_time": "2022-01-30T22:05:46.607Z"
   },
   {
    "duration": 13,
    "start_time": "2022-01-30T22:05:46.676Z"
   },
   {
    "duration": 22,
    "start_time": "2022-01-30T22:05:46.692Z"
   },
   {
    "duration": 1478,
    "start_time": "2022-01-30T22:56:30.295Z"
   },
   {
    "duration": 15,
    "start_time": "2022-01-30T22:56:31.775Z"
   },
   {
    "duration": 11,
    "start_time": "2022-01-30T22:56:31.793Z"
   },
   {
    "duration": 42,
    "start_time": "2022-01-30T22:56:31.807Z"
   },
   {
    "duration": 10,
    "start_time": "2022-01-30T22:56:31.852Z"
   },
   {
    "duration": 15,
    "start_time": "2022-01-30T22:56:31.864Z"
   },
   {
    "duration": 16,
    "start_time": "2022-01-30T22:56:31.881Z"
   },
   {
    "duration": 50,
    "start_time": "2022-01-30T22:56:31.902Z"
   },
   {
    "duration": 19,
    "start_time": "2022-01-30T22:56:31.956Z"
   },
   {
    "duration": 23,
    "start_time": "2022-01-30T22:56:31.978Z"
   },
   {
    "duration": 64,
    "start_time": "2022-01-30T22:56:32.004Z"
   },
   {
    "duration": 21,
    "start_time": "2022-01-30T22:56:32.071Z"
   },
   {
    "duration": 21,
    "start_time": "2022-01-30T22:56:32.095Z"
   },
   {
    "duration": 43,
    "start_time": "2022-01-30T22:56:32.119Z"
   },
   {
    "duration": 32,
    "start_time": "2022-01-30T22:56:32.164Z"
   },
   {
    "duration": 8,
    "start_time": "2022-01-30T22:56:32.198Z"
   },
   {
    "duration": 362,
    "start_time": "2022-01-30T22:56:32.208Z"
   },
   {
    "duration": 218,
    "start_time": "2022-01-30T22:56:32.572Z"
   },
   {
    "duration": 10,
    "start_time": "2022-01-30T22:56:32.793Z"
   },
   {
    "duration": 326,
    "start_time": "2022-01-30T22:56:32.806Z"
   },
   {
    "duration": 32,
    "start_time": "2022-01-30T22:56:33.134Z"
   },
   {
    "duration": 9,
    "start_time": "2022-01-30T22:56:33.169Z"
   },
   {
    "duration": 4820,
    "start_time": "2022-01-30T22:56:33.183Z"
   },
   {
    "duration": 52,
    "start_time": "2022-01-30T22:56:38.007Z"
   },
   {
    "duration": 34,
    "start_time": "2022-01-30T22:56:38.062Z"
   },
   {
    "duration": 5,
    "start_time": "2022-01-30T22:56:38.099Z"
   },
   {
    "duration": 43,
    "start_time": "2022-01-30T22:56:38.107Z"
   },
   {
    "duration": 35,
    "start_time": "2022-01-30T22:56:38.153Z"
   },
   {
    "duration": 5,
    "start_time": "2022-01-30T22:56:38.191Z"
   },
   {
    "duration": 29,
    "start_time": "2022-01-30T22:56:38.199Z"
   },
   {
    "duration": 21,
    "start_time": "2022-01-30T22:56:38.230Z"
   },
   {
    "duration": 28,
    "start_time": "2022-01-30T22:56:38.253Z"
   },
   {
    "duration": 57,
    "start_time": "2022-01-30T22:56:38.283Z"
   },
   {
    "duration": 18,
    "start_time": "2022-01-30T22:56:38.343Z"
   },
   {
    "duration": 25,
    "start_time": "2022-01-30T22:56:38.363Z"
   },
   {
    "duration": 12,
    "start_time": "2022-01-30T22:56:38.391Z"
   },
   {
    "duration": 51,
    "start_time": "2022-01-30T22:56:38.405Z"
   },
   {
    "duration": 12,
    "start_time": "2022-01-30T22:56:38.458Z"
   },
   {
    "duration": 25,
    "start_time": "2022-01-30T22:56:38.473Z"
   },
   {
    "duration": 11,
    "start_time": "2022-01-30T22:56:38.501Z"
   },
   {
    "duration": 22,
    "start_time": "2022-01-30T22:56:38.549Z"
   },
   {
    "duration": 1486,
    "start_time": "2022-01-30T23:08:14.808Z"
   },
   {
    "duration": 15,
    "start_time": "2022-01-30T23:08:16.297Z"
   },
   {
    "duration": 12,
    "start_time": "2022-01-30T23:08:16.316Z"
   },
   {
    "duration": 19,
    "start_time": "2022-01-30T23:08:16.350Z"
   },
   {
    "duration": 7,
    "start_time": "2022-01-30T23:08:16.372Z"
   },
   {
    "duration": 18,
    "start_time": "2022-01-30T23:08:16.382Z"
   },
   {
    "duration": 46,
    "start_time": "2022-01-30T23:08:16.402Z"
   },
   {
    "duration": 7,
    "start_time": "2022-01-30T23:08:16.452Z"
   },
   {
    "duration": 19,
    "start_time": "2022-01-30T23:08:16.462Z"
   },
   {
    "duration": 19,
    "start_time": "2022-01-30T23:08:16.484Z"
   },
   {
    "duration": 56,
    "start_time": "2022-01-30T23:08:16.506Z"
   },
   {
    "duration": 20,
    "start_time": "2022-01-30T23:08:16.565Z"
   },
   {
    "duration": 21,
    "start_time": "2022-01-30T23:08:16.588Z"
   },
   {
    "duration": 42,
    "start_time": "2022-01-30T23:08:16.612Z"
   },
   {
    "duration": 32,
    "start_time": "2022-01-30T23:08:16.656Z"
   },
   {
    "duration": 8,
    "start_time": "2022-01-30T23:08:16.691Z"
   },
   {
    "duration": 346,
    "start_time": "2022-01-30T23:08:16.702Z"
   },
   {
    "duration": 222,
    "start_time": "2022-01-30T23:08:17.051Z"
   },
   {
    "duration": 11,
    "start_time": "2022-01-30T23:08:17.275Z"
   },
   {
    "duration": 326,
    "start_time": "2022-01-30T23:08:17.288Z"
   },
   {
    "duration": 36,
    "start_time": "2022-01-30T23:08:17.616Z"
   },
   {
    "duration": 10,
    "start_time": "2022-01-30T23:08:17.654Z"
   },
   {
    "duration": 4764,
    "start_time": "2022-01-30T23:08:17.669Z"
   },
   {
    "duration": 43,
    "start_time": "2022-01-30T23:08:22.437Z"
   },
   {
    "duration": 36,
    "start_time": "2022-01-30T23:08:22.482Z"
   },
   {
    "duration": 28,
    "start_time": "2022-01-30T23:08:22.521Z"
   },
   {
    "duration": 19,
    "start_time": "2022-01-30T23:08:22.552Z"
   },
   {
    "duration": 31,
    "start_time": "2022-01-30T23:08:22.574Z"
   },
   {
    "duration": 5,
    "start_time": "2022-01-30T23:08:22.607Z"
   },
   {
    "duration": 44,
    "start_time": "2022-01-30T23:08:22.614Z"
   },
   {
    "duration": 4,
    "start_time": "2022-01-30T23:08:22.661Z"
   },
   {
    "duration": 30,
    "start_time": "2022-01-30T23:08:22.667Z"
   },
   {
    "duration": 69,
    "start_time": "2022-01-30T23:08:22.700Z"
   },
   {
    "duration": 19,
    "start_time": "2022-01-30T23:08:22.772Z"
   },
   {
    "duration": 54,
    "start_time": "2022-01-30T23:08:22.794Z"
   },
   {
    "duration": 14,
    "start_time": "2022-01-30T23:08:22.851Z"
   },
   {
    "duration": 30,
    "start_time": "2022-01-30T23:08:22.868Z"
   },
   {
    "duration": 13,
    "start_time": "2022-01-30T23:08:22.901Z"
   },
   {
    "duration": 59,
    "start_time": "2022-01-30T23:08:22.917Z"
   },
   {
    "duration": 13,
    "start_time": "2022-01-30T23:08:22.979Z"
   },
   {
    "duration": 65,
    "start_time": "2022-01-30T23:08:22.995Z"
   },
   {
    "duration": 427,
    "start_time": "2022-01-31T07:25:59.326Z"
   },
   {
    "duration": 1482,
    "start_time": "2022-01-31T07:26:08.665Z"
   },
   {
    "duration": 15,
    "start_time": "2022-01-31T07:26:10.149Z"
   },
   {
    "duration": 19,
    "start_time": "2022-01-31T07:26:10.167Z"
   },
   {
    "duration": 39,
    "start_time": "2022-01-31T07:26:10.188Z"
   },
   {
    "duration": 8,
    "start_time": "2022-01-31T07:26:10.229Z"
   },
   {
    "duration": 12,
    "start_time": "2022-01-31T07:26:10.239Z"
   },
   {
    "duration": 13,
    "start_time": "2022-01-31T07:26:10.254Z"
   },
   {
    "duration": 5,
    "start_time": "2022-01-31T07:26:10.271Z"
   },
   {
    "duration": 54,
    "start_time": "2022-01-31T07:26:10.279Z"
   },
   {
    "duration": 21,
    "start_time": "2022-01-31T07:26:10.335Z"
   },
   {
    "duration": 23,
    "start_time": "2022-01-31T07:26:10.358Z"
   },
   {
    "duration": 52,
    "start_time": "2022-01-31T07:26:10.383Z"
   },
   {
    "duration": 21,
    "start_time": "2022-01-31T07:26:10.438Z"
   },
   {
    "duration": 16,
    "start_time": "2022-01-31T07:26:10.461Z"
   },
   {
    "duration": 61,
    "start_time": "2022-01-31T07:26:10.479Z"
   },
   {
    "duration": 7,
    "start_time": "2022-01-31T07:26:10.542Z"
   },
   {
    "duration": 321,
    "start_time": "2022-01-31T07:26:10.551Z"
   },
   {
    "duration": 224,
    "start_time": "2022-01-31T07:26:10.874Z"
   },
   {
    "duration": 24,
    "start_time": "2022-01-31T07:26:11.100Z"
   },
   {
    "duration": 339,
    "start_time": "2022-01-31T07:26:11.126Z"
   },
   {
    "duration": 22,
    "start_time": "2022-01-31T07:26:11.468Z"
   },
   {
    "duration": 9,
    "start_time": "2022-01-31T07:26:11.493Z"
   },
   {
    "duration": 5270,
    "start_time": "2022-01-31T07:26:11.528Z"
   },
   {
    "duration": 51,
    "start_time": "2022-01-31T07:26:16.802Z"
   },
   {
    "duration": 38,
    "start_time": "2022-01-31T07:26:16.855Z"
   },
   {
    "duration": 4,
    "start_time": "2022-01-31T07:26:16.896Z"
   },
   {
    "duration": 18,
    "start_time": "2022-01-31T07:26:16.924Z"
   },
   {
    "duration": 37,
    "start_time": "2022-01-31T07:26:16.944Z"
   },
   {
    "duration": 5,
    "start_time": "2022-01-31T07:26:16.983Z"
   },
   {
    "duration": 50,
    "start_time": "2022-01-31T07:26:16.990Z"
   },
   {
    "duration": 4,
    "start_time": "2022-01-31T07:26:17.042Z"
   },
   {
    "duration": 27,
    "start_time": "2022-01-31T07:26:17.049Z"
   },
   {
    "duration": 61,
    "start_time": "2022-01-31T07:26:17.078Z"
   },
   {
    "duration": 20,
    "start_time": "2022-01-31T07:26:17.141Z"
   },
   {
    "duration": 26,
    "start_time": "2022-01-31T07:26:17.163Z"
   },
   {
    "duration": 42,
    "start_time": "2022-01-31T07:26:17.191Z"
   },
   {
    "duration": 28,
    "start_time": "2022-01-31T07:26:17.235Z"
   },
   {
    "duration": 11,
    "start_time": "2022-01-31T07:26:17.266Z"
   },
   {
    "duration": 58,
    "start_time": "2022-01-31T07:26:17.279Z"
   },
   {
    "duration": 12,
    "start_time": "2022-01-31T07:26:17.339Z"
   },
   {
    "duration": 24,
    "start_time": "2022-01-31T07:26:17.354Z"
   },
   {
    "duration": 12,
    "start_time": "2022-01-31T07:36:08.136Z"
   },
   {
    "duration": 1457,
    "start_time": "2022-01-31T07:37:38.904Z"
   },
   {
    "duration": 15,
    "start_time": "2022-01-31T07:37:40.363Z"
   },
   {
    "duration": 13,
    "start_time": "2022-01-31T07:37:40.381Z"
   },
   {
    "duration": 38,
    "start_time": "2022-01-31T07:37:40.397Z"
   },
   {
    "duration": 9,
    "start_time": "2022-01-31T07:37:40.437Z"
   },
   {
    "duration": 14,
    "start_time": "2022-01-31T07:37:40.449Z"
   },
   {
    "duration": 62,
    "start_time": "2022-01-31T07:37:40.466Z"
   },
   {
    "duration": 7,
    "start_time": "2022-01-31T07:37:40.534Z"
   },
   {
    "duration": 17,
    "start_time": "2022-01-31T07:37:40.545Z"
   },
   {
    "duration": 60,
    "start_time": "2022-01-31T07:37:40.565Z"
   },
   {
    "duration": 28,
    "start_time": "2022-01-31T07:37:40.628Z"
   },
   {
    "duration": 24,
    "start_time": "2022-01-31T07:37:40.659Z"
   },
   {
    "duration": 55,
    "start_time": "2022-01-31T07:37:40.686Z"
   },
   {
    "duration": 17,
    "start_time": "2022-01-31T07:37:40.743Z"
   },
   {
    "duration": 33,
    "start_time": "2022-01-31T07:37:40.762Z"
   },
   {
    "duration": 7,
    "start_time": "2022-01-31T07:37:40.823Z"
   },
   {
    "duration": 322,
    "start_time": "2022-01-31T07:37:40.832Z"
   },
   {
    "duration": 219,
    "start_time": "2022-01-31T07:37:41.157Z"
   },
   {
    "duration": 11,
    "start_time": "2022-01-31T07:37:41.378Z"
   },
   {
    "duration": 348,
    "start_time": "2022-01-31T07:37:41.392Z"
   },
   {
    "duration": 21,
    "start_time": "2022-01-31T07:37:41.742Z"
   },
   {
    "duration": 9,
    "start_time": "2022-01-31T07:37:41.766Z"
   },
   {
    "duration": 4897,
    "start_time": "2022-01-31T07:37:41.780Z"
   },
   {
    "duration": 54,
    "start_time": "2022-01-31T07:37:46.680Z"
   },
   {
    "duration": 36,
    "start_time": "2022-01-31T07:37:46.737Z"
   },
   {
    "duration": 4,
    "start_time": "2022-01-31T07:37:46.776Z"
   },
   {
    "duration": 44,
    "start_time": "2022-01-31T07:37:46.782Z"
   },
   {
    "duration": 31,
    "start_time": "2022-01-31T07:37:46.829Z"
   },
   {
    "duration": 5,
    "start_time": "2022-01-31T07:37:46.863Z"
   },
   {
    "duration": 51,
    "start_time": "2022-01-31T07:37:46.871Z"
   },
   {
    "duration": 4,
    "start_time": "2022-01-31T07:37:46.925Z"
   },
   {
    "duration": 27,
    "start_time": "2022-01-31T07:37:46.932Z"
   },
   {
    "duration": 32,
    "start_time": "2022-01-31T07:37:46.961Z"
   },
   {
    "duration": 22,
    "start_time": "2022-01-31T07:37:47.022Z"
   },
   {
    "duration": 24,
    "start_time": "2022-01-31T07:37:47.047Z"
   },
   {
    "duration": 12,
    "start_time": "2022-01-31T07:37:47.074Z"
   },
   {
    "duration": 60,
    "start_time": "2022-01-31T07:37:47.089Z"
   },
   {
    "duration": 13,
    "start_time": "2022-01-31T07:37:47.151Z"
   },
   {
    "duration": 29,
    "start_time": "2022-01-31T07:37:47.167Z"
   },
   {
    "duration": 13,
    "start_time": "2022-01-31T07:37:47.223Z"
   },
   {
    "duration": 21,
    "start_time": "2022-01-31T07:37:47.238Z"
   },
   {
    "duration": 13,
    "start_time": "2022-01-31T07:38:12.451Z"
   },
   {
    "duration": 39,
    "start_time": "2022-01-31T11:32:34.861Z"
   },
   {
    "duration": 41,
    "start_time": "2022-01-31T11:33:33.108Z"
   },
   {
    "duration": 40,
    "start_time": "2022-01-31T11:33:51.173Z"
   },
   {
    "duration": 435,
    "start_time": "2022-01-31T11:36:56.297Z"
   },
   {
    "duration": 48,
    "start_time": "2022-01-31T11:37:18.418Z"
   },
   {
    "duration": 316,
    "start_time": "2022-01-31T11:37:33.300Z"
   },
   {
    "duration": 1557,
    "start_time": "2022-01-31T11:37:40.195Z"
   },
   {
    "duration": 15,
    "start_time": "2022-01-31T11:37:41.754Z"
   },
   {
    "duration": 12,
    "start_time": "2022-01-31T11:37:41.773Z"
   },
   {
    "duration": 40,
    "start_time": "2022-01-31T11:37:41.787Z"
   },
   {
    "duration": 7,
    "start_time": "2022-01-31T11:37:41.829Z"
   },
   {
    "duration": 14,
    "start_time": "2022-01-31T11:37:41.838Z"
   },
   {
    "duration": 19,
    "start_time": "2022-01-31T11:37:41.855Z"
   },
   {
    "duration": 45,
    "start_time": "2022-01-31T11:37:41.879Z"
   },
   {
    "duration": 16,
    "start_time": "2022-01-31T11:37:41.927Z"
   },
   {
    "duration": 21,
    "start_time": "2022-01-31T11:37:41.945Z"
   },
   {
    "duration": 56,
    "start_time": "2022-01-31T11:37:41.968Z"
   },
   {
    "duration": 20,
    "start_time": "2022-01-31T11:37:42.026Z"
   },
   {
    "duration": 20,
    "start_time": "2022-01-31T11:37:42.048Z"
   },
   {
    "duration": 16,
    "start_time": "2022-01-31T11:37:42.071Z"
   },
   {
    "duration": 32,
    "start_time": "2022-01-31T11:37:42.123Z"
   },
   {
    "duration": 7,
    "start_time": "2022-01-31T11:37:42.157Z"
   },
   {
    "duration": 461,
    "start_time": "2022-01-31T11:37:42.167Z"
   },
   {
    "duration": 298,
    "start_time": "2022-01-31T11:37:42.631Z"
   },
   {
    "duration": 14,
    "start_time": "2022-01-31T11:37:42.932Z"
   },
   {
    "duration": 329,
    "start_time": "2022-01-31T11:37:42.949Z"
   },
   {
    "duration": 20,
    "start_time": "2022-01-31T11:37:43.281Z"
   },
   {
    "duration": 26,
    "start_time": "2022-01-31T11:37:43.304Z"
   },
   {
    "duration": 4990,
    "start_time": "2022-01-31T11:37:43.335Z"
   },
   {
    "duration": 37,
    "start_time": "2022-01-31T11:37:48.330Z"
   },
   {
    "duration": 69,
    "start_time": "2022-01-31T11:37:48.370Z"
   },
   {
    "duration": 5,
    "start_time": "2022-01-31T11:37:48.442Z"
   },
   {
    "duration": 21,
    "start_time": "2022-01-31T11:37:48.450Z"
   },
   {
    "duration": 58,
    "start_time": "2022-01-31T11:37:48.474Z"
   },
   {
    "duration": 5,
    "start_time": "2022-01-31T11:37:48.534Z"
   },
   {
    "duration": 18,
    "start_time": "2022-01-31T11:37:48.541Z"
   },
   {
    "duration": 4,
    "start_time": "2022-01-31T11:37:48.562Z"
   },
   {
    "duration": 61,
    "start_time": "2022-01-31T11:37:48.568Z"
   },
   {
    "duration": 32,
    "start_time": "2022-01-31T11:37:48.632Z"
   },
   {
    "duration": 17,
    "start_time": "2022-01-31T11:37:48.667Z"
   },
   {
    "duration": 50,
    "start_time": "2022-01-31T11:37:48.687Z"
   },
   {
    "duration": 13,
    "start_time": "2022-01-31T11:37:48.739Z"
   },
   {
    "duration": 28,
    "start_time": "2022-01-31T11:37:48.754Z"
   },
   {
    "duration": 45,
    "start_time": "2022-01-31T11:37:48.784Z"
   },
   {
    "duration": 458,
    "start_time": "2022-01-31T11:37:48.832Z"
   },
   {
    "duration": -43,
    "start_time": "2022-01-31T11:37:49.337Z"
   },
   {
    "duration": -53,
    "start_time": "2022-01-31T11:37:49.348Z"
   },
   {
    "duration": 50,
    "start_time": "2022-01-31T11:38:15.936Z"
   },
   {
    "duration": 13,
    "start_time": "2022-01-31T11:38:42.846Z"
   },
   {
    "duration": 841,
    "start_time": "2022-01-31T11:41:37.341Z"
   },
   {
    "duration": 478,
    "start_time": "2022-01-31T11:41:45.405Z"
   },
   {
    "duration": 311,
    "start_time": "2022-01-31T11:42:05.447Z"
   },
   {
    "duration": 357,
    "start_time": "2022-01-31T11:42:17.061Z"
   },
   {
    "duration": 275,
    "start_time": "2022-01-31T11:42:24.317Z"
   },
   {
    "duration": 1606,
    "start_time": "2022-01-31T11:43:41.406Z"
   },
   {
    "duration": 15,
    "start_time": "2022-01-31T11:43:43.015Z"
   },
   {
    "duration": 12,
    "start_time": "2022-01-31T11:43:43.037Z"
   },
   {
    "duration": 35,
    "start_time": "2022-01-31T11:43:43.052Z"
   },
   {
    "duration": 33,
    "start_time": "2022-01-31T11:43:43.090Z"
   },
   {
    "duration": 13,
    "start_time": "2022-01-31T11:43:43.126Z"
   },
   {
    "duration": 15,
    "start_time": "2022-01-31T11:43:43.143Z"
   },
   {
    "duration": 11,
    "start_time": "2022-01-31T11:43:43.161Z"
   },
   {
    "duration": 61,
    "start_time": "2022-01-31T11:43:43.175Z"
   },
   {
    "duration": 22,
    "start_time": "2022-01-31T11:43:43.239Z"
   },
   {
    "duration": 26,
    "start_time": "2022-01-31T11:43:43.265Z"
   },
   {
    "duration": 47,
    "start_time": "2022-01-31T11:43:43.293Z"
   },
   {
    "duration": 21,
    "start_time": "2022-01-31T11:43:43.342Z"
   },
   {
    "duration": 18,
    "start_time": "2022-01-31T11:43:43.365Z"
   },
   {
    "duration": 71,
    "start_time": "2022-01-31T11:43:43.386Z"
   },
   {
    "duration": 7,
    "start_time": "2022-01-31T11:43:43.460Z"
   },
   {
    "duration": 339,
    "start_time": "2022-01-31T11:43:43.469Z"
   },
   {
    "duration": 224,
    "start_time": "2022-01-31T11:43:43.811Z"
   },
   {
    "duration": 13,
    "start_time": "2022-01-31T11:43:44.038Z"
   },
   {
    "duration": 334,
    "start_time": "2022-01-31T11:43:44.054Z"
   },
   {
    "duration": 33,
    "start_time": "2022-01-31T11:43:44.391Z"
   },
   {
    "duration": 8,
    "start_time": "2022-01-31T11:43:44.429Z"
   },
   {
    "duration": 5222,
    "start_time": "2022-01-31T11:43:44.440Z"
   },
   {
    "duration": 67,
    "start_time": "2022-01-31T11:43:49.665Z"
   },
   {
    "duration": 35,
    "start_time": "2022-01-31T11:43:49.735Z"
   },
   {
    "duration": 3,
    "start_time": "2022-01-31T11:43:49.773Z"
   },
   {
    "duration": 51,
    "start_time": "2022-01-31T11:43:49.779Z"
   },
   {
    "duration": 38,
    "start_time": "2022-01-31T11:43:49.833Z"
   },
   {
    "duration": 5,
    "start_time": "2022-01-31T11:43:49.874Z"
   },
   {
    "duration": 51,
    "start_time": "2022-01-31T11:43:49.882Z"
   },
   {
    "duration": 6,
    "start_time": "2022-01-31T11:43:49.935Z"
   },
   {
    "duration": 37,
    "start_time": "2022-01-31T11:43:49.944Z"
   },
   {
    "duration": 66,
    "start_time": "2022-01-31T11:43:49.984Z"
   },
   {
    "duration": 27,
    "start_time": "2022-01-31T11:43:50.053Z"
   },
   {
    "duration": 42,
    "start_time": "2022-01-31T11:43:50.083Z"
   },
   {
    "duration": 14,
    "start_time": "2022-01-31T11:43:50.127Z"
   },
   {
    "duration": 40,
    "start_time": "2022-01-31T11:43:50.143Z"
   },
   {
    "duration": 13,
    "start_time": "2022-01-31T11:43:50.185Z"
   },
   {
    "duration": 28,
    "start_time": "2022-01-31T11:43:50.224Z"
   },
   {
    "duration": 12,
    "start_time": "2022-01-31T11:43:50.254Z"
   },
   {
    "duration": 1213,
    "start_time": "2022-02-09T12:50:09.905Z"
   },
   {
    "duration": 11,
    "start_time": "2022-02-09T12:50:11.120Z"
   },
   {
    "duration": 23,
    "start_time": "2022-02-09T12:50:11.134Z"
   },
   {
    "duration": 28,
    "start_time": "2022-02-09T12:50:11.160Z"
   },
   {
    "duration": 6,
    "start_time": "2022-02-09T12:50:11.190Z"
   },
   {
    "duration": 27,
    "start_time": "2022-02-09T12:50:11.198Z"
   },
   {
    "duration": 23,
    "start_time": "2022-02-09T12:50:11.228Z"
   },
   {
    "duration": 18,
    "start_time": "2022-02-09T12:50:11.254Z"
   },
   {
    "duration": 18,
    "start_time": "2022-02-09T12:50:11.274Z"
   },
   {
    "duration": 26,
    "start_time": "2022-02-09T12:50:11.294Z"
   },
   {
    "duration": 18,
    "start_time": "2022-02-09T12:50:11.322Z"
   },
   {
    "duration": 19,
    "start_time": "2022-02-09T12:50:11.342Z"
   },
   {
    "duration": 30,
    "start_time": "2022-02-09T12:50:11.363Z"
   },
   {
    "duration": 27,
    "start_time": "2022-02-09T12:50:11.394Z"
   },
   {
    "duration": 48,
    "start_time": "2022-02-09T12:50:11.422Z"
   },
   {
    "duration": 19,
    "start_time": "2022-02-09T12:50:11.471Z"
   },
   {
    "duration": 231,
    "start_time": "2022-02-09T12:50:11.491Z"
   },
   {
    "duration": 160,
    "start_time": "2022-02-09T12:50:11.724Z"
   },
   {
    "duration": 18,
    "start_time": "2022-02-09T12:50:11.887Z"
   },
   {
    "duration": 243,
    "start_time": "2022-02-09T12:50:11.907Z"
   },
   {
    "duration": 19,
    "start_time": "2022-02-09T12:50:12.152Z"
   },
   {
    "duration": 4,
    "start_time": "2022-02-09T12:50:12.173Z"
   },
   {
    "duration": 4031,
    "start_time": "2022-02-09T12:50:12.180Z"
   },
   {
    "duration": 27,
    "start_time": "2022-02-09T12:50:16.214Z"
   },
   {
    "duration": 29,
    "start_time": "2022-02-09T12:50:16.242Z"
   },
   {
    "duration": 3,
    "start_time": "2022-02-09T12:50:16.273Z"
   },
   {
    "duration": 13,
    "start_time": "2022-02-09T12:50:16.298Z"
   },
   {
    "duration": 25,
    "start_time": "2022-02-09T12:50:16.313Z"
   },
   {
    "duration": 3,
    "start_time": "2022-02-09T12:50:16.340Z"
   },
   {
    "duration": 22,
    "start_time": "2022-02-09T12:50:16.345Z"
   },
   {
    "duration": 5,
    "start_time": "2022-02-09T12:50:16.368Z"
   },
   {
    "duration": 32,
    "start_time": "2022-02-09T12:50:16.399Z"
   },
   {
    "duration": 26,
    "start_time": "2022-02-09T12:50:16.434Z"
   },
   {
    "duration": 36,
    "start_time": "2022-02-09T12:50:16.463Z"
   },
   {
    "duration": 31,
    "start_time": "2022-02-09T12:50:16.502Z"
   },
   {
    "duration": 11,
    "start_time": "2022-02-09T12:50:16.535Z"
   },
   {
    "duration": 22,
    "start_time": "2022-02-09T12:50:16.548Z"
   },
   {
    "duration": 30,
    "start_time": "2022-02-09T12:50:16.572Z"
   },
   {
    "duration": 21,
    "start_time": "2022-02-09T12:50:16.605Z"
   },
   {
    "duration": 9,
    "start_time": "2022-02-09T12:50:16.628Z"
   },
   {
    "duration": 15,
    "start_time": "2022-02-09T12:58:03.803Z"
   },
   {
    "duration": 410,
    "start_time": "2022-02-13T12:56:58.421Z"
   },
   {
    "duration": 324,
    "start_time": "2022-02-13T12:57:09.619Z"
   },
   {
    "duration": 1809,
    "start_time": "2022-02-13T12:57:18.669Z"
   },
   {
    "duration": 18,
    "start_time": "2022-02-13T12:57:20.481Z"
   },
   {
    "duration": 25,
    "start_time": "2022-02-13T12:57:20.503Z"
   },
   {
    "duration": 46,
    "start_time": "2022-02-13T12:57:20.531Z"
   },
   {
    "duration": 16,
    "start_time": "2022-02-13T12:57:20.580Z"
   },
   {
    "duration": 25,
    "start_time": "2022-02-13T12:57:20.598Z"
   },
   {
    "duration": 24,
    "start_time": "2022-02-13T12:57:20.625Z"
   },
   {
    "duration": 23,
    "start_time": "2022-02-13T12:57:20.652Z"
   },
   {
    "duration": 442,
    "start_time": "2022-02-13T12:57:20.679Z"
   },
   {
    "duration": -68,
    "start_time": "2022-02-13T12:57:21.193Z"
   },
   {
    "duration": -72,
    "start_time": "2022-02-13T12:57:21.199Z"
   },
   {
    "duration": -75,
    "start_time": "2022-02-13T12:57:21.204Z"
   },
   {
    "duration": -81,
    "start_time": "2022-02-13T12:57:21.212Z"
   },
   {
    "duration": -86,
    "start_time": "2022-02-13T12:57:21.218Z"
   },
   {
    "duration": -92,
    "start_time": "2022-02-13T12:57:21.225Z"
   },
   {
    "duration": -96,
    "start_time": "2022-02-13T12:57:21.230Z"
   },
   {
    "duration": -100,
    "start_time": "2022-02-13T12:57:21.236Z"
   },
   {
    "duration": -104,
    "start_time": "2022-02-13T12:57:21.241Z"
   },
   {
    "duration": -109,
    "start_time": "2022-02-13T12:57:21.247Z"
   },
   {
    "duration": -114,
    "start_time": "2022-02-13T12:57:21.253Z"
   },
   {
    "duration": -118,
    "start_time": "2022-02-13T12:57:21.259Z"
   },
   {
    "duration": -123,
    "start_time": "2022-02-13T12:57:21.265Z"
   },
   {
    "duration": -126,
    "start_time": "2022-02-13T12:57:21.270Z"
   },
   {
    "duration": -131,
    "start_time": "2022-02-13T12:57:21.276Z"
   },
   {
    "duration": -134,
    "start_time": "2022-02-13T12:57:21.281Z"
   },
   {
    "duration": -145,
    "start_time": "2022-02-13T12:57:21.294Z"
   },
   {
    "duration": -149,
    "start_time": "2022-02-13T12:57:21.299Z"
   },
   {
    "duration": -152,
    "start_time": "2022-02-13T12:57:21.304Z"
   },
   {
    "duration": -158,
    "start_time": "2022-02-13T12:57:21.312Z"
   },
   {
    "duration": -162,
    "start_time": "2022-02-13T12:57:21.317Z"
   },
   {
    "duration": -166,
    "start_time": "2022-02-13T12:57:21.322Z"
   },
   {
    "duration": -169,
    "start_time": "2022-02-13T12:57:21.327Z"
   },
   {
    "duration": -161,
    "start_time": "2022-02-13T12:57:21.333Z"
   },
   {
    "duration": -164,
    "start_time": "2022-02-13T12:57:21.338Z"
   },
   {
    "duration": -167,
    "start_time": "2022-02-13T12:57:21.343Z"
   },
   {
    "duration": -171,
    "start_time": "2022-02-13T12:57:21.349Z"
   },
   {
    "duration": -175,
    "start_time": "2022-02-13T12:57:21.354Z"
   },
   {
    "duration": -178,
    "start_time": "2022-02-13T12:57:21.359Z"
   },
   {
    "duration": -182,
    "start_time": "2022-02-13T12:57:21.365Z"
   },
   {
    "duration": -185,
    "start_time": "2022-02-13T12:57:21.369Z"
   },
   {
    "duration": -190,
    "start_time": "2022-02-13T12:57:21.376Z"
   },
   {
    "duration": 10,
    "start_time": "2022-02-13T12:59:20.598Z"
   },
   {
    "duration": 12,
    "start_time": "2022-02-13T12:59:21.554Z"
   },
   {
    "duration": 15,
    "start_time": "2022-02-13T12:59:25.789Z"
   },
   {
    "duration": 285,
    "start_time": "2022-02-13T12:59:31.275Z"
   },
   {
    "duration": 16,
    "start_time": "2022-02-13T13:03:58.076Z"
   },
   {
    "duration": 14,
    "start_time": "2022-02-13T13:03:59.303Z"
   },
   {
    "duration": 19,
    "start_time": "2022-02-13T13:04:25.943Z"
   },
   {
    "duration": 12,
    "start_time": "2022-02-13T13:04:26.409Z"
   },
   {
    "duration": 1550,
    "start_time": "2022-02-13T13:04:39.190Z"
   },
   {
    "duration": 27,
    "start_time": "2022-02-13T13:04:40.743Z"
   },
   {
    "duration": 12,
    "start_time": "2022-02-13T13:04:40.773Z"
   },
   {
    "duration": 19,
    "start_time": "2022-02-13T13:04:40.788Z"
   },
   {
    "duration": 15,
    "start_time": "2022-02-13T13:04:40.809Z"
   },
   {
    "duration": 20,
    "start_time": "2022-02-13T13:04:40.871Z"
   },
   {
    "duration": 15,
    "start_time": "2022-02-13T13:04:40.894Z"
   },
   {
    "duration": 20,
    "start_time": "2022-02-13T13:04:40.915Z"
   },
   {
    "duration": 9,
    "start_time": "2022-02-13T13:04:40.971Z"
   },
   {
    "duration": 26,
    "start_time": "2022-02-13T13:04:40.983Z"
   },
   {
    "duration": 62,
    "start_time": "2022-02-13T13:04:41.012Z"
   },
   {
    "duration": 26,
    "start_time": "2022-02-13T13:04:41.076Z"
   },
   {
    "duration": 34,
    "start_time": "2022-02-13T13:04:41.106Z"
   },
   {
    "duration": 58,
    "start_time": "2022-02-13T13:04:41.143Z"
   },
   {
    "duration": 34,
    "start_time": "2022-02-13T13:04:41.204Z"
   },
   {
    "duration": 72,
    "start_time": "2022-02-13T13:04:41.241Z"
   },
   {
    "duration": 9,
    "start_time": "2022-02-13T13:04:41.316Z"
   },
   {
    "duration": 361,
    "start_time": "2022-02-13T13:04:41.328Z"
   },
   {
    "duration": 337,
    "start_time": "2022-02-13T13:04:41.692Z"
   },
   {
    "duration": 16,
    "start_time": "2022-02-13T13:04:42.033Z"
   },
   {
    "duration": 480,
    "start_time": "2022-02-13T13:04:42.052Z"
   },
   {
    "duration": 48,
    "start_time": "2022-02-13T13:04:42.536Z"
   },
   {
    "duration": 9,
    "start_time": "2022-02-13T13:04:42.590Z"
   },
   {
    "duration": 5005,
    "start_time": "2022-02-13T13:04:42.602Z"
   },
   {
    "duration": 41,
    "start_time": "2022-02-13T13:04:47.610Z"
   },
   {
    "duration": 37,
    "start_time": "2022-02-13T13:04:47.670Z"
   },
   {
    "duration": 5,
    "start_time": "2022-02-13T13:04:47.709Z"
   },
   {
    "duration": 19,
    "start_time": "2022-02-13T13:04:47.716Z"
   },
   {
    "duration": 61,
    "start_time": "2022-02-13T13:04:47.737Z"
   },
   {
    "duration": 4,
    "start_time": "2022-02-13T13:04:47.801Z"
   },
   {
    "duration": 25,
    "start_time": "2022-02-13T13:04:47.808Z"
   },
   {
    "duration": 32,
    "start_time": "2022-02-13T13:04:47.837Z"
   },
   {
    "duration": 26,
    "start_time": "2022-02-13T13:04:47.872Z"
   },
   {
    "duration": 32,
    "start_time": "2022-02-13T13:04:47.902Z"
   },
   {
    "duration": 48,
    "start_time": "2022-02-13T13:04:47.937Z"
   },
   {
    "duration": 29,
    "start_time": "2022-02-13T13:04:47.987Z"
   },
   {
    "duration": 14,
    "start_time": "2022-02-13T13:04:48.019Z"
   },
   {
    "duration": 58,
    "start_time": "2022-02-13T13:04:48.036Z"
   },
   {
    "duration": 11,
    "start_time": "2022-02-13T13:04:48.097Z"
   },
   {
    "duration": 58,
    "start_time": "2022-02-13T13:04:48.111Z"
   },
   {
    "duration": 14,
    "start_time": "2022-02-13T13:04:48.172Z"
   },
   {
    "duration": 814,
    "start_time": "2022-02-13T13:08:35.846Z"
   },
   {
    "duration": 335,
    "start_time": "2022-02-13T13:08:48.501Z"
   },
   {
    "duration": 338,
    "start_time": "2022-02-13T15:32:33.263Z"
   },
   {
    "duration": 1488,
    "start_time": "2022-02-13T15:32:40.407Z"
   },
   {
    "duration": 15,
    "start_time": "2022-02-13T15:32:41.898Z"
   },
   {
    "duration": 32,
    "start_time": "2022-02-13T15:32:41.917Z"
   },
   {
    "duration": 19,
    "start_time": "2022-02-13T15:32:41.952Z"
   },
   {
    "duration": 12,
    "start_time": "2022-02-13T15:32:41.974Z"
   },
   {
    "duration": 16,
    "start_time": "2022-02-13T15:32:41.988Z"
   },
   {
    "duration": 49,
    "start_time": "2022-02-13T15:32:42.007Z"
   },
   {
    "duration": 14,
    "start_time": "2022-02-13T15:32:42.060Z"
   },
   {
    "duration": 6,
    "start_time": "2022-02-13T15:32:42.077Z"
   },
   {
    "duration": 19,
    "start_time": "2022-02-13T15:32:42.086Z"
   },
   {
    "duration": 62,
    "start_time": "2022-02-13T15:32:42.108Z"
   },
   {
    "duration": 27,
    "start_time": "2022-02-13T15:32:42.173Z"
   },
   {
    "duration": 52,
    "start_time": "2022-02-13T15:32:42.203Z"
   },
   {
    "duration": 21,
    "start_time": "2022-02-13T15:32:42.258Z"
   },
   {
    "duration": 16,
    "start_time": "2022-02-13T15:32:42.282Z"
   },
   {
    "duration": 58,
    "start_time": "2022-02-13T15:32:42.301Z"
   },
   {
    "duration": 7,
    "start_time": "2022-02-13T15:32:42.361Z"
   },
   {
    "duration": 322,
    "start_time": "2022-02-13T15:32:42.371Z"
   },
   {
    "duration": 215,
    "start_time": "2022-02-13T15:32:42.695Z"
   },
   {
    "duration": 11,
    "start_time": "2022-02-13T15:32:42.912Z"
   },
   {
    "duration": 341,
    "start_time": "2022-02-13T15:32:42.926Z"
   },
   {
    "duration": 23,
    "start_time": "2022-02-13T15:32:43.269Z"
   },
   {
    "duration": 9,
    "start_time": "2022-02-13T15:32:43.297Z"
   },
   {
    "duration": 5014,
    "start_time": "2022-02-13T15:32:43.309Z"
   },
   {
    "duration": 48,
    "start_time": "2022-02-13T15:32:48.325Z"
   },
   {
    "duration": 37,
    "start_time": "2022-02-13T15:32:48.375Z"
   },
   {
    "duration": 4,
    "start_time": "2022-02-13T15:32:48.414Z"
   },
   {
    "duration": 38,
    "start_time": "2022-02-13T15:32:48.420Z"
   },
   {
    "duration": 43,
    "start_time": "2022-02-13T15:32:48.461Z"
   },
   {
    "duration": 5,
    "start_time": "2022-02-13T15:32:48.506Z"
   },
   {
    "duration": 42,
    "start_time": "2022-02-13T15:32:48.513Z"
   },
   {
    "duration": 4,
    "start_time": "2022-02-13T15:32:48.557Z"
   },
   {
    "duration": 24,
    "start_time": "2022-02-13T15:32:48.564Z"
   },
   {
    "duration": 23,
    "start_time": "2022-02-13T15:32:48.590Z"
   },
   {
    "duration": 31,
    "start_time": "2022-02-13T15:32:48.650Z"
   },
   {
    "duration": 33,
    "start_time": "2022-02-13T15:32:48.684Z"
   },
   {
    "duration": 45,
    "start_time": "2022-02-13T15:32:48.720Z"
   },
   {
    "duration": 13,
    "start_time": "2022-02-13T15:32:48.768Z"
   },
   {
    "duration": 66,
    "start_time": "2022-02-13T15:32:48.783Z"
   },
   {
    "duration": 19,
    "start_time": "2022-02-13T15:32:48.852Z"
   },
   {
    "duration": 68,
    "start_time": "2022-02-13T15:32:48.874Z"
   },
   {
    "duration": 15,
    "start_time": "2022-02-13T15:32:48.945Z"
   },
   {
    "duration": 22,
    "start_time": "2022-02-13T15:32:56.402Z"
   },
   {
    "duration": 4,
    "start_time": "2022-02-13T15:33:59.423Z"
   },
   {
    "duration": 7,
    "start_time": "2022-02-13T15:34:11.456Z"
   },
   {
    "duration": 431,
    "start_time": "2022-02-13T15:37:19.624Z"
   },
   {
    "duration": 4,
    "start_time": "2022-02-13T15:37:23.558Z"
   },
   {
    "duration": 290,
    "start_time": "2022-02-13T15:37:23.941Z"
   },
   {
    "duration": 368,
    "start_time": "2022-02-13T15:39:19.608Z"
   },
   {
    "duration": 1584,
    "start_time": "2022-02-13T15:39:46.681Z"
   },
   {
    "duration": 16,
    "start_time": "2022-02-13T15:39:48.269Z"
   },
   {
    "duration": 13,
    "start_time": "2022-02-13T15:39:48.291Z"
   },
   {
    "duration": 54,
    "start_time": "2022-02-13T15:39:48.307Z"
   },
   {
    "duration": 13,
    "start_time": "2022-02-13T15:39:48.364Z"
   },
   {
    "duration": 14,
    "start_time": "2022-02-13T15:39:48.380Z"
   },
   {
    "duration": 11,
    "start_time": "2022-02-13T15:39:48.397Z"
   },
   {
    "duration": 45,
    "start_time": "2022-02-13T15:39:48.412Z"
   },
   {
    "duration": 7,
    "start_time": "2022-02-13T15:39:48.460Z"
   },
   {
    "duration": 18,
    "start_time": "2022-02-13T15:39:48.469Z"
   },
   {
    "duration": 20,
    "start_time": "2022-02-13T15:39:48.489Z"
   },
   {
    "duration": 54,
    "start_time": "2022-02-13T15:39:48.512Z"
   },
   {
    "duration": 21,
    "start_time": "2022-02-13T15:39:48.568Z"
   },
   {
    "duration": 20,
    "start_time": "2022-02-13T15:39:48.592Z"
   },
   {
    "duration": 15,
    "start_time": "2022-02-13T15:39:48.648Z"
   },
   {
    "duration": 33,
    "start_time": "2022-02-13T15:39:48.666Z"
   },
   {
    "duration": 7,
    "start_time": "2022-02-13T15:39:48.702Z"
   },
   {
    "duration": 363,
    "start_time": "2022-02-13T15:39:48.712Z"
   },
   {
    "duration": 236,
    "start_time": "2022-02-13T15:39:49.077Z"
   },
   {
    "duration": 13,
    "start_time": "2022-02-13T15:39:49.316Z"
   },
   {
    "duration": 326,
    "start_time": "2022-02-13T15:39:49.348Z"
   },
   {
    "duration": 22,
    "start_time": "2022-02-13T15:39:49.677Z"
   },
   {
    "duration": 9,
    "start_time": "2022-02-13T15:39:49.704Z"
   },
   {
    "duration": 4955,
    "start_time": "2022-02-13T15:39:49.716Z"
   },
   {
    "duration": 35,
    "start_time": "2022-02-13T15:39:54.674Z"
   },
   {
    "duration": 59,
    "start_time": "2022-02-13T15:39:54.712Z"
   },
   {
    "duration": 5,
    "start_time": "2022-02-13T15:39:54.773Z"
   },
   {
    "duration": 25,
    "start_time": "2022-02-13T15:39:54.780Z"
   },
   {
    "duration": 48,
    "start_time": "2022-02-13T15:39:54.808Z"
   },
   {
    "duration": 4,
    "start_time": "2022-02-13T15:39:54.859Z"
   },
   {
    "duration": 25,
    "start_time": "2022-02-13T15:39:54.866Z"
   },
   {
    "duration": 18,
    "start_time": "2022-02-13T15:39:54.894Z"
   },
   {
    "duration": 40,
    "start_time": "2022-02-13T15:39:54.915Z"
   },
   {
    "duration": 34,
    "start_time": "2022-02-13T15:39:54.960Z"
   },
   {
    "duration": 680,
    "start_time": "2022-02-13T15:39:54.997Z"
   },
   {
    "duration": -148,
    "start_time": "2022-02-13T15:39:55.827Z"
   },
   {
    "duration": -154,
    "start_time": "2022-02-13T15:39:55.835Z"
   },
   {
    "duration": -159,
    "start_time": "2022-02-13T15:39:55.842Z"
   },
   {
    "duration": -162,
    "start_time": "2022-02-13T15:39:55.847Z"
   },
   {
    "duration": -175,
    "start_time": "2022-02-13T15:39:55.862Z"
   },
   {
    "duration": -177,
    "start_time": "2022-02-13T15:39:55.867Z"
   },
   {
    "duration": -181,
    "start_time": "2022-02-13T15:39:55.873Z"
   },
   {
    "duration": -184,
    "start_time": "2022-02-13T15:39:55.878Z"
   },
   {
    "duration": 15,
    "start_time": "2022-02-13T15:40:35.112Z"
   },
   {
    "duration": 18,
    "start_time": "2022-02-13T15:40:48.503Z"
   },
   {
    "duration": 342,
    "start_time": "2022-02-13T15:41:20.497Z"
   },
   {
    "duration": 185,
    "start_time": "2022-02-13T15:41:27.748Z"
   },
   {
    "duration": 22,
    "start_time": "2022-02-13T15:44:14.381Z"
   },
   {
    "duration": 19,
    "start_time": "2022-02-13T15:44:23.899Z"
   },
   {
    "duration": 19,
    "start_time": "2022-02-13T15:45:55.491Z"
   },
   {
    "duration": 3,
    "start_time": "2022-02-13T15:51:59.852Z"
   },
   {
    "duration": 4,
    "start_time": "2022-02-13T15:52:00.280Z"
   },
   {
    "duration": 14,
    "start_time": "2022-02-13T15:53:29.859Z"
   },
   {
    "duration": 17,
    "start_time": "2022-02-13T15:55:19.167Z"
   },
   {
    "duration": 6,
    "start_time": "2022-02-13T15:55:44.306Z"
   },
   {
    "duration": 8,
    "start_time": "2022-02-13T15:56:14.420Z"
   },
   {
    "duration": 16,
    "start_time": "2022-02-13T15:58:12.453Z"
   },
   {
    "duration": 1519,
    "start_time": "2022-02-13T16:01:11.072Z"
   },
   {
    "duration": 15,
    "start_time": "2022-02-13T16:01:12.593Z"
   },
   {
    "duration": 16,
    "start_time": "2022-02-13T16:01:12.611Z"
   },
   {
    "duration": 16,
    "start_time": "2022-02-13T16:01:12.648Z"
   },
   {
    "duration": 13,
    "start_time": "2022-02-13T16:01:12.666Z"
   },
   {
    "duration": 15,
    "start_time": "2022-02-13T16:01:12.681Z"
   },
   {
    "duration": 13,
    "start_time": "2022-02-13T16:01:12.698Z"
   },
   {
    "duration": 14,
    "start_time": "2022-02-13T16:01:12.751Z"
   },
   {
    "duration": 7,
    "start_time": "2022-02-13T16:01:12.769Z"
   },
   {
    "duration": 19,
    "start_time": "2022-02-13T16:01:12.779Z"
   },
   {
    "duration": 62,
    "start_time": "2022-02-13T16:01:12.801Z"
   },
   {
    "duration": 26,
    "start_time": "2022-02-13T16:01:12.866Z"
   },
   {
    "duration": 22,
    "start_time": "2022-02-13T16:01:12.894Z"
   },
   {
    "duration": 49,
    "start_time": "2022-02-13T16:01:12.919Z"
   },
   {
    "duration": 15,
    "start_time": "2022-02-13T16:01:12.971Z"
   },
   {
    "duration": 65,
    "start_time": "2022-02-13T16:01:12.989Z"
   },
   {
    "duration": 9,
    "start_time": "2022-02-13T16:01:13.057Z"
   },
   {
    "duration": 342,
    "start_time": "2022-02-13T16:01:13.069Z"
   },
   {
    "duration": 217,
    "start_time": "2022-02-13T16:01:13.414Z"
   },
   {
    "duration": 22,
    "start_time": "2022-02-13T16:01:13.634Z"
   },
   {
    "duration": 332,
    "start_time": "2022-02-13T16:01:13.659Z"
   },
   {
    "duration": 22,
    "start_time": "2022-02-13T16:01:13.994Z"
   },
   {
    "duration": 27,
    "start_time": "2022-02-13T16:01:14.021Z"
   },
   {
    "duration": 5054,
    "start_time": "2022-02-13T16:01:14.051Z"
   },
   {
    "duration": 51,
    "start_time": "2022-02-13T16:01:19.109Z"
   },
   {
    "duration": 37,
    "start_time": "2022-02-13T16:01:19.163Z"
   },
   {
    "duration": 5,
    "start_time": "2022-02-13T16:01:19.203Z"
   },
   {
    "duration": 43,
    "start_time": "2022-02-13T16:01:19.226Z"
   },
   {
    "duration": 44,
    "start_time": "2022-02-13T16:01:19.272Z"
   },
   {
    "duration": 29,
    "start_time": "2022-02-13T16:01:19.319Z"
   },
   {
    "duration": 20,
    "start_time": "2022-02-13T16:01:19.351Z"
   },
   {
    "duration": 6,
    "start_time": "2022-02-13T16:01:19.374Z"
   },
   {
    "duration": 26,
    "start_time": "2022-02-13T16:01:19.383Z"
   },
   {
    "duration": 54,
    "start_time": "2022-02-13T16:01:19.412Z"
   },
   {
    "duration": 13,
    "start_time": "2022-02-13T16:01:19.468Z"
   },
   {
    "duration": 27,
    "start_time": "2022-02-13T16:01:19.483Z"
   },
   {
    "duration": 65,
    "start_time": "2022-02-13T16:01:19.513Z"
   },
   {
    "duration": 30,
    "start_time": "2022-02-13T16:01:19.581Z"
   },
   {
    "duration": 12,
    "start_time": "2022-02-13T16:01:19.613Z"
   },
   {
    "duration": 46,
    "start_time": "2022-02-13T16:01:19.627Z"
   },
   {
    "duration": 12,
    "start_time": "2022-02-13T16:01:19.676Z"
   },
   {
    "duration": 31,
    "start_time": "2022-02-13T16:01:19.690Z"
   },
   {
    "duration": 17,
    "start_time": "2022-02-13T16:01:19.750Z"
   },
   {
    "duration": 477,
    "start_time": "2022-02-13T16:03:03.341Z"
   },
   {
    "duration": 312,
    "start_time": "2022-02-13T16:03:19.893Z"
   },
   {
    "duration": 18,
    "start_time": "2022-02-13T16:03:26.179Z"
   },
   {
    "duration": 297,
    "start_time": "2022-02-13T16:04:39.440Z"
   },
   {
    "duration": 6,
    "start_time": "2022-02-13T16:04:45.601Z"
   },
   {
    "duration": 18,
    "start_time": "2022-02-13T16:07:15.792Z"
   },
   {
    "duration": 8,
    "start_time": "2022-02-13T16:07:16.599Z"
   },
   {
    "duration": 18,
    "start_time": "2022-02-13T16:07:24.953Z"
   },
   {
    "duration": 19,
    "start_time": "2022-02-13T16:07:34.912Z"
   },
   {
    "duration": 5,
    "start_time": "2022-02-13T16:11:45.463Z"
   },
   {
    "duration": 20,
    "start_time": "2022-02-13T16:15:59.802Z"
   },
   {
    "duration": 45,
    "start_time": "2022-02-13T16:16:04.742Z"
   },
   {
    "duration": 36,
    "start_time": "2022-02-13T16:16:39.037Z"
   },
   {
    "duration": 13,
    "start_time": "2022-02-13T16:16:44.260Z"
   },
   {
    "duration": 14,
    "start_time": "2022-02-13T16:18:29.100Z"
   },
   {
    "duration": 1967,
    "start_time": "2022-02-13T16:19:04.992Z"
   },
   {
    "duration": 20,
    "start_time": "2022-02-13T16:19:06.962Z"
   },
   {
    "duration": 18,
    "start_time": "2022-02-13T16:19:06.987Z"
   },
   {
    "duration": 59,
    "start_time": "2022-02-13T16:19:07.009Z"
   },
   {
    "duration": 16,
    "start_time": "2022-02-13T16:19:07.071Z"
   },
   {
    "duration": 18,
    "start_time": "2022-02-13T16:19:07.089Z"
   },
   {
    "duration": 44,
    "start_time": "2022-02-13T16:19:07.111Z"
   },
   {
    "duration": 25,
    "start_time": "2022-02-13T16:19:07.161Z"
   },
   {
    "duration": 8,
    "start_time": "2022-02-13T16:19:07.190Z"
   },
   {
    "duration": 64,
    "start_time": "2022-02-13T16:19:07.201Z"
   },
   {
    "duration": 31,
    "start_time": "2022-02-13T16:19:07.268Z"
   },
   {
    "duration": 61,
    "start_time": "2022-02-13T16:19:07.302Z"
   },
   {
    "duration": 39,
    "start_time": "2022-02-13T16:19:07.366Z"
   },
   {
    "duration": 44,
    "start_time": "2022-02-13T16:19:07.408Z"
   },
   {
    "duration": 17,
    "start_time": "2022-02-13T16:19:07.455Z"
   },
   {
    "duration": 41,
    "start_time": "2022-02-13T16:19:07.474Z"
   },
   {
    "duration": 42,
    "start_time": "2022-02-13T16:19:07.518Z"
   },
   {
    "duration": 486,
    "start_time": "2022-02-13T16:19:07.563Z"
   },
   {
    "duration": 259,
    "start_time": "2022-02-13T16:19:08.052Z"
   },
   {
    "duration": 14,
    "start_time": "2022-02-13T16:19:08.314Z"
   },
   {
    "duration": 401,
    "start_time": "2022-02-13T16:19:08.331Z"
   },
   {
    "duration": 43,
    "start_time": "2022-02-13T16:19:08.736Z"
   },
   {
    "duration": 33,
    "start_time": "2022-02-13T16:19:08.786Z"
   },
   {
    "duration": 6693,
    "start_time": "2022-02-13T16:19:08.822Z"
   },
   {
    "duration": 67,
    "start_time": "2022-02-13T16:19:15.519Z"
   },
   {
    "duration": 40,
    "start_time": "2022-02-13T16:19:15.590Z"
   },
   {
    "duration": 17,
    "start_time": "2022-02-13T16:19:15.633Z"
   },
   {
    "duration": 25,
    "start_time": "2022-02-13T16:19:15.652Z"
   },
   {
    "duration": 36,
    "start_time": "2022-02-13T16:19:15.681Z"
   },
   {
    "duration": 30,
    "start_time": "2022-02-13T16:19:15.719Z"
   },
   {
    "duration": 25,
    "start_time": "2022-02-13T16:19:15.752Z"
   },
   {
    "duration": 6,
    "start_time": "2022-02-13T16:19:15.780Z"
   },
   {
    "duration": 65,
    "start_time": "2022-02-13T16:19:15.790Z"
   },
   {
    "duration": 25,
    "start_time": "2022-02-13T16:19:15.857Z"
   },
   {
    "duration": 14,
    "start_time": "2022-02-13T16:19:15.885Z"
   },
   {
    "duration": 62,
    "start_time": "2022-02-13T16:19:15.901Z"
   },
   {
    "duration": 33,
    "start_time": "2022-02-13T16:19:15.966Z"
   },
   {
    "duration": 27,
    "start_time": "2022-02-13T16:19:16.002Z"
   },
   {
    "duration": 26,
    "start_time": "2022-02-13T16:19:16.033Z"
   },
   {
    "duration": 40,
    "start_time": "2022-02-13T16:19:16.062Z"
   },
   {
    "duration": 45,
    "start_time": "2022-02-13T16:19:16.105Z"
   },
   {
    "duration": 32,
    "start_time": "2022-02-13T16:19:16.153Z"
   },
   {
    "duration": 17,
    "start_time": "2022-02-13T16:19:16.188Z"
   },
   {
    "duration": 7,
    "start_time": "2022-02-13T16:21:00.010Z"
   },
   {
    "duration": 2287,
    "start_time": "2022-02-13T16:21:46.077Z"
   },
   {
    "duration": 16,
    "start_time": "2022-02-13T16:26:51.256Z"
   },
   {
    "duration": 33,
    "start_time": "2022-02-13T16:26:52.160Z"
   },
   {
    "duration": 1269,
    "start_time": "2022-02-14T04:07:05.393Z"
   },
   {
    "duration": 13,
    "start_time": "2022-02-14T04:07:06.664Z"
   },
   {
    "duration": 11,
    "start_time": "2022-02-14T04:07:06.679Z"
   },
   {
    "duration": 16,
    "start_time": "2022-02-14T04:07:06.708Z"
   },
   {
    "duration": 11,
    "start_time": "2022-02-14T04:07:06.726Z"
   },
   {
    "duration": 13,
    "start_time": "2022-02-14T04:07:06.739Z"
   },
   {
    "duration": 11,
    "start_time": "2022-02-14T04:07:06.754Z"
   },
   {
    "duration": 46,
    "start_time": "2022-02-14T04:07:06.767Z"
   },
   {
    "duration": 6,
    "start_time": "2022-02-14T04:07:06.815Z"
   },
   {
    "duration": 17,
    "start_time": "2022-02-14T04:07:06.823Z"
   },
   {
    "duration": 17,
    "start_time": "2022-02-14T04:07:06.842Z"
   },
   {
    "duration": 48,
    "start_time": "2022-02-14T04:07:06.861Z"
   },
   {
    "duration": 18,
    "start_time": "2022-02-14T04:07:06.911Z"
   },
   {
    "duration": 17,
    "start_time": "2022-02-14T04:07:06.931Z"
   },
   {
    "duration": 13,
    "start_time": "2022-02-14T04:07:06.950Z"
   },
   {
    "duration": 56,
    "start_time": "2022-02-14T04:07:06.965Z"
   },
   {
    "duration": 6,
    "start_time": "2022-02-14T04:07:07.023Z"
   },
   {
    "duration": 221,
    "start_time": "2022-02-14T04:07:07.031Z"
   },
   {
    "duration": 140,
    "start_time": "2022-02-14T04:07:07.253Z"
   },
   {
    "duration": 79,
    "start_time": "2022-02-14T04:07:07.395Z"
   },
   {
    "duration": 39,
    "start_time": "2022-02-14T04:07:07.438Z"
   },
   {
    "duration": 36,
    "start_time": "2022-02-14T04:07:07.441Z"
   },
   {
    "duration": 30,
    "start_time": "2022-02-14T04:07:07.448Z"
   },
   {
    "duration": 27,
    "start_time": "2022-02-14T04:07:07.452Z"
   },
   {
    "duration": 24,
    "start_time": "2022-02-14T04:07:07.456Z"
   },
   {
    "duration": 22,
    "start_time": "2022-02-14T04:07:07.459Z"
   },
   {
    "duration": 19,
    "start_time": "2022-02-14T04:07:07.463Z"
   },
   {
    "duration": 16,
    "start_time": "2022-02-14T04:07:07.467Z"
   },
   {
    "duration": 12,
    "start_time": "2022-02-14T04:07:07.471Z"
   },
   {
    "duration": 10,
    "start_time": "2022-02-14T04:07:07.474Z"
   },
   {
    "duration": 7,
    "start_time": "2022-02-14T04:07:07.478Z"
   },
   {
    "duration": 5,
    "start_time": "2022-02-14T04:07:07.481Z"
   },
   {
    "duration": 2,
    "start_time": "2022-02-14T04:07:07.485Z"
   },
   {
    "duration": -1,
    "start_time": "2022-02-14T04:07:07.489Z"
   },
   {
    "duration": -4,
    "start_time": "2022-02-14T04:07:07.492Z"
   },
   {
    "duration": -7,
    "start_time": "2022-02-14T04:07:07.496Z"
   },
   {
    "duration": -10,
    "start_time": "2022-02-14T04:07:07.500Z"
   },
   {
    "duration": -13,
    "start_time": "2022-02-14T04:07:07.504Z"
   },
   {
    "duration": -15,
    "start_time": "2022-02-14T04:07:07.507Z"
   },
   {
    "duration": -18,
    "start_time": "2022-02-14T04:07:07.511Z"
   },
   {
    "duration": -20,
    "start_time": "2022-02-14T04:07:07.514Z"
   },
   {
    "duration": -22,
    "start_time": "2022-02-14T04:07:07.517Z"
   },
   {
    "duration": -26,
    "start_time": "2022-02-14T04:07:07.522Z"
   },
   {
    "duration": 9,
    "start_time": "2022-02-14T04:07:27.860Z"
   },
   {
    "duration": 203,
    "start_time": "2022-02-14T04:07:28.386Z"
   },
   {
    "duration": 17,
    "start_time": "2022-02-14T04:07:29.536Z"
   },
   {
    "duration": 8,
    "start_time": "2022-02-14T04:07:31.182Z"
   },
   {
    "duration": 3733,
    "start_time": "2022-02-14T04:07:31.377Z"
   },
   {
    "duration": 28,
    "start_time": "2022-02-14T04:07:35.113Z"
   },
   {
    "duration": 27,
    "start_time": "2022-02-14T04:07:36.385Z"
   },
   {
    "duration": 4,
    "start_time": "2022-02-14T04:07:36.826Z"
   },
   {
    "duration": 14,
    "start_time": "2022-02-14T04:07:37.602Z"
   },
   {
    "duration": 28,
    "start_time": "2022-02-14T04:07:38.101Z"
   },
   {
    "duration": 4,
    "start_time": "2022-02-14T04:07:38.266Z"
   },
   {
    "duration": 16,
    "start_time": "2022-02-14T04:07:38.847Z"
   },
   {
    "duration": 4,
    "start_time": "2022-02-14T04:07:39.665Z"
   },
   {
    "duration": 20,
    "start_time": "2022-02-14T04:07:39.836Z"
   },
   {
    "duration": 17,
    "start_time": "2022-02-14T04:07:41.259Z"
   },
   {
    "duration": 13,
    "start_time": "2022-02-14T04:07:41.447Z"
   },
   {
    "duration": 22,
    "start_time": "2022-02-14T04:07:42.296Z"
   },
   {
    "duration": 15,
    "start_time": "2022-02-14T04:07:42.613Z"
   },
   {
    "duration": 20,
    "start_time": "2022-02-14T04:07:43.596Z"
   },
   {
    "duration": 11,
    "start_time": "2022-02-14T04:07:43.929Z"
   },
   {
    "duration": 20,
    "start_time": "2022-02-14T04:07:45.085Z"
   },
   {
    "duration": 10,
    "start_time": "2022-02-14T04:07:45.435Z"
   },
   {
    "duration": 21,
    "start_time": "2022-02-14T04:07:46.608Z"
   },
   {
    "duration": 10,
    "start_time": "2022-02-14T04:07:47.115Z"
   },
   {
    "duration": 232,
    "start_time": "2022-02-14T09:22:44.951Z"
   },
   {
    "duration": 190,
    "start_time": "2022-02-14T09:23:28.111Z"
   },
   {
    "duration": 1192,
    "start_time": "2022-02-14T09:24:05.300Z"
   },
   {
    "duration": 10,
    "start_time": "2022-02-14T09:24:06.494Z"
   },
   {
    "duration": 16,
    "start_time": "2022-02-14T09:24:06.507Z"
   },
   {
    "duration": 17,
    "start_time": "2022-02-14T09:24:06.526Z"
   },
   {
    "duration": 14,
    "start_time": "2022-02-14T09:24:06.544Z"
   },
   {
    "duration": 13,
    "start_time": "2022-02-14T09:24:06.560Z"
   },
   {
    "duration": 42,
    "start_time": "2022-02-14T09:24:06.575Z"
   },
   {
    "duration": 11,
    "start_time": "2022-02-14T09:24:06.620Z"
   },
   {
    "duration": 5,
    "start_time": "2022-02-14T09:24:06.634Z"
   },
   {
    "duration": 12,
    "start_time": "2022-02-14T09:24:06.641Z"
   },
   {
    "duration": 14,
    "start_time": "2022-02-14T09:24:06.654Z"
   },
   {
    "duration": 53,
    "start_time": "2022-02-14T09:24:06.669Z"
   },
   {
    "duration": 14,
    "start_time": "2022-02-14T09:24:06.724Z"
   },
   {
    "duration": 14,
    "start_time": "2022-02-14T09:24:06.739Z"
   },
   {
    "duration": 12,
    "start_time": "2022-02-14T09:24:06.755Z"
   },
   {
    "duration": 50,
    "start_time": "2022-02-14T09:24:06.769Z"
   },
   {
    "duration": 6,
    "start_time": "2022-02-14T09:24:06.820Z"
   },
   {
    "duration": 235,
    "start_time": "2022-02-14T09:24:06.828Z"
   },
   {
    "duration": 141,
    "start_time": "2022-02-14T09:24:07.064Z"
   },
   {
    "duration": 8,
    "start_time": "2022-02-14T09:24:07.212Z"
   },
   {
    "duration": 219,
    "start_time": "2022-02-14T09:24:07.221Z"
   },
   {
    "duration": 20,
    "start_time": "2022-02-14T09:24:07.442Z"
   },
   {
    "duration": 5,
    "start_time": "2022-02-14T09:24:07.466Z"
   },
   {
    "duration": 3806,
    "start_time": "2022-02-14T09:24:07.473Z"
   },
   {
    "duration": 35,
    "start_time": "2022-02-14T09:24:11.281Z"
   },
   {
    "duration": 32,
    "start_time": "2022-02-14T09:24:11.318Z"
   },
   {
    "duration": 4,
    "start_time": "2022-02-14T09:24:11.353Z"
   },
   {
    "duration": 17,
    "start_time": "2022-02-14T09:24:11.358Z"
   },
   {
    "duration": 66,
    "start_time": "2022-02-14T09:24:11.377Z"
   },
   {
    "duration": 4,
    "start_time": "2022-02-14T09:24:11.445Z"
   },
   {
    "duration": 14,
    "start_time": "2022-02-14T09:24:11.451Z"
   },
   {
    "duration": 4,
    "start_time": "2022-02-14T09:24:11.467Z"
   },
   {
    "duration": 49,
    "start_time": "2022-02-14T09:24:11.472Z"
   },
   {
    "duration": 18,
    "start_time": "2022-02-14T09:24:11.524Z"
   },
   {
    "duration": 10,
    "start_time": "2022-02-14T09:24:11.544Z"
   },
   {
    "duration": 28,
    "start_time": "2022-02-14T09:24:11.556Z"
   },
   {
    "duration": 16,
    "start_time": "2022-02-14T09:24:11.612Z"
   },
   {
    "duration": 29,
    "start_time": "2022-02-14T09:24:11.630Z"
   },
   {
    "duration": 13,
    "start_time": "2022-02-14T09:24:11.661Z"
   },
   {
    "duration": 51,
    "start_time": "2022-02-14T09:24:11.677Z"
   },
   {
    "duration": 11,
    "start_time": "2022-02-14T09:24:11.730Z"
   },
   {
    "duration": 29,
    "start_time": "2022-02-14T09:24:11.744Z"
   },
   {
    "duration": 38,
    "start_time": "2022-02-14T09:24:11.776Z"
   },
   {
    "duration": 11,
    "start_time": "2022-02-14T09:25:03.535Z"
   },
   {
    "duration": 11,
    "start_time": "2022-02-14T09:25:44.813Z"
   },
   {
    "duration": 3,
    "start_time": "2022-02-14T09:36:34.451Z"
   },
   {
    "duration": 1099,
    "start_time": "2022-02-14T09:36:43.071Z"
   },
   {
    "duration": 10,
    "start_time": "2022-02-14T09:36:44.172Z"
   },
   {
    "duration": 9,
    "start_time": "2022-02-14T09:36:44.184Z"
   },
   {
    "duration": 24,
    "start_time": "2022-02-14T09:36:44.194Z"
   },
   {
    "duration": 9,
    "start_time": "2022-02-14T09:36:44.219Z"
   },
   {
    "duration": 10,
    "start_time": "2022-02-14T09:36:44.229Z"
   },
   {
    "duration": 8,
    "start_time": "2022-02-14T09:36:44.241Z"
   },
   {
    "duration": 9,
    "start_time": "2022-02-14T09:36:44.252Z"
   },
   {
    "duration": 4,
    "start_time": "2022-02-14T09:36:44.263Z"
   },
   {
    "duration": 44,
    "start_time": "2022-02-14T09:36:44.268Z"
   },
   {
    "duration": 14,
    "start_time": "2022-02-14T09:36:44.314Z"
   },
   {
    "duration": 16,
    "start_time": "2022-02-14T09:36:44.329Z"
   },
   {
    "duration": 13,
    "start_time": "2022-02-14T09:36:44.346Z"
   },
   {
    "duration": 14,
    "start_time": "2022-02-14T09:36:44.360Z"
   },
   {
    "duration": 40,
    "start_time": "2022-02-14T09:36:44.376Z"
   },
   {
    "duration": 26,
    "start_time": "2022-02-14T09:36:44.417Z"
   },
   {
    "duration": 5,
    "start_time": "2022-02-14T09:36:44.444Z"
   },
   {
    "duration": 220,
    "start_time": "2022-02-14T09:36:44.451Z"
   },
   {
    "duration": 131,
    "start_time": "2022-02-14T09:36:44.672Z"
   },
   {
    "duration": 12,
    "start_time": "2022-02-14T09:36:44.805Z"
   },
   {
    "duration": 214,
    "start_time": "2022-02-14T09:36:44.818Z"
   },
   {
    "duration": 15,
    "start_time": "2022-02-14T09:36:45.033Z"
   },
   {
    "duration": 3,
    "start_time": "2022-02-14T09:36:45.052Z"
   },
   {
    "duration": 3076,
    "start_time": "2022-02-14T09:36:45.057Z"
   },
   {
    "duration": 23,
    "start_time": "2022-02-14T09:36:48.135Z"
   },
   {
    "duration": 23,
    "start_time": "2022-02-14T09:36:48.160Z"
   },
   {
    "duration": 3,
    "start_time": "2022-02-14T09:36:48.184Z"
   },
   {
    "duration": 33,
    "start_time": "2022-02-14T09:36:48.189Z"
   },
   {
    "duration": 23,
    "start_time": "2022-02-14T09:36:48.223Z"
   },
   {
    "duration": 3,
    "start_time": "2022-02-14T09:36:48.247Z"
   },
   {
    "duration": 14,
    "start_time": "2022-02-14T09:36:48.252Z"
   },
   {
    "duration": 3,
    "start_time": "2022-02-14T09:36:48.267Z"
   },
   {
    "duration": 16,
    "start_time": "2022-02-14T09:36:48.271Z"
   },
   {
    "duration": 37,
    "start_time": "2022-02-14T09:36:48.288Z"
   },
   {
    "duration": 10,
    "start_time": "2022-02-14T09:36:48.326Z"
   },
   {
    "duration": 16,
    "start_time": "2022-02-14T09:36:48.337Z"
   },
   {
    "duration": 9,
    "start_time": "2022-02-14T09:36:48.354Z"
   },
   {
    "duration": 16,
    "start_time": "2022-02-14T09:36:48.364Z"
   },
   {
    "duration": 9,
    "start_time": "2022-02-14T09:36:48.412Z"
   },
   {
    "duration": 18,
    "start_time": "2022-02-14T09:36:48.422Z"
   },
   {
    "duration": 8,
    "start_time": "2022-02-14T09:36:48.441Z"
   },
   {
    "duration": 17,
    "start_time": "2022-02-14T09:36:48.450Z"
   },
   {
    "duration": 7,
    "start_time": "2022-02-14T09:36:48.469Z"
   },
   {
    "duration": 62,
    "start_time": "2022-02-14T09:43:59.990Z"
   },
   {
    "duration": 3,
    "start_time": "2022-02-14T09:44:54.251Z"
   },
   {
    "duration": 1117,
    "start_time": "2022-02-14T09:45:01.454Z"
   },
   {
    "duration": 11,
    "start_time": "2022-02-14T09:45:02.573Z"
   },
   {
    "duration": 17,
    "start_time": "2022-02-14T09:45:02.585Z"
   },
   {
    "duration": 29,
    "start_time": "2022-02-14T09:45:02.603Z"
   },
   {
    "duration": 22,
    "start_time": "2022-02-14T09:45:02.634Z"
   },
   {
    "duration": 24,
    "start_time": "2022-02-14T09:45:02.657Z"
   },
   {
    "duration": 17,
    "start_time": "2022-02-14T09:45:02.682Z"
   },
   {
    "duration": 15,
    "start_time": "2022-02-14T09:45:02.701Z"
   },
   {
    "duration": 10,
    "start_time": "2022-02-14T09:45:02.718Z"
   },
   {
    "duration": 31,
    "start_time": "2022-02-14T09:45:02.729Z"
   },
   {
    "duration": 14,
    "start_time": "2022-02-14T09:45:02.761Z"
   },
   {
    "duration": 30,
    "start_time": "2022-02-14T09:45:02.777Z"
   },
   {
    "duration": 19,
    "start_time": "2022-02-14T09:45:02.808Z"
   },
   {
    "duration": 14,
    "start_time": "2022-02-14T09:45:02.828Z"
   },
   {
    "duration": 25,
    "start_time": "2022-02-14T09:45:02.844Z"
   },
   {
    "duration": 38,
    "start_time": "2022-02-14T09:45:02.871Z"
   },
   {
    "duration": 16,
    "start_time": "2022-02-14T09:45:02.910Z"
   },
   {
    "duration": 222,
    "start_time": "2022-02-14T09:45:02.927Z"
   },
   {
    "duration": 132,
    "start_time": "2022-02-14T09:45:03.151Z"
   },
   {
    "duration": 7,
    "start_time": "2022-02-14T09:45:03.285Z"
   },
   {
    "duration": 220,
    "start_time": "2022-02-14T09:45:03.294Z"
   },
   {
    "duration": 16,
    "start_time": "2022-02-14T09:45:03.516Z"
   },
   {
    "duration": 18,
    "start_time": "2022-02-14T09:45:03.535Z"
   },
   {
    "duration": 3359,
    "start_time": "2022-02-14T09:45:03.555Z"
   },
   {
    "duration": 24,
    "start_time": "2022-02-14T09:45:06.916Z"
   },
   {
    "duration": 25,
    "start_time": "2022-02-14T09:45:06.942Z"
   },
   {
    "duration": 3,
    "start_time": "2022-02-14T09:45:06.969Z"
   },
   {
    "duration": 14,
    "start_time": "2022-02-14T09:45:06.973Z"
   },
   {
    "duration": 22,
    "start_time": "2022-02-14T09:45:07.013Z"
   },
   {
    "duration": 3,
    "start_time": "2022-02-14T09:45:07.037Z"
   },
   {
    "duration": 13,
    "start_time": "2022-02-14T09:45:07.042Z"
   },
   {
    "duration": 7,
    "start_time": "2022-02-14T09:45:07.056Z"
   },
   {
    "duration": 20,
    "start_time": "2022-02-14T09:45:07.065Z"
   },
   {
    "duration": 35,
    "start_time": "2022-02-14T09:45:07.086Z"
   },
   {
    "duration": 10,
    "start_time": "2022-02-14T09:45:07.122Z"
   },
   {
    "duration": 22,
    "start_time": "2022-02-14T09:45:07.133Z"
   },
   {
    "duration": 8,
    "start_time": "2022-02-14T09:45:07.156Z"
   },
   {
    "duration": 16,
    "start_time": "2022-02-14T09:45:07.166Z"
   },
   {
    "duration": 33,
    "start_time": "2022-02-14T09:45:07.183Z"
   },
   {
    "duration": 19,
    "start_time": "2022-02-14T09:45:07.217Z"
   },
   {
    "duration": 7,
    "start_time": "2022-02-14T09:45:07.238Z"
   },
   {
    "duration": 17,
    "start_time": "2022-02-14T09:45:07.246Z"
   },
   {
    "duration": 9,
    "start_time": "2022-02-14T09:45:07.264Z"
   },
   {
    "duration": 3,
    "start_time": "2022-02-14T09:51:13.132Z"
   },
   {
    "duration": 1128,
    "start_time": "2022-02-14T09:51:38.354Z"
   },
   {
    "duration": 11,
    "start_time": "2022-02-14T09:51:39.486Z"
   },
   {
    "duration": 17,
    "start_time": "2022-02-14T09:51:39.499Z"
   },
   {
    "duration": 21,
    "start_time": "2022-02-14T09:51:39.518Z"
   },
   {
    "duration": 15,
    "start_time": "2022-02-14T09:51:39.540Z"
   },
   {
    "duration": 24,
    "start_time": "2022-02-14T09:51:39.556Z"
   },
   {
    "duration": 9,
    "start_time": "2022-02-14T09:51:39.582Z"
   },
   {
    "duration": 28,
    "start_time": "2022-02-14T09:51:39.593Z"
   },
   {
    "duration": 23,
    "start_time": "2022-02-14T09:51:39.623Z"
   },
   {
    "duration": 19,
    "start_time": "2022-02-14T09:51:39.647Z"
   },
   {
    "duration": 19,
    "start_time": "2022-02-14T09:51:39.667Z"
   },
   {
    "duration": 17,
    "start_time": "2022-02-14T09:51:39.687Z"
   },
   {
    "duration": 13,
    "start_time": "2022-02-14T09:51:39.705Z"
   },
   {
    "duration": 14,
    "start_time": "2022-02-14T09:51:39.720Z"
   },
   {
    "duration": 16,
    "start_time": "2022-02-14T09:51:39.735Z"
   },
   {
    "duration": 34,
    "start_time": "2022-02-14T09:51:39.753Z"
   },
   {
    "duration": 12,
    "start_time": "2022-02-14T09:51:39.788Z"
   },
   {
    "duration": 212,
    "start_time": "2022-02-14T09:51:39.802Z"
   },
   {
    "duration": 145,
    "start_time": "2022-02-14T09:51:40.016Z"
   },
   {
    "duration": 8,
    "start_time": "2022-02-14T09:51:40.163Z"
   },
   {
    "duration": 211,
    "start_time": "2022-02-14T09:51:40.172Z"
   },
   {
    "duration": 26,
    "start_time": "2022-02-14T09:51:40.387Z"
   },
   {
    "duration": 5,
    "start_time": "2022-02-14T09:51:40.415Z"
   },
   {
    "duration": 3404,
    "start_time": "2022-02-14T09:51:40.421Z"
   },
   {
    "duration": 24,
    "start_time": "2022-02-14T09:51:43.827Z"
   },
   {
    "duration": 24,
    "start_time": "2022-02-14T09:51:43.853Z"
   },
   {
    "duration": 3,
    "start_time": "2022-02-14T09:51:43.878Z"
   },
   {
    "duration": 34,
    "start_time": "2022-02-14T09:51:43.883Z"
   },
   {
    "duration": 23,
    "start_time": "2022-02-14T09:51:43.918Z"
   },
   {
    "duration": 3,
    "start_time": "2022-02-14T09:51:43.943Z"
   },
   {
    "duration": 16,
    "start_time": "2022-02-14T09:51:43.948Z"
   },
   {
    "duration": 4,
    "start_time": "2022-02-14T09:51:43.967Z"
   },
   {
    "duration": 46,
    "start_time": "2022-02-14T09:51:43.973Z"
   },
   {
    "duration": 16,
    "start_time": "2022-02-14T09:51:44.021Z"
   },
   {
    "duration": 11,
    "start_time": "2022-02-14T09:51:44.039Z"
   },
   {
    "duration": 18,
    "start_time": "2022-02-14T09:51:44.052Z"
   },
   {
    "duration": 43,
    "start_time": "2022-02-14T09:51:44.072Z"
   },
   {
    "duration": 18,
    "start_time": "2022-02-14T09:51:44.117Z"
   },
   {
    "duration": 8,
    "start_time": "2022-02-14T09:51:44.136Z"
   },
   {
    "duration": 18,
    "start_time": "2022-02-14T09:51:44.146Z"
   },
   {
    "duration": 12,
    "start_time": "2022-02-14T09:51:44.167Z"
   },
   {
    "duration": 50,
    "start_time": "2022-02-14T09:51:44.181Z"
   },
   {
    "duration": 7,
    "start_time": "2022-02-14T09:51:44.233Z"
   },
   {
    "duration": 3,
    "start_time": "2022-02-14T10:06:46.334Z"
   },
   {
    "duration": 69,
    "start_time": "2022-02-14T10:08:08.688Z"
   },
   {
    "duration": 12,
    "start_time": "2022-02-14T10:12:36.427Z"
   },
   {
    "duration": 5,
    "start_time": "2022-02-15T09:38:50.838Z"
   },
   {
    "duration": 315,
    "start_time": "2022-02-15T09:39:12.780Z"
   },
   {
    "duration": 1562,
    "start_time": "2022-02-15T09:39:19.926Z"
   },
   {
    "duration": 15,
    "start_time": "2022-02-15T09:39:21.491Z"
   },
   {
    "duration": 29,
    "start_time": "2022-02-15T09:39:21.510Z"
   },
   {
    "duration": 19,
    "start_time": "2022-02-15T09:39:21.542Z"
   },
   {
    "duration": 12,
    "start_time": "2022-02-15T09:39:21.564Z"
   },
   {
    "duration": 53,
    "start_time": "2022-02-15T09:39:21.579Z"
   },
   {
    "duration": 12,
    "start_time": "2022-02-15T09:39:21.635Z"
   },
   {
    "duration": 14,
    "start_time": "2022-02-15T09:39:21.652Z"
   },
   {
    "duration": 6,
    "start_time": "2022-02-15T09:39:21.668Z"
   },
   {
    "duration": 56,
    "start_time": "2022-02-15T09:39:21.676Z"
   },
   {
    "duration": 22,
    "start_time": "2022-02-15T09:39:21.734Z"
   },
   {
    "duration": 23,
    "start_time": "2022-02-15T09:39:21.758Z"
   },
   {
    "duration": 20,
    "start_time": "2022-02-15T09:39:21.783Z"
   },
   {
    "duration": 22,
    "start_time": "2022-02-15T09:39:21.832Z"
   },
   {
    "duration": 16,
    "start_time": "2022-02-15T09:39:21.856Z"
   },
   {
    "duration": 63,
    "start_time": "2022-02-15T09:39:21.876Z"
   },
   {
    "duration": 8,
    "start_time": "2022-02-15T09:39:21.942Z"
   },
   {
    "duration": 336,
    "start_time": "2022-02-15T09:39:21.952Z"
   },
   {
    "duration": 221,
    "start_time": "2022-02-15T09:39:22.291Z"
   },
   {
    "duration": 22,
    "start_time": "2022-02-15T09:39:22.515Z"
   },
   {
    "duration": 328,
    "start_time": "2022-02-15T09:39:22.540Z"
   },
   {
    "duration": 21,
    "start_time": "2022-02-15T09:39:22.872Z"
   },
   {
    "duration": 8,
    "start_time": "2022-02-15T09:39:22.898Z"
   },
   {
    "duration": 4895,
    "start_time": "2022-02-15T09:39:22.908Z"
   },
   {
    "duration": 44,
    "start_time": "2022-02-15T09:39:27.806Z"
   },
   {
    "duration": 34,
    "start_time": "2022-02-15T09:39:27.852Z"
   },
   {
    "duration": 5,
    "start_time": "2022-02-15T09:39:27.888Z"
   },
   {
    "duration": 51,
    "start_time": "2022-02-15T09:39:27.896Z"
   },
   {
    "duration": 35,
    "start_time": "2022-02-15T09:39:27.949Z"
   },
   {
    "duration": 5,
    "start_time": "2022-02-15T09:39:27.986Z"
   },
   {
    "duration": 42,
    "start_time": "2022-02-15T09:39:27.993Z"
   },
   {
    "duration": 5,
    "start_time": "2022-02-15T09:39:28.038Z"
   },
   {
    "duration": 29,
    "start_time": "2022-02-15T09:39:28.045Z"
   },
   {
    "duration": 19,
    "start_time": "2022-02-15T09:39:28.077Z"
   },
   {
    "duration": 45,
    "start_time": "2022-02-15T09:39:28.099Z"
   },
   {
    "duration": 27,
    "start_time": "2022-02-15T09:39:28.147Z"
   },
   {
    "duration": 16,
    "start_time": "2022-02-15T09:39:28.177Z"
   },
   {
    "duration": 60,
    "start_time": "2022-02-15T09:39:28.195Z"
   },
   {
    "duration": 13,
    "start_time": "2022-02-15T09:39:28.257Z"
   },
   {
    "duration": 60,
    "start_time": "2022-02-15T09:39:28.273Z"
   },
   {
    "duration": 13,
    "start_time": "2022-02-15T09:39:28.335Z"
   },
   {
    "duration": 34,
    "start_time": "2022-02-15T09:39:28.351Z"
   },
   {
    "duration": 13,
    "start_time": "2022-02-15T09:39:28.387Z"
   },
   {
    "duration": 1564,
    "start_time": "2022-02-15T09:50:51.938Z"
   },
   {
    "duration": 14,
    "start_time": "2022-02-15T09:50:53.505Z"
   },
   {
    "duration": 12,
    "start_time": "2022-02-15T09:50:53.534Z"
   },
   {
    "duration": 19,
    "start_time": "2022-02-15T09:50:53.549Z"
   },
   {
    "duration": 12,
    "start_time": "2022-02-15T09:50:53.571Z"
   },
   {
    "duration": 58,
    "start_time": "2022-02-15T09:50:53.585Z"
   },
   {
    "duration": 13,
    "start_time": "2022-02-15T09:50:53.648Z"
   },
   {
    "duration": 14,
    "start_time": "2022-02-15T09:50:53.663Z"
   },
   {
    "duration": 6,
    "start_time": "2022-02-15T09:50:53.679Z"
   },
   {
    "duration": 50,
    "start_time": "2022-02-15T09:50:53.687Z"
   },
   {
    "duration": 21,
    "start_time": "2022-02-15T09:50:53.739Z"
   },
   {
    "duration": 24,
    "start_time": "2022-02-15T09:50:53.762Z"
   },
   {
    "duration": 54,
    "start_time": "2022-02-15T09:50:53.788Z"
   },
   {
    "duration": 21,
    "start_time": "2022-02-15T09:50:53.844Z"
   },
   {
    "duration": 17,
    "start_time": "2022-02-15T09:50:53.868Z"
   },
   {
    "duration": 58,
    "start_time": "2022-02-15T09:50:53.888Z"
   },
   {
    "duration": 7,
    "start_time": "2022-02-15T09:50:53.948Z"
   },
   {
    "duration": 330,
    "start_time": "2022-02-15T09:50:53.957Z"
   },
   {
    "duration": 231,
    "start_time": "2022-02-15T09:50:54.290Z"
   },
   {
    "duration": 17,
    "start_time": "2022-02-15T09:50:54.523Z"
   },
   {
    "duration": 321,
    "start_time": "2022-02-15T09:50:54.542Z"
   },
   {
    "duration": 22,
    "start_time": "2022-02-15T09:50:54.870Z"
   },
   {
    "duration": 9,
    "start_time": "2022-02-15T09:50:54.894Z"
   },
   {
    "duration": 4806,
    "start_time": "2022-02-15T09:50:54.931Z"
   },
   {
    "duration": 36,
    "start_time": "2022-02-15T09:50:59.740Z"
   },
   {
    "duration": 59,
    "start_time": "2022-02-15T09:50:59.779Z"
   },
   {
    "duration": 5,
    "start_time": "2022-02-15T09:50:59.840Z"
   },
   {
    "duration": 19,
    "start_time": "2022-02-15T09:50:59.847Z"
   },
   {
    "duration": 35,
    "start_time": "2022-02-15T09:50:59.869Z"
   },
   {
    "duration": 27,
    "start_time": "2022-02-15T09:50:59.906Z"
   },
   {
    "duration": 22,
    "start_time": "2022-02-15T09:50:59.935Z"
   },
   {
    "duration": 6,
    "start_time": "2022-02-15T09:50:59.959Z"
   },
   {
    "duration": 24,
    "start_time": "2022-02-15T09:50:59.968Z"
   },
   {
    "duration": 51,
    "start_time": "2022-02-15T09:50:59.994Z"
   },
   {
    "duration": 17,
    "start_time": "2022-02-15T09:51:00.049Z"
   },
   {
    "duration": 29,
    "start_time": "2022-02-15T09:51:00.069Z"
   },
   {
    "duration": 47,
    "start_time": "2022-02-15T09:51:00.100Z"
   },
   {
    "duration": 26,
    "start_time": "2022-02-15T09:51:00.150Z"
   },
   {
    "duration": 13,
    "start_time": "2022-02-15T09:51:00.178Z"
   },
   {
    "duration": 63,
    "start_time": "2022-02-15T09:51:00.193Z"
   },
   {
    "duration": 13,
    "start_time": "2022-02-15T09:51:00.258Z"
   },
   {
    "duration": 59,
    "start_time": "2022-02-15T09:51:00.274Z"
   },
   {
    "duration": 14,
    "start_time": "2022-02-15T09:51:00.337Z"
   },
   {
    "duration": 1589,
    "start_time": "2022-02-16T10:10:16.178Z"
   },
   {
    "duration": 85,
    "start_time": "2022-02-16T10:10:30.861Z"
   },
   {
    "duration": 382,
    "start_time": "2022-02-21T12:36:08.972Z"
   },
   {
    "duration": 1324,
    "start_time": "2022-02-21T12:36:14.986Z"
   },
   {
    "duration": 13,
    "start_time": "2022-02-21T12:36:16.312Z"
   },
   {
    "duration": 10,
    "start_time": "2022-02-21T12:36:16.327Z"
   },
   {
    "duration": 31,
    "start_time": "2022-02-21T12:36:16.339Z"
   },
   {
    "duration": 11,
    "start_time": "2022-02-21T12:36:16.372Z"
   },
   {
    "duration": 11,
    "start_time": "2022-02-21T12:36:16.385Z"
   },
   {
    "duration": 10,
    "start_time": "2022-02-21T12:36:16.398Z"
   },
   {
    "duration": 12,
    "start_time": "2022-02-21T12:36:16.410Z"
   },
   {
    "duration": 5,
    "start_time": "2022-02-21T12:36:16.424Z"
   },
   {
    "duration": 50,
    "start_time": "2022-02-21T12:36:16.430Z"
   },
   {
    "duration": 15,
    "start_time": "2022-02-21T12:36:16.482Z"
   },
   {
    "duration": 18,
    "start_time": "2022-02-21T12:36:16.499Z"
   },
   {
    "duration": 17,
    "start_time": "2022-02-21T12:36:16.518Z"
   },
   {
    "duration": 42,
    "start_time": "2022-02-21T12:36:16.536Z"
   },
   {
    "duration": 13,
    "start_time": "2022-02-21T12:36:16.580Z"
   },
   {
    "duration": 31,
    "start_time": "2022-02-21T12:36:16.595Z"
   },
   {
    "duration": 5,
    "start_time": "2022-02-21T12:36:16.628Z"
   },
   {
    "duration": 272,
    "start_time": "2022-02-21T12:36:16.635Z"
   },
   {
    "duration": 163,
    "start_time": "2022-02-21T12:36:16.908Z"
   },
   {
    "duration": 9,
    "start_time": "2022-02-21T12:36:17.073Z"
   },
   {
    "duration": 258,
    "start_time": "2022-02-21T12:36:17.084Z"
   },
   {
    "duration": 17,
    "start_time": "2022-02-21T12:36:17.343Z"
   },
   {
    "duration": 4,
    "start_time": "2022-02-21T12:36:17.372Z"
   },
   {
    "duration": 3738,
    "start_time": "2022-02-21T12:36:17.378Z"
   },
   {
    "duration": 28,
    "start_time": "2022-02-21T12:36:21.118Z"
   },
   {
    "duration": 44,
    "start_time": "2022-02-21T12:36:21.148Z"
   },
   {
    "duration": 3,
    "start_time": "2022-02-21T12:36:21.194Z"
   },
   {
    "duration": 16,
    "start_time": "2022-02-21T12:36:21.199Z"
   },
   {
    "duration": 43,
    "start_time": "2022-02-21T12:36:21.217Z"
   },
   {
    "duration": 3,
    "start_time": "2022-02-21T12:36:21.262Z"
   },
   {
    "duration": 37,
    "start_time": "2022-02-21T12:36:21.268Z"
   },
   {
    "duration": 15,
    "start_time": "2022-02-21T12:36:21.307Z"
   },
   {
    "duration": 29,
    "start_time": "2022-02-21T12:36:21.324Z"
   },
   {
    "duration": 49,
    "start_time": "2022-02-21T12:36:21.355Z"
   },
   {
    "duration": 12,
    "start_time": "2022-02-21T12:36:21.405Z"
   },
   {
    "duration": 34,
    "start_time": "2022-02-21T12:36:21.419Z"
   },
   {
    "duration": 19,
    "start_time": "2022-02-21T12:36:21.455Z"
   },
   {
    "duration": 32,
    "start_time": "2022-02-21T12:36:21.475Z"
   },
   {
    "duration": 24,
    "start_time": "2022-02-21T12:36:21.509Z"
   },
   {
    "duration": 29,
    "start_time": "2022-02-21T12:36:21.535Z"
   },
   {
    "duration": 12,
    "start_time": "2022-02-21T12:36:21.566Z"
   },
   {
    "duration": 50,
    "start_time": "2022-02-21T12:36:21.580Z"
   },
   {
    "duration": 12,
    "start_time": "2022-02-21T12:36:21.632Z"
   },
   {
    "duration": 41,
    "start_time": "2022-02-21T12:36:21.646Z"
   },
   {
    "duration": 1438,
    "start_time": "2024-01-27T20:51:16.607Z"
   },
   {
    "duration": 308,
    "start_time": "2024-01-27T21:20:34.113Z"
   },
   {
    "duration": 162,
    "start_time": "2024-01-27T21:26:20.039Z"
   },
   {
    "duration": 147,
    "start_time": "2024-01-27T21:26:34.899Z"
   },
   {
    "duration": 153,
    "start_time": "2024-01-27T21:26:58.263Z"
   },
   {
    "duration": 166,
    "start_time": "2024-01-27T21:27:16.560Z"
   },
   {
    "duration": 159,
    "start_time": "2024-01-27T21:27:26.411Z"
   },
   {
    "duration": 150,
    "start_time": "2024-01-27T21:27:31.001Z"
   },
   {
    "duration": 163,
    "start_time": "2024-01-27T21:27:36.736Z"
   },
   {
    "duration": 151,
    "start_time": "2024-01-27T21:28:47.654Z"
   },
   {
    "duration": 153,
    "start_time": "2024-01-27T21:29:04.324Z"
   },
   {
    "duration": 241,
    "start_time": "2024-01-27T21:29:12.202Z"
   },
   {
    "duration": 160,
    "start_time": "2024-01-27T21:29:27.955Z"
   },
   {
    "duration": 158,
    "start_time": "2024-01-27T21:29:58.267Z"
   },
   {
    "duration": 146,
    "start_time": "2024-01-27T21:30:17.249Z"
   },
   {
    "duration": 144,
    "start_time": "2024-01-27T21:30:23.532Z"
   },
   {
    "duration": 168,
    "start_time": "2024-01-27T21:30:29.370Z"
   },
   {
    "duration": 203,
    "start_time": "2024-01-27T21:31:01.581Z"
   },
   {
    "duration": 168,
    "start_time": "2024-01-27T21:31:10.056Z"
   },
   {
    "duration": 163,
    "start_time": "2024-01-27T21:31:20.256Z"
   },
   {
    "duration": 70,
    "start_time": "2024-01-27T21:31:31.674Z"
   },
   {
    "duration": 159,
    "start_time": "2024-01-27T21:31:35.295Z"
   },
   {
    "duration": 171,
    "start_time": "2024-01-27T21:31:53.761Z"
   },
   {
    "duration": 362,
    "start_time": "2024-01-27T21:33:46.261Z"
   },
   {
    "duration": 191,
    "start_time": "2024-01-27T21:34:23.716Z"
   },
   {
    "duration": 175,
    "start_time": "2024-01-27T21:34:30.609Z"
   },
   {
    "duration": 125,
    "start_time": "2024-01-27T21:35:52.230Z"
   },
   {
    "duration": 122,
    "start_time": "2024-01-27T21:36:28.840Z"
   },
   {
    "duration": 98,
    "start_time": "2024-01-27T21:36:47.850Z"
   },
   {
    "duration": 145,
    "start_time": "2024-01-27T21:36:54.954Z"
   },
   {
    "duration": 141,
    "start_time": "2024-01-27T21:36:58.364Z"
   },
   {
    "duration": 148,
    "start_time": "2024-01-27T21:37:14.169Z"
   },
   {
    "duration": 129,
    "start_time": "2024-01-27T21:37:21.522Z"
   },
   {
    "duration": 1319,
    "start_time": "2024-01-27T21:38:31.661Z"
   },
   {
    "duration": 128,
    "start_time": "2024-01-27T21:38:32.983Z"
   },
   {
    "duration": 28,
    "start_time": "2024-01-27T21:38:33.117Z"
   },
   {
    "duration": 17,
    "start_time": "2024-01-27T21:38:33.148Z"
   },
   {
    "duration": 21,
    "start_time": "2024-01-27T21:38:33.168Z"
   },
   {
    "duration": 16,
    "start_time": "2024-01-27T21:38:33.191Z"
   },
   {
    "duration": 24,
    "start_time": "2024-01-27T21:38:33.211Z"
   },
   {
    "duration": 24,
    "start_time": "2024-01-27T21:38:33.237Z"
   },
   {
    "duration": 22,
    "start_time": "2024-01-27T21:38:33.264Z"
   },
   {
    "duration": 32,
    "start_time": "2024-01-27T21:38:33.289Z"
   },
   {
    "duration": 18,
    "start_time": "2024-01-27T21:38:33.323Z"
   },
   {
    "duration": 49,
    "start_time": "2024-01-27T21:38:33.343Z"
   },
   {
    "duration": 25,
    "start_time": "2024-01-27T21:38:33.394Z"
   },
   {
    "duration": 24,
    "start_time": "2024-01-27T21:38:33.421Z"
   },
   {
    "duration": 40,
    "start_time": "2024-01-27T21:38:33.447Z"
   },
   {
    "duration": 30,
    "start_time": "2024-01-27T21:38:33.492Z"
   },
   {
    "duration": 7,
    "start_time": "2024-01-27T21:38:33.524Z"
   },
   {
    "duration": 264,
    "start_time": "2024-01-27T21:38:33.533Z"
   },
   {
    "duration": 151,
    "start_time": "2024-01-27T21:38:33.798Z"
   },
   {
    "duration": 8,
    "start_time": "2024-01-27T21:38:33.951Z"
   },
   {
    "duration": 206,
    "start_time": "2024-01-27T21:38:33.960Z"
   },
   {
    "duration": 37,
    "start_time": "2024-01-27T21:38:34.168Z"
   },
   {
    "duration": 12,
    "start_time": "2024-01-27T21:38:34.208Z"
   },
   {
    "duration": 4219,
    "start_time": "2024-01-27T21:38:34.222Z"
   },
   {
    "duration": 656,
    "start_time": "2024-01-27T21:38:38.443Z"
   },
   {
    "duration": 23,
    "start_time": "2024-01-27T21:38:39.102Z"
   },
   {
    "duration": 3,
    "start_time": "2024-01-27T21:38:39.127Z"
   },
   {
    "duration": 13,
    "start_time": "2024-01-27T21:38:39.133Z"
   },
   {
    "duration": 38,
    "start_time": "2024-01-27T21:38:39.147Z"
   },
   {
    "duration": 8,
    "start_time": "2024-01-27T21:38:39.187Z"
   },
   {
    "duration": 31,
    "start_time": "2024-01-27T21:38:39.197Z"
   },
   {
    "duration": 3,
    "start_time": "2024-01-27T21:38:39.230Z"
   },
   {
    "duration": 17,
    "start_time": "2024-01-27T21:38:39.235Z"
   },
   {
    "duration": 35,
    "start_time": "2024-01-27T21:38:39.254Z"
   },
   {
    "duration": 18,
    "start_time": "2024-01-27T21:38:39.291Z"
   },
   {
    "duration": 24,
    "start_time": "2024-01-27T21:38:39.310Z"
   },
   {
    "duration": 10,
    "start_time": "2024-01-27T21:38:39.336Z"
   },
   {
    "duration": 50,
    "start_time": "2024-01-27T21:38:39.348Z"
   },
   {
    "duration": 13,
    "start_time": "2024-01-27T21:38:39.400Z"
   },
   {
    "duration": 22,
    "start_time": "2024-01-27T21:38:39.414Z"
   },
   {
    "duration": 10,
    "start_time": "2024-01-27T21:38:39.439Z"
   },
   {
    "duration": 49,
    "start_time": "2024-01-27T21:38:39.451Z"
   },
   {
    "duration": 9,
    "start_time": "2024-01-27T21:38:39.502Z"
   },
   {
    "duration": 21,
    "start_time": "2024-01-27T21:38:39.513Z"
   },
   {
    "duration": 3,
    "start_time": "2024-01-27T21:41:16.037Z"
   },
   {
    "duration": 510,
    "start_time": "2024-01-27T21:41:23.394Z"
   },
   {
    "duration": 1244,
    "start_time": "2024-01-27T21:41:32.087Z"
   },
   {
    "duration": 2,
    "start_time": "2024-01-27T21:41:33.333Z"
   },
   {
    "duration": 125,
    "start_time": "2024-01-27T21:41:33.337Z"
   },
   {
    "duration": 36,
    "start_time": "2024-01-27T21:41:33.465Z"
   },
   {
    "duration": 18,
    "start_time": "2024-01-27T21:41:33.507Z"
   },
   {
    "duration": 20,
    "start_time": "2024-01-27T21:41:33.527Z"
   },
   {
    "duration": 11,
    "start_time": "2024-01-27T21:41:33.549Z"
   },
   {
    "duration": 43,
    "start_time": "2024-01-27T21:41:33.561Z"
   },
   {
    "duration": 18,
    "start_time": "2024-01-27T21:41:33.607Z"
   },
   {
    "duration": 5,
    "start_time": "2024-01-27T21:41:33.628Z"
   },
   {
    "duration": 22,
    "start_time": "2024-01-27T21:41:33.634Z"
   },
   {
    "duration": 50,
    "start_time": "2024-01-27T21:41:33.657Z"
   },
   {
    "duration": 20,
    "start_time": "2024-01-27T21:41:33.708Z"
   },
   {
    "duration": 17,
    "start_time": "2024-01-27T21:41:33.730Z"
   },
   {
    "duration": 50,
    "start_time": "2024-01-27T21:41:33.748Z"
   },
   {
    "duration": 17,
    "start_time": "2024-01-27T21:41:33.800Z"
   },
   {
    "duration": 33,
    "start_time": "2024-01-27T21:41:33.820Z"
   },
   {
    "duration": 7,
    "start_time": "2024-01-27T21:41:33.855Z"
   },
   {
    "duration": 199,
    "start_time": "2024-01-27T21:41:33.881Z"
   },
   {
    "duration": 149,
    "start_time": "2024-01-27T21:41:34.087Z"
   },
   {
    "duration": 8,
    "start_time": "2024-01-27T21:41:34.238Z"
   },
   {
    "duration": 198,
    "start_time": "2024-01-27T21:41:34.247Z"
   },
   {
    "duration": 18,
    "start_time": "2024-01-27T21:41:34.447Z"
   },
   {
    "duration": 24,
    "start_time": "2024-01-27T21:41:34.467Z"
   },
   {
    "duration": 3947,
    "start_time": "2024-01-27T21:41:34.493Z"
   },
   {
    "duration": 690,
    "start_time": "2024-01-27T21:41:38.442Z"
   },
   {
    "duration": 31,
    "start_time": "2024-01-27T21:41:39.133Z"
   },
   {
    "duration": 3,
    "start_time": "2024-01-27T21:41:39.167Z"
   },
   {
    "duration": 31,
    "start_time": "2024-01-27T21:41:39.172Z"
   },
   {
    "duration": 30,
    "start_time": "2024-01-27T21:41:39.204Z"
   },
   {
    "duration": 4,
    "start_time": "2024-01-27T21:41:39.237Z"
   },
   {
    "duration": 17,
    "start_time": "2024-01-27T21:41:39.243Z"
   },
   {
    "duration": 21,
    "start_time": "2024-01-27T21:41:39.263Z"
   },
   {
    "duration": 24,
    "start_time": "2024-01-27T21:41:39.285Z"
   },
   {
    "duration": 16,
    "start_time": "2024-01-27T21:41:39.311Z"
   },
   {
    "duration": 15,
    "start_time": "2024-01-27T21:41:39.328Z"
   },
   {
    "duration": 58,
    "start_time": "2024-01-27T21:41:39.344Z"
   },
   {
    "duration": 9,
    "start_time": "2024-01-27T21:41:39.405Z"
   },
   {
    "duration": 24,
    "start_time": "2024-01-27T21:41:39.415Z"
   },
   {
    "duration": 11,
    "start_time": "2024-01-27T21:41:39.441Z"
   },
   {
    "duration": 40,
    "start_time": "2024-01-27T21:41:39.453Z"
   },
   {
    "duration": 9,
    "start_time": "2024-01-27T21:41:39.495Z"
   },
   {
    "duration": 18,
    "start_time": "2024-01-27T21:41:39.506Z"
   },
   {
    "duration": 9,
    "start_time": "2024-01-27T21:41:39.525Z"
   },
   {
    "duration": 66,
    "start_time": "2024-01-27T21:41:39.536Z"
   }
  ],
  "kernelspec": {
   "display_name": "Python 3 (ipykernel)",
   "language": "python",
   "name": "python3"
  },
  "language_info": {
   "codemirror_mode": {
    "name": "ipython",
    "version": 3
   },
   "file_extension": ".py",
   "mimetype": "text/x-python",
   "name": "python",
   "nbconvert_exporter": "python",
   "pygments_lexer": "ipython3",
   "version": "3.9.5"
  },
  "toc": {
   "base_numbering": 1,
   "nav_menu": {},
   "number_sections": true,
   "sideBar": true,
   "skip_h1_title": true,
   "title_cell": "Содержание проекта",
   "title_sidebar": "Contents",
   "toc_cell": true,
   "toc_position": {},
   "toc_section_display": true,
   "toc_window_display": false
  }
 },
 "nbformat": 4,
 "nbformat_minor": 2
}
