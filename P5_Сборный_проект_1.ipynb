{
 "cells": [
  {
   "cell_type": "markdown",
   "metadata": {},
   "source": [
    "# Исследование рынка компьютерных игр"
   ]
  },
  {
   "cell_type": "markdown",
   "metadata": {},
   "source": [
    "В данном проекте мы будем рассматривать и анализировать индустрию компьютерных игр для разных платформ. Наша задача это прогнозирование успешности игр на основе имеющихся данных об играх до 2016 года. Наша цель это эффективное планирование рекламной компании для интерент-магазина на 2017 год. В нашем распоряжении есть информация об компьютерных играх - это название игры, платформа, год выпуска, жанр игры, продажи в разных частях света, оценка критиков, оценка пользователей и  рейтинг от организации ESRB (англ. Entertainment Software Rating Board). Эта ассоциация определяет рейтинг компьютерных игр и присваивает им подходящую возрастную категорию."
   ]
  },
  {
   "cell_type": "markdown",
   "metadata": {},
   "source": [
    "## Изучение данных из файла"
   ]
  },
  {
   "cell_type": "code",
   "execution_count": 1,
   "metadata": {},
   "outputs": [],
   "source": [
    "import pandas as pd # импорт библиотеки pandas\n",
    "import numpy as np # импорт библиотеки numpy\n",
    "import seaborn as sns # импорт библиотеки seaborn\n",
    "import matplotlib.pyplot as plt # импорт библиотеки matplotlib\n",
    "from scipy import stats as st # импорт библиотеки scipy"
   ]
  },
  {
   "cell_type": "code",
   "execution_count": 2,
   "metadata": {},
   "outputs": [],
   "source": [
    "df = pd.read_csv('/datasets/games.csv') # чтение файла с данными и сохранение в df"
   ]
  },
  {
   "cell_type": "code",
   "execution_count": 3,
   "metadata": {},
   "outputs": [
    {
     "data": {
      "text/html": [
       "<div>\n",
       "<style scoped>\n",
       "    .dataframe tbody tr th:only-of-type {\n",
       "        vertical-align: middle;\n",
       "    }\n",
       "\n",
       "    .dataframe tbody tr th {\n",
       "        vertical-align: top;\n",
       "    }\n",
       "\n",
       "    .dataframe thead th {\n",
       "        text-align: right;\n",
       "    }\n",
       "</style>\n",
       "<table border=\"1\" class=\"dataframe\">\n",
       "  <thead>\n",
       "    <tr style=\"text-align: right;\">\n",
       "      <th></th>\n",
       "      <th>Name</th>\n",
       "      <th>Platform</th>\n",
       "      <th>Year_of_Release</th>\n",
       "      <th>Genre</th>\n",
       "      <th>NA_sales</th>\n",
       "      <th>EU_sales</th>\n",
       "      <th>JP_sales</th>\n",
       "      <th>Other_sales</th>\n",
       "      <th>Critic_Score</th>\n",
       "      <th>User_Score</th>\n",
       "      <th>Rating</th>\n",
       "    </tr>\n",
       "  </thead>\n",
       "  <tbody>\n",
       "    <tr>\n",
       "      <th>0</th>\n",
       "      <td>Wii Sports</td>\n",
       "      <td>Wii</td>\n",
       "      <td>2006.0</td>\n",
       "      <td>Sports</td>\n",
       "      <td>41.36</td>\n",
       "      <td>28.96</td>\n",
       "      <td>3.77</td>\n",
       "      <td>8.45</td>\n",
       "      <td>76.0</td>\n",
       "      <td>8</td>\n",
       "      <td>E</td>\n",
       "    </tr>\n",
       "    <tr>\n",
       "      <th>1</th>\n",
       "      <td>Super Mario Bros.</td>\n",
       "      <td>NES</td>\n",
       "      <td>1985.0</td>\n",
       "      <td>Platform</td>\n",
       "      <td>29.08</td>\n",
       "      <td>3.58</td>\n",
       "      <td>6.81</td>\n",
       "      <td>0.77</td>\n",
       "      <td>NaN</td>\n",
       "      <td>NaN</td>\n",
       "      <td>NaN</td>\n",
       "    </tr>\n",
       "    <tr>\n",
       "      <th>2</th>\n",
       "      <td>Mario Kart Wii</td>\n",
       "      <td>Wii</td>\n",
       "      <td>2008.0</td>\n",
       "      <td>Racing</td>\n",
       "      <td>15.68</td>\n",
       "      <td>12.76</td>\n",
       "      <td>3.79</td>\n",
       "      <td>3.29</td>\n",
       "      <td>82.0</td>\n",
       "      <td>8.3</td>\n",
       "      <td>E</td>\n",
       "    </tr>\n",
       "    <tr>\n",
       "      <th>3</th>\n",
       "      <td>Wii Sports Resort</td>\n",
       "      <td>Wii</td>\n",
       "      <td>2009.0</td>\n",
       "      <td>Sports</td>\n",
       "      <td>15.61</td>\n",
       "      <td>10.93</td>\n",
       "      <td>3.28</td>\n",
       "      <td>2.95</td>\n",
       "      <td>80.0</td>\n",
       "      <td>8</td>\n",
       "      <td>E</td>\n",
       "    </tr>\n",
       "    <tr>\n",
       "      <th>4</th>\n",
       "      <td>Pokemon Red/Pokemon Blue</td>\n",
       "      <td>GB</td>\n",
       "      <td>1996.0</td>\n",
       "      <td>Role-Playing</td>\n",
       "      <td>11.27</td>\n",
       "      <td>8.89</td>\n",
       "      <td>10.22</td>\n",
       "      <td>1.00</td>\n",
       "      <td>NaN</td>\n",
       "      <td>NaN</td>\n",
       "      <td>NaN</td>\n",
       "    </tr>\n",
       "  </tbody>\n",
       "</table>\n",
       "</div>"
      ],
      "text/plain": [
       "                       Name Platform  Year_of_Release         Genre  NA_sales  \\\n",
       "0                Wii Sports      Wii           2006.0        Sports     41.36   \n",
       "1         Super Mario Bros.      NES           1985.0      Platform     29.08   \n",
       "2            Mario Kart Wii      Wii           2008.0        Racing     15.68   \n",
       "3         Wii Sports Resort      Wii           2009.0        Sports     15.61   \n",
       "4  Pokemon Red/Pokemon Blue       GB           1996.0  Role-Playing     11.27   \n",
       "\n",
       "   EU_sales  JP_sales  Other_sales  Critic_Score User_Score Rating  \n",
       "0     28.96      3.77         8.45          76.0          8      E  \n",
       "1      3.58      6.81         0.77           NaN        NaN    NaN  \n",
       "2     12.76      3.79         3.29          82.0        8.3      E  \n",
       "3     10.93      3.28         2.95          80.0          8      E  \n",
       "4      8.89     10.22         1.00           NaN        NaN    NaN  "
      ]
     },
     "execution_count": 3,
     "metadata": {},
     "output_type": "execute_result"
    }
   ],
   "source": [
    "df.head() # получение первых 5 строк таблицы df"
   ]
  },
  {
   "cell_type": "markdown",
   "metadata": {},
   "source": [
    "**Общая информация о датафрейме:**"
   ]
  },
  {
   "cell_type": "code",
   "execution_count": 4,
   "metadata": {},
   "outputs": [
    {
     "name": "stdout",
     "output_type": "stream",
     "text": [
      "<class 'pandas.core.frame.DataFrame'>\n",
      "RangeIndex: 16715 entries, 0 to 16714\n",
      "Data columns (total 11 columns):\n",
      " #   Column           Non-Null Count  Dtype  \n",
      "---  ------           --------------  -----  \n",
      " 0   Name             16713 non-null  object \n",
      " 1   Platform         16715 non-null  object \n",
      " 2   Year_of_Release  16446 non-null  float64\n",
      " 3   Genre            16713 non-null  object \n",
      " 4   NA_sales         16715 non-null  float64\n",
      " 5   EU_sales         16715 non-null  float64\n",
      " 6   JP_sales         16715 non-null  float64\n",
      " 7   Other_sales      16715 non-null  float64\n",
      " 8   Critic_Score     8137 non-null   float64\n",
      " 9   User_Score       10014 non-null  object \n",
      " 10  Rating           9949 non-null   object \n",
      "dtypes: float64(6), object(5)\n",
      "memory usage: 1.4+ MB\n"
     ]
    }
   ],
   "source": [
    "df.info() # получение общей информации о данных в таблице df"
   ]
  },
  {
   "cell_type": "markdown",
   "metadata": {},
   "source": [
    "Итак, в таблице одинадцать столбцов. Тип данных в столбцах: object, float64.\n",
    "\n",
    "Согласно документации к данным:\n",
    "\n",
    "* Name — название игры\n",
    "* Platform — платформа\n",
    "* Year_of_Release — год выпуска\n",
    "* Genre — жанр игры\n",
    "* NA_sales — продажи в Северной Америке (миллионы проданных копий)\n",
    "* EU_sales — продажи в Европе (миллионы проданных копий)\n",
    "* JP_sales — продажи в Японии (миллионы проданных копий)\n",
    "* Other_sales — продажи в других странах (миллионы проданных копий)\n",
    "* Critic_Score — оценка критиков (максимум 100)\n",
    "* User_Score — оценка пользователей (максимум 10)\n",
    "* Rating — рейтинг от организации ESRB"
   ]
  },
  {
   "cell_type": "markdown",
   "metadata": {},
   "source": [
    "Количество значений в столбцах различается. Значит, в данных есть пропущенные значения."
   ]
  },
  {
   "cell_type": "markdown",
   "metadata": {},
   "source": [
    "**Вывод:**"
   ]
  },
  {
   "cell_type": "markdown",
   "metadata": {},
   "source": [
    "В каждой строке таблицы - данные о компьютерных играх, всего в таблице одинадцать столбцов с типами данных object и float64. После изучения общей информации о таблице мы выяснили, что в столбцах встречаются пропуски, которые необходимо обработать. Данных в таблице достаточно, чтобы на их основе спрогнозировать успешность игр."
   ]
  },
  {
   "cell_type": "markdown",
   "metadata": {},
   "source": [
    "## Предобработка данных"
   ]
  },
  {
   "cell_type": "markdown",
   "metadata": {},
   "source": [
    "### Стиль заголовков"
   ]
  },
  {
   "cell_type": "markdown",
   "metadata": {},
   "source": [
    "Выведем на экран названия столбцов:"
   ]
  },
  {
   "cell_type": "code",
   "execution_count": 5,
   "metadata": {},
   "outputs": [
    {
     "data": {
      "text/plain": [
       "Index(['Name', 'Platform', 'Year_of_Release', 'Genre', 'NA_sales', 'EU_sales',\n",
       "       'JP_sales', 'Other_sales', 'Critic_Score', 'User_Score', 'Rating'],\n",
       "      dtype='object')"
      ]
     },
     "execution_count": 5,
     "metadata": {},
     "output_type": "execute_result"
    }
   ],
   "source": [
    "df.columns # перечень названий столбцов таблицы df"
   ]
  },
  {
   "cell_type": "markdown",
   "metadata": {},
   "source": [
    "В названиях колонок есть нарушение стиля, изменим названия столбцов и приведем все к единому стилю, для этого нам просто нужно сделать все символы строчными."
   ]
  },
  {
   "cell_type": "code",
   "execution_count": 6,
   "metadata": {},
   "outputs": [],
   "source": [
    "df.columns = df.columns.str.lower()"
   ]
  },
  {
   "cell_type": "code",
   "execution_count": 7,
   "metadata": {
    "scrolled": true
   },
   "outputs": [
    {
     "data": {
      "text/plain": [
       "Index(['name', 'platform', 'year_of_release', 'genre', 'na_sales', 'eu_sales',\n",
       "       'jp_sales', 'other_sales', 'critic_score', 'user_score', 'rating'],\n",
       "      dtype='object')"
      ]
     },
     "execution_count": 7,
     "metadata": {},
     "output_type": "execute_result"
    }
   ],
   "source": [
    "df.columns # проверим названия столбцов после их переименования "
   ]
  },
  {
   "cell_type": "markdown",
   "metadata": {},
   "source": [
    "Успех, все столбцы записаны в едином стиле, можно продолжать предобработку данных."
   ]
  },
  {
   "cell_type": "markdown",
   "metadata": {},
   "source": [
    "### Пропуски значений и замена типа данных"
   ]
  },
  {
   "cell_type": "code",
   "execution_count": 8,
   "metadata": {},
   "outputs": [
    {
     "name": "stdout",
     "output_type": "stream",
     "text": [
      "<class 'pandas.core.frame.DataFrame'>\n",
      "RangeIndex: 16715 entries, 0 to 16714\n",
      "Data columns (total 11 columns):\n",
      " #   Column           Non-Null Count  Dtype  \n",
      "---  ------           --------------  -----  \n",
      " 0   name             16713 non-null  object \n",
      " 1   platform         16715 non-null  object \n",
      " 2   year_of_release  16446 non-null  float64\n",
      " 3   genre            16713 non-null  object \n",
      " 4   na_sales         16715 non-null  float64\n",
      " 5   eu_sales         16715 non-null  float64\n",
      " 6   jp_sales         16715 non-null  float64\n",
      " 7   other_sales      16715 non-null  float64\n",
      " 8   critic_score     8137 non-null   float64\n",
      " 9   user_score       10014 non-null  object \n",
      " 10  rating           9949 non-null   object \n",
      "dtypes: float64(6), object(5)\n",
      "memory usage: 1.4+ MB\n"
     ]
    }
   ],
   "source": [
    "df.info()"
   ]
  },
  {
   "cell_type": "markdown",
   "metadata": {},
   "source": [
    "Посчитаем, сколько в таблице пропущенных значений. Для этого достаточно двух методов pandas:"
   ]
  },
  {
   "cell_type": "code",
   "execution_count": 9,
   "metadata": {},
   "outputs": [
    {
     "data": {
      "text/plain": [
       "name                  2\n",
       "platform              0\n",
       "year_of_release     269\n",
       "genre                 2\n",
       "na_sales              0\n",
       "eu_sales              0\n",
       "jp_sales              0\n",
       "other_sales           0\n",
       "critic_score       8578\n",
       "user_score         6701\n",
       "rating             6766\n",
       "dtype: int64"
      ]
     },
     "execution_count": 9,
     "metadata": {},
     "output_type": "execute_result"
    }
   ],
   "source": [
    "df.isna().sum() # подсчёт пропусков"
   ]
  },
  {
   "cell_type": "markdown",
   "metadata": {},
   "source": [
    "Пропуски образовались в шести столбцах нашего датафрейма."
   ]
  },
  {
   "cell_type": "markdown",
   "metadata": {},
   "source": [
    "Для начала рассмотрим пропуски в столбце с жанром игр, там всего два пропуска."
   ]
  },
  {
   "cell_type": "code",
   "execution_count": 10,
   "metadata": {},
   "outputs": [
    {
     "data": {
      "text/html": [
       "<div>\n",
       "<style scoped>\n",
       "    .dataframe tbody tr th:only-of-type {\n",
       "        vertical-align: middle;\n",
       "    }\n",
       "\n",
       "    .dataframe tbody tr th {\n",
       "        vertical-align: top;\n",
       "    }\n",
       "\n",
       "    .dataframe thead th {\n",
       "        text-align: right;\n",
       "    }\n",
       "</style>\n",
       "<table border=\"1\" class=\"dataframe\">\n",
       "  <thead>\n",
       "    <tr style=\"text-align: right;\">\n",
       "      <th></th>\n",
       "      <th>name</th>\n",
       "      <th>platform</th>\n",
       "      <th>year_of_release</th>\n",
       "      <th>genre</th>\n",
       "      <th>na_sales</th>\n",
       "      <th>eu_sales</th>\n",
       "      <th>jp_sales</th>\n",
       "      <th>other_sales</th>\n",
       "      <th>critic_score</th>\n",
       "      <th>user_score</th>\n",
       "      <th>rating</th>\n",
       "    </tr>\n",
       "  </thead>\n",
       "  <tbody>\n",
       "    <tr>\n",
       "      <th>659</th>\n",
       "      <td>NaN</td>\n",
       "      <td>GEN</td>\n",
       "      <td>1993.0</td>\n",
       "      <td>NaN</td>\n",
       "      <td>1.78</td>\n",
       "      <td>0.53</td>\n",
       "      <td>0.00</td>\n",
       "      <td>0.08</td>\n",
       "      <td>NaN</td>\n",
       "      <td>NaN</td>\n",
       "      <td>NaN</td>\n",
       "    </tr>\n",
       "    <tr>\n",
       "      <th>14244</th>\n",
       "      <td>NaN</td>\n",
       "      <td>GEN</td>\n",
       "      <td>1993.0</td>\n",
       "      <td>NaN</td>\n",
       "      <td>0.00</td>\n",
       "      <td>0.00</td>\n",
       "      <td>0.03</td>\n",
       "      <td>0.00</td>\n",
       "      <td>NaN</td>\n",
       "      <td>NaN</td>\n",
       "      <td>NaN</td>\n",
       "    </tr>\n",
       "  </tbody>\n",
       "</table>\n",
       "</div>"
      ],
      "text/plain": [
       "      name platform  year_of_release genre  na_sales  eu_sales  jp_sales  \\\n",
       "659    NaN      GEN           1993.0   NaN      1.78      0.53      0.00   \n",
       "14244  NaN      GEN           1993.0   NaN      0.00      0.00      0.03   \n",
       "\n",
       "       other_sales  critic_score user_score rating  \n",
       "659           0.08           NaN        NaN    NaN  \n",
       "14244         0.00           NaN        NaN    NaN  "
      ]
     },
     "execution_count": 10,
     "metadata": {},
     "output_type": "execute_result"
    }
   ],
   "source": [
    "df[df['genre'].isna()] "
   ]
  },
  {
   "cell_type": "markdown",
   "metadata": {},
   "source": [
    "Две игры 1993 на одной игровой платформе GEN, также неизвестно название игр, чтобы ничего не терять можно заменить пропущенные значения в genre и name на 'unknown'."
   ]
  },
  {
   "cell_type": "code",
   "execution_count": 11,
   "metadata": {},
   "outputs": [],
   "source": [
    "df['genre'] = df['genre'].fillna('unknown') # замена пропущенных значений на unknown\n",
    "df['name'] = df['name'].fillna('unknown')"
   ]
  },
  {
   "cell_type": "code",
   "execution_count": 12,
   "metadata": {},
   "outputs": [
    {
     "data": {
      "text/plain": [
       "name     0\n",
       "genre    0\n",
       "dtype: int64"
      ]
     },
     "execution_count": 12,
     "metadata": {},
     "output_type": "execute_result"
    }
   ],
   "source": [
    "df[['name','genre']].isna().sum() # подсчёт пропусков в столбце name и genre"
   ]
  },
  {
   "cell_type": "markdown",
   "metadata": {},
   "source": [
    "В столбцах name и genre пропущенные значения успешно заменены на 'unknown'."
   ]
  },
  {
   "cell_type": "markdown",
   "metadata": {},
   "source": [
    "Избавимся от пропусков в столбце year_of_release, в наших данных таких пропусков не много около 2-ух процентов, чтобы не изобретать велосипед удалим строки с пропущенными значениями в year_of_release так мы мало чего потеряем, а данные будут более точными."
   ]
  },
  {
   "cell_type": "code",
   "execution_count": 13,
   "metadata": {},
   "outputs": [],
   "source": [
    "df.dropna(subset = ['year_of_release'], inplace=True) # удаление строк с пропущеными значениями в столбце year_of_release"
   ]
  },
  {
   "cell_type": "code",
   "execution_count": 14,
   "metadata": {},
   "outputs": [
    {
     "data": {
      "text/plain": [
       "0"
      ]
     },
     "execution_count": 14,
     "metadata": {},
     "output_type": "execute_result"
    }
   ],
   "source": [
    "df['year_of_release'].isna().sum() # подсчёт пропусков"
   ]
  },
  {
   "cell_type": "markdown",
   "metadata": {},
   "source": [
    "После того как пропущеные значения в столбце year_of_release обработаны можно заменить их тип данных с float на int. Заменив тип данных мы ничего не потеряем, а процесс анализа данных будет эффективнее."
   ]
  },
  {
   "cell_type": "code",
   "execution_count": 15,
   "metadata": {},
   "outputs": [],
   "source": [
    "df['year_of_release'] = df['year_of_release'].astype('int') # замена типа данных на int"
   ]
  },
  {
   "cell_type": "markdown",
   "metadata": {},
   "source": [
    "Далее заполним пропуски в столбце rating. Столбец с этими данными - это рейтинг от организации ESRB. Эта ассоциация определяет рейтинг компьютерных игр и присваивает им подходящую возрастную категорию."
   ]
  },
  {
   "cell_type": "code",
   "execution_count": 16,
   "metadata": {},
   "outputs": [],
   "source": [
    "def my_mode(s):\n",
    "    mode = s.mode()\n",
    "    if len(mode) > 0:\n",
    "        return mode[0]"
   ]
  },
  {
   "cell_type": "code",
   "execution_count": 17,
   "metadata": {},
   "outputs": [],
   "source": [
    "df['rating'] = df['rating'].fillna('unknown')"
   ]
  },
  {
   "cell_type": "code",
   "execution_count": 18,
   "metadata": {},
   "outputs": [
    {
     "data": {
      "text/html": [
       "<div>\n",
       "<style scoped>\n",
       "    .dataframe tbody tr th:only-of-type {\n",
       "        vertical-align: middle;\n",
       "    }\n",
       "\n",
       "    .dataframe tbody tr th {\n",
       "        vertical-align: top;\n",
       "    }\n",
       "\n",
       "    .dataframe thead th {\n",
       "        text-align: right;\n",
       "    }\n",
       "</style>\n",
       "<table border=\"1\" class=\"dataframe\">\n",
       "  <thead>\n",
       "    <tr style=\"text-align: right;\">\n",
       "      <th></th>\n",
       "      <th>name</th>\n",
       "      <th>platform</th>\n",
       "      <th>year_of_release</th>\n",
       "      <th>genre</th>\n",
       "      <th>na_sales</th>\n",
       "      <th>eu_sales</th>\n",
       "      <th>jp_sales</th>\n",
       "      <th>other_sales</th>\n",
       "      <th>critic_score</th>\n",
       "      <th>user_score</th>\n",
       "      <th>rating</th>\n",
       "    </tr>\n",
       "  </thead>\n",
       "  <tbody>\n",
       "    <tr>\n",
       "      <th>4</th>\n",
       "      <td>Pokemon Red/Pokemon Blue</td>\n",
       "      <td>GB</td>\n",
       "      <td>1996</td>\n",
       "      <td>Role-Playing</td>\n",
       "      <td>11.27</td>\n",
       "      <td>8.89</td>\n",
       "      <td>10.22</td>\n",
       "      <td>1.00</td>\n",
       "      <td>NaN</td>\n",
       "      <td>NaN</td>\n",
       "      <td>unknown</td>\n",
       "    </tr>\n",
       "    <tr>\n",
       "      <th>9</th>\n",
       "      <td>Duck Hunt</td>\n",
       "      <td>NES</td>\n",
       "      <td>1984</td>\n",
       "      <td>Shooter</td>\n",
       "      <td>26.93</td>\n",
       "      <td>0.63</td>\n",
       "      <td>0.28</td>\n",
       "      <td>0.47</td>\n",
       "      <td>NaN</td>\n",
       "      <td>NaN</td>\n",
       "      <td>unknown</td>\n",
       "    </tr>\n",
       "  </tbody>\n",
       "</table>\n",
       "</div>"
      ],
      "text/plain": [
       "                       name platform  year_of_release         genre  na_sales  \\\n",
       "4  Pokemon Red/Pokemon Blue       GB             1996  Role-Playing     11.27   \n",
       "9                 Duck Hunt      NES             1984       Shooter     26.93   \n",
       "\n",
       "   eu_sales  jp_sales  other_sales  critic_score user_score   rating  \n",
       "4      8.89     10.22         1.00           NaN        NaN  unknown  \n",
       "9      0.63      0.28         0.47           NaN        NaN  unknown  "
      ]
     },
     "execution_count": 18,
     "metadata": {},
     "output_type": "execute_result"
    }
   ],
   "source": [
    "df[df['name'].isin(['Duck Hunt', 'Pokemon Red/Pokemon Blue'])]"
   ]
  },
  {
   "cell_type": "markdown",
   "metadata": {},
   "source": [
    "Проверим как сработала наша функция и обработка пропусков в столбце raiting."
   ]
  },
  {
   "cell_type": "code",
   "execution_count": 19,
   "metadata": {},
   "outputs": [
    {
     "data": {
      "text/plain": [
       "name                  0\n",
       "platform              0\n",
       "year_of_release       0\n",
       "genre                 0\n",
       "na_sales              0\n",
       "eu_sales              0\n",
       "jp_sales              0\n",
       "other_sales           0\n",
       "critic_score       8463\n",
       "user_score         6607\n",
       "rating                0\n",
       "dtype: int64"
      ]
     },
     "execution_count": 19,
     "metadata": {},
     "output_type": "execute_result"
    }
   ],
   "source": [
    "df.isna().sum() # подсчёт пропусков"
   ]
  },
  {
   "cell_type": "markdown",
   "metadata": {},
   "source": [
    "Осталось два пропуска посмотрим эти строки."
   ]
  },
  {
   "cell_type": "code",
   "execution_count": 20,
   "metadata": {},
   "outputs": [
    {
     "data": {
      "text/html": [
       "<div>\n",
       "<style scoped>\n",
       "    .dataframe tbody tr th:only-of-type {\n",
       "        vertical-align: middle;\n",
       "    }\n",
       "\n",
       "    .dataframe tbody tr th {\n",
       "        vertical-align: top;\n",
       "    }\n",
       "\n",
       "    .dataframe thead th {\n",
       "        text-align: right;\n",
       "    }\n",
       "</style>\n",
       "<table border=\"1\" class=\"dataframe\">\n",
       "  <thead>\n",
       "    <tr style=\"text-align: right;\">\n",
       "      <th></th>\n",
       "      <th>name</th>\n",
       "      <th>platform</th>\n",
       "      <th>year_of_release</th>\n",
       "      <th>genre</th>\n",
       "      <th>na_sales</th>\n",
       "      <th>eu_sales</th>\n",
       "      <th>jp_sales</th>\n",
       "      <th>other_sales</th>\n",
       "      <th>critic_score</th>\n",
       "      <th>user_score</th>\n",
       "      <th>rating</th>\n",
       "    </tr>\n",
       "  </thead>\n",
       "  <tbody>\n",
       "  </tbody>\n",
       "</table>\n",
       "</div>"
      ],
      "text/plain": [
       "Empty DataFrame\n",
       "Columns: [name, platform, year_of_release, genre, na_sales, eu_sales, jp_sales, other_sales, critic_score, user_score, rating]\n",
       "Index: []"
      ]
     },
     "execution_count": 20,
     "metadata": {},
     "output_type": "execute_result"
    }
   ],
   "source": [
    "df[df['rating'].isna()]"
   ]
  },
  {
   "cell_type": "markdown",
   "metadata": {},
   "source": [
    "Это те самые две игры о которых почти ничего не известно, думаю, что можем избавиться от них."
   ]
  },
  {
   "cell_type": "code",
   "execution_count": 21,
   "metadata": {},
   "outputs": [],
   "source": [
    "df = df.query('genre != \"unknown\"') "
   ]
  },
  {
   "cell_type": "code",
   "execution_count": 22,
   "metadata": {},
   "outputs": [
    {
     "name": "stdout",
     "output_type": "stream",
     "text": [
      "Пропусков в столбце rating: 0\n"
     ]
    }
   ],
   "source": [
    "print('Пропусков в столбце rating:', df['rating'].isna().sum()) # подсчёт пропусков"
   ]
  },
  {
   "cell_type": "markdown",
   "metadata": {},
   "source": [
    "Успех, осталось два столбца с пропущенными значениями: critic_score и user_score."
   ]
  },
  {
   "cell_type": "code",
   "execution_count": 23,
   "metadata": {},
   "outputs": [
    {
     "data": {
      "text/plain": [
       "genre\n",
       "Action          68.0\n",
       "Adventure       66.0\n",
       "Fighting        72.0\n",
       "Misc            69.0\n",
       "Platform        69.5\n",
       "Puzzle          70.0\n",
       "Racing          69.0\n",
       "Role-Playing    74.0\n",
       "Shooter         73.0\n",
       "Simulation      70.0\n",
       "Sports          75.0\n",
       "Strategy        73.0\n",
       "Name: critic_score, dtype: float64"
      ]
     },
     "execution_count": 23,
     "metadata": {},
     "output_type": "execute_result"
    }
   ],
   "source": [
    "df.groupby('genre')['critic_score'].median()"
   ]
  },
  {
   "cell_type": "markdown",
   "metadata": {},
   "source": [
    "Предположу, что оценки критиков сильно зависят от жанра игр, на основе жанра игр заполним пропуски в critic_score."
   ]
  },
  {
   "cell_type": "code",
   "execution_count": 24,
   "metadata": {},
   "outputs": [],
   "source": [
    "df_transformed_critic_score = df.groupby('genre')['critic_score'].transform('median')\n",
    "df['critic_score'] = df['critic_score'].fillna(df_transformed_critic_score)"
   ]
  },
  {
   "cell_type": "code",
   "execution_count": 25,
   "metadata": {},
   "outputs": [],
   "source": [
    "df['critic_score'] = df['critic_score'].astype('int')"
   ]
  },
  {
   "cell_type": "code",
   "execution_count": 26,
   "metadata": {},
   "outputs": [
    {
     "name": "stdout",
     "output_type": "stream",
     "text": [
      "Пропусков в столбце critic_score: 0\n"
     ]
    }
   ],
   "source": [
    "print('Пропусков в столбце critic_score:', df['critic_score'].isna().sum()) # подсчёт пропусков"
   ]
  },
  {
   "cell_type": "markdown",
   "metadata": {},
   "source": [
   "Успех в столбце critic_score нет пропусков, начнем заполнять пропуски user_score."
   ]
  },
  {
   "cell_type": "code",
   "execution_count": 27,
   "metadata": {},
   "outputs": [
    {
     "data": {
      "text/plain": [
       "array(['8', nan, '8.3', '8.5', '6.6', '8.4', '8.6', '7.7', '6.3', '7.4',\n",
       "       '8.2', '9', '7.9', '8.1', '8.7', '7.1', '3.4', '5.3', '4.8', '3.2',\n",
       "       '8.9', '6.4', '7.8', '7.5', '2.6', '7.2', '9.2', '7', '7.3', '4.3',\n",
       "       '7.6', '5.7', '5', '9.1', '6.5', 'tbd', '8.8', '6.9', '9.4', '6.8',\n",
       "       '6.1', '6.7', '5.4', '4', '4.9', '4.5', '9.3', '6.2', '4.2', '6',\n",
       "       '3.7', '4.1', '5.8', '5.6', '5.5', '4.4', '4.6', '5.9', '3.9',\n",
       "       '3.1', '2.9', '5.2', '3.3', '4.7', '5.1', '3.5', '2.5', '1.9', '3',\n",
       "       '2.7', '2.2', '2', '9.5', '2.1', '3.6', '2.8', '1.8', '3.8', '0',\n",
       "       '1.6', '9.6', '2.4', '1.7', '1.1', '0.3', '1.5', '0.7', '1.2',\n",
       "       '2.3', '0.5', '1.3', '0.2', '0.6', '1.4', '0.9', '1', '9.7'],\n",
       "      dtype=object)"
      ]
     },
     "execution_count": 27,
     "metadata": {},
     "output_type": "execute_result"
    }
   ],
   "source": [
    "df['user_score'].unique() # смотрим уникальные значения в столбце user_score"
   ]
  },
  {
   "cell_type": "markdown",
   "metadata": {},
   "source": [
    "В столбце user_score есть такие значения как nan и tbd, их необходимо обработать. Если с nan'ами все понятно, то что такое tbd надо узнать. Погуглив мы узнали, что значение 'tbd' - подлежит определению. Обработаем пропуски с помощию заглушки -2 предполагаю, что nan-ы это те же tbd, а значение tbd заменим на число 'заглушку' в качестве значения 'заглушки', будем использовать -1."
   ]
  },
  {
   "cell_type": "code",
   "execution_count": 28,
   "metadata": {},
   "outputs": [
    {
     "name": "stdout",
     "output_type": "stream",
     "text": [
      "Количество значений \"tbd\" в столбце user_score: 2376\n"
     ]
    }
   ],
   "source": [
    "print('Количество значений \"tbd\" в столбце user_score:', len(df.query('user_score == \"tbd\"')))"
   ]
  },
  {
   "cell_type": "code",
   "execution_count": 29,
   "metadata": {},
   "outputs": [],
   "source": [
    "df.loc[(df.user_score == 'tbd'), 'user_score'] = -1 # ставим значение заглушку"
   ]
  },
  {
   "cell_type": "markdown",
   "metadata": {},
   "source": [
    "Готово, проверим уникальные значения столбца user_score."
   ]
  },
  {
   "cell_type": "code",
   "execution_count": 30,
   "metadata": {},
   "outputs": [
    {
     "data": {
      "text/plain": [
       "array(['8', nan, '8.3', '8.5', '6.6', '8.4', '8.6', '7.7', '6.3', '7.4',\n",
       "       '8.2', '9', '7.9', '8.1', '8.7', '7.1', '3.4', '5.3', '4.8', '3.2',\n",
       "       '8.9', '6.4', '7.8', '7.5', '2.6', '7.2', '9.2', '7', '7.3', '4.3',\n",
       "       '7.6', '5.7', '5', '9.1', '6.5', -1, '8.8', '6.9', '9.4', '6.8',\n",
       "       '6.1', '6.7', '5.4', '4', '4.9', '4.5', '9.3', '6.2', '4.2', '6',\n",
       "       '3.7', '4.1', '5.8', '5.6', '5.5', '4.4', '4.6', '5.9', '3.9',\n",
       "       '3.1', '2.9', '5.2', '3.3', '4.7', '5.1', '3.5', '2.5', '1.9', '3',\n",
       "       '2.7', '2.2', '2', '9.5', '2.1', '3.6', '2.8', '1.8', '3.8', '0',\n",
       "       '1.6', '9.6', '2.4', '1.7', '1.1', '0.3', '1.5', '0.7', '1.2',\n",
       "       '2.3', '0.5', '1.3', '0.2', '0.6', '1.4', '0.9', '1', '9.7'],\n",
       "      dtype=object)"
      ]
     },
     "execution_count": 30,
     "metadata": {},
     "output_type": "execute_result"
    }
   ],
   "source": [
    "df['user_score'].unique() # проверка уникальных значений в столбце user_score"
   ]
  },
  {
   "cell_type": "code",
   "execution_count": 31,
   "metadata": {},
   "outputs": [],
   "source": [
    "df['user_score'] = df['user_score'].astype('float') # замена типа данных в столбце user_score"
   ]
  },
  {
   "cell_type": "markdown",
   "metadata": {},
   "source": [
    "Значение 'tbd' изменено, вместо него теперь стоит -1. Осталось заполнить пропуски."
   ]
  },
  {
   "cell_type": "code",
   "execution_count": 32,
   "metadata": {},
   "outputs": [],
   "source": [
    "df['user_score'] = df['user_score'].fillna(-2)"
   ]
  },
  {
   "cell_type": "code",
   "execution_count": 33,
   "metadata": {},
   "outputs": [
    {
     "name": "stdout",
     "output_type": "stream",
     "text": [
      "Количество пропущенных значений в столбце user_score: 0\n"
     ]
    }
   ],
   "source": [
    "print('Количество пропущенных значений в столбце user_score:', df['user_score'].isna().sum())"
   ]
  },
  {
   "cell_type": "markdown",
   "metadata": {},
   "source": [
    "После заполнения пропусков user_score, можно проверить на сколкько обработан наш датафрейм."
   ]
  },
  {
   "cell_type": "code",
   "execution_count": 34,
   "metadata": {},
   "outputs": [
    {
     "data": {
      "text/plain": [
       "name               0\n",
       "platform           0\n",
       "year_of_release    0\n",
       "genre              0\n",
       "na_sales           0\n",
       "eu_sales           0\n",
       "jp_sales           0\n",
       "other_sales        0\n",
       "critic_score       0\n",
       "user_score         0\n",
       "rating             0\n",
       "dtype: int64"
      ]
     },
     "execution_count": 34,
     "metadata": {},
     "output_type": "execute_result"
    }
   ],
   "source": [
    "df.isna().sum() # подсчёт пропусков"
   ]
  },
  {
   "cell_type": "markdown",
   "metadata": {},
   "source": [
    "\n",
    "Готово, пропущенные значения обработаны. Посмотрим на тип данных нашего датафрейма."
   ]
  },
  {
   "cell_type": "code",
   "execution_count": 35,
   "metadata": {},
   "outputs": [
    {
     "name": "stdout",
     "output_type": "stream",
     "text": [
      "<class 'pandas.core.frame.DataFrame'>\n",
      "Int64Index: 16444 entries, 0 to 16714\n",
      "Data columns (total 11 columns):\n",
      " #   Column           Non-Null Count  Dtype  \n",
      "---  ------           --------------  -----  \n",
      " 0   name             16444 non-null  object \n",
      " 1   platform         16444 non-null  object \n",
      " 2   year_of_release  16444 non-null  int64  \n",
      " 3   genre            16444 non-null  object \n",
      " 4   na_sales         16444 non-null  float64\n",
      " 5   eu_sales         16444 non-null  float64\n",
      " 6   jp_sales         16444 non-null  float64\n",
      " 7   other_sales      16444 non-null  float64\n",
      " 8   critic_score     16444 non-null  int64  \n",
      " 9   user_score       16444 non-null  float64\n",
      " 10  rating           16444 non-null  object \n",
      "dtypes: float64(5), int64(2), object(4)\n",
      "memory usage: 1.5+ MB\n"
     ]
    }
   ],
   "source": [
    "df.info() # получение общей информации df"
   ]
  },
  {
   "cell_type": "markdown",
   "metadata": {},
   "source": [
    "Супер! Все как надо. Следуйший шаг это добавление столбца с общими продажами игр."
   ]
  },
  {
   "cell_type": "markdown",
   "metadata": {},
   "source": [
    "### Добавление столбца total_sales"
   ]
  },
  {
   "cell_type": "code",
   "execution_count": 36,
   "metadata": {},
   "outputs": [],
   "source": [
    "df['total_sales'] = df['na_sales'] + df['eu_sales'] + df['jp_sales'] + df['other_sales'] # добавление столбца total_sales"
   ]
  },
  {
   "cell_type": "code",
   "execution_count": 37,
   "metadata": {},
   "outputs": [
    {
     "data": {
      "text/html": [
       "<div>\n",
       "<style scoped>\n",
       "    .dataframe tbody tr th:only-of-type {\n",
       "        vertical-align: middle;\n",
       "    }\n",
       "\n",
       "    .dataframe tbody tr th {\n",
       "        vertical-align: top;\n",
       "    }\n",
       "\n",
       "    .dataframe thead th {\n",
       "        text-align: right;\n",
       "    }\n",
       "</style>\n",
       "<table border=\"1\" class=\"dataframe\">\n",
       "  <thead>\n",
       "    <tr style=\"text-align: right;\">\n",
       "      <th></th>\n",
       "      <th>name</th>\n",
       "      <th>platform</th>\n",
       "      <th>year_of_release</th>\n",
       "      <th>genre</th>\n",
       "      <th>na_sales</th>\n",
       "      <th>eu_sales</th>\n",
       "      <th>jp_sales</th>\n",
       "      <th>other_sales</th>\n",
       "      <th>critic_score</th>\n",
       "      <th>user_score</th>\n",
       "      <th>rating</th>\n",
       "      <th>total_sales</th>\n",
       "    </tr>\n",
       "  </thead>\n",
       "  <tbody>\n",
       "    <tr>\n",
       "      <th>0</th>\n",
       "      <td>Wii Sports</td>\n",
       "      <td>Wii</td>\n",
       "      <td>2006</td>\n",
       "      <td>Sports</td>\n",
       "      <td>41.36</td>\n",
       "      <td>28.96</td>\n",
       "      <td>3.77</td>\n",
       "      <td>8.45</td>\n",
       "      <td>76</td>\n",
       "      <td>8.0</td>\n",
       "      <td>E</td>\n",
       "      <td>82.54</td>\n",
       "    </tr>\n",
       "    <tr>\n",
       "      <th>1</th>\n",
       "      <td>Super Mario Bros.</td>\n",
       "      <td>NES</td>\n",
       "      <td>1985</td>\n",
       "      <td>Platform</td>\n",
       "      <td>29.08</td>\n",
       "      <td>3.58</td>\n",
       "      <td>6.81</td>\n",
       "      <td>0.77</td>\n",
       "      <td>69</td>\n",
       "      <td>-2.0</td>\n",
       "      <td>unknown</td>\n",
       "      <td>40.24</td>\n",
       "    </tr>\n",
       "    <tr>\n",
       "      <th>2</th>\n",
       "      <td>Mario Kart Wii</td>\n",
       "      <td>Wii</td>\n",
       "      <td>2008</td>\n",
       "      <td>Racing</td>\n",
       "      <td>15.68</td>\n",
       "      <td>12.76</td>\n",
       "      <td>3.79</td>\n",
       "      <td>3.29</td>\n",
       "      <td>82</td>\n",
       "      <td>8.3</td>\n",
       "      <td>E</td>\n",
       "      <td>35.52</td>\n",
       "    </tr>\n",
       "    <tr>\n",
       "      <th>3</th>\n",
       "      <td>Wii Sports Resort</td>\n",
       "      <td>Wii</td>\n",
       "      <td>2009</td>\n",
       "      <td>Sports</td>\n",
       "      <td>15.61</td>\n",
       "      <td>10.93</td>\n",
       "      <td>3.28</td>\n",
       "      <td>2.95</td>\n",
       "      <td>80</td>\n",
       "      <td>8.0</td>\n",
       "      <td>E</td>\n",
       "      <td>32.77</td>\n",
       "    </tr>\n",
       "    <tr>\n",
       "      <th>4</th>\n",
       "      <td>Pokemon Red/Pokemon Blue</td>\n",
       "      <td>GB</td>\n",
       "      <td>1996</td>\n",
       "      <td>Role-Playing</td>\n",
       "      <td>11.27</td>\n",
       "      <td>8.89</td>\n",
       "      <td>10.22</td>\n",
       "      <td>1.00</td>\n",
       "      <td>74</td>\n",
       "      <td>-2.0</td>\n",
       "      <td>unknown</td>\n",
       "      <td>31.38</td>\n",
       "    </tr>\n",
       "  </tbody>\n",
       "</table>\n",
       "</div>"
      ],
      "text/plain": [
       "                       name platform  year_of_release         genre  na_sales  \\\n",
       "0                Wii Sports      Wii             2006        Sports     41.36   \n",
       "1         Super Mario Bros.      NES             1985      Platform     29.08   \n",
       "2            Mario Kart Wii      Wii             2008        Racing     15.68   \n",
       "3         Wii Sports Resort      Wii             2009        Sports     15.61   \n",
       "4  Pokemon Red/Pokemon Blue       GB             1996  Role-Playing     11.27   \n",
       "\n",
       "   eu_sales  jp_sales  other_sales  critic_score  user_score   rating  \\\n",
       "0     28.96      3.77         8.45            76         8.0        E   \n",
       "1      3.58      6.81         0.77            69        -2.0  unknown   \n",
       "2     12.76      3.79         3.29            82         8.3        E   \n",
       "3     10.93      3.28         2.95            80         8.0        E   \n",
       "4      8.89     10.22         1.00            74        -2.0  unknown   \n",
       "\n",
       "   total_sales  \n",
       "0        82.54  \n",
       "1        40.24  \n",
       "2        35.52  \n",
       "3        32.77  \n",
       "4        31.38  "
      ]
     },
     "execution_count": 37,
     "metadata": {},
     "output_type": "execute_result"
    }
   ],
   "source": [
    "df.head() # смотрим как выглядит наш новый столбец "
   ]
  },
  {
   "cell_type": "markdown",
   "metadata": {},
   "source": [
    "**Вывод:**"
   ]
  },
  {
   "cell_type": "markdown",
   "metadata": {},
   "source": [
    "В данном этапе мы занимались предобработкой данных. В первую очередь мы привели все названия столбцов в датафрейме к единому стилю, далее мы занимались заполнением пропусков, пропуски были в 6 столбцах нашей таблицы, там где была необходимость делали \"заглушки\", например в случае с значениями tbd. Паралельно заменяли типы данных на более приемлемые. Конечным шагом этого этапа было добавление столбца total_sales в наш датафрейм в котором мы сложили все известные продажи по играм, этот столбец нам послужит для дальнейшего исследовательского анализа данных, которым мы будем заниматься в следующем этапе."
   ]
  },
  {
   "cell_type": "markdown",
   "metadata": {},
   "source": [
    "## Исследовательскй анализ данных"
   ]
  },
  {
   "cell_type": "markdown",
   "metadata": {},
   "source": [
    "В этом шаге мы проведем исследовательский анализ данных. Для начала посмотрим, сколько игр выпускалось в разные годы. Для этого создадим переменную data_years и наполним его данными нашего датафрейма, сгруппигруем данные по годам и посмотрим общее количество выпущенных игр за каждый год."
   ]
  },
  {
   "cell_type": "code",
   "execution_count": 38,
   "metadata": {},
   "outputs": [
    {
     "data": {
      "text/html": [
       "<div>\n",
       "<style scoped>\n",
       "    .dataframe tbody tr th:only-of-type {\n",
       "        vertical-align: middle;\n",
       "    }\n",
       "\n",
       "    .dataframe tbody tr th {\n",
       "        vertical-align: top;\n",
       "    }\n",
       "\n",
       "    .dataframe thead th {\n",
       "        text-align: right;\n",
       "    }\n",
       "</style>\n",
       "<table border=\"1\" class=\"dataframe\">\n",
       "  <thead>\n",
       "    <tr style=\"text-align: right;\">\n",
       "      <th></th>\n",
       "      <th>year</th>\n",
       "      <th>number_of_games</th>\n",
       "      <th>relative_expression</th>\n",
       "    </tr>\n",
       "  </thead>\n",
       "  <tbody>\n",
       "    <tr>\n",
       "      <th>0</th>\n",
       "      <td>1980</td>\n",
       "      <td>9</td>\n",
       "      <td>0.054731</td>\n",
       "    </tr>\n",
       "    <tr>\n",
       "      <th>1</th>\n",
       "      <td>1981</td>\n",
       "      <td>46</td>\n",
       "      <td>0.279737</td>\n",
       "    </tr>\n",
       "    <tr>\n",
       "      <th>2</th>\n",
       "      <td>1982</td>\n",
       "      <td>36</td>\n",
       "      <td>0.218925</td>\n",
       "    </tr>\n",
       "    <tr>\n",
       "      <th>3</th>\n",
       "      <td>1983</td>\n",
       "      <td>17</td>\n",
       "      <td>0.103381</td>\n",
       "    </tr>\n",
       "    <tr>\n",
       "      <th>4</th>\n",
       "      <td>1984</td>\n",
       "      <td>14</td>\n",
       "      <td>0.085137</td>\n",
       "    </tr>\n",
       "    <tr>\n",
       "      <th>5</th>\n",
       "      <td>1985</td>\n",
       "      <td>14</td>\n",
       "      <td>0.085137</td>\n",
       "    </tr>\n",
       "    <tr>\n",
       "      <th>6</th>\n",
       "      <td>1986</td>\n",
       "      <td>21</td>\n",
       "      <td>0.127706</td>\n",
       "    </tr>\n",
       "    <tr>\n",
       "      <th>7</th>\n",
       "      <td>1987</td>\n",
       "      <td>16</td>\n",
       "      <td>0.097300</td>\n",
       "    </tr>\n",
       "    <tr>\n",
       "      <th>8</th>\n",
       "      <td>1988</td>\n",
       "      <td>15</td>\n",
       "      <td>0.091219</td>\n",
       "    </tr>\n",
       "    <tr>\n",
       "      <th>9</th>\n",
       "      <td>1989</td>\n",
       "      <td>17</td>\n",
       "      <td>0.103381</td>\n",
       "    </tr>\n",
       "    <tr>\n",
       "      <th>10</th>\n",
       "      <td>1990</td>\n",
       "      <td>16</td>\n",
       "      <td>0.097300</td>\n",
       "    </tr>\n",
       "    <tr>\n",
       "      <th>11</th>\n",
       "      <td>1991</td>\n",
       "      <td>41</td>\n",
       "      <td>0.249331</td>\n",
       "    </tr>\n",
       "    <tr>\n",
       "      <th>12</th>\n",
       "      <td>1992</td>\n",
       "      <td>43</td>\n",
       "      <td>0.261494</td>\n",
       "    </tr>\n",
       "    <tr>\n",
       "      <th>13</th>\n",
       "      <td>1993</td>\n",
       "      <td>60</td>\n",
       "      <td>0.364875</td>\n",
       "    </tr>\n",
       "    <tr>\n",
       "      <th>14</th>\n",
       "      <td>1994</td>\n",
       "      <td>121</td>\n",
       "      <td>0.735831</td>\n",
       "    </tr>\n",
       "    <tr>\n",
       "      <th>15</th>\n",
       "      <td>1995</td>\n",
       "      <td>219</td>\n",
       "      <td>1.331793</td>\n",
       "    </tr>\n",
       "    <tr>\n",
       "      <th>16</th>\n",
       "      <td>1996</td>\n",
       "      <td>263</td>\n",
       "      <td>1.599368</td>\n",
       "    </tr>\n",
       "    <tr>\n",
       "      <th>17</th>\n",
       "      <td>1997</td>\n",
       "      <td>289</td>\n",
       "      <td>1.757480</td>\n",
       "    </tr>\n",
       "    <tr>\n",
       "      <th>18</th>\n",
       "      <td>1998</td>\n",
       "      <td>379</td>\n",
       "      <td>2.304792</td>\n",
       "    </tr>\n",
       "    <tr>\n",
       "      <th>19</th>\n",
       "      <td>1999</td>\n",
       "      <td>338</td>\n",
       "      <td>2.055461</td>\n",
       "    </tr>\n",
       "    <tr>\n",
       "      <th>20</th>\n",
       "      <td>2000</td>\n",
       "      <td>350</td>\n",
       "      <td>2.128436</td>\n",
       "    </tr>\n",
       "    <tr>\n",
       "      <th>21</th>\n",
       "      <td>2001</td>\n",
       "      <td>482</td>\n",
       "      <td>2.931160</td>\n",
       "    </tr>\n",
       "    <tr>\n",
       "      <th>22</th>\n",
       "      <td>2002</td>\n",
       "      <td>829</td>\n",
       "      <td>5.041352</td>\n",
       "    </tr>\n",
       "    <tr>\n",
       "      <th>23</th>\n",
       "      <td>2003</td>\n",
       "      <td>775</td>\n",
       "      <td>4.712965</td>\n",
       "    </tr>\n",
       "    <tr>\n",
       "      <th>24</th>\n",
       "      <td>2004</td>\n",
       "      <td>762</td>\n",
       "      <td>4.633909</td>\n",
       "    </tr>\n",
       "    <tr>\n",
       "      <th>25</th>\n",
       "      <td>2005</td>\n",
       "      <td>939</td>\n",
       "      <td>5.710289</td>\n",
       "    </tr>\n",
       "    <tr>\n",
       "      <th>26</th>\n",
       "      <td>2006</td>\n",
       "      <td>1006</td>\n",
       "      <td>6.117733</td>\n",
       "    </tr>\n",
       "    <tr>\n",
       "      <th>27</th>\n",
       "      <td>2007</td>\n",
       "      <td>1197</td>\n",
       "      <td>7.279251</td>\n",
       "    </tr>\n",
       "    <tr>\n",
       "      <th>28</th>\n",
       "      <td>2008</td>\n",
       "      <td>1427</td>\n",
       "      <td>8.677937</td>\n",
       "    </tr>\n",
       "    <tr>\n",
       "      <th>29</th>\n",
       "      <td>2009</td>\n",
       "      <td>1426</td>\n",
       "      <td>8.671856</td>\n",
       "    </tr>\n",
       "    <tr>\n",
       "      <th>30</th>\n",
       "      <td>2010</td>\n",
       "      <td>1255</td>\n",
       "      <td>7.631963</td>\n",
       "    </tr>\n",
       "    <tr>\n",
       "      <th>31</th>\n",
       "      <td>2011</td>\n",
       "      <td>1136</td>\n",
       "      <td>6.908295</td>\n",
       "    </tr>\n",
       "    <tr>\n",
       "      <th>32</th>\n",
       "      <td>2012</td>\n",
       "      <td>653</td>\n",
       "      <td>3.971053</td>\n",
       "    </tr>\n",
       "    <tr>\n",
       "      <th>33</th>\n",
       "      <td>2013</td>\n",
       "      <td>544</td>\n",
       "      <td>3.308198</td>\n",
       "    </tr>\n",
       "    <tr>\n",
       "      <th>34</th>\n",
       "      <td>2014</td>\n",
       "      <td>581</td>\n",
       "      <td>3.533204</td>\n",
       "    </tr>\n",
       "    <tr>\n",
       "      <th>35</th>\n",
       "      <td>2015</td>\n",
       "      <td>606</td>\n",
       "      <td>3.685235</td>\n",
       "    </tr>\n",
       "    <tr>\n",
       "      <th>36</th>\n",
       "      <td>2016</td>\n",
       "      <td>502</td>\n",
       "      <td>3.052785</td>\n",
       "    </tr>\n",
       "  </tbody>\n",
       "</table>\n",
       "</div>"
      ],
      "text/plain": [
       "    year  number_of_games  relative_expression\n",
       "0   1980                9             0.054731\n",
       "1   1981               46             0.279737\n",
       "2   1982               36             0.218925\n",
       "3   1983               17             0.103381\n",
       "4   1984               14             0.085137\n",
       "5   1985               14             0.085137\n",
       "6   1986               21             0.127706\n",
       "7   1987               16             0.097300\n",
       "8   1988               15             0.091219\n",
       "9   1989               17             0.103381\n",
       "10  1990               16             0.097300\n",
       "11  1991               41             0.249331\n",
       "12  1992               43             0.261494\n",
       "13  1993               60             0.364875\n",
       "14  1994              121             0.735831\n",
       "15  1995              219             1.331793\n",
       "16  1996              263             1.599368\n",
       "17  1997              289             1.757480\n",
       "18  1998              379             2.304792\n",
       "19  1999              338             2.055461\n",
       "20  2000              350             2.128436\n",
       "21  2001              482             2.931160\n",
       "22  2002              829             5.041352\n",
       "23  2003              775             4.712965\n",
       "24  2004              762             4.633909\n",
       "25  2005              939             5.710289\n",
       "26  2006             1006             6.117733\n",
       "27  2007             1197             7.279251\n",
       "28  2008             1427             8.677937\n",
       "29  2009             1426             8.671856\n",
       "30  2010             1255             7.631963\n",
       "31  2011             1136             6.908295\n",
       "32  2012              653             3.971053\n",
       "33  2013              544             3.308198\n",
       "34  2014              581             3.533204\n",
       "35  2015              606             3.685235\n",
       "36  2016              502             3.052785"
      ]
     },
     "metadata": {},
     "output_type": "display_data"
    }
   ],
   "source": [
    "data_years = df.groupby('year_of_release')['name'].count().reset_index()\n",
    "data_years.rename(columns = {'year_of_release' : 'year', 'name' : 'number_of_games'}, inplace=True)\n",
    "data_years['relative_expression'] = data_years['number_of_games'] / len(df) * 100 # смотрим относительную долю в процентах по общей структуре данных\n",
    "display(data_years)"
   ]
  },
  {
   "cell_type": "markdown",
   "metadata": {},
   "source": [
    "По таблице видно, что в период с 1980 года по 1995 год было выпущенно не много игр в сумме 486 или всего 3 % от общего числа игр, определенно после 1995 года был прорыв в игровой индустрии."
   ]
  },
  {
   "cell_type": "markdown",
   "metadata": {},
   "source": [
    "Далее рассмотрим топ продаж по разным платформам."
   ]
  },
  {
   "cell_type": "code",
   "execution_count": 39,
   "metadata": {},
   "outputs": [
    {
     "data": {
      "text/html": [
       "<div>\n",
       "<style scoped>\n",
       "    .dataframe tbody tr th:only-of-type {\n",
       "        vertical-align: middle;\n",
       "    }\n",
       "\n",
       "    .dataframe tbody tr th {\n",
       "        vertical-align: top;\n",
       "    }\n",
       "\n",
       "    .dataframe thead th {\n",
       "        text-align: right;\n",
       "    }\n",
       "</style>\n",
       "<table border=\"1\" class=\"dataframe\">\n",
       "  <thead>\n",
       "    <tr style=\"text-align: right;\">\n",
       "      <th></th>\n",
       "      <th>platform</th>\n",
       "      <th>total_sales</th>\n",
       "    </tr>\n",
       "  </thead>\n",
       "  <tbody>\n",
       "    <tr>\n",
       "      <th>0</th>\n",
       "      <td>PS2</td>\n",
       "      <td>1233.56</td>\n",
       "    </tr>\n",
       "    <tr>\n",
       "      <th>1</th>\n",
       "      <td>X360</td>\n",
       "      <td>961.24</td>\n",
       "    </tr>\n",
       "    <tr>\n",
       "      <th>2</th>\n",
       "      <td>PS3</td>\n",
       "      <td>931.34</td>\n",
       "    </tr>\n",
       "    <tr>\n",
       "      <th>3</th>\n",
       "      <td>Wii</td>\n",
       "      <td>891.18</td>\n",
       "    </tr>\n",
       "    <tr>\n",
       "      <th>4</th>\n",
       "      <td>DS</td>\n",
       "      <td>802.78</td>\n",
       "    </tr>\n",
       "    <tr>\n",
       "      <th>5</th>\n",
       "      <td>PS</td>\n",
       "      <td>727.58</td>\n",
       "    </tr>\n",
       "    <tr>\n",
       "      <th>6</th>\n",
       "      <td>PS4</td>\n",
       "      <td>314.14</td>\n",
       "    </tr>\n",
       "    <tr>\n",
       "      <th>7</th>\n",
       "      <td>GBA</td>\n",
       "      <td>312.88</td>\n",
       "    </tr>\n",
       "    <tr>\n",
       "      <th>8</th>\n",
       "      <td>PSP</td>\n",
       "      <td>289.53</td>\n",
       "    </tr>\n",
       "    <tr>\n",
       "      <th>9</th>\n",
       "      <td>3DS</td>\n",
       "      <td>257.81</td>\n",
       "    </tr>\n",
       "    <tr>\n",
       "      <th>10</th>\n",
       "      <td>PC</td>\n",
       "      <td>255.76</td>\n",
       "    </tr>\n",
       "    <tr>\n",
       "      <th>11</th>\n",
       "      <td>GB</td>\n",
       "      <td>254.43</td>\n",
       "    </tr>\n",
       "    <tr>\n",
       "      <th>12</th>\n",
       "      <td>XB</td>\n",
       "      <td>251.57</td>\n",
       "    </tr>\n",
       "    <tr>\n",
       "      <th>13</th>\n",
       "      <td>NES</td>\n",
       "      <td>251.05</td>\n",
       "    </tr>\n",
       "    <tr>\n",
       "      <th>14</th>\n",
       "      <td>N64</td>\n",
       "      <td>218.01</td>\n",
       "    </tr>\n",
       "    <tr>\n",
       "      <th>15</th>\n",
       "      <td>SNES</td>\n",
       "      <td>200.04</td>\n",
       "    </tr>\n",
       "    <tr>\n",
       "      <th>16</th>\n",
       "      <td>GC</td>\n",
       "      <td>196.73</td>\n",
       "    </tr>\n",
       "    <tr>\n",
       "      <th>17</th>\n",
       "      <td>XOne</td>\n",
       "      <td>159.32</td>\n",
       "    </tr>\n",
       "    <tr>\n",
       "      <th>18</th>\n",
       "      <td>2600</td>\n",
       "      <td>86.48</td>\n",
       "    </tr>\n",
       "    <tr>\n",
       "      <th>19</th>\n",
       "      <td>WiiU</td>\n",
       "      <td>82.19</td>\n",
       "    </tr>\n",
       "    <tr>\n",
       "      <th>20</th>\n",
       "      <td>PSV</td>\n",
       "      <td>53.81</td>\n",
       "    </tr>\n",
       "    <tr>\n",
       "      <th>21</th>\n",
       "      <td>SAT</td>\n",
       "      <td>33.59</td>\n",
       "    </tr>\n",
       "    <tr>\n",
       "      <th>22</th>\n",
       "      <td>GEN</td>\n",
       "      <td>28.35</td>\n",
       "    </tr>\n",
       "    <tr>\n",
       "      <th>23</th>\n",
       "      <td>DC</td>\n",
       "      <td>15.95</td>\n",
       "    </tr>\n",
       "    <tr>\n",
       "      <th>24</th>\n",
       "      <td>SCD</td>\n",
       "      <td>1.86</td>\n",
       "    </tr>\n",
       "    <tr>\n",
       "      <th>25</th>\n",
       "      <td>NG</td>\n",
       "      <td>1.44</td>\n",
       "    </tr>\n",
       "    <tr>\n",
       "      <th>26</th>\n",
       "      <td>WS</td>\n",
       "      <td>1.42</td>\n",
       "    </tr>\n",
       "    <tr>\n",
       "      <th>27</th>\n",
       "      <td>TG16</td>\n",
       "      <td>0.16</td>\n",
       "    </tr>\n",
       "    <tr>\n",
       "      <th>28</th>\n",
       "      <td>3DO</td>\n",
       "      <td>0.10</td>\n",
       "    </tr>\n",
       "    <tr>\n",
       "      <th>29</th>\n",
       "      <td>GG</td>\n",
       "      <td>0.04</td>\n",
       "    </tr>\n",
       "    <tr>\n",
       "      <th>30</th>\n",
       "      <td>PCFX</td>\n",
       "      <td>0.03</td>\n",
       "    </tr>\n",
       "  </tbody>\n",
       "</table>\n",
       "</div>"
      ],
      "text/plain": [
       "   platform  total_sales\n",
       "0       PS2      1233.56\n",
       "1      X360       961.24\n",
       "2       PS3       931.34\n",
       "3       Wii       891.18\n",
       "4        DS       802.78\n",
       "5        PS       727.58\n",
       "6       PS4       314.14\n",
       "7       GBA       312.88\n",
       "8       PSP       289.53\n",
       "9       3DS       257.81\n",
       "10       PC       255.76\n",
       "11       GB       254.43\n",
       "12       XB       251.57\n",
       "13      NES       251.05\n",
       "14      N64       218.01\n",
       "15     SNES       200.04\n",
       "16       GC       196.73\n",
       "17     XOne       159.32\n",
       "18     2600        86.48\n",
       "19     WiiU        82.19\n",
       "20      PSV        53.81\n",
       "21      SAT        33.59\n",
       "22      GEN        28.35\n",
       "23       DC        15.95\n",
       "24      SCD         1.86\n",
       "25       NG         1.44\n",
       "26       WS         1.42\n",
       "27     TG16         0.16\n",
       "28      3DO         0.10\n",
       "29       GG         0.04\n",
       "30     PCFX         0.03"
      ]
     },
     "metadata": {},
     "output_type": "display_data"
    }
   ],
   "source": [
    "data_platform = df.groupby('platform')['total_sales'].sum().sort_values(ascending=False).reset_index()\n",
    "display(data_platform)"
   ]
  },
  {
   "cell_type": "markdown",
   "metadata": {},
   "source": [
    "В топ 10 вошли такие платформы, как \"PS2\", \"X360\", \"PS3\", \"Wii\", \"DS\", \"PS\", \"PS4\", \"GBA\", \"PSP\", \"3DS\", также хочется добавить сюда перспетивную платформу, которая только набирала обороты - это \"XOne\"."
   ]
  },
  {
   "cell_type": "code",
   "execution_count": 40,
   "metadata": {},
   "outputs": [],
   "source": [
    "top_platform_money = df.query('platform in (\"PS2\",\"X360\",\"PS3\",\"Wii\",\"DS\",\"PS\",\"GBA\",\"PS4\",\"PSP\",\"3DS\",\"XOne\") and year_of_release >= 1995')"
   ]
  },
  {
   "cell_type": "code",
   "execution_count": 41,
   "metadata": {},
   "outputs": [
    {
     "data": {
      "text/html": [
       "<div>\n",
       "<style scoped>\n",
       "    .dataframe tbody tr th:only-of-type {\n",
       "        vertical-align: middle;\n",
       "    }\n",
       "\n",
       "    .dataframe tbody tr th {\n",
       "        vertical-align: top;\n",
       "    }\n",
       "\n",
       "    .dataframe thead th {\n",
       "        text-align: right;\n",
       "    }\n",
       "</style>\n",
       "<table border=\"1\" class=\"dataframe\">\n",
       "  <thead>\n",
       "    <tr style=\"text-align: right;\">\n",
       "      <th></th>\n",
       "      <th>name</th>\n",
       "      <th>platform</th>\n",
       "      <th>year_of_release</th>\n",
       "      <th>genre</th>\n",
       "      <th>na_sales</th>\n",
       "      <th>eu_sales</th>\n",
       "      <th>jp_sales</th>\n",
       "      <th>other_sales</th>\n",
       "      <th>critic_score</th>\n",
       "      <th>user_score</th>\n",
       "      <th>rating</th>\n",
       "      <th>total_sales</th>\n",
       "    </tr>\n",
       "  </thead>\n",
       "  <tbody>\n",
       "    <tr>\n",
       "      <th>11013</th>\n",
       "      <td>Riviera: The Promised Land</td>\n",
       "      <td>PSP</td>\n",
       "      <td>2006</td>\n",
       "      <td>Role-Playing</td>\n",
       "      <td>0.07</td>\n",
       "      <td>0.00</td>\n",
       "      <td>0.02</td>\n",
       "      <td>0.01</td>\n",
       "      <td>68</td>\n",
       "      <td>7.7</td>\n",
       "      <td>T</td>\n",
       "      <td>0.10</td>\n",
       "    </tr>\n",
       "    <tr>\n",
       "      <th>6335</th>\n",
       "      <td>One Piece Unlimited Cruise 1: The Treasure Ben...</td>\n",
       "      <td>Wii</td>\n",
       "      <td>2008</td>\n",
       "      <td>Adventure</td>\n",
       "      <td>0.00</td>\n",
       "      <td>0.07</td>\n",
       "      <td>0.19</td>\n",
       "      <td>0.01</td>\n",
       "      <td>66</td>\n",
       "      <td>-2.0</td>\n",
       "      <td>unknown</td>\n",
       "      <td>0.27</td>\n",
       "    </tr>\n",
       "    <tr>\n",
       "      <th>2856</th>\n",
       "      <td>Blur</td>\n",
       "      <td>PS3</td>\n",
       "      <td>2010</td>\n",
       "      <td>Racing</td>\n",
       "      <td>0.22</td>\n",
       "      <td>0.36</td>\n",
       "      <td>0.02</td>\n",
       "      <td>0.12</td>\n",
       "      <td>81</td>\n",
       "      <td>8.2</td>\n",
       "      <td>E10+</td>\n",
       "      <td>0.72</td>\n",
       "    </tr>\n",
       "    <tr>\n",
       "      <th>7349</th>\n",
       "      <td>MVP Baseball</td>\n",
       "      <td>PSP</td>\n",
       "      <td>2005</td>\n",
       "      <td>Sports</td>\n",
       "      <td>0.20</td>\n",
       "      <td>0.00</td>\n",
       "      <td>0.00</td>\n",
       "      <td>0.02</td>\n",
       "      <td>67</td>\n",
       "      <td>7.7</td>\n",
       "      <td>E</td>\n",
       "      <td>0.22</td>\n",
       "    </tr>\n",
       "    <tr>\n",
       "      <th>12026</th>\n",
       "      <td>GunParade Orchestra: Shiro no Shou</td>\n",
       "      <td>PS2</td>\n",
       "      <td>2006</td>\n",
       "      <td>Adventure</td>\n",
       "      <td>0.00</td>\n",
       "      <td>0.00</td>\n",
       "      <td>0.07</td>\n",
       "      <td>0.00</td>\n",
       "      <td>66</td>\n",
       "      <td>-2.0</td>\n",
       "      <td>unknown</td>\n",
       "      <td>0.07</td>\n",
       "    </tr>\n",
       "  </tbody>\n",
       "</table>\n",
       "</div>"
      ],
      "text/plain": [
       "                                                    name platform  \\\n",
       "11013                         Riviera: The Promised Land      PSP   \n",
       "6335   One Piece Unlimited Cruise 1: The Treasure Ben...      Wii   \n",
       "2856                                                Blur      PS3   \n",
       "7349                                        MVP Baseball      PSP   \n",
       "12026                 GunParade Orchestra: Shiro no Shou      PS2   \n",
       "\n",
       "       year_of_release         genre  na_sales  eu_sales  jp_sales  \\\n",
       "11013             2006  Role-Playing      0.07      0.00      0.02   \n",
       "6335              2008     Adventure      0.00      0.07      0.19   \n",
       "2856              2010        Racing      0.22      0.36      0.02   \n",
       "7349              2005        Sports      0.20      0.00      0.00   \n",
       "12026             2006     Adventure      0.00      0.00      0.07   \n",
       "\n",
       "       other_sales  critic_score  user_score   rating  total_sales  \n",
       "11013         0.01            68         7.7        T         0.10  \n",
       "6335          0.01            66        -2.0  unknown         0.27  \n",
       "2856          0.12            81         8.2     E10+         0.72  \n",
       "7349          0.02            67         7.7        E         0.22  \n",
       "12026         0.00            66        -2.0  unknown         0.07  "
      ]
     },
     "execution_count": 41,
     "metadata": {},
     "output_type": "execute_result"
    }
   ],
   "source": [
    "top_platform_money.sample(5)"
   ]
  },
  {
   "cell_type": "markdown",
   "metadata": {},
   "source": [
    "Сделали датафрейм с актуальными топ-платформами, теперь можно смотреть общие продажи по этим платформам в динамике с 1995 года по 2016 год."
   ]
  },
  {
   "cell_type": "code",
   "execution_count": 42,
   "metadata": {},
   "outputs": [],
   "source": [
    "data_years_platform = top_platform_money.pivot_table(index='year_of_release', values='total_sales', columns = 'platform', aggfunc='sum')"
   ]
  },
  {
   "cell_type": "code",
   "execution_count": 43,
   "metadata": {},
   "outputs": [
    {
     "data": {
      "text/html": [
       "<div>\n",
       "<style scoped>\n",
       "    .dataframe tbody tr th:only-of-type {\n",
       "        vertical-align: middle;\n",
       "    }\n",
       "\n",
       "    .dataframe tbody tr th {\n",
       "        vertical-align: top;\n",
       "    }\n",
       "\n",
       "    .dataframe thead th {\n",
       "        text-align: right;\n",
       "    }\n",
       "</style>\n",
       "<table border=\"1\" class=\"dataframe\">\n",
       "  <thead>\n",
       "    <tr style=\"text-align: right;\">\n",
       "      <th>platform</th>\n",
       "      <th>3DS</th>\n",
       "      <th>DS</th>\n",
       "      <th>GBA</th>\n",
       "      <th>PS</th>\n",
       "      <th>PS2</th>\n",
       "      <th>PS3</th>\n",
       "      <th>PS4</th>\n",
       "      <th>PSP</th>\n",
       "      <th>Wii</th>\n",
       "      <th>X360</th>\n",
       "      <th>XOne</th>\n",
       "    </tr>\n",
       "    <tr>\n",
       "      <th>year_of_release</th>\n",
       "      <th></th>\n",
       "      <th></th>\n",
       "      <th></th>\n",
       "      <th></th>\n",
       "      <th></th>\n",
       "      <th></th>\n",
       "      <th></th>\n",
       "      <th></th>\n",
       "      <th></th>\n",
       "      <th></th>\n",
       "      <th></th>\n",
       "    </tr>\n",
       "  </thead>\n",
       "  <tbody>\n",
       "    <tr>\n",
       "      <th>1995</th>\n",
       "      <td>NaN</td>\n",
       "      <td>NaN</td>\n",
       "      <td>NaN</td>\n",
       "      <td>35.96</td>\n",
       "      <td>NaN</td>\n",
       "      <td>NaN</td>\n",
       "      <td>NaN</td>\n",
       "      <td>NaN</td>\n",
       "      <td>NaN</td>\n",
       "      <td>NaN</td>\n",
       "      <td>NaN</td>\n",
       "    </tr>\n",
       "    <tr>\n",
       "      <th>1996</th>\n",
       "      <td>NaN</td>\n",
       "      <td>NaN</td>\n",
       "      <td>NaN</td>\n",
       "      <td>94.70</td>\n",
       "      <td>NaN</td>\n",
       "      <td>NaN</td>\n",
       "      <td>NaN</td>\n",
       "      <td>NaN</td>\n",
       "      <td>NaN</td>\n",
       "      <td>NaN</td>\n",
       "      <td>NaN</td>\n",
       "    </tr>\n",
       "    <tr>\n",
       "      <th>1997</th>\n",
       "      <td>NaN</td>\n",
       "      <td>NaN</td>\n",
       "      <td>NaN</td>\n",
       "      <td>136.17</td>\n",
       "      <td>NaN</td>\n",
       "      <td>NaN</td>\n",
       "      <td>NaN</td>\n",
       "      <td>NaN</td>\n",
       "      <td>NaN</td>\n",
       "      <td>NaN</td>\n",
       "      <td>NaN</td>\n",
       "    </tr>\n",
       "    <tr>\n",
       "      <th>1998</th>\n",
       "      <td>NaN</td>\n",
       "      <td>NaN</td>\n",
       "      <td>NaN</td>\n",
       "      <td>169.49</td>\n",
       "      <td>NaN</td>\n",
       "      <td>NaN</td>\n",
       "      <td>NaN</td>\n",
       "      <td>NaN</td>\n",
       "      <td>NaN</td>\n",
       "      <td>NaN</td>\n",
       "      <td>NaN</td>\n",
       "    </tr>\n",
       "    <tr>\n",
       "      <th>1999</th>\n",
       "      <td>NaN</td>\n",
       "      <td>NaN</td>\n",
       "      <td>NaN</td>\n",
       "      <td>144.53</td>\n",
       "      <td>NaN</td>\n",
       "      <td>NaN</td>\n",
       "      <td>NaN</td>\n",
       "      <td>NaN</td>\n",
       "      <td>NaN</td>\n",
       "      <td>NaN</td>\n",
       "      <td>NaN</td>\n",
       "    </tr>\n",
       "    <tr>\n",
       "      <th>2000</th>\n",
       "      <td>NaN</td>\n",
       "      <td>NaN</td>\n",
       "      <td>0.07</td>\n",
       "      <td>96.37</td>\n",
       "      <td>39.17</td>\n",
       "      <td>NaN</td>\n",
       "      <td>NaN</td>\n",
       "      <td>NaN</td>\n",
       "      <td>NaN</td>\n",
       "      <td>NaN</td>\n",
       "      <td>NaN</td>\n",
       "    </tr>\n",
       "    <tr>\n",
       "      <th>2001</th>\n",
       "      <td>NaN</td>\n",
       "      <td>NaN</td>\n",
       "      <td>61.53</td>\n",
       "      <td>35.59</td>\n",
       "      <td>166.43</td>\n",
       "      <td>NaN</td>\n",
       "      <td>NaN</td>\n",
       "      <td>NaN</td>\n",
       "      <td>NaN</td>\n",
       "      <td>NaN</td>\n",
       "      <td>NaN</td>\n",
       "    </tr>\n",
       "    <tr>\n",
       "      <th>2002</th>\n",
       "      <td>NaN</td>\n",
       "      <td>NaN</td>\n",
       "      <td>74.16</td>\n",
       "      <td>6.67</td>\n",
       "      <td>205.38</td>\n",
       "      <td>NaN</td>\n",
       "      <td>NaN</td>\n",
       "      <td>NaN</td>\n",
       "      <td>NaN</td>\n",
       "      <td>NaN</td>\n",
       "      <td>NaN</td>\n",
       "    </tr>\n",
       "    <tr>\n",
       "      <th>2003</th>\n",
       "      <td>NaN</td>\n",
       "      <td>NaN</td>\n",
       "      <td>56.67</td>\n",
       "      <td>2.07</td>\n",
       "      <td>184.31</td>\n",
       "      <td>NaN</td>\n",
       "      <td>NaN</td>\n",
       "      <td>NaN</td>\n",
       "      <td>NaN</td>\n",
       "      <td>NaN</td>\n",
       "      <td>NaN</td>\n",
       "    </tr>\n",
       "    <tr>\n",
       "      <th>2004</th>\n",
       "      <td>NaN</td>\n",
       "      <td>17.27</td>\n",
       "      <td>77.91</td>\n",
       "      <td>NaN</td>\n",
       "      <td>211.81</td>\n",
       "      <td>NaN</td>\n",
       "      <td>NaN</td>\n",
       "      <td>7.06</td>\n",
       "      <td>NaN</td>\n",
       "      <td>NaN</td>\n",
       "      <td>NaN</td>\n",
       "    </tr>\n",
       "    <tr>\n",
       "      <th>2005</th>\n",
       "      <td>NaN</td>\n",
       "      <td>130.14</td>\n",
       "      <td>33.86</td>\n",
       "      <td>NaN</td>\n",
       "      <td>160.66</td>\n",
       "      <td>NaN</td>\n",
       "      <td>NaN</td>\n",
       "      <td>43.84</td>\n",
       "      <td>NaN</td>\n",
       "      <td>8.25</td>\n",
       "      <td>NaN</td>\n",
       "    </tr>\n",
       "    <tr>\n",
       "      <th>2006</th>\n",
       "      <td>NaN</td>\n",
       "      <td>119.81</td>\n",
       "      <td>5.28</td>\n",
       "      <td>NaN</td>\n",
       "      <td>103.42</td>\n",
       "      <td>20.96</td>\n",
       "      <td>NaN</td>\n",
       "      <td>55.32</td>\n",
       "      <td>137.15</td>\n",
       "      <td>51.62</td>\n",
       "      <td>NaN</td>\n",
       "    </tr>\n",
       "    <tr>\n",
       "      <th>2007</th>\n",
       "      <td>NaN</td>\n",
       "      <td>146.94</td>\n",
       "      <td>3.40</td>\n",
       "      <td>NaN</td>\n",
       "      <td>75.99</td>\n",
       "      <td>73.19</td>\n",
       "      <td>NaN</td>\n",
       "      <td>46.93</td>\n",
       "      <td>152.77</td>\n",
       "      <td>95.41</td>\n",
       "      <td>NaN</td>\n",
       "    </tr>\n",
       "    <tr>\n",
       "      <th>2008</th>\n",
       "      <td>NaN</td>\n",
       "      <td>145.31</td>\n",
       "      <td>NaN</td>\n",
       "      <td>NaN</td>\n",
       "      <td>53.90</td>\n",
       "      <td>118.52</td>\n",
       "      <td>NaN</td>\n",
       "      <td>34.55</td>\n",
       "      <td>171.32</td>\n",
       "      <td>135.26</td>\n",
       "      <td>NaN</td>\n",
       "    </tr>\n",
       "    <tr>\n",
       "      <th>2009</th>\n",
       "      <td>NaN</td>\n",
       "      <td>119.54</td>\n",
       "      <td>NaN</td>\n",
       "      <td>NaN</td>\n",
       "      <td>26.40</td>\n",
       "      <td>130.93</td>\n",
       "      <td>NaN</td>\n",
       "      <td>37.78</td>\n",
       "      <td>206.97</td>\n",
       "      <td>120.29</td>\n",
       "      <td>NaN</td>\n",
       "    </tr>\n",
       "    <tr>\n",
       "      <th>2010</th>\n",
       "      <td>NaN</td>\n",
       "      <td>85.02</td>\n",
       "      <td>NaN</td>\n",
       "      <td>NaN</td>\n",
       "      <td>5.64</td>\n",
       "      <td>142.17</td>\n",
       "      <td>NaN</td>\n",
       "      <td>35.04</td>\n",
       "      <td>127.95</td>\n",
       "      <td>170.03</td>\n",
       "      <td>NaN</td>\n",
       "    </tr>\n",
       "    <tr>\n",
       "      <th>2011</th>\n",
       "      <td>63.20</td>\n",
       "      <td>26.18</td>\n",
       "      <td>NaN</td>\n",
       "      <td>NaN</td>\n",
       "      <td>0.45</td>\n",
       "      <td>156.78</td>\n",
       "      <td>NaN</td>\n",
       "      <td>17.82</td>\n",
       "      <td>59.65</td>\n",
       "      <td>143.84</td>\n",
       "      <td>NaN</td>\n",
       "    </tr>\n",
       "    <tr>\n",
       "      <th>2012</th>\n",
       "      <td>51.36</td>\n",
       "      <td>11.01</td>\n",
       "      <td>NaN</td>\n",
       "      <td>NaN</td>\n",
       "      <td>NaN</td>\n",
       "      <td>107.36</td>\n",
       "      <td>NaN</td>\n",
       "      <td>7.69</td>\n",
       "      <td>21.71</td>\n",
       "      <td>99.74</td>\n",
       "      <td>NaN</td>\n",
       "    </tr>\n",
       "    <tr>\n",
       "      <th>2013</th>\n",
       "      <td>56.57</td>\n",
       "      <td>1.54</td>\n",
       "      <td>NaN</td>\n",
       "      <td>NaN</td>\n",
       "      <td>NaN</td>\n",
       "      <td>113.25</td>\n",
       "      <td>25.99</td>\n",
       "      <td>3.14</td>\n",
       "      <td>8.59</td>\n",
       "      <td>88.58</td>\n",
       "      <td>18.96</td>\n",
       "    </tr>\n",
       "    <tr>\n",
       "      <th>2014</th>\n",
       "      <td>43.76</td>\n",
       "      <td>NaN</td>\n",
       "      <td>NaN</td>\n",
       "      <td>NaN</td>\n",
       "      <td>NaN</td>\n",
       "      <td>47.76</td>\n",
       "      <td>100.00</td>\n",
       "      <td>0.24</td>\n",
       "      <td>3.75</td>\n",
       "      <td>34.74</td>\n",
       "      <td>54.07</td>\n",
       "    </tr>\n",
       "    <tr>\n",
       "      <th>2015</th>\n",
       "      <td>27.78</td>\n",
       "      <td>NaN</td>\n",
       "      <td>NaN</td>\n",
       "      <td>NaN</td>\n",
       "      <td>NaN</td>\n",
       "      <td>16.82</td>\n",
       "      <td>118.90</td>\n",
       "      <td>0.12</td>\n",
       "      <td>1.14</td>\n",
       "      <td>11.96</td>\n",
       "      <td>60.14</td>\n",
       "    </tr>\n",
       "    <tr>\n",
       "      <th>2016</th>\n",
       "      <td>15.14</td>\n",
       "      <td>NaN</td>\n",
       "      <td>NaN</td>\n",
       "      <td>NaN</td>\n",
       "      <td>NaN</td>\n",
       "      <td>3.60</td>\n",
       "      <td>69.25</td>\n",
       "      <td>NaN</td>\n",
       "      <td>0.18</td>\n",
       "      <td>1.52</td>\n",
       "      <td>26.15</td>\n",
       "    </tr>\n",
       "  </tbody>\n",
       "</table>\n",
       "</div>"
      ],
      "text/plain": [
       "platform           3DS      DS    GBA      PS     PS2     PS3     PS4    PSP  \\\n",
       "year_of_release                                                                \n",
       "1995               NaN     NaN    NaN   35.96     NaN     NaN     NaN    NaN   \n",
       "1996               NaN     NaN    NaN   94.70     NaN     NaN     NaN    NaN   \n",
       "1997               NaN     NaN    NaN  136.17     NaN     NaN     NaN    NaN   \n",
       "1998               NaN     NaN    NaN  169.49     NaN     NaN     NaN    NaN   \n",
       "1999               NaN     NaN    NaN  144.53     NaN     NaN     NaN    NaN   \n",
       "2000               NaN     NaN   0.07   96.37   39.17     NaN     NaN    NaN   \n",
       "2001               NaN     NaN  61.53   35.59  166.43     NaN     NaN    NaN   \n",
       "2002               NaN     NaN  74.16    6.67  205.38     NaN     NaN    NaN   \n",
       "2003               NaN     NaN  56.67    2.07  184.31     NaN     NaN    NaN   \n",
       "2004               NaN   17.27  77.91     NaN  211.81     NaN     NaN   7.06   \n",
       "2005               NaN  130.14  33.86     NaN  160.66     NaN     NaN  43.84   \n",
       "2006               NaN  119.81   5.28     NaN  103.42   20.96     NaN  55.32   \n",
       "2007               NaN  146.94   3.40     NaN   75.99   73.19     NaN  46.93   \n",
       "2008               NaN  145.31    NaN     NaN   53.90  118.52     NaN  34.55   \n",
       "2009               NaN  119.54    NaN     NaN   26.40  130.93     NaN  37.78   \n",
       "2010               NaN   85.02    NaN     NaN    5.64  142.17     NaN  35.04   \n",
       "2011             63.20   26.18    NaN     NaN    0.45  156.78     NaN  17.82   \n",
       "2012             51.36   11.01    NaN     NaN     NaN  107.36     NaN   7.69   \n",
       "2013             56.57    1.54    NaN     NaN     NaN  113.25   25.99   3.14   \n",
       "2014             43.76     NaN    NaN     NaN     NaN   47.76  100.00   0.24   \n",
       "2015             27.78     NaN    NaN     NaN     NaN   16.82  118.90   0.12   \n",
       "2016             15.14     NaN    NaN     NaN     NaN    3.60   69.25    NaN   \n",
       "\n",
       "platform            Wii    X360   XOne  \n",
       "year_of_release                         \n",
       "1995                NaN     NaN    NaN  \n",
       "1996                NaN     NaN    NaN  \n",
       "1997                NaN     NaN    NaN  \n",
       "1998                NaN     NaN    NaN  \n",
       "1999                NaN     NaN    NaN  \n",
       "2000                NaN     NaN    NaN  \n",
       "2001                NaN     NaN    NaN  \n",
       "2002                NaN     NaN    NaN  \n",
       "2003                NaN     NaN    NaN  \n",
       "2004                NaN     NaN    NaN  \n",
       "2005                NaN    8.25    NaN  \n",
       "2006             137.15   51.62    NaN  \n",
       "2007             152.77   95.41    NaN  \n",
       "2008             171.32  135.26    NaN  \n",
       "2009             206.97  120.29    NaN  \n",
       "2010             127.95  170.03    NaN  \n",
       "2011              59.65  143.84    NaN  \n",
       "2012              21.71   99.74    NaN  \n",
       "2013               8.59   88.58  18.96  \n",
       "2014               3.75   34.74  54.07  \n",
       "2015               1.14   11.96  60.14  \n",
       "2016               0.18    1.52  26.15  "
      ]
     },
     "execution_count": 43,
     "metadata": {},
     "output_type": "execute_result"
    }
   ],
   "source": [
    "data_years_platform"
   ]
  },
  {
   "cell_type": "markdown",
   "metadata": {},
   "source": [
    "Сделав сводную таблицу можно заметить кучу пропущенных значений - это нормально, потому что в определенные периоды игры перестали выходить на старых платформах, либо с выходом новых консоей на них только начинают появляться игры. Посмотрим визуально на эти данные.\n",
    "\n"
   ]
  },
  {
   "cell_type": "code",
   "execution_count": 44,
   "metadata": {},
   "outputs": [
    {
     "data": {
      "text/plain": [
       "<AxesSubplot:xlabel='year_of_release'>"
      ]
     },
     "execution_count": 44,
     "metadata": {},
     "output_type": "execute_result"
    },
    {
     "data": {
      "image/png": "[encoded data removed]",
      "text/plain": [
       "<Figure size 1440x432 with 1 Axes>"
      ]
     },
     "metadata": {
      "needs_background": "light"
     },
     "output_type": "display_data"
    }
   ],
   "source": [
    "data_years_platform.plot(kind = 'bar', figsize = (20,6), width = .8)"
   ]
  },
  {
   "cell_type": "markdown",
   "metadata": {},
   "source": [
    "**Делаем выводы:**\n",
    "* Видно сменяемость консолей старого поколения от Sony на консоли нового поколения - они всегда были в топе, можно отметить, что переход с одного поколения на другой проходит примерно за 7-8 лет, актуальной консолью от Sony на 2016 год является PS4.\n",
    "* Microsoft со своими XBox - это основоной конкурент Sony в последние деясть лет, тут также есть сменяемость поколений с XBox 360 на XBox One также переход с одного поколения на другое происходит в течении 7-8 лет, актуальной консолью от Microsoft на 2016 год является XBox One.\n",
    "* У компании Nintendo - на протяжении анализируемого периода можем отметить такие консоли как: DS, Wii, GBA. Самой успешой консолью являлась Wii, также весомый успех на рынке показала консоль DS, актуальной на 2016 год является Wii, но с 2012 года происходит резкое падение продаж игр на данные консоли и поэтому стоит ждать выход следующей консоли от Nintendo, это будет разумно."
   ]
  },
  {
   "cell_type": "markdown",
   "metadata": {},
   "source": [
    "Выделим актуальные платформы:"
   ]
  },
  {
   "cell_type": "code",
   "execution_count": 45,
   "metadata": {},
   "outputs": [],
   "source": [
    "actual = df.query('year_of_release >= 2012').groupby(['year_of_release','platform'])['total_sales'].sum().reset_index()"
   ]
  },
  {
   "cell_type": "code",
   "execution_count": 46,
   "metadata": {
    "scrolled": false
   },
   "outputs": [
    {
     "data": {
      "text/html": [
       "<div>\n",
       "<style scoped>\n",
       "    .dataframe tbody tr th:only-of-type {\n",
       "        vertical-align: middle;\n",
       "    }\n",
       "\n",
       "    .dataframe tbody tr th {\n",
       "        vertical-align: top;\n",
       "    }\n",
       "\n",
       "    .dataframe thead th {\n",
       "        text-align: right;\n",
       "    }\n",
       "</style>\n",
       "<table border=\"1\" class=\"dataframe\">\n",
       "  <thead>\n",
       "    <tr style=\"text-align: right;\">\n",
       "      <th></th>\n",
       "      <th>year_of_release</th>\n",
       "      <th>platform</th>\n",
       "      <th>total_sales</th>\n",
       "    </tr>\n",
       "  </thead>\n",
       "  <tbody>\n",
       "    <tr>\n",
       "      <th>39</th>\n",
       "      <td>2015</td>\n",
       "      <td>XOne</td>\n",
       "      <td>60.14</td>\n",
       "    </tr>\n",
       "    <tr>\n",
       "      <th>29</th>\n",
       "      <td>2014</td>\n",
       "      <td>XOne</td>\n",
       "      <td>54.07</td>\n",
       "    </tr>\n",
       "    <tr>\n",
       "      <th>48</th>\n",
       "      <td>2016</td>\n",
       "      <td>XOne</td>\n",
       "      <td>26.15</td>\n",
       "    </tr>\n",
       "    <tr>\n",
       "      <th>19</th>\n",
       "      <td>2013</td>\n",
       "      <td>XOne</td>\n",
       "      <td>18.96</td>\n",
       "    </tr>\n",
       "    <tr>\n",
       "      <th>8</th>\n",
       "      <td>2012</td>\n",
       "      <td>X360</td>\n",
       "      <td>99.74</td>\n",
       "    </tr>\n",
       "    <tr>\n",
       "      <th>18</th>\n",
       "      <td>2013</td>\n",
       "      <td>X360</td>\n",
       "      <td>88.58</td>\n",
       "    </tr>\n",
       "    <tr>\n",
       "      <th>28</th>\n",
       "      <td>2014</td>\n",
       "      <td>X360</td>\n",
       "      <td>34.74</td>\n",
       "    </tr>\n",
       "    <tr>\n",
       "      <th>38</th>\n",
       "      <td>2015</td>\n",
       "      <td>X360</td>\n",
       "      <td>11.96</td>\n",
       "    </tr>\n",
       "    <tr>\n",
       "      <th>47</th>\n",
       "      <td>2016</td>\n",
       "      <td>X360</td>\n",
       "      <td>1.52</td>\n",
       "    </tr>\n",
       "    <tr>\n",
       "      <th>27</th>\n",
       "      <td>2014</td>\n",
       "      <td>WiiU</td>\n",
       "      <td>22.03</td>\n",
       "    </tr>\n",
       "    <tr>\n",
       "      <th>17</th>\n",
       "      <td>2013</td>\n",
       "      <td>WiiU</td>\n",
       "      <td>21.65</td>\n",
       "    </tr>\n",
       "    <tr>\n",
       "      <th>7</th>\n",
       "      <td>2012</td>\n",
       "      <td>WiiU</td>\n",
       "      <td>17.56</td>\n",
       "    </tr>\n",
       "    <tr>\n",
       "      <th>37</th>\n",
       "      <td>2015</td>\n",
       "      <td>WiiU</td>\n",
       "      <td>16.35</td>\n",
       "    </tr>\n",
       "    <tr>\n",
       "      <th>46</th>\n",
       "      <td>2016</td>\n",
       "      <td>WiiU</td>\n",
       "      <td>4.60</td>\n",
       "    </tr>\n",
       "    <tr>\n",
       "      <th>6</th>\n",
       "      <td>2012</td>\n",
       "      <td>Wii</td>\n",
       "      <td>21.71</td>\n",
       "    </tr>\n",
       "    <tr>\n",
       "      <th>16</th>\n",
       "      <td>2013</td>\n",
       "      <td>Wii</td>\n",
       "      <td>8.59</td>\n",
       "    </tr>\n",
       "    <tr>\n",
       "      <th>26</th>\n",
       "      <td>2014</td>\n",
       "      <td>Wii</td>\n",
       "      <td>3.75</td>\n",
       "    </tr>\n",
       "    <tr>\n",
       "      <th>36</th>\n",
       "      <td>2015</td>\n",
       "      <td>Wii</td>\n",
       "      <td>1.14</td>\n",
       "    </tr>\n",
       "    <tr>\n",
       "      <th>45</th>\n",
       "      <td>2016</td>\n",
       "      <td>Wii</td>\n",
       "      <td>0.18</td>\n",
       "    </tr>\n",
       "    <tr>\n",
       "      <th>5</th>\n",
       "      <td>2012</td>\n",
       "      <td>PSV</td>\n",
       "      <td>16.19</td>\n",
       "    </tr>\n",
       "    <tr>\n",
       "      <th>25</th>\n",
       "      <td>2014</td>\n",
       "      <td>PSV</td>\n",
       "      <td>11.90</td>\n",
       "    </tr>\n",
       "    <tr>\n",
       "      <th>15</th>\n",
       "      <td>2013</td>\n",
       "      <td>PSV</td>\n",
       "      <td>10.59</td>\n",
       "    </tr>\n",
       "    <tr>\n",
       "      <th>35</th>\n",
       "      <td>2015</td>\n",
       "      <td>PSV</td>\n",
       "      <td>6.25</td>\n",
       "    </tr>\n",
       "    <tr>\n",
       "      <th>44</th>\n",
       "      <td>2016</td>\n",
       "      <td>PSV</td>\n",
       "      <td>4.25</td>\n",
       "    </tr>\n",
       "    <tr>\n",
       "      <th>4</th>\n",
       "      <td>2012</td>\n",
       "      <td>PSP</td>\n",
       "      <td>7.69</td>\n",
       "    </tr>\n",
       "    <tr>\n",
       "      <th>14</th>\n",
       "      <td>2013</td>\n",
       "      <td>PSP</td>\n",
       "      <td>3.14</td>\n",
       "    </tr>\n",
       "    <tr>\n",
       "      <th>24</th>\n",
       "      <td>2014</td>\n",
       "      <td>PSP</td>\n",
       "      <td>0.24</td>\n",
       "    </tr>\n",
       "    <tr>\n",
       "      <th>34</th>\n",
       "      <td>2015</td>\n",
       "      <td>PSP</td>\n",
       "      <td>0.12</td>\n",
       "    </tr>\n",
       "    <tr>\n",
       "      <th>33</th>\n",
       "      <td>2015</td>\n",
       "      <td>PS4</td>\n",
       "      <td>118.90</td>\n",
       "    </tr>\n",
       "    <tr>\n",
       "      <th>23</th>\n",
       "      <td>2014</td>\n",
       "      <td>PS4</td>\n",
       "      <td>100.00</td>\n",
       "    </tr>\n",
       "    <tr>\n",
       "      <th>43</th>\n",
       "      <td>2016</td>\n",
       "      <td>PS4</td>\n",
       "      <td>69.25</td>\n",
       "    </tr>\n",
       "    <tr>\n",
       "      <th>13</th>\n",
       "      <td>2013</td>\n",
       "      <td>PS4</td>\n",
       "      <td>25.99</td>\n",
       "    </tr>\n",
       "    <tr>\n",
       "      <th>12</th>\n",
       "      <td>2013</td>\n",
       "      <td>PS3</td>\n",
       "      <td>113.25</td>\n",
       "    </tr>\n",
       "    <tr>\n",
       "      <th>3</th>\n",
       "      <td>2012</td>\n",
       "      <td>PS3</td>\n",
       "      <td>107.36</td>\n",
       "    </tr>\n",
       "    <tr>\n",
       "      <th>22</th>\n",
       "      <td>2014</td>\n",
       "      <td>PS3</td>\n",
       "      <td>47.76</td>\n",
       "    </tr>\n",
       "    <tr>\n",
       "      <th>32</th>\n",
       "      <td>2015</td>\n",
       "      <td>PS3</td>\n",
       "      <td>16.82</td>\n",
       "    </tr>\n",
       "    <tr>\n",
       "      <th>42</th>\n",
       "      <td>2016</td>\n",
       "      <td>PS3</td>\n",
       "      <td>3.60</td>\n",
       "    </tr>\n",
       "    <tr>\n",
       "      <th>2</th>\n",
       "      <td>2012</td>\n",
       "      <td>PC</td>\n",
       "      <td>23.22</td>\n",
       "    </tr>\n",
       "    <tr>\n",
       "      <th>21</th>\n",
       "      <td>2014</td>\n",
       "      <td>PC</td>\n",
       "      <td>13.28</td>\n",
       "    </tr>\n",
       "    <tr>\n",
       "      <th>11</th>\n",
       "      <td>2013</td>\n",
       "      <td>PC</td>\n",
       "      <td>12.38</td>\n",
       "    </tr>\n",
       "    <tr>\n",
       "      <th>31</th>\n",
       "      <td>2015</td>\n",
       "      <td>PC</td>\n",
       "      <td>8.52</td>\n",
       "    </tr>\n",
       "    <tr>\n",
       "      <th>41</th>\n",
       "      <td>2016</td>\n",
       "      <td>PC</td>\n",
       "      <td>5.25</td>\n",
       "    </tr>\n",
       "    <tr>\n",
       "      <th>1</th>\n",
       "      <td>2012</td>\n",
       "      <td>DS</td>\n",
       "      <td>11.01</td>\n",
       "    </tr>\n",
       "    <tr>\n",
       "      <th>10</th>\n",
       "      <td>2013</td>\n",
       "      <td>DS</td>\n",
       "      <td>1.54</td>\n",
       "    </tr>\n",
       "    <tr>\n",
       "      <th>9</th>\n",
       "      <td>2013</td>\n",
       "      <td>3DS</td>\n",
       "      <td>56.57</td>\n",
       "    </tr>\n",
       "    <tr>\n",
       "      <th>0</th>\n",
       "      <td>2012</td>\n",
       "      <td>3DS</td>\n",
       "      <td>51.36</td>\n",
       "    </tr>\n",
       "    <tr>\n",
       "      <th>20</th>\n",
       "      <td>2014</td>\n",
       "      <td>3DS</td>\n",
       "      <td>43.76</td>\n",
       "    </tr>\n",
       "    <tr>\n",
       "      <th>30</th>\n",
       "      <td>2015</td>\n",
       "      <td>3DS</td>\n",
       "      <td>27.78</td>\n",
       "    </tr>\n",
       "    <tr>\n",
       "      <th>40</th>\n",
       "      <td>2016</td>\n",
       "      <td>3DS</td>\n",
       "      <td>15.14</td>\n",
       "    </tr>\n",
       "  </tbody>\n",
       "</table>\n",
       "</div>"
      ],
      "text/plain": [
       "    year_of_release platform  total_sales\n",
       "39             2015     XOne        60.14\n",
       "29             2014     XOne        54.07\n",
       "48             2016     XOne        26.15\n",
       "19             2013     XOne        18.96\n",
       "8              2012     X360        99.74\n",
       "18             2013     X360        88.58\n",
       "28             2014     X360        34.74\n",
       "38             2015     X360        11.96\n",
       "47             2016     X360         1.52\n",
       "27             2014     WiiU        22.03\n",
       "17             2013     WiiU        21.65\n",
       "7              2012     WiiU        17.56\n",
       "37             2015     WiiU        16.35\n",
       "46             2016     WiiU         4.60\n",
       "6              2012      Wii        21.71\n",
       "16             2013      Wii         8.59\n",
       "26             2014      Wii         3.75\n",
       "36             2015      Wii         1.14\n",
       "45             2016      Wii         0.18\n",
       "5              2012      PSV        16.19\n",
       "25             2014      PSV        11.90\n",
       "15             2013      PSV        10.59\n",
       "35             2015      PSV         6.25\n",
       "44             2016      PSV         4.25\n",
       "4              2012      PSP         7.69\n",
       "14             2013      PSP         3.14\n",
       "24             2014      PSP         0.24\n",
       "34             2015      PSP         0.12\n",
       "33             2015      PS4       118.90\n",
       "23             2014      PS4       100.00\n",
       "43             2016      PS4        69.25\n",
       "13             2013      PS4        25.99\n",
       "12             2013      PS3       113.25\n",
       "3              2012      PS3       107.36\n",
       "22             2014      PS3        47.76\n",
       "32             2015      PS3        16.82\n",
       "42             2016      PS3         3.60\n",
       "2              2012       PC        23.22\n",
       "21             2014       PC        13.28\n",
       "11             2013       PC        12.38\n",
       "31             2015       PC         8.52\n",
       "41             2016       PC         5.25\n",
       "1              2012       DS        11.01\n",
       "10             2013       DS         1.54\n",
       "9              2013      3DS        56.57\n",
       "0              2012      3DS        51.36\n",
       "20             2014      3DS        43.76\n",
       "30             2015      3DS        27.78\n",
       "40             2016      3DS        15.14"
      ]
     },
     "execution_count": 46,
     "metadata": {},
     "output_type": "execute_result"
    }
   ],
   "source": [
    "actual.sort_values(by=['platform','total_sales'], ascending=False)"
   ]
  },
  {
   "cell_type": "markdown",
   "metadata": {},
   "source": [
    "Видим рост что популярностью пользуются такие платформ как XOne, WiiU, PS4, 3DS.\t"
   ]
  },
  {
   "cell_type": "code",
   "execution_count": 47,
   "metadata": {},
   "outputs": [],
   "source": [
    "top_four_actual_platform = df.query('platform in (\"PS4\",\"WiiU\",\"3DS\",\"XOne\")')"
   ]
  },
  {
   "cell_type": "code",
   "execution_count": 48,
   "metadata": {},
   "outputs": [],
   "source": [
    "data_actual_platform = top_four_actual_platform.pivot_table(index='year_of_release', values='total_sales', columns = 'platform', aggfunc='sum')"
   ]
  },
  {
   "cell_type": "code",
   "execution_count": 115,
   "metadata": {
    "scrolled": false
   },
   "outputs": [
    {
     "data": {
      "image/png": "[encoded data removed]",
      "text/plain": [
       "<Figure size 1008x432 with 1 Axes>"
      ]
     },
     "metadata": {
      "needs_background": "light"
     },
     "output_type": "display_data"
    }
   ],
   "source": [
    "data_actual_platform.boxplot(figsize=(14,6))\n",
    "plt.xlabel('Платформа')\n",
    "plt.ylabel('миллионы проданных копий')\n",
    "plt.title('Глобальные продажи на актуальных игровых платформах')\n",
    "plt.show()"
   ]
  },
  {
   "cell_type": "code",
   "execution_count": 50,
   "metadata": {
    "scrolled": false
   },
   "outputs": [
    {
     "data": {
      "text/html": [
       "<div>\n",
       "<style scoped>\n",
       "    .dataframe tbody tr th:only-of-type {\n",
       "        vertical-align: middle;\n",
       "    }\n",
       "\n",
       "    .dataframe tbody tr th {\n",
       "        vertical-align: top;\n",
       "    }\n",
       "\n",
       "    .dataframe thead th {\n",
       "        text-align: right;\n",
       "    }\n",
       "</style>\n",
       "<table border=\"1\" class=\"dataframe\">\n",
       "  <thead>\n",
       "    <tr style=\"text-align: right;\">\n",
       "      <th></th>\n",
       "      <th>name</th>\n",
       "      <th>platform</th>\n",
       "      <th>year_of_release</th>\n",
       "      <th>genre</th>\n",
       "      <th>na_sales</th>\n",
       "      <th>eu_sales</th>\n",
       "      <th>jp_sales</th>\n",
       "      <th>other_sales</th>\n",
       "      <th>critic_score</th>\n",
       "      <th>user_score</th>\n",
       "      <th>rating</th>\n",
       "      <th>total_sales</th>\n",
       "    </tr>\n",
       "  </thead>\n",
       "  <tbody>\n",
       "    <tr>\n",
       "      <th>31</th>\n",
       "      <td>Call of Duty: Black Ops 3</td>\n",
       "      <td>PS4</td>\n",
       "      <td>2015</td>\n",
       "      <td>Shooter</td>\n",
       "      <td>6.03</td>\n",
       "      <td>5.86</td>\n",
       "      <td>0.36</td>\n",
       "      <td>2.38</td>\n",
       "      <td>73</td>\n",
       "      <td>-2.0</td>\n",
       "      <td>unknown</td>\n",
       "      <td>14.63</td>\n",
       "    </tr>\n",
       "    <tr>\n",
       "      <th>42</th>\n",
       "      <td>Grand Theft Auto V</td>\n",
       "      <td>PS4</td>\n",
       "      <td>2014</td>\n",
       "      <td>Action</td>\n",
       "      <td>3.96</td>\n",
       "      <td>6.31</td>\n",
       "      <td>0.38</td>\n",
       "      <td>1.97</td>\n",
       "      <td>97</td>\n",
       "      <td>8.3</td>\n",
       "      <td>M</td>\n",
       "      <td>12.62</td>\n",
       "    </tr>\n",
       "    <tr>\n",
       "      <th>77</th>\n",
       "      <td>FIFA 16</td>\n",
       "      <td>PS4</td>\n",
       "      <td>2015</td>\n",
       "      <td>Sports</td>\n",
       "      <td>1.12</td>\n",
       "      <td>6.12</td>\n",
       "      <td>0.06</td>\n",
       "      <td>1.28</td>\n",
       "      <td>82</td>\n",
       "      <td>4.3</td>\n",
       "      <td>E</td>\n",
       "      <td>8.58</td>\n",
       "    </tr>\n",
       "  </tbody>\n",
       "</table>\n",
       "</div>"
      ],
      "text/plain": [
       "                         name platform  year_of_release    genre  na_sales  \\\n",
       "31  Call of Duty: Black Ops 3      PS4             2015  Shooter      6.03   \n",
       "42         Grand Theft Auto V      PS4             2014   Action      3.96   \n",
       "77                    FIFA 16      PS4             2015   Sports      1.12   \n",
       "\n",
       "    eu_sales  jp_sales  other_sales  critic_score  user_score   rating  \\\n",
       "31      5.86      0.36         2.38            73        -2.0  unknown   \n",
       "42      6.31      0.38         1.97            97         8.3        M   \n",
       "77      6.12      0.06         1.28            82         4.3        E   \n",
       "\n",
       "    total_sales  \n",
       "31        14.63  \n",
       "42        12.62  \n",
       "77         8.58  "
      ]
     },
     "execution_count": 50,
     "metadata": {},
     "output_type": "execute_result"
    }
   ],
   "source": [
    "top_four_actual_platform.loc[top_four_actual_platform['platform'] == \"PS4\"].sort_values(by='total_sales', ascending=False).head(3)"
   ]
  },
  {
   "cell_type": "code",
   "execution_count": 51,
   "metadata": {
    "scrolled": false
   },
   "outputs": [
    {
     "data": {
      "text/html": [
       "<div>\n",
       "<style scoped>\n",
       "    .dataframe tbody tr th:only-of-type {\n",
       "        vertical-align: middle;\n",
       "    }\n",
       "\n",
       "    .dataframe tbody tr th {\n",
       "        vertical-align: top;\n",
       "    }\n",
       "\n",
       "    .dataframe thead th {\n",
       "        text-align: right;\n",
       "    }\n",
       "</style>\n",
       "<table border=\"1\" class=\"dataframe\">\n",
       "  <thead>\n",
       "    <tr style=\"text-align: right;\">\n",
       "      <th></th>\n",
       "      <th>name</th>\n",
       "      <th>platform</th>\n",
       "      <th>year_of_release</th>\n",
       "      <th>genre</th>\n",
       "      <th>na_sales</th>\n",
       "      <th>eu_sales</th>\n",
       "      <th>jp_sales</th>\n",
       "      <th>other_sales</th>\n",
       "      <th>critic_score</th>\n",
       "      <th>user_score</th>\n",
       "      <th>rating</th>\n",
       "      <th>total_sales</th>\n",
       "    </tr>\n",
       "  </thead>\n",
       "  <tbody>\n",
       "    <tr>\n",
       "      <th>99</th>\n",
       "      <td>Call of Duty: Black Ops 3</td>\n",
       "      <td>XOne</td>\n",
       "      <td>2015</td>\n",
       "      <td>Shooter</td>\n",
       "      <td>4.59</td>\n",
       "      <td>2.11</td>\n",
       "      <td>0.01</td>\n",
       "      <td>0.68</td>\n",
       "      <td>73</td>\n",
       "      <td>-2.0</td>\n",
       "      <td>unknown</td>\n",
       "      <td>7.39</td>\n",
       "    </tr>\n",
       "    <tr>\n",
       "      <th>165</th>\n",
       "      <td>Grand Theft Auto V</td>\n",
       "      <td>XOne</td>\n",
       "      <td>2014</td>\n",
       "      <td>Action</td>\n",
       "      <td>2.81</td>\n",
       "      <td>2.19</td>\n",
       "      <td>0.00</td>\n",
       "      <td>0.47</td>\n",
       "      <td>97</td>\n",
       "      <td>7.9</td>\n",
       "      <td>M</td>\n",
       "      <td>5.47</td>\n",
       "    </tr>\n",
       "    <tr>\n",
       "      <th>179</th>\n",
       "      <td>Call of Duty: Advanced Warfare</td>\n",
       "      <td>XOne</td>\n",
       "      <td>2014</td>\n",
       "      <td>Shooter</td>\n",
       "      <td>3.22</td>\n",
       "      <td>1.55</td>\n",
       "      <td>0.01</td>\n",
       "      <td>0.48</td>\n",
       "      <td>81</td>\n",
       "      <td>5.4</td>\n",
       "      <td>M</td>\n",
       "      <td>5.26</td>\n",
       "    </tr>\n",
       "  </tbody>\n",
       "</table>\n",
       "</div>"
      ],
      "text/plain": [
       "                               name platform  year_of_release    genre  \\\n",
       "99        Call of Duty: Black Ops 3     XOne             2015  Shooter   \n",
       "165              Grand Theft Auto V     XOne             2014   Action   \n",
       "179  Call of Duty: Advanced Warfare     XOne             2014  Shooter   \n",
       "\n",
       "     na_sales  eu_sales  jp_sales  other_sales  critic_score  user_score  \\\n",
       "99       4.59      2.11      0.01         0.68            73        -2.0   \n",
       "165      2.81      2.19      0.00         0.47            97         7.9   \n",
       "179      3.22      1.55      0.01         0.48            81         5.4   \n",
       "\n",
       "      rating  total_sales  \n",
       "99   unknown         7.39  \n",
       "165        M         5.47  \n",
       "179        M         5.26  "
      ]
     },
     "execution_count": 51,
     "metadata": {},
     "output_type": "execute_result"
    }
   ],
   "source": [
    "top_four_actual_platform.loc[top_four_actual_platform['platform'] == \"XOne\"].sort_values(by='total_sales', ascending=False).head(3)"
   ]
  },
  {
   "cell_type": "code",
   "execution_count": 52,
   "metadata": {
    "scrolled": true
   },
   "outputs": [
    {
     "data": {
      "text/html": [
       "<div>\n",
       "<style scoped>\n",
       "    .dataframe tbody tr th:only-of-type {\n",
       "        vertical-align: middle;\n",
       "    }\n",
       "\n",
       "    .dataframe tbody tr th {\n",
       "        vertical-align: top;\n",
       "    }\n",
       "\n",
       "    .dataframe thead th {\n",
       "        text-align: right;\n",
       "    }\n",
       "</style>\n",
       "<table border=\"1\" class=\"dataframe\">\n",
       "  <thead>\n",
       "    <tr style=\"text-align: right;\">\n",
       "      <th></th>\n",
       "      <th>name</th>\n",
       "      <th>platform</th>\n",
       "      <th>year_of_release</th>\n",
       "      <th>genre</th>\n",
       "      <th>na_sales</th>\n",
       "      <th>eu_sales</th>\n",
       "      <th>jp_sales</th>\n",
       "      <th>other_sales</th>\n",
       "      <th>critic_score</th>\n",
       "      <th>user_score</th>\n",
       "      <th>rating</th>\n",
       "      <th>total_sales</th>\n",
       "    </tr>\n",
       "  </thead>\n",
       "  <tbody>\n",
       "    <tr>\n",
       "      <th>110</th>\n",
       "      <td>Mario Kart 8</td>\n",
       "      <td>WiiU</td>\n",
       "      <td>2014</td>\n",
       "      <td>Racing</td>\n",
       "      <td>3.15</td>\n",
       "      <td>2.15</td>\n",
       "      <td>1.28</td>\n",
       "      <td>0.51</td>\n",
       "      <td>88</td>\n",
       "      <td>9.1</td>\n",
       "      <td>E</td>\n",
       "      <td>7.09</td>\n",
       "    </tr>\n",
       "    <tr>\n",
       "      <th>185</th>\n",
       "      <td>New Super Mario Bros. U</td>\n",
       "      <td>WiiU</td>\n",
       "      <td>2012</td>\n",
       "      <td>Platform</td>\n",
       "      <td>2.30</td>\n",
       "      <td>1.34</td>\n",
       "      <td>1.27</td>\n",
       "      <td>0.32</td>\n",
       "      <td>84</td>\n",
       "      <td>8.1</td>\n",
       "      <td>E</td>\n",
       "      <td>5.23</td>\n",
       "    </tr>\n",
       "    <tr>\n",
       "      <th>216</th>\n",
       "      <td>Super Smash Bros. for Wii U and 3DS</td>\n",
       "      <td>WiiU</td>\n",
       "      <td>2014</td>\n",
       "      <td>Fighting</td>\n",
       "      <td>2.60</td>\n",
       "      <td>1.08</td>\n",
       "      <td>0.81</td>\n",
       "      <td>0.38</td>\n",
       "      <td>72</td>\n",
       "      <td>-2.0</td>\n",
       "      <td>unknown</td>\n",
       "      <td>4.87</td>\n",
       "    </tr>\n",
       "  </tbody>\n",
       "</table>\n",
       "</div>"
      ],
      "text/plain": [
       "                                    name platform  year_of_release     genre  \\\n",
       "110                         Mario Kart 8     WiiU             2014    Racing   \n",
       "185              New Super Mario Bros. U     WiiU             2012  Platform   \n",
       "216  Super Smash Bros. for Wii U and 3DS     WiiU             2014  Fighting   \n",
       "\n",
       "     na_sales  eu_sales  jp_sales  other_sales  critic_score  user_score  \\\n",
       "110      3.15      2.15      1.28         0.51            88         9.1   \n",
       "185      2.30      1.34      1.27         0.32            84         8.1   \n",
       "216      2.60      1.08      0.81         0.38            72        -2.0   \n",
       "\n",
       "      rating  total_sales  \n",
       "110        E         7.09  \n",
       "185        E         5.23  \n",
       "216  unknown         4.87  "
      ]
     },
     "execution_count": 52,
     "metadata": {},
     "output_type": "execute_result"
    }
   ],
   "source": [
    "top_four_actual_platform.loc[top_four_actual_platform['platform'] == \"WiiU\"].sort_values(by='total_sales', ascending=False).head(3)"
   ]
  },
  {
   "cell_type": "code",
   "execution_count": 53,
   "metadata": {},
   "outputs": [
    {
     "data": {
      "text/html": [
       "<div>\n",
       "<style scoped>\n",
       "    .dataframe tbody tr th:only-of-type {\n",
       "        vertical-align: middle;\n",
       "    }\n",
       "\n",
       "    .dataframe tbody tr th {\n",
       "        vertical-align: top;\n",
       "    }\n",
       "\n",
       "    .dataframe thead th {\n",
       "        text-align: right;\n",
       "    }\n",
       "</style>\n",
       "<table border=\"1\" class=\"dataframe\">\n",
       "  <thead>\n",
       "    <tr style=\"text-align: right;\">\n",
       "      <th></th>\n",
       "      <th>name</th>\n",
       "      <th>platform</th>\n",
       "      <th>year_of_release</th>\n",
       "      <th>genre</th>\n",
       "      <th>na_sales</th>\n",
       "      <th>eu_sales</th>\n",
       "      <th>jp_sales</th>\n",
       "      <th>other_sales</th>\n",
       "      <th>critic_score</th>\n",
       "      <th>user_score</th>\n",
       "      <th>rating</th>\n",
       "      <th>total_sales</th>\n",
       "    </tr>\n",
       "  </thead>\n",
       "  <tbody>\n",
       "    <tr>\n",
       "      <th>33</th>\n",
       "      <td>Pokemon X/Pokemon Y</td>\n",
       "      <td>3DS</td>\n",
       "      <td>2013</td>\n",
       "      <td>Role-Playing</td>\n",
       "      <td>5.28</td>\n",
       "      <td>4.19</td>\n",
       "      <td>4.35</td>\n",
       "      <td>0.78</td>\n",
       "      <td>74</td>\n",
       "      <td>-2.0</td>\n",
       "      <td>unknown</td>\n",
       "      <td>14.60</td>\n",
       "    </tr>\n",
       "    <tr>\n",
       "      <th>40</th>\n",
       "      <td>Mario Kart 7</td>\n",
       "      <td>3DS</td>\n",
       "      <td>2011</td>\n",
       "      <td>Racing</td>\n",
       "      <td>5.03</td>\n",
       "      <td>4.02</td>\n",
       "      <td>2.69</td>\n",
       "      <td>0.91</td>\n",
       "      <td>85</td>\n",
       "      <td>8.2</td>\n",
       "      <td>E</td>\n",
       "      <td>12.65</td>\n",
       "    </tr>\n",
       "    <tr>\n",
       "      <th>47</th>\n",
       "      <td>Pokemon Omega Ruby/Pokemon Alpha Sapphire</td>\n",
       "      <td>3DS</td>\n",
       "      <td>2014</td>\n",
       "      <td>Role-Playing</td>\n",
       "      <td>4.35</td>\n",
       "      <td>3.49</td>\n",
       "      <td>3.10</td>\n",
       "      <td>0.74</td>\n",
       "      <td>74</td>\n",
       "      <td>-2.0</td>\n",
       "      <td>unknown</td>\n",
       "      <td>11.68</td>\n",
       "    </tr>\n",
       "  </tbody>\n",
       "</table>\n",
       "</div>"
      ],
      "text/plain": [
       "                                         name platform  year_of_release  \\\n",
       "33                        Pokemon X/Pokemon Y      3DS             2013   \n",
       "40                               Mario Kart 7      3DS             2011   \n",
       "47  Pokemon Omega Ruby/Pokemon Alpha Sapphire      3DS             2014   \n",
       "\n",
       "           genre  na_sales  eu_sales  jp_sales  other_sales  critic_score  \\\n",
       "33  Role-Playing      5.28      4.19      4.35         0.78            74   \n",
       "40        Racing      5.03      4.02      2.69         0.91            85   \n",
       "47  Role-Playing      4.35      3.49      3.10         0.74            74   \n",
       "\n",
       "    user_score   rating  total_sales  \n",
       "33        -2.0  unknown        14.60  \n",
       "40         8.2        E        12.65  \n",
       "47        -2.0  unknown        11.68  "
      ]
     },
     "execution_count": 53,
     "metadata": {},
     "output_type": "execute_result"
    }
   ],
   "source": [
    "top_four_actual_platform.loc[top_four_actual_platform['platform'] == \"3DS\"].sort_values(by='total_sales', ascending=False).head(3)"
   ]
  },
  {
   "cell_type": "markdown",
   "metadata": {},
   "source": [
    "Сони лидер, постепенно догоняет XOne, в топах игр по общим продажам на консолях можно увидеть одинаковые игры это:\n",
    "* Call of Duty: Black Ops 3;\n",
    "* Grand Theft Auto V;\n",
    "* FIFA.\n"
   ]
  },
  {
   "cell_type": "markdown",
   "metadata": {},
   "source": [
    "У приставок от Nintendo в топах серии игр от Марио и Пикачу 🏁."
   ]
  },
  {
   "cell_type": "markdown",
   "metadata": {},
   "source": [
    "**Вывод:**"
   ]
  },
  {
   "cell_type": "markdown",
   "metadata": {},
   "source": [
    "В данном этапе мы проводили исследовательский анализ данных. Посмотрели на структуру выпущеных игр в динамике, определили когда произошел прорыв в игровой индустрии после которого рынок наполнился свежими играми, платформами и интересом со стороны пользователей. Также мы определили актуальные консоли, рассмотрели продажи игр по ним и узнали как долго живет одно поколение консолей."
   ]
  },
  {
   "cell_type": "markdown",
   "metadata": {},
   "source": [
    "Далее посмотрим, как влияют на продажи внутри одной популярной платформы отзывы пользователей и критиков. В качестве самой популярной платформы возьмем PS4. Построим диаграмму рассеяния и посчитаем корреляцию между отзывами и продажами."
   ]
  },
  {
   "cell_type": "markdown",
   "metadata": {},
   "source": [
    "**PS4 зависимость продаж от отзывыв пользователей и критиков.**"
   ]
  },
  {
   "cell_type": "code",
   "execution_count": 54,
   "metadata": {},
   "outputs": [],
   "source": [
    "ps4 = df.query('platform == \"PS4\" and year_of_release >= 2012') # создание датафрейма с платформой PS4"
   ]
  },
  {
   "cell_type": "code",
   "execution_count": 55,
   "metadata": {},
   "outputs": [
    {
     "data": {
      "text/html": [
       "<div>\n",
       "<style scoped>\n",
       "    .dataframe tbody tr th:only-of-type {\n",
       "        vertical-align: middle;\n",
       "    }\n",
       "\n",
       "    .dataframe tbody tr th {\n",
       "        vertical-align: top;\n",
       "    }\n",
       "\n",
       "    .dataframe thead th {\n",
       "        text-align: right;\n",
       "    }\n",
       "</style>\n",
       "<table border=\"1\" class=\"dataframe\">\n",
       "  <thead>\n",
       "    <tr style=\"text-align: right;\">\n",
       "      <th></th>\n",
       "      <th>name</th>\n",
       "      <th>platform</th>\n",
       "      <th>year_of_release</th>\n",
       "      <th>genre</th>\n",
       "      <th>na_sales</th>\n",
       "      <th>eu_sales</th>\n",
       "      <th>jp_sales</th>\n",
       "      <th>other_sales</th>\n",
       "      <th>critic_score</th>\n",
       "      <th>user_score</th>\n",
       "      <th>rating</th>\n",
       "      <th>total_sales</th>\n",
       "    </tr>\n",
       "  </thead>\n",
       "  <tbody>\n",
       "    <tr>\n",
       "      <th>31</th>\n",
       "      <td>Call of Duty: Black Ops 3</td>\n",
       "      <td>PS4</td>\n",
       "      <td>2015</td>\n",
       "      <td>Shooter</td>\n",
       "      <td>6.03</td>\n",
       "      <td>5.86</td>\n",
       "      <td>0.36</td>\n",
       "      <td>2.38</td>\n",
       "      <td>73</td>\n",
       "      <td>-2.0</td>\n",
       "      <td>unknown</td>\n",
       "      <td>14.63</td>\n",
       "    </tr>\n",
       "    <tr>\n",
       "      <th>42</th>\n",
       "      <td>Grand Theft Auto V</td>\n",
       "      <td>PS4</td>\n",
       "      <td>2014</td>\n",
       "      <td>Action</td>\n",
       "      <td>3.96</td>\n",
       "      <td>6.31</td>\n",
       "      <td>0.38</td>\n",
       "      <td>1.97</td>\n",
       "      <td>97</td>\n",
       "      <td>8.3</td>\n",
       "      <td>M</td>\n",
       "      <td>12.62</td>\n",
       "    </tr>\n",
       "    <tr>\n",
       "      <th>77</th>\n",
       "      <td>FIFA 16</td>\n",
       "      <td>PS4</td>\n",
       "      <td>2015</td>\n",
       "      <td>Sports</td>\n",
       "      <td>1.12</td>\n",
       "      <td>6.12</td>\n",
       "      <td>0.06</td>\n",
       "      <td>1.28</td>\n",
       "      <td>82</td>\n",
       "      <td>4.3</td>\n",
       "      <td>E</td>\n",
       "      <td>8.58</td>\n",
       "    </tr>\n",
       "    <tr>\n",
       "      <th>87</th>\n",
       "      <td>Star Wars Battlefront (2015)</td>\n",
       "      <td>PS4</td>\n",
       "      <td>2015</td>\n",
       "      <td>Shooter</td>\n",
       "      <td>2.99</td>\n",
       "      <td>3.49</td>\n",
       "      <td>0.22</td>\n",
       "      <td>1.28</td>\n",
       "      <td>73</td>\n",
       "      <td>-2.0</td>\n",
       "      <td>unknown</td>\n",
       "      <td>7.98</td>\n",
       "    </tr>\n",
       "    <tr>\n",
       "      <th>92</th>\n",
       "      <td>Call of Duty: Advanced Warfare</td>\n",
       "      <td>PS4</td>\n",
       "      <td>2014</td>\n",
       "      <td>Shooter</td>\n",
       "      <td>2.81</td>\n",
       "      <td>3.48</td>\n",
       "      <td>0.14</td>\n",
       "      <td>1.23</td>\n",
       "      <td>83</td>\n",
       "      <td>5.7</td>\n",
       "      <td>M</td>\n",
       "      <td>7.66</td>\n",
       "    </tr>\n",
       "  </tbody>\n",
       "</table>\n",
       "</div>"
      ],
      "text/plain": [
       "                              name platform  year_of_release    genre  \\\n",
       "31       Call of Duty: Black Ops 3      PS4             2015  Shooter   \n",
       "42              Grand Theft Auto V      PS4             2014   Action   \n",
       "77                         FIFA 16      PS4             2015   Sports   \n",
       "87    Star Wars Battlefront (2015)      PS4             2015  Shooter   \n",
       "92  Call of Duty: Advanced Warfare      PS4             2014  Shooter   \n",
       "\n",
       "    na_sales  eu_sales  jp_sales  other_sales  critic_score  user_score  \\\n",
       "31      6.03      5.86      0.36         2.38            73        -2.0   \n",
       "42      3.96      6.31      0.38         1.97            97         8.3   \n",
       "77      1.12      6.12      0.06         1.28            82         4.3   \n",
       "87      2.99      3.49      0.22         1.28            73        -2.0   \n",
       "92      2.81      3.48      0.14         1.23            83         5.7   \n",
       "\n",
       "     rating  total_sales  \n",
       "31  unknown        14.63  \n",
       "42        M        12.62  \n",
       "77        E         8.58  \n",
       "87  unknown         7.98  \n",
       "92        M         7.66  "
      ]
     },
     "execution_count": 55,
     "metadata": {},
     "output_type": "execute_result"
    }
   ],
   "source": [
    "ps4.head()"
   ]
  },
  {
   "cell_type": "code",
   "execution_count": 56,
   "metadata": {},
   "outputs": [
    {
     "name": "stdout",
     "output_type": "stream",
     "text": [
      "Таблица с данными PS4 готова. Строк в таблице: 392\n"
     ]
    }
   ],
   "source": [
    "print('Таблица с данными PS4 готова. Строк в таблице:', len(ps4))"
   ]
  },
  {
   "cell_type": "markdown",
   "metadata": {},
   "source": [
    "Строим диаграмму рассеяния, посмотрим, как влияют на продажи оценки критиков."
   ]
  },
  {
   "cell_type": "code",
   "execution_count": 107,
   "metadata": {},
   "outputs": [
    {
     "data": {
      "image/png": "[encoded data removed]",
      "text/plain": [
       "<Figure size 1008x288 with 1 Axes>"
      ]
     },
     "metadata": {
      "needs_background": "light"
     },
     "output_type": "display_data"
    }
   ],
   "source": [
    "ps4.plot(x='critic_score', y='total_sales', kind='scatter', grid=True, color = \"black\", figsize = (14,4), alpha = .65)\n",
    "plt.title('Диаграмма рассеяния')\n",
    "plt.show()"
   ]
  },
  {
   "cell_type": "markdown",
   "metadata": {},
   "source": [
    "Мы видим, что на диаграмме рассеяния достаточно много игр с большими продажами в зависимости от оценки критиков обосновались в отметке от 68 до 97. "
   ]
  },
  {
   "cell_type": "markdown",
   "metadata": {},
   "source": [
    "Посмотрим на игры с самым высоким рейтингом критиков."
   ]
  },
  {
   "cell_type": "code",
   "execution_count": 58,
   "metadata": {},
   "outputs": [
    {
     "data": {
      "text/html": [
       "<div>\n",
       "<style scoped>\n",
       "    .dataframe tbody tr th:only-of-type {\n",
       "        vertical-align: middle;\n",
       "    }\n",
       "\n",
       "    .dataframe tbody tr th {\n",
       "        vertical-align: top;\n",
       "    }\n",
       "\n",
       "    .dataframe thead th {\n",
       "        text-align: right;\n",
       "    }\n",
       "</style>\n",
       "<table border=\"1\" class=\"dataframe\">\n",
       "  <thead>\n",
       "    <tr style=\"text-align: right;\">\n",
       "      <th></th>\n",
       "      <th>name</th>\n",
       "      <th>platform</th>\n",
       "      <th>year_of_release</th>\n",
       "      <th>genre</th>\n",
       "      <th>na_sales</th>\n",
       "      <th>eu_sales</th>\n",
       "      <th>jp_sales</th>\n",
       "      <th>other_sales</th>\n",
       "      <th>critic_score</th>\n",
       "      <th>user_score</th>\n",
       "      <th>rating</th>\n",
       "      <th>total_sales</th>\n",
       "    </tr>\n",
       "  </thead>\n",
       "  <tbody>\n",
       "    <tr>\n",
       "      <th>42</th>\n",
       "      <td>Grand Theft Auto V</td>\n",
       "      <td>PS4</td>\n",
       "      <td>2014</td>\n",
       "      <td>Action</td>\n",
       "      <td>3.96</td>\n",
       "      <td>6.31</td>\n",
       "      <td>0.38</td>\n",
       "      <td>1.97</td>\n",
       "      <td>97</td>\n",
       "      <td>8.3</td>\n",
       "      <td>M</td>\n",
       "      <td>12.62</td>\n",
       "    </tr>\n",
       "    <tr>\n",
       "      <th>171</th>\n",
       "      <td>Uncharted 4: A Thief's End</td>\n",
       "      <td>PS4</td>\n",
       "      <td>2016</td>\n",
       "      <td>Shooter</td>\n",
       "      <td>1.85</td>\n",
       "      <td>2.50</td>\n",
       "      <td>0.19</td>\n",
       "      <td>0.85</td>\n",
       "      <td>93</td>\n",
       "      <td>7.9</td>\n",
       "      <td>T</td>\n",
       "      <td>5.39</td>\n",
       "    </tr>\n",
       "    <tr>\n",
       "      <th>303</th>\n",
       "      <td>The Witcher 3: Wild Hunt</td>\n",
       "      <td>PS4</td>\n",
       "      <td>2015</td>\n",
       "      <td>Role-Playing</td>\n",
       "      <td>1.02</td>\n",
       "      <td>2.13</td>\n",
       "      <td>0.23</td>\n",
       "      <td>0.59</td>\n",
       "      <td>92</td>\n",
       "      <td>9.2</td>\n",
       "      <td>M</td>\n",
       "      <td>3.97</td>\n",
       "    </tr>\n",
       "    <tr>\n",
       "      <th>390</th>\n",
       "      <td>Metal Gear Solid V: The Phantom Pain</td>\n",
       "      <td>PS4</td>\n",
       "      <td>2015</td>\n",
       "      <td>Action</td>\n",
       "      <td>1.09</td>\n",
       "      <td>1.36</td>\n",
       "      <td>0.49</td>\n",
       "      <td>0.48</td>\n",
       "      <td>93</td>\n",
       "      <td>8.2</td>\n",
       "      <td>M</td>\n",
       "      <td>3.42</td>\n",
       "    </tr>\n",
       "    <tr>\n",
       "      <th>623</th>\n",
       "      <td>Bloodborne</td>\n",
       "      <td>PS4</td>\n",
       "      <td>2015</td>\n",
       "      <td>Action</td>\n",
       "      <td>1.03</td>\n",
       "      <td>0.81</td>\n",
       "      <td>0.26</td>\n",
       "      <td>0.38</td>\n",
       "      <td>92</td>\n",
       "      <td>8.6</td>\n",
       "      <td>M</td>\n",
       "      <td>2.48</td>\n",
       "    </tr>\n",
       "  </tbody>\n",
       "</table>\n",
       "</div>"
      ],
      "text/plain": [
       "                                     name platform  year_of_release  \\\n",
       "42                     Grand Theft Auto V      PS4             2014   \n",
       "171            Uncharted 4: A Thief's End      PS4             2016   \n",
       "303              The Witcher 3: Wild Hunt      PS4             2015   \n",
       "390  Metal Gear Solid V: The Phantom Pain      PS4             2015   \n",
       "623                            Bloodborne      PS4             2015   \n",
       "\n",
       "            genre  na_sales  eu_sales  jp_sales  other_sales  critic_score  \\\n",
       "42         Action      3.96      6.31      0.38         1.97            97   \n",
       "171       Shooter      1.85      2.50      0.19         0.85            93   \n",
       "303  Role-Playing      1.02      2.13      0.23         0.59            92   \n",
       "390        Action      1.09      1.36      0.49         0.48            93   \n",
       "623        Action      1.03      0.81      0.26         0.38            92   \n",
       "\n",
       "     user_score rating  total_sales  \n",
       "42          8.3      M        12.62  \n",
       "171         7.9      T         5.39  \n",
       "303         9.2      M         3.97  \n",
       "390         8.2      M         3.42  \n",
       "623         8.6      M         2.48  "
      ]
     },
     "execution_count": 58,
     "metadata": {},
     "output_type": "execute_result"
    }
   ],
   "source": [
    "ps4.query('critic_score > 90').sort_values(by='total_sales', ascending=False)"
   ]
  },
  {
   "cell_type": "markdown",
   "metadata": {},
   "source": [
    "Думаю любители игр, наверняка сидели часами в этих играх, да и критикам очень по душе эти игры."
   ]
  },
  {
   "cell_type": "markdown",
   "metadata": {},
   "source": [
    "Посмотрим на самые большие продажи игр в нашем датафрейме и посмотрим глазами на оценки критиков."
   ]
  },
  {
   "cell_type": "code",
   "execution_count": 59,
   "metadata": {},
   "outputs": [
    {
     "data": {
      "text/html": [
       "<div>\n",
       "<style scoped>\n",
       "    .dataframe tbody tr th:only-of-type {\n",
       "        vertical-align: middle;\n",
       "    }\n",
       "\n",
       "    .dataframe tbody tr th {\n",
       "        vertical-align: top;\n",
       "    }\n",
       "\n",
       "    .dataframe thead th {\n",
       "        text-align: right;\n",
       "    }\n",
       "</style>\n",
       "<table border=\"1\" class=\"dataframe\">\n",
       "  <thead>\n",
       "    <tr style=\"text-align: right;\">\n",
       "      <th></th>\n",
       "      <th>name</th>\n",
       "      <th>platform</th>\n",
       "      <th>year_of_release</th>\n",
       "      <th>genre</th>\n",
       "      <th>na_sales</th>\n",
       "      <th>eu_sales</th>\n",
       "      <th>jp_sales</th>\n",
       "      <th>other_sales</th>\n",
       "      <th>critic_score</th>\n",
       "      <th>user_score</th>\n",
       "      <th>rating</th>\n",
       "      <th>total_sales</th>\n",
       "    </tr>\n",
       "  </thead>\n",
       "  <tbody>\n",
       "    <tr>\n",
       "      <th>31</th>\n",
       "      <td>Call of Duty: Black Ops 3</td>\n",
       "      <td>PS4</td>\n",
       "      <td>2015</td>\n",
       "      <td>Shooter</td>\n",
       "      <td>6.03</td>\n",
       "      <td>5.86</td>\n",
       "      <td>0.36</td>\n",
       "      <td>2.38</td>\n",
       "      <td>73</td>\n",
       "      <td>-2.0</td>\n",
       "      <td>unknown</td>\n",
       "      <td>14.63</td>\n",
       "    </tr>\n",
       "    <tr>\n",
       "      <th>42</th>\n",
       "      <td>Grand Theft Auto V</td>\n",
       "      <td>PS4</td>\n",
       "      <td>2014</td>\n",
       "      <td>Action</td>\n",
       "      <td>3.96</td>\n",
       "      <td>6.31</td>\n",
       "      <td>0.38</td>\n",
       "      <td>1.97</td>\n",
       "      <td>97</td>\n",
       "      <td>8.3</td>\n",
       "      <td>M</td>\n",
       "      <td>12.62</td>\n",
       "    </tr>\n",
       "    <tr>\n",
       "      <th>77</th>\n",
       "      <td>FIFA 16</td>\n",
       "      <td>PS4</td>\n",
       "      <td>2015</td>\n",
       "      <td>Sports</td>\n",
       "      <td>1.12</td>\n",
       "      <td>6.12</td>\n",
       "      <td>0.06</td>\n",
       "      <td>1.28</td>\n",
       "      <td>82</td>\n",
       "      <td>4.3</td>\n",
       "      <td>E</td>\n",
       "      <td>8.58</td>\n",
       "    </tr>\n",
       "    <tr>\n",
       "      <th>87</th>\n",
       "      <td>Star Wars Battlefront (2015)</td>\n",
       "      <td>PS4</td>\n",
       "      <td>2015</td>\n",
       "      <td>Shooter</td>\n",
       "      <td>2.99</td>\n",
       "      <td>3.49</td>\n",
       "      <td>0.22</td>\n",
       "      <td>1.28</td>\n",
       "      <td>73</td>\n",
       "      <td>-2.0</td>\n",
       "      <td>unknown</td>\n",
       "      <td>7.98</td>\n",
       "    </tr>\n",
       "    <tr>\n",
       "      <th>92</th>\n",
       "      <td>Call of Duty: Advanced Warfare</td>\n",
       "      <td>PS4</td>\n",
       "      <td>2014</td>\n",
       "      <td>Shooter</td>\n",
       "      <td>2.81</td>\n",
       "      <td>3.48</td>\n",
       "      <td>0.14</td>\n",
       "      <td>1.23</td>\n",
       "      <td>83</td>\n",
       "      <td>5.7</td>\n",
       "      <td>M</td>\n",
       "      <td>7.66</td>\n",
       "    </tr>\n",
       "    <tr>\n",
       "      <th>94</th>\n",
       "      <td>FIFA 17</td>\n",
       "      <td>PS4</td>\n",
       "      <td>2016</td>\n",
       "      <td>Sports</td>\n",
       "      <td>0.66</td>\n",
       "      <td>5.75</td>\n",
       "      <td>0.08</td>\n",
       "      <td>1.11</td>\n",
       "      <td>85</td>\n",
       "      <td>5.0</td>\n",
       "      <td>E</td>\n",
       "      <td>7.60</td>\n",
       "    </tr>\n",
       "    <tr>\n",
       "      <th>105</th>\n",
       "      <td>Fallout 4</td>\n",
       "      <td>PS4</td>\n",
       "      <td>2015</td>\n",
       "      <td>Role-Playing</td>\n",
       "      <td>2.53</td>\n",
       "      <td>3.27</td>\n",
       "      <td>0.24</td>\n",
       "      <td>1.13</td>\n",
       "      <td>87</td>\n",
       "      <td>6.5</td>\n",
       "      <td>M</td>\n",
       "      <td>7.17</td>\n",
       "    </tr>\n",
       "    <tr>\n",
       "      <th>143</th>\n",
       "      <td>FIFA 15</td>\n",
       "      <td>PS4</td>\n",
       "      <td>2014</td>\n",
       "      <td>Sports</td>\n",
       "      <td>0.80</td>\n",
       "      <td>4.33</td>\n",
       "      <td>0.05</td>\n",
       "      <td>0.90</td>\n",
       "      <td>82</td>\n",
       "      <td>5.7</td>\n",
       "      <td>E</td>\n",
       "      <td>6.08</td>\n",
       "    </tr>\n",
       "  </tbody>\n",
       "</table>\n",
       "</div>"
      ],
      "text/plain": [
       "                               name platform  year_of_release         genre  \\\n",
       "31        Call of Duty: Black Ops 3      PS4             2015       Shooter   \n",
       "42               Grand Theft Auto V      PS4             2014        Action   \n",
       "77                          FIFA 16      PS4             2015        Sports   \n",
       "87     Star Wars Battlefront (2015)      PS4             2015       Shooter   \n",
       "92   Call of Duty: Advanced Warfare      PS4             2014       Shooter   \n",
       "94                          FIFA 17      PS4             2016        Sports   \n",
       "105                       Fallout 4      PS4             2015  Role-Playing   \n",
       "143                         FIFA 15      PS4             2014        Sports   \n",
       "\n",
       "     na_sales  eu_sales  jp_sales  other_sales  critic_score  user_score  \\\n",
       "31       6.03      5.86      0.36         2.38            73        -2.0   \n",
       "42       3.96      6.31      0.38         1.97            97         8.3   \n",
       "77       1.12      6.12      0.06         1.28            82         4.3   \n",
       "87       2.99      3.49      0.22         1.28            73        -2.0   \n",
       "92       2.81      3.48      0.14         1.23            83         5.7   \n",
       "94       0.66      5.75      0.08         1.11            85         5.0   \n",
       "105      2.53      3.27      0.24         1.13            87         6.5   \n",
       "143      0.80      4.33      0.05         0.90            82         5.7   \n",
       "\n",
       "      rating  total_sales  \n",
       "31   unknown        14.63  \n",
       "42         M        12.62  \n",
       "77         E         8.58  \n",
       "87   unknown         7.98  \n",
       "92         M         7.66  \n",
       "94         E         7.60  \n",
       "105        M         7.17  \n",
       "143        E         6.08  "
      ]
     },
     "execution_count": 59,
     "metadata": {},
     "output_type": "execute_result"
    }
   ],
   "source": [
    "ps4.query('total_sales > 6').sort_values(by='total_sales', ascending=False)"
   ]
  },
  {
   "cell_type": "markdown",
   "metadata": {},
   "source": [
    "На больших продажах результаты оценок критиков варьируют от 73 до 97 баллов, думаю, что эти оценки хорошие и большие продажи по этим играм обоснованы."
   ]
  },
  {
   "cell_type": "markdown",
   "metadata": {},
   "source": [
    "Строим диаграмму рассеяния, посмотрим, как влияют на продажи оценки пользователей. Помним, что у нас есть заглушка (-1), отсечем игры с этим значением и построим диаграмму рассеяния."
   ]
  },
  {
   "cell_type": "code",
   "execution_count": 108,
   "metadata": {},
   "outputs": [
    {
     "data": {
      "image/png": "[encoded data removed]",
      "text/plain": [
       "<Figure size 1008x288 with 1 Axes>"
      ]
     },
     "metadata": {
      "needs_background": "light"
     },
     "output_type": "display_data"
    }
   ],
   "source": [
    "ps4.query('user_score >= 0').plot(x='user_score', y='total_sales', kind='scatter', grid=True, color = \"blue\", figsize = (14,4), alpha = .65)\n",
    "plt.title('Диаграмма рассеяния')\n",
    "plt.show()"
   ]
  },
  {
   "cell_type": "markdown",
   "metadata": {},
   "source": [
    "На диаграмме рассеяния большинство игр с продажами от 3 млн.копий начинается с польовательской оценкой в 3,5 балла, думаю, что на презентации игр разработчики выкатили супер конфету с хорошей рекламой, а по факту релиза пользователи были уж очень разочарованы и поставили низкие оценки, примеров таких игр много и это огорчает, также в последнее время в классных играх может присутствовать или отсутствовать какая либо модная повестка, из за которой пользователи разных мировозрений могут занижать оценки."
   ]
  },
  {
   "cell_type": "markdown",
   "metadata": {},
   "source": [
    "Посмотрим на игры с самым высоким рейтингом пользователей."
   ]
  },
  {
   "cell_type": "code",
   "execution_count": 61,
   "metadata": {},
   "outputs": [
    {
     "data": {
      "text/html": [
       "<div>\n",
       "<style scoped>\n",
       "    .dataframe tbody tr th:only-of-type {\n",
       "        vertical-align: middle;\n",
       "    }\n",
       "\n",
       "    .dataframe tbody tr th {\n",
       "        vertical-align: top;\n",
       "    }\n",
       "\n",
       "    .dataframe thead th {\n",
       "        text-align: right;\n",
       "    }\n",
       "</style>\n",
       "<table border=\"1\" class=\"dataframe\">\n",
       "  <thead>\n",
       "    <tr style=\"text-align: right;\">\n",
       "      <th></th>\n",
       "      <th>name</th>\n",
       "      <th>platform</th>\n",
       "      <th>year_of_release</th>\n",
       "      <th>genre</th>\n",
       "      <th>na_sales</th>\n",
       "      <th>eu_sales</th>\n",
       "      <th>jp_sales</th>\n",
       "      <th>other_sales</th>\n",
       "      <th>critic_score</th>\n",
       "      <th>user_score</th>\n",
       "      <th>rating</th>\n",
       "      <th>total_sales</th>\n",
       "    </tr>\n",
       "  </thead>\n",
       "  <tbody>\n",
       "    <tr>\n",
       "      <th>42</th>\n",
       "      <td>Grand Theft Auto V</td>\n",
       "      <td>PS4</td>\n",
       "      <td>2014</td>\n",
       "      <td>Action</td>\n",
       "      <td>3.96</td>\n",
       "      <td>6.31</td>\n",
       "      <td>0.38</td>\n",
       "      <td>1.97</td>\n",
       "      <td>97</td>\n",
       "      <td>8.3</td>\n",
       "      <td>M</td>\n",
       "      <td>12.62</td>\n",
       "    </tr>\n",
       "    <tr>\n",
       "      <th>231</th>\n",
       "      <td>Uncharted: The Nathan Drake Collection</td>\n",
       "      <td>PS4</td>\n",
       "      <td>2015</td>\n",
       "      <td>Action</td>\n",
       "      <td>2.07</td>\n",
       "      <td>1.71</td>\n",
       "      <td>0.08</td>\n",
       "      <td>0.76</td>\n",
       "      <td>86</td>\n",
       "      <td>8.1</td>\n",
       "      <td>T</td>\n",
       "      <td>4.62</td>\n",
       "    </tr>\n",
       "    <tr>\n",
       "      <th>289</th>\n",
       "      <td>Battlefield 1</td>\n",
       "      <td>PS4</td>\n",
       "      <td>2016</td>\n",
       "      <td>Shooter</td>\n",
       "      <td>1.10</td>\n",
       "      <td>2.15</td>\n",
       "      <td>0.21</td>\n",
       "      <td>0.61</td>\n",
       "      <td>88</td>\n",
       "      <td>8.4</td>\n",
       "      <td>M</td>\n",
       "      <td>4.07</td>\n",
       "    </tr>\n",
       "    <tr>\n",
       "      <th>303</th>\n",
       "      <td>The Witcher 3: Wild Hunt</td>\n",
       "      <td>PS4</td>\n",
       "      <td>2015</td>\n",
       "      <td>Role-Playing</td>\n",
       "      <td>1.02</td>\n",
       "      <td>2.13</td>\n",
       "      <td>0.23</td>\n",
       "      <td>0.59</td>\n",
       "      <td>92</td>\n",
       "      <td>9.2</td>\n",
       "      <td>M</td>\n",
       "      <td>3.97</td>\n",
       "    </tr>\n",
       "    <tr>\n",
       "      <th>390</th>\n",
       "      <td>Metal Gear Solid V: The Phantom Pain</td>\n",
       "      <td>PS4</td>\n",
       "      <td>2015</td>\n",
       "      <td>Action</td>\n",
       "      <td>1.09</td>\n",
       "      <td>1.36</td>\n",
       "      <td>0.49</td>\n",
       "      <td>0.48</td>\n",
       "      <td>93</td>\n",
       "      <td>8.2</td>\n",
       "      <td>M</td>\n",
       "      <td>3.42</td>\n",
       "    </tr>\n",
       "    <tr>\n",
       "      <th>481</th>\n",
       "      <td>Middle-Earth: Shadow of Mordor</td>\n",
       "      <td>PS4</td>\n",
       "      <td>2014</td>\n",
       "      <td>Action</td>\n",
       "      <td>1.01</td>\n",
       "      <td>1.43</td>\n",
       "      <td>0.05</td>\n",
       "      <td>0.47</td>\n",
       "      <td>84</td>\n",
       "      <td>8.1</td>\n",
       "      <td>M</td>\n",
       "      <td>2.96</td>\n",
       "    </tr>\n",
       "    <tr>\n",
       "      <th>623</th>\n",
       "      <td>Bloodborne</td>\n",
       "      <td>PS4</td>\n",
       "      <td>2015</td>\n",
       "      <td>Action</td>\n",
       "      <td>1.03</td>\n",
       "      <td>0.81</td>\n",
       "      <td>0.26</td>\n",
       "      <td>0.38</td>\n",
       "      <td>92</td>\n",
       "      <td>8.6</td>\n",
       "      <td>M</td>\n",
       "      <td>2.48</td>\n",
       "    </tr>\n",
       "    <tr>\n",
       "      <th>1097</th>\n",
       "      <td>Until Dawn</td>\n",
       "      <td>PS4</td>\n",
       "      <td>2015</td>\n",
       "      <td>Adventure</td>\n",
       "      <td>0.45</td>\n",
       "      <td>0.90</td>\n",
       "      <td>0.05</td>\n",
       "      <td>0.26</td>\n",
       "      <td>79</td>\n",
       "      <td>8.2</td>\n",
       "      <td>M</td>\n",
       "      <td>1.66</td>\n",
       "    </tr>\n",
       "    <tr>\n",
       "      <th>1107</th>\n",
       "      <td>Dark Souls III</td>\n",
       "      <td>PS4</td>\n",
       "      <td>2016</td>\n",
       "      <td>Role-Playing</td>\n",
       "      <td>0.65</td>\n",
       "      <td>0.45</td>\n",
       "      <td>0.34</td>\n",
       "      <td>0.22</td>\n",
       "      <td>89</td>\n",
       "      <td>8.8</td>\n",
       "      <td>M</td>\n",
       "      <td>1.66</td>\n",
       "    </tr>\n",
       "    <tr>\n",
       "      <th>1208</th>\n",
       "      <td>Wolfenstein: The New Order</td>\n",
       "      <td>PS4</td>\n",
       "      <td>2014</td>\n",
       "      <td>Shooter</td>\n",
       "      <td>0.47</td>\n",
       "      <td>0.80</td>\n",
       "      <td>0.03</td>\n",
       "      <td>0.24</td>\n",
       "      <td>79</td>\n",
       "      <td>8.1</td>\n",
       "      <td>M</td>\n",
       "      <td>1.54</td>\n",
       "    </tr>\n",
       "  </tbody>\n",
       "</table>\n",
       "</div>"
      ],
      "text/plain": [
       "                                        name platform  year_of_release  \\\n",
       "42                        Grand Theft Auto V      PS4             2014   \n",
       "231   Uncharted: The Nathan Drake Collection      PS4             2015   \n",
       "289                            Battlefield 1      PS4             2016   \n",
       "303                 The Witcher 3: Wild Hunt      PS4             2015   \n",
       "390     Metal Gear Solid V: The Phantom Pain      PS4             2015   \n",
       "481           Middle-Earth: Shadow of Mordor      PS4             2014   \n",
       "623                               Bloodborne      PS4             2015   \n",
       "1097                              Until Dawn      PS4             2015   \n",
       "1107                          Dark Souls III      PS4             2016   \n",
       "1208              Wolfenstein: The New Order      PS4             2014   \n",
       "\n",
       "             genre  na_sales  eu_sales  jp_sales  other_sales  critic_score  \\\n",
       "42          Action      3.96      6.31      0.38         1.97            97   \n",
       "231         Action      2.07      1.71      0.08         0.76            86   \n",
       "289        Shooter      1.10      2.15      0.21         0.61            88   \n",
       "303   Role-Playing      1.02      2.13      0.23         0.59            92   \n",
       "390         Action      1.09      1.36      0.49         0.48            93   \n",
       "481         Action      1.01      1.43      0.05         0.47            84   \n",
       "623         Action      1.03      0.81      0.26         0.38            92   \n",
       "1097     Adventure      0.45      0.90      0.05         0.26            79   \n",
       "1107  Role-Playing      0.65      0.45      0.34         0.22            89   \n",
       "1208       Shooter      0.47      0.80      0.03         0.24            79   \n",
       "\n",
       "      user_score rating  total_sales  \n",
       "42           8.3      M        12.62  \n",
       "231          8.1      T         4.62  \n",
       "289          8.4      M         4.07  \n",
       "303          9.2      M         3.97  \n",
       "390          8.2      M         3.42  \n",
       "481          8.1      M         2.96  \n",
       "623          8.6      M         2.48  \n",
       "1097         8.2      M         1.66  \n",
       "1107         8.8      M         1.66  \n",
       "1208         8.1      M         1.54  "
      ]
     },
     "execution_count": 61,
     "metadata": {},
     "output_type": "execute_result"
    }
   ],
   "source": [
    "ps4.query('user_score > 8').sort_values(by='total_sales', ascending=False).head(10)"
   ]
  },
  {
   "cell_type": "markdown",
   "metadata": {},
   "source": [
    "Посмотрим на корреляцию параметров отзывов и общих продаж на PS4."
   ]
  },
  {
   "cell_type": "code",
   "execution_count": 120,
   "metadata": {},
   "outputs": [
    {
     "data": {
      "image/png": "[encoded data removed]",
      "text/plain": [
       "<Figure size 630x490 with 2 Axes>"
      ]
     },
     "metadata": {
      "needs_background": "light"
     },
     "output_type": "display_data"
    }
   ],
   "source": [
    "# Plot\n",
    "plt.figure(figsize=(9,7), dpi= 70)\n",
    "sns.heatmap(ps4[['critic_score', 'user_score', 'total_sales']].query('user_score > 0').corr(), xticklabels=ps4[['critic_score', 'user_score', 'total_sales']].corr().columns, yticklabels=ps4[['critic_score', 'user_score', 'total_sales']].corr().columns, cmap='RdYlGn', center=0, annot=True)\n",
    "\n",
    "# Decorations\n",
    "plt.title('Корреляция параметров отзывов и общих продаж на PS4 \\n', fontsize=12)\n",
    "plt.xticks(fontsize=10)\n",
    "plt.yticks(fontsize=10)\n",
    "plt.show()"
   ]
  },
  {
   "cell_type": "markdown",
   "metadata": {},
   "source": [
    "По нашим выводам видно, что корреляция параметров между общими продажами и оцекой критиков прямая и оценки критиков определенно влияют на общие продажи, коэффициент корреляции между параметрами равен 0,41. Оценки пользователей почти не влияют на продажи в индустрии коэффициент корреляции составил -0.03 на платформе PS4."
   ]
  },
  {
   "cell_type": "markdown",
   "metadata": {},
   "source": [
    "Посмотрим на основного конкурента PS4:"
   ]
  },
  {
   "cell_type": "markdown",
   "metadata": {},
   "source": [
    "**Корреляция параметров отзывов и общих продаж на XOne.**"
   ]
  },
  {
   "cell_type": "code",
   "execution_count": 63,
   "metadata": {},
   "outputs": [],
   "source": [
    "xone = df.query('platform == \"XOne\" and year_of_release >= 2012') # создание датафрейма с платформой XOne"
   ]
  },
  {
   "cell_type": "code",
   "execution_count": 64,
   "metadata": {},
   "outputs": [
    {
     "data": {
      "text/html": [
       "<div>\n",
       "<style scoped>\n",
       "    .dataframe tbody tr th:only-of-type {\n",
       "        vertical-align: middle;\n",
       "    }\n",
       "\n",
       "    .dataframe tbody tr th {\n",
       "        vertical-align: top;\n",
       "    }\n",
       "\n",
       "    .dataframe thead th {\n",
       "        text-align: right;\n",
       "    }\n",
       "</style>\n",
       "<table border=\"1\" class=\"dataframe\">\n",
       "  <thead>\n",
       "    <tr style=\"text-align: right;\">\n",
       "      <th></th>\n",
       "      <th>name</th>\n",
       "      <th>platform</th>\n",
       "      <th>year_of_release</th>\n",
       "      <th>genre</th>\n",
       "      <th>na_sales</th>\n",
       "      <th>eu_sales</th>\n",
       "      <th>jp_sales</th>\n",
       "      <th>other_sales</th>\n",
       "      <th>critic_score</th>\n",
       "      <th>user_score</th>\n",
       "      <th>rating</th>\n",
       "      <th>total_sales</th>\n",
       "    </tr>\n",
       "  </thead>\n",
       "  <tbody>\n",
       "    <tr>\n",
       "      <th>99</th>\n",
       "      <td>Call of Duty: Black Ops 3</td>\n",
       "      <td>XOne</td>\n",
       "      <td>2015</td>\n",
       "      <td>Shooter</td>\n",
       "      <td>4.59</td>\n",
       "      <td>2.11</td>\n",
       "      <td>0.01</td>\n",
       "      <td>0.68</td>\n",
       "      <td>73</td>\n",
       "      <td>-2.0</td>\n",
       "      <td>unknown</td>\n",
       "      <td>7.39</td>\n",
       "    </tr>\n",
       "    <tr>\n",
       "      <th>165</th>\n",
       "      <td>Grand Theft Auto V</td>\n",
       "      <td>XOne</td>\n",
       "      <td>2014</td>\n",
       "      <td>Action</td>\n",
       "      <td>2.81</td>\n",
       "      <td>2.19</td>\n",
       "      <td>0.00</td>\n",
       "      <td>0.47</td>\n",
       "      <td>97</td>\n",
       "      <td>7.9</td>\n",
       "      <td>M</td>\n",
       "      <td>5.47</td>\n",
       "    </tr>\n",
       "    <tr>\n",
       "      <th>179</th>\n",
       "      <td>Call of Duty: Advanced Warfare</td>\n",
       "      <td>XOne</td>\n",
       "      <td>2014</td>\n",
       "      <td>Shooter</td>\n",
       "      <td>3.22</td>\n",
       "      <td>1.55</td>\n",
       "      <td>0.01</td>\n",
       "      <td>0.48</td>\n",
       "      <td>81</td>\n",
       "      <td>5.4</td>\n",
       "      <td>M</td>\n",
       "      <td>5.26</td>\n",
       "    </tr>\n",
       "    <tr>\n",
       "      <th>242</th>\n",
       "      <td>Halo 5: Guardians</td>\n",
       "      <td>XOne</td>\n",
       "      <td>2015</td>\n",
       "      <td>Shooter</td>\n",
       "      <td>2.78</td>\n",
       "      <td>1.27</td>\n",
       "      <td>0.03</td>\n",
       "      <td>0.41</td>\n",
       "      <td>84</td>\n",
       "      <td>6.4</td>\n",
       "      <td>T</td>\n",
       "      <td>4.49</td>\n",
       "    </tr>\n",
       "    <tr>\n",
       "      <th>270</th>\n",
       "      <td>Fallout 4</td>\n",
       "      <td>XOne</td>\n",
       "      <td>2015</td>\n",
       "      <td>Role-Playing</td>\n",
       "      <td>2.51</td>\n",
       "      <td>1.32</td>\n",
       "      <td>0.01</td>\n",
       "      <td>0.38</td>\n",
       "      <td>88</td>\n",
       "      <td>6.2</td>\n",
       "      <td>M</td>\n",
       "      <td>4.22</td>\n",
       "    </tr>\n",
       "  </tbody>\n",
       "</table>\n",
       "</div>"
      ],
      "text/plain": [
       "                               name platform  year_of_release         genre  \\\n",
       "99        Call of Duty: Black Ops 3     XOne             2015       Shooter   \n",
       "165              Grand Theft Auto V     XOne             2014        Action   \n",
       "179  Call of Duty: Advanced Warfare     XOne             2014       Shooter   \n",
       "242               Halo 5: Guardians     XOne             2015       Shooter   \n",
       "270                       Fallout 4     XOne             2015  Role-Playing   \n",
       "\n",
       "     na_sales  eu_sales  jp_sales  other_sales  critic_score  user_score  \\\n",
       "99       4.59      2.11      0.01         0.68            73        -2.0   \n",
       "165      2.81      2.19      0.00         0.47            97         7.9   \n",
       "179      3.22      1.55      0.01         0.48            81         5.4   \n",
       "242      2.78      1.27      0.03         0.41            84         6.4   \n",
       "270      2.51      1.32      0.01         0.38            88         6.2   \n",
       "\n",
       "      rating  total_sales  \n",
       "99   unknown         7.39  \n",
       "165        M         5.47  \n",
       "179        M         5.26  \n",
       "242        T         4.49  \n",
       "270        M         4.22  "
      ]
     },
     "execution_count": 64,
     "metadata": {},
     "output_type": "execute_result"
    }
   ],
   "source": [
    "xone.head()"
   ]
  },
  {
   "cell_type": "code",
   "execution_count": 122,
   "metadata": {},
   "outputs": [
    {
     "data": {
      "image/png": "[encoded data removed]",
      "text/plain": [
       "<Figure size 630x490 with 2 Axes>"
      ]
     },
     "metadata": {
      "needs_background": "light"
     },
     "output_type": "display_data"
    }
   ],
   "source": [
    "# Plot\n",
    "plt.figure(figsize=(9,7), dpi= 70)\n",
    "sns.heatmap(xone[['critic_score', 'user_score', 'total_sales']].query('user_score > 0').corr(), xticklabels=xone[['critic_score', 'user_score', 'total_sales']].corr().columns, yticklabels=xone[['critic_score', 'user_score', 'total_sales']].corr().columns, cmap='RdYlGn', center=0, annot=True)\n",
    "\n",
    "# Decorations\n",
    "plt.title('Корреляция параметров отзывов и общих продаж на XOne \\n', fontsize=12)\n",
    "plt.xticks(fontsize=10)\n",
    "plt.yticks(fontsize=10)\n",
    "plt.show()"
   ]
  },
  {
   "cell_type": "markdown",
   "metadata": {},
   "source": [
    "Точно такое же значение коэффициента корреляции между параметрами оценки критиков и общими продажами показали данные на платформе XOne, коэффициент корреляции между параметрами составил 0,41. Как и на PS4 похожая ситуация с оценками пользователей и общими продажами на платформе XOne, коэффициент корреляции между показателями составил -0.06."
   ]
  },
  {
   "cell_type": "markdown",
   "metadata": {},
   "source": [
    "**Актуальные платформы и корреляция по оценкам и общим продажам**"
   ]
  },
  {
   "cell_type": "markdown",
   "metadata": {},
   "source": [
    "Выделим остальные платформы и посмотрим как дела обстоят у 3DS и Wiiu."
   ]
  },
  {
   "cell_type": "code",
   "execution_count": 66,
   "metadata": {},
   "outputs": [],
   "source": [
    "threeds_wiiu = df.query('platform in (\"3DS\",\"WiiU\") and year_of_release >= 2012')"
   ]
  },
  {
   "cell_type": "code",
   "execution_count": 67,
   "metadata": {},
   "outputs": [
    {
     "data": {
      "text/plain": [
       "3DS     396\n",
       "WiiU    147\n",
       "Name: platform, dtype: int64"
      ]
     },
     "execution_count": 67,
     "metadata": {},
     "output_type": "execute_result"
    }
   ],
   "source": [
    "threeds_wiiu['platform'].value_counts()"
   ]
  },
  {
   "cell_type": "code",
   "execution_count": 124,
   "metadata": {},
   "outputs": [
    {
     "data": {
      "image/png": "[encoded data removed]",
      "text/plain": [
       "<Figure size 700x560 with 2 Axes>"
      ]
     },
     "metadata": {
      "needs_background": "light"
     },
     "output_type": "display_data"
    }
   ],
   "source": [
    "# Plot\n",
    "plt.figure(figsize=(10,8), dpi= 70)\n",
    "sns.heatmap(threeds_wiiu[['critic_score', 'user_score', 'total_sales']].query('user_score > 0').corr(), xticklabels=top_four_actual_platform[['critic_score', 'user_score', 'total_sales']].corr().columns, yticklabels=top_four_actual_platform[['critic_score', 'user_score', 'total_sales']].corr().columns, cmap='RdYlGn', center=0, annot=True)\n",
    "\n",
    "# Decorations\n",
    "plt.title('Корреляция параметров отзывов и общих продаж на платформах 3DS и WiiU \\n', fontsize=12)\n",
    "plt.xticks(fontsize=11)\n",
    "plt.yticks(fontsize=11)\n",
    "plt.show()"
   ]
  },
  {
   "cell_type": "markdown",
   "metadata": {},
   "source": [
    "Общие продажи на актуальных платформах как и по предыдущим рассчетам показывают, что на продажи имеет прямое влияние параметр оценки критиков, коэффициент корреляции между параметрами составил 0.32, но помимо этого появилась прямая корреляция между параметрами оценки пользователей, показатель хоть и слабый, но положительный)."
   ]
  },
  {
   "cell_type": "markdown",
   "metadata": {},
   "source": [
    "**Вывод:**"
   ]
  },
  {
   "cell_type": "markdown",
   "metadata": {},
   "source": [
    "По итогам рассчетов можно сделать вывод, что прямое влияние на продажи оказывает параметр оценки критиков, на платформе PS4 коэффициент корреляции составил: 0.41, на Xone: 0.41, а на актуальных платформах от Нинтендо: 0.32. Также были построены диаграммы рассеяния, по которым мы смотрели как распределяются значения общих продаж и оценок пользователей и критиков по этой диаграмме тоже можно сделать вывод, что большие продажи связанны с высокими оценками, чего нельзя сказать о зависимости оценок пользователей и общих продаж."
   ]
  },
  {
   "cell_type": "markdown",
   "metadata": {},
   "source": [
    "Далее посмотрим на общее распределение игр по жанрам."
   ]
  },
  {
   "cell_type": "markdown",
   "metadata": {},
   "source": [
    "**Распределение игр по жанрам**"
   ]
  },
  {
   "cell_type": "markdown",
   "metadata": {},
   "source": [
    "Посмотрим распределние игр по жанрам. Посмотрим на самые прибыльные жанры и на самые не прибыльные жанры."
   ]
  },
  {
   "cell_type": "code",
   "execution_count": 69,
   "metadata": {},
   "outputs": [],
   "source": [
    "genre_actual_time = df.query('year_of_release >= 2012').groupby('genre').agg({'genre':'count', 'total_sales': ['sum','mean']})"
   ]
  },
  {
   "cell_type": "code",
   "execution_count": 70,
   "metadata": {},
   "outputs": [],
   "source": [
    "genre_actual_time.rename(columns={'genre':'count', 'sum':'sales_sum', 'mean':'sales_mean'}, inplace=True)"
   ]
  },
  {
   "cell_type": "code",
   "execution_count": 71,
   "metadata": {},
   "outputs": [
    {
     "data": {
      "text/html": [
       "<div>\n",
       "<style scoped>\n",
       "    .dataframe tbody tr th:only-of-type {\n",
       "        vertical-align: middle;\n",
       "    }\n",
       "\n",
       "    .dataframe tbody tr th {\n",
       "        vertical-align: top;\n",
       "    }\n",
       "\n",
       "    .dataframe thead th {\n",
       "        text-align: right;\n",
       "    }\n",
       "</style>\n",
       "<table border=\"1\" class=\"dataframe\">\n",
       "  <thead>\n",
       "    <tr style=\"text-align: right;\">\n",
       "      <th></th>\n",
       "      <th>count</th>\n",
       "      <th>sales_sum</th>\n",
       "      <th>sales_mean</th>\n",
       "    </tr>\n",
       "    <tr>\n",
       "      <th>genre</th>\n",
       "      <th></th>\n",
       "      <th></th>\n",
       "      <th></th>\n",
       "    </tr>\n",
       "  </thead>\n",
       "  <tbody>\n",
       "    <tr>\n",
       "      <th>Action</th>\n",
       "      <td>1031</td>\n",
       "      <td>441.12</td>\n",
       "      <td>0.427856</td>\n",
       "    </tr>\n",
       "    <tr>\n",
       "      <th>Adventure</th>\n",
       "      <td>302</td>\n",
       "      <td>29.43</td>\n",
       "      <td>0.097450</td>\n",
       "    </tr>\n",
       "    <tr>\n",
       "      <th>Fighting</th>\n",
       "      <td>109</td>\n",
       "      <td>44.49</td>\n",
       "      <td>0.408165</td>\n",
       "    </tr>\n",
       "    <tr>\n",
       "      <th>Misc</th>\n",
       "      <td>192</td>\n",
       "      <td>85.04</td>\n",
       "      <td>0.442917</td>\n",
       "    </tr>\n",
       "    <tr>\n",
       "      <th>Platform</th>\n",
       "      <td>85</td>\n",
       "      <td>61.00</td>\n",
       "      <td>0.717647</td>\n",
       "    </tr>\n",
       "    <tr>\n",
       "      <th>Puzzle</th>\n",
       "      <td>28</td>\n",
       "      <td>4.89</td>\n",
       "      <td>0.174643</td>\n",
       "    </tr>\n",
       "    <tr>\n",
       "      <th>Racing</th>\n",
       "      <td>115</td>\n",
       "      <td>53.50</td>\n",
       "      <td>0.465217</td>\n",
       "    </tr>\n",
       "    <tr>\n",
       "      <th>Role-Playing</th>\n",
       "      <td>370</td>\n",
       "      <td>192.80</td>\n",
       "      <td>0.521081</td>\n",
       "    </tr>\n",
       "    <tr>\n",
       "      <th>Shooter</th>\n",
       "      <td>235</td>\n",
       "      <td>304.73</td>\n",
       "      <td>1.296723</td>\n",
       "    </tr>\n",
       "    <tr>\n",
       "      <th>Simulation</th>\n",
       "      <td>80</td>\n",
       "      <td>35.12</td>\n",
       "      <td>0.439000</td>\n",
       "    </tr>\n",
       "    <tr>\n",
       "      <th>Sports</th>\n",
       "      <td>268</td>\n",
       "      <td>181.07</td>\n",
       "      <td>0.675634</td>\n",
       "    </tr>\n",
       "    <tr>\n",
       "      <th>Strategy</th>\n",
       "      <td>71</td>\n",
       "      <td>13.34</td>\n",
       "      <td>0.187887</td>\n",
       "    </tr>\n",
       "  </tbody>\n",
       "</table>\n",
       "</div>"
      ],
      "text/plain": [
       "              count  sales_sum  sales_mean\n",
       "genre                                     \n",
       "Action         1031     441.12    0.427856\n",
       "Adventure       302      29.43    0.097450\n",
       "Fighting        109      44.49    0.408165\n",
       "Misc            192      85.04    0.442917\n",
       "Platform         85      61.00    0.717647\n",
       "Puzzle           28       4.89    0.174643\n",
       "Racing          115      53.50    0.465217\n",
       "Role-Playing    370     192.80    0.521081\n",
       "Shooter         235     304.73    1.296723\n",
       "Simulation       80      35.12    0.439000\n",
       "Sports          268     181.07    0.675634\n",
       "Strategy         71      13.34    0.187887"
      ]
     },
     "execution_count": 71,
     "metadata": {},
     "output_type": "execute_result"
    }
   ],
   "source": [
    "genre_actual_time.columns = genre_actual_time.columns.droplevel(level=0)\n",
    "genre_actual_time"
   ]
  },
  {
   "cell_type": "markdown",
   "metadata": {},
   "source": [
    "По сгрупированной таблице с жанрами видно, что в тройке популярных жанров на актуальных платформах находятся такие жанры, как:\n",
    "* Shooter - 235\tигр;\n",
    "* Platform - 85 игр;\n",
    "* Sports - 268 игр."
   ]
  },
  {
   "cell_type": "markdown",
   "metadata": {},
   "source": [
    "Среди тройки самых не популярных жанров можно выделить:\n",
    "* Strategy - 71\tигры;\n",
    "* Puzlle - 28 игр;\n",
    "* Adventure - 302 игры;"
   ]
  },
  {
   "cell_type": "markdown",
   "metadata": {},
   "source": [
    "Среди выпущенных игр чаще всего разработчики делали игры в жанре:\n",
    "* Action - 1031 игра;\n",
    "* Role-Playing - 370 игр;\n",
    "* Adventure - 302 игры."
   ]
  },
  {
   "cell_type": "markdown",
   "metadata": {},
   "source": [
    "Среди игр редких жанров можно отметить:\n",
    "* Simulation - 80 игр;\n",
    "* Strategy - 71 игра;\n",
    "* Puzlle - 28 игр."
   ]
  },
  {
   "cell_type": "markdown",
   "metadata": {},
   "source": [
    "**Вывод:**"
   ]
  },
  {
   "cell_type": "markdown",
   "metadata": {},
   "source": [
    "Больше всего разработчики делали игры в жанре Action - 1031 игра была выпущенна под этим жанром, но если отталкиваться от продаж главное тут не количество, а качество. Так общих продаж в среднем на игру жанра Shooter приходиться около 1,3 млн, по этому показателю жанр Shooter лидирует, также в эту тройку вошли жанр Sports и Platform. Самыми не продаваемыми играми стали игры жанра Strategy, Simulation и Puzzle."
   ]
  },
  {
   "cell_type": "markdown",
   "metadata": {},
   "source": [
    "## Портрет пользователя каждого региона"
   ]
  },
  {
   "cell_type": "markdown",
   "metadata": {},
   "source": [
    "В этом этапе нам необходимо определить самые популярные платформы (топ-5) для разных регионов (NA, EU, JP). Посмотреть на самые популярные жанры для разных регионов, посомтреть на их разницу между собой. Также посмотреть как влияет рейтинг ESRB на продажи в отдельном регионе?"
   ]
  },
  {
   "cell_type": "markdown",
   "metadata": {},
   "source": [
    "Выделим актуальные платформы в разных регионах, посмотрим, что находиться в топе платформ и жанров игр в разных регионах."
   ]
  },
  {
   "cell_type": "markdown",
   "metadata": {},
   "source": [
    "**Анализ региона North America**"
   ]
  },
  {
   "cell_type": "code",
   "execution_count": 72,
   "metadata": {},
   "outputs": [],
   "source": [
    "df_na = df.query('na_sales > 0 and year_of_release >= 2013') # создание таблицы с данными из Северной Америки"
   ]
  },
  {
   "cell_type": "code",
   "execution_count": 73,
   "metadata": {
    "scrolled": true
   },
   "outputs": [
    {
     "data": {
      "text/html": [
       "<div>\n",
       "<style scoped>\n",
       "    .dataframe tbody tr th:only-of-type {\n",
       "        vertical-align: middle;\n",
       "    }\n",
       "\n",
       "    .dataframe tbody tr th {\n",
       "        vertical-align: top;\n",
       "    }\n",
       "\n",
       "    .dataframe thead th {\n",
       "        text-align: right;\n",
       "    }\n",
       "</style>\n",
       "<table border=\"1\" class=\"dataframe\">\n",
       "  <thead>\n",
       "    <tr style=\"text-align: right;\">\n",
       "      <th></th>\n",
       "      <th>platform</th>\n",
       "      <th>na_sales</th>\n",
       "      <th>structure</th>\n",
       "    </tr>\n",
       "    <tr>\n",
       "      <th>platform</th>\n",
       "      <th></th>\n",
       "      <th></th>\n",
       "      <th></th>\n",
       "    </tr>\n",
       "  </thead>\n",
       "  <tbody>\n",
       "    <tr>\n",
       "      <th>PS4</th>\n",
       "      <td>294</td>\n",
       "      <td>108.74</td>\n",
       "      <td>0.25</td>\n",
       "    </tr>\n",
       "    <tr>\n",
       "      <th>XOne</th>\n",
       "      <td>227</td>\n",
       "      <td>93.12</td>\n",
       "      <td>0.21</td>\n",
       "    </tr>\n",
       "    <tr>\n",
       "      <th>X360</th>\n",
       "      <td>170</td>\n",
       "      <td>81.66</td>\n",
       "      <td>0.19</td>\n",
       "    </tr>\n",
       "    <tr>\n",
       "      <th>PS3</th>\n",
       "      <td>211</td>\n",
       "      <td>63.50</td>\n",
       "      <td>0.15</td>\n",
       "    </tr>\n",
       "    <tr>\n",
       "      <th>3DS</th>\n",
       "      <td>119</td>\n",
       "      <td>38.20</td>\n",
       "      <td>0.09</td>\n",
       "    </tr>\n",
       "    <tr>\n",
       "      <th>WiiU</th>\n",
       "      <td>92</td>\n",
       "      <td>29.21</td>\n",
       "      <td>0.07</td>\n",
       "    </tr>\n",
       "    <tr>\n",
       "      <th>PC</th>\n",
       "      <td>84</td>\n",
       "      <td>11.11</td>\n",
       "      <td>0.03</td>\n",
       "    </tr>\n",
       "    <tr>\n",
       "      <th>Wii</th>\n",
       "      <td>14</td>\n",
       "      <td>6.56</td>\n",
       "      <td>0.01</td>\n",
       "    </tr>\n",
       "    <tr>\n",
       "      <th>PSV</th>\n",
       "      <td>94</td>\n",
       "      <td>5.04</td>\n",
       "      <td>0.01</td>\n",
       "    </tr>\n",
       "    <tr>\n",
       "      <th>DS</th>\n",
       "      <td>4</td>\n",
       "      <td>0.57</td>\n",
       "      <td>0.00</td>\n",
       "    </tr>\n",
       "  </tbody>\n",
       "</table>\n",
       "</div>"
      ],
      "text/plain": [
       "          platform  na_sales  structure\n",
       "platform                               \n",
       "PS4            294    108.74       0.25\n",
       "XOne           227     93.12       0.21\n",
       "X360           170     81.66       0.19\n",
       "PS3            211     63.50       0.15\n",
       "3DS            119     38.20       0.09\n",
       "WiiU            92     29.21       0.07\n",
       "PC              84     11.11       0.03\n",
       "Wii             14      6.56       0.01\n",
       "PSV             94      5.04       0.01\n",
       "DS               4      0.57       0.00"
      ]
     },
     "execution_count": 73,
     "metadata": {},
     "output_type": "execute_result"
    }
   ],
   "source": [
    "na_platforms = df_na.groupby('platform').agg({'platform':'count', 'na_sales':'sum'})\n",
    "na_platforms['structure'] = na_platforms['na_sales'] / na_platforms['na_sales'].sum()\n",
    "na_platforms['structure'] = na_platforms['structure'].round(2)\n",
    "na_platforms.sort_values(by = 'na_sales', ascending=False)"
   ]
  },
  {
   "cell_type": "markdown",
   "metadata": {},
   "source": [
    "Среди самых популярных платформ в Северной Америке располагаются:\n",
    "* PS4 - 108.74 млн. продаж и 294 игры;\n",
    "* XOne - 93.12 млн. продаж и 227 игр; \n",
    "* X360 - 81.66 млн. продаж и 170 игр;\n",
    "* PS3 - 63.50 млн. продаж и 211 игр;\n",
    "* 3DS - 38.20 млн. продаж и 119 игр."
   ]
  },
  {
   "cell_type": "markdown",
   "metadata": {},
   "source": [
    "Для Северной Америки гигаты индустрии PS4 и XOne идут почти бок о бок, но первое место все таки у Сони, продажи на эту платформу составляют 25 процентов от общей суммы продаж в Северной Америке. При этом у Сони значительно больше игр и платформа может похвастаться своими эксклюзивами."
   ]
  },
  {
   "cell_type": "markdown",
   "metadata": {},
   "source": [
    "*Посмотрим на самые популярные жанры игр в Северной Америке.*"
   ]
  },
  {
   "cell_type": "code",
   "execution_count": 74,
   "metadata": {},
   "outputs": [
    {
     "data": {
      "text/html": [
       "<div>\n",
       "<style scoped>\n",
       "    .dataframe tbody tr th:only-of-type {\n",
       "        vertical-align: middle;\n",
       "    }\n",
       "\n",
       "    .dataframe tbody tr th {\n",
       "        vertical-align: top;\n",
       "    }\n",
       "\n",
       "    .dataframe thead th {\n",
       "        text-align: right;\n",
       "    }\n",
       "</style>\n",
       "<table border=\"1\" class=\"dataframe\">\n",
       "  <thead>\n",
       "    <tr style=\"text-align: right;\">\n",
       "      <th></th>\n",
       "      <th>genre</th>\n",
       "      <th>na_sales</th>\n",
       "      <th>structure</th>\n",
       "    </tr>\n",
       "    <tr>\n",
       "      <th>genre</th>\n",
       "      <th></th>\n",
       "      <th></th>\n",
       "      <th></th>\n",
       "    </tr>\n",
       "  </thead>\n",
       "  <tbody>\n",
       "    <tr>\n",
       "      <th>Action</th>\n",
       "      <td>442</td>\n",
       "      <td>126.05</td>\n",
       "      <td>0.29</td>\n",
       "    </tr>\n",
       "    <tr>\n",
       "      <th>Shooter</th>\n",
       "      <td>171</td>\n",
       "      <td>109.74</td>\n",
       "      <td>0.25</td>\n",
       "    </tr>\n",
       "    <tr>\n",
       "      <th>Sports</th>\n",
       "      <td>143</td>\n",
       "      <td>65.27</td>\n",
       "      <td>0.15</td>\n",
       "    </tr>\n",
       "    <tr>\n",
       "      <th>Role-Playing</th>\n",
       "      <td>158</td>\n",
       "      <td>46.40</td>\n",
       "      <td>0.11</td>\n",
       "    </tr>\n",
       "    <tr>\n",
       "      <th>Misc</th>\n",
       "      <td>84</td>\n",
       "      <td>27.49</td>\n",
       "      <td>0.06</td>\n",
       "    </tr>\n",
       "    <tr>\n",
       "      <th>Platform</th>\n",
       "      <td>67</td>\n",
       "      <td>18.14</td>\n",
       "      <td>0.04</td>\n",
       "    </tr>\n",
       "    <tr>\n",
       "      <th>Fighting</th>\n",
       "      <td>52</td>\n",
       "      <td>15.55</td>\n",
       "      <td>0.04</td>\n",
       "    </tr>\n",
       "    <tr>\n",
       "      <th>Racing</th>\n",
       "      <td>55</td>\n",
       "      <td>12.96</td>\n",
       "      <td>0.03</td>\n",
       "    </tr>\n",
       "    <tr>\n",
       "      <th>Adventure</th>\n",
       "      <td>80</td>\n",
       "      <td>7.14</td>\n",
       "      <td>0.02</td>\n",
       "    </tr>\n",
       "    <tr>\n",
       "      <th>Simulation</th>\n",
       "      <td>28</td>\n",
       "      <td>4.86</td>\n",
       "      <td>0.01</td>\n",
       "    </tr>\n",
       "    <tr>\n",
       "      <th>Strategy</th>\n",
       "      <td>24</td>\n",
       "      <td>3.28</td>\n",
       "      <td>0.01</td>\n",
       "    </tr>\n",
       "    <tr>\n",
       "      <th>Puzzle</th>\n",
       "      <td>5</td>\n",
       "      <td>0.83</td>\n",
       "      <td>0.00</td>\n",
       "    </tr>\n",
       "  </tbody>\n",
       "</table>\n",
       "</div>"
      ],
      "text/plain": [
       "              genre  na_sales  structure\n",
       "genre                                   \n",
       "Action          442    126.05       0.29\n",
       "Shooter         171    109.74       0.25\n",
       "Sports          143     65.27       0.15\n",
       "Role-Playing    158     46.40       0.11\n",
       "Misc             84     27.49       0.06\n",
       "Platform         67     18.14       0.04\n",
       "Fighting         52     15.55       0.04\n",
       "Racing           55     12.96       0.03\n",
       "Adventure        80      7.14       0.02\n",
       "Simulation       28      4.86       0.01\n",
       "Strategy         24      3.28       0.01\n",
       "Puzzle            5      0.83       0.00"
      ]
     },
     "execution_count": 74,
     "metadata": {},
     "output_type": "execute_result"
    }
   ],
   "source": [
    "na_genre = df_na.groupby('genre').agg({'genre':'count', 'na_sales':'sum'})\n",
    "na_genre['structure'] = na_genre['na_sales'] / na_genre['na_sales'].sum()\n",
    "na_genre['structure'] = na_genre['structure'].round(2) \n",
    "na_genre.sort_values(by = 'na_sales', ascending=False)"
   ]
  },
  {
   "cell_type": "markdown",
   "metadata": {},
   "source": [
    "В топ-5 жанров игр в Северной Америке вошли:\n",
    "* Action;\n",
    "* Shooter;\n",
    "* Sports;\n",
    "* Role-Playing;\n",
    "* Misc.\n",
    "\n",
    "Значительную долю в общей структуре продаж по жанрам в Северной Америке имеют жанры Action и Shooter (54 % от общего числа проданных игр в Северной Америке приходятся именно на эти жанры)."
   ]
  },
  {
   "cell_type": "markdown",
   "metadata": {},
   "source": [
    "**Анализ региона Europe**"
   ]
  },
  {
   "cell_type": "code",
   "execution_count": 75,
   "metadata": {},
   "outputs": [],
   "source": [
    "df_eu = df.query('eu_sales > 0 and year_of_release >= 2013')"
   ]
  },
  {
   "cell_type": "code",
   "execution_count": 76,
   "metadata": {},
   "outputs": [
    {
     "data": {
      "text/html": [
       "<div>\n",
       "<style scoped>\n",
       "    .dataframe tbody tr th:only-of-type {\n",
       "        vertical-align: middle;\n",
       "    }\n",
       "\n",
       "    .dataframe tbody tr th {\n",
       "        vertical-align: top;\n",
       "    }\n",
       "\n",
       "    .dataframe thead th {\n",
       "        text-align: right;\n",
       "    }\n",
       "</style>\n",
       "<table border=\"1\" class=\"dataframe\">\n",
       "  <thead>\n",
       "    <tr style=\"text-align: right;\">\n",
       "      <th></th>\n",
       "      <th>platform</th>\n",
       "      <th>eu_sales</th>\n",
       "      <th>structure</th>\n",
       "    </tr>\n",
       "    <tr>\n",
       "      <th>platform</th>\n",
       "      <th></th>\n",
       "      <th></th>\n",
       "      <th></th>\n",
       "    </tr>\n",
       "  </thead>\n",
       "  <tbody>\n",
       "    <tr>\n",
       "      <th>PS4</th>\n",
       "      <td>290</td>\n",
       "      <td>141.09</td>\n",
       "      <td>0.36</td>\n",
       "    </tr>\n",
       "    <tr>\n",
       "      <th>PS3</th>\n",
       "      <td>212</td>\n",
       "      <td>67.81</td>\n",
       "      <td>0.17</td>\n",
       "    </tr>\n",
       "    <tr>\n",
       "      <th>XOne</th>\n",
       "      <td>218</td>\n",
       "      <td>51.59</td>\n",
       "      <td>0.13</td>\n",
       "    </tr>\n",
       "    <tr>\n",
       "      <th>X360</th>\n",
       "      <td>169</td>\n",
       "      <td>42.52</td>\n",
       "      <td>0.11</td>\n",
       "    </tr>\n",
       "    <tr>\n",
       "      <th>3DS</th>\n",
       "      <td>122</td>\n",
       "      <td>30.96</td>\n",
       "      <td>0.08</td>\n",
       "    </tr>\n",
       "    <tr>\n",
       "      <th>PC</th>\n",
       "      <td>187</td>\n",
       "      <td>25.36</td>\n",
       "      <td>0.06</td>\n",
       "    </tr>\n",
       "    <tr>\n",
       "      <th>WiiU</th>\n",
       "      <td>96</td>\n",
       "      <td>19.85</td>\n",
       "      <td>0.05</td>\n",
       "    </tr>\n",
       "    <tr>\n",
       "      <th>PSV</th>\n",
       "      <td>96</td>\n",
       "      <td>6.10</td>\n",
       "      <td>0.02</td>\n",
       "    </tr>\n",
       "    <tr>\n",
       "      <th>Wii</th>\n",
       "      <td>22</td>\n",
       "      <td>5.93</td>\n",
       "      <td>0.02</td>\n",
       "    </tr>\n",
       "    <tr>\n",
       "      <th>DS</th>\n",
       "      <td>8</td>\n",
       "      <td>0.85</td>\n",
       "      <td>0.00</td>\n",
       "    </tr>\n",
       "    <tr>\n",
       "      <th>PSP</th>\n",
       "      <td>2</td>\n",
       "      <td>0.17</td>\n",
       "      <td>0.00</td>\n",
       "    </tr>\n",
       "  </tbody>\n",
       "</table>\n",
       "</div>"
      ],
      "text/plain": [
       "          platform  eu_sales  structure\n",
       "platform                               \n",
       "PS4            290    141.09       0.36\n",
       "PS3            212     67.81       0.17\n",
       "XOne           218     51.59       0.13\n",
       "X360           169     42.52       0.11\n",
       "3DS            122     30.96       0.08\n",
       "PC             187     25.36       0.06\n",
       "WiiU            96     19.85       0.05\n",
       "PSV             96      6.10       0.02\n",
       "Wii             22      5.93       0.02\n",
       "DS               8      0.85       0.00\n",
       "PSP              2      0.17       0.00"
      ]
     },
     "execution_count": 76,
     "metadata": {},
     "output_type": "execute_result"
    }
   ],
   "source": [
    "eu_platforms = df_eu.groupby('platform').agg({'platform':'count', 'eu_sales':'sum'})\n",
    "eu_platforms['structure'] = eu_platforms['eu_sales'] / eu_platforms['eu_sales'].sum()\n",
    "eu_platforms['structure'] = eu_platforms['structure'].round(2) \n",
    "eu_platforms.sort_values(by = 'eu_sales', ascending=False)"
   ]
  },
  {
   "cell_type": "markdown",
   "metadata": {},
   "source": [
    "Среди самых популярных платформ в Европе располагаются:\n",
    "* PS4 - 141.09 млн. продаж и 290 игр;\n",
    "* PS3 - 67.81 млн. продаж и 212 игр; \n",
    "* XOne - 51.59 млн. продаж и 218 игр;\n",
    "* X360 - 42.52 млн. продаж и 169 игр;\n",
    "* 3DS - 30.96 млн. продаж и 122 игры."
   ]
  },
  {
   "cell_type": "markdown",
   "metadata": {},
   "source": [
    "В отличии от Северной Америки в Европе сильно лидирует PS4 и даже PS3 обгоняет новый XOne. В общей структуре продаж игр на платформу PS4 в Европе пришлось 36 процентов продаж от общего. Приставка от Сони лидер в двух странах, посмотрим, как дела обстоят в Японии."
   ]
  },
  {
   "cell_type": "markdown",
   "metadata": {},
   "source": [
    "*Самые популярные жанры игр в Европе.*"
   ]
  },
  {
   "cell_type": "code",
   "execution_count": 77,
   "metadata": {
    "scrolled": false
   },
   "outputs": [
    {
     "data": {
      "text/html": [
       "<div>\n",
       "<style scoped>\n",
       "    .dataframe tbody tr th:only-of-type {\n",
       "        vertical-align: middle;\n",
       "    }\n",
       "\n",
       "    .dataframe tbody tr th {\n",
       "        vertical-align: top;\n",
       "    }\n",
       "\n",
       "    .dataframe thead th {\n",
       "        text-align: right;\n",
       "    }\n",
       "</style>\n",
       "<table border=\"1\" class=\"dataframe\">\n",
       "  <thead>\n",
       "    <tr style=\"text-align: right;\">\n",
       "      <th></th>\n",
       "      <th>genre</th>\n",
       "      <th>eu_sales</th>\n",
       "      <th>structure</th>\n",
       "    </tr>\n",
       "    <tr>\n",
       "      <th>genre</th>\n",
       "      <th></th>\n",
       "      <th></th>\n",
       "      <th></th>\n",
       "    </tr>\n",
       "  </thead>\n",
       "  <tbody>\n",
       "    <tr>\n",
       "      <th>Action</th>\n",
       "      <td>494</td>\n",
       "      <td>118.13</td>\n",
       "      <td>0.30</td>\n",
       "    </tr>\n",
       "    <tr>\n",
       "      <th>Shooter</th>\n",
       "      <td>171</td>\n",
       "      <td>87.86</td>\n",
       "      <td>0.22</td>\n",
       "    </tr>\n",
       "    <tr>\n",
       "      <th>Sports</th>\n",
       "      <td>169</td>\n",
       "      <td>60.52</td>\n",
       "      <td>0.15</td>\n",
       "    </tr>\n",
       "    <tr>\n",
       "      <th>Role-Playing</th>\n",
       "      <td>155</td>\n",
       "      <td>36.97</td>\n",
       "      <td>0.09</td>\n",
       "    </tr>\n",
       "    <tr>\n",
       "      <th>Racing</th>\n",
       "      <td>78</td>\n",
       "      <td>20.19</td>\n",
       "      <td>0.05</td>\n",
       "    </tr>\n",
       "    <tr>\n",
       "      <th>Misc</th>\n",
       "      <td>80</td>\n",
       "      <td>20.04</td>\n",
       "      <td>0.05</td>\n",
       "    </tr>\n",
       "    <tr>\n",
       "      <th>Platform</th>\n",
       "      <td>62</td>\n",
       "      <td>15.58</td>\n",
       "      <td>0.04</td>\n",
       "    </tr>\n",
       "    <tr>\n",
       "      <th>Simulation</th>\n",
       "      <td>44</td>\n",
       "      <td>10.92</td>\n",
       "      <td>0.03</td>\n",
       "    </tr>\n",
       "    <tr>\n",
       "      <th>Fighting</th>\n",
       "      <td>49</td>\n",
       "      <td>8.55</td>\n",
       "      <td>0.02</td>\n",
       "    </tr>\n",
       "    <tr>\n",
       "      <th>Adventure</th>\n",
       "      <td>79</td>\n",
       "      <td>8.25</td>\n",
       "      <td>0.02</td>\n",
       "    </tr>\n",
       "    <tr>\n",
       "      <th>Strategy</th>\n",
       "      <td>34</td>\n",
       "      <td>4.22</td>\n",
       "      <td>0.01</td>\n",
       "    </tr>\n",
       "    <tr>\n",
       "      <th>Puzzle</th>\n",
       "      <td>7</td>\n",
       "      <td>1.00</td>\n",
       "      <td>0.00</td>\n",
       "    </tr>\n",
       "  </tbody>\n",
       "</table>\n",
       "</div>"
      ],
      "text/plain": [
       "              genre  eu_sales  structure\n",
       "genre                                   \n",
       "Action          494    118.13       0.30\n",
       "Shooter         171     87.86       0.22\n",
       "Sports          169     60.52       0.15\n",
       "Role-Playing    155     36.97       0.09\n",
       "Racing           78     20.19       0.05\n",
       "Misc             80     20.04       0.05\n",
       "Platform         62     15.58       0.04\n",
       "Simulation       44     10.92       0.03\n",
       "Fighting         49      8.55       0.02\n",
       "Adventure        79      8.25       0.02\n",
       "Strategy         34      4.22       0.01\n",
       "Puzzle            7      1.00       0.00"
      ]
     },
     "execution_count": 77,
     "metadata": {},
     "output_type": "execute_result"
    }
   ],
   "source": [
    "eu_genre = df_eu.groupby('genre').agg({'genre':'count', 'eu_sales':'sum'})\n",
    "eu_genre['structure'] = eu_genre['eu_sales'] / eu_genre['eu_sales'].sum()\n",
    "eu_genre['structure'] = eu_genre['structure'].round(2) \n",
    "eu_genre.sort_values(by = 'eu_sales', ascending=False)"
   ]
  },
  {
   "cell_type": "markdown",
   "metadata": {},
   "source": [
    "В топ-5 жанров игр в Европе вошли:\n",
    "* Action;\n",
    "* Shooter;\n",
    "* Sports;\n",
    "* Role-Playing;\n",
    "* Racing.\n",
    "\n",
    "Распределение жанров в Европе очень похоже на распределение жанров в Северной Америке, но есть единственное отличие пятый по популярности жанр в Европе - это Racing, в Америке эту строчку занимает жанр Misc. \n",
    "\n",
    "Значительную долю в общей структуре продаж по жанрам в Европе имеют жанры Action и Shooter (52 % от общего числа проданных игр в Европе приходятся именно на эти жанры)."
   ]
  },
  {
   "cell_type": "markdown",
   "metadata": {},
   "source": [
    "**Анализ региона Japan**"
   ]
  },
  {
   "cell_type": "code",
   "execution_count": 78,
   "metadata": {},
   "outputs": [],
   "source": [
    "df_jp = df.query('jp_sales > 0 and year_of_release >= 2013')"
   ]
  },
  {
   "cell_type": "code",
   "execution_count": 79,
   "metadata": {},
   "outputs": [
    {
     "data": {
      "text/html": [
       "<div>\n",
       "<style scoped>\n",
       "    .dataframe tbody tr th:only-of-type {\n",
       "        vertical-align: middle;\n",
       "    }\n",
       "\n",
       "    .dataframe tbody tr th {\n",
       "        vertical-align: top;\n",
       "    }\n",
       "\n",
       "    .dataframe thead th {\n",
       "        text-align: right;\n",
       "    }\n",
       "</style>\n",
       "<table border=\"1\" class=\"dataframe\">\n",
       "  <thead>\n",
       "    <tr style=\"text-align: right;\">\n",
       "      <th></th>\n",
       "      <th>platform</th>\n",
       "      <th>jp_sales</th>\n",
       "      <th>structure</th>\n",
       "    </tr>\n",
       "    <tr>\n",
       "      <th>platform</th>\n",
       "      <th></th>\n",
       "      <th></th>\n",
       "      <th></th>\n",
       "    </tr>\n",
       "  </thead>\n",
       "  <tbody>\n",
       "    <tr>\n",
       "      <th>3DS</th>\n",
       "      <td>235</td>\n",
       "      <td>67.81</td>\n",
       "      <td>0.48</td>\n",
       "    </tr>\n",
       "    <tr>\n",
       "      <th>PS3</th>\n",
       "      <td>236</td>\n",
       "      <td>23.35</td>\n",
       "      <td>0.17</td>\n",
       "    </tr>\n",
       "    <tr>\n",
       "      <th>PSV</th>\n",
       "      <td>316</td>\n",
       "      <td>18.59</td>\n",
       "      <td>0.13</td>\n",
       "    </tr>\n",
       "    <tr>\n",
       "      <th>PS4</th>\n",
       "      <td>223</td>\n",
       "      <td>15.96</td>\n",
       "      <td>0.11</td>\n",
       "    </tr>\n",
       "    <tr>\n",
       "      <th>WiiU</th>\n",
       "      <td>57</td>\n",
       "      <td>10.88</td>\n",
       "      <td>0.08</td>\n",
       "    </tr>\n",
       "    <tr>\n",
       "      <th>PSP</th>\n",
       "      <td>66</td>\n",
       "      <td>3.29</td>\n",
       "      <td>0.02</td>\n",
       "    </tr>\n",
       "    <tr>\n",
       "      <th>X360</th>\n",
       "      <td>31</td>\n",
       "      <td>0.51</td>\n",
       "      <td>0.00</td>\n",
       "    </tr>\n",
       "    <tr>\n",
       "      <th>XOne</th>\n",
       "      <td>22</td>\n",
       "      <td>0.34</td>\n",
       "      <td>0.00</td>\n",
       "    </tr>\n",
       "    <tr>\n",
       "      <th>Wii</th>\n",
       "      <td>1</td>\n",
       "      <td>0.05</td>\n",
       "      <td>0.00</td>\n",
       "    </tr>\n",
       "  </tbody>\n",
       "</table>\n",
       "</div>"
      ],
      "text/plain": [
       "          platform  jp_sales  structure\n",
       "platform                               \n",
       "3DS            235     67.81       0.48\n",
       "PS3            236     23.35       0.17\n",
       "PSV            316     18.59       0.13\n",
       "PS4            223     15.96       0.11\n",
       "WiiU            57     10.88       0.08\n",
       "PSP             66      3.29       0.02\n",
       "X360            31      0.51       0.00\n",
       "XOne            22      0.34       0.00\n",
       "Wii              1      0.05       0.00"
      ]
     },
     "execution_count": 79,
     "metadata": {},
     "output_type": "execute_result"
    }
   ],
   "source": [
    "jp_platforms = df_jp.groupby('platform').agg({'platform':'count', 'jp_sales':'sum'})\n",
    "jp_platforms['structure'] = jp_platforms['jp_sales'] / jp_platforms['jp_sales'].sum()\n",
    "jp_platforms['structure'] = jp_platforms['structure'].round(2) \n",
    "jp_platforms.sort_values(by = 'jp_sales', ascending=False)"
   ]
  },
  {
   "cell_type": "markdown",
   "metadata": {},
   "source": [
    "Среди самых популярных платформ в Японии располагаются:\n",
    "* 3DS - 67.81 млн. продаж и 235 игр;\n",
    "* PS3 - 23.35 млн. продаж и 236 игр; \n",
    "* PSV - 18.59 млн. продаж и 316 игр;\n",
    "* PS4 - 15.96 млн. продаж и 223 игры;\n",
    "* WiiU - 10.88 млн. продаж и 57 игр."
   ]
  },
  {
   "cell_type": "markdown",
   "metadata": {},
   "source": [
    "В Японии в отличии от других регионов на первом месте 3DS от Nintendo, PS3 и забытая PSvita, а лидер других регионов всего лишь на четвортом месте. Что касается Xbox можно сказать, что новое и старое поколение не пользуется популярностью у Японцев."
   ]
  },
  {
   "cell_type": "markdown",
   "metadata": {},
   "source": [
    "*Посмотрим на самые популярные жанры игр в Японии.*"
   ]
  },
  {
   "cell_type": "code",
   "execution_count": 80,
   "metadata": {},
   "outputs": [
    {
     "data": {
      "text/html": [
       "<div>\n",
       "<style scoped>\n",
       "    .dataframe tbody tr th:only-of-type {\n",
       "        vertical-align: middle;\n",
       "    }\n",
       "\n",
       "    .dataframe tbody tr th {\n",
       "        vertical-align: top;\n",
       "    }\n",
       "\n",
       "    .dataframe thead th {\n",
       "        text-align: right;\n",
       "    }\n",
       "</style>\n",
       "<table border=\"1\" class=\"dataframe\">\n",
       "  <thead>\n",
       "    <tr style=\"text-align: right;\">\n",
       "      <th></th>\n",
       "      <th>genre</th>\n",
       "      <th>jp_sales</th>\n",
       "      <th>structure</th>\n",
       "    </tr>\n",
       "    <tr>\n",
       "      <th>genre</th>\n",
       "      <th></th>\n",
       "      <th></th>\n",
       "      <th></th>\n",
       "    </tr>\n",
       "  </thead>\n",
       "  <tbody>\n",
       "    <tr>\n",
       "      <th>Role-Playing</th>\n",
       "      <td>236</td>\n",
       "      <td>51.04</td>\n",
       "      <td>0.36</td>\n",
       "    </tr>\n",
       "    <tr>\n",
       "      <th>Action</th>\n",
       "      <td>400</td>\n",
       "      <td>40.49</td>\n",
       "      <td>0.29</td>\n",
       "    </tr>\n",
       "    <tr>\n",
       "      <th>Misc</th>\n",
       "      <td>90</td>\n",
       "      <td>9.20</td>\n",
       "      <td>0.07</td>\n",
       "    </tr>\n",
       "    <tr>\n",
       "      <th>Fighting</th>\n",
       "      <td>59</td>\n",
       "      <td>7.65</td>\n",
       "      <td>0.05</td>\n",
       "    </tr>\n",
       "    <tr>\n",
       "      <th>Shooter</th>\n",
       "      <td>69</td>\n",
       "      <td>6.61</td>\n",
       "      <td>0.05</td>\n",
       "    </tr>\n",
       "    <tr>\n",
       "      <th>Adventure</th>\n",
       "      <td>165</td>\n",
       "      <td>5.82</td>\n",
       "      <td>0.04</td>\n",
       "    </tr>\n",
       "    <tr>\n",
       "      <th>Sports</th>\n",
       "      <td>60</td>\n",
       "      <td>5.41</td>\n",
       "      <td>0.04</td>\n",
       "    </tr>\n",
       "    <tr>\n",
       "      <th>Platform</th>\n",
       "      <td>28</td>\n",
       "      <td>4.79</td>\n",
       "      <td>0.03</td>\n",
       "    </tr>\n",
       "    <tr>\n",
       "      <th>Simulation</th>\n",
       "      <td>21</td>\n",
       "      <td>4.52</td>\n",
       "      <td>0.03</td>\n",
       "    </tr>\n",
       "    <tr>\n",
       "      <th>Racing</th>\n",
       "      <td>26</td>\n",
       "      <td>2.30</td>\n",
       "      <td>0.02</td>\n",
       "    </tr>\n",
       "    <tr>\n",
       "      <th>Strategy</th>\n",
       "      <td>23</td>\n",
       "      <td>1.77</td>\n",
       "      <td>0.01</td>\n",
       "    </tr>\n",
       "    <tr>\n",
       "      <th>Puzzle</th>\n",
       "      <td>10</td>\n",
       "      <td>1.18</td>\n",
       "      <td>0.01</td>\n",
       "    </tr>\n",
       "  </tbody>\n",
       "</table>\n",
       "</div>"
      ],
      "text/plain": [
       "              genre  jp_sales  structure\n",
       "genre                                   \n",
       "Role-Playing    236     51.04       0.36\n",
       "Action          400     40.49       0.29\n",
       "Misc             90      9.20       0.07\n",
       "Fighting         59      7.65       0.05\n",
       "Shooter          69      6.61       0.05\n",
       "Adventure       165      5.82       0.04\n",
       "Sports           60      5.41       0.04\n",
       "Platform         28      4.79       0.03\n",
       "Simulation       21      4.52       0.03\n",
       "Racing           26      2.30       0.02\n",
       "Strategy         23      1.77       0.01\n",
       "Puzzle           10      1.18       0.01"
      ]
     },
     "execution_count": 80,
     "metadata": {},
     "output_type": "execute_result"
    }
   ],
   "source": [
    "jp_genre = df_jp.groupby('genre').agg({'genre':'count', 'jp_sales':'sum'})\n",
    "jp_genre['structure'] = jp_genre['jp_sales'] / jp_genre['jp_sales'].sum()\n",
    "jp_genre['structure'] = jp_genre['structure'].round(2) \n",
    "jp_genre.sort_values(by = 'jp_sales', ascending=False)"
   ]
  },
  {
   "cell_type": "markdown",
   "metadata": {},
   "source": [
    "В топ-5 жанров игр в Японии вошли:\n",
    "* Role-Playing;\n",
    "* Action;\n",
    "* Misc;\n",
    "* Fighting;\n",
    "* Shooter.\n",
    "\n",
    "Распределение жанров в Японии не похоже ни на один другой регион, здесь первое место занимает жанр Role-Playing, а также в отличии от других регионов в топ записался жанр Fighting. "
   ]
  },
  {
   "cell_type": "markdown",
   "metadata": {},
   "source": [
    "**Вывод:**"
   ]
  },
  {
   "cell_type": "markdown",
   "metadata": {},
   "source": [
    "На данном этапе мы посмотрели и выделили пятерки самых популярных игровых платформ для разных регионов, так для Северной Америки продажи на платформах PS4 и XOne имеют на двоих более 200 млн. продаж копий. Продажи на PS4 составляют 25 процентов от общей суммы продаж в Северной Америке. В отличии от Северной Америки в Европе сильно лидирует PS4 в общей структуре продаж игр на платформу PS4 в Европе пришлось 36 процентов продаж от общего. Исторически отличились в Японии, в от Америки и Европы на первом месте 3DS от Nintendo, а PS4 который был на первом месте рейтинга других регионов расположился на четвертом месте всего лишь с 15.96 млн. продаж. Что касается Xbox можно сказать, что новое и старое поколение не пользуется популярностью у Японцев и игр на двух поколениях очень мало всего 53 и продажи менее 1 млн. копий. Что касается жанров в Европе и Америке распределение в топе похоже друг на друга, но Японци и здесь отличились - не любят жанр Sports, но Role-Playing на первом месте, весьма интересно."
   ]
  },
  {
   "cell_type": "markdown",
   "metadata": {},
   "source": [
    "**Влияние рейтинга ESRB на разные регионы**"
   ]
  },
  {
   "cell_type": "markdown",
   "metadata": {},
   "source": [
    "Посмотрим какие рейтинги ESRB бывают."
   ]
  },
  {
   "cell_type": "code",
   "execution_count": 81,
   "metadata": {},
   "outputs": [
    {
     "data": {
      "text/plain": [
       "array(['E', 'unknown', 'M', 'T', 'E10+', 'K-A', 'AO', 'EC', 'RP'],\n",
       "      dtype=object)"
      ]
     },
     "execution_count": 81,
     "metadata": {},
     "output_type": "execute_result"
    }
   ],
   "source": [
    "df['rating'].unique() # смотрим уникальные значения в столбце rating"
   ]
  },
  {
   "cell_type": "code",
   "execution_count": 82,
   "metadata": {},
   "outputs": [
    {
     "data": {
      "text/plain": [
       "unknown    6676\n",
       "E          3921\n",
       "T          2905\n",
       "M          1536\n",
       "E10+       1393\n",
       "EC            8\n",
       "K-A           3\n",
       "AO            1\n",
       "RP            1\n",
       "Name: rating, dtype: int64"
      ]
     },
     "execution_count": 82,
     "metadata": {},
     "output_type": "execute_result"
    }
   ],
   "source": [
    "df['rating'].value_counts() # посчет значений "
   ]
  },
  {
   "cell_type": "markdown",
   "metadata": {},
   "source": [
    "Лидер рейтинга ESRB - это рейтинг E. Расшифруем все рейтинги:\n",
    "* E - («Everyone») — «Для всех»: Содержание вполне подходит для возрастной категории от 6 лет;\n",
    "* T - («Teen») — «Подросткам»: Игра подходит для лиц от 13 лет;\n",
    "* M - («Mature») — «Для взрослых»: Материалы игры не подходят для подростков младше 17 лет;\n",
    "* E10+ - («Everyone 10 and older») — «Для всех от 10 лет и старше»;\n",
    "* EC - («Early childhood») — «Для детей младшего возраста»: Игра подходит для детей от 3 лет;\n",
    "* RP - («Rating Pending») — «Рейтинг ожидается»: Продукт был отправлен в ESRB и ожидает присвоения рейтинга;\n",
    "* K-A - («Kids to Adults») — первоначально рейтинг E, этот рейтинг изменим на рейтинг E;\n",
    "* AO - («Adults Only 18+») — «Только для взрослых»: Содержание игры только для взрослых старше 18 лет."
   ]
  },
  {
   "cell_type": "markdown",
   "metadata": {},
   "source": [
    "Заменим рейтинг K-A на рейтинг E."
   ]
  },
  {
   "cell_type": "code",
   "execution_count": 83,
   "metadata": {},
   "outputs": [],
   "source": [
    "df.loc[(df.rating == 'K-A'), 'rating'] = \"E\" # замена значения рейтинга"
   ]
  },
  {
   "cell_type": "code",
   "execution_count": 84,
   "metadata": {},
   "outputs": [
    {
     "data": {
      "text/plain": [
       "unknown    6676\n",
       "E          3924\n",
       "T          2905\n",
       "M          1536\n",
       "E10+       1393\n",
       "EC            8\n",
       "AO            1\n",
       "RP            1\n",
       "Name: rating, dtype: int64"
      ]
     },
     "execution_count": 84,
     "metadata": {},
     "output_type": "execute_result"
    }
   ],
   "source": [
    "df['rating'].value_counts()"
   ]
  },
  {
   "cell_type": "markdown",
   "metadata": {},
   "source": [
    "**Влияние рейтинга ESRB на продажи в Северной Америке**"
   ]
  },
  {
   "cell_type": "code",
   "execution_count": 85,
   "metadata": {},
   "outputs": [
    {
     "data": {
      "text/html": [
       "<div>\n",
       "<style scoped>\n",
       "    .dataframe tbody tr th:only-of-type {\n",
       "        vertical-align: middle;\n",
       "    }\n",
       "\n",
       "    .dataframe tbody tr th {\n",
       "        vertical-align: top;\n",
       "    }\n",
       "\n",
       "    .dataframe thead th {\n",
       "        text-align: right;\n",
       "    }\n",
       "</style>\n",
       "<table border=\"1\" class=\"dataframe\">\n",
       "  <thead>\n",
       "    <tr style=\"text-align: right;\">\n",
       "      <th></th>\n",
       "      <th>game</th>\n",
       "      <th>na_sales</th>\n",
       "      <th>structure</th>\n",
       "    </tr>\n",
       "    <tr>\n",
       "      <th>rating</th>\n",
       "      <th></th>\n",
       "      <th></th>\n",
       "      <th></th>\n",
       "    </tr>\n",
       "  </thead>\n",
       "  <tbody>\n",
       "    <tr>\n",
       "      <th>M</th>\n",
       "      <td>334</td>\n",
       "      <td>165.21</td>\n",
       "      <td>0.38</td>\n",
       "    </tr>\n",
       "    <tr>\n",
       "      <th>unknown</th>\n",
       "      <td>298</td>\n",
       "      <td>89.42</td>\n",
       "      <td>0.20</td>\n",
       "    </tr>\n",
       "    <tr>\n",
       "      <th>E</th>\n",
       "      <td>217</td>\n",
       "      <td>79.05</td>\n",
       "      <td>0.18</td>\n",
       "    </tr>\n",
       "    <tr>\n",
       "      <th>E10+</th>\n",
       "      <td>220</td>\n",
       "      <td>54.24</td>\n",
       "      <td>0.12</td>\n",
       "    </tr>\n",
       "    <tr>\n",
       "      <th>T</th>\n",
       "      <td>240</td>\n",
       "      <td>49.79</td>\n",
       "      <td>0.11</td>\n",
       "    </tr>\n",
       "  </tbody>\n",
       "</table>\n",
       "</div>"
      ],
      "text/plain": [
       "         game  na_sales  structure\n",
       "rating                            \n",
       "M         334    165.21       0.38\n",
       "unknown   298     89.42       0.20\n",
       "E         217     79.05       0.18\n",
       "E10+      220     54.24       0.12\n",
       "T         240     49.79       0.11"
      ]
     },
     "execution_count": 85,
     "metadata": {},
     "output_type": "execute_result"
    }
   ],
   "source": [
    "esrb_na = df_na.groupby('rating').agg({'name':'count', 'na_sales':'sum'})\n",
    "esrb_na.rename(columns={'name':'game'}, inplace=True)\n",
    "esrb_na['structure'] = esrb_na['na_sales'] / esrb_na['na_sales'].sum()\n",
    "esrb_na['structure'] = esrb_na['structure'].round(2)\n",
    "esrb_na.sort_values(by='na_sales', ascending=False)"
   ]
  },
  {
   "cell_type": "markdown",
   "metadata": {},
   "source": [
    "В Северной Америке с большим отрывом лидирует рейтинг \"M\", 38 процентов от общего числа продаж в Северной Америке, второе место занимает неизвестный-неопределенный рейтинг под грифом unknown, каждая пятая проданная игра - это игра с неопределенным рейтингом, шок. А рейтинг \"E\" с 18 процентами от общего числа продаж занимает третью строчку."
   ]
  },
  {
   "cell_type": "markdown",
   "metadata": {},
   "source": [
    "**Влияние рейтинга ESRB на продажи в Европе**"
   ]
  },
  {
   "cell_type": "code",
   "execution_count": 86,
   "metadata": {},
   "outputs": [
    {
     "data": {
      "text/html": [
       "<div>\n",
       "<style scoped>\n",
       "    .dataframe tbody tr th:only-of-type {\n",
       "        vertical-align: middle;\n",
       "    }\n",
       "\n",
       "    .dataframe tbody tr th {\n",
       "        vertical-align: top;\n",
       "    }\n",
       "\n",
       "    .dataframe thead th {\n",
       "        text-align: right;\n",
       "    }\n",
       "</style>\n",
       "<table border=\"1\" class=\"dataframe\">\n",
       "  <thead>\n",
       "    <tr style=\"text-align: right;\">\n",
       "      <th></th>\n",
       "      <th>game</th>\n",
       "      <th>eu_sales</th>\n",
       "      <th>structure</th>\n",
       "    </tr>\n",
       "    <tr>\n",
       "      <th>rating</th>\n",
       "      <th></th>\n",
       "      <th></th>\n",
       "      <th></th>\n",
       "    </tr>\n",
       "  </thead>\n",
       "  <tbody>\n",
       "    <tr>\n",
       "      <th>M</th>\n",
       "      <td>337</td>\n",
       "      <td>145.32</td>\n",
       "      <td>0.37</td>\n",
       "    </tr>\n",
       "    <tr>\n",
       "      <th>E</th>\n",
       "      <td>265</td>\n",
       "      <td>83.36</td>\n",
       "      <td>0.21</td>\n",
       "    </tr>\n",
       "    <tr>\n",
       "      <th>unknown</th>\n",
       "      <td>336</td>\n",
       "      <td>78.91</td>\n",
       "      <td>0.20</td>\n",
       "    </tr>\n",
       "    <tr>\n",
       "      <th>E10+</th>\n",
       "      <td>231</td>\n",
       "      <td>42.69</td>\n",
       "      <td>0.11</td>\n",
       "    </tr>\n",
       "    <tr>\n",
       "      <th>T</th>\n",
       "      <td>253</td>\n",
       "      <td>41.95</td>\n",
       "      <td>0.11</td>\n",
       "    </tr>\n",
       "  </tbody>\n",
       "</table>\n",
       "</div>"
      ],
      "text/plain": [
       "         game  eu_sales  structure\n",
       "rating                            \n",
       "M         337    145.32       0.37\n",
       "E         265     83.36       0.21\n",
       "unknown   336     78.91       0.20\n",
       "E10+      231     42.69       0.11\n",
       "T         253     41.95       0.11"
      ]
     },
     "execution_count": 86,
     "metadata": {},
     "output_type": "execute_result"
    }
   ],
   "source": [
    "esrb_eu = df_eu.groupby('rating').agg({'name':'count', 'eu_sales':'sum'})\n",
    "esrb_eu.rename(columns={'name':'game'}, inplace=True)\n",
    "esrb_eu['structure'] = esrb_eu['eu_sales'] / esrb_eu['eu_sales'].sum()\n",
    "esrb_eu['structure'] = esrb_eu['structure'].round(2)\n",
    "esrb_eu.sort_values(by='eu_sales', ascending=False)"
   ]
  },
  {
   "cell_type": "markdown",
   "metadata": {},
   "source": [
    "В Европе такое же расположение рейтингов как и в Северной Америке. Первое место по продажам занимает рейтинг \"M\", 37 процентов от общего числа продаж, второе место рейтинг \"E\" с 21 процентами от общего числа продаж и  20 процентов от общего числа продаж в Европе игры с неизвестным рейтином."
   ]
  },
  {
   "cell_type": "markdown",
   "metadata": {},
   "source": [
    "**Влияние рейтинга ESRB на продажи в Японии**"
   ]
  },
  {
   "cell_type": "code",
   "execution_count": 87,
   "metadata": {},
   "outputs": [
    {
     "data": {
      "text/html": [
       "<div>\n",
       "<style scoped>\n",
       "    .dataframe tbody tr th:only-of-type {\n",
       "        vertical-align: middle;\n",
       "    }\n",
       "\n",
       "    .dataframe tbody tr th {\n",
       "        vertical-align: top;\n",
       "    }\n",
       "\n",
       "    .dataframe thead th {\n",
       "        text-align: right;\n",
       "    }\n",
       "</style>\n",
       "<table border=\"1\" class=\"dataframe\">\n",
       "  <thead>\n",
       "    <tr style=\"text-align: right;\">\n",
       "      <th></th>\n",
       "      <th>game</th>\n",
       "      <th>jp_sales</th>\n",
       "      <th>structure</th>\n",
       "    </tr>\n",
       "    <tr>\n",
       "      <th>rating</th>\n",
       "      <th></th>\n",
       "      <th></th>\n",
       "      <th></th>\n",
       "    </tr>\n",
       "  </thead>\n",
       "  <tbody>\n",
       "    <tr>\n",
       "      <th>unknown</th>\n",
       "      <td>712</td>\n",
       "      <td>85.05</td>\n",
       "      <td>0.60</td>\n",
       "    </tr>\n",
       "    <tr>\n",
       "      <th>T</th>\n",
       "      <td>181</td>\n",
       "      <td>20.59</td>\n",
       "      <td>0.15</td>\n",
       "    </tr>\n",
       "    <tr>\n",
       "      <th>E</th>\n",
       "      <td>77</td>\n",
       "      <td>15.14</td>\n",
       "      <td>0.11</td>\n",
       "    </tr>\n",
       "    <tr>\n",
       "      <th>M</th>\n",
       "      <td>159</td>\n",
       "      <td>14.11</td>\n",
       "      <td>0.10</td>\n",
       "    </tr>\n",
       "    <tr>\n",
       "      <th>E10+</th>\n",
       "      <td>58</td>\n",
       "      <td>5.89</td>\n",
       "      <td>0.04</td>\n",
       "    </tr>\n",
       "  </tbody>\n",
       "</table>\n",
       "</div>"
      ],
      "text/plain": [
       "         game  jp_sales  structure\n",
       "rating                            \n",
       "unknown   712     85.05       0.60\n",
       "T         181     20.59       0.15\n",
       "E          77     15.14       0.11\n",
       "M         159     14.11       0.10\n",
       "E10+       58      5.89       0.04"
      ]
     },
     "execution_count": 87,
     "metadata": {},
     "output_type": "execute_result"
    }
   ],
   "source": [
    "esrb_jp = df_jp.groupby('rating').agg({'name':'count', 'jp_sales':'sum'})\n",
    "esrb_jp.rename(columns={'name':'game'}, inplace=True)\n",
    "esrb_jp['structure'] = esrb_jp['jp_sales'] / esrb_jp['jp_sales'].sum()\n",
    "esrb_jp['structure'] = esrb_jp['structure'].round(2)\n",
    "esrb_jp.sort_values(by='jp_sales', ascending=False)"
   ]
  },
  {
   "cell_type": "markdown",
   "metadata": {},
   "source": [
    "В Японии в отличии от других регионов дела обстоят иначе. Первое место занимет рейтинг \"unknown\", 60 процентов от общего числа продаж - японцы всегда любили неизвестные миру игры и рейтинги). Второе место занимает рейтинг \"Т\" с 15 процентами от общих продаж, а рейтинг \"М\", который был на первом месте в других регионах занял почти последнее место и у него всего 10 процентов от общего числа продаж в Японии."
   ]
  },
  {
   "cell_type": "markdown",
   "metadata": {},
   "source": [
    "**Вывод:**"
   ]
  },
  {
   "cell_type": "markdown",
   "metadata": {},
   "source": [
    "В Северной Америке с большим отрывом лидирует рейтинг \"M\", 38 процентов от общего числа продаж в Северной Америке, второе место - это игры с неизвестным рейтингом с 20 процентами от общего числа продаж.\n",
    "В Европе похожее расположение рейтингов как и в Северной Америке. Первое место по продажам занимает рейтинг \"M\", 37 процентов от общего числа продаж, второе место рейтинг \"E\" с 21 процентами от общего числа продаж.\n",
    "В Японии в отличии от других регионов дела обстоят иначе. Первое место занимет неопределенный рейтинг \"unknown\", 60 процентов от общего числа продаж. Второе место занимает рейтинг \"T\" с 15 процентами от общих продаж, а рейтинг \"М\", который был на первом месте в других регионах занял четвертое место и у него 10 процентов от общего числа продаж в Японии."
   ]
  },
  {
   "cell_type": "markdown",
   "metadata": {},
   "source": [
    "## Проверка гипотиз"
   ]
  },
  {
   "cell_type": "markdown",
   "metadata": {},
   "source": [
    "На данном этапе необходимо проверить две гипотезы:"
   ]
  },
  {
   "cell_type": "markdown",
   "metadata": {},
   "source": [
    "* Средние пользовательские рейтинги платформ Xbox One и PC одинаковые;\n",
    "* Средние пользовательские рейтинги жанров Action (англ. «действие», экшен-игры) и Sports (англ. «спортивные соревнования») разные."
   ]
  },
  {
   "cell_type": "markdown",
   "metadata": {},
   "source": [
    "**Проверка гипотезы о том, что средние пользовательские рейтинги платформ Xbox One и PC одинаковые**"
   ]
  },
  {
   "cell_type": "code",
   "execution_count": 88,
   "metadata": {},
   "outputs": [],
   "source": [
    "df_xone = df.query('platform == \"XOne\" and user_score > 0 and year_of_release >= 2012') # данные с платформой XOne "
   ]
  },
  {
   "cell_type": "code",
   "execution_count": 89,
   "metadata": {
    "scrolled": true
   },
   "outputs": [
    {
     "data": {
      "text/html": [
       "<div>\n",
       "<style scoped>\n",
       "    .dataframe tbody tr th:only-of-type {\n",
       "        vertical-align: middle;\n",
       "    }\n",
       "\n",
       "    .dataframe tbody tr th {\n",
       "        vertical-align: top;\n",
       "    }\n",
       "\n",
       "    .dataframe thead th {\n",
       "        text-align: right;\n",
       "    }\n",
       "</style>\n",
       "<table border=\"1\" class=\"dataframe\">\n",
       "  <thead>\n",
       "    <tr style=\"text-align: right;\">\n",
       "      <th></th>\n",
       "      <th>name</th>\n",
       "      <th>platform</th>\n",
       "      <th>year_of_release</th>\n",
       "      <th>genre</th>\n",
       "      <th>na_sales</th>\n",
       "      <th>eu_sales</th>\n",
       "      <th>jp_sales</th>\n",
       "      <th>other_sales</th>\n",
       "      <th>critic_score</th>\n",
       "      <th>user_score</th>\n",
       "      <th>rating</th>\n",
       "      <th>total_sales</th>\n",
       "    </tr>\n",
       "  </thead>\n",
       "  <tbody>\n",
       "    <tr>\n",
       "      <th>165</th>\n",
       "      <td>Grand Theft Auto V</td>\n",
       "      <td>XOne</td>\n",
       "      <td>2014</td>\n",
       "      <td>Action</td>\n",
       "      <td>2.81</td>\n",
       "      <td>2.19</td>\n",
       "      <td>0.00</td>\n",
       "      <td>0.47</td>\n",
       "      <td>97</td>\n",
       "      <td>7.9</td>\n",
       "      <td>M</td>\n",
       "      <td>5.47</td>\n",
       "    </tr>\n",
       "    <tr>\n",
       "      <th>179</th>\n",
       "      <td>Call of Duty: Advanced Warfare</td>\n",
       "      <td>XOne</td>\n",
       "      <td>2014</td>\n",
       "      <td>Shooter</td>\n",
       "      <td>3.22</td>\n",
       "      <td>1.55</td>\n",
       "      <td>0.01</td>\n",
       "      <td>0.48</td>\n",
       "      <td>81</td>\n",
       "      <td>5.4</td>\n",
       "      <td>M</td>\n",
       "      <td>5.26</td>\n",
       "    </tr>\n",
       "    <tr>\n",
       "      <th>242</th>\n",
       "      <td>Halo 5: Guardians</td>\n",
       "      <td>XOne</td>\n",
       "      <td>2015</td>\n",
       "      <td>Shooter</td>\n",
       "      <td>2.78</td>\n",
       "      <td>1.27</td>\n",
       "      <td>0.03</td>\n",
       "      <td>0.41</td>\n",
       "      <td>84</td>\n",
       "      <td>6.4</td>\n",
       "      <td>T</td>\n",
       "      <td>4.49</td>\n",
       "    </tr>\n",
       "  </tbody>\n",
       "</table>\n",
       "</div>"
      ],
      "text/plain": [
       "                               name platform  year_of_release    genre  \\\n",
       "165              Grand Theft Auto V     XOne             2014   Action   \n",
       "179  Call of Duty: Advanced Warfare     XOne             2014  Shooter   \n",
       "242               Halo 5: Guardians     XOne             2015  Shooter   \n",
       "\n",
       "     na_sales  eu_sales  jp_sales  other_sales  critic_score  user_score  \\\n",
       "165      2.81      2.19      0.00         0.47            97         7.9   \n",
       "179      3.22      1.55      0.01         0.48            81         5.4   \n",
       "242      2.78      1.27      0.03         0.41            84         6.4   \n",
       "\n",
       "    rating  total_sales  \n",
       "165      M         5.47  \n",
       "179      M         5.26  \n",
       "242      T         4.49  "
      ]
     },
     "execution_count": 89,
     "metadata": {},
     "output_type": "execute_result"
    }
   ],
   "source": [
    "df_xone.head(3)"
   ]
  },
  {
   "cell_type": "code",
   "execution_count": 110,
   "metadata": {},
   "outputs": [
    {
     "data": {
      "image/png": "[encoded data removed]",
      "text/plain": [
       "<Figure size 1008x288 with 1 Axes>"
      ]
     },
     "metadata": {
      "needs_background": "light"
     },
     "output_type": "display_data"
    }
   ],
   "source": [
    "df_xone.hist('user_score', bins=10, range=(1, 10), figsize=(14,4)) # строим гистограмму по оценкам пользователей XOne\n",
    "plt.xlabel('\\n Оценка')\n",
    "plt.ylabel('Частота \\n')\n",
    "plt.title('Пользовательские рейтинги (XOne) \\n')\n",
    "plt.show()"
   ]
  },
  {
   "cell_type": "markdown",
   "metadata": {},
   "source": [
    "Посмотрим на среднее значение оценок пользователей на платформе XOne:"
   ]
  },
  {
   "cell_type": "code",
   "execution_count": 91,
   "metadata": {
    "scrolled": false
   },
   "outputs": [
    {
     "name": "stdout",
     "output_type": "stream",
     "text": [
      "Средняя оценка пользователей на платформе XOne: 6.52\n"
     ]
    }
   ],
   "source": [
    "print('Средняя оценка пользователей на платформе XOne:', df_xone['user_score'].mean().round(2))"
   ]
  },
  {
   "cell_type": "code",
   "execution_count": 92,
   "metadata": {},
   "outputs": [
    {
     "data": {
      "text/plain": [
       "6.8"
      ]
     },
     "execution_count": 92,
     "metadata": {},
     "output_type": "execute_result"
    }
   ],
   "source": [
    "df_xone['user_score'].median().round(2) # смотрим на показатель медианы"
   ]
  },
  {
   "cell_type": "markdown",
   "metadata": {},
   "source": [
    "Рейтинг выше среднего, хотя думал что будет больше, видимо из-за тяжелого хвоста средняя оценка пользователей оказалась не такой большой. Показатель медианы составил 6.8 уже вперед). Далее проделаем такую же магию с играми на PC."
   ]
  },
  {
   "cell_type": "code",
   "execution_count": 93,
   "metadata": {},
   "outputs": [],
   "source": [
    "df_pc = df.query('platform == \"PC\" and user_score > 0 and year_of_release >= 2012') # данные с платформой PC"
   ]
  },
  {
   "cell_type": "code",
   "execution_count": 94,
   "metadata": {},
   "outputs": [
    {
     "data": {
      "text/html": [
       "<div>\n",
       "<style scoped>\n",
       "    .dataframe tbody tr th:only-of-type {\n",
       "        vertical-align: middle;\n",
       "    }\n",
       "\n",
       "    .dataframe tbody tr th {\n",
       "        vertical-align: top;\n",
       "    }\n",
       "\n",
       "    .dataframe thead th {\n",
       "        text-align: right;\n",
       "    }\n",
       "</style>\n",
       "<table border=\"1\" class=\"dataframe\">\n",
       "  <thead>\n",
       "    <tr style=\"text-align: right;\">\n",
       "      <th></th>\n",
       "      <th>name</th>\n",
       "      <th>platform</th>\n",
       "      <th>year_of_release</th>\n",
       "      <th>genre</th>\n",
       "      <th>na_sales</th>\n",
       "      <th>eu_sales</th>\n",
       "      <th>jp_sales</th>\n",
       "      <th>other_sales</th>\n",
       "      <th>critic_score</th>\n",
       "      <th>user_score</th>\n",
       "      <th>rating</th>\n",
       "      <th>total_sales</th>\n",
       "    </tr>\n",
       "  </thead>\n",
       "  <tbody>\n",
       "    <tr>\n",
       "      <th>192</th>\n",
       "      <td>Diablo III</td>\n",
       "      <td>PC</td>\n",
       "      <td>2012</td>\n",
       "      <td>Role-Playing</td>\n",
       "      <td>2.44</td>\n",
       "      <td>2.16</td>\n",
       "      <td>0.0</td>\n",
       "      <td>0.54</td>\n",
       "      <td>88</td>\n",
       "      <td>4.0</td>\n",
       "      <td>M</td>\n",
       "      <td>5.14</td>\n",
       "    </tr>\n",
       "    <tr>\n",
       "      <th>458</th>\n",
       "      <td>The Sims 4</td>\n",
       "      <td>PC</td>\n",
       "      <td>2014</td>\n",
       "      <td>Simulation</td>\n",
       "      <td>1.00</td>\n",
       "      <td>1.82</td>\n",
       "      <td>0.0</td>\n",
       "      <td>0.23</td>\n",
       "      <td>70</td>\n",
       "      <td>3.9</td>\n",
       "      <td>T</td>\n",
       "      <td>3.05</td>\n",
       "    </tr>\n",
       "    <tr>\n",
       "      <th>688</th>\n",
       "      <td>Guild Wars 2</td>\n",
       "      <td>PC</td>\n",
       "      <td>2012</td>\n",
       "      <td>Action</td>\n",
       "      <td>0.96</td>\n",
       "      <td>1.07</td>\n",
       "      <td>0.0</td>\n",
       "      <td>0.27</td>\n",
       "      <td>90</td>\n",
       "      <td>7.9</td>\n",
       "      <td>T</td>\n",
       "      <td>2.30</td>\n",
       "    </tr>\n",
       "  </tbody>\n",
       "</table>\n",
       "</div>"
      ],
      "text/plain": [
       "             name platform  year_of_release         genre  na_sales  eu_sales  \\\n",
       "192    Diablo III       PC             2012  Role-Playing      2.44      2.16   \n",
       "458    The Sims 4       PC             2014    Simulation      1.00      1.82   \n",
       "688  Guild Wars 2       PC             2012        Action      0.96      1.07   \n",
       "\n",
       "     jp_sales  other_sales  critic_score  user_score rating  total_sales  \n",
       "192       0.0         0.54            88         4.0      M         5.14  \n",
       "458       0.0         0.23            70         3.9      T         3.05  \n",
       "688       0.0         0.27            90         7.9      T         2.30  "
      ]
     },
     "execution_count": 94,
     "metadata": {},
     "output_type": "execute_result"
    }
   ],
   "source": [
    "df_pc.head(3)"
   ]
  },
  {
   "cell_type": "code",
   "execution_count": 112,
   "metadata": {},
   "outputs": [
    {
     "data": {
      "image/png": "[encoded data removed]",
      "text/plain": [
       "<Figure size 1008x288 with 1 Axes>"
      ]
     },
     "metadata": {
      "needs_background": "light"
     },
     "output_type": "display_data"
    }
   ],
   "source": [
    "df_pc.hist('user_score', bins=10, range=(1, 10), figsize=(14,4)) # строим гистограмму по оценкам пользователей PC\n",
    "plt.xlabel('\\n Оценка')\n",
    "plt.ylabel('Частота \\n')\n",
    "plt.title('Пользовательские рейтинги (PC) \\n')\n",
    "plt.show()"
   ]
  },
  {
   "cell_type": "markdown",
   "metadata": {},
   "source": [
    "Посмотрим на среднее значение оценок пользователей на платформе PC:"
   ]
  },
  {
   "cell_type": "code",
   "execution_count": 96,
   "metadata": {},
   "outputs": [
    {
     "name": "stdout",
     "output_type": "stream",
     "text": [
      "Средняя оценка пользователей на платформе PC: 6.43\n"
     ]
    }
   ],
   "source": [
    "print('Средняя оценка пользователей на платформе PC:', df_pc['user_score'].mean().round(2))"
   ]
  },
  {
   "cell_type": "code",
   "execution_count": 97,
   "metadata": {},
   "outputs": [
    {
     "data": {
      "text/plain": [
       "6.8"
      ]
     },
     "execution_count": 97,
     "metadata": {},
     "output_type": "execute_result"
    }
   ],
   "source": [
    "df_pc['user_score'].median().round(2) # смотрим на показатель медианы"
   ]
  },
  {
   "cell_type": "markdown",
   "metadata": {},
   "source": [
    "Видим что средний рейтинг пользователей на платформе PC составил: 6.43, показатель медианы составил: 6.8"
   ]
  },
  {
   "cell_type": "markdown",
   "metadata": {},
   "source": [
    "*Сформируем гипотезы:*"
   ]
  },
  {
   "cell_type": "markdown",
   "metadata": {},
   "source": [
    "* H0 - средние пользовательские рейтинги платформ Xbox One и PC не различаются;\n",
    "* H1 - средние пользовательские рейтинги платформ Xbox One и PC различаются;"
   ]
  },
  {
   "cell_type": "code",
   "execution_count": 98,
   "metadata": {},
   "outputs": [
    {
     "name": "stdout",
     "output_type": "stream",
     "text": [
      "p-значение:  0.5489537965134912\n",
      "Не отвергаем нулевую гипотезу, о том, что средние пользовательские рейтинги платформ Xbox One и PC не различаются\n"
     ]
    }
   ],
   "source": [
    "sample_1 = df_xone['user_score']\n",
    "sample_2 = df_pc['user_score']\n",
    "\n",
    "results = st.ttest_ind(sample_1, sample_2, equal_var = False)\n",
    "alpha = .05\n",
    "print('p-значение: ', results.pvalue)\n",
    "\n",
    "if results.pvalue < alpha:\n",
    "    print('Отвергаем нулевую гипотезу, о том, что средние пользовательские рейтинги платформ Xbox One и PC не различаются')\n",
    "else:\n",
    "    print('Не отвергаем нулевую гипотезу, о том, что средние пользовательские рейтинги платформ Xbox One и PC не различаются')"
   ]
  },
  {
   "cell_type": "markdown",
   "metadata": {},
   "source": [
    "Полученное значение p-value говорит о том, что хотя средние оценки пользователей этих платформ неодинаковы, с вероятностью в почти 55% такое или большее различие можно получить случайно. Это явно большая вероятность, чтобы делать вывод о значимом различии между средними оценками на PC и XOne."
   ]
  },
  {
   "cell_type": "markdown",
   "metadata": {},
   "source": [
    "**Проверка гипотезы о том, что средние пользовательские рейтинги жанров Action (англ. «действие», экшен-игры) и Sports (англ. «спортивные соревнования») разные**"
   ]
  },
  {
   "cell_type": "markdown",
   "metadata": {},
   "source": [
    "Для начала соберем данные по жанру action и sports, не забудем про заглушки в столбце user_score (-1)."
   ]
  },
  {
   "cell_type": "code",
   "execution_count": 99,
   "metadata": {},
   "outputs": [],
   "source": [
    "df_action = df.query('genre == \"Action\" and user_score > 0')\n",
    "df_sports = df.query('genre == \"Sports\" and user_score > 0')"
   ]
  },
  {
   "cell_type": "code",
   "execution_count": 113,
   "metadata": {},
   "outputs": [
    {
     "data": {
      "image/png": "[encoded data removed]",
      "text/plain": [
       "<Figure size 1008x288 with 1 Axes>"
      ]
     },
     "metadata": {
      "needs_background": "light"
     },
     "output_type": "display_data"
    }
   ],
   "source": [
    "df_action.hist('user_score', bins=10, range=(1, 10), figsize=(14,4)) # строим гистограмму по оценкам пользователей XOne\n",
    "plt.xlabel('\\n Оценка')\n",
    "plt.ylabel('Частота \\n')\n",
    "plt.title('Пользовательские рейтинги, жанр Action \\n')\n",
    "plt.show()"
   ]
  },
  {
   "cell_type": "markdown",
   "metadata": {},
   "source": [
    "Посмотрим на среднее значение оценок пользователей жанра Action:"
   ]
  },
  {
   "cell_type": "code",
   "execution_count": 101,
   "metadata": {},
   "outputs": [
    {
     "name": "stdout",
     "output_type": "stream",
     "text": [
      "Средняя оценка пользователей жанра Action: 7.06\n"
     ]
    }
   ],
   "source": [
    "print('Средняя оценка пользователей жанра Action:', df_action['user_score'].mean().round(2))"
   ]
  },
  {
   "cell_type": "code",
   "execution_count": 102,
   "metadata": {},
   "outputs": [
    {
     "data": {
      "text/plain": [
       "7.4"
      ]
     },
     "execution_count": 102,
     "metadata": {},
     "output_type": "execute_result"
    }
   ],
   "source": [
    "df_action['user_score'].median().round(2) # смотрим на показатель медианы"
   ]
  },
  {
   "cell_type": "markdown",
   "metadata": {},
   "source": [
    "Повторим действия с жанром Sports."
   ]
  },
  {
   "cell_type": "code",
   "execution_count": 114,
   "metadata": {},
   "outputs": [
    {
     "data": {
      "image/png": "[encoded data removed]",
      "text/plain": [
       "<Figure size 1008x288 with 1 Axes>"
      ]
     },
     "metadata": {
      "needs_background": "light"
     },
     "output_type": "display_data"
    }
   ],
   "source": [
    "df_sports.hist('user_score', bins=10, range=(1, 10), figsize=(14,4)) # строим гистограмму по оценкам пользователей XOne\n",
    "plt.xlabel('\\n Оценка')\n",
    "plt.ylabel('Частота \\n')\n",
    "plt.title('Пользовательские рейтинги, жанр Sports \\n')\n",
    "plt.show()"
   ]
  },
  {
   "cell_type": "code",
   "execution_count": 104,
   "metadata": {},
   "outputs": [
    {
     "name": "stdout",
     "output_type": "stream",
     "text": [
      "Средняя оценка пользователей жанра Sports: 6.95\n"
     ]
    }
   ],
   "source": [
    "print('Средняя оценка пользователей жанра Sports:', df_sports['user_score'].mean().round(2))"
   ]
  },
  {
   "cell_type": "code",
   "execution_count": 105,
   "metadata": {},
   "outputs": [
    {
     "data": {
      "text/plain": [
       "7.4"
      ]
     },
     "execution_count": 105,
     "metadata": {},
     "output_type": "execute_result"
    }
   ],
   "source": [
    "df_sports['user_score'].median().round(2) # смотрим на показатель медианы"
   ]
  },
  {
   "cell_type": "markdown",
   "metadata": {},
   "source": [
    "На первый взгляд показатели достаточно приближены друг к другу."
   ]
  },
  {
   "cell_type": "markdown",
   "metadata": {},
   "source": [
    "*Сформируем гипотезы:*"
   ]
  },
  {
   "cell_type": "markdown",
   "metadata": {},
   "source": [
    "* H0 - средние пользовательские рейтинги жанров Action и Sports не различаются;\n",
    "* H1 - средние пользовательские рейтинги жанров Action и Sports различаются;"
   ]
  },
  {
   "cell_type": "code",
   "execution_count": 106,
   "metadata": {},
   "outputs": [
    {
     "name": "stdout",
     "output_type": "stream",
     "text": [
      "p-значение:  0.07370217419278526\n",
      "Не отвергаем нулевую гипотезу, о том, что средние пользовательские рейтинги жанров Action и Sports не различаются\n"
     ]
    }
   ],
   "source": [
    "sample_1 = df_action['user_score']\n",
    "sample_2 = df_sports['user_score']\n",
    "\n",
    "results = st.ttest_ind(sample_1, sample_2, equal_var = False)\n",
    "alpha = .05\n",
    "print('p-значение: ', results.pvalue)\n",
    "\n",
    "if results.pvalue < alpha:\n",
    "    print('Отвергаем нулевую гипотезу, о том, что средние пользовательские рейтинги жанров Action и Sports не различаются')\n",
    "else:\n",
    "    print('Не отвергаем нулевую гипотезу, о том, что средние пользовательские рейтинги жанров Action и Sports не различаются')"
   ]
  },
  {
   "cell_type": "markdown",
   "metadata": {},
   "source": [
    "**Интерпретация результата:**\n",
    "\n",
    "* Полученное значение p-value говорит о том, что хотя средние оценки пользователей по этим жанрам неодинаковы, с вероятностью в почти 7% такое или большее различие можно получить случайно. Это явно слишком большая вероятность, чтобы делать вывод о значимом различии между средними оценками этих жанров.\n"
   ]
  },
  {
   "cell_type": "markdown",
   "metadata": {},
   "source": [
    "**Вывод:**"
   ]
  },
  {
   "cell_type": "markdown",
   "metadata": {},
   "source": [
    "На данном этапе мы проверяли две гипотезы:\n",
    "* Средние пользовательские рейтинги платформ Xbox One и PC одинаковые;\n",
    "* Средние пользовательские рейтинги жанров Action (англ. «действие», экшен-игры) и Sports (англ. «спортивные соревнования») разные.\n",
    "\n",
    "Также рассмотрели средние оценки пользователей на платформах PC и XBox One, и средние оценки пользователей по жанрам Action и Sports. Посомтрели на оценки наглядно и сравнили их между собой, сформулировали основные и альтернативные гипотезы и проверили их."
   ]
  },
  {
   "cell_type": "markdown",
   "metadata": {},
   "source": [
    "# Общий вывод"
   ]
  },
  {
   "cell_type": "markdown",
   "metadata": {},
   "source": [
    "В данном проекте мы рассмотрели индустрию компьютерных игр для разных платформ и провели анализ успешности игр для интернет-магазина. \n",
    "\n",
    "Для анализа нам были представлены основные данные игр с 1980 по 2016 год. С исходными данными мы провели необходимые манипуляции для успешного анализа, конкретно мы поработали с самим качеством данных изменили типы данных, изменили заголовки (привели к единому стилю) и заполнили пропуски, которые были в 6 столбцах нашей таблицы, там где была необходимость делали \"заглушки\", например в случае с значениями tbd. Для дальнейшего анализа добавили столбец total_sales в наш датафрейм в котором мы сложили все известные продажи по играм в разных регионах.\n",
    "\n",
    "В проекте было исследование выпуска игр в динамике где были сделаны определенные выводы:\n",
    "* В период с 1980 года по 1995 год было выпущенно не много игр в сумме 486 или всего 3 % от общего числа игр;\n",
    "* После 1995 года был прорыв в игровой индустрии и игры начали наиболее активно разрабатывать и продавать.\n",
    "\n",
    "Определив, что с 1995 года произошел прорыв в индустрии, мы взялись за анализ продаж по разным платформам и определили топ-10 платформ. В топ-10 вошли такие платформы, как  \"PS2\", \"X360\", \"PS3\", \"Wii\", \"DS\", \"PS\", \"PS4\", \"GBA\", \"PSP\", \"3DS\", также мы добавили в топ перспетивную платформу, которая только набирала обороты - это \"XOne\". Далее мы рассмотрели показатели продаж по этим платформам и выделили наиболее перспективные, помимо этого мы определили, что в рамках одной компании (Sony или Microsoft) переход с одного поколения на другой проходит примерно за 7-8 лет, так произошло с PS3, PS4 и Xbox360, XboxOne. На 2016 год платформой-лидером по показателю итоговых продаж игр стала платформа PS4. Самыми продаваемыми играми на этой консоли стали:\n",
    "* Call of Duty: Black Ops 3 - 14.63 млн. продаж на PS4;\n",
    "* Grand Theft Auto V - 12.62 млн. продаж на PS4;\n",
    "* FIFA 16 - 8.58 млн. продаж на PS4.\n",
    "\n",
    "Также была расссмотрена зависимость между продажами и оценками критиков и пользователей, построена диаграмма рассеянея. Если между оценками критиков и продажами мы увидели закономерность выше оценки - больше продажи, то с оценками пользователей на диаграмме рассеяния большинство игр с продажами от 3 млн.копий начинается с польовательской оценкой в 3,5 балла, думаю, что на презентации игр разработчики выкатили супер конфету с хорошей рекламой, а по факту релиза пользователи были уж очень разочарованы и поставили низкие оценки, примеров таких игр много и это огорчает, также в последнее время в классных играх может присутствовать или отсутствовать какая либо модная повестка, из за которой пользователи разных мировозрений могут занижать оценки.\n",
    "\n",
    "В ходе проекта были выделены самые популярные и продаваемые жанры игр, таковыми оказались жанры:\n",
    "* Shooter - 235\tигр;\n",
    "* Platform - 85 игр;\n",
    "* Sports - 268 игр.\n",
    "\n",
    "В среднем на одну игру этого жанра приходилось больше всего продаж.\n",
    "\n",
    "Среди тройки самых не популярных жанров можно выделить:\n",
    "* Strategy - 71\tигры;\n",
    "* Puzlle - 28 игр;\n",
    "* Adventure - 302 игры.\n",
    "\n",
    "В среднем на одну игру этого жанра приходилось меньше всего продаж.\n",
    "\n",
    "Было выявлено, что Для Северной Америки гигаты индустрии PS4 и XOne идут почти бок о бок, но первое место все таки у Сони, продажи на эту платформу составляют 25 процентов от общей суммы продаж в Северной Америке.\n",
    "В отличии от Северной Америки в Европе сильно лидирует PS4 и даже PS3 обгоняет новый XOne. В общей структуре продаж игр на платформу PS4 в Европе пришлось 36 процентов продаж от общего.\n",
    "В Японии в отличии от других регионов на первом месте 3DS от Nintendo, PS3 и забытая PSvita, а лидер других регионов всего лишь на четвертом месте. Что касается Xbox можно сказать, что новое и старое поколение не пользуется популярностью у Японцев.\n",
    "Также оценив продажи по разным жанрам в Европе и Америке распределение в топе похоже друг на друга, но Японци и здесь отличились - не любят жанр Sports, но Role-Playing на первом месте, весьма интересно. Помимо этого мы провели оценку продаж игр  по рейтингу ESRB если в Северной Америке и Европе с большим отрывом лидирует рейтинг \"M\", то в Японии с огромной разницей первое место по продажам занимет рейтинг \"unknown\", 60 процентов от общего числа продаж, а рейтинг \"М\", который был на первом месте в других регионах занял четвертое место и у него 10 процентов от общего числа продаж в Японии.\n",
    "\n",
    "Также мы проверили две гипотезы:\n",
    "\n",
    "* Средние пользовательские рейтинги платформ Xbox One и PC одинаковые;\n",
    "* Средние пользовательские рейтинги жанров Action (англ. «действие», экшен-игры) и Sports (англ. «спортивные соревнования») разные.\n",
    "\n",
    "Результат расчетов с выводами о проверке гипотез находится в Шаге № 5 \"Проверка гипотез\"."
   ]
  }
 ],
 "metadata": {
  "ExecuteTimeLog": [
   {
    "duration": 1488,
    "start_time": "2022-04-13T14:36:02.495Z"
   },
   {
    "duration": 69,
    "start_time": "2022-04-13T14:36:15.598Z"
   },
   {
    "duration": 20,
    "start_time": "2022-04-13T14:36:21.597Z"
   },
   {
    "duration": 16,
    "start_time": "2022-04-13T14:37:04.646Z"
   },
   {
    "duration": 5,
    "start_time": "2022-04-13T14:38:40.052Z"
   },
   {
    "duration": 5,
    "start_time": "2022-04-13T14:38:58.253Z"
   },
   {
    "duration": 5,
    "start_time": "2022-04-13T14:39:04.108Z"
   },
   {
    "duration": 14,
    "start_time": "2022-04-13T14:39:28.244Z"
   },
   {
    "duration": 10,
    "start_time": "2022-04-13T14:39:42.293Z"
   },
   {
    "duration": 11,
    "start_time": "2022-04-13T14:39:55.468Z"
   },
   {
    "duration": 13,
    "start_time": "2022-04-13T14:40:29.533Z"
   },
   {
    "duration": 7,
    "start_time": "2022-04-13T14:40:54.213Z"
   },
   {
    "duration": 9,
    "start_time": "2022-04-13T14:41:03.637Z"
   },
   {
    "duration": 5,
    "start_time": "2022-04-13T14:41:12.884Z"
   },
   {
    "duration": 6,
    "start_time": "2022-04-13T14:41:21.444Z"
   },
   {
    "duration": 106,
    "start_time": "2022-04-13T14:41:41.220Z"
   },
   {
    "duration": 2470,
    "start_time": "2022-04-13T14:41:45.668Z"
   },
   {
    "duration": 9,
    "start_time": "2022-04-13T14:41:52.036Z"
   },
   {
    "duration": 8,
    "start_time": "2022-04-13T14:41:59.772Z"
   },
   {
    "duration": 7,
    "start_time": "2022-04-13T14:42:38.916Z"
   },
   {
    "duration": 11,
    "start_time": "2022-04-13T14:42:52.508Z"
   },
   {
    "duration": 5,
    "start_time": "2022-04-13T14:43:12.900Z"
   },
   {
    "duration": 13,
    "start_time": "2022-04-13T14:43:58.460Z"
   },
   {
    "duration": 1205,
    "start_time": "2022-04-13T14:44:07.087Z"
   },
   {
    "duration": 58,
    "start_time": "2022-04-13T14:44:08.293Z"
   },
   {
    "duration": 21,
    "start_time": "2022-04-13T14:44:08.352Z"
   },
   {
    "duration": 16,
    "start_time": "2022-04-13T14:44:08.374Z"
   },
   {
    "duration": 4,
    "start_time": "2022-04-13T14:44:08.392Z"
   },
   {
    "duration": 6,
    "start_time": "2022-04-13T14:44:08.398Z"
   },
   {
    "duration": 48,
    "start_time": "2022-04-13T14:44:08.406Z"
   },
   {
    "duration": 16,
    "start_time": "2022-04-13T14:44:08.456Z"
   },
   {
    "duration": 10,
    "start_time": "2022-04-13T14:44:08.474Z"
   },
   {
    "duration": 13,
    "start_time": "2022-04-13T14:44:08.486Z"
   },
   {
    "duration": 20,
    "start_time": "2022-04-13T14:44:08.500Z"
   },
   {
    "duration": 15,
    "start_time": "2022-04-13T14:44:08.522Z"
   },
   {
    "duration": 11,
    "start_time": "2022-04-13T14:44:08.539Z"
   },
   {
    "duration": 8,
    "start_time": "2022-04-13T14:44:08.553Z"
   },
   {
    "duration": 6,
    "start_time": "2022-04-13T14:44:08.562Z"
   },
   {
    "duration": 15,
    "start_time": "2022-04-13T14:44:08.570Z"
   },
   {
    "duration": 51,
    "start_time": "2022-04-13T17:41:14.428Z"
   },
   {
    "duration": 1379,
    "start_time": "2022-04-13T17:41:21.992Z"
   },
   {
    "duration": 43,
    "start_time": "2022-04-13T17:41:23.374Z"
   },
   {
    "duration": 21,
    "start_time": "2022-04-13T17:41:23.418Z"
   },
   {
    "duration": 16,
    "start_time": "2022-04-13T17:41:23.441Z"
   },
   {
    "duration": 4,
    "start_time": "2022-04-13T17:41:23.459Z"
   },
   {
    "duration": 7,
    "start_time": "2022-04-13T17:41:23.465Z"
   },
   {
    "duration": 5,
    "start_time": "2022-04-13T17:41:23.474Z"
   },
   {
    "duration": 19,
    "start_time": "2022-04-13T17:41:23.480Z"
   },
   {
    "duration": 41,
    "start_time": "2022-04-13T17:41:23.500Z"
   },
   {
    "duration": 12,
    "start_time": "2022-04-13T17:41:23.544Z"
   },
   {
    "duration": 15,
    "start_time": "2022-04-13T17:41:23.558Z"
   },
   {
    "duration": 7,
    "start_time": "2022-04-13T17:41:23.575Z"
   },
   {
    "duration": 9,
    "start_time": "2022-04-13T17:41:23.584Z"
   },
   {
    "duration": 42,
    "start_time": "2022-04-13T17:41:23.595Z"
   },
   {
    "duration": 5,
    "start_time": "2022-04-13T17:41:23.639Z"
   },
   {
    "duration": 16,
    "start_time": "2022-04-13T17:41:23.646Z"
   },
   {
    "duration": 8,
    "start_time": "2022-04-13T17:41:23.664Z"
   },
   {
    "duration": 5,
    "start_time": "2022-04-13T17:42:29.138Z"
   },
   {
    "duration": 3,
    "start_time": "2022-04-13T17:59:40.674Z"
   },
   {
    "duration": 16,
    "start_time": "2022-04-13T18:00:11.306Z"
   },
   {
    "duration": 10,
    "start_time": "2022-04-13T18:00:45.483Z"
   },
   {
    "duration": 155,
    "start_time": "2022-04-13T18:01:03.859Z"
   },
   {
    "duration": 13,
    "start_time": "2022-04-13T18:01:17.464Z"
   },
   {
    "duration": 176,
    "start_time": "2022-04-13T18:02:07.068Z"
   },
   {
    "duration": 9,
    "start_time": "2022-04-13T18:02:25.361Z"
   },
   {
    "duration": 5,
    "start_time": "2022-04-13T18:02:36.608Z"
   },
   {
    "duration": 8,
    "start_time": "2022-04-13T18:03:24.861Z"
   },
   {
    "duration": 6,
    "start_time": "2022-04-13T18:03:53.326Z"
   },
   {
    "duration": 4,
    "start_time": "2022-04-13T18:04:03.803Z"
   },
   {
    "duration": 4,
    "start_time": "2022-04-13T18:04:16.401Z"
   },
   {
    "duration": 168,
    "start_time": "2022-04-13T18:04:25.222Z"
   },
   {
    "duration": 6,
    "start_time": "2022-04-13T18:04:39.590Z"
   },
   {
    "duration": 8,
    "start_time": "2022-04-13T18:05:01.774Z"
   },
   {
    "duration": 5,
    "start_time": "2022-04-13T18:05:19.628Z"
   },
   {
    "duration": 5,
    "start_time": "2022-04-13T18:05:40.996Z"
   },
   {
    "duration": 6,
    "start_time": "2022-04-13T18:05:52.711Z"
   },
   {
    "duration": 28,
    "start_time": "2022-04-13T18:06:16.081Z"
   },
   {
    "duration": 4,
    "start_time": "2022-04-13T18:06:27.603Z"
   },
   {
    "duration": 690,
    "start_time": "2022-04-13T18:08:37.405Z"
   },
   {
    "duration": 1274,
    "start_time": "2022-04-13T18:09:38.250Z"
   },
   {
    "duration": 56,
    "start_time": "2022-04-13T18:09:39.526Z"
   },
   {
    "duration": 19,
    "start_time": "2022-04-13T18:09:39.584Z"
   },
   {
    "duration": 17,
    "start_time": "2022-04-13T18:09:39.606Z"
   },
   {
    "duration": 12,
    "start_time": "2022-04-13T18:09:39.625Z"
   },
   {
    "duration": 15,
    "start_time": "2022-04-13T18:09:39.639Z"
   },
   {
    "duration": 19,
    "start_time": "2022-04-13T18:09:39.656Z"
   },
   {
    "duration": 29,
    "start_time": "2022-04-13T18:09:39.676Z"
   },
   {
    "duration": 10,
    "start_time": "2022-04-13T18:09:39.707Z"
   },
   {
    "duration": 23,
    "start_time": "2022-04-13T18:09:39.720Z"
   },
   {
    "duration": 24,
    "start_time": "2022-04-13T18:09:39.745Z"
   },
   {
    "duration": 16,
    "start_time": "2022-04-13T18:09:39.771Z"
   },
   {
    "duration": 11,
    "start_time": "2022-04-13T18:09:39.789Z"
   },
   {
    "duration": 17,
    "start_time": "2022-04-13T18:09:39.801Z"
   },
   {
    "duration": 10,
    "start_time": "2022-04-13T18:09:39.819Z"
   },
   {
    "duration": 18,
    "start_time": "2022-04-13T18:09:39.831Z"
   },
   {
    "duration": 16,
    "start_time": "2022-04-13T18:09:39.851Z"
   },
   {
    "duration": 18,
    "start_time": "2022-04-13T18:09:39.868Z"
   },
   {
    "duration": 13,
    "start_time": "2022-04-13T18:09:39.888Z"
   },
   {
    "duration": 20,
    "start_time": "2022-04-13T18:09:39.903Z"
   },
   {
    "duration": 9,
    "start_time": "2022-04-13T18:09:39.925Z"
   },
   {
    "duration": 28,
    "start_time": "2022-04-13T18:09:39.936Z"
   },
   {
    "duration": 16,
    "start_time": "2022-04-13T18:09:39.965Z"
   },
   {
    "duration": 5,
    "start_time": "2022-04-13T18:09:39.983Z"
   },
   {
    "duration": 20,
    "start_time": "2022-04-13T18:09:39.989Z"
   },
   {
    "duration": 11,
    "start_time": "2022-04-13T18:09:40.011Z"
   },
   {
    "duration": 8,
    "start_time": "2022-04-13T18:09:40.024Z"
   },
   {
    "duration": 11,
    "start_time": "2022-04-13T18:09:40.036Z"
   },
   {
    "duration": 27,
    "start_time": "2022-04-13T18:09:40.049Z"
   },
   {
    "duration": 19,
    "start_time": "2022-04-13T18:09:40.078Z"
   },
   {
    "duration": 19,
    "start_time": "2022-04-13T18:09:40.099Z"
   },
   {
    "duration": 17,
    "start_time": "2022-04-13T18:09:40.120Z"
   },
   {
    "duration": 25,
    "start_time": "2022-04-13T18:09:40.139Z"
   },
   {
    "duration": 36,
    "start_time": "2022-04-13T18:09:40.166Z"
   },
   {
    "duration": 4,
    "start_time": "2022-04-13T18:09:40.204Z"
   },
   {
    "duration": 621,
    "start_time": "2022-04-13T18:09:40.210Z"
   },
   {
    "duration": 29,
    "start_time": "2022-04-13T18:09:55.494Z"
   },
   {
    "duration": 4,
    "start_time": "2022-04-13T18:09:55.861Z"
   },
   {
    "duration": 654,
    "start_time": "2022-04-13T18:09:56.876Z"
   },
   {
    "duration": 9,
    "start_time": "2022-04-13T18:10:27.865Z"
   },
   {
    "duration": 15,
    "start_time": "2022-04-13T18:11:04.061Z"
   },
   {
    "duration": 1215,
    "start_time": "2022-04-13T18:11:25.667Z"
   },
   {
    "duration": 44,
    "start_time": "2022-04-13T18:11:26.884Z"
   },
   {
    "duration": 18,
    "start_time": "2022-04-13T18:11:26.930Z"
   },
   {
    "duration": 26,
    "start_time": "2022-04-13T18:11:26.950Z"
   },
   {
    "duration": 4,
    "start_time": "2022-04-13T18:11:26.978Z"
   },
   {
    "duration": 13,
    "start_time": "2022-04-13T18:11:26.984Z"
   },
   {
    "duration": 9,
    "start_time": "2022-04-13T18:11:26.998Z"
   },
   {
    "duration": 24,
    "start_time": "2022-04-13T18:11:27.009Z"
   },
   {
    "duration": 13,
    "start_time": "2022-04-13T18:11:27.035Z"
   },
   {
    "duration": 20,
    "start_time": "2022-04-13T18:11:27.050Z"
   },
   {
    "duration": 18,
    "start_time": "2022-04-13T18:11:27.071Z"
   },
   {
    "duration": 21,
    "start_time": "2022-04-13T18:11:27.090Z"
   },
   {
    "duration": 17,
    "start_time": "2022-04-13T18:11:27.113Z"
   },
   {
    "duration": 18,
    "start_time": "2022-04-13T18:11:27.133Z"
   },
   {
    "duration": 16,
    "start_time": "2022-04-13T18:11:27.153Z"
   },
   {
    "duration": 15,
    "start_time": "2022-04-13T18:11:27.171Z"
   },
   {
    "duration": 9,
    "start_time": "2022-04-13T18:11:27.187Z"
   },
   {
    "duration": 6,
    "start_time": "2022-04-13T18:11:27.197Z"
   },
   {
    "duration": 6,
    "start_time": "2022-04-13T18:11:27.204Z"
   },
   {
    "duration": 23,
    "start_time": "2022-04-13T18:11:27.212Z"
   },
   {
    "duration": 10,
    "start_time": "2022-04-13T18:11:27.236Z"
   },
   {
    "duration": 16,
    "start_time": "2022-04-13T18:11:27.247Z"
   },
   {
    "duration": 13,
    "start_time": "2022-04-13T18:11:27.264Z"
   },
   {
    "duration": 16,
    "start_time": "2022-04-13T18:11:27.278Z"
   },
   {
    "duration": 12,
    "start_time": "2022-04-13T18:11:27.296Z"
   },
   {
    "duration": 24,
    "start_time": "2022-04-13T18:11:27.309Z"
   },
   {
    "duration": 4,
    "start_time": "2022-04-13T18:11:27.335Z"
   },
   {
    "duration": 11,
    "start_time": "2022-04-13T18:11:27.340Z"
   },
   {
    "duration": 14,
    "start_time": "2022-04-13T18:11:27.352Z"
   },
   {
    "duration": 13,
    "start_time": "2022-04-13T18:11:27.368Z"
   },
   {
    "duration": 9,
    "start_time": "2022-04-13T18:11:27.383Z"
   },
   {
    "duration": 15,
    "start_time": "2022-04-13T18:11:27.393Z"
   },
   {
    "duration": 21,
    "start_time": "2022-04-13T18:11:27.410Z"
   },
   {
    "duration": 44,
    "start_time": "2022-04-13T18:11:27.432Z"
   },
   {
    "duration": 4,
    "start_time": "2022-04-13T18:11:27.477Z"
   },
   {
    "duration": 13,
    "start_time": "2022-04-13T18:11:27.483Z"
   },
   {
    "duration": 14,
    "start_time": "2022-04-13T18:11:27.497Z"
   },
   {
    "duration": 5,
    "start_time": "2022-04-13T18:12:07.340Z"
   },
   {
    "duration": 15,
    "start_time": "2022-04-13T18:12:21.223Z"
   },
   {
    "duration": 16,
    "start_time": "2022-04-13T18:15:34.104Z"
   },
   {
    "duration": 13,
    "start_time": "2022-04-13T18:16:26.195Z"
   },
   {
    "duration": 10,
    "start_time": "2022-04-13T18:17:05.753Z"
   },
   {
    "duration": 14,
    "start_time": "2022-04-13T18:17:21.566Z"
   },
   {
    "duration": 16,
    "start_time": "2022-04-13T18:17:50.771Z"
   },
   {
    "duration": 24,
    "start_time": "2022-04-13T18:18:02.957Z"
   },
   {
    "duration": 719,
    "start_time": "2022-04-13T18:22:22.618Z"
   },
   {
    "duration": 7,
    "start_time": "2022-04-13T18:23:05.143Z"
   },
   {
    "duration": 12,
    "start_time": "2022-04-13T18:23:18.242Z"
   },
   {
    "duration": 173,
    "start_time": "2022-04-13T18:23:40.051Z"
   },
   {
    "duration": 122,
    "start_time": "2022-04-13T18:27:54.237Z"
   },
   {
    "duration": 818,
    "start_time": "2022-04-13T18:30:10.179Z"
   },
   {
    "duration": 411,
    "start_time": "2022-04-13T18:30:39.972Z"
   },
   {
    "duration": 342,
    "start_time": "2022-04-13T18:30:54.570Z"
   },
   {
    "duration": 134,
    "start_time": "2022-04-13T18:31:32.471Z"
   },
   {
    "duration": 173,
    "start_time": "2022-04-13T18:31:41.259Z"
   },
   {
    "duration": 44,
    "start_time": "2022-04-14T07:15:59.891Z"
   },
   {
    "duration": 1675,
    "start_time": "2022-04-14T07:16:06.664Z"
   },
   {
    "duration": 42,
    "start_time": "2022-04-14T07:16:08.341Z"
   },
   {
    "duration": 20,
    "start_time": "2022-04-14T07:16:08.385Z"
   },
   {
    "duration": 14,
    "start_time": "2022-04-14T07:16:08.407Z"
   },
   {
    "duration": 5,
    "start_time": "2022-04-14T07:16:08.424Z"
   },
   {
    "duration": 5,
    "start_time": "2022-04-14T07:16:08.431Z"
   },
   {
    "duration": 5,
    "start_time": "2022-04-14T07:16:08.438Z"
   },
   {
    "duration": 20,
    "start_time": "2022-04-14T07:16:08.445Z"
   },
   {
    "duration": 15,
    "start_time": "2022-04-14T07:16:08.500Z"
   },
   {
    "duration": 14,
    "start_time": "2022-04-14T07:16:08.517Z"
   },
   {
    "duration": 20,
    "start_time": "2022-04-14T07:16:08.533Z"
   },
   {
    "duration": 13,
    "start_time": "2022-04-14T07:16:08.555Z"
   },
   {
    "duration": 38,
    "start_time": "2022-04-14T07:16:08.570Z"
   },
   {
    "duration": 7,
    "start_time": "2022-04-14T07:16:08.612Z"
   },
   {
    "duration": 15,
    "start_time": "2022-04-14T07:16:08.621Z"
   },
   {
    "duration": 12,
    "start_time": "2022-04-14T07:16:08.638Z"
   },
   {
    "duration": 11,
    "start_time": "2022-04-14T07:16:08.652Z"
   },
   {
    "duration": 8,
    "start_time": "2022-04-14T07:16:08.664Z"
   },
   {
    "duration": 6,
    "start_time": "2022-04-14T07:16:08.674Z"
   },
   {
    "duration": 32,
    "start_time": "2022-04-14T07:16:08.682Z"
   },
   {
    "duration": 13,
    "start_time": "2022-04-14T07:16:08.716Z"
   },
   {
    "duration": 18,
    "start_time": "2022-04-14T07:16:08.731Z"
   },
   {
    "duration": 16,
    "start_time": "2022-04-14T07:16:08.751Z"
   },
   {
    "duration": 11,
    "start_time": "2022-04-14T07:16:08.769Z"
   },
   {
    "duration": 25,
    "start_time": "2022-04-14T07:16:08.781Z"
   },
   {
    "duration": 7,
    "start_time": "2022-04-14T07:16:08.807Z"
   },
   {
    "duration": 5,
    "start_time": "2022-04-14T07:16:08.815Z"
   },
   {
    "duration": 7,
    "start_time": "2022-04-14T07:16:08.821Z"
   },
   {
    "duration": 7,
    "start_time": "2022-04-14T07:16:08.830Z"
   },
   {
    "duration": 9,
    "start_time": "2022-04-14T07:16:08.838Z"
   },
   {
    "duration": 12,
    "start_time": "2022-04-14T07:16:08.849Z"
   },
   {
    "duration": 6,
    "start_time": "2022-04-14T07:16:08.863Z"
   },
   {
    "duration": 37,
    "start_time": "2022-04-14T07:16:08.871Z"
   },
   {
    "duration": 31,
    "start_time": "2022-04-14T07:16:08.910Z"
   },
   {
    "duration": 4,
    "start_time": "2022-04-14T07:16:08.943Z"
   },
   {
    "duration": 15,
    "start_time": "2022-04-14T07:16:08.949Z"
   },
   {
    "duration": 36,
    "start_time": "2022-04-14T07:16:08.966Z"
   },
   {
    "duration": 6,
    "start_time": "2022-04-14T07:16:09.004Z"
   },
   {
    "duration": 19,
    "start_time": "2022-04-14T07:16:09.013Z"
   },
   {
    "duration": 18,
    "start_time": "2022-04-14T07:16:09.034Z"
   },
   {
    "duration": 13,
    "start_time": "2022-04-14T07:16:09.057Z"
   },
   {
    "duration": 10,
    "start_time": "2022-04-14T07:16:09.099Z"
   },
   {
    "duration": 13,
    "start_time": "2022-04-14T07:16:09.110Z"
   },
   {
    "duration": 14,
    "start_time": "2022-04-14T07:16:09.125Z"
   },
   {
    "duration": 20,
    "start_time": "2022-04-14T07:16:09.141Z"
   },
   {
    "duration": 740,
    "start_time": "2022-04-14T07:16:09.163Z"
   },
   {
    "duration": 11,
    "start_time": "2022-04-14T07:16:09.905Z"
   },
   {
    "duration": 20,
    "start_time": "2022-04-14T07:16:09.918Z"
   },
   {
    "duration": 260,
    "start_time": "2022-04-14T07:16:09.940Z"
   },
   {
    "duration": 9,
    "start_time": "2022-04-14T07:16:10.202Z"
   },
   {
    "duration": 13,
    "start_time": "2022-04-14T07:17:15.002Z"
   },
   {
    "duration": 21,
    "start_time": "2022-04-14T07:19:28.978Z"
   },
   {
    "duration": 17,
    "start_time": "2022-04-14T07:19:38.770Z"
   },
   {
    "duration": 116,
    "start_time": "2022-04-14T07:21:58.870Z"
   },
   {
    "duration": 10,
    "start_time": "2022-04-14T07:22:11.167Z"
   },
   {
    "duration": 9,
    "start_time": "2022-04-14T07:22:16.708Z"
   },
   {
    "duration": 4,
    "start_time": "2022-04-14T07:22:23.425Z"
   },
   {
    "duration": 6,
    "start_time": "2022-04-14T07:22:29.560Z"
   },
   {
    "duration": 18,
    "start_time": "2022-04-14T07:22:46.528Z"
   },
   {
    "duration": 8,
    "start_time": "2022-04-14T07:24:23.525Z"
   },
   {
    "duration": 21,
    "start_time": "2022-04-14T07:24:28.560Z"
   },
   {
    "duration": 24,
    "start_time": "2022-04-14T07:25:07.712Z"
   },
   {
    "duration": 21,
    "start_time": "2022-04-14T07:25:18.553Z"
   },
   {
    "duration": 21,
    "start_time": "2022-04-14T07:25:28.624Z"
   },
   {
    "duration": 14,
    "start_time": "2022-04-14T07:26:23.409Z"
   },
   {
    "duration": 21,
    "start_time": "2022-04-14T07:26:27.953Z"
   },
   {
    "duration": 22,
    "start_time": "2022-04-14T07:27:07.801Z"
   },
   {
    "duration": 20,
    "start_time": "2022-04-14T07:27:38.881Z"
   },
   {
    "duration": 371,
    "start_time": "2022-04-14T07:41:12.805Z"
   },
   {
    "duration": 5,
    "start_time": "2022-04-14T07:46:28.528Z"
   },
   {
    "duration": 12,
    "start_time": "2022-04-14T07:46:35.131Z"
   },
   {
    "duration": 4,
    "start_time": "2022-04-14T07:46:52.371Z"
   },
   {
    "duration": 192,
    "start_time": "2022-04-14T07:47:15.964Z"
   },
   {
    "duration": 0,
    "start_time": "2022-04-14T07:47:16.158Z"
   },
   {
    "duration": 140,
    "start_time": "2022-04-14T07:47:20.986Z"
   },
   {
    "duration": 25,
    "start_time": "2022-04-14T07:48:13.308Z"
   },
   {
    "duration": 19,
    "start_time": "2022-04-14T07:48:53.553Z"
   },
   {
    "duration": 150,
    "start_time": "2022-04-14T07:49:42.211Z"
   },
   {
    "duration": 17,
    "start_time": "2022-04-14T07:50:25.028Z"
   },
   {
    "duration": 186,
    "start_time": "2022-04-14T07:50:45.364Z"
   },
   {
    "duration": 1137,
    "start_time": "2022-04-14T07:51:36.454Z"
   },
   {
    "duration": 40,
    "start_time": "2022-04-14T07:51:37.593Z"
   },
   {
    "duration": 16,
    "start_time": "2022-04-14T07:51:37.634Z"
   },
   {
    "duration": 13,
    "start_time": "2022-04-14T07:51:37.652Z"
   },
   {
    "duration": 6,
    "start_time": "2022-04-14T07:51:37.667Z"
   },
   {
    "duration": 7,
    "start_time": "2022-04-14T07:51:37.674Z"
   },
   {
    "duration": 19,
    "start_time": "2022-04-14T07:51:37.682Z"
   },
   {
    "duration": 14,
    "start_time": "2022-04-14T07:51:37.702Z"
   },
   {
    "duration": 9,
    "start_time": "2022-04-14T07:51:37.717Z"
   },
   {
    "duration": 9,
    "start_time": "2022-04-14T07:51:37.727Z"
   },
   {
    "duration": 12,
    "start_time": "2022-04-14T07:51:37.738Z"
   },
   {
    "duration": 8,
    "start_time": "2022-04-14T07:51:37.752Z"
   },
   {
    "duration": 43,
    "start_time": "2022-04-14T07:51:37.761Z"
   },
   {
    "duration": 8,
    "start_time": "2022-04-14T07:51:37.807Z"
   },
   {
    "duration": 9,
    "start_time": "2022-04-14T07:51:37.817Z"
   },
   {
    "duration": 14,
    "start_time": "2022-04-14T07:51:37.827Z"
   },
   {
    "duration": 9,
    "start_time": "2022-04-14T07:51:37.843Z"
   },
   {
    "duration": 5,
    "start_time": "2022-04-14T07:51:37.853Z"
   },
   {
    "duration": 4,
    "start_time": "2022-04-14T07:51:37.860Z"
   },
   {
    "duration": 37,
    "start_time": "2022-04-14T07:51:37.866Z"
   },
   {
    "duration": 9,
    "start_time": "2022-04-14T07:51:37.905Z"
   },
   {
    "duration": 15,
    "start_time": "2022-04-14T07:51:37.915Z"
   },
   {
    "duration": 10,
    "start_time": "2022-04-14T07:51:37.932Z"
   },
   {
    "duration": 16,
    "start_time": "2022-04-14T07:51:37.944Z"
   },
   {
    "duration": 14,
    "start_time": "2022-04-14T07:51:37.962Z"
   },
   {
    "duration": 6,
    "start_time": "2022-04-14T07:51:37.978Z"
   },
   {
    "duration": 3,
    "start_time": "2022-04-14T07:51:37.986Z"
   },
   {
    "duration": 4,
    "start_time": "2022-04-14T07:51:38.001Z"
   },
   {
    "duration": 7,
    "start_time": "2022-04-14T07:51:38.006Z"
   },
   {
    "duration": 8,
    "start_time": "2022-04-14T07:51:38.015Z"
   },
   {
    "duration": 6,
    "start_time": "2022-04-14T07:51:38.025Z"
   },
   {
    "duration": 8,
    "start_time": "2022-04-14T07:51:38.033Z"
   },
   {
    "duration": 6,
    "start_time": "2022-04-14T07:51:38.043Z"
   },
   {
    "duration": 65,
    "start_time": "2022-04-14T07:51:38.050Z"
   },
   {
    "duration": 3,
    "start_time": "2022-04-14T07:51:38.117Z"
   },
   {
    "duration": 11,
    "start_time": "2022-04-14T07:51:38.121Z"
   },
   {
    "duration": 12,
    "start_time": "2022-04-14T07:51:38.133Z"
   },
   {
    "duration": 5,
    "start_time": "2022-04-14T07:51:38.146Z"
   },
   {
    "duration": 13,
    "start_time": "2022-04-14T07:51:38.152Z"
   },
   {
    "duration": 47,
    "start_time": "2022-04-14T07:51:38.167Z"
   },
   {
    "duration": 11,
    "start_time": "2022-04-14T07:51:38.218Z"
   },
   {
    "duration": 8,
    "start_time": "2022-04-14T07:51:38.230Z"
   },
   {
    "duration": 15,
    "start_time": "2022-04-14T07:51:38.239Z"
   },
   {
    "duration": 15,
    "start_time": "2022-04-14T07:51:38.255Z"
   },
   {
    "duration": 41,
    "start_time": "2022-04-14T07:51:38.271Z"
   },
   {
    "duration": 600,
    "start_time": "2022-04-14T07:51:38.313Z"
   },
   {
    "duration": 8,
    "start_time": "2022-04-14T07:51:38.914Z"
   },
   {
    "duration": 17,
    "start_time": "2022-04-14T07:51:38.923Z"
   },
   {
    "duration": 164,
    "start_time": "2022-04-14T07:51:38.942Z"
   },
   {
    "duration": 14,
    "start_time": "2022-04-14T07:51:39.108Z"
   },
   {
    "duration": 16,
    "start_time": "2022-04-14T07:51:39.124Z"
   },
   {
    "duration": 16,
    "start_time": "2022-04-14T07:51:39.142Z"
   },
   {
    "duration": 12,
    "start_time": "2022-04-14T07:51:39.160Z"
   },
   {
    "duration": 28,
    "start_time": "2022-04-14T07:51:39.174Z"
   },
   {
    "duration": 12,
    "start_time": "2022-04-14T07:51:39.204Z"
   },
   {
    "duration": 5,
    "start_time": "2022-04-14T07:51:39.217Z"
   },
   {
    "duration": 151,
    "start_time": "2022-04-14T07:51:39.224Z"
   },
   {
    "duration": 15,
    "start_time": "2022-04-14T07:51:39.377Z"
   },
   {
    "duration": 16,
    "start_time": "2022-04-14T07:51:39.400Z"
   },
   {
    "duration": 142,
    "start_time": "2022-04-14T07:51:39.417Z"
   },
   {
    "duration": 17,
    "start_time": "2022-04-14T07:51:39.561Z"
   },
   {
    "duration": 175,
    "start_time": "2022-04-14T07:51:39.580Z"
   },
   {
    "duration": 5,
    "start_time": "2022-04-14T08:50:44.760Z"
   },
   {
    "duration": 13,
    "start_time": "2022-04-14T08:50:56.423Z"
   },
   {
    "duration": 243,
    "start_time": "2022-04-14T08:51:07.677Z"
   },
   {
    "duration": 282,
    "start_time": "2022-04-14T08:51:51.736Z"
   },
   {
    "duration": 8,
    "start_time": "2022-04-14T08:53:49.119Z"
   },
   {
    "duration": 5,
    "start_time": "2022-04-14T08:54:13.288Z"
   },
   {
    "duration": 12,
    "start_time": "2022-04-14T08:54:20.133Z"
   },
   {
    "duration": 7,
    "start_time": "2022-04-14T08:56:37.702Z"
   },
   {
    "duration": 14,
    "start_time": "2022-04-14T08:56:43.034Z"
   },
   {
    "duration": 6,
    "start_time": "2022-04-14T08:57:11.831Z"
   },
   {
    "duration": 14,
    "start_time": "2022-04-14T08:57:17.136Z"
   },
   {
    "duration": 8,
    "start_time": "2022-04-14T08:57:45.839Z"
   },
   {
    "duration": 22,
    "start_time": "2022-04-14T08:57:54.768Z"
   },
   {
    "duration": 189,
    "start_time": "2022-04-14T08:58:41.022Z"
   },
   {
    "duration": 182,
    "start_time": "2022-04-14T08:58:49.673Z"
   },
   {
    "duration": 4,
    "start_time": "2022-04-14T08:58:57.934Z"
   },
   {
    "duration": 6,
    "start_time": "2022-04-14T08:59:03.952Z"
   },
   {
    "duration": 185,
    "start_time": "2022-04-14T08:59:17.849Z"
   },
   {
    "duration": 4,
    "start_time": "2022-04-14T08:59:35.119Z"
   },
   {
    "duration": 6,
    "start_time": "2022-04-14T08:59:40.766Z"
   },
   {
    "duration": 13,
    "start_time": "2022-04-14T08:59:54.071Z"
   },
   {
    "duration": 14,
    "start_time": "2022-04-14T09:00:17.183Z"
   },
   {
    "duration": 15,
    "start_time": "2022-04-14T09:00:41.590Z"
   },
   {
    "duration": 1226,
    "start_time": "2022-04-14T09:01:48.171Z"
   },
   {
    "duration": 40,
    "start_time": "2022-04-14T09:01:49.399Z"
   },
   {
    "duration": 18,
    "start_time": "2022-04-14T09:01:49.441Z"
   },
   {
    "duration": 20,
    "start_time": "2022-04-14T09:01:49.462Z"
   },
   {
    "duration": 18,
    "start_time": "2022-04-14T09:01:49.484Z"
   },
   {
    "duration": 8,
    "start_time": "2022-04-14T09:01:49.504Z"
   },
   {
    "duration": 6,
    "start_time": "2022-04-14T09:01:49.514Z"
   },
   {
    "duration": 29,
    "start_time": "2022-04-14T09:01:49.521Z"
   },
   {
    "duration": 9,
    "start_time": "2022-04-14T09:01:49.552Z"
   },
   {
    "duration": 36,
    "start_time": "2022-04-14T09:01:49.564Z"
   },
   {
    "duration": 18,
    "start_time": "2022-04-14T09:01:49.602Z"
   },
   {
    "duration": 9,
    "start_time": "2022-04-14T09:01:49.622Z"
   },
   {
    "duration": 11,
    "start_time": "2022-04-14T09:01:49.633Z"
   },
   {
    "duration": 6,
    "start_time": "2022-04-14T09:01:49.647Z"
   },
   {
    "duration": 8,
    "start_time": "2022-04-14T09:01:49.654Z"
   },
   {
    "duration": 37,
    "start_time": "2022-04-14T09:01:49.664Z"
   },
   {
    "duration": 8,
    "start_time": "2022-04-14T09:01:49.703Z"
   },
   {
    "duration": 6,
    "start_time": "2022-04-14T09:01:49.712Z"
   },
   {
    "duration": 6,
    "start_time": "2022-04-14T09:01:49.719Z"
   },
   {
    "duration": 19,
    "start_time": "2022-04-14T09:01:49.727Z"
   },
   {
    "duration": 9,
    "start_time": "2022-04-14T09:01:49.748Z"
   },
   {
    "duration": 42,
    "start_time": "2022-04-14T09:01:49.759Z"
   },
   {
    "duration": 16,
    "start_time": "2022-04-14T09:01:49.803Z"
   },
   {
    "duration": 11,
    "start_time": "2022-04-14T09:01:49.820Z"
   },
   {
    "duration": 13,
    "start_time": "2022-04-14T09:01:49.833Z"
   },
   {
    "duration": 9,
    "start_time": "2022-04-14T09:01:49.847Z"
   },
   {
    "duration": 12,
    "start_time": "2022-04-14T09:01:49.858Z"
   },
   {
    "duration": 4,
    "start_time": "2022-04-14T09:01:49.878Z"
   },
   {
    "duration": 18,
    "start_time": "2022-04-14T09:01:49.884Z"
   },
   {
    "duration": 7,
    "start_time": "2022-04-14T09:01:49.904Z"
   },
   {
    "duration": 8,
    "start_time": "2022-04-14T09:01:49.913Z"
   },
   {
    "duration": 8,
    "start_time": "2022-04-14T09:01:49.923Z"
   },
   {
    "duration": 7,
    "start_time": "2022-04-14T09:01:49.933Z"
   },
   {
    "duration": 30,
    "start_time": "2022-04-14T09:01:49.942Z"
   },
   {
    "duration": 27,
    "start_time": "2022-04-14T09:01:49.974Z"
   },
   {
    "duration": 16,
    "start_time": "2022-04-14T09:01:50.002Z"
   },
   {
    "duration": 22,
    "start_time": "2022-04-14T09:01:50.020Z"
   },
   {
    "duration": 7,
    "start_time": "2022-04-14T09:01:50.044Z"
   },
   {
    "duration": 18,
    "start_time": "2022-04-14T09:01:50.053Z"
   },
   {
    "duration": 35,
    "start_time": "2022-04-14T09:01:50.073Z"
   },
   {
    "duration": 18,
    "start_time": "2022-04-14T09:01:50.110Z"
   },
   {
    "duration": 12,
    "start_time": "2022-04-14T09:01:50.130Z"
   },
   {
    "duration": 23,
    "start_time": "2022-04-14T09:01:50.144Z"
   },
   {
    "duration": 54,
    "start_time": "2022-04-14T09:01:50.170Z"
   },
   {
    "duration": 26,
    "start_time": "2022-04-14T09:01:50.226Z"
   },
   {
    "duration": 663,
    "start_time": "2022-04-14T09:01:50.254Z"
   },
   {
    "duration": 8,
    "start_time": "2022-04-14T09:01:50.919Z"
   },
   {
    "duration": 24,
    "start_time": "2022-04-14T09:01:50.928Z"
   },
   {
    "duration": 168,
    "start_time": "2022-04-14T09:01:50.954Z"
   },
   {
    "duration": 14,
    "start_time": "2022-04-14T09:01:51.123Z"
   },
   {
    "duration": 20,
    "start_time": "2022-04-14T09:01:51.139Z"
   },
   {
    "duration": 16,
    "start_time": "2022-04-14T09:01:51.161Z"
   },
   {
    "duration": 36,
    "start_time": "2022-04-14T09:01:51.179Z"
   },
   {
    "duration": 7,
    "start_time": "2022-04-14T09:01:51.217Z"
   },
   {
    "duration": 18,
    "start_time": "2022-04-14T09:01:51.226Z"
   },
   {
    "duration": 12,
    "start_time": "2022-04-14T09:01:51.246Z"
   },
   {
    "duration": 161,
    "start_time": "2022-04-14T09:01:51.260Z"
   },
   {
    "duration": 16,
    "start_time": "2022-04-14T09:01:51.422Z"
   },
   {
    "duration": 18,
    "start_time": "2022-04-14T09:01:51.440Z"
   },
   {
    "duration": 161,
    "start_time": "2022-04-14T09:01:51.459Z"
   },
   {
    "duration": 16,
    "start_time": "2022-04-14T09:01:51.621Z"
   },
   {
    "duration": 181,
    "start_time": "2022-04-14T09:01:51.638Z"
   },
   {
    "duration": 6,
    "start_time": "2022-04-14T09:01:51.821Z"
   },
   {
    "duration": 28,
    "start_time": "2022-04-14T09:01:51.829Z"
   },
   {
    "duration": 375,
    "start_time": "2022-04-14T09:01:51.859Z"
   },
   {
    "duration": 180,
    "start_time": "2022-04-14T09:01:52.235Z"
   },
   {
    "duration": 9,
    "start_time": "2022-04-14T09:01:52.417Z"
   },
   {
    "duration": 9,
    "start_time": "2022-04-14T09:01:52.427Z"
   },
   {
    "duration": 12,
    "start_time": "2022-04-14T09:01:52.438Z"
   },
   {
    "duration": 8,
    "start_time": "2022-04-14T09:01:52.452Z"
   },
   {
    "duration": 14,
    "start_time": "2022-04-14T09:01:52.462Z"
   },
   {
    "duration": 29,
    "start_time": "2022-04-14T09:01:52.477Z"
   },
   {
    "duration": 15,
    "start_time": "2022-04-14T09:01:52.507Z"
   },
   {
    "duration": 7,
    "start_time": "2022-04-14T09:01:52.524Z"
   },
   {
    "duration": 19,
    "start_time": "2022-04-14T09:01:52.534Z"
   },
   {
    "duration": 7,
    "start_time": "2022-04-14T09:01:52.556Z"
   },
   {
    "duration": 10,
    "start_time": "2022-04-14T09:01:52.600Z"
   },
   {
    "duration": 6,
    "start_time": "2022-04-14T09:01:52.612Z"
   },
   {
    "duration": 11,
    "start_time": "2022-04-14T09:01:52.620Z"
   },
   {
    "duration": 22,
    "start_time": "2022-04-14T09:01:52.633Z"
   },
   {
    "duration": 55,
    "start_time": "2022-04-14T09:01:52.657Z"
   },
   {
    "duration": 20,
    "start_time": "2022-04-14T09:01:52.721Z"
   },
   {
    "duration": 99,
    "start_time": "2022-04-14T11:35:46.453Z"
   },
   {
    "duration": 1290,
    "start_time": "2022-04-14T11:35:54.966Z"
   },
   {
    "duration": 41,
    "start_time": "2022-04-14T11:35:56.258Z"
   },
   {
    "duration": 17,
    "start_time": "2022-04-14T11:35:56.301Z"
   },
   {
    "duration": 29,
    "start_time": "2022-04-14T11:35:56.320Z"
   },
   {
    "duration": 5,
    "start_time": "2022-04-14T11:35:56.350Z"
   },
   {
    "duration": 10,
    "start_time": "2022-04-14T11:35:56.356Z"
   },
   {
    "duration": 7,
    "start_time": "2022-04-14T11:35:56.367Z"
   },
   {
    "duration": 14,
    "start_time": "2022-04-14T11:35:56.375Z"
   },
   {
    "duration": 7,
    "start_time": "2022-04-14T11:35:56.391Z"
   },
   {
    "duration": 8,
    "start_time": "2022-04-14T11:35:56.401Z"
   },
   {
    "duration": 38,
    "start_time": "2022-04-14T11:35:56.411Z"
   },
   {
    "duration": 8,
    "start_time": "2022-04-14T11:35:56.451Z"
   },
   {
    "duration": 12,
    "start_time": "2022-04-14T11:35:56.461Z"
   },
   {
    "duration": 7,
    "start_time": "2022-04-14T11:35:56.474Z"
   },
   {
    "duration": 8,
    "start_time": "2022-04-14T11:35:56.483Z"
   },
   {
    "duration": 14,
    "start_time": "2022-04-14T11:35:56.492Z"
   },
   {
    "duration": 9,
    "start_time": "2022-04-14T11:35:56.508Z"
   },
   {
    "duration": 5,
    "start_time": "2022-04-14T11:35:56.518Z"
   },
   {
    "duration": 25,
    "start_time": "2022-04-14T11:35:56.525Z"
   },
   {
    "duration": 18,
    "start_time": "2022-04-14T11:35:56.551Z"
   },
   {
    "duration": 9,
    "start_time": "2022-04-14T11:35:56.571Z"
   },
   {
    "duration": 14,
    "start_time": "2022-04-14T11:35:56.581Z"
   },
   {
    "duration": 9,
    "start_time": "2022-04-14T11:35:56.597Z"
   },
   {
    "duration": 5,
    "start_time": "2022-04-14T11:35:56.607Z"
   },
   {
    "duration": 34,
    "start_time": "2022-04-14T11:35:56.613Z"
   },
   {
    "duration": 6,
    "start_time": "2022-04-14T11:35:56.649Z"
   },
   {
    "duration": 7,
    "start_time": "2022-04-14T11:35:56.656Z"
   },
   {
    "duration": 4,
    "start_time": "2022-04-14T11:35:56.667Z"
   },
   {
    "duration": 10,
    "start_time": "2022-04-14T11:35:56.673Z"
   },
   {
    "duration": 13,
    "start_time": "2022-04-14T11:35:56.685Z"
   },
   {
    "duration": 6,
    "start_time": "2022-04-14T11:35:56.699Z"
   },
   {
    "duration": 12,
    "start_time": "2022-04-14T11:35:56.707Z"
   },
   {
    "duration": 30,
    "start_time": "2022-04-14T11:35:56.720Z"
   },
   {
    "duration": 44,
    "start_time": "2022-04-14T11:35:56.752Z"
   },
   {
    "duration": 5,
    "start_time": "2022-04-14T11:35:56.798Z"
   },
   {
    "duration": 13,
    "start_time": "2022-04-14T11:35:56.805Z"
   },
   {
    "duration": 39,
    "start_time": "2022-04-14T11:35:56.820Z"
   },
   {
    "duration": 6,
    "start_time": "2022-04-14T11:35:56.861Z"
   },
   {
    "duration": 19,
    "start_time": "2022-04-14T11:35:56.869Z"
   },
   {
    "duration": 21,
    "start_time": "2022-04-14T11:35:56.890Z"
   },
   {
    "duration": 42,
    "start_time": "2022-04-14T11:35:56.912Z"
   },
   {
    "duration": 9,
    "start_time": "2022-04-14T11:35:56.956Z"
   },
   {
    "duration": 13,
    "start_time": "2022-04-14T11:35:56.967Z"
   },
   {
    "duration": 15,
    "start_time": "2022-04-14T11:35:56.982Z"
   },
   {
    "duration": 19,
    "start_time": "2022-04-14T11:35:56.998Z"
   },
   {
    "duration": 606,
    "start_time": "2022-04-14T11:35:57.018Z"
   },
   {
    "duration": 7,
    "start_time": "2022-04-14T11:35:57.626Z"
   },
   {
    "duration": 23,
    "start_time": "2022-04-14T11:35:57.635Z"
   },
   {
    "duration": 151,
    "start_time": "2022-04-14T11:35:57.660Z"
   },
   {
    "duration": 14,
    "start_time": "2022-04-14T11:35:57.812Z"
   },
   {
    "duration": 27,
    "start_time": "2022-04-14T11:35:57.828Z"
   },
   {
    "duration": 13,
    "start_time": "2022-04-14T11:35:57.857Z"
   },
   {
    "duration": 15,
    "start_time": "2022-04-14T11:35:57.872Z"
   },
   {
    "duration": 5,
    "start_time": "2022-04-14T11:35:57.888Z"
   },
   {
    "duration": 14,
    "start_time": "2022-04-14T11:35:57.895Z"
   },
   {
    "duration": 6,
    "start_time": "2022-04-14T11:35:57.911Z"
   },
   {
    "duration": 162,
    "start_time": "2022-04-14T11:35:57.918Z"
   },
   {
    "duration": 16,
    "start_time": "2022-04-14T11:35:58.081Z"
   },
   {
    "duration": 20,
    "start_time": "2022-04-14T11:35:58.098Z"
   },
   {
    "duration": 154,
    "start_time": "2022-04-14T11:35:58.119Z"
   },
   {
    "duration": 16,
    "start_time": "2022-04-14T11:35:58.275Z"
   },
   {
    "duration": 175,
    "start_time": "2022-04-14T11:35:58.293Z"
   },
   {
    "duration": 5,
    "start_time": "2022-04-14T11:35:58.470Z"
   },
   {
    "duration": 15,
    "start_time": "2022-04-14T11:35:58.477Z"
   },
   {
    "duration": 255,
    "start_time": "2022-04-14T11:35:58.494Z"
   },
   {
    "duration": 176,
    "start_time": "2022-04-14T11:35:58.751Z"
   },
   {
    "duration": 9,
    "start_time": "2022-04-14T11:35:58.928Z"
   },
   {
    "duration": 12,
    "start_time": "2022-04-14T11:35:58.938Z"
   },
   {
    "duration": 13,
    "start_time": "2022-04-14T11:35:58.952Z"
   },
   {
    "duration": 8,
    "start_time": "2022-04-14T11:35:58.966Z"
   },
   {
    "duration": 15,
    "start_time": "2022-04-14T11:35:58.976Z"
   },
   {
    "duration": 6,
    "start_time": "2022-04-14T11:35:58.992Z"
   },
   {
    "duration": 15,
    "start_time": "2022-04-14T11:35:58.999Z"
   },
   {
    "duration": 6,
    "start_time": "2022-04-14T11:35:59.015Z"
   },
   {
    "duration": 39,
    "start_time": "2022-04-14T11:35:59.022Z"
   },
   {
    "duration": 6,
    "start_time": "2022-04-14T11:35:59.063Z"
   },
   {
    "duration": 7,
    "start_time": "2022-04-14T11:35:59.071Z"
   },
   {
    "duration": 8,
    "start_time": "2022-04-14T11:35:59.079Z"
   },
   {
    "duration": 8,
    "start_time": "2022-04-14T11:35:59.088Z"
   },
   {
    "duration": 15,
    "start_time": "2022-04-14T11:35:59.097Z"
   },
   {
    "duration": 43,
    "start_time": "2022-04-14T11:35:59.113Z"
   },
   {
    "duration": 15,
    "start_time": "2022-04-14T11:35:59.161Z"
   },
   {
    "duration": 6,
    "start_time": "2022-04-14T11:40:16.180Z"
   },
   {
    "duration": 19,
    "start_time": "2022-04-14T11:40:22.996Z"
   },
   {
    "duration": 6,
    "start_time": "2022-04-14T11:41:37.076Z"
   },
   {
    "duration": 6,
    "start_time": "2022-04-14T11:42:05.285Z"
   },
   {
    "duration": 92,
    "start_time": "2022-04-14T11:42:38.790Z"
   },
   {
    "duration": 4,
    "start_time": "2022-04-14T11:42:41.764Z"
   },
   {
    "duration": 13,
    "start_time": "2022-04-14T11:43:52.939Z"
   },
   {
    "duration": 6,
    "start_time": "2022-04-14T11:44:43.952Z"
   },
   {
    "duration": 13,
    "start_time": "2022-04-14T11:44:46.116Z"
   },
   {
    "duration": 210,
    "start_time": "2022-04-14T11:45:23.841Z"
   },
   {
    "duration": 114,
    "start_time": "2022-04-14T11:45:32.868Z"
   },
   {
    "duration": 162,
    "start_time": "2022-04-14T11:45:37.435Z"
   },
   {
    "duration": 145,
    "start_time": "2022-04-14T11:45:43.148Z"
   },
   {
    "duration": 141,
    "start_time": "2022-04-14T11:45:54.356Z"
   },
   {
    "duration": 136,
    "start_time": "2022-04-14T11:46:03.805Z"
   },
   {
    "duration": 7,
    "start_time": "2022-04-14T11:46:33.531Z"
   },
   {
    "duration": 141,
    "start_time": "2022-04-14T11:46:42.811Z"
   },
   {
    "duration": 122,
    "start_time": "2022-04-14T11:47:18.027Z"
   },
   {
    "duration": 250,
    "start_time": "2022-04-14T11:47:25.411Z"
   },
   {
    "duration": 141,
    "start_time": "2022-04-14T11:47:33.522Z"
   },
   {
    "duration": 107,
    "start_time": "2022-04-14T11:47:52.107Z"
   },
   {
    "duration": 111,
    "start_time": "2022-04-14T11:47:57.501Z"
   },
   {
    "duration": 115,
    "start_time": "2022-04-14T11:48:56.876Z"
   },
   {
    "duration": 118,
    "start_time": "2022-04-14T11:49:14.779Z"
   },
   {
    "duration": 111,
    "start_time": "2022-04-14T11:49:22.731Z"
   },
   {
    "duration": 156,
    "start_time": "2022-04-14T11:51:12.308Z"
   },
   {
    "duration": 5,
    "start_time": "2022-04-14T11:51:16.851Z"
   },
   {
    "duration": 4,
    "start_time": "2022-04-14T11:51:24.099Z"
   },
   {
    "duration": 4,
    "start_time": "2022-04-14T11:51:52.739Z"
   },
   {
    "duration": 1516,
    "start_time": "2022-04-14T11:52:00.393Z"
   },
   {
    "duration": 50,
    "start_time": "2022-04-14T11:52:01.912Z"
   },
   {
    "duration": 23,
    "start_time": "2022-04-14T11:52:01.965Z"
   },
   {
    "duration": 21,
    "start_time": "2022-04-14T11:52:01.991Z"
   },
   {
    "duration": 5,
    "start_time": "2022-04-14T11:52:02.014Z"
   },
   {
    "duration": 30,
    "start_time": "2022-04-14T11:52:02.021Z"
   },
   {
    "duration": 10,
    "start_time": "2022-04-14T11:52:02.053Z"
   },
   {
    "duration": 22,
    "start_time": "2022-04-14T11:52:02.065Z"
   },
   {
    "duration": 9,
    "start_time": "2022-04-14T11:52:02.088Z"
   },
   {
    "duration": 11,
    "start_time": "2022-04-14T11:52:02.099Z"
   },
   {
    "duration": 37,
    "start_time": "2022-04-14T11:52:02.112Z"
   },
   {
    "duration": 6,
    "start_time": "2022-04-14T11:52:02.150Z"
   },
   {
    "duration": 11,
    "start_time": "2022-04-14T11:52:02.158Z"
   },
   {
    "duration": 8,
    "start_time": "2022-04-14T11:52:02.171Z"
   },
   {
    "duration": 9,
    "start_time": "2022-04-14T11:52:02.181Z"
   },
   {
    "duration": 14,
    "start_time": "2022-04-14T11:52:02.191Z"
   },
   {
    "duration": 6,
    "start_time": "2022-04-14T11:52:02.207Z"
   },
   {
    "duration": 6,
    "start_time": "2022-04-14T11:52:02.215Z"
   },
   {
    "duration": 3,
    "start_time": "2022-04-14T11:52:02.247Z"
   },
   {
    "duration": 17,
    "start_time": "2022-04-14T11:52:02.252Z"
   },
   {
    "duration": 9,
    "start_time": "2022-04-14T11:52:02.271Z"
   },
   {
    "duration": 13,
    "start_time": "2022-04-14T11:52:02.281Z"
   },
   {
    "duration": 9,
    "start_time": "2022-04-14T11:52:02.296Z"
   },
   {
    "duration": 4,
    "start_time": "2022-04-14T11:52:02.307Z"
   },
   {
    "duration": 41,
    "start_time": "2022-04-14T11:52:02.313Z"
   },
   {
    "duration": 6,
    "start_time": "2022-04-14T11:52:02.355Z"
   },
   {
    "duration": 4,
    "start_time": "2022-04-14T11:52:02.362Z"
   },
   {
    "duration": 5,
    "start_time": "2022-04-14T11:52:02.371Z"
   },
   {
    "duration": 12,
    "start_time": "2022-04-14T11:52:02.377Z"
   },
   {
    "duration": 9,
    "start_time": "2022-04-14T11:52:02.390Z"
   },
   {
    "duration": 10,
    "start_time": "2022-04-14T11:52:02.401Z"
   },
   {
    "duration": 39,
    "start_time": "2022-04-14T11:52:02.413Z"
   },
   {
    "duration": 8,
    "start_time": "2022-04-14T11:52:02.454Z"
   },
   {
    "duration": 49,
    "start_time": "2022-04-14T11:52:02.463Z"
   },
   {
    "duration": 5,
    "start_time": "2022-04-14T11:52:02.514Z"
   },
   {
    "duration": 38,
    "start_time": "2022-04-14T11:52:02.521Z"
   },
   {
    "duration": 20,
    "start_time": "2022-04-14T11:52:02.561Z"
   },
   {
    "duration": 6,
    "start_time": "2022-04-14T11:52:02.583Z"
   },
   {
    "duration": 19,
    "start_time": "2022-04-14T11:52:02.591Z"
   },
   {
    "duration": 43,
    "start_time": "2022-04-14T11:52:02.612Z"
   },
   {
    "duration": 17,
    "start_time": "2022-04-14T11:52:02.657Z"
   },
   {
    "duration": 10,
    "start_time": "2022-04-14T11:52:02.676Z"
   },
   {
    "duration": 20,
    "start_time": "2022-04-14T11:52:02.688Z"
   },
   {
    "duration": 45,
    "start_time": "2022-04-14T11:52:02.710Z"
   },
   {
    "duration": 31,
    "start_time": "2022-04-14T11:52:02.757Z"
   },
   {
    "duration": 994,
    "start_time": "2022-04-14T11:52:02.790Z"
   },
   {
    "duration": 7,
    "start_time": "2022-04-14T11:52:03.786Z"
   },
   {
    "duration": 14,
    "start_time": "2022-04-14T11:52:03.795Z"
   },
   {
    "duration": 167,
    "start_time": "2022-04-14T11:52:03.811Z"
   },
   {
    "duration": 14,
    "start_time": "2022-04-14T11:52:03.981Z"
   },
   {
    "duration": 16,
    "start_time": "2022-04-14T11:52:03.997Z"
   },
   {
    "duration": 34,
    "start_time": "2022-04-14T11:52:04.015Z"
   },
   {
    "duration": 15,
    "start_time": "2022-04-14T11:52:04.051Z"
   },
   {
    "duration": 9,
    "start_time": "2022-04-14T11:52:04.067Z"
   },
   {
    "duration": 19,
    "start_time": "2022-04-14T11:52:04.077Z"
   },
   {
    "duration": 8,
    "start_time": "2022-04-14T11:52:04.098Z"
   },
   {
    "duration": 157,
    "start_time": "2022-04-14T11:52:04.108Z"
   },
   {
    "duration": 15,
    "start_time": "2022-04-14T11:52:04.267Z"
   },
   {
    "duration": 35,
    "start_time": "2022-04-14T11:52:04.284Z"
   },
   {
    "duration": 135,
    "start_time": "2022-04-14T11:52:04.321Z"
   },
   {
    "duration": 18,
    "start_time": "2022-04-14T11:52:04.458Z"
   },
   {
    "duration": 188,
    "start_time": "2022-04-14T11:52:04.478Z"
   },
   {
    "duration": 6,
    "start_time": "2022-04-14T11:52:04.667Z"
   },
   {
    "duration": 29,
    "start_time": "2022-04-14T11:52:04.675Z"
   },
   {
    "duration": 246,
    "start_time": "2022-04-14T11:52:04.705Z"
   },
   {
    "duration": 178,
    "start_time": "2022-04-14T11:52:04.953Z"
   },
   {
    "duration": 15,
    "start_time": "2022-04-14T11:52:05.132Z"
   },
   {
    "duration": 8,
    "start_time": "2022-04-14T11:52:05.149Z"
   },
   {
    "duration": 15,
    "start_time": "2022-04-14T11:52:05.158Z"
   },
   {
    "duration": 10,
    "start_time": "2022-04-14T11:52:05.174Z"
   },
   {
    "duration": 16,
    "start_time": "2022-04-14T11:52:05.186Z"
   },
   {
    "duration": 5,
    "start_time": "2022-04-14T11:52:05.204Z"
   },
   {
    "duration": 38,
    "start_time": "2022-04-14T11:52:05.210Z"
   },
   {
    "duration": 6,
    "start_time": "2022-04-14T11:52:05.250Z"
   },
   {
    "duration": 14,
    "start_time": "2022-04-14T11:52:05.257Z"
   },
   {
    "duration": 7,
    "start_time": "2022-04-14T11:52:05.272Z"
   },
   {
    "duration": 7,
    "start_time": "2022-04-14T11:52:05.281Z"
   },
   {
    "duration": 6,
    "start_time": "2022-04-14T11:52:05.289Z"
   },
   {
    "duration": 8,
    "start_time": "2022-04-14T11:52:05.297Z"
   },
   {
    "duration": 51,
    "start_time": "2022-04-14T11:52:05.307Z"
   },
   {
    "duration": 15,
    "start_time": "2022-04-14T11:52:05.360Z"
   },
   {
    "duration": 13,
    "start_time": "2022-04-14T11:52:05.380Z"
   },
   {
    "duration": 8,
    "start_time": "2022-04-14T11:52:05.395Z"
   },
   {
    "duration": 45,
    "start_time": "2022-04-14T11:52:05.404Z"
   },
   {
    "duration": 128,
    "start_time": "2022-04-14T11:52:05.450Z"
   },
   {
    "duration": 4,
    "start_time": "2022-04-14T11:52:05.580Z"
   },
   {
    "duration": 14,
    "start_time": "2022-04-14T11:55:16.453Z"
   },
   {
    "duration": 16,
    "start_time": "2022-04-14T11:55:34.125Z"
   },
   {
    "duration": 5,
    "start_time": "2022-04-14T11:56:38.260Z"
   },
   {
    "duration": 12,
    "start_time": "2022-04-14T11:58:07.374Z"
   },
   {
    "duration": 7,
    "start_time": "2022-04-14T11:59:09.636Z"
   },
   {
    "duration": 12,
    "start_time": "2022-04-14T11:59:18.324Z"
   },
   {
    "duration": 111,
    "start_time": "2022-04-14T11:59:36.845Z"
   },
   {
    "duration": 23,
    "start_time": "2022-04-14T12:00:39.580Z"
   },
   {
    "duration": 46,
    "start_time": "2022-04-14T12:35:43.385Z"
   },
   {
    "duration": 1134,
    "start_time": "2022-04-14T12:35:51.644Z"
   },
   {
    "duration": 49,
    "start_time": "2022-04-14T12:35:52.780Z"
   },
   {
    "duration": 27,
    "start_time": "2022-04-14T12:35:52.831Z"
   },
   {
    "duration": 21,
    "start_time": "2022-04-14T12:35:52.861Z"
   },
   {
    "duration": 5,
    "start_time": "2022-04-14T12:35:52.884Z"
   },
   {
    "duration": 5,
    "start_time": "2022-04-14T12:35:52.891Z"
   },
   {
    "duration": 6,
    "start_time": "2022-04-14T12:35:52.898Z"
   },
   {
    "duration": 50,
    "start_time": "2022-04-14T12:35:52.905Z"
   },
   {
    "duration": 13,
    "start_time": "2022-04-14T12:35:52.957Z"
   },
   {
    "duration": 14,
    "start_time": "2022-04-14T12:35:52.973Z"
   },
   {
    "duration": 18,
    "start_time": "2022-04-14T12:35:52.989Z"
   },
   {
    "duration": 40,
    "start_time": "2022-04-14T12:35:53.009Z"
   },
   {
    "duration": 11,
    "start_time": "2022-04-14T12:35:53.051Z"
   },
   {
    "duration": 9,
    "start_time": "2022-04-14T12:35:53.064Z"
   },
   {
    "duration": 5,
    "start_time": "2022-04-14T12:35:53.075Z"
   },
   {
    "duration": 19,
    "start_time": "2022-04-14T12:35:53.082Z"
   },
   {
    "duration": 8,
    "start_time": "2022-04-14T12:35:53.102Z"
   },
   {
    "duration": 6,
    "start_time": "2022-04-14T12:35:53.112Z"
   },
   {
    "duration": 4,
    "start_time": "2022-04-14T12:35:53.147Z"
   },
   {
    "duration": 24,
    "start_time": "2022-04-14T12:35:53.152Z"
   },
   {
    "duration": 13,
    "start_time": "2022-04-14T12:35:53.178Z"
   },
   {
    "duration": 14,
    "start_time": "2022-04-14T12:35:53.193Z"
   },
   {
    "duration": 39,
    "start_time": "2022-04-14T12:35:53.209Z"
   },
   {
    "duration": 6,
    "start_time": "2022-04-14T12:35:53.249Z"
   },
   {
    "duration": 9,
    "start_time": "2022-04-14T12:35:53.257Z"
   },
   {
    "duration": 7,
    "start_time": "2022-04-14T12:35:53.268Z"
   },
   {
    "duration": 4,
    "start_time": "2022-04-14T12:35:53.277Z"
   },
   {
    "duration": 4,
    "start_time": "2022-04-14T12:35:53.286Z"
   },
   {
    "duration": 8,
    "start_time": "2022-04-14T12:35:53.292Z"
   },
   {
    "duration": 9,
    "start_time": "2022-04-14T12:35:53.302Z"
   },
   {
    "duration": 5,
    "start_time": "2022-04-14T12:35:53.348Z"
   },
   {
    "duration": 9,
    "start_time": "2022-04-14T12:35:53.355Z"
   },
   {
    "duration": 6,
    "start_time": "2022-04-14T12:35:53.366Z"
   },
   {
    "duration": 27,
    "start_time": "2022-04-14T12:35:53.374Z"
   },
   {
    "duration": 4,
    "start_time": "2022-04-14T12:35:53.402Z"
   },
   {
    "duration": 12,
    "start_time": "2022-04-14T12:35:53.407Z"
   },
   {
    "duration": 12,
    "start_time": "2022-04-14T12:35:53.448Z"
   },
   {
    "duration": 4,
    "start_time": "2022-04-14T12:35:53.462Z"
   },
   {
    "duration": 17,
    "start_time": "2022-04-14T12:35:53.468Z"
   },
   {
    "duration": 15,
    "start_time": "2022-04-14T12:35:53.487Z"
   },
   {
    "duration": 12,
    "start_time": "2022-04-14T12:35:53.503Z"
   },
   {
    "duration": 35,
    "start_time": "2022-04-14T12:35:53.516Z"
   },
   {
    "duration": 17,
    "start_time": "2022-04-14T12:35:53.553Z"
   },
   {
    "duration": 16,
    "start_time": "2022-04-14T12:35:53.571Z"
   },
   {
    "duration": 20,
    "start_time": "2022-04-14T12:35:53.588Z"
   },
   {
    "duration": 604,
    "start_time": "2022-04-14T12:35:53.610Z"
   },
   {
    "duration": 7,
    "start_time": "2022-04-14T12:35:54.216Z"
   },
   {
    "duration": 23,
    "start_time": "2022-04-14T12:35:54.224Z"
   },
   {
    "duration": 163,
    "start_time": "2022-04-14T12:35:54.249Z"
   },
   {
    "duration": 14,
    "start_time": "2022-04-14T12:35:54.413Z"
   },
   {
    "duration": 28,
    "start_time": "2022-04-14T12:35:54.428Z"
   },
   {
    "duration": 14,
    "start_time": "2022-04-14T12:35:54.458Z"
   },
   {
    "duration": 15,
    "start_time": "2022-04-14T12:35:54.473Z"
   },
   {
    "duration": 13,
    "start_time": "2022-04-14T12:35:54.489Z"
   },
   {
    "duration": 16,
    "start_time": "2022-04-14T12:35:54.504Z"
   },
   {
    "duration": 26,
    "start_time": "2022-04-14T12:35:54.522Z"
   },
   {
    "duration": 153,
    "start_time": "2022-04-14T12:35:54.550Z"
   },
   {
    "duration": 16,
    "start_time": "2022-04-14T12:35:54.705Z"
   },
   {
    "duration": 34,
    "start_time": "2022-04-14T12:35:54.723Z"
   },
   {
    "duration": 148,
    "start_time": "2022-04-14T12:35:54.758Z"
   },
   {
    "duration": 16,
    "start_time": "2022-04-14T12:35:54.908Z"
   },
   {
    "duration": 179,
    "start_time": "2022-04-14T12:35:54.926Z"
   },
   {
    "duration": 5,
    "start_time": "2022-04-14T12:35:55.107Z"
   },
   {
    "duration": 15,
    "start_time": "2022-04-14T12:35:55.113Z"
   },
   {
    "duration": 259,
    "start_time": "2022-04-14T12:35:55.130Z"
   },
   {
    "duration": 178,
    "start_time": "2022-04-14T12:35:55.391Z"
   },
   {
    "duration": 8,
    "start_time": "2022-04-14T12:35:55.571Z"
   },
   {
    "duration": 6,
    "start_time": "2022-04-14T12:35:55.581Z"
   },
   {
    "duration": 13,
    "start_time": "2022-04-14T12:35:55.589Z"
   },
   {
    "duration": 7,
    "start_time": "2022-04-14T12:35:55.603Z"
   },
   {
    "duration": 38,
    "start_time": "2022-04-14T12:35:55.611Z"
   },
   {
    "duration": 5,
    "start_time": "2022-04-14T12:35:55.651Z"
   },
   {
    "duration": 14,
    "start_time": "2022-04-14T12:35:55.658Z"
   },
   {
    "duration": 5,
    "start_time": "2022-04-14T12:35:55.674Z"
   },
   {
    "duration": 13,
    "start_time": "2022-04-14T12:35:55.681Z"
   },
   {
    "duration": 5,
    "start_time": "2022-04-14T12:35:55.695Z"
   },
   {
    "duration": 49,
    "start_time": "2022-04-14T12:35:55.701Z"
   },
   {
    "duration": 6,
    "start_time": "2022-04-14T12:35:55.752Z"
   },
   {
    "duration": 8,
    "start_time": "2022-04-14T12:35:55.759Z"
   },
   {
    "duration": 12,
    "start_time": "2022-04-14T12:35:55.769Z"
   },
   {
    "duration": 13,
    "start_time": "2022-04-14T12:35:55.783Z"
   },
   {
    "duration": 47,
    "start_time": "2022-04-14T12:35:55.802Z"
   },
   {
    "duration": 7,
    "start_time": "2022-04-14T12:35:55.850Z"
   },
   {
    "duration": 12,
    "start_time": "2022-04-14T12:35:55.859Z"
   },
   {
    "duration": 134,
    "start_time": "2022-04-14T12:35:55.872Z"
   },
   {
    "duration": 4,
    "start_time": "2022-04-14T12:35:56.008Z"
   },
   {
    "duration": 7,
    "start_time": "2022-04-14T12:35:56.013Z"
   },
   {
    "duration": 27,
    "start_time": "2022-04-14T12:35:56.022Z"
   },
   {
    "duration": 14,
    "start_time": "2022-04-14T12:35:56.051Z"
   },
   {
    "duration": 123,
    "start_time": "2022-04-14T12:35:56.066Z"
   },
   {
    "duration": 22,
    "start_time": "2022-04-14T12:35:56.190Z"
   },
   {
    "duration": 4,
    "start_time": "2022-04-14T12:37:14.928Z"
   },
   {
    "duration": 5,
    "start_time": "2022-04-14T12:38:03.944Z"
   },
   {
    "duration": 91,
    "start_time": "2022-04-14T12:41:33.415Z"
   },
   {
    "duration": 13,
    "start_time": "2022-04-14T12:59:40.667Z"
   },
   {
    "duration": 1150,
    "start_time": "2022-04-14T13:00:10.212Z"
   },
   {
    "duration": 35,
    "start_time": "2022-04-14T13:00:11.363Z"
   },
   {
    "duration": 17,
    "start_time": "2022-04-14T13:00:11.400Z"
   },
   {
    "duration": 14,
    "start_time": "2022-04-14T13:00:11.419Z"
   },
   {
    "duration": 16,
    "start_time": "2022-04-14T13:00:11.434Z"
   },
   {
    "duration": 11,
    "start_time": "2022-04-14T13:00:11.451Z"
   },
   {
    "duration": 5,
    "start_time": "2022-04-14T13:00:11.463Z"
   },
   {
    "duration": 41,
    "start_time": "2022-04-14T13:00:11.469Z"
   },
   {
    "duration": 13,
    "start_time": "2022-04-14T13:00:11.512Z"
   },
   {
    "duration": 26,
    "start_time": "2022-04-14T13:00:11.529Z"
   },
   {
    "duration": 18,
    "start_time": "2022-04-14T13:00:11.557Z"
   },
   {
    "duration": 11,
    "start_time": "2022-04-14T13:00:11.577Z"
   },
   {
    "duration": 8,
    "start_time": "2022-04-14T13:00:11.590Z"
   },
   {
    "duration": 8,
    "start_time": "2022-04-14T13:00:11.600Z"
   },
   {
    "duration": 5,
    "start_time": "2022-04-14T13:00:11.609Z"
   },
   {
    "duration": 35,
    "start_time": "2022-04-14T13:00:11.615Z"
   },
   {
    "duration": 7,
    "start_time": "2022-04-14T13:00:11.652Z"
   },
   {
    "duration": 7,
    "start_time": "2022-04-14T13:00:11.660Z"
   },
   {
    "duration": 4,
    "start_time": "2022-04-14T13:00:11.669Z"
   },
   {
    "duration": 16,
    "start_time": "2022-04-14T13:00:11.675Z"
   },
   {
    "duration": 9,
    "start_time": "2022-04-14T13:00:11.693Z"
   },
   {
    "duration": 14,
    "start_time": "2022-04-14T13:00:11.703Z"
   },
   {
    "duration": 32,
    "start_time": "2022-04-14T13:00:11.719Z"
   },
   {
    "duration": 5,
    "start_time": "2022-04-14T13:00:11.753Z"
   },
   {
    "duration": 10,
    "start_time": "2022-04-14T13:00:11.759Z"
   },
   {
    "duration": 5,
    "start_time": "2022-04-14T13:00:11.771Z"
   },
   {
    "duration": 6,
    "start_time": "2022-04-14T13:00:11.778Z"
   },
   {
    "duration": 5,
    "start_time": "2022-04-14T13:00:11.788Z"
   },
   {
    "duration": 16,
    "start_time": "2022-04-14T13:00:11.795Z"
   },
   {
    "duration": 8,
    "start_time": "2022-04-14T13:00:11.813Z"
   },
   {
    "duration": 26,
    "start_time": "2022-04-14T13:00:11.822Z"
   },
   {
    "duration": 10,
    "start_time": "2022-04-14T13:00:11.850Z"
   },
   {
    "duration": 7,
    "start_time": "2022-04-14T13:00:11.861Z"
   },
   {
    "duration": 28,
    "start_time": "2022-04-14T13:00:11.870Z"
   },
   {
    "duration": 5,
    "start_time": "2022-04-14T13:00:11.900Z"
   },
   {
    "duration": 11,
    "start_time": "2022-04-14T13:00:11.907Z"
   },
   {
    "duration": 16,
    "start_time": "2022-04-14T13:00:11.949Z"
   },
   {
    "duration": 7,
    "start_time": "2022-04-14T13:00:11.967Z"
   },
   {
    "duration": 22,
    "start_time": "2022-04-14T13:00:11.976Z"
   },
   {
    "duration": 50,
    "start_time": "2022-04-14T13:00:12.000Z"
   },
   {
    "duration": 18,
    "start_time": "2022-04-14T13:00:12.052Z"
   },
   {
    "duration": 28,
    "start_time": "2022-04-14T13:00:12.072Z"
   },
   {
    "duration": 13,
    "start_time": "2022-04-14T13:00:12.108Z"
   },
   {
    "duration": 24,
    "start_time": "2022-04-14T13:00:12.123Z"
   },
   {
    "duration": 21,
    "start_time": "2022-04-14T13:00:12.149Z"
   },
   {
    "duration": 588,
    "start_time": "2022-04-14T13:00:12.172Z"
   },
   {
    "duration": 8,
    "start_time": "2022-04-14T13:00:12.762Z"
   },
   {
    "duration": 18,
    "start_time": "2022-04-14T13:00:12.771Z"
   },
   {
    "duration": 168,
    "start_time": "2022-04-14T13:00:12.791Z"
   },
   {
    "duration": 14,
    "start_time": "2022-04-14T13:00:12.961Z"
   },
   {
    "duration": 15,
    "start_time": "2022-04-14T13:00:12.976Z"
   },
   {
    "duration": 22,
    "start_time": "2022-04-14T13:00:12.993Z"
   },
   {
    "duration": 31,
    "start_time": "2022-04-14T13:00:13.017Z"
   },
   {
    "duration": 6,
    "start_time": "2022-04-14T13:00:13.049Z"
   },
   {
    "duration": 15,
    "start_time": "2022-04-14T13:00:13.056Z"
   },
   {
    "duration": 7,
    "start_time": "2022-04-14T13:00:13.072Z"
   },
   {
    "duration": 202,
    "start_time": "2022-04-14T13:00:13.081Z"
   },
   {
    "duration": 17,
    "start_time": "2022-04-14T13:00:13.284Z"
   },
   {
    "duration": 20,
    "start_time": "2022-04-14T13:00:13.302Z"
   },
   {
    "duration": 140,
    "start_time": "2022-04-14T13:00:13.348Z"
   },
   {
    "duration": 16,
    "start_time": "2022-04-14T13:00:13.490Z"
   },
   {
    "duration": 180,
    "start_time": "2022-04-14T13:00:13.508Z"
   },
   {
    "duration": 6,
    "start_time": "2022-04-14T13:00:13.689Z"
   },
   {
    "duration": 25,
    "start_time": "2022-04-14T13:00:13.697Z"
   },
   {
    "duration": 405,
    "start_time": "2022-04-14T13:00:13.724Z"
   },
   {
    "duration": 290,
    "start_time": "2022-04-14T13:00:14.131Z"
   },
   {
    "duration": 12,
    "start_time": "2022-04-14T13:00:14.423Z"
   },
   {
    "duration": 14,
    "start_time": "2022-04-14T13:00:14.437Z"
   },
   {
    "duration": 13,
    "start_time": "2022-04-14T13:00:14.453Z"
   },
   {
    "duration": 13,
    "start_time": "2022-04-14T13:00:14.468Z"
   },
   {
    "duration": 19,
    "start_time": "2022-04-14T13:00:14.482Z"
   },
   {
    "duration": 5,
    "start_time": "2022-04-14T13:00:14.504Z"
   },
   {
    "duration": 38,
    "start_time": "2022-04-14T13:00:14.511Z"
   },
   {
    "duration": 6,
    "start_time": "2022-04-14T13:00:14.550Z"
   },
   {
    "duration": 16,
    "start_time": "2022-04-14T13:00:14.557Z"
   },
   {
    "duration": 4,
    "start_time": "2022-04-14T13:00:14.575Z"
   },
   {
    "duration": 8,
    "start_time": "2022-04-14T13:00:14.580Z"
   },
   {
    "duration": 12,
    "start_time": "2022-04-14T13:00:14.590Z"
   },
   {
    "duration": 10,
    "start_time": "2022-04-14T13:00:14.604Z"
   },
   {
    "duration": 15,
    "start_time": "2022-04-14T13:00:14.647Z"
   },
   {
    "duration": 16,
    "start_time": "2022-04-14T13:00:14.663Z"
   },
   {
    "duration": 22,
    "start_time": "2022-04-14T13:00:14.684Z"
   },
   {
    "duration": 7,
    "start_time": "2022-04-14T13:00:14.708Z"
   },
   {
    "duration": 39,
    "start_time": "2022-04-14T13:00:14.717Z"
   },
   {
    "duration": 131,
    "start_time": "2022-04-14T13:00:14.758Z"
   },
   {
    "duration": 5,
    "start_time": "2022-04-14T13:00:14.890Z"
   },
   {
    "duration": 8,
    "start_time": "2022-04-14T13:00:14.896Z"
   },
   {
    "duration": 10,
    "start_time": "2022-04-14T13:00:14.906Z"
   },
   {
    "duration": 31,
    "start_time": "2022-04-14T13:00:14.917Z"
   },
   {
    "duration": 122,
    "start_time": "2022-04-14T13:00:14.950Z"
   },
   {
    "duration": 4,
    "start_time": "2022-04-14T13:00:15.073Z"
   },
   {
    "duration": 7,
    "start_time": "2022-04-14T13:00:15.079Z"
   },
   {
    "duration": 113,
    "start_time": "2022-04-14T13:00:15.087Z"
   },
   {
    "duration": 10,
    "start_time": "2022-04-14T13:01:10.397Z"
   },
   {
    "duration": 4,
    "start_time": "2022-04-14T13:03:24.494Z"
   },
   {
    "duration": 1507,
    "start_time": "2022-04-14T13:03:30.814Z"
   },
   {
    "duration": 55,
    "start_time": "2022-04-14T13:03:32.323Z"
   },
   {
    "duration": 17,
    "start_time": "2022-04-14T13:03:32.380Z"
   },
   {
    "duration": 15,
    "start_time": "2022-04-14T13:03:32.399Z"
   },
   {
    "duration": 4,
    "start_time": "2022-04-14T13:03:32.416Z"
   },
   {
    "duration": 27,
    "start_time": "2022-04-14T13:03:32.422Z"
   },
   {
    "duration": 4,
    "start_time": "2022-04-14T13:03:32.450Z"
   },
   {
    "duration": 15,
    "start_time": "2022-04-14T13:03:32.456Z"
   },
   {
    "duration": 9,
    "start_time": "2022-04-14T13:03:32.472Z"
   },
   {
    "duration": 8,
    "start_time": "2022-04-14T13:03:32.483Z"
   },
   {
    "duration": 13,
    "start_time": "2022-04-14T13:03:32.493Z"
   },
   {
    "duration": 41,
    "start_time": "2022-04-14T13:03:32.508Z"
   },
   {
    "duration": 8,
    "start_time": "2022-04-14T13:03:32.551Z"
   },
   {
    "duration": 6,
    "start_time": "2022-04-14T13:03:32.562Z"
   },
   {
    "duration": 5,
    "start_time": "2022-04-14T13:03:32.569Z"
   },
   {
    "duration": 17,
    "start_time": "2022-04-14T13:03:32.576Z"
   },
   {
    "duration": 7,
    "start_time": "2022-04-14T13:03:32.595Z"
   },
   {
    "duration": 6,
    "start_time": "2022-04-14T13:03:32.604Z"
   },
   {
    "duration": 37,
    "start_time": "2022-04-14T13:03:32.612Z"
   },
   {
    "duration": 22,
    "start_time": "2022-04-14T13:03:32.651Z"
   },
   {
    "duration": 14,
    "start_time": "2022-04-14T13:03:32.675Z"
   },
   {
    "duration": 19,
    "start_time": "2022-04-14T13:03:32.691Z"
   },
   {
    "duration": 10,
    "start_time": "2022-04-14T13:03:32.712Z"
   },
   {
    "duration": 6,
    "start_time": "2022-04-14T13:03:32.747Z"
   },
   {
    "duration": 12,
    "start_time": "2022-04-14T13:03:32.755Z"
   },
   {
    "duration": 5,
    "start_time": "2022-04-14T13:03:32.768Z"
   },
   {
    "duration": 5,
    "start_time": "2022-04-14T13:03:32.775Z"
   },
   {
    "duration": 5,
    "start_time": "2022-04-14T13:03:32.782Z"
   },
   {
    "duration": 7,
    "start_time": "2022-04-14T13:03:32.789Z"
   },
   {
    "duration": 12,
    "start_time": "2022-04-14T13:03:32.798Z"
   },
   {
    "duration": 37,
    "start_time": "2022-04-14T13:03:32.812Z"
   },
   {
    "duration": 5,
    "start_time": "2022-04-14T13:03:32.851Z"
   },
   {
    "duration": 8,
    "start_time": "2022-04-14T13:03:32.858Z"
   },
   {
    "duration": 45,
    "start_time": "2022-04-14T13:03:32.868Z"
   },
   {
    "duration": 5,
    "start_time": "2022-04-14T13:03:32.915Z"
   },
   {
    "duration": 37,
    "start_time": "2022-04-14T13:03:32.921Z"
   },
   {
    "duration": 18,
    "start_time": "2022-04-14T13:03:32.960Z"
   },
   {
    "duration": 6,
    "start_time": "2022-04-14T13:03:32.980Z"
   },
   {
    "duration": 18,
    "start_time": "2022-04-14T13:03:32.987Z"
   },
   {
    "duration": 43,
    "start_time": "2022-04-14T13:03:33.007Z"
   },
   {
    "duration": 12,
    "start_time": "2022-04-14T13:03:33.055Z"
   },
   {
    "duration": 9,
    "start_time": "2022-04-14T13:03:33.069Z"
   },
   {
    "duration": 13,
    "start_time": "2022-04-14T13:03:33.079Z"
   },
   {
    "duration": 16,
    "start_time": "2022-04-14T13:03:33.094Z"
   },
   {
    "duration": 53,
    "start_time": "2022-04-14T13:03:33.112Z"
   },
   {
    "duration": 999,
    "start_time": "2022-04-14T13:03:33.168Z"
   },
   {
    "duration": 10,
    "start_time": "2022-04-14T13:03:34.169Z"
   },
   {
    "duration": 18,
    "start_time": "2022-04-14T13:03:34.180Z"
   },
   {
    "duration": 253,
    "start_time": "2022-04-14T13:03:34.201Z"
   },
   {
    "duration": 21,
    "start_time": "2022-04-14T13:03:34.456Z"
   },
   {
    "duration": 20,
    "start_time": "2022-04-14T13:03:34.480Z"
   },
   {
    "duration": 15,
    "start_time": "2022-04-14T13:03:34.502Z"
   },
   {
    "duration": 40,
    "start_time": "2022-04-14T13:03:34.518Z"
   },
   {
    "duration": 10,
    "start_time": "2022-04-14T13:03:34.559Z"
   },
   {
    "duration": 29,
    "start_time": "2022-04-14T13:03:34.570Z"
   },
   {
    "duration": 11,
    "start_time": "2022-04-14T13:03:34.601Z"
   },
   {
    "duration": 136,
    "start_time": "2022-04-14T13:03:34.614Z"
   },
   {
    "duration": 17,
    "start_time": "2022-04-14T13:03:34.752Z"
   },
   {
    "duration": 16,
    "start_time": "2022-04-14T13:03:34.771Z"
   },
   {
    "duration": 156,
    "start_time": "2022-04-14T13:03:34.789Z"
   },
   {
    "duration": 17,
    "start_time": "2022-04-14T13:03:34.948Z"
   },
   {
    "duration": 180,
    "start_time": "2022-04-14T13:03:34.967Z"
   },
   {
    "duration": 6,
    "start_time": "2022-04-14T13:03:35.149Z"
   },
   {
    "duration": 17,
    "start_time": "2022-04-14T13:03:35.156Z"
   },
   {
    "duration": 251,
    "start_time": "2022-04-14T13:03:35.174Z"
   },
   {
    "duration": 170,
    "start_time": "2022-04-14T13:03:35.427Z"
   },
   {
    "duration": 9,
    "start_time": "2022-04-14T13:03:35.598Z"
   },
   {
    "duration": 6,
    "start_time": "2022-04-14T13:03:35.608Z"
   },
   {
    "duration": 10,
    "start_time": "2022-04-14T13:03:35.616Z"
   },
   {
    "duration": 5,
    "start_time": "2022-04-14T13:03:35.648Z"
   },
   {
    "duration": 13,
    "start_time": "2022-04-14T13:03:35.655Z"
   },
   {
    "duration": 5,
    "start_time": "2022-04-14T13:03:35.669Z"
   },
   {
    "duration": 13,
    "start_time": "2022-04-14T13:03:35.676Z"
   },
   {
    "duration": 9,
    "start_time": "2022-04-14T13:03:35.690Z"
   },
   {
    "duration": 49,
    "start_time": "2022-04-14T13:03:35.700Z"
   },
   {
    "duration": 5,
    "start_time": "2022-04-14T13:03:35.751Z"
   },
   {
    "duration": 18,
    "start_time": "2022-04-14T13:03:35.757Z"
   },
   {
    "duration": 7,
    "start_time": "2022-04-14T13:03:35.776Z"
   },
   {
    "duration": 8,
    "start_time": "2022-04-14T13:03:35.784Z"
   },
   {
    "duration": 23,
    "start_time": "2022-04-14T13:03:35.793Z"
   },
   {
    "duration": 36,
    "start_time": "2022-04-14T13:03:35.818Z"
   },
   {
    "duration": 20,
    "start_time": "2022-04-14T13:03:35.856Z"
   },
   {
    "duration": 11,
    "start_time": "2022-04-14T13:03:35.877Z"
   },
   {
    "duration": 18,
    "start_time": "2022-04-14T13:03:35.890Z"
   },
   {
    "duration": 142,
    "start_time": "2022-04-14T13:03:35.910Z"
   },
   {
    "duration": 4,
    "start_time": "2022-04-14T13:03:36.054Z"
   },
   {
    "duration": 8,
    "start_time": "2022-04-14T13:03:36.060Z"
   },
   {
    "duration": 8,
    "start_time": "2022-04-14T13:03:36.069Z"
   },
   {
    "duration": 13,
    "start_time": "2022-04-14T13:03:36.079Z"
   },
   {
    "duration": 198,
    "start_time": "2022-04-14T13:03:36.094Z"
   },
   {
    "duration": 5,
    "start_time": "2022-04-14T13:03:36.294Z"
   },
   {
    "duration": 5,
    "start_time": "2022-04-14T13:03:36.301Z"
   },
   {
    "duration": 9,
    "start_time": "2022-04-14T13:03:36.308Z"
   },
   {
    "duration": 34,
    "start_time": "2022-04-14T13:14:40.620Z"
   },
   {
    "duration": 8,
    "start_time": "2022-04-14T13:17:06.269Z"
   },
   {
    "duration": 6,
    "start_time": "2022-04-14T13:17:26.220Z"
   },
   {
    "duration": 8,
    "start_time": "2022-04-14T13:18:14.933Z"
   },
   {
    "duration": 10,
    "start_time": "2022-04-14T13:19:16.387Z"
   },
   {
    "duration": 21,
    "start_time": "2022-04-14T13:19:21.019Z"
   },
   {
    "duration": 20,
    "start_time": "2022-04-14T13:19:30.491Z"
   },
   {
    "duration": 187,
    "start_time": "2022-04-14T13:21:01.907Z"
   },
   {
    "duration": 4,
    "start_time": "2022-04-14T13:22:30.990Z"
   },
   {
    "duration": 6,
    "start_time": "2022-04-14T13:22:56.170Z"
   },
   {
    "duration": 120,
    "start_time": "2022-04-14T13:25:27.779Z"
   },
   {
    "duration": 5,
    "start_time": "2022-04-14T13:25:48.282Z"
   },
   {
    "duration": 5,
    "start_time": "2022-04-14T13:26:03.954Z"
   },
   {
    "duration": 1162,
    "start_time": "2022-04-14T13:50:44.104Z"
   },
   {
    "duration": 41,
    "start_time": "2022-04-14T13:50:45.268Z"
   },
   {
    "duration": 19,
    "start_time": "2022-04-14T13:50:45.311Z"
   },
   {
    "duration": 28,
    "start_time": "2022-04-14T13:50:45.333Z"
   },
   {
    "duration": 6,
    "start_time": "2022-04-14T13:50:45.362Z"
   },
   {
    "duration": 7,
    "start_time": "2022-04-14T13:50:45.370Z"
   },
   {
    "duration": 16,
    "start_time": "2022-04-14T13:50:45.379Z"
   },
   {
    "duration": 23,
    "start_time": "2022-04-14T13:50:45.397Z"
   },
   {
    "duration": 37,
    "start_time": "2022-04-14T13:50:45.422Z"
   },
   {
    "duration": 9,
    "start_time": "2022-04-14T13:50:45.461Z"
   },
   {
    "duration": 14,
    "start_time": "2022-04-14T13:50:45.472Z"
   },
   {
    "duration": 6,
    "start_time": "2022-04-14T13:50:45.488Z"
   },
   {
    "duration": 13,
    "start_time": "2022-04-14T13:50:45.496Z"
   },
   {
    "duration": 10,
    "start_time": "2022-04-14T13:50:45.511Z"
   },
   {
    "duration": 28,
    "start_time": "2022-04-14T13:50:45.523Z"
   },
   {
    "duration": 12,
    "start_time": "2022-04-14T13:50:45.553Z"
   },
   {
    "duration": 10,
    "start_time": "2022-04-14T13:50:45.567Z"
   },
   {
    "duration": 7,
    "start_time": "2022-04-14T13:50:45.579Z"
   },
   {
    "duration": 4,
    "start_time": "2022-04-14T13:50:45.588Z"
   },
   {
    "duration": 23,
    "start_time": "2022-04-14T13:50:45.594Z"
   },
   {
    "duration": 39,
    "start_time": "2022-04-14T13:50:45.619Z"
   },
   {
    "duration": 62,
    "start_time": "2022-04-14T13:50:45.661Z"
   },
   {
    "duration": 22,
    "start_time": "2022-04-14T13:50:45.725Z"
   },
   {
    "duration": 12,
    "start_time": "2022-04-14T13:50:45.748Z"
   },
   {
    "duration": 14,
    "start_time": "2022-04-14T13:50:45.762Z"
   },
   {
    "duration": 9,
    "start_time": "2022-04-14T13:50:45.777Z"
   },
   {
    "duration": 4,
    "start_time": "2022-04-14T13:50:45.788Z"
   },
   {
    "duration": 5,
    "start_time": "2022-04-14T13:50:45.797Z"
   },
   {
    "duration": 12,
    "start_time": "2022-04-14T13:50:45.804Z"
   },
   {
    "duration": 14,
    "start_time": "2022-04-14T13:50:45.818Z"
   },
   {
    "duration": 19,
    "start_time": "2022-04-14T13:50:45.833Z"
   },
   {
    "duration": 11,
    "start_time": "2022-04-14T13:50:45.854Z"
   },
   {
    "duration": 6,
    "start_time": "2022-04-14T13:50:45.867Z"
   },
   {
    "duration": 29,
    "start_time": "2022-04-14T13:50:45.874Z"
   },
   {
    "duration": 4,
    "start_time": "2022-04-14T13:50:45.905Z"
   },
   {
    "duration": 12,
    "start_time": "2022-04-14T13:50:45.910Z"
   },
   {
    "duration": 12,
    "start_time": "2022-04-14T13:50:45.948Z"
   },
   {
    "duration": 5,
    "start_time": "2022-04-14T13:50:45.962Z"
   },
   {
    "duration": 18,
    "start_time": "2022-04-14T13:50:45.969Z"
   },
   {
    "duration": 19,
    "start_time": "2022-04-14T13:50:45.988Z"
   },
   {
    "duration": 43,
    "start_time": "2022-04-14T13:50:46.009Z"
   },
   {
    "duration": 10,
    "start_time": "2022-04-14T13:50:46.054Z"
   },
   {
    "duration": 14,
    "start_time": "2022-04-14T13:50:46.066Z"
   },
   {
    "duration": 34,
    "start_time": "2022-04-14T13:50:46.082Z"
   },
   {
    "duration": 35,
    "start_time": "2022-04-14T13:50:46.118Z"
   },
   {
    "duration": 674,
    "start_time": "2022-04-14T13:50:46.155Z"
   },
   {
    "duration": 9,
    "start_time": "2022-04-14T13:50:46.831Z"
   },
   {
    "duration": 14,
    "start_time": "2022-04-14T13:50:46.848Z"
   },
   {
    "duration": 224,
    "start_time": "2022-04-14T13:50:46.863Z"
   },
   {
    "duration": 16,
    "start_time": "2022-04-14T13:50:47.091Z"
   },
   {
    "duration": 21,
    "start_time": "2022-04-14T13:50:47.109Z"
   },
   {
    "duration": 17,
    "start_time": "2022-04-14T13:50:47.147Z"
   },
   {
    "duration": 27,
    "start_time": "2022-04-14T13:50:47.166Z"
   },
   {
    "duration": 7,
    "start_time": "2022-04-14T13:50:47.195Z"
   },
   {
    "duration": 18,
    "start_time": "2022-04-14T13:50:47.204Z"
   },
   {
    "duration": 24,
    "start_time": "2022-04-14T13:50:47.224Z"
   },
   {
    "duration": 149,
    "start_time": "2022-04-14T13:50:47.250Z"
   },
   {
    "duration": 18,
    "start_time": "2022-04-14T13:50:47.401Z"
   },
   {
    "duration": 39,
    "start_time": "2022-04-14T13:50:47.421Z"
   },
   {
    "duration": 142,
    "start_time": "2022-04-14T13:50:47.463Z"
   },
   {
    "duration": 18,
    "start_time": "2022-04-14T13:50:47.607Z"
   },
   {
    "duration": 275,
    "start_time": "2022-04-14T13:50:47.627Z"
   },
   {
    "duration": 7,
    "start_time": "2022-04-14T13:50:47.904Z"
   },
   {
    "duration": 34,
    "start_time": "2022-04-14T13:50:47.913Z"
   },
   {
    "duration": 367,
    "start_time": "2022-04-14T13:50:47.949Z"
   },
   {
    "duration": 249,
    "start_time": "2022-04-14T13:50:48.318Z"
   },
   {
    "duration": 10,
    "start_time": "2022-04-14T13:50:48.569Z"
   },
   {
    "duration": 8,
    "start_time": "2022-04-14T13:50:48.580Z"
   },
   {
    "duration": 10,
    "start_time": "2022-04-14T13:50:48.590Z"
   },
   {
    "duration": 10,
    "start_time": "2022-04-14T13:50:48.601Z"
   },
   {
    "duration": 16,
    "start_time": "2022-04-14T13:50:48.613Z"
   },
   {
    "duration": 7,
    "start_time": "2022-04-14T13:50:48.648Z"
   },
   {
    "duration": 14,
    "start_time": "2022-04-14T13:50:48.656Z"
   },
   {
    "duration": 9,
    "start_time": "2022-04-14T13:50:48.671Z"
   },
   {
    "duration": 13,
    "start_time": "2022-04-14T13:50:48.681Z"
   },
   {
    "duration": 9,
    "start_time": "2022-04-14T13:50:48.696Z"
   },
   {
    "duration": 41,
    "start_time": "2022-04-14T13:50:48.706Z"
   },
   {
    "duration": 5,
    "start_time": "2022-04-14T13:50:48.749Z"
   },
   {
    "duration": 8,
    "start_time": "2022-04-14T13:50:48.756Z"
   },
   {
    "duration": 12,
    "start_time": "2022-04-14T13:50:48.766Z"
   },
   {
    "duration": 14,
    "start_time": "2022-04-14T13:50:48.780Z"
   },
   {
    "duration": 14,
    "start_time": "2022-04-14T13:50:48.799Z"
   },
   {
    "duration": 39,
    "start_time": "2022-04-14T13:50:48.815Z"
   },
   {
    "duration": 20,
    "start_time": "2022-04-14T13:50:48.856Z"
   },
   {
    "duration": 175,
    "start_time": "2022-04-14T13:50:48.878Z"
   },
   {
    "duration": 5,
    "start_time": "2022-04-14T13:50:49.055Z"
   },
   {
    "duration": 13,
    "start_time": "2022-04-14T13:50:49.061Z"
   },
   {
    "duration": 9,
    "start_time": "2022-04-14T13:50:49.076Z"
   },
   {
    "duration": 12,
    "start_time": "2022-04-14T13:50:49.087Z"
   },
   {
    "duration": 136,
    "start_time": "2022-04-14T13:50:49.101Z"
   },
   {
    "duration": 4,
    "start_time": "2022-04-14T13:50:49.238Z"
   },
   {
    "duration": 5,
    "start_time": "2022-04-14T13:50:49.248Z"
   },
   {
    "duration": 7,
    "start_time": "2022-04-14T13:50:49.255Z"
   },
   {
    "duration": 10,
    "start_time": "2022-04-14T13:50:49.264Z"
   },
   {
    "duration": 191,
    "start_time": "2022-04-14T13:50:49.276Z"
   },
   {
    "duration": 4,
    "start_time": "2022-04-14T13:50:49.469Z"
   },
   {
    "duration": 7,
    "start_time": "2022-04-14T13:50:49.475Z"
   },
   {
    "duration": 141,
    "start_time": "2022-04-14T13:50:49.484Z"
   },
   {
    "duration": 3,
    "start_time": "2022-04-14T13:50:49.627Z"
   },
   {
    "duration": 16,
    "start_time": "2022-04-14T13:50:49.632Z"
   },
   {
    "duration": 6,
    "start_time": "2022-04-14T14:01:38.994Z"
   },
   {
    "duration": 1141,
    "start_time": "2022-04-14T14:17:51.808Z"
   },
   {
    "duration": 39,
    "start_time": "2022-04-14T14:17:52.951Z"
   },
   {
    "duration": 18,
    "start_time": "2022-04-14T14:17:52.992Z"
   },
   {
    "duration": 14,
    "start_time": "2022-04-14T14:17:53.012Z"
   },
   {
    "duration": 25,
    "start_time": "2022-04-14T14:17:53.028Z"
   },
   {
    "duration": 12,
    "start_time": "2022-04-14T14:17:53.056Z"
   },
   {
    "duration": 5,
    "start_time": "2022-04-14T14:17:53.070Z"
   },
   {
    "duration": 15,
    "start_time": "2022-04-14T14:17:53.076Z"
   },
   {
    "duration": 8,
    "start_time": "2022-04-14T14:17:53.093Z"
   },
   {
    "duration": 8,
    "start_time": "2022-04-14T14:17:53.104Z"
   },
   {
    "duration": 36,
    "start_time": "2022-04-14T14:17:53.114Z"
   },
   {
    "duration": 11,
    "start_time": "2022-04-14T14:17:53.152Z"
   },
   {
    "duration": 12,
    "start_time": "2022-04-14T14:17:53.164Z"
   },
   {
    "duration": 7,
    "start_time": "2022-04-14T14:17:53.177Z"
   },
   {
    "duration": 5,
    "start_time": "2022-04-14T14:17:53.186Z"
   },
   {
    "duration": 11,
    "start_time": "2022-04-14T14:17:53.192Z"
   },
   {
    "duration": 6,
    "start_time": "2022-04-14T14:17:53.205Z"
   },
   {
    "duration": 4,
    "start_time": "2022-04-14T14:17:53.212Z"
   },
   {
    "duration": 35,
    "start_time": "2022-04-14T14:17:53.218Z"
   },
   {
    "duration": 24,
    "start_time": "2022-04-14T14:17:53.255Z"
   },
   {
    "duration": 14,
    "start_time": "2022-04-14T14:17:53.280Z"
   },
   {
    "duration": 18,
    "start_time": "2022-04-14T14:17:53.295Z"
   },
   {
    "duration": 12,
    "start_time": "2022-04-14T14:17:53.315Z"
   },
   {
    "duration": 25,
    "start_time": "2022-04-14T14:17:53.329Z"
   },
   {
    "duration": 20,
    "start_time": "2022-04-14T14:17:53.356Z"
   },
   {
    "duration": 6,
    "start_time": "2022-04-14T14:17:53.377Z"
   },
   {
    "duration": 3,
    "start_time": "2022-04-14T14:17:53.385Z"
   },
   {
    "duration": 4,
    "start_time": "2022-04-14T14:17:53.392Z"
   },
   {
    "duration": 6,
    "start_time": "2022-04-14T14:17:53.397Z"
   },
   {
    "duration": 7,
    "start_time": "2022-04-14T14:17:53.405Z"
   },
   {
    "duration": 5,
    "start_time": "2022-04-14T14:17:53.413Z"
   },
   {
    "duration": 6,
    "start_time": "2022-04-14T14:17:53.419Z"
   },
   {
    "duration": 9,
    "start_time": "2022-04-14T14:17:53.447Z"
   },
   {
    "duration": 33,
    "start_time": "2022-04-14T14:17:53.458Z"
   },
   {
    "duration": 4,
    "start_time": "2022-04-14T14:17:53.493Z"
   },
   {
    "duration": 12,
    "start_time": "2022-04-14T14:17:53.499Z"
   },
   {
    "duration": 12,
    "start_time": "2022-04-14T14:17:53.513Z"
   },
   {
    "duration": 3,
    "start_time": "2022-04-14T14:17:53.527Z"
   },
   {
    "duration": 17,
    "start_time": "2022-04-14T14:17:53.552Z"
   },
   {
    "duration": 17,
    "start_time": "2022-04-14T14:17:53.571Z"
   },
   {
    "duration": 16,
    "start_time": "2022-04-14T14:17:53.590Z"
   },
   {
    "duration": 40,
    "start_time": "2022-04-14T14:17:53.608Z"
   },
   {
    "duration": 20,
    "start_time": "2022-04-14T14:17:53.649Z"
   },
   {
    "duration": 15,
    "start_time": "2022-04-14T14:17:53.671Z"
   },
   {
    "duration": 20,
    "start_time": "2022-04-14T14:17:53.688Z"
   },
   {
    "duration": 616,
    "start_time": "2022-04-14T14:17:53.710Z"
   },
   {
    "duration": 8,
    "start_time": "2022-04-14T14:17:54.328Z"
   },
   {
    "duration": 22,
    "start_time": "2022-04-14T14:17:54.337Z"
   },
   {
    "duration": 160,
    "start_time": "2022-04-14T14:17:54.363Z"
   },
   {
    "duration": 13,
    "start_time": "2022-04-14T14:17:54.524Z"
   },
   {
    "duration": 19,
    "start_time": "2022-04-14T14:17:54.547Z"
   },
   {
    "duration": 16,
    "start_time": "2022-04-14T14:17:54.568Z"
   },
   {
    "duration": 14,
    "start_time": "2022-04-14T14:17:54.585Z"
   },
   {
    "duration": 8,
    "start_time": "2022-04-14T14:17:54.601Z"
   },
   {
    "duration": 13,
    "start_time": "2022-04-14T14:17:54.610Z"
   },
   {
    "duration": 28,
    "start_time": "2022-04-14T14:17:54.625Z"
   },
   {
    "duration": 144,
    "start_time": "2022-04-14T14:17:54.657Z"
   },
   {
    "duration": 20,
    "start_time": "2022-04-14T14:17:54.803Z"
   },
   {
    "duration": 38,
    "start_time": "2022-04-14T14:17:54.825Z"
   },
   {
    "duration": 192,
    "start_time": "2022-04-14T14:17:54.865Z"
   },
   {
    "duration": 17,
    "start_time": "2022-04-14T14:17:55.061Z"
   },
   {
    "duration": 184,
    "start_time": "2022-04-14T14:17:55.080Z"
   },
   {
    "duration": 6,
    "start_time": "2022-04-14T14:17:55.265Z"
   },
   {
    "duration": 20,
    "start_time": "2022-04-14T14:17:55.272Z"
   },
   {
    "duration": 276,
    "start_time": "2022-04-14T14:17:55.293Z"
   },
   {
    "duration": 195,
    "start_time": "2022-04-14T14:17:55.570Z"
   },
   {
    "duration": 8,
    "start_time": "2022-04-14T14:17:55.767Z"
   },
   {
    "duration": 7,
    "start_time": "2022-04-14T14:17:55.777Z"
   },
   {
    "duration": 12,
    "start_time": "2022-04-14T14:17:55.786Z"
   },
   {
    "duration": 9,
    "start_time": "2022-04-14T14:17:55.800Z"
   },
   {
    "duration": 15,
    "start_time": "2022-04-14T14:17:55.810Z"
   },
   {
    "duration": 28,
    "start_time": "2022-04-14T14:17:55.827Z"
   },
   {
    "duration": 20,
    "start_time": "2022-04-14T14:17:55.857Z"
   },
   {
    "duration": 6,
    "start_time": "2022-04-14T14:17:55.878Z"
   },
   {
    "duration": 13,
    "start_time": "2022-04-14T14:17:55.886Z"
   },
   {
    "duration": 4,
    "start_time": "2022-04-14T14:17:55.901Z"
   },
   {
    "duration": 8,
    "start_time": "2022-04-14T14:17:55.906Z"
   },
   {
    "duration": 6,
    "start_time": "2022-04-14T14:17:55.915Z"
   },
   {
    "duration": 36,
    "start_time": "2022-04-14T14:17:55.923Z"
   },
   {
    "duration": 17,
    "start_time": "2022-04-14T14:17:55.961Z"
   },
   {
    "duration": 16,
    "start_time": "2022-04-14T14:17:55.979Z"
   },
   {
    "duration": 16,
    "start_time": "2022-04-14T14:17:56.000Z"
   },
   {
    "duration": 6,
    "start_time": "2022-04-14T14:17:56.017Z"
   },
   {
    "duration": 20,
    "start_time": "2022-04-14T14:17:56.048Z"
   },
   {
    "duration": 129,
    "start_time": "2022-04-14T14:17:56.070Z"
   },
   {
    "duration": 4,
    "start_time": "2022-04-14T14:17:56.200Z"
   },
   {
    "duration": 7,
    "start_time": "2022-04-14T14:17:56.206Z"
   },
   {
    "duration": 8,
    "start_time": "2022-04-14T14:17:56.214Z"
   },
   {
    "duration": 31,
    "start_time": "2022-04-14T14:17:56.223Z"
   },
   {
    "duration": 128,
    "start_time": "2022-04-14T14:17:56.255Z"
   },
   {
    "duration": 4,
    "start_time": "2022-04-14T14:17:56.385Z"
   },
   {
    "duration": 8,
    "start_time": "2022-04-14T14:17:56.390Z"
   },
   {
    "duration": 6,
    "start_time": "2022-04-14T14:17:56.399Z"
   },
   {
    "duration": 13,
    "start_time": "2022-04-14T14:17:56.406Z"
   },
   {
    "duration": 142,
    "start_time": "2022-04-14T14:17:56.420Z"
   },
   {
    "duration": 4,
    "start_time": "2022-04-14T14:17:56.564Z"
   },
   {
    "duration": 7,
    "start_time": "2022-04-14T14:17:56.570Z"
   },
   {
    "duration": 142,
    "start_time": "2022-04-14T14:17:56.579Z"
   },
   {
    "duration": 4,
    "start_time": "2022-04-14T14:17:56.723Z"
   },
   {
    "duration": 8,
    "start_time": "2022-04-14T14:17:56.729Z"
   },
   {
    "duration": 11,
    "start_time": "2022-04-14T14:17:56.751Z"
   },
   {
    "duration": 48,
    "start_time": "2022-04-15T07:13:56.106Z"
   },
   {
    "duration": 1354,
    "start_time": "2022-04-15T07:14:05.694Z"
   },
   {
    "duration": 40,
    "start_time": "2022-04-15T07:14:07.050Z"
   },
   {
    "duration": 16,
    "start_time": "2022-04-15T07:14:07.091Z"
   },
   {
    "duration": 34,
    "start_time": "2022-04-15T07:14:07.109Z"
   },
   {
    "duration": 4,
    "start_time": "2022-04-15T07:14:07.144Z"
   },
   {
    "duration": 19,
    "start_time": "2022-04-15T07:14:07.149Z"
   },
   {
    "duration": 11,
    "start_time": "2022-04-15T07:14:07.169Z"
   },
   {
    "duration": 51,
    "start_time": "2022-04-15T07:14:07.181Z"
   },
   {
    "duration": 11,
    "start_time": "2022-04-15T07:14:07.233Z"
   },
   {
    "duration": 21,
    "start_time": "2022-04-15T07:14:07.246Z"
   },
   {
    "duration": 30,
    "start_time": "2022-04-15T07:14:07.268Z"
   },
   {
    "duration": 18,
    "start_time": "2022-04-15T07:14:07.300Z"
   },
   {
    "duration": 33,
    "start_time": "2022-04-15T07:14:07.320Z"
   },
   {
    "duration": 23,
    "start_time": "2022-04-15T07:14:07.354Z"
   },
   {
    "duration": 36,
    "start_time": "2022-04-15T07:14:07.379Z"
   },
   {
    "duration": 25,
    "start_time": "2022-04-15T07:14:07.417Z"
   },
   {
    "duration": 10,
    "start_time": "2022-04-15T07:14:07.443Z"
   },
   {
    "duration": 9,
    "start_time": "2022-04-15T07:14:07.454Z"
   },
   {
    "duration": 15,
    "start_time": "2022-04-15T07:14:07.465Z"
   },
   {
    "duration": 30,
    "start_time": "2022-04-15T07:14:07.482Z"
   },
   {
    "duration": 8,
    "start_time": "2022-04-15T07:14:07.514Z"
   },
   {
    "duration": 14,
    "start_time": "2022-04-15T07:14:07.524Z"
   },
   {
    "duration": 12,
    "start_time": "2022-04-15T07:14:07.539Z"
   },
   {
    "duration": 12,
    "start_time": "2022-04-15T07:14:07.552Z"
   },
   {
    "duration": 24,
    "start_time": "2022-04-15T07:14:07.565Z"
   },
   {
    "duration": 31,
    "start_time": "2022-04-15T07:14:07.590Z"
   },
   {
    "duration": 31,
    "start_time": "2022-04-15T07:14:07.622Z"
   },
   {
    "duration": 10,
    "start_time": "2022-04-15T07:14:07.657Z"
   },
   {
    "duration": 48,
    "start_time": "2022-04-15T07:14:07.669Z"
   },
   {
    "duration": 16,
    "start_time": "2022-04-15T07:14:07.718Z"
   },
   {
    "duration": 27,
    "start_time": "2022-04-15T07:14:07.735Z"
   },
   {
    "duration": 30,
    "start_time": "2022-04-15T07:14:07.763Z"
   },
   {
    "duration": 23,
    "start_time": "2022-04-15T07:14:07.794Z"
   },
   {
    "duration": 49,
    "start_time": "2022-04-15T07:14:07.818Z"
   },
   {
    "duration": 3,
    "start_time": "2022-04-15T07:14:07.869Z"
   },
   {
    "duration": 24,
    "start_time": "2022-04-15T07:14:07.874Z"
   },
   {
    "duration": 34,
    "start_time": "2022-04-15T07:14:07.900Z"
   },
   {
    "duration": 17,
    "start_time": "2022-04-15T07:14:07.935Z"
   },
   {
    "duration": 39,
    "start_time": "2022-04-15T07:14:07.953Z"
   },
   {
    "duration": 45,
    "start_time": "2022-04-15T07:14:07.993Z"
   },
   {
    "duration": 14,
    "start_time": "2022-04-15T07:14:08.039Z"
   },
   {
    "duration": 26,
    "start_time": "2022-04-15T07:14:08.054Z"
   },
   {
    "duration": 16,
    "start_time": "2022-04-15T07:14:08.081Z"
   },
   {
    "duration": 27,
    "start_time": "2022-04-15T07:14:08.098Z"
   },
   {
    "duration": 39,
    "start_time": "2022-04-15T07:14:08.126Z"
   },
   {
    "duration": 589,
    "start_time": "2022-04-15T07:14:08.166Z"
   },
   {
    "duration": 7,
    "start_time": "2022-04-15T07:14:08.756Z"
   },
   {
    "duration": 33,
    "start_time": "2022-04-15T07:14:08.765Z"
   },
   {
    "duration": 166,
    "start_time": "2022-04-15T07:14:08.799Z"
   },
   {
    "duration": 14,
    "start_time": "2022-04-15T07:14:08.966Z"
   },
   {
    "duration": 33,
    "start_time": "2022-04-15T07:14:08.981Z"
   },
   {
    "duration": 20,
    "start_time": "2022-04-15T07:14:09.015Z"
   },
   {
    "duration": 29,
    "start_time": "2022-04-15T07:14:09.036Z"
   },
   {
    "duration": 17,
    "start_time": "2022-04-15T07:14:09.066Z"
   },
   {
    "duration": 37,
    "start_time": "2022-04-15T07:14:09.085Z"
   },
   {
    "duration": 11,
    "start_time": "2022-04-15T07:14:09.124Z"
   },
   {
    "duration": 177,
    "start_time": "2022-04-15T07:14:09.137Z"
   },
   {
    "duration": 14,
    "start_time": "2022-04-15T07:14:09.316Z"
   },
   {
    "duration": 28,
    "start_time": "2022-04-15T07:14:09.332Z"
   },
   {
    "duration": 174,
    "start_time": "2022-04-15T07:14:09.362Z"
   },
   {
    "duration": 16,
    "start_time": "2022-04-15T07:14:09.538Z"
   },
   {
    "duration": 178,
    "start_time": "2022-04-15T07:14:09.556Z"
   },
   {
    "duration": 5,
    "start_time": "2022-04-15T07:14:09.736Z"
   },
   {
    "duration": 24,
    "start_time": "2022-04-15T07:14:09.743Z"
   },
   {
    "duration": 244,
    "start_time": "2022-04-15T07:14:09.769Z"
   },
   {
    "duration": 175,
    "start_time": "2022-04-15T07:14:10.015Z"
   },
   {
    "duration": 16,
    "start_time": "2022-04-15T07:14:10.192Z"
   },
   {
    "duration": 14,
    "start_time": "2022-04-15T07:14:10.210Z"
   },
   {
    "duration": 21,
    "start_time": "2022-04-15T07:14:10.226Z"
   },
   {
    "duration": 6,
    "start_time": "2022-04-15T07:14:10.249Z"
   },
   {
    "duration": 12,
    "start_time": "2022-04-15T07:14:10.257Z"
   },
   {
    "duration": 6,
    "start_time": "2022-04-15T07:14:10.271Z"
   },
   {
    "duration": 14,
    "start_time": "2022-04-15T07:14:10.278Z"
   },
   {
    "duration": 25,
    "start_time": "2022-04-15T07:14:10.293Z"
   },
   {
    "duration": 5,
    "start_time": "2022-04-15T07:14:10.320Z"
   },
   {
    "duration": 12,
    "start_time": "2022-04-15T07:14:10.327Z"
   },
   {
    "duration": 6,
    "start_time": "2022-04-15T07:14:10.340Z"
   },
   {
    "duration": 8,
    "start_time": "2022-04-15T07:14:10.348Z"
   },
   {
    "duration": 7,
    "start_time": "2022-04-15T07:14:10.357Z"
   },
   {
    "duration": 8,
    "start_time": "2022-04-15T07:14:10.365Z"
   },
   {
    "duration": 43,
    "start_time": "2022-04-15T07:14:10.374Z"
   },
   {
    "duration": 14,
    "start_time": "2022-04-15T07:14:10.422Z"
   },
   {
    "duration": 15,
    "start_time": "2022-04-15T07:14:10.437Z"
   },
   {
    "duration": 6,
    "start_time": "2022-04-15T07:14:10.453Z"
   },
   {
    "duration": 11,
    "start_time": "2022-04-15T07:14:10.460Z"
   },
   {
    "duration": 137,
    "start_time": "2022-04-15T07:14:10.473Z"
   },
   {
    "duration": 4,
    "start_time": "2022-04-15T07:14:10.612Z"
   },
   {
    "duration": 8,
    "start_time": "2022-04-15T07:14:10.617Z"
   },
   {
    "duration": 7,
    "start_time": "2022-04-15T07:14:10.627Z"
   },
   {
    "duration": 12,
    "start_time": "2022-04-15T07:14:10.635Z"
   },
   {
    "duration": 135,
    "start_time": "2022-04-15T07:14:10.648Z"
   },
   {
    "duration": 3,
    "start_time": "2022-04-15T07:14:10.785Z"
   },
   {
    "duration": 23,
    "start_time": "2022-04-15T07:14:10.790Z"
   },
   {
    "duration": 6,
    "start_time": "2022-04-15T07:14:10.815Z"
   },
   {
    "duration": 15,
    "start_time": "2022-04-15T07:14:10.822Z"
   },
   {
    "duration": 119,
    "start_time": "2022-04-15T07:14:10.838Z"
   },
   {
    "duration": 4,
    "start_time": "2022-04-15T07:14:10.958Z"
   },
   {
    "duration": 8,
    "start_time": "2022-04-15T07:14:10.964Z"
   },
   {
    "duration": 140,
    "start_time": "2022-04-15T07:14:10.973Z"
   },
   {
    "duration": 4,
    "start_time": "2022-04-15T07:14:11.115Z"
   },
   {
    "duration": 7,
    "start_time": "2022-04-15T07:14:11.120Z"
   },
   {
    "duration": 6,
    "start_time": "2022-04-15T07:14:11.128Z"
   },
   {
    "duration": 11,
    "start_time": "2022-04-15T07:15:45.552Z"
   },
   {
    "duration": 21,
    "start_time": "2022-04-15T07:16:03.533Z"
   },
   {
    "duration": 13,
    "start_time": "2022-04-15T07:18:51.053Z"
   },
   {
    "duration": 13,
    "start_time": "2022-04-15T07:21:37.380Z"
   },
   {
    "duration": 14,
    "start_time": "2022-04-15T07:23:02.628Z"
   },
   {
    "duration": 1227,
    "start_time": "2022-04-15T07:23:28.270Z"
   },
   {
    "duration": 61,
    "start_time": "2022-04-15T07:23:29.499Z"
   },
   {
    "duration": 18,
    "start_time": "2022-04-15T07:23:29.562Z"
   },
   {
    "duration": 13,
    "start_time": "2022-04-15T07:23:29.582Z"
   },
   {
    "duration": 8,
    "start_time": "2022-04-15T07:23:29.597Z"
   },
   {
    "duration": 14,
    "start_time": "2022-04-15T07:23:29.607Z"
   },
   {
    "duration": 7,
    "start_time": "2022-04-15T07:23:29.623Z"
   },
   {
    "duration": 14,
    "start_time": "2022-04-15T07:23:29.631Z"
   },
   {
    "duration": 8,
    "start_time": "2022-04-15T07:23:29.646Z"
   },
   {
    "duration": 8,
    "start_time": "2022-04-15T07:23:29.657Z"
   },
   {
    "duration": 12,
    "start_time": "2022-04-15T07:23:29.666Z"
   },
   {
    "duration": 27,
    "start_time": "2022-04-15T07:23:29.680Z"
   },
   {
    "duration": 9,
    "start_time": "2022-04-15T07:23:29.708Z"
   },
   {
    "duration": 11,
    "start_time": "2022-04-15T07:23:29.718Z"
   },
   {
    "duration": 6,
    "start_time": "2022-04-15T07:23:29.731Z"
   },
   {
    "duration": 15,
    "start_time": "2022-04-15T07:23:29.739Z"
   },
   {
    "duration": 8,
    "start_time": "2022-04-15T07:23:29.755Z"
   },
   {
    "duration": 5,
    "start_time": "2022-04-15T07:23:29.765Z"
   },
   {
    "duration": 6,
    "start_time": "2022-04-15T07:23:29.772Z"
   },
   {
    "duration": 35,
    "start_time": "2022-04-15T07:23:29.779Z"
   },
   {
    "duration": 9,
    "start_time": "2022-04-15T07:23:29.816Z"
   },
   {
    "duration": 14,
    "start_time": "2022-04-15T07:23:29.826Z"
   },
   {
    "duration": 9,
    "start_time": "2022-04-15T07:23:29.841Z"
   },
   {
    "duration": 4,
    "start_time": "2022-04-15T07:23:29.851Z"
   },
   {
    "duration": 9,
    "start_time": "2022-04-15T07:23:29.856Z"
   },
   {
    "duration": 5,
    "start_time": "2022-04-15T07:23:29.866Z"
   },
   {
    "duration": 3,
    "start_time": "2022-04-15T07:23:29.873Z"
   },
   {
    "duration": 6,
    "start_time": "2022-04-15T07:23:29.907Z"
   },
   {
    "duration": 8,
    "start_time": "2022-04-15T07:23:29.915Z"
   },
   {
    "duration": 7,
    "start_time": "2022-04-15T07:23:29.925Z"
   },
   {
    "duration": 4,
    "start_time": "2022-04-15T07:23:29.934Z"
   },
   {
    "duration": 6,
    "start_time": "2022-04-15T07:23:29.940Z"
   },
   {
    "duration": 7,
    "start_time": "2022-04-15T07:23:29.947Z"
   },
   {
    "duration": 52,
    "start_time": "2022-04-15T07:23:29.955Z"
   },
   {
    "duration": 5,
    "start_time": "2022-04-15T07:23:30.009Z"
   },
   {
    "duration": 12,
    "start_time": "2022-04-15T07:23:30.016Z"
   },
   {
    "duration": 14,
    "start_time": "2022-04-15T07:23:30.030Z"
   },
   {
    "duration": 8,
    "start_time": "2022-04-15T07:23:30.046Z"
   },
   {
    "duration": 16,
    "start_time": "2022-04-15T07:23:30.055Z"
   },
   {
    "duration": 37,
    "start_time": "2022-04-15T07:23:30.074Z"
   },
   {
    "duration": 14,
    "start_time": "2022-04-15T07:23:30.113Z"
   },
   {
    "duration": 9,
    "start_time": "2022-04-15T07:23:30.128Z"
   },
   {
    "duration": 17,
    "start_time": "2022-04-15T07:23:30.139Z"
   },
   {
    "duration": 22,
    "start_time": "2022-04-15T07:23:30.157Z"
   },
   {
    "duration": 42,
    "start_time": "2022-04-15T07:23:30.180Z"
   },
   {
    "duration": 622,
    "start_time": "2022-04-15T07:23:30.224Z"
   },
   {
    "duration": 7,
    "start_time": "2022-04-15T07:23:30.848Z"
   },
   {
    "duration": 29,
    "start_time": "2022-04-15T07:23:30.857Z"
   },
   {
    "duration": 170,
    "start_time": "2022-04-15T07:23:30.887Z"
   },
   {
    "duration": 13,
    "start_time": "2022-04-15T07:23:31.059Z"
   },
   {
    "duration": 17,
    "start_time": "2022-04-15T07:23:31.073Z"
   },
   {
    "duration": 37,
    "start_time": "2022-04-15T07:23:31.092Z"
   },
   {
    "duration": 24,
    "start_time": "2022-04-15T07:23:31.131Z"
   },
   {
    "duration": 10,
    "start_time": "2022-04-15T07:23:31.156Z"
   },
   {
    "duration": 22,
    "start_time": "2022-04-15T07:23:31.167Z"
   },
   {
    "duration": 8,
    "start_time": "2022-04-15T07:23:31.190Z"
   },
   {
    "duration": 159,
    "start_time": "2022-04-15T07:23:31.204Z"
   },
   {
    "duration": 16,
    "start_time": "2022-04-15T07:23:31.364Z"
   },
   {
    "duration": 25,
    "start_time": "2022-04-15T07:23:31.381Z"
   },
   {
    "duration": 142,
    "start_time": "2022-04-15T07:23:31.408Z"
   },
   {
    "duration": 17,
    "start_time": "2022-04-15T07:23:31.552Z"
   },
   {
    "duration": 190,
    "start_time": "2022-04-15T07:23:31.571Z"
   },
   {
    "duration": 6,
    "start_time": "2022-04-15T07:23:31.763Z"
   },
   {
    "duration": 19,
    "start_time": "2022-04-15T07:23:31.771Z"
   },
   {
    "duration": 254,
    "start_time": "2022-04-15T07:23:31.792Z"
   },
   {
    "duration": 180,
    "start_time": "2022-04-15T07:23:32.048Z"
   },
   {
    "duration": 8,
    "start_time": "2022-04-15T07:23:32.230Z"
   },
   {
    "duration": 5,
    "start_time": "2022-04-15T07:23:32.239Z"
   },
   {
    "duration": 11,
    "start_time": "2022-04-15T07:23:32.246Z"
   },
   {
    "duration": 8,
    "start_time": "2022-04-15T07:23:32.258Z"
   },
   {
    "duration": 41,
    "start_time": "2022-04-15T07:23:32.267Z"
   },
   {
    "duration": 14,
    "start_time": "2022-04-15T07:23:32.310Z"
   },
   {
    "duration": 5,
    "start_time": "2022-04-15T07:23:32.326Z"
   },
   {
    "duration": 18,
    "start_time": "2022-04-15T07:23:32.332Z"
   },
   {
    "duration": 12,
    "start_time": "2022-04-15T07:23:32.352Z"
   },
   {
    "duration": 5,
    "start_time": "2022-04-15T07:23:32.365Z"
   },
   {
    "duration": 37,
    "start_time": "2022-04-15T07:23:32.371Z"
   },
   {
    "duration": 15,
    "start_time": "2022-04-15T07:23:32.410Z"
   },
   {
    "duration": 8,
    "start_time": "2022-04-15T07:23:32.427Z"
   },
   {
    "duration": 13,
    "start_time": "2022-04-15T07:23:32.437Z"
   },
   {
    "duration": 14,
    "start_time": "2022-04-15T07:23:32.452Z"
   },
   {
    "duration": 9,
    "start_time": "2022-04-15T07:23:32.470Z"
   },
   {
    "duration": 19,
    "start_time": "2022-04-15T07:23:32.481Z"
   },
   {
    "duration": 22,
    "start_time": "2022-04-15T07:23:32.505Z"
   },
   {
    "duration": 18,
    "start_time": "2022-04-15T07:23:32.528Z"
   },
   {
    "duration": 13,
    "start_time": "2022-04-15T07:23:32.547Z"
   },
   {
    "duration": 14,
    "start_time": "2022-04-15T07:23:32.562Z"
   },
   {
    "duration": 115,
    "start_time": "2022-04-15T07:23:32.578Z"
   },
   {
    "duration": 4,
    "start_time": "2022-04-15T07:23:32.695Z"
   },
   {
    "duration": 19,
    "start_time": "2022-04-15T07:23:32.704Z"
   },
   {
    "duration": 8,
    "start_time": "2022-04-15T07:23:32.724Z"
   },
   {
    "duration": 11,
    "start_time": "2022-04-15T07:23:32.733Z"
   },
   {
    "duration": 117,
    "start_time": "2022-04-15T07:23:32.746Z"
   },
   {
    "duration": 4,
    "start_time": "2022-04-15T07:23:32.864Z"
   },
   {
    "duration": 20,
    "start_time": "2022-04-15T07:23:32.869Z"
   },
   {
    "duration": 10,
    "start_time": "2022-04-15T07:23:32.890Z"
   },
   {
    "duration": 28,
    "start_time": "2022-04-15T07:23:32.905Z"
   },
   {
    "duration": 120,
    "start_time": "2022-04-15T07:23:32.935Z"
   },
   {
    "duration": 3,
    "start_time": "2022-04-15T07:23:33.057Z"
   },
   {
    "duration": 11,
    "start_time": "2022-04-15T07:23:33.062Z"
   },
   {
    "duration": 130,
    "start_time": "2022-04-15T07:23:33.075Z"
   },
   {
    "duration": 4,
    "start_time": "2022-04-15T07:23:33.207Z"
   },
   {
    "duration": 15,
    "start_time": "2022-04-15T07:23:33.212Z"
   },
   {
    "duration": 9,
    "start_time": "2022-04-15T07:23:33.228Z"
   },
   {
    "duration": 1209,
    "start_time": "2022-04-15T07:36:29.215Z"
   },
   {
    "duration": 40,
    "start_time": "2022-04-15T07:36:30.426Z"
   },
   {
    "duration": 15,
    "start_time": "2022-04-15T07:36:30.468Z"
   },
   {
    "duration": 30,
    "start_time": "2022-04-15T07:36:30.485Z"
   },
   {
    "duration": 10,
    "start_time": "2022-04-15T07:36:30.517Z"
   },
   {
    "duration": 25,
    "start_time": "2022-04-15T07:36:30.529Z"
   },
   {
    "duration": 16,
    "start_time": "2022-04-15T07:36:30.556Z"
   },
   {
    "duration": 22,
    "start_time": "2022-04-15T07:36:30.574Z"
   },
   {
    "duration": 28,
    "start_time": "2022-04-15T07:36:30.598Z"
   },
   {
    "duration": 23,
    "start_time": "2022-04-15T07:36:30.629Z"
   },
   {
    "duration": 18,
    "start_time": "2022-04-15T07:36:30.654Z"
   },
   {
    "duration": 14,
    "start_time": "2022-04-15T07:36:30.674Z"
   },
   {
    "duration": 17,
    "start_time": "2022-04-15T07:36:30.689Z"
   },
   {
    "duration": 26,
    "start_time": "2022-04-15T07:36:30.709Z"
   },
   {
    "duration": 20,
    "start_time": "2022-04-15T07:36:30.736Z"
   },
   {
    "duration": 24,
    "start_time": "2022-04-15T07:36:30.758Z"
   },
   {
    "duration": 16,
    "start_time": "2022-04-15T07:36:30.783Z"
   },
   {
    "duration": 23,
    "start_time": "2022-04-15T07:36:30.801Z"
   },
   {
    "duration": 12,
    "start_time": "2022-04-15T07:36:30.826Z"
   },
   {
    "duration": 22,
    "start_time": "2022-04-15T07:36:30.839Z"
   },
   {
    "duration": 9,
    "start_time": "2022-04-15T07:36:30.863Z"
   },
   {
    "duration": 31,
    "start_time": "2022-04-15T07:36:30.874Z"
   },
   {
    "duration": 26,
    "start_time": "2022-04-15T07:36:30.907Z"
   },
   {
    "duration": 20,
    "start_time": "2022-04-15T07:36:30.934Z"
   },
   {
    "duration": 11,
    "start_time": "2022-04-15T07:36:30.956Z"
   },
   {
    "duration": 11,
    "start_time": "2022-04-15T07:36:30.969Z"
   },
   {
    "duration": 8,
    "start_time": "2022-04-15T07:36:30.982Z"
   },
   {
    "duration": 9,
    "start_time": "2022-04-15T07:36:30.995Z"
   },
   {
    "duration": 18,
    "start_time": "2022-04-15T07:36:31.006Z"
   },
   {
    "duration": 11,
    "start_time": "2022-04-15T07:36:31.025Z"
   },
   {
    "duration": 12,
    "start_time": "2022-04-15T07:36:31.037Z"
   },
   {
    "duration": 6,
    "start_time": "2022-04-15T07:36:31.051Z"
   },
   {
    "duration": 7,
    "start_time": "2022-04-15T07:36:31.058Z"
   },
   {
    "duration": 31,
    "start_time": "2022-04-15T07:36:31.066Z"
   },
   {
    "duration": 4,
    "start_time": "2022-04-15T07:36:31.099Z"
   },
   {
    "duration": 29,
    "start_time": "2022-04-15T07:36:31.104Z"
   },
   {
    "duration": 16,
    "start_time": "2022-04-15T07:36:31.134Z"
   },
   {
    "duration": 6,
    "start_time": "2022-04-15T07:36:31.151Z"
   },
   {
    "duration": 20,
    "start_time": "2022-04-15T07:36:31.158Z"
   },
   {
    "duration": 33,
    "start_time": "2022-04-15T07:36:31.179Z"
   },
   {
    "duration": 11,
    "start_time": "2022-04-15T07:36:31.213Z"
   },
   {
    "duration": 8,
    "start_time": "2022-04-15T07:36:31.225Z"
   },
   {
    "duration": 18,
    "start_time": "2022-04-15T07:36:31.235Z"
   },
   {
    "duration": 22,
    "start_time": "2022-04-15T07:36:31.254Z"
   },
   {
    "duration": 27,
    "start_time": "2022-04-15T07:36:31.278Z"
   },
   {
    "duration": 625,
    "start_time": "2022-04-15T07:36:31.307Z"
   },
   {
    "duration": 7,
    "start_time": "2022-04-15T07:36:31.934Z"
   },
   {
    "duration": 16,
    "start_time": "2022-04-15T07:36:31.942Z"
   },
   {
    "duration": 155,
    "start_time": "2022-04-15T07:36:31.960Z"
   },
   {
    "duration": 16,
    "start_time": "2022-04-15T07:36:32.116Z"
   },
   {
    "duration": 23,
    "start_time": "2022-04-15T07:36:32.133Z"
   },
   {
    "duration": 23,
    "start_time": "2022-04-15T07:36:32.157Z"
   },
   {
    "duration": 36,
    "start_time": "2022-04-15T07:36:32.182Z"
   },
   {
    "duration": 5,
    "start_time": "2022-04-15T07:36:32.221Z"
   },
   {
    "duration": 15,
    "start_time": "2022-04-15T07:36:32.228Z"
   },
   {
    "duration": 7,
    "start_time": "2022-04-15T07:36:32.245Z"
   },
   {
    "duration": 159,
    "start_time": "2022-04-15T07:36:32.254Z"
   },
   {
    "duration": 15,
    "start_time": "2022-04-15T07:36:32.415Z"
   },
   {
    "duration": 16,
    "start_time": "2022-04-15T07:36:32.432Z"
   },
   {
    "duration": 141,
    "start_time": "2022-04-15T07:36:32.449Z"
   },
   {
    "duration": 20,
    "start_time": "2022-04-15T07:36:32.591Z"
   },
   {
    "duration": 169,
    "start_time": "2022-04-15T07:36:32.612Z"
   },
   {
    "duration": 6,
    "start_time": "2022-04-15T07:36:32.782Z"
   },
   {
    "duration": 25,
    "start_time": "2022-04-15T07:36:32.789Z"
   },
   {
    "duration": 233,
    "start_time": "2022-04-15T07:36:32.816Z"
   },
   {
    "duration": 168,
    "start_time": "2022-04-15T07:36:33.051Z"
   },
   {
    "duration": 8,
    "start_time": "2022-04-15T07:36:33.221Z"
   },
   {
    "duration": 8,
    "start_time": "2022-04-15T07:36:33.230Z"
   },
   {
    "duration": 13,
    "start_time": "2022-04-15T07:36:33.240Z"
   },
   {
    "duration": 8,
    "start_time": "2022-04-15T07:36:33.254Z"
   },
   {
    "duration": 13,
    "start_time": "2022-04-15T07:36:33.263Z"
   },
   {
    "duration": 33,
    "start_time": "2022-04-15T07:36:33.277Z"
   },
   {
    "duration": 12,
    "start_time": "2022-04-15T07:36:33.312Z"
   },
   {
    "duration": 14,
    "start_time": "2022-04-15T07:36:33.325Z"
   },
   {
    "duration": 13,
    "start_time": "2022-04-15T07:36:33.340Z"
   },
   {
    "duration": 4,
    "start_time": "2022-04-15T07:36:33.354Z"
   },
   {
    "duration": 15,
    "start_time": "2022-04-15T07:36:33.360Z"
   },
   {
    "duration": 46,
    "start_time": "2022-04-15T07:36:33.376Z"
   },
   {
    "duration": 8,
    "start_time": "2022-04-15T07:36:33.424Z"
   },
   {
    "duration": 8,
    "start_time": "2022-04-15T07:36:33.433Z"
   },
   {
    "duration": 8,
    "start_time": "2022-04-15T07:36:33.442Z"
   },
   {
    "duration": 5,
    "start_time": "2022-04-15T07:36:33.455Z"
   },
   {
    "duration": 13,
    "start_time": "2022-04-15T07:36:33.462Z"
   },
   {
    "duration": 34,
    "start_time": "2022-04-15T07:36:33.476Z"
   },
   {
    "duration": 18,
    "start_time": "2022-04-15T07:36:33.511Z"
   },
   {
    "duration": 30,
    "start_time": "2022-04-15T07:36:33.530Z"
   },
   {
    "duration": 22,
    "start_time": "2022-04-15T07:36:33.561Z"
   },
   {
    "duration": 115,
    "start_time": "2022-04-15T07:36:33.584Z"
   },
   {
    "duration": 6,
    "start_time": "2022-04-15T07:36:33.701Z"
   },
   {
    "duration": 24,
    "start_time": "2022-04-15T07:36:33.708Z"
   },
   {
    "duration": 10,
    "start_time": "2022-04-15T07:36:33.733Z"
   },
   {
    "duration": 13,
    "start_time": "2022-04-15T07:36:33.744Z"
   },
   {
    "duration": 108,
    "start_time": "2022-04-15T07:36:33.759Z"
   },
   {
    "duration": 4,
    "start_time": "2022-04-15T07:36:33.868Z"
   },
   {
    "duration": 8,
    "start_time": "2022-04-15T07:36:33.874Z"
   },
   {
    "duration": 22,
    "start_time": "2022-04-15T07:36:33.883Z"
   },
   {
    "duration": 16,
    "start_time": "2022-04-15T07:36:33.906Z"
   },
   {
    "duration": 124,
    "start_time": "2022-04-15T07:36:33.923Z"
   },
   {
    "duration": 3,
    "start_time": "2022-04-15T07:36:34.049Z"
   },
   {
    "duration": 6,
    "start_time": "2022-04-15T07:36:34.054Z"
   },
   {
    "duration": 130,
    "start_time": "2022-04-15T07:36:34.061Z"
   },
   {
    "duration": 10,
    "start_time": "2022-04-15T07:36:34.192Z"
   },
   {
    "duration": 19,
    "start_time": "2022-04-15T07:36:34.203Z"
   },
   {
    "duration": 10,
    "start_time": "2022-04-15T07:36:34.223Z"
   },
   {
    "duration": 6,
    "start_time": "2022-04-15T08:19:51.378Z"
   },
   {
    "duration": 6,
    "start_time": "2022-04-15T08:20:06.113Z"
   },
   {
    "duration": 5,
    "start_time": "2022-04-15T08:20:38.228Z"
   },
   {
    "duration": 6,
    "start_time": "2022-04-15T08:20:50.290Z"
   },
   {
    "duration": 5,
    "start_time": "2022-04-15T08:21:10.737Z"
   },
   {
    "duration": 1197,
    "start_time": "2022-04-15T08:21:40.685Z"
   },
   {
    "duration": 40,
    "start_time": "2022-04-15T08:21:41.884Z"
   },
   {
    "duration": 166,
    "start_time": "2022-04-15T08:21:41.926Z"
   },
   {
    "duration": 13,
    "start_time": "2022-04-15T08:21:42.094Z"
   },
   {
    "duration": 4,
    "start_time": "2022-04-15T08:21:42.108Z"
   },
   {
    "duration": 5,
    "start_time": "2022-04-15T08:21:42.114Z"
   },
   {
    "duration": 7,
    "start_time": "2022-04-15T08:21:42.121Z"
   },
   {
    "duration": 19,
    "start_time": "2022-04-15T08:21:42.130Z"
   },
   {
    "duration": 10,
    "start_time": "2022-04-15T08:21:42.151Z"
   },
   {
    "duration": 37,
    "start_time": "2022-04-15T08:21:42.164Z"
   },
   {
    "duration": 12,
    "start_time": "2022-04-15T08:21:42.203Z"
   },
   {
    "duration": 6,
    "start_time": "2022-04-15T08:21:42.217Z"
   },
   {
    "duration": 8,
    "start_time": "2022-04-15T08:21:42.225Z"
   },
   {
    "duration": 5,
    "start_time": "2022-04-15T08:21:42.234Z"
   },
   {
    "duration": 5,
    "start_time": "2022-04-15T08:21:42.240Z"
   },
   {
    "duration": 11,
    "start_time": "2022-04-15T08:21:42.246Z"
   },
   {
    "duration": 42,
    "start_time": "2022-04-15T08:21:42.259Z"
   },
   {
    "duration": 3,
    "start_time": "2022-04-15T08:21:42.303Z"
   },
   {
    "duration": 5,
    "start_time": "2022-04-15T08:21:42.308Z"
   },
   {
    "duration": 15,
    "start_time": "2022-04-15T08:21:42.314Z"
   },
   {
    "duration": 9,
    "start_time": "2022-04-15T08:21:42.331Z"
   },
   {
    "duration": 12,
    "start_time": "2022-04-15T08:21:42.341Z"
   },
   {
    "duration": 11,
    "start_time": "2022-04-15T08:21:42.354Z"
   },
   {
    "duration": 4,
    "start_time": "2022-04-15T08:21:42.366Z"
   },
   {
    "duration": 33,
    "start_time": "2022-04-15T08:21:42.372Z"
   },
   {
    "duration": 5,
    "start_time": "2022-04-15T08:21:42.407Z"
   },
   {
    "duration": 4,
    "start_time": "2022-04-15T08:21:42.413Z"
   },
   {
    "duration": 3,
    "start_time": "2022-04-15T08:21:42.421Z"
   },
   {
    "duration": 11,
    "start_time": "2022-04-15T08:21:42.425Z"
   },
   {
    "duration": 20,
    "start_time": "2022-04-15T08:21:42.438Z"
   },
   {
    "duration": 5,
    "start_time": "2022-04-15T08:21:42.460Z"
   },
   {
    "duration": 7,
    "start_time": "2022-04-15T08:21:42.466Z"
   },
   {
    "duration": 26,
    "start_time": "2022-04-15T08:21:42.474Z"
   },
   {
    "duration": 28,
    "start_time": "2022-04-15T08:21:42.502Z"
   },
   {
    "duration": 4,
    "start_time": "2022-04-15T08:21:42.532Z"
   },
   {
    "duration": 11,
    "start_time": "2022-04-15T08:21:42.538Z"
   },
   {
    "duration": 13,
    "start_time": "2022-04-15T08:21:42.550Z"
   },
   {
    "duration": 4,
    "start_time": "2022-04-15T08:21:42.565Z"
   },
   {
    "duration": 39,
    "start_time": "2022-04-15T08:21:42.570Z"
   },
   {
    "duration": 20,
    "start_time": "2022-04-15T08:21:42.610Z"
   },
   {
    "duration": 13,
    "start_time": "2022-04-15T08:21:42.631Z"
   },
   {
    "duration": 9,
    "start_time": "2022-04-15T08:21:42.646Z"
   },
   {
    "duration": 19,
    "start_time": "2022-04-15T08:21:42.656Z"
   },
   {
    "duration": 37,
    "start_time": "2022-04-15T08:21:42.676Z"
   },
   {
    "duration": 24,
    "start_time": "2022-04-15T08:21:42.714Z"
   },
   {
    "duration": 616,
    "start_time": "2022-04-15T08:21:42.740Z"
   },
   {
    "duration": 7,
    "start_time": "2022-04-15T08:21:43.358Z"
   },
   {
    "duration": 15,
    "start_time": "2022-04-15T08:21:43.366Z"
   },
   {
    "duration": 162,
    "start_time": "2022-04-15T08:21:43.383Z"
   },
   {
    "duration": 13,
    "start_time": "2022-04-15T08:21:43.547Z"
   },
   {
    "duration": 15,
    "start_time": "2022-04-15T08:21:43.562Z"
   },
   {
    "duration": 30,
    "start_time": "2022-04-15T08:21:43.578Z"
   },
   {
    "duration": 14,
    "start_time": "2022-04-15T08:21:43.609Z"
   },
   {
    "duration": 7,
    "start_time": "2022-04-15T08:21:43.625Z"
   },
   {
    "duration": 14,
    "start_time": "2022-04-15T08:21:43.633Z"
   },
   {
    "duration": 5,
    "start_time": "2022-04-15T08:21:43.648Z"
   },
   {
    "duration": 150,
    "start_time": "2022-04-15T08:21:43.654Z"
   },
   {
    "duration": 15,
    "start_time": "2022-04-15T08:21:43.805Z"
   },
   {
    "duration": 16,
    "start_time": "2022-04-15T08:21:43.822Z"
   },
   {
    "duration": 144,
    "start_time": "2022-04-15T08:21:43.840Z"
   },
   {
    "duration": 21,
    "start_time": "2022-04-15T08:21:43.986Z"
   },
   {
    "duration": 164,
    "start_time": "2022-04-15T08:21:44.009Z"
   },
   {
    "duration": 5,
    "start_time": "2022-04-15T08:21:44.175Z"
   },
   {
    "duration": 21,
    "start_time": "2022-04-15T08:21:44.182Z"
   },
   {
    "duration": 222,
    "start_time": "2022-04-15T08:21:44.205Z"
   },
   {
    "duration": 169,
    "start_time": "2022-04-15T08:21:44.429Z"
   },
   {
    "duration": 9,
    "start_time": "2022-04-15T08:21:44.599Z"
   },
   {
    "duration": 6,
    "start_time": "2022-04-15T08:21:44.609Z"
   },
   {
    "duration": 12,
    "start_time": "2022-04-15T08:21:44.617Z"
   },
   {
    "duration": 7,
    "start_time": "2022-04-15T08:21:44.630Z"
   },
   {
    "duration": 13,
    "start_time": "2022-04-15T08:21:44.638Z"
   },
   {
    "duration": 13,
    "start_time": "2022-04-15T08:21:44.653Z"
   },
   {
    "duration": 32,
    "start_time": "2022-04-15T08:21:44.668Z"
   },
   {
    "duration": 16,
    "start_time": "2022-04-15T08:21:44.702Z"
   },
   {
    "duration": 17,
    "start_time": "2022-04-15T08:21:44.719Z"
   },
   {
    "duration": 5,
    "start_time": "2022-04-15T08:21:44.738Z"
   },
   {
    "duration": 22,
    "start_time": "2022-04-15T08:21:44.744Z"
   },
   {
    "duration": 12,
    "start_time": "2022-04-15T08:21:44.768Z"
   },
   {
    "duration": 5,
    "start_time": "2022-04-15T08:21:44.801Z"
   },
   {
    "duration": 7,
    "start_time": "2022-04-15T08:21:44.808Z"
   },
   {
    "duration": 6,
    "start_time": "2022-04-15T08:21:44.817Z"
   },
   {
    "duration": 6,
    "start_time": "2022-04-15T08:21:44.829Z"
   },
   {
    "duration": 15,
    "start_time": "2022-04-15T08:21:44.836Z"
   },
   {
    "duration": 12,
    "start_time": "2022-04-15T08:21:44.852Z"
   },
   {
    "duration": 13,
    "start_time": "2022-04-15T08:21:44.901Z"
   },
   {
    "duration": 771,
    "start_time": "2022-04-15T08:21:44.916Z"
   },
   {
    "duration": 14,
    "start_time": "2022-04-15T08:21:45.689Z"
   },
   {
    "duration": 119,
    "start_time": "2022-04-15T08:21:45.705Z"
   },
   {
    "duration": 4,
    "start_time": "2022-04-15T08:21:45.826Z"
   },
   {
    "duration": 10,
    "start_time": "2022-04-15T08:21:45.832Z"
   },
   {
    "duration": 7,
    "start_time": "2022-04-15T08:21:45.844Z"
   },
   {
    "duration": 18,
    "start_time": "2022-04-15T08:21:45.853Z"
   },
   {
    "duration": 131,
    "start_time": "2022-04-15T08:21:45.872Z"
   },
   {
    "duration": 3,
    "start_time": "2022-04-15T08:21:46.005Z"
   },
   {
    "duration": 7,
    "start_time": "2022-04-15T08:21:46.011Z"
   },
   {
    "duration": 6,
    "start_time": "2022-04-15T08:21:46.020Z"
   },
   {
    "duration": 11,
    "start_time": "2022-04-15T08:21:46.028Z"
   },
   {
    "duration": 151,
    "start_time": "2022-04-15T08:21:46.041Z"
   },
   {
    "duration": 8,
    "start_time": "2022-04-15T08:21:46.194Z"
   },
   {
    "duration": 8,
    "start_time": "2022-04-15T08:21:46.204Z"
   },
   {
    "duration": 127,
    "start_time": "2022-04-15T08:21:46.214Z"
   },
   {
    "duration": 4,
    "start_time": "2022-04-15T08:21:46.343Z"
   },
   {
    "duration": 7,
    "start_time": "2022-04-15T08:21:46.348Z"
   },
   {
    "duration": 5,
    "start_time": "2022-04-15T08:21:46.356Z"
   },
   {
    "duration": 1230,
    "start_time": "2022-04-24T13:26:53.837Z"
   },
   {
    "duration": 51,
    "start_time": "2022-04-24T13:26:55.069Z"
   },
   {
    "duration": 18,
    "start_time": "2022-04-24T13:26:55.122Z"
   },
   {
    "duration": 18,
    "start_time": "2022-04-24T13:26:55.142Z"
   },
   {
    "duration": 15,
    "start_time": "2022-04-24T13:26:55.162Z"
   },
   {
    "duration": 6,
    "start_time": "2022-04-24T13:26:55.178Z"
   },
   {
    "duration": 17,
    "start_time": "2022-04-24T13:26:55.186Z"
   },
   {
    "duration": 17,
    "start_time": "2022-04-24T13:26:55.204Z"
   },
   {
    "duration": 9,
    "start_time": "2022-04-24T13:26:55.222Z"
   },
   {
    "duration": 10,
    "start_time": "2022-04-24T13:26:55.233Z"
   },
   {
    "duration": 34,
    "start_time": "2022-04-24T13:26:55.245Z"
   },
   {
    "duration": 14,
    "start_time": "2022-04-24T13:26:55.280Z"
   },
   {
    "duration": 10,
    "start_time": "2022-04-24T13:26:55.295Z"
   },
   {
    "duration": 10,
    "start_time": "2022-04-24T13:26:55.307Z"
   },
   {
    "duration": 5,
    "start_time": "2022-04-24T13:26:55.318Z"
   },
   {
    "duration": 14,
    "start_time": "2022-04-24T13:26:55.325Z"
   },
   {
    "duration": 8,
    "start_time": "2022-04-24T13:26:55.341Z"
   },
   {
    "duration": 28,
    "start_time": "2022-04-24T13:26:55.350Z"
   },
   {
    "duration": 14,
    "start_time": "2022-04-24T13:26:55.383Z"
   },
   {
    "duration": 18,
    "start_time": "2022-04-24T13:26:55.399Z"
   },
   {
    "duration": 11,
    "start_time": "2022-04-24T13:26:55.419Z"
   },
   {
    "duration": 14,
    "start_time": "2022-04-24T13:26:55.432Z"
   },
   {
    "duration": 31,
    "start_time": "2022-04-24T13:26:55.448Z"
   },
   {
    "duration": 9,
    "start_time": "2022-04-24T13:26:55.483Z"
   },
   {
    "duration": 16,
    "start_time": "2022-04-24T13:26:55.494Z"
   },
   {
    "duration": 9,
    "start_time": "2022-04-24T13:26:55.511Z"
   },
   {
    "duration": 9,
    "start_time": "2022-04-24T13:26:55.523Z"
   },
   {
    "duration": 10,
    "start_time": "2022-04-24T13:26:55.536Z"
   },
   {
    "duration": 9,
    "start_time": "2022-04-24T13:26:55.548Z"
   },
   {
    "duration": 22,
    "start_time": "2022-04-24T13:26:55.559Z"
   },
   {
    "duration": 17,
    "start_time": "2022-04-24T13:26:55.583Z"
   },
   {
    "duration": 6,
    "start_time": "2022-04-24T13:26:55.601Z"
   },
   {
    "duration": 7,
    "start_time": "2022-04-24T13:26:55.609Z"
   },
   {
    "duration": 28,
    "start_time": "2022-04-24T13:26:55.618Z"
   },
   {
    "duration": 4,
    "start_time": "2022-04-24T13:26:55.648Z"
   },
   {
    "duration": 18,
    "start_time": "2022-04-24T13:26:55.673Z"
   },
   {
    "duration": 13,
    "start_time": "2022-04-24T13:26:55.693Z"
   },
   {
    "duration": 5,
    "start_time": "2022-04-24T13:26:55.708Z"
   },
   {
    "duration": 17,
    "start_time": "2022-04-24T13:26:55.715Z"
   },
   {
    "duration": 39,
    "start_time": "2022-04-24T13:26:55.734Z"
   },
   {
    "duration": 16,
    "start_time": "2022-04-24T13:26:55.776Z"
   },
   {
    "duration": 9,
    "start_time": "2022-04-24T13:26:55.795Z"
   },
   {
    "duration": 16,
    "start_time": "2022-04-24T13:26:55.806Z"
   },
   {
    "duration": 19,
    "start_time": "2022-04-24T13:26:55.823Z"
   },
   {
    "duration": 49,
    "start_time": "2022-04-24T13:26:55.844Z"
   },
   {
    "duration": 735,
    "start_time": "2022-04-24T13:26:55.895Z"
   },
   {
    "duration": 10,
    "start_time": "2022-04-24T13:26:56.632Z"
   },
   {
    "duration": 13,
    "start_time": "2022-04-24T13:26:56.645Z"
   },
   {
    "duration": 184,
    "start_time": "2022-04-24T13:26:56.674Z"
   },
   {
    "duration": 27,
    "start_time": "2022-04-24T13:26:56.860Z"
   },
   {
    "duration": 22,
    "start_time": "2022-04-24T13:26:56.890Z"
   },
   {
    "duration": 14,
    "start_time": "2022-04-24T13:26:56.914Z"
   },
   {
    "duration": 16,
    "start_time": "2022-04-24T13:26:56.930Z"
   },
   {
    "duration": 33,
    "start_time": "2022-04-24T13:26:56.948Z"
   },
   {
    "duration": 28,
    "start_time": "2022-04-24T13:26:56.982Z"
   },
   {
    "duration": 4,
    "start_time": "2022-04-24T13:26:57.012Z"
   },
   {
    "duration": 183,
    "start_time": "2022-04-24T13:26:57.018Z"
   },
   {
    "duration": 17,
    "start_time": "2022-04-24T13:26:57.202Z"
   },
   {
    "duration": 19,
    "start_time": "2022-04-24T13:26:57.221Z"
   },
   {
    "duration": 180,
    "start_time": "2022-04-24T13:26:57.241Z"
   },
   {
    "duration": 19,
    "start_time": "2022-04-24T13:26:57.423Z"
   },
   {
    "duration": 213,
    "start_time": "2022-04-24T13:26:57.443Z"
   },
   {
    "duration": 22,
    "start_time": "2022-04-24T13:26:57.658Z"
   },
   {
    "duration": 15,
    "start_time": "2022-04-24T13:26:57.682Z"
   },
   {
    "duration": 283,
    "start_time": "2022-04-24T13:26:57.699Z"
   },
   {
    "duration": 199,
    "start_time": "2022-04-24T13:26:57.986Z"
   },
   {
    "duration": 9,
    "start_time": "2022-04-24T13:26:58.187Z"
   },
   {
    "duration": 4,
    "start_time": "2022-04-24T13:26:58.198Z"
   },
   {
    "duration": 11,
    "start_time": "2022-04-24T13:26:58.204Z"
   },
   {
    "duration": 10,
    "start_time": "2022-04-24T13:26:58.216Z"
   },
   {
    "duration": 25,
    "start_time": "2022-04-24T13:26:58.228Z"
   },
   {
    "duration": 21,
    "start_time": "2022-04-24T13:26:58.273Z"
   },
   {
    "duration": 6,
    "start_time": "2022-04-24T13:26:58.296Z"
   },
   {
    "duration": 17,
    "start_time": "2022-04-24T13:26:58.304Z"
   },
   {
    "duration": 16,
    "start_time": "2022-04-24T13:26:58.323Z"
   },
   {
    "duration": 12,
    "start_time": "2022-04-24T13:26:58.378Z"
   },
   {
    "duration": 23,
    "start_time": "2022-04-24T13:26:58.393Z"
   },
   {
    "duration": 18,
    "start_time": "2022-04-24T13:26:58.418Z"
   },
   {
    "duration": 18,
    "start_time": "2022-04-24T13:26:58.438Z"
   },
   {
    "duration": 10,
    "start_time": "2022-04-24T13:26:58.458Z"
   },
   {
    "duration": 24,
    "start_time": "2022-04-24T13:26:58.470Z"
   },
   {
    "duration": 8,
    "start_time": "2022-04-24T13:26:58.501Z"
   },
   {
    "duration": 16,
    "start_time": "2022-04-24T13:26:58.512Z"
   },
   {
    "duration": 21,
    "start_time": "2022-04-24T13:26:58.530Z"
   },
   {
    "duration": 41,
    "start_time": "2022-04-24T13:26:58.553Z"
   },
   {
    "duration": 11,
    "start_time": "2022-04-24T13:26:58.596Z"
   },
   {
    "duration": 18,
    "start_time": "2022-04-24T13:26:58.609Z"
   },
   {
    "duration": 149,
    "start_time": "2022-04-24T13:26:58.629Z"
   },
   {
    "duration": 4,
    "start_time": "2022-04-24T13:26:58.781Z"
   },
   {
    "duration": 19,
    "start_time": "2022-04-24T13:26:58.786Z"
   },
   {
    "duration": 11,
    "start_time": "2022-04-24T13:26:58.807Z"
   },
   {
    "duration": 18,
    "start_time": "2022-04-24T13:26:58.820Z"
   },
   {
    "duration": 170,
    "start_time": "2022-04-24T13:26:58.840Z"
   },
   {
    "duration": 5,
    "start_time": "2022-04-24T13:26:59.011Z"
   },
   {
    "duration": 10,
    "start_time": "2022-04-24T13:26:59.018Z"
   },
   {
    "duration": 6,
    "start_time": "2022-04-24T13:26:59.029Z"
   },
   {
    "duration": 13,
    "start_time": "2022-04-24T13:26:59.037Z"
   },
   {
    "duration": 168,
    "start_time": "2022-04-24T13:26:59.052Z"
   },
   {
    "duration": 5,
    "start_time": "2022-04-24T13:26:59.221Z"
   },
   {
    "duration": 8,
    "start_time": "2022-04-24T13:26:59.228Z"
   },
   {
    "duration": 197,
    "start_time": "2022-04-24T13:26:59.237Z"
   },
   {
    "duration": 5,
    "start_time": "2022-04-24T13:26:59.436Z"
   },
   {
    "duration": 11,
    "start_time": "2022-04-24T13:26:59.443Z"
   },
   {
    "duration": 20,
    "start_time": "2022-04-24T13:26:59.456Z"
   },
   {
    "duration": 3,
    "start_time": "2022-04-24T14:08:15.887Z"
   },
   {
    "duration": 55,
    "start_time": "2022-04-24T14:08:15.892Z"
   },
   {
    "duration": 14,
    "start_time": "2022-04-24T14:08:15.949Z"
   },
   {
    "duration": 49,
    "start_time": "2022-04-24T14:08:15.964Z"
   },
   {
    "duration": 31,
    "start_time": "2022-04-24T14:08:16.015Z"
   },
   {
    "duration": 18,
    "start_time": "2022-04-24T14:08:16.048Z"
   },
   {
    "duration": 34,
    "start_time": "2022-04-24T14:08:16.069Z"
   },
   {
    "duration": 30,
    "start_time": "2022-04-24T14:08:16.105Z"
   },
   {
    "duration": 15,
    "start_time": "2022-04-24T14:08:16.137Z"
   },
   {
    "duration": 26,
    "start_time": "2022-04-24T14:08:16.154Z"
   },
   {
    "duration": 26,
    "start_time": "2022-04-24T14:08:16.183Z"
   },
   {
    "duration": 18,
    "start_time": "2022-04-24T14:08:16.210Z"
   },
   {
    "duration": 10,
    "start_time": "2022-04-24T14:08:16.230Z"
   },
   {
    "duration": 19,
    "start_time": "2022-04-24T14:08:44.275Z"
   },
   {
    "duration": 6,
    "start_time": "2022-04-24T14:08:48.797Z"
   },
   {
    "duration": 10,
    "start_time": "2022-04-24T14:09:12.213Z"
   },
   {
    "duration": 16,
    "start_time": "2022-04-24T14:09:15.294Z"
   },
   {
    "duration": 10,
    "start_time": "2022-04-24T14:09:30.658Z"
   },
   {
    "duration": 14,
    "start_time": "2022-04-24T14:09:32.913Z"
   },
   {
    "duration": 14,
    "start_time": "2022-04-24T14:20:32.456Z"
   },
   {
    "duration": 25,
    "start_time": "2022-04-24T14:21:40.447Z"
   },
   {
    "duration": 3,
    "start_time": "2022-04-24T14:21:44.570Z"
   },
   {
    "duration": 17,
    "start_time": "2022-04-24T14:21:45.264Z"
   },
   {
    "duration": 10,
    "start_time": "2022-04-24T14:22:02.461Z"
   },
   {
    "duration": 15,
    "start_time": "2022-04-24T14:22:05.700Z"
   },
   {
    "duration": 3,
    "start_time": "2022-04-24T14:23:57.512Z"
   },
   {
    "duration": 43,
    "start_time": "2022-04-24T14:23:57.517Z"
   },
   {
    "duration": 15,
    "start_time": "2022-04-24T14:23:57.562Z"
   },
   {
    "duration": 28,
    "start_time": "2022-04-24T14:23:57.579Z"
   },
   {
    "duration": 5,
    "start_time": "2022-04-24T14:23:57.609Z"
   },
   {
    "duration": 7,
    "start_time": "2022-04-24T14:23:57.615Z"
   },
   {
    "duration": 6,
    "start_time": "2022-04-24T14:23:57.624Z"
   },
   {
    "duration": 22,
    "start_time": "2022-04-24T14:23:57.632Z"
   },
   {
    "duration": 23,
    "start_time": "2022-04-24T14:23:57.656Z"
   },
   {
    "duration": 21,
    "start_time": "2022-04-24T14:23:57.683Z"
   },
   {
    "duration": 13,
    "start_time": "2022-04-24T14:23:57.706Z"
   },
   {
    "duration": 7,
    "start_time": "2022-04-24T14:23:57.721Z"
   },
   {
    "duration": 12,
    "start_time": "2022-04-24T14:23:57.730Z"
   },
   {
    "duration": 9,
    "start_time": "2022-04-24T14:23:57.745Z"
   },
   {
    "duration": 35,
    "start_time": "2022-04-24T14:23:57.755Z"
   },
   {
    "duration": 6,
    "start_time": "2022-04-24T14:23:57.792Z"
   },
   {
    "duration": 15,
    "start_time": "2022-04-24T14:23:57.800Z"
   },
   {
    "duration": 7,
    "start_time": "2022-04-24T14:23:57.817Z"
   },
   {
    "duration": 8,
    "start_time": "2022-04-24T14:23:57.826Z"
   },
   {
    "duration": 17,
    "start_time": "2022-04-24T14:23:59.625Z"
   },
   {
    "duration": 3,
    "start_time": "2022-04-24T14:24:02.812Z"
   },
   {
    "duration": 24,
    "start_time": "2022-04-24T14:24:03.365Z"
   },
   {
    "duration": 14,
    "start_time": "2022-04-24T14:24:03.859Z"
   },
   {
    "duration": 16,
    "start_time": "2022-04-24T14:24:10.890Z"
   },
   {
    "duration": 14,
    "start_time": "2022-04-24T14:24:32.627Z"
   },
   {
    "duration": 14,
    "start_time": "2022-04-24T14:28:45.346Z"
   },
   {
    "duration": 109,
    "start_time": "2022-04-24T14:29:35.800Z"
   },
   {
    "duration": 13,
    "start_time": "2022-04-24T14:29:47.801Z"
   },
   {
    "duration": 6,
    "start_time": "2022-04-24T14:41:56.728Z"
   },
   {
    "duration": 2712,
    "start_time": "2022-04-26T11:32:06.598Z"
   },
   {
    "duration": 75,
    "start_time": "2022-04-26T11:32:09.314Z"
   },
   {
    "duration": 50,
    "start_time": "2022-04-26T11:32:09.392Z"
   },
   {
    "duration": 24,
    "start_time": "2022-04-26T11:32:09.446Z"
   },
   {
    "duration": 7,
    "start_time": "2022-04-26T11:32:09.472Z"
   },
   {
    "duration": 50,
    "start_time": "2022-04-26T11:32:09.482Z"
   },
   {
    "duration": 8,
    "start_time": "2022-04-26T11:32:09.535Z"
   },
   {
    "duration": 30,
    "start_time": "2022-04-26T11:32:09.545Z"
   },
   {
    "duration": 13,
    "start_time": "2022-04-26T11:32:09.578Z"
   },
   {
    "duration": 50,
    "start_time": "2022-04-26T11:32:09.596Z"
   },
   {
    "duration": 20,
    "start_time": "2022-04-26T11:32:09.648Z"
   },
   {
    "duration": 15,
    "start_time": "2022-04-26T11:32:09.670Z"
   },
   {
    "duration": 44,
    "start_time": "2022-04-26T11:32:09.688Z"
   },
   {
    "duration": 14,
    "start_time": "2022-04-26T11:32:09.740Z"
   },
   {
    "duration": 25,
    "start_time": "2022-04-26T11:32:09.757Z"
   },
   {
    "duration": 14,
    "start_time": "2022-04-26T11:32:09.785Z"
   },
   {
    "duration": 50,
    "start_time": "2022-04-26T11:32:09.801Z"
   },
   {
    "duration": 19,
    "start_time": "2022-04-26T11:32:09.854Z"
   },
   {
    "duration": 8,
    "start_time": "2022-04-26T11:32:09.875Z"
   },
   {
    "duration": 8,
    "start_time": "2022-04-26T11:32:09.885Z"
   },
   {
    "duration": 36,
    "start_time": "2022-04-26T11:32:09.895Z"
   },
   {
    "duration": 24,
    "start_time": "2022-04-26T11:32:09.934Z"
   },
   {
    "duration": 19,
    "start_time": "2022-04-26T11:32:09.961Z"
   },
   {
    "duration": 43,
    "start_time": "2022-04-26T11:32:09.983Z"
   },
   {
    "duration": 19,
    "start_time": "2022-04-26T11:32:10.030Z"
   },
   {
    "duration": 8,
    "start_time": "2022-04-26T11:32:10.051Z"
   },
   {
    "duration": 21,
    "start_time": "2022-04-26T11:32:10.061Z"
   },
   {
    "duration": 43,
    "start_time": "2022-04-26T11:32:10.089Z"
   },
   {
    "duration": 5,
    "start_time": "2022-04-26T11:32:10.136Z"
   },
   {
    "duration": 30,
    "start_time": "2022-04-26T11:32:10.144Z"
   },
   {
    "duration": 22,
    "start_time": "2022-04-26T11:32:10.176Z"
   },
   {
    "duration": 19,
    "start_time": "2022-04-26T11:32:10.201Z"
   },
   {
    "duration": 13,
    "start_time": "2022-04-26T11:32:10.223Z"
   },
   {
    "duration": 20,
    "start_time": "2022-04-26T11:32:10.244Z"
   },
   {
    "duration": 12,
    "start_time": "2022-04-26T11:32:10.267Z"
   },
   {
    "duration": 76,
    "start_time": "2022-04-26T11:32:10.282Z"
   },
   {
    "duration": 6,
    "start_time": "2022-04-26T11:32:10.360Z"
   },
   {
    "duration": 20,
    "start_time": "2022-04-26T11:32:10.369Z"
   },
   {
    "duration": 50,
    "start_time": "2022-04-26T11:32:10.392Z"
   },
   {
    "duration": 7,
    "start_time": "2022-04-26T11:32:10.445Z"
   },
   {
    "duration": 31,
    "start_time": "2022-04-26T11:32:10.455Z"
   },
   {
    "duration": 57,
    "start_time": "2022-04-26T11:32:10.488Z"
   },
   {
    "duration": 21,
    "start_time": "2022-04-26T11:32:10.548Z"
   },
   {
    "duration": 15,
    "start_time": "2022-04-26T11:32:10.572Z"
   },
   {
    "duration": 59,
    "start_time": "2022-04-26T11:32:10.589Z"
   },
   {
    "duration": 19,
    "start_time": "2022-04-26T11:32:10.651Z"
   },
   {
    "duration": 45,
    "start_time": "2022-04-26T11:32:10.672Z"
   },
   {
    "duration": 1172,
    "start_time": "2022-04-26T11:32:10.724Z"
   },
   {
    "duration": 11,
    "start_time": "2022-04-26T11:32:11.899Z"
   },
   {
    "duration": 27,
    "start_time": "2022-04-26T11:32:11.928Z"
   },
   {
    "duration": 323,
    "start_time": "2022-04-26T11:32:11.958Z"
   },
   {
    "duration": 23,
    "start_time": "2022-04-26T11:32:12.283Z"
   },
   {
    "duration": 29,
    "start_time": "2022-04-26T11:32:12.325Z"
   },
   {
    "duration": 22,
    "start_time": "2022-04-26T11:32:12.357Z"
   },
   {
    "duration": 63,
    "start_time": "2022-04-26T11:32:12.382Z"
   },
   {
    "duration": 11,
    "start_time": "2022-04-26T11:32:12.448Z"
   },
   {
    "duration": 34,
    "start_time": "2022-04-26T11:32:12.462Z"
   },
   {
    "duration": 32,
    "start_time": "2022-04-26T11:32:12.498Z"
   },
   {
    "duration": 277,
    "start_time": "2022-04-26T11:32:12.533Z"
   },
   {
    "duration": 40,
    "start_time": "2022-04-26T11:32:12.813Z"
   },
   {
    "duration": 26,
    "start_time": "2022-04-26T11:32:12.855Z"
   },
   {
    "duration": 419,
    "start_time": "2022-04-26T11:32:12.884Z"
   },
   {
    "duration": 47,
    "start_time": "2022-04-26T11:32:13.306Z"
   },
   {
    "duration": 324,
    "start_time": "2022-04-26T11:32:13.356Z"
   },
   {
    "duration": 9,
    "start_time": "2022-04-26T11:32:13.682Z"
   },
   {
    "duration": 52,
    "start_time": "2022-04-26T11:32:13.694Z"
   },
   {
    "duration": 609,
    "start_time": "2022-04-26T11:32:13.752Z"
   },
   {
    "duration": 327,
    "start_time": "2022-04-26T11:32:14.364Z"
   },
   {
    "duration": 13,
    "start_time": "2022-04-26T11:32:14.694Z"
   },
   {
    "duration": 21,
    "start_time": "2022-04-26T11:32:14.709Z"
   },
   {
    "duration": 27,
    "start_time": "2022-04-26T11:32:14.733Z"
   },
   {
    "duration": 11,
    "start_time": "2022-04-26T11:32:14.763Z"
   },
   {
    "duration": 52,
    "start_time": "2022-04-26T11:32:14.777Z"
   },
   {
    "duration": 25,
    "start_time": "2022-04-26T11:32:14.832Z"
   },
   {
    "duration": 9,
    "start_time": "2022-04-26T11:32:14.860Z"
   },
   {
    "duration": 56,
    "start_time": "2022-04-26T11:32:14.871Z"
   },
   {
    "duration": 26,
    "start_time": "2022-04-26T11:32:14.930Z"
   },
   {
    "duration": 11,
    "start_time": "2022-04-26T11:32:14.958Z"
   },
   {
    "duration": 21,
    "start_time": "2022-04-26T11:32:14.971Z"
   },
   {
    "duration": 48,
    "start_time": "2022-04-26T11:32:14.995Z"
   },
   {
    "duration": 9,
    "start_time": "2022-04-26T11:32:15.046Z"
   },
   {
    "duration": 11,
    "start_time": "2022-04-26T11:32:15.065Z"
   },
   {
    "duration": 52,
    "start_time": "2022-04-26T11:32:15.079Z"
   },
   {
    "duration": 13,
    "start_time": "2022-04-26T11:32:15.134Z"
   },
   {
    "duration": 22,
    "start_time": "2022-04-26T11:32:15.149Z"
   },
   {
    "duration": 26,
    "start_time": "2022-04-26T11:32:15.173Z"
   },
   {
    "duration": 28,
    "start_time": "2022-04-26T11:32:15.228Z"
   },
   {
    "duration": 16,
    "start_time": "2022-04-26T11:32:15.260Z"
   },
   {
    "duration": 52,
    "start_time": "2022-04-26T11:32:15.280Z"
   },
   {
    "duration": 296,
    "start_time": "2022-04-26T11:32:15.334Z"
   },
   {
    "duration": 6,
    "start_time": "2022-04-26T11:32:15.632Z"
   },
   {
    "duration": 19,
    "start_time": "2022-04-26T11:32:15.640Z"
   },
   {
    "duration": 12,
    "start_time": "2022-04-26T11:32:15.662Z"
   },
   {
    "duration": 21,
    "start_time": "2022-04-26T11:32:15.676Z"
   },
   {
    "duration": 291,
    "start_time": "2022-04-26T11:32:15.699Z"
   },
   {
    "duration": 6,
    "start_time": "2022-04-26T11:32:15.992Z"
   },
   {
    "duration": 45,
    "start_time": "2022-04-26T11:32:16.001Z"
   },
   {
    "duration": 37,
    "start_time": "2022-04-26T11:32:16.048Z"
   },
   {
    "duration": 49,
    "start_time": "2022-04-26T11:32:16.088Z"
   },
   {
    "duration": 224,
    "start_time": "2022-04-26T11:32:16.141Z"
   },
   {
    "duration": 10,
    "start_time": "2022-04-26T11:32:16.368Z"
   },
   {
    "duration": 32,
    "start_time": "2022-04-26T11:32:16.381Z"
   },
   {
    "duration": 242,
    "start_time": "2022-04-26T11:32:16.415Z"
   },
   {
    "duration": 6,
    "start_time": "2022-04-26T11:32:16.660Z"
   },
   {
    "duration": 23,
    "start_time": "2022-04-26T11:32:16.668Z"
   },
   {
    "duration": 32,
    "start_time": "2022-04-26T11:32:16.694Z"
   },
   {
    "duration": 5,
    "start_time": "2022-04-26T11:32:36.764Z"
   },
   {
    "duration": 1976,
    "start_time": "2022-04-26T11:32:43.576Z"
   },
   {
    "duration": 73,
    "start_time": "2022-04-26T11:32:45.557Z"
   },
   {
    "duration": 39,
    "start_time": "2022-04-26T11:32:45.633Z"
   },
   {
    "duration": 32,
    "start_time": "2022-04-26T11:32:45.677Z"
   },
   {
    "duration": 21,
    "start_time": "2022-04-26T11:32:45.712Z"
   },
   {
    "duration": 21,
    "start_time": "2022-04-26T11:32:45.736Z"
   },
   {
    "duration": 10,
    "start_time": "2022-04-26T11:32:45.760Z"
   },
   {
    "duration": 35,
    "start_time": "2022-04-26T11:32:45.774Z"
   },
   {
    "duration": 22,
    "start_time": "2022-04-26T11:32:45.812Z"
   },
   {
    "duration": 32,
    "start_time": "2022-04-26T11:32:45.839Z"
   },
   {
    "duration": 31,
    "start_time": "2022-04-26T11:32:45.874Z"
   },
   {
    "duration": 14,
    "start_time": "2022-04-26T11:32:45.908Z"
   },
   {
    "duration": 32,
    "start_time": "2022-04-26T11:32:45.928Z"
   },
   {
    "duration": 9,
    "start_time": "2022-04-26T11:32:45.962Z"
   },
   {
    "duration": 59,
    "start_time": "2022-04-26T11:32:45.973Z"
   },
   {
    "duration": 13,
    "start_time": "2022-04-26T11:32:46.034Z"
   },
   {
    "duration": 25,
    "start_time": "2022-04-26T11:32:46.052Z"
   },
   {
    "duration": 52,
    "start_time": "2022-04-26T11:32:46.079Z"
   },
   {
    "duration": 35,
    "start_time": "2022-04-26T11:32:46.135Z"
   },
   {
    "duration": 6,
    "start_time": "2022-04-26T11:32:46.173Z"
   },
   {
    "duration": 89,
    "start_time": "2022-04-26T11:32:46.182Z"
   },
   {
    "duration": 69,
    "start_time": "2022-04-26T11:32:46.274Z"
   },
   {
    "duration": 19,
    "start_time": "2022-04-26T11:32:46.346Z"
   },
   {
    "duration": 76,
    "start_time": "2022-04-26T11:32:46.368Z"
   },
   {
    "duration": 33,
    "start_time": "2022-04-26T11:32:46.447Z"
   },
   {
    "duration": 8,
    "start_time": "2022-04-26T11:32:46.483Z"
   },
   {
    "duration": 17,
    "start_time": "2022-04-26T11:32:46.495Z"
   },
   {
    "duration": 14,
    "start_time": "2022-04-26T11:32:46.527Z"
   },
   {
    "duration": 14,
    "start_time": "2022-04-26T11:32:46.545Z"
   },
   {
    "duration": 7,
    "start_time": "2022-04-26T11:32:46.563Z"
   },
   {
    "duration": 61,
    "start_time": "2022-04-26T11:32:46.573Z"
   },
   {
    "duration": 28,
    "start_time": "2022-04-26T11:32:46.637Z"
   },
   {
    "duration": 11,
    "start_time": "2022-04-26T11:32:46.669Z"
   },
   {
    "duration": 43,
    "start_time": "2022-04-26T11:32:46.684Z"
   },
   {
    "duration": 10,
    "start_time": "2022-04-26T11:32:46.730Z"
   },
   {
    "duration": 126,
    "start_time": "2022-04-26T11:32:46.743Z"
   },
   {
    "duration": 8,
    "start_time": "2022-04-26T11:32:46.924Z"
   },
   {
    "duration": 34,
    "start_time": "2022-04-26T11:32:46.936Z"
   },
   {
    "duration": 79,
    "start_time": "2022-04-26T11:32:46.973Z"
   },
   {
    "duration": 9,
    "start_time": "2022-04-26T11:32:47.055Z"
   },
   {
    "duration": 76,
    "start_time": "2022-04-26T11:32:47.067Z"
   },
   {
    "duration": 84,
    "start_time": "2022-04-26T11:32:47.146Z"
   },
   {
    "duration": 27,
    "start_time": "2022-04-26T11:32:47.233Z"
   },
   {
    "duration": 14,
    "start_time": "2022-04-26T11:32:47.263Z"
   },
   {
    "duration": 59,
    "start_time": "2022-04-26T11:32:47.279Z"
   },
   {
    "duration": 42,
    "start_time": "2022-04-26T11:32:47.341Z"
   },
   {
    "duration": 64,
    "start_time": "2022-04-26T11:32:47.386Z"
   },
   {
    "duration": 1803,
    "start_time": "2022-04-26T11:32:47.454Z"
   },
   {
    "duration": 13,
    "start_time": "2022-04-26T11:32:49.261Z"
   },
   {
    "duration": 22,
    "start_time": "2022-04-26T11:32:49.276Z"
   },
   {
    "duration": 448,
    "start_time": "2022-04-26T11:32:49.300Z"
   },
   {
    "duration": 24,
    "start_time": "2022-04-26T11:32:49.750Z"
   },
   {
    "duration": 47,
    "start_time": "2022-04-26T11:32:49.777Z"
   },
   {
    "duration": 39,
    "start_time": "2022-04-26T11:32:49.826Z"
   },
   {
    "duration": 25,
    "start_time": "2022-04-26T11:32:49.867Z"
   },
   {
    "duration": 35,
    "start_time": "2022-04-26T11:32:49.896Z"
   },
   {
    "duration": 35,
    "start_time": "2022-04-26T11:32:49.933Z"
   },
   {
    "duration": 8,
    "start_time": "2022-04-26T11:32:49.971Z"
   },
   {
    "duration": 396,
    "start_time": "2022-04-26T11:32:49.982Z"
   },
   {
    "duration": 52,
    "start_time": "2022-04-26T11:32:50.380Z"
   },
   {
    "duration": 38,
    "start_time": "2022-04-26T11:32:50.439Z"
   },
   {
    "duration": 322,
    "start_time": "2022-04-26T11:32:50.479Z"
   },
   {
    "duration": 44,
    "start_time": "2022-04-26T11:32:50.803Z"
   },
   {
    "duration": 486,
    "start_time": "2022-04-26T11:32:50.850Z"
   },
   {
    "duration": 10,
    "start_time": "2022-04-26T11:32:51.340Z"
   },
   {
    "duration": 46,
    "start_time": "2022-04-26T11:32:51.352Z"
   },
   {
    "duration": 440,
    "start_time": "2022-04-26T11:32:51.401Z"
   },
   {
    "duration": 422,
    "start_time": "2022-04-26T11:32:51.847Z"
   },
   {
    "duration": 18,
    "start_time": "2022-04-26T11:32:52.273Z"
   },
   {
    "duration": 33,
    "start_time": "2022-04-26T11:32:52.294Z"
   },
   {
    "duration": 26,
    "start_time": "2022-04-26T11:32:52.334Z"
   },
   {
    "duration": 18,
    "start_time": "2022-04-26T11:32:52.362Z"
   },
   {
    "duration": 28,
    "start_time": "2022-04-26T11:32:52.383Z"
   },
   {
    "duration": 25,
    "start_time": "2022-04-26T11:32:52.431Z"
   },
   {
    "duration": 12,
    "start_time": "2022-04-26T11:32:52.459Z"
   },
   {
    "duration": 24,
    "start_time": "2022-04-26T11:32:52.474Z"
   },
   {
    "duration": 31,
    "start_time": "2022-04-26T11:32:52.524Z"
   },
   {
    "duration": 10,
    "start_time": "2022-04-26T11:32:52.558Z"
   },
   {
    "duration": 60,
    "start_time": "2022-04-26T11:32:52.571Z"
   },
   {
    "duration": 31,
    "start_time": "2022-04-26T11:32:52.634Z"
   },
   {
    "duration": 9,
    "start_time": "2022-04-26T11:32:52.668Z"
   },
   {
    "duration": 40,
    "start_time": "2022-04-26T11:32:52.689Z"
   },
   {
    "duration": 24,
    "start_time": "2022-04-26T11:32:52.731Z"
   },
   {
    "duration": 15,
    "start_time": "2022-04-26T11:32:52.758Z"
   },
   {
    "duration": 27,
    "start_time": "2022-04-26T11:32:52.776Z"
   },
   {
    "duration": 43,
    "start_time": "2022-04-26T11:32:52.806Z"
   },
   {
    "duration": 36,
    "start_time": "2022-04-26T11:32:52.852Z"
   },
   {
    "duration": 42,
    "start_time": "2022-04-26T11:32:52.891Z"
   },
   {
    "duration": 42,
    "start_time": "2022-04-26T11:32:52.935Z"
   },
   {
    "duration": 335,
    "start_time": "2022-04-26T11:32:52.980Z"
   },
   {
    "duration": 13,
    "start_time": "2022-04-26T11:32:53.318Z"
   },
   {
    "duration": 29,
    "start_time": "2022-04-26T11:32:53.335Z"
   },
   {
    "duration": 13,
    "start_time": "2022-04-26T11:32:53.366Z"
   },
   {
    "duration": 45,
    "start_time": "2022-04-26T11:32:53.382Z"
   },
   {
    "duration": 327,
    "start_time": "2022-04-26T11:32:53.437Z"
   },
   {
    "duration": 6,
    "start_time": "2022-04-26T11:32:53.767Z"
   },
   {
    "duration": 13,
    "start_time": "2022-04-26T11:32:53.776Z"
   },
   {
    "duration": 40,
    "start_time": "2022-04-26T11:32:53.791Z"
   },
   {
    "duration": 20,
    "start_time": "2022-04-26T11:32:53.834Z"
   },
   {
    "duration": 237,
    "start_time": "2022-04-26T11:32:53.857Z"
   },
   {
    "duration": 6,
    "start_time": "2022-04-26T11:32:54.097Z"
   },
   {
    "duration": 28,
    "start_time": "2022-04-26T11:32:54.105Z"
   },
   {
    "duration": 304,
    "start_time": "2022-04-26T11:32:54.136Z"
   },
   {
    "duration": 6,
    "start_time": "2022-04-26T11:32:54.444Z"
   },
   {
    "duration": 19,
    "start_time": "2022-04-26T11:32:54.453Z"
   },
   {
    "duration": 19,
    "start_time": "2022-04-26T11:32:54.474Z"
   },
   {
    "duration": 11,
    "start_time": "2022-04-26T11:37:22.765Z"
   },
   {
    "duration": 1617,
    "start_time": "2022-04-26T11:39:49.999Z"
   },
   {
    "duration": 61,
    "start_time": "2022-04-26T11:39:51.619Z"
   },
   {
    "duration": 27,
    "start_time": "2022-04-26T11:39:51.683Z"
   },
   {
    "duration": 28,
    "start_time": "2022-04-26T11:39:51.724Z"
   },
   {
    "duration": 6,
    "start_time": "2022-04-26T11:39:51.754Z"
   },
   {
    "duration": 11,
    "start_time": "2022-04-26T11:39:51.762Z"
   },
   {
    "duration": 35,
    "start_time": "2022-04-26T11:39:51.775Z"
   },
   {
    "duration": 39,
    "start_time": "2022-04-26T11:39:51.813Z"
   },
   {
    "duration": 32,
    "start_time": "2022-04-26T11:39:51.854Z"
   },
   {
    "duration": 17,
    "start_time": "2022-04-26T11:39:51.891Z"
   },
   {
    "duration": 40,
    "start_time": "2022-04-26T11:39:51.911Z"
   },
   {
    "duration": 19,
    "start_time": "2022-04-26T11:39:51.954Z"
   },
   {
    "duration": 34,
    "start_time": "2022-04-26T11:39:51.976Z"
   },
   {
    "duration": 36,
    "start_time": "2022-04-26T11:39:52.013Z"
   },
   {
    "duration": 32,
    "start_time": "2022-04-26T11:39:52.051Z"
   },
   {
    "duration": 23,
    "start_time": "2022-04-26T11:39:52.085Z"
   },
   {
    "duration": 30,
    "start_time": "2022-04-26T11:39:52.111Z"
   },
   {
    "duration": 35,
    "start_time": "2022-04-26T11:39:52.144Z"
   },
   {
    "duration": 26,
    "start_time": "2022-04-26T11:39:52.182Z"
   },
   {
    "duration": 17,
    "start_time": "2022-04-26T11:39:52.211Z"
   },
   {
    "duration": 51,
    "start_time": "2022-04-26T11:39:52.230Z"
   },
   {
    "duration": 27,
    "start_time": "2022-04-26T11:39:52.284Z"
   },
   {
    "duration": 27,
    "start_time": "2022-04-26T11:39:52.313Z"
   },
   {
    "duration": 45,
    "start_time": "2022-04-26T11:39:52.343Z"
   },
   {
    "duration": 39,
    "start_time": "2022-04-26T11:39:52.391Z"
   },
   {
    "duration": 27,
    "start_time": "2022-04-26T11:39:52.433Z"
   },
   {
    "duration": 27,
    "start_time": "2022-04-26T11:39:52.462Z"
   },
   {
    "duration": 16,
    "start_time": "2022-04-26T11:39:52.496Z"
   },
   {
    "duration": 17,
    "start_time": "2022-04-26T11:39:52.514Z"
   },
   {
    "duration": 31,
    "start_time": "2022-04-26T11:39:52.534Z"
   },
   {
    "duration": 14,
    "start_time": "2022-04-26T11:39:52.570Z"
   },
   {
    "duration": 24,
    "start_time": "2022-04-26T11:39:52.586Z"
   },
   {
    "duration": 38,
    "start_time": "2022-04-26T11:39:52.612Z"
   },
   {
    "duration": 17,
    "start_time": "2022-04-26T11:39:52.653Z"
   },
   {
    "duration": 16,
    "start_time": "2022-04-26T11:39:52.673Z"
   },
   {
    "duration": 76,
    "start_time": "2022-04-26T11:39:52.692Z"
   },
   {
    "duration": 5,
    "start_time": "2022-04-26T11:39:52.771Z"
   },
   {
    "duration": 33,
    "start_time": "2022-04-26T11:39:52.779Z"
   },
   {
    "duration": 40,
    "start_time": "2022-04-26T11:39:52.814Z"
   },
   {
    "duration": 20,
    "start_time": "2022-04-26T11:39:52.856Z"
   },
   {
    "duration": 34,
    "start_time": "2022-04-26T11:39:52.879Z"
   },
   {
    "duration": 43,
    "start_time": "2022-04-26T11:39:52.916Z"
   },
   {
    "duration": 20,
    "start_time": "2022-04-26T11:39:52.961Z"
   },
   {
    "duration": 11,
    "start_time": "2022-04-26T11:39:52.984Z"
   },
   {
    "duration": 40,
    "start_time": "2022-04-26T11:39:52.997Z"
   },
   {
    "duration": 46,
    "start_time": "2022-04-26T11:39:53.039Z"
   },
   {
    "duration": 39,
    "start_time": "2022-04-26T11:39:53.087Z"
   },
   {
    "duration": 1258,
    "start_time": "2022-04-26T11:39:53.128Z"
   },
   {
    "duration": 10,
    "start_time": "2022-04-26T11:39:54.388Z"
   },
   {
    "duration": 50,
    "start_time": "2022-04-26T11:39:54.401Z"
   },
   {
    "duration": 289,
    "start_time": "2022-04-26T11:39:54.453Z"
   },
   {
    "duration": 26,
    "start_time": "2022-04-26T11:39:54.746Z"
   },
   {
    "duration": 23,
    "start_time": "2022-04-26T11:39:54.775Z"
   },
   {
    "duration": 51,
    "start_time": "2022-04-26T11:39:54.800Z"
   },
   {
    "duration": 53,
    "start_time": "2022-04-26T11:39:54.854Z"
   },
   {
    "duration": 14,
    "start_time": "2022-04-26T11:39:54.910Z"
   },
   {
    "duration": 38,
    "start_time": "2022-04-26T11:39:54.926Z"
   },
   {
    "duration": 14,
    "start_time": "2022-04-26T11:39:54.967Z"
   },
   {
    "duration": 271,
    "start_time": "2022-04-26T11:39:54.983Z"
   },
   {
    "duration": 26,
    "start_time": "2022-04-26T11:39:55.256Z"
   },
   {
    "duration": 54,
    "start_time": "2022-04-26T11:39:55.285Z"
   },
   {
    "duration": 258,
    "start_time": "2022-04-26T11:39:55.342Z"
   },
   {
    "duration": 40,
    "start_time": "2022-04-26T11:39:55.603Z"
   },
   {
    "duration": 333,
    "start_time": "2022-04-26T11:39:55.645Z"
   },
   {
    "duration": 10,
    "start_time": "2022-04-26T11:39:55.980Z"
   },
   {
    "duration": 55,
    "start_time": "2022-04-26T11:39:55.992Z"
   },
   {
    "duration": 430,
    "start_time": "2022-04-26T11:39:56.050Z"
   },
   {
    "duration": 320,
    "start_time": "2022-04-26T11:39:56.483Z"
   },
   {
    "duration": 28,
    "start_time": "2022-04-26T11:39:56.805Z"
   },
   {
    "duration": 26,
    "start_time": "2022-04-26T11:39:56.835Z"
   },
   {
    "duration": 20,
    "start_time": "2022-04-26T11:39:56.864Z"
   },
   {
    "duration": 11,
    "start_time": "2022-04-26T11:39:56.887Z"
   },
   {
    "duration": 33,
    "start_time": "2022-04-26T11:39:56.900Z"
   },
   {
    "duration": 27,
    "start_time": "2022-04-26T11:39:56.938Z"
   },
   {
    "duration": 10,
    "start_time": "2022-04-26T11:39:56.968Z"
   },
   {
    "duration": 51,
    "start_time": "2022-04-26T11:39:56.981Z"
   },
   {
    "duration": 37,
    "start_time": "2022-04-26T11:39:57.034Z"
   },
   {
    "duration": 9,
    "start_time": "2022-04-26T11:39:57.074Z"
   },
   {
    "duration": 39,
    "start_time": "2022-04-26T11:39:57.086Z"
   },
   {
    "duration": 33,
    "start_time": "2022-04-26T11:39:57.129Z"
   },
   {
    "duration": 15,
    "start_time": "2022-04-26T11:39:57.164Z"
   },
   {
    "duration": 11,
    "start_time": "2022-04-26T11:39:57.191Z"
   },
   {
    "duration": 15,
    "start_time": "2022-04-26T11:39:57.224Z"
   },
   {
    "duration": 17,
    "start_time": "2022-04-26T11:39:57.243Z"
   },
   {
    "duration": 27,
    "start_time": "2022-04-26T11:39:57.263Z"
   },
   {
    "duration": 54,
    "start_time": "2022-04-26T11:39:57.293Z"
   },
   {
    "duration": 22,
    "start_time": "2022-04-26T11:39:57.350Z"
   },
   {
    "duration": 15,
    "start_time": "2022-04-26T11:39:57.374Z"
   },
   {
    "duration": 44,
    "start_time": "2022-04-26T11:39:57.391Z"
   },
   {
    "duration": 216,
    "start_time": "2022-04-26T11:39:57.437Z"
   },
   {
    "duration": 5,
    "start_time": "2022-04-26T11:39:57.656Z"
   },
   {
    "duration": 17,
    "start_time": "2022-04-26T11:39:57.663Z"
   },
   {
    "duration": 13,
    "start_time": "2022-04-26T11:39:57.682Z"
   },
   {
    "duration": 59,
    "start_time": "2022-04-26T11:39:57.697Z"
   },
   {
    "duration": 218,
    "start_time": "2022-04-26T11:39:57.758Z"
   },
   {
    "duration": 5,
    "start_time": "2022-04-26T11:39:57.978Z"
   },
   {
    "duration": 14,
    "start_time": "2022-04-26T11:39:57.986Z"
   },
   {
    "duration": 30,
    "start_time": "2022-04-26T11:39:58.002Z"
   },
   {
    "duration": 29,
    "start_time": "2022-04-26T11:39:58.035Z"
   },
   {
    "duration": 223,
    "start_time": "2022-04-26T11:39:58.066Z"
   },
   {
    "duration": 5,
    "start_time": "2022-04-26T11:39:58.292Z"
   },
   {
    "duration": 31,
    "start_time": "2022-04-26T11:39:58.299Z"
   },
   {
    "duration": 302,
    "start_time": "2022-04-26T11:39:58.333Z"
   },
   {
    "duration": 10,
    "start_time": "2022-04-26T11:39:58.637Z"
   },
   {
    "duration": 11,
    "start_time": "2022-04-26T11:39:58.650Z"
   },
   {
    "duration": 18,
    "start_time": "2022-04-26T11:39:58.663Z"
   },
   {
    "duration": 8,
    "start_time": "2022-04-26T11:46:39.757Z"
   },
   {
    "duration": 1784,
    "start_time": "2022-04-26T11:46:46.492Z"
   },
   {
    "duration": 48,
    "start_time": "2022-04-26T11:46:48.279Z"
   },
   {
    "duration": 34,
    "start_time": "2022-04-26T11:46:48.330Z"
   },
   {
    "duration": 27,
    "start_time": "2022-04-26T11:46:48.368Z"
   },
   {
    "duration": 31,
    "start_time": "2022-04-26T11:46:48.397Z"
   },
   {
    "duration": 6,
    "start_time": "2022-04-26T11:46:48.431Z"
   },
   {
    "duration": 21,
    "start_time": "2022-04-26T11:46:48.440Z"
   },
   {
    "duration": 23,
    "start_time": "2022-04-26T11:46:48.464Z"
   },
   {
    "duration": 42,
    "start_time": "2022-04-26T11:46:48.489Z"
   },
   {
    "duration": 22,
    "start_time": "2022-04-26T11:46:48.535Z"
   },
   {
    "duration": 22,
    "start_time": "2022-04-26T11:46:48.559Z"
   },
   {
    "duration": 15,
    "start_time": "2022-04-26T11:46:48.584Z"
   },
   {
    "duration": 32,
    "start_time": "2022-04-26T11:46:48.601Z"
   },
   {
    "duration": 22,
    "start_time": "2022-04-26T11:46:48.636Z"
   },
   {
    "duration": 14,
    "start_time": "2022-04-26T11:46:48.661Z"
   },
   {
    "duration": 13,
    "start_time": "2022-04-26T11:46:48.678Z"
   },
   {
    "duration": 41,
    "start_time": "2022-04-26T11:46:48.693Z"
   },
   {
    "duration": 10,
    "start_time": "2022-04-26T11:46:48.736Z"
   },
   {
    "duration": 10,
    "start_time": "2022-04-26T11:46:48.751Z"
   },
   {
    "duration": 9,
    "start_time": "2022-04-26T11:46:48.764Z"
   },
   {
    "duration": 14,
    "start_time": "2022-04-26T11:46:48.776Z"
   },
   {
    "duration": 55,
    "start_time": "2022-04-26T11:46:48.792Z"
   },
   {
    "duration": 26,
    "start_time": "2022-04-26T11:46:48.849Z"
   },
   {
    "duration": 15,
    "start_time": "2022-04-26T11:46:48.878Z"
   },
   {
    "duration": 16,
    "start_time": "2022-04-26T11:46:48.896Z"
   },
   {
    "duration": 19,
    "start_time": "2022-04-26T11:46:48.914Z"
   },
   {
    "duration": 26,
    "start_time": "2022-04-26T11:46:48.935Z"
   },
   {
    "duration": 10,
    "start_time": "2022-04-26T11:46:48.971Z"
   },
   {
    "duration": 13,
    "start_time": "2022-04-26T11:46:48.983Z"
   },
   {
    "duration": 33,
    "start_time": "2022-04-26T11:46:48.999Z"
   },
   {
    "duration": 20,
    "start_time": "2022-04-26T11:46:49.037Z"
   },
   {
    "duration": 30,
    "start_time": "2022-04-26T11:46:49.060Z"
   },
   {
    "duration": 9,
    "start_time": "2022-04-26T11:46:49.093Z"
   },
   {
    "duration": 14,
    "start_time": "2022-04-26T11:46:49.104Z"
   },
   {
    "duration": 14,
    "start_time": "2022-04-26T11:46:49.132Z"
   },
   {
    "duration": 67,
    "start_time": "2022-04-26T11:46:49.149Z"
   },
   {
    "duration": 15,
    "start_time": "2022-04-26T11:46:49.218Z"
   },
   {
    "duration": 23,
    "start_time": "2022-04-26T11:46:49.236Z"
   },
   {
    "duration": 23,
    "start_time": "2022-04-26T11:46:49.261Z"
   },
   {
    "duration": 6,
    "start_time": "2022-04-26T11:46:49.287Z"
   },
   {
    "duration": 51,
    "start_time": "2022-04-26T11:46:49.296Z"
   },
   {
    "duration": 20,
    "start_time": "2022-04-26T11:46:49.350Z"
   },
   {
    "duration": 20,
    "start_time": "2022-04-26T11:46:49.372Z"
   },
   {
    "duration": 43,
    "start_time": "2022-04-26T11:46:49.395Z"
   },
   {
    "duration": 29,
    "start_time": "2022-04-26T11:46:49.440Z"
   },
   {
    "duration": 24,
    "start_time": "2022-04-26T11:46:49.471Z"
   },
   {
    "duration": 55,
    "start_time": "2022-04-26T11:46:49.497Z"
   },
   {
    "duration": 1183,
    "start_time": "2022-04-26T11:46:49.555Z"
   },
   {
    "duration": 12,
    "start_time": "2022-04-26T11:46:50.741Z"
   },
   {
    "duration": 23,
    "start_time": "2022-04-26T11:46:50.755Z"
   },
   {
    "duration": 313,
    "start_time": "2022-04-26T11:46:50.781Z"
   },
   {
    "duration": 33,
    "start_time": "2022-04-26T11:46:51.097Z"
   },
   {
    "duration": 30,
    "start_time": "2022-04-26T11:46:51.133Z"
   },
   {
    "duration": 27,
    "start_time": "2022-04-26T11:46:51.166Z"
   },
   {
    "duration": 60,
    "start_time": "2022-04-26T11:46:51.195Z"
   },
   {
    "duration": 7,
    "start_time": "2022-04-26T11:46:51.258Z"
   },
   {
    "duration": 25,
    "start_time": "2022-04-26T11:46:51.268Z"
   },
   {
    "duration": 9,
    "start_time": "2022-04-26T11:46:51.295Z"
   },
   {
    "duration": 287,
    "start_time": "2022-04-26T11:46:51.306Z"
   },
   {
    "duration": 45,
    "start_time": "2022-04-26T11:46:51.595Z"
   },
   {
    "duration": 43,
    "start_time": "2022-04-26T11:46:51.646Z"
   },
   {
    "duration": 373,
    "start_time": "2022-04-26T11:46:51.692Z"
   },
   {
    "duration": 31,
    "start_time": "2022-04-26T11:46:52.067Z"
   },
   {
    "duration": 410,
    "start_time": "2022-04-26T11:46:52.101Z"
   },
   {
    "duration": 17,
    "start_time": "2022-04-26T11:46:52.514Z"
   },
   {
    "duration": 45,
    "start_time": "2022-04-26T11:46:52.534Z"
   },
   {
    "duration": 395,
    "start_time": "2022-04-26T11:46:52.582Z"
   },
   {
    "duration": 333,
    "start_time": "2022-04-26T11:46:52.980Z"
   },
   {
    "duration": 17,
    "start_time": "2022-04-26T11:46:53.325Z"
   },
   {
    "duration": 9,
    "start_time": "2022-04-26T11:46:53.345Z"
   },
   {
    "duration": 23,
    "start_time": "2022-04-26T11:46:53.357Z"
   },
   {
    "duration": 11,
    "start_time": "2022-04-26T11:46:53.382Z"
   },
   {
    "duration": 53,
    "start_time": "2022-04-26T11:46:53.395Z"
   },
   {
    "duration": 28,
    "start_time": "2022-04-26T11:46:53.451Z"
   },
   {
    "duration": 9,
    "start_time": "2022-04-26T11:46:53.482Z"
   },
   {
    "duration": 58,
    "start_time": "2022-04-26T11:46:53.494Z"
   },
   {
    "duration": 30,
    "start_time": "2022-04-26T11:46:53.555Z"
   },
   {
    "duration": 10,
    "start_time": "2022-04-26T11:46:53.588Z"
   },
   {
    "duration": 47,
    "start_time": "2022-04-26T11:46:53.601Z"
   },
   {
    "duration": 41,
    "start_time": "2022-04-26T11:46:53.651Z"
   },
   {
    "duration": 32,
    "start_time": "2022-04-26T11:46:53.695Z"
   },
   {
    "duration": 19,
    "start_time": "2022-04-26T11:46:53.740Z"
   },
   {
    "duration": 20,
    "start_time": "2022-04-26T11:46:53.762Z"
   },
   {
    "duration": 18,
    "start_time": "2022-04-26T11:46:53.784Z"
   },
   {
    "duration": 43,
    "start_time": "2022-04-26T11:46:53.804Z"
   },
   {
    "duration": 34,
    "start_time": "2022-04-26T11:46:53.849Z"
   },
   {
    "duration": 50,
    "start_time": "2022-04-26T11:46:53.885Z"
   },
   {
    "duration": 43,
    "start_time": "2022-04-26T11:46:53.940Z"
   },
   {
    "duration": 38,
    "start_time": "2022-04-26T11:46:53.985Z"
   },
   {
    "duration": 356,
    "start_time": "2022-04-26T11:46:54.027Z"
   },
   {
    "duration": 6,
    "start_time": "2022-04-26T11:46:54.386Z"
   },
   {
    "duration": 29,
    "start_time": "2022-04-26T11:46:54.395Z"
   },
   {
    "duration": 22,
    "start_time": "2022-04-26T11:46:54.426Z"
   },
   {
    "duration": 41,
    "start_time": "2022-04-26T11:46:54.451Z"
   },
   {
    "duration": 273,
    "start_time": "2022-04-26T11:46:54.495Z"
   },
   {
    "duration": 7,
    "start_time": "2022-04-26T11:46:54.770Z"
   },
   {
    "duration": 13,
    "start_time": "2022-04-26T11:46:54.780Z"
   },
   {
    "duration": 34,
    "start_time": "2022-04-26T11:46:54.795Z"
   },
   {
    "duration": 23,
    "start_time": "2022-04-26T11:46:54.832Z"
   },
   {
    "duration": 233,
    "start_time": "2022-04-26T11:46:54.858Z"
   },
   {
    "duration": 7,
    "start_time": "2022-04-26T11:46:55.094Z"
   },
   {
    "duration": 23,
    "start_time": "2022-04-26T11:46:55.103Z"
   },
   {
    "duration": 236,
    "start_time": "2022-04-26T11:46:55.129Z"
   },
   {
    "duration": 6,
    "start_time": "2022-04-26T11:46:55.369Z"
   },
   {
    "duration": 12,
    "start_time": "2022-04-26T11:46:55.377Z"
   },
   {
    "duration": 34,
    "start_time": "2022-04-26T11:46:55.392Z"
   },
   {
    "duration": 11,
    "start_time": "2022-04-26T11:54:37.231Z"
   },
   {
    "duration": 1584,
    "start_time": "2022-04-26T11:54:46.242Z"
   },
   {
    "duration": 57,
    "start_time": "2022-04-26T11:54:47.830Z"
   },
   {
    "duration": 41,
    "start_time": "2022-04-26T11:54:47.890Z"
   },
   {
    "duration": 24,
    "start_time": "2022-04-26T11:54:47.934Z"
   },
   {
    "duration": 7,
    "start_time": "2022-04-26T11:54:47.962Z"
   },
   {
    "duration": 7,
    "start_time": "2022-04-26T11:54:47.971Z"
   },
   {
    "duration": 51,
    "start_time": "2022-04-26T11:54:47.980Z"
   },
   {
    "duration": 23,
    "start_time": "2022-04-26T11:54:48.034Z"
   },
   {
    "duration": 13,
    "start_time": "2022-04-26T11:54:48.060Z"
   },
   {
    "duration": 16,
    "start_time": "2022-04-26T11:54:48.076Z"
   },
   {
    "duration": 58,
    "start_time": "2022-04-26T11:54:48.094Z"
   },
   {
    "duration": 10,
    "start_time": "2022-04-26T11:54:48.155Z"
   },
   {
    "duration": 17,
    "start_time": "2022-04-26T11:54:48.168Z"
   },
   {
    "duration": 43,
    "start_time": "2022-04-26T11:54:48.190Z"
   },
   {
    "duration": 17,
    "start_time": "2022-04-26T11:54:48.235Z"
   },
   {
    "duration": 9,
    "start_time": "2022-04-26T11:54:48.255Z"
   },
   {
    "duration": 8,
    "start_time": "2022-04-26T11:54:48.267Z"
   },
   {
    "duration": 17,
    "start_time": "2022-04-26T11:54:48.277Z"
   },
   {
    "duration": 33,
    "start_time": "2022-04-26T11:54:48.296Z"
   },
   {
    "duration": 23,
    "start_time": "2022-04-26T11:54:48.332Z"
   },
   {
    "duration": 13,
    "start_time": "2022-04-26T11:54:48.358Z"
   },
   {
    "duration": 17,
    "start_time": "2022-04-26T11:54:48.374Z"
   },
   {
    "duration": 15,
    "start_time": "2022-04-26T11:54:48.429Z"
   },
   {
    "duration": 10,
    "start_time": "2022-04-26T11:54:48.447Z"
   },
   {
    "duration": 14,
    "start_time": "2022-04-26T11:54:48.460Z"
   },
   {
    "duration": 13,
    "start_time": "2022-04-26T11:54:48.476Z"
   },
   {
    "duration": 35,
    "start_time": "2022-04-26T11:54:48.491Z"
   },
   {
    "duration": 22,
    "start_time": "2022-04-26T11:54:48.529Z"
   },
   {
    "duration": 9,
    "start_time": "2022-04-26T11:54:48.553Z"
   },
   {
    "duration": 13,
    "start_time": "2022-04-26T11:54:48.565Z"
   },
   {
    "duration": 9,
    "start_time": "2022-04-26T11:54:48.581Z"
   },
   {
    "duration": 33,
    "start_time": "2022-04-26T11:54:48.592Z"
   },
   {
    "duration": 7,
    "start_time": "2022-04-26T11:54:48.641Z"
   },
   {
    "duration": 13,
    "start_time": "2022-04-26T11:54:48.651Z"
   },
   {
    "duration": 6,
    "start_time": "2022-04-26T11:54:48.667Z"
   },
   {
    "duration": 29,
    "start_time": "2022-04-26T11:54:48.675Z"
   },
   {
    "duration": 40,
    "start_time": "2022-04-26T11:54:48.707Z"
   },
   {
    "duration": 8,
    "start_time": "2022-04-26T11:54:48.750Z"
   },
   {
    "duration": 24,
    "start_time": "2022-04-26T11:54:48.760Z"
   },
   {
    "duration": 58,
    "start_time": "2022-04-26T11:54:48.787Z"
   },
   {
    "duration": 19,
    "start_time": "2022-04-26T11:54:48.855Z"
   },
   {
    "duration": 15,
    "start_time": "2022-04-26T11:54:48.877Z"
   },
   {
    "duration": 66,
    "start_time": "2022-04-26T11:54:48.894Z"
   },
   {
    "duration": 34,
    "start_time": "2022-04-26T11:54:48.963Z"
   },
   {
    "duration": 56,
    "start_time": "2022-04-26T11:54:48.999Z"
   },
   {
    "duration": 1662,
    "start_time": "2022-04-26T11:54:49.057Z"
   },
   {
    "duration": 15,
    "start_time": "2022-04-26T11:54:50.726Z"
   },
   {
    "duration": 24,
    "start_time": "2022-04-26T11:54:50.743Z"
   },
   {
    "duration": 309,
    "start_time": "2022-04-26T11:54:50.769Z"
   },
   {
    "duration": 24,
    "start_time": "2022-04-26T11:54:51.080Z"
   },
   {
    "duration": 27,
    "start_time": "2022-04-26T11:54:51.125Z"
   },
   {
    "duration": 28,
    "start_time": "2022-04-26T11:54:51.155Z"
   },
   {
    "duration": 67,
    "start_time": "2022-04-26T11:54:51.186Z"
   },
   {
    "duration": 26,
    "start_time": "2022-04-26T11:54:51.256Z"
   },
   {
    "duration": 23,
    "start_time": "2022-04-26T11:54:51.284Z"
   },
   {
    "duration": 9,
    "start_time": "2022-04-26T11:54:51.310Z"
   },
   {
    "duration": 285,
    "start_time": "2022-04-26T11:54:51.325Z"
   },
   {
    "duration": 41,
    "start_time": "2022-04-26T11:54:51.613Z"
   },
   {
    "duration": 49,
    "start_time": "2022-04-26T11:54:51.657Z"
   },
   {
    "duration": 666,
    "start_time": "2022-04-26T11:54:51.708Z"
   },
   {
    "duration": 0,
    "start_time": "2022-04-26T11:54:52.377Z"
   },
   {
    "duration": 0,
    "start_time": "2022-04-26T11:54:52.379Z"
   },
   {
    "duration": 0,
    "start_time": "2022-04-26T11:54:52.381Z"
   },
   {
    "duration": 0,
    "start_time": "2022-04-26T11:54:52.383Z"
   },
   {
    "duration": 0,
    "start_time": "2022-04-26T11:54:52.384Z"
   },
   {
    "duration": 0,
    "start_time": "2022-04-26T11:54:52.386Z"
   },
   {
    "duration": 0,
    "start_time": "2022-04-26T11:54:52.387Z"
   },
   {
    "duration": 0,
    "start_time": "2022-04-26T11:54:52.389Z"
   },
   {
    "duration": 0,
    "start_time": "2022-04-26T11:54:52.390Z"
   },
   {
    "duration": 0,
    "start_time": "2022-04-26T11:54:52.392Z"
   },
   {
    "duration": 0,
    "start_time": "2022-04-26T11:54:52.393Z"
   },
   {
    "duration": 0,
    "start_time": "2022-04-26T11:54:52.394Z"
   },
   {
    "duration": 0,
    "start_time": "2022-04-26T11:54:52.396Z"
   },
   {
    "duration": 0,
    "start_time": "2022-04-26T11:54:52.398Z"
   },
   {
    "duration": 0,
    "start_time": "2022-04-26T11:54:52.400Z"
   },
   {
    "duration": 0,
    "start_time": "2022-04-26T11:54:52.402Z"
   },
   {
    "duration": 0,
    "start_time": "2022-04-26T11:54:52.405Z"
   },
   {
    "duration": 0,
    "start_time": "2022-04-26T11:54:52.408Z"
   },
   {
    "duration": 0,
    "start_time": "2022-04-26T11:54:52.410Z"
   },
   {
    "duration": 0,
    "start_time": "2022-04-26T11:54:52.412Z"
   },
   {
    "duration": 0,
    "start_time": "2022-04-26T11:54:52.426Z"
   },
   {
    "duration": 0,
    "start_time": "2022-04-26T11:54:52.427Z"
   },
   {
    "duration": 0,
    "start_time": "2022-04-26T11:54:52.429Z"
   },
   {
    "duration": 0,
    "start_time": "2022-04-26T11:54:52.430Z"
   },
   {
    "duration": 0,
    "start_time": "2022-04-26T11:54:52.432Z"
   },
   {
    "duration": 0,
    "start_time": "2022-04-26T11:54:52.434Z"
   },
   {
    "duration": 0,
    "start_time": "2022-04-26T11:54:52.437Z"
   },
   {
    "duration": 0,
    "start_time": "2022-04-26T11:54:52.439Z"
   },
   {
    "duration": 0,
    "start_time": "2022-04-26T11:54:52.441Z"
   },
   {
    "duration": 0,
    "start_time": "2022-04-26T11:54:52.443Z"
   },
   {
    "duration": 0,
    "start_time": "2022-04-26T11:54:52.445Z"
   },
   {
    "duration": 0,
    "start_time": "2022-04-26T11:54:52.448Z"
   },
   {
    "duration": 0,
    "start_time": "2022-04-26T11:54:52.450Z"
   },
   {
    "duration": 0,
    "start_time": "2022-04-26T11:54:52.452Z"
   },
   {
    "duration": 0,
    "start_time": "2022-04-26T11:54:52.454Z"
   },
   {
    "duration": 0,
    "start_time": "2022-04-26T11:54:52.457Z"
   },
   {
    "duration": 0,
    "start_time": "2022-04-26T11:54:52.458Z"
   },
   {
    "duration": 0,
    "start_time": "2022-04-26T11:54:52.461Z"
   },
   {
    "duration": 0,
    "start_time": "2022-04-26T11:54:52.464Z"
   },
   {
    "duration": 0,
    "start_time": "2022-04-26T11:54:52.466Z"
   },
   {
    "duration": 0,
    "start_time": "2022-04-26T11:54:52.469Z"
   },
   {
    "duration": 0,
    "start_time": "2022-04-26T11:54:52.470Z"
   },
   {
    "duration": 0,
    "start_time": "2022-04-26T11:54:52.528Z"
   },
   {
    "duration": 0,
    "start_time": "2022-04-26T11:54:52.532Z"
   },
   {
    "duration": 8,
    "start_time": "2022-04-26T11:55:21.313Z"
   },
   {
    "duration": 1630,
    "start_time": "2022-04-26T11:55:26.077Z"
   },
   {
    "duration": 57,
    "start_time": "2022-04-26T11:55:27.710Z"
   },
   {
    "duration": 26,
    "start_time": "2022-04-26T11:55:27.770Z"
   },
   {
    "duration": 39,
    "start_time": "2022-04-26T11:55:27.799Z"
   },
   {
    "duration": 7,
    "start_time": "2022-04-26T11:55:27.840Z"
   },
   {
    "duration": 5,
    "start_time": "2022-04-26T11:55:27.849Z"
   },
   {
    "duration": 8,
    "start_time": "2022-04-26T11:55:27.856Z"
   },
   {
    "duration": 20,
    "start_time": "2022-04-26T11:55:27.867Z"
   },
   {
    "duration": 52,
    "start_time": "2022-04-26T11:55:27.894Z"
   },
   {
    "duration": 13,
    "start_time": "2022-04-26T11:55:27.950Z"
   },
   {
    "duration": 21,
    "start_time": "2022-04-26T11:55:27.965Z"
   },
   {
    "duration": 41,
    "start_time": "2022-04-26T11:55:27.988Z"
   },
   {
    "duration": 22,
    "start_time": "2022-04-26T11:55:28.032Z"
   },
   {
    "duration": 11,
    "start_time": "2022-04-26T11:55:28.057Z"
   },
   {
    "duration": 14,
    "start_time": "2022-04-26T11:55:28.070Z"
   },
   {
    "duration": 7,
    "start_time": "2022-04-26T11:55:28.086Z"
   },
   {
    "duration": 11,
    "start_time": "2022-04-26T11:55:28.124Z"
   },
   {
    "duration": 12,
    "start_time": "2022-04-26T11:55:28.137Z"
   },
   {
    "duration": 10,
    "start_time": "2022-04-26T11:55:28.151Z"
   },
   {
    "duration": 22,
    "start_time": "2022-04-26T11:55:28.163Z"
   },
   {
    "duration": 39,
    "start_time": "2022-04-26T11:55:28.188Z"
   },
   {
    "duration": 19,
    "start_time": "2022-04-26T11:55:28.230Z"
   },
   {
    "duration": 22,
    "start_time": "2022-04-26T11:55:28.252Z"
   },
   {
    "duration": 8,
    "start_time": "2022-04-26T11:55:28.276Z"
   },
   {
    "duration": 14,
    "start_time": "2022-04-26T11:55:28.287Z"
   },
   {
    "duration": 27,
    "start_time": "2022-04-26T11:55:28.304Z"
   },
   {
    "duration": 20,
    "start_time": "2022-04-26T11:55:28.334Z"
   },
   {
    "duration": 5,
    "start_time": "2022-04-26T11:55:28.361Z"
   },
   {
    "duration": 11,
    "start_time": "2022-04-26T11:55:28.369Z"
   },
   {
    "duration": 14,
    "start_time": "2022-04-26T11:55:28.383Z"
   },
   {
    "duration": 27,
    "start_time": "2022-04-26T11:55:28.399Z"
   },
   {
    "duration": 19,
    "start_time": "2022-04-26T11:55:28.433Z"
   },
   {
    "duration": 9,
    "start_time": "2022-04-26T11:55:28.454Z"
   },
   {
    "duration": 12,
    "start_time": "2022-04-26T11:55:28.466Z"
   },
   {
    "duration": 9,
    "start_time": "2022-04-26T11:55:28.480Z"
   },
   {
    "duration": 15,
    "start_time": "2022-04-26T11:55:28.492Z"
   },
   {
    "duration": 23,
    "start_time": "2022-04-26T11:55:28.529Z"
   },
   {
    "duration": 8,
    "start_time": "2022-04-26T11:55:28.555Z"
   },
   {
    "duration": 25,
    "start_time": "2022-04-26T11:55:28.565Z"
   },
   {
    "duration": 55,
    "start_time": "2022-04-26T11:55:28.592Z"
   },
   {
    "duration": 20,
    "start_time": "2022-04-26T11:55:28.650Z"
   },
   {
    "duration": 18,
    "start_time": "2022-04-26T11:55:28.673Z"
   },
   {
    "duration": 47,
    "start_time": "2022-04-26T11:55:28.694Z"
   },
   {
    "duration": 28,
    "start_time": "2022-04-26T11:55:28.743Z"
   },
   {
    "duration": 52,
    "start_time": "2022-04-26T11:55:28.773Z"
   },
   {
    "duration": 1126,
    "start_time": "2022-04-26T11:55:28.828Z"
   },
   {
    "duration": 10,
    "start_time": "2022-04-26T11:55:29.956Z"
   },
   {
    "duration": 24,
    "start_time": "2022-04-26T11:55:29.968Z"
   },
   {
    "duration": 314,
    "start_time": "2022-04-26T11:55:29.995Z"
   },
   {
    "duration": 35,
    "start_time": "2022-04-26T11:55:30.311Z"
   },
   {
    "duration": 30,
    "start_time": "2022-04-26T11:55:30.349Z"
   },
   {
    "duration": 75,
    "start_time": "2022-04-26T11:55:30.382Z"
   },
   {
    "duration": 37,
    "start_time": "2022-04-26T11:55:30.460Z"
   },
   {
    "duration": 9,
    "start_time": "2022-04-26T11:55:30.500Z"
   },
   {
    "duration": 48,
    "start_time": "2022-04-26T11:55:30.512Z"
   },
   {
    "duration": 9,
    "start_time": "2022-04-26T11:55:30.563Z"
   },
   {
    "duration": 359,
    "start_time": "2022-04-26T11:55:30.574Z"
   },
   {
    "duration": 33,
    "start_time": "2022-04-26T11:55:30.936Z"
   },
   {
    "duration": 62,
    "start_time": "2022-04-26T11:55:30.972Z"
   },
   {
    "duration": 263,
    "start_time": "2022-04-26T11:55:31.037Z"
   },
   {
    "duration": 42,
    "start_time": "2022-04-26T11:55:31.302Z"
   },
   {
    "duration": 311,
    "start_time": "2022-04-26T11:55:31.348Z"
   },
   {
    "duration": 8,
    "start_time": "2022-04-26T11:55:31.661Z"
   },
   {
    "duration": 29,
    "start_time": "2022-04-26T11:55:31.671Z"
   },
   {
    "duration": 405,
    "start_time": "2022-04-26T11:55:31.702Z"
   },
   {
    "duration": 326,
    "start_time": "2022-04-26T11:55:32.109Z"
   },
   {
    "duration": 14,
    "start_time": "2022-04-26T11:55:32.438Z"
   },
   {
    "duration": 12,
    "start_time": "2022-04-26T11:55:32.454Z"
   },
   {
    "duration": 23,
    "start_time": "2022-04-26T11:55:32.468Z"
   },
   {
    "duration": 35,
    "start_time": "2022-04-26T11:55:32.493Z"
   },
   {
    "duration": 42,
    "start_time": "2022-04-26T11:55:32.531Z"
   },
   {
    "duration": 28,
    "start_time": "2022-04-26T11:55:32.576Z"
   },
   {
    "duration": 23,
    "start_time": "2022-04-26T11:55:32.606Z"
   },
   {
    "duration": 49,
    "start_time": "2022-04-26T11:55:32.632Z"
   },
   {
    "duration": 52,
    "start_time": "2022-04-26T11:55:32.684Z"
   },
   {
    "duration": 20,
    "start_time": "2022-04-26T11:55:32.739Z"
   },
   {
    "duration": 71,
    "start_time": "2022-04-26T11:55:32.761Z"
   },
   {
    "duration": 33,
    "start_time": "2022-04-26T11:55:32.835Z"
   },
   {
    "duration": 7,
    "start_time": "2022-04-26T11:55:32.871Z"
   },
   {
    "duration": 23,
    "start_time": "2022-04-26T11:55:32.880Z"
   },
   {
    "duration": 25,
    "start_time": "2022-04-26T11:55:32.905Z"
   },
   {
    "duration": 30,
    "start_time": "2022-04-26T11:55:32.944Z"
   },
   {
    "duration": 31,
    "start_time": "2022-04-26T11:55:32.977Z"
   },
   {
    "duration": 37,
    "start_time": "2022-04-26T11:55:33.010Z"
   },
   {
    "duration": 32,
    "start_time": "2022-04-26T11:55:33.049Z"
   },
   {
    "duration": 9,
    "start_time": "2022-04-26T11:55:33.083Z"
   },
   {
    "duration": 43,
    "start_time": "2022-04-26T11:55:33.094Z"
   },
   {
    "duration": 227,
    "start_time": "2022-04-26T11:55:33.140Z"
   },
   {
    "duration": 6,
    "start_time": "2022-04-26T11:55:33.370Z"
   },
   {
    "duration": 28,
    "start_time": "2022-04-26T11:55:33.379Z"
   },
   {
    "duration": 23,
    "start_time": "2022-04-26T11:55:33.410Z"
   },
   {
    "duration": 42,
    "start_time": "2022-04-26T11:55:33.436Z"
   },
   {
    "duration": 232,
    "start_time": "2022-04-26T11:55:33.480Z"
   },
   {
    "duration": 14,
    "start_time": "2022-04-26T11:55:33.714Z"
   },
   {
    "duration": 22,
    "start_time": "2022-04-26T11:55:33.730Z"
   },
   {
    "duration": 11,
    "start_time": "2022-04-26T11:55:33.755Z"
   },
   {
    "duration": 43,
    "start_time": "2022-04-26T11:55:33.769Z"
   },
   {
    "duration": 292,
    "start_time": "2022-04-26T11:55:33.815Z"
   },
   {
    "duration": 19,
    "start_time": "2022-04-26T11:55:34.110Z"
   },
   {
    "duration": 18,
    "start_time": "2022-04-26T11:55:34.132Z"
   },
   {
    "duration": 235,
    "start_time": "2022-04-26T11:55:34.152Z"
   },
   {
    "duration": 6,
    "start_time": "2022-04-26T11:55:34.389Z"
   },
   {
    "duration": 28,
    "start_time": "2022-04-26T11:55:34.398Z"
   },
   {
    "duration": 24,
    "start_time": "2022-04-26T11:55:34.429Z"
   },
   {
    "duration": 8,
    "start_time": "2022-04-26T12:30:04.809Z"
   },
   {
    "duration": 43,
    "start_time": "2022-04-26T12:30:10.502Z"
   },
   {
    "duration": 10,
    "start_time": "2022-04-26T12:31:54.469Z"
   },
   {
    "duration": 7,
    "start_time": "2022-04-26T12:31:54.903Z"
   },
   {
    "duration": 12,
    "start_time": "2022-04-26T12:32:02.806Z"
   },
   {
    "duration": 7,
    "start_time": "2022-04-26T12:32:04.095Z"
   },
   {
    "duration": 13,
    "start_time": "2022-04-26T12:32:28.889Z"
   },
   {
    "duration": 14,
    "start_time": "2022-04-26T12:32:30.081Z"
   },
   {
    "duration": 31,
    "start_time": "2022-04-26T12:32:49.932Z"
   },
   {
    "duration": 30,
    "start_time": "2022-04-26T12:32:50.235Z"
   },
   {
    "duration": 30,
    "start_time": "2022-04-26T12:33:27.354Z"
   },
   {
    "duration": 20,
    "start_time": "2022-04-26T12:34:01.184Z"
   },
   {
    "duration": 30,
    "start_time": "2022-04-26T12:34:25.481Z"
   },
   {
    "duration": 20,
    "start_time": "2022-04-26T12:35:45.970Z"
   },
   {
    "duration": 22,
    "start_time": "2022-04-26T12:50:18.448Z"
   },
   {
    "duration": 34,
    "start_time": "2022-04-26T12:50:19.132Z"
   },
   {
    "duration": 14,
    "start_time": "2022-04-26T12:52:48.680Z"
   },
   {
    "duration": 14,
    "start_time": "2022-04-26T12:55:58.980Z"
   },
   {
    "duration": 22,
    "start_time": "2022-04-26T12:55:59.171Z"
   },
   {
    "duration": 21,
    "start_time": "2022-04-26T14:35:52.442Z"
   },
   {
    "duration": 17,
    "start_time": "2022-04-26T14:36:02.441Z"
   },
   {
    "duration": 205,
    "start_time": "2022-04-26T14:36:52.984Z"
   },
   {
    "duration": 13,
    "start_time": "2022-04-26T14:36:59.384Z"
   },
   {
    "duration": 10,
    "start_time": "2022-04-26T14:45:55.517Z"
   },
   {
    "duration": 1636,
    "start_time": "2022-04-26T14:46:02.969Z"
   },
   {
    "duration": 84,
    "start_time": "2022-04-26T14:46:04.608Z"
   },
   {
    "duration": 26,
    "start_time": "2022-04-26T14:46:04.694Z"
   },
   {
    "duration": 64,
    "start_time": "2022-04-26T14:46:04.724Z"
   },
   {
    "duration": 6,
    "start_time": "2022-04-26T14:46:04.790Z"
   },
   {
    "duration": 10,
    "start_time": "2022-04-26T14:46:04.798Z"
   },
   {
    "duration": 14,
    "start_time": "2022-04-26T14:46:04.810Z"
   },
   {
    "duration": 47,
    "start_time": "2022-04-26T14:46:04.842Z"
   },
   {
    "duration": 16,
    "start_time": "2022-04-26T14:46:04.891Z"
   },
   {
    "duration": 16,
    "start_time": "2022-04-26T14:46:04.911Z"
   },
   {
    "duration": 48,
    "start_time": "2022-04-26T14:46:04.939Z"
   },
   {
    "duration": 51,
    "start_time": "2022-04-26T14:46:04.989Z"
   },
   {
    "duration": 43,
    "start_time": "2022-04-26T14:46:05.042Z"
   },
   {
    "duration": 24,
    "start_time": "2022-04-26T14:46:05.087Z"
   },
   {
    "duration": 23,
    "start_time": "2022-04-26T14:46:05.114Z"
   },
   {
    "duration": 36,
    "start_time": "2022-04-26T14:46:05.140Z"
   },
   {
    "duration": 9,
    "start_time": "2022-04-26T14:46:05.179Z"
   },
   {
    "duration": 11,
    "start_time": "2022-04-26T14:46:05.190Z"
   },
   {
    "duration": 9,
    "start_time": "2022-04-26T14:46:05.203Z"
   },
   {
    "duration": 61,
    "start_time": "2022-04-26T14:46:05.214Z"
   },
   {
    "duration": 19,
    "start_time": "2022-04-26T14:46:05.277Z"
   },
   {
    "duration": 14,
    "start_time": "2022-04-26T14:46:05.298Z"
   },
   {
    "duration": 15,
    "start_time": "2022-04-26T14:46:05.314Z"
   },
   {
    "duration": 37,
    "start_time": "2022-04-26T14:46:05.331Z"
   },
   {
    "duration": 15,
    "start_time": "2022-04-26T14:46:05.371Z"
   },
   {
    "duration": 9,
    "start_time": "2022-04-26T14:46:05.389Z"
   },
   {
    "duration": 6,
    "start_time": "2022-04-26T14:46:05.400Z"
   },
   {
    "duration": 6,
    "start_time": "2022-04-26T14:46:05.444Z"
   },
   {
    "duration": 25,
    "start_time": "2022-04-26T14:46:05.452Z"
   },
   {
    "duration": 16,
    "start_time": "2022-04-26T14:46:05.479Z"
   },
   {
    "duration": 6,
    "start_time": "2022-04-26T14:46:05.497Z"
   },
   {
    "duration": 32,
    "start_time": "2022-04-26T14:46:05.505Z"
   },
   {
    "duration": 33,
    "start_time": "2022-04-26T14:46:05.539Z"
   },
   {
    "duration": 9,
    "start_time": "2022-04-26T14:46:05.574Z"
   },
   {
    "duration": 8,
    "start_time": "2022-04-26T14:46:05.585Z"
   },
   {
    "duration": 18,
    "start_time": "2022-04-26T14:46:05.595Z"
   },
   {
    "duration": 35,
    "start_time": "2022-04-26T14:46:05.629Z"
   },
   {
    "duration": 17,
    "start_time": "2022-04-26T14:46:05.666Z"
   },
   {
    "duration": 25,
    "start_time": "2022-04-26T14:46:05.685Z"
   },
   {
    "duration": 67,
    "start_time": "2022-04-26T14:46:05.712Z"
   },
   {
    "duration": 18,
    "start_time": "2022-04-26T14:46:05.782Z"
   },
   {
    "duration": 13,
    "start_time": "2022-04-26T14:46:05.802Z"
   },
   {
    "duration": 33,
    "start_time": "2022-04-26T14:46:05.817Z"
   },
   {
    "duration": 45,
    "start_time": "2022-04-26T14:46:05.852Z"
   },
   {
    "duration": 40,
    "start_time": "2022-04-26T14:46:05.900Z"
   },
   {
    "duration": 1241,
    "start_time": "2022-04-26T14:46:05.942Z"
   },
   {
    "duration": 14,
    "start_time": "2022-04-26T14:46:07.185Z"
   },
   {
    "duration": 39,
    "start_time": "2022-04-26T14:46:07.201Z"
   },
   {
    "duration": 40,
    "start_time": "2022-04-26T14:46:07.246Z"
   },
   {
    "duration": 21,
    "start_time": "2022-04-26T14:46:07.289Z"
   },
   {
    "duration": 305,
    "start_time": "2022-04-26T14:46:07.313Z"
   },
   {
    "duration": 39,
    "start_time": "2022-04-26T14:46:07.624Z"
   },
   {
    "duration": 23,
    "start_time": "2022-04-26T14:46:07.667Z"
   },
   {
    "duration": 50,
    "start_time": "2022-04-26T14:46:07.692Z"
   },
   {
    "duration": 39,
    "start_time": "2022-04-26T14:46:07.744Z"
   },
   {
    "duration": 9,
    "start_time": "2022-04-26T14:46:07.785Z"
   },
   {
    "duration": 25,
    "start_time": "2022-04-26T14:46:07.796Z"
   },
   {
    "duration": 41,
    "start_time": "2022-04-26T14:46:07.824Z"
   },
   {
    "duration": 283,
    "start_time": "2022-04-26T14:46:07.868Z"
   },
   {
    "duration": 29,
    "start_time": "2022-04-26T14:46:08.155Z"
   },
   {
    "duration": 45,
    "start_time": "2022-04-26T14:46:08.186Z"
   },
   {
    "duration": 271,
    "start_time": "2022-04-26T14:46:08.236Z"
   },
   {
    "duration": 42,
    "start_time": "2022-04-26T14:46:08.509Z"
   },
   {
    "duration": 344,
    "start_time": "2022-04-26T14:46:08.555Z"
   },
   {
    "duration": 9,
    "start_time": "2022-04-26T14:46:08.902Z"
   },
   {
    "duration": 43,
    "start_time": "2022-04-26T14:46:08.932Z"
   },
   {
    "duration": 436,
    "start_time": "2022-04-26T14:46:08.978Z"
   },
   {
    "duration": 348,
    "start_time": "2022-04-26T14:46:09.416Z"
   },
   {
    "duration": 12,
    "start_time": "2022-04-26T14:46:09.767Z"
   },
   {
    "duration": 6,
    "start_time": "2022-04-26T14:46:09.781Z"
   },
   {
    "duration": 44,
    "start_time": "2022-04-26T14:46:09.789Z"
   },
   {
    "duration": 41,
    "start_time": "2022-04-26T14:46:09.835Z"
   },
   {
    "duration": 25,
    "start_time": "2022-04-26T14:46:09.879Z"
   },
   {
    "duration": 41,
    "start_time": "2022-04-26T14:46:09.908Z"
   },
   {
    "duration": 22,
    "start_time": "2022-04-26T14:46:09.952Z"
   },
   {
    "duration": 23,
    "start_time": "2022-04-26T14:46:09.977Z"
   },
   {
    "duration": 56,
    "start_time": "2022-04-26T14:46:10.002Z"
   },
   {
    "duration": 17,
    "start_time": "2022-04-26T14:46:10.060Z"
   },
   {
    "duration": 22,
    "start_time": "2022-04-26T14:46:10.080Z"
   },
   {
    "duration": 46,
    "start_time": "2022-04-26T14:46:10.104Z"
   },
   {
    "duration": 23,
    "start_time": "2022-04-26T14:46:10.154Z"
   },
   {
    "duration": 9,
    "start_time": "2022-04-26T14:46:10.189Z"
   },
   {
    "duration": 32,
    "start_time": "2022-04-26T14:46:10.201Z"
   },
   {
    "duration": 18,
    "start_time": "2022-04-26T14:46:10.235Z"
   },
   {
    "duration": 39,
    "start_time": "2022-04-26T14:46:10.255Z"
   },
   {
    "duration": 45,
    "start_time": "2022-04-26T14:46:10.296Z"
   },
   {
    "duration": 32,
    "start_time": "2022-04-26T14:46:10.345Z"
   },
   {
    "duration": 13,
    "start_time": "2022-04-26T14:46:10.380Z"
   },
   {
    "duration": 56,
    "start_time": "2022-04-26T14:46:10.395Z"
   },
   {
    "duration": 241,
    "start_time": "2022-04-26T14:46:10.454Z"
   },
   {
    "duration": 6,
    "start_time": "2022-04-26T14:46:10.697Z"
   },
   {
    "duration": 27,
    "start_time": "2022-04-26T14:46:10.705Z"
   },
   {
    "duration": 15,
    "start_time": "2022-04-26T14:46:10.734Z"
   },
   {
    "duration": 34,
    "start_time": "2022-04-26T14:46:10.755Z"
   },
   {
    "duration": 250,
    "start_time": "2022-04-26T14:46:10.791Z"
   },
   {
    "duration": 7,
    "start_time": "2022-04-26T14:46:11.043Z"
   },
   {
    "duration": 20,
    "start_time": "2022-04-26T14:46:11.058Z"
   },
   {
    "duration": 8,
    "start_time": "2022-04-26T14:46:11.081Z"
   },
   {
    "duration": 54,
    "start_time": "2022-04-26T14:46:11.091Z"
   },
   {
    "duration": 309,
    "start_time": "2022-04-26T14:46:11.148Z"
   },
   {
    "duration": 6,
    "start_time": "2022-04-26T14:46:11.459Z"
   },
   {
    "duration": 25,
    "start_time": "2022-04-26T14:46:11.469Z"
   },
   {
    "duration": 276,
    "start_time": "2022-04-26T14:46:11.496Z"
   },
   {
    "duration": 7,
    "start_time": "2022-04-26T14:46:11.775Z"
   },
   {
    "duration": 8,
    "start_time": "2022-04-26T14:46:11.784Z"
   },
   {
    "duration": 45,
    "start_time": "2022-04-26T14:46:11.794Z"
   },
   {
    "duration": 17,
    "start_time": "2022-04-26T14:54:59.250Z"
   },
   {
    "duration": 1733,
    "start_time": "2022-04-26T14:55:06.415Z"
   },
   {
    "duration": 58,
    "start_time": "2022-04-26T14:55:08.161Z"
   },
   {
    "duration": 43,
    "start_time": "2022-04-26T14:55:08.221Z"
   },
   {
    "duration": 21,
    "start_time": "2022-04-26T14:55:08.267Z"
   },
   {
    "duration": 7,
    "start_time": "2022-04-26T14:55:08.290Z"
   },
   {
    "duration": 28,
    "start_time": "2022-04-26T14:55:08.299Z"
   },
   {
    "duration": 45,
    "start_time": "2022-04-26T14:55:08.329Z"
   },
   {
    "duration": 30,
    "start_time": "2022-04-26T14:55:08.376Z"
   },
   {
    "duration": 13,
    "start_time": "2022-04-26T14:55:08.408Z"
   },
   {
    "duration": 48,
    "start_time": "2022-04-26T14:55:08.426Z"
   },
   {
    "duration": 20,
    "start_time": "2022-04-26T14:55:08.476Z"
   },
   {
    "duration": 11,
    "start_time": "2022-04-26T14:55:08.498Z"
   },
   {
    "duration": 31,
    "start_time": "2022-04-26T14:55:08.512Z"
   },
   {
    "duration": 39,
    "start_time": "2022-04-26T14:55:08.545Z"
   },
   {
    "duration": 14,
    "start_time": "2022-04-26T14:55:08.586Z"
   },
   {
    "duration": 10,
    "start_time": "2022-04-26T14:55:08.602Z"
   },
   {
    "duration": 12,
    "start_time": "2022-04-26T14:55:08.614Z"
   },
   {
    "duration": 25,
    "start_time": "2022-04-26T14:55:08.642Z"
   },
   {
    "duration": 15,
    "start_time": "2022-04-26T14:55:08.669Z"
   },
   {
    "duration": 21,
    "start_time": "2022-04-26T14:55:08.687Z"
   },
   {
    "duration": 30,
    "start_time": "2022-04-26T14:55:08.711Z"
   },
   {
    "duration": 41,
    "start_time": "2022-04-26T14:55:08.744Z"
   },
   {
    "duration": 13,
    "start_time": "2022-04-26T14:55:08.788Z"
   },
   {
    "duration": 58,
    "start_time": "2022-04-26T14:55:08.803Z"
   },
   {
    "duration": 15,
    "start_time": "2022-04-26T14:55:08.864Z"
   },
   {
    "duration": 9,
    "start_time": "2022-04-26T14:55:08.881Z"
   },
   {
    "duration": 7,
    "start_time": "2022-04-26T14:55:08.892Z"
   },
   {
    "duration": 5,
    "start_time": "2022-04-26T14:55:08.906Z"
   },
   {
    "duration": 54,
    "start_time": "2022-04-26T14:55:08.913Z"
   },
   {
    "duration": 13,
    "start_time": "2022-04-26T14:55:08.969Z"
   },
   {
    "duration": 9,
    "start_time": "2022-04-26T14:55:08.984Z"
   },
   {
    "duration": 10,
    "start_time": "2022-04-26T14:55:08.996Z"
   },
   {
    "duration": 12,
    "start_time": "2022-04-26T14:55:09.009Z"
   },
   {
    "duration": 42,
    "start_time": "2022-04-26T14:55:09.026Z"
   },
   {
    "duration": 9,
    "start_time": "2022-04-26T14:55:09.070Z"
   },
   {
    "duration": 14,
    "start_time": "2022-04-26T14:55:09.081Z"
   },
   {
    "duration": 19,
    "start_time": "2022-04-26T14:55:09.098Z"
   },
   {
    "duration": 8,
    "start_time": "2022-04-26T14:55:09.120Z"
   },
   {
    "duration": 54,
    "start_time": "2022-04-26T14:55:09.133Z"
   },
   {
    "duration": 22,
    "start_time": "2022-04-26T14:55:09.189Z"
   },
   {
    "duration": 28,
    "start_time": "2022-04-26T14:55:09.213Z"
   },
   {
    "duration": 39,
    "start_time": "2022-04-26T14:55:09.243Z"
   },
   {
    "duration": 24,
    "start_time": "2022-04-26T14:55:09.285Z"
   },
   {
    "duration": 36,
    "start_time": "2022-04-26T14:55:09.311Z"
   },
   {
    "duration": 46,
    "start_time": "2022-04-26T14:55:09.350Z"
   },
   {
    "duration": 1225,
    "start_time": "2022-04-26T14:55:09.399Z"
   },
   {
    "duration": 18,
    "start_time": "2022-04-26T14:55:10.627Z"
   },
   {
    "duration": 54,
    "start_time": "2022-04-26T14:55:10.649Z"
   },
   {
    "duration": 10,
    "start_time": "2022-04-26T14:55:10.705Z"
   },
   {
    "duration": 67,
    "start_time": "2022-04-26T14:55:10.717Z"
   },
   {
    "duration": 308,
    "start_time": "2022-04-26T14:55:10.787Z"
   },
   {
    "duration": 48,
    "start_time": "2022-04-26T14:55:11.097Z"
   },
   {
    "duration": 44,
    "start_time": "2022-04-26T14:55:11.147Z"
   },
   {
    "duration": 16,
    "start_time": "2022-04-26T14:55:11.194Z"
   },
   {
    "duration": 24,
    "start_time": "2022-04-26T14:55:11.212Z"
   },
   {
    "duration": 46,
    "start_time": "2022-04-26T14:55:11.238Z"
   },
   {
    "duration": 27,
    "start_time": "2022-04-26T14:55:11.287Z"
   },
   {
    "duration": 14,
    "start_time": "2022-04-26T14:55:11.316Z"
   },
   {
    "duration": 327,
    "start_time": "2022-04-26T14:55:11.332Z"
   },
   {
    "duration": 28,
    "start_time": "2022-04-26T14:55:11.662Z"
   },
   {
    "duration": 56,
    "start_time": "2022-04-26T14:55:11.693Z"
   },
   {
    "duration": 276,
    "start_time": "2022-04-26T14:55:11.753Z"
   },
   {
    "duration": 39,
    "start_time": "2022-04-26T14:55:12.031Z"
   },
   {
    "duration": 341,
    "start_time": "2022-04-26T14:55:12.072Z"
   },
   {
    "duration": 23,
    "start_time": "2022-04-26T14:55:12.416Z"
   },
   {
    "duration": 48,
    "start_time": "2022-04-26T14:55:12.442Z"
   },
   {
    "duration": 415,
    "start_time": "2022-04-26T14:55:12.493Z"
   },
   {
    "duration": 334,
    "start_time": "2022-04-26T14:55:12.910Z"
   },
   {
    "duration": 20,
    "start_time": "2022-04-26T14:55:13.247Z"
   },
   {
    "duration": 9,
    "start_time": "2022-04-26T14:55:13.269Z"
   },
   {
    "duration": 17,
    "start_time": "2022-04-26T14:55:13.280Z"
   },
   {
    "duration": 34,
    "start_time": "2022-04-26T14:55:13.300Z"
   },
   {
    "duration": 39,
    "start_time": "2022-04-26T14:55:13.336Z"
   },
   {
    "duration": 21,
    "start_time": "2022-04-26T14:55:13.377Z"
   },
   {
    "duration": 9,
    "start_time": "2022-04-26T14:55:13.400Z"
   },
   {
    "duration": 39,
    "start_time": "2022-04-26T14:55:13.411Z"
   },
   {
    "duration": 32,
    "start_time": "2022-04-26T14:55:13.454Z"
   },
   {
    "duration": 8,
    "start_time": "2022-04-26T14:55:13.488Z"
   },
   {
    "duration": 28,
    "start_time": "2022-04-26T14:55:13.498Z"
   },
   {
    "duration": 25,
    "start_time": "2022-04-26T14:55:13.535Z"
   },
   {
    "duration": 17,
    "start_time": "2022-04-26T14:55:13.565Z"
   },
   {
    "duration": 11,
    "start_time": "2022-04-26T14:55:13.592Z"
   },
   {
    "duration": 35,
    "start_time": "2022-04-26T14:55:13.606Z"
   },
   {
    "duration": 28,
    "start_time": "2022-04-26T14:55:13.646Z"
   },
   {
    "duration": 35,
    "start_time": "2022-04-26T14:55:13.677Z"
   },
   {
    "duration": 26,
    "start_time": "2022-04-26T14:55:13.714Z"
   },
   {
    "duration": 30,
    "start_time": "2022-04-26T14:55:13.748Z"
   },
   {
    "duration": 9,
    "start_time": "2022-04-26T14:55:13.781Z"
   },
   {
    "duration": 31,
    "start_time": "2022-04-26T14:55:13.792Z"
   },
   {
    "duration": 241,
    "start_time": "2022-04-26T14:55:13.836Z"
   },
   {
    "duration": 6,
    "start_time": "2022-04-26T14:55:14.080Z"
   },
   {
    "duration": 13,
    "start_time": "2022-04-26T14:55:14.089Z"
   },
   {
    "duration": 35,
    "start_time": "2022-04-26T14:55:14.104Z"
   },
   {
    "duration": 46,
    "start_time": "2022-04-26T14:55:14.143Z"
   },
   {
    "duration": 218,
    "start_time": "2022-04-26T14:55:14.192Z"
   },
   {
    "duration": 23,
    "start_time": "2022-04-26T14:55:14.413Z"
   },
   {
    "duration": 16,
    "start_time": "2022-04-26T14:55:14.438Z"
   },
   {
    "duration": 35,
    "start_time": "2022-04-26T14:55:14.456Z"
   },
   {
    "duration": 22,
    "start_time": "2022-04-26T14:55:14.493Z"
   },
   {
    "duration": 361,
    "start_time": "2022-04-26T14:55:14.518Z"
   },
   {
    "duration": 6,
    "start_time": "2022-04-26T14:55:14.881Z"
   },
   {
    "duration": 21,
    "start_time": "2022-04-26T14:55:14.889Z"
   },
   {
    "duration": 354,
    "start_time": "2022-04-26T14:55:14.912Z"
   },
   {
    "duration": 6,
    "start_time": "2022-04-26T14:55:15.273Z"
   },
   {
    "duration": 8,
    "start_time": "2022-04-26T14:55:15.281Z"
   },
   {
    "duration": 6,
    "start_time": "2022-04-26T14:55:15.292Z"
   },
   {
    "duration": 23,
    "start_time": "2022-04-26T14:59:08.189Z"
   },
   {
    "duration": 23,
    "start_time": "2022-04-26T14:59:47.453Z"
   },
   {
    "duration": 51,
    "start_time": "2022-04-26T18:57:40.507Z"
   },
   {
    "duration": 1413,
    "start_time": "2022-04-26T18:57:49.541Z"
   },
   {
    "duration": 41,
    "start_time": "2022-04-26T18:57:50.956Z"
   },
   {
    "duration": 25,
    "start_time": "2022-04-26T18:57:50.999Z"
   },
   {
    "duration": 17,
    "start_time": "2022-04-26T18:57:51.027Z"
   },
   {
    "duration": 19,
    "start_time": "2022-04-26T18:57:51.046Z"
   },
   {
    "duration": 4,
    "start_time": "2022-04-26T18:57:51.067Z"
   },
   {
    "duration": 35,
    "start_time": "2022-04-26T18:57:51.073Z"
   },
   {
    "duration": 15,
    "start_time": "2022-04-26T18:57:51.110Z"
   },
   {
    "duration": 22,
    "start_time": "2022-04-26T18:57:51.127Z"
   },
   {
    "duration": 26,
    "start_time": "2022-04-26T18:57:51.152Z"
   },
   {
    "duration": 38,
    "start_time": "2022-04-26T18:57:51.181Z"
   },
   {
    "duration": 8,
    "start_time": "2022-04-26T18:57:51.222Z"
   },
   {
    "duration": 19,
    "start_time": "2022-04-26T18:57:51.231Z"
   },
   {
    "duration": 15,
    "start_time": "2022-04-26T18:57:51.252Z"
   },
   {
    "duration": 16,
    "start_time": "2022-04-26T18:57:51.269Z"
   },
   {
    "duration": 10,
    "start_time": "2022-04-26T18:57:51.287Z"
   },
   {
    "duration": 5,
    "start_time": "2022-04-26T18:57:51.308Z"
   },
   {
    "duration": 4,
    "start_time": "2022-04-26T18:57:51.315Z"
   },
   {
    "duration": 16,
    "start_time": "2022-04-26T18:57:51.321Z"
   },
   {
    "duration": 23,
    "start_time": "2022-04-26T18:57:51.339Z"
   },
   {
    "duration": 12,
    "start_time": "2022-04-26T18:57:51.364Z"
   },
   {
    "duration": 42,
    "start_time": "2022-04-26T18:57:51.378Z"
   },
   {
    "duration": 18,
    "start_time": "2022-04-26T18:57:51.422Z"
   },
   {
    "duration": 6,
    "start_time": "2022-04-26T18:57:51.442Z"
   },
   {
    "duration": 28,
    "start_time": "2022-04-26T18:57:51.449Z"
   },
   {
    "duration": 26,
    "start_time": "2022-04-26T18:57:51.479Z"
   },
   {
    "duration": 15,
    "start_time": "2022-04-26T18:57:51.507Z"
   },
   {
    "duration": 9,
    "start_time": "2022-04-26T18:57:51.527Z"
   },
   {
    "duration": 22,
    "start_time": "2022-04-26T18:57:51.538Z"
   },
   {
    "duration": 21,
    "start_time": "2022-04-26T18:57:51.562Z"
   },
   {
    "duration": 5,
    "start_time": "2022-04-26T18:57:51.585Z"
   },
   {
    "duration": 16,
    "start_time": "2022-04-26T18:57:51.592Z"
   },
   {
    "duration": 22,
    "start_time": "2022-04-26T18:57:51.610Z"
   },
   {
    "duration": 18,
    "start_time": "2022-04-26T18:57:51.634Z"
   },
   {
    "duration": 10,
    "start_time": "2022-04-26T18:57:51.654Z"
   },
   {
    "duration": 19,
    "start_time": "2022-04-26T18:57:51.666Z"
   },
   {
    "duration": 27,
    "start_time": "2022-04-26T18:57:51.687Z"
   },
   {
    "duration": 4,
    "start_time": "2022-04-26T18:57:51.716Z"
   },
   {
    "duration": 36,
    "start_time": "2022-04-26T18:57:51.722Z"
   },
   {
    "duration": 14,
    "start_time": "2022-04-26T18:57:51.760Z"
   },
   {
    "duration": 16,
    "start_time": "2022-04-26T18:57:51.776Z"
   },
   {
    "duration": 19,
    "start_time": "2022-04-26T18:57:51.794Z"
   },
   {
    "duration": 22,
    "start_time": "2022-04-26T18:57:51.815Z"
   },
   {
    "duration": 34,
    "start_time": "2022-04-26T18:57:51.839Z"
   },
   {
    "duration": 24,
    "start_time": "2022-04-26T18:57:51.875Z"
   },
   {
    "duration": 712,
    "start_time": "2022-04-26T18:57:51.907Z"
   },
   {
    "duration": 14,
    "start_time": "2022-04-26T18:57:52.621Z"
   },
   {
    "duration": 16,
    "start_time": "2022-04-26T18:57:52.638Z"
   },
   {
    "duration": 23,
    "start_time": "2022-04-26T18:57:52.657Z"
   },
   {
    "duration": 38,
    "start_time": "2022-04-26T18:57:52.682Z"
   },
   {
    "duration": 236,
    "start_time": "2022-04-26T18:57:52.723Z"
   },
   {
    "duration": 17,
    "start_time": "2022-04-26T18:57:52.961Z"
   },
   {
    "duration": 37,
    "start_time": "2022-04-26T18:57:52.980Z"
   },
   {
    "duration": 22,
    "start_time": "2022-04-26T18:57:53.019Z"
   },
   {
    "duration": 51,
    "start_time": "2022-04-26T18:57:53.043Z"
   },
   {
    "duration": 32,
    "start_time": "2022-04-26T18:57:53.111Z"
   },
   {
    "duration": 39,
    "start_time": "2022-04-26T18:57:53.146Z"
   },
   {
    "duration": 4,
    "start_time": "2022-04-26T18:57:53.187Z"
   },
   {
    "duration": 170,
    "start_time": "2022-04-26T18:57:53.193Z"
   },
   {
    "duration": 23,
    "start_time": "2022-04-26T18:57:53.365Z"
   },
   {
    "duration": 41,
    "start_time": "2022-04-26T18:57:53.390Z"
   },
   {
    "duration": 174,
    "start_time": "2022-04-26T18:57:53.433Z"
   },
   {
    "duration": 21,
    "start_time": "2022-04-26T18:57:53.609Z"
   },
   {
    "duration": 216,
    "start_time": "2022-04-26T18:57:53.632Z"
   },
   {
    "duration": 6,
    "start_time": "2022-04-26T18:57:53.850Z"
   },
   {
    "duration": 16,
    "start_time": "2022-04-26T18:57:53.858Z"
   },
   {
    "duration": 315,
    "start_time": "2022-04-26T18:57:53.876Z"
   },
   {
    "duration": 207,
    "start_time": "2022-04-26T18:57:54.193Z"
   },
   {
    "duration": 11,
    "start_time": "2022-04-26T18:57:54.402Z"
   },
   {
    "duration": 9,
    "start_time": "2022-04-26T18:57:54.415Z"
   },
   {
    "duration": 10,
    "start_time": "2022-04-26T18:57:54.426Z"
   },
   {
    "duration": 9,
    "start_time": "2022-04-26T18:57:54.438Z"
   },
   {
    "duration": 15,
    "start_time": "2022-04-26T18:57:54.449Z"
   },
   {
    "duration": 48,
    "start_time": "2022-04-26T18:57:54.466Z"
   },
   {
    "duration": 9,
    "start_time": "2022-04-26T18:57:54.516Z"
   },
   {
    "duration": 18,
    "start_time": "2022-04-26T18:57:54.527Z"
   },
   {
    "duration": 17,
    "start_time": "2022-04-26T18:57:54.546Z"
   },
   {
    "duration": 53,
    "start_time": "2022-04-26T18:57:54.564Z"
   },
   {
    "duration": 16,
    "start_time": "2022-04-26T18:57:54.619Z"
   },
   {
    "duration": 16,
    "start_time": "2022-04-26T18:57:54.637Z"
   },
   {
    "duration": 5,
    "start_time": "2022-04-26T18:57:54.655Z"
   },
   {
    "duration": 10,
    "start_time": "2022-04-26T18:57:54.666Z"
   },
   {
    "duration": 7,
    "start_time": "2022-04-26T18:57:54.709Z"
   },
   {
    "duration": 9,
    "start_time": "2022-04-26T18:57:54.717Z"
   },
   {
    "duration": 17,
    "start_time": "2022-04-26T18:57:54.727Z"
   },
   {
    "duration": 16,
    "start_time": "2022-04-26T18:57:54.746Z"
   },
   {
    "duration": 54,
    "start_time": "2022-04-26T18:57:54.764Z"
   },
   {
    "duration": 8,
    "start_time": "2022-04-26T18:57:54.820Z"
   },
   {
    "duration": 14,
    "start_time": "2022-04-26T18:57:54.830Z"
   },
   {
    "duration": 165,
    "start_time": "2022-04-26T18:57:54.845Z"
   },
   {
    "duration": 5,
    "start_time": "2022-04-26T18:57:55.011Z"
   },
   {
    "duration": 8,
    "start_time": "2022-04-26T18:57:55.017Z"
   },
   {
    "duration": 9,
    "start_time": "2022-04-26T18:57:55.027Z"
   },
   {
    "duration": 14,
    "start_time": "2022-04-26T18:57:55.038Z"
   },
   {
    "duration": 168,
    "start_time": "2022-04-26T18:57:55.054Z"
   },
   {
    "duration": 7,
    "start_time": "2022-04-26T18:57:55.224Z"
   },
   {
    "duration": 8,
    "start_time": "2022-04-26T18:57:55.232Z"
   },
   {
    "duration": 7,
    "start_time": "2022-04-26T18:57:55.243Z"
   },
   {
    "duration": 10,
    "start_time": "2022-04-26T18:57:55.252Z"
   },
   {
    "duration": 186,
    "start_time": "2022-04-26T18:57:55.263Z"
   },
   {
    "duration": 4,
    "start_time": "2022-04-26T18:57:55.451Z"
   },
   {
    "duration": 6,
    "start_time": "2022-04-26T18:57:55.457Z"
   },
   {
    "duration": 168,
    "start_time": "2022-04-26T18:57:55.465Z"
   },
   {
    "duration": 4,
    "start_time": "2022-04-26T18:57:55.635Z"
   },
   {
    "duration": 6,
    "start_time": "2022-04-26T18:57:55.641Z"
   },
   {
    "duration": 11,
    "start_time": "2022-04-26T18:57:55.649Z"
   },
   {
    "duration": 1429,
    "start_time": "2022-04-27T06:31:00.578Z"
   },
   {
    "duration": 44,
    "start_time": "2022-04-27T06:31:02.009Z"
   },
   {
    "duration": 20,
    "start_time": "2022-04-27T06:31:02.055Z"
   },
   {
    "duration": 23,
    "start_time": "2022-04-27T06:31:02.077Z"
   },
   {
    "duration": 4,
    "start_time": "2022-04-27T06:31:02.102Z"
   },
   {
    "duration": 13,
    "start_time": "2022-04-27T06:31:02.108Z"
   },
   {
    "duration": 25,
    "start_time": "2022-04-27T06:31:02.123Z"
   },
   {
    "duration": 20,
    "start_time": "2022-04-27T06:31:02.150Z"
   },
   {
    "duration": 9,
    "start_time": "2022-04-27T06:31:02.172Z"
   },
   {
    "duration": 13,
    "start_time": "2022-04-27T06:31:02.184Z"
   },
   {
    "duration": 23,
    "start_time": "2022-04-27T06:31:02.199Z"
   },
   {
    "duration": 19,
    "start_time": "2022-04-27T06:31:02.224Z"
   },
   {
    "duration": 16,
    "start_time": "2022-04-27T06:31:02.245Z"
   },
   {
    "duration": 25,
    "start_time": "2022-04-27T06:31:02.263Z"
   },
   {
    "duration": 11,
    "start_time": "2022-04-27T06:31:02.290Z"
   },
   {
    "duration": 24,
    "start_time": "2022-04-27T06:31:02.302Z"
   },
   {
    "duration": 9,
    "start_time": "2022-04-27T06:31:02.328Z"
   },
   {
    "duration": 16,
    "start_time": "2022-04-27T06:31:02.339Z"
   },
   {
    "duration": 9,
    "start_time": "2022-04-27T06:31:02.357Z"
   },
   {
    "duration": 18,
    "start_time": "2022-04-27T06:31:02.368Z"
   },
   {
    "duration": 18,
    "start_time": "2022-04-27T06:31:02.387Z"
   },
   {
    "duration": 20,
    "start_time": "2022-04-27T06:31:02.407Z"
   },
   {
    "duration": 14,
    "start_time": "2022-04-27T06:31:02.428Z"
   },
   {
    "duration": 9,
    "start_time": "2022-04-27T06:31:02.443Z"
   },
   {
    "duration": 12,
    "start_time": "2022-04-27T06:31:02.453Z"
   },
   {
    "duration": 11,
    "start_time": "2022-04-27T06:31:02.467Z"
   },
   {
    "duration": 6,
    "start_time": "2022-04-27T06:31:02.480Z"
   },
   {
    "duration": 5,
    "start_time": "2022-04-27T06:31:02.491Z"
   },
   {
    "duration": 9,
    "start_time": "2022-04-27T06:31:02.497Z"
   },
   {
    "duration": 20,
    "start_time": "2022-04-27T06:31:02.508Z"
   },
   {
    "duration": 18,
    "start_time": "2022-04-27T06:31:02.530Z"
   },
   {
    "duration": 26,
    "start_time": "2022-04-27T06:31:02.550Z"
   },
   {
    "duration": 24,
    "start_time": "2022-04-27T06:31:02.577Z"
   },
   {
    "duration": 13,
    "start_time": "2022-04-27T06:31:02.603Z"
   },
   {
    "duration": 7,
    "start_time": "2022-04-27T06:31:02.618Z"
   },
   {
    "duration": 19,
    "start_time": "2022-04-27T06:31:02.627Z"
   },
   {
    "duration": 28,
    "start_time": "2022-04-27T06:31:02.648Z"
   },
   {
    "duration": 15,
    "start_time": "2022-04-27T06:31:02.677Z"
   },
   {
    "duration": 23,
    "start_time": "2022-04-27T06:31:02.694Z"
   },
   {
    "duration": 19,
    "start_time": "2022-04-27T06:31:02.719Z"
   },
   {
    "duration": 29,
    "start_time": "2022-04-27T06:31:02.740Z"
   },
   {
    "duration": 8,
    "start_time": "2022-04-27T06:31:02.771Z"
   },
   {
    "duration": 25,
    "start_time": "2022-04-27T06:31:02.781Z"
   },
   {
    "duration": 20,
    "start_time": "2022-04-27T06:31:02.808Z"
   },
   {
    "duration": 21,
    "start_time": "2022-04-27T06:31:02.829Z"
   },
   {
    "duration": 653,
    "start_time": "2022-04-27T06:31:02.852Z"
   },
   {
    "duration": 10,
    "start_time": "2022-04-27T06:31:03.507Z"
   },
   {
    "duration": 27,
    "start_time": "2022-04-27T06:31:03.519Z"
   },
   {
    "duration": 18,
    "start_time": "2022-04-27T06:31:03.547Z"
   },
   {
    "duration": 20,
    "start_time": "2022-04-27T06:31:03.566Z"
   },
   {
    "duration": 171,
    "start_time": "2022-04-27T06:31:03.587Z"
   },
   {
    "duration": 19,
    "start_time": "2022-04-27T06:31:03.760Z"
   },
   {
    "duration": 18,
    "start_time": "2022-04-27T06:31:03.781Z"
   },
   {
    "duration": 37,
    "start_time": "2022-04-27T06:31:03.801Z"
   },
   {
    "duration": 52,
    "start_time": "2022-04-27T06:31:03.840Z"
   },
   {
    "duration": 7,
    "start_time": "2022-04-27T06:31:03.894Z"
   },
   {
    "duration": 15,
    "start_time": "2022-04-27T06:31:03.903Z"
   },
   {
    "duration": 6,
    "start_time": "2022-04-27T06:31:03.920Z"
   },
   {
    "duration": 172,
    "start_time": "2022-04-27T06:31:03.927Z"
   },
   {
    "duration": 18,
    "start_time": "2022-04-27T06:31:04.101Z"
   },
   {
    "duration": 23,
    "start_time": "2022-04-27T06:31:04.121Z"
   },
   {
    "duration": 163,
    "start_time": "2022-04-27T06:31:04.146Z"
   },
   {
    "duration": 19,
    "start_time": "2022-04-27T06:31:04.311Z"
   },
   {
    "duration": 198,
    "start_time": "2022-04-27T06:31:04.332Z"
   },
   {
    "duration": 5,
    "start_time": "2022-04-27T06:31:04.532Z"
   },
   {
    "duration": 18,
    "start_time": "2022-04-27T06:31:04.539Z"
   },
   {
    "duration": 284,
    "start_time": "2022-04-27T06:31:04.558Z"
   },
   {
    "duration": 198,
    "start_time": "2022-04-27T06:31:04.844Z"
   },
   {
    "duration": 9,
    "start_time": "2022-04-27T06:31:05.044Z"
   },
   {
    "duration": 18,
    "start_time": "2022-04-27T06:31:05.055Z"
   },
   {
    "duration": 14,
    "start_time": "2022-04-27T06:31:05.075Z"
   },
   {
    "duration": 7,
    "start_time": "2022-04-27T06:31:05.091Z"
   },
   {
    "duration": 17,
    "start_time": "2022-04-27T06:31:05.100Z"
   },
   {
    "duration": 18,
    "start_time": "2022-04-27T06:31:05.119Z"
   },
   {
    "duration": 20,
    "start_time": "2022-04-27T06:31:05.139Z"
   },
   {
    "duration": 22,
    "start_time": "2022-04-27T06:31:05.161Z"
   },
   {
    "duration": 15,
    "start_time": "2022-04-27T06:31:05.185Z"
   },
   {
    "duration": 6,
    "start_time": "2022-04-27T06:31:05.201Z"
   },
   {
    "duration": 14,
    "start_time": "2022-04-27T06:31:05.209Z"
   },
   {
    "duration": 14,
    "start_time": "2022-04-27T06:31:05.225Z"
   },
   {
    "duration": 38,
    "start_time": "2022-04-27T06:31:05.240Z"
   },
   {
    "duration": 7,
    "start_time": "2022-04-27T06:31:05.284Z"
   },
   {
    "duration": 6,
    "start_time": "2022-04-27T06:31:05.293Z"
   },
   {
    "duration": 10,
    "start_time": "2022-04-27T06:31:05.300Z"
   },
   {
    "duration": 17,
    "start_time": "2022-04-27T06:31:05.311Z"
   },
   {
    "duration": 14,
    "start_time": "2022-04-27T06:31:05.329Z"
   },
   {
    "duration": 16,
    "start_time": "2022-04-27T06:31:05.373Z"
   },
   {
    "duration": 22,
    "start_time": "2022-04-27T06:31:05.391Z"
   },
   {
    "duration": 21,
    "start_time": "2022-04-27T06:31:05.415Z"
   },
   {
    "duration": 142,
    "start_time": "2022-04-27T06:31:05.438Z"
   },
   {
    "duration": 4,
    "start_time": "2022-04-27T06:31:05.582Z"
   },
   {
    "duration": 8,
    "start_time": "2022-04-27T06:31:05.588Z"
   },
   {
    "duration": 10,
    "start_time": "2022-04-27T06:31:05.597Z"
   },
   {
    "duration": 16,
    "start_time": "2022-04-27T06:31:05.608Z"
   },
   {
    "duration": 150,
    "start_time": "2022-04-27T06:31:05.626Z"
   },
   {
    "duration": 4,
    "start_time": "2022-04-27T06:31:05.778Z"
   },
   {
    "duration": 11,
    "start_time": "2022-04-27T06:31:05.784Z"
   },
   {
    "duration": 7,
    "start_time": "2022-04-27T06:31:05.797Z"
   },
   {
    "duration": 13,
    "start_time": "2022-04-27T06:31:05.806Z"
   },
   {
    "duration": 149,
    "start_time": "2022-04-27T06:31:05.821Z"
   },
   {
    "duration": 4,
    "start_time": "2022-04-27T06:31:05.973Z"
   },
   {
    "duration": 37,
    "start_time": "2022-04-27T06:31:05.979Z"
   },
   {
    "duration": 150,
    "start_time": "2022-04-27T06:31:06.018Z"
   },
   {
    "duration": 5,
    "start_time": "2022-04-27T06:31:06.170Z"
   },
   {
    "duration": 26,
    "start_time": "2022-04-27T06:31:06.176Z"
   },
   {
    "duration": 31,
    "start_time": "2022-04-27T06:31:06.203Z"
   },
   {
    "duration": 131,
    "start_time": "2022-04-27T06:42:23.738Z"
   },
   {
    "duration": 38,
    "start_time": "2022-04-27T06:43:01.916Z"
   },
   {
    "duration": 34,
    "start_time": "2022-04-27T06:43:21.052Z"
   },
   {
    "duration": 114,
    "start_time": "2022-04-27T06:49:32.626Z"
   },
   {
    "duration": 22,
    "start_time": "2022-04-27T06:49:40.120Z"
   },
   {
    "duration": 6,
    "start_time": "2022-04-27T06:50:17.018Z"
   },
   {
    "duration": 14,
    "start_time": "2022-04-27T06:50:47.457Z"
   },
   {
    "duration": 15,
    "start_time": "2022-04-27T06:50:54.001Z"
   },
   {
    "duration": 36,
    "start_time": "2022-04-27T06:51:16.660Z"
   },
   {
    "duration": 6,
    "start_time": "2022-04-27T06:51:24.320Z"
   },
   {
    "duration": 6,
    "start_time": "2022-04-27T06:51:39.513Z"
   },
   {
    "duration": 5,
    "start_time": "2022-04-27T06:51:39.761Z"
   },
   {
    "duration": 7,
    "start_time": "2022-04-27T06:52:48.848Z"
   },
   {
    "duration": 7,
    "start_time": "2022-04-27T06:52:49.328Z"
   },
   {
    "duration": 195,
    "start_time": "2022-04-27T06:54:09.152Z"
   },
   {
    "duration": 12,
    "start_time": "2022-04-27T07:30:13.298Z"
   },
   {
    "duration": 11,
    "start_time": "2022-04-27T07:30:19.969Z"
   },
   {
    "duration": 8,
    "start_time": "2022-04-27T07:30:21.319Z"
   },
   {
    "duration": 12,
    "start_time": "2022-04-27T07:30:21.792Z"
   },
   {
    "duration": 1173,
    "start_time": "2022-04-27T07:30:32.318Z"
   },
   {
    "duration": 41,
    "start_time": "2022-04-27T07:30:33.494Z"
   },
   {
    "duration": 18,
    "start_time": "2022-04-27T07:30:33.537Z"
   },
   {
    "duration": 26,
    "start_time": "2022-04-27T07:30:33.557Z"
   },
   {
    "duration": 4,
    "start_time": "2022-04-27T07:30:33.586Z"
   },
   {
    "duration": 5,
    "start_time": "2022-04-27T07:30:33.592Z"
   },
   {
    "duration": 5,
    "start_time": "2022-04-27T07:30:33.599Z"
   },
   {
    "duration": 15,
    "start_time": "2022-04-27T07:30:33.606Z"
   },
   {
    "duration": 11,
    "start_time": "2022-04-27T07:30:33.623Z"
   },
   {
    "duration": 45,
    "start_time": "2022-04-27T07:30:33.636Z"
   },
   {
    "duration": 17,
    "start_time": "2022-04-27T07:30:33.682Z"
   },
   {
    "duration": 10,
    "start_time": "2022-04-27T07:30:33.701Z"
   },
   {
    "duration": 10,
    "start_time": "2022-04-27T07:30:33.712Z"
   },
   {
    "duration": 11,
    "start_time": "2022-04-27T07:30:33.726Z"
   },
   {
    "duration": 35,
    "start_time": "2022-04-27T07:30:33.739Z"
   },
   {
    "duration": 6,
    "start_time": "2022-04-27T07:30:33.776Z"
   },
   {
    "duration": 6,
    "start_time": "2022-04-27T07:30:33.784Z"
   },
   {
    "duration": 5,
    "start_time": "2022-04-27T07:30:33.791Z"
   },
   {
    "duration": 7,
    "start_time": "2022-04-27T07:30:33.797Z"
   },
   {
    "duration": 18,
    "start_time": "2022-04-27T07:30:33.806Z"
   },
   {
    "duration": 11,
    "start_time": "2022-04-27T07:30:33.826Z"
   },
   {
    "duration": 36,
    "start_time": "2022-04-27T07:30:33.839Z"
   },
   {
    "duration": 9,
    "start_time": "2022-04-27T07:30:33.878Z"
   },
   {
    "duration": 6,
    "start_time": "2022-04-27T07:30:33.889Z"
   },
   {
    "duration": 12,
    "start_time": "2022-04-27T07:30:33.897Z"
   },
   {
    "duration": 7,
    "start_time": "2022-04-27T07:30:33.911Z"
   },
   {
    "duration": 4,
    "start_time": "2022-04-27T07:30:33.920Z"
   },
   {
    "duration": 5,
    "start_time": "2022-04-27T07:30:33.926Z"
   },
   {
    "duration": 5,
    "start_time": "2022-04-27T07:30:33.973Z"
   },
   {
    "duration": 9,
    "start_time": "2022-04-27T07:30:33.980Z"
   },
   {
    "duration": 5,
    "start_time": "2022-04-27T07:30:33.991Z"
   },
   {
    "duration": 12,
    "start_time": "2022-04-27T07:30:33.997Z"
   },
   {
    "duration": 8,
    "start_time": "2022-04-27T07:30:34.010Z"
   },
   {
    "duration": 6,
    "start_time": "2022-04-27T07:30:34.019Z"
   },
   {
    "duration": 6,
    "start_time": "2022-04-27T07:30:34.026Z"
   },
   {
    "duration": 12,
    "start_time": "2022-04-27T07:30:34.033Z"
   },
   {
    "duration": 36,
    "start_time": "2022-04-27T07:30:34.047Z"
   },
   {
    "duration": 5,
    "start_time": "2022-04-27T07:30:34.084Z"
   },
   {
    "duration": 21,
    "start_time": "2022-04-27T07:30:34.090Z"
   },
   {
    "duration": 16,
    "start_time": "2022-04-27T07:30:34.112Z"
   },
   {
    "duration": 12,
    "start_time": "2022-04-27T07:30:34.133Z"
   },
   {
    "duration": 30,
    "start_time": "2022-04-27T07:30:34.146Z"
   },
   {
    "duration": 18,
    "start_time": "2022-04-27T07:30:34.178Z"
   },
   {
    "duration": 16,
    "start_time": "2022-04-27T07:30:34.198Z"
   },
   {
    "duration": 22,
    "start_time": "2022-04-27T07:30:34.215Z"
   },
   {
    "duration": 637,
    "start_time": "2022-04-27T07:30:34.238Z"
   },
   {
    "duration": 10,
    "start_time": "2022-04-27T07:30:34.877Z"
   },
   {
    "duration": 13,
    "start_time": "2022-04-27T07:30:34.889Z"
   },
   {
    "duration": 11,
    "start_time": "2022-04-27T07:30:34.904Z"
   },
   {
    "duration": 12,
    "start_time": "2022-04-27T07:30:34.917Z"
   },
   {
    "duration": 194,
    "start_time": "2022-04-27T07:30:34.930Z"
   },
   {
    "duration": 15,
    "start_time": "2022-04-27T07:30:35.126Z"
   },
   {
    "duration": 17,
    "start_time": "2022-04-27T07:30:35.142Z"
   },
   {
    "duration": 13,
    "start_time": "2022-04-27T07:30:35.174Z"
   },
   {
    "duration": 40,
    "start_time": "2022-04-27T07:30:35.189Z"
   },
   {
    "duration": 11,
    "start_time": "2022-04-27T07:30:35.230Z"
   },
   {
    "duration": 15,
    "start_time": "2022-04-27T07:30:35.243Z"
   },
   {
    "duration": 5,
    "start_time": "2022-04-27T07:30:35.260Z"
   },
   {
    "duration": 164,
    "start_time": "2022-04-27T07:30:35.267Z"
   },
   {
    "duration": 17,
    "start_time": "2022-04-27T07:30:35.432Z"
   },
   {
    "duration": 26,
    "start_time": "2022-04-27T07:30:35.450Z"
   },
   {
    "duration": 151,
    "start_time": "2022-04-27T07:30:35.477Z"
   },
   {
    "duration": 19,
    "start_time": "2022-04-27T07:30:35.629Z"
   },
   {
    "duration": 197,
    "start_time": "2022-04-27T07:30:35.650Z"
   },
   {
    "duration": 6,
    "start_time": "2022-04-27T07:30:35.849Z"
   },
   {
    "duration": 25,
    "start_time": "2022-04-27T07:30:35.856Z"
   },
   {
    "duration": 268,
    "start_time": "2022-04-27T07:30:35.883Z"
   },
   {
    "duration": 6,
    "start_time": "2022-04-27T07:30:36.153Z"
   },
   {
    "duration": 14,
    "start_time": "2022-04-27T07:30:36.161Z"
   },
   {
    "duration": 197,
    "start_time": "2022-04-27T07:30:36.177Z"
   },
   {
    "duration": 12,
    "start_time": "2022-04-27T07:30:36.376Z"
   },
   {
    "duration": 4,
    "start_time": "2022-04-27T07:30:36.390Z"
   },
   {
    "duration": 111,
    "start_time": "2022-04-27T07:30:36.397Z"
   },
   {
    "duration": 0,
    "start_time": "2022-04-27T07:30:36.510Z"
   },
   {
    "duration": 0,
    "start_time": "2022-04-27T07:30:36.512Z"
   },
   {
    "duration": 0,
    "start_time": "2022-04-27T07:30:36.513Z"
   },
   {
    "duration": 0,
    "start_time": "2022-04-27T07:30:36.514Z"
   },
   {
    "duration": 1,
    "start_time": "2022-04-27T07:30:36.515Z"
   },
   {
    "duration": 0,
    "start_time": "2022-04-27T07:30:36.517Z"
   },
   {
    "duration": 0,
    "start_time": "2022-04-27T07:30:36.518Z"
   },
   {
    "duration": 0,
    "start_time": "2022-04-27T07:30:36.520Z"
   },
   {
    "duration": 0,
    "start_time": "2022-04-27T07:30:36.521Z"
   },
   {
    "duration": 0,
    "start_time": "2022-04-27T07:30:36.522Z"
   },
   {
    "duration": 0,
    "start_time": "2022-04-27T07:30:36.524Z"
   },
   {
    "duration": 0,
    "start_time": "2022-04-27T07:30:36.525Z"
   },
   {
    "duration": 0,
    "start_time": "2022-04-27T07:30:36.527Z"
   },
   {
    "duration": 0,
    "start_time": "2022-04-27T07:30:36.528Z"
   },
   {
    "duration": 0,
    "start_time": "2022-04-27T07:30:36.530Z"
   },
   {
    "duration": 0,
    "start_time": "2022-04-27T07:30:36.531Z"
   },
   {
    "duration": 0,
    "start_time": "2022-04-27T07:30:36.533Z"
   },
   {
    "duration": 0,
    "start_time": "2022-04-27T07:30:36.534Z"
   },
   {
    "duration": 0,
    "start_time": "2022-04-27T07:30:36.574Z"
   },
   {
    "duration": 0,
    "start_time": "2022-04-27T07:30:36.576Z"
   },
   {
    "duration": 0,
    "start_time": "2022-04-27T07:30:36.577Z"
   },
   {
    "duration": 0,
    "start_time": "2022-04-27T07:30:36.579Z"
   },
   {
    "duration": 0,
    "start_time": "2022-04-27T07:30:36.581Z"
   },
   {
    "duration": 0,
    "start_time": "2022-04-27T07:30:36.582Z"
   },
   {
    "duration": 0,
    "start_time": "2022-04-27T07:30:36.583Z"
   },
   {
    "duration": 0,
    "start_time": "2022-04-27T07:30:36.585Z"
   },
   {
    "duration": 0,
    "start_time": "2022-04-27T07:30:36.586Z"
   },
   {
    "duration": 0,
    "start_time": "2022-04-27T07:30:36.587Z"
   },
   {
    "duration": 0,
    "start_time": "2022-04-27T07:30:36.588Z"
   },
   {
    "duration": 0,
    "start_time": "2022-04-27T07:30:36.590Z"
   },
   {
    "duration": 0,
    "start_time": "2022-04-27T07:30:36.591Z"
   },
   {
    "duration": 0,
    "start_time": "2022-04-27T07:30:36.592Z"
   },
   {
    "duration": 0,
    "start_time": "2022-04-27T07:30:36.593Z"
   },
   {
    "duration": 0,
    "start_time": "2022-04-27T07:30:36.595Z"
   },
   {
    "duration": 0,
    "start_time": "2022-04-27T07:30:36.596Z"
   },
   {
    "duration": 10,
    "start_time": "2022-04-27T07:30:56.225Z"
   },
   {
    "duration": 1201,
    "start_time": "2022-04-27T07:31:41.607Z"
   },
   {
    "duration": 43,
    "start_time": "2022-04-27T07:31:42.810Z"
   },
   {
    "duration": 20,
    "start_time": "2022-04-27T07:31:42.854Z"
   },
   {
    "duration": 17,
    "start_time": "2022-04-27T07:31:42.876Z"
   },
   {
    "duration": 4,
    "start_time": "2022-04-27T07:31:42.896Z"
   },
   {
    "duration": 4,
    "start_time": "2022-04-27T07:31:42.902Z"
   },
   {
    "duration": 7,
    "start_time": "2022-04-27T07:31:42.908Z"
   },
   {
    "duration": 16,
    "start_time": "2022-04-27T07:31:42.916Z"
   },
   {
    "duration": 9,
    "start_time": "2022-04-27T07:31:42.934Z"
   },
   {
    "duration": 12,
    "start_time": "2022-04-27T07:31:42.972Z"
   },
   {
    "duration": 20,
    "start_time": "2022-04-27T07:31:42.986Z"
   },
   {
    "duration": 12,
    "start_time": "2022-04-27T07:31:43.007Z"
   },
   {
    "duration": 10,
    "start_time": "2022-04-27T07:31:43.021Z"
   },
   {
    "duration": 8,
    "start_time": "2022-04-27T07:31:43.034Z"
   },
   {
    "duration": 37,
    "start_time": "2022-04-27T07:31:43.044Z"
   },
   {
    "duration": 7,
    "start_time": "2022-04-27T07:31:43.083Z"
   },
   {
    "duration": 9,
    "start_time": "2022-04-27T07:31:43.092Z"
   },
   {
    "duration": 4,
    "start_time": "2022-04-27T07:31:43.103Z"
   },
   {
    "duration": 8,
    "start_time": "2022-04-27T07:31:43.109Z"
   },
   {
    "duration": 27,
    "start_time": "2022-04-27T07:31:43.119Z"
   },
   {
    "duration": 28,
    "start_time": "2022-04-27T07:31:43.149Z"
   },
   {
    "duration": 10,
    "start_time": "2022-04-27T07:31:43.179Z"
   },
   {
    "duration": 10,
    "start_time": "2022-04-27T07:31:43.191Z"
   },
   {
    "duration": 4,
    "start_time": "2022-04-27T07:31:43.203Z"
   },
   {
    "duration": 11,
    "start_time": "2022-04-27T07:31:43.209Z"
   },
   {
    "duration": 6,
    "start_time": "2022-04-27T07:31:43.221Z"
   },
   {
    "duration": 4,
    "start_time": "2022-04-27T07:31:43.229Z"
   },
   {
    "duration": 39,
    "start_time": "2022-04-27T07:31:43.235Z"
   },
   {
    "duration": 6,
    "start_time": "2022-04-27T07:31:43.276Z"
   },
   {
    "duration": 12,
    "start_time": "2022-04-27T07:31:43.283Z"
   },
   {
    "duration": 7,
    "start_time": "2022-04-27T07:31:43.297Z"
   },
   {
    "duration": 12,
    "start_time": "2022-04-27T07:31:43.306Z"
   },
   {
    "duration": 9,
    "start_time": "2022-04-27T07:31:43.320Z"
   },
   {
    "duration": 5,
    "start_time": "2022-04-27T07:31:43.331Z"
   },
   {
    "duration": 11,
    "start_time": "2022-04-27T07:31:43.338Z"
   },
   {
    "duration": 30,
    "start_time": "2022-04-27T07:31:43.350Z"
   },
   {
    "duration": 15,
    "start_time": "2022-04-27T07:31:43.382Z"
   },
   {
    "duration": 5,
    "start_time": "2022-04-27T07:31:43.398Z"
   },
   {
    "duration": 21,
    "start_time": "2022-04-27T07:31:43.405Z"
   },
   {
    "duration": 15,
    "start_time": "2022-04-27T07:31:43.427Z"
   },
   {
    "duration": 36,
    "start_time": "2022-04-27T07:31:43.447Z"
   },
   {
    "duration": 10,
    "start_time": "2022-04-27T07:31:43.484Z"
   },
   {
    "duration": 14,
    "start_time": "2022-04-27T07:31:43.496Z"
   },
   {
    "duration": 14,
    "start_time": "2022-04-27T07:31:43.512Z"
   },
   {
    "duration": 48,
    "start_time": "2022-04-27T07:31:43.528Z"
   },
   {
    "duration": 688,
    "start_time": "2022-04-27T07:31:43.578Z"
   },
   {
    "duration": 13,
    "start_time": "2022-04-27T07:31:44.267Z"
   },
   {
    "duration": 13,
    "start_time": "2022-04-27T07:31:44.282Z"
   },
   {
    "duration": 9,
    "start_time": "2022-04-27T07:31:44.297Z"
   },
   {
    "duration": 15,
    "start_time": "2022-04-27T07:31:44.308Z"
   },
   {
    "duration": 197,
    "start_time": "2022-04-27T07:31:44.325Z"
   },
   {
    "duration": 15,
    "start_time": "2022-04-27T07:31:44.524Z"
   },
   {
    "duration": 31,
    "start_time": "2022-04-27T07:31:44.542Z"
   },
   {
    "duration": 16,
    "start_time": "2022-04-27T07:31:44.575Z"
   },
   {
    "duration": 17,
    "start_time": "2022-04-27T07:31:44.593Z"
   },
   {
    "duration": 8,
    "start_time": "2022-04-27T07:31:44.612Z"
   },
   {
    "duration": 21,
    "start_time": "2022-04-27T07:31:44.622Z"
   },
   {
    "duration": 5,
    "start_time": "2022-04-27T07:31:44.674Z"
   },
   {
    "duration": 167,
    "start_time": "2022-04-27T07:31:44.680Z"
   },
   {
    "duration": 27,
    "start_time": "2022-04-27T07:31:44.848Z"
   },
   {
    "duration": 28,
    "start_time": "2022-04-27T07:31:44.878Z"
   },
   {
    "duration": 175,
    "start_time": "2022-04-27T07:31:44.907Z"
   },
   {
    "duration": 20,
    "start_time": "2022-04-27T07:31:45.084Z"
   },
   {
    "duration": 204,
    "start_time": "2022-04-27T07:31:45.105Z"
   },
   {
    "duration": 7,
    "start_time": "2022-04-27T07:31:45.311Z"
   },
   {
    "duration": 28,
    "start_time": "2022-04-27T07:31:45.320Z"
   },
   {
    "duration": 288,
    "start_time": "2022-04-27T07:31:45.350Z"
   },
   {
    "duration": 7,
    "start_time": "2022-04-27T07:31:45.639Z"
   },
   {
    "duration": 9,
    "start_time": "2022-04-27T07:31:45.648Z"
   },
   {
    "duration": 216,
    "start_time": "2022-04-27T07:31:45.659Z"
   },
   {
    "duration": 12,
    "start_time": "2022-04-27T07:31:45.877Z"
   },
   {
    "duration": 9,
    "start_time": "2022-04-27T07:31:45.890Z"
   },
   {
    "duration": 15,
    "start_time": "2022-04-27T07:31:45.901Z"
   },
   {
    "duration": 9,
    "start_time": "2022-04-27T07:31:45.917Z"
   },
   {
    "duration": 18,
    "start_time": "2022-04-27T07:31:45.928Z"
   },
   {
    "duration": 42,
    "start_time": "2022-04-27T07:31:45.948Z"
   },
   {
    "duration": 6,
    "start_time": "2022-04-27T07:31:45.991Z"
   },
   {
    "duration": 16,
    "start_time": "2022-04-27T07:31:45.998Z"
   },
   {
    "duration": 20,
    "start_time": "2022-04-27T07:31:46.016Z"
   },
   {
    "duration": 9,
    "start_time": "2022-04-27T07:31:46.037Z"
   },
   {
    "duration": 37,
    "start_time": "2022-04-27T07:31:46.048Z"
   },
   {
    "duration": 14,
    "start_time": "2022-04-27T07:31:46.087Z"
   },
   {
    "duration": 8,
    "start_time": "2022-04-27T07:31:46.103Z"
   },
   {
    "duration": 10,
    "start_time": "2022-04-27T07:31:46.112Z"
   },
   {
    "duration": 22,
    "start_time": "2022-04-27T07:31:46.124Z"
   },
   {
    "duration": 33,
    "start_time": "2022-04-27T07:31:46.147Z"
   },
   {
    "duration": 32,
    "start_time": "2022-04-27T07:31:46.182Z"
   },
   {
    "duration": 28,
    "start_time": "2022-04-27T07:31:46.216Z"
   },
   {
    "duration": 28,
    "start_time": "2022-04-27T07:31:46.246Z"
   },
   {
    "duration": 29,
    "start_time": "2022-04-27T07:31:46.276Z"
   },
   {
    "duration": 23,
    "start_time": "2022-04-27T07:31:46.307Z"
   },
   {
    "duration": 148,
    "start_time": "2022-04-27T07:31:46.332Z"
   },
   {
    "duration": 4,
    "start_time": "2022-04-27T07:31:46.482Z"
   },
   {
    "duration": 9,
    "start_time": "2022-04-27T07:31:46.487Z"
   },
   {
    "duration": 9,
    "start_time": "2022-04-27T07:31:46.497Z"
   },
   {
    "duration": 14,
    "start_time": "2022-04-27T07:31:46.508Z"
   },
   {
    "duration": 149,
    "start_time": "2022-04-27T07:31:46.524Z"
   },
   {
    "duration": 4,
    "start_time": "2022-04-27T07:31:46.675Z"
   },
   {
    "duration": 6,
    "start_time": "2022-04-27T07:31:46.681Z"
   },
   {
    "duration": 6,
    "start_time": "2022-04-27T07:31:46.689Z"
   },
   {
    "duration": 11,
    "start_time": "2022-04-27T07:31:46.696Z"
   },
   {
    "duration": 164,
    "start_time": "2022-04-27T07:31:46.709Z"
   },
   {
    "duration": 4,
    "start_time": "2022-04-27T07:31:46.875Z"
   },
   {
    "duration": 7,
    "start_time": "2022-04-27T07:31:46.881Z"
   },
   {
    "duration": 160,
    "start_time": "2022-04-27T07:31:46.890Z"
   },
   {
    "duration": 5,
    "start_time": "2022-04-27T07:31:47.051Z"
   },
   {
    "duration": 6,
    "start_time": "2022-04-27T07:31:47.073Z"
   },
   {
    "duration": 6,
    "start_time": "2022-04-27T07:31:47.081Z"
   },
   {
    "duration": 13,
    "start_time": "2022-04-27T07:43:05.557Z"
   },
   {
    "duration": 13,
    "start_time": "2022-04-27T07:43:14.697Z"
   },
   {
    "duration": 11,
    "start_time": "2022-04-27T07:45:16.971Z"
   },
   {
    "duration": 124,
    "start_time": "2022-04-27T08:01:20.930Z"
   },
   {
    "duration": 20,
    "start_time": "2022-04-27T08:01:36.036Z"
   },
   {
    "duration": 21,
    "start_time": "2022-04-27T08:02:33.587Z"
   },
   {
    "duration": 18,
    "start_time": "2022-04-27T08:03:13.227Z"
   },
   {
    "duration": 8,
    "start_time": "2022-04-27T08:09:01.412Z"
   },
   {
    "duration": 14,
    "start_time": "2022-04-27T08:09:02.401Z"
   },
   {
    "duration": 130,
    "start_time": "2022-04-27T08:09:07.930Z"
   },
   {
    "duration": 5,
    "start_time": "2022-04-27T08:09:12.722Z"
   },
   {
    "duration": 6,
    "start_time": "2022-04-27T08:09:15.057Z"
   },
   {
    "duration": 8,
    "start_time": "2022-04-27T08:09:35.507Z"
   },
   {
    "duration": 13,
    "start_time": "2022-04-27T08:09:36.367Z"
   },
   {
    "duration": 127,
    "start_time": "2022-04-27T08:09:37.149Z"
   },
   {
    "duration": 4,
    "start_time": "2022-04-27T08:09:40.120Z"
   },
   {
    "duration": 5,
    "start_time": "2022-04-27T08:09:42.153Z"
   },
   {
    "duration": 1202,
    "start_time": "2022-04-27T08:11:05.122Z"
   },
   {
    "duration": 38,
    "start_time": "2022-04-27T08:11:06.326Z"
   },
   {
    "duration": 19,
    "start_time": "2022-04-27T08:11:06.366Z"
   },
   {
    "duration": 16,
    "start_time": "2022-04-27T08:11:06.387Z"
   },
   {
    "duration": 4,
    "start_time": "2022-04-27T08:11:06.405Z"
   },
   {
    "duration": 7,
    "start_time": "2022-04-27T08:11:06.411Z"
   },
   {
    "duration": 6,
    "start_time": "2022-04-27T08:11:06.420Z"
   },
   {
    "duration": 46,
    "start_time": "2022-04-27T08:11:06.428Z"
   },
   {
    "duration": 10,
    "start_time": "2022-04-27T08:11:06.476Z"
   },
   {
    "duration": 10,
    "start_time": "2022-04-27T08:11:06.490Z"
   },
   {
    "duration": 14,
    "start_time": "2022-04-27T08:11:06.502Z"
   },
   {
    "duration": 9,
    "start_time": "2022-04-27T08:11:06.518Z"
   },
   {
    "duration": 11,
    "start_time": "2022-04-27T08:11:06.529Z"
   },
   {
    "duration": 34,
    "start_time": "2022-04-27T08:11:06.541Z"
   },
   {
    "duration": 16,
    "start_time": "2022-04-27T08:11:06.576Z"
   },
   {
    "duration": 8,
    "start_time": "2022-04-27T08:11:06.593Z"
   },
   {
    "duration": 6,
    "start_time": "2022-04-27T08:11:06.603Z"
   },
   {
    "duration": 3,
    "start_time": "2022-04-27T08:11:06.610Z"
   },
   {
    "duration": 7,
    "start_time": "2022-04-27T08:11:06.615Z"
   },
   {
    "duration": 16,
    "start_time": "2022-04-27T08:11:06.623Z"
   },
   {
    "duration": 38,
    "start_time": "2022-04-27T08:11:06.641Z"
   },
   {
    "duration": 9,
    "start_time": "2022-04-27T08:11:06.681Z"
   },
   {
    "duration": 11,
    "start_time": "2022-04-27T08:11:06.692Z"
   },
   {
    "duration": 6,
    "start_time": "2022-04-27T08:11:06.704Z"
   },
   {
    "duration": 9,
    "start_time": "2022-04-27T08:11:06.712Z"
   },
   {
    "duration": 6,
    "start_time": "2022-04-27T08:11:06.723Z"
   },
   {
    "duration": 5,
    "start_time": "2022-04-27T08:11:06.731Z"
   },
   {
    "duration": 37,
    "start_time": "2022-04-27T08:11:06.741Z"
   },
   {
    "duration": 8,
    "start_time": "2022-04-27T08:11:06.779Z"
   },
   {
    "duration": 15,
    "start_time": "2022-04-27T08:11:06.789Z"
   },
   {
    "duration": 14,
    "start_time": "2022-04-27T08:11:06.806Z"
   },
   {
    "duration": 12,
    "start_time": "2022-04-27T08:11:06.821Z"
   },
   {
    "duration": 6,
    "start_time": "2022-04-27T08:11:06.835Z"
   },
   {
    "duration": 6,
    "start_time": "2022-04-27T08:11:06.843Z"
   },
   {
    "duration": 7,
    "start_time": "2022-04-27T08:11:06.850Z"
   },
   {
    "duration": 18,
    "start_time": "2022-04-27T08:11:06.858Z"
   },
   {
    "duration": 15,
    "start_time": "2022-04-27T08:11:06.878Z"
   },
   {
    "duration": 5,
    "start_time": "2022-04-27T08:11:06.895Z"
   },
   {
    "duration": 19,
    "start_time": "2022-04-27T08:11:06.901Z"
   },
   {
    "duration": 15,
    "start_time": "2022-04-27T08:11:06.922Z"
   },
   {
    "duration": 47,
    "start_time": "2022-04-27T08:11:06.939Z"
   },
   {
    "duration": 9,
    "start_time": "2022-04-27T08:11:06.987Z"
   },
   {
    "duration": 17,
    "start_time": "2022-04-27T08:11:06.998Z"
   },
   {
    "duration": 19,
    "start_time": "2022-04-27T08:11:07.016Z"
   },
   {
    "duration": 45,
    "start_time": "2022-04-27T08:11:07.037Z"
   },
   {
    "duration": 694,
    "start_time": "2022-04-27T08:11:07.083Z"
   },
   {
    "duration": 11,
    "start_time": "2022-04-27T08:11:07.779Z"
   },
   {
    "duration": 23,
    "start_time": "2022-04-27T08:11:07.791Z"
   },
   {
    "duration": 10,
    "start_time": "2022-04-27T08:11:07.816Z"
   },
   {
    "duration": 17,
    "start_time": "2022-04-27T08:11:07.827Z"
   },
   {
    "duration": 198,
    "start_time": "2022-04-27T08:11:07.846Z"
   },
   {
    "duration": 16,
    "start_time": "2022-04-27T08:11:08.045Z"
   },
   {
    "duration": 22,
    "start_time": "2022-04-27T08:11:08.063Z"
   },
   {
    "duration": 18,
    "start_time": "2022-04-27T08:11:08.087Z"
   },
   {
    "duration": 20,
    "start_time": "2022-04-27T08:11:08.106Z"
   },
   {
    "duration": 7,
    "start_time": "2022-04-27T08:11:08.127Z"
   },
   {
    "duration": 42,
    "start_time": "2022-04-27T08:11:08.136Z"
   },
   {
    "duration": 5,
    "start_time": "2022-04-27T08:11:08.180Z"
   },
   {
    "duration": 178,
    "start_time": "2022-04-27T08:11:08.187Z"
   },
   {
    "duration": 23,
    "start_time": "2022-04-27T08:11:08.366Z"
   },
   {
    "duration": 38,
    "start_time": "2022-04-27T08:11:08.390Z"
   },
   {
    "duration": 167,
    "start_time": "2022-04-27T08:11:08.429Z"
   },
   {
    "duration": 20,
    "start_time": "2022-04-27T08:11:08.598Z"
   },
   {
    "duration": 210,
    "start_time": "2022-04-27T08:11:08.620Z"
   },
   {
    "duration": 7,
    "start_time": "2022-04-27T08:11:08.831Z"
   },
   {
    "duration": 17,
    "start_time": "2022-04-27T08:11:08.840Z"
   },
   {
    "duration": 289,
    "start_time": "2022-04-27T08:11:08.873Z"
   },
   {
    "duration": 14,
    "start_time": "2022-04-27T08:11:09.163Z"
   },
   {
    "duration": 8,
    "start_time": "2022-04-27T08:11:09.179Z"
   },
   {
    "duration": 214,
    "start_time": "2022-04-27T08:11:09.189Z"
   },
   {
    "duration": 12,
    "start_time": "2022-04-27T08:11:09.405Z"
   },
   {
    "duration": 5,
    "start_time": "2022-04-27T08:11:09.419Z"
   },
   {
    "duration": 16,
    "start_time": "2022-04-27T08:11:09.426Z"
   },
   {
    "duration": 9,
    "start_time": "2022-04-27T08:11:09.444Z"
   },
   {
    "duration": 16,
    "start_time": "2022-04-27T08:11:09.473Z"
   },
   {
    "duration": 16,
    "start_time": "2022-04-27T08:11:09.491Z"
   },
   {
    "duration": 10,
    "start_time": "2022-04-27T08:11:09.508Z"
   },
   {
    "duration": 15,
    "start_time": "2022-04-27T08:11:09.520Z"
   },
   {
    "duration": 40,
    "start_time": "2022-04-27T08:11:09.537Z"
   },
   {
    "duration": 6,
    "start_time": "2022-04-27T08:11:09.579Z"
   },
   {
    "duration": 14,
    "start_time": "2022-04-27T08:11:09.587Z"
   },
   {
    "duration": 16,
    "start_time": "2022-04-27T08:11:09.607Z"
   },
   {
    "duration": 7,
    "start_time": "2022-04-27T08:11:09.624Z"
   },
   {
    "duration": 7,
    "start_time": "2022-04-27T08:11:09.633Z"
   },
   {
    "duration": 35,
    "start_time": "2022-04-27T08:11:09.642Z"
   },
   {
    "duration": 10,
    "start_time": "2022-04-27T08:11:09.679Z"
   },
   {
    "duration": 22,
    "start_time": "2022-04-27T08:11:09.691Z"
   },
   {
    "duration": 18,
    "start_time": "2022-04-27T08:11:09.715Z"
   },
   {
    "duration": 43,
    "start_time": "2022-04-27T08:11:09.734Z"
   },
   {
    "duration": 7,
    "start_time": "2022-04-27T08:11:09.779Z"
   },
   {
    "duration": 15,
    "start_time": "2022-04-27T08:11:09.788Z"
   },
   {
    "duration": 149,
    "start_time": "2022-04-27T08:11:09.805Z"
   },
   {
    "duration": 4,
    "start_time": "2022-04-27T08:11:09.956Z"
   },
   {
    "duration": 13,
    "start_time": "2022-04-27T08:11:09.961Z"
   },
   {
    "duration": 9,
    "start_time": "2022-04-27T08:11:09.976Z"
   },
   {
    "duration": 13,
    "start_time": "2022-04-27T08:11:09.987Z"
   },
   {
    "duration": 161,
    "start_time": "2022-04-27T08:11:10.002Z"
   },
   {
    "duration": 5,
    "start_time": "2022-04-27T08:11:10.164Z"
   },
   {
    "duration": 4,
    "start_time": "2022-04-27T08:11:10.174Z"
   },
   {
    "duration": 13,
    "start_time": "2022-04-27T08:11:10.180Z"
   },
   {
    "duration": 15,
    "start_time": "2022-04-27T08:11:10.195Z"
   },
   {
    "duration": 146,
    "start_time": "2022-04-27T08:11:10.212Z"
   },
   {
    "duration": 13,
    "start_time": "2022-04-27T08:11:10.360Z"
   },
   {
    "duration": 22,
    "start_time": "2022-04-27T08:11:10.375Z"
   },
   {
    "duration": 144,
    "start_time": "2022-04-27T08:11:10.399Z"
   },
   {
    "duration": 5,
    "start_time": "2022-04-27T08:11:10.545Z"
   },
   {
    "duration": 11,
    "start_time": "2022-04-27T08:11:10.552Z"
   },
   {
    "duration": 7,
    "start_time": "2022-04-27T08:11:10.573Z"
   },
   {
    "duration": 1215,
    "start_time": "2022-04-27T08:22:01.913Z"
   },
   {
    "duration": 37,
    "start_time": "2022-04-27T08:22:03.130Z"
   },
   {
    "duration": 17,
    "start_time": "2022-04-27T08:22:03.169Z"
   },
   {
    "duration": 15,
    "start_time": "2022-04-27T08:22:03.188Z"
   },
   {
    "duration": 5,
    "start_time": "2022-04-27T08:22:03.205Z"
   },
   {
    "duration": 7,
    "start_time": "2022-04-27T08:22:03.211Z"
   },
   {
    "duration": 7,
    "start_time": "2022-04-27T08:22:03.219Z"
   },
   {
    "duration": 17,
    "start_time": "2022-04-27T08:22:03.227Z"
   },
   {
    "duration": 10,
    "start_time": "2022-04-27T08:22:03.273Z"
   },
   {
    "duration": 10,
    "start_time": "2022-04-27T08:22:03.286Z"
   },
   {
    "duration": 13,
    "start_time": "2022-04-27T08:22:03.298Z"
   },
   {
    "duration": 9,
    "start_time": "2022-04-27T08:22:03.313Z"
   },
   {
    "duration": 9,
    "start_time": "2022-04-27T08:22:03.323Z"
   },
   {
    "duration": 41,
    "start_time": "2022-04-27T08:22:03.334Z"
   },
   {
    "duration": 9,
    "start_time": "2022-04-27T08:22:03.377Z"
   },
   {
    "duration": 6,
    "start_time": "2022-04-27T08:22:03.388Z"
   },
   {
    "duration": 6,
    "start_time": "2022-04-27T08:22:03.396Z"
   },
   {
    "duration": 5,
    "start_time": "2022-04-27T08:22:03.403Z"
   },
   {
    "duration": 6,
    "start_time": "2022-04-27T08:22:03.410Z"
   },
   {
    "duration": 15,
    "start_time": "2022-04-27T08:22:03.418Z"
   },
   {
    "duration": 11,
    "start_time": "2022-04-27T08:22:03.434Z"
   },
   {
    "duration": 9,
    "start_time": "2022-04-27T08:22:03.474Z"
   },
   {
    "duration": 13,
    "start_time": "2022-04-27T08:22:03.484Z"
   },
   {
    "duration": 14,
    "start_time": "2022-04-27T08:22:03.499Z"
   },
   {
    "duration": 11,
    "start_time": "2022-04-27T08:22:03.515Z"
   },
   {
    "duration": 7,
    "start_time": "2022-04-27T08:22:03.528Z"
   },
   {
    "duration": 4,
    "start_time": "2022-04-27T08:22:03.537Z"
   },
   {
    "duration": 8,
    "start_time": "2022-04-27T08:22:03.545Z"
   },
   {
    "duration": 5,
    "start_time": "2022-04-27T08:22:03.573Z"
   },
   {
    "duration": 10,
    "start_time": "2022-04-27T08:22:03.580Z"
   },
   {
    "duration": 5,
    "start_time": "2022-04-27T08:22:03.592Z"
   },
   {
    "duration": 8,
    "start_time": "2022-04-27T08:22:03.598Z"
   },
   {
    "duration": 7,
    "start_time": "2022-04-27T08:22:03.608Z"
   },
   {
    "duration": 5,
    "start_time": "2022-04-27T08:22:03.617Z"
   },
   {
    "duration": 6,
    "start_time": "2022-04-27T08:22:03.623Z"
   },
   {
    "duration": 11,
    "start_time": "2022-04-27T08:22:03.630Z"
   },
   {
    "duration": 15,
    "start_time": "2022-04-27T08:22:03.674Z"
   },
   {
    "duration": 5,
    "start_time": "2022-04-27T08:22:03.690Z"
   },
   {
    "duration": 17,
    "start_time": "2022-04-27T08:22:03.696Z"
   },
   {
    "duration": 17,
    "start_time": "2022-04-27T08:22:03.715Z"
   },
   {
    "duration": 43,
    "start_time": "2022-04-27T08:22:03.734Z"
   },
   {
    "duration": 10,
    "start_time": "2022-04-27T08:22:03.779Z"
   },
   {
    "duration": 15,
    "start_time": "2022-04-27T08:22:03.791Z"
   },
   {
    "duration": 19,
    "start_time": "2022-04-27T08:22:03.808Z"
   },
   {
    "duration": 53,
    "start_time": "2022-04-27T08:22:03.829Z"
   },
   {
    "duration": 693,
    "start_time": "2022-04-27T08:22:03.884Z"
   },
   {
    "duration": 11,
    "start_time": "2022-04-27T08:22:04.580Z"
   },
   {
    "duration": 14,
    "start_time": "2022-04-27T08:22:04.593Z"
   },
   {
    "duration": 11,
    "start_time": "2022-04-27T08:22:04.609Z"
   },
   {
    "duration": 14,
    "start_time": "2022-04-27T08:22:04.621Z"
   },
   {
    "duration": 200,
    "start_time": "2022-04-27T08:22:04.636Z"
   },
   {
    "duration": 15,
    "start_time": "2022-04-27T08:22:04.838Z"
   },
   {
    "duration": 31,
    "start_time": "2022-04-27T08:22:04.854Z"
   },
   {
    "duration": 16,
    "start_time": "2022-04-27T08:22:04.887Z"
   },
   {
    "duration": 17,
    "start_time": "2022-04-27T08:22:04.905Z"
   },
   {
    "duration": 8,
    "start_time": "2022-04-27T08:22:04.923Z"
   },
   {
    "duration": 46,
    "start_time": "2022-04-27T08:22:04.932Z"
   },
   {
    "duration": 6,
    "start_time": "2022-04-27T08:22:04.979Z"
   },
   {
    "duration": 201,
    "start_time": "2022-04-27T08:22:04.986Z"
   },
   {
    "duration": 18,
    "start_time": "2022-04-27T08:22:05.189Z"
   },
   {
    "duration": 23,
    "start_time": "2022-04-27T08:22:05.209Z"
   },
   {
    "duration": 169,
    "start_time": "2022-04-27T08:22:05.234Z"
   },
   {
    "duration": 19,
    "start_time": "2022-04-27T08:22:05.405Z"
   },
   {
    "duration": 203,
    "start_time": "2022-04-27T08:22:05.425Z"
   },
   {
    "duration": 6,
    "start_time": "2022-04-27T08:22:05.630Z"
   },
   {
    "duration": 17,
    "start_time": "2022-04-27T08:22:05.638Z"
   },
   {
    "duration": 306,
    "start_time": "2022-04-27T08:22:05.657Z"
   },
   {
    "duration": 8,
    "start_time": "2022-04-27T08:22:05.973Z"
   },
   {
    "duration": 10,
    "start_time": "2022-04-27T08:22:05.983Z"
   },
   {
    "duration": 214,
    "start_time": "2022-04-27T08:22:05.995Z"
   },
   {
    "duration": 12,
    "start_time": "2022-04-27T08:22:06.211Z"
   },
   {
    "duration": 12,
    "start_time": "2022-04-27T08:22:06.225Z"
   },
   {
    "duration": 11,
    "start_time": "2022-04-27T08:22:06.239Z"
   },
   {
    "duration": 23,
    "start_time": "2022-04-27T08:22:06.252Z"
   },
   {
    "duration": 16,
    "start_time": "2022-04-27T08:22:06.276Z"
   },
   {
    "duration": 15,
    "start_time": "2022-04-27T08:22:06.294Z"
   },
   {
    "duration": 7,
    "start_time": "2022-04-27T08:22:06.310Z"
   },
   {
    "duration": 15,
    "start_time": "2022-04-27T08:22:06.319Z"
   },
   {
    "duration": 47,
    "start_time": "2022-04-27T08:22:06.336Z"
   },
   {
    "duration": 13,
    "start_time": "2022-04-27T08:22:06.384Z"
   },
   {
    "duration": 14,
    "start_time": "2022-04-27T08:22:06.399Z"
   },
   {
    "duration": 14,
    "start_time": "2022-04-27T08:22:06.419Z"
   },
   {
    "duration": 5,
    "start_time": "2022-04-27T08:22:06.435Z"
   },
   {
    "duration": 33,
    "start_time": "2022-04-27T08:22:06.441Z"
   },
   {
    "duration": 7,
    "start_time": "2022-04-27T08:22:06.476Z"
   },
   {
    "duration": 10,
    "start_time": "2022-04-27T08:22:06.485Z"
   },
   {
    "duration": 20,
    "start_time": "2022-04-27T08:22:06.497Z"
   },
   {
    "duration": 19,
    "start_time": "2022-04-27T08:22:06.518Z"
   },
   {
    "duration": 45,
    "start_time": "2022-04-27T08:22:06.539Z"
   },
   {
    "duration": 10,
    "start_time": "2022-04-27T08:22:06.586Z"
   },
   {
    "duration": 14,
    "start_time": "2022-04-27T08:22:06.598Z"
   },
   {
    "duration": 153,
    "start_time": "2022-04-27T08:22:06.613Z"
   },
   {
    "duration": 6,
    "start_time": "2022-04-27T08:22:06.768Z"
   },
   {
    "duration": 8,
    "start_time": "2022-04-27T08:22:06.776Z"
   },
   {
    "duration": 10,
    "start_time": "2022-04-27T08:22:06.786Z"
   },
   {
    "duration": 17,
    "start_time": "2022-04-27T08:22:06.797Z"
   },
   {
    "duration": 152,
    "start_time": "2022-04-27T08:22:06.816Z"
   },
   {
    "duration": 4,
    "start_time": "2022-04-27T08:22:06.973Z"
   },
   {
    "duration": 7,
    "start_time": "2022-04-27T08:22:06.979Z"
   },
   {
    "duration": 5,
    "start_time": "2022-04-27T08:22:06.988Z"
   },
   {
    "duration": 13,
    "start_time": "2022-04-27T08:22:06.995Z"
   },
   {
    "duration": 158,
    "start_time": "2022-04-27T08:22:07.009Z"
   },
   {
    "duration": 5,
    "start_time": "2022-04-27T08:22:07.173Z"
   },
   {
    "duration": 9,
    "start_time": "2022-04-27T08:22:07.179Z"
   },
   {
    "duration": 158,
    "start_time": "2022-04-27T08:22:07.190Z"
   },
   {
    "duration": 4,
    "start_time": "2022-04-27T08:22:07.350Z"
   },
   {
    "duration": 11,
    "start_time": "2022-04-27T08:22:07.355Z"
   },
   {
    "duration": 5,
    "start_time": "2022-04-27T08:22:07.373Z"
   },
   {
    "duration": 2546,
    "start_time": "2022-04-27T16:20:48.776Z"
   },
   {
    "duration": 74,
    "start_time": "2022-04-27T16:20:51.326Z"
   },
   {
    "duration": 33,
    "start_time": "2022-04-27T16:20:51.403Z"
   },
   {
    "duration": 22,
    "start_time": "2022-04-27T16:20:51.439Z"
   },
   {
    "duration": 16,
    "start_time": "2022-04-27T16:20:51.464Z"
   },
   {
    "duration": 9,
    "start_time": "2022-04-27T16:20:51.482Z"
   },
   {
    "duration": 33,
    "start_time": "2022-04-27T16:20:51.493Z"
   },
   {
    "duration": 22,
    "start_time": "2022-04-27T16:20:51.529Z"
   },
   {
    "duration": 14,
    "start_time": "2022-04-27T16:20:51.554Z"
   },
   {
    "duration": 18,
    "start_time": "2022-04-27T16:20:51.572Z"
   },
   {
    "duration": 27,
    "start_time": "2022-04-27T16:20:51.626Z"
   },
   {
    "duration": 15,
    "start_time": "2022-04-27T16:20:51.655Z"
   },
   {
    "duration": 13,
    "start_time": "2022-04-27T16:20:51.672Z"
   },
   {
    "duration": 40,
    "start_time": "2022-04-27T16:20:51.687Z"
   },
   {
    "duration": 15,
    "start_time": "2022-04-27T16:20:51.729Z"
   },
   {
    "duration": 26,
    "start_time": "2022-04-27T16:20:51.747Z"
   },
   {
    "duration": 26,
    "start_time": "2022-04-27T16:20:51.775Z"
   },
   {
    "duration": 8,
    "start_time": "2022-04-27T16:20:51.803Z"
   },
   {
    "duration": 9,
    "start_time": "2022-04-27T16:20:51.819Z"
   },
   {
    "duration": 32,
    "start_time": "2022-04-27T16:20:51.830Z"
   },
   {
    "duration": 26,
    "start_time": "2022-04-27T16:20:51.865Z"
   },
   {
    "duration": 37,
    "start_time": "2022-04-27T16:20:51.893Z"
   },
   {
    "duration": 20,
    "start_time": "2022-04-27T16:20:51.932Z"
   },
   {
    "duration": 16,
    "start_time": "2022-04-27T16:20:51.954Z"
   },
   {
    "duration": 15,
    "start_time": "2022-04-27T16:20:51.972Z"
   },
   {
    "duration": 8,
    "start_time": "2022-04-27T16:20:51.989Z"
   },
   {
    "duration": 6,
    "start_time": "2022-04-27T16:20:52.025Z"
   },
   {
    "duration": 8,
    "start_time": "2022-04-27T16:20:52.040Z"
   },
   {
    "duration": 15,
    "start_time": "2022-04-27T16:20:52.050Z"
   },
   {
    "duration": 22,
    "start_time": "2022-04-27T16:20:52.068Z"
   },
   {
    "duration": 36,
    "start_time": "2022-04-27T16:20:52.093Z"
   },
   {
    "duration": 14,
    "start_time": "2022-04-27T16:20:52.132Z"
   },
   {
    "duration": 13,
    "start_time": "2022-04-27T16:20:52.148Z"
   },
   {
    "duration": 9,
    "start_time": "2022-04-27T16:20:52.163Z"
   },
   {
    "duration": 9,
    "start_time": "2022-04-27T16:20:52.175Z"
   },
   {
    "duration": 48,
    "start_time": "2022-04-27T16:20:52.186Z"
   },
   {
    "duration": 22,
    "start_time": "2022-04-27T16:20:52.237Z"
   },
   {
    "duration": 8,
    "start_time": "2022-04-27T16:20:52.261Z"
   },
   {
    "duration": 61,
    "start_time": "2022-04-27T16:20:52.272Z"
   },
   {
    "duration": 28,
    "start_time": "2022-04-27T16:20:52.335Z"
   },
   {
    "duration": 32,
    "start_time": "2022-04-27T16:20:52.366Z"
   },
   {
    "duration": 32,
    "start_time": "2022-04-27T16:20:52.401Z"
   },
   {
    "duration": 26,
    "start_time": "2022-04-27T16:20:52.436Z"
   },
   {
    "duration": 34,
    "start_time": "2022-04-27T16:20:52.465Z"
   },
   {
    "duration": 54,
    "start_time": "2022-04-27T16:20:52.502Z"
   },
   {
    "duration": 1115,
    "start_time": "2022-04-27T16:20:52.559Z"
   },
   {
    "duration": 14,
    "start_time": "2022-04-27T16:20:53.677Z"
   },
   {
    "duration": 39,
    "start_time": "2022-04-27T16:20:53.693Z"
   },
   {
    "duration": 10,
    "start_time": "2022-04-27T16:20:53.735Z"
   },
   {
    "duration": 20,
    "start_time": "2022-04-27T16:20:53.748Z"
   },
   {
    "duration": 299,
    "start_time": "2022-04-27T16:20:53.770Z"
   },
   {
    "duration": 23,
    "start_time": "2022-04-27T16:20:54.071Z"
   },
   {
    "duration": 46,
    "start_time": "2022-04-27T16:20:54.097Z"
   },
   {
    "duration": 64,
    "start_time": "2022-04-27T16:20:54.146Z"
   },
   {
    "duration": 44,
    "start_time": "2022-04-27T16:20:54.213Z"
   },
   {
    "duration": 11,
    "start_time": "2022-04-27T16:20:54.260Z"
   },
   {
    "duration": 31,
    "start_time": "2022-04-27T16:20:54.274Z"
   },
   {
    "duration": 18,
    "start_time": "2022-04-27T16:20:54.308Z"
   },
   {
    "duration": 258,
    "start_time": "2022-04-27T16:20:54.328Z"
   },
   {
    "duration": 24,
    "start_time": "2022-04-27T16:20:54.589Z"
   },
   {
    "duration": 34,
    "start_time": "2022-04-27T16:20:54.616Z"
   },
   {
    "duration": 258,
    "start_time": "2022-04-27T16:20:54.652Z"
   },
   {
    "duration": 33,
    "start_time": "2022-04-27T16:20:54.914Z"
   },
   {
    "duration": 311,
    "start_time": "2022-04-27T16:20:54.950Z"
   },
   {
    "duration": 11,
    "start_time": "2022-04-27T16:20:55.263Z"
   },
   {
    "duration": 29,
    "start_time": "2022-04-27T16:20:55.277Z"
   },
   {
    "duration": 546,
    "start_time": "2022-04-27T16:20:55.324Z"
   },
   {
    "duration": 10,
    "start_time": "2022-04-27T16:20:55.873Z"
   },
   {
    "duration": 16,
    "start_time": "2022-04-27T16:20:55.886Z"
   },
   {
    "duration": 459,
    "start_time": "2022-04-27T16:20:55.904Z"
   },
   {
    "duration": 21,
    "start_time": "2022-04-27T16:20:56.365Z"
   },
   {
    "duration": 8,
    "start_time": "2022-04-27T16:20:56.388Z"
   },
   {
    "duration": 33,
    "start_time": "2022-04-27T16:20:56.399Z"
   },
   {
    "duration": 14,
    "start_time": "2022-04-27T16:20:56.436Z"
   },
   {
    "duration": 27,
    "start_time": "2022-04-27T16:20:56.453Z"
   },
   {
    "duration": 62,
    "start_time": "2022-04-27T16:20:56.483Z"
   },
   {
    "duration": 12,
    "start_time": "2022-04-27T16:20:56.548Z"
   },
   {
    "duration": 23,
    "start_time": "2022-04-27T16:20:56.563Z"
   },
   {
    "duration": 51,
    "start_time": "2022-04-27T16:20:56.588Z"
   },
   {
    "duration": 11,
    "start_time": "2022-04-27T16:20:56.641Z"
   },
   {
    "duration": 22,
    "start_time": "2022-04-27T16:20:56.654Z"
   },
   {
    "duration": 47,
    "start_time": "2022-04-27T16:20:56.685Z"
   },
   {
    "duration": 13,
    "start_time": "2022-04-27T16:20:56.735Z"
   },
   {
    "duration": 16,
    "start_time": "2022-04-27T16:20:56.750Z"
   },
   {
    "duration": 11,
    "start_time": "2022-04-27T16:20:56.769Z"
   },
   {
    "duration": 50,
    "start_time": "2022-04-27T16:20:56.783Z"
   },
   {
    "duration": 33,
    "start_time": "2022-04-27T16:20:56.836Z"
   },
   {
    "duration": 53,
    "start_time": "2022-04-27T16:20:56.872Z"
   },
   {
    "duration": 36,
    "start_time": "2022-04-27T16:20:56.927Z"
   },
   {
    "duration": 18,
    "start_time": "2022-04-27T16:20:56.966Z"
   },
   {
    "duration": 49,
    "start_time": "2022-04-27T16:20:56.987Z"
   },
   {
    "duration": 309,
    "start_time": "2022-04-27T16:20:57.039Z"
   },
   {
    "duration": 7,
    "start_time": "2022-04-27T16:20:57.351Z"
   },
   {
    "duration": 11,
    "start_time": "2022-04-27T16:20:57.361Z"
   },
   {
    "duration": 14,
    "start_time": "2022-04-27T16:20:57.374Z"
   },
   {
    "duration": 55,
    "start_time": "2022-04-27T16:20:57.390Z"
   },
   {
    "duration": 300,
    "start_time": "2022-04-27T16:20:57.448Z"
   },
   {
    "duration": 6,
    "start_time": "2022-04-27T16:20:57.751Z"
   },
   {
    "duration": 11,
    "start_time": "2022-04-27T16:20:57.760Z"
   },
   {
    "duration": 9,
    "start_time": "2022-04-27T16:20:57.773Z"
   },
   {
    "duration": 47,
    "start_time": "2022-04-27T16:20:57.784Z"
   },
   {
    "duration": 223,
    "start_time": "2022-04-27T16:20:57.834Z"
   },
   {
    "duration": 6,
    "start_time": "2022-04-27T16:20:58.059Z"
   },
   {
    "duration": 13,
    "start_time": "2022-04-27T16:20:58.067Z"
   },
   {
    "duration": 242,
    "start_time": "2022-04-27T16:20:58.082Z"
   },
   {
    "duration": 6,
    "start_time": "2022-04-27T16:20:58.327Z"
   },
   {
    "duration": 9,
    "start_time": "2022-04-27T16:20:58.336Z"
   },
   {
    "duration": 8,
    "start_time": "2022-04-27T16:20:58.348Z"
   },
   {
    "duration": 11,
    "start_time": "2022-04-27T16:21:21.096Z"
   },
   {
    "duration": 11,
    "start_time": "2022-04-27T16:21:21.921Z"
   },
   {
    "duration": 337,
    "start_time": "2022-04-27T16:21:28.075Z"
   },
   {
    "duration": 1591,
    "start_time": "2022-04-27T16:21:37.010Z"
   },
   {
    "duration": 57,
    "start_time": "2022-04-27T16:21:38.603Z"
   },
   {
    "duration": 27,
    "start_time": "2022-04-27T16:21:38.662Z"
   },
   {
    "duration": 39,
    "start_time": "2022-04-27T16:21:38.692Z"
   },
   {
    "duration": 9,
    "start_time": "2022-04-27T16:21:38.733Z"
   },
   {
    "duration": 10,
    "start_time": "2022-04-27T16:21:38.744Z"
   },
   {
    "duration": 12,
    "start_time": "2022-04-27T16:21:38.756Z"
   },
   {
    "duration": 22,
    "start_time": "2022-04-27T16:21:38.770Z"
   },
   {
    "duration": 13,
    "start_time": "2022-04-27T16:21:38.825Z"
   },
   {
    "duration": 19,
    "start_time": "2022-04-27T16:21:38.844Z"
   },
   {
    "duration": 26,
    "start_time": "2022-04-27T16:21:38.868Z"
   },
   {
    "duration": 36,
    "start_time": "2022-04-27T16:21:38.896Z"
   },
   {
    "duration": 16,
    "start_time": "2022-04-27T16:21:38.935Z"
   },
   {
    "duration": 12,
    "start_time": "2022-04-27T16:21:38.954Z"
   },
   {
    "duration": 15,
    "start_time": "2022-04-27T16:21:38.969Z"
   },
   {
    "duration": 44,
    "start_time": "2022-04-27T16:21:38.986Z"
   },
   {
    "duration": 12,
    "start_time": "2022-04-27T16:21:39.032Z"
   },
   {
    "duration": 7,
    "start_time": "2022-04-27T16:21:39.046Z"
   },
   {
    "duration": 10,
    "start_time": "2022-04-27T16:21:39.055Z"
   },
   {
    "duration": 61,
    "start_time": "2022-04-27T16:21:39.067Z"
   },
   {
    "duration": 23,
    "start_time": "2022-04-27T16:21:39.131Z"
   },
   {
    "duration": 21,
    "start_time": "2022-04-27T16:21:39.157Z"
   },
   {
    "duration": 16,
    "start_time": "2022-04-27T16:21:39.180Z"
   },
   {
    "duration": 31,
    "start_time": "2022-04-27T16:21:39.199Z"
   },
   {
    "duration": 21,
    "start_time": "2022-04-27T16:21:39.232Z"
   },
   {
    "duration": 10,
    "start_time": "2022-04-27T16:21:39.256Z"
   },
   {
    "duration": 7,
    "start_time": "2022-04-27T16:21:39.269Z"
   },
   {
    "duration": 42,
    "start_time": "2022-04-27T16:21:39.283Z"
   },
   {
    "duration": 21,
    "start_time": "2022-04-27T16:21:39.328Z"
   },
   {
    "duration": 15,
    "start_time": "2022-04-27T16:21:39.351Z"
   },
   {
    "duration": 8,
    "start_time": "2022-04-27T16:21:39.368Z"
   },
   {
    "duration": 10,
    "start_time": "2022-04-27T16:21:39.379Z"
   },
   {
    "duration": 36,
    "start_time": "2022-04-27T16:21:39.392Z"
   },
   {
    "duration": 7,
    "start_time": "2022-04-27T16:21:39.431Z"
   },
   {
    "duration": 7,
    "start_time": "2022-04-27T16:21:39.441Z"
   },
   {
    "duration": 24,
    "start_time": "2022-04-27T16:21:39.450Z"
   },
   {
    "duration": 59,
    "start_time": "2022-04-27T16:21:39.477Z"
   },
   {
    "duration": 8,
    "start_time": "2022-04-27T16:21:39.538Z"
   },
   {
    "duration": 33,
    "start_time": "2022-04-27T16:21:39.549Z"
   },
   {
    "duration": 56,
    "start_time": "2022-04-27T16:21:39.584Z"
   },
   {
    "duration": 18,
    "start_time": "2022-04-27T16:21:39.642Z"
   },
   {
    "duration": 13,
    "start_time": "2022-04-27T16:21:39.662Z"
   },
   {
    "duration": 54,
    "start_time": "2022-04-27T16:21:39.678Z"
   },
   {
    "duration": 27,
    "start_time": "2022-04-27T16:21:39.735Z"
   },
   {
    "duration": 66,
    "start_time": "2022-04-27T16:21:39.765Z"
   },
   {
    "duration": 1645,
    "start_time": "2022-04-27T16:21:39.834Z"
   },
   {
    "duration": 18,
    "start_time": "2022-04-27T16:21:41.482Z"
   },
   {
    "duration": 39,
    "start_time": "2022-04-27T16:21:41.503Z"
   },
   {
    "duration": 9,
    "start_time": "2022-04-27T16:21:41.544Z"
   },
   {
    "duration": 21,
    "start_time": "2022-04-27T16:21:41.556Z"
   },
   {
    "duration": 427,
    "start_time": "2022-04-27T16:21:41.580Z"
   },
   {
    "duration": 34,
    "start_time": "2022-04-27T16:21:42.010Z"
   },
   {
    "duration": 36,
    "start_time": "2022-04-27T16:21:42.047Z"
   },
   {
    "duration": 46,
    "start_time": "2022-04-27T16:21:42.086Z"
   },
   {
    "duration": 22,
    "start_time": "2022-04-27T16:21:42.135Z"
   },
   {
    "duration": 11,
    "start_time": "2022-04-27T16:21:42.160Z"
   },
   {
    "duration": 58,
    "start_time": "2022-04-27T16:21:42.173Z"
   },
   {
    "duration": 8,
    "start_time": "2022-04-27T16:21:42.234Z"
   },
   {
    "duration": 369,
    "start_time": "2022-04-27T16:21:42.244Z"
   },
   {
    "duration": 32,
    "start_time": "2022-04-27T16:21:42.616Z"
   },
   {
    "duration": 29,
    "start_time": "2022-04-27T16:21:42.651Z"
   },
   {
    "duration": 379,
    "start_time": "2022-04-27T16:21:42.683Z"
   },
   {
    "duration": 1943,
    "start_time": "2022-04-27T16:21:43.065Z"
   },
   {
    "duration": 419,
    "start_time": "2022-04-27T16:21:45.012Z"
   },
   {
    "duration": 9,
    "start_time": "2022-04-27T16:21:45.434Z"
   },
   {
    "duration": 27,
    "start_time": "2022-04-27T16:21:45.445Z"
   },
   {
    "duration": 401,
    "start_time": "2022-04-27T16:21:45.474Z"
   },
   {
    "duration": 12,
    "start_time": "2022-04-27T16:21:45.878Z"
   },
   {
    "duration": 15,
    "start_time": "2022-04-27T16:21:45.892Z"
   },
   {
    "duration": 339,
    "start_time": "2022-04-27T16:21:45.926Z"
   },
   {
    "duration": 17,
    "start_time": "2022-04-27T16:21:46.267Z"
   },
   {
    "duration": 7,
    "start_time": "2022-04-27T16:21:46.286Z"
   },
   {
    "duration": 40,
    "start_time": "2022-04-27T16:21:46.295Z"
   },
   {
    "duration": 8,
    "start_time": "2022-04-27T16:21:46.338Z"
   },
   {
    "duration": 21,
    "start_time": "2022-04-27T16:21:46.348Z"
   },
   {
    "duration": 55,
    "start_time": "2022-04-27T16:21:46.372Z"
   },
   {
    "duration": 9,
    "start_time": "2022-04-27T16:21:46.430Z"
   },
   {
    "duration": 25,
    "start_time": "2022-04-27T16:21:46.442Z"
   },
   {
    "duration": 53,
    "start_time": "2022-04-27T16:21:46.470Z"
   },
   {
    "duration": 9,
    "start_time": "2022-04-27T16:21:46.526Z"
   },
   {
    "duration": 30,
    "start_time": "2022-04-27T16:21:46.537Z"
   },
   {
    "duration": 50,
    "start_time": "2022-04-27T16:21:46.576Z"
   },
   {
    "duration": 7,
    "start_time": "2022-04-27T16:21:46.628Z"
   },
   {
    "duration": 12,
    "start_time": "2022-04-27T16:21:46.638Z"
   },
   {
    "duration": 26,
    "start_time": "2022-04-27T16:21:46.652Z"
   },
   {
    "duration": 20,
    "start_time": "2022-04-27T16:21:46.680Z"
   },
   {
    "duration": 48,
    "start_time": "2022-04-27T16:21:46.703Z"
   },
   {
    "duration": 25,
    "start_time": "2022-04-27T16:21:46.755Z"
   },
   {
    "duration": 51,
    "start_time": "2022-04-27T16:21:46.783Z"
   },
   {
    "duration": 13,
    "start_time": "2022-04-27T16:21:46.837Z"
   },
   {
    "duration": 37,
    "start_time": "2022-04-27T16:21:46.852Z"
   },
   {
    "duration": 354,
    "start_time": "2022-04-27T16:21:46.892Z"
   },
   {
    "duration": 5,
    "start_time": "2022-04-27T16:21:47.249Z"
   },
   {
    "duration": 10,
    "start_time": "2022-04-27T16:21:47.256Z"
   },
   {
    "duration": 13,
    "start_time": "2022-04-27T16:21:47.269Z"
   },
   {
    "duration": 53,
    "start_time": "2022-04-27T16:21:47.284Z"
   },
   {
    "duration": 321,
    "start_time": "2022-04-27T16:21:47.339Z"
   },
   {
    "duration": 5,
    "start_time": "2022-04-27T16:21:47.663Z"
   },
   {
    "duration": 12,
    "start_time": "2022-04-27T16:21:47.671Z"
   },
   {
    "duration": 9,
    "start_time": "2022-04-27T16:21:47.686Z"
   },
   {
    "duration": 13,
    "start_time": "2022-04-27T16:21:47.725Z"
   },
   {
    "duration": 229,
    "start_time": "2022-04-27T16:21:47.741Z"
   },
   {
    "duration": 6,
    "start_time": "2022-04-27T16:21:47.972Z"
   },
   {
    "duration": 10,
    "start_time": "2022-04-27T16:21:47.981Z"
   },
   {
    "duration": 242,
    "start_time": "2022-04-27T16:21:47.993Z"
   },
   {
    "duration": 6,
    "start_time": "2022-04-27T16:21:48.237Z"
   },
   {
    "duration": 7,
    "start_time": "2022-04-27T16:21:48.246Z"
   },
   {
    "duration": 7,
    "start_time": "2022-04-27T16:21:48.256Z"
   },
   {
    "duration": 26,
    "start_time": "2022-04-27T16:24:44.333Z"
   },
   {
    "duration": 24,
    "start_time": "2022-04-27T16:24:58.044Z"
   },
   {
    "duration": 28,
    "start_time": "2022-04-27T16:25:12.864Z"
   },
   {
    "duration": 2194,
    "start_time": "2022-04-27T16:28:24.469Z"
   },
   {
    "duration": 55,
    "start_time": "2022-04-27T16:28:26.666Z"
   },
   {
    "duration": 38,
    "start_time": "2022-04-27T16:28:26.730Z"
   },
   {
    "duration": 56,
    "start_time": "2022-04-27T16:28:26.772Z"
   },
   {
    "duration": 9,
    "start_time": "2022-04-27T16:28:26.830Z"
   },
   {
    "duration": 19,
    "start_time": "2022-04-27T16:28:26.842Z"
   },
   {
    "duration": 9,
    "start_time": "2022-04-27T16:28:26.863Z"
   },
   {
    "duration": 58,
    "start_time": "2022-04-27T16:28:26.875Z"
   },
   {
    "duration": 19,
    "start_time": "2022-04-27T16:28:26.936Z"
   },
   {
    "duration": 16,
    "start_time": "2022-04-27T16:28:26.959Z"
   },
   {
    "duration": 71,
    "start_time": "2022-04-27T16:28:26.978Z"
   },
   {
    "duration": 14,
    "start_time": "2022-04-27T16:28:27.053Z"
   },
   {
    "duration": 35,
    "start_time": "2022-04-27T16:28:27.070Z"
   },
   {
    "duration": 18,
    "start_time": "2022-04-27T16:28:27.107Z"
   },
   {
    "duration": 53,
    "start_time": "2022-04-27T16:28:27.128Z"
   },
   {
    "duration": 10,
    "start_time": "2022-04-27T16:28:27.184Z"
   },
   {
    "duration": 11,
    "start_time": "2022-04-27T16:28:27.197Z"
   },
   {
    "duration": 6,
    "start_time": "2022-04-27T16:28:27.211Z"
   },
   {
    "duration": 50,
    "start_time": "2022-04-27T16:28:27.220Z"
   },
   {
    "duration": 30,
    "start_time": "2022-04-27T16:28:27.274Z"
   },
   {
    "duration": 28,
    "start_time": "2022-04-27T16:28:27.308Z"
   },
   {
    "duration": 30,
    "start_time": "2022-04-27T16:28:27.339Z"
   },
   {
    "duration": 24,
    "start_time": "2022-04-27T16:28:27.372Z"
   },
   {
    "duration": 8,
    "start_time": "2022-04-27T16:28:27.399Z"
   },
   {
    "duration": 24,
    "start_time": "2022-04-27T16:28:27.410Z"
   },
   {
    "duration": 32,
    "start_time": "2022-04-27T16:28:27.437Z"
   },
   {
    "duration": 28,
    "start_time": "2022-04-27T16:28:27.472Z"
   },
   {
    "duration": 7,
    "start_time": "2022-04-27T16:28:27.512Z"
   },
   {
    "duration": 27,
    "start_time": "2022-04-27T16:28:27.521Z"
   },
   {
    "duration": 32,
    "start_time": "2022-04-27T16:28:27.552Z"
   },
   {
    "duration": 12,
    "start_time": "2022-04-27T16:28:27.587Z"
   },
   {
    "duration": 14,
    "start_time": "2022-04-27T16:28:27.601Z"
   },
   {
    "duration": 36,
    "start_time": "2022-04-27T16:28:27.617Z"
   },
   {
    "duration": 10,
    "start_time": "2022-04-27T16:28:27.656Z"
   },
   {
    "duration": 16,
    "start_time": "2022-04-27T16:28:27.669Z"
   },
   {
    "duration": 27,
    "start_time": "2022-04-27T16:28:27.688Z"
   },
   {
    "duration": 25,
    "start_time": "2022-04-27T16:28:27.717Z"
   },
   {
    "duration": 7,
    "start_time": "2022-04-27T16:28:27.745Z"
   },
   {
    "duration": 38,
    "start_time": "2022-04-27T16:28:27.755Z"
   },
   {
    "duration": 47,
    "start_time": "2022-04-27T16:28:27.796Z"
   },
   {
    "duration": 31,
    "start_time": "2022-04-27T16:28:27.846Z"
   },
   {
    "duration": 14,
    "start_time": "2022-04-27T16:28:27.880Z"
   },
   {
    "duration": 58,
    "start_time": "2022-04-27T16:28:27.897Z"
   },
   {
    "duration": 28,
    "start_time": "2022-04-27T16:28:27.958Z"
   },
   {
    "duration": 80,
    "start_time": "2022-04-27T16:28:27.990Z"
   },
   {
    "duration": 1545,
    "start_time": "2022-04-27T16:28:28.073Z"
   },
   {
    "duration": 19,
    "start_time": "2022-04-27T16:28:29.620Z"
   },
   {
    "duration": 31,
    "start_time": "2022-04-27T16:28:29.642Z"
   },
   {
    "duration": 9,
    "start_time": "2022-04-27T16:28:29.676Z"
   },
   {
    "duration": 55,
    "start_time": "2022-04-27T16:28:29.687Z"
   },
   {
    "duration": 465,
    "start_time": "2022-04-27T16:28:29.745Z"
   },
   {
    "duration": 44,
    "start_time": "2022-04-27T16:28:30.214Z"
   },
   {
    "duration": 50,
    "start_time": "2022-04-27T16:28:30.261Z"
   },
   {
    "duration": 70,
    "start_time": "2022-04-27T16:28:30.326Z"
   },
   {
    "duration": 45,
    "start_time": "2022-04-27T16:28:30.399Z"
   },
   {
    "duration": 20,
    "start_time": "2022-04-27T16:28:30.447Z"
   },
   {
    "duration": 38,
    "start_time": "2022-04-27T16:28:30.470Z"
   },
   {
    "duration": 27,
    "start_time": "2022-04-27T16:28:30.511Z"
   },
   {
    "duration": 374,
    "start_time": "2022-04-27T16:28:30.542Z"
   },
   {
    "duration": 29,
    "start_time": "2022-04-27T16:28:30.919Z"
   },
   {
    "duration": 36,
    "start_time": "2022-04-27T16:28:30.951Z"
   },
   {
    "duration": 277,
    "start_time": "2022-04-27T16:28:30.990Z"
   },
   {
    "duration": 33,
    "start_time": "2022-04-27T16:28:31.270Z"
   },
   {
    "duration": 340,
    "start_time": "2022-04-27T16:28:31.306Z"
   },
   {
    "duration": 10,
    "start_time": "2022-04-27T16:28:31.649Z"
   },
   {
    "duration": 46,
    "start_time": "2022-04-27T16:28:31.662Z"
   },
   {
    "duration": 440,
    "start_time": "2022-04-27T16:28:31.711Z"
   },
   {
    "duration": 13,
    "start_time": "2022-04-27T16:28:32.154Z"
   },
   {
    "duration": 20,
    "start_time": "2022-04-27T16:28:32.170Z"
   },
   {
    "duration": 468,
    "start_time": "2022-04-27T16:28:32.193Z"
   },
   {
    "duration": 18,
    "start_time": "2022-04-27T16:28:32.664Z"
   },
   {
    "duration": 7,
    "start_time": "2022-04-27T16:28:32.685Z"
   },
   {
    "duration": 66,
    "start_time": "2022-04-27T16:28:32.696Z"
   },
   {
    "duration": 14,
    "start_time": "2022-04-27T16:28:32.766Z"
   },
   {
    "duration": 22,
    "start_time": "2022-04-27T16:28:32.783Z"
   },
   {
    "duration": 43,
    "start_time": "2022-04-27T16:28:32.808Z"
   },
   {
    "duration": 10,
    "start_time": "2022-04-27T16:28:32.854Z"
   },
   {
    "duration": 28,
    "start_time": "2022-04-27T16:28:32.867Z"
   },
   {
    "duration": 48,
    "start_time": "2022-04-27T16:28:32.898Z"
   },
   {
    "duration": 16,
    "start_time": "2022-04-27T16:28:32.948Z"
   },
   {
    "duration": 34,
    "start_time": "2022-04-27T16:28:32.966Z"
   },
   {
    "duration": 25,
    "start_time": "2022-04-27T16:28:33.031Z"
   },
   {
    "duration": 14,
    "start_time": "2022-04-27T16:28:33.060Z"
   },
   {
    "duration": 22,
    "start_time": "2022-04-27T16:28:33.077Z"
   },
   {
    "duration": 8,
    "start_time": "2022-04-27T16:28:33.127Z"
   },
   {
    "duration": 16,
    "start_time": "2022-04-27T16:28:33.138Z"
   },
   {
    "duration": 25,
    "start_time": "2022-04-27T16:28:33.157Z"
   },
   {
    "duration": 55,
    "start_time": "2022-04-27T16:28:33.185Z"
   },
   {
    "duration": 30,
    "start_time": "2022-04-27T16:28:33.243Z"
   },
   {
    "duration": 15,
    "start_time": "2022-04-27T16:28:33.276Z"
   },
   {
    "duration": 55,
    "start_time": "2022-04-27T16:28:33.293Z"
   },
   {
    "duration": 233,
    "start_time": "2022-04-27T16:28:33.352Z"
   },
   {
    "duration": 6,
    "start_time": "2022-04-27T16:28:33.588Z"
   },
   {
    "duration": 27,
    "start_time": "2022-04-27T16:28:33.596Z"
   },
   {
    "duration": 12,
    "start_time": "2022-04-27T16:28:33.626Z"
   },
   {
    "duration": 35,
    "start_time": "2022-04-27T16:28:33.641Z"
   },
   {
    "duration": 249,
    "start_time": "2022-04-27T16:28:33.678Z"
   },
   {
    "duration": 6,
    "start_time": "2022-04-27T16:28:33.930Z"
   },
   {
    "duration": 16,
    "start_time": "2022-04-27T16:28:33.939Z"
   },
   {
    "duration": 14,
    "start_time": "2022-04-27T16:28:33.958Z"
   },
   {
    "duration": 50,
    "start_time": "2022-04-27T16:28:33.975Z"
   },
   {
    "duration": 318,
    "start_time": "2022-04-27T16:28:34.028Z"
   },
   {
    "duration": 6,
    "start_time": "2022-04-27T16:28:34.349Z"
   },
   {
    "duration": 17,
    "start_time": "2022-04-27T16:28:34.358Z"
   },
   {
    "duration": 339,
    "start_time": "2022-04-27T16:28:34.378Z"
   },
   {
    "duration": 10,
    "start_time": "2022-04-27T16:28:34.720Z"
   },
   {
    "duration": 17,
    "start_time": "2022-04-27T16:28:34.732Z"
   },
   {
    "duration": 12,
    "start_time": "2022-04-27T16:28:34.751Z"
   },
   {
    "duration": 1622,
    "start_time": "2022-04-27T16:45:25.915Z"
   },
   {
    "duration": 53,
    "start_time": "2022-04-27T16:45:27.540Z"
   },
   {
    "duration": 36,
    "start_time": "2022-04-27T16:45:27.595Z"
   },
   {
    "duration": 24,
    "start_time": "2022-04-27T16:45:27.635Z"
   },
   {
    "duration": 17,
    "start_time": "2022-04-27T16:45:27.661Z"
   },
   {
    "duration": 20,
    "start_time": "2022-04-27T16:45:27.680Z"
   },
   {
    "duration": 23,
    "start_time": "2022-04-27T16:45:27.703Z"
   },
   {
    "duration": 44,
    "start_time": "2022-04-27T16:45:27.728Z"
   },
   {
    "duration": 26,
    "start_time": "2022-04-27T16:45:27.775Z"
   },
   {
    "duration": 27,
    "start_time": "2022-04-27T16:45:27.807Z"
   },
   {
    "duration": 37,
    "start_time": "2022-04-27T16:45:27.837Z"
   },
   {
    "duration": 17,
    "start_time": "2022-04-27T16:45:27.877Z"
   },
   {
    "duration": 22,
    "start_time": "2022-04-27T16:45:27.896Z"
   },
   {
    "duration": 26,
    "start_time": "2022-04-27T16:45:27.921Z"
   },
   {
    "duration": 20,
    "start_time": "2022-04-27T16:45:27.949Z"
   },
   {
    "duration": 24,
    "start_time": "2022-04-27T16:45:27.971Z"
   },
   {
    "duration": 31,
    "start_time": "2022-04-27T16:45:27.997Z"
   },
   {
    "duration": 18,
    "start_time": "2022-04-27T16:45:28.031Z"
   },
   {
    "duration": 29,
    "start_time": "2022-04-27T16:45:28.051Z"
   },
   {
    "duration": 31,
    "start_time": "2022-04-27T16:45:28.082Z"
   },
   {
    "duration": 20,
    "start_time": "2022-04-27T16:45:28.116Z"
   },
   {
    "duration": 16,
    "start_time": "2022-04-27T16:45:28.139Z"
   },
   {
    "duration": 25,
    "start_time": "2022-04-27T16:45:28.157Z"
   },
   {
    "duration": 14,
    "start_time": "2022-04-27T16:45:28.185Z"
   },
   {
    "duration": 30,
    "start_time": "2022-04-27T16:45:28.202Z"
   },
   {
    "duration": 26,
    "start_time": "2022-04-27T16:45:28.234Z"
   },
   {
    "duration": 18,
    "start_time": "2022-04-27T16:45:28.262Z"
   },
   {
    "duration": 22,
    "start_time": "2022-04-27T16:45:28.286Z"
   },
   {
    "duration": 20,
    "start_time": "2022-04-27T16:45:28.310Z"
   },
   {
    "duration": 40,
    "start_time": "2022-04-27T16:45:28.332Z"
   },
   {
    "duration": 24,
    "start_time": "2022-04-27T16:45:28.374Z"
   },
   {
    "duration": 25,
    "start_time": "2022-04-27T16:45:28.401Z"
   },
   {
    "duration": 23,
    "start_time": "2022-04-27T16:45:28.428Z"
   },
   {
    "duration": 19,
    "start_time": "2022-04-27T16:45:28.454Z"
   },
   {
    "duration": 19,
    "start_time": "2022-04-27T16:45:28.476Z"
   },
   {
    "duration": 41,
    "start_time": "2022-04-27T16:45:28.498Z"
   },
   {
    "duration": 48,
    "start_time": "2022-04-27T16:45:28.542Z"
   },
   {
    "duration": 14,
    "start_time": "2022-04-27T16:45:28.593Z"
   },
   {
    "duration": 104,
    "start_time": "2022-04-27T16:45:28.610Z"
   },
   {
    "duration": 48,
    "start_time": "2022-04-27T16:45:28.717Z"
   },
   {
    "duration": 25,
    "start_time": "2022-04-27T16:45:28.768Z"
   },
   {
    "duration": 11,
    "start_time": "2022-04-27T16:45:28.796Z"
   },
   {
    "duration": 40,
    "start_time": "2022-04-27T16:45:28.809Z"
   },
   {
    "duration": 53,
    "start_time": "2022-04-27T16:45:28.852Z"
   },
   {
    "duration": 36,
    "start_time": "2022-04-27T16:45:28.908Z"
   },
   {
    "duration": 1087,
    "start_time": "2022-04-27T16:45:28.947Z"
   },
   {
    "duration": 14,
    "start_time": "2022-04-27T16:45:30.037Z"
   },
   {
    "duration": 50,
    "start_time": "2022-04-27T16:45:30.053Z"
   },
   {
    "duration": 46,
    "start_time": "2022-04-27T16:45:30.105Z"
   },
   {
    "duration": 40,
    "start_time": "2022-04-27T16:45:30.153Z"
   },
   {
    "duration": 312,
    "start_time": "2022-04-27T16:45:30.195Z"
   },
   {
    "duration": 32,
    "start_time": "2022-04-27T16:45:30.509Z"
   },
   {
    "duration": 44,
    "start_time": "2022-04-27T16:45:30.543Z"
   },
   {
    "duration": 49,
    "start_time": "2022-04-27T16:45:30.589Z"
   },
   {
    "duration": 43,
    "start_time": "2022-04-27T16:45:30.640Z"
   },
   {
    "duration": 9,
    "start_time": "2022-04-27T16:45:30.686Z"
   },
   {
    "duration": 29,
    "start_time": "2022-04-27T16:45:30.698Z"
   },
   {
    "duration": 28,
    "start_time": "2022-04-27T16:45:30.730Z"
   },
   {
    "duration": 261,
    "start_time": "2022-04-27T16:45:30.761Z"
   },
   {
    "duration": 26,
    "start_time": "2022-04-27T16:45:31.025Z"
   },
   {
    "duration": 44,
    "start_time": "2022-04-27T16:45:31.054Z"
   },
   {
    "duration": 250,
    "start_time": "2022-04-27T16:45:31.101Z"
   },
   {
    "duration": 29,
    "start_time": "2022-04-27T16:45:31.354Z"
   },
   {
    "duration": 312,
    "start_time": "2022-04-27T16:45:31.386Z"
   },
   {
    "duration": 9,
    "start_time": "2022-04-27T16:45:31.701Z"
   },
   {
    "duration": 32,
    "start_time": "2022-04-27T16:45:31.712Z"
   },
   {
    "duration": 400,
    "start_time": "2022-04-27T16:45:31.747Z"
   },
   {
    "duration": 10,
    "start_time": "2022-04-27T16:45:32.149Z"
   },
   {
    "duration": 10,
    "start_time": "2022-04-27T16:45:32.161Z"
   },
   {
    "duration": 337,
    "start_time": "2022-04-27T16:45:32.173Z"
   },
   {
    "duration": 26,
    "start_time": "2022-04-27T16:45:32.512Z"
   },
   {
    "duration": 7,
    "start_time": "2022-04-27T16:45:32.540Z"
   },
   {
    "duration": 18,
    "start_time": "2022-04-27T16:45:32.549Z"
   },
   {
    "duration": 10,
    "start_time": "2022-04-27T16:45:32.570Z"
   },
   {
    "duration": 56,
    "start_time": "2022-04-27T16:45:32.583Z"
   },
   {
    "duration": 24,
    "start_time": "2022-04-27T16:45:32.642Z"
   },
   {
    "duration": 9,
    "start_time": "2022-04-27T16:45:32.668Z"
   },
   {
    "duration": 55,
    "start_time": "2022-04-27T16:45:32.680Z"
   },
   {
    "duration": 22,
    "start_time": "2022-04-27T16:45:32.738Z"
   },
   {
    "duration": 17,
    "start_time": "2022-04-27T16:45:32.762Z"
   },
   {
    "duration": 45,
    "start_time": "2022-04-27T16:45:32.781Z"
   },
   {
    "duration": 22,
    "start_time": "2022-04-27T16:45:32.836Z"
   },
   {
    "duration": 12,
    "start_time": "2022-04-27T16:45:32.861Z"
   },
   {
    "duration": 11,
    "start_time": "2022-04-27T16:45:32.875Z"
   },
   {
    "duration": 43,
    "start_time": "2022-04-27T16:45:32.888Z"
   },
   {
    "duration": 11,
    "start_time": "2022-04-27T16:45:32.933Z"
   },
   {
    "duration": 22,
    "start_time": "2022-04-27T16:45:32.947Z"
   },
   {
    "duration": 21,
    "start_time": "2022-04-27T16:45:32.971Z"
   },
   {
    "duration": 22,
    "start_time": "2022-04-27T16:45:33.025Z"
   },
   {
    "duration": 13,
    "start_time": "2022-04-27T16:45:33.050Z"
   },
   {
    "duration": 19,
    "start_time": "2022-04-27T16:45:33.066Z"
   },
   {
    "duration": 244,
    "start_time": "2022-04-27T16:45:33.088Z"
   },
   {
    "duration": 7,
    "start_time": "2022-04-27T16:45:33.334Z"
   },
   {
    "duration": 10,
    "start_time": "2022-04-27T16:45:33.345Z"
   },
   {
    "duration": 21,
    "start_time": "2022-04-27T16:45:33.358Z"
   },
   {
    "duration": 55,
    "start_time": "2022-04-27T16:45:33.381Z"
   },
   {
    "duration": 218,
    "start_time": "2022-04-27T16:45:33.438Z"
   },
   {
    "duration": 6,
    "start_time": "2022-04-27T16:45:33.658Z"
   },
   {
    "duration": 16,
    "start_time": "2022-04-27T16:45:33.666Z"
   },
   {
    "duration": 12,
    "start_time": "2022-04-27T16:45:33.684Z"
   },
   {
    "duration": 15,
    "start_time": "2022-04-27T16:45:33.724Z"
   },
   {
    "duration": 230,
    "start_time": "2022-04-27T16:45:33.742Z"
   },
   {
    "duration": 6,
    "start_time": "2022-04-27T16:45:33.974Z"
   },
   {
    "duration": 17,
    "start_time": "2022-04-27T16:45:33.982Z"
   },
   {
    "duration": 236,
    "start_time": "2022-04-27T16:45:34.002Z"
   },
   {
    "duration": 6,
    "start_time": "2022-04-27T16:45:34.240Z"
   },
   {
    "duration": 14,
    "start_time": "2022-04-27T16:45:34.248Z"
   },
   {
    "duration": 10,
    "start_time": "2022-04-27T16:45:34.264Z"
   },
   {
    "duration": 45,
    "start_time": "2024-01-28T17:33:29.575Z"
   },
   {
    "duration": 1147,
    "start_time": "2024-01-28T17:33:36.124Z"
   },
   {
    "duration": 93,
    "start_time": "2024-01-28T17:33:37.273Z"
   },
   {
    "duration": 17,
    "start_time": "2024-01-28T17:33:37.367Z"
   },
   {
    "duration": 37,
    "start_time": "2024-01-28T17:33:37.385Z"
   },
   {
    "duration": 20,
    "start_time": "2024-01-28T17:33:37.424Z"
   },
   {
    "duration": 28,
    "start_time": "2024-01-28T17:33:37.445Z"
   },
   {
    "duration": 26,
    "start_time": "2024-01-28T17:33:37.474Z"
   },
   {
    "duration": 41,
    "start_time": "2024-01-28T17:33:37.501Z"
   },
   {
    "duration": 14,
    "start_time": "2024-01-28T17:33:37.544Z"
   },
   {
    "duration": 26,
    "start_time": "2024-01-28T17:33:37.561Z"
   },
   {
    "duration": 27,
    "start_time": "2024-01-28T17:33:37.588Z"
   },
   {
    "duration": 27,
    "start_time": "2024-01-28T17:33:37.617Z"
   },
   {
    "duration": 21,
    "start_time": "2024-01-28T17:33:37.645Z"
   },
   {
    "duration": 19,
    "start_time": "2024-01-28T17:33:37.668Z"
   },
   {
    "duration": 22,
    "start_time": "2024-01-28T17:33:37.688Z"
   },
   {
    "duration": 17,
    "start_time": "2024-01-28T17:33:37.711Z"
   },
   {
    "duration": 22,
    "start_time": "2024-01-28T17:33:37.730Z"
   },
   {
    "duration": 40,
    "start_time": "2024-01-28T17:33:37.754Z"
   },
   {
    "duration": 50,
    "start_time": "2024-01-28T17:33:37.795Z"
   },
   {
    "duration": 23,
    "start_time": "2024-01-28T17:33:37.847Z"
   },
   {
    "duration": 27,
    "start_time": "2024-01-28T17:33:37.871Z"
   },
   {
    "duration": 38,
    "start_time": "2024-01-28T17:33:37.900Z"
   },
   {
    "duration": 36,
    "start_time": "2024-01-28T17:33:37.939Z"
   },
   {
    "duration": 23,
    "start_time": "2024-01-28T17:33:37.977Z"
   },
   {
    "duration": 21,
    "start_time": "2024-01-28T17:33:38.001Z"
   },
   {
    "duration": 15,
    "start_time": "2024-01-28T17:33:38.023Z"
   },
   {
    "duration": 22,
    "start_time": "2024-01-28T17:33:38.040Z"
   },
   {
    "duration": 7,
    "start_time": "2024-01-28T17:33:38.066Z"
   },
   {
    "duration": 7,
    "start_time": "2024-01-28T17:33:38.074Z"
   },
   {
    "duration": 12,
    "start_time": "2024-01-28T17:33:38.082Z"
   },
   {
    "duration": 10,
    "start_time": "2024-01-28T17:33:38.095Z"
   },
   {
    "duration": 25,
    "start_time": "2024-01-28T17:33:38.107Z"
   },
   {
    "duration": 15,
    "start_time": "2024-01-28T17:33:38.134Z"
   },
   {
    "duration": 14,
    "start_time": "2024-01-28T17:33:38.150Z"
   },
   {
    "duration": 26,
    "start_time": "2024-01-28T17:33:38.166Z"
   },
   {
    "duration": 4,
    "start_time": "2024-01-28T17:33:38.193Z"
   },
   {
    "duration": 16,
    "start_time": "2024-01-28T17:33:38.198Z"
   },
   {
    "duration": 15,
    "start_time": "2024-01-28T17:33:38.216Z"
   },
   {
    "duration": 11,
    "start_time": "2024-01-28T17:33:38.233Z"
   },
   {
    "duration": 20,
    "start_time": "2024-01-28T17:33:38.245Z"
   },
   {
    "duration": 14,
    "start_time": "2024-01-28T17:33:38.267Z"
   },
   {
    "duration": 15,
    "start_time": "2024-01-28T17:33:38.282Z"
   },
   {
    "duration": 23,
    "start_time": "2024-01-28T17:33:38.298Z"
   },
   {
    "duration": 671,
    "start_time": "2024-01-28T17:33:38.322Z"
   },
   {
    "duration": 9,
    "start_time": "2024-01-28T17:33:38.994Z"
   },
   {
    "duration": 18,
    "start_time": "2024-01-28T17:33:39.005Z"
   },
   {
    "duration": 8,
    "start_time": "2024-01-28T17:33:39.024Z"
   },
   {
    "duration": 26,
    "start_time": "2024-01-28T17:33:39.033Z"
   },
   {
    "duration": 173,
    "start_time": "2024-01-28T17:33:39.060Z"
   },
   {
    "duration": 15,
    "start_time": "2024-01-28T17:33:39.235Z"
   },
   {
    "duration": 17,
    "start_time": "2024-01-28T17:33:39.266Z"
   },
   {
    "duration": 23,
    "start_time": "2024-01-28T17:33:39.284Z"
   },
   {
    "duration": 40,
    "start_time": "2024-01-28T17:33:39.308Z"
   },
   {
    "duration": 5,
    "start_time": "2024-01-28T17:33:39.350Z"
   },
   {
    "duration": 24,
    "start_time": "2024-01-28T17:33:39.357Z"
   },
   {
    "duration": 8,
    "start_time": "2024-01-28T17:33:39.383Z"
   },
   {
    "duration": 179,
    "start_time": "2024-01-28T17:33:39.393Z"
   },
   {
    "duration": 15,
    "start_time": "2024-01-28T17:33:39.574Z"
   },
   {
    "duration": 27,
    "start_time": "2024-01-28T17:33:39.591Z"
   },
   {
    "duration": 151,
    "start_time": "2024-01-28T17:33:39.619Z"
   },
   {
    "duration": 17,
    "start_time": "2024-01-28T17:33:39.772Z"
   },
   {
    "duration": 192,
    "start_time": "2024-01-28T17:33:39.791Z"
   },
   {
    "duration": 6,
    "start_time": "2024-01-28T17:33:39.985Z"
   },
   {
    "duration": 31,
    "start_time": "2024-01-28T17:33:39.992Z"
   },
   {
    "duration": 280,
    "start_time": "2024-01-28T17:33:40.025Z"
   },
   {
    "duration": 7,
    "start_time": "2024-01-28T17:33:40.306Z"
   },
   {
    "duration": 14,
    "start_time": "2024-01-28T17:33:40.315Z"
   },
   {
    "duration": 206,
    "start_time": "2024-01-28T17:33:40.331Z"
   },
   {
    "duration": 10,
    "start_time": "2024-01-28T17:33:40.538Z"
   },
   {
    "duration": 15,
    "start_time": "2024-01-28T17:33:40.550Z"
   },
   {
    "duration": 8,
    "start_time": "2024-01-28T17:33:40.567Z"
   },
   {
    "duration": 10,
    "start_time": "2024-01-28T17:33:40.576Z"
   },
   {
    "duration": 15,
    "start_time": "2024-01-28T17:33:40.587Z"
   },
   {
    "duration": 13,
    "start_time": "2024-01-28T17:33:40.603Z"
   },
   {
    "duration": 5,
    "start_time": "2024-01-28T17:33:40.617Z"
   },
   {
    "duration": 21,
    "start_time": "2024-01-28T17:33:40.624Z"
   },
   {
    "duration": 30,
    "start_time": "2024-01-28T17:33:40.646Z"
   },
   {
    "duration": 21,
    "start_time": "2024-01-28T17:33:40.678Z"
   },
   {
    "duration": 18,
    "start_time": "2024-01-28T17:33:40.700Z"
   },
   {
    "duration": 20,
    "start_time": "2024-01-28T17:33:40.719Z"
   },
   {
    "duration": 14,
    "start_time": "2024-01-28T17:33:40.741Z"
   },
   {
    "duration": 11,
    "start_time": "2024-01-28T17:33:40.760Z"
   },
   {
    "duration": 13,
    "start_time": "2024-01-28T17:33:40.773Z"
   },
   {
    "duration": 11,
    "start_time": "2024-01-28T17:33:40.787Z"
   },
   {
    "duration": 22,
    "start_time": "2024-01-28T17:33:40.800Z"
   },
   {
    "duration": 19,
    "start_time": "2024-01-28T17:33:40.823Z"
   },
   {
    "duration": 22,
    "start_time": "2024-01-28T17:33:40.843Z"
   },
   {
    "duration": 14,
    "start_time": "2024-01-28T17:33:40.867Z"
   },
   {
    "duration": 57,
    "start_time": "2024-01-28T17:33:40.882Z"
   },
   {
    "duration": 123,
    "start_time": "2024-01-28T17:33:40.941Z"
   },
   {
    "duration": 4,
    "start_time": "2024-01-28T17:33:41.066Z"
   },
   {
    "duration": 22,
    "start_time": "2024-01-28T17:33:41.071Z"
   },
   {
    "duration": 12,
    "start_time": "2024-01-28T17:33:41.095Z"
   },
   {
    "duration": 19,
    "start_time": "2024-01-28T17:33:41.109Z"
   },
   {
    "duration": 123,
    "start_time": "2024-01-28T17:33:41.130Z"
   },
   {
    "duration": 3,
    "start_time": "2024-01-28T17:33:41.255Z"
   },
   {
    "duration": 17,
    "start_time": "2024-01-28T17:33:41.265Z"
   },
   {
    "duration": 17,
    "start_time": "2024-01-28T17:33:41.283Z"
   },
   {
    "duration": 31,
    "start_time": "2024-01-28T17:33:41.302Z"
   },
   {
    "duration": 136,
    "start_time": "2024-01-28T17:33:41.334Z"
   },
   {
    "duration": 4,
    "start_time": "2024-01-28T17:33:41.472Z"
   },
   {
    "duration": 12,
    "start_time": "2024-01-28T17:33:41.477Z"
   },
   {
    "duration": 164,
    "start_time": "2024-01-28T17:33:41.491Z"
   },
   {
    "duration": 9,
    "start_time": "2024-01-28T17:33:41.657Z"
   },
   {
    "duration": 24,
    "start_time": "2024-01-28T17:33:41.668Z"
   },
   {
    "duration": 15,
    "start_time": "2024-01-28T17:33:41.694Z"
   },
   {
    "duration": 179,
    "start_time": "2024-01-28T17:34:38.255Z"
   },
   {
    "duration": 156,
    "start_time": "2024-01-28T17:35:08.847Z"
   },
   {
    "duration": 149,
    "start_time": "2024-01-28T17:38:12.235Z"
   },
   {
    "duration": 139,
    "start_time": "2024-01-28T17:38:32.110Z"
   },
   {
    "duration": 127,
    "start_time": "2024-01-28T17:39:11.142Z"
   },
   {
    "duration": 216,
    "start_time": "2024-01-28T17:39:28.886Z"
   },
   {
    "duration": 138,
    "start_time": "2024-01-28T17:41:04.351Z"
   },
   {
    "duration": 179,
    "start_time": "2024-01-28T17:41:35.811Z"
   },
   {
    "duration": 160,
    "start_time": "2024-01-28T17:42:58.800Z"
   },
   {
    "duration": 187,
    "start_time": "2024-01-28T17:43:39.881Z"
   },
   {
    "duration": 178,
    "start_time": "2024-01-28T17:44:31.744Z"
   },
   {
    "duration": 179,
    "start_time": "2024-01-28T17:44:36.826Z"
   },
   {
    "duration": 190,
    "start_time": "2024-01-28T17:44:42.668Z"
   },
   {
    "duration": 199,
    "start_time": "2024-01-28T17:44:50.533Z"
   },
   {
    "duration": 200,
    "start_time": "2024-01-28T17:45:20.548Z"
   },
   {
    "duration": 192,
    "start_time": "2024-01-28T17:45:29.567Z"
   },
   {
    "duration": 341,
    "start_time": "2024-01-28T17:45:44.927Z"
   },
   {
    "duration": 236,
    "start_time": "2024-01-28T17:45:53.838Z"
   }
  ],
  "kernelspec": {
   "display_name": "Python 3 (ipykernel)",
   "language": "python",
   "name": "python3"
  },
  "language_info": {
   "codemirror_mode": {
    "name": "ipython",
    "version": 3
   },
   "file_extension": ".py",
   "mimetype": "text/x-python",
   "name": "python",
   "nbconvert_exporter": "python",
   "pygments_lexer": "ipython3",
   "version": "3.9.5"
  },
  "toc": {
   "base_numbering": 1,
   "nav_menu": {},
   "number_sections": true,
   "sideBar": true,
   "skip_h1_title": true,
   "title_cell": "Table of Contents",
   "title_sidebar": "Contents",
   "toc_cell": false,
   "toc_position": {
    "height": "calc(100% - 180px)",
    "left": "10px",
    "top": "150px",
    "width": "165px"
   },
   "toc_section_display": true,
   "toc_window_display": false
  }
 },
 "nbformat": 4,
 "nbformat_minor": 2
}
