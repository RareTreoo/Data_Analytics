{
 "cells": [
  {
   "cell_type": "markdown",
   "metadata": {
    "toc": true
   },
   "source": [
    "<h1>Содержание проекта<span class=\"tocSkip\"></span></h1>\n",
    "<div class=\"toc\"><ul class=\"toc-item\"><li><span><a href=\"#Шаг-1.-Открытие-файлов-с-данными-и-изучение-общей-информации\" data-toc-modified-id=\"Шаг-1.-Открытие-файлов-с-данными-и-изучение-общей-информации-1\"><span class=\"toc-item-num\">1&nbsp;&nbsp;</span>Шаг 1. Открытие файлов с данными и изучение общей информации</a></span></li><li><span><a href=\"#Шаг-2.-Объединяем-таблицы\" data-toc-modified-id=\"Шаг-2.-Объединяем-таблицы-2\"><span class=\"toc-item-num\">2&nbsp;&nbsp;</span>Шаг 2. Объединяем таблицы</a></span></li><li><span><a href=\"#Шаг-3.-Предобработка-данных\" data-toc-modified-id=\"Шаг-3.-Предобработка-данных-3\"><span class=\"toc-item-num\">3&nbsp;&nbsp;</span>Шаг 3. Предобработка данных</a></span><ul class=\"toc-item\"><li><span><a href=\"#Обработка-пропусков\" data-toc-modified-id=\"Обработка-пропусков-3.1\"><span class=\"toc-item-num\">3.1&nbsp;&nbsp;</span>Обработка пропусков</a></span></li><li><span><a href=\"#Замена-типа-данных\" data-toc-modified-id=\"Замена-типа-данных-3.2\"><span class=\"toc-item-num\">3.2&nbsp;&nbsp;</span>Замена типа данных</a></span></li></ul></li><li><span><a href=\"#Шаг-4.-Добавляем-столбцы\" data-toc-modified-id=\"Шаг-4.-Добавляем-столбцы-4\"><span class=\"toc-item-num\">4&nbsp;&nbsp;</span>Шаг 4. Добавляем столбцы</a></span></li><li><span><a href=\"#Шаг-5.-Считаем-выручку\" data-toc-modified-id=\"Шаг-5.-Считаем-выручку-5\"><span class=\"toc-item-num\">5&nbsp;&nbsp;</span>Шаг 5. Считаем выручку</a></span></li><li><span><a href=\"#Шаг-6.-Анализ-данных\" data-toc-modified-id=\"Шаг-6.-Анализ-данных-6\"><span class=\"toc-item-num\">6&nbsp;&nbsp;</span>Шаг 6. Анализ данных</a></span></li><li><span><a href=\"#Шаг-7.-Проверка-гипотез\" data-toc-modified-id=\"Шаг-7.-Проверка-гипотез-7\"><span class=\"toc-item-num\">7&nbsp;&nbsp;</span>Шаг 7. Проверка гипотез</a></span></li></ul></div>"
   ]
  },
  {
   "cell_type": "markdown",
   "metadata": {},
   "source": [
    "# Исследование эффективности тарифных планов"
   ]
  },
  {
   "cell_type": "markdown",
   "metadata": {},
   "source": [
    "«Мегалайн» — федерального оператора сотовой связи. У Мегалайна существует два тарифных плана: «Смарт» и «Ультра». Задача состоит в том чтобы определить какой тариф приносит больше прибыли компании. \n",
    "В работе необходимо сделать предварительный анализ тарифов на небольшой выборке клиентов. В нашем распоряжении данные 500 пользователей «Мегалайна»: информация о пользователях, каким тарифом пользуются и какие действия совершали за 2018 год. Нужно проанализировать поведение клиентов и сделать вывод — какой тариф лучше."
   ]
  },
  {
   "cell_type": "markdown",
   "metadata": {},
   "source": [
    "# Описание тарифов"
   ]
  },
  {
   "cell_type": "markdown",
   "metadata": {},
   "source": [
    "* Тариф «Смарт»\n",
    "Ежемесячная плата: 550 рублей,\n",
    "Включено 500 минут разговора, 50 сообщений и 15 Гб интернет-трафика.\n",
    "* Стоимость услуг сверх тарифного пакета:\n",
    "минута разговора: 3 рубля,\n",
    "сообщение: 3 рубля,\n",
    "1 Гб интернет-трафика: 200 рублей."
   ]
  },
  {
   "cell_type": "markdown",
   "metadata": {},
   "source": [
    "* Тариф «Ультра»\n",
    "Ежемесячная плата: 1950 рублей,\n",
    "Включено 3000 минут разговора, 1000 сообщений и 30 Гб интернет-трафика.\n",
    "* Стоимость услуг сверх тарифного пакета:\n",
    "минута разговора: 1 рубль,\n",
    "сообщение: 1 рубль,\n",
    "1 Гб интернет-трафика: 150 рублей."
   ]
  },
  {
   "cell_type": "markdown",
   "metadata": {},
   "source": [
    "## Шаг 1. Открытие файлов с данными и изучение общей информации"
   ]
  },
  {
   "cell_type": "markdown",
   "metadata": {},
   "source": [
    "Первым делом импортируем необходимые библиотеки."
   ]
  },
  {
   "cell_type": "code",
   "execution_count": 1,
   "metadata": {},
   "outputs": [],
   "source": [
    "import pandas as pd # импорт библиотеки pandas\n",
    "import numpy as np # импорт библиотеки numpy\n",
    "import seaborn as sns # импорт библиотеки seaborn\n",
    "import matplotlib.pyplot as plt # импорт библиотеки matplotlib\n",
    "from scipy import stats as st\n",
    "from termcolor import colored "
   ]
  },
  {
   "cell_type": "markdown",
   "metadata": {},
   "source": [
    "Переходим к нашим таблицам. У нас их много, будем объеденять их с помощью метода merge."
   ]
  },
  {
   "cell_type": "markdown",
   "metadata": {},
   "source": [
    "Начнем с чтения файла с данными о звонках клиентов и выведем первые пять строк таблицы."
   ]
  },
  {
   "cell_type": "code",
   "execution_count": 2,
   "metadata": {
    "scrolled": true
   },
   "outputs": [
    {
     "data": {
      "text/html": [
       "<div>\n",
       "<style scoped>\n",
       "    .dataframe tbody tr th:only-of-type {\n",
       "        vertical-align: middle;\n",
       "    }\n",
       "\n",
       "    .dataframe tbody tr th {\n",
       "        vertical-align: top;\n",
       "    }\n",
       "\n",
       "    .dataframe thead th {\n",
       "        text-align: right;\n",
       "    }\n",
       "</style>\n",
       "<table border=\"1\" class=\"dataframe\">\n",
       "  <thead>\n",
       "    <tr style=\"text-align: right;\">\n",
       "      <th></th>\n",
       "      <th>id</th>\n",
       "      <th>call_date</th>\n",
       "      <th>duration</th>\n",
       "      <th>user_id</th>\n",
       "    </tr>\n",
       "  </thead>\n",
       "  <tbody>\n",
       "    <tr>\n",
       "      <th>0</th>\n",
       "      <td>1000_0</td>\n",
       "      <td>2018-07-25</td>\n",
       "      <td>0.00</td>\n",
       "      <td>1000</td>\n",
       "    </tr>\n",
       "    <tr>\n",
       "      <th>1</th>\n",
       "      <td>1000_1</td>\n",
       "      <td>2018-08-17</td>\n",
       "      <td>0.00</td>\n",
       "      <td>1000</td>\n",
       "    </tr>\n",
       "    <tr>\n",
       "      <th>2</th>\n",
       "      <td>1000_2</td>\n",
       "      <td>2018-06-11</td>\n",
       "      <td>2.85</td>\n",
       "      <td>1000</td>\n",
       "    </tr>\n",
       "    <tr>\n",
       "      <th>3</th>\n",
       "      <td>1000_3</td>\n",
       "      <td>2018-09-21</td>\n",
       "      <td>13.80</td>\n",
       "      <td>1000</td>\n",
       "    </tr>\n",
       "    <tr>\n",
       "      <th>4</th>\n",
       "      <td>1000_4</td>\n",
       "      <td>2018-12-15</td>\n",
       "      <td>5.18</td>\n",
       "      <td>1000</td>\n",
       "    </tr>\n",
       "  </tbody>\n",
       "</table>\n",
       "</div>"
      ],
      "text/plain": [
       "       id   call_date  duration  user_id\n",
       "0  1000_0  2018-07-25      0.00     1000\n",
       "1  1000_1  2018-08-17      0.00     1000\n",
       "2  1000_2  2018-06-11      2.85     1000\n",
       "3  1000_3  2018-09-21     13.80     1000\n",
       "4  1000_4  2018-12-15      5.18     1000"
      ]
     },
     "execution_count": 2,
     "metadata": {},
     "output_type": "execute_result"
    }
   ],
   "source": [
    "df_calls = pd.read_csv('/datasets/calls.csv') # чтение файла с данными и сохранение в df_calls\n",
    "df_calls.head() # получение первых пяти строк таблицы df_calls"
   ]
  },
  {
   "cell_type": "markdown",
   "metadata": {},
   "source": [
    "Округлим значение звонков в столбце duration."
   ]
  },
  {
   "cell_type": "code",
   "execution_count": 3,
   "metadata": {},
   "outputs": [
    {
     "data": {
      "text/html": [
       "<div>\n",
       "<style scoped>\n",
       "    .dataframe tbody tr th:only-of-type {\n",
       "        vertical-align: middle;\n",
       "    }\n",
       "\n",
       "    .dataframe tbody tr th {\n",
       "        vertical-align: top;\n",
       "    }\n",
       "\n",
       "    .dataframe thead th {\n",
       "        text-align: right;\n",
       "    }\n",
       "</style>\n",
       "<table border=\"1\" class=\"dataframe\">\n",
       "  <thead>\n",
       "    <tr style=\"text-align: right;\">\n",
       "      <th></th>\n",
       "      <th>id</th>\n",
       "      <th>call_date</th>\n",
       "      <th>duration</th>\n",
       "      <th>user_id</th>\n",
       "    </tr>\n",
       "  </thead>\n",
       "  <tbody>\n",
       "    <tr>\n",
       "      <th>0</th>\n",
       "      <td>1000_0</td>\n",
       "      <td>2018-07-25</td>\n",
       "      <td>0.0</td>\n",
       "      <td>1000</td>\n",
       "    </tr>\n",
       "    <tr>\n",
       "      <th>1</th>\n",
       "      <td>1000_1</td>\n",
       "      <td>2018-08-17</td>\n",
       "      <td>0.0</td>\n",
       "      <td>1000</td>\n",
       "    </tr>\n",
       "    <tr>\n",
       "      <th>2</th>\n",
       "      <td>1000_2</td>\n",
       "      <td>2018-06-11</td>\n",
       "      <td>3.0</td>\n",
       "      <td>1000</td>\n",
       "    </tr>\n",
       "    <tr>\n",
       "      <th>3</th>\n",
       "      <td>1000_3</td>\n",
       "      <td>2018-09-21</td>\n",
       "      <td>14.0</td>\n",
       "      <td>1000</td>\n",
       "    </tr>\n",
       "    <tr>\n",
       "      <th>4</th>\n",
       "      <td>1000_4</td>\n",
       "      <td>2018-12-15</td>\n",
       "      <td>6.0</td>\n",
       "      <td>1000</td>\n",
       "    </tr>\n",
       "    <tr>\n",
       "      <th>5</th>\n",
       "      <td>1000_5</td>\n",
       "      <td>2018-11-02</td>\n",
       "      <td>0.0</td>\n",
       "      <td>1000</td>\n",
       "    </tr>\n",
       "    <tr>\n",
       "      <th>6</th>\n",
       "      <td>1000_6</td>\n",
       "      <td>2018-10-18</td>\n",
       "      <td>0.0</td>\n",
       "      <td>1000</td>\n",
       "    </tr>\n",
       "    <tr>\n",
       "      <th>7</th>\n",
       "      <td>1000_7</td>\n",
       "      <td>2018-08-22</td>\n",
       "      <td>19.0</td>\n",
       "      <td>1000</td>\n",
       "    </tr>\n",
       "    <tr>\n",
       "      <th>8</th>\n",
       "      <td>1000_8</td>\n",
       "      <td>2018-09-15</td>\n",
       "      <td>19.0</td>\n",
       "      <td>1000</td>\n",
       "    </tr>\n",
       "    <tr>\n",
       "      <th>9</th>\n",
       "      <td>1000_9</td>\n",
       "      <td>2018-08-15</td>\n",
       "      <td>0.0</td>\n",
       "      <td>1000</td>\n",
       "    </tr>\n",
       "  </tbody>\n",
       "</table>\n",
       "</div>"
      ],
      "text/plain": [
       "       id   call_date  duration  user_id\n",
       "0  1000_0  2018-07-25       0.0     1000\n",
       "1  1000_1  2018-08-17       0.0     1000\n",
       "2  1000_2  2018-06-11       3.0     1000\n",
       "3  1000_3  2018-09-21      14.0     1000\n",
       "4  1000_4  2018-12-15       6.0     1000\n",
       "5  1000_5  2018-11-02       0.0     1000\n",
       "6  1000_6  2018-10-18       0.0     1000\n",
       "7  1000_7  2018-08-22      19.0     1000\n",
       "8  1000_8  2018-09-15      19.0     1000\n",
       "9  1000_9  2018-08-15       0.0     1000"
      ]
     },
     "execution_count": 3,
     "metadata": {},
     "output_type": "execute_result"
    }
   ],
   "source": [
    "df_calls['duration'] = np.ceil(df_calls['duration']) # округляем длительность звонков\n",
    "df_calls.head(10)"
   ]
  },
  {
   "cell_type": "markdown",
   "metadata": {},
   "source": [
    "Успех, далее поработаем с информацией по интернету."
   ]
  },
  {
   "cell_type": "code",
   "execution_count": 4,
   "metadata": {
    "scrolled": true
   },
   "outputs": [
    {
     "data": {
      "text/html": [
       "<div>\n",
       "<style scoped>\n",
       "    .dataframe tbody tr th:only-of-type {\n",
       "        vertical-align: middle;\n",
       "    }\n",
       "\n",
       "    .dataframe tbody tr th {\n",
       "        vertical-align: top;\n",
       "    }\n",
       "\n",
       "    .dataframe thead th {\n",
       "        text-align: right;\n",
       "    }\n",
       "</style>\n",
       "<table border=\"1\" class=\"dataframe\">\n",
       "  <thead>\n",
       "    <tr style=\"text-align: right;\">\n",
       "      <th></th>\n",
       "      <th>Unnamed: 0</th>\n",
       "      <th>id</th>\n",
       "      <th>mb_used</th>\n",
       "      <th>session_date</th>\n",
       "      <th>user_id</th>\n",
       "    </tr>\n",
       "  </thead>\n",
       "  <tbody>\n",
       "    <tr>\n",
       "      <th>0</th>\n",
       "      <td>0</td>\n",
       "      <td>1000_0</td>\n",
       "      <td>112.95</td>\n",
       "      <td>2018-11-25</td>\n",
       "      <td>1000</td>\n",
       "    </tr>\n",
       "    <tr>\n",
       "      <th>1</th>\n",
       "      <td>1</td>\n",
       "      <td>1000_1</td>\n",
       "      <td>1052.81</td>\n",
       "      <td>2018-09-07</td>\n",
       "      <td>1000</td>\n",
       "    </tr>\n",
       "  </tbody>\n",
       "</table>\n",
       "</div>"
      ],
      "text/plain": [
       "   Unnamed: 0      id  mb_used session_date  user_id\n",
       "0           0  1000_0   112.95   2018-11-25     1000\n",
       "1           1  1000_1  1052.81   2018-09-07     1000"
      ]
     },
     "execution_count": 4,
     "metadata": {},
     "output_type": "execute_result"
    }
   ],
   "source": [
    "df_internet = pd.read_csv('/datasets/internet.csv') # чтение файла с данными и сохранение в df_internet\n",
    "df_internet.head(2) # получение первых пяти строк таблицы df_internet"
   ]
  },
  {
   "cell_type": "markdown",
   "metadata": {},
   "source": [
    "Далее проведем необходимую работу с датафреймом: изменим тип данных, сделаем столбец с месяцем пользования, сделааем новую таблицу где у каждого пользователя будет отображаться его использования интернета по месяцам и избавимся от мультииндекса. Эти шаги необходимы для дальнейшего соединения всех датафреймов."
   ]
  },
  {
   "cell_type": "code",
   "execution_count": 5,
   "metadata": {},
   "outputs": [],
   "source": [
    "df_internet['session_date'] = df_internet['session_date'].astype('datetime64') # изменение типа данных\n",
    "df_internet['month'] = pd.DatetimeIndex(df_internet['session_date']).month # создание столбца с месяцем\n",
    "user_inet = df_internet.pivot_table(index=['user_id', 'month'], values='mb_used', aggfunc=['count', 'sum']) # создание сводной таблицы\n",
    "user_inet.columns = ['count_inet_used', 'sum_mb_used'] # избавляемся от мультииндекса\n",
    "user_inet = user_inet.reset_index()"
   ]
  },
  {
   "cell_type": "markdown",
   "metadata": {},
   "source": [
    "Проверим, что получилось в таблице user_name, выведем первые 10 строк."
   ]
  },
  {
   "cell_type": "code",
   "execution_count": 6,
   "metadata": {},
   "outputs": [
    {
     "data": {
      "text/html": [
       "<div>\n",
       "<style scoped>\n",
       "    .dataframe tbody tr th:only-of-type {\n",
       "        vertical-align: middle;\n",
       "    }\n",
       "\n",
       "    .dataframe tbody tr th {\n",
       "        vertical-align: top;\n",
       "    }\n",
       "\n",
       "    .dataframe thead th {\n",
       "        text-align: right;\n",
       "    }\n",
       "</style>\n",
       "<table border=\"1\" class=\"dataframe\">\n",
       "  <thead>\n",
       "    <tr style=\"text-align: right;\">\n",
       "      <th></th>\n",
       "      <th>user_id</th>\n",
       "      <th>month</th>\n",
       "      <th>count_inet_used</th>\n",
       "      <th>sum_mb_used</th>\n",
       "    </tr>\n",
       "  </thead>\n",
       "  <tbody>\n",
       "    <tr>\n",
       "      <th>0</th>\n",
       "      <td>1000</td>\n",
       "      <td>5</td>\n",
       "      <td>5</td>\n",
       "      <td>2253.49</td>\n",
       "    </tr>\n",
       "    <tr>\n",
       "      <th>1</th>\n",
       "      <td>1000</td>\n",
       "      <td>6</td>\n",
       "      <td>49</td>\n",
       "      <td>23233.77</td>\n",
       "    </tr>\n",
       "    <tr>\n",
       "      <th>2</th>\n",
       "      <td>1000</td>\n",
       "      <td>7</td>\n",
       "      <td>29</td>\n",
       "      <td>14003.64</td>\n",
       "    </tr>\n",
       "    <tr>\n",
       "      <th>3</th>\n",
       "      <td>1000</td>\n",
       "      <td>8</td>\n",
       "      <td>29</td>\n",
       "      <td>14055.93</td>\n",
       "    </tr>\n",
       "    <tr>\n",
       "      <th>4</th>\n",
       "      <td>1000</td>\n",
       "      <td>9</td>\n",
       "      <td>27</td>\n",
       "      <td>14568.91</td>\n",
       "    </tr>\n",
       "    <tr>\n",
       "      <th>5</th>\n",
       "      <td>1000</td>\n",
       "      <td>10</td>\n",
       "      <td>27</td>\n",
       "      <td>14702.49</td>\n",
       "    </tr>\n",
       "    <tr>\n",
       "      <th>6</th>\n",
       "      <td>1000</td>\n",
       "      <td>11</td>\n",
       "      <td>24</td>\n",
       "      <td>14756.47</td>\n",
       "    </tr>\n",
       "    <tr>\n",
       "      <th>7</th>\n",
       "      <td>1000</td>\n",
       "      <td>12</td>\n",
       "      <td>21</td>\n",
       "      <td>9817.61</td>\n",
       "    </tr>\n",
       "    <tr>\n",
       "      <th>8</th>\n",
       "      <td>1001</td>\n",
       "      <td>11</td>\n",
       "      <td>55</td>\n",
       "      <td>18429.34</td>\n",
       "    </tr>\n",
       "    <tr>\n",
       "      <th>9</th>\n",
       "      <td>1001</td>\n",
       "      <td>12</td>\n",
       "      <td>41</td>\n",
       "      <td>14036.66</td>\n",
       "    </tr>\n",
       "  </tbody>\n",
       "</table>\n",
       "</div>"
      ],
      "text/plain": [
       "   user_id  month  count_inet_used  sum_mb_used\n",
       "0     1000      5                5      2253.49\n",
       "1     1000      6               49     23233.77\n",
       "2     1000      7               29     14003.64\n",
       "3     1000      8               29     14055.93\n",
       "4     1000      9               27     14568.91\n",
       "5     1000     10               27     14702.49\n",
       "6     1000     11               24     14756.47\n",
       "7     1000     12               21      9817.61\n",
       "8     1001     11               55     18429.34\n",
       "9     1001     12               41     14036.66"
      ]
     },
     "execution_count": 6,
     "metadata": {},
     "output_type": "execute_result"
    }
   ],
   "source": [
    "user_inet.head(10) # вывод первых 10 строк"
   ]
  },
  {
   "cell_type": "markdown",
   "metadata": {},
   "source": [
    "Отлично все данные на месте: информация о конкретном пользователе, месяце, интернет сессиях и сумме трафика."
   ]
  },
  {
   "cell_type": "markdown",
   "metadata": {},
   "source": [
    "Идем далее и посмотрим информацию о смс сообщениях пользователей, проделаем аналогичные шаги, как с предыдущими датафреймами."
   ]
  },
  {
   "cell_type": "code",
   "execution_count": 7,
   "metadata": {
    "scrolled": true
   },
   "outputs": [
    {
     "data": {
      "text/html": [
       "<div>\n",
       "<style scoped>\n",
       "    .dataframe tbody tr th:only-of-type {\n",
       "        vertical-align: middle;\n",
       "    }\n",
       "\n",
       "    .dataframe tbody tr th {\n",
       "        vertical-align: top;\n",
       "    }\n",
       "\n",
       "    .dataframe thead th {\n",
       "        text-align: right;\n",
       "    }\n",
       "</style>\n",
       "<table border=\"1\" class=\"dataframe\">\n",
       "  <thead>\n",
       "    <tr style=\"text-align: right;\">\n",
       "      <th></th>\n",
       "      <th>id</th>\n",
       "      <th>message_date</th>\n",
       "      <th>user_id</th>\n",
       "    </tr>\n",
       "  </thead>\n",
       "  <tbody>\n",
       "    <tr>\n",
       "      <th>0</th>\n",
       "      <td>1000_0</td>\n",
       "      <td>2018-06-27</td>\n",
       "      <td>1000</td>\n",
       "    </tr>\n",
       "    <tr>\n",
       "      <th>1</th>\n",
       "      <td>1000_1</td>\n",
       "      <td>2018-10-08</td>\n",
       "      <td>1000</td>\n",
       "    </tr>\n",
       "    <tr>\n",
       "      <th>2</th>\n",
       "      <td>1000_2</td>\n",
       "      <td>2018-08-04</td>\n",
       "      <td>1000</td>\n",
       "    </tr>\n",
       "    <tr>\n",
       "      <th>3</th>\n",
       "      <td>1000_3</td>\n",
       "      <td>2018-06-16</td>\n",
       "      <td>1000</td>\n",
       "    </tr>\n",
       "    <tr>\n",
       "      <th>4</th>\n",
       "      <td>1000_4</td>\n",
       "      <td>2018-12-05</td>\n",
       "      <td>1000</td>\n",
       "    </tr>\n",
       "  </tbody>\n",
       "</table>\n",
       "</div>"
      ],
      "text/plain": [
       "       id message_date  user_id\n",
       "0  1000_0   2018-06-27     1000\n",
       "1  1000_1   2018-10-08     1000\n",
       "2  1000_2   2018-08-04     1000\n",
       "3  1000_3   2018-06-16     1000\n",
       "4  1000_4   2018-12-05     1000"
      ]
     },
     "execution_count": 7,
     "metadata": {},
     "output_type": "execute_result"
    }
   ],
   "source": [
    "df_messages = pd.read_csv('/datasets/messages.csv') # чтение файла с данными и сохранение в df_messages\n",
    "df_messages.head() # получение первых пяти строк таблицы df_messages"
   ]
  },
  {
   "cell_type": "markdown",
   "metadata": {},
   "source": [
    "Сделаем шаги которые делали ранее: изменим тип данных, сделаем столбец с месяцем пользования, сделааем новую таблицу где у каждого пользователя будет отображаться его количество смс по месяцам и избавимся от мультииндекса."
   ]
  },
  {
   "cell_type": "code",
   "execution_count": 8,
   "metadata": {},
   "outputs": [
    {
     "data": {
      "text/html": [
       "<div>\n",
       "<style scoped>\n",
       "    .dataframe tbody tr th:only-of-type {\n",
       "        vertical-align: middle;\n",
       "    }\n",
       "\n",
       "    .dataframe tbody tr th {\n",
       "        vertical-align: top;\n",
       "    }\n",
       "\n",
       "    .dataframe thead th {\n",
       "        text-align: right;\n",
       "    }\n",
       "</style>\n",
       "<table border=\"1\" class=\"dataframe\">\n",
       "  <thead>\n",
       "    <tr style=\"text-align: right;\">\n",
       "      <th></th>\n",
       "      <th></th>\n",
       "      <th>sum_messages</th>\n",
       "    </tr>\n",
       "    <tr>\n",
       "      <th>user_id</th>\n",
       "      <th>month</th>\n",
       "      <th></th>\n",
       "    </tr>\n",
       "  </thead>\n",
       "  <tbody>\n",
       "    <tr>\n",
       "      <th rowspan=\"5\" valign=\"top\">1000</th>\n",
       "      <th>5</th>\n",
       "      <td>22</td>\n",
       "    </tr>\n",
       "    <tr>\n",
       "      <th>6</th>\n",
       "      <td>60</td>\n",
       "    </tr>\n",
       "    <tr>\n",
       "      <th>7</th>\n",
       "      <td>75</td>\n",
       "    </tr>\n",
       "    <tr>\n",
       "      <th>8</th>\n",
       "      <td>81</td>\n",
       "    </tr>\n",
       "    <tr>\n",
       "      <th>9</th>\n",
       "      <td>57</td>\n",
       "    </tr>\n",
       "  </tbody>\n",
       "</table>\n",
       "</div>"
      ],
      "text/plain": [
       "               sum_messages\n",
       "user_id month              \n",
       "1000    5                22\n",
       "        6                60\n",
       "        7                75\n",
       "        8                81\n",
       "        9                57"
      ]
     },
     "execution_count": 8,
     "metadata": {},
     "output_type": "execute_result"
    }
   ],
   "source": [
    "df_messages['message_date'] = df_messages['message_date'].astype('datetime64') # изменение типа данных\n",
    "df_messages['month'] = pd.DatetimeIndex(df_messages['message_date']).month # создание столбца с месяцем\n",
    "user_messages = df_messages.pivot_table(index=['user_id', 'month'], values='id', aggfunc=['count']) # создание сводной таблицы\n",
    "user_messages.columns = ['sum_messages'] # изменение названия столбца\n",
    "user_messages.reset_index()\n",
    "user_messages.head()"
   ]
  },
  {
   "cell_type": "markdown",
   "metadata": {},
   "source": [
    "Успех все необходимое на своем месте. Далее посмотрим на таблицу с нашими тарифами. "
   ]
  },
  {
   "cell_type": "code",
   "execution_count": 9,
   "metadata": {},
   "outputs": [
    {
     "data": {
      "text/html": [
       "<div>\n",
       "<style scoped>\n",
       "    .dataframe tbody tr th:only-of-type {\n",
       "        vertical-align: middle;\n",
       "    }\n",
       "\n",
       "    .dataframe tbody tr th {\n",
       "        vertical-align: top;\n",
       "    }\n",
       "\n",
       "    .dataframe thead th {\n",
       "        text-align: right;\n",
       "    }\n",
       "</style>\n",
       "<table border=\"1\" class=\"dataframe\">\n",
       "  <thead>\n",
       "    <tr style=\"text-align: right;\">\n",
       "      <th></th>\n",
       "      <th>messages_included</th>\n",
       "      <th>mb_per_month_included</th>\n",
       "      <th>minutes_included</th>\n",
       "      <th>rub_monthly_fee</th>\n",
       "      <th>rub_per_gb</th>\n",
       "      <th>rub_per_message</th>\n",
       "      <th>rub_per_minute</th>\n",
       "      <th>tariff_name</th>\n",
       "    </tr>\n",
       "  </thead>\n",
       "  <tbody>\n",
       "    <tr>\n",
       "      <th>0</th>\n",
       "      <td>50</td>\n",
       "      <td>15360</td>\n",
       "      <td>500</td>\n",
       "      <td>550</td>\n",
       "      <td>200</td>\n",
       "      <td>3</td>\n",
       "      <td>3</td>\n",
       "      <td>smart</td>\n",
       "    </tr>\n",
       "    <tr>\n",
       "      <th>1</th>\n",
       "      <td>1000</td>\n",
       "      <td>30720</td>\n",
       "      <td>3000</td>\n",
       "      <td>1950</td>\n",
       "      <td>150</td>\n",
       "      <td>1</td>\n",
       "      <td>1</td>\n",
       "      <td>ultra</td>\n",
       "    </tr>\n",
       "  </tbody>\n",
       "</table>\n",
       "</div>"
      ],
      "text/plain": [
       "   messages_included  mb_per_month_included  minutes_included  \\\n",
       "0                 50                  15360               500   \n",
       "1               1000                  30720              3000   \n",
       "\n",
       "   rub_monthly_fee  rub_per_gb  rub_per_message  rub_per_minute tariff_name  \n",
       "0              550         200                3               3       smart  \n",
       "1             1950         150                1               1       ultra  "
      ]
     },
     "execution_count": 9,
     "metadata": {},
     "output_type": "execute_result"
    }
   ],
   "source": [
    "df_tariffs = pd.read_csv('/datasets/tariffs.csv') # чтение файла с данными и сохранение в df_tariffs\n",
    "df_tariffs # получение строк таблицы df_tariffs"
   ]
  },
  {
   "cell_type": "markdown",
   "metadata": {},
   "source": [
    "В таблице df_tariffs две строки с информацией о тарифах smart и ultra. Далее мы будем соединять таблицы в общую и будем использовать для этого столбцы user_id и tariff."
   ]
  },
  {
   "cell_type": "code",
   "execution_count": 10,
   "metadata": {},
   "outputs": [
    {
     "data": {
      "text/html": [
       "<div>\n",
       "<style scoped>\n",
       "    .dataframe tbody tr th:only-of-type {\n",
       "        vertical-align: middle;\n",
       "    }\n",
       "\n",
       "    .dataframe tbody tr th {\n",
       "        vertical-align: top;\n",
       "    }\n",
       "\n",
       "    .dataframe thead th {\n",
       "        text-align: right;\n",
       "    }\n",
       "</style>\n",
       "<table border=\"1\" class=\"dataframe\">\n",
       "  <thead>\n",
       "    <tr style=\"text-align: right;\">\n",
       "      <th></th>\n",
       "      <th>user_id</th>\n",
       "      <th>age</th>\n",
       "      <th>churn_date</th>\n",
       "      <th>city</th>\n",
       "      <th>first_name</th>\n",
       "      <th>last_name</th>\n",
       "      <th>reg_date</th>\n",
       "      <th>tariff</th>\n",
       "    </tr>\n",
       "  </thead>\n",
       "  <tbody>\n",
       "    <tr>\n",
       "      <th>0</th>\n",
       "      <td>1000</td>\n",
       "      <td>52</td>\n",
       "      <td>NaT</td>\n",
       "      <td>Краснодар</td>\n",
       "      <td>Рафаил</td>\n",
       "      <td>Верещагин</td>\n",
       "      <td>2018-05-25</td>\n",
       "      <td>ultra</td>\n",
       "    </tr>\n",
       "    <tr>\n",
       "      <th>1</th>\n",
       "      <td>1001</td>\n",
       "      <td>41</td>\n",
       "      <td>NaT</td>\n",
       "      <td>Москва</td>\n",
       "      <td>Иван</td>\n",
       "      <td>Ежов</td>\n",
       "      <td>2018-11-01</td>\n",
       "      <td>smart</td>\n",
       "    </tr>\n",
       "    <tr>\n",
       "      <th>2</th>\n",
       "      <td>1002</td>\n",
       "      <td>59</td>\n",
       "      <td>NaT</td>\n",
       "      <td>Стерлитамак</td>\n",
       "      <td>Евгений</td>\n",
       "      <td>Абрамович</td>\n",
       "      <td>2018-06-17</td>\n",
       "      <td>smart</td>\n",
       "    </tr>\n",
       "    <tr>\n",
       "      <th>3</th>\n",
       "      <td>1003</td>\n",
       "      <td>23</td>\n",
       "      <td>NaT</td>\n",
       "      <td>Москва</td>\n",
       "      <td>Белла</td>\n",
       "      <td>Белякова</td>\n",
       "      <td>2018-08-17</td>\n",
       "      <td>ultra</td>\n",
       "    </tr>\n",
       "    <tr>\n",
       "      <th>4</th>\n",
       "      <td>1004</td>\n",
       "      <td>68</td>\n",
       "      <td>NaT</td>\n",
       "      <td>Новокузнецк</td>\n",
       "      <td>Татьяна</td>\n",
       "      <td>Авдеенко</td>\n",
       "      <td>2018-05-14</td>\n",
       "      <td>ultra</td>\n",
       "    </tr>\n",
       "  </tbody>\n",
       "</table>\n",
       "</div>"
      ],
      "text/plain": [
       "   user_id  age churn_date         city first_name  last_name    reg_date  \\\n",
       "0     1000   52        NaT    Краснодар     Рафаил  Верещагин  2018-05-25   \n",
       "1     1001   41        NaT       Москва       Иван       Ежов  2018-11-01   \n",
       "2     1002   59        NaT  Стерлитамак    Евгений  Абрамович  2018-06-17   \n",
       "3     1003   23        NaT       Москва      Белла   Белякова  2018-08-17   \n",
       "4     1004   68        NaT  Новокузнецк    Татьяна   Авдеенко  2018-05-14   \n",
       "\n",
       "  tariff  \n",
       "0  ultra  \n",
       "1  smart  \n",
       "2  smart  \n",
       "3  ultra  \n",
       "4  ultra  "
      ]
     },
     "execution_count": 10,
     "metadata": {},
     "output_type": "execute_result"
    }
   ],
   "source": [
    "df_users = pd.read_csv('/datasets/users.csv') # чтение файла с данными и сохранение в df_users\n",
    "df_users['churn_date'] = df_users['churn_date'].astype('datetime64') # замена типа данных столбца churn_date\n",
    "df_users.head() # получение первых пяти строк таблицы df_users"
   ]
  },
  {
   "cell_type": "markdown",
   "metadata": {},
   "source": [
    "Поработаем с типами данных заменим типы для дальнейшей работы с данными."
   ]
  },
  {
   "cell_type": "code",
   "execution_count": 11,
   "metadata": {
    "scrolled": true
   },
   "outputs": [
    {
     "data": {
      "text/html": [
       "<div>\n",
       "<style scoped>\n",
       "    .dataframe tbody tr th:only-of-type {\n",
       "        vertical-align: middle;\n",
       "    }\n",
       "\n",
       "    .dataframe tbody tr th {\n",
       "        vertical-align: top;\n",
       "    }\n",
       "\n",
       "    .dataframe thead th {\n",
       "        text-align: right;\n",
       "    }\n",
       "</style>\n",
       "<table border=\"1\" class=\"dataframe\">\n",
       "  <thead>\n",
       "    <tr style=\"text-align: right;\">\n",
       "      <th></th>\n",
       "      <th>user_id</th>\n",
       "      <th>month</th>\n",
       "      <th>count_call</th>\n",
       "      <th>sum_call_minute</th>\n",
       "    </tr>\n",
       "  </thead>\n",
       "  <tbody>\n",
       "    <tr>\n",
       "      <th>0</th>\n",
       "      <td>1000</td>\n",
       "      <td>5</td>\n",
       "      <td>22</td>\n",
       "      <td>159.0</td>\n",
       "    </tr>\n",
       "    <tr>\n",
       "      <th>1</th>\n",
       "      <td>1000</td>\n",
       "      <td>6</td>\n",
       "      <td>43</td>\n",
       "      <td>172.0</td>\n",
       "    </tr>\n",
       "    <tr>\n",
       "      <th>2</th>\n",
       "      <td>1000</td>\n",
       "      <td>7</td>\n",
       "      <td>47</td>\n",
       "      <td>340.0</td>\n",
       "    </tr>\n",
       "    <tr>\n",
       "      <th>3</th>\n",
       "      <td>1000</td>\n",
       "      <td>8</td>\n",
       "      <td>52</td>\n",
       "      <td>408.0</td>\n",
       "    </tr>\n",
       "    <tr>\n",
       "      <th>4</th>\n",
       "      <td>1000</td>\n",
       "      <td>9</td>\n",
       "      <td>58</td>\n",
       "      <td>466.0</td>\n",
       "    </tr>\n",
       "  </tbody>\n",
       "</table>\n",
       "</div>"
      ],
      "text/plain": [
       "   user_id  month  count_call  sum_call_minute\n",
       "0     1000      5          22            159.0\n",
       "1     1000      6          43            172.0\n",
       "2     1000      7          47            340.0\n",
       "3     1000      8          52            408.0\n",
       "4     1000      9          58            466.0"
      ]
     },
     "execution_count": 11,
     "metadata": {},
     "output_type": "execute_result"
    }
   ],
   "source": [
    "df_calls['call_date'] = df_calls['call_date'].astype('datetime64') # замена типа данных столбца call_date\n",
    "df_calls['month'] = pd.DatetimeIndex(df_calls['call_date']).month # создание столбца month\n",
    "user_call = df_calls.pivot_table(index=['user_id', 'month'], values='duration', aggfunc=['count', 'sum']) \n",
    "user_call.columns = ['count_call', 'sum_call_minute'] # избавляемся от мультииндекса\n",
    "user_call = user_call.reset_index()\n",
    "user_call.head()"
   ]
  },
  {
   "cell_type": "markdown",
   "metadata": {},
   "source": [
    "В данной таблице есть информация о сумме звонков, длительности звонков по месяцам, то что нужно, будем соеденять по месяцу и айди юзера."
   ]
  },
  {
   "cell_type": "markdown",
   "metadata": {},
   "source": [
    "**Вывод:**"
   ]
  },
  {
   "cell_type": "markdown",
   "metadata": {},
   "source": [
    "В данном шаге мы импортировали библиотеки и открывали таблицы с необходимыми данными. Таблиц всего 5 штук: информация о звонках, о интернет трафике, основная информация о пользователях, смс сообщениях и о самих тарифах. В следующем шаге будем их объеденять в один общий датафрейм."
   ]
  },
  {
   "cell_type": "markdown",
   "metadata": {},
   "source": [
    "## Шаг 2. Объединяем таблицы"
   ]
  },
  {
   "cell_type": "markdown",
   "metadata": {},
   "source": [
    "Будем объединять таблицы с помощью метода merge. Объединять таблицы по столбцам user_id и month. Сделаем общий датафрейм total_df."
   ]
  },
  {
   "cell_type": "code",
   "execution_count": 12,
   "metadata": {},
   "outputs": [
    {
     "data": {
      "text/plain": [
       "(3216, 14)"
      ]
     },
     "execution_count": 12,
     "metadata": {},
     "output_type": "execute_result"
    }
   ],
   "source": [
    "total_df = user_call.merge(user_inet, on=['user_id', 'month'], how='outer') # объеденяем таблицы df_users и user_call\n",
    "total_df = total_df.merge(user_messages, on=['user_id', 'month'], how='outer')\n",
    "total_df = total_df.merge(df_users, on='user_id', how='outer')\n",
    "\n",
    "total_df.shape"
   ]
  },
  {
   "cell_type": "markdown",
   "metadata": {},
   "source": [
    "Чтобы объединить таблицу df_tariffs с total_df необходимо поменять название столбца tariff на tariff_name именно по этому столбцу будем объединять наши датасеты."
   ]
  },
  {
   "cell_type": "code",
   "execution_count": 13,
   "metadata": {},
   "outputs": [
    {
     "data": {
      "text/plain": [
       "(3216, 21)"
      ]
     },
     "execution_count": 13,
     "metadata": {},
     "output_type": "execute_result"
    }
   ],
   "source": [
    "total_df = total_df.rename(columns={'tariff':'tariff_name'}) # переименование столбца \n",
    "total_df = total_df.merge(df_tariffs, on='tariff_name', how='left')\n",
    "\n",
    "total_df.shape"
   ]
  },
  {
   "cell_type": "code",
   "execution_count": 14,
   "metadata": {
    "scrolled": true
   },
   "outputs": [
    {
     "data": {
      "text/html": [
       "<div>\n",
       "<style scoped>\n",
       "    .dataframe tbody tr th:only-of-type {\n",
       "        vertical-align: middle;\n",
       "    }\n",
       "\n",
       "    .dataframe tbody tr th {\n",
       "        vertical-align: top;\n",
       "    }\n",
       "\n",
       "    .dataframe thead th {\n",
       "        text-align: right;\n",
       "    }\n",
       "</style>\n",
       "<table border=\"1\" class=\"dataframe\">\n",
       "  <thead>\n",
       "    <tr style=\"text-align: right;\">\n",
       "      <th></th>\n",
       "      <th>user_id</th>\n",
       "      <th>month</th>\n",
       "      <th>count_call</th>\n",
       "      <th>sum_call_minute</th>\n",
       "      <th>count_inet_used</th>\n",
       "      <th>sum_mb_used</th>\n",
       "      <th>sum_messages</th>\n",
       "      <th>age</th>\n",
       "      <th>churn_date</th>\n",
       "      <th>city</th>\n",
       "      <th>...</th>\n",
       "      <th>last_name</th>\n",
       "      <th>reg_date</th>\n",
       "      <th>tariff_name</th>\n",
       "      <th>messages_included</th>\n",
       "      <th>mb_per_month_included</th>\n",
       "      <th>minutes_included</th>\n",
       "      <th>rub_monthly_fee</th>\n",
       "      <th>rub_per_gb</th>\n",
       "      <th>rub_per_message</th>\n",
       "      <th>rub_per_minute</th>\n",
       "    </tr>\n",
       "  </thead>\n",
       "  <tbody>\n",
       "    <tr>\n",
       "      <th>0</th>\n",
       "      <td>1000</td>\n",
       "      <td>5.0</td>\n",
       "      <td>22.0</td>\n",
       "      <td>159.0</td>\n",
       "      <td>5.0</td>\n",
       "      <td>2253.49</td>\n",
       "      <td>22.0</td>\n",
       "      <td>52</td>\n",
       "      <td>NaT</td>\n",
       "      <td>Краснодар</td>\n",
       "      <td>...</td>\n",
       "      <td>Верещагин</td>\n",
       "      <td>2018-05-25</td>\n",
       "      <td>ultra</td>\n",
       "      <td>1000</td>\n",
       "      <td>30720</td>\n",
       "      <td>3000</td>\n",
       "      <td>1950</td>\n",
       "      <td>150</td>\n",
       "      <td>1</td>\n",
       "      <td>1</td>\n",
       "    </tr>\n",
       "    <tr>\n",
       "      <th>1</th>\n",
       "      <td>1000</td>\n",
       "      <td>6.0</td>\n",
       "      <td>43.0</td>\n",
       "      <td>172.0</td>\n",
       "      <td>49.0</td>\n",
       "      <td>23233.77</td>\n",
       "      <td>60.0</td>\n",
       "      <td>52</td>\n",
       "      <td>NaT</td>\n",
       "      <td>Краснодар</td>\n",
       "      <td>...</td>\n",
       "      <td>Верещагин</td>\n",
       "      <td>2018-05-25</td>\n",
       "      <td>ultra</td>\n",
       "      <td>1000</td>\n",
       "      <td>30720</td>\n",
       "      <td>3000</td>\n",
       "      <td>1950</td>\n",
       "      <td>150</td>\n",
       "      <td>1</td>\n",
       "      <td>1</td>\n",
       "    </tr>\n",
       "  </tbody>\n",
       "</table>\n",
       "<p>2 rows × 21 columns</p>\n",
       "</div>"
      ],
      "text/plain": [
       "   user_id  month  count_call  sum_call_minute  count_inet_used  sum_mb_used  \\\n",
       "0     1000    5.0        22.0            159.0              5.0      2253.49   \n",
       "1     1000    6.0        43.0            172.0             49.0     23233.77   \n",
       "\n",
       "   sum_messages  age churn_date       city  ...  last_name    reg_date  \\\n",
       "0          22.0   52        NaT  Краснодар  ...  Верещагин  2018-05-25   \n",
       "1          60.0   52        NaT  Краснодар  ...  Верещагин  2018-05-25   \n",
       "\n",
       "  tariff_name messages_included  mb_per_month_included  minutes_included  \\\n",
       "0       ultra              1000                  30720              3000   \n",
       "1       ultra              1000                  30720              3000   \n",
       "\n",
       "   rub_monthly_fee  rub_per_gb  rub_per_message  rub_per_minute  \n",
       "0             1950         150                1               1  \n",
       "1             1950         150                1               1  \n",
       "\n",
       "[2 rows x 21 columns]"
      ]
     },
     "execution_count": 14,
     "metadata": {},
     "output_type": "execute_result"
    }
   ],
   "source": [
    "total_df.head(2)"
   ]
  },
  {
   "cell_type": "markdown",
   "metadata": {},
   "source": [
    "Все мы объединили таблицы, осталось посмотреть на общие данные и сделать выводы по ним."
   ]
  },
  {
   "cell_type": "markdown",
   "metadata": {},
   "source": [
    "Сделаем видимыми все столбцы датафрейма:"
   ]
  },
  {
   "cell_type": "code",
   "execution_count": 15,
   "metadata": {},
   "outputs": [],
   "source": [
    "pd.set_option('display.max_columns', None) # делаем все столбцы видимыми"
   ]
  },
  {
   "cell_type": "code",
   "execution_count": 16,
   "metadata": {},
   "outputs": [
    {
     "data": {
      "text/html": [
       "<div>\n",
       "<style scoped>\n",
       "    .dataframe tbody tr th:only-of-type {\n",
       "        vertical-align: middle;\n",
       "    }\n",
       "\n",
       "    .dataframe tbody tr th {\n",
       "        vertical-align: top;\n",
       "    }\n",
       "\n",
       "    .dataframe thead th {\n",
       "        text-align: right;\n",
       "    }\n",
       "</style>\n",
       "<table border=\"1\" class=\"dataframe\">\n",
       "  <thead>\n",
       "    <tr style=\"text-align: right;\">\n",
       "      <th></th>\n",
       "      <th>user_id</th>\n",
       "      <th>month</th>\n",
       "      <th>count_call</th>\n",
       "      <th>sum_call_minute</th>\n",
       "      <th>count_inet_used</th>\n",
       "      <th>sum_mb_used</th>\n",
       "      <th>sum_messages</th>\n",
       "      <th>age</th>\n",
       "      <th>churn_date</th>\n",
       "      <th>city</th>\n",
       "      <th>first_name</th>\n",
       "      <th>last_name</th>\n",
       "      <th>reg_date</th>\n",
       "      <th>tariff_name</th>\n",
       "      <th>messages_included</th>\n",
       "      <th>mb_per_month_included</th>\n",
       "      <th>minutes_included</th>\n",
       "      <th>rub_monthly_fee</th>\n",
       "      <th>rub_per_gb</th>\n",
       "      <th>rub_per_message</th>\n",
       "      <th>rub_per_minute</th>\n",
       "    </tr>\n",
       "  </thead>\n",
       "  <tbody>\n",
       "    <tr>\n",
       "      <th>0</th>\n",
       "      <td>1000</td>\n",
       "      <td>5.0</td>\n",
       "      <td>22.0</td>\n",
       "      <td>159.0</td>\n",
       "      <td>5.0</td>\n",
       "      <td>2253.49</td>\n",
       "      <td>22.0</td>\n",
       "      <td>52</td>\n",
       "      <td>NaT</td>\n",
       "      <td>Краснодар</td>\n",
       "      <td>Рафаил</td>\n",
       "      <td>Верещагин</td>\n",
       "      <td>2018-05-25</td>\n",
       "      <td>ultra</td>\n",
       "      <td>1000</td>\n",
       "      <td>30720</td>\n",
       "      <td>3000</td>\n",
       "      <td>1950</td>\n",
       "      <td>150</td>\n",
       "      <td>1</td>\n",
       "      <td>1</td>\n",
       "    </tr>\n",
       "    <tr>\n",
       "      <th>1</th>\n",
       "      <td>1000</td>\n",
       "      <td>6.0</td>\n",
       "      <td>43.0</td>\n",
       "      <td>172.0</td>\n",
       "      <td>49.0</td>\n",
       "      <td>23233.77</td>\n",
       "      <td>60.0</td>\n",
       "      <td>52</td>\n",
       "      <td>NaT</td>\n",
       "      <td>Краснодар</td>\n",
       "      <td>Рафаил</td>\n",
       "      <td>Верещагин</td>\n",
       "      <td>2018-05-25</td>\n",
       "      <td>ultra</td>\n",
       "      <td>1000</td>\n",
       "      <td>30720</td>\n",
       "      <td>3000</td>\n",
       "      <td>1950</td>\n",
       "      <td>150</td>\n",
       "      <td>1</td>\n",
       "      <td>1</td>\n",
       "    </tr>\n",
       "  </tbody>\n",
       "</table>\n",
       "</div>"
      ],
      "text/plain": [
       "   user_id  month  count_call  sum_call_minute  count_inet_used  sum_mb_used  \\\n",
       "0     1000    5.0        22.0            159.0              5.0      2253.49   \n",
       "1     1000    6.0        43.0            172.0             49.0     23233.77   \n",
       "\n",
       "   sum_messages  age churn_date       city first_name  last_name    reg_date  \\\n",
       "0          22.0   52        NaT  Краснодар     Рафаил  Верещагин  2018-05-25   \n",
       "1          60.0   52        NaT  Краснодар     Рафаил  Верещагин  2018-05-25   \n",
       "\n",
       "  tariff_name  messages_included  mb_per_month_included  minutes_included  \\\n",
       "0       ultra               1000                  30720              3000   \n",
       "1       ultra               1000                  30720              3000   \n",
       "\n",
       "   rub_monthly_fee  rub_per_gb  rub_per_message  rub_per_minute  \n",
       "0             1950         150                1               1  \n",
       "1             1950         150                1               1  "
      ]
     },
     "execution_count": 16,
     "metadata": {},
     "output_type": "execute_result"
    }
   ],
   "source": [
    "total_df.head(2)"
   ]
  },
  {
   "cell_type": "code",
   "execution_count": 17,
   "metadata": {},
   "outputs": [
    {
     "name": "stdout",
     "output_type": "stream",
     "text": [
      "<class 'pandas.core.frame.DataFrame'>\n",
      "Int64Index: 3216 entries, 0 to 3215\n",
      "Data columns (total 21 columns):\n",
      " #   Column                 Non-Null Count  Dtype         \n",
      "---  ------                 --------------  -----         \n",
      " 0   user_id                3216 non-null   int64         \n",
      " 1   month                  3214 non-null   float64       \n",
      " 2   count_call             3174 non-null   float64       \n",
      " 3   sum_call_minute        3174 non-null   float64       \n",
      " 4   count_inet_used        3203 non-null   float64       \n",
      " 5   sum_mb_used            3203 non-null   float64       \n",
      " 6   sum_messages           2717 non-null   float64       \n",
      " 7   age                    3216 non-null   int64         \n",
      " 8   churn_date             189 non-null    datetime64[ns]\n",
      " 9   city                   3216 non-null   object        \n",
      " 10  first_name             3216 non-null   object        \n",
      " 11  last_name              3216 non-null   object        \n",
      " 12  reg_date               3216 non-null   object        \n",
      " 13  tariff_name            3216 non-null   object        \n",
      " 14  messages_included      3216 non-null   int64         \n",
      " 15  mb_per_month_included  3216 non-null   int64         \n",
      " 16  minutes_included       3216 non-null   int64         \n",
      " 17  rub_monthly_fee        3216 non-null   int64         \n",
      " 18  rub_per_gb             3216 non-null   int64         \n",
      " 19  rub_per_message        3216 non-null   int64         \n",
      " 20  rub_per_minute         3216 non-null   int64         \n",
      "dtypes: datetime64[ns](1), float64(6), int64(9), object(5)\n",
      "memory usage: 552.8+ KB\n"
     ]
    }
   ],
   "source": [
    "total_df.info() # получение общей информации о данных в таблице df"
   ]
  },
  {
   "cell_type": "markdown",
   "metadata": {},
   "source": [
    "Итак, в таблице двадцать один столбец. Тип данных в столбцах: object, int64, float64.\n",
    "\n",
    "Согласно документации к данным:\n",
    "\n",
    "* user_id — уникальный идентификатор пользователя; \n",
    "* age — возраст пользователя (годы); \n",
    "* churn_date — дата прекращения пользования тарифом (если значение пропущено, то тариф ещё действовал на момент выгрузки данных); \n",
    "* city — город проживания пользователя; \n",
    "* first_name — имя пользователя; \n",
    "* last_name — фамилия пользователя; \n",
    "* reg_date — дата регистрации пользователя; \n",
    "* tariff_name — тариф; \n",
    "* month — месяц; \n",
    "* count_call — количество звонков; \n",
    "* sum_call — сумма минут звонков; \n",
    "* count_inet_used — количество интернет сессий пользователя; \n",
    "* sum_mb_used — сумма использованого интернет трафика; \n",
    "* sum_messages — количество отправленных сообщений;\n",
    "* rub_monthly_fee - ежемесячная абонентская плата в рублях;\n",
    "* messages_included -  количество сообщений в месяц, включённых в абонентскую плату;\n",
    "* rub_per_gb - стоимость дополнительного гигабайта интернет-трафика сверх тарифного пакета (1 гигабайт = 1024 мегабайта);\n",
    "* rub_per_message - стоимость отправки сообщения сверх тарифного пакета ;\n",
    "* rub_per_minute - стоимость минуты разговора сверх тарифного пакета (например, если в тарифе 100 минут разговора в месяц, то со 101 минуты будет взиматься плата);\n",
    "* mb_per_month_included - объём интернет-трафика, включённого в абонентскую плату (в мегабайтах).\n",
    "\n",
    "\n",
    "\n",
    "В названиях колонок отсутствуют нарушения стиля.\n",
    "\n",
    "Количество значений в столбцах различается. Значит, в данных есть пропущенные значения."
   ]
  },
  {
   "cell_type": "markdown",
   "metadata": {},
   "source": [
    "**Вывод:**"
   ]
  },
  {
   "cell_type": "markdown",
   "metadata": {},
   "source": [
    "На данном шаге мы объединили 5 таблиц в одну под названием total_df. В таблице total_df образовался 21 столбец с необходимой нам информацией этого будет достаточно для дальнейших действий. На следующем шаге мы будем работать с самим качеством данных."
   ]
  },
  {
   "cell_type": "markdown",
   "metadata": {},
   "source": [
    "## Шаг 3. Предобработка данных"
   ]
  },
  {
   "cell_type": "markdown",
   "metadata": {},
   "source": [
    "###  Обработка пропусков"
   ]
  },
  {
   "cell_type": "markdown",
   "metadata": {},
   "source": [
    "Посчитаем, сколько в таблице пропущенных значений. Для этого достаточно двух методов pandas:"
   ]
  },
  {
   "cell_type": "code",
   "execution_count": 18,
   "metadata": {},
   "outputs": [
    {
     "data": {
      "text/plain": [
       "user_id                     0\n",
       "month                       2\n",
       "count_call                 42\n",
       "sum_call_minute            42\n",
       "count_inet_used            13\n",
       "sum_mb_used                13\n",
       "sum_messages              499\n",
       "age                         0\n",
       "churn_date               3027\n",
       "city                        0\n",
       "first_name                  0\n",
       "last_name                   0\n",
       "reg_date                    0\n",
       "tariff_name                 0\n",
       "messages_included           0\n",
       "mb_per_month_included       0\n",
       "minutes_included            0\n",
       "rub_monthly_fee             0\n",
       "rub_per_gb                  0\n",
       "rub_per_message             0\n",
       "rub_per_minute              0\n",
       "dtype: int64"
      ]
     },
     "execution_count": 18,
     "metadata": {},
     "output_type": "execute_result"
    }
   ],
   "source": [
    "total_df.isna().sum() # смотрим количество пропусков в total_df"
   ]
  },
  {
   "cell_type": "markdown",
   "metadata": {},
   "source": [
    "Посмотрим на пропуски столбца month в total_df."
   ]
  },
  {
   "cell_type": "code",
   "execution_count": 19,
   "metadata": {},
   "outputs": [
    {
     "data": {
      "text/html": [
       "<div>\n",
       "<style scoped>\n",
       "    .dataframe tbody tr th:only-of-type {\n",
       "        vertical-align: middle;\n",
       "    }\n",
       "\n",
       "    .dataframe tbody tr th {\n",
       "        vertical-align: top;\n",
       "    }\n",
       "\n",
       "    .dataframe thead th {\n",
       "        text-align: right;\n",
       "    }\n",
       "</style>\n",
       "<table border=\"1\" class=\"dataframe\">\n",
       "  <thead>\n",
       "    <tr style=\"text-align: right;\">\n",
       "      <th></th>\n",
       "      <th>user_id</th>\n",
       "      <th>month</th>\n",
       "      <th>count_call</th>\n",
       "      <th>sum_call_minute</th>\n",
       "      <th>count_inet_used</th>\n",
       "      <th>sum_mb_used</th>\n",
       "      <th>sum_messages</th>\n",
       "      <th>age</th>\n",
       "      <th>churn_date</th>\n",
       "      <th>city</th>\n",
       "      <th>first_name</th>\n",
       "      <th>last_name</th>\n",
       "      <th>reg_date</th>\n",
       "      <th>tariff_name</th>\n",
       "      <th>messages_included</th>\n",
       "      <th>mb_per_month_included</th>\n",
       "      <th>minutes_included</th>\n",
       "      <th>rub_monthly_fee</th>\n",
       "      <th>rub_per_gb</th>\n",
       "      <th>rub_per_message</th>\n",
       "      <th>rub_per_minute</th>\n",
       "    </tr>\n",
       "  </thead>\n",
       "  <tbody>\n",
       "    <tr>\n",
       "      <th>3214</th>\n",
       "      <td>1128</td>\n",
       "      <td>NaN</td>\n",
       "      <td>NaN</td>\n",
       "      <td>NaN</td>\n",
       "      <td>NaN</td>\n",
       "      <td>NaN</td>\n",
       "      <td>NaN</td>\n",
       "      <td>51</td>\n",
       "      <td>2018-12-23</td>\n",
       "      <td>Волжский</td>\n",
       "      <td>Ксения</td>\n",
       "      <td>Агаева</td>\n",
       "      <td>2018-12-15</td>\n",
       "      <td>ultra</td>\n",
       "      <td>1000</td>\n",
       "      <td>30720</td>\n",
       "      <td>3000</td>\n",
       "      <td>1950</td>\n",
       "      <td>150</td>\n",
       "      <td>1</td>\n",
       "      <td>1</td>\n",
       "    </tr>\n",
       "    <tr>\n",
       "      <th>3215</th>\n",
       "      <td>1371</td>\n",
       "      <td>NaN</td>\n",
       "      <td>NaN</td>\n",
       "      <td>NaN</td>\n",
       "      <td>NaN</td>\n",
       "      <td>NaN</td>\n",
       "      <td>NaN</td>\n",
       "      <td>50</td>\n",
       "      <td>2018-12-30</td>\n",
       "      <td>Омск</td>\n",
       "      <td>Ириней</td>\n",
       "      <td>Трофимов</td>\n",
       "      <td>2018-12-25</td>\n",
       "      <td>smart</td>\n",
       "      <td>50</td>\n",
       "      <td>15360</td>\n",
       "      <td>500</td>\n",
       "      <td>550</td>\n",
       "      <td>200</td>\n",
       "      <td>3</td>\n",
       "      <td>3</td>\n",
       "    </tr>\n",
       "  </tbody>\n",
       "</table>\n",
       "</div>"
      ],
      "text/plain": [
       "      user_id  month  count_call  sum_call_minute  count_inet_used  \\\n",
       "3214     1128    NaN         NaN              NaN              NaN   \n",
       "3215     1371    NaN         NaN              NaN              NaN   \n",
       "\n",
       "      sum_mb_used  sum_messages  age churn_date      city first_name  \\\n",
       "3214          NaN           NaN   51 2018-12-23  Волжский     Ксения   \n",
       "3215          NaN           NaN   50 2018-12-30      Омск     Ириней   \n",
       "\n",
       "     last_name    reg_date tariff_name  messages_included  \\\n",
       "3214    Агаева  2018-12-15       ultra               1000   \n",
       "3215  Трофимов  2018-12-25       smart                 50   \n",
       "\n",
       "      mb_per_month_included  minutes_included  rub_monthly_fee  rub_per_gb  \\\n",
       "3214                  30720              3000             1950         150   \n",
       "3215                  15360               500              550         200   \n",
       "\n",
       "      rub_per_message  rub_per_minute  \n",
       "3214                1               1  \n",
       "3215                3               3  "
      ]
     },
     "execution_count": 19,
     "metadata": {},
     "output_type": "execute_result"
    }
   ],
   "source": [
    "total_df[total_df['month'].isna()] # смотрим пропуски в столбце month "
   ]
  },
  {
   "cell_type": "markdown",
   "metadata": {},
   "source": [
    "Видно, что два пользователя недолго пользовались услугами связи это user_id 1128 и user_id 1371. Обработаем пропуски этих пользователей. Они пользовались услугами в декабре, заменеим пропуски в столбце month на 12 (декабрь)."
   ]
  },
  {
   "cell_type": "code",
   "execution_count": 20,
   "metadata": {},
   "outputs": [],
   "source": [
    "total_df['month'] = total_df['month'].fillna(12)"
   ]
  },
  {
   "cell_type": "code",
   "execution_count": 21,
   "metadata": {
    "scrolled": true
   },
   "outputs": [
    {
     "data": {
      "text/html": [
       "<div>\n",
       "<style scoped>\n",
       "    .dataframe tbody tr th:only-of-type {\n",
       "        vertical-align: middle;\n",
       "    }\n",
       "\n",
       "    .dataframe tbody tr th {\n",
       "        vertical-align: top;\n",
       "    }\n",
       "\n",
       "    .dataframe thead th {\n",
       "        text-align: right;\n",
       "    }\n",
       "</style>\n",
       "<table border=\"1\" class=\"dataframe\">\n",
       "  <thead>\n",
       "    <tr style=\"text-align: right;\">\n",
       "      <th></th>\n",
       "      <th>user_id</th>\n",
       "      <th>month</th>\n",
       "      <th>count_call</th>\n",
       "      <th>sum_call_minute</th>\n",
       "      <th>count_inet_used</th>\n",
       "      <th>sum_mb_used</th>\n",
       "      <th>sum_messages</th>\n",
       "      <th>age</th>\n",
       "      <th>churn_date</th>\n",
       "      <th>city</th>\n",
       "      <th>first_name</th>\n",
       "      <th>last_name</th>\n",
       "      <th>reg_date</th>\n",
       "      <th>tariff_name</th>\n",
       "      <th>messages_included</th>\n",
       "      <th>mb_per_month_included</th>\n",
       "      <th>minutes_included</th>\n",
       "      <th>rub_monthly_fee</th>\n",
       "      <th>rub_per_gb</th>\n",
       "      <th>rub_per_message</th>\n",
       "      <th>rub_per_minute</th>\n",
       "    </tr>\n",
       "  </thead>\n",
       "  <tbody>\n",
       "    <tr>\n",
       "      <th>3214</th>\n",
       "      <td>1128</td>\n",
       "      <td>12.0</td>\n",
       "      <td>NaN</td>\n",
       "      <td>NaN</td>\n",
       "      <td>NaN</td>\n",
       "      <td>NaN</td>\n",
       "      <td>NaN</td>\n",
       "      <td>51</td>\n",
       "      <td>2018-12-23</td>\n",
       "      <td>Волжский</td>\n",
       "      <td>Ксения</td>\n",
       "      <td>Агаева</td>\n",
       "      <td>2018-12-15</td>\n",
       "      <td>ultra</td>\n",
       "      <td>1000</td>\n",
       "      <td>30720</td>\n",
       "      <td>3000</td>\n",
       "      <td>1950</td>\n",
       "      <td>150</td>\n",
       "      <td>1</td>\n",
       "      <td>1</td>\n",
       "    </tr>\n",
       "    <tr>\n",
       "      <th>3215</th>\n",
       "      <td>1371</td>\n",
       "      <td>12.0</td>\n",
       "      <td>NaN</td>\n",
       "      <td>NaN</td>\n",
       "      <td>NaN</td>\n",
       "      <td>NaN</td>\n",
       "      <td>NaN</td>\n",
       "      <td>50</td>\n",
       "      <td>2018-12-30</td>\n",
       "      <td>Омск</td>\n",
       "      <td>Ириней</td>\n",
       "      <td>Трофимов</td>\n",
       "      <td>2018-12-25</td>\n",
       "      <td>smart</td>\n",
       "      <td>50</td>\n",
       "      <td>15360</td>\n",
       "      <td>500</td>\n",
       "      <td>550</td>\n",
       "      <td>200</td>\n",
       "      <td>3</td>\n",
       "      <td>3</td>\n",
       "    </tr>\n",
       "  </tbody>\n",
       "</table>\n",
       "</div>"
      ],
      "text/plain": [
       "      user_id  month  count_call  sum_call_minute  count_inet_used  \\\n",
       "3214     1128   12.0         NaN              NaN              NaN   \n",
       "3215     1371   12.0         NaN              NaN              NaN   \n",
       "\n",
       "      sum_mb_used  sum_messages  age churn_date      city first_name  \\\n",
       "3214          NaN           NaN   51 2018-12-23  Волжский     Ксения   \n",
       "3215          NaN           NaN   50 2018-12-30      Омск     Ириней   \n",
       "\n",
       "     last_name    reg_date tariff_name  messages_included  \\\n",
       "3214    Агаева  2018-12-15       ultra               1000   \n",
       "3215  Трофимов  2018-12-25       smart                 50   \n",
       "\n",
       "      mb_per_month_included  minutes_included  rub_monthly_fee  rub_per_gb  \\\n",
       "3214                  30720              3000             1950         150   \n",
       "3215                  15360               500              550         200   \n",
       "\n",
       "      rub_per_message  rub_per_minute  \n",
       "3214                1               1  \n",
       "3215                3               3  "
      ]
     },
     "execution_count": 21,
     "metadata": {},
     "output_type": "execute_result"
    }
   ],
   "source": [
    "total_df.query('user_id == 1128 or user_id == 1371')"
   ]
  },
  {
   "cell_type": "code",
   "execution_count": 22,
   "metadata": {},
   "outputs": [],
   "source": [
    "df_december = total_df.query('month == 12')"
   ]
  },
  {
   "cell_type": "code",
   "execution_count": 23,
   "metadata": {
    "scrolled": false
   },
   "outputs": [
    {
     "data": {
      "text/html": [
       "<div>\n",
       "<style scoped>\n",
       "    .dataframe tbody tr th:only-of-type {\n",
       "        vertical-align: middle;\n",
       "    }\n",
       "\n",
       "    .dataframe tbody tr th {\n",
       "        vertical-align: top;\n",
       "    }\n",
       "\n",
       "    .dataframe thead th {\n",
       "        text-align: right;\n",
       "    }\n",
       "</style>\n",
       "<table border=\"1\" class=\"dataframe\">\n",
       "  <thead>\n",
       "    <tr style=\"text-align: right;\">\n",
       "      <th></th>\n",
       "      <th>count_call</th>\n",
       "      <th>sum_call_minute</th>\n",
       "      <th>count_inet_used</th>\n",
       "      <th>sum_mb_used</th>\n",
       "      <th>sum_messages</th>\n",
       "    </tr>\n",
       "    <tr>\n",
       "      <th>age</th>\n",
       "      <th></th>\n",
       "      <th></th>\n",
       "      <th></th>\n",
       "      <th></th>\n",
       "      <th></th>\n",
       "    </tr>\n",
       "  </thead>\n",
       "  <tbody>\n",
       "    <tr>\n",
       "      <th>50</th>\n",
       "      <td>54.0</td>\n",
       "      <td>383.0</td>\n",
       "      <td>47.0</td>\n",
       "      <td>17155.755</td>\n",
       "      <td>41.0</td>\n",
       "    </tr>\n",
       "    <tr>\n",
       "      <th>51</th>\n",
       "      <td>70.0</td>\n",
       "      <td>490.5</td>\n",
       "      <td>55.0</td>\n",
       "      <td>20139.605</td>\n",
       "      <td>72.0</td>\n",
       "    </tr>\n",
       "  </tbody>\n",
       "</table>\n",
       "</div>"
      ],
      "text/plain": [
       "     count_call  sum_call_minute  count_inet_used  sum_mb_used  sum_messages\n",
       "age                                                                         \n",
       "50         54.0            383.0             47.0    17155.755          41.0\n",
       "51         70.0            490.5             55.0    20139.605          72.0"
      ]
     },
     "execution_count": 23,
     "metadata": {},
     "output_type": "execute_result"
    }
   ],
   "source": [
    "df_isna = df_december.groupby('age')[['count_call', 'sum_call_minute', 'count_inet_used', 'sum_mb_used', 'sum_messages']].median()\n",
    "df_isna.query('age == 50 or age == 51')"
   ]
  },
  {
   "cell_type": "markdown",
   "metadata": {},
   "source": [
    "Сделаем замены пропущенных значений в столбцах, где user_id равен 1371, значения будут заменены на результат группировки по годам пользователей и использованию услуг пользователей в декабре, значение использования будет медианой этих групп. Учтем, что пользователь был клиентом всего 5 дней, относительно декабря это примерно 16 % от месяца, используем это в расчете пропусков."
   ]
  },
  {
   "cell_type": "code",
   "execution_count": 24,
   "metadata": {},
   "outputs": [],
   "source": [
    "total_df.loc[(total_df.user_id == 1371), \n",
    "             ['count_call', 'sum_call_minute', 'count_inet_used', 'sum_mb_used', 'sum_messages']] = np.ceil([54 * 0.16, 383 * 0.16, 47 * 0.16, 17155.755 * 0.16, 41 * 0.16])"
   ]
  },
  {
   "cell_type": "code",
   "execution_count": 25,
   "metadata": {
    "scrolled": true
   },
   "outputs": [
    {
     "data": {
      "text/html": [
       "<div>\n",
       "<style scoped>\n",
       "    .dataframe tbody tr th:only-of-type {\n",
       "        vertical-align: middle;\n",
       "    }\n",
       "\n",
       "    .dataframe tbody tr th {\n",
       "        vertical-align: top;\n",
       "    }\n",
       "\n",
       "    .dataframe thead th {\n",
       "        text-align: right;\n",
       "    }\n",
       "</style>\n",
       "<table border=\"1\" class=\"dataframe\">\n",
       "  <thead>\n",
       "    <tr style=\"text-align: right;\">\n",
       "      <th></th>\n",
       "      <th>user_id</th>\n",
       "      <th>month</th>\n",
       "      <th>count_call</th>\n",
       "      <th>sum_call_minute</th>\n",
       "      <th>count_inet_used</th>\n",
       "      <th>sum_mb_used</th>\n",
       "      <th>sum_messages</th>\n",
       "      <th>age</th>\n",
       "      <th>churn_date</th>\n",
       "      <th>city</th>\n",
       "      <th>first_name</th>\n",
       "      <th>last_name</th>\n",
       "      <th>reg_date</th>\n",
       "      <th>tariff_name</th>\n",
       "      <th>messages_included</th>\n",
       "      <th>mb_per_month_included</th>\n",
       "      <th>minutes_included</th>\n",
       "      <th>rub_monthly_fee</th>\n",
       "      <th>rub_per_gb</th>\n",
       "      <th>rub_per_message</th>\n",
       "      <th>rub_per_minute</th>\n",
       "    </tr>\n",
       "  </thead>\n",
       "  <tbody>\n",
       "    <tr>\n",
       "      <th>3215</th>\n",
       "      <td>1371</td>\n",
       "      <td>12.0</td>\n",
       "      <td>9.0</td>\n",
       "      <td>62.0</td>\n",
       "      <td>8.0</td>\n",
       "      <td>2745.0</td>\n",
       "      <td>7.0</td>\n",
       "      <td>50</td>\n",
       "      <td>2018-12-30</td>\n",
       "      <td>Омск</td>\n",
       "      <td>Ириней</td>\n",
       "      <td>Трофимов</td>\n",
       "      <td>2018-12-25</td>\n",
       "      <td>smart</td>\n",
       "      <td>50</td>\n",
       "      <td>15360</td>\n",
       "      <td>500</td>\n",
       "      <td>550</td>\n",
       "      <td>200</td>\n",
       "      <td>3</td>\n",
       "      <td>3</td>\n",
       "    </tr>\n",
       "  </tbody>\n",
       "</table>\n",
       "</div>"
      ],
      "text/plain": [
       "      user_id  month  count_call  sum_call_minute  count_inet_used  \\\n",
       "3215     1371   12.0         9.0             62.0              8.0   \n",
       "\n",
       "      sum_mb_used  sum_messages  age churn_date  city first_name last_name  \\\n",
       "3215       2745.0           7.0   50 2018-12-30  Омск     Ириней  Трофимов   \n",
       "\n",
       "        reg_date tariff_name  messages_included  mb_per_month_included  \\\n",
       "3215  2018-12-25       smart                 50                  15360   \n",
       "\n",
       "      minutes_included  rub_monthly_fee  rub_per_gb  rub_per_message  \\\n",
       "3215               500              550         200                3   \n",
       "\n",
       "      rub_per_minute  \n",
       "3215               3  "
      ]
     },
     "execution_count": 25,
     "metadata": {},
     "output_type": "execute_result"
    }
   ],
   "source": [
    "total_df.query('user_id == 1371')"
   ]
  },
  {
   "cell_type": "markdown",
   "metadata": {},
   "source": [
    "Теперь cделаем замены пропущенных значений в столбцах, где user_id равен 1128, произведем замену аналогично процессу замен по user_id 1371, но будем учитывать, что юзер пользовался услугами 8 дней, относительно декабря это примерно 26 % от месяца, используем это в расчете пропусков."
   ]
  },
  {
   "cell_type": "code",
   "execution_count": 26,
   "metadata": {},
   "outputs": [],
   "source": [
    "total_df.loc[(total_df.user_id == 1128), \n",
    "             ['count_call', 'sum_call_minute', 'count_inet_used', 'sum_mb_used', 'sum_messages']] = np.ceil([70 * 0.26, 490 * 0.26, 55 * 0.26, 20139.605 * 0.26, 72 * 0.26])"
   ]
  },
  {
   "cell_type": "code",
   "execution_count": 27,
   "metadata": {},
   "outputs": [
    {
     "data": {
      "text/html": [
       "<div>\n",
       "<style scoped>\n",
       "    .dataframe tbody tr th:only-of-type {\n",
       "        vertical-align: middle;\n",
       "    }\n",
       "\n",
       "    .dataframe tbody tr th {\n",
       "        vertical-align: top;\n",
       "    }\n",
       "\n",
       "    .dataframe thead th {\n",
       "        text-align: right;\n",
       "    }\n",
       "</style>\n",
       "<table border=\"1\" class=\"dataframe\">\n",
       "  <thead>\n",
       "    <tr style=\"text-align: right;\">\n",
       "      <th></th>\n",
       "      <th>user_id</th>\n",
       "      <th>month</th>\n",
       "      <th>count_call</th>\n",
       "      <th>sum_call_minute</th>\n",
       "      <th>count_inet_used</th>\n",
       "      <th>sum_mb_used</th>\n",
       "      <th>sum_messages</th>\n",
       "      <th>age</th>\n",
       "      <th>churn_date</th>\n",
       "      <th>city</th>\n",
       "      <th>first_name</th>\n",
       "      <th>last_name</th>\n",
       "      <th>reg_date</th>\n",
       "      <th>tariff_name</th>\n",
       "      <th>messages_included</th>\n",
       "      <th>mb_per_month_included</th>\n",
       "      <th>minutes_included</th>\n",
       "      <th>rub_monthly_fee</th>\n",
       "      <th>rub_per_gb</th>\n",
       "      <th>rub_per_message</th>\n",
       "      <th>rub_per_minute</th>\n",
       "    </tr>\n",
       "  </thead>\n",
       "  <tbody>\n",
       "    <tr>\n",
       "      <th>3214</th>\n",
       "      <td>1128</td>\n",
       "      <td>12.0</td>\n",
       "      <td>19.0</td>\n",
       "      <td>128.0</td>\n",
       "      <td>15.0</td>\n",
       "      <td>5237.0</td>\n",
       "      <td>19.0</td>\n",
       "      <td>51</td>\n",
       "      <td>2018-12-23</td>\n",
       "      <td>Волжский</td>\n",
       "      <td>Ксения</td>\n",
       "      <td>Агаева</td>\n",
       "      <td>2018-12-15</td>\n",
       "      <td>ultra</td>\n",
       "      <td>1000</td>\n",
       "      <td>30720</td>\n",
       "      <td>3000</td>\n",
       "      <td>1950</td>\n",
       "      <td>150</td>\n",
       "      <td>1</td>\n",
       "      <td>1</td>\n",
       "    </tr>\n",
       "  </tbody>\n",
       "</table>\n",
       "</div>"
      ],
      "text/plain": [
       "      user_id  month  count_call  sum_call_minute  count_inet_used  \\\n",
       "3214     1128   12.0        19.0            128.0             15.0   \n",
       "\n",
       "      sum_mb_used  sum_messages  age churn_date      city first_name  \\\n",
       "3214       5237.0          19.0   51 2018-12-23  Волжский     Ксения   \n",
       "\n",
       "     last_name    reg_date tariff_name  messages_included  \\\n",
       "3214    Агаева  2018-12-15       ultra               1000   \n",
       "\n",
       "      mb_per_month_included  minutes_included  rub_monthly_fee  rub_per_gb  \\\n",
       "3214                  30720              3000             1950         150   \n",
       "\n",
       "      rub_per_message  rub_per_minute  \n",
       "3214                1               1  "
      ]
     },
     "execution_count": 27,
     "metadata": {},
     "output_type": "execute_result"
    }
   ],
   "source": [
    "total_df.query('user_id == 1128')"
   ]
  },
  {
   "cell_type": "code",
   "execution_count": 28,
   "metadata": {},
   "outputs": [
    {
     "data": {
      "text/plain": [
       "user_id                     0\n",
       "month                       0\n",
       "count_call                 40\n",
       "sum_call_minute            40\n",
       "count_inet_used            11\n",
       "sum_mb_used                11\n",
       "sum_messages              497\n",
       "age                         0\n",
       "churn_date               3027\n",
       "city                        0\n",
       "first_name                  0\n",
       "last_name                   0\n",
       "reg_date                    0\n",
       "tariff_name                 0\n",
       "messages_included           0\n",
       "mb_per_month_included       0\n",
       "minutes_included            0\n",
       "rub_monthly_fee             0\n",
       "rub_per_gb                  0\n",
       "rub_per_message             0\n",
       "rub_per_minute              0\n",
       "dtype: int64"
      ]
     },
     "execution_count": 28,
     "metadata": {},
     "output_type": "execute_result"
    }
   ],
   "source": [
    "total_df.isna().sum() "
   ]
  },
  {
   "cell_type": "markdown",
   "metadata": {},
   "source": [
    "По поводу остальных пропусков, я думаю, что некоторые люди пользовались, какими либо услугами, а какие то не использовали, например смс. На моем опыте мало кто из молодых людей пользуется смс сообщениями, также пропуски с использованием интерента совпадают (столбцы count_inet_used и sum_mb_used) пропуски в 11 строках. Логически можно заменить нулем, что мы и сделаем."
   ]
  },
  {
   "cell_type": "code",
   "execution_count": 29,
   "metadata": {},
   "outputs": [],
   "source": [
    "total_df[['count_inet_used','sum_mb_used','sum_messages','count_call','sum_call_minute']] = total_df[['count_inet_used','sum_mb_used','sum_messages','count_call','sum_call_minute']].fillna(0) # заполняем пропуски нулем"
   ]
  },
  {
   "cell_type": "markdown",
   "metadata": {},
   "source": [
    "От важных пропусков мы избавились, столбец churn_date имеет пропуски так как пользователи не прекращали испоьзовать свои тарифы."
   ]
  },
  {
   "cell_type": "markdown",
   "metadata": {},
   "source": [
    "**Вывод:**"
   ]
  },
  {
   "cell_type": "markdown",
   "metadata": {},
   "source": [
    "В данном этапе мы отработали все пропуски. У пользователей с пропусками было замечено, что они пользовались связью около недели и мы их дропнули, остальные пропуски мы заменили логически. Также в total_df остались пропуски в столбце churn_date это нормально ведь пользователи до сих пор используют услуги связи."
   ]
  },
  {
   "cell_type": "markdown",
   "metadata": {},
   "source": [
    "### Замена типа данных"
   ]
  },
  {
   "cell_type": "markdown",
   "metadata": {},
   "source": [
    "Для дальнейшей работы необходимо заменить тип данных."
   ]
  },
  {
   "cell_type": "code",
   "execution_count": 30,
   "metadata": {
    "scrolled": false
   },
   "outputs": [
    {
     "name": "stdout",
     "output_type": "stream",
     "text": [
      "<class 'pandas.core.frame.DataFrame'>\n",
      "Int64Index: 3216 entries, 0 to 3215\n",
      "Data columns (total 21 columns):\n",
      " #   Column                 Non-Null Count  Dtype         \n",
      "---  ------                 --------------  -----         \n",
      " 0   user_id                3216 non-null   int64         \n",
      " 1   month                  3216 non-null   float64       \n",
      " 2   count_call             3216 non-null   float64       \n",
      " 3   sum_call_minute        3216 non-null   float64       \n",
      " 4   count_inet_used        3216 non-null   float64       \n",
      " 5   sum_mb_used            3216 non-null   float64       \n",
      " 6   sum_messages           3216 non-null   float64       \n",
      " 7   age                    3216 non-null   int64         \n",
      " 8   churn_date             189 non-null    datetime64[ns]\n",
      " 9   city                   3216 non-null   object        \n",
      " 10  first_name             3216 non-null   object        \n",
      " 11  last_name              3216 non-null   object        \n",
      " 12  reg_date               3216 non-null   object        \n",
      " 13  tariff_name            3216 non-null   object        \n",
      " 14  messages_included      3216 non-null   int64         \n",
      " 15  mb_per_month_included  3216 non-null   int64         \n",
      " 16  minutes_included       3216 non-null   int64         \n",
      " 17  rub_monthly_fee        3216 non-null   int64         \n",
      " 18  rub_per_gb             3216 non-null   int64         \n",
      " 19  rub_per_message        3216 non-null   int64         \n",
      " 20  rub_per_minute         3216 non-null   int64         \n",
      "dtypes: datetime64[ns](1), float64(6), int64(9), object(5)\n",
      "memory usage: 552.8+ KB\n"
     ]
    }
   ],
   "source": [
    "total_df.info() # получение общей информации о данных в таблице df"
   ]
  },
  {
   "cell_type": "markdown",
   "metadata": {},
   "source": [
    "Заменим тип данных сиолбцов с флотами на int64. Убрав дробные части мы ничего существенного для анализа не потеряем, зато с типом данных int64 мы получим точные данные, так как данные типа float64 хранятся не точно, а лишь с некоторым приближением, иногда это может приводить к багам."
   ]
  },
  {
   "cell_type": "code",
   "execution_count": 31,
   "metadata": {},
   "outputs": [],
   "source": [
    "total_df = total_df.astype(\n",
    "    {'month':'int','count_call':'int','sum_call_minute':'int','count_inet_used':'int','sum_mb_used':'int', 'sum_messages':'int'}) # меняем тип данных"
   ]
  },
  {
   "cell_type": "code",
   "execution_count": 32,
   "metadata": {
    "scrolled": false
   },
   "outputs": [
    {
     "name": "stdout",
     "output_type": "stream",
     "text": [
      "<class 'pandas.core.frame.DataFrame'>\n",
      "Int64Index: 3216 entries, 0 to 3215\n",
      "Data columns (total 21 columns):\n",
      " #   Column                 Non-Null Count  Dtype         \n",
      "---  ------                 --------------  -----         \n",
      " 0   user_id                3216 non-null   int64         \n",
      " 1   month                  3216 non-null   int64         \n",
      " 2   count_call             3216 non-null   int64         \n",
      " 3   sum_call_minute        3216 non-null   int64         \n",
      " 4   count_inet_used        3216 non-null   int64         \n",
      " 5   sum_mb_used            3216 non-null   int64         \n",
      " 6   sum_messages           3216 non-null   int64         \n",
      " 7   age                    3216 non-null   int64         \n",
      " 8   churn_date             189 non-null    datetime64[ns]\n",
      " 9   city                   3216 non-null   object        \n",
      " 10  first_name             3216 non-null   object        \n",
      " 11  last_name              3216 non-null   object        \n",
      " 12  reg_date               3216 non-null   object        \n",
      " 13  tariff_name            3216 non-null   object        \n",
      " 14  messages_included      3216 non-null   int64         \n",
      " 15  mb_per_month_included  3216 non-null   int64         \n",
      " 16  minutes_included       3216 non-null   int64         \n",
      " 17  rub_monthly_fee        3216 non-null   int64         \n",
      " 18  rub_per_gb             3216 non-null   int64         \n",
      " 19  rub_per_message        3216 non-null   int64         \n",
      " 20  rub_per_minute         3216 non-null   int64         \n",
      "dtypes: datetime64[ns](1), int64(15), object(5)\n",
      "memory usage: 552.8+ KB\n"
     ]
    }
   ],
   "source": [
    "total_df.info()"
   ]
  },
  {
   "cell_type": "markdown",
   "metadata": {},
   "source": [
    "Также посмотрим есть ли дубликаты в наших данных."
   ]
  },
  {
   "cell_type": "code",
   "execution_count": 33,
   "metadata": {
    "scrolled": false
   },
   "outputs": [
    {
     "data": {
      "text/html": [
       "<div>\n",
       "<style scoped>\n",
       "    .dataframe tbody tr th:only-of-type {\n",
       "        vertical-align: middle;\n",
       "    }\n",
       "\n",
       "    .dataframe tbody tr th {\n",
       "        vertical-align: top;\n",
       "    }\n",
       "\n",
       "    .dataframe thead th {\n",
       "        text-align: right;\n",
       "    }\n",
       "</style>\n",
       "<table border=\"1\" class=\"dataframe\">\n",
       "  <thead>\n",
       "    <tr style=\"text-align: right;\">\n",
       "      <th></th>\n",
       "      <th>user_id</th>\n",
       "      <th>month</th>\n",
       "      <th>count_call</th>\n",
       "      <th>sum_call_minute</th>\n",
       "      <th>count_inet_used</th>\n",
       "      <th>sum_mb_used</th>\n",
       "      <th>sum_messages</th>\n",
       "      <th>age</th>\n",
       "      <th>churn_date</th>\n",
       "      <th>city</th>\n",
       "      <th>first_name</th>\n",
       "      <th>last_name</th>\n",
       "      <th>reg_date</th>\n",
       "      <th>tariff_name</th>\n",
       "      <th>messages_included</th>\n",
       "      <th>mb_per_month_included</th>\n",
       "      <th>minutes_included</th>\n",
       "      <th>rub_monthly_fee</th>\n",
       "      <th>rub_per_gb</th>\n",
       "      <th>rub_per_message</th>\n",
       "      <th>rub_per_minute</th>\n",
       "    </tr>\n",
       "  </thead>\n",
       "  <tbody>\n",
       "  </tbody>\n",
       "</table>\n",
       "</div>"
      ],
      "text/plain": [
       "Empty DataFrame\n",
       "Columns: [user_id, month, count_call, sum_call_minute, count_inet_used, sum_mb_used, sum_messages, age, churn_date, city, first_name, last_name, reg_date, tariff_name, messages_included, mb_per_month_included, minutes_included, rub_monthly_fee, rub_per_gb, rub_per_message, rub_per_minute]\n",
       "Index: []"
      ]
     },
     "execution_count": 33,
     "metadata": {},
     "output_type": "execute_result"
    }
   ],
   "source": [
    "total_df[total_df.duplicated()]"
   ]
  },
  {
   "cell_type": "markdown",
   "metadata": {},
   "source": [
    "Успех замена типа данных прошла успешно, идем далее в следующем шаге мы будем добавлять необходимые для решения задач столбцы с данными. Также отмечу, что в данных нет дубликатов."
   ]
  },
  {
   "cell_type": "markdown",
   "metadata": {},
   "source": [
    "## Шаг 4. Добавляем столбцы"
   ]
  },
  {
   "cell_type": "markdown",
   "metadata": {},
   "source": [
    "Для дальнейшего анализа необходимо сделать столбцы с трафиком пользователей в GB и перевести в гигабайты в мегабайты это необходимо для расчета выручки."
   ]
  },
  {
   "cell_type": "code",
   "execution_count": 34,
   "metadata": {},
   "outputs": [],
   "source": [
    "total_df['sum_gb_used'] = total_df['sum_mb_used'] / 1024 # добавляем столбец с информцией о трафике в GB\n",
    "total_df['sum_gb_used'] = total_df['sum_gb_used'].apply(np.ceil) # округляем значения\n",
    "total_df['sum_gb_used'] = total_df['sum_gb_used'].astype('int') # меняем тип данных"
   ]
  },
  {
   "cell_type": "code",
   "execution_count": 35,
   "metadata": {},
   "outputs": [
    {
     "data": {
      "text/html": [
       "<div>\n",
       "<style scoped>\n",
       "    .dataframe tbody tr th:only-of-type {\n",
       "        vertical-align: middle;\n",
       "    }\n",
       "\n",
       "    .dataframe tbody tr th {\n",
       "        vertical-align: top;\n",
       "    }\n",
       "\n",
       "    .dataframe thead th {\n",
       "        text-align: right;\n",
       "    }\n",
       "</style>\n",
       "<table border=\"1\" class=\"dataframe\">\n",
       "  <thead>\n",
       "    <tr style=\"text-align: right;\">\n",
       "      <th></th>\n",
       "      <th>user_id</th>\n",
       "      <th>month</th>\n",
       "      <th>count_call</th>\n",
       "      <th>sum_call_minute</th>\n",
       "      <th>count_inet_used</th>\n",
       "      <th>sum_mb_used</th>\n",
       "      <th>sum_messages</th>\n",
       "      <th>age</th>\n",
       "      <th>churn_date</th>\n",
       "      <th>city</th>\n",
       "      <th>first_name</th>\n",
       "      <th>last_name</th>\n",
       "      <th>reg_date</th>\n",
       "      <th>tariff_name</th>\n",
       "      <th>messages_included</th>\n",
       "      <th>mb_per_month_included</th>\n",
       "      <th>minutes_included</th>\n",
       "      <th>rub_monthly_fee</th>\n",
       "      <th>rub_per_gb</th>\n",
       "      <th>rub_per_message</th>\n",
       "      <th>rub_per_minute</th>\n",
       "      <th>sum_gb_used</th>\n",
       "    </tr>\n",
       "  </thead>\n",
       "  <tbody>\n",
       "    <tr>\n",
       "      <th>0</th>\n",
       "      <td>1000</td>\n",
       "      <td>5</td>\n",
       "      <td>22</td>\n",
       "      <td>159</td>\n",
       "      <td>5</td>\n",
       "      <td>2253</td>\n",
       "      <td>22</td>\n",
       "      <td>52</td>\n",
       "      <td>NaT</td>\n",
       "      <td>Краснодар</td>\n",
       "      <td>Рафаил</td>\n",
       "      <td>Верещагин</td>\n",
       "      <td>2018-05-25</td>\n",
       "      <td>ultra</td>\n",
       "      <td>1000</td>\n",
       "      <td>30720</td>\n",
       "      <td>3000</td>\n",
       "      <td>1950</td>\n",
       "      <td>150</td>\n",
       "      <td>1</td>\n",
       "      <td>1</td>\n",
       "      <td>3</td>\n",
       "    </tr>\n",
       "    <tr>\n",
       "      <th>1</th>\n",
       "      <td>1000</td>\n",
       "      <td>6</td>\n",
       "      <td>43</td>\n",
       "      <td>172</td>\n",
       "      <td>49</td>\n",
       "      <td>23233</td>\n",
       "      <td>60</td>\n",
       "      <td>52</td>\n",
       "      <td>NaT</td>\n",
       "      <td>Краснодар</td>\n",
       "      <td>Рафаил</td>\n",
       "      <td>Верещагин</td>\n",
       "      <td>2018-05-25</td>\n",
       "      <td>ultra</td>\n",
       "      <td>1000</td>\n",
       "      <td>30720</td>\n",
       "      <td>3000</td>\n",
       "      <td>1950</td>\n",
       "      <td>150</td>\n",
       "      <td>1</td>\n",
       "      <td>1</td>\n",
       "      <td>23</td>\n",
       "    </tr>\n",
       "  </tbody>\n",
       "</table>\n",
       "</div>"
      ],
      "text/plain": [
       "   user_id  month  count_call  sum_call_minute  count_inet_used  sum_mb_used  \\\n",
       "0     1000      5          22              159                5         2253   \n",
       "1     1000      6          43              172               49        23233   \n",
       "\n",
       "   sum_messages  age churn_date       city first_name  last_name    reg_date  \\\n",
       "0            22   52        NaT  Краснодар     Рафаил  Верещагин  2018-05-25   \n",
       "1            60   52        NaT  Краснодар     Рафаил  Верещагин  2018-05-25   \n",
       "\n",
       "  tariff_name  messages_included  mb_per_month_included  minutes_included  \\\n",
       "0       ultra               1000                  30720              3000   \n",
       "1       ultra               1000                  30720              3000   \n",
       "\n",
       "   rub_monthly_fee  rub_per_gb  rub_per_message  rub_per_minute  sum_gb_used  \n",
       "0             1950         150                1               1            3  \n",
       "1             1950         150                1               1           23  "
      ]
     },
     "execution_count": 35,
     "metadata": {},
     "output_type": "execute_result"
    }
   ],
   "source": [
    "total_df.head(2)"
   ]
  },
  {
   "cell_type": "markdown",
   "metadata": {},
   "source": [
    "Успех, займемся столбцом sum_gb_included в котором содержится информация об объёме интернет-трафика, включённого в абонентскую плату. "
   ]
  },
  {
   "cell_type": "code",
   "execution_count": 36,
   "metadata": {},
   "outputs": [],
   "source": [
    "total_df['sum_gb_included'] = total_df['mb_per_month_included'] / 1024 # добавляем столбец с информцией о включеном в тариф трафике в GB\n",
    "total_df['sum_gb_included'] = total_df['sum_gb_included'].astype('int') # меняем тип данных"
   ]
  },
  {
   "cell_type": "code",
   "execution_count": 37,
   "metadata": {
    "scrolled": true
   },
   "outputs": [
    {
     "data": {
      "text/html": [
       "<div>\n",
       "<style scoped>\n",
       "    .dataframe tbody tr th:only-of-type {\n",
       "        vertical-align: middle;\n",
       "    }\n",
       "\n",
       "    .dataframe tbody tr th {\n",
       "        vertical-align: top;\n",
       "    }\n",
       "\n",
       "    .dataframe thead th {\n",
       "        text-align: right;\n",
       "    }\n",
       "</style>\n",
       "<table border=\"1\" class=\"dataframe\">\n",
       "  <thead>\n",
       "    <tr style=\"text-align: right;\">\n",
       "      <th></th>\n",
       "      <th>user_id</th>\n",
       "      <th>month</th>\n",
       "      <th>count_call</th>\n",
       "      <th>sum_call_minute</th>\n",
       "      <th>count_inet_used</th>\n",
       "      <th>sum_mb_used</th>\n",
       "      <th>sum_messages</th>\n",
       "      <th>age</th>\n",
       "      <th>churn_date</th>\n",
       "      <th>city</th>\n",
       "      <th>first_name</th>\n",
       "      <th>last_name</th>\n",
       "      <th>reg_date</th>\n",
       "      <th>tariff_name</th>\n",
       "      <th>messages_included</th>\n",
       "      <th>mb_per_month_included</th>\n",
       "      <th>minutes_included</th>\n",
       "      <th>rub_monthly_fee</th>\n",
       "      <th>rub_per_gb</th>\n",
       "      <th>rub_per_message</th>\n",
       "      <th>rub_per_minute</th>\n",
       "      <th>sum_gb_used</th>\n",
       "      <th>sum_gb_included</th>\n",
       "    </tr>\n",
       "  </thead>\n",
       "  <tbody>\n",
       "    <tr>\n",
       "      <th>0</th>\n",
       "      <td>1000</td>\n",
       "      <td>5</td>\n",
       "      <td>22</td>\n",
       "      <td>159</td>\n",
       "      <td>5</td>\n",
       "      <td>2253</td>\n",
       "      <td>22</td>\n",
       "      <td>52</td>\n",
       "      <td>NaT</td>\n",
       "      <td>Краснодар</td>\n",
       "      <td>Рафаил</td>\n",
       "      <td>Верещагин</td>\n",
       "      <td>2018-05-25</td>\n",
       "      <td>ultra</td>\n",
       "      <td>1000</td>\n",
       "      <td>30720</td>\n",
       "      <td>3000</td>\n",
       "      <td>1950</td>\n",
       "      <td>150</td>\n",
       "      <td>1</td>\n",
       "      <td>1</td>\n",
       "      <td>3</td>\n",
       "      <td>30</td>\n",
       "    </tr>\n",
       "    <tr>\n",
       "      <th>1</th>\n",
       "      <td>1000</td>\n",
       "      <td>6</td>\n",
       "      <td>43</td>\n",
       "      <td>172</td>\n",
       "      <td>49</td>\n",
       "      <td>23233</td>\n",
       "      <td>60</td>\n",
       "      <td>52</td>\n",
       "      <td>NaT</td>\n",
       "      <td>Краснодар</td>\n",
       "      <td>Рафаил</td>\n",
       "      <td>Верещагин</td>\n",
       "      <td>2018-05-25</td>\n",
       "      <td>ultra</td>\n",
       "      <td>1000</td>\n",
       "      <td>30720</td>\n",
       "      <td>3000</td>\n",
       "      <td>1950</td>\n",
       "      <td>150</td>\n",
       "      <td>1</td>\n",
       "      <td>1</td>\n",
       "      <td>23</td>\n",
       "      <td>30</td>\n",
       "    </tr>\n",
       "  </tbody>\n",
       "</table>\n",
       "</div>"
      ],
      "text/plain": [
       "   user_id  month  count_call  sum_call_minute  count_inet_used  sum_mb_used  \\\n",
       "0     1000      5          22              159                5         2253   \n",
       "1     1000      6          43              172               49        23233   \n",
       "\n",
       "   sum_messages  age churn_date       city first_name  last_name    reg_date  \\\n",
       "0            22   52        NaT  Краснодар     Рафаил  Верещагин  2018-05-25   \n",
       "1            60   52        NaT  Краснодар     Рафаил  Верещагин  2018-05-25   \n",
       "\n",
       "  tariff_name  messages_included  mb_per_month_included  minutes_included  \\\n",
       "0       ultra               1000                  30720              3000   \n",
       "1       ultra               1000                  30720              3000   \n",
       "\n",
       "   rub_monthly_fee  rub_per_gb  rub_per_message  rub_per_minute  sum_gb_used  \\\n",
       "0             1950         150                1               1            3   \n",
       "1             1950         150                1               1           23   \n",
       "\n",
       "   sum_gb_included  \n",
       "0               30  \n",
       "1               30  "
      ]
     },
     "execution_count": 37,
     "metadata": {},
     "output_type": "execute_result"
    }
   ],
   "source": [
    "total_df.head(2)"
   ]
  },
  {
   "cell_type": "markdown",
   "metadata": {},
   "source": [
    "Столбец добавлен, следующий шаг расчет выручки."
   ]
  },
  {
   "cell_type": "markdown",
   "metadata": {},
   "source": [
    "**Вывод:**"
   ]
  },
  {
   "cell_type": "markdown",
   "metadata": {},
   "source": [
    "На этом этапе мы добавили столбцы sum_gb_used и sum_gb_included для того, чтобы считать выручку по тарифу Ультра и Смарт."
   ]
  },
  {
   "cell_type": "markdown",
   "metadata": {},
   "source": [
    "## Шаг 5. Считаем выручку"
   ]
  },
  {
   "cell_type": "markdown",
   "metadata": {},
   "source": [
    "На данном этапе необходимо посчитать выручку всех абонентов и создать отдельный столбец с информацией о выручке каждого пользователя по месяцам. Для подсчета выручки нужно написать функцию. "
   ]
  },
  {
   "cell_type": "code",
   "execution_count": 38,
   "metadata": {},
   "outputs": [],
   "source": [
    "def revenue(row): # функция которая подсчитывает выручку \n",
    "    \n",
    "    if row['sum_call_minute'] > row['minutes_included']:  \n",
    "        call_up = (row['sum_call_minute'] - row['minutes_included']) * row['rub_per_minute']\n",
    "    else: call_up = 0\n",
    "        \n",
    "    if row['sum_messages'] > row['messages_included']:  \n",
    "        messages_up = (row['sum_messages'] - row['messages_included']) * row['rub_per_message']\n",
    "    else: messages_up = 0\n",
    "\n",
    "    if row['sum_gb_used'] > row['sum_gb_included']: \n",
    "        inet_up = (row['sum_gb_used'] - row['sum_gb_included']) * row['rub_per_gb']\n",
    "    else: inet_up = 0\n",
    "    \n",
    "    return (call_up + messages_up + inet_up + row['rub_monthly_fee'])"
   ]
  },
  {
   "cell_type": "markdown",
   "metadata": {},
   "source": [
    "Функция написана, создадим столбец revenue_per_month и применим нашу функцию к общей таблице с помощью метода apply."
   ]
  },
  {
   "cell_type": "code",
   "execution_count": 39,
   "metadata": {},
   "outputs": [],
   "source": [
    "total_df['revenue_per_month'] = total_df.apply(revenue, axis=1) # применяем функцию к total_df и создаем столбец revenue_per_month"
   ]
  },
  {
   "cell_type": "code",
   "execution_count": 40,
   "metadata": {},
   "outputs": [
    {
     "data": {
      "text/plain": [
       "4916951"
      ]
     },
     "execution_count": 40,
     "metadata": {},
     "output_type": "execute_result"
    }
   ],
   "source": [
    "# check\n",
    "total_df['revenue_per_month'].sum()"
   ]
  },
  {
   "cell_type": "markdown",
   "metadata": {},
   "source": [
    "Функция успешно применена посмотрим на первые пять строк total_df."
   ]
  },
  {
   "cell_type": "code",
   "execution_count": 41,
   "metadata": {
    "scrolled": true
   },
   "outputs": [
    {
     "data": {
      "text/html": [
       "<div>\n",
       "<style scoped>\n",
       "    .dataframe tbody tr th:only-of-type {\n",
       "        vertical-align: middle;\n",
       "    }\n",
       "\n",
       "    .dataframe tbody tr th {\n",
       "        vertical-align: top;\n",
       "    }\n",
       "\n",
       "    .dataframe thead th {\n",
       "        text-align: right;\n",
       "    }\n",
       "</style>\n",
       "<table border=\"1\" class=\"dataframe\">\n",
       "  <thead>\n",
       "    <tr style=\"text-align: right;\">\n",
       "      <th></th>\n",
       "      <th>user_id</th>\n",
       "      <th>month</th>\n",
       "      <th>count_call</th>\n",
       "      <th>sum_call_minute</th>\n",
       "      <th>count_inet_used</th>\n",
       "      <th>sum_mb_used</th>\n",
       "      <th>sum_messages</th>\n",
       "      <th>age</th>\n",
       "      <th>churn_date</th>\n",
       "      <th>city</th>\n",
       "      <th>first_name</th>\n",
       "      <th>last_name</th>\n",
       "      <th>reg_date</th>\n",
       "      <th>tariff_name</th>\n",
       "      <th>messages_included</th>\n",
       "      <th>mb_per_month_included</th>\n",
       "      <th>minutes_included</th>\n",
       "      <th>rub_monthly_fee</th>\n",
       "      <th>rub_per_gb</th>\n",
       "      <th>rub_per_message</th>\n",
       "      <th>rub_per_minute</th>\n",
       "      <th>sum_gb_used</th>\n",
       "      <th>sum_gb_included</th>\n",
       "      <th>revenue_per_month</th>\n",
       "    </tr>\n",
       "  </thead>\n",
       "  <tbody>\n",
       "    <tr>\n",
       "      <th>0</th>\n",
       "      <td>1000</td>\n",
       "      <td>5</td>\n",
       "      <td>22</td>\n",
       "      <td>159</td>\n",
       "      <td>5</td>\n",
       "      <td>2253</td>\n",
       "      <td>22</td>\n",
       "      <td>52</td>\n",
       "      <td>NaT</td>\n",
       "      <td>Краснодар</td>\n",
       "      <td>Рафаил</td>\n",
       "      <td>Верещагин</td>\n",
       "      <td>2018-05-25</td>\n",
       "      <td>ultra</td>\n",
       "      <td>1000</td>\n",
       "      <td>30720</td>\n",
       "      <td>3000</td>\n",
       "      <td>1950</td>\n",
       "      <td>150</td>\n",
       "      <td>1</td>\n",
       "      <td>1</td>\n",
       "      <td>3</td>\n",
       "      <td>30</td>\n",
       "      <td>1950</td>\n",
       "    </tr>\n",
       "    <tr>\n",
       "      <th>1</th>\n",
       "      <td>1000</td>\n",
       "      <td>6</td>\n",
       "      <td>43</td>\n",
       "      <td>172</td>\n",
       "      <td>49</td>\n",
       "      <td>23233</td>\n",
       "      <td>60</td>\n",
       "      <td>52</td>\n",
       "      <td>NaT</td>\n",
       "      <td>Краснодар</td>\n",
       "      <td>Рафаил</td>\n",
       "      <td>Верещагин</td>\n",
       "      <td>2018-05-25</td>\n",
       "      <td>ultra</td>\n",
       "      <td>1000</td>\n",
       "      <td>30720</td>\n",
       "      <td>3000</td>\n",
       "      <td>1950</td>\n",
       "      <td>150</td>\n",
       "      <td>1</td>\n",
       "      <td>1</td>\n",
       "      <td>23</td>\n",
       "      <td>30</td>\n",
       "      <td>1950</td>\n",
       "    </tr>\n",
       "    <tr>\n",
       "      <th>2</th>\n",
       "      <td>1000</td>\n",
       "      <td>7</td>\n",
       "      <td>47</td>\n",
       "      <td>340</td>\n",
       "      <td>29</td>\n",
       "      <td>14003</td>\n",
       "      <td>75</td>\n",
       "      <td>52</td>\n",
       "      <td>NaT</td>\n",
       "      <td>Краснодар</td>\n",
       "      <td>Рафаил</td>\n",
       "      <td>Верещагин</td>\n",
       "      <td>2018-05-25</td>\n",
       "      <td>ultra</td>\n",
       "      <td>1000</td>\n",
       "      <td>30720</td>\n",
       "      <td>3000</td>\n",
       "      <td>1950</td>\n",
       "      <td>150</td>\n",
       "      <td>1</td>\n",
       "      <td>1</td>\n",
       "      <td>14</td>\n",
       "      <td>30</td>\n",
       "      <td>1950</td>\n",
       "    </tr>\n",
       "    <tr>\n",
       "      <th>3</th>\n",
       "      <td>1000</td>\n",
       "      <td>8</td>\n",
       "      <td>52</td>\n",
       "      <td>408</td>\n",
       "      <td>29</td>\n",
       "      <td>14055</td>\n",
       "      <td>81</td>\n",
       "      <td>52</td>\n",
       "      <td>NaT</td>\n",
       "      <td>Краснодар</td>\n",
       "      <td>Рафаил</td>\n",
       "      <td>Верещагин</td>\n",
       "      <td>2018-05-25</td>\n",
       "      <td>ultra</td>\n",
       "      <td>1000</td>\n",
       "      <td>30720</td>\n",
       "      <td>3000</td>\n",
       "      <td>1950</td>\n",
       "      <td>150</td>\n",
       "      <td>1</td>\n",
       "      <td>1</td>\n",
       "      <td>14</td>\n",
       "      <td>30</td>\n",
       "      <td>1950</td>\n",
       "    </tr>\n",
       "    <tr>\n",
       "      <th>4</th>\n",
       "      <td>1000</td>\n",
       "      <td>9</td>\n",
       "      <td>58</td>\n",
       "      <td>466</td>\n",
       "      <td>27</td>\n",
       "      <td>14568</td>\n",
       "      <td>57</td>\n",
       "      <td>52</td>\n",
       "      <td>NaT</td>\n",
       "      <td>Краснодар</td>\n",
       "      <td>Рафаил</td>\n",
       "      <td>Верещагин</td>\n",
       "      <td>2018-05-25</td>\n",
       "      <td>ultra</td>\n",
       "      <td>1000</td>\n",
       "      <td>30720</td>\n",
       "      <td>3000</td>\n",
       "      <td>1950</td>\n",
       "      <td>150</td>\n",
       "      <td>1</td>\n",
       "      <td>1</td>\n",
       "      <td>15</td>\n",
       "      <td>30</td>\n",
       "      <td>1950</td>\n",
       "    </tr>\n",
       "  </tbody>\n",
       "</table>\n",
       "</div>"
      ],
      "text/plain": [
       "   user_id  month  count_call  sum_call_minute  count_inet_used  sum_mb_used  \\\n",
       "0     1000      5          22              159                5         2253   \n",
       "1     1000      6          43              172               49        23233   \n",
       "2     1000      7          47              340               29        14003   \n",
       "3     1000      8          52              408               29        14055   \n",
       "4     1000      9          58              466               27        14568   \n",
       "\n",
       "   sum_messages  age churn_date       city first_name  last_name    reg_date  \\\n",
       "0            22   52        NaT  Краснодар     Рафаил  Верещагин  2018-05-25   \n",
       "1            60   52        NaT  Краснодар     Рафаил  Верещагин  2018-05-25   \n",
       "2            75   52        NaT  Краснодар     Рафаил  Верещагин  2018-05-25   \n",
       "3            81   52        NaT  Краснодар     Рафаил  Верещагин  2018-05-25   \n",
       "4            57   52        NaT  Краснодар     Рафаил  Верещагин  2018-05-25   \n",
       "\n",
       "  tariff_name  messages_included  mb_per_month_included  minutes_included  \\\n",
       "0       ultra               1000                  30720              3000   \n",
       "1       ultra               1000                  30720              3000   \n",
       "2       ultra               1000                  30720              3000   \n",
       "3       ultra               1000                  30720              3000   \n",
       "4       ultra               1000                  30720              3000   \n",
       "\n",
       "   rub_monthly_fee  rub_per_gb  rub_per_message  rub_per_minute  sum_gb_used  \\\n",
       "0             1950         150                1               1            3   \n",
       "1             1950         150                1               1           23   \n",
       "2             1950         150                1               1           14   \n",
       "3             1950         150                1               1           14   \n",
       "4             1950         150                1               1           15   \n",
       "\n",
       "   sum_gb_included  revenue_per_month  \n",
       "0               30               1950  \n",
       "1               30               1950  \n",
       "2               30               1950  \n",
       "3               30               1950  \n",
       "4               30               1950  "
      ]
     },
     "execution_count": 41,
     "metadata": {},
     "output_type": "execute_result"
    }
   ],
   "source": [
    "total_df.head() # вывод первых пяти строчек total_df"
   ]
  },
  {
   "cell_type": "code",
   "execution_count": 42,
   "metadata": {
    "scrolled": true
   },
   "outputs": [
    {
     "data": {
      "text/html": [
       "<div>\n",
       "<style scoped>\n",
       "    .dataframe tbody tr th:only-of-type {\n",
       "        vertical-align: middle;\n",
       "    }\n",
       "\n",
       "    .dataframe tbody tr th {\n",
       "        vertical-align: top;\n",
       "    }\n",
       "\n",
       "    .dataframe thead th {\n",
       "        text-align: right;\n",
       "    }\n",
       "</style>\n",
       "<table border=\"1\" class=\"dataframe\">\n",
       "  <thead>\n",
       "    <tr style=\"text-align: right;\">\n",
       "      <th></th>\n",
       "      <th>user_id</th>\n",
       "      <th>month</th>\n",
       "      <th>count_call</th>\n",
       "      <th>sum_call_minute</th>\n",
       "      <th>count_inet_used</th>\n",
       "      <th>sum_mb_used</th>\n",
       "      <th>sum_messages</th>\n",
       "      <th>age</th>\n",
       "      <th>churn_date</th>\n",
       "      <th>city</th>\n",
       "      <th>first_name</th>\n",
       "      <th>last_name</th>\n",
       "      <th>reg_date</th>\n",
       "      <th>tariff_name</th>\n",
       "      <th>messages_included</th>\n",
       "      <th>mb_per_month_included</th>\n",
       "      <th>minutes_included</th>\n",
       "      <th>rub_monthly_fee</th>\n",
       "      <th>rub_per_gb</th>\n",
       "      <th>rub_per_message</th>\n",
       "      <th>rub_per_minute</th>\n",
       "      <th>sum_gb_used</th>\n",
       "      <th>sum_gb_included</th>\n",
       "      <th>revenue_per_month</th>\n",
       "    </tr>\n",
       "  </thead>\n",
       "  <tbody>\n",
       "    <tr>\n",
       "      <th>3211</th>\n",
       "      <td>1489</td>\n",
       "      <td>10</td>\n",
       "      <td>0</td>\n",
       "      <td>0</td>\n",
       "      <td>63</td>\n",
       "      <td>19559</td>\n",
       "      <td>21</td>\n",
       "      <td>35</td>\n",
       "      <td>NaT</td>\n",
       "      <td>Санкт-Петербург</td>\n",
       "      <td>Павел</td>\n",
       "      <td>Гончаров</td>\n",
       "      <td>2018-08-15</td>\n",
       "      <td>smart</td>\n",
       "      <td>50</td>\n",
       "      <td>15360</td>\n",
       "      <td>500</td>\n",
       "      <td>550</td>\n",
       "      <td>200</td>\n",
       "      <td>3</td>\n",
       "      <td>3</td>\n",
       "      <td>20</td>\n",
       "      <td>15</td>\n",
       "      <td>1550</td>\n",
       "    </tr>\n",
       "    <tr>\n",
       "      <th>3212</th>\n",
       "      <td>1489</td>\n",
       "      <td>11</td>\n",
       "      <td>0</td>\n",
       "      <td>0</td>\n",
       "      <td>55</td>\n",
       "      <td>17491</td>\n",
       "      <td>20</td>\n",
       "      <td>35</td>\n",
       "      <td>NaT</td>\n",
       "      <td>Санкт-Петербург</td>\n",
       "      <td>Павел</td>\n",
       "      <td>Гончаров</td>\n",
       "      <td>2018-08-15</td>\n",
       "      <td>smart</td>\n",
       "      <td>50</td>\n",
       "      <td>15360</td>\n",
       "      <td>500</td>\n",
       "      <td>550</td>\n",
       "      <td>200</td>\n",
       "      <td>3</td>\n",
       "      <td>3</td>\n",
       "      <td>18</td>\n",
       "      <td>15</td>\n",
       "      <td>1150</td>\n",
       "    </tr>\n",
       "    <tr>\n",
       "      <th>3213</th>\n",
       "      <td>1489</td>\n",
       "      <td>12</td>\n",
       "      <td>0</td>\n",
       "      <td>0</td>\n",
       "      <td>51</td>\n",
       "      <td>17322</td>\n",
       "      <td>35</td>\n",
       "      <td>35</td>\n",
       "      <td>NaT</td>\n",
       "      <td>Санкт-Петербург</td>\n",
       "      <td>Павел</td>\n",
       "      <td>Гончаров</td>\n",
       "      <td>2018-08-15</td>\n",
       "      <td>smart</td>\n",
       "      <td>50</td>\n",
       "      <td>15360</td>\n",
       "      <td>500</td>\n",
       "      <td>550</td>\n",
       "      <td>200</td>\n",
       "      <td>3</td>\n",
       "      <td>3</td>\n",
       "      <td>17</td>\n",
       "      <td>15</td>\n",
       "      <td>950</td>\n",
       "    </tr>\n",
       "    <tr>\n",
       "      <th>3214</th>\n",
       "      <td>1128</td>\n",
       "      <td>12</td>\n",
       "      <td>19</td>\n",
       "      <td>128</td>\n",
       "      <td>15</td>\n",
       "      <td>5237</td>\n",
       "      <td>19</td>\n",
       "      <td>51</td>\n",
       "      <td>2018-12-23</td>\n",
       "      <td>Волжский</td>\n",
       "      <td>Ксения</td>\n",
       "      <td>Агаева</td>\n",
       "      <td>2018-12-15</td>\n",
       "      <td>ultra</td>\n",
       "      <td>1000</td>\n",
       "      <td>30720</td>\n",
       "      <td>3000</td>\n",
       "      <td>1950</td>\n",
       "      <td>150</td>\n",
       "      <td>1</td>\n",
       "      <td>1</td>\n",
       "      <td>6</td>\n",
       "      <td>30</td>\n",
       "      <td>1950</td>\n",
       "    </tr>\n",
       "    <tr>\n",
       "      <th>3215</th>\n",
       "      <td>1371</td>\n",
       "      <td>12</td>\n",
       "      <td>9</td>\n",
       "      <td>62</td>\n",
       "      <td>8</td>\n",
       "      <td>2745</td>\n",
       "      <td>7</td>\n",
       "      <td>50</td>\n",
       "      <td>2018-12-30</td>\n",
       "      <td>Омск</td>\n",
       "      <td>Ириней</td>\n",
       "      <td>Трофимов</td>\n",
       "      <td>2018-12-25</td>\n",
       "      <td>smart</td>\n",
       "      <td>50</td>\n",
       "      <td>15360</td>\n",
       "      <td>500</td>\n",
       "      <td>550</td>\n",
       "      <td>200</td>\n",
       "      <td>3</td>\n",
       "      <td>3</td>\n",
       "      <td>3</td>\n",
       "      <td>15</td>\n",
       "      <td>550</td>\n",
       "    </tr>\n",
       "  </tbody>\n",
       "</table>\n",
       "</div>"
      ],
      "text/plain": [
       "      user_id  month  count_call  sum_call_minute  count_inet_used  \\\n",
       "3211     1489     10           0                0               63   \n",
       "3212     1489     11           0                0               55   \n",
       "3213     1489     12           0                0               51   \n",
       "3214     1128     12          19              128               15   \n",
       "3215     1371     12           9               62                8   \n",
       "\n",
       "      sum_mb_used  sum_messages  age churn_date             city first_name  \\\n",
       "3211        19559            21   35        NaT  Санкт-Петербург      Павел   \n",
       "3212        17491            20   35        NaT  Санкт-Петербург      Павел   \n",
       "3213        17322            35   35        NaT  Санкт-Петербург      Павел   \n",
       "3214         5237            19   51 2018-12-23         Волжский     Ксения   \n",
       "3215         2745             7   50 2018-12-30             Омск     Ириней   \n",
       "\n",
       "     last_name    reg_date tariff_name  messages_included  \\\n",
       "3211  Гончаров  2018-08-15       smart                 50   \n",
       "3212  Гончаров  2018-08-15       smart                 50   \n",
       "3213  Гончаров  2018-08-15       smart                 50   \n",
       "3214    Агаева  2018-12-15       ultra               1000   \n",
       "3215  Трофимов  2018-12-25       smart                 50   \n",
       "\n",
       "      mb_per_month_included  minutes_included  rub_monthly_fee  rub_per_gb  \\\n",
       "3211                  15360               500              550         200   \n",
       "3212                  15360               500              550         200   \n",
       "3213                  15360               500              550         200   \n",
       "3214                  30720              3000             1950         150   \n",
       "3215                  15360               500              550         200   \n",
       "\n",
       "      rub_per_message  rub_per_minute  sum_gb_used  sum_gb_included  \\\n",
       "3211                3               3           20               15   \n",
       "3212                3               3           18               15   \n",
       "3213                3               3           17               15   \n",
       "3214                1               1            6               30   \n",
       "3215                3               3            3               15   \n",
       "\n",
       "      revenue_per_month  \n",
       "3211               1550  \n",
       "3212               1150  \n",
       "3213                950  \n",
       "3214               1950  \n",
       "3215                550  "
      ]
     },
     "execution_count": 42,
     "metadata": {},
     "output_type": "execute_result"
    }
   ],
   "source": [
    "total_df.tail() # вывод последних пяти строчек total_df"
   ]
  },
  {
   "cell_type": "markdown",
   "metadata": {},
   "source": [
    "Данные о выручке есть, посмотрим есть ли пропуски в столбце revenue_per_month."
   ]
  },
  {
   "cell_type": "code",
   "execution_count": 43,
   "metadata": {},
   "outputs": [
    {
     "data": {
      "text/plain": [
       "0"
      ]
     },
     "execution_count": 43,
     "metadata": {},
     "output_type": "execute_result"
    }
   ],
   "source": [
    "total_df['revenue_per_month'].isna().sum() # проверка пропусков в столбце revenue_per_month"
   ]
  },
  {
   "cell_type": "markdown",
   "metadata": {},
   "source": [
    "Успех функция работает, пропусков в столбце revenue_per_month нет."
   ]
  },
  {
   "cell_type": "markdown",
   "metadata": {},
   "source": [
    "**Вывод:**"
   ]
  },
  {
   "cell_type": "markdown",
   "metadata": {},
   "source": [
    "На данном этапе мы сделали расчет выручки с помощью функции revenue. В функции мы использовали данные пользователей и их действия в течении каждого месяца. Минимальная оплата за тариф Смарт - 550 рублей, минимальная оплата за тариф Ультра - 1950 рублей, уверен, что есть пользователи которые намного превышали минимальную стоимость за услуги и это мы проверим в следующих шагах."
   ]
  },
  {
   "cell_type": "markdown",
   "metadata": {},
   "source": [
    "## Шаг 6. Анализ данных"
   ]
  },
  {
   "cell_type": "markdown",
   "metadata": {},
   "source": [
    "На данном этапе потребуется описать поведение клиентов. Рассмотреть основные данные о пользователях такие как: сколько минут они разговаривали по телефону, какое количество смс сообщений отправляли, какой объем интернет трафика и узнать сколько из всего перечисленного требуется пользователям каждого тарифа в месяц. Также необходимо узнать среднее, дисперсию, стандартное отклонение и построить гистограммы."
   ]
  },
  {
   "cell_type": "markdown",
   "metadata": {},
   "source": [
    "Первым делом предлагаю разделить наши данные по двум тарифам, начнем с тарифа Смарт."
   ]
  },
  {
   "cell_type": "markdown",
   "metadata": {},
   "source": [
    "**Смарт**"
   ]
  },
  {
   "cell_type": "markdown",
   "metadata": {},
   "source": [
    "Сделаем таблицу с данными где пользователь использует тариф Смарт."
   ]
  },
  {
   "cell_type": "code",
   "execution_count": 44,
   "metadata": {},
   "outputs": [],
   "source": [
    "df_smart = total_df.query('tariff_name == \"smart\"') # выделяем пользователей тарифа Смарт"
   ]
  },
  {
   "cell_type": "code",
   "execution_count": 45,
   "metadata": {},
   "outputs": [
    {
     "data": {
      "text/plain": [
       "smart    2230\n",
       "Name: tariff_name, dtype: int64"
      ]
     },
     "execution_count": 45,
     "metadata": {},
     "output_type": "execute_result"
    }
   ],
   "source": [
    "df_smart['tariff_name'].value_counts() # подсчет тарифов в df_smart"
   ]
  },
  {
   "cell_type": "markdown",
   "metadata": {},
   "source": [
    "Посмотрим на количество пользователей тарифа Смарт."
   ]
  },
  {
   "cell_type": "code",
   "execution_count": 46,
   "metadata": {},
   "outputs": [
    {
     "data": {
      "text/plain": [
       "351"
      ]
     },
     "execution_count": 46,
     "metadata": {},
     "output_type": "execute_result"
    }
   ],
   "source": [
    "len(df_smart['user_id'].unique()) # смотрим длинну df_smart"
   ]
  },
  {
   "cell_type": "markdown",
   "metadata": {},
   "source": [
    "351 человек пользуются тарифом Смарт."
   ]
  },
  {
   "cell_type": "code",
   "execution_count": 47,
   "metadata": {
    "scrolled": true
   },
   "outputs": [
    {
     "data": {
      "text/html": [
       "<div>\n",
       "<style scoped>\n",
       "    .dataframe tbody tr th:only-of-type {\n",
       "        vertical-align: middle;\n",
       "    }\n",
       "\n",
       "    .dataframe tbody tr th {\n",
       "        vertical-align: top;\n",
       "    }\n",
       "\n",
       "    .dataframe thead th {\n",
       "        text-align: right;\n",
       "    }\n",
       "</style>\n",
       "<table border=\"1\" class=\"dataframe\">\n",
       "  <thead>\n",
       "    <tr style=\"text-align: right;\">\n",
       "      <th></th>\n",
       "      <th>user_id</th>\n",
       "      <th>month</th>\n",
       "      <th>count_call</th>\n",
       "      <th>sum_call_minute</th>\n",
       "      <th>count_inet_used</th>\n",
       "      <th>sum_mb_used</th>\n",
       "      <th>sum_messages</th>\n",
       "      <th>age</th>\n",
       "      <th>messages_included</th>\n",
       "      <th>mb_per_month_included</th>\n",
       "      <th>minutes_included</th>\n",
       "      <th>rub_monthly_fee</th>\n",
       "      <th>rub_per_gb</th>\n",
       "      <th>rub_per_message</th>\n",
       "      <th>rub_per_minute</th>\n",
       "      <th>sum_gb_used</th>\n",
       "      <th>sum_gb_included</th>\n",
       "      <th>revenue_per_month</th>\n",
       "    </tr>\n",
       "  </thead>\n",
       "  <tbody>\n",
       "    <tr>\n",
       "      <th>count</th>\n",
       "      <td>2230.000000</td>\n",
       "      <td>2230.000000</td>\n",
       "      <td>2230.000000</td>\n",
       "      <td>2230.000000</td>\n",
       "      <td>2230.000000</td>\n",
       "      <td>2230.000000</td>\n",
       "      <td>2230.000000</td>\n",
       "      <td>2230.000000</td>\n",
       "      <td>2230.0</td>\n",
       "      <td>2230.0</td>\n",
       "      <td>2230.0</td>\n",
       "      <td>2230.0</td>\n",
       "      <td>2230.0</td>\n",
       "      <td>2230.0</td>\n",
       "      <td>2230.0</td>\n",
       "      <td>2230.00000</td>\n",
       "      <td>2230.0</td>\n",
       "      <td>2230.000000</td>\n",
       "    </tr>\n",
       "    <tr>\n",
       "      <th>mean</th>\n",
       "      <td>1246.562332</td>\n",
       "      <td>8.348430</td>\n",
       "      <td>58.441256</td>\n",
       "      <td>417.775336</td>\n",
       "      <td>50.021076</td>\n",
       "      <td>16201.842152</td>\n",
       "      <td>33.372197</td>\n",
       "      <td>46.557848</td>\n",
       "      <td>50.0</td>\n",
       "      <td>15360.0</td>\n",
       "      <td>500.0</td>\n",
       "      <td>550.0</td>\n",
       "      <td>200.0</td>\n",
       "      <td>3.0</td>\n",
       "      <td>3.0</td>\n",
       "      <td>16.32287</td>\n",
       "      <td>15.0</td>\n",
       "      <td>1289.641704</td>\n",
       "    </tr>\n",
       "    <tr>\n",
       "      <th>std</th>\n",
       "      <td>146.110501</td>\n",
       "      <td>2.920685</td>\n",
       "      <td>25.955183</td>\n",
       "      <td>190.420267</td>\n",
       "      <td>17.388006</td>\n",
       "      <td>5876.083231</td>\n",
       "      <td>28.227073</td>\n",
       "      <td>16.349865</td>\n",
       "      <td>0.0</td>\n",
       "      <td>0.0</td>\n",
       "      <td>0.0</td>\n",
       "      <td>0.0</td>\n",
       "      <td>0.0</td>\n",
       "      <td>0.0</td>\n",
       "      <td>0.0</td>\n",
       "      <td>5.75270</td>\n",
       "      <td>0.0</td>\n",
       "      <td>818.370799</td>\n",
       "    </tr>\n",
       "    <tr>\n",
       "      <th>min</th>\n",
       "      <td>1001.000000</td>\n",
       "      <td>1.000000</td>\n",
       "      <td>0.000000</td>\n",
       "      <td>0.000000</td>\n",
       "      <td>0.000000</td>\n",
       "      <td>0.000000</td>\n",
       "      <td>0.000000</td>\n",
       "      <td>18.000000</td>\n",
       "      <td>50.0</td>\n",
       "      <td>15360.0</td>\n",
       "      <td>500.0</td>\n",
       "      <td>550.0</td>\n",
       "      <td>200.0</td>\n",
       "      <td>3.0</td>\n",
       "      <td>3.0</td>\n",
       "      <td>0.00000</td>\n",
       "      <td>15.0</td>\n",
       "      <td>550.000000</td>\n",
       "    </tr>\n",
       "    <tr>\n",
       "      <th>25%</th>\n",
       "      <td>1121.000000</td>\n",
       "      <td>6.000000</td>\n",
       "      <td>40.000000</td>\n",
       "      <td>282.000000</td>\n",
       "      <td>40.000000</td>\n",
       "      <td>12629.500000</td>\n",
       "      <td>10.000000</td>\n",
       "      <td>32.000000</td>\n",
       "      <td>50.0</td>\n",
       "      <td>15360.0</td>\n",
       "      <td>500.0</td>\n",
       "      <td>550.0</td>\n",
       "      <td>200.0</td>\n",
       "      <td>3.0</td>\n",
       "      <td>3.0</td>\n",
       "      <td>13.00000</td>\n",
       "      <td>15.0</td>\n",
       "      <td>550.000000</td>\n",
       "    </tr>\n",
       "    <tr>\n",
       "      <th>50%</th>\n",
       "      <td>1240.000000</td>\n",
       "      <td>9.000000</td>\n",
       "      <td>60.000000</td>\n",
       "      <td>421.500000</td>\n",
       "      <td>51.000000</td>\n",
       "      <td>16505.000000</td>\n",
       "      <td>28.000000</td>\n",
       "      <td>47.000000</td>\n",
       "      <td>50.0</td>\n",
       "      <td>15360.0</td>\n",
       "      <td>500.0</td>\n",
       "      <td>550.0</td>\n",
       "      <td>200.0</td>\n",
       "      <td>3.0</td>\n",
       "      <td>3.0</td>\n",
       "      <td>17.00000</td>\n",
       "      <td>15.0</td>\n",
       "      <td>1021.000000</td>\n",
       "    </tr>\n",
       "    <tr>\n",
       "      <th>75%</th>\n",
       "      <td>1376.000000</td>\n",
       "      <td>11.000000</td>\n",
       "      <td>76.000000</td>\n",
       "      <td>545.000000</td>\n",
       "      <td>61.000000</td>\n",
       "      <td>20041.250000</td>\n",
       "      <td>51.000000</td>\n",
       "      <td>62.000000</td>\n",
       "      <td>50.0</td>\n",
       "      <td>15360.0</td>\n",
       "      <td>500.0</td>\n",
       "      <td>550.0</td>\n",
       "      <td>200.0</td>\n",
       "      <td>3.0</td>\n",
       "      <td>3.0</td>\n",
       "      <td>20.00000</td>\n",
       "      <td>15.0</td>\n",
       "      <td>1750.000000</td>\n",
       "    </tr>\n",
       "    <tr>\n",
       "      <th>max</th>\n",
       "      <td>1499.000000</td>\n",
       "      <td>12.000000</td>\n",
       "      <td>198.000000</td>\n",
       "      <td>1435.000000</td>\n",
       "      <td>118.000000</td>\n",
       "      <td>38552.000000</td>\n",
       "      <td>143.000000</td>\n",
       "      <td>75.000000</td>\n",
       "      <td>50.0</td>\n",
       "      <td>15360.0</td>\n",
       "      <td>500.0</td>\n",
       "      <td>550.0</td>\n",
       "      <td>200.0</td>\n",
       "      <td>3.0</td>\n",
       "      <td>3.0</td>\n",
       "      <td>38.00000</td>\n",
       "      <td>15.0</td>\n",
       "      <td>6770.000000</td>\n",
       "    </tr>\n",
       "  </tbody>\n",
       "</table>\n",
       "</div>"
      ],
      "text/plain": [
       "           user_id        month   count_call  sum_call_minute  \\\n",
       "count  2230.000000  2230.000000  2230.000000      2230.000000   \n",
       "mean   1246.562332     8.348430    58.441256       417.775336   \n",
       "std     146.110501     2.920685    25.955183       190.420267   \n",
       "min    1001.000000     1.000000     0.000000         0.000000   \n",
       "25%    1121.000000     6.000000    40.000000       282.000000   \n",
       "50%    1240.000000     9.000000    60.000000       421.500000   \n",
       "75%    1376.000000    11.000000    76.000000       545.000000   \n",
       "max    1499.000000    12.000000   198.000000      1435.000000   \n",
       "\n",
       "       count_inet_used   sum_mb_used  sum_messages          age  \\\n",
       "count      2230.000000   2230.000000   2230.000000  2230.000000   \n",
       "mean         50.021076  16201.842152     33.372197    46.557848   \n",
       "std          17.388006   5876.083231     28.227073    16.349865   \n",
       "min           0.000000      0.000000      0.000000    18.000000   \n",
       "25%          40.000000  12629.500000     10.000000    32.000000   \n",
       "50%          51.000000  16505.000000     28.000000    47.000000   \n",
       "75%          61.000000  20041.250000     51.000000    62.000000   \n",
       "max         118.000000  38552.000000    143.000000    75.000000   \n",
       "\n",
       "       messages_included  mb_per_month_included  minutes_included  \\\n",
       "count             2230.0                 2230.0            2230.0   \n",
       "mean                50.0                15360.0             500.0   \n",
       "std                  0.0                    0.0               0.0   \n",
       "min                 50.0                15360.0             500.0   \n",
       "25%                 50.0                15360.0             500.0   \n",
       "50%                 50.0                15360.0             500.0   \n",
       "75%                 50.0                15360.0             500.0   \n",
       "max                 50.0                15360.0             500.0   \n",
       "\n",
       "       rub_monthly_fee  rub_per_gb  rub_per_message  rub_per_minute  \\\n",
       "count           2230.0      2230.0           2230.0          2230.0   \n",
       "mean             550.0       200.0              3.0             3.0   \n",
       "std                0.0         0.0              0.0             0.0   \n",
       "min              550.0       200.0              3.0             3.0   \n",
       "25%              550.0       200.0              3.0             3.0   \n",
       "50%              550.0       200.0              3.0             3.0   \n",
       "75%              550.0       200.0              3.0             3.0   \n",
       "max              550.0       200.0              3.0             3.0   \n",
       "\n",
       "       sum_gb_used  sum_gb_included  revenue_per_month  \n",
       "count   2230.00000           2230.0        2230.000000  \n",
       "mean      16.32287             15.0        1289.641704  \n",
       "std        5.75270              0.0         818.370799  \n",
       "min        0.00000             15.0         550.000000  \n",
       "25%       13.00000             15.0         550.000000  \n",
       "50%       17.00000             15.0        1021.000000  \n",
       "75%       20.00000             15.0        1750.000000  \n",
       "max       38.00000             15.0        6770.000000  "
      ]
     },
     "execution_count": 47,
     "metadata": {},
     "output_type": "execute_result"
    }
   ],
   "source": [
    "df_smart.describe()"
   ]
  },
  {
   "cell_type": "markdown",
   "metadata": {},
   "source": [
    "В среднем пользователи тарифа Смарт пользовались услугами компании 8-9 месяцев, совершали около 58 звонков в месяц тратя на это примерно 417 минут в месяц, пользовались интернетом и отправляли смс сообщения, тратя при этом в среднем 1289 рублей в месяц."
   ]
  },
  {
   "cell_type": "markdown",
   "metadata": {},
   "source": [
    "Рассмотрим основные показатели по смс, звонках, и интернет трафике тарифа Смарт."
   ]
  },
  {
   "cell_type": "markdown",
   "metadata": {},
   "source": [
    "**Звонки по тарифу Смарт:**"
   ]
  },
  {
   "cell_type": "markdown",
   "metadata": {},
   "source": [
    "Среднее: 417.77 минут в месяц."
   ]
  },
  {
   "cell_type": "markdown",
   "metadata": {},
   "source": [
    "Стандартное отклонение: 190.42 минут в месяц."
   ]
  },
  {
   "cell_type": "markdown",
   "metadata": {},
   "source": [
    "**СМС по тарифу Смарт:**"
   ]
  },
  {
   "cell_type": "markdown",
   "metadata": {},
   "source": [
    "Среднее: 33.37 смс в месяц."
   ]
  },
  {
   "cell_type": "markdown",
   "metadata": {},
   "source": [
    "Стандартное отклонение: 28.22 смс в месяц."
   ]
  },
  {
   "cell_type": "markdown",
   "metadata": {},
   "source": [
    "**Интернет трафик по тарифу Смарт:**"
   ]
  },
  {
   "cell_type": "markdown",
   "metadata": {},
   "source": [
    "Среднее: 16.32 gb трафик в месяц."
   ]
  },
  {
   "cell_type": "markdown",
   "metadata": {},
   "source": [
    "Стандартное отклонение: 5.75 gb трафик в месяц."
   ]
  },
  {
   "cell_type": "markdown",
   "metadata": {},
   "source": [
    "**Рассмотрим дисперсии по тарифу Смарт**"
   ]
  },
  {
   "cell_type": "code",
   "execution_count": 48,
   "metadata": {},
   "outputs": [
    {
     "name": "stdout",
     "output_type": "stream",
     "text": [
      "Дисперсия длительности звонков в месяц: 36259.87817115198\n"
     ]
    }
   ],
   "source": [
    "variance_call_smart = np.var(df_smart['sum_call_minute'], ddof=1) \n",
    "print('Дисперсия длительности звонков в месяц:', variance_call_smart)"
   ]
  },
  {
   "cell_type": "code",
   "execution_count": 49,
   "metadata": {},
   "outputs": [
    {
     "name": "stdout",
     "output_type": "stream",
     "text": [
      "Дисперсия количества смс в месяц: 796.7676429938017\n"
     ]
    }
   ],
   "source": [
    "variance_messages_smart = np.var(df_smart['sum_messages'], ddof=1)\n",
    "print('Дисперсия количества смс в месяц:', variance_messages_smart)"
   ]
  },
  {
   "cell_type": "code",
   "execution_count": 50,
   "metadata": {},
   "outputs": [
    {
     "name": "stdout",
     "output_type": "stream",
     "text": [
      "Дисперсия интернет трафика в месяц: 33.09355479241229\n"
     ]
    }
   ],
   "source": [
    "variance_inet_smart = np.var(df_smart['sum_gb_used'], ddof=1)\n",
    "print('Дисперсия интернет трафика в месяц:', variance_inet_smart)"
   ]
  },
  {
   "cell_type": "markdown",
   "metadata": {},
   "source": [
    "Теперь можем строить гистограммы по тарифу Смарт."
   ]
  },
  {
   "cell_type": "markdown",
   "metadata": {},
   "source": [
    "**Гистограмма звонков пользователей Смарт**"
   ]
  },
  {
   "cell_type": "code",
   "execution_count": 103,
   "metadata": {},
   "outputs": [
    {
     "data": {
      "image/png": "[encoded data removed]",
      "text/plain": [
       "<Figure size 1008x288 with 1 Axes>"
      ]
     },
     "metadata": {
      "needs_background": "light"
     },
     "output_type": "display_data"
    }
   ],
   "source": [
    "df_smart.hist('sum_call_minute', bins=60, range=(0, 1450), figsize=(14,4)) # строим гистограмму по звонкам пользователей тарифа Смарт\n",
    "plt.xlabel('\\n Минуты')\n",
    "plt.ylabel('Количество')\n",
    "plt.title('Звонки пользователей (Смарт) \\n')\n",
    "plt.show()"
   ]
  },
  {
   "cell_type": "markdown",
   "metadata": {},
   "source": [
    "Распределение длительности звонков похоже на нормальное. Также видно, что есть особо редкие звонки которые превышают 1000 минут в месяц и есть много значений на 0 минут - это пропущенные звонки, так что этот 'мини пик' в области 0 минут вполне нормален."
   ]
  },
  {
   "cell_type": "code",
   "execution_count": 106,
   "metadata": {},
   "outputs": [
    {
     "data": {
      "image/png": "[encoded data removed]",
      "text/plain": [
       "<Figure size 1008x288 with 1 Axes>"
      ]
     },
     "metadata": {
      "needs_background": "light"
     },
     "output_type": "display_data"
    }
   ],
   "source": [
    "df_smart.pivot_table(index='month', values='sum_call_minute', aggfunc='mean').plot(grid=True, figsize=(14,4)) # Строим график средней продолжительности звонков по месяцам \n",
    "plt.xlabel('\\n Месяц')\n",
    "plt.ylabel('Длительность звонков \\n')\n",
    "plt.title('Средняя длительность звонков пользователей Смарт за 2018 год \\n')\n",
    "plt.show()"
   ]
  },
  {
   "cell_type": "markdown",
   "metadata": {},
   "source": [
    "Видим что в начале года было не очень большая длительность звонков, но постепенно в течении всего года средняя длительность звонков увеличивалась, пик длительности звонков приходится на декабрь. Возможно, этот пик связан с тем, что перед новым годом совершается большое количество звонков своим близким и родственникам. "
   ]
  },
  {
   "cell_type": "markdown",
   "metadata": {},
   "source": [
    "**Смс сообщения пользователей Смарт**"
   ]
  },
  {
   "cell_type": "code",
   "execution_count": 108,
   "metadata": {
    "scrolled": false
   },
   "outputs": [
    {
     "data": {
      "image/png": "[encoded data removed]",
      "text/plain": [
       "<Figure size 1008x288 with 1 Axes>"
      ]
     },
     "metadata": {
      "needs_background": "light"
     },
     "output_type": "display_data"
    }
   ],
   "source": [
    "df_smart.hist('sum_messages', bins=50, range=(0,200), figsize=(14,4)) # строим гистограмму по смс пользователей тарифа Смарт\n",
    "plt.xlabel('\\n Смс')\n",
    "plt.ylabel('Количество \\n')\n",
    "plt.title('Смс пользователей Смарт \\n')\n",
    "plt.show()"
   ]
  },
  {
   "cell_type": "markdown",
   "metadata": {},
   "source": [
    "В последнее время мессенджеры сменили классические смски поэтому видим огромный пик около 0, но есть и любители смс, среднее колличество отправленных смс около 33."
   ]
  },
  {
   "cell_type": "code",
   "execution_count": 110,
   "metadata": {
    "scrolled": true
   },
   "outputs": [
    {
     "data": {
      "image/png": "[encoded data removed]",
      "text/plain": [
       "<Figure size 1008x288 with 1 Axes>"
      ]
     },
     "metadata": {
      "needs_background": "light"
     },
     "output_type": "display_data"
    }
   ],
   "source": [
    "df_smart.pivot_table(index='month', values='sum_messages', aggfunc='mean').plot(grid=True, figsize=(14,4)) # Строим график среднего количества смс по месяцам \n",
    "plt.xlabel('\\n Месяц')\n",
    "plt.ylabel('Количество смс \\n')\n",
    "plt.title('Среднее количество смс пользователей Смарт за 2018 год \\n')\n",
    "plt.show()"
   ]
  },
  {
   "cell_type": "markdown",
   "metadata": {},
   "source": [
    "Здесь мы видим такую же историю как со звонками, среднее количество отправленных смс сообщений на протяжении всего года растет и имеет пик в декабре."
   ]
  },
  {
   "cell_type": "markdown",
   "metadata": {},
   "source": [
    "**Интернет трафик пользователей Смарт**"
   ]
  },
  {
   "cell_type": "code",
   "execution_count": 111,
   "metadata": {
    "scrolled": false
   },
   "outputs": [
    {
     "data": {
      "image/png": "[encoded data removed]",
      "text/plain": [
       "<Figure size 1008x288 with 1 Axes>"
      ]
     },
     "metadata": {
      "needs_background": "light"
     },
     "output_type": "display_data"
    }
   ],
   "source": [
    "df_smart.hist('sum_gb_used', bins=40, range=(0,40), figsize=(14,4)) # строим гистограмму по инет-трафику пользователей тарифа Смарт\n",
    "plt.xlabel('\\n Трафик (GB)')\n",
    "plt.ylabel('Количество \\n')\n",
    "plt.title('Интернет трафик пользователей Смарт \\n')\n",
    "plt.show()"
   ]
  },
  {
   "cell_type": "markdown",
   "metadata": {},
   "source": [
    "Распределение инет-трафика похоже на нормальное. В среднем пользователи тарифа Смарт используют около 17 гб трафика также мы видим, как пользователи мало используют интернет трафик от 0 до 7 гб или очень много, например от 30 гб."
   ]
  },
  {
   "cell_type": "code",
   "execution_count": 112,
   "metadata": {
    "scrolled": false
   },
   "outputs": [
    {
     "data": {
      "image/png": "[encoded data removed]",
      "text/plain": [
       "<Figure size 1008x288 with 1 Axes>"
      ]
     },
     "metadata": {
      "needs_background": "light"
     },
     "output_type": "display_data"
    }
   ],
   "source": [
    "df_smart.pivot_table(index='month', values='sum_gb_used', aggfunc='mean').plot(grid=True, figsize=(14,4)) # Строим график среднего использования инет-трафика по месяцам \n",
    "plt.xlabel('\\n Месяц')\n",
    "plt.ylabel('Интернет трафик (GB) \\n')\n",
    "plt.title('Среднее использование интернет трафика пользователей Смарт за 2018 год \\n')\n",
    "plt.show()"
   ]
  },
  {
   "cell_type": "markdown",
   "metadata": {},
   "source": [
    "И тут мы видим ту же тенденцию, что и ранее. В течении года пользователи наращивали потребление инет-трафика пик приходится на декабрь месяц."
   ]
  },
  {
   "cell_type": "markdown",
   "metadata": {},
   "source": [
    "Далее мы рассмотрим информацию о звонках, смс и интернете пользователей тарифа Ультра."
   ]
  },
  {
   "cell_type": "markdown",
   "metadata": {},
   "source": [
    "**Ультра**"
   ]
  },
  {
   "cell_type": "markdown",
   "metadata": {},
   "source": [
    "Сделаем таблицу с данными где пользователь использует тариф Ультра."
   ]
  },
  {
   "cell_type": "code",
   "execution_count": 57,
   "metadata": {},
   "outputs": [],
   "source": [
    "df_ultra = total_df.query('tariff_name == \"ultra\"') # выделяем пользователей тарифа Ультра"
   ]
  },
  {
   "cell_type": "code",
   "execution_count": 58,
   "metadata": {
    "scrolled": true
   },
   "outputs": [
    {
     "data": {
      "text/plain": [
       "ultra    986\n",
       "Name: tariff_name, dtype: int64"
      ]
     },
     "execution_count": 58,
     "metadata": {},
     "output_type": "execute_result"
    }
   ],
   "source": [
    "df_ultra['tariff_name'].value_counts() # подсчет тарифов в df_ultra"
   ]
  },
  {
   "cell_type": "markdown",
   "metadata": {},
   "source": [
    "Посмотрим на количество пользователей тарифа Ультра."
   ]
  },
  {
   "cell_type": "code",
   "execution_count": 59,
   "metadata": {
    "scrolled": true
   },
   "outputs": [
    {
     "data": {
      "text/plain": [
       "149"
      ]
     },
     "execution_count": 59,
     "metadata": {},
     "output_type": "execute_result"
    }
   ],
   "source": [
    "len(df_ultra['user_id'].unique()) # смотрим длинну df_ultra"
   ]
  },
  {
   "cell_type": "markdown",
   "metadata": {},
   "source": [
    "149 человек пользуются тарифом Ультра."
   ]
  },
  {
   "cell_type": "code",
   "execution_count": 60,
   "metadata": {
    "scrolled": true
   },
   "outputs": [
    {
     "data": {
      "text/html": [
       "<div>\n",
       "<style scoped>\n",
       "    .dataframe tbody tr th:only-of-type {\n",
       "        vertical-align: middle;\n",
       "    }\n",
       "\n",
       "    .dataframe tbody tr th {\n",
       "        vertical-align: top;\n",
       "    }\n",
       "\n",
       "    .dataframe thead th {\n",
       "        text-align: right;\n",
       "    }\n",
       "</style>\n",
       "<table border=\"1\" class=\"dataframe\">\n",
       "  <thead>\n",
       "    <tr style=\"text-align: right;\">\n",
       "      <th></th>\n",
       "      <th>user_id</th>\n",
       "      <th>month</th>\n",
       "      <th>count_call</th>\n",
       "      <th>sum_call_minute</th>\n",
       "      <th>count_inet_used</th>\n",
       "      <th>sum_mb_used</th>\n",
       "      <th>sum_messages</th>\n",
       "      <th>age</th>\n",
       "      <th>messages_included</th>\n",
       "      <th>mb_per_month_included</th>\n",
       "      <th>minutes_included</th>\n",
       "      <th>rub_monthly_fee</th>\n",
       "      <th>rub_per_gb</th>\n",
       "      <th>rub_per_message</th>\n",
       "      <th>rub_per_minute</th>\n",
       "      <th>sum_gb_used</th>\n",
       "      <th>sum_gb_included</th>\n",
       "      <th>revenue_per_month</th>\n",
       "    </tr>\n",
       "  </thead>\n",
       "  <tbody>\n",
       "    <tr>\n",
       "      <th>count</th>\n",
       "      <td>986.000000</td>\n",
       "      <td>986.000000</td>\n",
       "      <td>986.000000</td>\n",
       "      <td>986.000000</td>\n",
       "      <td>986.000000</td>\n",
       "      <td>986.000000</td>\n",
       "      <td>986.000000</td>\n",
       "      <td>986.000000</td>\n",
       "      <td>986.0</td>\n",
       "      <td>986.0</td>\n",
       "      <td>986.0</td>\n",
       "      <td>986.0</td>\n",
       "      <td>986.0</td>\n",
       "      <td>986.0</td>\n",
       "      <td>986.0</td>\n",
       "      <td>986.00000</td>\n",
       "      <td>986.0</td>\n",
       "      <td>986.000000</td>\n",
       "    </tr>\n",
       "    <tr>\n",
       "      <th>mean</th>\n",
       "      <td>1262.957404</td>\n",
       "      <td>8.254564</td>\n",
       "      <td>73.337728</td>\n",
       "      <td>526.219067</td>\n",
       "      <td>38.409736</td>\n",
       "      <td>19453.889452</td>\n",
       "      <td>49.332657</td>\n",
       "      <td>46.838742</td>\n",
       "      <td>1000.0</td>\n",
       "      <td>30720.0</td>\n",
       "      <td>3000.0</td>\n",
       "      <td>1950.0</td>\n",
       "      <td>150.0</td>\n",
       "      <td>1.0</td>\n",
       "      <td>1.0</td>\n",
       "      <td>19.48073</td>\n",
       "      <td>30.0</td>\n",
       "      <td>2070.030426</td>\n",
       "    </tr>\n",
       "    <tr>\n",
       "      <th>std</th>\n",
       "      <td>140.689268</td>\n",
       "      <td>2.872786</td>\n",
       "      <td>43.928721</td>\n",
       "      <td>317.698568</td>\n",
       "      <td>19.627456</td>\n",
       "      <td>10092.233681</td>\n",
       "      <td>47.789969</td>\n",
       "      <td>17.099807</td>\n",
       "      <td>0.0</td>\n",
       "      <td>0.0</td>\n",
       "      <td>0.0</td>\n",
       "      <td>0.0</td>\n",
       "      <td>0.0</td>\n",
       "      <td>0.0</td>\n",
       "      <td>0.0</td>\n",
       "      <td>9.85788</td>\n",
       "      <td>0.0</td>\n",
       "      <td>376.015578</td>\n",
       "    </tr>\n",
       "    <tr>\n",
       "      <th>min</th>\n",
       "      <td>1000.000000</td>\n",
       "      <td>1.000000</td>\n",
       "      <td>0.000000</td>\n",
       "      <td>0.000000</td>\n",
       "      <td>0.000000</td>\n",
       "      <td>0.000000</td>\n",
       "      <td>0.000000</td>\n",
       "      <td>18.000000</td>\n",
       "      <td>1000.0</td>\n",
       "      <td>30720.0</td>\n",
       "      <td>3000.0</td>\n",
       "      <td>1950.0</td>\n",
       "      <td>150.0</td>\n",
       "      <td>1.0</td>\n",
       "      <td>1.0</td>\n",
       "      <td>0.00000</td>\n",
       "      <td>30.0</td>\n",
       "      <td>1950.000000</td>\n",
       "    </tr>\n",
       "    <tr>\n",
       "      <th>25%</th>\n",
       "      <td>1143.000000</td>\n",
       "      <td>6.000000</td>\n",
       "      <td>41.000000</td>\n",
       "      <td>282.500000</td>\n",
       "      <td>24.000000</td>\n",
       "      <td>11748.250000</td>\n",
       "      <td>6.000000</td>\n",
       "      <td>30.000000</td>\n",
       "      <td>1000.0</td>\n",
       "      <td>30720.0</td>\n",
       "      <td>3000.0</td>\n",
       "      <td>1950.0</td>\n",
       "      <td>150.0</td>\n",
       "      <td>1.0</td>\n",
       "      <td>1.0</td>\n",
       "      <td>12.00000</td>\n",
       "      <td>30.0</td>\n",
       "      <td>1950.000000</td>\n",
       "    </tr>\n",
       "    <tr>\n",
       "      <th>50%</th>\n",
       "      <td>1277.000000</td>\n",
       "      <td>9.000000</td>\n",
       "      <td>73.500000</td>\n",
       "      <td>518.000000</td>\n",
       "      <td>38.000000</td>\n",
       "      <td>19304.000000</td>\n",
       "      <td>38.000000</td>\n",
       "      <td>45.000000</td>\n",
       "      <td>1000.0</td>\n",
       "      <td>30720.0</td>\n",
       "      <td>3000.0</td>\n",
       "      <td>1950.0</td>\n",
       "      <td>150.0</td>\n",
       "      <td>1.0</td>\n",
       "      <td>1.0</td>\n",
       "      <td>19.00000</td>\n",
       "      <td>30.0</td>\n",
       "      <td>1950.000000</td>\n",
       "    </tr>\n",
       "    <tr>\n",
       "      <th>75%</th>\n",
       "      <td>1381.000000</td>\n",
       "      <td>11.000000</td>\n",
       "      <td>103.750000</td>\n",
       "      <td>751.750000</td>\n",
       "      <td>52.000000</td>\n",
       "      <td>26835.250000</td>\n",
       "      <td>78.750000</td>\n",
       "      <td>63.000000</td>\n",
       "      <td>1000.0</td>\n",
       "      <td>30720.0</td>\n",
       "      <td>3000.0</td>\n",
       "      <td>1950.0</td>\n",
       "      <td>150.0</td>\n",
       "      <td>1.0</td>\n",
       "      <td>1.0</td>\n",
       "      <td>27.00000</td>\n",
       "      <td>30.0</td>\n",
       "      <td>1950.000000</td>\n",
       "    </tr>\n",
       "    <tr>\n",
       "      <th>max</th>\n",
       "      <td>1495.000000</td>\n",
       "      <td>12.000000</td>\n",
       "      <td>244.000000</td>\n",
       "      <td>1673.000000</td>\n",
       "      <td>97.000000</td>\n",
       "      <td>49745.000000</td>\n",
       "      <td>224.000000</td>\n",
       "      <td>75.000000</td>\n",
       "      <td>1000.0</td>\n",
       "      <td>30720.0</td>\n",
       "      <td>3000.0</td>\n",
       "      <td>1950.0</td>\n",
       "      <td>150.0</td>\n",
       "      <td>1.0</td>\n",
       "      <td>1.0</td>\n",
       "      <td>49.00000</td>\n",
       "      <td>30.0</td>\n",
       "      <td>4800.000000</td>\n",
       "    </tr>\n",
       "  </tbody>\n",
       "</table>\n",
       "</div>"
      ],
      "text/plain": [
       "           user_id       month  count_call  sum_call_minute  count_inet_used  \\\n",
       "count   986.000000  986.000000  986.000000       986.000000       986.000000   \n",
       "mean   1262.957404    8.254564   73.337728       526.219067        38.409736   \n",
       "std     140.689268    2.872786   43.928721       317.698568        19.627456   \n",
       "min    1000.000000    1.000000    0.000000         0.000000         0.000000   \n",
       "25%    1143.000000    6.000000   41.000000       282.500000        24.000000   \n",
       "50%    1277.000000    9.000000   73.500000       518.000000        38.000000   \n",
       "75%    1381.000000   11.000000  103.750000       751.750000        52.000000   \n",
       "max    1495.000000   12.000000  244.000000      1673.000000        97.000000   \n",
       "\n",
       "        sum_mb_used  sum_messages         age  messages_included  \\\n",
       "count    986.000000    986.000000  986.000000              986.0   \n",
       "mean   19453.889452     49.332657   46.838742             1000.0   \n",
       "std    10092.233681     47.789969   17.099807                0.0   \n",
       "min        0.000000      0.000000   18.000000             1000.0   \n",
       "25%    11748.250000      6.000000   30.000000             1000.0   \n",
       "50%    19304.000000     38.000000   45.000000             1000.0   \n",
       "75%    26835.250000     78.750000   63.000000             1000.0   \n",
       "max    49745.000000    224.000000   75.000000             1000.0   \n",
       "\n",
       "       mb_per_month_included  minutes_included  rub_monthly_fee  rub_per_gb  \\\n",
       "count                  986.0             986.0            986.0       986.0   \n",
       "mean                 30720.0            3000.0           1950.0       150.0   \n",
       "std                      0.0               0.0              0.0         0.0   \n",
       "min                  30720.0            3000.0           1950.0       150.0   \n",
       "25%                  30720.0            3000.0           1950.0       150.0   \n",
       "50%                  30720.0            3000.0           1950.0       150.0   \n",
       "75%                  30720.0            3000.0           1950.0       150.0   \n",
       "max                  30720.0            3000.0           1950.0       150.0   \n",
       "\n",
       "       rub_per_message  rub_per_minute  sum_gb_used  sum_gb_included  \\\n",
       "count            986.0           986.0    986.00000            986.0   \n",
       "mean               1.0             1.0     19.48073             30.0   \n",
       "std                0.0             0.0      9.85788              0.0   \n",
       "min                1.0             1.0      0.00000             30.0   \n",
       "25%                1.0             1.0     12.00000             30.0   \n",
       "50%                1.0             1.0     19.00000             30.0   \n",
       "75%                1.0             1.0     27.00000             30.0   \n",
       "max                1.0             1.0     49.00000             30.0   \n",
       "\n",
       "       revenue_per_month  \n",
       "count         986.000000  \n",
       "mean         2070.030426  \n",
       "std           376.015578  \n",
       "min          1950.000000  \n",
       "25%          1950.000000  \n",
       "50%          1950.000000  \n",
       "75%          1950.000000  \n",
       "max          4800.000000  "
      ]
     },
     "execution_count": 60,
     "metadata": {},
     "output_type": "execute_result"
    }
   ],
   "source": [
    "df_ultra.describe()"
   ]
  },
  {
   "cell_type": "markdown",
   "metadata": {},
   "source": [
    "В среднем пользователи тарифа Ультра пользовались услугами компании 8 месяцев, совершали около 73 звонков в месяц тратя на это примерно 526 минут в месяц, пользовались интернетом и отправляли смс сообщения, тратя при этом в среднем 2070 рублей в месяц."
   ]
  },
  {
   "cell_type": "markdown",
   "metadata": {},
   "source": [
    "Рассмотрим основные показатели по смс, звонках, и интернет трафике тарифа Ультра."
   ]
  },
  {
   "cell_type": "markdown",
   "metadata": {},
   "source": [
    "**Звонки по тарифу Ультра:**"
   ]
  },
  {
   "cell_type": "markdown",
   "metadata": {},
   "source": [
    "Среднее: 526.21 минут в месяц."
   ]
  },
  {
   "cell_type": "markdown",
   "metadata": {},
   "source": [
    "Стандартное отклонение: 317.69 минут в месяц."
   ]
  },
  {
   "cell_type": "markdown",
   "metadata": {},
   "source": [
    "**СМС по тарифу Ультра:**"
   ]
  },
  {
   "cell_type": "markdown",
   "metadata": {},
   "source": [
    "Среднее: 49.33 смс в месяц."
   ]
  },
  {
   "cell_type": "markdown",
   "metadata": {},
   "source": [
    "Стандартное отклонение: 47.78 смс в месяц."
   ]
  },
  {
   "cell_type": "markdown",
   "metadata": {},
   "source": [
    "**Интернет трафик по тарифу Ультра:**"
   ]
  },
  {
   "cell_type": "markdown",
   "metadata": {},
   "source": [
    "Среднее: 19.48 gb трафик в месяц."
   ]
  },
  {
   "cell_type": "markdown",
   "metadata": {},
   "source": [
    "Стандартное отклонение: 9.85 трафик в месяц."
   ]
  },
  {
   "cell_type": "markdown",
   "metadata": {},
   "source": [
    "**Рассмотрим дисперсии по тарифу Ультра**"
   ]
  },
  {
   "cell_type": "code",
   "execution_count": 61,
   "metadata": {},
   "outputs": [
    {
     "name": "stdout",
     "output_type": "stream",
     "text": [
      "Дисперсия длительности звонков в месяц: 100932.38038735186\n"
     ]
    }
   ],
   "source": [
    "variance_call_ultra = np.var(df_ultra['sum_call_minute'], ddof=1)\n",
    "print('Дисперсия длительности звонков в месяц:', variance_call_ultra)"
   ]
  },
  {
   "cell_type": "code",
   "execution_count": 62,
   "metadata": {},
   "outputs": [
    {
     "name": "stdout",
     "output_type": "stream",
     "text": [
      "Дисперсия количества смс в месяц: 2283.8811050133345\n"
     ]
    }
   ],
   "source": [
    "variance_messages_ultra = np.var(df_ultra['sum_messages'], ddof=1)\n",
    "print('Дисперсия количества смс в месяц:', variance_messages_ultra)"
   ]
  },
  {
   "cell_type": "code",
   "execution_count": 63,
   "metadata": {},
   "outputs": [
    {
     "name": "stdout",
     "output_type": "stream",
     "text": [
      "Дисперсия интернет трафика в месяц: 97.17780088755265\n"
     ]
    }
   ],
   "source": [
    "variance_inet_ultra = np.var(df_ultra['sum_gb_used'], ddof=1)\n",
    "print('Дисперсия интернет трафика в месяц:', variance_inet_ultra)"
   ]
  },
  {
   "cell_type": "markdown",
   "metadata": {},
   "source": [
    "Теперь можем строить гистограммы по тарифу Ультра."
   ]
  },
  {
   "cell_type": "markdown",
   "metadata": {},
   "source": [
    "**Гистограмма звонков пользователей Ультра**"
   ]
  },
  {
   "cell_type": "code",
   "execution_count": 113,
   "metadata": {
    "scrolled": true
   },
   "outputs": [
    {
     "data": {
      "image/png": "[encoded data removed]",
      "text/plain": [
       "<Figure size 1008x288 with 1 Axes>"
      ]
     },
     "metadata": {
      "needs_background": "light"
     },
     "output_type": "display_data"
    }
   ],
   "source": [
    "df_ultra.hist('sum_call_minute', bins=50, range=(0, 1700), figsize=(14,4)) # строим гистограмму по звонкам пользователей тарифа Ультра\n",
    "plt.xlabel('\\n Минуты')\n",
    "plt.ylabel('Количество \\n')\n",
    "plt.title('Звонки пользователей (Ультра) \\n')\n",
    "plt.show()"
   ]
  },
  {
   "cell_type": "markdown",
   "metadata": {},
   "source": [
    "На гистограмме видно, что есть особо редкие звонки которые превышают 1300 минут в месяц и есть много значений на 0 минут - это пропущенные звонки, в среднем пользователи тарифа Ультра тратят на звонки 530 минут."
   ]
  },
  {
   "cell_type": "code",
   "execution_count": 114,
   "metadata": {
    "scrolled": true
   },
   "outputs": [
    {
     "data": {
      "image/png": "[encoded data removed]",
      "text/plain": [
       "<Figure size 1008x288 with 1 Axes>"
      ]
     },
     "metadata": {
      "needs_background": "light"
     },
     "output_type": "display_data"
    }
   ],
   "source": [
    "df_ultra.pivot_table(index='month', values='sum_call_minute', aggfunc='mean').plot(grid=True, figsize=(14,4)) # Строим график средней продолжительности звонков по месяцам \n",
    "plt.xlabel('\\n Месяц')\n",
    "plt.ylabel('Длительность звонков \\n')\n",
    "plt.title('Средняя длительность звонков пользователей Ультра за 2018 год \\n')\n",
    "plt.show()"
   ]
  },
  {
   "cell_type": "markdown",
   "metadata": {},
   "source": [
    "В течении года так же наблюдается увеличение средней длительности звонков, но после январских празников мы видим, спад длительности звонков в феврале среднее значение длительности звонков пользователей тарифа Ультра составляет 300 минут. Декабрь стал самым разговорным месяцем - 630 минут."
   ]
  },
  {
   "cell_type": "markdown",
   "metadata": {},
   "source": [
    "**Смс сообщения пользователей Ультра**"
   ]
  },
  {
   "cell_type": "code",
   "execution_count": 115,
   "metadata": {
    "scrolled": true
   },
   "outputs": [
    {
     "data": {
      "image/png": "[encoded data removed]",
      "text/plain": [
       "<Figure size 1008x288 with 1 Axes>"
      ]
     },
     "metadata": {
      "needs_background": "light"
     },
     "output_type": "display_data"
    }
   ],
   "source": [
    "df_ultra.hist('sum_messages', bins=40, range=(0,250), figsize=(14,4)) # строим гистограмму по смс пользователей тарифа Ультра\n",
    "plt.xlabel('\\n Смс')\n",
    "plt.ylabel('Количество \\n')\n",
    "plt.title('Смс пользователей Ультра \\n')\n",
    "plt.show()"
   ]
  },
  {
   "cell_type": "markdown",
   "metadata": {},
   "source": [
    "Классический пик на 0, пользователи тарифа Ультра неохотно пользуются смс сообщениями, но есть и огромные значения более 150 сообщений."
   ]
  },
  {
   "cell_type": "code",
   "execution_count": 116,
   "metadata": {
    "scrolled": true
   },
   "outputs": [
    {
     "data": {
      "image/png": "[encoded data removed]",
      "text/plain": [
       "<Figure size 1008x288 with 1 Axes>"
      ]
     },
     "metadata": {
      "needs_background": "light"
     },
     "output_type": "display_data"
    }
   ],
   "source": [
    "df_ultra.pivot_table(index='month', values='sum_messages', aggfunc='mean').plot(grid=True, figsize=(14,4)) # Строим график среднего количества смс по месяцам \n",
    "plt.xlabel('\\n Месяц')\n",
    "plt.ylabel('Количество смс \\n')\n",
    "plt.title('Среднее количество смс пользователей Ультра за 2018 год \\n')\n",
    "plt.show()"
   ]
  },
  {
   "cell_type": "markdown",
   "metadata": {},
   "source": [
    "Как и со звонками в смс похожая ситуация. Февраль опять оказался с самым малым значением, отправленных в среднем смс сообщений около 23 сообщений, декабрь на пике более 60 сообщений."
   ]
  },
  {
   "cell_type": "markdown",
   "metadata": {},
   "source": [
    "**Интернет трафик пользователей Ультра**"
   ]
  },
  {
   "cell_type": "code",
   "execution_count": 118,
   "metadata": {},
   "outputs": [
    {
     "data": {
      "image/png": "[encoded data removed]",
      "text/plain": [
       "<Figure size 1008x288 with 1 Axes>"
      ]
     },
     "metadata": {
      "needs_background": "light"
     },
     "output_type": "display_data"
    }
   ],
   "source": [
    "df_ultra.hist('sum_gb_used', bins=50, range=(0,50), figsize=(14,4)) # строим гистограмму по инет-трафику пользователей тарифа Ультра\n",
    "plt.xlabel('\\n Трафик (GB)')\n",
    "plt.ylabel('Количество \\n')\n",
    "plt.title('Интернет трафик пользователей Ультра \\n')\n",
    "plt.show()"
   ]
  },
  {
   "cell_type": "markdown",
   "metadata": {},
   "source": [
    "Распределение похоже на нормальное. Есть пользователи которые совсем не пользуются интернетом, в среднем пользователи тарифа Ультра использовали около 20 гб трафика."
   ]
  },
  {
   "cell_type": "code",
   "execution_count": 119,
   "metadata": {
    "scrolled": true
   },
   "outputs": [
    {
     "data": {
      "image/png": "[encoded data removed]",
      "text/plain": [
       "<Figure size 1008x288 with 1 Axes>"
      ]
     },
     "metadata": {
      "needs_background": "light"
     },
     "output_type": "display_data"
    }
   ],
   "source": [
    "df_ultra.pivot_table(index='month', values='sum_gb_used', aggfunc='mean').plot(grid=True, figsize=(14,4)) # Строим график среднего использования инет-трафика по месяцам \n",
    "plt.xlabel('\\n Месяц')\n",
    "plt.ylabel('Интернет трафик (GB) \\n')\n",
    "plt.title('Среднее использование интернет трафика пользователей Ультра за 2018 год \\n')\n",
    "plt.show()"
   ]
  },
  {
   "cell_type": "markdown",
   "metadata": {},
   "source": [
    "И трафик пользователей тарифа Ультра растет ближе к концу года. Пик также приходится на декабрь."
   ]
  },
  {
   "cell_type": "markdown",
   "metadata": {},
   "source": [
    "**Посмотрим потребление услуг в разных возрастных категориях и на отток клиентов по месяцам**"
   ]
  },
  {
   "cell_type": "markdown",
   "metadata": {},
   "source": [
    "Выделим две группы: молодые до 39 лет и взрослые от 39 лет, посмотрим есть ли разница в потреблении между этими группами."
   ]
  },
  {
   "cell_type": "code",
   "execution_count": 120,
   "metadata": {
    "scrolled": true
   },
   "outputs": [
    {
     "data": {
      "image/png": "[encoded data removed]",
      "text/plain": [
       "<Figure size 1008x288 with 1 Axes>"
      ]
     },
     "metadata": {
      "needs_background": "light"
     },
     "output_type": "display_data"
    }
   ],
   "source": [
    "total_df.pivot_table(index='age', values=['sum_call_minute','sum_messages','sum_gb_used'], aggfunc='mean').plot(grid=True, figsize=(14,4)) # Строим график среднего использования инет-трафика по месяцам \n",
    "plt.ylabel('Количество использованных услуг \\n')\n",
    "plt.title('Среднее использование услуг связи по возрасту пользователя \\n')\n",
    "plt.show()"
   ]
  },
  {
   "cell_type": "markdown",
   "metadata": {},
   "source": [
    "Посмотрим конкретные цифры по пользователям:"
   ]
  },
  {
   "cell_type": "markdown",
   "metadata": {},
   "source": [
    "**Звонки**"
   ]
  },
  {
   "cell_type": "code",
   "execution_count": 71,
   "metadata": {
    "scrolled": false
   },
   "outputs": [
    {
     "name": "stdout",
     "output_type": "stream",
     "text": [
      "В среднем пользователи до 39 лет используют: 423.0 минуты для разговора в месяц\n",
      "В среднем пользователи от 39 лет используют: 466.0 минуты для разговора в месяц\n"
     ]
    }
   ],
   "source": [
    "print('В среднем пользователи до 39 лет используют:', total_df.query('age < 39')['sum_call_minute'].mean().round(), 'минуты для разговора в месяц')\n",
    "print('В среднем пользователи от 39 лет используют:', total_df.query('age >= 39')['sum_call_minute'].mean().round(), 'минуты для разговора в месяц')"
   ]
  },
  {
   "cell_type": "markdown",
   "metadata": {},
   "source": [
    "**Смс**"
   ]
  },
  {
   "cell_type": "code",
   "execution_count": 72,
   "metadata": {},
   "outputs": [
    {
     "name": "stdout",
     "output_type": "stream",
     "text": [
      "В среднем пользователи до 39 лет отправляют: 39.0 смс сообщений в месяц\n",
      "В среднем пользователи от 39 лет отправляют: 38.0 смс сообщений в месяц\n"
     ]
    }
   ],
   "source": [
    "print('В среднем пользователи до 39 лет отправляют:', total_df.query('age < 39')['sum_messages'].mean().round(), 'смс сообщений в месяц')\n",
    "print('В среднем пользователи от 39 лет отправляют:', total_df.query('age >= 39')['sum_messages'].mean().round(), 'смс сообщений в месяц')"
   ]
  },
  {
   "cell_type": "markdown",
   "metadata": {},
   "source": [
    "**Интернет**"
   ]
  },
  {
   "cell_type": "code",
   "execution_count": 73,
   "metadata": {
    "scrolled": true
   },
   "outputs": [
    {
     "name": "stdout",
     "output_type": "stream",
     "text": [
      "В среднем пользователи до 39 лет используют: 18.0 гб интернет-трафика в месяц\n",
      "В среднем пользователи от 39 лет используют: 17.0 гб интернет-трафика в месяц\n"
     ]
    }
   ],
   "source": [
    "print('В среднем пользователи до 39 лет используют:', total_df.query('age < 39')['sum_gb_used'].mean().round(), 'гб интернет-трафика в месяц')\n",
    "print('В среднем пользователи от 39 лет используют:', total_df.query('age >= 39')['sum_gb_used'].mean().round(), 'гб интернет-трафика в месяц')"
   ]
  },
  {
   "cell_type": "markdown",
   "metadata": {},
   "source": [
    "Можно отметить характерное отличие в количестве телефонных разговоров: клиенты до 39 лет в среднем на 43 минуты меньше разговаривают по телефону, чем клиенты старшего возраста. Что касается Смс сообщений и интернета, то мы видим, что значения практически совпадают. "
   ]
  },
  {
   "cell_type": "markdown",
   "metadata": {},
   "source": [
    "Далее рассмотрим динамику оттока пользователей компании по месяцам."
   ]
  },
  {
   "cell_type": "code",
   "execution_count": 121,
   "metadata": {
    "scrolled": false
   },
   "outputs": [
    {
     "name": "stdout",
     "output_type": "stream",
     "text": [
      "Кол-во клентов покинувших компанию за год 38\n",
      "Кол-во клентов покинувших компанию за посл. 4 мес. 2018 г. на двух тарифах 35\n",
      "%  от общего кол-ва всех клиентов, покинувших компанию за посл. 4 мес. 2018 г. на двух тарифах 92.1\n",
      "Распределение оттока клиентов на тарифах за посл. 4 мес. 2018 г.:\n"
     ]
    },
    {
     "data": {
      "text/html": [
       "<div>\n",
       "<style scoped>\n",
       "    .dataframe tbody tr th:only-of-type {\n",
       "        vertical-align: middle;\n",
       "    }\n",
       "\n",
       "    .dataframe tbody tr th {\n",
       "        vertical-align: top;\n",
       "    }\n",
       "\n",
       "    .dataframe thead th {\n",
       "        text-align: right;\n",
       "    }\n",
       "</style>\n",
       "<table border=\"1\" class=\"dataframe\">\n",
       "  <thead>\n",
       "    <tr style=\"text-align: right;\">\n",
       "      <th></th>\n",
       "      <th>churn_date</th>\n",
       "    </tr>\n",
       "    <tr>\n",
       "      <th>tariff</th>\n",
       "      <th></th>\n",
       "    </tr>\n",
       "  </thead>\n",
       "  <tbody>\n",
       "    <tr>\n",
       "      <th>smart</th>\n",
       "      <td>22</td>\n",
       "    </tr>\n",
       "    <tr>\n",
       "      <th>ultra</th>\n",
       "      <td>13</td>\n",
       "    </tr>\n",
       "  </tbody>\n",
       "</table>\n",
       "</div>"
      ],
      "text/plain": [
       "        churn_date\n",
       "tariff            \n",
       "smart           22\n",
       "ultra           13"
      ]
     },
     "execution_count": 121,
     "metadata": {},
     "output_type": "execute_result"
    }
   ],
   "source": [
    "print ('Кол-во клентов покинувших компанию за год', df_users.churn_date.notna().sum())\n",
    "\n",
    "print ('Кол-во клентов покинувших компанию за посл. 4 мес. 2018 г. на двух тарифах',\n",
    "       df_users.query('churn_date > \"2018-09-25\"').churn_date.notna().sum()\n",
    "      )\n",
    "print ('%  от общего кол-ва всех клиентов, покинувших компанию за посл. 4 мес. 2018 г. на двух тарифах',\n",
    "    (df_users.query('churn_date > \"2018-09-25\"').churn_date.notna().sum()/df_users.churn_date.notna().sum()*100).round(1)\n",
    ")\n",
    "\n",
    "print ('Распределение оттока клиентов на тарифах за посл. 4 мес. 2018 г.:')\n",
    "df_users.query('churn_date > \"2018-09-25\"').groupby('tariff')['churn_date'].count().to_frame()"
   ]
  },
  {
   "cell_type": "markdown",
   "metadata": {},
   "source": [
    "По представленным результатам видно, что существует тенденция к росту оттока числа пользователей компании. "
   ]
  },
  {
   "cell_type": "markdown",
   "metadata": {},
   "source": [
    "**Вывод:**"
   ]
  },
  {
   "cell_type": "markdown",
   "metadata": {},
   "source": [
    "В данном этапе мы анализировали действия пользователей двух тарифов. Пользователей тарифа Смарт 351 человек, а тарифа Ультра 149 человек. Также мы построили необходимые гистограммы по смс, звонкам и интеренет трафике, рассмотрели в динамеке средние показатели использования услуг пользователями двух тарифов и увидели, что в основном на протяжении всего года по всем направлениям идет рост, декабрь самый \"жирный\" месяц. Также мы изучили использование услуг по разным возрастным категориям, построили графики и сделали выводы, плюсом рассмотрели важную метрику оттока пользователей, по ней также были сделаны выводы."
   ]
  },
  {
   "cell_type": "markdown",
   "metadata": {},
   "source": [
    "## Шаг 7. Проверка гипотез"
   ]
  },
  {
   "cell_type": "markdown",
   "metadata": {},
   "source": [
    "На данном этапе необходимо проверить две гипотезы:"
   ]
  },
  {
   "cell_type": "markdown",
   "metadata": {},
   "source": [
    "* Средняя выручка пользователей тарифов «Ультра» и «Смарт» различаются;\n",
    "* Средняя выручка пользователей из Москвы отличается от выручки пользователей из других регионов."
   ]
  },
  {
   "cell_type": "markdown",
   "metadata": {},
   "source": [
    "**Проверка гипотезы о том, что средняя выручка пользователей тарифов «Ультра» и «Смарт» различаются.**"
   ]
  },
  {
   "cell_type": "code",
   "execution_count": 122,
   "metadata": {},
   "outputs": [
    {
     "data": {
      "image/png": "[encoded data removed]",
      "text/plain": [
       "<Figure size 1008x288 with 1 Axes>"
      ]
     },
     "metadata": {
      "needs_background": "light"
     },
     "output_type": "display_data"
    }
   ],
   "source": [
    "df_smart.hist('revenue_per_month', bins=70, range=(550, 7000), figsize=(14,4)) # строим гистограмму по выручке тариф Смарт\n",
    "plt.xlabel('\\n Выручка')\n",
    "plt.ylabel('Частота \\n')\n",
    "plt.title('Выручка пользователей Смарт \\n')\n",
    "plt.show()"
   ]
  },
  {
   "cell_type": "markdown",
   "metadata": {},
   "source": [
    "Посмотрим на среднее значение выручки с пользователей тарифа Смарт:"
   ]
  },
  {
   "cell_type": "code",
   "execution_count": 77,
   "metadata": {},
   "outputs": [
    {
     "name": "stdout",
     "output_type": "stream",
     "text": [
      "Средняя выручка тарифа Смарт: 1289.64\n"
     ]
    }
   ],
   "source": [
    "print('Средняя выручка тарифа Смарт:', df_smart['revenue_per_month'].mean().round(2)) # вывод среднего показателя выручки по тарифу Смарт"
   ]
  },
  {
   "cell_type": "markdown",
   "metadata": {},
   "source": [
    "Средняя выручка от пользователей тарифа Смарт больше чем сама плата за использование самого тарифа, это говорит о том, что пользователям не хватает тех планов услуг, которые включены в тариф."
   ]
  },
  {
   "cell_type": "code",
   "execution_count": 123,
   "metadata": {
    "scrolled": true
   },
   "outputs": [
    {
     "data": {
      "image/png": "[encoded data removed]",
      "text/plain": [
       "<Figure size 1008x288 with 1 Axes>"
      ]
     },
     "metadata": {
      "needs_background": "light"
     },
     "output_type": "display_data"
    }
   ],
   "source": [
    "df_ultra.hist('revenue_per_month', bins=20, range=(1900, 4900), figsize=(14,4)) # строим гистограмму по выручке тариф Ультра\n",
    "plt.xlabel('\\n Выручка')\n",
    "plt.ylabel('Частота \\n')\n",
    "plt.title('Выручка пользователей Ультра \\n')\n",
    "plt.show()"
   ]
  },
  {
   "cell_type": "markdown",
   "metadata": {},
   "source": [
    "Посмотрим на среднее значение выручки с пользователей тарифа Ультра:"
   ]
  },
  {
   "cell_type": "code",
   "execution_count": 79,
   "metadata": {
    "scrolled": true
   },
   "outputs": [
    {
     "name": "stdout",
     "output_type": "stream",
     "text": [
      "Средняя выручка тарифа Ультра: 2070.03\n"
     ]
    }
   ],
   "source": [
    "print('Средняя выручка тарифа Ультра:', df_ultra['revenue_per_month'].mean().round(2)) # вывод среднего показателя выручки по тарифу Ультра"
   ]
  },
  {
   "cell_type": "markdown",
   "metadata": {},
   "source": [
    "Средняя выручка тарифа Ультра составила 2070.03 рублей, это на 120.03 рублей больше чем ежемесячная плата за пользование тарифом Ультра."
   ]
  },
  {
   "cell_type": "markdown",
   "metadata": {},
   "source": [
    "**Формулировка гипотез:**"
   ]
  },
  {
   "cell_type": "markdown",
   "metadata": {},
   "source": [
    "* H0 - средняя выручка пользователей тарифов «Ультра» и «Смарт» не различается;\n",
    "* H1 - средняя выручка пользователей тарифов «Ультра» и «Смарт» различаются."
   ]
  },
  {
   "cell_type": "code",
   "execution_count": 80,
   "metadata": {
    "scrolled": true
   },
   "outputs": [
    {
     "name": "stdout",
     "output_type": "stream",
     "text": [
      "p-значение:  1.927011394420941e-250\n",
      "Отвергаем нулевую гипотезу, о том, что средняя выручка пользователей тарифов «Ультра» и «Смарт» не различается\n"
     ]
    }
   ],
   "source": [
    "sample_1 = df_smart['revenue_per_month']\n",
    "sample_2 = df_ultra['revenue_per_month']\n",
    "\n",
    "results = st.ttest_ind(sample_1, sample_2, equal_var = False)\n",
    "alpha = .05\n",
    "\n",
    "print('p-значение: ', results.pvalue)\n",
    "\n",
    "if results.pvalue < alpha:\n",
    "    print('Отвергаем нулевую гипотезу, о том, что средняя выручка пользователей тарифов «Ультра» и «Смарт» не различается')\n",
    "else:\n",
    "    print('Не отвергаем нулевую гипотезу, о том, что средняя выручка пользователей тарифов «Ультра» и «Смарт» не различается')"
   ]
  },
  {
   "cell_type": "markdown",
   "metadata": {},
   "source": [
    "После расчетов мы отвергаем нулевую гипотезу о том, что средняя выручка пользователей тарифов «Ультра» и «Смарт» не различается."
   ]
  },
  {
   "cell_type": "code",
   "execution_count": 81,
   "metadata": {
    "scrolled": true
   },
   "outputs": [
    {
     "name": "stdout",
     "output_type": "stream",
     "text": [
      "Выручка с тарифа Смарт: 2875901 рублей.\n",
      "Выручка с тарифа Ультра: 2041050 рублей.\n"
     ]
    }
   ],
   "source": [
    "print('Выручка с тарифа Смарт:', df_smart['revenue_per_month'].sum(), 'рублей.')\n",
    "print('Выручка с тарифа Ультра:', df_ultra['revenue_per_month'].sum(), 'рублей.')"
   ]
  },
  {
   "cell_type": "markdown",
   "metadata": {},
   "source": [
    "Выручка с тарифа Смарт больше чем выручка с тарифа Ультра, это связанно с тем, что пользователей тарифа Смарт гораздо больше."
   ]
  },
  {
   "cell_type": "markdown",
   "metadata": {},
   "source": [
    "**Проверка гипотезы о том, что средняя выручка пользователей из Москвы отличается от выручки пользователей из других регионов.**"
   ]
  },
  {
   "cell_type": "markdown",
   "metadata": {},
   "source": [
    "Поделим пользователей на тех, кто из Москвы и тех, кто в остальных городах."
   ]
  },
  {
   "cell_type": "code",
   "execution_count": 82,
   "metadata": {},
   "outputs": [],
   "source": [
    "df_moscow = total_df.query('city == \"Москва\"') # выделяем Москву из total_df\n",
    "df_regions = total_df.query('city != \"Москва\"') # выделяем регионы из total_df"
   ]
  },
  {
   "cell_type": "code",
   "execution_count": 83,
   "metadata": {},
   "outputs": [
    {
     "data": {
      "text/plain": [
       "Москва    611\n",
       "Name: city, dtype: int64"
      ]
     },
     "execution_count": 83,
     "metadata": {},
     "output_type": "execute_result"
    }
   ],
   "source": [
    "df_moscow['city'].value_counts() # проверяем города"
   ]
  },
  {
   "cell_type": "code",
   "execution_count": 84,
   "metadata": {
    "scrolled": true
   },
   "outputs": [
    {
     "data": {
      "text/plain": [
       "Санкт-Петербург    270\n",
       "Новосибирск         98\n",
       "Уфа                 95\n",
       "Краснодар           86\n",
       "Ульяновск           83\n",
       "                  ... \n",
       "Сургут               6\n",
       "Нижневартовск        6\n",
       "Кемерово             5\n",
       "Химки                5\n",
       "Иваново              2\n",
       "Name: city, Length: 75, dtype: int64"
      ]
     },
     "execution_count": 84,
     "metadata": {},
     "output_type": "execute_result"
    }
   ],
   "source": [
    "df_regions['city'].value_counts() # проверяем города"
   ]
  },
  {
   "cell_type": "code",
   "execution_count": 125,
   "metadata": {},
   "outputs": [
    {
     "data": {
      "image/png": "[encoded data removed]",
      "text/plain": [
       "<Figure size 1008x288 with 1 Axes>"
      ]
     },
     "metadata": {
      "needs_background": "light"
     },
     "output_type": "display_data"
    }
   ],
   "source": [
    "df_moscow.hist('revenue_per_month', bins=70, range=(550, 7000), figsize=(14,4)) # строим гистограмму по выручке пользователей из Москвы\n",
    "plt.xlabel('\\n Выручка')\n",
    "plt.ylabel('Частота \\n')\n",
    "plt.title('Выручка пользователей из Москвы \\n')\n",
    "plt.show()"
   ]
  },
  {
   "cell_type": "markdown",
   "metadata": {},
   "source": [
    "Посмотрим на среднее значение выручки с пользователей из Москвы:"
   ]
  },
  {
   "cell_type": "code",
   "execution_count": 86,
   "metadata": {
    "scrolled": true
   },
   "outputs": [
    {
     "name": "stdout",
     "output_type": "stream",
     "text": [
      "Средняя выручка от пользователей из Москвы: 1546.71\n"
     ]
    }
   ],
   "source": [
    "print('Средняя выручка от пользователей из Москвы:', df_moscow['revenue_per_month'].mean().round(2)) # вывод среднего показателя выручки пользователей из Москвы"
   ]
  },
  {
   "cell_type": "markdown",
   "metadata": {},
   "source": [
    "Следующим шагом мы посмотрим на выручку регионов."
   ]
  },
  {
   "cell_type": "code",
   "execution_count": 127,
   "metadata": {
    "scrolled": true
   },
   "outputs": [
    {
     "data": {
      "image/png": "[encoded data removed]",
      "text/plain": [
       "<Figure size 1008x288 with 1 Axes>"
      ]
     },
     "metadata": {
      "needs_background": "light"
     },
     "output_type": "display_data"
    }
   ],
   "source": [
    "df_regions.hist('revenue_per_month', bins=70, range=(550, 7000), figsize=(14,4)) # строим гистограмму по выручке пользователей из регионов\n",
    "plt.xlabel('\\n Выручка')\n",
    "plt.ylabel('Частота \\n')\n",
    "plt.title('Выручка пользователей из регионов \\n')\n",
    "plt.show()"
   ]
  },
  {
   "cell_type": "markdown",
   "metadata": {},
   "source": [
    "Посмотрим на среднее значение выручки с пользователей из регионов:"
   ]
  },
  {
   "cell_type": "code",
   "execution_count": 88,
   "metadata": {
    "scrolled": true
   },
   "outputs": [
    {
     "name": "stdout",
     "output_type": "stream",
     "text": [
      "Средняя выручка от пользователей из регионов: 1524.73\n"
     ]
    }
   ],
   "source": [
    "print('Средняя выручка от пользователей из регионов:', df_regions['revenue_per_month'].mean().round(2)) # вывод среднего показателя выручки пользователей из регионов"
   ]
  },
  {
   "cell_type": "markdown",
   "metadata": {},
   "source": [
    "**Формулировка гипотез:**"
   ]
  },
  {
   "cell_type": "markdown",
   "metadata": {},
   "source": [
    "* H0 - средняя выручка пользователей из Москвы не отличается от выручки пользователей из других регионов;\n",
    "* H1 - средняя выручка пользователей из Москвы отличается от выручки пользователей из других регионов."
   ]
  },
  {
   "cell_type": "code",
   "execution_count": 89,
   "metadata": {
    "scrolled": true
   },
   "outputs": [
    {
     "name": "stdout",
     "output_type": "stream",
     "text": [
      "p-значение:  0.5216952110000279\n",
      "Не отвергаем нулевую гипотезу, о том, что средняя выручка пользователей из Москвы не отличается от выручки пользователей из других регионов\n"
     ]
    }
   ],
   "source": [
    "sample_1 = df_moscow['revenue_per_month']\n",
    "sample_2 = df_regions['revenue_per_month']\n",
    "\n",
    "results = st.ttest_ind(sample_1, sample_2, equal_var = False)\n",
    "alpha = .05\n",
    "print('p-значение: ', results.pvalue)\n",
    "\n",
    "if results.pvalue < alpha:\n",
    "    print('Отвергаем нулевую гипотезу, о том, что средняя выручка пользователей из Москвы не отличается от выручки пользователей из других регионов')\n",
    "else:\n",
    "    print('Не отвергаем нулевую гипотезу, о том, что средняя выручка пользователей из Москвы не отличается от выручки пользователей из других регионов')"
   ]
  },
  {
   "cell_type": "markdown",
   "metadata": {},
   "source": [
    "**Интерпретация результата:**\n",
    "- p-значение равное 0.521695211 говорит нам о том, что хотя средняя выручка пользователей из Москвы и других региогнов не равна, с вероятностью 52%, такое различие можно получить случайно. Это слишком большая вероятность, чтобы делать вывод о различии между средней выручкой пользователей из Москвы и других регионов.\n"
   ]
  },
  {
   "cell_type": "markdown",
   "metadata": {},
   "source": [
    "**Вывод:**"
   ]
  },
  {
   "cell_type": "markdown",
   "metadata": {},
   "source": [
    "На данном этапе мы рассмотрели выручку с двух тарифов, сравнили их между собой, также мы рассмотрели разницу в выручке среди Москвы и других городов, сформулировали основные и альтернативные гипотезы и проверили их."
   ]
  },
  {
   "cell_type": "markdown",
   "metadata": {},
   "source": [
    "# Общий вывод"
   ]
  },
  {
   "cell_type": "markdown",
   "metadata": {},
   "source": [
    "В данном проекте было исследование перспективности двух тарифов. Нам было представлено 5 таблиц из которой мы сделали одну со всем необходимым для анализа, далее мы поработали с самим качеством данных изменили типы данных и заполнили пропуски. \n",
    "\n",
    "В ходе работы в данные была добавлена информация об интернет трафике пользователей, добавленные столбцы были необходимы для расчета выручки с каждого пользователя. Далее мы использовали написанную нами функцию для расчета выручки и посмотрели на ее работу, этот этап прошел успешно, функция сработала и в данных не было пропусков. \n",
    "\n",
    "Далее мы анализировали информацию по звонкам, смс и интернет трафике пользователей разных тарифов разделив их на пользователей тарифа Смарт: 351 человек и Ультра: 149 человек, построили гистограммы и посмотрели на действия пользователей в динамеке на протяжении года, в ходе анализа мы выявили, что в декабре пользователи проявили самую высокую активность. \n",
    "\n",
    "Окончательным этапом проекта была проверка гипотез, составление нулевой и альтернативной гипотез, в ходе расчетов была отвергнута гипотиза о том, что средняя выручка пользователей тарифов «Ультра» и «Смарт» не различается, а также после проверки мы можем предполагать, что средняя выручка пользователей из Москвы не отличается от выручки пользователей из других регионов.\n",
    "\n",
    "Пользователи тарифа Смарт в среднем меньше пользуются услугами компании, чем пользователи тарифа Ультра, по расчетам можно сказать, что обычному пользователю тарифа Смарт не хватает интернет трафика, в среднем этот пользователь использует 17 гб трафика, но включено всего лишь 15 гб, из-за этого пользователь переплачивает 200 рублей за каждый использованный гб.\n",
    "Если говорить о среднестатистическом пользователе тарифа Ультра, то мы можем сказать что ему хватает всего пакета услуг и он не переплачивает за сверхпотребление.\n",
    "\n",
    "Средняя выручка от пользователей тарифа Смарт больше чем сама плата за использование самого тарифа, это говорит о том, что пользователям не хватает тех планов услуг, которые включены в тариф. Средняя выручка с пользователей тарифа Смарт 1289.64 и она  больше абонентской платы на 739,64 рубля. При тарифе Ультра разница между абонентской платой и средней выручкой составила 120.03 рублей. \n",
    "\n",
    "Выручка с тарифа Смарт составила: 2 875 901 рублей, а выручка с тарифа Ультра: 2 041 050 рублей, разница между тарифами в абсолютном выражении составила: 834 851 рублей. При равном количестве пользователей двух тарифов выручка с тарифа Ультра была бы намного больше, чем с тарифа Смарт, поэтому бизнесу важно продвигать тариф Ультра.  \n",
    "\n",
    "Также было проанализировано поведение клиентов, а точнее их отток из компании, к концу 2018 года наблюдалась тенденция к оттоку пользователей Мегалайна, что является достаточно неприятным моментом для компании, за анализируемый период Мегалайн покинуло 38 пользователей, но 35 пользователей перестали пользоваться услугами за очень короткое время ( последние 4 месяца 2018 года ). За эти четыре месяца чаще уходили клиенты которые были пользователями тарифа Cмарт - 22 пользователя, клиенты Ультра переставали пользоваться услугами связи реже - 13 пользователей прекратили использовать тариф Ультра за последние 4 месяца. Помимо этого было проанализировано использование услуг связи клиентами разного возраста, при данном анализе нам удалось сделать вывод что люди моложе 39 лет значительно реже пользуются звонками по мобильной связи, что касается импользования смс сообщений и интернет-трафика, то результат оказался неожиданным, две категории пользователей практически одинаково используют данные услуги."
   ]
  }
 ],
 "metadata": {
  "ExecuteTimeLog": [
   {
    "duration": 1337,
    "start_time": "2022-03-20T11:35:30.504Z"
   },
   {
    "duration": 147,
    "start_time": "2022-03-20T11:36:29.585Z"
   },
   {
    "duration": 10,
    "start_time": "2022-03-20T11:37:46.751Z"
   },
   {
    "duration": 139,
    "start_time": "2022-03-20T11:39:44.109Z"
   },
   {
    "duration": 132,
    "start_time": "2022-03-20T11:39:49.971Z"
   },
   {
    "duration": 9,
    "start_time": "2022-03-20T11:39:55.558Z"
   },
   {
    "duration": 85,
    "start_time": "2022-03-20T11:45:17.337Z"
   },
   {
    "duration": 1049,
    "start_time": "2022-03-20T11:45:28.309Z"
   },
   {
    "duration": 148,
    "start_time": "2022-03-20T11:45:29.360Z"
   },
   {
    "duration": 8,
    "start_time": "2022-03-20T11:45:29.510Z"
   },
   {
    "duration": 129,
    "start_time": "2022-03-20T11:45:29.520Z"
   },
   {
    "duration": 92,
    "start_time": "2022-03-20T11:45:29.650Z"
   },
   {
    "duration": 8,
    "start_time": "2022-03-20T11:51:41.916Z"
   },
   {
    "duration": 9,
    "start_time": "2022-03-20T11:51:57.975Z"
   },
   {
    "duration": 55,
    "start_time": "2022-03-20T11:55:00.092Z"
   },
   {
    "duration": 8,
    "start_time": "2022-03-20T11:55:01.694Z"
   },
   {
    "duration": 109,
    "start_time": "2022-03-20T11:57:48.091Z"
   },
   {
    "duration": 88,
    "start_time": "2022-03-20T11:57:53.673Z"
   },
   {
    "duration": 92,
    "start_time": "2022-03-20T11:58:06.515Z"
   },
   {
    "duration": 89,
    "start_time": "2022-03-20T11:58:12.790Z"
   },
   {
    "duration": 54,
    "start_time": "2022-03-20T11:58:33.992Z"
   },
   {
    "duration": 21,
    "start_time": "2022-03-20T12:11:09.136Z"
   },
   {
    "duration": 32,
    "start_time": "2022-03-20T12:14:45.985Z"
   },
   {
    "duration": 1073,
    "start_time": "2022-03-20T12:14:53.185Z"
   },
   {
    "duration": 149,
    "start_time": "2022-03-20T12:14:54.260Z"
   },
   {
    "duration": 8,
    "start_time": "2022-03-20T12:14:54.410Z"
   },
   {
    "duration": 140,
    "start_time": "2022-03-20T12:14:54.420Z"
   },
   {
    "duration": 96,
    "start_time": "2022-03-20T12:14:54.561Z"
   },
   {
    "duration": 8,
    "start_time": "2022-03-20T12:14:54.659Z"
   },
   {
    "duration": 96,
    "start_time": "2022-03-20T12:14:54.668Z"
   },
   {
    "duration": 58,
    "start_time": "2022-03-20T12:14:54.765Z"
   },
   {
    "duration": 21,
    "start_time": "2022-03-20T12:14:54.825Z"
   },
   {
    "duration": 75,
    "start_time": "2022-03-20T17:16:49.754Z"
   },
   {
    "duration": 2022,
    "start_time": "2022-03-20T17:17:09.161Z"
   },
   {
    "duration": 312,
    "start_time": "2022-03-20T17:17:11.187Z"
   },
   {
    "duration": 13,
    "start_time": "2022-03-20T17:17:11.501Z"
   },
   {
    "duration": 195,
    "start_time": "2022-03-20T17:17:11.517Z"
   },
   {
    "duration": 137,
    "start_time": "2022-03-20T17:17:11.715Z"
   },
   {
    "duration": 12,
    "start_time": "2022-03-20T17:17:11.855Z"
   },
   {
    "duration": 180,
    "start_time": "2022-03-20T17:17:11.870Z"
   },
   {
    "duration": 94,
    "start_time": "2022-03-20T17:17:12.053Z"
   },
   {
    "duration": 20,
    "start_time": "2022-03-20T17:17:12.168Z"
   },
   {
    "duration": 31,
    "start_time": "2022-03-20T17:17:12.192Z"
   },
   {
    "duration": 144,
    "start_time": "2022-03-20T17:43:21.520Z"
   },
   {
    "duration": 1413,
    "start_time": "2022-03-20T17:53:33.197Z"
   },
   {
    "duration": 212,
    "start_time": "2022-03-20T17:53:34.613Z"
   },
   {
    "duration": 15,
    "start_time": "2022-03-20T17:53:34.827Z"
   },
   {
    "duration": 198,
    "start_time": "2022-03-20T17:53:34.845Z"
   },
   {
    "duration": 132,
    "start_time": "2022-03-20T17:53:35.045Z"
   },
   {
    "duration": 13,
    "start_time": "2022-03-20T17:53:35.179Z"
   },
   {
    "duration": 134,
    "start_time": "2022-03-20T17:53:35.194Z"
   },
   {
    "duration": 99,
    "start_time": "2022-03-20T17:53:35.330Z"
   },
   {
    "duration": 20,
    "start_time": "2022-03-20T17:53:35.431Z"
   },
   {
    "duration": 29,
    "start_time": "2022-03-20T17:53:35.456Z"
   },
   {
    "duration": 177,
    "start_time": "2022-03-20T17:53:35.488Z"
   },
   {
    "duration": 48,
    "start_time": "2022-03-21T19:11:08.818Z"
   },
   {
    "duration": 1480,
    "start_time": "2022-03-21T19:11:15.166Z"
   },
   {
    "duration": 259,
    "start_time": "2022-03-21T19:11:16.648Z"
   },
   {
    "duration": 9,
    "start_time": "2022-03-21T19:11:16.910Z"
   },
   {
    "duration": 145,
    "start_time": "2022-03-21T19:11:16.922Z"
   },
   {
    "duration": 110,
    "start_time": "2022-03-21T19:11:17.070Z"
   },
   {
    "duration": 9,
    "start_time": "2022-03-21T19:11:17.182Z"
   },
   {
    "duration": 107,
    "start_time": "2022-03-21T19:11:17.193Z"
   },
   {
    "duration": 78,
    "start_time": "2022-03-21T19:11:17.302Z"
   },
   {
    "duration": 19,
    "start_time": "2022-03-21T19:11:17.382Z"
   },
   {
    "duration": 95,
    "start_time": "2022-03-21T19:11:17.404Z"
   },
   {
    "duration": 116,
    "start_time": "2022-03-21T19:11:17.501Z"
   },
   {
    "duration": 13,
    "start_time": "2022-03-21T19:11:17.619Z"
   },
   {
    "duration": 12,
    "start_time": "2022-03-21T19:11:29.957Z"
   },
   {
    "duration": 8,
    "start_time": "2022-03-21T19:12:52.002Z"
   },
   {
    "duration": 13,
    "start_time": "2022-03-21T19:12:59.450Z"
   },
   {
    "duration": 8,
    "start_time": "2022-03-21T19:13:44.693Z"
   },
   {
    "duration": 14,
    "start_time": "2022-03-21T19:13:50.394Z"
   },
   {
    "duration": 5,
    "start_time": "2022-03-21T19:14:49.248Z"
   },
   {
    "duration": 8,
    "start_time": "2022-03-21T19:15:07.389Z"
   },
   {
    "duration": 17,
    "start_time": "2022-03-21T19:15:17.732Z"
   },
   {
    "duration": 2,
    "start_time": "2022-03-21T19:24:16.623Z"
   },
   {
    "duration": 22,
    "start_time": "2022-03-21T19:24:24.740Z"
   },
   {
    "duration": 14,
    "start_time": "2022-03-21T19:25:04.095Z"
   },
   {
    "duration": 7,
    "start_time": "2022-03-21T19:34:40.085Z"
   },
   {
    "duration": 8,
    "start_time": "2022-03-21T19:35:15.738Z"
   },
   {
    "duration": 93,
    "start_time": "2022-03-21T19:40:46.589Z"
   },
   {
    "duration": 17,
    "start_time": "2022-03-21T19:41:08.475Z"
   },
   {
    "duration": 124,
    "start_time": "2022-03-21T19:46:22.424Z"
   },
   {
    "duration": 1440,
    "start_time": "2022-03-21T19:47:15.462Z"
   },
   {
    "duration": 229,
    "start_time": "2022-03-21T19:47:16.905Z"
   },
   {
    "duration": 11,
    "start_time": "2022-03-21T19:47:17.137Z"
   },
   {
    "duration": 152,
    "start_time": "2022-03-21T19:47:17.150Z"
   },
   {
    "duration": 99,
    "start_time": "2022-03-21T19:47:17.304Z"
   },
   {
    "duration": 8,
    "start_time": "2022-03-21T19:47:17.404Z"
   },
   {
    "duration": 106,
    "start_time": "2022-03-21T19:47:17.414Z"
   },
   {
    "duration": 95,
    "start_time": "2022-03-21T19:47:17.523Z"
   },
   {
    "duration": 19,
    "start_time": "2022-03-21T19:47:17.621Z"
   },
   {
    "duration": 40,
    "start_time": "2022-03-21T19:47:17.644Z"
   },
   {
    "duration": 150,
    "start_time": "2022-03-21T19:47:17.686Z"
   },
   {
    "duration": 8,
    "start_time": "2022-03-21T19:47:17.838Z"
   },
   {
    "duration": 16,
    "start_time": "2022-03-21T19:47:17.848Z"
   },
   {
    "duration": 13,
    "start_time": "2022-03-21T19:47:17.866Z"
   },
   {
    "duration": 13,
    "start_time": "2022-03-21T19:47:17.880Z"
   },
   {
    "duration": 39,
    "start_time": "2022-03-21T19:47:17.894Z"
   },
   {
    "duration": 13,
    "start_time": "2022-03-21T19:47:17.934Z"
   },
   {
    "duration": 7,
    "start_time": "2022-03-21T19:47:17.949Z"
   },
   {
    "duration": 9,
    "start_time": "2022-03-21T19:47:17.958Z"
   },
   {
    "duration": 18,
    "start_time": "2022-03-21T19:47:17.968Z"
   },
   {
    "duration": 3,
    "start_time": "2022-03-21T19:47:17.988Z"
   },
   {
    "duration": 16,
    "start_time": "2022-03-21T19:47:17.993Z"
   },
   {
    "duration": 33,
    "start_time": "2022-03-21T19:47:18.010Z"
   },
   {
    "duration": 7,
    "start_time": "2022-03-21T19:47:18.044Z"
   },
   {
    "duration": 7,
    "start_time": "2022-03-21T19:47:18.053Z"
   },
   {
    "duration": 16,
    "start_time": "2022-03-21T19:47:18.061Z"
   },
   {
    "duration": 117,
    "start_time": "2022-03-21T19:47:18.078Z"
   },
   {
    "duration": 5,
    "start_time": "2022-03-21T19:47:59.233Z"
   },
   {
    "duration": 7,
    "start_time": "2022-03-21T19:48:30.523Z"
   },
   {
    "duration": 2487,
    "start_time": "2022-03-21T20:13:58.004Z"
   },
   {
    "duration": 2234,
    "start_time": "2022-03-21T20:14:35.187Z"
   },
   {
    "duration": 5,
    "start_time": "2022-03-21T20:14:48.157Z"
   },
   {
    "duration": 6,
    "start_time": "2022-03-21T20:15:08.906Z"
   },
   {
    "duration": 529,
    "start_time": "2022-03-21T20:19:02.538Z"
   },
   {
    "duration": 12,
    "start_time": "2022-03-21T20:26:03.091Z"
   },
   {
    "duration": 10,
    "start_time": "2022-03-21T20:26:28.785Z"
   },
   {
    "duration": 7,
    "start_time": "2022-03-21T20:26:44.120Z"
   },
   {
    "duration": 12,
    "start_time": "2022-03-21T20:29:58.448Z"
   },
   {
    "duration": 4,
    "start_time": "2022-03-21T20:31:54.464Z"
   },
   {
    "duration": 4,
    "start_time": "2022-03-21T20:32:02.545Z"
   },
   {
    "duration": 3,
    "start_time": "2022-03-21T20:32:10.523Z"
   },
   {
    "duration": 13,
    "start_time": "2022-03-21T20:32:18.636Z"
   },
   {
    "duration": 6,
    "start_time": "2022-03-21T20:33:04.938Z"
   },
   {
    "duration": 5,
    "start_time": "2022-03-21T20:33:25.713Z"
   },
   {
    "duration": 12,
    "start_time": "2022-03-21T20:33:26.339Z"
   },
   {
    "duration": 5,
    "start_time": "2022-03-21T20:33:29.793Z"
   },
   {
    "duration": 2879,
    "start_time": "2022-03-21T20:33:37.756Z"
   },
   {
    "duration": 150,
    "start_time": "2022-03-21T20:33:40.637Z"
   },
   {
    "duration": 12,
    "start_time": "2022-03-21T20:33:40.788Z"
   },
   {
    "duration": 141,
    "start_time": "2022-03-21T20:33:40.801Z"
   },
   {
    "duration": 96,
    "start_time": "2022-03-21T20:33:40.944Z"
   },
   {
    "duration": 9,
    "start_time": "2022-03-21T20:33:41.041Z"
   },
   {
    "duration": 101,
    "start_time": "2022-03-21T20:33:41.051Z"
   },
   {
    "duration": 59,
    "start_time": "2022-03-21T20:33:41.153Z"
   },
   {
    "duration": 24,
    "start_time": "2022-03-21T20:33:41.213Z"
   },
   {
    "duration": 38,
    "start_time": "2022-03-21T20:33:41.239Z"
   },
   {
    "duration": 107,
    "start_time": "2022-03-21T20:33:41.278Z"
   },
   {
    "duration": 7,
    "start_time": "2022-03-21T20:33:41.386Z"
   },
   {
    "duration": 13,
    "start_time": "2022-03-21T20:33:41.394Z"
   },
   {
    "duration": 25,
    "start_time": "2022-03-21T20:33:41.408Z"
   },
   {
    "duration": 12,
    "start_time": "2022-03-21T20:33:41.434Z"
   },
   {
    "duration": 8,
    "start_time": "2022-03-21T20:33:41.447Z"
   },
   {
    "duration": 12,
    "start_time": "2022-03-21T20:33:41.457Z"
   },
   {
    "duration": 6,
    "start_time": "2022-03-21T20:33:41.470Z"
   },
   {
    "duration": 9,
    "start_time": "2022-03-21T20:33:41.478Z"
   },
   {
    "duration": 45,
    "start_time": "2022-03-21T20:33:41.489Z"
   },
   {
    "duration": 3,
    "start_time": "2022-03-21T20:33:41.536Z"
   },
   {
    "duration": 18,
    "start_time": "2022-03-21T20:33:41.540Z"
   },
   {
    "duration": 14,
    "start_time": "2022-03-21T20:33:41.559Z"
   },
   {
    "duration": 7,
    "start_time": "2022-03-21T20:33:41.575Z"
   },
   {
    "duration": 9,
    "start_time": "2022-03-21T20:33:41.584Z"
   },
   {
    "duration": 54,
    "start_time": "2022-03-21T20:33:41.594Z"
   },
   {
    "duration": 5,
    "start_time": "2022-03-21T20:33:41.649Z"
   },
   {
    "duration": 6,
    "start_time": "2022-03-21T20:33:41.657Z"
   },
   {
    "duration": 4,
    "start_time": "2022-03-21T20:33:41.665Z"
   },
   {
    "duration": 524,
    "start_time": "2022-03-21T20:33:41.670Z"
   },
   {
    "duration": 12,
    "start_time": "2022-03-21T20:33:42.195Z"
   },
   {
    "duration": 7,
    "start_time": "2022-03-21T20:33:42.208Z"
   },
   {
    "duration": 27,
    "start_time": "2022-03-21T20:33:42.216Z"
   },
   {
    "duration": 7,
    "start_time": "2022-03-21T20:33:42.244Z"
   },
   {
    "duration": 15,
    "start_time": "2022-03-21T20:33:42.252Z"
   },
   {
    "duration": 5,
    "start_time": "2022-03-21T20:33:42.269Z"
   },
   {
    "duration": 12,
    "start_time": "2022-03-21T20:37:28.618Z"
   },
   {
    "duration": 4,
    "start_time": "2022-03-21T20:37:47.684Z"
   },
   {
    "duration": 4,
    "start_time": "2022-03-21T20:40:46.587Z"
   },
   {
    "duration": 5,
    "start_time": "2022-03-21T20:54:12.698Z"
   },
   {
    "duration": 139,
    "start_time": "2022-03-21T20:54:13.852Z"
   },
   {
    "duration": 5,
    "start_time": "2022-03-21T20:55:20.577Z"
   },
   {
    "duration": 106,
    "start_time": "2022-03-21T20:55:21.384Z"
   },
   {
    "duration": 1087,
    "start_time": "2022-03-21T20:55:30.941Z"
   },
   {
    "duration": 151,
    "start_time": "2022-03-21T20:55:32.030Z"
   },
   {
    "duration": 9,
    "start_time": "2022-03-21T20:55:32.183Z"
   },
   {
    "duration": 141,
    "start_time": "2022-03-21T20:55:32.194Z"
   },
   {
    "duration": 97,
    "start_time": "2022-03-21T20:55:32.337Z"
   },
   {
    "duration": 7,
    "start_time": "2022-03-21T20:55:32.436Z"
   },
   {
    "duration": 110,
    "start_time": "2022-03-21T20:55:32.445Z"
   },
   {
    "duration": 60,
    "start_time": "2022-03-21T20:55:32.557Z"
   },
   {
    "duration": 20,
    "start_time": "2022-03-21T20:55:32.618Z"
   },
   {
    "duration": 27,
    "start_time": "2022-03-21T20:55:32.641Z"
   },
   {
    "duration": 109,
    "start_time": "2022-03-21T20:55:32.670Z"
   },
   {
    "duration": 7,
    "start_time": "2022-03-21T20:55:32.781Z"
   },
   {
    "duration": 12,
    "start_time": "2022-03-21T20:55:32.789Z"
   },
   {
    "duration": 8,
    "start_time": "2022-03-21T20:55:32.802Z"
   },
   {
    "duration": 31,
    "start_time": "2022-03-21T20:55:32.811Z"
   },
   {
    "duration": 8,
    "start_time": "2022-03-21T20:55:32.843Z"
   },
   {
    "duration": 11,
    "start_time": "2022-03-21T20:55:32.853Z"
   },
   {
    "duration": 5,
    "start_time": "2022-03-21T20:55:32.865Z"
   },
   {
    "duration": 8,
    "start_time": "2022-03-21T20:55:32.871Z"
   },
   {
    "duration": 16,
    "start_time": "2022-03-21T20:55:32.881Z"
   },
   {
    "duration": 34,
    "start_time": "2022-03-21T20:55:32.899Z"
   },
   {
    "duration": 14,
    "start_time": "2022-03-21T20:55:32.935Z"
   },
   {
    "duration": 13,
    "start_time": "2022-03-21T20:55:32.950Z"
   },
   {
    "duration": 7,
    "start_time": "2022-03-21T20:55:32.964Z"
   },
   {
    "duration": 6,
    "start_time": "2022-03-21T20:55:32.973Z"
   },
   {
    "duration": 16,
    "start_time": "2022-03-21T20:55:32.981Z"
   },
   {
    "duration": 38,
    "start_time": "2022-03-21T20:55:32.998Z"
   },
   {
    "duration": 7,
    "start_time": "2022-03-21T20:55:33.039Z"
   },
   {
    "duration": 5,
    "start_time": "2022-03-21T20:55:33.048Z"
   },
   {
    "duration": 502,
    "start_time": "2022-03-21T20:55:33.054Z"
   },
   {
    "duration": 12,
    "start_time": "2022-03-21T20:55:33.558Z"
   },
   {
    "duration": 8,
    "start_time": "2022-03-21T20:55:33.571Z"
   },
   {
    "duration": 12,
    "start_time": "2022-03-21T20:55:33.580Z"
   },
   {
    "duration": 10,
    "start_time": "2022-03-21T20:55:33.593Z"
   },
   {
    "duration": 30,
    "start_time": "2022-03-21T20:55:33.604Z"
   },
   {
    "duration": 12,
    "start_time": "2022-03-21T20:55:33.635Z"
   },
   {
    "duration": 16,
    "start_time": "2022-03-21T20:55:33.649Z"
   },
   {
    "duration": 6,
    "start_time": "2022-03-21T20:55:33.666Z"
   },
   {
    "duration": 144,
    "start_time": "2022-03-21T20:55:33.674Z"
   },
   {
    "duration": 14,
    "start_time": "2022-03-21T20:55:46.985Z"
   },
   {
    "duration": 24,
    "start_time": "2022-03-21T20:55:55.965Z"
   },
   {
    "duration": 16,
    "start_time": "2022-03-21T20:56:16.230Z"
   },
   {
    "duration": 7,
    "start_time": "2022-03-21T20:56:35.460Z"
   },
   {
    "duration": 4,
    "start_time": "2022-03-21T20:58:55.616Z"
   },
   {
    "duration": 104,
    "start_time": "2022-03-21T20:58:56.203Z"
   },
   {
    "duration": 14,
    "start_time": "2022-03-21T20:58:57.556Z"
   },
   {
    "duration": 7,
    "start_time": "2022-03-21T20:58:58.030Z"
   },
   {
    "duration": 5,
    "start_time": "2022-03-21T21:12:56.591Z"
   },
   {
    "duration": 111,
    "start_time": "2022-03-21T21:12:58.157Z"
   },
   {
    "duration": 14,
    "start_time": "2022-03-21T21:12:58.728Z"
   },
   {
    "duration": 8,
    "start_time": "2022-03-21T21:13:03.270Z"
   },
   {
    "duration": 4,
    "start_time": "2022-03-21T21:14:13.184Z"
   },
   {
    "duration": 87,
    "start_time": "2022-03-21T21:14:16.323Z"
   },
   {
    "duration": 13,
    "start_time": "2022-03-21T21:14:16.801Z"
   },
   {
    "duration": 7,
    "start_time": "2022-03-21T21:14:18.214Z"
   },
   {
    "duration": 14,
    "start_time": "2022-03-21T21:14:42.367Z"
   },
   {
    "duration": 13,
    "start_time": "2022-03-21T21:15:36.160Z"
   },
   {
    "duration": 1139,
    "start_time": "2022-03-21T21:15:46.040Z"
   },
   {
    "duration": 160,
    "start_time": "2022-03-21T21:15:47.181Z"
   },
   {
    "duration": 9,
    "start_time": "2022-03-21T21:15:47.343Z"
   },
   {
    "duration": 147,
    "start_time": "2022-03-21T21:15:47.354Z"
   },
   {
    "duration": 96,
    "start_time": "2022-03-21T21:15:47.502Z"
   },
   {
    "duration": 8,
    "start_time": "2022-03-21T21:15:47.599Z"
   },
   {
    "duration": 97,
    "start_time": "2022-03-21T21:15:47.608Z"
   },
   {
    "duration": 69,
    "start_time": "2022-03-21T21:15:47.706Z"
   },
   {
    "duration": 14,
    "start_time": "2022-03-21T21:15:47.777Z"
   },
   {
    "duration": 53,
    "start_time": "2022-03-21T21:15:47.793Z"
   },
   {
    "duration": 110,
    "start_time": "2022-03-21T21:15:47.848Z"
   },
   {
    "duration": 6,
    "start_time": "2022-03-21T21:15:47.960Z"
   },
   {
    "duration": 12,
    "start_time": "2022-03-21T21:15:47.968Z"
   },
   {
    "duration": 8,
    "start_time": "2022-03-21T21:15:47.981Z"
   },
   {
    "duration": 11,
    "start_time": "2022-03-21T21:15:47.991Z"
   },
   {
    "duration": 32,
    "start_time": "2022-03-21T21:15:48.004Z"
   },
   {
    "duration": 12,
    "start_time": "2022-03-21T21:15:48.038Z"
   },
   {
    "duration": 8,
    "start_time": "2022-03-21T21:15:48.051Z"
   },
   {
    "duration": 7,
    "start_time": "2022-03-21T21:15:48.060Z"
   },
   {
    "duration": 17,
    "start_time": "2022-03-21T21:15:48.069Z"
   },
   {
    "duration": 3,
    "start_time": "2022-03-21T21:15:48.088Z"
   },
   {
    "duration": 41,
    "start_time": "2022-03-21T21:15:48.092Z"
   },
   {
    "duration": 14,
    "start_time": "2022-03-21T21:15:48.135Z"
   },
   {
    "duration": 7,
    "start_time": "2022-03-21T21:15:48.150Z"
   },
   {
    "duration": 7,
    "start_time": "2022-03-21T21:15:48.159Z"
   },
   {
    "duration": 16,
    "start_time": "2022-03-21T21:15:48.167Z"
   },
   {
    "duration": 5,
    "start_time": "2022-03-21T21:15:48.184Z"
   },
   {
    "duration": 41,
    "start_time": "2022-03-21T21:15:48.191Z"
   },
   {
    "duration": 6,
    "start_time": "2022-03-21T21:15:48.234Z"
   },
   {
    "duration": 517,
    "start_time": "2022-03-21T21:15:48.242Z"
   },
   {
    "duration": 19,
    "start_time": "2022-03-21T21:15:48.761Z"
   },
   {
    "duration": 8,
    "start_time": "2022-03-21T21:15:48.782Z"
   },
   {
    "duration": 11,
    "start_time": "2022-03-21T21:15:48.792Z"
   },
   {
    "duration": 28,
    "start_time": "2022-03-21T21:15:48.805Z"
   },
   {
    "duration": 20,
    "start_time": "2022-03-21T21:15:48.835Z"
   },
   {
    "duration": 6,
    "start_time": "2022-03-21T21:15:48.857Z"
   },
   {
    "duration": 14,
    "start_time": "2022-03-21T21:15:48.864Z"
   },
   {
    "duration": 6,
    "start_time": "2022-03-21T21:15:48.879Z"
   },
   {
    "duration": 113,
    "start_time": "2022-03-21T21:15:48.886Z"
   },
   {
    "duration": 14,
    "start_time": "2022-03-21T21:15:49.001Z"
   },
   {
    "duration": 25,
    "start_time": "2022-03-21T21:15:49.017Z"
   },
   {
    "duration": 9,
    "start_time": "2022-03-21T21:15:49.043Z"
   },
   {
    "duration": 45,
    "start_time": "2022-03-22T09:44:34.868Z"
   },
   {
    "duration": 1415,
    "start_time": "2022-03-22T09:44:43.750Z"
   },
   {
    "duration": 146,
    "start_time": "2022-03-22T09:44:45.168Z"
   },
   {
    "duration": 8,
    "start_time": "2022-03-22T09:44:45.316Z"
   },
   {
    "duration": 143,
    "start_time": "2022-03-22T09:44:45.326Z"
   },
   {
    "duration": 83,
    "start_time": "2022-03-22T09:44:45.471Z"
   },
   {
    "duration": 9,
    "start_time": "2022-03-22T09:44:45.555Z"
   },
   {
    "duration": 101,
    "start_time": "2022-03-22T09:44:45.565Z"
   },
   {
    "duration": 56,
    "start_time": "2022-03-22T09:44:45.668Z"
   },
   {
    "duration": 20,
    "start_time": "2022-03-22T09:44:45.726Z"
   },
   {
    "duration": 52,
    "start_time": "2022-03-22T09:44:45.749Z"
   },
   {
    "duration": 99,
    "start_time": "2022-03-22T09:44:45.803Z"
   },
   {
    "duration": 6,
    "start_time": "2022-03-22T09:44:45.904Z"
   },
   {
    "duration": 20,
    "start_time": "2022-03-22T09:44:45.911Z"
   },
   {
    "duration": 21,
    "start_time": "2022-03-22T09:44:45.933Z"
   },
   {
    "duration": 13,
    "start_time": "2022-03-22T09:44:45.955Z"
   },
   {
    "duration": 27,
    "start_time": "2022-03-22T09:44:45.970Z"
   },
   {
    "duration": 31,
    "start_time": "2022-03-22T09:44:45.999Z"
   },
   {
    "duration": 19,
    "start_time": "2022-03-22T09:44:46.032Z"
   },
   {
    "duration": 32,
    "start_time": "2022-03-22T09:44:46.053Z"
   },
   {
    "duration": 34,
    "start_time": "2022-03-22T09:44:46.086Z"
   },
   {
    "duration": 17,
    "start_time": "2022-03-22T09:44:46.123Z"
   },
   {
    "duration": 34,
    "start_time": "2022-03-22T09:44:46.142Z"
   },
   {
    "duration": 28,
    "start_time": "2022-03-22T09:44:46.178Z"
   },
   {
    "duration": 21,
    "start_time": "2022-03-22T09:44:46.208Z"
   },
   {
    "duration": 18,
    "start_time": "2022-03-22T09:44:46.230Z"
   },
   {
    "duration": 37,
    "start_time": "2022-03-22T09:44:46.249Z"
   },
   {
    "duration": 5,
    "start_time": "2022-03-22T09:44:46.288Z"
   },
   {
    "duration": 17,
    "start_time": "2022-03-22T09:44:46.296Z"
   },
   {
    "duration": 16,
    "start_time": "2022-03-22T09:44:46.315Z"
   },
   {
    "duration": 585,
    "start_time": "2022-03-22T09:44:46.332Z"
   },
   {
    "duration": 12,
    "start_time": "2022-03-22T09:44:46.918Z"
   },
   {
    "duration": 6,
    "start_time": "2022-03-22T09:44:46.932Z"
   },
   {
    "duration": 10,
    "start_time": "2022-03-22T09:44:46.939Z"
   },
   {
    "duration": 7,
    "start_time": "2022-03-22T09:44:46.951Z"
   },
   {
    "duration": 31,
    "start_time": "2022-03-22T09:44:46.959Z"
   },
   {
    "duration": 4,
    "start_time": "2022-03-22T09:44:46.991Z"
   },
   {
    "duration": 19,
    "start_time": "2022-03-22T09:44:46.996Z"
   },
   {
    "duration": 6,
    "start_time": "2022-03-22T09:44:47.016Z"
   },
   {
    "duration": 102,
    "start_time": "2022-03-22T09:44:47.023Z"
   },
   {
    "duration": 12,
    "start_time": "2022-03-22T09:44:47.127Z"
   },
   {
    "duration": 16,
    "start_time": "2022-03-22T09:44:47.141Z"
   },
   {
    "duration": 9,
    "start_time": "2022-03-22T09:44:47.158Z"
   },
   {
    "duration": 101,
    "start_time": "2022-03-22T09:44:47.181Z"
   },
   {
    "duration": 6,
    "start_time": "2022-03-22T09:45:11.066Z"
   },
   {
    "duration": 5,
    "start_time": "2022-03-22T09:45:50.178Z"
   },
   {
    "duration": 4,
    "start_time": "2022-03-22T09:49:02.641Z"
   },
   {
    "duration": 1164,
    "start_time": "2022-03-22T09:50:43.804Z"
   },
   {
    "duration": 170,
    "start_time": "2022-03-22T09:50:44.970Z"
   },
   {
    "duration": 8,
    "start_time": "2022-03-22T09:50:45.141Z"
   },
   {
    "duration": 139,
    "start_time": "2022-03-22T09:50:45.151Z"
   },
   {
    "duration": 89,
    "start_time": "2022-03-22T09:50:45.292Z"
   },
   {
    "duration": 8,
    "start_time": "2022-03-22T09:50:45.383Z"
   },
   {
    "duration": 102,
    "start_time": "2022-03-22T09:50:45.393Z"
   },
   {
    "duration": 61,
    "start_time": "2022-03-22T09:50:45.497Z"
   },
   {
    "duration": 26,
    "start_time": "2022-03-22T09:50:45.560Z"
   },
   {
    "duration": 38,
    "start_time": "2022-03-22T09:50:45.588Z"
   },
   {
    "duration": 99,
    "start_time": "2022-03-22T09:50:45.627Z"
   },
   {
    "duration": 6,
    "start_time": "2022-03-22T09:50:45.727Z"
   },
   {
    "duration": 12,
    "start_time": "2022-03-22T09:50:45.734Z"
   },
   {
    "duration": 10,
    "start_time": "2022-03-22T09:50:45.747Z"
   },
   {
    "duration": 28,
    "start_time": "2022-03-22T09:50:45.758Z"
   },
   {
    "duration": 7,
    "start_time": "2022-03-22T09:50:45.787Z"
   },
   {
    "duration": 12,
    "start_time": "2022-03-22T09:50:45.795Z"
   },
   {
    "duration": 5,
    "start_time": "2022-03-22T09:50:45.808Z"
   },
   {
    "duration": 8,
    "start_time": "2022-03-22T09:50:45.814Z"
   },
   {
    "duration": 15,
    "start_time": "2022-03-22T09:50:45.823Z"
   },
   {
    "duration": 3,
    "start_time": "2022-03-22T09:50:45.839Z"
   },
   {
    "duration": 44,
    "start_time": "2022-03-22T09:50:45.843Z"
   },
   {
    "duration": 12,
    "start_time": "2022-03-22T09:50:45.888Z"
   },
   {
    "duration": 6,
    "start_time": "2022-03-22T09:50:45.901Z"
   },
   {
    "duration": 8,
    "start_time": "2022-03-22T09:50:45.908Z"
   },
   {
    "duration": 17,
    "start_time": "2022-03-22T09:50:45.917Z"
   },
   {
    "duration": 5,
    "start_time": "2022-03-22T09:50:45.935Z"
   },
   {
    "duration": 41,
    "start_time": "2022-03-22T09:50:45.944Z"
   },
   {
    "duration": 5,
    "start_time": "2022-03-22T09:50:45.987Z"
   },
   {
    "duration": 508,
    "start_time": "2022-03-22T09:50:45.993Z"
   },
   {
    "duration": 12,
    "start_time": "2022-03-22T09:50:46.503Z"
   },
   {
    "duration": 8,
    "start_time": "2022-03-22T09:50:46.516Z"
   },
   {
    "duration": 10,
    "start_time": "2022-03-22T09:50:46.526Z"
   },
   {
    "duration": 5,
    "start_time": "2022-03-22T09:50:46.537Z"
   },
   {
    "duration": 13,
    "start_time": "2022-03-22T09:50:46.543Z"
   },
   {
    "duration": 27,
    "start_time": "2022-03-22T09:50:46.557Z"
   },
   {
    "duration": 16,
    "start_time": "2022-03-22T09:50:46.585Z"
   },
   {
    "duration": 9,
    "start_time": "2022-03-22T09:50:46.602Z"
   },
   {
    "duration": 100,
    "start_time": "2022-03-22T09:50:46.612Z"
   },
   {
    "duration": 13,
    "start_time": "2022-03-22T09:50:46.713Z"
   },
   {
    "duration": 15,
    "start_time": "2022-03-22T09:50:46.728Z"
   },
   {
    "duration": 8,
    "start_time": "2022-03-22T09:50:46.744Z"
   },
   {
    "duration": 28,
    "start_time": "2022-03-22T09:50:46.753Z"
   },
   {
    "duration": 6,
    "start_time": "2022-03-22T09:50:46.783Z"
   },
   {
    "duration": 6,
    "start_time": "2022-03-22T09:50:46.791Z"
   },
   {
    "duration": 52,
    "start_time": "2022-03-22T13:12:15.151Z"
   },
   {
    "duration": 1499,
    "start_time": "2022-03-22T13:12:26.271Z"
   },
   {
    "duration": 169,
    "start_time": "2022-03-22T13:12:27.773Z"
   },
   {
    "duration": 10,
    "start_time": "2022-03-22T13:12:27.944Z"
   },
   {
    "duration": 157,
    "start_time": "2022-03-22T13:12:27.956Z"
   },
   {
    "duration": 99,
    "start_time": "2022-03-22T13:12:28.115Z"
   },
   {
    "duration": 18,
    "start_time": "2022-03-22T13:12:28.216Z"
   },
   {
    "duration": 111,
    "start_time": "2022-03-22T13:12:28.236Z"
   },
   {
    "duration": 70,
    "start_time": "2022-03-22T13:12:28.348Z"
   },
   {
    "duration": 21,
    "start_time": "2022-03-22T13:12:28.419Z"
   },
   {
    "duration": 44,
    "start_time": "2022-03-22T13:12:28.442Z"
   },
   {
    "duration": 121,
    "start_time": "2022-03-22T13:12:28.488Z"
   },
   {
    "duration": 8,
    "start_time": "2022-03-22T13:12:28.611Z"
   },
   {
    "duration": 19,
    "start_time": "2022-03-22T13:12:28.621Z"
   },
   {
    "duration": 9,
    "start_time": "2022-03-22T13:12:28.644Z"
   },
   {
    "duration": 13,
    "start_time": "2022-03-22T13:12:28.655Z"
   },
   {
    "duration": 10,
    "start_time": "2022-03-22T13:12:28.669Z"
   },
   {
    "duration": 14,
    "start_time": "2022-03-22T13:12:28.681Z"
   },
   {
    "duration": 36,
    "start_time": "2022-03-22T13:12:28.697Z"
   },
   {
    "duration": 10,
    "start_time": "2022-03-22T13:12:28.735Z"
   },
   {
    "duration": 20,
    "start_time": "2022-03-22T13:12:28.747Z"
   },
   {
    "duration": 3,
    "start_time": "2022-03-22T13:12:28.769Z"
   },
   {
    "duration": 30,
    "start_time": "2022-03-22T13:12:28.774Z"
   },
   {
    "duration": 36,
    "start_time": "2022-03-22T13:12:28.806Z"
   },
   {
    "duration": 9,
    "start_time": "2022-03-22T13:12:28.844Z"
   },
   {
    "duration": 11,
    "start_time": "2022-03-22T13:12:28.855Z"
   },
   {
    "duration": 19,
    "start_time": "2022-03-22T13:12:28.868Z"
   },
   {
    "duration": 11,
    "start_time": "2022-03-22T13:12:28.889Z"
   },
   {
    "duration": 36,
    "start_time": "2022-03-22T13:12:28.902Z"
   },
   {
    "duration": 8,
    "start_time": "2022-03-22T13:12:28.939Z"
   },
   {
    "duration": 734,
    "start_time": "2022-03-22T13:12:28.949Z"
   },
   {
    "duration": 16,
    "start_time": "2022-03-22T13:12:29.684Z"
   },
   {
    "duration": 14,
    "start_time": "2022-03-22T13:12:29.702Z"
   },
   {
    "duration": 14,
    "start_time": "2022-03-22T13:12:29.731Z"
   },
   {
    "duration": 6,
    "start_time": "2022-03-22T13:12:29.747Z"
   },
   {
    "duration": 18,
    "start_time": "2022-03-22T13:12:29.756Z"
   },
   {
    "duration": 9,
    "start_time": "2022-03-22T13:12:29.776Z"
   },
   {
    "duration": 19,
    "start_time": "2022-03-22T13:12:29.787Z"
   },
   {
    "duration": 5,
    "start_time": "2022-03-22T13:12:29.831Z"
   },
   {
    "duration": 117,
    "start_time": "2022-03-22T13:12:29.838Z"
   },
   {
    "duration": 16,
    "start_time": "2022-03-22T13:12:29.957Z"
   },
   {
    "duration": 16,
    "start_time": "2022-03-22T13:12:29.978Z"
   },
   {
    "duration": 36,
    "start_time": "2022-03-22T13:12:29.996Z"
   },
   {
    "duration": 9,
    "start_time": "2022-03-22T13:12:30.035Z"
   },
   {
    "duration": 9,
    "start_time": "2022-03-22T13:12:30.046Z"
   },
   {
    "duration": 19,
    "start_time": "2022-03-22T13:12:30.057Z"
   },
   {
    "duration": 71,
    "start_time": "2022-03-22T13:12:30.078Z"
   },
   {
    "duration": 401,
    "start_time": "2022-03-22T13:30:26.148Z"
   },
   {
    "duration": 6,
    "start_time": "2022-03-22T13:31:40.949Z"
   },
   {
    "duration": 16,
    "start_time": "2022-03-22T13:31:52.955Z"
   },
   {
    "duration": 5,
    "start_time": "2022-03-22T13:32:12.096Z"
   },
   {
    "duration": 5,
    "start_time": "2022-03-22T13:32:45.225Z"
   },
   {
    "duration": 55,
    "start_time": "2022-03-22T13:37:12.413Z"
   },
   {
    "duration": 51,
    "start_time": "2022-03-23T09:51:51.746Z"
   },
   {
    "duration": 1438,
    "start_time": "2022-03-23T09:52:14.920Z"
   },
   {
    "duration": 166,
    "start_time": "2022-03-23T09:52:16.361Z"
   },
   {
    "duration": 10,
    "start_time": "2022-03-23T09:52:16.528Z"
   },
   {
    "duration": 156,
    "start_time": "2022-03-23T09:52:16.540Z"
   },
   {
    "duration": 106,
    "start_time": "2022-03-23T09:52:16.700Z"
   },
   {
    "duration": 10,
    "start_time": "2022-03-23T09:52:16.808Z"
   },
   {
    "duration": 117,
    "start_time": "2022-03-23T09:52:16.821Z"
   },
   {
    "duration": 76,
    "start_time": "2022-03-23T09:52:16.941Z"
   },
   {
    "duration": 16,
    "start_time": "2022-03-23T09:52:17.019Z"
   },
   {
    "duration": 24,
    "start_time": "2022-03-23T09:52:17.038Z"
   },
   {
    "duration": 128,
    "start_time": "2022-03-23T09:52:17.064Z"
   },
   {
    "duration": 12,
    "start_time": "2022-03-23T09:52:17.194Z"
   },
   {
    "duration": 14,
    "start_time": "2022-03-23T09:52:17.208Z"
   },
   {
    "duration": 11,
    "start_time": "2022-03-23T09:52:17.224Z"
   },
   {
    "duration": 15,
    "start_time": "2022-03-23T09:52:17.237Z"
   },
   {
    "duration": 11,
    "start_time": "2022-03-23T09:52:17.254Z"
   },
   {
    "duration": 47,
    "start_time": "2022-03-23T09:52:17.267Z"
   },
   {
    "duration": 6,
    "start_time": "2022-03-23T09:52:17.316Z"
   },
   {
    "duration": 10,
    "start_time": "2022-03-23T09:52:17.324Z"
   },
   {
    "duration": 20,
    "start_time": "2022-03-23T09:52:17.336Z"
   },
   {
    "duration": 4,
    "start_time": "2022-03-23T09:52:17.358Z"
   },
   {
    "duration": 48,
    "start_time": "2022-03-23T09:52:17.363Z"
   },
   {
    "duration": 23,
    "start_time": "2022-03-23T09:52:17.412Z"
   },
   {
    "duration": 8,
    "start_time": "2022-03-23T09:52:17.437Z"
   },
   {
    "duration": 11,
    "start_time": "2022-03-23T09:52:17.447Z"
   },
   {
    "duration": 19,
    "start_time": "2022-03-23T09:52:17.460Z"
   },
   {
    "duration": 6,
    "start_time": "2022-03-23T09:52:17.501Z"
   },
   {
    "duration": 8,
    "start_time": "2022-03-23T09:52:17.512Z"
   },
   {
    "duration": 8,
    "start_time": "2022-03-23T09:52:17.521Z"
   },
   {
    "duration": 668,
    "start_time": "2022-03-23T09:52:17.531Z"
   },
   {
    "duration": 15,
    "start_time": "2022-03-23T09:52:18.201Z"
   },
   {
    "duration": 53,
    "start_time": "2022-03-23T09:52:18.218Z"
   },
   {
    "duration": 65,
    "start_time": "2022-03-23T09:52:18.273Z"
   },
   {
    "duration": 8,
    "start_time": "2022-03-23T09:52:18.339Z"
   },
   {
    "duration": 20,
    "start_time": "2022-03-23T09:52:18.349Z"
   },
   {
    "duration": 27,
    "start_time": "2022-03-23T09:52:18.370Z"
   },
   {
    "duration": 19,
    "start_time": "2022-03-23T09:52:18.399Z"
   },
   {
    "duration": 13,
    "start_time": "2022-03-23T09:52:18.420Z"
   },
   {
    "duration": 108,
    "start_time": "2022-03-23T09:52:18.435Z"
   },
   {
    "duration": 15,
    "start_time": "2022-03-23T09:52:18.545Z"
   },
   {
    "duration": 17,
    "start_time": "2022-03-23T09:52:18.562Z"
   },
   {
    "duration": 25,
    "start_time": "2022-03-23T09:52:18.581Z"
   },
   {
    "duration": 22,
    "start_time": "2022-03-23T09:52:18.607Z"
   },
   {
    "duration": 50,
    "start_time": "2022-03-23T09:52:18.631Z"
   },
   {
    "duration": 9,
    "start_time": "2022-03-23T09:52:18.683Z"
   },
   {
    "duration": 57,
    "start_time": "2022-03-23T09:52:18.694Z"
   },
   {
    "duration": 2853,
    "start_time": "2022-03-23T09:52:18.752Z"
   },
   {
    "duration": 0,
    "start_time": "2022-03-23T09:52:21.607Z"
   },
   {
    "duration": 0,
    "start_time": "2022-03-23T09:52:21.608Z"
   },
   {
    "duration": 0,
    "start_time": "2022-03-23T09:52:21.610Z"
   },
   {
    "duration": 0,
    "start_time": "2022-03-23T09:52:21.611Z"
   },
   {
    "duration": 0,
    "start_time": "2022-03-23T09:52:21.612Z"
   },
   {
    "duration": 3,
    "start_time": "2022-03-23T09:52:42.521Z"
   },
   {
    "duration": 14,
    "start_time": "2022-03-23T09:52:43.191Z"
   },
   {
    "duration": 1246,
    "start_time": "2022-03-23T09:53:52.012Z"
   },
   {
    "duration": 173,
    "start_time": "2022-03-23T09:53:53.261Z"
   },
   {
    "duration": 10,
    "start_time": "2022-03-23T09:53:53.436Z"
   },
   {
    "duration": 164,
    "start_time": "2022-03-23T09:53:53.448Z"
   },
   {
    "duration": 109,
    "start_time": "2022-03-23T09:53:53.613Z"
   },
   {
    "duration": 9,
    "start_time": "2022-03-23T09:53:53.724Z"
   },
   {
    "duration": 115,
    "start_time": "2022-03-23T09:53:53.735Z"
   },
   {
    "duration": 79,
    "start_time": "2022-03-23T09:53:53.851Z"
   },
   {
    "duration": 16,
    "start_time": "2022-03-23T09:53:53.932Z"
   },
   {
    "duration": 26,
    "start_time": "2022-03-23T09:53:53.952Z"
   },
   {
    "duration": 130,
    "start_time": "2022-03-23T09:53:53.980Z"
   },
   {
    "duration": 9,
    "start_time": "2022-03-23T09:53:54.111Z"
   },
   {
    "duration": 14,
    "start_time": "2022-03-23T09:53:54.122Z"
   },
   {
    "duration": 15,
    "start_time": "2022-03-23T09:53:54.139Z"
   },
   {
    "duration": 14,
    "start_time": "2022-03-23T09:53:54.156Z"
   },
   {
    "duration": 36,
    "start_time": "2022-03-23T09:53:54.172Z"
   },
   {
    "duration": 13,
    "start_time": "2022-03-23T09:53:54.210Z"
   },
   {
    "duration": 7,
    "start_time": "2022-03-23T09:53:54.225Z"
   },
   {
    "duration": 15,
    "start_time": "2022-03-23T09:53:54.234Z"
   },
   {
    "duration": 18,
    "start_time": "2022-03-23T09:53:54.251Z"
   },
   {
    "duration": 31,
    "start_time": "2022-03-23T09:53:54.270Z"
   },
   {
    "duration": 17,
    "start_time": "2022-03-23T09:53:54.303Z"
   },
   {
    "duration": 17,
    "start_time": "2022-03-23T09:53:54.322Z"
   },
   {
    "duration": 20,
    "start_time": "2022-03-23T09:53:54.341Z"
   },
   {
    "duration": 8,
    "start_time": "2022-03-23T09:53:54.363Z"
   },
   {
    "duration": 32,
    "start_time": "2022-03-23T09:53:54.373Z"
   },
   {
    "duration": 6,
    "start_time": "2022-03-23T09:53:54.407Z"
   },
   {
    "duration": 10,
    "start_time": "2022-03-23T09:53:54.417Z"
   },
   {
    "duration": 11,
    "start_time": "2022-03-23T09:53:54.429Z"
   },
   {
    "duration": 594,
    "start_time": "2022-03-23T09:53:54.442Z"
   },
   {
    "duration": 16,
    "start_time": "2022-03-23T09:53:55.038Z"
   },
   {
    "duration": 14,
    "start_time": "2022-03-23T09:53:55.056Z"
   },
   {
    "duration": 30,
    "start_time": "2022-03-23T09:53:55.072Z"
   },
   {
    "duration": 12,
    "start_time": "2022-03-23T09:53:55.104Z"
   },
   {
    "duration": 30,
    "start_time": "2022-03-23T09:53:55.118Z"
   },
   {
    "duration": 6,
    "start_time": "2022-03-23T09:53:55.151Z"
   },
   {
    "duration": 18,
    "start_time": "2022-03-23T09:53:55.159Z"
   },
   {
    "duration": 6,
    "start_time": "2022-03-23T09:53:55.179Z"
   },
   {
    "duration": 107,
    "start_time": "2022-03-23T09:53:55.187Z"
   },
   {
    "duration": 15,
    "start_time": "2022-03-23T09:53:55.301Z"
   },
   {
    "duration": 20,
    "start_time": "2022-03-23T09:53:55.318Z"
   },
   {
    "duration": 12,
    "start_time": "2022-03-23T09:53:55.340Z"
   },
   {
    "duration": 10,
    "start_time": "2022-03-23T09:53:55.354Z"
   },
   {
    "duration": 11,
    "start_time": "2022-03-23T09:53:55.366Z"
   },
   {
    "duration": 24,
    "start_time": "2022-03-23T09:53:55.379Z"
   },
   {
    "duration": 59,
    "start_time": "2022-03-23T09:53:55.404Z"
   },
   {
    "duration": 4,
    "start_time": "2022-03-23T09:53:55.465Z"
   },
   {
    "duration": 31,
    "start_time": "2022-03-23T09:53:55.471Z"
   },
   {
    "duration": 7,
    "start_time": "2022-03-23T09:53:55.504Z"
   },
   {
    "duration": 15,
    "start_time": "2022-03-23T09:53:55.513Z"
   },
   {
    "duration": 79,
    "start_time": "2022-03-23T09:53:55.530Z"
   },
   {
    "duration": 5,
    "start_time": "2022-03-23T09:55:15.374Z"
   },
   {
    "duration": 5,
    "start_time": "2022-03-23T10:12:56.586Z"
   },
   {
    "duration": 4,
    "start_time": "2022-03-23T10:12:57.048Z"
   },
   {
    "duration": 1333,
    "start_time": "2022-03-23T10:13:08.559Z"
   },
   {
    "duration": 175,
    "start_time": "2022-03-23T10:13:09.895Z"
   },
   {
    "duration": 11,
    "start_time": "2022-03-23T10:13:10.071Z"
   },
   {
    "duration": 154,
    "start_time": "2022-03-23T10:13:10.084Z"
   },
   {
    "duration": 108,
    "start_time": "2022-03-23T10:13:10.240Z"
   },
   {
    "duration": 10,
    "start_time": "2022-03-23T10:13:10.350Z"
   },
   {
    "duration": 106,
    "start_time": "2022-03-23T10:13:10.362Z"
   },
   {
    "duration": 79,
    "start_time": "2022-03-23T10:13:10.469Z"
   },
   {
    "duration": 17,
    "start_time": "2022-03-23T10:13:10.550Z"
   },
   {
    "duration": 26,
    "start_time": "2022-03-23T10:13:10.570Z"
   },
   {
    "duration": 121,
    "start_time": "2022-03-23T10:13:10.602Z"
   },
   {
    "duration": 8,
    "start_time": "2022-03-23T10:13:10.725Z"
   },
   {
    "duration": 14,
    "start_time": "2022-03-23T10:13:10.734Z"
   },
   {
    "duration": 13,
    "start_time": "2022-03-23T10:13:10.750Z"
   },
   {
    "duration": 37,
    "start_time": "2022-03-23T10:13:10.765Z"
   },
   {
    "duration": 11,
    "start_time": "2022-03-23T10:13:10.804Z"
   },
   {
    "duration": 16,
    "start_time": "2022-03-23T10:13:10.817Z"
   },
   {
    "duration": 6,
    "start_time": "2022-03-23T10:13:10.835Z"
   },
   {
    "duration": 11,
    "start_time": "2022-03-23T10:13:10.843Z"
   },
   {
    "duration": 48,
    "start_time": "2022-03-23T10:13:10.856Z"
   },
   {
    "duration": 8,
    "start_time": "2022-03-23T10:13:10.906Z"
   },
   {
    "duration": 28,
    "start_time": "2022-03-23T10:13:10.916Z"
   },
   {
    "duration": 18,
    "start_time": "2022-03-23T10:13:10.946Z"
   },
   {
    "duration": 8,
    "start_time": "2022-03-23T10:13:10.966Z"
   },
   {
    "duration": 31,
    "start_time": "2022-03-23T10:13:10.976Z"
   },
   {
    "duration": 24,
    "start_time": "2022-03-23T10:13:11.008Z"
   },
   {
    "duration": 6,
    "start_time": "2022-03-23T10:13:11.034Z"
   },
   {
    "duration": 18,
    "start_time": "2022-03-23T10:13:11.045Z"
   },
   {
    "duration": 10,
    "start_time": "2022-03-23T10:13:11.066Z"
   },
   {
    "duration": 605,
    "start_time": "2022-03-23T10:13:11.078Z"
   },
   {
    "duration": 21,
    "start_time": "2022-03-23T10:13:11.686Z"
   },
   {
    "duration": 9,
    "start_time": "2022-03-23T10:13:11.709Z"
   },
   {
    "duration": 21,
    "start_time": "2022-03-23T10:13:11.720Z"
   },
   {
    "duration": 6,
    "start_time": "2022-03-23T10:13:11.743Z"
   },
   {
    "duration": 23,
    "start_time": "2022-03-23T10:13:11.751Z"
   },
   {
    "duration": 26,
    "start_time": "2022-03-23T10:13:11.775Z"
   },
   {
    "duration": 14,
    "start_time": "2022-03-23T10:13:11.803Z"
   },
   {
    "duration": 12,
    "start_time": "2022-03-23T10:13:11.819Z"
   },
   {
    "duration": 110,
    "start_time": "2022-03-23T10:13:11.833Z"
   },
   {
    "duration": 16,
    "start_time": "2022-03-23T10:13:11.945Z"
   },
   {
    "duration": 21,
    "start_time": "2022-03-23T10:13:11.963Z"
   },
   {
    "duration": 21,
    "start_time": "2022-03-23T10:13:11.986Z"
   },
   {
    "duration": 16,
    "start_time": "2022-03-23T10:13:12.009Z"
   },
   {
    "duration": 8,
    "start_time": "2022-03-23T10:13:12.027Z"
   },
   {
    "duration": 7,
    "start_time": "2022-03-23T10:13:12.037Z"
   },
   {
    "duration": 75,
    "start_time": "2022-03-23T10:13:12.046Z"
   },
   {
    "duration": 4,
    "start_time": "2022-03-23T10:13:12.123Z"
   },
   {
    "duration": 8,
    "start_time": "2022-03-23T10:13:12.129Z"
   },
   {
    "duration": 7,
    "start_time": "2022-03-23T10:13:12.139Z"
   },
   {
    "duration": 18,
    "start_time": "2022-03-23T10:13:12.148Z"
   },
   {
    "duration": 10,
    "start_time": "2022-03-23T10:13:12.168Z"
   },
   {
    "duration": 22,
    "start_time": "2022-03-23T10:13:12.179Z"
   },
   {
    "duration": 58,
    "start_time": "2022-03-23T10:13:12.203Z"
   },
   {
    "duration": 4,
    "start_time": "2022-03-23T10:16:14.786Z"
   },
   {
    "duration": 5,
    "start_time": "2022-03-23T10:16:25.639Z"
   },
   {
    "duration": 4,
    "start_time": "2022-03-23T10:16:26.286Z"
   },
   {
    "duration": 5,
    "start_time": "2022-03-23T10:19:06.702Z"
   },
   {
    "duration": 4,
    "start_time": "2022-03-23T10:19:19.434Z"
   },
   {
    "duration": 4,
    "start_time": "2022-03-23T10:19:19.722Z"
   },
   {
    "duration": 4,
    "start_time": "2022-03-23T10:19:20.294Z"
   },
   {
    "duration": 5,
    "start_time": "2022-03-23T10:19:44.913Z"
   },
   {
    "duration": 4,
    "start_time": "2022-03-23T10:20:21.407Z"
   },
   {
    "duration": 4,
    "start_time": "2022-03-23T10:20:24.174Z"
   },
   {
    "duration": 4,
    "start_time": "2022-03-23T10:20:24.528Z"
   },
   {
    "duration": 5,
    "start_time": "2022-03-23T10:20:24.897Z"
   },
   {
    "duration": 1367,
    "start_time": "2022-03-23T10:20:32.499Z"
   },
   {
    "duration": 250,
    "start_time": "2022-03-23T10:20:33.869Z"
   },
   {
    "duration": 15,
    "start_time": "2022-03-23T10:20:34.121Z"
   },
   {
    "duration": 224,
    "start_time": "2022-03-23T10:20:34.139Z"
   },
   {
    "duration": 141,
    "start_time": "2022-03-23T10:20:34.365Z"
   },
   {
    "duration": 10,
    "start_time": "2022-03-23T10:20:34.508Z"
   },
   {
    "duration": 114,
    "start_time": "2022-03-23T10:20:34.520Z"
   },
   {
    "duration": 82,
    "start_time": "2022-03-23T10:20:34.636Z"
   },
   {
    "duration": 17,
    "start_time": "2022-03-23T10:20:34.720Z"
   },
   {
    "duration": 26,
    "start_time": "2022-03-23T10:20:34.740Z"
   },
   {
    "duration": 125,
    "start_time": "2022-03-23T10:20:34.768Z"
   },
   {
    "duration": 7,
    "start_time": "2022-03-23T10:20:34.901Z"
   },
   {
    "duration": 17,
    "start_time": "2022-03-23T10:20:34.910Z"
   },
   {
    "duration": 14,
    "start_time": "2022-03-23T10:20:34.929Z"
   },
   {
    "duration": 16,
    "start_time": "2022-03-23T10:20:34.945Z"
   },
   {
    "duration": 41,
    "start_time": "2022-03-23T10:20:34.963Z"
   },
   {
    "duration": 20,
    "start_time": "2022-03-23T10:20:35.006Z"
   },
   {
    "duration": 9,
    "start_time": "2022-03-23T10:20:35.028Z"
   },
   {
    "duration": 19,
    "start_time": "2022-03-23T10:20:35.038Z"
   },
   {
    "duration": 21,
    "start_time": "2022-03-23T10:20:35.059Z"
   },
   {
    "duration": 19,
    "start_time": "2022-03-23T10:20:35.082Z"
   },
   {
    "duration": 31,
    "start_time": "2022-03-23T10:20:35.104Z"
   },
   {
    "duration": 51,
    "start_time": "2022-03-23T10:20:35.137Z"
   },
   {
    "duration": 26,
    "start_time": "2022-03-23T10:20:35.191Z"
   },
   {
    "duration": 12,
    "start_time": "2022-03-23T10:20:35.220Z"
   },
   {
    "duration": 34,
    "start_time": "2022-03-23T10:20:35.235Z"
   },
   {
    "duration": 9,
    "start_time": "2022-03-23T10:20:35.270Z"
   },
   {
    "duration": 10,
    "start_time": "2022-03-23T10:20:35.302Z"
   },
   {
    "duration": 14,
    "start_time": "2022-03-23T10:20:35.314Z"
   },
   {
    "duration": 682,
    "start_time": "2022-03-23T10:20:35.330Z"
   },
   {
    "duration": 20,
    "start_time": "2022-03-23T10:20:36.015Z"
   },
   {
    "duration": 9,
    "start_time": "2022-03-23T10:20:36.038Z"
   },
   {
    "duration": 20,
    "start_time": "2022-03-23T10:20:36.050Z"
   },
   {
    "duration": 31,
    "start_time": "2022-03-23T10:20:36.072Z"
   },
   {
    "duration": 24,
    "start_time": "2022-03-23T10:20:36.105Z"
   },
   {
    "duration": 8,
    "start_time": "2022-03-23T10:20:36.132Z"
   },
   {
    "duration": 34,
    "start_time": "2022-03-23T10:20:36.142Z"
   },
   {
    "duration": 8,
    "start_time": "2022-03-23T10:20:36.178Z"
   },
   {
    "duration": 113,
    "start_time": "2022-03-23T10:20:36.188Z"
   },
   {
    "duration": 19,
    "start_time": "2022-03-23T10:20:36.303Z"
   },
   {
    "duration": 21,
    "start_time": "2022-03-23T10:20:36.324Z"
   },
   {
    "duration": 14,
    "start_time": "2022-03-23T10:20:36.347Z"
   },
   {
    "duration": 24,
    "start_time": "2022-03-23T10:20:36.363Z"
   },
   {
    "duration": 19,
    "start_time": "2022-03-23T10:20:36.389Z"
   },
   {
    "duration": 22,
    "start_time": "2022-03-23T10:20:36.410Z"
   },
   {
    "duration": 80,
    "start_time": "2022-03-23T10:20:36.434Z"
   },
   {
    "duration": 8,
    "start_time": "2022-03-23T10:20:36.516Z"
   },
   {
    "duration": 9,
    "start_time": "2022-03-23T10:20:36.526Z"
   },
   {
    "duration": 14,
    "start_time": "2022-03-23T10:20:36.537Z"
   },
   {
    "duration": 23,
    "start_time": "2022-03-23T10:20:36.553Z"
   },
   {
    "duration": 21,
    "start_time": "2022-03-23T10:20:36.578Z"
   },
   {
    "duration": 23,
    "start_time": "2022-03-23T10:20:36.601Z"
   },
   {
    "duration": 63,
    "start_time": "2022-03-23T10:20:36.627Z"
   },
   {
    "duration": 4,
    "start_time": "2022-03-23T10:21:12.056Z"
   },
   {
    "duration": 5,
    "start_time": "2022-03-23T10:25:26.501Z"
   },
   {
    "duration": 5,
    "start_time": "2022-03-23T10:25:27.266Z"
   },
   {
    "duration": 5,
    "start_time": "2022-03-23T10:25:27.753Z"
   },
   {
    "duration": 208,
    "start_time": "2022-03-23T10:49:40.637Z"
   },
   {
    "duration": 205,
    "start_time": "2022-03-23T10:53:46.433Z"
   },
   {
    "duration": 208,
    "start_time": "2022-03-23T10:54:50.330Z"
   },
   {
    "duration": 290,
    "start_time": "2022-03-23T10:55:11.067Z"
   },
   {
    "duration": 211,
    "start_time": "2022-03-23T10:55:39.616Z"
   },
   {
    "duration": 222,
    "start_time": "2022-03-23T10:55:46.086Z"
   },
   {
    "duration": 210,
    "start_time": "2022-03-23T10:55:50.447Z"
   },
   {
    "duration": 230,
    "start_time": "2022-03-23T10:55:55.202Z"
   },
   {
    "duration": 218,
    "start_time": "2022-03-23T10:56:08.543Z"
   },
   {
    "duration": 326,
    "start_time": "2022-03-23T10:56:48.575Z"
   },
   {
    "duration": 227,
    "start_time": "2022-03-23T10:56:56.596Z"
   },
   {
    "duration": 229,
    "start_time": "2022-03-23T10:57:04.516Z"
   },
   {
    "duration": 213,
    "start_time": "2022-03-23T10:57:19.290Z"
   },
   {
    "duration": 233,
    "start_time": "2022-03-23T10:57:25.845Z"
   },
   {
    "duration": 221,
    "start_time": "2022-03-23T10:57:31.126Z"
   },
   {
    "duration": 192,
    "start_time": "2022-03-23T14:14:09.454Z"
   },
   {
    "duration": 1313,
    "start_time": "2022-03-23T14:14:22.879Z"
   },
   {
    "duration": 165,
    "start_time": "2022-03-23T14:14:24.194Z"
   },
   {
    "duration": 8,
    "start_time": "2022-03-23T14:14:24.360Z"
   },
   {
    "duration": 139,
    "start_time": "2022-03-23T14:14:24.370Z"
   },
   {
    "duration": 93,
    "start_time": "2022-03-23T14:14:24.511Z"
   },
   {
    "duration": 8,
    "start_time": "2022-03-23T14:14:24.605Z"
   },
   {
    "duration": 96,
    "start_time": "2022-03-23T14:14:24.615Z"
   },
   {
    "duration": 62,
    "start_time": "2022-03-23T14:14:24.713Z"
   },
   {
    "duration": 26,
    "start_time": "2022-03-23T14:14:24.776Z"
   },
   {
    "duration": 74,
    "start_time": "2022-03-23T14:14:24.805Z"
   },
   {
    "duration": 105,
    "start_time": "2022-03-23T14:14:24.881Z"
   },
   {
    "duration": 6,
    "start_time": "2022-03-23T14:14:24.988Z"
   },
   {
    "duration": 19,
    "start_time": "2022-03-23T14:14:24.995Z"
   },
   {
    "duration": 12,
    "start_time": "2022-03-23T14:14:25.015Z"
   },
   {
    "duration": 12,
    "start_time": "2022-03-23T14:14:25.028Z"
   },
   {
    "duration": 11,
    "start_time": "2022-03-23T14:14:25.041Z"
   },
   {
    "duration": 14,
    "start_time": "2022-03-23T14:14:25.053Z"
   },
   {
    "duration": 6,
    "start_time": "2022-03-23T14:14:25.068Z"
   },
   {
    "duration": 29,
    "start_time": "2022-03-23T14:14:25.075Z"
   },
   {
    "duration": 16,
    "start_time": "2022-03-23T14:14:25.106Z"
   },
   {
    "duration": 3,
    "start_time": "2022-03-23T14:14:25.124Z"
   },
   {
    "duration": 19,
    "start_time": "2022-03-23T14:14:25.129Z"
   },
   {
    "duration": 13,
    "start_time": "2022-03-23T14:14:25.150Z"
   },
   {
    "duration": 6,
    "start_time": "2022-03-23T14:14:25.165Z"
   },
   {
    "duration": 30,
    "start_time": "2022-03-23T14:14:25.173Z"
   },
   {
    "duration": 15,
    "start_time": "2022-03-23T14:14:25.205Z"
   },
   {
    "duration": 5,
    "start_time": "2022-03-23T14:14:25.222Z"
   },
   {
    "duration": 8,
    "start_time": "2022-03-23T14:14:25.231Z"
   },
   {
    "duration": 9,
    "start_time": "2022-03-23T14:14:25.240Z"
   },
   {
    "duration": 711,
    "start_time": "2022-03-23T14:14:25.251Z"
   },
   {
    "duration": 12,
    "start_time": "2022-03-23T14:14:25.964Z"
   },
   {
    "duration": 8,
    "start_time": "2022-03-23T14:14:25.978Z"
   },
   {
    "duration": 25,
    "start_time": "2022-03-23T14:14:25.987Z"
   },
   {
    "duration": 7,
    "start_time": "2022-03-23T14:14:26.014Z"
   },
   {
    "duration": 15,
    "start_time": "2022-03-23T14:14:26.023Z"
   },
   {
    "duration": 6,
    "start_time": "2022-03-23T14:14:26.041Z"
   },
   {
    "duration": 16,
    "start_time": "2022-03-23T14:14:26.049Z"
   },
   {
    "duration": 38,
    "start_time": "2022-03-23T14:14:26.067Z"
   },
   {
    "duration": 104,
    "start_time": "2022-03-23T14:14:26.106Z"
   },
   {
    "duration": 13,
    "start_time": "2022-03-23T14:14:26.212Z"
   },
   {
    "duration": 14,
    "start_time": "2022-03-23T14:14:26.227Z"
   },
   {
    "duration": 9,
    "start_time": "2022-03-23T14:14:26.242Z"
   },
   {
    "duration": 8,
    "start_time": "2022-03-23T14:14:26.253Z"
   },
   {
    "duration": 6,
    "start_time": "2022-03-23T14:14:26.262Z"
   },
   {
    "duration": 4,
    "start_time": "2022-03-23T14:14:26.301Z"
   },
   {
    "duration": 50,
    "start_time": "2022-03-23T14:14:26.307Z"
   },
   {
    "duration": 4,
    "start_time": "2022-03-23T14:14:26.358Z"
   },
   {
    "duration": 6,
    "start_time": "2022-03-23T14:14:26.364Z"
   },
   {
    "duration": 7,
    "start_time": "2022-03-23T14:14:26.371Z"
   },
   {
    "duration": 187,
    "start_time": "2022-03-23T14:14:26.401Z"
   },
   {
    "duration": 12,
    "start_time": "2022-03-23T14:14:26.590Z"
   },
   {
    "duration": 6,
    "start_time": "2022-03-23T14:14:26.604Z"
   },
   {
    "duration": 5,
    "start_time": "2022-03-23T14:14:26.611Z"
   },
   {
    "duration": 48,
    "start_time": "2022-03-23T14:14:26.617Z"
   },
   {
    "duration": 4,
    "start_time": "2022-03-23T14:14:26.667Z"
   },
   {
    "duration": 5,
    "start_time": "2022-03-23T14:14:26.672Z"
   },
   {
    "duration": 4,
    "start_time": "2022-03-23T14:14:26.702Z"
   },
   {
    "duration": 209,
    "start_time": "2022-03-23T14:14:26.708Z"
   },
   {
    "duration": 152,
    "start_time": "2022-03-23T14:16:23.130Z"
   },
   {
    "duration": 172,
    "start_time": "2022-03-23T14:16:35.492Z"
   },
   {
    "duration": 171,
    "start_time": "2022-03-23T14:16:59.730Z"
   },
   {
    "duration": 255,
    "start_time": "2022-03-23T14:17:05.161Z"
   },
   {
    "duration": 184,
    "start_time": "2022-03-23T14:19:51.729Z"
   },
   {
    "duration": 181,
    "start_time": "2022-03-23T14:20:55.676Z"
   },
   {
    "duration": 176,
    "start_time": "2022-03-23T14:21:02.032Z"
   },
   {
    "duration": 210,
    "start_time": "2022-03-23T14:21:08.542Z"
   },
   {
    "duration": 169,
    "start_time": "2022-03-23T14:21:17.109Z"
   },
   {
    "duration": 1228,
    "start_time": "2022-03-23T14:21:36.090Z"
   },
   {
    "duration": 147,
    "start_time": "2022-03-23T14:21:37.320Z"
   },
   {
    "duration": 9,
    "start_time": "2022-03-23T14:21:37.468Z"
   },
   {
    "duration": 135,
    "start_time": "2022-03-23T14:21:37.479Z"
   },
   {
    "duration": 95,
    "start_time": "2022-03-23T14:21:37.616Z"
   },
   {
    "duration": 9,
    "start_time": "2022-03-23T14:21:37.713Z"
   },
   {
    "duration": 97,
    "start_time": "2022-03-23T14:21:37.723Z"
   },
   {
    "duration": 61,
    "start_time": "2022-03-23T14:21:37.821Z"
   },
   {
    "duration": 22,
    "start_time": "2022-03-23T14:21:37.884Z"
   },
   {
    "duration": 83,
    "start_time": "2022-03-23T14:21:37.910Z"
   },
   {
    "duration": 96,
    "start_time": "2022-03-23T14:21:37.995Z"
   },
   {
    "duration": 13,
    "start_time": "2022-03-23T14:21:38.093Z"
   },
   {
    "duration": 14,
    "start_time": "2022-03-23T14:21:38.107Z"
   },
   {
    "duration": 10,
    "start_time": "2022-03-23T14:21:38.123Z"
   },
   {
    "duration": 17,
    "start_time": "2022-03-23T14:21:38.135Z"
   },
   {
    "duration": 12,
    "start_time": "2022-03-23T14:21:38.154Z"
   },
   {
    "duration": 40,
    "start_time": "2022-03-23T14:21:38.168Z"
   },
   {
    "duration": 4,
    "start_time": "2022-03-23T14:21:38.210Z"
   },
   {
    "duration": 10,
    "start_time": "2022-03-23T14:21:38.216Z"
   },
   {
    "duration": 26,
    "start_time": "2022-03-23T14:21:38.230Z"
   },
   {
    "duration": 3,
    "start_time": "2022-03-23T14:21:38.258Z"
   },
   {
    "duration": 46,
    "start_time": "2022-03-23T14:21:38.263Z"
   },
   {
    "duration": 12,
    "start_time": "2022-03-23T14:21:38.311Z"
   },
   {
    "duration": 7,
    "start_time": "2022-03-23T14:21:38.325Z"
   },
   {
    "duration": 8,
    "start_time": "2022-03-23T14:21:38.333Z"
   },
   {
    "duration": 17,
    "start_time": "2022-03-23T14:21:38.342Z"
   },
   {
    "duration": 6,
    "start_time": "2022-03-23T14:21:38.361Z"
   },
   {
    "duration": 7,
    "start_time": "2022-03-23T14:21:38.403Z"
   },
   {
    "duration": 3,
    "start_time": "2022-03-23T14:21:38.412Z"
   },
   {
    "duration": 509,
    "start_time": "2022-03-23T14:21:38.417Z"
   },
   {
    "duration": 11,
    "start_time": "2022-03-23T14:21:38.927Z"
   },
   {
    "duration": 8,
    "start_time": "2022-03-23T14:21:38.939Z"
   },
   {
    "duration": 10,
    "start_time": "2022-03-23T14:21:38.948Z"
   },
   {
    "duration": 5,
    "start_time": "2022-03-23T14:21:38.960Z"
   },
   {
    "duration": 37,
    "start_time": "2022-03-23T14:21:38.967Z"
   },
   {
    "duration": 5,
    "start_time": "2022-03-23T14:21:39.007Z"
   },
   {
    "duration": 13,
    "start_time": "2022-03-23T14:21:39.014Z"
   },
   {
    "duration": 5,
    "start_time": "2022-03-23T14:21:39.029Z"
   },
   {
    "duration": 117,
    "start_time": "2022-03-23T14:21:39.036Z"
   },
   {
    "duration": 15,
    "start_time": "2022-03-23T14:21:39.155Z"
   },
   {
    "duration": 72,
    "start_time": "2022-03-23T14:21:39.172Z"
   },
   {
    "duration": 10,
    "start_time": "2022-03-23T14:21:39.246Z"
   },
   {
    "duration": 9,
    "start_time": "2022-03-23T14:21:39.258Z"
   },
   {
    "duration": 12,
    "start_time": "2022-03-23T14:21:39.268Z"
   },
   {
    "duration": 9,
    "start_time": "2022-03-23T14:21:39.282Z"
   },
   {
    "duration": 52,
    "start_time": "2022-03-23T14:21:39.293Z"
   },
   {
    "duration": 3,
    "start_time": "2022-03-23T14:21:39.347Z"
   },
   {
    "duration": 11,
    "start_time": "2022-03-23T14:21:39.352Z"
   },
   {
    "duration": 4,
    "start_time": "2022-03-23T14:21:39.365Z"
   },
   {
    "duration": 213,
    "start_time": "2022-03-23T14:21:39.371Z"
   },
   {
    "duration": 219,
    "start_time": "2022-03-23T14:21:39.585Z"
   },
   {
    "duration": 7,
    "start_time": "2022-03-23T14:21:39.805Z"
   },
   {
    "duration": 6,
    "start_time": "2022-03-23T14:21:39.814Z"
   },
   {
    "duration": 7,
    "start_time": "2022-03-23T14:21:39.822Z"
   },
   {
    "duration": 71,
    "start_time": "2022-03-23T14:21:39.831Z"
   },
   {
    "duration": 4,
    "start_time": "2022-03-23T14:21:39.904Z"
   },
   {
    "duration": 7,
    "start_time": "2022-03-23T14:21:39.910Z"
   },
   {
    "duration": 4,
    "start_time": "2022-03-23T14:21:39.919Z"
   },
   {
    "duration": 231,
    "start_time": "2022-03-23T14:21:39.924Z"
   },
   {
    "duration": 285,
    "start_time": "2022-03-23T14:21:40.157Z"
   },
   {
    "duration": 241,
    "start_time": "2022-03-23T14:36:07.214Z"
   },
   {
    "duration": 187,
    "start_time": "2022-03-23T14:36:14.632Z"
   },
   {
    "duration": 173,
    "start_time": "2022-03-23T14:36:36.893Z"
   },
   {
    "duration": 189,
    "start_time": "2022-03-23T14:36:51.437Z"
   },
   {
    "duration": 177,
    "start_time": "2022-03-23T14:37:42.154Z"
   },
   {
    "duration": 193,
    "start_time": "2022-03-23T14:37:49.341Z"
   },
   {
    "duration": 169,
    "start_time": "2022-03-23T14:37:55.819Z"
   },
   {
    "duration": 1192,
    "start_time": "2022-03-23T14:38:43.121Z"
   },
   {
    "duration": 162,
    "start_time": "2022-03-23T14:38:44.315Z"
   },
   {
    "duration": 9,
    "start_time": "2022-03-23T14:38:44.479Z"
   },
   {
    "duration": 128,
    "start_time": "2022-03-23T14:38:44.490Z"
   },
   {
    "duration": 88,
    "start_time": "2022-03-23T14:38:44.619Z"
   },
   {
    "duration": 8,
    "start_time": "2022-03-23T14:38:44.709Z"
   },
   {
    "duration": 104,
    "start_time": "2022-03-23T14:38:44.719Z"
   },
   {
    "duration": 59,
    "start_time": "2022-03-23T14:38:44.825Z"
   },
   {
    "duration": 21,
    "start_time": "2022-03-23T14:38:44.885Z"
   },
   {
    "duration": 73,
    "start_time": "2022-03-23T14:38:44.908Z"
   },
   {
    "duration": 102,
    "start_time": "2022-03-23T14:38:44.983Z"
   },
   {
    "duration": 15,
    "start_time": "2022-03-23T14:38:45.087Z"
   },
   {
    "duration": 11,
    "start_time": "2022-03-23T14:38:45.104Z"
   },
   {
    "duration": 9,
    "start_time": "2022-03-23T14:38:45.117Z"
   },
   {
    "duration": 12,
    "start_time": "2022-03-23T14:38:45.127Z"
   },
   {
    "duration": 8,
    "start_time": "2022-03-23T14:38:45.140Z"
   },
   {
    "duration": 13,
    "start_time": "2022-03-23T14:38:45.150Z"
   },
   {
    "duration": 6,
    "start_time": "2022-03-23T14:38:45.165Z"
   },
   {
    "duration": 7,
    "start_time": "2022-03-23T14:38:45.201Z"
   },
   {
    "duration": 16,
    "start_time": "2022-03-23T14:38:45.210Z"
   },
   {
    "duration": 5,
    "start_time": "2022-03-23T14:38:45.227Z"
   },
   {
    "duration": 19,
    "start_time": "2022-03-23T14:38:45.233Z"
   },
   {
    "duration": 15,
    "start_time": "2022-03-23T14:38:45.254Z"
   },
   {
    "duration": 30,
    "start_time": "2022-03-23T14:38:45.271Z"
   },
   {
    "duration": 8,
    "start_time": "2022-03-23T14:38:45.302Z"
   },
   {
    "duration": 15,
    "start_time": "2022-03-23T14:38:45.312Z"
   },
   {
    "duration": 4,
    "start_time": "2022-03-23T14:38:45.329Z"
   },
   {
    "duration": 12,
    "start_time": "2022-03-23T14:38:45.336Z"
   },
   {
    "duration": 5,
    "start_time": "2022-03-23T14:38:45.350Z"
   },
   {
    "duration": 525,
    "start_time": "2022-03-23T14:38:45.357Z"
   },
   {
    "duration": 25,
    "start_time": "2022-03-23T14:38:45.883Z"
   },
   {
    "duration": 12,
    "start_time": "2022-03-23T14:38:45.909Z"
   },
   {
    "duration": 10,
    "start_time": "2022-03-23T14:38:45.922Z"
   },
   {
    "duration": 4,
    "start_time": "2022-03-23T14:38:45.934Z"
   },
   {
    "duration": 12,
    "start_time": "2022-03-23T14:38:45.939Z"
   },
   {
    "duration": 5,
    "start_time": "2022-03-23T14:38:45.952Z"
   },
   {
    "duration": 12,
    "start_time": "2022-03-23T14:38:45.958Z"
   },
   {
    "duration": 6,
    "start_time": "2022-03-23T14:38:45.971Z"
   },
   {
    "duration": 100,
    "start_time": "2022-03-23T14:38:46.001Z"
   },
   {
    "duration": 14,
    "start_time": "2022-03-23T14:38:46.103Z"
   },
   {
    "duration": 19,
    "start_time": "2022-03-23T14:38:46.118Z"
   },
   {
    "duration": 8,
    "start_time": "2022-03-23T14:38:46.138Z"
   },
   {
    "duration": 6,
    "start_time": "2022-03-23T14:38:46.147Z"
   },
   {
    "duration": 8,
    "start_time": "2022-03-23T14:38:46.155Z"
   },
   {
    "duration": 7,
    "start_time": "2022-03-23T14:38:46.164Z"
   },
   {
    "duration": 75,
    "start_time": "2022-03-23T14:38:46.173Z"
   },
   {
    "duration": 3,
    "start_time": "2022-03-23T14:38:46.250Z"
   },
   {
    "duration": 6,
    "start_time": "2022-03-23T14:38:46.255Z"
   },
   {
    "duration": 5,
    "start_time": "2022-03-23T14:38:46.263Z"
   },
   {
    "duration": 211,
    "start_time": "2022-03-23T14:38:46.269Z"
   },
   {
    "duration": 199,
    "start_time": "2022-03-23T14:38:46.481Z"
   },
   {
    "duration": 179,
    "start_time": "2022-03-23T14:38:46.682Z"
   },
   {
    "duration": 7,
    "start_time": "2022-03-23T14:38:46.863Z"
   },
   {
    "duration": 5,
    "start_time": "2022-03-23T14:38:46.871Z"
   },
   {
    "duration": 4,
    "start_time": "2022-03-23T14:38:46.878Z"
   },
   {
    "duration": 48,
    "start_time": "2022-03-23T14:38:46.901Z"
   },
   {
    "duration": 3,
    "start_time": "2022-03-23T14:38:46.951Z"
   },
   {
    "duration": 7,
    "start_time": "2022-03-23T14:38:46.956Z"
   },
   {
    "duration": 5,
    "start_time": "2022-03-23T14:38:46.964Z"
   },
   {
    "duration": 214,
    "start_time": "2022-03-23T14:38:46.970Z"
   },
   {
    "duration": 228,
    "start_time": "2022-03-23T14:38:47.186Z"
   },
   {
    "duration": 172,
    "start_time": "2022-03-23T14:38:47.416Z"
   },
   {
    "duration": 1137,
    "start_time": "2022-03-23T14:47:46.359Z"
   },
   {
    "duration": 144,
    "start_time": "2022-03-23T14:47:47.500Z"
   },
   {
    "duration": 8,
    "start_time": "2022-03-23T14:47:47.646Z"
   },
   {
    "duration": 125,
    "start_time": "2022-03-23T14:47:47.655Z"
   },
   {
    "duration": 87,
    "start_time": "2022-03-23T14:47:47.782Z"
   },
   {
    "duration": 8,
    "start_time": "2022-03-23T14:47:47.870Z"
   },
   {
    "duration": 90,
    "start_time": "2022-03-23T14:47:47.879Z"
   },
   {
    "duration": 66,
    "start_time": "2022-03-23T14:47:47.970Z"
   },
   {
    "duration": 19,
    "start_time": "2022-03-23T14:47:48.038Z"
   },
   {
    "duration": 63,
    "start_time": "2022-03-23T14:47:48.058Z"
   },
   {
    "duration": 98,
    "start_time": "2022-03-23T14:47:48.123Z"
   },
   {
    "duration": 7,
    "start_time": "2022-03-23T14:47:48.222Z"
   },
   {
    "duration": 11,
    "start_time": "2022-03-23T14:47:48.230Z"
   },
   {
    "duration": 7,
    "start_time": "2022-03-23T14:47:48.244Z"
   },
   {
    "duration": 11,
    "start_time": "2022-03-23T14:47:48.253Z"
   },
   {
    "duration": 7,
    "start_time": "2022-03-23T14:47:48.265Z"
   },
   {
    "duration": 32,
    "start_time": "2022-03-23T14:47:48.274Z"
   },
   {
    "duration": 7,
    "start_time": "2022-03-23T14:47:48.308Z"
   },
   {
    "duration": 9,
    "start_time": "2022-03-23T14:47:48.317Z"
   },
   {
    "duration": 17,
    "start_time": "2022-03-23T14:47:48.327Z"
   },
   {
    "duration": 3,
    "start_time": "2022-03-23T14:47:48.345Z"
   },
   {
    "duration": 18,
    "start_time": "2022-03-23T14:47:48.349Z"
   },
   {
    "duration": 35,
    "start_time": "2022-03-23T14:47:48.369Z"
   },
   {
    "duration": 7,
    "start_time": "2022-03-23T14:47:48.405Z"
   },
   {
    "duration": 8,
    "start_time": "2022-03-23T14:47:48.413Z"
   },
   {
    "duration": 16,
    "start_time": "2022-03-23T14:47:48.422Z"
   },
   {
    "duration": 4,
    "start_time": "2022-03-23T14:47:48.440Z"
   },
   {
    "duration": 9,
    "start_time": "2022-03-23T14:47:48.446Z"
   },
   {
    "duration": 6,
    "start_time": "2022-03-23T14:47:48.457Z"
   },
   {
    "duration": 544,
    "start_time": "2022-03-23T14:47:48.464Z"
   },
   {
    "duration": 12,
    "start_time": "2022-03-23T14:47:49.010Z"
   },
   {
    "duration": 11,
    "start_time": "2022-03-23T14:47:49.023Z"
   },
   {
    "duration": 10,
    "start_time": "2022-03-23T14:47:49.036Z"
   },
   {
    "duration": 5,
    "start_time": "2022-03-23T14:47:49.048Z"
   },
   {
    "duration": 14,
    "start_time": "2022-03-23T14:47:49.054Z"
   },
   {
    "duration": 5,
    "start_time": "2022-03-23T14:47:49.070Z"
   },
   {
    "duration": 13,
    "start_time": "2022-03-23T14:47:49.101Z"
   },
   {
    "duration": 4,
    "start_time": "2022-03-23T14:47:49.116Z"
   },
   {
    "duration": 106,
    "start_time": "2022-03-23T14:47:49.122Z"
   },
   {
    "duration": 13,
    "start_time": "2022-03-23T14:47:49.230Z"
   },
   {
    "duration": 16,
    "start_time": "2022-03-23T14:47:49.247Z"
   },
   {
    "duration": 9,
    "start_time": "2022-03-23T14:47:49.264Z"
   },
   {
    "duration": 30,
    "start_time": "2022-03-23T14:47:49.274Z"
   },
   {
    "duration": 7,
    "start_time": "2022-03-23T14:47:49.305Z"
   },
   {
    "duration": 6,
    "start_time": "2022-03-23T14:47:49.313Z"
   },
   {
    "duration": 50,
    "start_time": "2022-03-23T14:47:49.321Z"
   },
   {
    "duration": 4,
    "start_time": "2022-03-23T14:47:49.372Z"
   },
   {
    "duration": 4,
    "start_time": "2022-03-23T14:47:49.401Z"
   },
   {
    "duration": 7,
    "start_time": "2022-03-23T14:47:49.407Z"
   },
   {
    "duration": 205,
    "start_time": "2022-03-23T14:47:49.416Z"
   },
   {
    "duration": 203,
    "start_time": "2022-03-23T14:47:49.623Z"
   },
   {
    "duration": 190,
    "start_time": "2022-03-23T14:47:49.828Z"
   },
   {
    "duration": 8,
    "start_time": "2022-03-23T14:47:50.020Z"
   },
   {
    "duration": 10,
    "start_time": "2022-03-23T14:47:50.029Z"
   },
   {
    "duration": 6,
    "start_time": "2022-03-23T14:47:50.040Z"
   },
   {
    "duration": 69,
    "start_time": "2022-03-23T14:47:50.047Z"
   },
   {
    "duration": 4,
    "start_time": "2022-03-23T14:47:50.118Z"
   },
   {
    "duration": 6,
    "start_time": "2022-03-23T14:47:50.123Z"
   },
   {
    "duration": 5,
    "start_time": "2022-03-23T14:47:50.131Z"
   },
   {
    "duration": 218,
    "start_time": "2022-03-23T14:47:50.137Z"
   },
   {
    "duration": 254,
    "start_time": "2022-03-23T14:47:50.356Z"
   },
   {
    "duration": 191,
    "start_time": "2022-03-23T14:47:50.612Z"
   },
   {
    "duration": 3,
    "start_time": "2022-03-23T14:48:15.791Z"
   },
   {
    "duration": 13,
    "start_time": "2022-03-23T14:55:33.454Z"
   },
   {
    "duration": 156,
    "start_time": "2022-03-23T14:56:12.240Z"
   },
   {
    "duration": 130,
    "start_time": "2022-03-23T14:56:32.416Z"
   },
   {
    "duration": 129,
    "start_time": "2022-03-23T14:56:43.964Z"
   },
   {
    "duration": 123,
    "start_time": "2022-03-23T14:57:52.530Z"
   },
   {
    "duration": 142,
    "start_time": "2022-03-23T14:58:16.657Z"
   },
   {
    "duration": 152,
    "start_time": "2022-03-23T14:59:18.032Z"
   },
   {
    "duration": 164,
    "start_time": "2022-03-23T15:02:04.938Z"
   },
   {
    "duration": 230,
    "start_time": "2022-03-23T15:04:33.966Z"
   },
   {
    "duration": 51,
    "start_time": "2022-03-23T17:48:35.681Z"
   },
   {
    "duration": 7,
    "start_time": "2022-03-23T17:48:42.660Z"
   },
   {
    "duration": 6,
    "start_time": "2022-03-23T17:48:48.291Z"
   },
   {
    "duration": 1424,
    "start_time": "2022-03-23T17:48:55.612Z"
   },
   {
    "duration": 159,
    "start_time": "2022-03-23T17:48:57.037Z"
   },
   {
    "duration": 18,
    "start_time": "2022-03-23T17:48:57.198Z"
   },
   {
    "duration": 139,
    "start_time": "2022-03-23T17:48:57.218Z"
   },
   {
    "duration": 100,
    "start_time": "2022-03-23T17:48:57.358Z"
   },
   {
    "duration": 9,
    "start_time": "2022-03-23T17:48:57.460Z"
   },
   {
    "duration": 104,
    "start_time": "2022-03-23T17:48:57.471Z"
   },
   {
    "duration": 72,
    "start_time": "2022-03-23T17:48:57.576Z"
   },
   {
    "duration": 14,
    "start_time": "2022-03-23T17:48:57.650Z"
   },
   {
    "duration": 31,
    "start_time": "2022-03-23T17:48:57.668Z"
   },
   {
    "duration": 108,
    "start_time": "2022-03-23T17:48:57.701Z"
   },
   {
    "duration": 8,
    "start_time": "2022-03-23T17:48:57.811Z"
   },
   {
    "duration": 11,
    "start_time": "2022-03-23T17:48:57.820Z"
   },
   {
    "duration": 10,
    "start_time": "2022-03-23T17:48:57.833Z"
   },
   {
    "duration": 13,
    "start_time": "2022-03-23T17:48:57.844Z"
   },
   {
    "duration": 8,
    "start_time": "2022-03-23T17:48:57.859Z"
   },
   {
    "duration": 46,
    "start_time": "2022-03-23T17:48:57.869Z"
   },
   {
    "duration": 7,
    "start_time": "2022-03-23T17:48:57.917Z"
   },
   {
    "duration": 13,
    "start_time": "2022-03-23T17:48:57.926Z"
   },
   {
    "duration": 26,
    "start_time": "2022-03-23T17:48:57.940Z"
   },
   {
    "duration": 3,
    "start_time": "2022-03-23T17:48:57.968Z"
   },
   {
    "duration": 52,
    "start_time": "2022-03-23T17:48:57.974Z"
   },
   {
    "duration": 13,
    "start_time": "2022-03-23T17:48:58.028Z"
   },
   {
    "duration": 7,
    "start_time": "2022-03-23T17:48:58.043Z"
   },
   {
    "duration": 10,
    "start_time": "2022-03-23T17:48:58.053Z"
   },
   {
    "duration": 49,
    "start_time": "2022-03-23T17:48:58.065Z"
   },
   {
    "duration": 5,
    "start_time": "2022-03-23T17:48:58.116Z"
   },
   {
    "duration": 7,
    "start_time": "2022-03-23T17:48:58.125Z"
   },
   {
    "duration": 5,
    "start_time": "2022-03-23T17:48:58.133Z"
   },
   {
    "duration": 683,
    "start_time": "2022-03-23T17:48:58.140Z"
   },
   {
    "duration": 14,
    "start_time": "2022-03-23T17:48:58.824Z"
   },
   {
    "duration": 7,
    "start_time": "2022-03-23T17:48:58.840Z"
   },
   {
    "duration": 12,
    "start_time": "2022-03-23T17:48:58.849Z"
   },
   {
    "duration": 6,
    "start_time": "2022-03-23T17:48:58.862Z"
   },
   {
    "duration": 49,
    "start_time": "2022-03-23T17:48:58.870Z"
   },
   {
    "duration": 6,
    "start_time": "2022-03-23T17:48:58.921Z"
   },
   {
    "duration": 20,
    "start_time": "2022-03-23T17:48:58.929Z"
   },
   {
    "duration": 6,
    "start_time": "2022-03-23T17:48:58.951Z"
   },
   {
    "duration": 152,
    "start_time": "2022-03-23T17:48:58.959Z"
   },
   {
    "duration": 18,
    "start_time": "2022-03-23T17:48:59.113Z"
   },
   {
    "duration": 18,
    "start_time": "2022-03-23T17:48:59.133Z"
   },
   {
    "duration": 9,
    "start_time": "2022-03-23T17:48:59.153Z"
   },
   {
    "duration": 7,
    "start_time": "2022-03-23T17:48:59.164Z"
   },
   {
    "duration": 8,
    "start_time": "2022-03-23T17:48:59.173Z"
   },
   {
    "duration": 6,
    "start_time": "2022-03-23T17:48:59.209Z"
   },
   {
    "duration": 59,
    "start_time": "2022-03-23T17:48:59.217Z"
   },
   {
    "duration": 4,
    "start_time": "2022-03-23T17:48:59.278Z"
   },
   {
    "duration": 29,
    "start_time": "2022-03-23T17:48:59.283Z"
   },
   {
    "duration": 5,
    "start_time": "2022-03-23T17:48:59.314Z"
   },
   {
    "duration": 240,
    "start_time": "2022-03-23T17:48:59.320Z"
   },
   {
    "duration": 190,
    "start_time": "2022-03-23T17:48:59.562Z"
   },
   {
    "duration": 236,
    "start_time": "2022-03-23T17:48:59.755Z"
   },
   {
    "duration": 189,
    "start_time": "2022-03-23T17:48:59.993Z"
   },
   {
    "duration": 211,
    "start_time": "2022-03-23T17:49:00.184Z"
   },
   {
    "duration": 13,
    "start_time": "2022-03-23T17:49:00.397Z"
   },
   {
    "duration": 8,
    "start_time": "2022-03-23T17:49:00.412Z"
   },
   {
    "duration": 8,
    "start_time": "2022-03-23T17:49:00.421Z"
   },
   {
    "duration": 137,
    "start_time": "2022-03-23T17:49:00.430Z"
   },
   {
    "duration": 4,
    "start_time": "2022-03-23T17:49:00.569Z"
   },
   {
    "duration": 6,
    "start_time": "2022-03-23T17:49:00.574Z"
   },
   {
    "duration": 8,
    "start_time": "2022-03-23T17:49:00.581Z"
   },
   {
    "duration": 232,
    "start_time": "2022-03-23T17:49:00.609Z"
   },
   {
    "duration": 208,
    "start_time": "2022-03-23T17:49:00.842Z"
   },
   {
    "duration": 230,
    "start_time": "2022-03-23T17:49:01.052Z"
   },
   {
    "duration": 60,
    "start_time": "2022-03-23T17:50:52.780Z"
   },
   {
    "duration": 151,
    "start_time": "2022-03-23T17:51:14.083Z"
   },
   {
    "duration": 158,
    "start_time": "2022-03-23T17:52:22.509Z"
   },
   {
    "duration": 178,
    "start_time": "2022-03-23T17:52:53.604Z"
   },
   {
    "duration": 172,
    "start_time": "2022-03-23T17:54:20.468Z"
   },
   {
    "duration": 1064,
    "start_time": "2022-03-23T20:03:23.861Z"
   },
   {
    "duration": 152,
    "start_time": "2022-03-23T20:03:24.927Z"
   },
   {
    "duration": 9,
    "start_time": "2022-03-23T20:03:25.081Z"
   },
   {
    "duration": 145,
    "start_time": "2022-03-23T20:03:25.092Z"
   },
   {
    "duration": 90,
    "start_time": "2022-03-23T20:03:25.239Z"
   },
   {
    "duration": 8,
    "start_time": "2022-03-23T20:03:25.331Z"
   },
   {
    "duration": 102,
    "start_time": "2022-03-23T20:03:25.341Z"
   },
   {
    "duration": 71,
    "start_time": "2022-03-23T20:03:25.445Z"
   },
   {
    "duration": 13,
    "start_time": "2022-03-23T20:03:25.518Z"
   },
   {
    "duration": 21,
    "start_time": "2022-03-23T20:03:25.534Z"
   },
   {
    "duration": 120,
    "start_time": "2022-03-23T20:03:25.556Z"
   },
   {
    "duration": 7,
    "start_time": "2022-03-23T20:03:25.677Z"
   },
   {
    "duration": 25,
    "start_time": "2022-03-23T20:03:25.685Z"
   },
   {
    "duration": 9,
    "start_time": "2022-03-23T20:03:25.713Z"
   },
   {
    "duration": 14,
    "start_time": "2022-03-23T20:03:25.723Z"
   },
   {
    "duration": 9,
    "start_time": "2022-03-23T20:03:25.739Z"
   },
   {
    "duration": 13,
    "start_time": "2022-03-23T20:03:25.749Z"
   },
   {
    "duration": 5,
    "start_time": "2022-03-23T20:03:25.764Z"
   },
   {
    "duration": 38,
    "start_time": "2022-03-23T20:03:25.771Z"
   },
   {
    "duration": 19,
    "start_time": "2022-03-23T20:03:25.811Z"
   },
   {
    "duration": 4,
    "start_time": "2022-03-23T20:03:25.832Z"
   },
   {
    "duration": 17,
    "start_time": "2022-03-23T20:03:25.837Z"
   },
   {
    "duration": 13,
    "start_time": "2022-03-23T20:03:25.856Z"
   },
   {
    "duration": 42,
    "start_time": "2022-03-23T20:03:25.870Z"
   },
   {
    "duration": 8,
    "start_time": "2022-03-23T20:03:25.914Z"
   },
   {
    "duration": 17,
    "start_time": "2022-03-23T20:03:25.923Z"
   },
   {
    "duration": 5,
    "start_time": "2022-03-23T20:03:25.941Z"
   },
   {
    "duration": 7,
    "start_time": "2022-03-23T20:03:25.949Z"
   },
   {
    "duration": 4,
    "start_time": "2022-03-23T20:03:25.958Z"
   },
   {
    "duration": 600,
    "start_time": "2022-03-23T20:03:25.964Z"
   },
   {
    "duration": 12,
    "start_time": "2022-03-23T20:03:26.566Z"
   },
   {
    "duration": 7,
    "start_time": "2022-03-23T20:03:26.580Z"
   },
   {
    "duration": 30,
    "start_time": "2022-03-23T20:03:26.588Z"
   },
   {
    "duration": 8,
    "start_time": "2022-03-23T20:03:26.619Z"
   },
   {
    "duration": 16,
    "start_time": "2022-03-23T20:03:26.629Z"
   },
   {
    "duration": 7,
    "start_time": "2022-03-23T20:03:26.647Z"
   },
   {
    "duration": 18,
    "start_time": "2022-03-23T20:03:26.655Z"
   },
   {
    "duration": 8,
    "start_time": "2022-03-23T20:03:26.674Z"
   },
   {
    "duration": 103,
    "start_time": "2022-03-23T20:03:26.708Z"
   },
   {
    "duration": 14,
    "start_time": "2022-03-23T20:03:26.813Z"
   },
   {
    "duration": 25,
    "start_time": "2022-03-23T20:03:26.829Z"
   },
   {
    "duration": 7,
    "start_time": "2022-03-23T20:03:26.856Z"
   },
   {
    "duration": 7,
    "start_time": "2022-03-23T20:03:26.865Z"
   },
   {
    "duration": 5,
    "start_time": "2022-03-23T20:03:26.874Z"
   },
   {
    "duration": 31,
    "start_time": "2022-03-23T20:03:26.881Z"
   },
   {
    "duration": 56,
    "start_time": "2022-03-23T20:03:26.914Z"
   },
   {
    "duration": 5,
    "start_time": "2022-03-23T20:03:26.972Z"
   },
   {
    "duration": 5,
    "start_time": "2022-03-23T20:03:26.978Z"
   },
   {
    "duration": 4,
    "start_time": "2022-03-23T20:03:27.009Z"
   },
   {
    "duration": 222,
    "start_time": "2022-03-23T20:03:27.014Z"
   },
   {
    "duration": 173,
    "start_time": "2022-03-23T20:03:27.238Z"
   },
   {
    "duration": 215,
    "start_time": "2022-03-23T20:03:27.413Z"
   },
   {
    "duration": 184,
    "start_time": "2022-03-23T20:03:27.630Z"
   },
   {
    "duration": 200,
    "start_time": "2022-03-23T20:03:27.816Z"
   },
   {
    "duration": 236,
    "start_time": "2022-03-23T20:03:28.018Z"
   },
   {
    "duration": 6,
    "start_time": "2022-03-23T20:03:28.255Z"
   },
   {
    "duration": 7,
    "start_time": "2022-03-23T20:03:28.263Z"
   },
   {
    "duration": 5,
    "start_time": "2022-03-23T20:03:28.272Z"
   },
   {
    "duration": 74,
    "start_time": "2022-03-23T20:03:28.278Z"
   },
   {
    "duration": 4,
    "start_time": "2022-03-23T20:03:28.353Z"
   },
   {
    "duration": 6,
    "start_time": "2022-03-23T20:03:28.359Z"
   },
   {
    "duration": 6,
    "start_time": "2022-03-23T20:03:28.367Z"
   },
   {
    "duration": 241,
    "start_time": "2022-03-23T20:03:28.375Z"
   },
   {
    "duration": 181,
    "start_time": "2022-03-23T20:03:28.618Z"
   },
   {
    "duration": 194,
    "start_time": "2022-03-23T20:03:28.801Z"
   },
   {
    "duration": 161,
    "start_time": "2022-03-23T20:16:45.525Z"
   },
   {
    "duration": 176,
    "start_time": "2022-03-23T20:18:01.292Z"
   },
   {
    "duration": 161,
    "start_time": "2022-03-23T20:19:49.276Z"
   },
   {
    "duration": 174,
    "start_time": "2022-03-23T20:21:05.819Z"
   },
   {
    "duration": 174,
    "start_time": "2022-03-23T20:21:45.002Z"
   },
   {
    "duration": 1105,
    "start_time": "2022-03-23T21:02:36.225Z"
   },
   {
    "duration": 154,
    "start_time": "2022-03-23T21:02:37.332Z"
   },
   {
    "duration": 10,
    "start_time": "2022-03-23T21:02:37.487Z"
   },
   {
    "duration": 131,
    "start_time": "2022-03-23T21:02:37.508Z"
   },
   {
    "duration": 100,
    "start_time": "2022-03-23T21:02:37.641Z"
   },
   {
    "duration": 8,
    "start_time": "2022-03-23T21:02:37.743Z"
   },
   {
    "duration": 96,
    "start_time": "2022-03-23T21:02:37.753Z"
   },
   {
    "duration": 71,
    "start_time": "2022-03-23T21:02:37.851Z"
   },
   {
    "duration": 15,
    "start_time": "2022-03-23T21:02:37.924Z"
   },
   {
    "duration": 31,
    "start_time": "2022-03-23T21:02:37.943Z"
   },
   {
    "duration": 114,
    "start_time": "2022-03-23T21:02:37.976Z"
   },
   {
    "duration": 7,
    "start_time": "2022-03-23T21:02:38.092Z"
   },
   {
    "duration": 13,
    "start_time": "2022-03-23T21:02:38.108Z"
   },
   {
    "duration": 9,
    "start_time": "2022-03-23T21:02:38.123Z"
   },
   {
    "duration": 13,
    "start_time": "2022-03-23T21:02:38.134Z"
   },
   {
    "duration": 8,
    "start_time": "2022-03-23T21:02:38.149Z"
   },
   {
    "duration": 49,
    "start_time": "2022-03-23T21:02:38.159Z"
   },
   {
    "duration": 4,
    "start_time": "2022-03-23T21:02:38.210Z"
   },
   {
    "duration": 8,
    "start_time": "2022-03-23T21:02:38.216Z"
   },
   {
    "duration": 17,
    "start_time": "2022-03-23T21:02:38.226Z"
   },
   {
    "duration": 3,
    "start_time": "2022-03-23T21:02:38.245Z"
   },
   {
    "duration": 16,
    "start_time": "2022-03-23T21:02:38.249Z"
   },
   {
    "duration": 46,
    "start_time": "2022-03-23T21:02:38.267Z"
   },
   {
    "duration": 7,
    "start_time": "2022-03-23T21:02:38.315Z"
   },
   {
    "duration": 9,
    "start_time": "2022-03-23T21:02:38.324Z"
   },
   {
    "duration": 18,
    "start_time": "2022-03-23T21:02:38.334Z"
   },
   {
    "duration": 6,
    "start_time": "2022-03-23T21:02:38.354Z"
   },
   {
    "duration": 45,
    "start_time": "2022-03-23T21:02:38.365Z"
   },
   {
    "duration": 6,
    "start_time": "2022-03-23T21:02:38.412Z"
   },
   {
    "duration": 578,
    "start_time": "2022-03-23T21:02:38.420Z"
   },
   {
    "duration": 18,
    "start_time": "2022-03-23T21:02:39.000Z"
   },
   {
    "duration": 8,
    "start_time": "2022-03-23T21:02:39.020Z"
   },
   {
    "duration": 14,
    "start_time": "2022-03-23T21:02:39.030Z"
   },
   {
    "duration": 6,
    "start_time": "2022-03-23T21:02:39.045Z"
   },
   {
    "duration": 22,
    "start_time": "2022-03-23T21:02:39.052Z"
   },
   {
    "duration": 5,
    "start_time": "2022-03-23T21:02:39.076Z"
   },
   {
    "duration": 34,
    "start_time": "2022-03-23T21:02:39.083Z"
   },
   {
    "duration": 5,
    "start_time": "2022-03-23T21:02:39.119Z"
   },
   {
    "duration": 107,
    "start_time": "2022-03-23T21:02:39.125Z"
   },
   {
    "duration": 14,
    "start_time": "2022-03-23T21:02:39.234Z"
   },
   {
    "duration": 14,
    "start_time": "2022-03-23T21:02:39.249Z"
   },
   {
    "duration": 10,
    "start_time": "2022-03-23T21:02:39.265Z"
   },
   {
    "duration": 6,
    "start_time": "2022-03-23T21:02:39.276Z"
   },
   {
    "duration": 27,
    "start_time": "2022-03-23T21:02:39.284Z"
   },
   {
    "duration": 5,
    "start_time": "2022-03-23T21:02:39.313Z"
   },
   {
    "duration": 52,
    "start_time": "2022-03-23T21:02:39.320Z"
   },
   {
    "duration": 4,
    "start_time": "2022-03-23T21:02:39.374Z"
   },
   {
    "duration": 7,
    "start_time": "2022-03-23T21:02:39.380Z"
   },
   {
    "duration": 5,
    "start_time": "2022-03-23T21:02:39.408Z"
   },
   {
    "duration": 223,
    "start_time": "2022-03-23T21:02:39.414Z"
   },
   {
    "duration": 174,
    "start_time": "2022-03-23T21:02:39.639Z"
   },
   {
    "duration": 217,
    "start_time": "2022-03-23T21:02:39.815Z"
   },
   {
    "duration": 183,
    "start_time": "2022-03-23T21:02:40.033Z"
   },
   {
    "duration": 196,
    "start_time": "2022-03-23T21:02:40.218Z"
   },
   {
    "duration": 232,
    "start_time": "2022-03-23T21:02:40.416Z"
   },
   {
    "duration": 6,
    "start_time": "2022-03-23T21:02:40.650Z"
   },
   {
    "duration": 8,
    "start_time": "2022-03-23T21:02:40.657Z"
   },
   {
    "duration": 5,
    "start_time": "2022-03-23T21:02:40.666Z"
   },
   {
    "duration": 77,
    "start_time": "2022-03-23T21:02:40.673Z"
   },
   {
    "duration": 4,
    "start_time": "2022-03-23T21:02:40.751Z"
   },
   {
    "duration": 5,
    "start_time": "2022-03-23T21:02:40.757Z"
   },
   {
    "duration": 7,
    "start_time": "2022-03-23T21:02:40.763Z"
   },
   {
    "duration": 234,
    "start_time": "2022-03-23T21:02:40.772Z"
   },
   {
    "duration": 171,
    "start_time": "2022-03-23T21:02:41.009Z"
   },
   {
    "duration": 178,
    "start_time": "2022-03-23T21:02:41.182Z"
   },
   {
    "duration": 178,
    "start_time": "2022-03-23T21:02:41.362Z"
   },
   {
    "duration": 210,
    "start_time": "2022-03-23T21:02:41.542Z"
   },
   {
    "duration": 182,
    "start_time": "2022-03-23T21:02:41.754Z"
   },
   {
    "duration": 95,
    "start_time": "2022-03-23T21:25:58.120Z"
   },
   {
    "duration": 8,
    "start_time": "2022-03-23T21:26:07.693Z"
   },
   {
    "duration": 1066,
    "start_time": "2022-03-23T21:26:26.666Z"
   },
   {
    "duration": 159,
    "start_time": "2022-03-23T21:26:27.734Z"
   },
   {
    "duration": 19,
    "start_time": "2022-03-23T21:26:27.895Z"
   },
   {
    "duration": 139,
    "start_time": "2022-03-23T21:26:27.916Z"
   },
   {
    "duration": 97,
    "start_time": "2022-03-23T21:26:28.057Z"
   },
   {
    "duration": 9,
    "start_time": "2022-03-23T21:26:28.155Z"
   },
   {
    "duration": 100,
    "start_time": "2022-03-23T21:26:28.165Z"
   },
   {
    "duration": 70,
    "start_time": "2022-03-23T21:26:28.266Z"
   },
   {
    "duration": 16,
    "start_time": "2022-03-23T21:26:28.337Z"
   },
   {
    "duration": 24,
    "start_time": "2022-03-23T21:26:28.356Z"
   },
   {
    "duration": 111,
    "start_time": "2022-03-23T21:26:28.381Z"
   },
   {
    "duration": 15,
    "start_time": "2022-03-23T21:26:28.494Z"
   },
   {
    "duration": 11,
    "start_time": "2022-03-23T21:26:28.511Z"
   },
   {
    "duration": 9,
    "start_time": "2022-03-23T21:26:28.523Z"
   },
   {
    "duration": 12,
    "start_time": "2022-03-23T21:26:28.533Z"
   },
   {
    "duration": 8,
    "start_time": "2022-03-23T21:26:28.547Z"
   },
   {
    "duration": 11,
    "start_time": "2022-03-23T21:26:28.557Z"
   },
   {
    "duration": 4,
    "start_time": "2022-03-23T21:26:28.570Z"
   },
   {
    "duration": 7,
    "start_time": "2022-03-23T21:26:28.609Z"
   },
   {
    "duration": 18,
    "start_time": "2022-03-23T21:26:28.618Z"
   },
   {
    "duration": 9,
    "start_time": "2022-03-23T21:26:28.638Z"
   },
   {
    "duration": 19,
    "start_time": "2022-03-23T21:26:28.649Z"
   },
   {
    "duration": 14,
    "start_time": "2022-03-23T21:26:28.669Z"
   },
   {
    "duration": 29,
    "start_time": "2022-03-23T21:26:28.685Z"
   },
   {
    "duration": 8,
    "start_time": "2022-03-23T21:26:28.716Z"
   },
   {
    "duration": 17,
    "start_time": "2022-03-23T21:26:28.726Z"
   },
   {
    "duration": 5,
    "start_time": "2022-03-23T21:26:28.745Z"
   },
   {
    "duration": 9,
    "start_time": "2022-03-23T21:26:28.754Z"
   },
   {
    "duration": 5,
    "start_time": "2022-03-23T21:26:28.764Z"
   },
   {
    "duration": 581,
    "start_time": "2022-03-23T21:26:28.771Z"
   },
   {
    "duration": 13,
    "start_time": "2022-03-23T21:26:29.353Z"
   },
   {
    "duration": 9,
    "start_time": "2022-03-23T21:26:29.367Z"
   },
   {
    "duration": 12,
    "start_time": "2022-03-23T21:26:29.377Z"
   },
   {
    "duration": 23,
    "start_time": "2022-03-23T21:26:29.390Z"
   },
   {
    "duration": 15,
    "start_time": "2022-03-23T21:26:29.414Z"
   },
   {
    "duration": 6,
    "start_time": "2022-03-23T21:26:29.430Z"
   },
   {
    "duration": 14,
    "start_time": "2022-03-23T21:26:29.438Z"
   },
   {
    "duration": 4,
    "start_time": "2022-03-23T21:26:29.454Z"
   },
   {
    "duration": 110,
    "start_time": "2022-03-23T21:26:29.460Z"
   },
   {
    "duration": 14,
    "start_time": "2022-03-23T21:26:29.572Z"
   },
   {
    "duration": 31,
    "start_time": "2022-03-23T21:26:29.588Z"
   },
   {
    "duration": 8,
    "start_time": "2022-03-23T21:26:29.621Z"
   },
   {
    "duration": 11,
    "start_time": "2022-03-23T21:26:29.631Z"
   },
   {
    "duration": 8,
    "start_time": "2022-03-23T21:26:29.643Z"
   },
   {
    "duration": 6,
    "start_time": "2022-03-23T21:26:29.652Z"
   },
   {
    "duration": 71,
    "start_time": "2022-03-23T21:26:29.659Z"
   },
   {
    "duration": 3,
    "start_time": "2022-03-23T21:26:29.732Z"
   },
   {
    "duration": 4,
    "start_time": "2022-03-23T21:26:29.737Z"
   },
   {
    "duration": 7,
    "start_time": "2022-03-23T21:26:29.742Z"
   },
   {
    "duration": 234,
    "start_time": "2022-03-23T21:26:29.750Z"
   },
   {
    "duration": 178,
    "start_time": "2022-03-23T21:26:29.985Z"
   },
   {
    "duration": 215,
    "start_time": "2022-03-23T21:26:30.165Z"
   },
   {
    "duration": 177,
    "start_time": "2022-03-23T21:26:30.381Z"
   },
   {
    "duration": 205,
    "start_time": "2022-03-23T21:26:30.560Z"
   },
   {
    "duration": 245,
    "start_time": "2022-03-23T21:26:30.767Z"
   },
   {
    "duration": 6,
    "start_time": "2022-03-23T21:26:31.014Z"
   },
   {
    "duration": 20,
    "start_time": "2022-03-23T21:26:31.021Z"
   },
   {
    "duration": 16,
    "start_time": "2022-03-23T21:26:31.042Z"
   },
   {
    "duration": 63,
    "start_time": "2022-03-23T21:26:31.059Z"
   },
   {
    "duration": 4,
    "start_time": "2022-03-23T21:26:31.124Z"
   },
   {
    "duration": 8,
    "start_time": "2022-03-23T21:26:31.130Z"
   },
   {
    "duration": 18,
    "start_time": "2022-03-23T21:26:31.139Z"
   },
   {
    "duration": 226,
    "start_time": "2022-03-23T21:26:31.158Z"
   },
   {
    "duration": 184,
    "start_time": "2022-03-23T21:26:31.385Z"
   },
   {
    "duration": 183,
    "start_time": "2022-03-23T21:26:31.571Z"
   },
   {
    "duration": 187,
    "start_time": "2022-03-23T21:26:31.756Z"
   },
   {
    "duration": 210,
    "start_time": "2022-03-23T21:26:31.945Z"
   },
   {
    "duration": 185,
    "start_time": "2022-03-23T21:26:32.156Z"
   },
   {
    "duration": 2,
    "start_time": "2022-03-23T21:26:32.343Z"
   },
   {
    "duration": 108,
    "start_time": "2022-03-23T21:26:32.347Z"
   },
   {
    "duration": 12,
    "start_time": "2022-03-23T21:26:51.657Z"
   },
   {
    "duration": 196,
    "start_time": "2022-03-23T21:28:18.983Z"
   },
   {
    "duration": 214,
    "start_time": "2022-03-23T21:28:26.456Z"
   },
   {
    "duration": 296,
    "start_time": "2022-03-23T21:29:05.473Z"
   },
   {
    "duration": 205,
    "start_time": "2022-03-23T21:29:54.387Z"
   },
   {
    "duration": 218,
    "start_time": "2022-03-23T21:30:00.477Z"
   },
   {
    "duration": 213,
    "start_time": "2022-03-23T21:33:15.494Z"
   },
   {
    "duration": 217,
    "start_time": "2022-03-23T21:34:53.621Z"
   },
   {
    "duration": 301,
    "start_time": "2022-03-23T21:35:03.202Z"
   },
   {
    "duration": 227,
    "start_time": "2022-03-23T21:35:08.748Z"
   },
   {
    "duration": 178,
    "start_time": "2022-03-23T21:35:13.792Z"
   },
   {
    "duration": 155,
    "start_time": "2022-03-23T21:35:19.324Z"
   },
   {
    "duration": 163,
    "start_time": "2022-03-23T21:35:26.253Z"
   },
   {
    "duration": 175,
    "start_time": "2022-03-23T21:35:31.230Z"
   },
   {
    "duration": 171,
    "start_time": "2022-03-23T21:35:49.245Z"
   },
   {
    "duration": 149,
    "start_time": "2022-03-23T21:35:57.381Z"
   },
   {
    "duration": 169,
    "start_time": "2022-03-23T21:36:04.982Z"
   },
   {
    "duration": 157,
    "start_time": "2022-03-23T21:36:23.014Z"
   },
   {
    "duration": 3,
    "start_time": "2022-03-23T21:44:35.615Z"
   },
   {
    "duration": 1112,
    "start_time": "2022-03-23T21:44:42.416Z"
   },
   {
    "duration": 149,
    "start_time": "2022-03-23T21:44:43.530Z"
   },
   {
    "duration": 10,
    "start_time": "2022-03-23T21:44:43.680Z"
   },
   {
    "duration": 137,
    "start_time": "2022-03-23T21:44:43.692Z"
   },
   {
    "duration": 97,
    "start_time": "2022-03-23T21:44:43.830Z"
   },
   {
    "duration": 8,
    "start_time": "2022-03-23T21:44:43.929Z"
   },
   {
    "duration": 97,
    "start_time": "2022-03-23T21:44:43.939Z"
   },
   {
    "duration": 59,
    "start_time": "2022-03-23T21:44:44.037Z"
   },
   {
    "duration": 19,
    "start_time": "2022-03-23T21:44:44.097Z"
   },
   {
    "duration": 21,
    "start_time": "2022-03-23T21:44:44.118Z"
   },
   {
    "duration": 116,
    "start_time": "2022-03-23T21:44:44.141Z"
   },
   {
    "duration": 6,
    "start_time": "2022-03-23T21:44:44.259Z"
   },
   {
    "duration": 11,
    "start_time": "2022-03-23T21:44:44.267Z"
   },
   {
    "duration": 8,
    "start_time": "2022-03-23T21:44:44.280Z"
   },
   {
    "duration": 11,
    "start_time": "2022-03-23T21:44:44.308Z"
   },
   {
    "duration": 9,
    "start_time": "2022-03-23T21:44:44.320Z"
   },
   {
    "duration": 13,
    "start_time": "2022-03-23T21:44:44.331Z"
   },
   {
    "duration": 6,
    "start_time": "2022-03-23T21:44:44.346Z"
   },
   {
    "duration": 7,
    "start_time": "2022-03-23T21:44:44.354Z"
   },
   {
    "duration": 48,
    "start_time": "2022-03-23T21:44:44.362Z"
   },
   {
    "duration": 3,
    "start_time": "2022-03-23T21:44:44.412Z"
   },
   {
    "duration": 16,
    "start_time": "2022-03-23T21:44:44.417Z"
   },
   {
    "duration": 14,
    "start_time": "2022-03-23T21:44:44.435Z"
   },
   {
    "duration": 6,
    "start_time": "2022-03-23T21:44:44.450Z"
   },
   {
    "duration": 7,
    "start_time": "2022-03-23T21:44:44.458Z"
   },
   {
    "duration": 44,
    "start_time": "2022-03-23T21:44:44.467Z"
   },
   {
    "duration": 4,
    "start_time": "2022-03-23T21:44:44.513Z"
   },
   {
    "duration": 7,
    "start_time": "2022-03-23T21:44:44.521Z"
   },
   {
    "duration": 4,
    "start_time": "2022-03-23T21:44:44.529Z"
   },
   {
    "duration": 517,
    "start_time": "2022-03-23T21:44:44.534Z"
   },
   {
    "duration": 12,
    "start_time": "2022-03-23T21:44:45.052Z"
   },
   {
    "duration": 7,
    "start_time": "2022-03-23T21:44:45.066Z"
   },
   {
    "duration": 20,
    "start_time": "2022-03-23T21:44:45.074Z"
   },
   {
    "duration": 15,
    "start_time": "2022-03-23T21:44:45.096Z"
   },
   {
    "duration": 15,
    "start_time": "2022-03-23T21:44:45.113Z"
   },
   {
    "duration": 6,
    "start_time": "2022-03-23T21:44:45.129Z"
   },
   {
    "duration": 15,
    "start_time": "2022-03-23T21:44:45.137Z"
   },
   {
    "duration": 5,
    "start_time": "2022-03-23T21:44:45.154Z"
   },
   {
    "duration": 117,
    "start_time": "2022-03-23T21:44:45.161Z"
   },
   {
    "duration": 13,
    "start_time": "2022-03-23T21:44:45.280Z"
   },
   {
    "duration": 24,
    "start_time": "2022-03-23T21:44:45.296Z"
   },
   {
    "duration": 8,
    "start_time": "2022-03-23T21:44:45.322Z"
   },
   {
    "duration": 7,
    "start_time": "2022-03-23T21:44:45.332Z"
   },
   {
    "duration": 7,
    "start_time": "2022-03-23T21:44:45.341Z"
   },
   {
    "duration": 5,
    "start_time": "2022-03-23T21:44:45.350Z"
   },
   {
    "duration": 78,
    "start_time": "2022-03-23T21:44:45.357Z"
   },
   {
    "duration": 5,
    "start_time": "2022-03-23T21:44:45.437Z"
   },
   {
    "duration": 6,
    "start_time": "2022-03-23T21:44:45.443Z"
   },
   {
    "duration": 6,
    "start_time": "2022-03-23T21:44:45.451Z"
   },
   {
    "duration": 227,
    "start_time": "2022-03-23T21:44:45.459Z"
   },
   {
    "duration": 171,
    "start_time": "2022-03-23T21:44:45.688Z"
   },
   {
    "duration": 207,
    "start_time": "2022-03-23T21:44:45.860Z"
   },
   {
    "duration": 180,
    "start_time": "2022-03-23T21:44:46.069Z"
   },
   {
    "duration": 199,
    "start_time": "2022-03-23T21:44:46.251Z"
   },
   {
    "duration": 237,
    "start_time": "2022-03-23T21:44:46.451Z"
   },
   {
    "duration": 6,
    "start_time": "2022-03-23T21:44:46.690Z"
   },
   {
    "duration": 12,
    "start_time": "2022-03-23T21:44:46.698Z"
   },
   {
    "duration": 4,
    "start_time": "2022-03-23T21:44:46.711Z"
   },
   {
    "duration": 56,
    "start_time": "2022-03-23T21:44:46.716Z"
   },
   {
    "duration": 4,
    "start_time": "2022-03-23T21:44:46.773Z"
   },
   {
    "duration": 31,
    "start_time": "2022-03-23T21:44:46.778Z"
   },
   {
    "duration": 4,
    "start_time": "2022-03-23T21:44:46.811Z"
   },
   {
    "duration": 224,
    "start_time": "2022-03-23T21:44:46.817Z"
   },
   {
    "duration": 179,
    "start_time": "2022-03-23T21:44:47.043Z"
   },
   {
    "duration": 193,
    "start_time": "2022-03-23T21:44:47.224Z"
   },
   {
    "duration": 175,
    "start_time": "2022-03-23T21:44:47.418Z"
   },
   {
    "duration": 214,
    "start_time": "2022-03-23T21:44:47.595Z"
   },
   {
    "duration": 185,
    "start_time": "2022-03-23T21:44:47.811Z"
   },
   {
    "duration": 222,
    "start_time": "2022-03-23T21:44:47.998Z"
   },
   {
    "duration": 175,
    "start_time": "2022-03-23T21:44:48.222Z"
   },
   {
    "duration": 5,
    "start_time": "2022-03-23T21:58:53.796Z"
   },
   {
    "duration": 62,
    "start_time": "2022-03-23T22:03:21.724Z"
   },
   {
    "duration": 5,
    "start_time": "2022-03-23T22:05:40.229Z"
   },
   {
    "duration": 8,
    "start_time": "2022-03-23T22:10:38.155Z"
   },
   {
    "duration": 6,
    "start_time": "2022-03-23T22:11:11.240Z"
   },
   {
    "duration": 6,
    "start_time": "2022-03-23T22:11:29.230Z"
   },
   {
    "duration": 53,
    "start_time": "2022-03-24T09:56:18.950Z"
   },
   {
    "duration": 1476,
    "start_time": "2022-03-24T09:56:39.312Z"
   },
   {
    "duration": 171,
    "start_time": "2022-03-24T09:56:40.790Z"
   },
   {
    "duration": 8,
    "start_time": "2022-03-24T09:56:40.962Z"
   },
   {
    "duration": 138,
    "start_time": "2022-03-24T09:56:40.972Z"
   },
   {
    "duration": 84,
    "start_time": "2022-03-24T09:56:41.112Z"
   },
   {
    "duration": 10,
    "start_time": "2022-03-24T09:56:41.198Z"
   },
   {
    "duration": 110,
    "start_time": "2022-03-24T09:56:41.209Z"
   },
   {
    "duration": 60,
    "start_time": "2022-03-24T09:56:41.321Z"
   },
   {
    "duration": 24,
    "start_time": "2022-03-24T09:56:41.383Z"
   },
   {
    "duration": 33,
    "start_time": "2022-03-24T09:56:41.410Z"
   },
   {
    "duration": 102,
    "start_time": "2022-03-24T09:56:41.445Z"
   },
   {
    "duration": 6,
    "start_time": "2022-03-24T09:56:41.549Z"
   },
   {
    "duration": 23,
    "start_time": "2022-03-24T09:56:41.556Z"
   },
   {
    "duration": 17,
    "start_time": "2022-03-24T09:56:41.581Z"
   },
   {
    "duration": 14,
    "start_time": "2022-03-24T09:56:41.599Z"
   },
   {
    "duration": 9,
    "start_time": "2022-03-24T09:56:41.614Z"
   },
   {
    "duration": 13,
    "start_time": "2022-03-24T09:56:41.624Z"
   },
   {
    "duration": 4,
    "start_time": "2022-03-24T09:56:41.639Z"
   },
   {
    "duration": 8,
    "start_time": "2022-03-24T09:56:41.644Z"
   },
   {
    "duration": 39,
    "start_time": "2022-03-24T09:56:41.653Z"
   },
   {
    "duration": 8,
    "start_time": "2022-03-24T09:56:41.693Z"
   },
   {
    "duration": 24,
    "start_time": "2022-03-24T09:56:41.702Z"
   },
   {
    "duration": 15,
    "start_time": "2022-03-24T09:56:41.727Z"
   },
   {
    "duration": 7,
    "start_time": "2022-03-24T09:56:41.743Z"
   },
   {
    "duration": 6,
    "start_time": "2022-03-24T09:56:41.752Z"
   },
   {
    "duration": 39,
    "start_time": "2022-03-24T09:56:41.760Z"
   },
   {
    "duration": 5,
    "start_time": "2022-03-24T09:56:41.801Z"
   },
   {
    "duration": 6,
    "start_time": "2022-03-24T09:56:41.811Z"
   },
   {
    "duration": 5,
    "start_time": "2022-03-24T09:56:41.819Z"
   },
   {
    "duration": 596,
    "start_time": "2022-03-24T09:56:41.825Z"
   },
   {
    "duration": 13,
    "start_time": "2022-03-24T09:56:42.423Z"
   },
   {
    "duration": 9,
    "start_time": "2022-03-24T09:56:42.438Z"
   },
   {
    "duration": 10,
    "start_time": "2022-03-24T09:56:42.449Z"
   },
   {
    "duration": 28,
    "start_time": "2022-03-24T09:56:42.461Z"
   },
   {
    "duration": 26,
    "start_time": "2022-03-24T09:56:42.490Z"
   },
   {
    "duration": 7,
    "start_time": "2022-03-24T09:56:42.517Z"
   },
   {
    "duration": 25,
    "start_time": "2022-03-24T09:56:42.525Z"
   },
   {
    "duration": 25,
    "start_time": "2022-03-24T09:56:42.552Z"
   },
   {
    "duration": 128,
    "start_time": "2022-03-24T09:56:42.579Z"
   },
   {
    "duration": 13,
    "start_time": "2022-03-24T09:56:42.709Z"
   },
   {
    "duration": 39,
    "start_time": "2022-03-24T09:56:42.724Z"
   },
   {
    "duration": 14,
    "start_time": "2022-03-24T09:56:42.765Z"
   },
   {
    "duration": 9,
    "start_time": "2022-03-24T09:56:42.789Z"
   },
   {
    "duration": 7,
    "start_time": "2022-03-24T09:56:42.800Z"
   },
   {
    "duration": 21,
    "start_time": "2022-03-24T09:56:42.809Z"
   },
   {
    "duration": 50,
    "start_time": "2022-03-24T09:56:42.832Z"
   },
   {
    "duration": 12,
    "start_time": "2022-03-24T09:56:42.884Z"
   },
   {
    "duration": 7,
    "start_time": "2022-03-24T09:56:42.898Z"
   },
   {
    "duration": 10,
    "start_time": "2022-03-24T09:56:42.907Z"
   },
   {
    "duration": 192,
    "start_time": "2022-03-24T09:56:42.918Z"
   },
   {
    "duration": 152,
    "start_time": "2022-03-24T09:56:43.112Z"
   },
   {
    "duration": 201,
    "start_time": "2022-03-24T09:56:43.265Z"
   },
   {
    "duration": 164,
    "start_time": "2022-03-24T09:56:43.468Z"
   },
   {
    "duration": 184,
    "start_time": "2022-03-24T09:56:43.634Z"
   },
   {
    "duration": 208,
    "start_time": "2022-03-24T09:56:43.820Z"
   },
   {
    "duration": 6,
    "start_time": "2022-03-24T09:56:44.030Z"
   },
   {
    "duration": 9,
    "start_time": "2022-03-24T09:56:44.037Z"
   },
   {
    "duration": 8,
    "start_time": "2022-03-24T09:56:44.047Z"
   },
   {
    "duration": 65,
    "start_time": "2022-03-24T09:56:44.057Z"
   },
   {
    "duration": 3,
    "start_time": "2022-03-24T09:56:44.124Z"
   },
   {
    "duration": 5,
    "start_time": "2022-03-24T09:56:44.129Z"
   },
   {
    "duration": 4,
    "start_time": "2022-03-24T09:56:44.136Z"
   },
   {
    "duration": 228,
    "start_time": "2022-03-24T09:56:44.142Z"
   },
   {
    "duration": 166,
    "start_time": "2022-03-24T09:56:44.372Z"
   },
   {
    "duration": 165,
    "start_time": "2022-03-24T09:56:44.539Z"
   },
   {
    "duration": 164,
    "start_time": "2022-03-24T09:56:44.705Z"
   },
   {
    "duration": 179,
    "start_time": "2022-03-24T09:56:44.871Z"
   },
   {
    "duration": 167,
    "start_time": "2022-03-24T09:56:45.051Z"
   },
   {
    "duration": 199,
    "start_time": "2022-03-24T09:56:45.220Z"
   },
   {
    "duration": 170,
    "start_time": "2022-03-24T09:56:45.421Z"
   },
   {
    "duration": 5,
    "start_time": "2022-03-24T09:56:45.593Z"
   },
   {
    "duration": 12,
    "start_time": "2022-03-24T09:56:45.600Z"
   },
   {
    "duration": 8,
    "start_time": "2022-03-24T09:56:45.613Z"
   },
   {
    "duration": 8,
    "start_time": "2022-03-24T09:56:45.622Z"
   },
   {
    "duration": 6,
    "start_time": "2022-03-24T09:56:45.631Z"
   },
   {
    "duration": 4,
    "start_time": "2022-03-24T10:02:07.575Z"
   },
   {
    "duration": 4,
    "start_time": "2022-03-24T10:02:21.855Z"
   },
   {
    "duration": 4,
    "start_time": "2022-03-24T10:03:05.542Z"
   },
   {
    "duration": 4,
    "start_time": "2022-03-24T10:04:02.938Z"
   },
   {
    "duration": 5,
    "start_time": "2022-03-24T10:04:35.713Z"
   },
   {
    "duration": 271,
    "start_time": "2022-03-24T10:09:23.540Z"
   },
   {
    "duration": 4,
    "start_time": "2022-03-24T10:11:43.637Z"
   },
   {
    "duration": 193,
    "start_time": "2022-03-24T10:12:57.596Z"
   },
   {
    "duration": 4,
    "start_time": "2022-03-24T10:13:59.430Z"
   },
   {
    "duration": 1403,
    "start_time": "2022-03-24T10:14:37.900Z"
   },
   {
    "duration": 248,
    "start_time": "2022-03-24T10:14:39.305Z"
   },
   {
    "duration": 12,
    "start_time": "2022-03-24T10:14:39.555Z"
   },
   {
    "duration": 209,
    "start_time": "2022-03-24T10:14:39.580Z"
   },
   {
    "duration": 90,
    "start_time": "2022-03-24T10:14:39.791Z"
   },
   {
    "duration": 8,
    "start_time": "2022-03-24T10:14:39.883Z"
   },
   {
    "duration": 95,
    "start_time": "2022-03-24T10:14:39.893Z"
   },
   {
    "duration": 58,
    "start_time": "2022-03-24T10:14:39.990Z"
   },
   {
    "duration": 20,
    "start_time": "2022-03-24T10:14:40.049Z"
   },
   {
    "duration": 72,
    "start_time": "2022-03-24T10:14:40.071Z"
   },
   {
    "duration": 100,
    "start_time": "2022-03-24T10:14:40.144Z"
   },
   {
    "duration": 7,
    "start_time": "2022-03-24T10:14:40.246Z"
   },
   {
    "duration": 17,
    "start_time": "2022-03-24T10:14:40.254Z"
   },
   {
    "duration": 17,
    "start_time": "2022-03-24T10:14:40.272Z"
   },
   {
    "duration": 12,
    "start_time": "2022-03-24T10:14:40.290Z"
   },
   {
    "duration": 8,
    "start_time": "2022-03-24T10:14:40.304Z"
   },
   {
    "duration": 11,
    "start_time": "2022-03-24T10:14:40.314Z"
   },
   {
    "duration": 6,
    "start_time": "2022-03-24T10:14:40.327Z"
   },
   {
    "duration": 9,
    "start_time": "2022-03-24T10:14:40.334Z"
   },
   {
    "duration": 36,
    "start_time": "2022-03-24T10:14:40.345Z"
   },
   {
    "duration": 4,
    "start_time": "2022-03-24T10:14:40.382Z"
   },
   {
    "duration": 18,
    "start_time": "2022-03-24T10:14:40.387Z"
   },
   {
    "duration": 16,
    "start_time": "2022-03-24T10:14:40.407Z"
   },
   {
    "duration": 8,
    "start_time": "2022-03-24T10:14:40.424Z"
   },
   {
    "duration": 11,
    "start_time": "2022-03-24T10:14:40.433Z"
   },
   {
    "duration": 45,
    "start_time": "2022-03-24T10:14:40.445Z"
   },
   {
    "duration": 5,
    "start_time": "2022-03-24T10:14:40.492Z"
   },
   {
    "duration": 8,
    "start_time": "2022-03-24T10:14:40.501Z"
   },
   {
    "duration": 9,
    "start_time": "2022-03-24T10:14:40.510Z"
   },
   {
    "duration": 513,
    "start_time": "2022-03-24T10:14:40.521Z"
   },
   {
    "duration": 11,
    "start_time": "2022-03-24T10:14:41.035Z"
   },
   {
    "duration": 10,
    "start_time": "2022-03-24T10:14:41.047Z"
   },
   {
    "duration": 22,
    "start_time": "2022-03-24T10:14:41.059Z"
   },
   {
    "duration": 5,
    "start_time": "2022-03-24T10:14:41.083Z"
   },
   {
    "duration": 14,
    "start_time": "2022-03-24T10:14:41.090Z"
   },
   {
    "duration": 7,
    "start_time": "2022-03-24T10:14:41.106Z"
   },
   {
    "duration": 13,
    "start_time": "2022-03-24T10:14:41.114Z"
   },
   {
    "duration": 5,
    "start_time": "2022-03-24T10:14:41.129Z"
   },
   {
    "duration": 120,
    "start_time": "2022-03-24T10:14:41.136Z"
   },
   {
    "duration": 15,
    "start_time": "2022-03-24T10:14:41.257Z"
   },
   {
    "duration": 13,
    "start_time": "2022-03-24T10:14:41.281Z"
   },
   {
    "duration": 7,
    "start_time": "2022-03-24T10:14:41.296Z"
   },
   {
    "duration": 6,
    "start_time": "2022-03-24T10:14:41.305Z"
   },
   {
    "duration": 6,
    "start_time": "2022-03-24T10:14:41.313Z"
   },
   {
    "duration": 7,
    "start_time": "2022-03-24T10:14:41.321Z"
   },
   {
    "duration": 75,
    "start_time": "2022-03-24T10:14:41.329Z"
   },
   {
    "duration": 5,
    "start_time": "2022-03-24T10:14:41.406Z"
   },
   {
    "duration": 6,
    "start_time": "2022-03-24T10:14:41.413Z"
   },
   {
    "duration": 6,
    "start_time": "2022-03-24T10:14:41.421Z"
   },
   {
    "duration": 207,
    "start_time": "2022-03-24T10:14:41.429Z"
   },
   {
    "duration": 246,
    "start_time": "2022-03-24T10:14:41.638Z"
   },
   {
    "duration": 199,
    "start_time": "2022-03-24T10:14:41.885Z"
   },
   {
    "duration": 165,
    "start_time": "2022-03-24T10:14:42.086Z"
   },
   {
    "duration": 183,
    "start_time": "2022-03-24T10:14:42.253Z"
   },
   {
    "duration": 235,
    "start_time": "2022-03-24T10:14:42.437Z"
   },
   {
    "duration": 14,
    "start_time": "2022-03-24T10:14:42.674Z"
   },
   {
    "duration": 31,
    "start_time": "2022-03-24T10:14:42.690Z"
   },
   {
    "duration": 33,
    "start_time": "2022-03-24T10:14:42.723Z"
   },
   {
    "duration": 84,
    "start_time": "2022-03-24T10:14:42.758Z"
   },
   {
    "duration": 8,
    "start_time": "2022-03-24T10:14:42.843Z"
   },
   {
    "duration": 30,
    "start_time": "2022-03-24T10:14:42.853Z"
   },
   {
    "duration": 37,
    "start_time": "2022-03-24T10:14:42.884Z"
   },
   {
    "duration": 233,
    "start_time": "2022-03-24T10:14:42.922Z"
   },
   {
    "duration": 170,
    "start_time": "2022-03-24T10:14:43.156Z"
   },
   {
    "duration": 180,
    "start_time": "2022-03-24T10:14:43.328Z"
   },
   {
    "duration": 168,
    "start_time": "2022-03-24T10:14:43.509Z"
   },
   {
    "duration": 186,
    "start_time": "2022-03-24T10:14:43.684Z"
   },
   {
    "duration": 174,
    "start_time": "2022-03-24T10:14:43.872Z"
   },
   {
    "duration": 216,
    "start_time": "2022-03-24T10:14:44.048Z"
   },
   {
    "duration": 5,
    "start_time": "2022-03-24T10:14:44.266Z"
   },
   {
    "duration": 219,
    "start_time": "2022-03-24T10:14:44.282Z"
   },
   {
    "duration": 4,
    "start_time": "2022-03-24T10:14:44.503Z"
   },
   {
    "duration": 12,
    "start_time": "2022-03-24T10:14:44.509Z"
   },
   {
    "duration": 8,
    "start_time": "2022-03-24T10:14:44.523Z"
   },
   {
    "duration": 5,
    "start_time": "2022-03-24T10:14:44.533Z"
   },
   {
    "duration": 10,
    "start_time": "2022-03-24T10:14:44.540Z"
   },
   {
    "duration": 323,
    "start_time": "2022-03-24T10:14:44.552Z"
   },
   {
    "duration": 4,
    "start_time": "2022-03-24T10:14:44.877Z"
   },
   {
    "duration": 204,
    "start_time": "2022-03-24T10:14:44.883Z"
   },
   {
    "duration": 4,
    "start_time": "2022-03-24T10:14:45.089Z"
   },
   {
    "duration": 15,
    "start_time": "2022-03-24T10:14:45.095Z"
   },
   {
    "duration": 1385,
    "start_time": "2022-03-24T22:05:34.828Z"
   },
   {
    "duration": 161,
    "start_time": "2022-03-24T22:05:36.215Z"
   },
   {
    "duration": 11,
    "start_time": "2022-03-24T22:05:36.378Z"
   },
   {
    "duration": 150,
    "start_time": "2022-03-24T22:05:36.391Z"
   },
   {
    "duration": 98,
    "start_time": "2022-03-24T22:05:36.543Z"
   },
   {
    "duration": 7,
    "start_time": "2022-03-24T22:05:36.643Z"
   },
   {
    "duration": 105,
    "start_time": "2022-03-24T22:05:36.651Z"
   },
   {
    "duration": 59,
    "start_time": "2022-03-24T22:05:36.758Z"
   },
   {
    "duration": 20,
    "start_time": "2022-03-24T22:05:36.818Z"
   },
   {
    "duration": 28,
    "start_time": "2022-03-24T22:05:36.840Z"
   },
   {
    "duration": 107,
    "start_time": "2022-03-24T22:05:36.870Z"
   },
   {
    "duration": 6,
    "start_time": "2022-03-24T22:05:36.978Z"
   },
   {
    "duration": 13,
    "start_time": "2022-03-24T22:05:36.986Z"
   },
   {
    "duration": 22,
    "start_time": "2022-03-24T22:05:37.001Z"
   },
   {
    "duration": 17,
    "start_time": "2022-03-24T22:05:37.024Z"
   },
   {
    "duration": 24,
    "start_time": "2022-03-24T22:05:37.042Z"
   },
   {
    "duration": 14,
    "start_time": "2022-03-24T22:05:37.068Z"
   },
   {
    "duration": 5,
    "start_time": "2022-03-24T22:05:37.084Z"
   },
   {
    "duration": 8,
    "start_time": "2022-03-24T22:05:37.091Z"
   },
   {
    "duration": 32,
    "start_time": "2022-03-24T22:05:37.101Z"
   },
   {
    "duration": 4,
    "start_time": "2022-03-24T22:05:37.134Z"
   },
   {
    "duration": 21,
    "start_time": "2022-03-24T22:05:37.140Z"
   },
   {
    "duration": 22,
    "start_time": "2022-03-24T22:05:37.163Z"
   },
   {
    "duration": 9,
    "start_time": "2022-03-24T22:05:37.187Z"
   },
   {
    "duration": 12,
    "start_time": "2022-03-24T22:05:37.198Z"
   },
   {
    "duration": 34,
    "start_time": "2022-03-24T22:05:37.212Z"
   },
   {
    "duration": 6,
    "start_time": "2022-03-24T22:05:37.247Z"
   },
   {
    "duration": 6,
    "start_time": "2022-03-24T22:05:37.257Z"
   },
   {
    "duration": 14,
    "start_time": "2022-03-24T22:05:37.265Z"
   },
   {
    "duration": 585,
    "start_time": "2022-03-24T22:05:37.281Z"
   },
   {
    "duration": 12,
    "start_time": "2022-03-24T22:05:37.868Z"
   },
   {
    "duration": 9,
    "start_time": "2022-03-24T22:05:37.882Z"
   },
   {
    "duration": 16,
    "start_time": "2022-03-24T22:05:37.892Z"
   },
   {
    "duration": 11,
    "start_time": "2022-03-24T22:05:37.910Z"
   },
   {
    "duration": 13,
    "start_time": "2022-03-24T22:05:37.934Z"
   },
   {
    "duration": 7,
    "start_time": "2022-03-24T22:05:37.948Z"
   },
   {
    "duration": 16,
    "start_time": "2022-03-24T22:05:37.957Z"
   },
   {
    "duration": 7,
    "start_time": "2022-03-24T22:05:37.974Z"
   },
   {
    "duration": 114,
    "start_time": "2022-03-24T22:05:37.982Z"
   },
   {
    "duration": 16,
    "start_time": "2022-03-24T22:05:38.097Z"
   },
   {
    "duration": 29,
    "start_time": "2022-03-24T22:05:38.114Z"
   },
   {
    "duration": 18,
    "start_time": "2022-03-24T22:05:38.145Z"
   },
   {
    "duration": 12,
    "start_time": "2022-03-24T22:05:38.165Z"
   },
   {
    "duration": 13,
    "start_time": "2022-03-24T22:05:38.179Z"
   },
   {
    "duration": 18,
    "start_time": "2022-03-24T22:05:38.194Z"
   },
   {
    "duration": 56,
    "start_time": "2022-03-24T22:05:38.214Z"
   },
   {
    "duration": 4,
    "start_time": "2022-03-24T22:05:38.271Z"
   },
   {
    "duration": 9,
    "start_time": "2022-03-24T22:05:38.276Z"
   },
   {
    "duration": 9,
    "start_time": "2022-03-24T22:05:38.287Z"
   },
   {
    "duration": 205,
    "start_time": "2022-03-24T22:05:38.297Z"
   },
   {
    "duration": 158,
    "start_time": "2022-03-24T22:05:38.503Z"
   },
   {
    "duration": 198,
    "start_time": "2022-03-24T22:05:38.663Z"
   },
   {
    "duration": 170,
    "start_time": "2022-03-24T22:05:38.863Z"
   },
   {
    "duration": 193,
    "start_time": "2022-03-24T22:05:39.035Z"
   },
   {
    "duration": 241,
    "start_time": "2022-03-24T22:05:39.230Z"
   },
   {
    "duration": 6,
    "start_time": "2022-03-24T22:05:39.473Z"
   },
   {
    "duration": 11,
    "start_time": "2022-03-24T22:05:39.481Z"
   },
   {
    "duration": 11,
    "start_time": "2022-03-24T22:05:39.493Z"
   },
   {
    "duration": 63,
    "start_time": "2022-03-24T22:05:39.505Z"
   },
   {
    "duration": 4,
    "start_time": "2022-03-24T22:05:39.571Z"
   },
   {
    "duration": 22,
    "start_time": "2022-03-24T22:05:39.577Z"
   },
   {
    "duration": 10,
    "start_time": "2022-03-24T22:05:39.601Z"
   },
   {
    "duration": 208,
    "start_time": "2022-03-24T22:05:39.613Z"
   },
   {
    "duration": 175,
    "start_time": "2022-03-24T22:05:39.823Z"
   },
   {
    "duration": 182,
    "start_time": "2022-03-24T22:05:39.999Z"
   },
   {
    "duration": 164,
    "start_time": "2022-03-24T22:05:40.183Z"
   },
   {
    "duration": 187,
    "start_time": "2022-03-24T22:05:40.349Z"
   },
   {
    "duration": 162,
    "start_time": "2022-03-24T22:05:40.538Z"
   },
   {
    "duration": 199,
    "start_time": "2022-03-24T22:05:40.701Z"
   },
   {
    "duration": 4,
    "start_time": "2022-03-24T22:05:40.901Z"
   },
   {
    "duration": 154,
    "start_time": "2022-03-24T22:05:40.906Z"
   },
   {
    "duration": 4,
    "start_time": "2022-03-24T22:05:41.061Z"
   },
   {
    "duration": 18,
    "start_time": "2022-03-24T22:05:41.066Z"
   },
   {
    "duration": 35,
    "start_time": "2022-03-24T22:05:41.086Z"
   },
   {
    "duration": 26,
    "start_time": "2022-03-24T22:05:41.122Z"
   },
   {
    "duration": 27,
    "start_time": "2022-03-24T22:05:41.149Z"
   },
   {
    "duration": 290,
    "start_time": "2022-03-24T22:05:41.178Z"
   },
   {
    "duration": 4,
    "start_time": "2022-03-24T22:05:41.470Z"
   },
   {
    "duration": 205,
    "start_time": "2022-03-24T22:05:41.475Z"
   },
   {
    "duration": 3,
    "start_time": "2022-03-24T22:05:41.682Z"
   },
   {
    "duration": 22,
    "start_time": "2022-03-24T22:05:41.686Z"
   },
   {
    "duration": 5,
    "start_time": "2022-03-24T22:20:49.746Z"
   },
   {
    "duration": 1231,
    "start_time": "2022-03-24T22:20:59.211Z"
   },
   {
    "duration": 161,
    "start_time": "2022-03-24T22:21:00.444Z"
   },
   {
    "duration": 9,
    "start_time": "2022-03-24T22:21:00.607Z"
   },
   {
    "duration": 149,
    "start_time": "2022-03-24T22:21:00.617Z"
   },
   {
    "duration": 108,
    "start_time": "2022-03-24T22:21:00.767Z"
   },
   {
    "duration": 9,
    "start_time": "2022-03-24T22:21:00.876Z"
   },
   {
    "duration": 101,
    "start_time": "2022-03-24T22:21:00.887Z"
   },
   {
    "duration": 70,
    "start_time": "2022-03-24T22:21:00.990Z"
   },
   {
    "duration": 14,
    "start_time": "2022-03-24T22:21:01.062Z"
   },
   {
    "duration": 26,
    "start_time": "2022-03-24T22:21:01.078Z"
   },
   {
    "duration": 109,
    "start_time": "2022-03-24T22:21:01.106Z"
   },
   {
    "duration": 15,
    "start_time": "2022-03-24T22:21:01.218Z"
   },
   {
    "duration": 12,
    "start_time": "2022-03-24T22:21:01.234Z"
   },
   {
    "duration": 9,
    "start_time": "2022-03-24T22:21:01.249Z"
   },
   {
    "duration": 13,
    "start_time": "2022-03-24T22:21:01.260Z"
   },
   {
    "duration": 14,
    "start_time": "2022-03-24T22:21:01.275Z"
   },
   {
    "duration": 13,
    "start_time": "2022-03-24T22:21:01.291Z"
   },
   {
    "duration": 5,
    "start_time": "2022-03-24T22:21:01.333Z"
   },
   {
    "duration": 12,
    "start_time": "2022-03-24T22:21:01.340Z"
   },
   {
    "duration": 23,
    "start_time": "2022-03-24T22:21:01.354Z"
   },
   {
    "duration": 5,
    "start_time": "2022-03-24T22:21:01.379Z"
   },
   {
    "duration": 30,
    "start_time": "2022-03-24T22:21:01.385Z"
   },
   {
    "duration": 19,
    "start_time": "2022-03-24T22:21:01.417Z"
   },
   {
    "duration": 8,
    "start_time": "2022-03-24T22:21:01.438Z"
   },
   {
    "duration": 8,
    "start_time": "2022-03-24T22:21:01.448Z"
   },
   {
    "duration": 18,
    "start_time": "2022-03-24T22:21:01.458Z"
   },
   {
    "duration": 6,
    "start_time": "2022-03-24T22:21:01.478Z"
   },
   {
    "duration": 14,
    "start_time": "2022-03-24T22:21:01.488Z"
   },
   {
    "duration": 6,
    "start_time": "2022-03-24T22:21:01.532Z"
   },
   {
    "duration": 540,
    "start_time": "2022-03-24T22:21:01.540Z"
   },
   {
    "duration": 11,
    "start_time": "2022-03-24T22:21:02.082Z"
   },
   {
    "duration": 10,
    "start_time": "2022-03-24T22:21:02.095Z"
   },
   {
    "duration": 28,
    "start_time": "2022-03-24T22:21:02.107Z"
   },
   {
    "duration": 5,
    "start_time": "2022-03-24T22:21:02.137Z"
   },
   {
    "duration": 16,
    "start_time": "2022-03-24T22:21:02.143Z"
   },
   {
    "duration": 9,
    "start_time": "2022-03-24T22:21:02.161Z"
   },
   {
    "duration": 14,
    "start_time": "2022-03-24T22:21:02.171Z"
   },
   {
    "duration": 7,
    "start_time": "2022-03-24T22:21:02.186Z"
   },
   {
    "duration": 114,
    "start_time": "2022-03-24T22:21:02.194Z"
   },
   {
    "duration": 14,
    "start_time": "2022-03-24T22:21:02.309Z"
   },
   {
    "duration": 13,
    "start_time": "2022-03-24T22:21:02.332Z"
   },
   {
    "duration": 15,
    "start_time": "2022-03-24T22:21:02.347Z"
   },
   {
    "duration": 9,
    "start_time": "2022-03-24T22:21:02.364Z"
   },
   {
    "duration": 12,
    "start_time": "2022-03-24T22:21:02.374Z"
   },
   {
    "duration": 5,
    "start_time": "2022-03-24T22:21:02.388Z"
   },
   {
    "duration": 61,
    "start_time": "2022-03-24T22:21:02.395Z"
   },
   {
    "duration": 4,
    "start_time": "2022-03-24T22:21:02.457Z"
   },
   {
    "duration": 7,
    "start_time": "2022-03-24T22:21:02.463Z"
   },
   {
    "duration": 7,
    "start_time": "2022-03-24T22:21:02.471Z"
   },
   {
    "duration": 209,
    "start_time": "2022-03-24T22:21:02.480Z"
   },
   {
    "duration": 166,
    "start_time": "2022-03-24T22:21:02.691Z"
   },
   {
    "duration": 192,
    "start_time": "2022-03-24T22:21:02.859Z"
   },
   {
    "duration": 170,
    "start_time": "2022-03-24T22:21:03.053Z"
   },
   {
    "duration": 180,
    "start_time": "2022-03-24T22:21:03.225Z"
   },
   {
    "duration": 232,
    "start_time": "2022-03-24T22:21:03.406Z"
   },
   {
    "duration": 6,
    "start_time": "2022-03-24T22:21:03.640Z"
   },
   {
    "duration": 27,
    "start_time": "2022-03-24T22:21:03.648Z"
   },
   {
    "duration": 14,
    "start_time": "2022-03-24T22:21:03.676Z"
   },
   {
    "duration": 57,
    "start_time": "2022-03-24T22:21:03.692Z"
   },
   {
    "duration": 4,
    "start_time": "2022-03-24T22:21:03.751Z"
   },
   {
    "duration": 19,
    "start_time": "2022-03-24T22:21:03.757Z"
   },
   {
    "duration": 18,
    "start_time": "2022-03-24T22:21:03.778Z"
   },
   {
    "duration": 193,
    "start_time": "2022-03-24T22:21:03.798Z"
   },
   {
    "duration": 171,
    "start_time": "2022-03-24T22:21:03.993Z"
   },
   {
    "duration": 169,
    "start_time": "2022-03-24T22:21:04.166Z"
   },
   {
    "duration": 168,
    "start_time": "2022-03-24T22:21:04.337Z"
   },
   {
    "duration": 184,
    "start_time": "2022-03-24T22:21:04.507Z"
   },
   {
    "duration": 169,
    "start_time": "2022-03-24T22:21:04.692Z"
   },
   {
    "duration": 215,
    "start_time": "2022-03-24T22:21:04.863Z"
   },
   {
    "duration": 4,
    "start_time": "2022-03-24T22:21:05.080Z"
   },
   {
    "duration": 170,
    "start_time": "2022-03-24T22:21:05.086Z"
   },
   {
    "duration": 4,
    "start_time": "2022-03-24T22:21:05.257Z"
   },
   {
    "duration": 7,
    "start_time": "2022-03-24T22:21:05.262Z"
   },
   {
    "duration": 8,
    "start_time": "2022-03-24T22:21:05.271Z"
   },
   {
    "duration": 7,
    "start_time": "2022-03-24T22:21:05.281Z"
   },
   {
    "duration": 7,
    "start_time": "2022-03-24T22:21:05.290Z"
   },
   {
    "duration": 326,
    "start_time": "2022-03-24T22:21:05.299Z"
   },
   {
    "duration": 10,
    "start_time": "2022-03-24T22:21:05.626Z"
   },
   {
    "duration": 203,
    "start_time": "2022-03-24T22:21:05.637Z"
   },
   {
    "duration": 4,
    "start_time": "2022-03-24T22:21:05.842Z"
   },
   {
    "duration": 9,
    "start_time": "2022-03-24T22:21:05.847Z"
   },
   {
    "duration": 1193,
    "start_time": "2022-03-24T22:26:38.878Z"
   },
   {
    "duration": 160,
    "start_time": "2022-03-24T22:26:40.074Z"
   },
   {
    "duration": 10,
    "start_time": "2022-03-24T22:26:40.236Z"
   },
   {
    "duration": 180,
    "start_time": "2022-03-24T22:26:40.249Z"
   },
   {
    "duration": 91,
    "start_time": "2022-03-24T22:26:40.433Z"
   },
   {
    "duration": 8,
    "start_time": "2022-03-24T22:26:40.532Z"
   },
   {
    "duration": 101,
    "start_time": "2022-03-24T22:26:40.543Z"
   },
   {
    "duration": 64,
    "start_time": "2022-03-24T22:26:40.646Z"
   },
   {
    "duration": 27,
    "start_time": "2022-03-24T22:26:40.712Z"
   },
   {
    "duration": 27,
    "start_time": "2022-03-24T22:26:40.742Z"
   },
   {
    "duration": 116,
    "start_time": "2022-03-24T22:26:40.771Z"
   },
   {
    "duration": 8,
    "start_time": "2022-03-24T22:26:40.889Z"
   },
   {
    "duration": 12,
    "start_time": "2022-03-24T22:26:40.899Z"
   },
   {
    "duration": 25,
    "start_time": "2022-03-24T22:26:40.913Z"
   },
   {
    "duration": 13,
    "start_time": "2022-03-24T22:26:40.940Z"
   },
   {
    "duration": 9,
    "start_time": "2022-03-24T22:26:40.955Z"
   },
   {
    "duration": 14,
    "start_time": "2022-03-24T22:26:40.966Z"
   },
   {
    "duration": 10,
    "start_time": "2022-03-24T22:26:40.982Z"
   },
   {
    "duration": 10,
    "start_time": "2022-03-24T22:26:40.994Z"
   },
   {
    "duration": 43,
    "start_time": "2022-03-24T22:26:41.006Z"
   },
   {
    "duration": 7,
    "start_time": "2022-03-24T22:26:41.051Z"
   },
   {
    "duration": 28,
    "start_time": "2022-03-24T22:26:41.060Z"
   },
   {
    "duration": 19,
    "start_time": "2022-03-24T22:26:41.090Z"
   },
   {
    "duration": 9,
    "start_time": "2022-03-24T22:26:41.111Z"
   },
   {
    "duration": 18,
    "start_time": "2022-03-24T22:26:41.122Z"
   },
   {
    "duration": 22,
    "start_time": "2022-03-24T22:26:41.141Z"
   },
   {
    "duration": 6,
    "start_time": "2022-03-24T22:26:41.164Z"
   },
   {
    "duration": 12,
    "start_time": "2022-03-24T22:26:41.175Z"
   },
   {
    "duration": 11,
    "start_time": "2022-03-24T22:26:41.189Z"
   },
   {
    "duration": 535,
    "start_time": "2022-03-24T22:26:41.201Z"
   },
   {
    "duration": 12,
    "start_time": "2022-03-24T22:26:41.738Z"
   },
   {
    "duration": 6,
    "start_time": "2022-03-24T22:26:41.752Z"
   },
   {
    "duration": 16,
    "start_time": "2022-03-24T22:26:41.760Z"
   },
   {
    "duration": 4,
    "start_time": "2022-03-24T22:26:41.778Z"
   },
   {
    "duration": 24,
    "start_time": "2022-03-24T22:26:41.784Z"
   },
   {
    "duration": 25,
    "start_time": "2022-03-24T22:26:41.809Z"
   },
   {
    "duration": 22,
    "start_time": "2022-03-24T22:26:41.835Z"
   },
   {
    "duration": 11,
    "start_time": "2022-03-24T22:26:41.859Z"
   },
   {
    "duration": 102,
    "start_time": "2022-03-24T22:26:41.872Z"
   },
   {
    "duration": 15,
    "start_time": "2022-03-24T22:26:41.975Z"
   },
   {
    "duration": 16,
    "start_time": "2022-03-24T22:26:41.992Z"
   },
   {
    "duration": 13,
    "start_time": "2022-03-24T22:26:42.010Z"
   },
   {
    "duration": 13,
    "start_time": "2022-03-24T22:26:42.025Z"
   },
   {
    "duration": 7,
    "start_time": "2022-03-24T22:26:42.039Z"
   },
   {
    "duration": 15,
    "start_time": "2022-03-24T22:26:42.048Z"
   },
   {
    "duration": 57,
    "start_time": "2022-03-24T22:26:42.065Z"
   },
   {
    "duration": 9,
    "start_time": "2022-03-24T22:26:42.124Z"
   },
   {
    "duration": 16,
    "start_time": "2022-03-24T22:26:42.134Z"
   },
   {
    "duration": 12,
    "start_time": "2022-03-24T22:26:42.152Z"
   },
   {
    "duration": 191,
    "start_time": "2022-03-24T22:26:42.166Z"
   },
   {
    "duration": 162,
    "start_time": "2022-03-24T22:26:42.359Z"
   },
   {
    "duration": 195,
    "start_time": "2022-03-24T22:26:42.523Z"
   },
   {
    "duration": 166,
    "start_time": "2022-03-24T22:26:42.719Z"
   },
   {
    "duration": 178,
    "start_time": "2022-03-24T22:26:42.887Z"
   },
   {
    "duration": 232,
    "start_time": "2022-03-24T22:26:43.067Z"
   },
   {
    "duration": 6,
    "start_time": "2022-03-24T22:26:43.301Z"
   },
   {
    "duration": 18,
    "start_time": "2022-03-24T22:26:43.309Z"
   },
   {
    "duration": 23,
    "start_time": "2022-03-24T22:26:43.329Z"
   },
   {
    "duration": 63,
    "start_time": "2022-03-24T22:26:43.354Z"
   },
   {
    "duration": 4,
    "start_time": "2022-03-24T22:26:43.418Z"
   },
   {
    "duration": 19,
    "start_time": "2022-03-24T22:26:43.424Z"
   },
   {
    "duration": 18,
    "start_time": "2022-03-24T22:26:43.445Z"
   },
   {
    "duration": 194,
    "start_time": "2022-03-24T22:26:43.464Z"
   },
   {
    "duration": 164,
    "start_time": "2022-03-24T22:26:43.660Z"
   },
   {
    "duration": 166,
    "start_time": "2022-03-24T22:26:43.826Z"
   },
   {
    "duration": 162,
    "start_time": "2022-03-24T22:26:43.994Z"
   },
   {
    "duration": 183,
    "start_time": "2022-03-24T22:26:44.158Z"
   },
   {
    "duration": 163,
    "start_time": "2022-03-24T22:26:44.343Z"
   },
   {
    "duration": 199,
    "start_time": "2022-03-24T22:26:44.508Z"
   },
   {
    "duration": 4,
    "start_time": "2022-03-24T22:26:44.709Z"
   },
   {
    "duration": 158,
    "start_time": "2022-03-24T22:26:44.714Z"
   },
   {
    "duration": 5,
    "start_time": "2022-03-24T22:26:44.873Z"
   },
   {
    "duration": 27,
    "start_time": "2022-03-24T22:26:44.879Z"
   },
   {
    "duration": 8,
    "start_time": "2022-03-24T22:26:44.908Z"
   },
   {
    "duration": 7,
    "start_time": "2022-03-24T22:26:44.918Z"
   },
   {
    "duration": 11,
    "start_time": "2022-03-24T22:26:44.927Z"
   },
   {
    "duration": 301,
    "start_time": "2022-03-24T22:26:44.939Z"
   },
   {
    "duration": 3,
    "start_time": "2022-03-24T22:26:45.242Z"
   },
   {
    "duration": 203,
    "start_time": "2022-03-24T22:26:45.247Z"
   },
   {
    "duration": 4,
    "start_time": "2022-03-24T22:26:45.452Z"
   },
   {
    "duration": 9,
    "start_time": "2022-03-24T22:26:45.458Z"
   },
   {
    "duration": 1208,
    "start_time": "2022-03-24T22:45:53.843Z"
   },
   {
    "duration": 158,
    "start_time": "2022-03-24T22:45:55.053Z"
   },
   {
    "duration": 10,
    "start_time": "2022-03-24T22:45:55.213Z"
   },
   {
    "duration": 135,
    "start_time": "2022-03-24T22:45:55.233Z"
   },
   {
    "duration": 96,
    "start_time": "2022-03-24T22:45:55.369Z"
   },
   {
    "duration": 7,
    "start_time": "2022-03-24T22:45:55.467Z"
   },
   {
    "duration": 98,
    "start_time": "2022-03-24T22:45:55.476Z"
   },
   {
    "duration": 69,
    "start_time": "2022-03-24T22:45:55.576Z"
   },
   {
    "duration": 13,
    "start_time": "2022-03-24T22:45:55.647Z"
   },
   {
    "duration": 22,
    "start_time": "2022-03-24T22:45:55.663Z"
   },
   {
    "duration": 109,
    "start_time": "2022-03-24T22:45:55.686Z"
   },
   {
    "duration": 6,
    "start_time": "2022-03-24T22:45:55.797Z"
   },
   {
    "duration": 14,
    "start_time": "2022-03-24T22:45:55.805Z"
   },
   {
    "duration": 8,
    "start_time": "2022-03-24T22:45:55.833Z"
   },
   {
    "duration": 12,
    "start_time": "2022-03-24T22:45:55.842Z"
   },
   {
    "duration": 11,
    "start_time": "2022-03-24T22:45:55.855Z"
   },
   {
    "duration": 12,
    "start_time": "2022-03-24T22:45:55.868Z"
   },
   {
    "duration": 9,
    "start_time": "2022-03-24T22:45:55.881Z"
   },
   {
    "duration": 13,
    "start_time": "2022-03-24T22:45:55.892Z"
   },
   {
    "duration": 35,
    "start_time": "2022-03-24T22:45:55.907Z"
   },
   {
    "duration": 2,
    "start_time": "2022-03-24T22:45:55.944Z"
   },
   {
    "duration": 19,
    "start_time": "2022-03-24T22:45:55.948Z"
   },
   {
    "duration": 16,
    "start_time": "2022-03-24T22:45:55.969Z"
   },
   {
    "duration": 8,
    "start_time": "2022-03-24T22:45:55.987Z"
   },
   {
    "duration": 8,
    "start_time": "2022-03-24T22:45:55.996Z"
   },
   {
    "duration": 42,
    "start_time": "2022-03-24T22:45:56.006Z"
   },
   {
    "duration": 6,
    "start_time": "2022-03-24T22:45:56.050Z"
   },
   {
    "duration": 8,
    "start_time": "2022-03-24T22:45:56.060Z"
   },
   {
    "duration": 8,
    "start_time": "2022-03-24T22:45:56.070Z"
   },
   {
    "duration": 568,
    "start_time": "2022-03-24T22:45:56.080Z"
   },
   {
    "duration": 12,
    "start_time": "2022-03-24T22:45:56.649Z"
   },
   {
    "duration": 7,
    "start_time": "2022-03-24T22:45:56.663Z"
   },
   {
    "duration": 11,
    "start_time": "2022-03-24T22:45:56.671Z"
   },
   {
    "duration": 5,
    "start_time": "2022-03-24T22:45:56.684Z"
   },
   {
    "duration": 45,
    "start_time": "2022-03-24T22:45:56.691Z"
   },
   {
    "duration": 18,
    "start_time": "2022-03-24T22:45:56.737Z"
   },
   {
    "duration": 19,
    "start_time": "2022-03-24T22:45:56.757Z"
   },
   {
    "duration": 9,
    "start_time": "2022-03-24T22:45:56.778Z"
   },
   {
    "duration": 94,
    "start_time": "2022-03-24T22:45:56.789Z"
   },
   {
    "duration": 13,
    "start_time": "2022-03-24T22:45:56.885Z"
   },
   {
    "duration": 24,
    "start_time": "2022-03-24T22:45:56.900Z"
   },
   {
    "duration": 18,
    "start_time": "2022-03-24T22:45:56.926Z"
   },
   {
    "duration": 11,
    "start_time": "2022-03-24T22:45:56.946Z"
   },
   {
    "duration": 11,
    "start_time": "2022-03-24T22:45:56.959Z"
   },
   {
    "duration": 9,
    "start_time": "2022-03-24T22:45:56.972Z"
   },
   {
    "duration": 53,
    "start_time": "2022-03-24T22:45:56.983Z"
   },
   {
    "duration": 4,
    "start_time": "2022-03-24T22:45:57.039Z"
   },
   {
    "duration": 8,
    "start_time": "2022-03-24T22:45:57.044Z"
   },
   {
    "duration": 5,
    "start_time": "2022-03-24T22:45:57.053Z"
   },
   {
    "duration": 210,
    "start_time": "2022-03-24T22:45:57.059Z"
   },
   {
    "duration": 162,
    "start_time": "2022-03-24T22:45:57.270Z"
   },
   {
    "duration": 190,
    "start_time": "2022-03-24T22:45:57.434Z"
   },
   {
    "duration": 169,
    "start_time": "2022-03-24T22:45:57.625Z"
   },
   {
    "duration": 194,
    "start_time": "2022-03-24T22:45:57.795Z"
   },
   {
    "duration": 238,
    "start_time": "2022-03-24T22:45:57.991Z"
   },
   {
    "duration": 6,
    "start_time": "2022-03-24T22:45:58.232Z"
   },
   {
    "duration": 8,
    "start_time": "2022-03-24T22:45:58.240Z"
   },
   {
    "duration": 4,
    "start_time": "2022-03-24T22:45:58.250Z"
   },
   {
    "duration": 52,
    "start_time": "2022-03-24T22:45:58.256Z"
   },
   {
    "duration": 5,
    "start_time": "2022-03-24T22:45:58.332Z"
   },
   {
    "duration": 9,
    "start_time": "2022-03-24T22:45:58.338Z"
   },
   {
    "duration": 9,
    "start_time": "2022-03-24T22:45:58.349Z"
   },
   {
    "duration": 201,
    "start_time": "2022-03-24T22:45:58.360Z"
   },
   {
    "duration": 164,
    "start_time": "2022-03-24T22:45:58.563Z"
   },
   {
    "duration": 165,
    "start_time": "2022-03-24T22:45:58.729Z"
   },
   {
    "duration": 168,
    "start_time": "2022-03-24T22:45:58.895Z"
   },
   {
    "duration": 186,
    "start_time": "2022-03-24T22:45:59.064Z"
   },
   {
    "duration": 171,
    "start_time": "2022-03-24T22:45:59.251Z"
   },
   {
    "duration": 199,
    "start_time": "2022-03-24T22:45:59.423Z"
   },
   {
    "duration": 11,
    "start_time": "2022-03-24T22:45:59.623Z"
   },
   {
    "duration": 151,
    "start_time": "2022-03-24T22:45:59.635Z"
   },
   {
    "duration": 4,
    "start_time": "2022-03-24T22:45:59.787Z"
   },
   {
    "duration": 8,
    "start_time": "2022-03-24T22:45:59.792Z"
   },
   {
    "duration": 11,
    "start_time": "2022-03-24T22:45:59.802Z"
   },
   {
    "duration": 19,
    "start_time": "2022-03-24T22:45:59.815Z"
   },
   {
    "duration": 10,
    "start_time": "2022-03-24T22:45:59.835Z"
   },
   {
    "duration": 297,
    "start_time": "2022-03-24T22:45:59.847Z"
   },
   {
    "duration": 4,
    "start_time": "2022-03-24T22:46:00.146Z"
   },
   {
    "duration": 207,
    "start_time": "2022-03-24T22:46:00.151Z"
   },
   {
    "duration": 4,
    "start_time": "2022-03-24T22:46:00.360Z"
   },
   {
    "duration": 27,
    "start_time": "2022-03-24T22:46:00.366Z"
   },
   {
    "duration": 45,
    "start_time": "2022-03-27T17:17:36.378Z"
   },
   {
    "duration": 1339,
    "start_time": "2022-03-27T17:17:54.703Z"
   },
   {
    "duration": 147,
    "start_time": "2022-03-27T17:17:56.044Z"
   },
   {
    "duration": 8,
    "start_time": "2022-03-27T17:17:56.192Z"
   },
   {
    "duration": 134,
    "start_time": "2022-03-27T17:17:56.202Z"
   },
   {
    "duration": 90,
    "start_time": "2022-03-27T17:17:56.337Z"
   },
   {
    "duration": 8,
    "start_time": "2022-03-27T17:17:56.429Z"
   },
   {
    "duration": 93,
    "start_time": "2022-03-27T17:17:56.439Z"
   },
   {
    "duration": 68,
    "start_time": "2022-03-27T17:17:56.533Z"
   },
   {
    "duration": 13,
    "start_time": "2022-03-27T17:17:56.603Z"
   },
   {
    "duration": 20,
    "start_time": "2022-03-27T17:17:56.618Z"
   },
   {
    "duration": 158,
    "start_time": "2022-03-27T17:17:56.640Z"
   },
   {
    "duration": 8,
    "start_time": "2022-03-27T17:17:56.800Z"
   },
   {
    "duration": 14,
    "start_time": "2022-03-27T17:17:56.809Z"
   },
   {
    "duration": 11,
    "start_time": "2022-03-27T17:17:56.824Z"
   },
   {
    "duration": 29,
    "start_time": "2022-03-27T17:17:56.837Z"
   },
   {
    "duration": 13,
    "start_time": "2022-03-27T17:17:56.869Z"
   },
   {
    "duration": 14,
    "start_time": "2022-03-27T17:17:56.884Z"
   },
   {
    "duration": 8,
    "start_time": "2022-03-27T17:17:56.901Z"
   },
   {
    "duration": 23,
    "start_time": "2022-03-27T17:17:56.911Z"
   },
   {
    "duration": 22,
    "start_time": "2022-03-27T17:17:56.936Z"
   },
   {
    "duration": 6,
    "start_time": "2022-03-27T17:17:56.959Z"
   },
   {
    "duration": 22,
    "start_time": "2022-03-27T17:17:56.966Z"
   },
   {
    "duration": 16,
    "start_time": "2022-03-27T17:17:56.990Z"
   },
   {
    "duration": 7,
    "start_time": "2022-03-27T17:17:57.009Z"
   },
   {
    "duration": 11,
    "start_time": "2022-03-27T17:17:57.018Z"
   },
   {
    "duration": 44,
    "start_time": "2022-03-27T17:17:57.031Z"
   },
   {
    "duration": 8,
    "start_time": "2022-03-27T17:17:57.076Z"
   },
   {
    "duration": 9,
    "start_time": "2022-03-27T17:17:57.090Z"
   },
   {
    "duration": 7,
    "start_time": "2022-03-27T17:17:57.101Z"
   },
   {
    "duration": 555,
    "start_time": "2022-03-27T17:17:57.110Z"
   },
   {
    "duration": 12,
    "start_time": "2022-03-27T17:17:57.666Z"
   },
   {
    "duration": 9,
    "start_time": "2022-03-27T17:17:57.679Z"
   },
   {
    "duration": 12,
    "start_time": "2022-03-27T17:17:57.690Z"
   },
   {
    "duration": 6,
    "start_time": "2022-03-27T17:17:57.703Z"
   },
   {
    "duration": 15,
    "start_time": "2022-03-27T17:17:57.711Z"
   },
   {
    "duration": 12,
    "start_time": "2022-03-27T17:17:57.727Z"
   },
   {
    "duration": 32,
    "start_time": "2022-03-27T17:17:57.741Z"
   },
   {
    "duration": 9,
    "start_time": "2022-03-27T17:17:57.775Z"
   },
   {
    "duration": 109,
    "start_time": "2022-03-27T17:17:57.786Z"
   },
   {
    "duration": 20,
    "start_time": "2022-03-27T17:17:57.897Z"
   },
   {
    "duration": 18,
    "start_time": "2022-03-27T17:17:57.919Z"
   },
   {
    "duration": 6,
    "start_time": "2022-03-27T17:17:57.938Z"
   },
   {
    "duration": 7,
    "start_time": "2022-03-27T17:17:57.962Z"
   },
   {
    "duration": 8,
    "start_time": "2022-03-27T17:17:57.971Z"
   },
   {
    "duration": 7,
    "start_time": "2022-03-27T17:17:57.980Z"
   },
   {
    "duration": 53,
    "start_time": "2022-03-27T17:17:57.988Z"
   },
   {
    "duration": 4,
    "start_time": "2022-03-27T17:17:58.063Z"
   },
   {
    "duration": 6,
    "start_time": "2022-03-27T17:17:58.069Z"
   },
   {
    "duration": 8,
    "start_time": "2022-03-27T17:17:58.077Z"
   },
   {
    "duration": 256,
    "start_time": "2022-03-27T17:17:58.087Z"
   },
   {
    "duration": 189,
    "start_time": "2022-03-27T17:17:58.345Z"
   },
   {
    "duration": 231,
    "start_time": "2022-03-27T17:17:58.535Z"
   },
   {
    "duration": 230,
    "start_time": "2022-03-27T17:17:58.768Z"
   },
   {
    "duration": 181,
    "start_time": "2022-03-27T17:17:59.000Z"
   },
   {
    "duration": 5,
    "start_time": "2022-03-27T17:17:59.183Z"
   },
   {
    "duration": 230,
    "start_time": "2022-03-27T17:17:59.190Z"
   },
   {
    "duration": 6,
    "start_time": "2022-03-27T17:17:59.422Z"
   },
   {
    "duration": 9,
    "start_time": "2022-03-27T17:17:59.429Z"
   },
   {
    "duration": 6,
    "start_time": "2022-03-27T17:17:59.439Z"
   },
   {
    "duration": 50,
    "start_time": "2022-03-27T17:17:59.463Z"
   },
   {
    "duration": 5,
    "start_time": "2022-03-27T17:17:59.515Z"
   },
   {
    "duration": 10,
    "start_time": "2022-03-27T17:17:59.522Z"
   },
   {
    "duration": 6,
    "start_time": "2022-03-27T17:17:59.534Z"
   },
   {
    "duration": 209,
    "start_time": "2022-03-27T17:17:59.542Z"
   },
   {
    "duration": 196,
    "start_time": "2022-03-27T17:17:59.753Z"
   },
   {
    "duration": 249,
    "start_time": "2022-03-27T17:17:59.950Z"
   },
   {
    "duration": 174,
    "start_time": "2022-03-27T17:18:00.201Z"
   },
   {
    "duration": 190,
    "start_time": "2022-03-27T17:18:00.377Z"
   },
   {
    "duration": 210,
    "start_time": "2022-03-27T17:18:00.569Z"
   },
   {
    "duration": 276,
    "start_time": "2022-03-27T17:18:00.780Z"
   },
   {
    "duration": 12,
    "start_time": "2022-03-27T17:18:01.057Z"
   },
   {
    "duration": 250,
    "start_time": "2022-03-27T17:18:01.071Z"
   },
   {
    "duration": 7,
    "start_time": "2022-03-27T17:18:01.323Z"
   },
   {
    "duration": 33,
    "start_time": "2022-03-27T17:18:01.332Z"
   },
   {
    "duration": 16,
    "start_time": "2022-03-27T17:18:01.367Z"
   },
   {
    "duration": 11,
    "start_time": "2022-03-27T17:18:01.385Z"
   },
   {
    "duration": 13,
    "start_time": "2022-03-27T17:18:01.398Z"
   },
   {
    "duration": 285,
    "start_time": "2022-03-27T17:18:01.413Z"
   },
   {
    "duration": 4,
    "start_time": "2022-03-27T17:18:01.700Z"
   },
   {
    "duration": 231,
    "start_time": "2022-03-27T17:18:01.706Z"
   },
   {
    "duration": 4,
    "start_time": "2022-03-27T17:18:01.940Z"
   },
   {
    "duration": 14,
    "start_time": "2022-03-27T17:18:01.950Z"
   },
   {
    "duration": 5,
    "start_time": "2022-03-27T17:18:39.136Z"
   },
   {
    "duration": 156,
    "start_time": "2022-03-27T17:28:27.469Z"
   },
   {
    "duration": 167,
    "start_time": "2022-03-27T17:28:32.389Z"
   },
   {
    "duration": 142,
    "start_time": "2022-03-27T17:40:53.323Z"
   },
   {
    "duration": 147,
    "start_time": "2022-03-27T17:41:02.423Z"
   },
   {
    "duration": 149,
    "start_time": "2022-03-27T17:41:23.515Z"
   },
   {
    "duration": 68,
    "start_time": "2022-03-27T19:51:45.984Z"
   },
   {
    "duration": 1786,
    "start_time": "2022-03-27T19:52:07.503Z"
   },
   {
    "duration": 201,
    "start_time": "2022-03-27T19:52:09.293Z"
   },
   {
    "duration": 12,
    "start_time": "2022-03-27T19:52:09.496Z"
   },
   {
    "duration": 177,
    "start_time": "2022-03-27T19:52:09.511Z"
   },
   {
    "duration": 130,
    "start_time": "2022-03-27T19:52:09.690Z"
   },
   {
    "duration": 12,
    "start_time": "2022-03-27T19:52:09.823Z"
   },
   {
    "duration": 120,
    "start_time": "2022-03-27T19:52:09.844Z"
   },
   {
    "duration": 102,
    "start_time": "2022-03-27T19:52:09.967Z"
   },
   {
    "duration": 24,
    "start_time": "2022-03-27T19:52:10.072Z"
   },
   {
    "duration": 42,
    "start_time": "2022-03-27T19:52:10.100Z"
   },
   {
    "duration": 155,
    "start_time": "2022-03-27T19:52:10.144Z"
   },
   {
    "duration": 10,
    "start_time": "2022-03-27T19:52:10.301Z"
   },
   {
    "duration": 32,
    "start_time": "2022-03-27T19:52:10.313Z"
   },
   {
    "duration": 12,
    "start_time": "2022-03-27T19:52:10.347Z"
   },
   {
    "duration": 18,
    "start_time": "2022-03-27T19:52:10.360Z"
   },
   {
    "duration": 10,
    "start_time": "2022-03-27T19:52:10.380Z"
   },
   {
    "duration": 52,
    "start_time": "2022-03-27T19:52:10.392Z"
   },
   {
    "duration": 6,
    "start_time": "2022-03-27T19:52:10.446Z"
   },
   {
    "duration": 12,
    "start_time": "2022-03-27T19:52:10.454Z"
   },
   {
    "duration": 28,
    "start_time": "2022-03-27T19:52:10.468Z"
   },
   {
    "duration": 4,
    "start_time": "2022-03-27T19:52:10.499Z"
   },
   {
    "duration": 24,
    "start_time": "2022-03-27T19:52:10.543Z"
   },
   {
    "duration": 21,
    "start_time": "2022-03-27T19:52:10.569Z"
   },
   {
    "duration": 51,
    "start_time": "2022-03-27T19:52:10.592Z"
   },
   {
    "duration": 11,
    "start_time": "2022-03-27T19:52:10.645Z"
   },
   {
    "duration": 27,
    "start_time": "2022-03-27T19:52:10.659Z"
   },
   {
    "duration": 8,
    "start_time": "2022-03-27T19:52:10.689Z"
   },
   {
    "duration": 41,
    "start_time": "2022-03-27T19:52:10.704Z"
   },
   {
    "duration": 7,
    "start_time": "2022-03-27T19:52:10.747Z"
   },
   {
    "duration": 925,
    "start_time": "2022-03-27T19:52:10.756Z"
   },
   {
    "duration": 18,
    "start_time": "2022-03-27T19:52:11.684Z"
   },
   {
    "duration": 10,
    "start_time": "2022-03-27T19:52:11.704Z"
   },
   {
    "duration": 39,
    "start_time": "2022-03-27T19:52:11.716Z"
   },
   {
    "duration": 7,
    "start_time": "2022-03-27T19:52:11.758Z"
   },
   {
    "duration": 21,
    "start_time": "2022-03-27T19:52:11.767Z"
   },
   {
    "duration": 6,
    "start_time": "2022-03-27T19:52:11.791Z"
   },
   {
    "duration": 59,
    "start_time": "2022-03-27T19:52:11.799Z"
   },
   {
    "duration": 6,
    "start_time": "2022-03-27T19:52:11.860Z"
   },
   {
    "duration": 183,
    "start_time": "2022-03-27T19:52:11.869Z"
   },
   {
    "duration": 22,
    "start_time": "2022-03-27T19:52:12.055Z"
   },
   {
    "duration": 24,
    "start_time": "2022-03-27T19:52:12.079Z"
   },
   {
    "duration": 38,
    "start_time": "2022-03-27T19:52:12.105Z"
   },
   {
    "duration": 10,
    "start_time": "2022-03-27T19:52:12.145Z"
   },
   {
    "duration": 8,
    "start_time": "2022-03-27T19:52:12.157Z"
   },
   {
    "duration": 10,
    "start_time": "2022-03-27T19:52:12.167Z"
   },
   {
    "duration": 117,
    "start_time": "2022-03-27T19:52:12.179Z"
   },
   {
    "duration": 5,
    "start_time": "2022-03-27T19:52:12.299Z"
   },
   {
    "duration": 6,
    "start_time": "2022-03-27T19:52:12.306Z"
   },
   {
    "duration": 30,
    "start_time": "2022-03-27T19:52:12.314Z"
   },
   {
    "duration": 342,
    "start_time": "2022-03-27T19:52:12.346Z"
   },
   {
    "duration": 275,
    "start_time": "2022-03-27T19:52:12.690Z"
   },
   {
    "duration": 323,
    "start_time": "2022-03-27T19:52:12.968Z"
   },
   {
    "duration": 290,
    "start_time": "2022-03-27T19:52:13.294Z"
   },
   {
    "duration": 316,
    "start_time": "2022-03-27T19:52:13.586Z"
   },
   {
    "duration": 328,
    "start_time": "2022-03-27T19:52:13.904Z"
   },
   {
    "duration": 13,
    "start_time": "2022-03-27T19:52:14.234Z"
   },
   {
    "duration": 12,
    "start_time": "2022-03-27T19:52:14.249Z"
   },
   {
    "duration": 6,
    "start_time": "2022-03-27T19:52:14.263Z"
   },
   {
    "duration": 103,
    "start_time": "2022-03-27T19:52:14.271Z"
   },
   {
    "duration": 5,
    "start_time": "2022-03-27T19:52:14.377Z"
   },
   {
    "duration": 7,
    "start_time": "2022-03-27T19:52:14.384Z"
   },
   {
    "duration": 5,
    "start_time": "2022-03-27T19:52:14.393Z"
   },
   {
    "duration": 318,
    "start_time": "2022-03-27T19:52:14.400Z"
   },
   {
    "duration": 275,
    "start_time": "2022-03-27T19:52:14.720Z"
   },
   {
    "duration": 285,
    "start_time": "2022-03-27T19:52:14.998Z"
   },
   {
    "duration": 282,
    "start_time": "2022-03-27T19:52:15.286Z"
   },
   {
    "duration": 318,
    "start_time": "2022-03-27T19:52:15.570Z"
   },
   {
    "duration": 294,
    "start_time": "2022-03-27T19:52:15.891Z"
   },
   {
    "duration": 6,
    "start_time": "2022-03-27T19:52:16.187Z"
   },
   {
    "duration": 355,
    "start_time": "2022-03-27T19:52:16.195Z"
   },
   {
    "duration": 5,
    "start_time": "2022-03-27T19:52:16.552Z"
   },
   {
    "duration": 279,
    "start_time": "2022-03-27T19:52:16.560Z"
   },
   {
    "duration": 6,
    "start_time": "2022-03-27T19:52:16.842Z"
   },
   {
    "duration": 8,
    "start_time": "2022-03-27T19:52:16.850Z"
   },
   {
    "duration": 11,
    "start_time": "2022-03-27T19:52:16.860Z"
   },
   {
    "duration": 9,
    "start_time": "2022-03-27T19:52:16.874Z"
   },
   {
    "duration": 10,
    "start_time": "2022-03-27T19:52:16.886Z"
   },
   {
    "duration": 455,
    "start_time": "2022-03-27T19:52:16.898Z"
   },
   {
    "duration": 5,
    "start_time": "2022-03-27T19:52:17.356Z"
   },
   {
    "duration": 358,
    "start_time": "2022-03-27T19:52:17.363Z"
   },
   {
    "duration": 6,
    "start_time": "2022-03-27T19:52:17.723Z"
   },
   {
    "duration": 8,
    "start_time": "2022-03-27T19:52:17.748Z"
   },
   {
    "duration": 255,
    "start_time": "2022-03-27T19:53:43.713Z"
   },
   {
    "duration": 311,
    "start_time": "2022-03-27T21:24:43.630Z"
   },
   {
    "duration": 4,
    "start_time": "2022-03-27T21:28:19.882Z"
   },
   {
    "duration": 4,
    "start_time": "2022-03-27T21:28:45.394Z"
   },
   {
    "duration": 5,
    "start_time": "2022-03-27T21:29:09.927Z"
   },
   {
    "duration": 1527,
    "start_time": "2022-03-27T21:30:46.607Z"
   },
   {
    "duration": 208,
    "start_time": "2022-03-27T21:30:48.136Z"
   },
   {
    "duration": 13,
    "start_time": "2022-03-27T21:30:48.346Z"
   },
   {
    "duration": 191,
    "start_time": "2022-03-27T21:30:48.361Z"
   },
   {
    "duration": 130,
    "start_time": "2022-03-27T21:30:48.554Z"
   },
   {
    "duration": 12,
    "start_time": "2022-03-27T21:30:48.686Z"
   },
   {
    "duration": 122,
    "start_time": "2022-03-27T21:30:48.700Z"
   },
   {
    "duration": 89,
    "start_time": "2022-03-27T21:30:48.824Z"
   },
   {
    "duration": 29,
    "start_time": "2022-03-27T21:30:48.915Z"
   },
   {
    "duration": 37,
    "start_time": "2022-03-27T21:30:48.948Z"
   },
   {
    "duration": 144,
    "start_time": "2022-03-27T21:30:48.988Z"
   },
   {
    "duration": 16,
    "start_time": "2022-03-27T21:30:49.134Z"
   },
   {
    "duration": 18,
    "start_time": "2022-03-27T21:30:49.152Z"
   },
   {
    "duration": 12,
    "start_time": "2022-03-27T21:30:49.172Z"
   },
   {
    "duration": 18,
    "start_time": "2022-03-27T21:30:49.186Z"
   },
   {
    "duration": 43,
    "start_time": "2022-03-27T21:30:49.206Z"
   },
   {
    "duration": 18,
    "start_time": "2022-03-27T21:30:49.252Z"
   },
   {
    "duration": 6,
    "start_time": "2022-03-27T21:30:49.272Z"
   },
   {
    "duration": 11,
    "start_time": "2022-03-27T21:30:49.280Z"
   },
   {
    "duration": 54,
    "start_time": "2022-03-27T21:30:49.293Z"
   },
   {
    "duration": 3,
    "start_time": "2022-03-27T21:30:49.349Z"
   },
   {
    "duration": 27,
    "start_time": "2022-03-27T21:30:49.354Z"
   },
   {
    "duration": 19,
    "start_time": "2022-03-27T21:30:49.383Z"
   },
   {
    "duration": 40,
    "start_time": "2022-03-27T21:30:49.404Z"
   },
   {
    "duration": 11,
    "start_time": "2022-03-27T21:30:49.446Z"
   },
   {
    "duration": 37,
    "start_time": "2022-03-27T21:30:49.459Z"
   },
   {
    "duration": 7,
    "start_time": "2022-03-27T21:30:49.498Z"
   },
   {
    "duration": 37,
    "start_time": "2022-03-27T21:30:49.512Z"
   },
   {
    "duration": 6,
    "start_time": "2022-03-27T21:30:49.551Z"
   },
   {
    "duration": 807,
    "start_time": "2022-03-27T21:30:49.560Z"
   },
   {
    "duration": 21,
    "start_time": "2022-03-27T21:30:50.370Z"
   },
   {
    "duration": 12,
    "start_time": "2022-03-27T21:30:50.393Z"
   },
   {
    "duration": 47,
    "start_time": "2022-03-27T21:30:50.407Z"
   },
   {
    "duration": 9,
    "start_time": "2022-03-27T21:30:50.456Z"
   },
   {
    "duration": 24,
    "start_time": "2022-03-27T21:30:50.468Z"
   },
   {
    "duration": 7,
    "start_time": "2022-03-27T21:30:50.495Z"
   },
   {
    "duration": 57,
    "start_time": "2022-03-27T21:30:50.504Z"
   },
   {
    "duration": 7,
    "start_time": "2022-03-27T21:30:50.563Z"
   },
   {
    "duration": 173,
    "start_time": "2022-03-27T21:30:50.572Z"
   },
   {
    "duration": 22,
    "start_time": "2022-03-27T21:30:50.748Z"
   },
   {
    "duration": 23,
    "start_time": "2022-03-27T21:30:50.772Z"
   },
   {
    "duration": 7,
    "start_time": "2022-03-27T21:30:50.797Z"
   },
   {
    "duration": 43,
    "start_time": "2022-03-27T21:30:50.806Z"
   },
   {
    "duration": 9,
    "start_time": "2022-03-27T21:30:50.851Z"
   },
   {
    "duration": 8,
    "start_time": "2022-03-27T21:30:50.862Z"
   },
   {
    "duration": 102,
    "start_time": "2022-03-27T21:30:50.872Z"
   },
   {
    "duration": 5,
    "start_time": "2022-03-27T21:30:50.976Z"
   },
   {
    "duration": 8,
    "start_time": "2022-03-27T21:30:50.983Z"
   },
   {
    "duration": 7,
    "start_time": "2022-03-27T21:30:50.993Z"
   },
   {
    "duration": 353,
    "start_time": "2022-03-27T21:30:51.002Z"
   },
   {
    "duration": 279,
    "start_time": "2022-03-27T21:30:51.357Z"
   },
   {
    "duration": 324,
    "start_time": "2022-03-27T21:30:51.643Z"
   },
   {
    "duration": 286,
    "start_time": "2022-03-27T21:30:51.969Z"
   },
   {
    "duration": 316,
    "start_time": "2022-03-27T21:30:52.257Z"
   },
   {
    "duration": 347,
    "start_time": "2022-03-27T21:30:52.576Z"
   },
   {
    "duration": 20,
    "start_time": "2022-03-27T21:30:52.925Z"
   },
   {
    "duration": 12,
    "start_time": "2022-03-27T21:30:52.948Z"
   },
   {
    "duration": 8,
    "start_time": "2022-03-27T21:30:52.963Z"
   },
   {
    "duration": 103,
    "start_time": "2022-03-27T21:30:52.973Z"
   },
   {
    "duration": 6,
    "start_time": "2022-03-27T21:30:53.078Z"
   },
   {
    "duration": 7,
    "start_time": "2022-03-27T21:30:53.087Z"
   },
   {
    "duration": 8,
    "start_time": "2022-03-27T21:30:53.096Z"
   },
   {
    "duration": 316,
    "start_time": "2022-03-27T21:30:53.107Z"
   },
   {
    "duration": 279,
    "start_time": "2022-03-27T21:30:53.425Z"
   },
   {
    "duration": 280,
    "start_time": "2022-03-27T21:30:53.706Z"
   },
   {
    "duration": 272,
    "start_time": "2022-03-27T21:30:53.988Z"
   },
   {
    "duration": 325,
    "start_time": "2022-03-27T21:30:54.262Z"
   },
   {
    "duration": 285,
    "start_time": "2022-03-27T21:30:54.589Z"
   },
   {
    "duration": 354,
    "start_time": "2022-03-27T21:30:54.876Z"
   },
   {
    "duration": 10,
    "start_time": "2022-03-27T21:30:55.232Z"
   },
   {
    "duration": 288,
    "start_time": "2022-03-27T21:30:55.245Z"
   },
   {
    "duration": 11,
    "start_time": "2022-03-27T21:30:55.535Z"
   },
   {
    "duration": 10,
    "start_time": "2022-03-27T21:30:55.548Z"
   },
   {
    "duration": 6,
    "start_time": "2022-03-27T21:30:55.560Z"
   },
   {
    "duration": 12,
    "start_time": "2022-03-27T21:30:55.568Z"
   },
   {
    "duration": 7,
    "start_time": "2022-03-27T21:30:55.583Z"
   },
   {
    "duration": 52,
    "start_time": "2022-03-27T21:30:55.592Z"
   },
   {
    "duration": 426,
    "start_time": "2022-03-27T21:30:55.647Z"
   },
   {
    "duration": 5,
    "start_time": "2022-03-27T21:30:56.076Z"
   },
   {
    "duration": 343,
    "start_time": "2022-03-27T21:30:56.083Z"
   },
   {
    "duration": 14,
    "start_time": "2022-03-27T21:30:56.429Z"
   },
   {
    "duration": 7,
    "start_time": "2022-03-27T21:30:56.452Z"
   },
   {
    "duration": 6,
    "start_time": "2022-03-27T21:33:31.723Z"
   },
   {
    "duration": 1545,
    "start_time": "2022-04-07T16:41:02.803Z"
   },
   {
    "duration": 222,
    "start_time": "2022-04-07T16:41:04.351Z"
   },
   {
    "duration": 13,
    "start_time": "2022-04-07T16:41:04.575Z"
   },
   {
    "duration": 201,
    "start_time": "2022-04-07T16:41:04.590Z"
   },
   {
    "duration": 138,
    "start_time": "2022-04-07T16:41:04.795Z"
   },
   {
    "duration": 14,
    "start_time": "2022-04-07T16:41:04.935Z"
   },
   {
    "duration": 140,
    "start_time": "2022-04-07T16:41:04.951Z"
   },
   {
    "duration": 101,
    "start_time": "2022-04-07T16:41:05.093Z"
   },
   {
    "duration": 24,
    "start_time": "2022-04-07T16:41:05.197Z"
   },
   {
    "duration": 39,
    "start_time": "2022-04-07T16:41:05.223Z"
   },
   {
    "duration": 160,
    "start_time": "2022-04-07T16:41:05.264Z"
   },
   {
    "duration": 22,
    "start_time": "2022-04-07T16:41:05.427Z"
   },
   {
    "duration": 17,
    "start_time": "2022-04-07T16:41:05.451Z"
   },
   {
    "duration": 15,
    "start_time": "2022-04-07T16:41:05.473Z"
   },
   {
    "duration": 53,
    "start_time": "2022-04-07T16:41:05.490Z"
   },
   {
    "duration": 14,
    "start_time": "2022-04-07T16:41:05.545Z"
   },
   {
    "duration": 20,
    "start_time": "2022-04-07T16:41:05.562Z"
   },
   {
    "duration": 9,
    "start_time": "2022-04-07T16:41:05.584Z"
   },
   {
    "duration": 48,
    "start_time": "2022-04-07T16:41:05.596Z"
   },
   {
    "duration": 28,
    "start_time": "2022-04-07T16:41:05.647Z"
   },
   {
    "duration": 4,
    "start_time": "2022-04-07T16:41:05.677Z"
   },
   {
    "duration": 42,
    "start_time": "2022-04-07T16:41:05.683Z"
   },
   {
    "duration": 30,
    "start_time": "2022-04-07T16:41:05.727Z"
   },
   {
    "duration": 11,
    "start_time": "2022-04-07T16:41:05.759Z"
   },
   {
    "duration": 20,
    "start_time": "2022-04-07T16:41:05.772Z"
   },
   {
    "duration": 59,
    "start_time": "2022-04-07T16:41:05.794Z"
   },
   {
    "duration": 8,
    "start_time": "2022-04-07T16:41:05.855Z"
   },
   {
    "duration": 17,
    "start_time": "2022-04-07T16:41:05.865Z"
   },
   {
    "duration": 14,
    "start_time": "2022-04-07T16:41:05.884Z"
   },
   {
    "duration": 780,
    "start_time": "2022-04-07T16:41:05.900Z"
   },
   {
    "duration": 17,
    "start_time": "2022-04-07T16:41:06.683Z"
   },
   {
    "duration": 11,
    "start_time": "2022-04-07T16:41:06.703Z"
   },
   {
    "duration": 18,
    "start_time": "2022-04-07T16:41:06.742Z"
   },
   {
    "duration": 11,
    "start_time": "2022-04-07T16:41:06.762Z"
   },
   {
    "duration": 31,
    "start_time": "2022-04-07T16:41:06.775Z"
   },
   {
    "duration": 20,
    "start_time": "2022-04-07T16:41:06.808Z"
   },
   {
    "duration": 30,
    "start_time": "2022-04-07T16:41:06.830Z"
   },
   {
    "duration": 17,
    "start_time": "2022-04-07T16:41:06.862Z"
   },
   {
    "duration": 171,
    "start_time": "2022-04-07T16:41:06.882Z"
   },
   {
    "duration": 23,
    "start_time": "2022-04-07T16:41:07.055Z"
   },
   {
    "duration": 22,
    "start_time": "2022-04-07T16:41:07.086Z"
   },
   {
    "duration": 37,
    "start_time": "2022-04-07T16:41:07.110Z"
   },
   {
    "duration": 19,
    "start_time": "2022-04-07T16:41:07.149Z"
   },
   {
    "duration": 14,
    "start_time": "2022-04-07T16:41:07.170Z"
   },
   {
    "duration": 17,
    "start_time": "2022-04-07T16:41:07.186Z"
   },
   {
    "duration": 93,
    "start_time": "2022-04-07T16:41:07.205Z"
   },
   {
    "duration": 6,
    "start_time": "2022-04-07T16:41:07.300Z"
   },
   {
    "duration": 18,
    "start_time": "2022-04-07T16:41:07.308Z"
   },
   {
    "duration": 21,
    "start_time": "2022-04-07T16:41:07.328Z"
   },
   {
    "duration": 333,
    "start_time": "2022-04-07T16:41:07.351Z"
   },
   {
    "duration": 277,
    "start_time": "2022-04-07T16:41:07.686Z"
   },
   {
    "duration": 329,
    "start_time": "2022-04-07T16:41:07.965Z"
   },
   {
    "duration": 292,
    "start_time": "2022-04-07T16:41:08.296Z"
   },
   {
    "duration": 317,
    "start_time": "2022-04-07T16:41:08.590Z"
   },
   {
    "duration": 346,
    "start_time": "2022-04-07T16:41:08.909Z"
   },
   {
    "duration": 9,
    "start_time": "2022-04-07T16:41:09.257Z"
   },
   {
    "duration": 11,
    "start_time": "2022-04-07T16:41:09.268Z"
   },
   {
    "duration": 12,
    "start_time": "2022-04-07T16:41:09.281Z"
   },
   {
    "duration": 108,
    "start_time": "2022-04-07T16:41:09.296Z"
   },
   {
    "duration": 6,
    "start_time": "2022-04-07T16:41:09.407Z"
   },
   {
    "duration": 27,
    "start_time": "2022-04-07T16:41:09.416Z"
   },
   {
    "duration": 6,
    "start_time": "2022-04-07T16:41:09.446Z"
   },
   {
    "duration": 326,
    "start_time": "2022-04-07T16:41:09.455Z"
   },
   {
    "duration": 300,
    "start_time": "2022-04-07T16:41:09.784Z"
   },
   {
    "duration": 281,
    "start_time": "2022-04-07T16:41:10.087Z"
   },
   {
    "duration": 284,
    "start_time": "2022-04-07T16:41:10.371Z"
   },
   {
    "duration": 313,
    "start_time": "2022-04-07T16:41:10.657Z"
   },
   {
    "duration": 273,
    "start_time": "2022-04-07T16:41:10.973Z"
   },
   {
    "duration": 335,
    "start_time": "2022-04-07T16:41:11.248Z"
   },
   {
    "duration": 5,
    "start_time": "2022-04-07T16:41:11.585Z"
   },
   {
    "duration": 271,
    "start_time": "2022-04-07T16:41:11.592Z"
   },
   {
    "duration": 5,
    "start_time": "2022-04-07T16:41:11.866Z"
   },
   {
    "duration": 13,
    "start_time": "2022-04-07T16:41:11.873Z"
   },
   {
    "duration": 13,
    "start_time": "2022-04-07T16:41:11.888Z"
   },
   {
    "duration": 15,
    "start_time": "2022-04-07T16:41:11.903Z"
   },
   {
    "duration": 8,
    "start_time": "2022-04-07T16:41:11.942Z"
   },
   {
    "duration": 11,
    "start_time": "2022-04-07T16:41:11.952Z"
   },
   {
    "duration": 451,
    "start_time": "2022-04-07T16:41:11.965Z"
   },
   {
    "duration": 5,
    "start_time": "2022-04-07T16:41:12.418Z"
   },
   {
    "duration": 354,
    "start_time": "2022-04-07T16:41:12.425Z"
   },
   {
    "duration": 5,
    "start_time": "2022-04-07T16:41:12.781Z"
   },
   {
    "duration": 11,
    "start_time": "2022-04-07T16:41:12.788Z"
   },
   {
    "duration": 199,
    "start_time": "2022-04-07T16:51:19.656Z"
   },
   {
    "duration": 7,
    "start_time": "2022-04-07T16:57:29.469Z"
   },
   {
    "duration": 207,
    "start_time": "2022-04-07T17:01:47.837Z"
   },
   {
    "duration": 202,
    "start_time": "2022-04-07T17:03:16.985Z"
   },
   {
    "duration": 210,
    "start_time": "2022-04-07T17:08:08.260Z"
   },
   {
    "duration": 1563,
    "start_time": "2022-04-07T17:08:32.859Z"
   },
   {
    "duration": 208,
    "start_time": "2022-04-07T17:08:34.425Z"
   },
   {
    "duration": 19,
    "start_time": "2022-04-07T17:08:34.635Z"
   },
   {
    "duration": 176,
    "start_time": "2022-04-07T17:08:34.656Z"
   },
   {
    "duration": 138,
    "start_time": "2022-04-07T17:08:34.836Z"
   },
   {
    "duration": 12,
    "start_time": "2022-04-07T17:08:34.977Z"
   },
   {
    "duration": 133,
    "start_time": "2022-04-07T17:08:34.991Z"
   },
   {
    "duration": 92,
    "start_time": "2022-04-07T17:08:35.127Z"
   },
   {
    "duration": 30,
    "start_time": "2022-04-07T17:08:35.221Z"
   },
   {
    "duration": 40,
    "start_time": "2022-04-07T17:08:35.254Z"
   },
   {
    "duration": 150,
    "start_time": "2022-04-07T17:08:35.297Z"
   },
   {
    "duration": 14,
    "start_time": "2022-04-07T17:08:35.449Z"
   },
   {
    "duration": 18,
    "start_time": "2022-04-07T17:08:35.465Z"
   },
   {
    "duration": 59,
    "start_time": "2022-04-07T17:08:35.490Z"
   },
   {
    "duration": 20,
    "start_time": "2022-04-07T17:08:35.552Z"
   },
   {
    "duration": 15,
    "start_time": "2022-04-07T17:08:35.574Z"
   },
   {
    "duration": 53,
    "start_time": "2022-04-07T17:08:35.591Z"
   },
   {
    "duration": 6,
    "start_time": "2022-04-07T17:08:35.647Z"
   },
   {
    "duration": 23,
    "start_time": "2022-04-07T17:08:35.655Z"
   },
   {
    "duration": 32,
    "start_time": "2022-04-07T17:08:35.680Z"
   },
   {
    "duration": 3,
    "start_time": "2022-04-07T17:08:35.743Z"
   },
   {
    "duration": 28,
    "start_time": "2022-04-07T17:08:35.748Z"
   },
   {
    "duration": 22,
    "start_time": "2022-04-07T17:08:35.778Z"
   },
   {
    "duration": 11,
    "start_time": "2022-04-07T17:08:35.802Z"
   },
   {
    "duration": 12,
    "start_time": "2022-04-07T17:08:35.842Z"
   },
   {
    "duration": 28,
    "start_time": "2022-04-07T17:08:35.855Z"
   },
   {
    "duration": 8,
    "start_time": "2022-04-07T17:08:35.885Z"
   },
   {
    "duration": 48,
    "start_time": "2022-04-07T17:08:35.896Z"
   },
   {
    "duration": 7,
    "start_time": "2022-04-07T17:08:35.946Z"
   },
   {
    "duration": 759,
    "start_time": "2022-04-07T17:08:35.955Z"
   },
   {
    "duration": 26,
    "start_time": "2022-04-07T17:08:36.717Z"
   },
   {
    "duration": 11,
    "start_time": "2022-04-07T17:08:36.745Z"
   },
   {
    "duration": 17,
    "start_time": "2022-04-07T17:08:36.759Z"
   },
   {
    "duration": 8,
    "start_time": "2022-04-07T17:08:36.778Z"
   },
   {
    "duration": 57,
    "start_time": "2022-04-07T17:08:36.788Z"
   },
   {
    "duration": 8,
    "start_time": "2022-04-07T17:08:36.847Z"
   },
   {
    "duration": 27,
    "start_time": "2022-04-07T17:08:36.857Z"
   },
   {
    "duration": 10,
    "start_time": "2022-04-07T17:08:36.886Z"
   },
   {
    "duration": 191,
    "start_time": "2022-04-07T17:08:36.899Z"
   },
   {
    "duration": 6,
    "start_time": "2022-04-07T17:08:37.092Z"
   },
   {
    "duration": 40,
    "start_time": "2022-04-07T17:08:37.108Z"
   },
   {
    "duration": 25,
    "start_time": "2022-04-07T17:08:37.150Z"
   },
   {
    "duration": 9,
    "start_time": "2022-04-07T17:08:37.178Z"
   },
   {
    "duration": 54,
    "start_time": "2022-04-07T17:08:37.189Z"
   },
   {
    "duration": 13,
    "start_time": "2022-04-07T17:08:37.246Z"
   },
   {
    "duration": 10,
    "start_time": "2022-04-07T17:08:37.262Z"
   },
   {
    "duration": 97,
    "start_time": "2022-04-07T17:08:37.274Z"
   },
   {
    "duration": 6,
    "start_time": "2022-04-07T17:08:37.374Z"
   },
   {
    "duration": 8,
    "start_time": "2022-04-07T17:08:37.383Z"
   },
   {
    "duration": 8,
    "start_time": "2022-04-07T17:08:37.394Z"
   },
   {
    "duration": 358,
    "start_time": "2022-04-07T17:08:37.405Z"
   },
   {
    "duration": 376,
    "start_time": "2022-04-07T17:08:37.766Z"
   },
   {
    "duration": 331,
    "start_time": "2022-04-07T17:08:38.145Z"
   },
   {
    "duration": 286,
    "start_time": "2022-04-07T17:08:38.478Z"
   },
   {
    "duration": 405,
    "start_time": "2022-04-07T17:08:38.766Z"
   },
   {
    "duration": 345,
    "start_time": "2022-04-07T17:08:39.174Z"
   },
   {
    "duration": 21,
    "start_time": "2022-04-07T17:08:39.522Z"
   },
   {
    "duration": 13,
    "start_time": "2022-04-07T17:08:39.545Z"
   },
   {
    "duration": 10,
    "start_time": "2022-04-07T17:08:39.561Z"
   },
   {
    "duration": 94,
    "start_time": "2022-04-07T17:08:39.573Z"
   },
   {
    "duration": 5,
    "start_time": "2022-04-07T17:08:39.670Z"
   },
   {
    "duration": 16,
    "start_time": "2022-04-07T17:08:39.677Z"
   },
   {
    "duration": 23,
    "start_time": "2022-04-07T17:08:39.695Z"
   },
   {
    "duration": 303,
    "start_time": "2022-04-07T17:08:39.720Z"
   },
   {
    "duration": 284,
    "start_time": "2022-04-07T17:08:40.025Z"
   },
   {
    "duration": 284,
    "start_time": "2022-04-07T17:08:40.311Z"
   },
   {
    "duration": 283,
    "start_time": "2022-04-07T17:08:40.597Z"
   },
   {
    "duration": 308,
    "start_time": "2022-04-07T17:08:40.882Z"
   },
   {
    "duration": 282,
    "start_time": "2022-04-07T17:08:41.192Z"
   },
   {
    "duration": 343,
    "start_time": "2022-04-07T17:08:41.476Z"
   },
   {
    "duration": 5,
    "start_time": "2022-04-07T17:08:41.821Z"
   },
   {
    "duration": 270,
    "start_time": "2022-04-07T17:08:41.844Z"
   },
   {
    "duration": 6,
    "start_time": "2022-04-07T17:08:42.116Z"
   },
   {
    "duration": 22,
    "start_time": "2022-04-07T17:08:42.124Z"
   },
   {
    "duration": 12,
    "start_time": "2022-04-07T17:08:42.148Z"
   },
   {
    "duration": 14,
    "start_time": "2022-04-07T17:08:42.162Z"
   },
   {
    "duration": 19,
    "start_time": "2022-04-07T17:08:42.178Z"
   },
   {
    "duration": 20,
    "start_time": "2022-04-07T17:08:42.198Z"
   },
   {
    "duration": 428,
    "start_time": "2022-04-07T17:08:42.220Z"
   },
   {
    "duration": 6,
    "start_time": "2022-04-07T17:08:42.650Z"
   },
   {
    "duration": 341,
    "start_time": "2022-04-07T17:08:42.658Z"
   },
   {
    "duration": 5,
    "start_time": "2022-04-07T17:08:43.002Z"
   },
   {
    "duration": 14,
    "start_time": "2022-04-07T17:08:43.009Z"
   },
   {
    "duration": 1564,
    "start_time": "2022-04-07T17:11:08.471Z"
   },
   {
    "duration": 206,
    "start_time": "2022-04-07T17:11:10.037Z"
   },
   {
    "duration": 13,
    "start_time": "2022-04-07T17:11:10.246Z"
   },
   {
    "duration": 193,
    "start_time": "2022-04-07T17:11:10.261Z"
   },
   {
    "duration": 133,
    "start_time": "2022-04-07T17:11:10.457Z"
   },
   {
    "duration": 12,
    "start_time": "2022-04-07T17:11:10.592Z"
   },
   {
    "duration": 137,
    "start_time": "2022-04-07T17:11:10.606Z"
   },
   {
    "duration": 82,
    "start_time": "2022-04-07T17:11:10.745Z"
   },
   {
    "duration": 38,
    "start_time": "2022-04-07T17:11:10.829Z"
   },
   {
    "duration": 39,
    "start_time": "2022-04-07T17:11:10.869Z"
   },
   {
    "duration": 149,
    "start_time": "2022-04-07T17:11:10.910Z"
   },
   {
    "duration": 11,
    "start_time": "2022-04-07T17:11:11.061Z"
   },
   {
    "duration": 42,
    "start_time": "2022-04-07T17:11:11.074Z"
   },
   {
    "duration": 13,
    "start_time": "2022-04-07T17:11:11.121Z"
   },
   {
    "duration": 24,
    "start_time": "2022-04-07T17:11:11.136Z"
   },
   {
    "duration": 27,
    "start_time": "2022-04-07T17:11:11.163Z"
   },
   {
    "duration": 53,
    "start_time": "2022-04-07T17:11:11.192Z"
   },
   {
    "duration": 34,
    "start_time": "2022-04-07T17:11:11.248Z"
   },
   {
    "duration": 55,
    "start_time": "2022-04-07T17:11:11.284Z"
   },
   {
    "duration": 41,
    "start_time": "2022-04-07T17:11:11.341Z"
   },
   {
    "duration": 19,
    "start_time": "2022-04-07T17:11:11.384Z"
   },
   {
    "duration": 27,
    "start_time": "2022-04-07T17:11:11.405Z"
   },
   {
    "duration": 19,
    "start_time": "2022-04-07T17:11:11.434Z"
   },
   {
    "duration": 13,
    "start_time": "2022-04-07T17:11:11.455Z"
   },
   {
    "duration": 49,
    "start_time": "2022-04-07T17:11:11.470Z"
   },
   {
    "duration": 31,
    "start_time": "2022-04-07T17:11:11.522Z"
   },
   {
    "duration": 8,
    "start_time": "2022-04-07T17:11:11.555Z"
   },
   {
    "duration": 19,
    "start_time": "2022-04-07T17:11:11.565Z"
   },
   {
    "duration": 7,
    "start_time": "2022-04-07T17:11:11.586Z"
   },
   {
    "duration": 829,
    "start_time": "2022-04-07T17:11:11.595Z"
   },
   {
    "duration": 23,
    "start_time": "2022-04-07T17:11:12.426Z"
   },
   {
    "duration": 14,
    "start_time": "2022-04-07T17:11:12.452Z"
   },
   {
    "duration": 30,
    "start_time": "2022-04-07T17:11:12.469Z"
   },
   {
    "duration": 7,
    "start_time": "2022-04-07T17:11:12.501Z"
   },
   {
    "duration": 57,
    "start_time": "2022-04-07T17:11:12.510Z"
   },
   {
    "duration": 30,
    "start_time": "2022-04-07T17:11:12.569Z"
   },
   {
    "duration": 35,
    "start_time": "2022-04-07T17:11:12.602Z"
   },
   {
    "duration": 16,
    "start_time": "2022-04-07T17:11:12.640Z"
   },
   {
    "duration": 163,
    "start_time": "2022-04-07T17:11:12.658Z"
   },
   {
    "duration": 6,
    "start_time": "2022-04-07T17:11:12.823Z"
   },
   {
    "duration": 29,
    "start_time": "2022-04-07T17:11:12.836Z"
   },
   {
    "duration": 37,
    "start_time": "2022-04-07T17:11:12.867Z"
   },
   {
    "duration": 20,
    "start_time": "2022-04-07T17:11:12.907Z"
   },
   {
    "duration": 17,
    "start_time": "2022-04-07T17:11:12.930Z"
   },
   {
    "duration": 12,
    "start_time": "2022-04-07T17:11:12.949Z"
   },
   {
    "duration": 9,
    "start_time": "2022-04-07T17:11:12.964Z"
   },
   {
    "duration": 80,
    "start_time": "2022-04-07T17:11:12.975Z"
   },
   {
    "duration": 6,
    "start_time": "2022-04-07T17:11:13.057Z"
   },
   {
    "duration": 10,
    "start_time": "2022-04-07T17:11:13.065Z"
   },
   {
    "duration": 6,
    "start_time": "2022-04-07T17:11:13.078Z"
   },
   {
    "duration": 394,
    "start_time": "2022-04-07T17:11:13.086Z"
   },
   {
    "duration": 402,
    "start_time": "2022-04-07T17:11:13.482Z"
   },
   {
    "duration": 475,
    "start_time": "2022-04-07T17:11:13.886Z"
   },
   {
    "duration": 492,
    "start_time": "2022-04-07T17:11:14.363Z"
   },
   {
    "duration": 589,
    "start_time": "2022-04-07T17:11:14.858Z"
   },
   {
    "duration": 635,
    "start_time": "2022-04-07T17:11:15.449Z"
   },
   {
    "duration": 62,
    "start_time": "2022-04-07T17:11:16.086Z"
   },
   {
    "duration": 21,
    "start_time": "2022-04-07T17:11:16.151Z"
   },
   {
    "duration": 70,
    "start_time": "2022-04-07T17:11:16.174Z"
   },
   {
    "duration": 141,
    "start_time": "2022-04-07T17:11:16.247Z"
   },
   {
    "duration": 6,
    "start_time": "2022-04-07T17:11:16.442Z"
   },
   {
    "duration": 9,
    "start_time": "2022-04-07T17:11:16.450Z"
   },
   {
    "duration": 10,
    "start_time": "2022-04-07T17:11:16.461Z"
   },
   {
    "duration": 536,
    "start_time": "2022-04-07T17:11:16.473Z"
   },
   {
    "duration": 283,
    "start_time": "2022-04-07T17:11:17.011Z"
   },
   {
    "duration": 274,
    "start_time": "2022-04-07T17:11:17.296Z"
   },
   {
    "duration": 275,
    "start_time": "2022-04-07T17:11:17.573Z"
   },
   {
    "duration": 308,
    "start_time": "2022-04-07T17:11:17.851Z"
   },
   {
    "duration": 277,
    "start_time": "2022-04-07T17:11:18.161Z"
   },
   {
    "duration": 340,
    "start_time": "2022-04-07T17:11:18.440Z"
   },
   {
    "duration": 6,
    "start_time": "2022-04-07T17:11:18.783Z"
   },
   {
    "duration": 269,
    "start_time": "2022-04-07T17:11:18.792Z"
   },
   {
    "duration": 6,
    "start_time": "2022-04-07T17:11:19.064Z"
   },
   {
    "duration": 28,
    "start_time": "2022-04-07T17:11:19.073Z"
   },
   {
    "duration": 10,
    "start_time": "2022-04-07T17:11:19.104Z"
   },
   {
    "duration": 32,
    "start_time": "2022-04-07T17:11:19.116Z"
   },
   {
    "duration": 8,
    "start_time": "2022-04-07T17:11:19.151Z"
   },
   {
    "duration": 16,
    "start_time": "2022-04-07T17:11:19.161Z"
   },
   {
    "duration": 447,
    "start_time": "2022-04-07T17:11:19.179Z"
   },
   {
    "duration": 16,
    "start_time": "2022-04-07T17:11:19.628Z"
   },
   {
    "duration": 362,
    "start_time": "2022-04-07T17:11:19.646Z"
   },
   {
    "duration": 6,
    "start_time": "2022-04-07T17:11:20.010Z"
   },
   {
    "duration": 27,
    "start_time": "2022-04-07T17:11:20.018Z"
   },
   {
    "duration": 1877,
    "start_time": "2022-04-11T07:08:12.638Z"
   },
   {
    "duration": 228,
    "start_time": "2022-04-11T07:08:14.518Z"
   },
   {
    "duration": 13,
    "start_time": "2022-04-11T07:08:14.748Z"
   },
   {
    "duration": 149,
    "start_time": "2022-04-11T07:08:14.763Z"
   },
   {
    "duration": 140,
    "start_time": "2022-04-11T07:08:14.915Z"
   },
   {
    "duration": 10,
    "start_time": "2022-04-11T07:08:15.058Z"
   },
   {
    "duration": 137,
    "start_time": "2022-04-11T07:08:15.079Z"
   },
   {
    "duration": 103,
    "start_time": "2022-04-11T07:08:15.218Z"
   },
   {
    "duration": 19,
    "start_time": "2022-04-11T07:08:15.323Z"
   },
   {
    "duration": 31,
    "start_time": "2022-04-11T07:08:15.346Z"
   },
   {
    "duration": 161,
    "start_time": "2022-04-11T07:08:15.379Z"
   },
   {
    "duration": 12,
    "start_time": "2022-04-11T07:08:15.542Z"
   },
   {
    "duration": 30,
    "start_time": "2022-04-11T07:08:15.556Z"
   },
   {
    "duration": 13,
    "start_time": "2022-04-11T07:08:15.588Z"
   },
   {
    "duration": 16,
    "start_time": "2022-04-11T07:08:15.603Z"
   },
   {
    "duration": 11,
    "start_time": "2022-04-11T07:08:15.622Z"
   },
   {
    "duration": 16,
    "start_time": "2022-04-11T07:08:15.635Z"
   },
   {
    "duration": 5,
    "start_time": "2022-04-11T07:08:15.680Z"
   },
   {
    "duration": 16,
    "start_time": "2022-04-11T07:08:15.687Z"
   },
   {
    "duration": 24,
    "start_time": "2022-04-11T07:08:15.705Z"
   },
   {
    "duration": 3,
    "start_time": "2022-04-11T07:08:15.732Z"
   },
   {
    "duration": 46,
    "start_time": "2022-04-11T07:08:15.737Z"
   },
   {
    "duration": 14,
    "start_time": "2022-04-11T07:08:15.785Z"
   },
   {
    "duration": 8,
    "start_time": "2022-04-11T07:08:15.801Z"
   },
   {
    "duration": 9,
    "start_time": "2022-04-11T07:08:15.811Z"
   },
   {
    "duration": 20,
    "start_time": "2022-04-11T07:08:15.823Z"
   },
   {
    "duration": 39,
    "start_time": "2022-04-11T07:08:15.845Z"
   },
   {
    "duration": 8,
    "start_time": "2022-04-11T07:08:15.889Z"
   },
   {
    "duration": 11,
    "start_time": "2022-04-11T07:08:15.899Z"
   },
   {
    "duration": 813,
    "start_time": "2022-04-11T07:08:15.912Z"
   },
   {
    "duration": 15,
    "start_time": "2022-04-11T07:08:16.727Z"
   },
   {
    "duration": 8,
    "start_time": "2022-04-11T07:08:16.744Z"
   },
   {
    "duration": 32,
    "start_time": "2022-04-11T07:08:16.754Z"
   },
   {
    "duration": 9,
    "start_time": "2022-04-11T07:08:16.788Z"
   },
   {
    "duration": 22,
    "start_time": "2022-04-11T07:08:16.799Z"
   },
   {
    "duration": 7,
    "start_time": "2022-04-11T07:08:16.823Z"
   },
   {
    "duration": 21,
    "start_time": "2022-04-11T07:08:16.831Z"
   },
   {
    "duration": 6,
    "start_time": "2022-04-11T07:08:16.878Z"
   },
   {
    "duration": 104,
    "start_time": "2022-04-11T07:08:16.886Z"
   },
   {
    "duration": 5,
    "start_time": "2022-04-11T07:08:16.991Z"
   },
   {
    "duration": 23,
    "start_time": "2022-04-11T07:08:16.998Z"
   },
   {
    "duration": 22,
    "start_time": "2022-04-11T07:08:17.024Z"
   },
   {
    "duration": 32,
    "start_time": "2022-04-11T07:08:17.048Z"
   },
   {
    "duration": 8,
    "start_time": "2022-04-11T07:08:17.082Z"
   },
   {
    "duration": 8,
    "start_time": "2022-04-11T07:08:17.092Z"
   },
   {
    "duration": 7,
    "start_time": "2022-04-11T07:08:17.102Z"
   },
   {
    "duration": 78,
    "start_time": "2022-04-11T07:08:17.111Z"
   },
   {
    "duration": 4,
    "start_time": "2022-04-11T07:08:17.191Z"
   },
   {
    "duration": 8,
    "start_time": "2022-04-11T07:08:17.197Z"
   },
   {
    "duration": 13,
    "start_time": "2022-04-11T07:08:17.207Z"
   },
   {
    "duration": 222,
    "start_time": "2022-04-11T07:08:17.222Z"
   },
   {
    "duration": 170,
    "start_time": "2022-04-11T07:08:17.446Z"
   },
   {
    "duration": 207,
    "start_time": "2022-04-11T07:08:17.618Z"
   },
   {
    "duration": 174,
    "start_time": "2022-04-11T07:08:17.827Z"
   },
   {
    "duration": 194,
    "start_time": "2022-04-11T07:08:18.003Z"
   },
   {
    "duration": 238,
    "start_time": "2022-04-11T07:08:18.199Z"
   },
   {
    "duration": 7,
    "start_time": "2022-04-11T07:08:18.439Z"
   },
   {
    "duration": 8,
    "start_time": "2022-04-11T07:08:18.448Z"
   },
   {
    "duration": 22,
    "start_time": "2022-04-11T07:08:18.458Z"
   },
   {
    "duration": 55,
    "start_time": "2022-04-11T07:08:18.482Z"
   },
   {
    "duration": 5,
    "start_time": "2022-04-11T07:08:18.539Z"
   },
   {
    "duration": 7,
    "start_time": "2022-04-11T07:08:18.546Z"
   },
   {
    "duration": 32,
    "start_time": "2022-04-11T07:08:18.555Z"
   },
   {
    "duration": 185,
    "start_time": "2022-04-11T07:08:18.589Z"
   },
   {
    "duration": 170,
    "start_time": "2022-04-11T07:08:18.780Z"
   },
   {
    "duration": 167,
    "start_time": "2022-04-11T07:08:18.952Z"
   },
   {
    "duration": 185,
    "start_time": "2022-04-11T07:08:19.121Z"
   },
   {
    "duration": 303,
    "start_time": "2022-04-11T07:08:19.308Z"
   },
   {
    "duration": 258,
    "start_time": "2022-04-11T07:08:19.613Z"
   },
   {
    "duration": 223,
    "start_time": "2022-04-11T07:08:19.873Z"
   },
   {
    "duration": 5,
    "start_time": "2022-04-11T07:08:20.098Z"
   },
   {
    "duration": 174,
    "start_time": "2022-04-11T07:08:20.105Z"
   },
   {
    "duration": 5,
    "start_time": "2022-04-11T07:08:20.281Z"
   },
   {
    "duration": 6,
    "start_time": "2022-04-11T07:08:20.287Z"
   },
   {
    "duration": 7,
    "start_time": "2022-04-11T07:08:20.295Z"
   },
   {
    "duration": 11,
    "start_time": "2022-04-11T07:08:20.304Z"
   },
   {
    "duration": 13,
    "start_time": "2022-04-11T07:08:20.317Z"
   },
   {
    "duration": 13,
    "start_time": "2022-04-11T07:08:20.332Z"
   },
   {
    "duration": 333,
    "start_time": "2022-04-11T07:08:20.347Z"
   },
   {
    "duration": 5,
    "start_time": "2022-04-11T07:08:20.683Z"
   },
   {
    "duration": 224,
    "start_time": "2022-04-11T07:08:20.690Z"
   },
   {
    "duration": 5,
    "start_time": "2022-04-11T07:08:20.921Z"
   },
   {
    "duration": 8,
    "start_time": "2022-04-11T07:08:20.928Z"
   },
   {
    "duration": 1501,
    "start_time": "2022-04-11T07:12:52.221Z"
   },
   {
    "duration": 199,
    "start_time": "2022-04-11T07:12:53.725Z"
   },
   {
    "duration": 13,
    "start_time": "2022-04-11T07:12:53.925Z"
   },
   {
    "duration": 204,
    "start_time": "2022-04-11T07:12:53.941Z"
   },
   {
    "duration": 99,
    "start_time": "2022-04-11T07:12:54.146Z"
   },
   {
    "duration": 9,
    "start_time": "2022-04-11T07:12:54.247Z"
   },
   {
    "duration": 101,
    "start_time": "2022-04-11T07:12:54.258Z"
   },
   {
    "duration": 70,
    "start_time": "2022-04-11T07:12:54.361Z"
   },
   {
    "duration": 15,
    "start_time": "2022-04-11T07:12:54.433Z"
   },
   {
    "duration": 29,
    "start_time": "2022-04-11T07:12:54.451Z"
   },
   {
    "duration": 117,
    "start_time": "2022-04-11T07:12:54.482Z"
   },
   {
    "duration": 9,
    "start_time": "2022-04-11T07:12:54.600Z"
   },
   {
    "duration": 11,
    "start_time": "2022-04-11T07:12:54.611Z"
   },
   {
    "duration": 14,
    "start_time": "2022-04-11T07:12:54.624Z"
   },
   {
    "duration": 48,
    "start_time": "2022-04-11T07:12:54.640Z"
   },
   {
    "duration": 11,
    "start_time": "2022-04-11T07:12:54.691Z"
   },
   {
    "duration": 19,
    "start_time": "2022-04-11T07:12:54.705Z"
   },
   {
    "duration": 6,
    "start_time": "2022-04-11T07:12:54.725Z"
   },
   {
    "duration": 9,
    "start_time": "2022-04-11T07:12:54.732Z"
   },
   {
    "duration": 58,
    "start_time": "2022-04-11T07:12:54.743Z"
   },
   {
    "duration": 3,
    "start_time": "2022-04-11T07:12:54.802Z"
   },
   {
    "duration": 17,
    "start_time": "2022-04-11T07:12:54.807Z"
   },
   {
    "duration": 13,
    "start_time": "2022-04-11T07:12:54.826Z"
   },
   {
    "duration": 38,
    "start_time": "2022-04-11T07:12:54.841Z"
   },
   {
    "duration": 8,
    "start_time": "2022-04-11T07:12:54.882Z"
   },
   {
    "duration": 17,
    "start_time": "2022-04-11T07:12:54.892Z"
   },
   {
    "duration": 5,
    "start_time": "2022-04-11T07:12:54.911Z"
   },
   {
    "duration": 7,
    "start_time": "2022-04-11T07:12:54.921Z"
   },
   {
    "duration": 7,
    "start_time": "2022-04-11T07:12:54.930Z"
   },
   {
    "duration": 527,
    "start_time": "2022-04-11T07:12:54.979Z"
   },
   {
    "duration": 17,
    "start_time": "2022-04-11T07:12:55.508Z"
   },
   {
    "duration": 10,
    "start_time": "2022-04-11T07:12:55.528Z"
   },
   {
    "duration": 43,
    "start_time": "2022-04-11T07:12:55.540Z"
   },
   {
    "duration": 12,
    "start_time": "2022-04-11T07:12:55.585Z"
   },
   {
    "duration": 21,
    "start_time": "2022-04-11T07:12:55.599Z"
   },
   {
    "duration": 11,
    "start_time": "2022-04-11T07:12:55.622Z"
   },
   {
    "duration": 23,
    "start_time": "2022-04-11T07:12:55.636Z"
   },
   {
    "duration": 22,
    "start_time": "2022-04-11T07:12:55.661Z"
   },
   {
    "duration": 160,
    "start_time": "2022-04-11T07:12:55.685Z"
   },
   {
    "duration": 5,
    "start_time": "2022-04-11T07:12:55.847Z"
   },
   {
    "duration": 28,
    "start_time": "2022-04-11T07:12:55.853Z"
   },
   {
    "duration": 19,
    "start_time": "2022-04-11T07:12:55.883Z"
   },
   {
    "duration": 6,
    "start_time": "2022-04-11T07:12:55.904Z"
   },
   {
    "duration": 10,
    "start_time": "2022-04-11T07:12:55.911Z"
   },
   {
    "duration": 7,
    "start_time": "2022-04-11T07:12:55.923Z"
   },
   {
    "duration": 7,
    "start_time": "2022-04-11T07:12:55.932Z"
   },
   {
    "duration": 109,
    "start_time": "2022-04-11T07:12:55.941Z"
   },
   {
    "duration": 5,
    "start_time": "2022-04-11T07:12:56.052Z"
   },
   {
    "duration": 21,
    "start_time": "2022-04-11T07:12:56.059Z"
   },
   {
    "duration": 6,
    "start_time": "2022-04-11T07:12:56.081Z"
   },
   {
    "duration": 222,
    "start_time": "2022-04-11T07:12:56.088Z"
   },
   {
    "duration": 170,
    "start_time": "2022-04-11T07:12:56.312Z"
   },
   {
    "duration": 206,
    "start_time": "2022-04-11T07:12:56.484Z"
   },
   {
    "duration": 201,
    "start_time": "2022-04-11T07:12:56.692Z"
   },
   {
    "duration": 289,
    "start_time": "2022-04-11T07:12:56.896Z"
   },
   {
    "duration": 347,
    "start_time": "2022-04-11T07:12:57.187Z"
   },
   {
    "duration": 9,
    "start_time": "2022-04-11T07:12:57.536Z"
   },
   {
    "duration": 11,
    "start_time": "2022-04-11T07:12:57.548Z"
   },
   {
    "duration": 22,
    "start_time": "2022-04-11T07:12:57.561Z"
   },
   {
    "duration": 79,
    "start_time": "2022-04-11T07:12:57.585Z"
   },
   {
    "duration": 15,
    "start_time": "2022-04-11T07:12:57.666Z"
   },
   {
    "duration": 11,
    "start_time": "2022-04-11T07:12:57.682Z"
   },
   {
    "duration": 6,
    "start_time": "2022-04-11T07:12:57.695Z"
   },
   {
    "duration": 195,
    "start_time": "2022-04-11T07:12:57.703Z"
   },
   {
    "duration": 186,
    "start_time": "2022-04-11T07:12:57.900Z"
   },
   {
    "duration": 172,
    "start_time": "2022-04-11T07:12:58.088Z"
   },
   {
    "duration": 182,
    "start_time": "2022-04-11T07:12:58.262Z"
   },
   {
    "duration": 209,
    "start_time": "2022-04-11T07:12:58.446Z"
   },
   {
    "duration": 178,
    "start_time": "2022-04-11T07:12:58.657Z"
   },
   {
    "duration": 227,
    "start_time": "2022-04-11T07:12:58.837Z"
   },
   {
    "duration": 4,
    "start_time": "2022-04-11T07:12:59.066Z"
   },
   {
    "duration": 174,
    "start_time": "2022-04-11T07:12:59.079Z"
   },
   {
    "duration": 5,
    "start_time": "2022-04-11T07:12:59.255Z"
   },
   {
    "duration": 21,
    "start_time": "2022-04-11T07:12:59.262Z"
   },
   {
    "duration": 8,
    "start_time": "2022-04-11T07:12:59.284Z"
   },
   {
    "duration": 13,
    "start_time": "2022-04-11T07:12:59.294Z"
   },
   {
    "duration": 7,
    "start_time": "2022-04-11T07:12:59.309Z"
   },
   {
    "duration": 9,
    "start_time": "2022-04-11T07:12:59.318Z"
   },
   {
    "duration": 326,
    "start_time": "2022-04-11T07:12:59.329Z"
   },
   {
    "duration": 4,
    "start_time": "2022-04-11T07:12:59.657Z"
   },
   {
    "duration": 221,
    "start_time": "2022-04-11T07:12:59.678Z"
   },
   {
    "duration": 4,
    "start_time": "2022-04-11T07:12:59.904Z"
   },
   {
    "duration": 9,
    "start_time": "2022-04-11T07:12:59.910Z"
   },
   {
    "duration": 151,
    "start_time": "2022-04-11T07:13:25.016Z"
   },
   {
    "duration": 14,
    "start_time": "2022-04-11T07:13:30.895Z"
   },
   {
    "duration": 10,
    "start_time": "2022-04-11T07:14:24.295Z"
   },
   {
    "duration": 1189,
    "start_time": "2022-04-11T07:17:55.110Z"
   },
   {
    "duration": 154,
    "start_time": "2022-04-11T07:17:56.303Z"
   },
   {
    "duration": 109,
    "start_time": "2022-04-11T07:17:56.460Z"
   },
   {
    "duration": 0,
    "start_time": "2022-04-11T07:17:56.573Z"
   },
   {
    "duration": 0,
    "start_time": "2022-04-11T07:17:56.579Z"
   },
   {
    "duration": 0,
    "start_time": "2022-04-11T07:17:56.580Z"
   },
   {
    "duration": 0,
    "start_time": "2022-04-11T07:17:56.580Z"
   },
   {
    "duration": 0,
    "start_time": "2022-04-11T07:17:56.582Z"
   },
   {
    "duration": 0,
    "start_time": "2022-04-11T07:17:56.583Z"
   },
   {
    "duration": 0,
    "start_time": "2022-04-11T07:17:56.584Z"
   },
   {
    "duration": 0,
    "start_time": "2022-04-11T07:17:56.586Z"
   },
   {
    "duration": 0,
    "start_time": "2022-04-11T07:17:56.587Z"
   },
   {
    "duration": 0,
    "start_time": "2022-04-11T07:17:56.588Z"
   },
   {
    "duration": 0,
    "start_time": "2022-04-11T07:17:56.590Z"
   },
   {
    "duration": 0,
    "start_time": "2022-04-11T07:17:56.591Z"
   },
   {
    "duration": 0,
    "start_time": "2022-04-11T07:17:56.592Z"
   },
   {
    "duration": 0,
    "start_time": "2022-04-11T07:17:56.593Z"
   },
   {
    "duration": 0,
    "start_time": "2022-04-11T07:17:56.595Z"
   },
   {
    "duration": 0,
    "start_time": "2022-04-11T07:17:56.596Z"
   },
   {
    "duration": 0,
    "start_time": "2022-04-11T07:17:56.597Z"
   },
   {
    "duration": 0,
    "start_time": "2022-04-11T07:17:56.599Z"
   },
   {
    "duration": 0,
    "start_time": "2022-04-11T07:17:56.600Z"
   },
   {
    "duration": 0,
    "start_time": "2022-04-11T07:17:56.601Z"
   },
   {
    "duration": 0,
    "start_time": "2022-04-11T07:17:56.602Z"
   },
   {
    "duration": 0,
    "start_time": "2022-04-11T07:17:56.603Z"
   },
   {
    "duration": 0,
    "start_time": "2022-04-11T07:17:56.604Z"
   },
   {
    "duration": 1,
    "start_time": "2022-04-11T07:17:56.605Z"
   },
   {
    "duration": 0,
    "start_time": "2022-04-11T07:17:56.607Z"
   },
   {
    "duration": 0,
    "start_time": "2022-04-11T07:17:56.608Z"
   },
   {
    "duration": 0,
    "start_time": "2022-04-11T07:17:56.609Z"
   },
   {
    "duration": 0,
    "start_time": "2022-04-11T07:17:56.610Z"
   },
   {
    "duration": 0,
    "start_time": "2022-04-11T07:17:56.612Z"
   },
   {
    "duration": 0,
    "start_time": "2022-04-11T07:17:56.613Z"
   },
   {
    "duration": 0,
    "start_time": "2022-04-11T07:17:56.614Z"
   },
   {
    "duration": 0,
    "start_time": "2022-04-11T07:17:56.615Z"
   },
   {
    "duration": 0,
    "start_time": "2022-04-11T07:17:56.616Z"
   },
   {
    "duration": 0,
    "start_time": "2022-04-11T07:17:56.618Z"
   },
   {
    "duration": 0,
    "start_time": "2022-04-11T07:17:56.679Z"
   },
   {
    "duration": 0,
    "start_time": "2022-04-11T07:17:56.680Z"
   },
   {
    "duration": 1,
    "start_time": "2022-04-11T07:17:56.681Z"
   },
   {
    "duration": 0,
    "start_time": "2022-04-11T07:17:56.683Z"
   },
   {
    "duration": 0,
    "start_time": "2022-04-11T07:17:56.684Z"
   },
   {
    "duration": 0,
    "start_time": "2022-04-11T07:17:56.685Z"
   },
   {
    "duration": 0,
    "start_time": "2022-04-11T07:17:56.686Z"
   },
   {
    "duration": 0,
    "start_time": "2022-04-11T07:17:56.687Z"
   },
   {
    "duration": 0,
    "start_time": "2022-04-11T07:17:56.688Z"
   },
   {
    "duration": 0,
    "start_time": "2022-04-11T07:17:56.690Z"
   },
   {
    "duration": 0,
    "start_time": "2022-04-11T07:17:56.691Z"
   },
   {
    "duration": 0,
    "start_time": "2022-04-11T07:17:56.692Z"
   },
   {
    "duration": 0,
    "start_time": "2022-04-11T07:17:56.694Z"
   },
   {
    "duration": 0,
    "start_time": "2022-04-11T07:17:56.695Z"
   },
   {
    "duration": 0,
    "start_time": "2022-04-11T07:17:56.696Z"
   },
   {
    "duration": 0,
    "start_time": "2022-04-11T07:17:56.697Z"
   },
   {
    "duration": 0,
    "start_time": "2022-04-11T07:17:56.699Z"
   },
   {
    "duration": 0,
    "start_time": "2022-04-11T07:17:56.700Z"
   },
   {
    "duration": 0,
    "start_time": "2022-04-11T07:17:56.701Z"
   },
   {
    "duration": 0,
    "start_time": "2022-04-11T07:17:56.702Z"
   },
   {
    "duration": 0,
    "start_time": "2022-04-11T07:17:56.703Z"
   },
   {
    "duration": 0,
    "start_time": "2022-04-11T07:17:56.704Z"
   },
   {
    "duration": 0,
    "start_time": "2022-04-11T07:17:56.705Z"
   },
   {
    "duration": 0,
    "start_time": "2022-04-11T07:17:56.707Z"
   },
   {
    "duration": 0,
    "start_time": "2022-04-11T07:17:56.708Z"
   },
   {
    "duration": 0,
    "start_time": "2022-04-11T07:17:56.709Z"
   },
   {
    "duration": 0,
    "start_time": "2022-04-11T07:17:56.710Z"
   },
   {
    "duration": 0,
    "start_time": "2022-04-11T07:17:56.711Z"
   },
   {
    "duration": 0,
    "start_time": "2022-04-11T07:17:56.712Z"
   },
   {
    "duration": 0,
    "start_time": "2022-04-11T07:17:56.714Z"
   },
   {
    "duration": 0,
    "start_time": "2022-04-11T07:17:56.715Z"
   },
   {
    "duration": 0,
    "start_time": "2022-04-11T07:17:56.716Z"
   },
   {
    "duration": 0,
    "start_time": "2022-04-11T07:17:56.717Z"
   },
   {
    "duration": 0,
    "start_time": "2022-04-11T07:17:56.779Z"
   },
   {
    "duration": 0,
    "start_time": "2022-04-11T07:17:56.781Z"
   },
   {
    "duration": 0,
    "start_time": "2022-04-11T07:17:56.782Z"
   },
   {
    "duration": 0,
    "start_time": "2022-04-11T07:17:56.783Z"
   },
   {
    "duration": 0,
    "start_time": "2022-04-11T07:17:56.784Z"
   },
   {
    "duration": 0,
    "start_time": "2022-04-11T07:17:56.785Z"
   },
   {
    "duration": 0,
    "start_time": "2022-04-11T07:17:56.786Z"
   },
   {
    "duration": 0,
    "start_time": "2022-04-11T07:17:56.788Z"
   },
   {
    "duration": 0,
    "start_time": "2022-04-11T07:17:56.789Z"
   },
   {
    "duration": 0,
    "start_time": "2022-04-11T07:17:56.790Z"
   },
   {
    "duration": 0,
    "start_time": "2022-04-11T07:17:56.791Z"
   },
   {
    "duration": 0,
    "start_time": "2022-04-11T07:17:56.792Z"
   },
   {
    "duration": 0,
    "start_time": "2022-04-11T07:17:56.793Z"
   },
   {
    "duration": 10,
    "start_time": "2022-04-11T07:18:31.648Z"
   },
   {
    "duration": 10,
    "start_time": "2022-04-11T07:18:41.586Z"
   },
   {
    "duration": 13,
    "start_time": "2022-04-11T07:18:49.400Z"
   },
   {
    "duration": 13,
    "start_time": "2022-04-11T07:18:56.220Z"
   },
   {
    "duration": 13,
    "start_time": "2022-04-11T07:19:03.346Z"
   },
   {
    "duration": 13,
    "start_time": "2022-04-11T07:20:22.962Z"
   },
   {
    "duration": 11,
    "start_time": "2022-04-11T07:20:26.811Z"
   },
   {
    "duration": 1649,
    "start_time": "2022-04-11T07:21:00.631Z"
   },
   {
    "duration": 166,
    "start_time": "2022-04-11T07:21:02.283Z"
   },
   {
    "duration": 12,
    "start_time": "2022-04-11T07:21:02.451Z"
   },
   {
    "duration": 160,
    "start_time": "2022-04-11T07:21:02.465Z"
   },
   {
    "duration": 136,
    "start_time": "2022-04-11T07:21:02.627Z"
   },
   {
    "duration": 15,
    "start_time": "2022-04-11T07:21:02.765Z"
   },
   {
    "duration": 99,
    "start_time": "2022-04-11T07:21:02.782Z"
   },
   {
    "duration": 63,
    "start_time": "2022-04-11T07:21:02.883Z"
   },
   {
    "duration": 15,
    "start_time": "2022-04-11T07:21:02.948Z"
   },
   {
    "duration": 28,
    "start_time": "2022-04-11T07:21:02.982Z"
   },
   {
    "duration": 173,
    "start_time": "2022-04-11T07:21:03.012Z"
   },
   {
    "duration": 12,
    "start_time": "2022-04-11T07:21:03.187Z"
   },
   {
    "duration": 17,
    "start_time": "2022-04-11T07:21:03.201Z"
   },
   {
    "duration": 15,
    "start_time": "2022-04-11T07:21:03.220Z"
   },
   {
    "duration": 48,
    "start_time": "2022-04-11T07:21:03.237Z"
   },
   {
    "duration": 13,
    "start_time": "2022-04-11T07:21:03.287Z"
   },
   {
    "duration": 20,
    "start_time": "2022-04-11T07:21:03.302Z"
   },
   {
    "duration": 4,
    "start_time": "2022-04-11T07:21:03.325Z"
   },
   {
    "duration": 10,
    "start_time": "2022-04-11T07:21:03.331Z"
   },
   {
    "duration": 52,
    "start_time": "2022-04-11T07:21:03.343Z"
   },
   {
    "duration": 3,
    "start_time": "2022-04-11T07:21:03.397Z"
   },
   {
    "duration": 18,
    "start_time": "2022-04-11T07:21:03.401Z"
   },
   {
    "duration": 14,
    "start_time": "2022-04-11T07:21:03.421Z"
   },
   {
    "duration": 42,
    "start_time": "2022-04-11T07:21:03.437Z"
   },
   {
    "duration": 9,
    "start_time": "2022-04-11T07:21:03.480Z"
   },
   {
    "duration": 29,
    "start_time": "2022-04-11T07:21:03.491Z"
   },
   {
    "duration": 7,
    "start_time": "2022-04-11T07:21:03.523Z"
   },
   {
    "duration": 44,
    "start_time": "2022-04-11T07:21:03.538Z"
   },
   {
    "duration": 6,
    "start_time": "2022-04-11T07:21:03.584Z"
   },
   {
    "duration": 554,
    "start_time": "2022-04-11T07:21:03.592Z"
   },
   {
    "duration": 13,
    "start_time": "2022-04-11T07:21:04.148Z"
   },
   {
    "duration": 22,
    "start_time": "2022-04-11T07:21:04.163Z"
   },
   {
    "duration": 14,
    "start_time": "2022-04-11T07:21:04.187Z"
   },
   {
    "duration": 6,
    "start_time": "2022-04-11T07:21:04.203Z"
   },
   {
    "duration": 16,
    "start_time": "2022-04-11T07:21:04.211Z"
   },
   {
    "duration": 8,
    "start_time": "2022-04-11T07:21:04.229Z"
   },
   {
    "duration": 54,
    "start_time": "2022-04-11T07:21:04.239Z"
   },
   {
    "duration": 7,
    "start_time": "2022-04-11T07:21:04.295Z"
   },
   {
    "duration": 224,
    "start_time": "2022-04-11T07:21:04.304Z"
   },
   {
    "duration": 6,
    "start_time": "2022-04-11T07:21:04.530Z"
   },
   {
    "duration": 23,
    "start_time": "2022-04-11T07:21:04.538Z"
   },
   {
    "duration": 24,
    "start_time": "2022-04-11T07:21:04.578Z"
   },
   {
    "duration": 6,
    "start_time": "2022-04-11T07:21:04.604Z"
   },
   {
    "duration": 8,
    "start_time": "2022-04-11T07:21:04.612Z"
   },
   {
    "duration": 8,
    "start_time": "2022-04-11T07:21:04.622Z"
   },
   {
    "duration": 8,
    "start_time": "2022-04-11T07:21:04.632Z"
   },
   {
    "duration": 86,
    "start_time": "2022-04-11T07:21:04.642Z"
   },
   {
    "duration": 6,
    "start_time": "2022-04-11T07:21:04.730Z"
   },
   {
    "duration": 9,
    "start_time": "2022-04-11T07:21:04.738Z"
   },
   {
    "duration": 10,
    "start_time": "2022-04-11T07:21:04.749Z"
   },
   {
    "duration": 342,
    "start_time": "2022-04-11T07:21:04.762Z"
   },
   {
    "duration": 174,
    "start_time": "2022-04-11T07:21:05.106Z"
   },
   {
    "duration": 205,
    "start_time": "2022-04-11T07:21:05.282Z"
   },
   {
    "duration": 170,
    "start_time": "2022-04-11T07:21:05.489Z"
   },
   {
    "duration": 190,
    "start_time": "2022-04-11T07:21:05.661Z"
   },
   {
    "duration": 248,
    "start_time": "2022-04-11T07:21:05.853Z"
   },
   {
    "duration": 8,
    "start_time": "2022-04-11T07:21:06.103Z"
   },
   {
    "duration": 12,
    "start_time": "2022-04-11T07:21:06.113Z"
   },
   {
    "duration": 7,
    "start_time": "2022-04-11T07:21:06.128Z"
   },
   {
    "duration": 78,
    "start_time": "2022-04-11T07:21:06.137Z"
   },
   {
    "duration": 4,
    "start_time": "2022-04-11T07:21:06.217Z"
   },
   {
    "duration": 9,
    "start_time": "2022-04-11T07:21:06.223Z"
   },
   {
    "duration": 7,
    "start_time": "2022-04-11T07:21:06.233Z"
   },
   {
    "duration": 204,
    "start_time": "2022-04-11T07:21:06.242Z"
   },
   {
    "duration": 178,
    "start_time": "2022-04-11T07:21:06.448Z"
   },
   {
    "duration": 173,
    "start_time": "2022-04-11T07:21:06.627Z"
   },
   {
    "duration": 172,
    "start_time": "2022-04-11T07:21:06.802Z"
   },
   {
    "duration": 191,
    "start_time": "2022-04-11T07:21:06.975Z"
   },
   {
    "duration": 230,
    "start_time": "2022-04-11T07:21:07.168Z"
   },
   {
    "duration": 341,
    "start_time": "2022-04-11T07:21:07.400Z"
   },
   {
    "duration": 4,
    "start_time": "2022-04-11T07:21:07.744Z"
   },
   {
    "duration": 175,
    "start_time": "2022-04-11T07:21:07.750Z"
   },
   {
    "duration": 4,
    "start_time": "2022-04-11T07:21:07.927Z"
   },
   {
    "duration": 8,
    "start_time": "2022-04-11T07:21:07.933Z"
   },
   {
    "duration": 6,
    "start_time": "2022-04-11T07:21:07.943Z"
   },
   {
    "duration": 30,
    "start_time": "2022-04-11T07:21:07.951Z"
   },
   {
    "duration": 11,
    "start_time": "2022-04-11T07:21:07.983Z"
   },
   {
    "duration": 10,
    "start_time": "2022-04-11T07:21:07.995Z"
   },
   {
    "duration": 321,
    "start_time": "2022-04-11T07:21:08.007Z"
   },
   {
    "duration": 6,
    "start_time": "2022-04-11T07:21:08.330Z"
   },
   {
    "duration": 345,
    "start_time": "2022-04-11T07:21:08.338Z"
   },
   {
    "duration": 5,
    "start_time": "2022-04-11T07:21:08.692Z"
   },
   {
    "duration": 7,
    "start_time": "2022-04-11T07:21:08.699Z"
   },
   {
    "duration": 13,
    "start_time": "2022-04-11T07:26:42.837Z"
   },
   {
    "duration": 12,
    "start_time": "2022-04-11T07:26:47.454Z"
   },
   {
    "duration": 16,
    "start_time": "2022-04-11T07:27:57.625Z"
   },
   {
    "duration": 13,
    "start_time": "2022-04-11T07:28:00.636Z"
   },
   {
    "duration": 114,
    "start_time": "2022-04-11T07:30:11.370Z"
   },
   {
    "duration": 19,
    "start_time": "2022-04-11T07:30:40.076Z"
   },
   {
    "duration": 14,
    "start_time": "2022-04-11T07:30:48.629Z"
   },
   {
    "duration": 19,
    "start_time": "2022-04-11T07:31:25.474Z"
   },
   {
    "duration": 14,
    "start_time": "2022-04-11T07:31:25.836Z"
   },
   {
    "duration": 115,
    "start_time": "2022-04-11T07:32:15.644Z"
   },
   {
    "duration": 29,
    "start_time": "2022-04-11T07:32:20.748Z"
   },
   {
    "duration": 21,
    "start_time": "2022-04-11T07:32:32.046Z"
   },
   {
    "duration": 12,
    "start_time": "2022-04-11T07:34:31.425Z"
   },
   {
    "duration": 1258,
    "start_time": "2022-04-11T07:34:36.438Z"
   },
   {
    "duration": 226,
    "start_time": "2022-04-11T07:34:37.698Z"
   },
   {
    "duration": 11,
    "start_time": "2022-04-11T07:34:37.926Z"
   },
   {
    "duration": 173,
    "start_time": "2022-04-11T07:34:37.939Z"
   },
   {
    "duration": 140,
    "start_time": "2022-04-11T07:34:38.114Z"
   },
   {
    "duration": 12,
    "start_time": "2022-04-11T07:34:38.257Z"
   },
   {
    "duration": 135,
    "start_time": "2022-04-11T07:34:38.278Z"
   },
   {
    "duration": 106,
    "start_time": "2022-04-11T07:34:38.415Z"
   },
   {
    "duration": 19,
    "start_time": "2022-04-11T07:34:38.523Z"
   },
   {
    "duration": 23,
    "start_time": "2022-04-11T07:34:38.546Z"
   },
   {
    "duration": 171,
    "start_time": "2022-04-11T07:34:38.580Z"
   },
   {
    "duration": 32,
    "start_time": "2022-04-11T07:34:38.753Z"
   },
   {
    "duration": 11,
    "start_time": "2022-04-11T07:34:38.787Z"
   },
   {
    "duration": 25,
    "start_time": "2022-04-11T07:34:38.800Z"
   },
   {
    "duration": 4,
    "start_time": "2022-04-11T07:34:38.827Z"
   },
   {
    "duration": 48,
    "start_time": "2022-04-11T07:34:38.833Z"
   },
   {
    "duration": 15,
    "start_time": "2022-04-11T07:34:38.882Z"
   },
   {
    "duration": 8,
    "start_time": "2022-04-11T07:34:38.899Z"
   },
   {
    "duration": 10,
    "start_time": "2022-04-11T07:34:38.909Z"
   },
   {
    "duration": 11,
    "start_time": "2022-04-11T07:34:38.921Z"
   },
   {
    "duration": 6,
    "start_time": "2022-04-11T07:34:38.934Z"
   },
   {
    "duration": 8,
    "start_time": "2022-04-11T07:34:38.980Z"
   },
   {
    "duration": 5,
    "start_time": "2022-04-11T07:34:38.990Z"
   },
   {
    "duration": 525,
    "start_time": "2022-04-11T07:34:38.997Z"
   },
   {
    "duration": 14,
    "start_time": "2022-04-11T07:34:39.524Z"
   },
   {
    "duration": 187,
    "start_time": "2022-04-11T07:34:39.540Z"
   },
   {
    "duration": 0,
    "start_time": "2022-04-11T07:34:39.732Z"
   },
   {
    "duration": 0,
    "start_time": "2022-04-11T07:34:39.734Z"
   },
   {
    "duration": 0,
    "start_time": "2022-04-11T07:34:39.736Z"
   },
   {
    "duration": 0,
    "start_time": "2022-04-11T07:34:39.737Z"
   },
   {
    "duration": 0,
    "start_time": "2022-04-11T07:34:39.738Z"
   },
   {
    "duration": 0,
    "start_time": "2022-04-11T07:34:39.740Z"
   },
   {
    "duration": 0,
    "start_time": "2022-04-11T07:34:39.741Z"
   },
   {
    "duration": 0,
    "start_time": "2022-04-11T07:34:39.742Z"
   },
   {
    "duration": 0,
    "start_time": "2022-04-11T07:34:39.744Z"
   },
   {
    "duration": 0,
    "start_time": "2022-04-11T07:34:39.745Z"
   },
   {
    "duration": 0,
    "start_time": "2022-04-11T07:34:39.747Z"
   },
   {
    "duration": 0,
    "start_time": "2022-04-11T07:34:39.748Z"
   },
   {
    "duration": 0,
    "start_time": "2022-04-11T07:34:39.749Z"
   },
   {
    "duration": 0,
    "start_time": "2022-04-11T07:34:39.750Z"
   },
   {
    "duration": 0,
    "start_time": "2022-04-11T07:34:39.779Z"
   },
   {
    "duration": 0,
    "start_time": "2022-04-11T07:34:39.781Z"
   },
   {
    "duration": 1,
    "start_time": "2022-04-11T07:34:39.782Z"
   },
   {
    "duration": 0,
    "start_time": "2022-04-11T07:34:39.784Z"
   },
   {
    "duration": 0,
    "start_time": "2022-04-11T07:34:39.785Z"
   },
   {
    "duration": 0,
    "start_time": "2022-04-11T07:34:39.787Z"
   },
   {
    "duration": 0,
    "start_time": "2022-04-11T07:34:39.788Z"
   },
   {
    "duration": 0,
    "start_time": "2022-04-11T07:34:39.789Z"
   },
   {
    "duration": 0,
    "start_time": "2022-04-11T07:34:39.791Z"
   },
   {
    "duration": 0,
    "start_time": "2022-04-11T07:34:39.792Z"
   },
   {
    "duration": 0,
    "start_time": "2022-04-11T07:34:39.794Z"
   },
   {
    "duration": 0,
    "start_time": "2022-04-11T07:34:39.795Z"
   },
   {
    "duration": 0,
    "start_time": "2022-04-11T07:34:39.796Z"
   },
   {
    "duration": 0,
    "start_time": "2022-04-11T07:34:39.797Z"
   },
   {
    "duration": 0,
    "start_time": "2022-04-11T07:34:39.798Z"
   },
   {
    "duration": 0,
    "start_time": "2022-04-11T07:34:39.800Z"
   },
   {
    "duration": 0,
    "start_time": "2022-04-11T07:34:39.801Z"
   },
   {
    "duration": 0,
    "start_time": "2022-04-11T07:34:39.803Z"
   },
   {
    "duration": 0,
    "start_time": "2022-04-11T07:34:39.804Z"
   },
   {
    "duration": 0,
    "start_time": "2022-04-11T07:34:39.806Z"
   },
   {
    "duration": 0,
    "start_time": "2022-04-11T07:34:39.807Z"
   },
   {
    "duration": 0,
    "start_time": "2022-04-11T07:34:39.809Z"
   },
   {
    "duration": 0,
    "start_time": "2022-04-11T07:34:39.810Z"
   },
   {
    "duration": 0,
    "start_time": "2022-04-11T07:34:39.811Z"
   },
   {
    "duration": 0,
    "start_time": "2022-04-11T07:34:39.813Z"
   },
   {
    "duration": 0,
    "start_time": "2022-04-11T07:34:39.814Z"
   },
   {
    "duration": 0,
    "start_time": "2022-04-11T07:34:39.815Z"
   },
   {
    "duration": 0,
    "start_time": "2022-04-11T07:34:39.817Z"
   },
   {
    "duration": 0,
    "start_time": "2022-04-11T07:34:39.818Z"
   },
   {
    "duration": 0,
    "start_time": "2022-04-11T07:34:39.879Z"
   },
   {
    "duration": 0,
    "start_time": "2022-04-11T07:34:39.881Z"
   },
   {
    "duration": 0,
    "start_time": "2022-04-11T07:34:39.882Z"
   },
   {
    "duration": 0,
    "start_time": "2022-04-11T07:34:39.883Z"
   },
   {
    "duration": 0,
    "start_time": "2022-04-11T07:34:39.885Z"
   },
   {
    "duration": 0,
    "start_time": "2022-04-11T07:34:39.886Z"
   },
   {
    "duration": 0,
    "start_time": "2022-04-11T07:34:39.887Z"
   },
   {
    "duration": 0,
    "start_time": "2022-04-11T07:34:39.888Z"
   },
   {
    "duration": 18,
    "start_time": "2022-04-11T07:34:59.211Z"
   },
   {
    "duration": 12,
    "start_time": "2022-04-11T07:35:15.443Z"
   },
   {
    "duration": 1595,
    "start_time": "2022-04-11T07:35:21.207Z"
   },
   {
    "duration": 234,
    "start_time": "2022-04-11T07:35:22.805Z"
   },
   {
    "duration": 11,
    "start_time": "2022-04-11T07:35:23.040Z"
   },
   {
    "duration": 197,
    "start_time": "2022-04-11T07:35:23.053Z"
   },
   {
    "duration": 127,
    "start_time": "2022-04-11T07:35:23.252Z"
   },
   {
    "duration": 12,
    "start_time": "2022-04-11T07:35:23.381Z"
   },
   {
    "duration": 155,
    "start_time": "2022-04-11T07:35:23.395Z"
   },
   {
    "duration": 98,
    "start_time": "2022-04-11T07:35:23.553Z"
   },
   {
    "duration": 27,
    "start_time": "2022-04-11T07:35:23.653Z"
   },
   {
    "duration": 28,
    "start_time": "2022-04-11T07:35:23.684Z"
   },
   {
    "duration": 124,
    "start_time": "2022-04-11T07:35:23.714Z"
   },
   {
    "duration": 20,
    "start_time": "2022-04-11T07:35:23.841Z"
   },
   {
    "duration": 11,
    "start_time": "2022-04-11T07:35:23.878Z"
   },
   {
    "duration": 21,
    "start_time": "2022-04-11T07:35:23.891Z"
   },
   {
    "duration": 4,
    "start_time": "2022-04-11T07:35:23.913Z"
   },
   {
    "duration": 23,
    "start_time": "2022-04-11T07:35:23.919Z"
   },
   {
    "duration": 43,
    "start_time": "2022-04-11T07:35:23.944Z"
   },
   {
    "duration": 10,
    "start_time": "2022-04-11T07:35:23.989Z"
   },
   {
    "duration": 11,
    "start_time": "2022-04-11T07:35:24.001Z"
   },
   {
    "duration": 16,
    "start_time": "2022-04-11T07:35:24.014Z"
   },
   {
    "duration": 5,
    "start_time": "2022-04-11T07:35:24.032Z"
   },
   {
    "duration": 42,
    "start_time": "2022-04-11T07:35:24.039Z"
   },
   {
    "duration": 8,
    "start_time": "2022-04-11T07:35:24.084Z"
   },
   {
    "duration": 537,
    "start_time": "2022-04-11T07:35:24.094Z"
   },
   {
    "duration": 13,
    "start_time": "2022-04-11T07:35:24.633Z"
   },
   {
    "duration": 121,
    "start_time": "2022-04-11T07:35:24.648Z"
   },
   {
    "duration": 0,
    "start_time": "2022-04-11T07:35:24.773Z"
   },
   {
    "duration": 0,
    "start_time": "2022-04-11T07:35:24.774Z"
   },
   {
    "duration": 0,
    "start_time": "2022-04-11T07:35:24.779Z"
   },
   {
    "duration": 0,
    "start_time": "2022-04-11T07:35:24.780Z"
   },
   {
    "duration": 0,
    "start_time": "2022-04-11T07:35:24.781Z"
   },
   {
    "duration": 0,
    "start_time": "2022-04-11T07:35:24.782Z"
   },
   {
    "duration": 0,
    "start_time": "2022-04-11T07:35:24.783Z"
   },
   {
    "duration": 0,
    "start_time": "2022-04-11T07:35:24.784Z"
   },
   {
    "duration": 0,
    "start_time": "2022-04-11T07:35:24.785Z"
   },
   {
    "duration": 0,
    "start_time": "2022-04-11T07:35:24.786Z"
   },
   {
    "duration": 0,
    "start_time": "2022-04-11T07:35:24.787Z"
   },
   {
    "duration": 0,
    "start_time": "2022-04-11T07:35:24.788Z"
   },
   {
    "duration": 0,
    "start_time": "2022-04-11T07:35:24.789Z"
   },
   {
    "duration": 0,
    "start_time": "2022-04-11T07:35:24.790Z"
   },
   {
    "duration": 0,
    "start_time": "2022-04-11T07:35:24.791Z"
   },
   {
    "duration": 0,
    "start_time": "2022-04-11T07:35:24.792Z"
   },
   {
    "duration": 0,
    "start_time": "2022-04-11T07:35:24.793Z"
   },
   {
    "duration": 0,
    "start_time": "2022-04-11T07:35:24.794Z"
   },
   {
    "duration": 0,
    "start_time": "2022-04-11T07:35:24.795Z"
   },
   {
    "duration": 0,
    "start_time": "2022-04-11T07:35:24.796Z"
   },
   {
    "duration": 0,
    "start_time": "2022-04-11T07:35:24.797Z"
   },
   {
    "duration": 0,
    "start_time": "2022-04-11T07:35:24.798Z"
   },
   {
    "duration": 0,
    "start_time": "2022-04-11T07:35:24.799Z"
   },
   {
    "duration": 0,
    "start_time": "2022-04-11T07:35:24.800Z"
   },
   {
    "duration": 0,
    "start_time": "2022-04-11T07:35:24.801Z"
   },
   {
    "duration": 0,
    "start_time": "2022-04-11T07:35:24.803Z"
   },
   {
    "duration": 0,
    "start_time": "2022-04-11T07:35:24.804Z"
   },
   {
    "duration": 0,
    "start_time": "2022-04-11T07:35:24.805Z"
   },
   {
    "duration": 0,
    "start_time": "2022-04-11T07:35:24.806Z"
   },
   {
    "duration": 0,
    "start_time": "2022-04-11T07:35:24.807Z"
   },
   {
    "duration": 0,
    "start_time": "2022-04-11T07:35:24.808Z"
   },
   {
    "duration": 0,
    "start_time": "2022-04-11T07:35:24.809Z"
   },
   {
    "duration": 0,
    "start_time": "2022-04-11T07:35:24.810Z"
   },
   {
    "duration": 0,
    "start_time": "2022-04-11T07:35:24.811Z"
   },
   {
    "duration": 0,
    "start_time": "2022-04-11T07:35:24.812Z"
   },
   {
    "duration": 0,
    "start_time": "2022-04-11T07:35:24.813Z"
   },
   {
    "duration": 0,
    "start_time": "2022-04-11T07:35:24.814Z"
   },
   {
    "duration": 0,
    "start_time": "2022-04-11T07:35:24.815Z"
   },
   {
    "duration": 0,
    "start_time": "2022-04-11T07:35:24.878Z"
   },
   {
    "duration": 0,
    "start_time": "2022-04-11T07:35:24.879Z"
   },
   {
    "duration": 0,
    "start_time": "2022-04-11T07:35:24.881Z"
   },
   {
    "duration": 0,
    "start_time": "2022-04-11T07:35:24.881Z"
   },
   {
    "duration": 0,
    "start_time": "2022-04-11T07:35:24.882Z"
   },
   {
    "duration": 0,
    "start_time": "2022-04-11T07:35:24.884Z"
   },
   {
    "duration": 0,
    "start_time": "2022-04-11T07:35:24.884Z"
   },
   {
    "duration": 0,
    "start_time": "2022-04-11T07:35:24.886Z"
   },
   {
    "duration": 0,
    "start_time": "2022-04-11T07:35:24.887Z"
   },
   {
    "duration": 0,
    "start_time": "2022-04-11T07:35:24.888Z"
   },
   {
    "duration": 0,
    "start_time": "2022-04-11T07:35:24.889Z"
   },
   {
    "duration": 0,
    "start_time": "2022-04-11T07:35:24.890Z"
   },
   {
    "duration": 0,
    "start_time": "2022-04-11T07:35:24.891Z"
   },
   {
    "duration": 1214,
    "start_time": "2022-04-11T08:53:05.722Z"
   },
   {
    "duration": 166,
    "start_time": "2022-04-11T08:53:06.938Z"
   },
   {
    "duration": 11,
    "start_time": "2022-04-11T08:53:07.106Z"
   },
   {
    "duration": 157,
    "start_time": "2022-04-11T08:53:07.119Z"
   },
   {
    "duration": 104,
    "start_time": "2022-04-11T08:53:07.278Z"
   },
   {
    "duration": 9,
    "start_time": "2022-04-11T08:53:07.383Z"
   },
   {
    "duration": 103,
    "start_time": "2022-04-11T08:53:07.394Z"
   },
   {
    "duration": 66,
    "start_time": "2022-04-11T08:53:07.498Z"
   },
   {
    "duration": 21,
    "start_time": "2022-04-11T08:53:07.565Z"
   },
   {
    "duration": 22,
    "start_time": "2022-04-11T08:53:07.588Z"
   },
   {
    "duration": 126,
    "start_time": "2022-04-11T08:53:07.612Z"
   },
   {
    "duration": 18,
    "start_time": "2022-04-11T08:53:07.740Z"
   },
   {
    "duration": 25,
    "start_time": "2022-04-11T08:53:07.760Z"
   },
   {
    "duration": 19,
    "start_time": "2022-04-11T08:53:07.787Z"
   },
   {
    "duration": 3,
    "start_time": "2022-04-11T08:53:07.808Z"
   },
   {
    "duration": 19,
    "start_time": "2022-04-11T08:53:07.813Z"
   },
   {
    "duration": 45,
    "start_time": "2022-04-11T08:53:07.834Z"
   },
   {
    "duration": 10,
    "start_time": "2022-04-11T08:53:07.881Z"
   },
   {
    "duration": 10,
    "start_time": "2022-04-11T08:53:07.893Z"
   },
   {
    "duration": 17,
    "start_time": "2022-04-11T08:53:07.904Z"
   },
   {
    "duration": 6,
    "start_time": "2022-04-11T08:53:07.923Z"
   },
   {
    "duration": 48,
    "start_time": "2022-04-11T08:53:07.931Z"
   },
   {
    "duration": 6,
    "start_time": "2022-04-11T08:53:07.982Z"
   },
   {
    "duration": 757,
    "start_time": "2022-04-11T08:53:07.990Z"
   },
   {
    "duration": 14,
    "start_time": "2022-04-11T08:53:08.749Z"
   },
   {
    "duration": 127,
    "start_time": "2022-04-11T08:53:08.764Z"
   },
   {
    "duration": 0,
    "start_time": "2022-04-11T08:53:08.894Z"
   },
   {
    "duration": 0,
    "start_time": "2022-04-11T08:53:08.895Z"
   },
   {
    "duration": 0,
    "start_time": "2022-04-11T08:53:08.896Z"
   },
   {
    "duration": 0,
    "start_time": "2022-04-11T08:53:08.897Z"
   },
   {
    "duration": 0,
    "start_time": "2022-04-11T08:53:08.898Z"
   },
   {
    "duration": 0,
    "start_time": "2022-04-11T08:53:08.899Z"
   },
   {
    "duration": 0,
    "start_time": "2022-04-11T08:53:08.900Z"
   },
   {
    "duration": 0,
    "start_time": "2022-04-11T08:53:08.901Z"
   },
   {
    "duration": 0,
    "start_time": "2022-04-11T08:53:08.902Z"
   },
   {
    "duration": 0,
    "start_time": "2022-04-11T08:53:08.903Z"
   },
   {
    "duration": 0,
    "start_time": "2022-04-11T08:53:08.904Z"
   },
   {
    "duration": 0,
    "start_time": "2022-04-11T08:53:08.905Z"
   },
   {
    "duration": 0,
    "start_time": "2022-04-11T08:53:08.906Z"
   },
   {
    "duration": 0,
    "start_time": "2022-04-11T08:53:08.907Z"
   },
   {
    "duration": 0,
    "start_time": "2022-04-11T08:53:08.908Z"
   },
   {
    "duration": 0,
    "start_time": "2022-04-11T08:53:08.909Z"
   },
   {
    "duration": 0,
    "start_time": "2022-04-11T08:53:08.910Z"
   },
   {
    "duration": 0,
    "start_time": "2022-04-11T08:53:08.912Z"
   },
   {
    "duration": 0,
    "start_time": "2022-04-11T08:53:08.913Z"
   },
   {
    "duration": 0,
    "start_time": "2022-04-11T08:53:08.914Z"
   },
   {
    "duration": 0,
    "start_time": "2022-04-11T08:53:08.915Z"
   },
   {
    "duration": 0,
    "start_time": "2022-04-11T08:53:08.916Z"
   },
   {
    "duration": 0,
    "start_time": "2022-04-11T08:53:08.917Z"
   },
   {
    "duration": 0,
    "start_time": "2022-04-11T08:53:08.918Z"
   },
   {
    "duration": 0,
    "start_time": "2022-04-11T08:53:08.919Z"
   },
   {
    "duration": 0,
    "start_time": "2022-04-11T08:53:08.920Z"
   },
   {
    "duration": 0,
    "start_time": "2022-04-11T08:53:08.921Z"
   },
   {
    "duration": 0,
    "start_time": "2022-04-11T08:53:08.922Z"
   },
   {
    "duration": 0,
    "start_time": "2022-04-11T08:53:08.923Z"
   },
   {
    "duration": 0,
    "start_time": "2022-04-11T08:53:08.924Z"
   },
   {
    "duration": 0,
    "start_time": "2022-04-11T08:53:08.925Z"
   },
   {
    "duration": 0,
    "start_time": "2022-04-11T08:53:08.926Z"
   },
   {
    "duration": 0,
    "start_time": "2022-04-11T08:53:08.927Z"
   },
   {
    "duration": 0,
    "start_time": "2022-04-11T08:53:08.979Z"
   },
   {
    "duration": 0,
    "start_time": "2022-04-11T08:53:08.980Z"
   },
   {
    "duration": 0,
    "start_time": "2022-04-11T08:53:08.981Z"
   },
   {
    "duration": 0,
    "start_time": "2022-04-11T08:53:08.982Z"
   },
   {
    "duration": 0,
    "start_time": "2022-04-11T08:53:08.983Z"
   },
   {
    "duration": 0,
    "start_time": "2022-04-11T08:53:08.983Z"
   },
   {
    "duration": 0,
    "start_time": "2022-04-11T08:53:08.984Z"
   },
   {
    "duration": 0,
    "start_time": "2022-04-11T08:53:08.986Z"
   },
   {
    "duration": 0,
    "start_time": "2022-04-11T08:53:08.987Z"
   },
   {
    "duration": 0,
    "start_time": "2022-04-11T08:53:08.987Z"
   },
   {
    "duration": 0,
    "start_time": "2022-04-11T08:53:08.988Z"
   },
   {
    "duration": 0,
    "start_time": "2022-04-11T08:53:08.989Z"
   },
   {
    "duration": 0,
    "start_time": "2022-04-11T08:53:08.990Z"
   },
   {
    "duration": 0,
    "start_time": "2022-04-11T08:53:08.991Z"
   },
   {
    "duration": 0,
    "start_time": "2022-04-11T08:53:08.992Z"
   },
   {
    "duration": 0,
    "start_time": "2022-04-11T08:53:08.993Z"
   },
   {
    "duration": 0,
    "start_time": "2022-04-11T08:53:08.994Z"
   },
   {
    "duration": 0,
    "start_time": "2022-04-11T08:53:08.995Z"
   },
   {
    "duration": 8,
    "start_time": "2022-04-11T08:57:22.771Z"
   },
   {
    "duration": 4,
    "start_time": "2022-04-11T08:57:34.806Z"
   },
   {
    "duration": 8,
    "start_time": "2022-04-11T08:57:56.227Z"
   },
   {
    "duration": 9,
    "start_time": "2022-04-11T08:58:01.746Z"
   },
   {
    "duration": 1452,
    "start_time": "2022-04-11T09:13:00.623Z"
   },
   {
    "duration": 249,
    "start_time": "2022-04-11T09:13:02.079Z"
   },
   {
    "duration": 16,
    "start_time": "2022-04-11T09:13:02.331Z"
   },
   {
    "duration": 163,
    "start_time": "2022-04-11T09:13:02.349Z"
   },
   {
    "duration": 100,
    "start_time": "2022-04-11T09:13:02.628Z"
   },
   {
    "duration": 9,
    "start_time": "2022-04-11T09:13:03.205Z"
   },
   {
    "duration": 92,
    "start_time": "2022-04-11T09:13:03.797Z"
   },
   {
    "duration": 62,
    "start_time": "2022-04-11T09:13:04.205Z"
   },
   {
    "duration": 15,
    "start_time": "2022-04-11T09:13:22.160Z"
   },
   {
    "duration": 22,
    "start_time": "2022-04-11T09:13:22.177Z"
   },
   {
    "duration": 113,
    "start_time": "2022-04-11T09:13:22.201Z"
   },
   {
    "duration": 18,
    "start_time": "2022-04-11T09:13:22.316Z"
   },
   {
    "duration": 10,
    "start_time": "2022-04-11T09:13:22.336Z"
   },
   {
    "duration": 46,
    "start_time": "2022-04-11T09:13:22.348Z"
   },
   {
    "duration": 3,
    "start_time": "2022-04-11T09:13:22.396Z"
   },
   {
    "duration": 19,
    "start_time": "2022-04-11T09:13:22.401Z"
   },
   {
    "duration": 17,
    "start_time": "2022-04-11T09:13:22.422Z"
   },
   {
    "duration": 8,
    "start_time": "2022-04-11T09:13:22.441Z"
   },
   {
    "duration": 9,
    "start_time": "2022-04-11T09:13:22.917Z"
   },
   {
    "duration": 15,
    "start_time": "2022-04-11T09:13:25.213Z"
   },
   {
    "duration": 3,
    "start_time": "2022-04-11T09:13:29.959Z"
   },
   {
    "duration": 7,
    "start_time": "2022-04-11T09:13:31.450Z"
   },
   {
    "duration": 16,
    "start_time": "2022-04-11T09:14:06.116Z"
   },
   {
    "duration": 18,
    "start_time": "2022-04-11T09:15:02.497Z"
   },
   {
    "duration": 5,
    "start_time": "2022-04-11T09:22:13.979Z"
   },
   {
    "duration": 5,
    "start_time": "2022-04-11T09:22:37.764Z"
   },
   {
    "duration": 4,
    "start_time": "2022-04-11T09:22:55.557Z"
   },
   {
    "duration": 5,
    "start_time": "2022-04-11T09:23:01.365Z"
   },
   {
    "duration": 8,
    "start_time": "2022-04-11T09:23:09.102Z"
   },
   {
    "duration": 10,
    "start_time": "2022-04-11T09:23:27.799Z"
   },
   {
    "duration": 17,
    "start_time": "2022-04-11T09:24:24.860Z"
   },
   {
    "duration": 21,
    "start_time": "2022-04-11T09:24:40.118Z"
   },
   {
    "duration": 34,
    "start_time": "2022-04-11T09:24:57.846Z"
   },
   {
    "duration": 37,
    "start_time": "2022-04-11T09:25:14.160Z"
   },
   {
    "duration": 3668,
    "start_time": "2022-04-11T09:26:04.149Z"
   },
   {
    "duration": 6,
    "start_time": "2022-04-11T09:26:23.130Z"
   },
   {
    "duration": 12,
    "start_time": "2022-04-11T09:26:42.260Z"
   },
   {
    "duration": 1221,
    "start_time": "2022-04-11T09:27:14.495Z"
   },
   {
    "duration": 162,
    "start_time": "2022-04-11T09:27:15.718Z"
   },
   {
    "duration": 11,
    "start_time": "2022-04-11T09:27:15.881Z"
   },
   {
    "duration": 153,
    "start_time": "2022-04-11T09:27:15.894Z"
   },
   {
    "duration": 101,
    "start_time": "2022-04-11T09:27:16.048Z"
   },
   {
    "duration": 8,
    "start_time": "2022-04-11T09:27:16.151Z"
   },
   {
    "duration": 100,
    "start_time": "2022-04-11T09:27:16.161Z"
   },
   {
    "duration": 69,
    "start_time": "2022-04-11T09:27:16.263Z"
   },
   {
    "duration": 15,
    "start_time": "2022-04-11T09:27:16.334Z"
   },
   {
    "duration": 30,
    "start_time": "2022-04-11T09:27:16.352Z"
   },
   {
    "duration": 172,
    "start_time": "2022-04-11T09:27:16.385Z"
   },
   {
    "duration": 33,
    "start_time": "2022-04-11T09:27:16.559Z"
   },
   {
    "duration": 13,
    "start_time": "2022-04-11T09:27:16.595Z"
   },
   {
    "duration": 21,
    "start_time": "2022-04-11T09:27:16.610Z"
   },
   {
    "duration": 3,
    "start_time": "2022-04-11T09:27:16.633Z"
   },
   {
    "duration": 46,
    "start_time": "2022-04-11T09:27:16.637Z"
   },
   {
    "duration": 15,
    "start_time": "2022-04-11T09:27:16.685Z"
   },
   {
    "duration": 8,
    "start_time": "2022-04-11T09:27:16.702Z"
   },
   {
    "duration": 10,
    "start_time": "2022-04-11T09:27:16.712Z"
   },
   {
    "duration": 16,
    "start_time": "2022-04-11T09:27:16.723Z"
   },
   {
    "duration": 4,
    "start_time": "2022-04-11T09:27:16.740Z"
   },
   {
    "duration": 19,
    "start_time": "2022-04-11T09:27:16.779Z"
   },
   {
    "duration": 113,
    "start_time": "2022-04-11T09:27:16.800Z"
   },
   {
    "duration": 0,
    "start_time": "2022-04-11T09:27:16.917Z"
   },
   {
    "duration": 0,
    "start_time": "2022-04-11T09:27:16.918Z"
   },
   {
    "duration": 0,
    "start_time": "2022-04-11T09:27:16.919Z"
   },
   {
    "duration": 0,
    "start_time": "2022-04-11T09:27:16.921Z"
   },
   {
    "duration": 0,
    "start_time": "2022-04-11T09:27:16.922Z"
   },
   {
    "duration": 0,
    "start_time": "2022-04-11T09:27:16.923Z"
   },
   {
    "duration": 0,
    "start_time": "2022-04-11T09:27:16.923Z"
   },
   {
    "duration": 0,
    "start_time": "2022-04-11T09:27:16.925Z"
   },
   {
    "duration": 0,
    "start_time": "2022-04-11T09:27:16.925Z"
   },
   {
    "duration": 0,
    "start_time": "2022-04-11T09:27:16.926Z"
   },
   {
    "duration": 0,
    "start_time": "2022-04-11T09:27:16.927Z"
   },
   {
    "duration": 0,
    "start_time": "2022-04-11T09:27:16.928Z"
   },
   {
    "duration": 0,
    "start_time": "2022-04-11T09:27:16.929Z"
   },
   {
    "duration": 0,
    "start_time": "2022-04-11T09:27:16.930Z"
   },
   {
    "duration": 0,
    "start_time": "2022-04-11T09:27:16.932Z"
   },
   {
    "duration": 0,
    "start_time": "2022-04-11T09:27:16.933Z"
   },
   {
    "duration": 0,
    "start_time": "2022-04-11T09:27:16.934Z"
   },
   {
    "duration": 0,
    "start_time": "2022-04-11T09:27:16.935Z"
   },
   {
    "duration": 0,
    "start_time": "2022-04-11T09:27:16.936Z"
   },
   {
    "duration": 0,
    "start_time": "2022-04-11T09:27:16.937Z"
   },
   {
    "duration": 0,
    "start_time": "2022-04-11T09:27:16.938Z"
   },
   {
    "duration": 0,
    "start_time": "2022-04-11T09:27:16.939Z"
   },
   {
    "duration": 0,
    "start_time": "2022-04-11T09:27:16.940Z"
   },
   {
    "duration": 0,
    "start_time": "2022-04-11T09:27:16.941Z"
   },
   {
    "duration": 0,
    "start_time": "2022-04-11T09:27:16.979Z"
   },
   {
    "duration": 0,
    "start_time": "2022-04-11T09:27:16.980Z"
   },
   {
    "duration": 0,
    "start_time": "2022-04-11T09:27:16.981Z"
   },
   {
    "duration": 0,
    "start_time": "2022-04-11T09:27:16.983Z"
   },
   {
    "duration": 0,
    "start_time": "2022-04-11T09:27:16.984Z"
   },
   {
    "duration": 0,
    "start_time": "2022-04-11T09:27:16.985Z"
   },
   {
    "duration": 0,
    "start_time": "2022-04-11T09:27:16.986Z"
   },
   {
    "duration": 0,
    "start_time": "2022-04-11T09:27:16.987Z"
   },
   {
    "duration": 0,
    "start_time": "2022-04-11T09:27:16.988Z"
   },
   {
    "duration": 0,
    "start_time": "2022-04-11T09:27:16.989Z"
   },
   {
    "duration": 1,
    "start_time": "2022-04-11T09:27:16.989Z"
   },
   {
    "duration": 0,
    "start_time": "2022-04-11T09:27:16.991Z"
   },
   {
    "duration": 0,
    "start_time": "2022-04-11T09:27:16.992Z"
   },
   {
    "duration": 0,
    "start_time": "2022-04-11T09:27:16.992Z"
   },
   {
    "duration": 0,
    "start_time": "2022-04-11T09:27:16.994Z"
   },
   {
    "duration": 0,
    "start_time": "2022-04-11T09:27:16.994Z"
   },
   {
    "duration": 0,
    "start_time": "2022-04-11T09:27:16.995Z"
   },
   {
    "duration": 0,
    "start_time": "2022-04-11T09:27:16.996Z"
   },
   {
    "duration": 0,
    "start_time": "2022-04-11T09:27:16.997Z"
   },
   {
    "duration": 0,
    "start_time": "2022-04-11T09:27:16.997Z"
   },
   {
    "duration": 0,
    "start_time": "2022-04-11T09:27:16.998Z"
   },
   {
    "duration": 0,
    "start_time": "2022-04-11T09:27:17.000Z"
   },
   {
    "duration": 0,
    "start_time": "2022-04-11T09:27:17.000Z"
   },
   {
    "duration": 0,
    "start_time": "2022-04-11T09:27:17.001Z"
   },
   {
    "duration": 0,
    "start_time": "2022-04-11T09:27:17.002Z"
   },
   {
    "duration": 0,
    "start_time": "2022-04-11T09:27:17.004Z"
   },
   {
    "duration": 0,
    "start_time": "2022-04-11T09:27:17.006Z"
   },
   {
    "duration": 0,
    "start_time": "2022-04-11T09:27:17.007Z"
   },
   {
    "duration": 0,
    "start_time": "2022-04-11T09:27:17.008Z"
   },
   {
    "duration": 0,
    "start_time": "2022-04-11T09:27:17.010Z"
   },
   {
    "duration": 0,
    "start_time": "2022-04-11T09:27:17.011Z"
   },
   {
    "duration": 0,
    "start_time": "2022-04-11T09:27:17.013Z"
   },
   {
    "duration": 25,
    "start_time": "2022-04-11T09:27:28.672Z"
   },
   {
    "duration": 21,
    "start_time": "2022-04-11T09:28:24.306Z"
   },
   {
    "duration": 14,
    "start_time": "2022-04-11T09:28:55.128Z"
   },
   {
    "duration": 14,
    "start_time": "2022-04-11T09:28:59.046Z"
   },
   {
    "duration": 7,
    "start_time": "2022-04-11T09:31:05.278Z"
   },
   {
    "duration": 21,
    "start_time": "2022-04-11T09:31:22.671Z"
   },
   {
    "duration": 6,
    "start_time": "2022-04-11T09:32:24.079Z"
   },
   {
    "duration": 23,
    "start_time": "2022-04-11T09:32:24.574Z"
   },
   {
    "duration": 2633,
    "start_time": "2022-04-11T09:32:33.255Z"
   },
   {
    "duration": 345,
    "start_time": "2022-04-11T09:32:35.891Z"
   },
   {
    "duration": 14,
    "start_time": "2022-04-11T09:32:36.279Z"
   },
   {
    "duration": 221,
    "start_time": "2022-04-11T09:32:36.295Z"
   },
   {
    "duration": 97,
    "start_time": "2022-04-11T09:32:36.518Z"
   },
   {
    "duration": 10,
    "start_time": "2022-04-11T09:32:36.617Z"
   },
   {
    "duration": 107,
    "start_time": "2022-04-11T09:32:36.630Z"
   },
   {
    "duration": 79,
    "start_time": "2022-04-11T09:32:36.739Z"
   },
   {
    "duration": 21,
    "start_time": "2022-04-11T09:32:36.820Z"
   },
   {
    "duration": 35,
    "start_time": "2022-04-11T09:32:36.845Z"
   },
   {
    "duration": 128,
    "start_time": "2022-04-11T09:32:36.883Z"
   },
   {
    "duration": 25,
    "start_time": "2022-04-11T09:32:37.013Z"
   },
   {
    "duration": 14,
    "start_time": "2022-04-11T09:32:37.040Z"
   },
   {
    "duration": 43,
    "start_time": "2022-04-11T09:32:37.058Z"
   },
   {
    "duration": 4,
    "start_time": "2022-04-11T09:32:37.104Z"
   },
   {
    "duration": 28,
    "start_time": "2022-04-11T09:32:37.110Z"
   },
   {
    "duration": 19,
    "start_time": "2022-04-11T09:32:37.140Z"
   },
   {
    "duration": 10,
    "start_time": "2022-04-11T09:32:37.180Z"
   },
   {
    "duration": 16,
    "start_time": "2022-04-11T09:32:37.192Z"
   },
   {
    "duration": 32,
    "start_time": "2022-04-11T09:32:37.210Z"
   },
   {
    "duration": 5,
    "start_time": "2022-04-11T09:32:37.244Z"
   },
   {
    "duration": 44,
    "start_time": "2022-04-11T09:32:37.251Z"
   },
   {
    "duration": 27,
    "start_time": "2022-04-11T09:32:37.297Z"
   },
   {
    "duration": 23,
    "start_time": "2022-04-11T09:32:37.327Z"
   },
   {
    "duration": 13,
    "start_time": "2022-04-11T09:32:37.352Z"
   },
   {
    "duration": 8,
    "start_time": "2022-04-11T09:32:37.367Z"
   },
   {
    "duration": 583,
    "start_time": "2022-04-11T09:32:37.377Z"
   },
   {
    "duration": 26,
    "start_time": "2022-04-11T09:32:37.966Z"
   },
   {
    "duration": 160,
    "start_time": "2022-04-11T09:32:37.994Z"
   },
   {
    "duration": 0,
    "start_time": "2022-04-11T09:32:38.156Z"
   },
   {
    "duration": 0,
    "start_time": "2022-04-11T09:32:38.158Z"
   },
   {
    "duration": 0,
    "start_time": "2022-04-11T09:32:38.160Z"
   },
   {
    "duration": 0,
    "start_time": "2022-04-11T09:32:38.161Z"
   },
   {
    "duration": 0,
    "start_time": "2022-04-11T09:32:38.162Z"
   },
   {
    "duration": 0,
    "start_time": "2022-04-11T09:32:38.179Z"
   },
   {
    "duration": 0,
    "start_time": "2022-04-11T09:32:38.180Z"
   },
   {
    "duration": 0,
    "start_time": "2022-04-11T09:32:38.181Z"
   },
   {
    "duration": 0,
    "start_time": "2022-04-11T09:32:38.183Z"
   },
   {
    "duration": 0,
    "start_time": "2022-04-11T09:32:38.184Z"
   },
   {
    "duration": 0,
    "start_time": "2022-04-11T09:32:38.185Z"
   },
   {
    "duration": 0,
    "start_time": "2022-04-11T09:32:38.187Z"
   },
   {
    "duration": 0,
    "start_time": "2022-04-11T09:32:38.188Z"
   },
   {
    "duration": 0,
    "start_time": "2022-04-11T09:32:38.190Z"
   },
   {
    "duration": 0,
    "start_time": "2022-04-11T09:32:38.194Z"
   },
   {
    "duration": 0,
    "start_time": "2022-04-11T09:32:38.195Z"
   },
   {
    "duration": 0,
    "start_time": "2022-04-11T09:32:38.196Z"
   },
   {
    "duration": 0,
    "start_time": "2022-04-11T09:32:38.198Z"
   },
   {
    "duration": 0,
    "start_time": "2022-04-11T09:32:38.200Z"
   },
   {
    "duration": 0,
    "start_time": "2022-04-11T09:32:38.202Z"
   },
   {
    "duration": 0,
    "start_time": "2022-04-11T09:32:38.203Z"
   },
   {
    "duration": 0,
    "start_time": "2022-04-11T09:32:38.205Z"
   },
   {
    "duration": 0,
    "start_time": "2022-04-11T09:32:38.207Z"
   },
   {
    "duration": 0,
    "start_time": "2022-04-11T09:32:38.208Z"
   },
   {
    "duration": 0,
    "start_time": "2022-04-11T09:32:38.210Z"
   },
   {
    "duration": 0,
    "start_time": "2022-04-11T09:32:38.212Z"
   },
   {
    "duration": 0,
    "start_time": "2022-04-11T09:32:38.214Z"
   },
   {
    "duration": 0,
    "start_time": "2022-04-11T09:32:38.216Z"
   },
   {
    "duration": 0,
    "start_time": "2022-04-11T09:32:38.218Z"
   },
   {
    "duration": 0,
    "start_time": "2022-04-11T09:32:38.219Z"
   },
   {
    "duration": 0,
    "start_time": "2022-04-11T09:32:38.222Z"
   },
   {
    "duration": 0,
    "start_time": "2022-04-11T09:32:38.224Z"
   },
   {
    "duration": 0,
    "start_time": "2022-04-11T09:32:38.279Z"
   },
   {
    "duration": 0,
    "start_time": "2022-04-11T09:32:38.281Z"
   },
   {
    "duration": 0,
    "start_time": "2022-04-11T09:32:38.283Z"
   },
   {
    "duration": 0,
    "start_time": "2022-04-11T09:32:38.284Z"
   },
   {
    "duration": 0,
    "start_time": "2022-04-11T09:32:38.285Z"
   },
   {
    "duration": 0,
    "start_time": "2022-04-11T09:32:38.286Z"
   },
   {
    "duration": 0,
    "start_time": "2022-04-11T09:32:38.287Z"
   },
   {
    "duration": 0,
    "start_time": "2022-04-11T09:32:38.287Z"
   },
   {
    "duration": 0,
    "start_time": "2022-04-11T09:32:38.288Z"
   },
   {
    "duration": 0,
    "start_time": "2022-04-11T09:32:38.289Z"
   },
   {
    "duration": 0,
    "start_time": "2022-04-11T09:32:38.291Z"
   },
   {
    "duration": 1,
    "start_time": "2022-04-11T09:32:38.292Z"
   },
   {
    "duration": 0,
    "start_time": "2022-04-11T09:32:38.293Z"
   },
   {
    "duration": 0,
    "start_time": "2022-04-11T09:32:38.294Z"
   },
   {
    "duration": 0,
    "start_time": "2022-04-11T09:32:38.296Z"
   },
   {
    "duration": 0,
    "start_time": "2022-04-11T09:32:38.297Z"
   },
   {
    "duration": 0,
    "start_time": "2022-04-11T09:32:38.298Z"
   },
   {
    "duration": 0,
    "start_time": "2022-04-11T09:32:38.299Z"
   },
   {
    "duration": 1,
    "start_time": "2022-04-11T09:32:38.300Z"
   },
   {
    "duration": 15,
    "start_time": "2022-04-11T10:24:08.799Z"
   },
   {
    "duration": 11,
    "start_time": "2022-04-11T10:25:52.800Z"
   },
   {
    "duration": 8,
    "start_time": "2022-04-11T10:26:31.236Z"
   },
   {
    "duration": 18,
    "start_time": "2022-04-11T10:26:47.810Z"
   },
   {
    "duration": 8,
    "start_time": "2022-04-11T10:27:28.602Z"
   },
   {
    "duration": 17,
    "start_time": "2022-04-11T10:27:31.136Z"
   },
   {
    "duration": 17,
    "start_time": "2022-04-11T10:28:34.776Z"
   },
   {
    "duration": 6,
    "start_time": "2022-04-11T10:28:58.927Z"
   },
   {
    "duration": 7,
    "start_time": "2022-04-11T10:29:17.456Z"
   },
   {
    "duration": 1656,
    "start_time": "2022-04-11T10:30:47.536Z"
   },
   {
    "duration": 1447,
    "start_time": "2022-04-11T10:31:12.480Z"
   },
   {
    "duration": 5,
    "start_time": "2022-04-11T10:46:17.515Z"
   },
   {
    "duration": 27,
    "start_time": "2022-04-11T10:46:29.197Z"
   },
   {
    "duration": 8,
    "start_time": "2022-04-11T10:47:26.069Z"
   },
   {
    "duration": 28,
    "start_time": "2022-04-11T10:47:26.611Z"
   },
   {
    "duration": 9,
    "start_time": "2022-04-11T10:48:46.604Z"
   },
   {
    "duration": 30,
    "start_time": "2022-04-11T10:48:47.236Z"
   },
   {
    "duration": 7,
    "start_time": "2022-04-11T11:06:14.096Z"
   },
   {
    "duration": 17,
    "start_time": "2022-04-11T11:06:14.607Z"
   },
   {
    "duration": 6,
    "start_time": "2022-04-11T11:07:39.585Z"
   },
   {
    "duration": 18,
    "start_time": "2022-04-11T11:07:41.614Z"
   },
   {
    "duration": 9,
    "start_time": "2022-04-11T11:08:07.102Z"
   },
   {
    "duration": 8,
    "start_time": "2022-04-11T11:08:50.387Z"
   },
   {
    "duration": 18,
    "start_time": "2022-04-11T11:08:51.205Z"
   },
   {
    "duration": 18,
    "start_time": "2022-04-11T11:09:08.582Z"
   },
   {
    "duration": 7,
    "start_time": "2022-04-11T11:15:16.334Z"
   },
   {
    "duration": 7,
    "start_time": "2022-04-11T11:17:07.484Z"
   },
   {
    "duration": 22,
    "start_time": "2022-04-11T11:17:07.901Z"
   },
   {
    "duration": 8,
    "start_time": "2022-04-11T11:17:37.288Z"
   },
   {
    "duration": 18,
    "start_time": "2022-04-11T11:17:51.067Z"
   },
   {
    "duration": 1388,
    "start_time": "2022-04-11T11:18:26.234Z"
   },
   {
    "duration": 159,
    "start_time": "2022-04-11T11:18:27.625Z"
   },
   {
    "duration": 15,
    "start_time": "2022-04-11T11:18:27.786Z"
   },
   {
    "duration": 154,
    "start_time": "2022-04-11T11:18:27.805Z"
   },
   {
    "duration": 101,
    "start_time": "2022-04-11T11:18:27.960Z"
   },
   {
    "duration": 16,
    "start_time": "2022-04-11T11:18:28.062Z"
   },
   {
    "duration": 105,
    "start_time": "2022-04-11T11:18:28.080Z"
   },
   {
    "duration": 63,
    "start_time": "2022-04-11T11:18:28.187Z"
   },
   {
    "duration": 28,
    "start_time": "2022-04-11T11:18:28.252Z"
   },
   {
    "duration": 46,
    "start_time": "2022-04-11T11:18:28.284Z"
   },
   {
    "duration": 109,
    "start_time": "2022-04-11T11:18:28.332Z"
   },
   {
    "duration": 18,
    "start_time": "2022-04-11T11:18:28.443Z"
   },
   {
    "duration": 29,
    "start_time": "2022-04-11T11:18:28.463Z"
   },
   {
    "duration": 27,
    "start_time": "2022-04-11T11:18:28.494Z"
   },
   {
    "duration": 3,
    "start_time": "2022-04-11T11:18:28.523Z"
   },
   {
    "duration": 21,
    "start_time": "2022-04-11T11:18:28.527Z"
   },
   {
    "duration": 43,
    "start_time": "2022-04-11T11:18:28.550Z"
   },
   {
    "duration": 8,
    "start_time": "2022-04-11T11:18:28.595Z"
   },
   {
    "duration": 10,
    "start_time": "2022-04-11T11:18:28.605Z"
   },
   {
    "duration": 16,
    "start_time": "2022-04-11T11:18:28.617Z"
   },
   {
    "duration": 44,
    "start_time": "2022-04-11T11:18:28.635Z"
   },
   {
    "duration": 21,
    "start_time": "2022-04-11T11:18:28.681Z"
   },
   {
    "duration": 9,
    "start_time": "2022-04-11T11:18:28.703Z"
   },
   {
    "duration": 22,
    "start_time": "2022-04-11T11:18:28.715Z"
   },
   {
    "duration": 6,
    "start_time": "2022-04-11T11:18:28.738Z"
   },
   {
    "duration": 43,
    "start_time": "2022-04-11T11:18:28.746Z"
   },
   {
    "duration": 6,
    "start_time": "2022-04-11T11:18:28.791Z"
   },
   {
    "duration": 17,
    "start_time": "2022-04-11T11:18:28.803Z"
   },
   {
    "duration": 9,
    "start_time": "2022-04-11T11:18:28.821Z"
   },
   {
    "duration": 7,
    "start_time": "2022-04-11T11:18:28.832Z"
   },
   {
    "duration": 580,
    "start_time": "2022-04-11T11:18:28.840Z"
   },
   {
    "duration": 17,
    "start_time": "2022-04-11T11:18:29.421Z"
   },
   {
    "duration": 125,
    "start_time": "2022-04-11T11:18:29.440Z"
   },
   {
    "duration": 0,
    "start_time": "2022-04-11T11:18:29.567Z"
   },
   {
    "duration": 0,
    "start_time": "2022-04-11T11:18:29.569Z"
   },
   {
    "duration": 0,
    "start_time": "2022-04-11T11:18:29.570Z"
   },
   {
    "duration": 0,
    "start_time": "2022-04-11T11:18:29.578Z"
   },
   {
    "duration": 0,
    "start_time": "2022-04-11T11:18:29.580Z"
   },
   {
    "duration": 0,
    "start_time": "2022-04-11T11:18:29.582Z"
   },
   {
    "duration": 0,
    "start_time": "2022-04-11T11:18:29.583Z"
   },
   {
    "duration": 0,
    "start_time": "2022-04-11T11:18:29.584Z"
   },
   {
    "duration": 0,
    "start_time": "2022-04-11T11:18:29.586Z"
   },
   {
    "duration": 0,
    "start_time": "2022-04-11T11:18:29.587Z"
   },
   {
    "duration": 0,
    "start_time": "2022-04-11T11:18:29.589Z"
   },
   {
    "duration": 0,
    "start_time": "2022-04-11T11:18:29.590Z"
   },
   {
    "duration": 0,
    "start_time": "2022-04-11T11:18:29.591Z"
   },
   {
    "duration": 0,
    "start_time": "2022-04-11T11:18:29.592Z"
   },
   {
    "duration": 0,
    "start_time": "2022-04-11T11:18:29.594Z"
   },
   {
    "duration": 0,
    "start_time": "2022-04-11T11:18:29.596Z"
   },
   {
    "duration": 0,
    "start_time": "2022-04-11T11:18:29.597Z"
   },
   {
    "duration": 0,
    "start_time": "2022-04-11T11:18:29.598Z"
   },
   {
    "duration": 0,
    "start_time": "2022-04-11T11:18:29.600Z"
   },
   {
    "duration": 0,
    "start_time": "2022-04-11T11:18:29.601Z"
   },
   {
    "duration": 0,
    "start_time": "2022-04-11T11:18:29.602Z"
   },
   {
    "duration": 0,
    "start_time": "2022-04-11T11:18:29.604Z"
   },
   {
    "duration": 0,
    "start_time": "2022-04-11T11:18:29.605Z"
   },
   {
    "duration": 0,
    "start_time": "2022-04-11T11:18:29.606Z"
   },
   {
    "duration": 0,
    "start_time": "2022-04-11T11:18:29.608Z"
   },
   {
    "duration": 0,
    "start_time": "2022-04-11T11:18:29.609Z"
   },
   {
    "duration": 0,
    "start_time": "2022-04-11T11:18:29.610Z"
   },
   {
    "duration": 0,
    "start_time": "2022-04-11T11:18:29.611Z"
   },
   {
    "duration": 0,
    "start_time": "2022-04-11T11:18:29.613Z"
   },
   {
    "duration": 0,
    "start_time": "2022-04-11T11:18:29.614Z"
   },
   {
    "duration": 0,
    "start_time": "2022-04-11T11:18:29.616Z"
   },
   {
    "duration": 0,
    "start_time": "2022-04-11T11:18:29.617Z"
   },
   {
    "duration": 0,
    "start_time": "2022-04-11T11:18:29.679Z"
   },
   {
    "duration": 0,
    "start_time": "2022-04-11T11:18:29.681Z"
   },
   {
    "duration": 0,
    "start_time": "2022-04-11T11:18:29.682Z"
   },
   {
    "duration": 0,
    "start_time": "2022-04-11T11:18:29.684Z"
   },
   {
    "duration": 0,
    "start_time": "2022-04-11T11:18:29.686Z"
   },
   {
    "duration": 0,
    "start_time": "2022-04-11T11:18:29.687Z"
   },
   {
    "duration": 0,
    "start_time": "2022-04-11T11:18:29.688Z"
   },
   {
    "duration": 0,
    "start_time": "2022-04-11T11:18:29.690Z"
   },
   {
    "duration": 0,
    "start_time": "2022-04-11T11:18:29.691Z"
   },
   {
    "duration": 0,
    "start_time": "2022-04-11T11:18:29.693Z"
   },
   {
    "duration": 0,
    "start_time": "2022-04-11T11:18:29.694Z"
   },
   {
    "duration": 0,
    "start_time": "2022-04-11T11:18:29.696Z"
   },
   {
    "duration": 0,
    "start_time": "2022-04-11T11:18:29.698Z"
   },
   {
    "duration": 0,
    "start_time": "2022-04-11T11:18:29.699Z"
   },
   {
    "duration": 0,
    "start_time": "2022-04-11T11:18:29.700Z"
   },
   {
    "duration": 0,
    "start_time": "2022-04-11T11:18:29.702Z"
   },
   {
    "duration": 0,
    "start_time": "2022-04-11T11:18:29.703Z"
   },
   {
    "duration": 0,
    "start_time": "2022-04-11T11:18:29.705Z"
   },
   {
    "duration": 0,
    "start_time": "2022-04-11T11:18:29.706Z"
   },
   {
    "duration": 5,
    "start_time": "2022-04-11T11:43:33.012Z"
   },
   {
    "duration": 1236,
    "start_time": "2022-04-11T11:43:38.364Z"
   },
   {
    "duration": 153,
    "start_time": "2022-04-11T11:43:39.602Z"
   },
   {
    "duration": 10,
    "start_time": "2022-04-11T11:43:39.757Z"
   },
   {
    "duration": 133,
    "start_time": "2022-04-11T11:43:39.777Z"
   },
   {
    "duration": 95,
    "start_time": "2022-04-11T11:43:39.912Z"
   },
   {
    "duration": 9,
    "start_time": "2022-04-11T11:43:40.009Z"
   },
   {
    "duration": 103,
    "start_time": "2022-04-11T11:43:40.020Z"
   },
   {
    "duration": 68,
    "start_time": "2022-04-11T11:43:40.125Z"
   },
   {
    "duration": 15,
    "start_time": "2022-04-11T11:43:40.194Z"
   },
   {
    "duration": 34,
    "start_time": "2022-04-11T11:43:40.211Z"
   },
   {
    "duration": 103,
    "start_time": "2022-04-11T11:43:40.247Z"
   },
   {
    "duration": 17,
    "start_time": "2022-04-11T11:43:40.352Z"
   },
   {
    "duration": 9,
    "start_time": "2022-04-11T11:43:40.378Z"
   },
   {
    "duration": 19,
    "start_time": "2022-04-11T11:43:40.388Z"
   },
   {
    "duration": 4,
    "start_time": "2022-04-11T11:43:40.409Z"
   },
   {
    "duration": 20,
    "start_time": "2022-04-11T11:43:40.414Z"
   },
   {
    "duration": 13,
    "start_time": "2022-04-11T11:43:40.436Z"
   },
   {
    "duration": 35,
    "start_time": "2022-04-11T11:43:40.450Z"
   },
   {
    "duration": 9,
    "start_time": "2022-04-11T11:43:40.487Z"
   },
   {
    "duration": 18,
    "start_time": "2022-04-11T11:43:40.497Z"
   },
   {
    "duration": 3,
    "start_time": "2022-04-11T11:43:40.517Z"
   },
   {
    "duration": 22,
    "start_time": "2022-04-11T11:43:40.522Z"
   },
   {
    "duration": 33,
    "start_time": "2022-04-11T11:43:40.546Z"
   },
   {
    "duration": 15,
    "start_time": "2022-04-11T11:43:40.581Z"
   },
   {
    "duration": 7,
    "start_time": "2022-04-11T11:43:40.597Z"
   },
   {
    "duration": 17,
    "start_time": "2022-04-11T11:43:40.605Z"
   },
   {
    "duration": 7,
    "start_time": "2022-04-11T11:43:40.623Z"
   },
   {
    "duration": 15,
    "start_time": "2022-04-11T11:43:40.635Z"
   },
   {
    "duration": 7,
    "start_time": "2022-04-11T11:43:40.679Z"
   },
   {
    "duration": 5,
    "start_time": "2022-04-11T11:43:40.688Z"
   },
   {
    "duration": 516,
    "start_time": "2022-04-11T11:43:40.695Z"
   },
   {
    "duration": 12,
    "start_time": "2022-04-11T11:43:41.212Z"
   },
   {
    "duration": 114,
    "start_time": "2022-04-11T11:43:41.226Z"
   },
   {
    "duration": 0,
    "start_time": "2022-04-11T11:43:41.341Z"
   },
   {
    "duration": 0,
    "start_time": "2022-04-11T11:43:41.342Z"
   },
   {
    "duration": 0,
    "start_time": "2022-04-11T11:43:41.343Z"
   },
   {
    "duration": 0,
    "start_time": "2022-04-11T11:43:41.344Z"
   },
   {
    "duration": 0,
    "start_time": "2022-04-11T11:43:41.346Z"
   },
   {
    "duration": 0,
    "start_time": "2022-04-11T11:43:41.347Z"
   },
   {
    "duration": 0,
    "start_time": "2022-04-11T11:43:41.348Z"
   },
   {
    "duration": 0,
    "start_time": "2022-04-11T11:43:41.349Z"
   },
   {
    "duration": 0,
    "start_time": "2022-04-11T11:43:41.350Z"
   },
   {
    "duration": 0,
    "start_time": "2022-04-11T11:43:41.350Z"
   },
   {
    "duration": 0,
    "start_time": "2022-04-11T11:43:41.352Z"
   },
   {
    "duration": 0,
    "start_time": "2022-04-11T11:43:41.353Z"
   },
   {
    "duration": 0,
    "start_time": "2022-04-11T11:43:41.379Z"
   },
   {
    "duration": 0,
    "start_time": "2022-04-11T11:43:41.380Z"
   },
   {
    "duration": 0,
    "start_time": "2022-04-11T11:43:41.381Z"
   },
   {
    "duration": 0,
    "start_time": "2022-04-11T11:43:41.382Z"
   },
   {
    "duration": 0,
    "start_time": "2022-04-11T11:43:41.383Z"
   },
   {
    "duration": 0,
    "start_time": "2022-04-11T11:43:41.384Z"
   },
   {
    "duration": 0,
    "start_time": "2022-04-11T11:43:41.385Z"
   },
   {
    "duration": 0,
    "start_time": "2022-04-11T11:43:41.386Z"
   },
   {
    "duration": 0,
    "start_time": "2022-04-11T11:43:41.387Z"
   },
   {
    "duration": 0,
    "start_time": "2022-04-11T11:43:41.388Z"
   },
   {
    "duration": 0,
    "start_time": "2022-04-11T11:43:41.389Z"
   },
   {
    "duration": 0,
    "start_time": "2022-04-11T11:43:41.391Z"
   },
   {
    "duration": 0,
    "start_time": "2022-04-11T11:43:41.392Z"
   },
   {
    "duration": 0,
    "start_time": "2022-04-11T11:43:41.393Z"
   },
   {
    "duration": 0,
    "start_time": "2022-04-11T11:43:41.394Z"
   },
   {
    "duration": 0,
    "start_time": "2022-04-11T11:43:41.395Z"
   },
   {
    "duration": 0,
    "start_time": "2022-04-11T11:43:41.396Z"
   },
   {
    "duration": 0,
    "start_time": "2022-04-11T11:43:41.397Z"
   },
   {
    "duration": 0,
    "start_time": "2022-04-11T11:43:41.398Z"
   },
   {
    "duration": 0,
    "start_time": "2022-04-11T11:43:41.399Z"
   },
   {
    "duration": 0,
    "start_time": "2022-04-11T11:43:41.400Z"
   },
   {
    "duration": 0,
    "start_time": "2022-04-11T11:43:41.401Z"
   },
   {
    "duration": 0,
    "start_time": "2022-04-11T11:43:41.402Z"
   },
   {
    "duration": 0,
    "start_time": "2022-04-11T11:43:41.403Z"
   },
   {
    "duration": 0,
    "start_time": "2022-04-11T11:43:41.404Z"
   },
   {
    "duration": 0,
    "start_time": "2022-04-11T11:43:41.405Z"
   },
   {
    "duration": 0,
    "start_time": "2022-04-11T11:43:41.406Z"
   },
   {
    "duration": 0,
    "start_time": "2022-04-11T11:43:41.407Z"
   },
   {
    "duration": 0,
    "start_time": "2022-04-11T11:43:41.408Z"
   },
   {
    "duration": 0,
    "start_time": "2022-04-11T11:43:41.409Z"
   },
   {
    "duration": 0,
    "start_time": "2022-04-11T11:43:41.410Z"
   },
   {
    "duration": 0,
    "start_time": "2022-04-11T11:43:41.411Z"
   },
   {
    "duration": 0,
    "start_time": "2022-04-11T11:43:41.412Z"
   },
   {
    "duration": 0,
    "start_time": "2022-04-11T11:43:41.413Z"
   },
   {
    "duration": 0,
    "start_time": "2022-04-11T11:43:41.479Z"
   },
   {
    "duration": 0,
    "start_time": "2022-04-11T11:43:41.480Z"
   },
   {
    "duration": 0,
    "start_time": "2022-04-11T11:43:41.481Z"
   },
   {
    "duration": 0,
    "start_time": "2022-04-11T11:43:41.482Z"
   },
   {
    "duration": 0,
    "start_time": "2022-04-11T11:43:41.483Z"
   },
   {
    "duration": 6,
    "start_time": "2022-04-11T11:45:00.917Z"
   },
   {
    "duration": 475,
    "start_time": "2022-04-11T11:45:03.107Z"
   },
   {
    "duration": 1179,
    "start_time": "2022-04-11T11:45:08.428Z"
   },
   {
    "duration": 162,
    "start_time": "2022-04-11T11:45:09.609Z"
   },
   {
    "duration": 10,
    "start_time": "2022-04-11T11:45:09.773Z"
   },
   {
    "duration": 142,
    "start_time": "2022-04-11T11:45:09.786Z"
   },
   {
    "duration": 100,
    "start_time": "2022-04-11T11:45:09.930Z"
   },
   {
    "duration": 8,
    "start_time": "2022-04-11T11:45:10.032Z"
   },
   {
    "duration": 107,
    "start_time": "2022-04-11T11:45:10.042Z"
   },
   {
    "duration": 100,
    "start_time": "2022-04-11T11:45:10.151Z"
   },
   {
    "duration": 20,
    "start_time": "2022-04-11T11:45:10.253Z"
   },
   {
    "duration": 34,
    "start_time": "2022-04-11T11:45:10.281Z"
   },
   {
    "duration": 154,
    "start_time": "2022-04-11T11:45:10.317Z"
   },
   {
    "duration": 18,
    "start_time": "2022-04-11T11:45:10.478Z"
   },
   {
    "duration": 10,
    "start_time": "2022-04-11T11:45:10.498Z"
   },
   {
    "duration": 23,
    "start_time": "2022-04-11T11:45:10.510Z"
   },
   {
    "duration": 5,
    "start_time": "2022-04-11T11:45:10.535Z"
   },
   {
    "duration": 47,
    "start_time": "2022-04-11T11:45:10.543Z"
   },
   {
    "duration": 15,
    "start_time": "2022-04-11T11:45:10.593Z"
   },
   {
    "duration": 10,
    "start_time": "2022-04-11T11:45:10.610Z"
   },
   {
    "duration": 12,
    "start_time": "2022-04-11T11:45:10.621Z"
   },
   {
    "duration": 46,
    "start_time": "2022-04-11T11:45:10.636Z"
   },
   {
    "duration": 4,
    "start_time": "2022-04-11T11:45:10.684Z"
   },
   {
    "duration": 19,
    "start_time": "2022-04-11T11:45:10.690Z"
   },
   {
    "duration": 6,
    "start_time": "2022-04-11T11:45:10.711Z"
   },
   {
    "duration": 18,
    "start_time": "2022-04-11T11:45:10.719Z"
   },
   {
    "duration": 7,
    "start_time": "2022-04-11T11:45:10.739Z"
   },
   {
    "duration": 44,
    "start_time": "2022-04-11T11:45:10.748Z"
   },
   {
    "duration": 11,
    "start_time": "2022-04-11T11:45:10.794Z"
   },
   {
    "duration": 16,
    "start_time": "2022-04-11T11:45:10.811Z"
   },
   {
    "duration": 10,
    "start_time": "2022-04-11T11:45:10.829Z"
   },
   {
    "duration": 8,
    "start_time": "2022-04-11T11:45:10.841Z"
   },
   {
    "duration": 533,
    "start_time": "2022-04-11T11:45:10.851Z"
   },
   {
    "duration": 12,
    "start_time": "2022-04-11T11:45:11.385Z"
   },
   {
    "duration": 8,
    "start_time": "2022-04-11T11:45:11.399Z"
   },
   {
    "duration": 20,
    "start_time": "2022-04-11T11:45:11.408Z"
   },
   {
    "duration": 5,
    "start_time": "2022-04-11T11:45:11.430Z"
   },
   {
    "duration": 19,
    "start_time": "2022-04-11T11:45:11.437Z"
   },
   {
    "duration": 6,
    "start_time": "2022-04-11T11:45:11.478Z"
   },
   {
    "duration": 18,
    "start_time": "2022-04-11T11:45:11.486Z"
   },
   {
    "duration": 12,
    "start_time": "2022-04-11T11:45:11.506Z"
   },
   {
    "duration": 118,
    "start_time": "2022-04-11T11:45:11.520Z"
   },
   {
    "duration": 5,
    "start_time": "2022-04-11T11:45:11.640Z"
   },
   {
    "duration": 17,
    "start_time": "2022-04-11T11:45:11.646Z"
   },
   {
    "duration": 27,
    "start_time": "2022-04-11T11:45:11.664Z"
   },
   {
    "duration": 5,
    "start_time": "2022-04-11T11:45:11.693Z"
   },
   {
    "duration": 11,
    "start_time": "2022-04-11T11:45:11.699Z"
   },
   {
    "duration": 11,
    "start_time": "2022-04-11T11:45:11.712Z"
   },
   {
    "duration": 9,
    "start_time": "2022-04-11T11:45:11.725Z"
   },
   {
    "duration": 70,
    "start_time": "2022-04-11T11:45:11.735Z"
   },
   {
    "duration": 4,
    "start_time": "2022-04-11T11:45:11.807Z"
   },
   {
    "duration": 7,
    "start_time": "2022-04-11T11:45:11.812Z"
   },
   {
    "duration": 6,
    "start_time": "2022-04-11T11:45:11.820Z"
   },
   {
    "duration": 219,
    "start_time": "2022-04-11T11:45:11.827Z"
   },
   {
    "duration": 166,
    "start_time": "2022-04-11T11:45:12.047Z"
   },
   {
    "duration": 199,
    "start_time": "2022-04-11T11:45:12.215Z"
   },
   {
    "duration": 172,
    "start_time": "2022-04-11T11:45:12.416Z"
   },
   {
    "duration": 204,
    "start_time": "2022-04-11T11:45:12.590Z"
   },
   {
    "duration": 231,
    "start_time": "2022-04-11T11:45:12.796Z"
   },
   {
    "duration": 6,
    "start_time": "2022-04-11T11:45:13.029Z"
   },
   {
    "duration": 7,
    "start_time": "2022-04-11T11:45:13.037Z"
   },
   {
    "duration": 5,
    "start_time": "2022-04-11T11:45:13.046Z"
   },
   {
    "duration": 69,
    "start_time": "2022-04-11T11:45:13.052Z"
   },
   {
    "duration": 4,
    "start_time": "2022-04-11T11:45:13.123Z"
   },
   {
    "duration": 6,
    "start_time": "2022-04-11T11:45:13.129Z"
   },
   {
    "duration": 5,
    "start_time": "2022-04-11T11:45:13.137Z"
   },
   {
    "duration": 189,
    "start_time": "2022-04-11T11:45:13.144Z"
   },
   {
    "duration": 170,
    "start_time": "2022-04-11T11:45:13.335Z"
   },
   {
    "duration": 162,
    "start_time": "2022-04-11T11:45:13.506Z"
   },
   {
    "duration": 176,
    "start_time": "2022-04-11T11:45:13.670Z"
   },
   {
    "duration": 181,
    "start_time": "2022-04-11T11:45:13.848Z"
   },
   {
    "duration": 169,
    "start_time": "2022-04-11T11:45:14.030Z"
   },
   {
    "duration": 208,
    "start_time": "2022-04-11T11:45:14.200Z"
   },
   {
    "duration": 4,
    "start_time": "2022-04-11T11:45:14.410Z"
   },
   {
    "duration": 166,
    "start_time": "2022-04-11T11:45:14.415Z"
   },
   {
    "duration": 4,
    "start_time": "2022-04-11T11:45:14.583Z"
   },
   {
    "duration": 6,
    "start_time": "2022-04-11T11:45:14.589Z"
   },
   {
    "duration": 8,
    "start_time": "2022-04-11T11:45:14.596Z"
   },
   {
    "duration": 10,
    "start_time": "2022-04-11T11:45:14.606Z"
   },
   {
    "duration": 5,
    "start_time": "2022-04-11T11:45:14.618Z"
   },
   {
    "duration": 8,
    "start_time": "2022-04-11T11:45:14.625Z"
   },
   {
    "duration": 327,
    "start_time": "2022-04-11T11:45:14.635Z"
   },
   {
    "duration": 4,
    "start_time": "2022-04-11T11:45:14.964Z"
   },
   {
    "duration": 212,
    "start_time": "2022-04-11T11:45:14.978Z"
   },
   {
    "duration": 4,
    "start_time": "2022-04-11T11:45:15.192Z"
   },
   {
    "duration": 5,
    "start_time": "2022-04-11T11:45:15.198Z"
   },
   {
    "duration": 11,
    "start_time": "2022-04-11T12:32:21.535Z"
   },
   {
    "duration": 9,
    "start_time": "2022-04-11T12:32:29.492Z"
   },
   {
    "duration": 13,
    "start_time": "2022-04-11T12:34:09.197Z"
   },
   {
    "duration": 1249,
    "start_time": "2022-04-11T12:34:21.547Z"
   },
   {
    "duration": 158,
    "start_time": "2022-04-11T12:34:22.798Z"
   },
   {
    "duration": 9,
    "start_time": "2022-04-11T12:34:22.958Z"
   },
   {
    "duration": 146,
    "start_time": "2022-04-11T12:34:22.978Z"
   },
   {
    "duration": 93,
    "start_time": "2022-04-11T12:34:23.126Z"
   },
   {
    "duration": 8,
    "start_time": "2022-04-11T12:34:23.221Z"
   },
   {
    "duration": 104,
    "start_time": "2022-04-11T12:34:23.230Z"
   },
   {
    "duration": 76,
    "start_time": "2022-04-11T12:34:23.336Z"
   },
   {
    "duration": 15,
    "start_time": "2022-04-11T12:34:23.413Z"
   },
   {
    "duration": 36,
    "start_time": "2022-04-11T12:34:23.430Z"
   },
   {
    "duration": 124,
    "start_time": "2022-04-11T12:34:23.468Z"
   },
   {
    "duration": 16,
    "start_time": "2022-04-11T12:34:23.594Z"
   },
   {
    "duration": 9,
    "start_time": "2022-04-11T12:34:23.612Z"
   },
   {
    "duration": 17,
    "start_time": "2022-04-11T12:34:23.623Z"
   },
   {
    "duration": 3,
    "start_time": "2022-04-11T12:34:23.641Z"
   },
   {
    "duration": 49,
    "start_time": "2022-04-11T12:34:23.645Z"
   },
   {
    "duration": 14,
    "start_time": "2022-04-11T12:34:23.696Z"
   },
   {
    "duration": 8,
    "start_time": "2022-04-11T12:34:23.712Z"
   },
   {
    "duration": 9,
    "start_time": "2022-04-11T12:34:23.722Z"
   },
   {
    "duration": 15,
    "start_time": "2022-04-11T12:34:23.733Z"
   },
   {
    "duration": 4,
    "start_time": "2022-04-11T12:34:23.787Z"
   },
   {
    "duration": 21,
    "start_time": "2022-04-11T12:34:23.793Z"
   },
   {
    "duration": 9,
    "start_time": "2022-04-11T12:34:23.816Z"
   },
   {
    "duration": 18,
    "start_time": "2022-04-11T12:34:23.827Z"
   },
   {
    "duration": 13,
    "start_time": "2022-04-11T12:34:23.847Z"
   },
   {
    "duration": 30,
    "start_time": "2022-04-11T12:34:23.862Z"
   },
   {
    "duration": 11,
    "start_time": "2022-04-11T12:34:23.893Z"
   },
   {
    "duration": 16,
    "start_time": "2022-04-11T12:34:23.909Z"
   },
   {
    "duration": 8,
    "start_time": "2022-04-11T12:34:23.927Z"
   },
   {
    "duration": 4,
    "start_time": "2022-04-11T12:34:23.937Z"
   },
   {
    "duration": 576,
    "start_time": "2022-04-11T12:34:23.943Z"
   },
   {
    "duration": 13,
    "start_time": "2022-04-11T12:34:24.520Z"
   },
   {
    "duration": 7,
    "start_time": "2022-04-11T12:34:24.535Z"
   },
   {
    "duration": 11,
    "start_time": "2022-04-11T12:34:24.544Z"
   },
   {
    "duration": 36,
    "start_time": "2022-04-11T12:34:24.556Z"
   },
   {
    "duration": 5,
    "start_time": "2022-04-11T12:34:24.594Z"
   },
   {
    "duration": 15,
    "start_time": "2022-04-11T12:34:24.601Z"
   },
   {
    "duration": 7,
    "start_time": "2022-04-11T12:34:24.618Z"
   },
   {
    "duration": 17,
    "start_time": "2022-04-11T12:34:24.627Z"
   },
   {
    "duration": 5,
    "start_time": "2022-04-11T12:34:24.645Z"
   },
   {
    "duration": 118,
    "start_time": "2022-04-11T12:34:24.652Z"
   },
   {
    "duration": 6,
    "start_time": "2022-04-11T12:34:24.772Z"
   },
   {
    "duration": 28,
    "start_time": "2022-04-11T12:34:24.780Z"
   },
   {
    "duration": 19,
    "start_time": "2022-04-11T12:34:24.809Z"
   },
   {
    "duration": 6,
    "start_time": "2022-04-11T12:34:24.830Z"
   },
   {
    "duration": 7,
    "start_time": "2022-04-11T12:34:24.837Z"
   },
   {
    "duration": 10,
    "start_time": "2022-04-11T12:34:24.845Z"
   },
   {
    "duration": 26,
    "start_time": "2022-04-11T12:34:24.856Z"
   },
   {
    "duration": 57,
    "start_time": "2022-04-11T12:34:24.884Z"
   },
   {
    "duration": 4,
    "start_time": "2022-04-11T12:34:24.943Z"
   },
   {
    "duration": 7,
    "start_time": "2022-04-11T12:34:24.949Z"
   },
   {
    "duration": 11,
    "start_time": "2022-04-11T12:34:24.957Z"
   },
   {
    "duration": 221,
    "start_time": "2022-04-11T12:34:24.970Z"
   },
   {
    "duration": 166,
    "start_time": "2022-04-11T12:34:25.193Z"
   },
   {
    "duration": 210,
    "start_time": "2022-04-11T12:34:25.361Z"
   },
   {
    "duration": 175,
    "start_time": "2022-04-11T12:34:25.572Z"
   },
   {
    "duration": 194,
    "start_time": "2022-04-11T12:34:25.749Z"
   },
   {
    "duration": 261,
    "start_time": "2022-04-11T12:34:25.946Z"
   },
   {
    "duration": 6,
    "start_time": "2022-04-11T12:34:26.209Z"
   },
   {
    "duration": 14,
    "start_time": "2022-04-11T12:34:26.217Z"
   },
   {
    "duration": 5,
    "start_time": "2022-04-11T12:34:26.233Z"
   },
   {
    "duration": 65,
    "start_time": "2022-04-11T12:34:26.240Z"
   },
   {
    "duration": 4,
    "start_time": "2022-04-11T12:34:26.307Z"
   },
   {
    "duration": 6,
    "start_time": "2022-04-11T12:34:26.313Z"
   },
   {
    "duration": 6,
    "start_time": "2022-04-11T12:34:26.320Z"
   },
   {
    "duration": 197,
    "start_time": "2022-04-11T12:34:26.327Z"
   },
   {
    "duration": 168,
    "start_time": "2022-04-11T12:34:26.526Z"
   },
   {
    "duration": 173,
    "start_time": "2022-04-11T12:34:26.695Z"
   },
   {
    "duration": 166,
    "start_time": "2022-04-11T12:34:26.870Z"
   },
   {
    "duration": 176,
    "start_time": "2022-04-11T12:34:27.038Z"
   },
   {
    "duration": 177,
    "start_time": "2022-04-11T12:34:27.216Z"
   },
   {
    "duration": 209,
    "start_time": "2022-04-11T12:34:27.395Z"
   },
   {
    "duration": 3,
    "start_time": "2022-04-11T12:34:27.606Z"
   },
   {
    "duration": 161,
    "start_time": "2022-04-11T12:34:27.611Z"
   },
   {
    "duration": 5,
    "start_time": "2022-04-11T12:34:27.778Z"
   },
   {
    "duration": 16,
    "start_time": "2022-04-11T12:34:27.784Z"
   },
   {
    "duration": 5,
    "start_time": "2022-04-11T12:34:27.802Z"
   },
   {
    "duration": 9,
    "start_time": "2022-04-11T12:34:27.809Z"
   },
   {
    "duration": 10,
    "start_time": "2022-04-11T12:34:27.819Z"
   },
   {
    "duration": 8,
    "start_time": "2022-04-11T12:34:27.831Z"
   },
   {
    "duration": 322,
    "start_time": "2022-04-11T12:34:27.840Z"
   },
   {
    "duration": 5,
    "start_time": "2022-04-11T12:34:28.167Z"
   },
   {
    "duration": 205,
    "start_time": "2022-04-11T12:34:28.179Z"
   },
   {
    "duration": 6,
    "start_time": "2022-04-11T12:34:28.386Z"
   },
   {
    "duration": 6,
    "start_time": "2022-04-11T12:34:28.393Z"
   },
   {
    "duration": 14,
    "start_time": "2022-04-11T12:35:25.692Z"
   },
   {
    "duration": 104,
    "start_time": "2022-04-11T12:47:17.892Z"
   },
   {
    "duration": 1255,
    "start_time": "2022-04-11T12:47:32.163Z"
   },
   {
    "duration": 161,
    "start_time": "2022-04-11T12:47:33.420Z"
   },
   {
    "duration": 15,
    "start_time": "2022-04-11T12:47:33.584Z"
   },
   {
    "duration": 5,
    "start_time": "2022-04-11T12:47:33.601Z"
   },
   {
    "duration": 150,
    "start_time": "2022-04-11T12:47:33.609Z"
   },
   {
    "duration": 105,
    "start_time": "2022-04-11T12:47:33.761Z"
   },
   {
    "duration": 15,
    "start_time": "2022-04-11T12:47:33.868Z"
   },
   {
    "duration": 113,
    "start_time": "2022-04-11T12:47:33.885Z"
   },
   {
    "duration": 64,
    "start_time": "2022-04-11T12:47:34.000Z"
   },
   {
    "duration": 26,
    "start_time": "2022-04-11T12:47:34.065Z"
   },
   {
    "duration": 27,
    "start_time": "2022-04-11T12:47:34.093Z"
   },
   {
    "duration": 118,
    "start_time": "2022-04-11T12:47:34.122Z"
   },
   {
    "duration": 17,
    "start_time": "2022-04-11T12:47:34.242Z"
   },
   {
    "duration": 26,
    "start_time": "2022-04-11T12:47:34.263Z"
   },
   {
    "duration": 28,
    "start_time": "2022-04-11T12:47:34.291Z"
   },
   {
    "duration": 4,
    "start_time": "2022-04-11T12:47:34.321Z"
   },
   {
    "duration": 30,
    "start_time": "2022-04-11T12:47:34.326Z"
   },
   {
    "duration": 25,
    "start_time": "2022-04-11T12:47:34.358Z"
   },
   {
    "duration": 12,
    "start_time": "2022-04-11T12:47:34.384Z"
   },
   {
    "duration": 11,
    "start_time": "2022-04-11T12:47:34.397Z"
   },
   {
    "duration": 17,
    "start_time": "2022-04-11T12:47:34.410Z"
   },
   {
    "duration": 4,
    "start_time": "2022-04-11T12:47:34.429Z"
   },
   {
    "duration": 50,
    "start_time": "2022-04-11T12:47:34.434Z"
   },
   {
    "duration": 7,
    "start_time": "2022-04-11T12:47:34.488Z"
   },
   {
    "duration": 21,
    "start_time": "2022-04-11T12:47:34.499Z"
   },
   {
    "duration": 6,
    "start_time": "2022-04-11T12:47:34.522Z"
   },
   {
    "duration": 19,
    "start_time": "2022-04-11T12:47:34.530Z"
   },
   {
    "duration": 6,
    "start_time": "2022-04-11T12:47:34.551Z"
   },
   {
    "duration": 38,
    "start_time": "2022-04-11T12:47:34.559Z"
   },
   {
    "duration": 16,
    "start_time": "2022-04-11T12:47:34.598Z"
   },
   {
    "duration": 5,
    "start_time": "2022-04-11T12:47:34.616Z"
   },
   {
    "duration": 556,
    "start_time": "2022-04-11T12:47:34.622Z"
   },
   {
    "duration": 17,
    "start_time": "2022-04-11T12:47:35.180Z"
   },
   {
    "duration": 11,
    "start_time": "2022-04-11T12:47:35.201Z"
   },
   {
    "duration": 14,
    "start_time": "2022-04-11T12:47:35.214Z"
   },
   {
    "duration": 14,
    "start_time": "2022-04-11T12:47:35.230Z"
   },
   {
    "duration": 38,
    "start_time": "2022-04-11T12:47:35.246Z"
   },
   {
    "duration": 27,
    "start_time": "2022-04-11T12:47:35.286Z"
   },
   {
    "duration": 5,
    "start_time": "2022-04-11T12:47:35.315Z"
   },
   {
    "duration": 15,
    "start_time": "2022-04-11T12:47:35.322Z"
   },
   {
    "duration": 5,
    "start_time": "2022-04-11T12:47:35.342Z"
   },
   {
    "duration": 173,
    "start_time": "2022-04-11T12:47:35.349Z"
   },
   {
    "duration": 5,
    "start_time": "2022-04-11T12:47:35.525Z"
   },
   {
    "duration": 23,
    "start_time": "2022-04-11T12:47:35.531Z"
   },
   {
    "duration": 40,
    "start_time": "2022-04-11T12:47:35.556Z"
   },
   {
    "duration": 10,
    "start_time": "2022-04-11T12:47:35.598Z"
   },
   {
    "duration": 10,
    "start_time": "2022-04-11T12:47:35.609Z"
   },
   {
    "duration": 8,
    "start_time": "2022-04-11T12:47:35.620Z"
   },
   {
    "duration": 10,
    "start_time": "2022-04-11T12:47:35.629Z"
   },
   {
    "duration": 68,
    "start_time": "2022-04-11T12:47:35.640Z"
   },
   {
    "duration": 4,
    "start_time": "2022-04-11T12:47:35.710Z"
   },
   {
    "duration": 10,
    "start_time": "2022-04-11T12:47:35.716Z"
   },
   {
    "duration": 8,
    "start_time": "2022-04-11T12:47:35.727Z"
   },
   {
    "duration": 342,
    "start_time": "2022-04-11T12:47:35.736Z"
   },
   {
    "duration": 166,
    "start_time": "2022-04-11T12:47:36.081Z"
   },
   {
    "duration": 211,
    "start_time": "2022-04-11T12:47:36.249Z"
   },
   {
    "duration": 184,
    "start_time": "2022-04-11T12:47:36.462Z"
   },
   {
    "duration": 198,
    "start_time": "2022-04-11T12:47:36.648Z"
   },
   {
    "duration": 283,
    "start_time": "2022-04-11T12:47:36.848Z"
   },
   {
    "duration": 8,
    "start_time": "2022-04-11T12:47:37.132Z"
   },
   {
    "duration": 12,
    "start_time": "2022-04-11T12:47:37.142Z"
   },
   {
    "duration": 6,
    "start_time": "2022-04-11T12:47:37.155Z"
   },
   {
    "duration": 74,
    "start_time": "2022-04-11T12:47:37.163Z"
   },
   {
    "duration": 5,
    "start_time": "2022-04-11T12:47:37.239Z"
   },
   {
    "duration": 7,
    "start_time": "2022-04-11T12:47:37.246Z"
   },
   {
    "duration": 6,
    "start_time": "2022-04-11T12:47:37.255Z"
   },
   {
    "duration": 269,
    "start_time": "2022-04-11T12:47:37.278Z"
   },
   {
    "duration": 237,
    "start_time": "2022-04-11T12:47:37.549Z"
   },
   {
    "duration": 233,
    "start_time": "2022-04-11T12:47:37.788Z"
   },
   {
    "duration": 236,
    "start_time": "2022-04-11T12:47:38.023Z"
   },
   {
    "duration": 250,
    "start_time": "2022-04-11T12:47:38.261Z"
   },
   {
    "duration": 181,
    "start_time": "2022-04-11T12:47:38.512Z"
   },
   {
    "duration": 221,
    "start_time": "2022-04-11T12:47:38.695Z"
   },
   {
    "duration": 4,
    "start_time": "2022-04-11T12:47:38.918Z"
   },
   {
    "duration": 177,
    "start_time": "2022-04-11T12:47:38.924Z"
   },
   {
    "duration": 5,
    "start_time": "2022-04-11T12:47:39.102Z"
   },
   {
    "duration": 8,
    "start_time": "2022-04-11T12:47:39.108Z"
   },
   {
    "duration": 7,
    "start_time": "2022-04-11T12:47:39.118Z"
   },
   {
    "duration": 11,
    "start_time": "2022-04-11T12:47:39.126Z"
   },
   {
    "duration": 11,
    "start_time": "2022-04-11T12:47:39.139Z"
   },
   {
    "duration": 37,
    "start_time": "2022-04-11T12:47:39.152Z"
   },
   {
    "duration": 310,
    "start_time": "2022-04-11T12:47:39.191Z"
   },
   {
    "duration": 4,
    "start_time": "2022-04-11T12:47:39.503Z"
   },
   {
    "duration": 223,
    "start_time": "2022-04-11T12:47:39.509Z"
   },
   {
    "duration": 5,
    "start_time": "2022-04-11T12:47:39.734Z"
   },
   {
    "duration": 11,
    "start_time": "2022-04-11T12:47:39.741Z"
   },
   {
    "duration": 100,
    "start_time": "2022-04-11T12:48:09.786Z"
   },
   {
    "duration": 3,
    "start_time": "2022-04-11T12:48:17.132Z"
   },
   {
    "duration": 11,
    "start_time": "2022-04-11T12:48:26.122Z"
   },
   {
    "duration": 3,
    "start_time": "2022-04-11T12:48:37.428Z"
   },
   {
    "duration": 1219,
    "start_time": "2022-04-11T12:57:07.217Z"
   },
   {
    "duration": 172,
    "start_time": "2022-04-11T12:57:08.439Z"
   },
   {
    "duration": 11,
    "start_time": "2022-04-11T12:57:08.613Z"
   },
   {
    "duration": 157,
    "start_time": "2022-04-11T12:57:08.627Z"
   },
   {
    "duration": 99,
    "start_time": "2022-04-11T12:57:08.786Z"
   },
   {
    "duration": 11,
    "start_time": "2022-04-11T12:57:08.888Z"
   },
   {
    "duration": 102,
    "start_time": "2022-04-11T12:57:08.900Z"
   },
   {
    "duration": 60,
    "start_time": "2022-04-11T12:57:09.004Z"
   },
   {
    "duration": 29,
    "start_time": "2022-04-11T12:57:09.065Z"
   },
   {
    "duration": 30,
    "start_time": "2022-04-11T12:57:09.097Z"
   },
   {
    "duration": 113,
    "start_time": "2022-04-11T12:57:09.129Z"
   },
   {
    "duration": 18,
    "start_time": "2022-04-11T12:57:09.244Z"
   },
   {
    "duration": 14,
    "start_time": "2022-04-11T12:57:09.280Z"
   },
   {
    "duration": 29,
    "start_time": "2022-04-11T12:57:09.297Z"
   },
   {
    "duration": 6,
    "start_time": "2022-04-11T12:57:09.327Z"
   },
   {
    "duration": 20,
    "start_time": "2022-04-11T12:57:09.335Z"
   },
   {
    "duration": 29,
    "start_time": "2022-04-11T12:57:09.357Z"
   },
   {
    "duration": 10,
    "start_time": "2022-04-11T12:57:09.390Z"
   },
   {
    "duration": 11,
    "start_time": "2022-04-11T12:57:09.402Z"
   },
   {
    "duration": 15,
    "start_time": "2022-04-11T12:57:09.414Z"
   },
   {
    "duration": 3,
    "start_time": "2022-04-11T12:57:09.431Z"
   },
   {
    "duration": 20,
    "start_time": "2022-04-11T12:57:09.435Z"
   },
   {
    "duration": 33,
    "start_time": "2022-04-11T12:57:09.456Z"
   },
   {
    "duration": 20,
    "start_time": "2022-04-11T12:57:09.491Z"
   },
   {
    "duration": 7,
    "start_time": "2022-04-11T12:57:09.512Z"
   },
   {
    "duration": 19,
    "start_time": "2022-04-11T12:57:09.521Z"
   },
   {
    "duration": 7,
    "start_time": "2022-04-11T12:57:09.541Z"
   },
   {
    "duration": 45,
    "start_time": "2022-04-11T12:57:09.553Z"
   },
   {
    "duration": 8,
    "start_time": "2022-04-11T12:57:09.600Z"
   },
   {
    "duration": 6,
    "start_time": "2022-04-11T12:57:09.609Z"
   },
   {
    "duration": 621,
    "start_time": "2022-04-11T12:57:09.617Z"
   },
   {
    "duration": 13,
    "start_time": "2022-04-11T12:57:10.240Z"
   },
   {
    "duration": 10,
    "start_time": "2022-04-11T12:57:10.254Z"
   },
   {
    "duration": 17,
    "start_time": "2022-04-11T12:57:10.283Z"
   },
   {
    "duration": 17,
    "start_time": "2022-04-11T12:57:10.302Z"
   },
   {
    "duration": 6,
    "start_time": "2022-04-11T12:57:10.321Z"
   },
   {
    "duration": 16,
    "start_time": "2022-04-11T12:57:10.329Z"
   },
   {
    "duration": 10,
    "start_time": "2022-04-11T12:57:10.347Z"
   },
   {
    "duration": 33,
    "start_time": "2022-04-11T12:57:10.359Z"
   },
   {
    "duration": 16,
    "start_time": "2022-04-11T12:57:10.394Z"
   },
   {
    "duration": 124,
    "start_time": "2022-04-11T12:57:10.412Z"
   },
   {
    "duration": 4,
    "start_time": "2022-04-11T12:57:10.538Z"
   },
   {
    "duration": 18,
    "start_time": "2022-04-11T12:57:10.544Z"
   },
   {
    "duration": 37,
    "start_time": "2022-04-11T12:57:10.563Z"
   },
   {
    "duration": 7,
    "start_time": "2022-04-11T12:57:10.602Z"
   },
   {
    "duration": 11,
    "start_time": "2022-04-11T12:57:10.611Z"
   },
   {
    "duration": 8,
    "start_time": "2022-04-11T12:57:10.624Z"
   },
   {
    "duration": 6,
    "start_time": "2022-04-11T12:57:10.634Z"
   },
   {
    "duration": 96,
    "start_time": "2022-04-11T12:57:10.642Z"
   },
   {
    "duration": 4,
    "start_time": "2022-04-11T12:57:10.739Z"
   },
   {
    "duration": 11,
    "start_time": "2022-04-11T12:57:10.745Z"
   },
   {
    "duration": 5,
    "start_time": "2022-04-11T12:57:10.758Z"
   },
   {
    "duration": 231,
    "start_time": "2022-04-11T12:57:10.764Z"
   },
   {
    "duration": 186,
    "start_time": "2022-04-11T12:57:10.997Z"
   },
   {
    "duration": 236,
    "start_time": "2022-04-11T12:57:11.189Z"
   },
   {
    "duration": 203,
    "start_time": "2022-04-11T12:57:11.427Z"
   },
   {
    "duration": 213,
    "start_time": "2022-04-11T12:57:11.631Z"
   },
   {
    "duration": 265,
    "start_time": "2022-04-11T12:57:11.845Z"
   },
   {
    "duration": 8,
    "start_time": "2022-04-11T12:57:12.111Z"
   },
   {
    "duration": 9,
    "start_time": "2022-04-11T12:57:12.121Z"
   },
   {
    "duration": 6,
    "start_time": "2022-04-11T12:57:12.131Z"
   },
   {
    "duration": 90,
    "start_time": "2022-04-11T12:57:12.139Z"
   },
   {
    "duration": 4,
    "start_time": "2022-04-11T12:57:12.230Z"
   },
   {
    "duration": 8,
    "start_time": "2022-04-11T12:57:12.235Z"
   },
   {
    "duration": 7,
    "start_time": "2022-04-11T12:57:12.244Z"
   },
   {
    "duration": 223,
    "start_time": "2022-04-11T12:57:12.252Z"
   },
   {
    "duration": 253,
    "start_time": "2022-04-11T12:57:12.477Z"
   },
   {
    "duration": 178,
    "start_time": "2022-04-11T12:57:12.732Z"
   },
   {
    "duration": 186,
    "start_time": "2022-04-11T12:57:12.912Z"
   },
   {
    "duration": 179,
    "start_time": "2022-04-11T12:57:13.100Z"
   },
   {
    "duration": 159,
    "start_time": "2022-04-11T12:57:13.281Z"
   },
   {
    "duration": 216,
    "start_time": "2022-04-11T12:57:13.442Z"
   },
   {
    "duration": 4,
    "start_time": "2022-04-11T12:57:13.660Z"
   },
   {
    "duration": 171,
    "start_time": "2022-04-11T12:57:13.665Z"
   },
   {
    "duration": 4,
    "start_time": "2022-04-11T12:57:13.838Z"
   },
   {
    "duration": 7,
    "start_time": "2022-04-11T12:57:13.843Z"
   },
   {
    "duration": 7,
    "start_time": "2022-04-11T12:57:13.852Z"
   },
   {
    "duration": 13,
    "start_time": "2022-04-11T12:57:13.887Z"
   },
   {
    "duration": 11,
    "start_time": "2022-04-11T12:57:13.902Z"
   },
   {
    "duration": 8,
    "start_time": "2022-04-11T12:57:13.915Z"
   },
   {
    "duration": 309,
    "start_time": "2022-04-11T12:57:13.925Z"
   },
   {
    "duration": 4,
    "start_time": "2022-04-11T12:57:14.239Z"
   },
   {
    "duration": 213,
    "start_time": "2022-04-11T12:57:14.245Z"
   },
   {
    "duration": 4,
    "start_time": "2022-04-11T12:57:14.460Z"
   },
   {
    "duration": 17,
    "start_time": "2022-04-11T12:57:14.466Z"
   },
   {
    "duration": 1416,
    "start_time": "2022-04-11T18:17:53.470Z"
   },
   {
    "duration": 176,
    "start_time": "2022-04-11T18:17:54.888Z"
   },
   {
    "duration": 11,
    "start_time": "2022-04-11T18:17:55.066Z"
   },
   {
    "duration": 154,
    "start_time": "2022-04-11T18:17:55.080Z"
   },
   {
    "duration": 92,
    "start_time": "2022-04-11T18:17:55.236Z"
   },
   {
    "duration": 17,
    "start_time": "2022-04-11T18:17:55.330Z"
   },
   {
    "duration": 98,
    "start_time": "2022-04-11T18:17:55.350Z"
   },
   {
    "duration": 63,
    "start_time": "2022-04-11T18:17:55.450Z"
   },
   {
    "duration": 16,
    "start_time": "2022-04-11T18:17:55.514Z"
   },
   {
    "duration": 28,
    "start_time": "2022-04-11T18:17:55.547Z"
   },
   {
    "duration": 107,
    "start_time": "2022-04-11T18:17:55.577Z"
   },
   {
    "duration": 21,
    "start_time": "2022-04-11T18:17:55.686Z"
   },
   {
    "duration": 10,
    "start_time": "2022-04-11T18:17:55.708Z"
   },
   {
    "duration": 38,
    "start_time": "2022-04-11T18:17:55.720Z"
   },
   {
    "duration": 7,
    "start_time": "2022-04-11T18:17:55.760Z"
   },
   {
    "duration": 27,
    "start_time": "2022-04-11T18:17:55.768Z"
   },
   {
    "duration": 17,
    "start_time": "2022-04-11T18:17:55.797Z"
   },
   {
    "duration": 8,
    "start_time": "2022-04-11T18:17:55.816Z"
   },
   {
    "duration": 12,
    "start_time": "2022-04-11T18:17:55.847Z"
   },
   {
    "duration": 17,
    "start_time": "2022-04-11T18:17:55.862Z"
   },
   {
    "duration": 4,
    "start_time": "2022-04-11T18:17:55.880Z"
   },
   {
    "duration": 23,
    "start_time": "2022-04-11T18:17:55.886Z"
   },
   {
    "duration": 12,
    "start_time": "2022-04-11T18:17:55.911Z"
   },
   {
    "duration": 36,
    "start_time": "2022-04-11T18:17:55.925Z"
   },
   {
    "duration": 8,
    "start_time": "2022-04-11T18:17:55.963Z"
   },
   {
    "duration": 18,
    "start_time": "2022-04-11T18:17:55.973Z"
   },
   {
    "duration": 12,
    "start_time": "2022-04-11T18:17:55.993Z"
   },
   {
    "duration": 38,
    "start_time": "2022-04-11T18:17:56.011Z"
   },
   {
    "duration": 14,
    "start_time": "2022-04-11T18:17:56.051Z"
   },
   {
    "duration": 10,
    "start_time": "2022-04-11T18:17:56.067Z"
   },
   {
    "duration": 823,
    "start_time": "2022-04-11T18:17:56.079Z"
   },
   {
    "duration": 18,
    "start_time": "2022-04-11T18:17:56.905Z"
   },
   {
    "duration": 24,
    "start_time": "2022-04-11T18:17:56.925Z"
   },
   {
    "duration": 13,
    "start_time": "2022-04-11T18:17:56.951Z"
   },
   {
    "duration": 15,
    "start_time": "2022-04-11T18:17:56.966Z"
   },
   {
    "duration": 9,
    "start_time": "2022-04-11T18:17:56.983Z"
   },
   {
    "duration": 19,
    "start_time": "2022-04-11T18:17:56.994Z"
   },
   {
    "duration": 7,
    "start_time": "2022-04-11T18:17:57.015Z"
   },
   {
    "duration": 14,
    "start_time": "2022-04-11T18:17:57.048Z"
   },
   {
    "duration": 6,
    "start_time": "2022-04-11T18:17:57.063Z"
   },
   {
    "duration": 112,
    "start_time": "2022-04-11T18:17:57.071Z"
   },
   {
    "duration": 4,
    "start_time": "2022-04-11T18:17:57.185Z"
   },
   {
    "duration": 24,
    "start_time": "2022-04-11T18:17:57.190Z"
   },
   {
    "duration": 34,
    "start_time": "2022-04-11T18:17:57.216Z"
   },
   {
    "duration": 6,
    "start_time": "2022-04-11T18:17:57.251Z"
   },
   {
    "duration": 9,
    "start_time": "2022-04-11T18:17:57.260Z"
   },
   {
    "duration": 9,
    "start_time": "2022-04-11T18:17:57.271Z"
   },
   {
    "duration": 6,
    "start_time": "2022-04-11T18:17:57.282Z"
   },
   {
    "duration": 81,
    "start_time": "2022-04-11T18:17:57.290Z"
   },
   {
    "duration": 5,
    "start_time": "2022-04-11T18:17:57.373Z"
   },
   {
    "duration": 8,
    "start_time": "2022-04-11T18:17:57.380Z"
   },
   {
    "duration": 7,
    "start_time": "2022-04-11T18:17:57.390Z"
   },
   {
    "duration": 224,
    "start_time": "2022-04-11T18:17:57.398Z"
   },
   {
    "duration": 173,
    "start_time": "2022-04-11T18:17:57.625Z"
   },
   {
    "duration": 201,
    "start_time": "2022-04-11T18:17:57.801Z"
   },
   {
    "duration": 189,
    "start_time": "2022-04-11T18:17:58.004Z"
   },
   {
    "duration": 202,
    "start_time": "2022-04-11T18:17:58.195Z"
   },
   {
    "duration": 305,
    "start_time": "2022-04-11T18:17:58.399Z"
   },
   {
    "duration": 9,
    "start_time": "2022-04-11T18:17:58.706Z"
   },
   {
    "duration": 9,
    "start_time": "2022-04-11T18:17:58.717Z"
   },
   {
    "duration": 21,
    "start_time": "2022-04-11T18:17:58.728Z"
   },
   {
    "duration": 53,
    "start_time": "2022-04-11T18:17:58.751Z"
   },
   {
    "duration": 4,
    "start_time": "2022-04-11T18:17:58.806Z"
   },
   {
    "duration": 7,
    "start_time": "2022-04-11T18:17:58.812Z"
   },
   {
    "duration": 7,
    "start_time": "2022-04-11T18:17:58.848Z"
   },
   {
    "duration": 267,
    "start_time": "2022-04-11T18:17:58.858Z"
   },
   {
    "duration": 241,
    "start_time": "2022-04-11T18:17:59.127Z"
   },
   {
    "duration": 237,
    "start_time": "2022-04-11T18:17:59.370Z"
   },
   {
    "duration": 268,
    "start_time": "2022-04-11T18:17:59.610Z"
   },
   {
    "duration": 258,
    "start_time": "2022-04-11T18:17:59.881Z"
   },
   {
    "duration": 240,
    "start_time": "2022-04-11T18:18:00.141Z"
   },
   {
    "duration": 296,
    "start_time": "2022-04-11T18:18:00.383Z"
   },
   {
    "duration": 5,
    "start_time": "2022-04-11T18:18:00.681Z"
   },
   {
    "duration": 174,
    "start_time": "2022-04-11T18:18:00.688Z"
   },
   {
    "duration": 4,
    "start_time": "2022-04-11T18:18:00.864Z"
   },
   {
    "duration": 14,
    "start_time": "2022-04-11T18:18:00.870Z"
   },
   {
    "duration": 14,
    "start_time": "2022-04-11T18:18:00.886Z"
   },
   {
    "duration": 11,
    "start_time": "2022-04-11T18:18:00.902Z"
   },
   {
    "duration": 11,
    "start_time": "2022-04-11T18:18:00.915Z"
   },
   {
    "duration": 22,
    "start_time": "2022-04-11T18:18:00.928Z"
   },
   {
    "duration": 500,
    "start_time": "2022-04-11T18:18:00.951Z"
   },
   {
    "duration": 6,
    "start_time": "2022-04-11T18:18:01.460Z"
   },
   {
    "duration": 242,
    "start_time": "2022-04-11T18:18:01.468Z"
   },
   {
    "duration": 5,
    "start_time": "2022-04-11T18:18:01.712Z"
   },
   {
    "duration": 9,
    "start_time": "2022-04-11T18:18:01.719Z"
   },
   {
    "duration": 1259,
    "start_time": "2022-04-11T19:14:27.051Z"
   },
   {
    "duration": 163,
    "start_time": "2022-04-11T19:14:28.313Z"
   },
   {
    "duration": 14,
    "start_time": "2022-04-11T19:14:28.478Z"
   },
   {
    "duration": 208,
    "start_time": "2022-04-11T19:14:28.495Z"
   },
   {
    "duration": 136,
    "start_time": "2022-04-11T19:14:28.705Z"
   },
   {
    "duration": 12,
    "start_time": "2022-04-11T19:14:28.846Z"
   },
   {
    "duration": 141,
    "start_time": "2022-04-11T19:14:28.861Z"
   },
   {
    "duration": 102,
    "start_time": "2022-04-11T19:14:29.004Z"
   },
   {
    "duration": 20,
    "start_time": "2022-04-11T19:14:29.109Z"
   },
   {
    "duration": 23,
    "start_time": "2022-04-11T19:14:29.132Z"
   },
   {
    "duration": 128,
    "start_time": "2022-04-11T19:14:29.157Z"
   },
   {
    "duration": 17,
    "start_time": "2022-04-11T19:14:29.287Z"
   },
   {
    "duration": 10,
    "start_time": "2022-04-11T19:14:29.306Z"
   },
   {
    "duration": 40,
    "start_time": "2022-04-11T19:14:29.318Z"
   },
   {
    "duration": 3,
    "start_time": "2022-04-11T19:14:29.360Z"
   },
   {
    "duration": 18,
    "start_time": "2022-04-11T19:14:29.365Z"
   },
   {
    "duration": 14,
    "start_time": "2022-04-11T19:14:29.386Z"
   },
   {
    "duration": 9,
    "start_time": "2022-04-11T19:14:29.403Z"
   },
   {
    "duration": 38,
    "start_time": "2022-04-11T19:14:29.414Z"
   },
   {
    "duration": 16,
    "start_time": "2022-04-11T19:14:29.454Z"
   },
   {
    "duration": 3,
    "start_time": "2022-04-11T19:14:29.472Z"
   },
   {
    "duration": 20,
    "start_time": "2022-04-11T19:14:29.477Z"
   },
   {
    "duration": 8,
    "start_time": "2022-04-11T19:14:29.498Z"
   },
   {
    "duration": 50,
    "start_time": "2022-04-11T19:14:29.507Z"
   },
   {
    "duration": 7,
    "start_time": "2022-04-11T19:14:29.560Z"
   },
   {
    "duration": 17,
    "start_time": "2022-04-11T19:14:29.569Z"
   },
   {
    "duration": 8,
    "start_time": "2022-04-11T19:14:29.588Z"
   },
   {
    "duration": 16,
    "start_time": "2022-04-11T19:14:29.602Z"
   },
   {
    "duration": 32,
    "start_time": "2022-04-11T19:14:29.619Z"
   },
   {
    "duration": 6,
    "start_time": "2022-04-11T19:14:29.653Z"
   },
   {
    "duration": 542,
    "start_time": "2022-04-11T19:14:29.660Z"
   },
   {
    "duration": 18,
    "start_time": "2022-04-11T19:14:30.204Z"
   },
   {
    "duration": 25,
    "start_time": "2022-04-11T19:14:30.224Z"
   },
   {
    "duration": 13,
    "start_time": "2022-04-11T19:14:30.251Z"
   },
   {
    "duration": 21,
    "start_time": "2022-04-11T19:14:30.266Z"
   },
   {
    "duration": 5,
    "start_time": "2022-04-11T19:14:30.289Z"
   },
   {
    "duration": 20,
    "start_time": "2022-04-11T19:14:30.297Z"
   },
   {
    "duration": 30,
    "start_time": "2022-04-11T19:14:30.319Z"
   },
   {
    "duration": 17,
    "start_time": "2022-04-11T19:14:30.351Z"
   },
   {
    "duration": 6,
    "start_time": "2022-04-11T19:14:30.370Z"
   },
   {
    "duration": 115,
    "start_time": "2022-04-11T19:14:30.378Z"
   },
   {
    "duration": 4,
    "start_time": "2022-04-11T19:14:30.495Z"
   },
   {
    "duration": 25,
    "start_time": "2022-04-11T19:14:30.500Z"
   },
   {
    "duration": 29,
    "start_time": "2022-04-11T19:14:30.527Z"
   },
   {
    "duration": 16,
    "start_time": "2022-04-11T19:14:30.558Z"
   },
   {
    "duration": 13,
    "start_time": "2022-04-11T19:14:30.575Z"
   },
   {
    "duration": 8,
    "start_time": "2022-04-11T19:14:30.590Z"
   },
   {
    "duration": 6,
    "start_time": "2022-04-11T19:14:30.599Z"
   },
   {
    "duration": 60,
    "start_time": "2022-04-11T19:14:30.607Z"
   },
   {
    "duration": 5,
    "start_time": "2022-04-11T19:14:30.669Z"
   },
   {
    "duration": 6,
    "start_time": "2022-04-11T19:14:30.676Z"
   },
   {
    "duration": 15,
    "start_time": "2022-04-11T19:14:30.684Z"
   },
   {
    "duration": 210,
    "start_time": "2022-04-11T19:14:30.700Z"
   },
   {
    "duration": 174,
    "start_time": "2022-04-11T19:14:30.912Z"
   },
   {
    "duration": 195,
    "start_time": "2022-04-11T19:14:31.087Z"
   },
   {
    "duration": 169,
    "start_time": "2022-04-11T19:14:31.284Z"
   },
   {
    "duration": 193,
    "start_time": "2022-04-11T19:14:31.455Z"
   },
   {
    "duration": 236,
    "start_time": "2022-04-11T19:14:31.650Z"
   },
   {
    "duration": 6,
    "start_time": "2022-04-11T19:14:31.888Z"
   },
   {
    "duration": 11,
    "start_time": "2022-04-11T19:14:31.896Z"
   },
   {
    "duration": 7,
    "start_time": "2022-04-11T19:14:31.909Z"
   },
   {
    "duration": 72,
    "start_time": "2022-04-11T19:14:31.917Z"
   },
   {
    "duration": 4,
    "start_time": "2022-04-11T19:14:31.991Z"
   },
   {
    "duration": 6,
    "start_time": "2022-04-11T19:14:31.997Z"
   },
   {
    "duration": 10,
    "start_time": "2022-04-11T19:14:32.004Z"
   },
   {
    "duration": 304,
    "start_time": "2022-04-11T19:14:32.016Z"
   },
   {
    "duration": 250,
    "start_time": "2022-04-11T19:14:32.322Z"
   },
   {
    "duration": 260,
    "start_time": "2022-04-11T19:14:32.573Z"
   },
   {
    "duration": 168,
    "start_time": "2022-04-11T19:14:32.835Z"
   },
   {
    "duration": 174,
    "start_time": "2022-04-11T19:14:33.005Z"
   },
   {
    "duration": 169,
    "start_time": "2022-04-11T19:14:33.180Z"
   },
   {
    "duration": 206,
    "start_time": "2022-04-11T19:14:33.351Z"
   },
   {
    "duration": 4,
    "start_time": "2022-04-11T19:14:33.559Z"
   },
   {
    "duration": 173,
    "start_time": "2022-04-11T19:14:33.565Z"
   },
   {
    "duration": 8,
    "start_time": "2022-04-11T19:14:33.740Z"
   },
   {
    "duration": 10,
    "start_time": "2022-04-11T19:14:33.750Z"
   },
   {
    "duration": 11,
    "start_time": "2022-04-11T19:14:33.762Z"
   },
   {
    "duration": 9,
    "start_time": "2022-04-11T19:14:33.775Z"
   },
   {
    "duration": 17,
    "start_time": "2022-04-11T19:14:33.786Z"
   },
   {
    "duration": 14,
    "start_time": "2022-04-11T19:14:33.804Z"
   },
   {
    "duration": 303,
    "start_time": "2022-04-11T19:14:33.820Z"
   },
   {
    "duration": 4,
    "start_time": "2022-04-11T19:14:34.128Z"
   },
   {
    "duration": 215,
    "start_time": "2022-04-11T19:14:34.134Z"
   },
   {
    "duration": 3,
    "start_time": "2022-04-11T19:14:34.351Z"
   },
   {
    "duration": 8,
    "start_time": "2022-04-11T19:14:34.356Z"
   },
   {
    "duration": 113,
    "start_time": "2022-04-11T20:38:37.714Z"
   },
   {
    "duration": 106,
    "start_time": "2022-04-12T07:00:09.176Z"
   },
   {
    "duration": 1979,
    "start_time": "2022-04-12T07:00:14.744Z"
   },
   {
    "duration": 252,
    "start_time": "2022-04-12T07:00:16.726Z"
   },
   {
    "duration": 27,
    "start_time": "2022-04-12T07:00:16.980Z"
   },
   {
    "duration": 307,
    "start_time": "2022-04-12T07:00:17.010Z"
   },
   {
    "duration": 189,
    "start_time": "2022-04-12T07:00:17.320Z"
   },
   {
    "duration": 15,
    "start_time": "2022-04-12T07:00:17.512Z"
   },
   {
    "duration": 172,
    "start_time": "2022-04-12T07:00:17.529Z"
   },
   {
    "duration": 98,
    "start_time": "2022-04-12T07:00:17.703Z"
   },
   {
    "duration": 52,
    "start_time": "2022-04-12T07:00:17.803Z"
   },
   {
    "duration": 54,
    "start_time": "2022-04-12T07:00:17.859Z"
   },
   {
    "duration": 177,
    "start_time": "2022-04-12T07:00:17.916Z"
   },
   {
    "duration": 26,
    "start_time": "2022-04-12T07:00:18.095Z"
   },
   {
    "duration": 14,
    "start_time": "2022-04-12T07:00:18.123Z"
   },
   {
    "duration": 60,
    "start_time": "2022-04-12T07:00:18.139Z"
   },
   {
    "duration": 3,
    "start_time": "2022-04-12T07:00:18.201Z"
   },
   {
    "duration": 36,
    "start_time": "2022-04-12T07:00:18.207Z"
   },
   {
    "duration": 47,
    "start_time": "2022-04-12T07:00:18.246Z"
   },
   {
    "duration": 13,
    "start_time": "2022-04-12T07:00:18.296Z"
   },
   {
    "duration": 12,
    "start_time": "2022-04-12T07:00:18.312Z"
   },
   {
    "duration": 24,
    "start_time": "2022-04-12T07:00:18.327Z"
   },
   {
    "duration": 42,
    "start_time": "2022-04-12T07:00:18.354Z"
   },
   {
    "duration": 39,
    "start_time": "2022-04-12T07:00:18.399Z"
   },
   {
    "duration": 13,
    "start_time": "2022-04-12T07:00:18.441Z"
   },
   {
    "duration": 56,
    "start_time": "2022-04-12T07:00:18.456Z"
   },
   {
    "duration": 16,
    "start_time": "2022-04-12T07:00:18.515Z"
   },
   {
    "duration": 35,
    "start_time": "2022-04-12T07:00:18.534Z"
   },
   {
    "duration": 27,
    "start_time": "2022-04-12T07:00:18.572Z"
   },
   {
    "duration": 35,
    "start_time": "2022-04-12T07:00:18.610Z"
   },
   {
    "duration": 48,
    "start_time": "2022-04-12T07:00:18.648Z"
   },
   {
    "duration": 11,
    "start_time": "2022-04-12T07:00:18.699Z"
   },
   {
    "duration": 1134,
    "start_time": "2022-04-12T07:00:18.713Z"
   },
   {
    "duration": 25,
    "start_time": "2022-04-12T07:00:19.850Z"
   },
   {
    "duration": 14,
    "start_time": "2022-04-12T07:00:19.894Z"
   },
   {
    "duration": 23,
    "start_time": "2022-04-12T07:00:19.910Z"
   },
   {
    "duration": 62,
    "start_time": "2022-04-12T07:00:19.935Z"
   },
   {
    "duration": 11,
    "start_time": "2022-04-12T07:00:20.000Z"
   },
   {
    "duration": 37,
    "start_time": "2022-04-12T07:00:20.013Z"
   },
   {
    "duration": 18,
    "start_time": "2022-04-12T07:00:20.053Z"
   },
   {
    "duration": 33,
    "start_time": "2022-04-12T07:00:20.074Z"
   },
   {
    "duration": 8,
    "start_time": "2022-04-12T07:00:20.110Z"
   },
   {
    "duration": 284,
    "start_time": "2022-04-12T07:00:20.120Z"
   },
   {
    "duration": 7,
    "start_time": "2022-04-12T07:00:20.407Z"
   },
   {
    "duration": 35,
    "start_time": "2022-04-12T07:00:20.416Z"
   },
   {
    "duration": 59,
    "start_time": "2022-04-12T07:00:20.454Z"
   },
   {
    "duration": 9,
    "start_time": "2022-04-12T07:00:20.516Z"
   },
   {
    "duration": 17,
    "start_time": "2022-04-12T07:00:20.527Z"
   },
   {
    "duration": 17,
    "start_time": "2022-04-12T07:00:20.546Z"
   },
   {
    "duration": 30,
    "start_time": "2022-04-12T07:00:20.565Z"
   },
   {
    "duration": 132,
    "start_time": "2022-04-12T07:00:20.598Z"
   },
   {
    "duration": 6,
    "start_time": "2022-04-12T07:00:20.733Z"
   },
   {
    "duration": 17,
    "start_time": "2022-04-12T07:00:20.743Z"
   },
   {
    "duration": 8,
    "start_time": "2022-04-12T07:00:20.763Z"
   },
   {
    "duration": 505,
    "start_time": "2022-04-12T07:00:20.793Z"
   },
   {
    "duration": 369,
    "start_time": "2022-04-12T07:00:21.302Z"
   },
   {
    "duration": 459,
    "start_time": "2022-04-12T07:00:21.673Z"
   },
   {
    "duration": 438,
    "start_time": "2022-04-12T07:00:22.135Z"
   },
   {
    "duration": 430,
    "start_time": "2022-04-12T07:00:22.576Z"
   },
   {
    "duration": 461,
    "start_time": "2022-04-12T07:00:23.009Z"
   },
   {
    "duration": 21,
    "start_time": "2022-04-12T07:00:23.473Z"
   },
   {
    "duration": 22,
    "start_time": "2022-04-12T07:00:23.497Z"
   },
   {
    "duration": 16,
    "start_time": "2022-04-12T07:00:23.521Z"
   },
   {
    "duration": 126,
    "start_time": "2022-04-12T07:00:23.540Z"
   },
   {
    "duration": 6,
    "start_time": "2022-04-12T07:00:23.669Z"
   },
   {
    "duration": 6,
    "start_time": "2022-04-12T07:00:23.693Z"
   },
   {
    "duration": 13,
    "start_time": "2022-04-12T07:00:23.702Z"
   },
   {
    "duration": 436,
    "start_time": "2022-04-12T07:00:23.718Z"
   },
   {
    "duration": 292,
    "start_time": "2022-04-12T07:00:24.157Z"
   },
   {
    "duration": 412,
    "start_time": "2022-04-12T07:00:24.452Z"
   },
   {
    "duration": 393,
    "start_time": "2022-04-12T07:00:24.867Z"
   },
   {
    "duration": 370,
    "start_time": "2022-04-12T07:00:25.263Z"
   },
   {
    "duration": 377,
    "start_time": "2022-04-12T07:00:25.636Z"
   },
   {
    "duration": 506,
    "start_time": "2022-04-12T07:00:26.015Z"
   },
   {
    "duration": 5,
    "start_time": "2022-04-12T07:00:26.524Z"
   },
   {
    "duration": 367,
    "start_time": "2022-04-12T07:00:26.533Z"
   },
   {
    "duration": 7,
    "start_time": "2022-04-12T07:00:26.902Z"
   },
   {
    "duration": 23,
    "start_time": "2022-04-12T07:00:26.912Z"
   },
   {
    "duration": 35,
    "start_time": "2022-04-12T07:00:26.938Z"
   },
   {
    "duration": 39,
    "start_time": "2022-04-12T07:00:26.976Z"
   },
   {
    "duration": 43,
    "start_time": "2022-04-12T07:00:27.017Z"
   },
   {
    "duration": 28,
    "start_time": "2022-04-12T07:00:27.063Z"
   },
   {
    "duration": 448,
    "start_time": "2022-04-12T07:00:27.094Z"
   },
   {
    "duration": 7,
    "start_time": "2022-04-12T07:00:27.554Z"
   },
   {
    "duration": 525,
    "start_time": "2022-04-12T07:00:27.563Z"
   },
   {
    "duration": 6,
    "start_time": "2022-04-12T07:00:28.094Z"
   },
   {
    "duration": 32,
    "start_time": "2022-04-12T07:00:28.102Z"
   },
   {
    "duration": 100,
    "start_time": "2022-04-12T07:00:28.137Z"
   },
   {
    "duration": 109,
    "start_time": "2022-04-12T07:00:33.221Z"
   },
   {
    "duration": 8,
    "start_time": "2022-04-12T07:16:15.359Z"
   },
   {
    "duration": 11,
    "start_time": "2022-04-12T07:17:26.790Z"
   },
   {
    "duration": 82,
    "start_time": "2022-04-12T07:17:44.319Z"
   },
   {
    "duration": 291,
    "start_time": "2022-04-12T07:19:13.192Z"
   },
   {
    "duration": 385,
    "start_time": "2022-04-12T07:19:28.455Z"
   },
   {
    "duration": 350,
    "start_time": "2022-04-12T07:19:33.783Z"
   },
   {
    "duration": 474,
    "start_time": "2022-04-12T07:25:29.356Z"
   },
   {
    "duration": 307,
    "start_time": "2022-04-12T07:32:20.101Z"
   },
   {
    "duration": 167,
    "start_time": "2022-04-12T07:32:36.797Z"
   },
   {
    "duration": 322,
    "start_time": "2022-04-12T07:35:25.541Z"
   },
   {
    "duration": 443,
    "start_time": "2022-04-12T07:37:07.381Z"
   },
   {
    "duration": 14,
    "start_time": "2022-04-12T07:37:25.781Z"
   },
   {
    "duration": 1200,
    "start_time": "2022-04-12T07:37:46.899Z"
   },
   {
    "duration": 1663,
    "start_time": "2022-04-12T07:38:13.683Z"
   },
   {
    "duration": 262,
    "start_time": "2022-04-12T07:38:41.459Z"
   },
   {
    "duration": 286,
    "start_time": "2022-04-12T07:39:44.289Z"
   },
   {
    "duration": 452,
    "start_time": "2022-04-12T07:40:30.787Z"
   },
   {
    "duration": 309,
    "start_time": "2022-04-12T07:41:27.981Z"
   },
   {
    "duration": 31,
    "start_time": "2022-04-12T07:49:27.909Z"
   },
   {
    "duration": 10,
    "start_time": "2022-04-12T07:50:00.042Z"
   },
   {
    "duration": 10,
    "start_time": "2022-04-12T07:50:20.392Z"
   },
   {
    "duration": 197,
    "start_time": "2022-04-12T07:50:52.640Z"
   },
   {
    "duration": 220,
    "start_time": "2022-04-12T07:50:56.024Z"
   },
   {
    "duration": 228,
    "start_time": "2022-04-12T07:52:23.745Z"
   },
   {
    "duration": 8,
    "start_time": "2022-04-12T07:52:44.496Z"
   },
   {
    "duration": 10,
    "start_time": "2022-04-12T07:53:03.822Z"
   },
   {
    "duration": 9,
    "start_time": "2022-04-12T07:53:46.321Z"
   },
   {
    "duration": 8,
    "start_time": "2022-04-12T07:53:50.192Z"
   },
   {
    "duration": 23,
    "start_time": "2022-04-12T07:54:46.231Z"
   },
   {
    "duration": 23,
    "start_time": "2022-04-12T07:54:53.775Z"
   },
   {
    "duration": 18,
    "start_time": "2022-04-12T07:55:07.648Z"
   },
   {
    "duration": 48,
    "start_time": "2022-04-12T07:55:54.278Z"
   },
   {
    "duration": 172,
    "start_time": "2022-04-12T07:55:58.949Z"
   },
   {
    "duration": 907,
    "start_time": "2022-04-12T07:56:59.976Z"
   },
   {
    "duration": 11,
    "start_time": "2022-04-12T07:58:02.567Z"
   },
   {
    "duration": 34,
    "start_time": "2022-04-12T07:58:05.870Z"
   },
   {
    "duration": 34,
    "start_time": "2022-04-12T07:58:28.556Z"
   },
   {
    "duration": 216,
    "start_time": "2022-04-12T07:58:37.176Z"
   },
   {
    "duration": 193,
    "start_time": "2022-04-12T07:58:50.178Z"
   },
   {
    "duration": 193,
    "start_time": "2022-04-12T07:58:56.433Z"
   },
   {
    "duration": 31,
    "start_time": "2022-04-12T08:00:34.175Z"
   },
   {
    "duration": 303,
    "start_time": "2022-04-12T08:01:48.143Z"
   },
   {
    "duration": 306,
    "start_time": "2022-04-12T08:02:00.517Z"
   },
   {
    "duration": 319,
    "start_time": "2022-04-12T08:02:10.687Z"
   },
   {
    "duration": 332,
    "start_time": "2022-04-12T08:03:01.261Z"
   },
   {
    "duration": 353,
    "start_time": "2022-04-12T08:03:24.301Z"
   },
   {
    "duration": 306,
    "start_time": "2022-04-12T08:03:38.821Z"
   },
   {
    "duration": 217,
    "start_time": "2022-04-12T08:03:59.421Z"
   },
   {
    "duration": 3741,
    "start_time": "2022-04-12T08:20:41.764Z"
   },
   {
    "duration": 1620,
    "start_time": "2022-04-12T08:21:05.885Z"
   },
   {
    "duration": 217,
    "start_time": "2022-04-12T08:21:07.508Z"
   },
   {
    "duration": 16,
    "start_time": "2022-04-12T08:21:07.727Z"
   },
   {
    "duration": 194,
    "start_time": "2022-04-12T08:21:07.746Z"
   },
   {
    "duration": 138,
    "start_time": "2022-04-12T08:21:07.943Z"
   },
   {
    "duration": 12,
    "start_time": "2022-04-12T08:21:08.083Z"
   },
   {
    "duration": 137,
    "start_time": "2022-04-12T08:21:08.097Z"
   },
   {
    "duration": 97,
    "start_time": "2022-04-12T08:21:08.236Z"
   },
   {
    "duration": 28,
    "start_time": "2022-04-12T08:21:08.335Z"
   },
   {
    "duration": 41,
    "start_time": "2022-04-12T08:21:08.367Z"
   },
   {
    "duration": 163,
    "start_time": "2022-04-12T08:21:08.410Z"
   },
   {
    "duration": 36,
    "start_time": "2022-04-12T08:21:08.575Z"
   },
   {
    "duration": 18,
    "start_time": "2022-04-12T08:21:08.614Z"
   },
   {
    "duration": 66,
    "start_time": "2022-04-12T08:21:08.634Z"
   },
   {
    "duration": 4,
    "start_time": "2022-04-12T08:21:08.703Z"
   },
   {
    "duration": 41,
    "start_time": "2022-04-12T08:21:08.709Z"
   },
   {
    "duration": 50,
    "start_time": "2022-04-12T08:21:08.752Z"
   },
   {
    "duration": 15,
    "start_time": "2022-04-12T08:21:08.805Z"
   },
   {
    "duration": 16,
    "start_time": "2022-04-12T08:21:08.823Z"
   },
   {
    "duration": 61,
    "start_time": "2022-04-12T08:21:08.842Z"
   },
   {
    "duration": 5,
    "start_time": "2022-04-12T08:21:08.906Z"
   },
   {
    "duration": 58,
    "start_time": "2022-04-12T08:21:08.914Z"
   },
   {
    "duration": 15,
    "start_time": "2022-04-12T08:21:08.975Z"
   },
   {
    "duration": 35,
    "start_time": "2022-04-12T08:21:08.994Z"
   },
   {
    "duration": 15,
    "start_time": "2022-04-12T08:21:09.032Z"
   },
   {
    "duration": 48,
    "start_time": "2022-04-12T08:21:09.050Z"
   },
   {
    "duration": 12,
    "start_time": "2022-04-12T08:21:09.101Z"
   },
   {
    "duration": 26,
    "start_time": "2022-04-12T08:21:09.121Z"
   },
   {
    "duration": 45,
    "start_time": "2022-04-12T08:21:09.149Z"
   },
   {
    "duration": 9,
    "start_time": "2022-04-12T08:21:09.197Z"
   },
   {
    "duration": 1155,
    "start_time": "2022-04-12T08:21:09.208Z"
   },
   {
    "duration": 33,
    "start_time": "2022-04-12T08:21:10.366Z"
   },
   {
    "duration": 25,
    "start_time": "2022-04-12T08:21:10.402Z"
   },
   {
    "duration": 39,
    "start_time": "2022-04-12T08:21:10.430Z"
   },
   {
    "duration": 36,
    "start_time": "2022-04-12T08:21:10.472Z"
   },
   {
    "duration": 10,
    "start_time": "2022-04-12T08:21:10.510Z"
   },
   {
    "duration": 32,
    "start_time": "2022-04-12T08:21:10.523Z"
   },
   {
    "duration": 12,
    "start_time": "2022-04-12T08:21:10.558Z"
   },
   {
    "duration": 33,
    "start_time": "2022-04-12T08:21:10.592Z"
   },
   {
    "duration": 9,
    "start_time": "2022-04-12T08:21:10.628Z"
   },
   {
    "duration": 281,
    "start_time": "2022-04-12T08:21:10.639Z"
   },
   {
    "duration": 7,
    "start_time": "2022-04-12T08:21:10.923Z"
   },
   {
    "duration": 33,
    "start_time": "2022-04-12T08:21:10.933Z"
   },
   {
    "duration": 51,
    "start_time": "2022-04-12T08:21:10.969Z"
   },
   {
    "duration": 5,
    "start_time": "2022-04-12T08:21:11.023Z"
   },
   {
    "duration": 29,
    "start_time": "2022-04-12T08:21:11.031Z"
   },
   {
    "duration": 12,
    "start_time": "2022-04-12T08:21:11.062Z"
   },
   {
    "duration": 18,
    "start_time": "2022-04-12T08:21:11.076Z"
   },
   {
    "duration": 98,
    "start_time": "2022-04-12T08:21:11.097Z"
   },
   {
    "duration": 5,
    "start_time": "2022-04-12T08:21:11.198Z"
   },
   {
    "duration": 34,
    "start_time": "2022-04-12T08:21:11.205Z"
   },
   {
    "duration": 15,
    "start_time": "2022-04-12T08:21:11.241Z"
   },
   {
    "duration": 349,
    "start_time": "2022-04-12T08:21:11.258Z"
   },
   {
    "duration": 295,
    "start_time": "2022-04-12T08:21:11.609Z"
   },
   {
    "duration": 361,
    "start_time": "2022-04-12T08:21:11.906Z"
   },
   {
    "duration": 306,
    "start_time": "2022-04-12T08:21:12.269Z"
   },
   {
    "duration": 336,
    "start_time": "2022-04-12T08:21:12.577Z"
   },
   {
    "duration": 370,
    "start_time": "2022-04-12T08:21:12.915Z"
   },
   {
    "duration": 10,
    "start_time": "2022-04-12T08:21:13.292Z"
   },
   {
    "duration": 16,
    "start_time": "2022-04-12T08:21:13.305Z"
   },
   {
    "duration": 9,
    "start_time": "2022-04-12T08:21:13.323Z"
   },
   {
    "duration": 103,
    "start_time": "2022-04-12T08:21:13.334Z"
   },
   {
    "duration": 6,
    "start_time": "2022-04-12T08:21:13.440Z"
   },
   {
    "duration": 14,
    "start_time": "2022-04-12T08:21:13.448Z"
   },
   {
    "duration": 29,
    "start_time": "2022-04-12T08:21:13.464Z"
   },
   {
    "duration": 324,
    "start_time": "2022-04-12T08:21:13.496Z"
   },
   {
    "duration": 290,
    "start_time": "2022-04-12T08:21:13.823Z"
   },
   {
    "duration": 301,
    "start_time": "2022-04-12T08:21:14.116Z"
   },
   {
    "duration": 309,
    "start_time": "2022-04-12T08:21:14.419Z"
   },
   {
    "duration": 417,
    "start_time": "2022-04-12T08:21:14.732Z"
   },
   {
    "duration": 285,
    "start_time": "2022-04-12T08:21:15.152Z"
   },
   {
    "duration": 334,
    "start_time": "2022-04-12T08:21:15.440Z"
   },
   {
    "duration": 239,
    "start_time": "2022-04-12T08:21:15.776Z"
   },
   {
    "duration": 8,
    "start_time": "2022-04-12T08:21:16.017Z"
   },
   {
    "duration": 458,
    "start_time": "2022-04-12T08:21:16.028Z"
   },
   {
    "duration": 7,
    "start_time": "2022-04-12T08:21:16.488Z"
   },
   {
    "duration": 279,
    "start_time": "2022-04-12T08:21:16.498Z"
   },
   {
    "duration": 14,
    "start_time": "2022-04-12T08:21:16.779Z"
   },
   {
    "duration": 8,
    "start_time": "2022-04-12T08:21:16.795Z"
   },
   {
    "duration": 15,
    "start_time": "2022-04-12T08:21:16.805Z"
   },
   {
    "duration": 17,
    "start_time": "2022-04-12T08:21:16.822Z"
   },
   {
    "duration": 42,
    "start_time": "2022-04-12T08:21:16.851Z"
   },
   {
    "duration": 12,
    "start_time": "2022-04-12T08:21:16.896Z"
   },
   {
    "duration": 534,
    "start_time": "2022-04-12T08:21:16.911Z"
   },
   {
    "duration": 5,
    "start_time": "2022-04-12T08:21:17.449Z"
   },
   {
    "duration": 370,
    "start_time": "2022-04-12T08:21:17.456Z"
   },
   {
    "duration": 5,
    "start_time": "2022-04-12T08:21:17.828Z"
   },
   {
    "duration": 9,
    "start_time": "2022-04-12T08:21:17.835Z"
   },
   {
    "duration": 109,
    "start_time": "2022-04-12T08:21:17.846Z"
   },
   {
    "duration": 95,
    "start_time": "2022-04-12T08:21:17.957Z"
   },
   {
    "duration": 45,
    "start_time": "2022-04-12T08:21:51.651Z"
   },
   {
    "duration": 1622,
    "start_time": "2022-04-12T08:22:01.139Z"
   },
   {
    "duration": 213,
    "start_time": "2022-04-12T08:22:02.765Z"
   },
   {
    "duration": 23,
    "start_time": "2022-04-12T08:22:02.981Z"
   },
   {
    "duration": 188,
    "start_time": "2022-04-12T08:22:03.007Z"
   },
   {
    "duration": 132,
    "start_time": "2022-04-12T08:22:03.197Z"
   },
   {
    "duration": 11,
    "start_time": "2022-04-12T08:22:03.331Z"
   },
   {
    "duration": 135,
    "start_time": "2022-04-12T08:22:03.344Z"
   },
   {
    "duration": 95,
    "start_time": "2022-04-12T08:22:03.481Z"
   },
   {
    "duration": 27,
    "start_time": "2022-04-12T08:22:03.578Z"
   },
   {
    "duration": 45,
    "start_time": "2022-04-12T08:22:03.609Z"
   },
   {
    "duration": 159,
    "start_time": "2022-04-12T08:22:03.657Z"
   },
   {
    "duration": 28,
    "start_time": "2022-04-12T08:22:03.819Z"
   },
   {
    "duration": 14,
    "start_time": "2022-04-12T08:22:03.849Z"
   },
   {
    "duration": 53,
    "start_time": "2022-04-12T08:22:03.865Z"
   },
   {
    "duration": 9,
    "start_time": "2022-04-12T08:22:03.920Z"
   },
   {
    "duration": 62,
    "start_time": "2022-04-12T08:22:03.931Z"
   },
   {
    "duration": 31,
    "start_time": "2022-04-12T08:22:03.996Z"
   },
   {
    "duration": 17,
    "start_time": "2022-04-12T08:22:04.030Z"
   },
   {
    "duration": 53,
    "start_time": "2022-04-12T08:22:04.049Z"
   },
   {
    "duration": 40,
    "start_time": "2022-04-12T08:22:04.106Z"
   },
   {
    "duration": 5,
    "start_time": "2022-04-12T08:22:04.149Z"
   },
   {
    "duration": 70,
    "start_time": "2022-04-12T08:22:04.157Z"
   },
   {
    "duration": 7,
    "start_time": "2022-04-12T08:22:04.230Z"
   },
   {
    "duration": 29,
    "start_time": "2022-04-12T08:22:04.239Z"
   },
   {
    "duration": 45,
    "start_time": "2022-04-12T08:22:04.270Z"
   },
   {
    "duration": 39,
    "start_time": "2022-04-12T08:22:04.318Z"
   },
   {
    "duration": 27,
    "start_time": "2022-04-12T08:22:04.359Z"
   },
   {
    "duration": 28,
    "start_time": "2022-04-12T08:22:04.393Z"
   },
   {
    "duration": 19,
    "start_time": "2022-04-12T08:22:04.423Z"
   },
   {
    "duration": 8,
    "start_time": "2022-04-12T08:22:04.444Z"
   },
   {
    "duration": 841,
    "start_time": "2022-04-12T08:22:04.454Z"
   },
   {
    "duration": 25,
    "start_time": "2022-04-12T08:22:05.297Z"
   },
   {
    "duration": 14,
    "start_time": "2022-04-12T08:22:05.325Z"
   },
   {
    "duration": 51,
    "start_time": "2022-04-12T08:22:05.342Z"
   },
   {
    "duration": 24,
    "start_time": "2022-04-12T08:22:05.396Z"
   },
   {
    "duration": 7,
    "start_time": "2022-04-12T08:22:05.423Z"
   },
   {
    "duration": 28,
    "start_time": "2022-04-12T08:22:05.433Z"
   },
   {
    "duration": 7,
    "start_time": "2022-04-12T08:22:05.493Z"
   },
   {
    "duration": 33,
    "start_time": "2022-04-12T08:22:05.503Z"
   },
   {
    "duration": 10,
    "start_time": "2022-04-12T08:22:05.538Z"
   },
   {
    "duration": 312,
    "start_time": "2022-04-12T08:22:05.551Z"
   },
   {
    "duration": 8,
    "start_time": "2022-04-12T08:22:05.866Z"
   },
   {
    "duration": 45,
    "start_time": "2022-04-12T08:22:05.876Z"
   },
   {
    "duration": 36,
    "start_time": "2022-04-12T08:22:05.923Z"
   },
   {
    "duration": 33,
    "start_time": "2022-04-12T08:22:05.962Z"
   },
   {
    "duration": 35,
    "start_time": "2022-04-12T08:22:05.997Z"
   },
   {
    "duration": 9,
    "start_time": "2022-04-12T08:22:06.034Z"
   },
   {
    "duration": 23,
    "start_time": "2022-04-12T08:22:06.046Z"
   },
   {
    "duration": 128,
    "start_time": "2022-04-12T08:22:06.072Z"
   },
   {
    "duration": 7,
    "start_time": "2022-04-12T08:22:06.203Z"
   },
   {
    "duration": 15,
    "start_time": "2022-04-12T08:22:06.212Z"
   },
   {
    "duration": 18,
    "start_time": "2022-04-12T08:22:06.230Z"
   },
   {
    "duration": 374,
    "start_time": "2022-04-12T08:22:06.252Z"
   },
   {
    "duration": 393,
    "start_time": "2022-04-12T08:22:06.628Z"
   },
   {
    "duration": 501,
    "start_time": "2022-04-12T08:22:07.024Z"
   },
   {
    "duration": 289,
    "start_time": "2022-04-12T08:22:07.528Z"
   },
   {
    "duration": 331,
    "start_time": "2022-04-12T08:22:07.820Z"
   },
   {
    "duration": 394,
    "start_time": "2022-04-12T08:22:08.154Z"
   },
   {
    "duration": 26,
    "start_time": "2022-04-12T08:22:08.558Z"
   },
   {
    "duration": 54,
    "start_time": "2022-04-12T08:22:08.587Z"
   },
   {
    "duration": 13,
    "start_time": "2022-04-12T08:22:08.644Z"
   },
   {
    "duration": 83,
    "start_time": "2022-04-12T08:22:08.659Z"
   },
   {
    "duration": 6,
    "start_time": "2022-04-12T08:22:08.745Z"
   },
   {
    "duration": 7,
    "start_time": "2022-04-12T08:22:08.753Z"
   },
   {
    "duration": 32,
    "start_time": "2022-04-12T08:22:08.762Z"
   },
   {
    "duration": 464,
    "start_time": "2022-04-12T08:22:08.798Z"
   },
   {
    "duration": 401,
    "start_time": "2022-04-12T08:22:09.265Z"
   },
   {
    "duration": 407,
    "start_time": "2022-04-12T08:22:09.669Z"
   },
   {
    "duration": 288,
    "start_time": "2022-04-12T08:22:10.078Z"
   },
   {
    "duration": 305,
    "start_time": "2022-04-12T08:22:10.369Z"
   },
   {
    "duration": 282,
    "start_time": "2022-04-12T08:22:10.677Z"
   },
   {
    "duration": 334,
    "start_time": "2022-04-12T08:22:10.962Z"
   },
   {
    "duration": 443,
    "start_time": "2022-04-12T08:22:11.298Z"
   },
   {
    "duration": 8,
    "start_time": "2022-04-12T08:22:11.743Z"
   },
   {
    "duration": 464,
    "start_time": "2022-04-12T08:22:11.754Z"
   },
   {
    "duration": 6,
    "start_time": "2022-04-12T08:22:12.220Z"
   },
   {
    "duration": 296,
    "start_time": "2022-04-12T08:22:12.228Z"
   },
   {
    "duration": 6,
    "start_time": "2022-04-12T08:22:12.526Z"
   },
   {
    "duration": 14,
    "start_time": "2022-04-12T08:22:12.534Z"
   },
   {
    "duration": 8,
    "start_time": "2022-04-12T08:22:12.550Z"
   },
   {
    "duration": 41,
    "start_time": "2022-04-12T08:22:12.560Z"
   },
   {
    "duration": 13,
    "start_time": "2022-04-12T08:22:12.610Z"
   },
   {
    "duration": 12,
    "start_time": "2022-04-12T08:22:12.625Z"
   },
   {
    "duration": 375,
    "start_time": "2022-04-12T08:22:12.640Z"
   },
   {
    "duration": 6,
    "start_time": "2022-04-12T08:22:13.018Z"
   },
   {
    "duration": 388,
    "start_time": "2022-04-12T08:22:13.027Z"
   },
   {
    "duration": 12,
    "start_time": "2022-04-12T08:22:13.425Z"
   },
   {
    "duration": 26,
    "start_time": "2022-04-12T08:22:13.440Z"
   },
   {
    "duration": 527,
    "start_time": "2022-04-12T08:23:36.131Z"
   },
   {
    "duration": 520,
    "start_time": "2022-04-12T08:24:47.194Z"
   },
   {
    "duration": 173,
    "start_time": "2022-04-12T08:25:22.494Z"
   },
   {
    "duration": 368,
    "start_time": "2022-04-12T08:25:36.991Z"
   },
   {
    "duration": 49,
    "start_time": "2022-04-12T08:27:11.723Z"
   },
   {
    "duration": 250,
    "start_time": "2022-04-12T08:27:23.203Z"
   },
   {
    "duration": 319,
    "start_time": "2022-04-12T08:27:36.577Z"
   },
   {
    "duration": 9,
    "start_time": "2022-04-12T08:27:51.602Z"
   },
   {
    "duration": 8,
    "start_time": "2022-04-12T08:28:19.285Z"
   },
   {
    "duration": 9,
    "start_time": "2022-04-12T08:28:28.297Z"
   },
   {
    "duration": 13,
    "start_time": "2022-04-12T08:29:03.354Z"
   },
   {
    "duration": 7,
    "start_time": "2022-04-12T08:29:11.513Z"
   },
   {
    "duration": 7,
    "start_time": "2022-04-12T08:29:20.507Z"
   },
   {
    "duration": 226,
    "start_time": "2022-04-12T08:30:05.786Z"
   },
   {
    "duration": 12,
    "start_time": "2022-04-12T08:32:21.362Z"
   },
   {
    "duration": 12,
    "start_time": "2022-04-12T08:32:27.448Z"
   },
   {
    "duration": 14,
    "start_time": "2022-04-12T08:32:33.715Z"
   },
   {
    "duration": 11,
    "start_time": "2022-04-12T08:32:45.937Z"
   },
   {
    "duration": 9,
    "start_time": "2022-04-12T08:33:11.553Z"
   },
   {
    "duration": 14,
    "start_time": "2022-04-12T08:33:30.311Z"
   },
   {
    "duration": 187,
    "start_time": "2022-04-12T08:34:07.808Z"
   },
   {
    "duration": 14,
    "start_time": "2022-04-12T08:34:12.064Z"
   },
   {
    "duration": 13,
    "start_time": "2022-04-12T08:36:39.556Z"
   },
   {
    "duration": 17,
    "start_time": "2022-04-12T08:36:57.477Z"
   },
   {
    "duration": 19,
    "start_time": "2022-04-12T08:37:01.537Z"
   },
   {
    "duration": 14,
    "start_time": "2022-04-12T08:37:37.832Z"
   },
   {
    "duration": 14,
    "start_time": "2022-04-12T08:37:49.165Z"
   },
   {
    "duration": 14,
    "start_time": "2022-04-12T08:38:27.175Z"
   },
   {
    "duration": 16,
    "start_time": "2022-04-12T08:42:21.806Z"
   },
   {
    "duration": 16,
    "start_time": "2022-04-12T08:42:56.341Z"
   },
   {
    "duration": 206,
    "start_time": "2022-04-12T08:43:17.107Z"
   },
   {
    "duration": 14,
    "start_time": "2022-04-12T08:44:46.207Z"
   },
   {
    "duration": 14,
    "start_time": "2022-04-12T08:45:07.158Z"
   },
   {
    "duration": 14,
    "start_time": "2022-04-12T08:45:15.477Z"
   },
   {
    "duration": 15,
    "start_time": "2022-04-12T08:45:24.669Z"
   },
   {
    "duration": 16,
    "start_time": "2022-04-12T08:45:49.125Z"
   },
   {
    "duration": 22,
    "start_time": "2022-04-12T08:45:52.791Z"
   },
   {
    "duration": 17,
    "start_time": "2022-04-12T08:45:59.694Z"
   },
   {
    "duration": 201,
    "start_time": "2022-04-12T08:46:38.431Z"
   },
   {
    "duration": 21,
    "start_time": "2022-04-12T08:47:03.222Z"
   },
   {
    "duration": 19,
    "start_time": "2022-04-12T08:47:10.158Z"
   },
   {
    "duration": 19,
    "start_time": "2022-04-12T08:47:16.207Z"
   },
   {
    "duration": 317,
    "start_time": "2022-04-12T09:03:24.756Z"
   },
   {
    "duration": 319,
    "start_time": "2022-04-12T09:04:03.945Z"
   },
   {
    "duration": 262,
    "start_time": "2022-04-12T09:11:52.906Z"
   },
   {
    "duration": 255,
    "start_time": "2022-04-12T09:12:16.338Z"
   },
   {
    "duration": 20,
    "start_time": "2022-04-12T09:13:05.360Z"
   },
   {
    "duration": 238,
    "start_time": "2022-04-12T09:13:35.358Z"
   },
   {
    "duration": 10,
    "start_time": "2022-04-12T09:13:40.859Z"
   },
   {
    "duration": 1667,
    "start_time": "2022-04-12T09:24:30.848Z"
   },
   {
    "duration": 228,
    "start_time": "2022-04-12T09:24:32.519Z"
   },
   {
    "duration": 14,
    "start_time": "2022-04-12T09:24:32.749Z"
   },
   {
    "duration": 211,
    "start_time": "2022-04-12T09:24:32.766Z"
   },
   {
    "duration": 146,
    "start_time": "2022-04-12T09:24:32.982Z"
   },
   {
    "duration": 12,
    "start_time": "2022-04-12T09:24:33.130Z"
   },
   {
    "duration": 143,
    "start_time": "2022-04-12T09:24:33.144Z"
   },
   {
    "duration": 93,
    "start_time": "2022-04-12T09:24:33.289Z"
   },
   {
    "duration": 31,
    "start_time": "2022-04-12T09:24:33.393Z"
   },
   {
    "duration": 43,
    "start_time": "2022-04-12T09:24:33.426Z"
   },
   {
    "duration": 169,
    "start_time": "2022-04-12T09:24:33.471Z"
   },
   {
    "duration": 28,
    "start_time": "2022-04-12T09:24:33.642Z"
   },
   {
    "duration": 36,
    "start_time": "2022-04-12T09:24:33.672Z"
   },
   {
    "duration": 40,
    "start_time": "2022-04-12T09:24:33.714Z"
   },
   {
    "duration": 5,
    "start_time": "2022-04-12T09:24:33.757Z"
   },
   {
    "duration": 51,
    "start_time": "2022-04-12T09:24:33.765Z"
   },
   {
    "duration": 21,
    "start_time": "2022-04-12T09:24:33.819Z"
   },
   {
    "duration": 12,
    "start_time": "2022-04-12T09:24:33.842Z"
   },
   {
    "duration": 49,
    "start_time": "2022-04-12T09:24:33.857Z"
   },
   {
    "duration": 37,
    "start_time": "2022-04-12T09:24:33.909Z"
   },
   {
    "duration": 4,
    "start_time": "2022-04-12T09:24:33.948Z"
   },
   {
    "duration": 51,
    "start_time": "2022-04-12T09:24:33.955Z"
   },
   {
    "duration": 12,
    "start_time": "2022-04-12T09:24:34.009Z"
   },
   {
    "duration": 24,
    "start_time": "2022-04-12T09:24:34.023Z"
   },
   {
    "duration": 8,
    "start_time": "2022-04-12T09:24:34.050Z"
   },
   {
    "duration": 63,
    "start_time": "2022-04-12T09:24:34.061Z"
   },
   {
    "duration": 10,
    "start_time": "2022-04-12T09:24:34.126Z"
   },
   {
    "duration": 31,
    "start_time": "2022-04-12T09:24:34.139Z"
   },
   {
    "duration": 38,
    "start_time": "2022-04-12T09:24:34.172Z"
   },
   {
    "duration": 9,
    "start_time": "2022-04-12T09:24:34.213Z"
   },
   {
    "duration": 845,
    "start_time": "2022-04-12T09:24:34.225Z"
   },
   {
    "duration": 31,
    "start_time": "2022-04-12T09:24:35.072Z"
   },
   {
    "duration": 23,
    "start_time": "2022-04-12T09:24:35.106Z"
   },
   {
    "duration": 18,
    "start_time": "2022-04-12T09:24:35.131Z"
   },
   {
    "duration": 50,
    "start_time": "2022-04-12T09:24:35.151Z"
   },
   {
    "duration": 13,
    "start_time": "2022-04-12T09:24:35.203Z"
   },
   {
    "duration": 23,
    "start_time": "2022-04-12T09:24:35.218Z"
   },
   {
    "duration": 12,
    "start_time": "2022-04-12T09:24:35.244Z"
   },
   {
    "duration": 48,
    "start_time": "2022-04-12T09:24:35.258Z"
   },
   {
    "duration": 12,
    "start_time": "2022-04-12T09:24:35.314Z"
   },
   {
    "duration": 198,
    "start_time": "2022-04-12T09:24:35.335Z"
   },
   {
    "duration": 6,
    "start_time": "2022-04-12T09:24:35.536Z"
   },
   {
    "duration": 26,
    "start_time": "2022-04-12T09:24:35.545Z"
   },
   {
    "duration": 28,
    "start_time": "2022-04-12T09:24:35.596Z"
   },
   {
    "duration": 10,
    "start_time": "2022-04-12T09:24:35.627Z"
   },
   {
    "duration": 11,
    "start_time": "2022-04-12T09:24:35.639Z"
   },
   {
    "duration": 51,
    "start_time": "2022-04-12T09:24:35.653Z"
   },
   {
    "duration": 21,
    "start_time": "2022-04-12T09:24:35.706Z"
   },
   {
    "duration": 90,
    "start_time": "2022-04-12T09:24:35.729Z"
   },
   {
    "duration": 5,
    "start_time": "2022-04-12T09:24:35.822Z"
   },
   {
    "duration": 8,
    "start_time": "2022-04-12T09:24:35.830Z"
   },
   {
    "duration": 10,
    "start_time": "2022-04-12T09:24:35.840Z"
   },
   {
    "duration": 435,
    "start_time": "2022-04-12T09:24:35.853Z"
   },
   {
    "duration": 277,
    "start_time": "2022-04-12T09:24:36.297Z"
   },
   {
    "duration": 420,
    "start_time": "2022-04-12T09:24:36.577Z"
   },
   {
    "duration": 294,
    "start_time": "2022-04-12T09:24:37.001Z"
   },
   {
    "duration": 319,
    "start_time": "2022-04-12T09:24:37.297Z"
   },
   {
    "duration": 382,
    "start_time": "2022-04-12T09:24:37.619Z"
   },
   {
    "duration": 14,
    "start_time": "2022-04-12T09:24:38.005Z"
   },
   {
    "duration": 10,
    "start_time": "2022-04-12T09:24:38.023Z"
   },
   {
    "duration": 7,
    "start_time": "2022-04-12T09:24:38.037Z"
   },
   {
    "duration": 120,
    "start_time": "2022-04-12T09:24:38.046Z"
   },
   {
    "duration": 5,
    "start_time": "2022-04-12T09:24:38.168Z"
   },
   {
    "duration": 30,
    "start_time": "2022-04-12T09:24:38.176Z"
   },
   {
    "duration": 17,
    "start_time": "2022-04-12T09:24:38.209Z"
   },
   {
    "duration": 326,
    "start_time": "2022-04-12T09:24:38.228Z"
   },
   {
    "duration": 422,
    "start_time": "2022-04-12T09:24:38.556Z"
   },
   {
    "duration": 333,
    "start_time": "2022-04-12T09:24:38.981Z"
   },
   {
    "duration": 336,
    "start_time": "2022-04-12T09:24:39.317Z"
   },
   {
    "duration": 309,
    "start_time": "2022-04-12T09:24:39.655Z"
   },
   {
    "duration": 291,
    "start_time": "2022-04-12T09:24:39.967Z"
   },
   {
    "duration": 492,
    "start_time": "2022-04-12T09:24:40.261Z"
   },
   {
    "duration": 15,
    "start_time": "2022-04-12T09:24:40.755Z"
   },
   {
    "duration": 43,
    "start_time": "2022-04-12T09:24:40.773Z"
   },
   {
    "duration": 16,
    "start_time": "2022-04-12T09:24:40.819Z"
   },
   {
    "duration": 287,
    "start_time": "2022-04-12T09:24:40.837Z"
   },
   {
    "duration": 8,
    "start_time": "2022-04-12T09:24:41.127Z"
   },
   {
    "duration": 667,
    "start_time": "2022-04-12T09:24:41.137Z"
   },
   {
    "duration": 6,
    "start_time": "2022-04-12T09:24:41.806Z"
   },
   {
    "duration": 286,
    "start_time": "2022-04-12T09:24:41.815Z"
   },
   {
    "duration": 6,
    "start_time": "2022-04-12T09:24:42.103Z"
   },
   {
    "duration": 17,
    "start_time": "2022-04-12T09:24:42.114Z"
   },
   {
    "duration": 13,
    "start_time": "2022-04-12T09:24:42.133Z"
   },
   {
    "duration": 43,
    "start_time": "2022-04-12T09:24:42.149Z"
   },
   {
    "duration": 12,
    "start_time": "2022-04-12T09:24:42.196Z"
   },
   {
    "duration": 13,
    "start_time": "2022-04-12T09:24:42.211Z"
   },
   {
    "duration": 386,
    "start_time": "2022-04-12T09:24:42.227Z"
   },
   {
    "duration": 6,
    "start_time": "2022-04-12T09:24:42.616Z"
   },
   {
    "duration": 370,
    "start_time": "2022-04-12T09:24:42.625Z"
   },
   {
    "duration": 7,
    "start_time": "2022-04-12T09:24:42.998Z"
   },
   {
    "duration": 17,
    "start_time": "2022-04-12T09:24:43.008Z"
   },
   {
    "duration": 146,
    "start_time": "2022-04-12T23:29:37.720Z"
   },
   {
    "duration": 122,
    "start_time": "2022-04-12T23:31:14.084Z"
   },
   {
    "duration": 124,
    "start_time": "2022-04-12T23:40:05.241Z"
   },
   {
    "duration": 38,
    "start_time": "2022-04-12T23:53:57.374Z"
   },
   {
    "duration": 1092,
    "start_time": "2022-04-12T23:54:05.426Z"
   },
   {
    "duration": 136,
    "start_time": "2022-04-12T23:54:06.520Z"
   },
   {
    "duration": 10,
    "start_time": "2022-04-12T23:54:06.657Z"
   },
   {
    "duration": 122,
    "start_time": "2022-04-12T23:54:06.668Z"
   },
   {
    "duration": 89,
    "start_time": "2022-04-12T23:54:06.791Z"
   },
   {
    "duration": 8,
    "start_time": "2022-04-12T23:54:06.881Z"
   },
   {
    "duration": 82,
    "start_time": "2022-04-12T23:54:06.890Z"
   },
   {
    "duration": 64,
    "start_time": "2022-04-12T23:54:06.973Z"
   },
   {
    "duration": 13,
    "start_time": "2022-04-12T23:54:07.038Z"
   },
   {
    "duration": 23,
    "start_time": "2022-04-12T23:54:07.053Z"
   },
   {
    "duration": 99,
    "start_time": "2022-04-12T23:54:07.077Z"
   },
   {
    "duration": 16,
    "start_time": "2022-04-12T23:54:07.178Z"
   },
   {
    "duration": 8,
    "start_time": "2022-04-12T23:54:07.195Z"
   },
   {
    "duration": 29,
    "start_time": "2022-04-12T23:54:07.204Z"
   },
   {
    "duration": 3,
    "start_time": "2022-04-12T23:54:07.234Z"
   },
   {
    "duration": 14,
    "start_time": "2022-04-12T23:54:07.238Z"
   },
   {
    "duration": 13,
    "start_time": "2022-04-12T23:54:07.253Z"
   },
   {
    "duration": 6,
    "start_time": "2022-04-12T23:54:07.268Z"
   },
   {
    "duration": 7,
    "start_time": "2022-04-12T23:54:07.276Z"
   },
   {
    "duration": 50,
    "start_time": "2022-04-12T23:54:07.284Z"
   },
   {
    "duration": 3,
    "start_time": "2022-04-12T23:54:07.336Z"
   },
   {
    "duration": 17,
    "start_time": "2022-04-12T23:54:07.340Z"
   },
   {
    "duration": 5,
    "start_time": "2022-04-12T23:54:07.359Z"
   },
   {
    "duration": 14,
    "start_time": "2022-04-12T23:54:07.365Z"
   },
   {
    "duration": 5,
    "start_time": "2022-04-12T23:54:07.380Z"
   },
   {
    "duration": 40,
    "start_time": "2022-04-12T23:54:07.386Z"
   },
   {
    "duration": 6,
    "start_time": "2022-04-12T23:54:07.428Z"
   },
   {
    "duration": 14,
    "start_time": "2022-04-12T23:54:07.438Z"
   },
   {
    "duration": 7,
    "start_time": "2022-04-12T23:54:07.454Z"
   },
   {
    "duration": 4,
    "start_time": "2022-04-12T23:54:07.462Z"
   },
   {
    "duration": 519,
    "start_time": "2022-04-12T23:54:07.467Z"
   },
   {
    "duration": 11,
    "start_time": "2022-04-12T23:54:07.988Z"
   },
   {
    "duration": 6,
    "start_time": "2022-04-12T23:54:08.000Z"
   },
   {
    "duration": 24,
    "start_time": "2022-04-12T23:54:08.007Z"
   },
   {
    "duration": 13,
    "start_time": "2022-04-12T23:54:08.032Z"
   },
   {
    "duration": 5,
    "start_time": "2022-04-12T23:54:08.046Z"
   },
   {
    "duration": 12,
    "start_time": "2022-04-12T23:54:08.052Z"
   },
   {
    "duration": 5,
    "start_time": "2022-04-12T23:54:08.066Z"
   },
   {
    "duration": 14,
    "start_time": "2022-04-12T23:54:08.072Z"
   },
   {
    "duration": 4,
    "start_time": "2022-04-12T23:54:08.088Z"
   },
   {
    "duration": 114,
    "start_time": "2022-04-12T23:54:08.093Z"
   },
   {
    "duration": 4,
    "start_time": "2022-04-12T23:54:08.208Z"
   },
   {
    "duration": 22,
    "start_time": "2022-04-12T23:54:08.213Z"
   },
   {
    "duration": 13,
    "start_time": "2022-04-12T23:54:08.237Z"
   },
   {
    "duration": 6,
    "start_time": "2022-04-12T23:54:08.251Z"
   },
   {
    "duration": 8,
    "start_time": "2022-04-12T23:54:08.259Z"
   },
   {
    "duration": 6,
    "start_time": "2022-04-12T23:54:08.268Z"
   },
   {
    "duration": 5,
    "start_time": "2022-04-12T23:54:08.275Z"
   },
   {
    "duration": 68,
    "start_time": "2022-04-12T23:54:08.281Z"
   },
   {
    "duration": 4,
    "start_time": "2022-04-12T23:54:08.351Z"
   },
   {
    "duration": 5,
    "start_time": "2022-04-12T23:54:08.356Z"
   },
   {
    "duration": 6,
    "start_time": "2022-04-12T23:54:08.362Z"
   },
   {
    "duration": 186,
    "start_time": "2022-04-12T23:54:08.369Z"
   },
   {
    "duration": 150,
    "start_time": "2022-04-12T23:54:08.556Z"
   },
   {
    "duration": 173,
    "start_time": "2022-04-12T23:54:08.707Z"
   },
   {
    "duration": 155,
    "start_time": "2022-04-12T23:54:08.882Z"
   },
   {
    "duration": 176,
    "start_time": "2022-04-12T23:54:09.039Z"
   },
   {
    "duration": 219,
    "start_time": "2022-04-12T23:54:09.217Z"
   },
   {
    "duration": 6,
    "start_time": "2022-04-12T23:54:09.438Z"
   },
   {
    "duration": 9,
    "start_time": "2022-04-12T23:54:09.446Z"
   },
   {
    "duration": 5,
    "start_time": "2022-04-12T23:54:09.456Z"
   },
   {
    "duration": 62,
    "start_time": "2022-04-12T23:54:09.463Z"
   },
   {
    "duration": 4,
    "start_time": "2022-04-12T23:54:09.527Z"
   },
   {
    "duration": 5,
    "start_time": "2022-04-12T23:54:09.533Z"
   },
   {
    "duration": 7,
    "start_time": "2022-04-12T23:54:09.540Z"
   },
   {
    "duration": 184,
    "start_time": "2022-04-12T23:54:09.548Z"
   },
   {
    "duration": 164,
    "start_time": "2022-04-12T23:54:09.734Z"
   },
   {
    "duration": 156,
    "start_time": "2022-04-12T23:54:09.900Z"
   },
   {
    "duration": 160,
    "start_time": "2022-04-12T23:54:10.058Z"
   },
   {
    "duration": 159,
    "start_time": "2022-04-12T23:54:10.223Z"
   },
   {
    "duration": 147,
    "start_time": "2022-04-12T23:54:10.384Z"
   },
   {
    "duration": 171,
    "start_time": "2022-04-12T23:54:10.533Z"
   },
   {
    "duration": 19,
    "start_time": "2022-04-12T23:54:10.706Z"
   },
   {
    "duration": 10,
    "start_time": "2022-04-12T23:54:10.726Z"
   },
   {
    "duration": 9,
    "start_time": "2022-04-12T23:54:10.738Z"
   },
   {
    "duration": 10,
    "start_time": "2022-04-12T23:54:10.749Z"
   },
   {
    "duration": 164,
    "start_time": "2022-04-12T23:54:10.761Z"
   },
   {
    "duration": 5,
    "start_time": "2022-04-12T23:54:10.927Z"
   },
   {
    "duration": 261,
    "start_time": "2022-04-12T23:54:10.934Z"
   },
   {
    "duration": 4,
    "start_time": "2022-04-12T23:54:11.197Z"
   },
   {
    "duration": 147,
    "start_time": "2022-04-12T23:54:11.203Z"
   },
   {
    "duration": 4,
    "start_time": "2022-04-12T23:54:11.355Z"
   },
   {
    "duration": 9,
    "start_time": "2022-04-12T23:54:11.361Z"
   },
   {
    "duration": 6,
    "start_time": "2022-04-12T23:54:11.371Z"
   },
   {
    "duration": 10,
    "start_time": "2022-04-12T23:54:11.379Z"
   },
   {
    "duration": 6,
    "start_time": "2022-04-12T23:54:11.390Z"
   },
   {
    "duration": 29,
    "start_time": "2022-04-12T23:54:11.397Z"
   },
   {
    "duration": 185,
    "start_time": "2022-04-12T23:54:11.427Z"
   },
   {
    "duration": 4,
    "start_time": "2022-04-12T23:54:11.613Z"
   },
   {
    "duration": 184,
    "start_time": "2022-04-12T23:54:11.623Z"
   },
   {
    "duration": 4,
    "start_time": "2022-04-12T23:54:11.808Z"
   },
   {
    "duration": 13,
    "start_time": "2022-04-12T23:54:11.814Z"
   },
   {
    "duration": 6,
    "start_time": "2022-04-12T23:54:11.829Z"
   },
   {
    "duration": 19,
    "start_time": "2022-04-12T23:54:27.444Z"
   },
   {
    "duration": 12,
    "start_time": "2022-04-12T23:56:45.345Z"
   },
   {
    "duration": 6,
    "start_time": "2022-04-12T23:57:15.135Z"
   },
   {
    "duration": 5,
    "start_time": "2022-04-12T23:57:21.691Z"
   },
   {
    "duration": 4,
    "start_time": "2022-04-12T23:57:25.842Z"
   },
   {
    "duration": 6,
    "start_time": "2022-04-12T23:57:47.793Z"
   },
   {
    "duration": 20,
    "start_time": "2022-04-12T23:57:55.986Z"
   },
   {
    "duration": 20,
    "start_time": "2022-04-12T23:58:00.182Z"
   },
   {
    "duration": 4,
    "start_time": "2022-04-12T23:58:07.172Z"
   },
   {
    "duration": 2171,
    "start_time": "2022-04-12T23:58:52.502Z"
   },
   {
    "duration": 15,
    "start_time": "2022-04-12T23:58:59.653Z"
   },
   {
    "duration": 12,
    "start_time": "2022-04-12T23:59:15.952Z"
   },
   {
    "duration": 13,
    "start_time": "2022-04-12T23:59:18.757Z"
   },
   {
    "duration": 12,
    "start_time": "2022-04-13T00:01:50.708Z"
   },
   {
    "duration": 7,
    "start_time": "2022-04-13T00:02:10.868Z"
   },
   {
    "duration": 8,
    "start_time": "2022-04-13T00:02:39.293Z"
   },
   {
    "duration": 6,
    "start_time": "2022-04-13T00:02:56.621Z"
   },
   {
    "duration": 19,
    "start_time": "2022-04-13T00:03:42.711Z"
   },
   {
    "duration": 5,
    "start_time": "2022-04-13T00:06:06.901Z"
   },
   {
    "duration": 29,
    "start_time": "2022-04-13T00:06:25.437Z"
   },
   {
    "duration": 3,
    "start_time": "2022-04-13T00:06:41.444Z"
   },
   {
    "duration": 150,
    "start_time": "2022-04-13T00:06:46.183Z"
   },
   {
    "duration": 12,
    "start_time": "2022-04-13T00:07:30.911Z"
   },
   {
    "duration": 1589,
    "start_time": "2022-04-13T00:07:45.918Z"
   },
   {
    "duration": 1075,
    "start_time": "2022-04-13T00:09:28.925Z"
   },
   {
    "duration": 137,
    "start_time": "2022-04-13T00:09:30.002Z"
   },
   {
    "duration": 9,
    "start_time": "2022-04-13T00:09:30.140Z"
   },
   {
    "duration": 125,
    "start_time": "2022-04-13T00:09:30.151Z"
   },
   {
    "duration": 87,
    "start_time": "2022-04-13T00:09:30.278Z"
   },
   {
    "duration": 7,
    "start_time": "2022-04-13T00:09:30.367Z"
   },
   {
    "duration": 87,
    "start_time": "2022-04-13T00:09:30.376Z"
   },
   {
    "duration": 63,
    "start_time": "2022-04-13T00:09:30.465Z"
   },
   {
    "duration": 14,
    "start_time": "2022-04-13T00:09:30.530Z"
   },
   {
    "duration": 23,
    "start_time": "2022-04-13T00:09:30.546Z"
   },
   {
    "duration": 102,
    "start_time": "2022-04-13T00:09:30.571Z"
   },
   {
    "duration": 15,
    "start_time": "2022-04-13T00:09:30.675Z"
   },
   {
    "duration": 8,
    "start_time": "2022-04-13T00:09:30.691Z"
   },
   {
    "duration": 37,
    "start_time": "2022-04-13T00:09:30.700Z"
   },
   {
    "duration": 2,
    "start_time": "2022-04-13T00:09:30.739Z"
   },
   {
    "duration": 17,
    "start_time": "2022-04-13T00:09:30.743Z"
   },
   {
    "duration": 23,
    "start_time": "2022-04-13T00:09:30.761Z"
   },
   {
    "duration": 19,
    "start_time": "2022-04-13T00:09:30.785Z"
   },
   {
    "duration": 13,
    "start_time": "2022-04-13T00:09:30.805Z"
   },
   {
    "duration": 18,
    "start_time": "2022-04-13T00:09:30.820Z"
   },
   {
    "duration": 3,
    "start_time": "2022-04-13T00:09:30.840Z"
   },
   {
    "duration": 37,
    "start_time": "2022-04-13T00:09:30.844Z"
   },
   {
    "duration": 17,
    "start_time": "2022-04-13T00:09:30.882Z"
   },
   {
    "duration": 25,
    "start_time": "2022-04-13T00:09:30.901Z"
   },
   {
    "duration": 5,
    "start_time": "2022-04-13T00:09:30.928Z"
   },
   {
    "duration": 32,
    "start_time": "2022-04-13T00:09:30.935Z"
   },
   {
    "duration": 13,
    "start_time": "2022-04-13T00:09:30.968Z"
   },
   {
    "duration": 23,
    "start_time": "2022-04-13T00:09:30.985Z"
   },
   {
    "duration": 12,
    "start_time": "2022-04-13T00:09:31.010Z"
   },
   {
    "duration": 8,
    "start_time": "2022-04-13T00:09:31.023Z"
   },
   {
    "duration": 476,
    "start_time": "2022-04-13T00:09:31.032Z"
   },
   {
    "duration": 16,
    "start_time": "2022-04-13T00:09:31.509Z"
   },
   {
    "duration": 7,
    "start_time": "2022-04-13T00:09:31.526Z"
   },
   {
    "duration": 11,
    "start_time": "2022-04-13T00:09:31.534Z"
   },
   {
    "duration": 21,
    "start_time": "2022-04-13T00:09:31.546Z"
   },
   {
    "duration": 5,
    "start_time": "2022-04-13T00:09:31.568Z"
   },
   {
    "duration": 14,
    "start_time": "2022-04-13T00:09:31.574Z"
   },
   {
    "duration": 10,
    "start_time": "2022-04-13T00:09:31.590Z"
   },
   {
    "duration": 32,
    "start_time": "2022-04-13T00:09:31.601Z"
   },
   {
    "duration": 5,
    "start_time": "2022-04-13T00:09:31.635Z"
   },
   {
    "duration": 108,
    "start_time": "2022-04-13T00:09:31.641Z"
   },
   {
    "duration": 5,
    "start_time": "2022-04-13T00:09:31.750Z"
   },
   {
    "duration": 14,
    "start_time": "2022-04-13T00:09:31.757Z"
   },
   {
    "duration": 13,
    "start_time": "2022-04-13T00:09:31.773Z"
   },
   {
    "duration": 5,
    "start_time": "2022-04-13T00:09:31.788Z"
   },
   {
    "duration": 29,
    "start_time": "2022-04-13T00:09:31.795Z"
   },
   {
    "duration": 12,
    "start_time": "2022-04-13T00:09:31.825Z"
   },
   {
    "duration": 5,
    "start_time": "2022-04-13T00:09:31.839Z"
   },
   {
    "duration": 45,
    "start_time": "2022-04-13T00:09:31.846Z"
   },
   {
    "duration": 4,
    "start_time": "2022-04-13T00:09:31.893Z"
   },
   {
    "duration": 9,
    "start_time": "2022-04-13T00:09:31.899Z"
   },
   {
    "duration": 4,
    "start_time": "2022-04-13T00:09:31.923Z"
   },
   {
    "duration": 189,
    "start_time": "2022-04-13T00:09:31.929Z"
   },
   {
    "duration": 138,
    "start_time": "2022-04-13T00:09:32.124Z"
   },
   {
    "duration": 178,
    "start_time": "2022-04-13T00:09:32.264Z"
   },
   {
    "duration": 154,
    "start_time": "2022-04-13T00:09:32.444Z"
   },
   {
    "duration": 166,
    "start_time": "2022-04-13T00:09:32.600Z"
   },
   {
    "duration": 211,
    "start_time": "2022-04-13T00:09:32.768Z"
   },
   {
    "duration": 6,
    "start_time": "2022-04-13T00:09:32.981Z"
   },
   {
    "duration": 6,
    "start_time": "2022-04-13T00:09:32.989Z"
   },
   {
    "duration": 4,
    "start_time": "2022-04-13T00:09:32.997Z"
   },
   {
    "duration": 62,
    "start_time": "2022-04-13T00:09:33.003Z"
   },
   {
    "duration": 3,
    "start_time": "2022-04-13T00:09:33.067Z"
   },
   {
    "duration": 4,
    "start_time": "2022-04-13T00:09:33.072Z"
   },
   {
    "duration": 4,
    "start_time": "2022-04-13T00:09:33.078Z"
   },
   {
    "duration": 176,
    "start_time": "2022-04-13T00:09:33.083Z"
   },
   {
    "duration": 155,
    "start_time": "2022-04-13T00:09:33.260Z"
   },
   {
    "duration": 151,
    "start_time": "2022-04-13T00:09:33.417Z"
   },
   {
    "duration": 159,
    "start_time": "2022-04-13T00:09:33.570Z"
   },
   {
    "duration": 163,
    "start_time": "2022-04-13T00:09:33.730Z"
   },
   {
    "duration": 150,
    "start_time": "2022-04-13T00:09:33.895Z"
   },
   {
    "duration": 180,
    "start_time": "2022-04-13T00:09:34.046Z"
   },
   {
    "duration": 11,
    "start_time": "2022-04-13T00:09:34.227Z"
   },
   {
    "duration": 9,
    "start_time": "2022-04-13T00:09:34.240Z"
   },
   {
    "duration": 9,
    "start_time": "2022-04-13T00:09:34.251Z"
   },
   {
    "duration": 160,
    "start_time": "2022-04-13T00:09:34.262Z"
   },
   {
    "duration": 5,
    "start_time": "2022-04-13T00:09:34.424Z"
   },
   {
    "duration": 14,
    "start_time": "2022-04-13T00:09:34.431Z"
   },
   {
    "duration": 279,
    "start_time": "2022-04-13T00:09:34.446Z"
   },
   {
    "duration": 5,
    "start_time": "2022-04-13T00:09:34.726Z"
   },
   {
    "duration": 151,
    "start_time": "2022-04-13T00:09:34.732Z"
   },
   {
    "duration": 3,
    "start_time": "2022-04-13T00:09:34.889Z"
   },
   {
    "duration": 7,
    "start_time": "2022-04-13T00:09:34.893Z"
   },
   {
    "duration": 7,
    "start_time": "2022-04-13T00:09:34.901Z"
   },
   {
    "duration": 9,
    "start_time": "2022-04-13T00:09:34.924Z"
   },
   {
    "duration": 7,
    "start_time": "2022-04-13T00:09:34.935Z"
   },
   {
    "duration": 7,
    "start_time": "2022-04-13T00:09:34.944Z"
   },
   {
    "duration": 203,
    "start_time": "2022-04-13T00:09:34.952Z"
   },
   {
    "duration": 3,
    "start_time": "2022-04-13T00:09:35.157Z"
   },
   {
    "duration": 193,
    "start_time": "2022-04-13T00:09:35.162Z"
   },
   {
    "duration": 4,
    "start_time": "2022-04-13T00:09:35.357Z"
   },
   {
    "duration": 6,
    "start_time": "2022-04-13T00:09:35.362Z"
   },
   {
    "duration": 6,
    "start_time": "2022-04-13T00:09:35.369Z"
   },
   {
    "duration": 6,
    "start_time": "2022-04-13T00:09:35.376Z"
   },
   {
    "duration": 1609,
    "start_time": "2022-04-13T00:09:35.384Z"
   },
   {
    "duration": 4,
    "start_time": "2022-04-13T00:09:36.995Z"
   },
   {
    "duration": 155,
    "start_time": "2022-04-13T00:09:37.001Z"
   },
   {
    "duration": 237,
    "start_time": "2022-04-13T00:09:37.157Z"
   },
   {
    "duration": 147,
    "start_time": "2022-04-13T00:09:37.396Z"
   },
   {
    "duration": 29,
    "start_time": "2022-04-13T00:09:37.545Z"
   },
   {
    "duration": 127,
    "start_time": "2022-04-13T00:16:13.673Z"
   },
   {
    "duration": 209,
    "start_time": "2022-04-13T06:13:39.055Z"
   },
   {
    "duration": 63,
    "start_time": "2022-04-13T06:13:44.663Z"
   },
   {
    "duration": 1751,
    "start_time": "2022-04-13T06:13:52.591Z"
   },
   {
    "duration": 216,
    "start_time": "2022-04-13T06:13:54.345Z"
   },
   {
    "duration": 29,
    "start_time": "2022-04-13T06:13:54.564Z"
   },
   {
    "duration": 166,
    "start_time": "2022-04-13T06:13:54.596Z"
   },
   {
    "duration": 116,
    "start_time": "2022-04-13T06:13:54.765Z"
   },
   {
    "duration": 16,
    "start_time": "2022-04-13T06:13:54.884Z"
   },
   {
    "duration": 118,
    "start_time": "2022-04-13T06:13:54.902Z"
   },
   {
    "duration": 98,
    "start_time": "2022-04-13T06:13:55.023Z"
   },
   {
    "duration": 24,
    "start_time": "2022-04-13T06:13:55.123Z"
   },
   {
    "duration": 43,
    "start_time": "2022-04-13T06:13:55.151Z"
   },
   {
    "duration": 157,
    "start_time": "2022-04-13T06:13:55.196Z"
   },
   {
    "duration": 161,
    "start_time": "2022-04-13T06:13:55.355Z"
   },
   {
    "duration": 0,
    "start_time": "2022-04-13T06:13:55.522Z"
   },
   {
    "duration": 0,
    "start_time": "2022-04-13T06:13:55.523Z"
   },
   {
    "duration": 0,
    "start_time": "2022-04-13T06:13:55.525Z"
   },
   {
    "duration": 0,
    "start_time": "2022-04-13T06:13:55.526Z"
   },
   {
    "duration": 0,
    "start_time": "2022-04-13T06:13:55.527Z"
   },
   {
    "duration": 0,
    "start_time": "2022-04-13T06:13:55.529Z"
   },
   {
    "duration": 0,
    "start_time": "2022-04-13T06:13:55.530Z"
   },
   {
    "duration": 0,
    "start_time": "2022-04-13T06:13:55.531Z"
   },
   {
    "duration": 0,
    "start_time": "2022-04-13T06:13:55.533Z"
   },
   {
    "duration": 0,
    "start_time": "2022-04-13T06:13:55.534Z"
   },
   {
    "duration": 0,
    "start_time": "2022-04-13T06:13:55.536Z"
   },
   {
    "duration": 0,
    "start_time": "2022-04-13T06:13:55.537Z"
   },
   {
    "duration": 0,
    "start_time": "2022-04-13T06:13:55.538Z"
   },
   {
    "duration": 0,
    "start_time": "2022-04-13T06:13:55.539Z"
   },
   {
    "duration": 0,
    "start_time": "2022-04-13T06:13:55.541Z"
   },
   {
    "duration": 0,
    "start_time": "2022-04-13T06:13:55.542Z"
   },
   {
    "duration": 0,
    "start_time": "2022-04-13T06:13:55.543Z"
   },
   {
    "duration": 0,
    "start_time": "2022-04-13T06:13:55.545Z"
   },
   {
    "duration": 0,
    "start_time": "2022-04-13T06:13:55.546Z"
   },
   {
    "duration": 0,
    "start_time": "2022-04-13T06:13:55.548Z"
   },
   {
    "duration": 0,
    "start_time": "2022-04-13T06:13:55.593Z"
   },
   {
    "duration": 0,
    "start_time": "2022-04-13T06:13:55.595Z"
   },
   {
    "duration": 0,
    "start_time": "2022-04-13T06:13:55.596Z"
   },
   {
    "duration": 0,
    "start_time": "2022-04-13T06:13:55.598Z"
   },
   {
    "duration": 0,
    "start_time": "2022-04-13T06:13:55.599Z"
   },
   {
    "duration": 0,
    "start_time": "2022-04-13T06:13:55.601Z"
   },
   {
    "duration": 0,
    "start_time": "2022-04-13T06:13:55.602Z"
   },
   {
    "duration": 0,
    "start_time": "2022-04-13T06:13:55.604Z"
   },
   {
    "duration": 0,
    "start_time": "2022-04-13T06:13:55.605Z"
   },
   {
    "duration": 0,
    "start_time": "2022-04-13T06:13:55.607Z"
   },
   {
    "duration": 0,
    "start_time": "2022-04-13T06:13:55.608Z"
   },
   {
    "duration": 0,
    "start_time": "2022-04-13T06:13:55.610Z"
   },
   {
    "duration": 0,
    "start_time": "2022-04-13T06:13:55.612Z"
   },
   {
    "duration": 0,
    "start_time": "2022-04-13T06:13:55.613Z"
   },
   {
    "duration": 0,
    "start_time": "2022-04-13T06:13:55.615Z"
   },
   {
    "duration": 0,
    "start_time": "2022-04-13T06:13:55.616Z"
   },
   {
    "duration": 0,
    "start_time": "2022-04-13T06:13:55.618Z"
   },
   {
    "duration": 0,
    "start_time": "2022-04-13T06:13:55.619Z"
   },
   {
    "duration": 0,
    "start_time": "2022-04-13T06:13:55.621Z"
   },
   {
    "duration": 0,
    "start_time": "2022-04-13T06:13:55.623Z"
   },
   {
    "duration": 0,
    "start_time": "2022-04-13T06:13:55.626Z"
   },
   {
    "duration": 0,
    "start_time": "2022-04-13T06:13:55.627Z"
   },
   {
    "duration": 0,
    "start_time": "2022-04-13T06:13:55.629Z"
   },
   {
    "duration": 0,
    "start_time": "2022-04-13T06:13:55.630Z"
   },
   {
    "duration": 0,
    "start_time": "2022-04-13T06:13:55.631Z"
   },
   {
    "duration": 0,
    "start_time": "2022-04-13T06:13:55.694Z"
   },
   {
    "duration": 0,
    "start_time": "2022-04-13T06:13:55.696Z"
   },
   {
    "duration": 0,
    "start_time": "2022-04-13T06:13:55.697Z"
   },
   {
    "duration": 0,
    "start_time": "2022-04-13T06:13:55.699Z"
   },
   {
    "duration": 0,
    "start_time": "2022-04-13T06:13:55.700Z"
   },
   {
    "duration": 0,
    "start_time": "2022-04-13T06:13:55.702Z"
   },
   {
    "duration": 0,
    "start_time": "2022-04-13T06:13:55.703Z"
   },
   {
    "duration": 0,
    "start_time": "2022-04-13T06:13:55.704Z"
   },
   {
    "duration": 0,
    "start_time": "2022-04-13T06:13:55.705Z"
   },
   {
    "duration": 0,
    "start_time": "2022-04-13T06:13:55.706Z"
   },
   {
    "duration": 0,
    "start_time": "2022-04-13T06:13:55.707Z"
   },
   {
    "duration": 0,
    "start_time": "2022-04-13T06:13:55.708Z"
   },
   {
    "duration": 0,
    "start_time": "2022-04-13T06:13:55.710Z"
   },
   {
    "duration": 0,
    "start_time": "2022-04-13T06:13:55.711Z"
   },
   {
    "duration": 0,
    "start_time": "2022-04-13T06:13:55.712Z"
   },
   {
    "duration": 0,
    "start_time": "2022-04-13T06:13:55.714Z"
   },
   {
    "duration": 0,
    "start_time": "2022-04-13T06:13:55.715Z"
   },
   {
    "duration": 0,
    "start_time": "2022-04-13T06:13:55.716Z"
   },
   {
    "duration": 0,
    "start_time": "2022-04-13T06:13:55.717Z"
   },
   {
    "duration": 0,
    "start_time": "2022-04-13T06:13:55.718Z"
   },
   {
    "duration": 0,
    "start_time": "2022-04-13T06:13:55.720Z"
   },
   {
    "duration": 0,
    "start_time": "2022-04-13T06:13:55.721Z"
   },
   {
    "duration": 0,
    "start_time": "2022-04-13T06:13:55.722Z"
   },
   {
    "duration": 0,
    "start_time": "2022-04-13T06:13:55.723Z"
   },
   {
    "duration": 1,
    "start_time": "2022-04-13T06:13:55.724Z"
   },
   {
    "duration": 0,
    "start_time": "2022-04-13T06:13:55.726Z"
   },
   {
    "duration": 0,
    "start_time": "2022-04-13T06:13:55.727Z"
   },
   {
    "duration": 0,
    "start_time": "2022-04-13T06:13:55.729Z"
   },
   {
    "duration": 0,
    "start_time": "2022-04-13T06:13:55.730Z"
   },
   {
    "duration": 0,
    "start_time": "2022-04-13T06:13:55.731Z"
   },
   {
    "duration": 0,
    "start_time": "2022-04-13T06:13:55.793Z"
   },
   {
    "duration": 0,
    "start_time": "2022-04-13T06:13:55.794Z"
   },
   {
    "duration": 0,
    "start_time": "2022-04-13T06:13:55.796Z"
   },
   {
    "duration": 0,
    "start_time": "2022-04-13T06:13:55.798Z"
   },
   {
    "duration": 0,
    "start_time": "2022-04-13T06:13:55.799Z"
   },
   {
    "duration": 0,
    "start_time": "2022-04-13T06:13:55.800Z"
   },
   {
    "duration": 0,
    "start_time": "2022-04-13T06:13:55.802Z"
   },
   {
    "duration": 0,
    "start_time": "2022-04-13T06:13:55.803Z"
   },
   {
    "duration": 0,
    "start_time": "2022-04-13T06:13:55.804Z"
   },
   {
    "duration": 0,
    "start_time": "2022-04-13T06:13:55.806Z"
   },
   {
    "duration": 0,
    "start_time": "2022-04-13T06:13:55.807Z"
   },
   {
    "duration": 0,
    "start_time": "2022-04-13T06:13:55.809Z"
   },
   {
    "duration": 0,
    "start_time": "2022-04-13T06:13:55.810Z"
   },
   {
    "duration": 78,
    "start_time": "2022-04-13T06:14:56.481Z"
   },
   {
    "duration": 1536,
    "start_time": "2022-04-13T06:15:03.076Z"
   },
   {
    "duration": 202,
    "start_time": "2022-04-13T06:15:04.615Z"
   },
   {
    "duration": 14,
    "start_time": "2022-04-13T06:15:04.819Z"
   },
   {
    "duration": 193,
    "start_time": "2022-04-13T06:15:04.836Z"
   },
   {
    "duration": 129,
    "start_time": "2022-04-13T06:15:05.031Z"
   },
   {
    "duration": 11,
    "start_time": "2022-04-13T06:15:05.163Z"
   },
   {
    "duration": 138,
    "start_time": "2022-04-13T06:15:05.176Z"
   },
   {
    "duration": 91,
    "start_time": "2022-04-13T06:15:05.316Z"
   },
   {
    "duration": 24,
    "start_time": "2022-04-13T06:15:05.409Z"
   },
   {
    "duration": 44,
    "start_time": "2022-04-13T06:15:05.437Z"
   },
   {
    "duration": 149,
    "start_time": "2022-04-13T06:15:05.483Z"
   },
   {
    "duration": 25,
    "start_time": "2022-04-13T06:15:05.634Z"
   },
   {
    "duration": 34,
    "start_time": "2022-04-13T06:15:05.662Z"
   },
   {
    "duration": 29,
    "start_time": "2022-04-13T06:15:05.698Z"
   },
   {
    "duration": 4,
    "start_time": "2022-04-13T06:15:05.730Z"
   },
   {
    "duration": 62,
    "start_time": "2022-04-13T06:15:05.737Z"
   },
   {
    "duration": 23,
    "start_time": "2022-04-13T06:15:05.802Z"
   },
   {
    "duration": 12,
    "start_time": "2022-04-13T06:15:05.828Z"
   },
   {
    "duration": 12,
    "start_time": "2022-04-13T06:15:05.842Z"
   },
   {
    "duration": 25,
    "start_time": "2022-04-13T06:15:05.893Z"
   },
   {
    "duration": 4,
    "start_time": "2022-04-13T06:15:05.920Z"
   },
   {
    "duration": 35,
    "start_time": "2022-04-13T06:15:05.926Z"
   },
   {
    "duration": 30,
    "start_time": "2022-04-13T06:15:05.963Z"
   },
   {
    "duration": 21,
    "start_time": "2022-04-13T06:15:05.995Z"
   },
   {
    "duration": 8,
    "start_time": "2022-04-13T06:15:06.018Z"
   },
   {
    "duration": 27,
    "start_time": "2022-04-13T06:15:06.028Z"
   },
   {
    "duration": 38,
    "start_time": "2022-04-13T06:15:06.057Z"
   },
   {
    "duration": 76,
    "start_time": "2022-04-13T06:15:06.103Z"
   },
   {
    "duration": 12,
    "start_time": "2022-04-13T06:15:06.181Z"
   },
   {
    "duration": 7,
    "start_time": "2022-04-13T06:15:06.195Z"
   },
   {
    "duration": 734,
    "start_time": "2022-04-13T06:15:06.204Z"
   },
   {
    "duration": 19,
    "start_time": "2022-04-13T06:15:06.941Z"
   },
   {
    "duration": 31,
    "start_time": "2022-04-13T06:15:06.962Z"
   },
   {
    "duration": 18,
    "start_time": "2022-04-13T06:15:06.995Z"
   },
   {
    "duration": 21,
    "start_time": "2022-04-13T06:15:07.015Z"
   },
   {
    "duration": 7,
    "start_time": "2022-04-13T06:15:07.038Z"
   },
   {
    "duration": 55,
    "start_time": "2022-04-13T06:15:07.047Z"
   },
   {
    "duration": 12,
    "start_time": "2022-04-13T06:15:07.104Z"
   },
   {
    "duration": 24,
    "start_time": "2022-04-13T06:15:07.118Z"
   },
   {
    "duration": 7,
    "start_time": "2022-04-13T06:15:07.144Z"
   },
   {
    "duration": 189,
    "start_time": "2022-04-13T06:15:07.154Z"
   },
   {
    "duration": 6,
    "start_time": "2022-04-13T06:15:07.345Z"
   },
   {
    "duration": 41,
    "start_time": "2022-04-13T06:15:07.353Z"
   },
   {
    "duration": 23,
    "start_time": "2022-04-13T06:15:07.397Z"
   },
   {
    "duration": 7,
    "start_time": "2022-04-13T06:15:07.423Z"
   },
   {
    "duration": 12,
    "start_time": "2022-04-13T06:15:07.432Z"
   },
   {
    "duration": 9,
    "start_time": "2022-04-13T06:15:07.446Z"
   },
   {
    "duration": 38,
    "start_time": "2022-04-13T06:15:07.457Z"
   },
   {
    "duration": 77,
    "start_time": "2022-04-13T06:15:07.497Z"
   },
   {
    "duration": 5,
    "start_time": "2022-04-13T06:15:07.593Z"
   },
   {
    "duration": 7,
    "start_time": "2022-04-13T06:15:07.601Z"
   },
   {
    "duration": 8,
    "start_time": "2022-04-13T06:15:07.610Z"
   },
   {
    "duration": 348,
    "start_time": "2022-04-13T06:15:07.620Z"
   },
   {
    "duration": 265,
    "start_time": "2022-04-13T06:15:07.971Z"
   },
   {
    "duration": 330,
    "start_time": "2022-04-13T06:15:08.239Z"
   },
   {
    "duration": 285,
    "start_time": "2022-04-13T06:15:08.571Z"
   },
   {
    "duration": 303,
    "start_time": "2022-04-13T06:15:08.858Z"
   },
   {
    "duration": 329,
    "start_time": "2022-04-13T06:15:09.164Z"
   },
   {
    "duration": 10,
    "start_time": "2022-04-13T06:15:09.495Z"
   },
   {
    "duration": 11,
    "start_time": "2022-04-13T06:15:09.507Z"
   },
   {
    "duration": 6,
    "start_time": "2022-04-13T06:15:09.520Z"
   },
   {
    "duration": 110,
    "start_time": "2022-04-13T06:15:09.528Z"
   },
   {
    "duration": 5,
    "start_time": "2022-04-13T06:15:09.640Z"
   },
   {
    "duration": 8,
    "start_time": "2022-04-13T06:15:09.647Z"
   },
   {
    "duration": 7,
    "start_time": "2022-04-13T06:15:09.657Z"
   },
   {
    "duration": 316,
    "start_time": "2022-04-13T06:15:09.694Z"
   },
   {
    "duration": 274,
    "start_time": "2022-04-13T06:15:10.013Z"
   },
   {
    "duration": 266,
    "start_time": "2022-04-13T06:15:10.292Z"
   },
   {
    "duration": 276,
    "start_time": "2022-04-13T06:15:10.560Z"
   },
   {
    "duration": 288,
    "start_time": "2022-04-13T06:15:10.838Z"
   },
   {
    "duration": 268,
    "start_time": "2022-04-13T06:15:11.128Z"
   },
   {
    "duration": 301,
    "start_time": "2022-04-13T06:15:11.398Z"
   },
   {
    "duration": 15,
    "start_time": "2022-04-13T06:15:11.701Z"
   },
   {
    "duration": 16,
    "start_time": "2022-04-13T06:15:11.718Z"
   },
   {
    "duration": 14,
    "start_time": "2022-04-13T06:15:11.736Z"
   },
   {
    "duration": 296,
    "start_time": "2022-04-13T06:15:11.753Z"
   },
   {
    "duration": 9,
    "start_time": "2022-04-13T06:15:12.052Z"
   },
   {
    "duration": 41,
    "start_time": "2022-04-13T06:15:12.063Z"
   },
   {
    "duration": 417,
    "start_time": "2022-04-13T06:15:12.106Z"
   },
   {
    "duration": 6,
    "start_time": "2022-04-13T06:15:12.525Z"
   },
   {
    "duration": 255,
    "start_time": "2022-04-13T06:15:12.533Z"
   },
   {
    "duration": 6,
    "start_time": "2022-04-13T06:15:12.799Z"
   },
   {
    "duration": 11,
    "start_time": "2022-04-13T06:15:12.807Z"
   },
   {
    "duration": 8,
    "start_time": "2022-04-13T06:15:12.820Z"
   },
   {
    "duration": 14,
    "start_time": "2022-04-13T06:15:12.830Z"
   },
   {
    "duration": 8,
    "start_time": "2022-04-13T06:15:12.846Z"
   },
   {
    "duration": 41,
    "start_time": "2022-04-13T06:15:12.857Z"
   },
   {
    "duration": 348,
    "start_time": "2022-04-13T06:15:12.900Z"
   },
   {
    "duration": 5,
    "start_time": "2022-04-13T06:15:13.250Z"
   },
   {
    "duration": 342,
    "start_time": "2022-04-13T06:15:13.257Z"
   },
   {
    "duration": 5,
    "start_time": "2022-04-13T06:15:13.601Z"
   },
   {
    "duration": 8,
    "start_time": "2022-04-13T06:15:13.608Z"
   },
   {
    "duration": 9,
    "start_time": "2022-04-13T06:15:13.619Z"
   },
   {
    "duration": 7,
    "start_time": "2022-04-13T06:15:13.630Z"
   },
   {
    "duration": 2227,
    "start_time": "2022-04-13T06:15:13.639Z"
   },
   {
    "duration": 6,
    "start_time": "2022-04-13T06:15:15.869Z"
   },
   {
    "duration": 277,
    "start_time": "2022-04-13T06:15:15.893Z"
   },
   {
    "duration": 364,
    "start_time": "2022-04-13T06:15:16.173Z"
   },
   {
    "duration": 266,
    "start_time": "2022-04-13T06:15:16.540Z"
   },
   {
    "duration": 50,
    "start_time": "2022-04-13T06:15:16.809Z"
   },
   {
    "duration": 295,
    "start_time": "2022-04-13T06:37:10.376Z"
   },
   {
    "duration": 8,
    "start_time": "2022-04-13T06:37:20.000Z"
   },
   {
    "duration": 68,
    "start_time": "2022-04-13T06:48:37.927Z"
   },
   {
    "duration": 332,
    "start_time": "2022-04-13T06:49:20.453Z"
   },
   {
    "duration": 2124,
    "start_time": "2022-04-13T06:49:29.045Z"
   },
   {
    "duration": 233,
    "start_time": "2022-04-13T06:49:31.172Z"
   },
   {
    "duration": 15,
    "start_time": "2022-04-13T06:49:31.407Z"
   },
   {
    "duration": 202,
    "start_time": "2022-04-13T06:49:31.425Z"
   },
   {
    "duration": 140,
    "start_time": "2022-04-13T06:49:31.629Z"
   },
   {
    "duration": 12,
    "start_time": "2022-04-13T06:49:31.771Z"
   },
   {
    "duration": 141,
    "start_time": "2022-04-13T06:49:31.793Z"
   },
   {
    "duration": 99,
    "start_time": "2022-04-13T06:49:31.936Z"
   },
   {
    "duration": 24,
    "start_time": "2022-04-13T06:49:32.037Z"
   },
   {
    "duration": 42,
    "start_time": "2022-04-13T06:49:32.065Z"
   },
   {
    "duration": 167,
    "start_time": "2022-04-13T06:49:32.109Z"
   },
   {
    "duration": 37,
    "start_time": "2022-04-13T06:49:32.278Z"
   },
   {
    "duration": 14,
    "start_time": "2022-04-13T06:49:32.317Z"
   },
   {
    "duration": 28,
    "start_time": "2022-04-13T06:49:32.334Z"
   },
   {
    "duration": 30,
    "start_time": "2022-04-13T06:49:32.364Z"
   },
   {
    "duration": 27,
    "start_time": "2022-04-13T06:49:32.396Z"
   },
   {
    "duration": 22,
    "start_time": "2022-04-13T06:49:32.425Z"
   },
   {
    "duration": 45,
    "start_time": "2022-04-13T06:49:32.449Z"
   },
   {
    "duration": 12,
    "start_time": "2022-04-13T06:49:32.497Z"
   },
   {
    "duration": 24,
    "start_time": "2022-04-13T06:49:32.511Z"
   },
   {
    "duration": 4,
    "start_time": "2022-04-13T06:49:32.538Z"
   },
   {
    "duration": 64,
    "start_time": "2022-04-13T06:49:32.544Z"
   },
   {
    "duration": 8,
    "start_time": "2022-04-13T06:49:32.610Z"
   },
   {
    "duration": 23,
    "start_time": "2022-04-13T06:49:32.620Z"
   },
   {
    "duration": 8,
    "start_time": "2022-04-13T06:49:32.645Z"
   },
   {
    "duration": 55,
    "start_time": "2022-04-13T06:49:32.656Z"
   },
   {
    "duration": 10,
    "start_time": "2022-04-13T06:49:32.713Z"
   },
   {
    "duration": 27,
    "start_time": "2022-04-13T06:49:32.729Z"
   },
   {
    "duration": 40,
    "start_time": "2022-04-13T06:49:32.759Z"
   },
   {
    "duration": 7,
    "start_time": "2022-04-13T06:49:32.801Z"
   },
   {
    "duration": 840,
    "start_time": "2022-04-13T06:49:32.811Z"
   },
   {
    "duration": 18,
    "start_time": "2022-04-13T06:49:33.654Z"
   },
   {
    "duration": 25,
    "start_time": "2022-04-13T06:49:33.674Z"
   },
   {
    "duration": 22,
    "start_time": "2022-04-13T06:49:33.702Z"
   },
   {
    "duration": 30,
    "start_time": "2022-04-13T06:49:33.727Z"
   },
   {
    "duration": 39,
    "start_time": "2022-04-13T06:49:33.759Z"
   },
   {
    "duration": 25,
    "start_time": "2022-04-13T06:49:33.800Z"
   },
   {
    "duration": 8,
    "start_time": "2022-04-13T06:49:33.828Z"
   },
   {
    "duration": 29,
    "start_time": "2022-04-13T06:49:33.837Z"
   },
   {
    "duration": 7,
    "start_time": "2022-04-13T06:49:33.894Z"
   },
   {
    "duration": 190,
    "start_time": "2022-04-13T06:49:33.903Z"
   },
   {
    "duration": 6,
    "start_time": "2022-04-13T06:49:34.096Z"
   },
   {
    "duration": 26,
    "start_time": "2022-04-13T06:49:34.105Z"
   },
   {
    "duration": 33,
    "start_time": "2022-04-13T06:49:34.133Z"
   },
   {
    "duration": 31,
    "start_time": "2022-04-13T06:49:34.169Z"
   },
   {
    "duration": 13,
    "start_time": "2022-04-13T06:49:34.203Z"
   },
   {
    "duration": 8,
    "start_time": "2022-04-13T06:49:34.219Z"
   },
   {
    "duration": 6,
    "start_time": "2022-04-13T06:49:34.230Z"
   },
   {
    "duration": 120,
    "start_time": "2022-04-13T06:49:34.238Z"
   },
   {
    "duration": 6,
    "start_time": "2022-04-13T06:49:34.361Z"
   },
   {
    "duration": 26,
    "start_time": "2022-04-13T06:49:34.369Z"
   },
   {
    "duration": 9,
    "start_time": "2022-04-13T06:49:34.397Z"
   },
   {
    "duration": 364,
    "start_time": "2022-04-13T06:49:34.409Z"
   },
   {
    "duration": 288,
    "start_time": "2022-04-13T06:49:34.776Z"
   },
   {
    "duration": 356,
    "start_time": "2022-04-13T06:49:35.067Z"
   },
   {
    "duration": 291,
    "start_time": "2022-04-13T06:49:35.426Z"
   },
   {
    "duration": 335,
    "start_time": "2022-04-13T06:49:35.720Z"
   },
   {
    "duration": 359,
    "start_time": "2022-04-13T06:49:36.058Z"
   },
   {
    "duration": 9,
    "start_time": "2022-04-13T06:49:36.419Z"
   },
   {
    "duration": 10,
    "start_time": "2022-04-13T06:49:36.430Z"
   },
   {
    "duration": 8,
    "start_time": "2022-04-13T06:49:36.442Z"
   },
   {
    "duration": 109,
    "start_time": "2022-04-13T06:49:36.452Z"
   },
   {
    "duration": 5,
    "start_time": "2022-04-13T06:49:36.563Z"
   },
   {
    "duration": 24,
    "start_time": "2022-04-13T06:49:36.570Z"
   },
   {
    "duration": 7,
    "start_time": "2022-04-13T06:49:36.596Z"
   },
   {
    "duration": 322,
    "start_time": "2022-04-13T06:49:36.605Z"
   },
   {
    "duration": 287,
    "start_time": "2022-04-13T06:49:36.929Z"
   },
   {
    "duration": 283,
    "start_time": "2022-04-13T06:49:37.218Z"
   },
   {
    "duration": 284,
    "start_time": "2022-04-13T06:49:37.504Z"
   },
   {
    "duration": 293,
    "start_time": "2022-04-13T06:49:37.793Z"
   },
   {
    "duration": 292,
    "start_time": "2022-04-13T06:49:38.088Z"
   },
   {
    "duration": 344,
    "start_time": "2022-04-13T06:49:38.383Z"
   },
   {
    "duration": 16,
    "start_time": "2022-04-13T06:49:38.729Z"
   },
   {
    "duration": 16,
    "start_time": "2022-04-13T06:49:38.747Z"
   },
   {
    "duration": 15,
    "start_time": "2022-04-13T06:49:38.792Z"
   },
   {
    "duration": 290,
    "start_time": "2022-04-13T06:49:38.810Z"
   },
   {
    "duration": 52,
    "start_time": "2022-04-13T06:49:39.103Z"
   },
   {
    "duration": 19,
    "start_time": "2022-04-13T06:49:39.158Z"
   },
   {
    "duration": 454,
    "start_time": "2022-04-13T06:49:39.179Z"
   },
   {
    "duration": 5,
    "start_time": "2022-04-13T06:49:39.636Z"
   },
   {
    "duration": 279,
    "start_time": "2022-04-13T06:49:39.643Z"
   },
   {
    "duration": 5,
    "start_time": "2022-04-13T06:49:39.930Z"
   },
   {
    "duration": 11,
    "start_time": "2022-04-13T06:49:39.938Z"
   },
   {
    "duration": 41,
    "start_time": "2022-04-13T06:49:39.951Z"
   },
   {
    "duration": 12,
    "start_time": "2022-04-13T06:49:39.995Z"
   },
   {
    "duration": 23,
    "start_time": "2022-04-13T06:49:40.010Z"
   },
   {
    "duration": 10,
    "start_time": "2022-04-13T06:49:40.036Z"
   },
   {
    "duration": 384,
    "start_time": "2022-04-13T06:49:40.048Z"
   },
   {
    "duration": 6,
    "start_time": "2022-04-13T06:49:40.435Z"
   },
   {
    "duration": 368,
    "start_time": "2022-04-13T06:49:40.443Z"
   },
   {
    "duration": 6,
    "start_time": "2022-04-13T06:49:40.814Z"
   },
   {
    "duration": 9,
    "start_time": "2022-04-13T06:49:40.822Z"
   },
   {
    "duration": 8,
    "start_time": "2022-04-13T06:49:40.834Z"
   },
   {
    "duration": 9,
    "start_time": "2022-04-13T06:49:40.844Z"
   },
   {
    "duration": 2418,
    "start_time": "2022-04-13T06:49:40.893Z"
   },
   {
    "duration": 6,
    "start_time": "2022-04-13T06:49:43.313Z"
   },
   {
    "duration": 296,
    "start_time": "2022-04-13T06:49:43.321Z"
   },
   {
    "duration": 381,
    "start_time": "2022-04-13T06:49:43.619Z"
   },
   {
    "duration": 277,
    "start_time": "2022-04-13T06:49:44.002Z"
   },
   {
    "duration": 58,
    "start_time": "2022-04-13T06:49:44.282Z"
   },
   {
    "duration": 26,
    "start_time": "2022-04-13T06:55:43.087Z"
   },
   {
    "duration": 7,
    "start_time": "2022-04-13T06:57:13.631Z"
   },
   {
    "duration": 7,
    "start_time": "2022-04-13T06:57:21.779Z"
   },
   {
    "duration": 158,
    "start_time": "2022-04-13T06:57:40.045Z"
   },
   {
    "duration": 300,
    "start_time": "2022-04-13T06:59:39.707Z"
   },
   {
    "duration": 230,
    "start_time": "2022-04-13T07:00:21.236Z"
   },
   {
    "duration": 270,
    "start_time": "2022-04-13T07:00:26.692Z"
   },
   {
    "duration": 14461,
    "start_time": "2022-04-13T07:01:03.965Z"
   },
   {
    "duration": 13,
    "start_time": "2022-04-13T07:01:53.949Z"
   },
   {
    "duration": 258,
    "start_time": "2022-04-13T07:01:59.174Z"
   },
   {
    "duration": 48,
    "start_time": "2024-01-28T15:38:05.164Z"
   },
   {
    "duration": 1387,
    "start_time": "2024-01-28T15:38:13.201Z"
   },
   {
    "duration": 252,
    "start_time": "2024-01-28T15:38:14.590Z"
   },
   {
    "duration": 9,
    "start_time": "2024-01-28T15:38:14.844Z"
   },
   {
    "duration": 331,
    "start_time": "2024-01-28T15:38:14.855Z"
   },
   {
    "duration": 87,
    "start_time": "2024-01-28T15:38:15.188Z"
   },
   {
    "duration": 8,
    "start_time": "2024-01-28T15:38:15.277Z"
   },
   {
    "duration": 348,
    "start_time": "2024-01-28T15:38:15.286Z"
   },
   {
    "duration": 60,
    "start_time": "2024-01-28T15:38:15.635Z"
   },
   {
    "duration": 75,
    "start_time": "2024-01-28T15:38:15.697Z"
   },
   {
    "duration": 65,
    "start_time": "2024-01-28T15:38:15.774Z"
   },
   {
    "duration": 128,
    "start_time": "2024-01-28T15:38:15.841Z"
   },
   {
    "duration": 17,
    "start_time": "2024-01-28T15:38:15.970Z"
   },
   {
    "duration": 57,
    "start_time": "2024-01-28T15:38:15.988Z"
   },
   {
    "duration": 39,
    "start_time": "2024-01-28T15:38:16.046Z"
   },
   {
    "duration": 15,
    "start_time": "2024-01-28T15:38:16.087Z"
   },
   {
    "duration": 38,
    "start_time": "2024-01-28T15:38:16.103Z"
   },
   {
    "duration": 44,
    "start_time": "2024-01-28T15:38:16.142Z"
   },
   {
    "duration": 13,
    "start_time": "2024-01-28T15:38:16.188Z"
   },
   {
    "duration": 39,
    "start_time": "2024-01-28T15:38:16.203Z"
   },
   {
    "duration": 23,
    "start_time": "2024-01-28T15:38:16.244Z"
   },
   {
    "duration": 46,
    "start_time": "2024-01-28T15:38:16.269Z"
   },
   {
    "duration": 49,
    "start_time": "2024-01-28T15:38:16.316Z"
   },
   {
    "duration": 21,
    "start_time": "2024-01-28T15:38:16.367Z"
   },
   {
    "duration": 8,
    "start_time": "2024-01-28T15:38:16.389Z"
   },
   {
    "duration": 50,
    "start_time": "2024-01-28T15:38:16.398Z"
   },
   {
    "duration": 31,
    "start_time": "2024-01-28T15:38:16.449Z"
   },
   {
    "duration": 46,
    "start_time": "2024-01-28T15:38:16.482Z"
   },
   {
    "duration": 40,
    "start_time": "2024-01-28T15:38:16.532Z"
   },
   {
    "duration": 25,
    "start_time": "2024-01-28T15:38:16.574Z"
   },
   {
    "duration": 41,
    "start_time": "2024-01-28T15:38:16.601Z"
   },
   {
    "duration": 13,
    "start_time": "2024-01-28T15:38:16.644Z"
   },
   {
    "duration": 36,
    "start_time": "2024-01-28T15:38:16.659Z"
   },
   {
    "duration": 22,
    "start_time": "2024-01-28T15:38:16.696Z"
   },
   {
    "duration": 25,
    "start_time": "2024-01-28T15:38:16.720Z"
   },
   {
    "duration": 35,
    "start_time": "2024-01-28T15:38:16.747Z"
   },
   {
    "duration": 33,
    "start_time": "2024-01-28T15:38:16.783Z"
   },
   {
    "duration": 23,
    "start_time": "2024-01-28T15:38:16.818Z"
   },
   {
    "duration": 31,
    "start_time": "2024-01-28T15:38:16.843Z"
   },
   {
    "duration": 121,
    "start_time": "2024-01-28T15:38:16.877Z"
   },
   {
    "duration": 4,
    "start_time": "2024-01-28T15:38:17.000Z"
   },
   {
    "duration": 31,
    "start_time": "2024-01-28T15:38:17.005Z"
   },
   {
    "duration": 25,
    "start_time": "2024-01-28T15:38:17.038Z"
   },
   {
    "duration": 22,
    "start_time": "2024-01-28T15:38:17.065Z"
   },
   {
    "duration": 40,
    "start_time": "2024-01-28T15:38:17.088Z"
   },
   {
    "duration": 16,
    "start_time": "2024-01-28T15:38:17.130Z"
   },
   {
    "duration": 23,
    "start_time": "2024-01-28T15:38:17.147Z"
   },
   {
    "duration": 80,
    "start_time": "2024-01-28T15:38:17.171Z"
   },
   {
    "duration": 4,
    "start_time": "2024-01-28T15:38:17.253Z"
   },
   {
    "duration": 13,
    "start_time": "2024-01-28T15:38:17.259Z"
   },
   {
    "duration": 9,
    "start_time": "2024-01-28T15:38:17.274Z"
   },
   {
    "duration": 225,
    "start_time": "2024-01-28T15:38:17.285Z"
   },
   {
    "duration": 173,
    "start_time": "2024-01-28T15:38:17.512Z"
   },
   {
    "duration": 224,
    "start_time": "2024-01-28T15:38:17.687Z"
   },
   {
    "duration": 188,
    "start_time": "2024-01-28T15:38:17.913Z"
   },
   {
    "duration": 202,
    "start_time": "2024-01-28T15:38:18.103Z"
   },
   {
    "duration": 171,
    "start_time": "2024-01-28T15:38:18.307Z"
   },
   {
    "duration": 6,
    "start_time": "2024-01-28T15:38:18.479Z"
   },
   {
    "duration": 13,
    "start_time": "2024-01-28T15:38:18.487Z"
   },
   {
    "duration": 15,
    "start_time": "2024-01-28T15:38:18.502Z"
   },
   {
    "duration": 57,
    "start_time": "2024-01-28T15:38:18.518Z"
   },
   {
    "duration": 4,
    "start_time": "2024-01-28T15:38:18.577Z"
   },
   {
    "duration": 5,
    "start_time": "2024-01-28T15:38:18.582Z"
   },
   {
    "duration": 4,
    "start_time": "2024-01-28T15:38:18.588Z"
   },
   {
    "duration": 220,
    "start_time": "2024-01-28T15:38:18.594Z"
   },
   {
    "duration": 259,
    "start_time": "2024-01-28T15:38:18.817Z"
   },
   {
    "duration": 180,
    "start_time": "2024-01-28T15:38:19.078Z"
   },
   {
    "duration": 181,
    "start_time": "2024-01-28T15:38:19.259Z"
   },
   {
    "duration": 212,
    "start_time": "2024-01-28T15:38:19.442Z"
   },
   {
    "duration": 170,
    "start_time": "2024-01-28T15:38:19.656Z"
   },
   {
    "duration": 197,
    "start_time": "2024-01-28T15:38:19.828Z"
   },
   {
    "duration": 9,
    "start_time": "2024-01-28T15:38:20.027Z"
   },
   {
    "duration": 45,
    "start_time": "2024-01-28T15:38:20.038Z"
   },
   {
    "duration": 10,
    "start_time": "2024-01-28T15:38:20.084Z"
   },
   {
    "duration": 34,
    "start_time": "2024-01-28T15:38:20.095Z"
   },
   {
    "duration": 12,
    "start_time": "2024-01-28T15:38:20.131Z"
   },
   {
    "duration": 214,
    "start_time": "2024-01-28T15:38:20.145Z"
   },
   {
    "duration": 6,
    "start_time": "2024-01-28T15:38:20.361Z"
   },
   {
    "duration": 168,
    "start_time": "2024-01-28T15:38:20.368Z"
   },
   {
    "duration": 4,
    "start_time": "2024-01-28T15:38:20.538Z"
   },
   {
    "duration": 39,
    "start_time": "2024-01-28T15:38:20.544Z"
   },
   {
    "duration": 20,
    "start_time": "2024-01-28T15:38:20.585Z"
   },
   {
    "duration": 11,
    "start_time": "2024-01-28T15:38:20.611Z"
   },
   {
    "duration": 7,
    "start_time": "2024-01-28T15:38:20.624Z"
   },
   {
    "duration": 15,
    "start_time": "2024-01-28T15:38:20.633Z"
   },
   {
    "duration": 248,
    "start_time": "2024-01-28T15:38:20.650Z"
   },
   {
    "duration": 4,
    "start_time": "2024-01-28T15:38:20.900Z"
   },
   {
    "duration": 306,
    "start_time": "2024-01-28T15:38:20.906Z"
   },
   {
    "duration": 4,
    "start_time": "2024-01-28T15:38:21.214Z"
   },
   {
    "duration": 8,
    "start_time": "2024-01-28T15:38:21.220Z"
   },
   {
    "duration": 7,
    "start_time": "2024-01-28T15:38:21.229Z"
   },
   {
    "duration": 27,
    "start_time": "2024-01-28T15:38:21.238Z"
   },
   {
    "duration": 1638,
    "start_time": "2024-01-28T15:38:21.267Z"
   },
   {
    "duration": 4,
    "start_time": "2024-01-28T15:38:22.907Z"
   },
   {
    "duration": 183,
    "start_time": "2024-01-28T15:38:22.912Z"
   },
   {
    "duration": 184,
    "start_time": "2024-01-28T15:38:23.096Z"
   },
   {
    "duration": 185,
    "start_time": "2024-01-28T15:38:23.282Z"
   },
   {
    "duration": 51,
    "start_time": "2024-01-28T15:38:23.469Z"
   },
   {
    "duration": 211,
    "start_time": "2024-01-28T15:39:08.673Z"
   },
   {
    "duration": 73,
    "start_time": "2024-01-28T15:39:27.108Z"
   },
   {
    "duration": 293,
    "start_time": "2024-01-28T15:41:21.259Z"
   },
   {
    "duration": 232,
    "start_time": "2024-01-28T15:41:35.796Z"
   },
   {
    "duration": 231,
    "start_time": "2024-01-28T15:41:42.567Z"
   },
   {
    "duration": 225,
    "start_time": "2024-01-28T15:41:57.347Z"
   },
   {
    "duration": 173,
    "start_time": "2024-01-28T15:50:46.568Z"
   },
   {
    "duration": 157,
    "start_time": "2024-01-28T15:51:00.912Z"
   },
   {
    "duration": 178,
    "start_time": "2024-01-28T15:51:05.433Z"
   },
   {
    "duration": 336,
    "start_time": "2024-01-28T15:51:45.835Z"
   },
   {
    "duration": 206,
    "start_time": "2024-01-28T15:53:17.347Z"
   },
   {
    "duration": 171,
    "start_time": "2024-01-28T15:54:16.986Z"
   },
   {
    "duration": 169,
    "start_time": "2024-01-28T15:54:26.060Z"
   },
   {
    "duration": 194,
    "start_time": "2024-01-28T15:56:17.000Z"
   },
   {
    "duration": 191,
    "start_time": "2024-01-28T15:56:45.776Z"
   },
   {
    "duration": 195,
    "start_time": "2024-01-28T15:59:20.196Z"
   },
   {
    "duration": 160,
    "start_time": "2024-01-28T15:59:44.094Z"
   },
   {
    "duration": 194,
    "start_time": "2024-01-28T16:00:11.037Z"
   },
   {
    "duration": 181,
    "start_time": "2024-01-28T16:00:35.913Z"
   },
   {
    "duration": 180,
    "start_time": "2024-01-28T16:01:53.089Z"
   },
   {
    "duration": 208,
    "start_time": "2024-01-28T16:02:48.161Z"
   },
   {
    "duration": 172,
    "start_time": "2024-01-28T16:03:18.316Z"
   },
   {
    "duration": 193,
    "start_time": "2024-01-28T16:06:01.784Z"
   },
   {
    "duration": 21,
    "start_time": "2024-01-28T16:07:54.539Z"
   },
   {
    "duration": 240,
    "start_time": "2024-01-28T16:23:59.214Z"
   },
   {
    "duration": 171,
    "start_time": "2024-01-28T16:25:08.708Z"
   },
   {
    "duration": 238,
    "start_time": "2024-01-28T16:35:35.267Z"
   },
   {
    "duration": 294,
    "start_time": "2024-01-28T16:36:55.766Z"
   },
   {
    "duration": 271,
    "start_time": "2024-01-28T16:37:29.814Z"
   },
   {
    "duration": 250,
    "start_time": "2024-01-28T16:37:47.610Z"
   }
  ],
  "kernelspec": {
   "display_name": "Python 3 (ipykernel)",
   "language": "python",
   "name": "python3"
  },
  "language_info": {
   "codemirror_mode": {
    "name": "ipython",
    "version": 3
   },
   "file_extension": ".py",
   "mimetype": "text/x-python",
   "name": "python",
   "nbconvert_exporter": "python",
   "pygments_lexer": "ipython3",
   "version": "3.9.5"
  },
  "toc": {
   "base_numbering": 1,
   "nav_menu": {},
   "number_sections": true,
   "sideBar": true,
   "skip_h1_title": true,
   "title_cell": "Содержание проекта",
   "title_sidebar": "Contents",
   "toc_cell": true,
   "toc_position": {},
   "toc_section_display": true,
   "toc_window_display": false
  }
 },
 "nbformat": 4,
 "nbformat_minor": 2
}
