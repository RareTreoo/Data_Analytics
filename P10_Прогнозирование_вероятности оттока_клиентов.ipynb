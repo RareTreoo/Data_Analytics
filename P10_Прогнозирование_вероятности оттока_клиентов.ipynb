{
 "cells": [
  {
   "cell_type": "markdown",
   "metadata": {
    "toc": true
   },
   "source": [
    "<h1>Содержание<span class=\"tocSkip\"></span></h1>\n",
    "<div class=\"toc\"><ul class=\"toc-item\"><li><span><a href=\"#Изучение-данных-из-файла\" data-toc-modified-id=\"Изучение-данных-из-файла-1\"><span class=\"toc-item-num\">1&nbsp;&nbsp;</span>Изучение данных из файла</a></span></li><li><span><a href=\"#Предобработка-данных\" data-toc-modified-id=\"Предобработка-данных-2\"><span class=\"toc-item-num\">2&nbsp;&nbsp;</span>Предобработка данных</a></span></li><li><span><a href=\"#Исследовательский-анализ-данных-(EDA)\" data-toc-modified-id=\"Исследовательский-анализ-данных-(EDA)-3\"><span class=\"toc-item-num\">3&nbsp;&nbsp;</span>Исследовательский анализ данных (EDA)</a></span></li><li><span><a href=\"#Построение-модели-прогнозирования-оттока-клиентов\" data-toc-modified-id=\"Построение-модели-прогнозирования-оттока-клиентов-4\"><span class=\"toc-item-num\">4&nbsp;&nbsp;</span>Построение модели прогнозирования оттока клиентов</a></span></li><li><span><a href=\"#Кластеризация-клиентов\" data-toc-modified-id=\"Кластеризация-клиентов-5\"><span class=\"toc-item-num\">5&nbsp;&nbsp;</span>Кластеризация клиентов</a></span></li><li><span><a href=\"#Итоговый-вывод\" data-toc-modified-id=\"Итоговый-вывод-6\"><span class=\"toc-item-num\">6&nbsp;&nbsp;</span>Итоговый вывод</a></span></li></ul></div>"
   ]
  },
  {
   "cell_type": "markdown",
   "metadata": {},
   "source": [
    "# Прогнозирование оттока клиентов фитнес-центров"
   ]
  },
  {
   "cell_type": "markdown",
   "metadata": {},
   "source": [
    "В данном проекте мы будем рассматривать и анализировать сеть фитнес-центров. Наша задача — провести анализ и подготовить план действий по удержанию клиентов. В нашем распоряжении есть информация о клиентах: пол, возраст, наличие контактного телефона, длительность текущего действующего абонемента, средняя частота посещений в неделю за предыдущий месяц и так далее. \n",
    "\n",
    "На основе данной информации нам и необходимо провести анализ: научиться прогнозировать вероятность оттока, сформировать типичные портреты клиентов, проанализировать основные признаки, наиболее сильно влияющие на отток и сформулировать основные выводы и разработать рекомендации по повышению качества работы с клиентами."
   ]
  },
  {
   "cell_type": "markdown",
   "metadata": {},
   "source": [
    "## Изучение данных из файла"
   ]
  },
  {
   "cell_type": "markdown",
   "metadata": {},
   "source": [
    "Первым делом импортируем необходимые библиотеки."
   ]
  },
  {
   "cell_type": "code",
   "execution_count": 1,
   "metadata": {},
   "outputs": [],
   "source": [
    "import pandas as pd # импорт библиотеки pandas\n",
    "import seaborn as sns # импорт библиотеки seaborn\n",
    "import matplotlib.pyplot as plt # импорт библиотеки matplotlib\n",
    "\n",
    "from sklearn.model_selection import train_test_split\n",
    "from sklearn.linear_model import LogisticRegression\n",
    "from sklearn.tree import DecisionTreeClassifier\n",
    "from sklearn.preprocessing import StandardScaler\n",
    "\n",
    "from sklearn.ensemble import RandomForestClassifier, GradientBoostingClassifier\n",
    "\n",
    "from sklearn.metrics import accuracy_score, precision_score, recall_score, f1_score\n",
    "from sklearn.metrics import roc_auc_score\n",
    "from scipy.cluster.hierarchy import dendrogram, linkage \n",
    "from sklearn.cluster import KMeans\n",
    "\n",
    "import warnings \n",
    "warnings.filterwarnings('ignore')"
   ]
  },
  {
   "cell_type": "markdown",
   "metadata": {},
   "source": [
    "Далее загрузим и прочитаем фаил с данными:"
   ]
  },
  {
   "cell_type": "code",
   "execution_count": 2,
   "metadata": {},
   "outputs": [],
   "source": [
    "df = pd.read_csv('/datasets/gym_churn.csv') # чтение файла с данными и сохранение в df"
   ]
  },
  {
   "cell_type": "code",
   "execution_count": 3,
   "metadata": {},
   "outputs": [
    {
     "data": {
      "text/html": [
       "<div>\n",
       "<style scoped>\n",
       "    .dataframe tbody tr th:only-of-type {\n",
       "        vertical-align: middle;\n",
       "    }\n",
       "\n",
       "    .dataframe tbody tr th {\n",
       "        vertical-align: top;\n",
       "    }\n",
       "\n",
       "    .dataframe thead th {\n",
       "        text-align: right;\n",
       "    }\n",
       "</style>\n",
       "<table border=\"1\" class=\"dataframe\">\n",
       "  <thead>\n",
       "    <tr style=\"text-align: right;\">\n",
       "      <th></th>\n",
       "      <th>gender</th>\n",
       "      <th>Near_Location</th>\n",
       "      <th>Partner</th>\n",
       "      <th>Promo_friends</th>\n",
       "      <th>Phone</th>\n",
       "      <th>Contract_period</th>\n",
       "      <th>Group_visits</th>\n",
       "      <th>Age</th>\n",
       "      <th>Avg_additional_charges_total</th>\n",
       "      <th>Month_to_end_contract</th>\n",
       "      <th>Lifetime</th>\n",
       "      <th>Avg_class_frequency_total</th>\n",
       "      <th>Avg_class_frequency_current_month</th>\n",
       "      <th>Churn</th>\n",
       "    </tr>\n",
       "  </thead>\n",
       "  <tbody>\n",
       "    <tr>\n",
       "      <th>0</th>\n",
       "      <td>1</td>\n",
       "      <td>1</td>\n",
       "      <td>1</td>\n",
       "      <td>1</td>\n",
       "      <td>0</td>\n",
       "      <td>6</td>\n",
       "      <td>1</td>\n",
       "      <td>29</td>\n",
       "      <td>14.227470</td>\n",
       "      <td>5.0</td>\n",
       "      <td>3</td>\n",
       "      <td>0.020398</td>\n",
       "      <td>0.000000</td>\n",
       "      <td>0</td>\n",
       "    </tr>\n",
       "    <tr>\n",
       "      <th>1</th>\n",
       "      <td>0</td>\n",
       "      <td>1</td>\n",
       "      <td>0</td>\n",
       "      <td>0</td>\n",
       "      <td>1</td>\n",
       "      <td>12</td>\n",
       "      <td>1</td>\n",
       "      <td>31</td>\n",
       "      <td>113.202938</td>\n",
       "      <td>12.0</td>\n",
       "      <td>7</td>\n",
       "      <td>1.922936</td>\n",
       "      <td>1.910244</td>\n",
       "      <td>0</td>\n",
       "    </tr>\n",
       "    <tr>\n",
       "      <th>2</th>\n",
       "      <td>0</td>\n",
       "      <td>1</td>\n",
       "      <td>1</td>\n",
       "      <td>0</td>\n",
       "      <td>1</td>\n",
       "      <td>1</td>\n",
       "      <td>0</td>\n",
       "      <td>28</td>\n",
       "      <td>129.448479</td>\n",
       "      <td>1.0</td>\n",
       "      <td>2</td>\n",
       "      <td>1.859098</td>\n",
       "      <td>1.736502</td>\n",
       "      <td>0</td>\n",
       "    </tr>\n",
       "    <tr>\n",
       "      <th>3</th>\n",
       "      <td>0</td>\n",
       "      <td>1</td>\n",
       "      <td>1</td>\n",
       "      <td>1</td>\n",
       "      <td>1</td>\n",
       "      <td>12</td>\n",
       "      <td>1</td>\n",
       "      <td>33</td>\n",
       "      <td>62.669863</td>\n",
       "      <td>12.0</td>\n",
       "      <td>2</td>\n",
       "      <td>3.205633</td>\n",
       "      <td>3.357215</td>\n",
       "      <td>0</td>\n",
       "    </tr>\n",
       "    <tr>\n",
       "      <th>4</th>\n",
       "      <td>1</td>\n",
       "      <td>1</td>\n",
       "      <td>1</td>\n",
       "      <td>1</td>\n",
       "      <td>1</td>\n",
       "      <td>1</td>\n",
       "      <td>0</td>\n",
       "      <td>26</td>\n",
       "      <td>198.362265</td>\n",
       "      <td>1.0</td>\n",
       "      <td>3</td>\n",
       "      <td>1.113884</td>\n",
       "      <td>1.120078</td>\n",
       "      <td>0</td>\n",
       "    </tr>\n",
       "  </tbody>\n",
       "</table>\n",
       "</div>"
      ],
      "text/plain": [
       "   gender  Near_Location  Partner  Promo_friends  Phone  Contract_period  \\\n",
       "0       1              1        1              1      0                6   \n",
       "1       0              1        0              0      1               12   \n",
       "2       0              1        1              0      1                1   \n",
       "3       0              1        1              1      1               12   \n",
       "4       1              1        1              1      1                1   \n",
       "\n",
       "   Group_visits  Age  Avg_additional_charges_total  Month_to_end_contract  \\\n",
       "0             1   29                     14.227470                    5.0   \n",
       "1             1   31                    113.202938                   12.0   \n",
       "2             0   28                    129.448479                    1.0   \n",
       "3             1   33                     62.669863                   12.0   \n",
       "4             0   26                    198.362265                    1.0   \n",
       "\n",
       "   Lifetime  Avg_class_frequency_total  Avg_class_frequency_current_month  \\\n",
       "0         3                   0.020398                           0.000000   \n",
       "1         7                   1.922936                           1.910244   \n",
       "2         2                   1.859098                           1.736502   \n",
       "3         2                   3.205633                           3.357215   \n",
       "4         3                   1.113884                           1.120078   \n",
       "\n",
       "   Churn  \n",
       "0      0  \n",
       "1      0  \n",
       "2      0  \n",
       "3      0  \n",
       "4      0  "
      ]
     },
     "execution_count": 3,
     "metadata": {},
     "output_type": "execute_result"
    }
   ],
   "source": [
    "df.head() # получение первых 5 строк таблицы df"
   ]
  },
  {
   "cell_type": "markdown",
   "metadata": {},
   "source": [
    "**Общая информация о датафрейме:**"
   ]
  },
  {
   "cell_type": "code",
   "execution_count": 4,
   "metadata": {},
   "outputs": [
    {
     "name": "stdout",
     "output_type": "stream",
     "text": [
      "<class 'pandas.core.frame.DataFrame'>\n",
      "RangeIndex: 4000 entries, 0 to 3999\n",
      "Data columns (total 14 columns):\n",
      " #   Column                             Non-Null Count  Dtype  \n",
      "---  ------                             --------------  -----  \n",
      " 0   gender                             4000 non-null   int64  \n",
      " 1   Near_Location                      4000 non-null   int64  \n",
      " 2   Partner                            4000 non-null   int64  \n",
      " 3   Promo_friends                      4000 non-null   int64  \n",
      " 4   Phone                              4000 non-null   int64  \n",
      " 5   Contract_period                    4000 non-null   int64  \n",
      " 6   Group_visits                       4000 non-null   int64  \n",
      " 7   Age                                4000 non-null   int64  \n",
      " 8   Avg_additional_charges_total       4000 non-null   float64\n",
      " 9   Month_to_end_contract              4000 non-null   float64\n",
      " 10  Lifetime                           4000 non-null   int64  \n",
      " 11  Avg_class_frequency_total          4000 non-null   float64\n",
      " 12  Avg_class_frequency_current_month  4000 non-null   float64\n",
      " 13  Churn                              4000 non-null   int64  \n",
      "dtypes: float64(4), int64(10)\n",
      "memory usage: 437.6 KB\n"
     ]
    }
   ],
   "source": [
    "df.info() # получение общей информации о данных в таблице df"
   ]
  },
  {
   "cell_type": "markdown",
   "metadata": {},
   "source": [
    "Итак, в таблице четырнадцать столбцов. Тип данных в столбцах: `int64`, `float64`.\n",
    "\n",
    "Согласно документации к данным:\n",
    "\n",
    "* Gender — пол;\n",
    "* Near_Location — проживание или работа в районе, где находится фитнес-центр;\n",
    "* Partner — сотрудник компании-партнёра клуба (сотрудничество с компаниями, чьи сотрудники могут получать скидки на абонемент);\n",
    "* Promo_friends — факт первоначальной записи в рамках акции «приведи друга» (использовал промо-код от знакомого при оплате первого абонемента);\n",
    "* Phone — наличие контактного телефона;\n",
    "* Age — возраст;\n",
    "* Lifetime — время с момента первого обращения в фитнес-центр (в месяцах);\n",
    "* Contract_period — длительность текущего действующего абонемента (месяц, 6 месяцев, год);\n",
    "* Month_to_end_contract — срок до окончания текущего действующего абонемента (в месяцах);\n",
    "* Group_visits — факт посещения групповых занятий;\n",
    "* Avg_class_frequency_total — средняя частота посещений в неделю за все время с начала действия абонемента;\n",
    "* Avg_class_frequency_current_month — средняя частота посещений в неделю за предыдущий месяц;\n",
    "* Avg_additional_charges_total — суммарная выручка от других услуг фитнес-центра: кафе, спорттовары, косметический и массажный салон;\n",
    "* Churn — факт оттока в текущем месяце."
   ]
  },
  {
   "cell_type": "markdown",
   "metadata": {},
   "source": [
    "**Вывод:**"
   ]
  },
  {
   "cell_type": "markdown",
   "metadata": {},
   "source": [
    "На данном этапе мы импортировали необходимые библиотеки для анализа и получили информацию о наших данных, прочитали их, а также записали в переменную `df`. После вывода таблицы обнаружено, что названия столбцов написаны с большой буквы, исправим это в следующем шаге. Также мы узнали, что в таблице 14 столбцов, а типы данных в столбцах - это int64 и float64."
   ]
  },
  {
   "cell_type": "markdown",
   "metadata": {},
   "source": [
    "## Предобработка данных"
   ]
  },
  {
   "cell_type": "markdown",
   "metadata": {},
   "source": [
    "**Названия столбцов**"
   ]
  },
  {
   "cell_type": "markdown",
   "metadata": {},
   "source": [
    "Первым делом посмотрим на названия столбцов:"
   ]
  },
  {
   "cell_type": "code",
   "execution_count": 5,
   "metadata": {
    "scrolled": true
   },
   "outputs": [
    {
     "data": {
      "text/plain": [
       "Index(['gender', 'Near_Location', 'Partner', 'Promo_friends', 'Phone',\n",
       "       'Contract_period', 'Group_visits', 'Age',\n",
       "       'Avg_additional_charges_total', 'Month_to_end_contract', 'Lifetime',\n",
       "       'Avg_class_frequency_total', 'Avg_class_frequency_current_month',\n",
       "       'Churn'],\n",
       "      dtype='object')"
      ]
     },
     "execution_count": 5,
     "metadata": {},
     "output_type": "execute_result"
    }
   ],
   "source": [
    "df.columns"
   ]
  },
  {
   "cell_type": "markdown",
   "metadata": {},
   "source": [
    "Приведем названия к нижнему регистру:"
   ]
  },
  {
   "cell_type": "code",
   "execution_count": 6,
   "metadata": {},
   "outputs": [],
   "source": [
    "df.columns = df.columns.str.lower() # приводим к нижнему регистру"
   ]
  },
  {
   "cell_type": "code",
   "execution_count": 7,
   "metadata": {},
   "outputs": [
    {
     "data": {
      "text/plain": [
       "Index(['gender', 'near_location', 'partner', 'promo_friends', 'phone',\n",
       "       'contract_period', 'group_visits', 'age',\n",
       "       'avg_additional_charges_total', 'month_to_end_contract', 'lifetime',\n",
       "       'avg_class_frequency_total', 'avg_class_frequency_current_month',\n",
       "       'churn'],\n",
       "      dtype='object')"
      ]
     },
     "execution_count": 7,
     "metadata": {},
     "output_type": "execute_result"
    }
   ],
   "source": [
    "df.columns # смотрим изменения"
   ]
  },
  {
   "cell_type": "markdown",
   "metadata": {},
   "source": [
    "Успех далее посмотрим на пропущенные значения в таблице."
   ]
  },
  {
   "cell_type": "markdown",
   "metadata": {},
   "source": [
    "**Пропущенные значения**"
   ]
  },
  {
   "cell_type": "code",
   "execution_count": 8,
   "metadata": {
    "scrolled": true
   },
   "outputs": [
    {
     "data": {
      "text/plain": [
       "gender                               0\n",
       "near_location                        0\n",
       "partner                              0\n",
       "promo_friends                        0\n",
       "phone                                0\n",
       "contract_period                      0\n",
       "group_visits                         0\n",
       "age                                  0\n",
       "avg_additional_charges_total         0\n",
       "month_to_end_contract                0\n",
       "lifetime                             0\n",
       "avg_class_frequency_total            0\n",
       "avg_class_frequency_current_month    0\n",
       "churn                                0\n",
       "dtype: int64"
      ]
     },
     "execution_count": 8,
     "metadata": {},
     "output_type": "execute_result"
    }
   ],
   "source": [
    "df.isna().sum()"
   ]
  },
  {
   "cell_type": "markdown",
   "metadata": {},
   "source": [
    "Пропущенные значения отсутствуют и это отлично."
   ]
  },
  {
   "cell_type": "markdown",
   "metadata": {},
   "source": [
    "**Типы данных**"
   ]
  },
  {
   "cell_type": "code",
   "execution_count": 9,
   "metadata": {
    "scrolled": false
   },
   "outputs": [
    {
     "name": "stdout",
     "output_type": "stream",
     "text": [
      "<class 'pandas.core.frame.DataFrame'>\n",
      "RangeIndex: 4000 entries, 0 to 3999\n",
      "Data columns (total 14 columns):\n",
      " #   Column                             Non-Null Count  Dtype  \n",
      "---  ------                             --------------  -----  \n",
      " 0   gender                             4000 non-null   int64  \n",
      " 1   near_location                      4000 non-null   int64  \n",
      " 2   partner                            4000 non-null   int64  \n",
      " 3   promo_friends                      4000 non-null   int64  \n",
      " 4   phone                              4000 non-null   int64  \n",
      " 5   contract_period                    4000 non-null   int64  \n",
      " 6   group_visits                       4000 non-null   int64  \n",
      " 7   age                                4000 non-null   int64  \n",
      " 8   avg_additional_charges_total       4000 non-null   float64\n",
      " 9   month_to_end_contract              4000 non-null   float64\n",
      " 10  lifetime                           4000 non-null   int64  \n",
      " 11  avg_class_frequency_total          4000 non-null   float64\n",
      " 12  avg_class_frequency_current_month  4000 non-null   float64\n",
      " 13  churn                              4000 non-null   int64  \n",
      "dtypes: float64(4), int64(10)\n",
      "memory usage: 437.6 KB\n"
     ]
    }
   ],
   "source": [
    "df.info()"
   ]
  },
  {
   "cell_type": "markdown",
   "metadata": {},
   "source": [
    "Заменим тип данных в столбце `month_to_end_contract` на int."
   ]
  },
  {
   "cell_type": "code",
   "execution_count": 10,
   "metadata": {},
   "outputs": [],
   "source": [
    "df['month_to_end_contract'] = df['month_to_end_contract'].astype('int')"
   ]
  },
  {
   "cell_type": "code",
   "execution_count": 11,
   "metadata": {
    "scrolled": true
   },
   "outputs": [
    {
     "data": {
      "text/plain": [
       "array([ 5, 12,  1,  6,  3, 10, 11,  9,  4,  7,  8,  2])"
      ]
     },
     "execution_count": 11,
     "metadata": {},
     "output_type": "execute_result"
    }
   ],
   "source": [
    "df['month_to_end_contract'].unique()"
   ]
  },
  {
   "cell_type": "markdown",
   "metadata": {},
   "source": [
    "Успех, далее посмотрим дубликаты."
   ]
  },
  {
   "cell_type": "markdown",
   "metadata": {},
   "source": [
    "**Дубликаты**"
   ]
  },
  {
   "cell_type": "code",
   "execution_count": 12,
   "metadata": {
    "scrolled": true
   },
   "outputs": [
    {
     "data": {
      "text/plain": [
       "0"
      ]
     },
     "execution_count": 12,
     "metadata": {},
     "output_type": "execute_result"
    }
   ],
   "source": [
    "df.duplicated().sum()"
   ]
  },
  {
   "cell_type": "markdown",
   "metadata": {},
   "source": [
    "Дубликатов в наших данных нет, предобработку можно завершить."
   ]
  },
  {
   "cell_type": "markdown",
   "metadata": {},
   "source": [
    "**Вывод:**\n",
    "\n",
    "В данном этапе мы занимались предобработкой данных, а именно изменили названия столбцов, поменяли тип данных, проверили наличие явных дубликатов и пропущенных значений. Пропущенные значения и дубликаты отсутствуют в нашем датафрейме."
   ]
  },
  {
   "cell_type": "markdown",
   "metadata": {},
   "source": [
    "## Исследовательский анализ данных (EDA)"
   ]
  },
  {
   "cell_type": "code",
   "execution_count": 13,
   "metadata": {},
   "outputs": [
    {
     "data": {
      "text/html": [
       "<div>\n",
       "<style scoped>\n",
       "    .dataframe tbody tr th:only-of-type {\n",
       "        vertical-align: middle;\n",
       "    }\n",
       "\n",
       "    .dataframe tbody tr th {\n",
       "        vertical-align: top;\n",
       "    }\n",
       "\n",
       "    .dataframe thead th {\n",
       "        text-align: right;\n",
       "    }\n",
       "</style>\n",
       "<table border=\"1\" class=\"dataframe\">\n",
       "  <thead>\n",
       "    <tr style=\"text-align: right;\">\n",
       "      <th></th>\n",
       "      <th>gender</th>\n",
       "      <th>near_location</th>\n",
       "      <th>partner</th>\n",
       "      <th>promo_friends</th>\n",
       "      <th>phone</th>\n",
       "      <th>contract_period</th>\n",
       "      <th>group_visits</th>\n",
       "      <th>age</th>\n",
       "      <th>avg_additional_charges_total</th>\n",
       "      <th>month_to_end_contract</th>\n",
       "      <th>lifetime</th>\n",
       "      <th>avg_class_frequency_total</th>\n",
       "      <th>avg_class_frequency_current_month</th>\n",
       "      <th>churn</th>\n",
       "    </tr>\n",
       "  </thead>\n",
       "  <tbody>\n",
       "    <tr>\n",
       "      <th>count</th>\n",
       "      <td>4000.000000</td>\n",
       "      <td>4000.000000</td>\n",
       "      <td>4000.000000</td>\n",
       "      <td>4000.000000</td>\n",
       "      <td>4000.000000</td>\n",
       "      <td>4000.000000</td>\n",
       "      <td>4000.000000</td>\n",
       "      <td>4000.000000</td>\n",
       "      <td>4000.000000</td>\n",
       "      <td>4000.000000</td>\n",
       "      <td>4000.000000</td>\n",
       "      <td>4000.000000</td>\n",
       "      <td>4000.000000</td>\n",
       "      <td>4000.000000</td>\n",
       "    </tr>\n",
       "    <tr>\n",
       "      <th>mean</th>\n",
       "      <td>0.510250</td>\n",
       "      <td>0.845250</td>\n",
       "      <td>0.486750</td>\n",
       "      <td>0.308500</td>\n",
       "      <td>0.903500</td>\n",
       "      <td>4.681250</td>\n",
       "      <td>0.412250</td>\n",
       "      <td>29.184250</td>\n",
       "      <td>146.943728</td>\n",
       "      <td>4.322750</td>\n",
       "      <td>3.724750</td>\n",
       "      <td>1.879020</td>\n",
       "      <td>1.767052</td>\n",
       "      <td>0.265250</td>\n",
       "    </tr>\n",
       "    <tr>\n",
       "      <th>std</th>\n",
       "      <td>0.499957</td>\n",
       "      <td>0.361711</td>\n",
       "      <td>0.499887</td>\n",
       "      <td>0.461932</td>\n",
       "      <td>0.295313</td>\n",
       "      <td>4.549706</td>\n",
       "      <td>0.492301</td>\n",
       "      <td>3.258367</td>\n",
       "      <td>96.355602</td>\n",
       "      <td>4.191297</td>\n",
       "      <td>3.749267</td>\n",
       "      <td>0.972245</td>\n",
       "      <td>1.052906</td>\n",
       "      <td>0.441521</td>\n",
       "    </tr>\n",
       "    <tr>\n",
       "      <th>min</th>\n",
       "      <td>0.000000</td>\n",
       "      <td>0.000000</td>\n",
       "      <td>0.000000</td>\n",
       "      <td>0.000000</td>\n",
       "      <td>0.000000</td>\n",
       "      <td>1.000000</td>\n",
       "      <td>0.000000</td>\n",
       "      <td>18.000000</td>\n",
       "      <td>0.148205</td>\n",
       "      <td>1.000000</td>\n",
       "      <td>0.000000</td>\n",
       "      <td>0.000000</td>\n",
       "      <td>0.000000</td>\n",
       "      <td>0.000000</td>\n",
       "    </tr>\n",
       "    <tr>\n",
       "      <th>25%</th>\n",
       "      <td>0.000000</td>\n",
       "      <td>1.000000</td>\n",
       "      <td>0.000000</td>\n",
       "      <td>0.000000</td>\n",
       "      <td>1.000000</td>\n",
       "      <td>1.000000</td>\n",
       "      <td>0.000000</td>\n",
       "      <td>27.000000</td>\n",
       "      <td>68.868830</td>\n",
       "      <td>1.000000</td>\n",
       "      <td>1.000000</td>\n",
       "      <td>1.180875</td>\n",
       "      <td>0.963003</td>\n",
       "      <td>0.000000</td>\n",
       "    </tr>\n",
       "    <tr>\n",
       "      <th>50%</th>\n",
       "      <td>1.000000</td>\n",
       "      <td>1.000000</td>\n",
       "      <td>0.000000</td>\n",
       "      <td>0.000000</td>\n",
       "      <td>1.000000</td>\n",
       "      <td>1.000000</td>\n",
       "      <td>0.000000</td>\n",
       "      <td>29.000000</td>\n",
       "      <td>136.220159</td>\n",
       "      <td>1.000000</td>\n",
       "      <td>3.000000</td>\n",
       "      <td>1.832768</td>\n",
       "      <td>1.719574</td>\n",
       "      <td>0.000000</td>\n",
       "    </tr>\n",
       "    <tr>\n",
       "      <th>75%</th>\n",
       "      <td>1.000000</td>\n",
       "      <td>1.000000</td>\n",
       "      <td>1.000000</td>\n",
       "      <td>1.000000</td>\n",
       "      <td>1.000000</td>\n",
       "      <td>6.000000</td>\n",
       "      <td>1.000000</td>\n",
       "      <td>31.000000</td>\n",
       "      <td>210.949625</td>\n",
       "      <td>6.000000</td>\n",
       "      <td>5.000000</td>\n",
       "      <td>2.536078</td>\n",
       "      <td>2.510336</td>\n",
       "      <td>1.000000</td>\n",
       "    </tr>\n",
       "    <tr>\n",
       "      <th>max</th>\n",
       "      <td>1.000000</td>\n",
       "      <td>1.000000</td>\n",
       "      <td>1.000000</td>\n",
       "      <td>1.000000</td>\n",
       "      <td>1.000000</td>\n",
       "      <td>12.000000</td>\n",
       "      <td>1.000000</td>\n",
       "      <td>41.000000</td>\n",
       "      <td>552.590740</td>\n",
       "      <td>12.000000</td>\n",
       "      <td>31.000000</td>\n",
       "      <td>6.023668</td>\n",
       "      <td>6.146783</td>\n",
       "      <td>1.000000</td>\n",
       "    </tr>\n",
       "  </tbody>\n",
       "</table>\n",
       "</div>"
      ],
      "text/plain": [
       "            gender  near_location      partner  promo_friends        phone  \\\n",
       "count  4000.000000    4000.000000  4000.000000    4000.000000  4000.000000   \n",
       "mean      0.510250       0.845250     0.486750       0.308500     0.903500   \n",
       "std       0.499957       0.361711     0.499887       0.461932     0.295313   \n",
       "min       0.000000       0.000000     0.000000       0.000000     0.000000   \n",
       "25%       0.000000       1.000000     0.000000       0.000000     1.000000   \n",
       "50%       1.000000       1.000000     0.000000       0.000000     1.000000   \n",
       "75%       1.000000       1.000000     1.000000       1.000000     1.000000   \n",
       "max       1.000000       1.000000     1.000000       1.000000     1.000000   \n",
       "\n",
       "       contract_period  group_visits          age  \\\n",
       "count      4000.000000   4000.000000  4000.000000   \n",
       "mean          4.681250      0.412250    29.184250   \n",
       "std           4.549706      0.492301     3.258367   \n",
       "min           1.000000      0.000000    18.000000   \n",
       "25%           1.000000      0.000000    27.000000   \n",
       "50%           1.000000      0.000000    29.000000   \n",
       "75%           6.000000      1.000000    31.000000   \n",
       "max          12.000000      1.000000    41.000000   \n",
       "\n",
       "       avg_additional_charges_total  month_to_end_contract     lifetime  \\\n",
       "count                   4000.000000            4000.000000  4000.000000   \n",
       "mean                     146.943728               4.322750     3.724750   \n",
       "std                       96.355602               4.191297     3.749267   \n",
       "min                        0.148205               1.000000     0.000000   \n",
       "25%                       68.868830               1.000000     1.000000   \n",
       "50%                      136.220159               1.000000     3.000000   \n",
       "75%                      210.949625               6.000000     5.000000   \n",
       "max                      552.590740              12.000000    31.000000   \n",
       "\n",
       "       avg_class_frequency_total  avg_class_frequency_current_month  \\\n",
       "count                4000.000000                        4000.000000   \n",
       "mean                    1.879020                           1.767052   \n",
       "std                     0.972245                           1.052906   \n",
       "min                     0.000000                           0.000000   \n",
       "25%                     1.180875                           0.963003   \n",
       "50%                     1.832768                           1.719574   \n",
       "75%                     2.536078                           2.510336   \n",
       "max                     6.023668                           6.146783   \n",
       "\n",
       "             churn  \n",
       "count  4000.000000  \n",
       "mean      0.265250  \n",
       "std       0.441521  \n",
       "min       0.000000  \n",
       "25%       0.000000  \n",
       "50%       0.000000  \n",
       "75%       1.000000  \n",
       "max       1.000000  "
      ]
     },
     "execution_count": 13,
     "metadata": {},
     "output_type": "execute_result"
    }
   ],
   "source": [
    "df.describe()"
   ]
  },
  {
   "cell_type": "markdown",
   "metadata": {},
   "source": [
    "Ранее мы узнали, что отсутствующих признаков нет, значения после применения метода `describe` выглядят нормально, аномальных отклонений не наблюдается. \n",
    "\n",
    "*Типичный портрет клиента:*\n",
    "\n",
    "* Возраст от 26 до 32 лет;\n",
    "* Живет или работает в районе где расположен фитнес-центр;\n",
    "* Занимается в фитнес-центре 1-2 раза в неделю;\n",
    "* Сообщает свои контактные данные (телефон);\n",
    "* В среднем потратил на прочие услуги центра около 150 Условных единиц."
   ]
  },
  {
   "cell_type": "markdown",
   "metadata": {},
   "source": [
    "Посмотрим на средние значения двух групп клиентов - тех кто ушел и тех кто остался, воспользуемся методом `groupby`."
   ]
  },
  {
   "cell_type": "code",
   "execution_count": 14,
   "metadata": {},
   "outputs": [
    {
     "data": {
      "text/html": [
       "<div>\n",
       "<style scoped>\n",
       "    .dataframe tbody tr th:only-of-type {\n",
       "        vertical-align: middle;\n",
       "    }\n",
       "\n",
       "    .dataframe tbody tr th {\n",
       "        vertical-align: top;\n",
       "    }\n",
       "\n",
       "    .dataframe thead th {\n",
       "        text-align: right;\n",
       "    }\n",
       "</style>\n",
       "<table border=\"1\" class=\"dataframe\">\n",
       "  <thead>\n",
       "    <tr style=\"text-align: right;\">\n",
       "      <th>churn</th>\n",
       "      <th>0</th>\n",
       "      <th>1</th>\n",
       "    </tr>\n",
       "  </thead>\n",
       "  <tbody>\n",
       "    <tr>\n",
       "      <th>gender</th>\n",
       "      <td>0.510037</td>\n",
       "      <td>0.510839</td>\n",
       "    </tr>\n",
       "    <tr>\n",
       "      <th>near_location</th>\n",
       "      <td>0.873086</td>\n",
       "      <td>0.768143</td>\n",
       "    </tr>\n",
       "    <tr>\n",
       "      <th>partner</th>\n",
       "      <td>0.534195</td>\n",
       "      <td>0.355325</td>\n",
       "    </tr>\n",
       "    <tr>\n",
       "      <th>promo_friends</th>\n",
       "      <td>0.353522</td>\n",
       "      <td>0.183789</td>\n",
       "    </tr>\n",
       "    <tr>\n",
       "      <th>phone</th>\n",
       "      <td>0.903709</td>\n",
       "      <td>0.902922</td>\n",
       "    </tr>\n",
       "    <tr>\n",
       "      <th>contract_period</th>\n",
       "      <td>5.747193</td>\n",
       "      <td>1.728558</td>\n",
       "    </tr>\n",
       "    <tr>\n",
       "      <th>group_visits</th>\n",
       "      <td>0.464103</td>\n",
       "      <td>0.268615</td>\n",
       "    </tr>\n",
       "    <tr>\n",
       "      <th>age</th>\n",
       "      <td>29.976523</td>\n",
       "      <td>26.989632</td>\n",
       "    </tr>\n",
       "    <tr>\n",
       "      <th>avg_additional_charges_total</th>\n",
       "      <td>158.445715</td>\n",
       "      <td>115.082899</td>\n",
       "    </tr>\n",
       "    <tr>\n",
       "      <th>month_to_end_contract</th>\n",
       "      <td>5.283089</td>\n",
       "      <td>1.662582</td>\n",
       "    </tr>\n",
       "    <tr>\n",
       "      <th>lifetime</th>\n",
       "      <td>4.711807</td>\n",
       "      <td>0.990575</td>\n",
       "    </tr>\n",
       "    <tr>\n",
       "      <th>avg_class_frequency_total</th>\n",
       "      <td>2.024876</td>\n",
       "      <td>1.474995</td>\n",
       "    </tr>\n",
       "    <tr>\n",
       "      <th>avg_class_frequency_current_month</th>\n",
       "      <td>2.027882</td>\n",
       "      <td>1.044546</td>\n",
       "    </tr>\n",
       "  </tbody>\n",
       "</table>\n",
       "</div>"
      ],
      "text/plain": [
       "churn                                       0           1\n",
       "gender                               0.510037    0.510839\n",
       "near_location                        0.873086    0.768143\n",
       "partner                              0.534195    0.355325\n",
       "promo_friends                        0.353522    0.183789\n",
       "phone                                0.903709    0.902922\n",
       "contract_period                      5.747193    1.728558\n",
       "group_visits                         0.464103    0.268615\n",
       "age                                 29.976523   26.989632\n",
       "avg_additional_charges_total       158.445715  115.082899\n",
       "month_to_end_contract                5.283089    1.662582\n",
       "lifetime                             4.711807    0.990575\n",
       "avg_class_frequency_total            2.024876    1.474995\n",
       "avg_class_frequency_current_month    2.027882    1.044546"
      ]
     },
     "execution_count": 14,
     "metadata": {},
     "output_type": "execute_result"
    }
   ],
   "source": [
    "df.groupby('churn').mean().T"
   ]
  },
  {
   "cell_type": "markdown",
   "metadata": {},
   "source": [
    "Исходя из таблицы можем сделать вывод, что пользователи которые ушли в отток реже посещали фитнес-центр средняя частота посещений в неделю на единицу меньше чем у тех, кто не ушел в отток, кроме того ушедшие клиенты чаще брали абонимент на короткий срок. "
   ]
  },
  {
   "cell_type": "markdown",
   "metadata": {},
   "source": [
    "Далее построим столбчатые гистограммы и распределения признаков для двух групп - тех, кто ушел в отток и тех, кто остался. Построим гистограммы с помощью цикла."
   ]
  },
  {
   "cell_type": "code",
   "execution_count": 15,
   "metadata": {
    "scrolled": false
   },
   "outputs": [
    {
     "data": {
      "image/png": "[encoded data removed]",
      "text/plain": [
       "<Figure size 1008x288 with 2 Axes>"
      ]
     },
     "metadata": {
      "needs_background": "light"
     },
     "output_type": "display_data"
    },
    {
     "data": {
      "image/png": "[encoded data removed]",
      "text/plain": [
       "<Figure size 1008x288 with 2 Axes>"
      ]
     },
     "metadata": {
      "needs_background": "light"
     },
     "output_type": "display_data"
    },
    {
     "data": {
      "image/png": "[encoded data removed]",
      "text/plain": [
       "<Figure size 1008x288 with 2 Axes>"
      ]
     },
     "metadata": {
      "needs_background": "light"
     },
     "output_type": "display_data"
    },
    {
     "data": {
      "image/png": "[encoded data removed]",
      "text/plain": [
       "<Figure size 1008x288 with 2 Axes>"
      ]
     },
     "metadata": {
      "needs_background": "light"
     },
     "output_type": "display_data"
    },
    {
     "data": {
      "image/png": "[encoded data removed]",
      "text/plain": [
       "<Figure size 1008x288 with 2 Axes>"
      ]
     },
     "metadata": {
      "needs_background": "light"
     },
     "output_type": "display_data"
    },
    {
     "data": {
      "image/png": "[encoded data removed]",
      "text/plain": [
       "<Figure size 1008x288 with 2 Axes>"
      ]
     },
     "metadata": {
      "needs_background": "light"
     },
     "output_type": "display_data"
    },
    {
     "data": {
      "image/png": "[encoded data removed]",
      "text/plain": [
       "<Figure size 1008x288 with 2 Axes>"
      ]
     },
     "metadata": {
      "needs_background": "light"
     },
     "output_type": "display_data"
    },
    {
     "data": {
      "image/png": "[encoded data removed]",
      "text/plain": [
       "<Figure size 1008x288 with 2 Axes>"
      ]
     },
     "metadata": {
      "needs_background": "light"
     },
     "output_type": "display_data"
    },
    {
     "data": {
      "image/png": "[encoded data removed]",
      "text/plain": [
       "<Figure size 1008x288 with 2 Axes>"
      ]
     },
     "metadata": {
      "needs_background": "light"
     },
     "output_type": "display_data"
    },
    {
     "data": {
      "image/png": "[encoded data removed]",
      "text/plain": [
       "<Figure size 1008x288 with 2 Axes>"
      ]
     },
     "metadata": {
      "needs_background": "light"
     },
     "output_type": "display_data"
    },
    {
     "data": {
      "image/png": "[encoded data removed]",
      "text/plain": [
       "<Figure size 1008x288 with 2 Axes>"
      ]
     },
     "metadata": {
      "needs_background": "light"
     },
     "output_type": "display_data"
    },
    {
     "data": {
      "image/png": "[encoded data removed]",
      "text/plain": [
       "<Figure size 1008x288 with 2 Axes>"
      ]
     },
     "metadata": {
      "needs_background": "light"
     },
     "output_type": "display_data"
    },
    {
     "data": {
      "image/png": "[encoded data removed]",
      "text/plain": [
       "<Figure size 1008x288 with 2 Axes>"
      ]
     },
     "metadata": {
      "needs_background": "light"
     },
     "output_type": "display_data"
    }
   ],
   "source": [
    "sign = df.drop(columns='churn')\n",
    "df_plot = df.copy()\n",
    "\n",
    "for i in sign.columns:\n",
    "    g = sns.displot(data=df_plot, x=i, col='churn')\n",
    "    g.fig.set_figwidth(14)\n",
    "    g.fig.set_figheight(4)\n",
    "    plt.show()"
   ]
  },
  {
   "cell_type": "markdown",
   "metadata": {},
   "source": [
    "*Признаки клиентов которые ушли в отток:*\n",
    "\n",
    "* Мужчины и женщины уходят примерно в одинаковом соотношении;\n",
    "* Клиенты проживающие или работающие в районе, где находится фитнес-центр также уходят в отток;\n",
    "* Клиенты которые не являются партнерами уходят чаще чем те кто является сотрудником компании-партнёра клуба, также чаще уходят клиенты которые не пользовались акцией «приведи друга»;\n",
    "* Клиенты которые брали абонимент на месяц намного чаще уходили в отток, видимо это пользователи которые решили попробовать, но поняли, что такой досуг им не подходит;\n",
    "* Клиенты, которые не посещали групповые тренировки часще уходили, чем остальные;\n",
    "* В основном в отток попали клиенты в возрасте от 25 до 29 лет;\n",
    "* Траты на услуги клиентов оттока в основном распределены от 0 до 150 усл.ед.;\n",
    "* У большинства клиентов срок действия абонимента 1 месяц;\n",
    "* Клиенты ушедшие в отток в среднем в неделю не посещали тренировки, но были редкие моменты когда тренировки доходили до 3 раз в неделю; "
   ]
  },
  {
   "cell_type": "markdown",
   "metadata": {},
   "source": [
    "**Построим матрицу корреляций:**"
   ]
  },
  {
   "cell_type": "code",
   "execution_count": 16,
   "metadata": {},
   "outputs": [
    {
     "data": {
      "image/png": "[encoded data removed]",
      "text/plain": [
       "<Figure size 750x600 with 2 Axes>"
      ]
     },
     "metadata": {
      "needs_background": "light"
     },
     "output_type": "display_data"
    }
   ],
   "source": [
    "cm = df.corr() #вычисляем матрицу корреляций\n",
    "\n",
    "plt.figure(figsize=(10,8), dpi=75)\n",
    "sns.heatmap(cm, annot=True, fmt='.2f') #нарисуем тепловую карту с подписями для матрицы корреляций\n",
    "\n",
    "plt.title('Матрица корреляции'+'\\n')\n",
    "plt.show()"
   ]
  },
  {
   "cell_type": "markdown",
   "metadata": {},
   "source": [
    "Наблюдаем сильную корреляцию между признаками:\n",
    "\n",
    "* Cрока до окончания текущего действующего абонемента и длительности текущего действующего абонемента - показатель составил 0.97;\n",
    "* Средней частоты посещений в неделю за предыдущий месяц и средней частоты посещений в неделю за все время с начала действия абонемента - показатель составил 0.95; \n",
    "\n",
    "Данные признаки отражают почти одинаковые данные, поэтому их показатель корреляции такой высокий, для более эффективной работы с ML мы удалим один из этих признаков в каждой из пар."
   ]
  },
  {
   "cell_type": "markdown",
   "metadata": {},
   "source": [
    "**Вывод:**\n",
    "\n",
    "В данном этапе мы проводили исследовательский анализ данных, а точнее рассмотрели показатели наших признаков на наличие аномалий, посмотрели средние значения признаков активных пользователей и тех кто ушел в отток, а также построили гистограммы признаков пользовтаелей фитнес-центров и построили матрицу корреляции, после каждого шага данного этапа были сделаны выводы. "
   ]
  },
  {
   "cell_type": "markdown",
   "metadata": {},
   "source": [
    "## Построение модели прогнозирования оттока клиентов"
   ]
  },
  {
   "cell_type": "markdown",
   "metadata": {},
   "source": [
    "В этом этапе мы построим модель бинарной классификации клиентов, где целевой признак — факт оттока клиента в следующем месяце. Первым делом удалим те признаки, которые сильно коррелируют друг с другом, а далее поделим данные на обучающую и валидационную выборку."
   ]
  },
  {
   "cell_type": "code",
   "execution_count": 17,
   "metadata": {},
   "outputs": [],
   "source": [
    "df_new = df.copy()\n",
    "df_new = df_new.drop(['month_to_end_contract','avg_class_frequency_total'], axis=1)"
   ]
  },
  {
   "cell_type": "markdown",
   "metadata": {},
   "source": [
    "Готово, теперь разобъем данные на обучающую и валидационную выборку функцией `train_test_split`."
   ]
  },
  {
   "cell_type": "code",
   "execution_count": 18,
   "metadata": {},
   "outputs": [],
   "source": [
    "#разделим наши данные на признаки (матрица X) и целевую переменную (y)\n",
    "X = df_new.drop('churn', axis=1) \n",
    "y = df_new['churn']\n",
    "\n",
    "#разделяем модель на обучающую и валидационную выборки\n",
    "X_train, X_test, y_train, y_test = train_test_split(X, y, test_size=0.2, random_state=0, stratify=y)"
   ]
  },
  {
   "cell_type": "markdown",
   "metadata": {},
   "source": [
    "Готово, теперь обучим модель на train-выборке двумя способами: `логистической регрессией` и `случайным лесом`."
   ]
  },
  {
   "cell_type": "markdown",
   "metadata": {},
   "source": [
    "**Логистическая регрессиия**"
   ]
  },
  {
   "cell_type": "code",
   "execution_count": 19,
   "metadata": {},
   "outputs": [],
   "source": [
    "# зададим алгоритм для нашей модели\n",
    "lr_model = LogisticRegression(solver='liblinear', random_state=0)  \n",
    "\n",
    "# обучим модель\n",
    "lr_model.fit(X_train, y_train)\n",
    "\n",
    "lr_predictions = lr_model.predict(X_test)\n",
    "lr_probabilities = lr_model.predict_proba(X_test)[:, 1]"
   ]
  },
  {
   "cell_type": "markdown",
   "metadata": {},
   "source": [
    "**Случайный лес**"
   ]
  },
  {
   "cell_type": "code",
   "execution_count": 20,
   "metadata": {},
   "outputs": [],
   "source": [
    "# зададим алгоритм для новой модели на основе алгоритма случайного леса\n",
    "rf_model = RandomForestClassifier(n_estimators=100, random_state=0)\n",
    "\n",
    "# обучим модель случайного леса\n",
    "rf_model.fit(X_train, y_train)\n",
    "\n",
    "rf_predictions = rf_model.predict(X_test)"
   ]
  },
  {
   "cell_type": "markdown",
   "metadata": {},
   "source": [
    "Далее оценим метрики accuracy, precision и recall для обеих моделей на валидационной выборке. "
   ]
  },
  {
   "cell_type": "markdown",
   "metadata": {},
   "source": [
    "**Оценка метрик**"
   ]
  },
  {
   "cell_type": "markdown",
   "metadata": {},
   "source": [
    "Сначала проведем оценку accuracy, precision и recall модели логистической регрессии."
   ]
  },
  {
   "cell_type": "code",
   "execution_count": 21,
   "metadata": {},
   "outputs": [
    {
     "name": "stdout",
     "output_type": "stream",
     "text": [
      "Accuracy: 0.91\n",
      "Precision: 0.85\n",
      "Recall: 0.82\n"
     ]
    }
   ],
   "source": [
    "# выведем метрики для полученного прогноза\n",
    "print('Accuracy: {:.2f}'.format(accuracy_score(y_test, lr_predictions)))\n",
    "print('Precision: {:.2f}'.format(precision_score (y_test, lr_predictions)))\n",
    "print('Recall: {:.2f}'.format(recall_score (y_test, lr_predictions)))"
   ]
  },
  {
   "cell_type": "markdown",
   "metadata": {},
   "source": [
    "Показатель Accuracy - доля верно угаданных ответов из всех прогнозов составил 91%, что является весьма хорошим результатом. Показатели точности также являются высокими Precision - 85% и Recall - 82%.\n"
   ]
  },
  {
   "cell_type": "markdown",
   "metadata": {},
   "source": [
    "Проведем оценку метрик для модели случайного леса."
   ]
  },
  {
   "cell_type": "code",
   "execution_count": 22,
   "metadata": {},
   "outputs": [
    {
     "name": "stdout",
     "output_type": "stream",
     "text": [
      "Accuracy: 0.90\n",
      "Precision: 0.85\n",
      "Recall: 0.77\n"
     ]
    }
   ],
   "source": [
    "# выведем метрики для полученного прогноза\n",
    "print('Accuracy: {:.2f}'.format(accuracy_score(y_test, rf_predictions)))\n",
    "print('Precision: {:.2f}'.format(precision_score (y_test, rf_predictions)))\n",
    "print('Recall: {:.2f}'.format(recall_score (y_test, rf_predictions)))"
   ]
  },
  {
   "cell_type": "markdown",
   "metadata": {},
   "source": [
    "Показатель Accuracy составил 90%, что на 1% меньше чем у модели логистической регрессии. Показатель точности также показали меньший результат Recall - 80%."
   ]
  },
  {
   "cell_type": "markdown",
   "metadata": {},
   "source": [
    "Исходя из показателей метрик по двум моделям вперед выходит модель логистической регрессии, точность и предсказания данной модели чуть лучше чем у модели случайного леса."
   ]
  },
  {
   "cell_type": "markdown",
   "metadata": {},
   "source": [
    "**Вывод:**\n",
    "\n",
    "В данном шаге мы строили модели прогнозировнаия оттока клиентов с помощью логистической регрессии и случайного леса. Модель логистической регрессии показала себя лучше: Показатели Accuracy и Recall оказались выше чем у модели случайного леса."
   ]
  },
  {
   "cell_type": "markdown",
   "metadata": {},
   "source": [
    "## Кластеризация клиентов"
   ]
  },
  {
   "cell_type": "markdown",
   "metadata": {},
   "source": [
    "Первым делом стандартизируем данные."
   ]
  },
  {
   "cell_type": "code",
   "execution_count": 23,
   "metadata": {},
   "outputs": [],
   "source": [
    "# стандартизируем данные\n",
    "sc = StandardScaler()\n",
    "X_sc = sc.fit_transform(X)"
   ]
  },
  {
   "cell_type": "markdown",
   "metadata": {},
   "source": [
    "Строим матрицу расстояний с помощью функции `linkage()` на стандартизованной матрице признаков и нарисуем дендрограмму. "
   ]
  },
  {
   "cell_type": "code",
   "execution_count": 24,
   "metadata": {},
   "outputs": [],
   "source": [
    "linked = linkage(X_sc, method = 'ward') "
   ]
  },
  {
   "cell_type": "code",
   "execution_count": 25,
   "metadata": {},
   "outputs": [
    {
     "data": {
      "image/png": "[encoded data removed]",
      "text/plain": [
       "<Figure size 1080x720 with 1 Axes>"
      ]
     },
     "metadata": {
      "needs_background": "light"
     },
     "output_type": "display_data"
    }
   ],
   "source": [
    "plt.figure(figsize=(15, 10))  \n",
    "dendrogram(linked, orientation='top')\n",
    "plt.show() "
   ]
  },
  {
   "cell_type": "markdown",
   "metadata": {},
   "source": [
    "По дендрограмме видно 4 кластера, но фиолетовый кластер огромен, поэтому будем принимать число кластеров равное пяти. "
   ]
  },
  {
   "cell_type": "markdown",
   "metadata": {},
   "source": [
    "**Cпрогнозируем кластеры клиентов**"
   ]
  },
  {
   "cell_type": "markdown",
   "metadata": {},
   "source": [
    "Для этого обучим модель кластеризации на основании алгоритма `K-Means`."
   ]
  },
  {
   "cell_type": "code",
   "execution_count": 26,
   "metadata": {},
   "outputs": [],
   "source": [
    "# задаём модель k_means с числом кластеров 5 и фиксируем значение random_state\n",
    "km = KMeans(n_clusters=5, random_state=0)\n",
    "# прогнозируем кластеры для наблюдений \n",
    "labels = km.fit_predict(X_sc)"
   ]
  },
  {
   "cell_type": "code",
   "execution_count": 27,
   "metadata": {},
   "outputs": [],
   "source": [
    "df_new['cluster_km'] = labels"
   ]
  },
  {
   "cell_type": "markdown",
   "metadata": {},
   "source": [
    "Готово, теперь выведем средние значения признаков для кластеров, для этого воспользуемся методом `groupby()`."
   ]
  },
  {
   "cell_type": "code",
   "execution_count": 28,
   "metadata": {},
   "outputs": [
    {
     "data": {
      "text/html": [
       "<div>\n",
       "<style scoped>\n",
       "    .dataframe tbody tr th:only-of-type {\n",
       "        vertical-align: middle;\n",
       "    }\n",
       "\n",
       "    .dataframe tbody tr th {\n",
       "        vertical-align: top;\n",
       "    }\n",
       "\n",
       "    .dataframe thead th {\n",
       "        text-align: right;\n",
       "    }\n",
       "</style>\n",
       "<table border=\"1\" class=\"dataframe\">\n",
       "  <thead>\n",
       "    <tr style=\"text-align: right;\">\n",
       "      <th>cluster_km</th>\n",
       "      <th>0</th>\n",
       "      <th>1</th>\n",
       "      <th>2</th>\n",
       "      <th>3</th>\n",
       "      <th>4</th>\n",
       "    </tr>\n",
       "  </thead>\n",
       "  <tbody>\n",
       "    <tr>\n",
       "      <th>gender</th>\n",
       "      <td>0.50</td>\n",
       "      <td>0.50</td>\n",
       "      <td>0.50</td>\n",
       "      <td>0.53</td>\n",
       "      <td>0.52</td>\n",
       "    </tr>\n",
       "    <tr>\n",
       "      <th>near_location</th>\n",
       "      <td>1.00</td>\n",
       "      <td>0.00</td>\n",
       "      <td>1.00</td>\n",
       "      <td>1.00</td>\n",
       "      <td>0.86</td>\n",
       "    </tr>\n",
       "    <tr>\n",
       "      <th>partner</th>\n",
       "      <td>0.89</td>\n",
       "      <td>0.49</td>\n",
       "      <td>0.22</td>\n",
       "      <td>0.38</td>\n",
       "      <td>0.47</td>\n",
       "    </tr>\n",
       "    <tr>\n",
       "      <th>promo_friends</th>\n",
       "      <td>1.00</td>\n",
       "      <td>0.08</td>\n",
       "      <td>0.07</td>\n",
       "      <td>0.01</td>\n",
       "      <td>0.31</td>\n",
       "    </tr>\n",
       "    <tr>\n",
       "      <th>phone</th>\n",
       "      <td>1.00</td>\n",
       "      <td>1.00</td>\n",
       "      <td>1.00</td>\n",
       "      <td>1.00</td>\n",
       "      <td>0.00</td>\n",
       "    </tr>\n",
       "    <tr>\n",
       "      <th>contract_period</th>\n",
       "      <td>6.92</td>\n",
       "      <td>2.99</td>\n",
       "      <td>2.01</td>\n",
       "      <td>6.21</td>\n",
       "      <td>4.78</td>\n",
       "    </tr>\n",
       "    <tr>\n",
       "      <th>group_visits</th>\n",
       "      <td>0.52</td>\n",
       "      <td>0.23</td>\n",
       "      <td>0.28</td>\n",
       "      <td>0.54</td>\n",
       "      <td>0.43</td>\n",
       "    </tr>\n",
       "    <tr>\n",
       "      <th>age</th>\n",
       "      <td>29.61</td>\n",
       "      <td>28.68</td>\n",
       "      <td>27.58</td>\n",
       "      <td>30.70</td>\n",
       "      <td>29.30</td>\n",
       "    </tr>\n",
       "    <tr>\n",
       "      <th>avg_additional_charges_total</th>\n",
       "      <td>153.42</td>\n",
       "      <td>137.13</td>\n",
       "      <td>119.34</td>\n",
       "      <td>176.26</td>\n",
       "      <td>144.21</td>\n",
       "    </tr>\n",
       "    <tr>\n",
       "      <th>lifetime</th>\n",
       "      <td>4.28</td>\n",
       "      <td>2.97</td>\n",
       "      <td>1.92</td>\n",
       "      <td>5.42</td>\n",
       "      <td>3.94</td>\n",
       "    </tr>\n",
       "    <tr>\n",
       "      <th>avg_class_frequency_current_month</th>\n",
       "      <td>1.92</td>\n",
       "      <td>1.60</td>\n",
       "      <td>1.20</td>\n",
       "      <td>2.32</td>\n",
       "      <td>1.72</td>\n",
       "    </tr>\n",
       "  </tbody>\n",
       "</table>\n",
       "</div>"
      ],
      "text/plain": [
       "cluster_km                              0       1       2       3       4\n",
       "gender                               0.50    0.50    0.50    0.53    0.52\n",
       "near_location                        1.00    0.00    1.00    1.00    0.86\n",
       "partner                              0.89    0.49    0.22    0.38    0.47\n",
       "promo_friends                        1.00    0.08    0.07    0.01    0.31\n",
       "phone                                1.00    1.00    1.00    1.00    0.00\n",
       "contract_period                      6.92    2.99    2.01    6.21    4.78\n",
       "group_visits                         0.52    0.23    0.28    0.54    0.43\n",
       "age                                 29.61   28.68   27.58   30.70   29.30\n",
       "avg_additional_charges_total       153.42  137.13  119.34  176.26  144.21\n",
       "lifetime                             4.28    2.97    1.92    5.42    3.94\n",
       "avg_class_frequency_current_month    1.92    1.60    1.20    2.32    1.72"
      ]
     },
     "execution_count": 28,
     "metadata": {},
     "output_type": "execute_result"
    }
   ],
   "source": [
    "# выводим статистику по средним значениям признаков по кластеру\n",
    "clusters = df_new.drop('churn', axis=1).groupby(['cluster_km']).mean().round(2).T\n",
    "clusters"
   ]
  },
  {
   "cell_type": "markdown",
   "metadata": {},
   "source": [
    "Отметим характерные отличия кластеров:\n",
    "\n",
    "* Кластер 0 - все клиенты использовали промо-код «приведи друга», а также большинство клиентов являются сотрудниками компании-партнёра клуба;\n",
    "* Кластер 1 - клиенты которые реже остальных ходят на групповые занятия, а также живут не в районе где находится фитнес-центр;\n",
    "* Кластер 2 - самая неактивная группа клиентов, все признаки на низком уровне скорее всего, эта группа с самым высоким показателем оттока;\n",
    "* Кластер 3 - самая возрастная группа, которая еще и тратит больше остальных, отметим что клиенты группы уже давно посещают фитнес-центр и делают это достаточно активно;\n",
    "* Кластер 4 - середнячки, но с особенностью, номер телефона данная группа клиентов не оставляет.\n"
   ]
  },
  {
   "cell_type": "markdown",
   "metadata": {},
   "source": [
    "**Распределение признаков кластеров**"
   ]
  },
  {
   "cell_type": "code",
   "execution_count": 29,
   "metadata": {
    "scrolled": false
   },
   "outputs": [
    {
     "data": {
      "image/png": "[encoded data removed]",
      "text/plain": [
       "<Figure size 864x432 with 1 Axes>"
      ]
     },
     "metadata": {
      "needs_background": "light"
     },
     "output_type": "display_data"
    },
    {
     "data": {
      "image/png": "[encoded data removed]",
      "text/plain": [
       "<Figure size 864x432 with 1 Axes>"
      ]
     },
     "metadata": {
      "needs_background": "light"
     },
     "output_type": "display_data"
    },
    {
     "data": {
      "image/png": "[encoded data removed]",
      "text/plain": [
       "<Figure size 864x432 with 1 Axes>"
      ]
     },
     "metadata": {
      "needs_background": "light"
     },
     "output_type": "display_data"
    },
    {
     "data": {
      "image/png": "[encoded data removed]",
      "text/plain": [
       "<Figure size 864x432 with 1 Axes>"
      ]
     },
     "metadata": {
      "needs_background": "light"
     },
     "output_type": "display_data"
    },
    {
     "data": {
      "image/png": "[encoded data removed]",
      "text/plain": [
       "<Figure size 864x432 with 1 Axes>"
      ]
     },
     "metadata": {
      "needs_background": "light"
     },
     "output_type": "display_data"
    },
    {
     "data": {
      "image/png": "[encoded data removed]",
      "text/plain": [
       "<Figure size 864x432 with 1 Axes>"
      ]
     },
     "metadata": {
      "needs_background": "light"
     },
     "output_type": "display_data"
    }
   ],
   "source": [
    "for i in ['gender', 'near_location', 'partner', 'promo_friends', 'phone', 'group_visits']:\n",
    "    plt.figure(figsize=(12,6))\n",
    "    sns.countplot(x=df_new[i], hue='cluster_km', data=df_new)\n",
    "    plt.title(i)\n",
    "    plt.legend(loc='upper right')\n",
    "    plt.show()"
   ]
  },
  {
   "cell_type": "markdown",
   "metadata": {},
   "source": [
    "Исходя из распределения можнм отметить:\n",
    "\n",
    "* Распределение по полу в каждом кластере равномерно;\n",
    "* Признак районности показывает, что клиенты первого кластера живут или работают отдаленно от района, остальные группы расположенны в этом же районе;\n",
    "* По акции приведи друга прошли все клиенты нулевого кластера, в остальных кластерах акция почти используется.\n",
    "* Номер телефона оставили почти все клиенты кластеров, отличился только четвертый кластер, клиенты этого кластера не оставляли номер телефона.\n",
    "* В первом и втором кластере пользователи предпочитают заниматься не в группах."
   ]
  },
  {
   "cell_type": "code",
   "execution_count": 30,
   "metadata": {
    "scrolled": false
   },
   "outputs": [
    {
     "data": {
      "image/png": "[encoded data removed]",
      "text/plain": [
       "<Figure size 864x360 with 1 Axes>"
      ]
     },
     "metadata": {
      "needs_background": "light"
     },
     "output_type": "display_data"
    },
    {
     "data": {
      "image/png": "[encoded data removed]",
      "text/plain": [
       "<Figure size 864x360 with 1 Axes>"
      ]
     },
     "metadata": {
      "needs_background": "light"
     },
     "output_type": "display_data"
    },
    {
     "data": {
      "image/png": "[encoded data removed]",
      "text/plain": [
       "<Figure size 864x360 with 1 Axes>"
      ]
     },
     "metadata": {
      "needs_background": "light"
     },
     "output_type": "display_data"
    },
    {
     "data": {
      "image/png": "[encoded data removed]",
      "text/plain": [
       "<Figure size 864x360 with 1 Axes>"
      ]
     },
     "metadata": {
      "needs_background": "light"
     },
     "output_type": "display_data"
    },
    {
     "data": {
      "image/png": "[encoded data removed]",
      "text/plain": [
       "<Figure size 864x360 with 1 Axes>"
      ]
     },
     "metadata": {
      "needs_background": "light"
     },
     "output_type": "display_data"
    },
    {
     "data": {
      "image/png": "[encoded data removed]",
      "text/plain": [
       "<Figure size 864x360 with 1 Axes>"
      ]
     },
     "metadata": {
      "needs_background": "light"
     },
     "output_type": "display_data"
    },
    {
     "data": {
      "image/png": "[encoded data removed]",
      "text/plain": [
       "<Figure size 864x360 with 1 Axes>"
      ]
     },
     "metadata": {
      "needs_background": "light"
     },
     "output_type": "display_data"
    }
   ],
   "source": [
    "for i in ['lifetime', 'avg_additional_charges_total', 'contract_period', 'avg_class_frequency_current_month', 'avg_class_frequency_total', 'age', 'month_to_end_contract']:\n",
    "    plt.figure(figsize=(12, 5))\n",
    "    sns.boxplot(x='cluster_km', y=df[i], data=df_new)\n",
    "    plt.title(i+'\\n')\n",
    "    plt.show()"
   ]
  },
  {
   "cell_type": "markdown",
   "metadata": {},
   "source": [
    "Исходя из данных графиков можем отметить, что на фоне всех кластеров по практически всем признакам третий кластер показал себя лучше всего, чего не скажешь о первом и втором кластерах, их показатели достаточно \"Не живые\" можнм предположить, что клиенты этих кластеров чаще уходят в отток."
   ]
  },
  {
   "cell_type": "markdown",
   "metadata": {},
   "source": [
    "**Доля оттока по кластерам**"
   ]
  },
  {
   "cell_type": "code",
   "execution_count": 31,
   "metadata": {},
   "outputs": [
    {
     "data": {
      "text/plain": [
       "cluster_km\n",
       "3    0.015\n",
       "0    0.120\n",
       "4    0.267\n",
       "1    0.403\n",
       "2    0.564\n",
       "Name: churn, dtype: float64"
      ]
     },
     "execution_count": 31,
     "metadata": {},
     "output_type": "execute_result"
    }
   ],
   "source": [
    "quit = df_new.groupby('cluster_km')['churn'].mean().round(3).sort_values()\n",
    "quit"
   ]
  },
  {
   "cell_type": "code",
   "execution_count": 32,
   "metadata": {},
   "outputs": [
    {
     "data": {
      "image/png": "[encoded data removed]",
      "text/plain": [
       "<Figure size 1152x432 with 1 Axes>"
      ]
     },
     "metadata": {
      "needs_background": "light"
     },
     "output_type": "display_data"
    }
   ],
   "source": [
    "quit.plot(kind='bar', figsize = (16,6), color='purple')\n",
    "plt.xlabel('Кластеры')\n",
    "plt.ylabel('Доля людей ушедших в отток')\n",
    "plt.title('Доля оттока клиентов по кластерам'+'\\n')\n",
    "plt.show()"
   ]
  },
  {
   "cell_type": "markdown",
   "metadata": {},
   "source": [
    "Самым надежным кластером является третий кластер, почти все клиенты являются акивными, чего не скажешь про первый и второй кластер. Отток клиентов у второго кластера превышает 50%, первый кластер также показал высокий показатель оттока около 40%."
   ]
  },
  {
   "cell_type": "markdown",
   "metadata": {},
   "source": [
    "**Вывод:**\n",
    "\n",
    "В данном шаге мы занимались кластеризацией клиентов. В процессе кластеризации нам удалось выделить 5 кластеров и их отличительные признаки:\n",
    "\n",
    "* Кластер 0 - все клиенты использовали промо-код «приведи друга», а также большинство клиентов являются сотрудниками компании-партнёра клуба;\n",
    "* Кластер 1 - клиенты которые реже остальных ходят на групповые занятия, а также живут не в районе где находится фитнес-центр;\n",
    "* Кластер 2 - самая неактивная группа клиентов, все признаки на низком уровне скорее всего, эта группа с самым высоким показателем оттока;\n",
    "* Кластер 3 - самая возрастная группа, которая еще и тратит больше остальных, отметим что клиенты группы уже давно посещают фитнес-центр и делают это достаточно активно;\n",
    "* Кластер 4 - середнячки, но с особенностью, номер телефона данная группа клиентов не оставляет.\n",
    "\n",
    "После того как мы рассмотрели распределения признаков каждого из кластеров мы предположили, что первый и второй кластеры имеют высокий показатель оттока, и по итогам расчета так и оказалось. Около 56% клиентов второго кластера ушли в отток и 40% клиентов первого кластера также ушли в отток. Также отметим третий кластер почти все клиенты остались клиентами фитнес-центров."
   ]
  },
  {
   "cell_type": "markdown",
   "metadata": {},
   "source": [
    "## Итоговый вывод"
   ]
  },
  {
   "cell_type": "markdown",
   "metadata": {},
   "source": [
    "В данном проекте мы исследовали, анализировали деятельность фитнес-центров. Задача проекта заключалась в том чтобы сделать план по удержанию клиентов. Для работы был представлен датасет из 4 000 записей.\n",
    "\n",
    "Первым делом мы изучили наши данные, датасет состоял из четырнадцати столбцов в которых содержалась информация о активности клиентов. Тип данных в столбцах: `int64`, `float64`.\n",
    "\n",
    "Далее для нашего удобства мы занимались предобработкой данных, а именно изменили названия столбцов, поменяли тип данных, проверили наличие явных дубликатов и пропущенных значений. Пропущенные значения и дубликаты отсутствуют в нашем датафрейме.\n",
    "\n",
    "После обработки мы занялись исследованием данных, посмотрели кто ушел в отток и кто остался в центре, первым выводом после группировки по столбцу `churn` был таким: пользователи которые ушли в отток реже посещали фитнес-центр средняя частота посещений в неделю на единицу меньше чем у тех, кто не ушел в отток, кроме того ушедшие клиенты чаще брали абонимент на короткий срок.\n",
    "\n",
    "При построении гистограмм и анализе результатов мы сделали такие выводы:\n",
    "\n",
    "* Мужчины и женщины уходят примерно в одинаковом соотношении;\n",
    "* Клиенты проживающие или работающие в районе, где находится фитнес-центр также уходят в отток;\n",
    "* Клиенты которые не являются партнерами уходят чаще чем те кто является сотрудником компании-партнёра клуба, также чаще уходят клиенты которые не пользовались акцией «приведи друга»;\n",
    "* Клиенты которые брали абонимент на месяц намного чаще уходили в отток, видимо это пользователи которые решили попробовать, но поняли, что такой досуг им не подходит;\n",
    "* Клиенты, которые не посещали групповые тренировки часще уходили, чем остальные;\n",
    "* В основном в отток попали клиенты в возрасте от 25 до 29 лет;\n",
    "* Траты на услуги клиентов оттока в основном распределены от 0 до 150 усл.ед.;\n",
    "* У большинства клиентов срок действия абонимента 1 месяц;\n",
    "* Клиенты ушедшие в отток в среднем в неделю не посещали тренировки, но были редкие моменты когда тренировки доходили до 3 раз в неделю. \n",
    "\n",
    "Далее мы провели кластеризацию клиентов и выделили 5 кластеров клиентов и посмотрели средние значения признаков кластеров. И отметили характерные отличия кластеров:\n",
    "\n",
    "* Кластер 0 - все клиенты использовали промо-код «приведи друга», а также большинство клиентов являются сотрудниками компании-партнёра клуба;\n",
    "* Кластер 1 - клиенты которые реже остальных ходят на групповые занятия, а также живут не в районе где находится фитнес-центр;\n",
    "* Кластер 2 - самая неактивная группа клиентов, все признаки на низком уровне скорее всего, эта группа с самым высоким показателем оттока;\n",
    "* Кластер 3 - самая возрастная группа, которая еще и тратит больше остальных, отметим что клиенты группы уже давно посещают фитнес-центр и делают это достаточно активно;\n",
    "* Кластер 4 - середнячки, но с особенностью, номер телефона данная группа клиентов не оставляет.\n",
    "\n",
    "По итогам построения гистограм мы сделали подобные выводы и предположили что первый и второй кластеры чаще уходят в отток. Сгруппировав данные мы убедились в этом около 56% клиентов второго кластера ушли в отток и 40% клиентов первого кластера также ушли в отток. Третий кластер отметился тем что почти все клиенты остались клиентами фитнес-центров - это самый лояльный кластер.\n",
    "\n",
    "**Рекомендации для удержания клиентов фитнес центров:**\n",
    "\n",
    "* Изначально определять портрет клиентов, и относить их в определенную группу. После этого для каждой группы клиентов предоставлять уникальные условия/акции, чтобы закрыть потребности групп и снизить отток клиентов;\n",
    "* Расширить групповые занятия, например добавить новые виды спорта и дополнительно стимулировать клиентов на посещение групповых занятий, думаю так повысится социализация между клиентами и они будут реже попадать в отток, тем более исходя из наших данных мы видим подобную зависимость. \n",
    "* Продвигать продажи долгосрочных абониментов, клиенты с долгосрочными абониментами уходят в отток намного реже."
   ]
  }
 ],
 "metadata": {
  "ExecuteTimeLog": [
   {
    "duration": 375,
    "start_time": "2022-09-12T12:29:08.364Z"
   },
   {
    "duration": 70,
    "start_time": "2022-09-12T12:31:06.386Z"
   },
   {
    "duration": 20,
    "start_time": "2022-09-12T12:31:54.872Z"
   },
   {
    "duration": 13,
    "start_time": "2022-09-12T12:33:19.943Z"
   },
   {
    "duration": 352,
    "start_time": "2022-09-13T08:32:57.123Z"
   },
   {
    "duration": 58,
    "start_time": "2022-09-13T08:48:31.670Z"
   },
   {
    "duration": 385,
    "start_time": "2022-09-13T08:48:36.511Z"
   },
   {
    "duration": 62,
    "start_time": "2022-09-13T08:48:36.898Z"
   },
   {
    "duration": 20,
    "start_time": "2022-09-13T08:48:36.963Z"
   },
   {
    "duration": 17,
    "start_time": "2022-09-13T08:48:36.986Z"
   },
   {
    "duration": 64,
    "start_time": "2022-09-13T08:48:37.006Z"
   },
   {
    "duration": 4,
    "start_time": "2022-09-13T08:48:44.312Z"
   },
   {
    "duration": 4,
    "start_time": "2022-09-13T08:49:02.200Z"
   },
   {
    "duration": 3,
    "start_time": "2022-09-13T08:51:08.464Z"
   },
   {
    "duration": 3,
    "start_time": "2022-09-13T08:51:16.176Z"
   },
   {
    "duration": 4,
    "start_time": "2022-09-13T08:51:29.240Z"
   },
   {
    "duration": 6,
    "start_time": "2022-09-13T09:05:57.375Z"
   },
   {
    "duration": 6,
    "start_time": "2022-09-13T09:06:03.662Z"
   },
   {
    "duration": 9,
    "start_time": "2022-09-13T10:59:27.264Z"
   },
   {
    "duration": 7,
    "start_time": "2022-09-13T10:59:31.871Z"
   },
   {
    "duration": 7,
    "start_time": "2022-09-13T10:59:35.071Z"
   },
   {
    "duration": 10,
    "start_time": "2022-09-13T10:59:56.006Z"
   },
   {
    "duration": 4,
    "start_time": "2022-09-13T11:01:01.621Z"
   },
   {
    "duration": 4,
    "start_time": "2022-09-13T11:02:55.508Z"
   },
   {
    "duration": 8,
    "start_time": "2022-09-13T11:05:01.725Z"
   },
   {
    "duration": 4,
    "start_time": "2022-09-13T11:05:17.661Z"
   },
   {
    "duration": 7,
    "start_time": "2022-09-13T11:05:47.404Z"
   },
   {
    "duration": 4,
    "start_time": "2022-09-13T11:06:03.708Z"
   },
   {
    "duration": 13,
    "start_time": "2022-09-13T11:06:09.367Z"
   },
   {
    "duration": 5,
    "start_time": "2022-09-13T11:07:15.483Z"
   },
   {
    "duration": 7,
    "start_time": "2022-09-13T11:08:04.132Z"
   },
   {
    "duration": 9,
    "start_time": "2022-09-13T11:08:13.013Z"
   },
   {
    "duration": 8,
    "start_time": "2022-09-13T11:08:17.227Z"
   },
   {
    "duration": 44,
    "start_time": "2022-09-13T12:14:49.586Z"
   },
   {
    "duration": 920,
    "start_time": "2022-09-13T12:18:01.366Z"
   },
   {
    "duration": 1145,
    "start_time": "2022-09-13T12:18:07.973Z"
   },
   {
    "duration": 33,
    "start_time": "2022-09-13T12:18:09.120Z"
   },
   {
    "duration": 18,
    "start_time": "2022-09-13T12:18:09.155Z"
   },
   {
    "duration": 16,
    "start_time": "2022-09-13T12:18:09.175Z"
   },
   {
    "duration": 4,
    "start_time": "2022-09-13T12:18:09.194Z"
   },
   {
    "duration": 6,
    "start_time": "2022-09-13T12:18:09.199Z"
   },
   {
    "duration": 9,
    "start_time": "2022-09-13T12:18:09.207Z"
   },
   {
    "duration": 12,
    "start_time": "2022-09-13T12:18:09.217Z"
   },
   {
    "duration": 12,
    "start_time": "2022-09-13T12:18:09.231Z"
   },
   {
    "duration": 3,
    "start_time": "2022-09-13T12:18:09.245Z"
   },
   {
    "duration": 27,
    "start_time": "2022-09-13T12:18:09.249Z"
   },
   {
    "duration": 12,
    "start_time": "2022-09-13T12:18:09.278Z"
   },
   {
    "duration": 51,
    "start_time": "2022-09-13T12:18:09.292Z"
   },
   {
    "duration": 17,
    "start_time": "2022-09-13T12:29:15.025Z"
   },
   {
    "duration": 13,
    "start_time": "2022-09-13T12:29:21.177Z"
   },
   {
    "duration": 103,
    "start_time": "2022-09-13T12:46:21.842Z"
   },
   {
    "duration": 4,
    "start_time": "2022-09-13T12:46:39.481Z"
   },
   {
    "duration": 17,
    "start_time": "2022-09-13T12:46:46.180Z"
   },
   {
    "duration": 3,
    "start_time": "2022-09-13T12:46:56.862Z"
   },
   {
    "duration": 1512,
    "start_time": "2022-09-13T13:10:59.869Z"
   },
   {
    "duration": 1504,
    "start_time": "2022-09-13T13:12:26.113Z"
   },
   {
    "duration": 1422,
    "start_time": "2022-09-13T13:12:47.163Z"
   },
   {
    "duration": 1487,
    "start_time": "2022-09-13T13:12:55.162Z"
   },
   {
    "duration": 1339,
    "start_time": "2022-09-13T13:14:13.497Z"
   },
   {
    "duration": 1539,
    "start_time": "2022-09-13T13:14:22.871Z"
   },
   {
    "duration": 1564,
    "start_time": "2022-09-13T13:14:33.882Z"
   },
   {
    "duration": 1472,
    "start_time": "2022-09-13T13:14:45.061Z"
   },
   {
    "duration": 1330,
    "start_time": "2022-09-13T13:14:53.684Z"
   },
   {
    "duration": 1481,
    "start_time": "2022-09-13T13:15:00.169Z"
   },
   {
    "duration": 1481,
    "start_time": "2022-09-13T13:15:40.825Z"
   },
   {
    "duration": 1423,
    "start_time": "2022-09-13T13:16:27.872Z"
   },
   {
    "duration": 1398,
    "start_time": "2022-09-13T13:16:43.193Z"
   },
   {
    "duration": 88,
    "start_time": "2022-09-13T13:16:51.462Z"
   },
   {
    "duration": 1491,
    "start_time": "2022-09-13T13:17:13.674Z"
   },
   {
    "duration": 1495,
    "start_time": "2022-09-13T13:17:23.072Z"
   },
   {
    "duration": 1397,
    "start_time": "2022-09-13T13:17:31.281Z"
   },
   {
    "duration": 1408,
    "start_time": "2022-09-13T13:19:42.848Z"
   },
   {
    "duration": 485,
    "start_time": "2022-09-13T13:33:30.116Z"
   },
   {
    "duration": 529,
    "start_time": "2022-09-13T13:34:07.388Z"
   },
   {
    "duration": 6399,
    "start_time": "2022-09-13T13:34:32.655Z"
   },
   {
    "duration": 6559,
    "start_time": "2022-09-13T13:34:57.587Z"
   },
   {
    "duration": 6434,
    "start_time": "2022-09-13T13:35:07.115Z"
   },
   {
    "duration": 7077,
    "start_time": "2022-09-13T13:35:16.123Z"
   },
   {
    "duration": 6425,
    "start_time": "2022-09-13T13:35:26.362Z"
   },
   {
    "duration": 455,
    "start_time": "2022-09-13T13:36:47.357Z"
   },
   {
    "duration": 454,
    "start_time": "2022-09-13T13:36:51.604Z"
   },
   {
    "duration": 6744,
    "start_time": "2022-09-13T13:37:01.116Z"
   },
   {
    "duration": 6476,
    "start_time": "2022-09-13T13:37:20.963Z"
   },
   {
    "duration": 6641,
    "start_time": "2022-09-13T13:37:41.772Z"
   },
   {
    "duration": 6,
    "start_time": "2022-09-13T13:53:33.163Z"
   },
   {
    "duration": 100,
    "start_time": "2022-09-13T13:54:40.922Z"
   },
   {
    "duration": 9,
    "start_time": "2022-09-13T13:54:54.552Z"
   },
   {
    "duration": 10,
    "start_time": "2022-09-13T13:56:15.105Z"
   },
   {
    "duration": 1383,
    "start_time": "2022-09-14T11:34:24.086Z"
   },
   {
    "duration": 134,
    "start_time": "2022-09-14T11:34:25.471Z"
   },
   {
    "duration": 17,
    "start_time": "2022-09-14T11:34:25.607Z"
   },
   {
    "duration": 14,
    "start_time": "2022-09-14T11:34:25.626Z"
   },
   {
    "duration": 9,
    "start_time": "2022-09-14T11:34:25.641Z"
   },
   {
    "duration": 5,
    "start_time": "2022-09-14T11:34:25.652Z"
   },
   {
    "duration": 7,
    "start_time": "2022-09-14T11:34:25.659Z"
   },
   {
    "duration": 9,
    "start_time": "2022-09-14T11:34:25.667Z"
   },
   {
    "duration": 15,
    "start_time": "2022-09-14T11:34:25.678Z"
   },
   {
    "duration": 4,
    "start_time": "2022-09-14T11:34:25.723Z"
   },
   {
    "duration": 12,
    "start_time": "2022-09-14T11:34:25.729Z"
   },
   {
    "duration": 11,
    "start_time": "2022-09-14T11:34:25.743Z"
   },
   {
    "duration": 70,
    "start_time": "2022-09-14T11:34:25.756Z"
   },
   {
    "duration": 14,
    "start_time": "2022-09-14T11:34:25.828Z"
   },
   {
    "duration": 6669,
    "start_time": "2022-09-14T11:34:25.843Z"
   },
   {
    "duration": 1550,
    "start_time": "2022-09-14T11:34:32.514Z"
   },
   {
    "duration": 1063,
    "start_time": "2022-09-14T12:37:12.853Z"
   },
   {
    "duration": 35,
    "start_time": "2022-09-14T12:37:13.918Z"
   },
   {
    "duration": 15,
    "start_time": "2022-09-14T12:37:13.958Z"
   },
   {
    "duration": 11,
    "start_time": "2022-09-14T12:37:13.974Z"
   },
   {
    "duration": 5,
    "start_time": "2022-09-14T12:37:13.986Z"
   },
   {
    "duration": 6,
    "start_time": "2022-09-14T12:37:13.993Z"
   },
   {
    "duration": 7,
    "start_time": "2022-09-14T12:37:14.000Z"
   },
   {
    "duration": 17,
    "start_time": "2022-09-14T12:37:14.008Z"
   },
   {
    "duration": 9,
    "start_time": "2022-09-14T12:37:14.027Z"
   },
   {
    "duration": 4,
    "start_time": "2022-09-14T12:37:14.037Z"
   },
   {
    "duration": 5,
    "start_time": "2022-09-14T12:37:14.043Z"
   },
   {
    "duration": 9,
    "start_time": "2022-09-14T12:37:14.049Z"
   },
   {
    "duration": 63,
    "start_time": "2022-09-14T12:37:14.059Z"
   },
   {
    "duration": 9,
    "start_time": "2022-09-14T12:37:14.124Z"
   },
   {
    "duration": 5833,
    "start_time": "2022-09-14T12:37:14.134Z"
   },
   {
    "duration": 1419,
    "start_time": "2022-09-14T12:37:19.969Z"
   },
   {
    "duration": 1387,
    "start_time": "2022-09-14T12:37:36.984Z"
   },
   {
    "duration": 5,
    "start_time": "2022-09-14T12:42:55.910Z"
   },
   {
    "duration": 79,
    "start_time": "2022-09-14T13:22:34.483Z"
   },
   {
    "duration": 16,
    "start_time": "2022-09-14T13:30:07.170Z"
   },
   {
    "duration": 12,
    "start_time": "2022-09-14T13:30:33.937Z"
   },
   {
    "duration": 11,
    "start_time": "2022-09-14T13:30:43.581Z"
   },
   {
    "duration": 13,
    "start_time": "2022-09-14T13:31:09.995Z"
   },
   {
    "duration": 12,
    "start_time": "2022-09-14T13:31:56.568Z"
   },
   {
    "duration": 9,
    "start_time": "2022-09-14T13:33:29.075Z"
   },
   {
    "duration": 14,
    "start_time": "2022-09-14T13:33:42.832Z"
   },
   {
    "duration": 12,
    "start_time": "2022-09-14T13:34:05.976Z"
   },
   {
    "duration": 1033,
    "start_time": "2022-09-14T13:34:18.178Z"
   },
   {
    "duration": 33,
    "start_time": "2022-09-14T13:34:19.213Z"
   },
   {
    "duration": 15,
    "start_time": "2022-09-14T13:34:19.247Z"
   },
   {
    "duration": 11,
    "start_time": "2022-09-14T13:34:19.264Z"
   },
   {
    "duration": 4,
    "start_time": "2022-09-14T13:34:19.276Z"
   },
   {
    "duration": 4,
    "start_time": "2022-09-14T13:34:19.281Z"
   },
   {
    "duration": 6,
    "start_time": "2022-09-14T13:34:19.287Z"
   },
   {
    "duration": 8,
    "start_time": "2022-09-14T13:34:19.294Z"
   },
   {
    "duration": 20,
    "start_time": "2022-09-14T13:34:19.303Z"
   },
   {
    "duration": 3,
    "start_time": "2022-09-14T13:34:19.325Z"
   },
   {
    "duration": 7,
    "start_time": "2022-09-14T13:34:19.329Z"
   },
   {
    "duration": 8,
    "start_time": "2022-09-14T13:34:19.337Z"
   },
   {
    "duration": 69,
    "start_time": "2022-09-14T13:34:19.346Z"
   },
   {
    "duration": 16,
    "start_time": "2022-09-14T13:34:19.417Z"
   },
   {
    "duration": 6006,
    "start_time": "2022-09-14T13:34:19.435Z"
   },
   {
    "duration": 1532,
    "start_time": "2022-09-14T13:34:25.443Z"
   },
   {
    "duration": 100,
    "start_time": "2022-09-14T13:34:26.977Z"
   },
   {
    "duration": 4,
    "start_time": "2022-09-14T13:34:49.145Z"
   },
   {
    "duration": 4,
    "start_time": "2022-09-14T13:35:16.984Z"
   },
   {
    "duration": 5,
    "start_time": "2022-09-14T13:35:55.167Z"
   },
   {
    "duration": 1108,
    "start_time": "2022-09-14T13:36:00.716Z"
   },
   {
    "duration": 33,
    "start_time": "2022-09-14T13:36:01.825Z"
   },
   {
    "duration": 13,
    "start_time": "2022-09-14T13:36:01.860Z"
   },
   {
    "duration": 45,
    "start_time": "2022-09-14T13:36:01.874Z"
   },
   {
    "duration": 8,
    "start_time": "2022-09-14T13:36:01.922Z"
   },
   {
    "duration": 5,
    "start_time": "2022-09-14T13:36:01.931Z"
   },
   {
    "duration": 12,
    "start_time": "2022-09-14T13:36:01.937Z"
   },
   {
    "duration": 14,
    "start_time": "2022-09-14T13:36:01.950Z"
   },
   {
    "duration": 10,
    "start_time": "2022-09-14T13:36:01.966Z"
   },
   {
    "duration": 4,
    "start_time": "2022-09-14T13:36:01.977Z"
   },
   {
    "duration": 12,
    "start_time": "2022-09-14T13:36:01.983Z"
   },
   {
    "duration": 28,
    "start_time": "2022-09-14T13:36:01.997Z"
   },
   {
    "duration": 43,
    "start_time": "2022-09-14T13:36:02.026Z"
   },
   {
    "duration": 10,
    "start_time": "2022-09-14T13:36:02.071Z"
   },
   {
    "duration": 5994,
    "start_time": "2022-09-14T13:36:02.082Z"
   },
   {
    "duration": 1375,
    "start_time": "2022-09-14T13:36:08.077Z"
   },
   {
    "duration": 97,
    "start_time": "2022-09-14T13:36:09.454Z"
   },
   {
    "duration": 0,
    "start_time": "2022-09-14T13:36:09.552Z"
   },
   {
    "duration": 1040,
    "start_time": "2022-09-14T13:36:21.470Z"
   },
   {
    "duration": 32,
    "start_time": "2022-09-14T13:36:22.512Z"
   },
   {
    "duration": 14,
    "start_time": "2022-09-14T13:36:22.545Z"
   },
   {
    "duration": 12,
    "start_time": "2022-09-14T13:36:22.561Z"
   },
   {
    "duration": 18,
    "start_time": "2022-09-14T13:36:22.574Z"
   },
   {
    "duration": 4,
    "start_time": "2022-09-14T13:36:22.594Z"
   },
   {
    "duration": 6,
    "start_time": "2022-09-14T13:36:22.599Z"
   },
   {
    "duration": 7,
    "start_time": "2022-09-14T13:36:22.606Z"
   },
   {
    "duration": 10,
    "start_time": "2022-09-14T13:36:22.614Z"
   },
   {
    "duration": 3,
    "start_time": "2022-09-14T13:36:22.627Z"
   },
   {
    "duration": 6,
    "start_time": "2022-09-14T13:36:22.631Z"
   },
   {
    "duration": 7,
    "start_time": "2022-09-14T13:36:22.638Z"
   },
   {
    "duration": 40,
    "start_time": "2022-09-14T13:36:22.647Z"
   },
   {
    "duration": 10,
    "start_time": "2022-09-14T13:36:22.689Z"
   },
   {
    "duration": 6165,
    "start_time": "2022-09-14T13:36:22.721Z"
   },
   {
    "duration": 1384,
    "start_time": "2022-09-14T13:36:28.888Z"
   },
   {
    "duration": 4,
    "start_time": "2022-09-14T13:36:30.274Z"
   },
   {
    "duration": 4,
    "start_time": "2022-09-14T13:36:45.123Z"
   },
   {
    "duration": 2,
    "start_time": "2022-09-14T13:38:07.610Z"
   },
   {
    "duration": 4,
    "start_time": "2022-09-14T13:43:30.801Z"
   },
   {
    "duration": 1369,
    "start_time": "2022-09-14T13:45:22.521Z"
   },
   {
    "duration": 33,
    "start_time": "2022-09-14T13:45:23.892Z"
   },
   {
    "duration": 15,
    "start_time": "2022-09-14T13:45:23.927Z"
   },
   {
    "duration": 17,
    "start_time": "2022-09-14T13:45:23.944Z"
   },
   {
    "duration": 4,
    "start_time": "2022-09-14T13:45:23.962Z"
   },
   {
    "duration": 4,
    "start_time": "2022-09-14T13:45:23.968Z"
   },
   {
    "duration": 5,
    "start_time": "2022-09-14T13:45:23.974Z"
   },
   {
    "duration": 7,
    "start_time": "2022-09-14T13:45:23.980Z"
   },
   {
    "duration": 37,
    "start_time": "2022-09-14T13:45:23.989Z"
   },
   {
    "duration": 4,
    "start_time": "2022-09-14T13:45:24.029Z"
   },
   {
    "duration": 10,
    "start_time": "2022-09-14T13:45:24.034Z"
   },
   {
    "duration": 9,
    "start_time": "2022-09-14T13:45:24.045Z"
   },
   {
    "duration": 44,
    "start_time": "2022-09-14T13:45:24.056Z"
   },
   {
    "duration": 26,
    "start_time": "2022-09-14T13:45:24.101Z"
   },
   {
    "duration": 5895,
    "start_time": "2022-09-14T13:45:24.128Z"
   },
   {
    "duration": 1392,
    "start_time": "2022-09-14T13:45:30.024Z"
   },
   {
    "duration": 5,
    "start_time": "2022-09-14T13:45:31.417Z"
   },
   {
    "duration": 57,
    "start_time": "2022-09-14T13:45:31.424Z"
   },
   {
    "duration": 10,
    "start_time": "2022-09-14T14:09:06.463Z"
   },
   {
    "duration": 101,
    "start_time": "2022-09-14T14:15:21.615Z"
   },
   {
    "duration": 1295,
    "start_time": "2022-09-14T14:15:57.579Z"
   },
   {
    "duration": 33,
    "start_time": "2022-09-14T14:15:58.876Z"
   },
   {
    "duration": 15,
    "start_time": "2022-09-14T14:15:58.910Z"
   },
   {
    "duration": 13,
    "start_time": "2022-09-14T14:15:58.926Z"
   },
   {
    "duration": 16,
    "start_time": "2022-09-14T14:15:58.942Z"
   },
   {
    "duration": 13,
    "start_time": "2022-09-14T14:15:58.960Z"
   },
   {
    "duration": 28,
    "start_time": "2022-09-14T14:15:58.974Z"
   },
   {
    "duration": 16,
    "start_time": "2022-09-14T14:15:59.003Z"
   },
   {
    "duration": 33,
    "start_time": "2022-09-14T14:15:59.020Z"
   },
   {
    "duration": 13,
    "start_time": "2022-09-14T14:15:59.055Z"
   },
   {
    "duration": 18,
    "start_time": "2022-09-14T14:15:59.070Z"
   },
   {
    "duration": 28,
    "start_time": "2022-09-14T14:15:59.089Z"
   },
   {
    "duration": 60,
    "start_time": "2022-09-14T14:15:59.119Z"
   },
   {
    "duration": 11,
    "start_time": "2022-09-14T14:15:59.181Z"
   },
   {
    "duration": 5965,
    "start_time": "2022-09-14T14:15:59.193Z"
   },
   {
    "duration": 1460,
    "start_time": "2022-09-14T14:16:05.160Z"
   },
   {
    "duration": 4,
    "start_time": "2022-09-14T14:16:06.622Z"
   },
   {
    "duration": 15,
    "start_time": "2022-09-14T14:16:06.628Z"
   },
   {
    "duration": 15,
    "start_time": "2022-09-14T14:16:06.644Z"
   },
   {
    "duration": 562,
    "start_time": "2022-09-14T14:16:06.661Z"
   },
   {
    "duration": 22,
    "start_time": "2022-09-14T14:17:00.935Z"
   },
   {
    "duration": 1344,
    "start_time": "2022-09-14T14:17:13.508Z"
   },
   {
    "duration": 33,
    "start_time": "2022-09-14T14:17:14.853Z"
   },
   {
    "duration": 15,
    "start_time": "2022-09-14T14:17:14.888Z"
   },
   {
    "duration": 12,
    "start_time": "2022-09-14T14:17:14.904Z"
   },
   {
    "duration": 4,
    "start_time": "2022-09-14T14:17:14.918Z"
   },
   {
    "duration": 6,
    "start_time": "2022-09-14T14:17:14.924Z"
   },
   {
    "duration": 6,
    "start_time": "2022-09-14T14:17:14.931Z"
   },
   {
    "duration": 7,
    "start_time": "2022-09-14T14:17:14.939Z"
   },
   {
    "duration": 20,
    "start_time": "2022-09-14T14:17:14.947Z"
   },
   {
    "duration": 16,
    "start_time": "2022-09-14T14:17:14.968Z"
   },
   {
    "duration": 21,
    "start_time": "2022-09-14T14:17:14.985Z"
   },
   {
    "duration": 35,
    "start_time": "2022-09-14T14:17:15.008Z"
   },
   {
    "duration": 47,
    "start_time": "2022-09-14T14:17:15.045Z"
   },
   {
    "duration": 9,
    "start_time": "2022-09-14T14:17:15.094Z"
   },
   {
    "duration": 5842,
    "start_time": "2022-09-14T14:17:15.104Z"
   },
   {
    "duration": 1432,
    "start_time": "2022-09-14T14:17:20.948Z"
   },
   {
    "duration": 5,
    "start_time": "2022-09-14T14:17:22.381Z"
   },
   {
    "duration": 9,
    "start_time": "2022-09-14T14:17:22.387Z"
   },
   {
    "duration": 9,
    "start_time": "2022-09-14T14:17:22.397Z"
   },
   {
    "duration": 622,
    "start_time": "2022-09-14T14:17:22.407Z"
   },
   {
    "duration": 24,
    "start_time": "2022-09-14T14:18:06.850Z"
   },
   {
    "duration": 1321,
    "start_time": "2022-09-14T14:18:14.520Z"
   },
   {
    "duration": 33,
    "start_time": "2022-09-14T14:18:15.843Z"
   },
   {
    "duration": 14,
    "start_time": "2022-09-14T14:18:15.877Z"
   },
   {
    "duration": 11,
    "start_time": "2022-09-14T14:18:15.892Z"
   },
   {
    "duration": 4,
    "start_time": "2022-09-14T14:18:15.904Z"
   },
   {
    "duration": 7,
    "start_time": "2022-09-14T14:18:15.909Z"
   },
   {
    "duration": 7,
    "start_time": "2022-09-14T14:18:15.918Z"
   },
   {
    "duration": 7,
    "start_time": "2022-09-14T14:18:15.926Z"
   },
   {
    "duration": 9,
    "start_time": "2022-09-14T14:18:15.935Z"
   },
   {
    "duration": 3,
    "start_time": "2022-09-14T14:18:15.945Z"
   },
   {
    "duration": 7,
    "start_time": "2022-09-14T14:18:15.949Z"
   },
   {
    "duration": 9,
    "start_time": "2022-09-14T14:18:15.957Z"
   },
   {
    "duration": 73,
    "start_time": "2022-09-14T14:18:15.967Z"
   },
   {
    "duration": 14,
    "start_time": "2022-09-14T14:18:16.043Z"
   },
   {
    "duration": 5897,
    "start_time": "2022-09-14T14:18:16.059Z"
   },
   {
    "duration": 1390,
    "start_time": "2022-09-14T14:18:21.958Z"
   },
   {
    "duration": 5,
    "start_time": "2022-09-14T14:18:23.349Z"
   },
   {
    "duration": 27,
    "start_time": "2022-09-14T14:18:23.355Z"
   },
   {
    "duration": 27,
    "start_time": "2022-09-14T14:18:23.383Z"
   },
   {
    "duration": 40,
    "start_time": "2022-09-14T14:18:23.412Z"
   },
   {
    "duration": 123,
    "start_time": "2022-09-14T14:19:06.117Z"
   },
   {
    "duration": 3,
    "start_time": "2022-09-14T14:19:20.365Z"
   },
   {
    "duration": 1340,
    "start_time": "2022-09-14T14:21:58.272Z"
   },
   {
    "duration": 34,
    "start_time": "2022-09-14T14:21:59.615Z"
   },
   {
    "duration": 18,
    "start_time": "2022-09-14T14:21:59.651Z"
   },
   {
    "duration": 13,
    "start_time": "2022-09-14T14:21:59.671Z"
   },
   {
    "duration": 4,
    "start_time": "2022-09-14T14:21:59.687Z"
   },
   {
    "duration": 7,
    "start_time": "2022-09-14T14:21:59.692Z"
   },
   {
    "duration": 7,
    "start_time": "2022-09-14T14:21:59.701Z"
   },
   {
    "duration": 13,
    "start_time": "2022-09-14T14:21:59.709Z"
   },
   {
    "duration": 11,
    "start_time": "2022-09-14T14:21:59.724Z"
   },
   {
    "duration": 11,
    "start_time": "2022-09-14T14:21:59.737Z"
   },
   {
    "duration": 8,
    "start_time": "2022-09-14T14:21:59.750Z"
   },
   {
    "duration": 10,
    "start_time": "2022-09-14T14:21:59.760Z"
   },
   {
    "duration": 68,
    "start_time": "2022-09-14T14:21:59.772Z"
   },
   {
    "duration": 13,
    "start_time": "2022-09-14T14:21:59.844Z"
   },
   {
    "duration": 6411,
    "start_time": "2022-09-14T14:21:59.858Z"
   },
   {
    "duration": 1558,
    "start_time": "2022-09-14T14:22:06.270Z"
   },
   {
    "duration": 4,
    "start_time": "2022-09-14T14:22:07.831Z"
   },
   {
    "duration": 10,
    "start_time": "2022-09-14T14:22:07.837Z"
   },
   {
    "duration": 16,
    "start_time": "2022-09-14T14:22:07.849Z"
   },
   {
    "duration": 32,
    "start_time": "2022-09-14T14:22:07.867Z"
   },
   {
    "duration": 106,
    "start_time": "2022-09-14T14:22:07.900Z"
   },
   {
    "duration": 1386,
    "start_time": "2022-09-14T14:22:38.768Z"
   },
   {
    "duration": 33,
    "start_time": "2022-09-14T14:22:40.156Z"
   },
   {
    "duration": 14,
    "start_time": "2022-09-14T14:22:40.191Z"
   },
   {
    "duration": 10,
    "start_time": "2022-09-14T14:22:40.207Z"
   },
   {
    "duration": 3,
    "start_time": "2022-09-14T14:22:40.219Z"
   },
   {
    "duration": 7,
    "start_time": "2022-09-14T14:22:40.223Z"
   },
   {
    "duration": 6,
    "start_time": "2022-09-14T14:22:40.231Z"
   },
   {
    "duration": 9,
    "start_time": "2022-09-14T14:22:40.239Z"
   },
   {
    "duration": 10,
    "start_time": "2022-09-14T14:22:40.249Z"
   },
   {
    "duration": 6,
    "start_time": "2022-09-14T14:22:40.261Z"
   },
   {
    "duration": 6,
    "start_time": "2022-09-14T14:22:40.268Z"
   },
   {
    "duration": 11,
    "start_time": "2022-09-14T14:22:40.275Z"
   },
   {
    "duration": 55,
    "start_time": "2022-09-14T14:22:40.288Z"
   },
   {
    "duration": 11,
    "start_time": "2022-09-14T14:22:40.344Z"
   },
   {
    "duration": 6087,
    "start_time": "2022-09-14T14:22:40.357Z"
   },
   {
    "duration": 1494,
    "start_time": "2022-09-14T14:22:46.446Z"
   },
   {
    "duration": 5,
    "start_time": "2022-09-14T14:22:47.942Z"
   },
   {
    "duration": 12,
    "start_time": "2022-09-14T14:22:47.948Z"
   },
   {
    "duration": 11,
    "start_time": "2022-09-14T14:22:47.961Z"
   },
   {
    "duration": 21,
    "start_time": "2022-09-14T14:22:47.974Z"
   },
   {
    "duration": 312,
    "start_time": "2022-09-14T14:22:47.996Z"
   },
   {
    "duration": 8,
    "start_time": "2022-09-14T14:35:11.411Z"
   },
   {
    "duration": 103,
    "start_time": "2022-09-14T14:36:55.835Z"
   },
   {
    "duration": 10,
    "start_time": "2022-09-14T14:37:26.011Z"
   },
   {
    "duration": 156,
    "start_time": "2022-09-14T14:39:07.553Z"
   },
   {
    "duration": 16,
    "start_time": "2022-09-14T14:39:18.914Z"
   },
   {
    "duration": 9,
    "start_time": "2022-09-14T14:39:39.467Z"
   },
   {
    "duration": 22,
    "start_time": "2022-09-14T14:47:08.771Z"
   },
   {
    "duration": 1335,
    "start_time": "2022-09-14T14:47:37.631Z"
   },
   {
    "duration": 33,
    "start_time": "2022-09-14T14:47:38.968Z"
   },
   {
    "duration": 15,
    "start_time": "2022-09-14T14:47:39.003Z"
   },
   {
    "duration": 24,
    "start_time": "2022-09-14T14:47:39.020Z"
   },
   {
    "duration": 18,
    "start_time": "2022-09-14T14:47:39.046Z"
   },
   {
    "duration": 12,
    "start_time": "2022-09-14T14:47:39.065Z"
   },
   {
    "duration": 25,
    "start_time": "2022-09-14T14:47:39.078Z"
   },
   {
    "duration": 12,
    "start_time": "2022-09-14T14:47:39.105Z"
   },
   {
    "duration": 20,
    "start_time": "2022-09-14T14:47:39.119Z"
   },
   {
    "duration": 4,
    "start_time": "2022-09-14T14:47:39.141Z"
   },
   {
    "duration": 20,
    "start_time": "2022-09-14T14:47:39.147Z"
   },
   {
    "duration": 28,
    "start_time": "2022-09-14T14:47:39.169Z"
   },
   {
    "duration": 54,
    "start_time": "2022-09-14T14:47:39.198Z"
   },
   {
    "duration": 9,
    "start_time": "2022-09-14T14:47:39.254Z"
   },
   {
    "duration": 5983,
    "start_time": "2022-09-14T14:47:39.265Z"
   },
   {
    "duration": 1478,
    "start_time": "2022-09-14T14:47:45.250Z"
   },
   {
    "duration": 5,
    "start_time": "2022-09-14T14:47:46.729Z"
   },
   {
    "duration": 10,
    "start_time": "2022-09-14T14:47:46.735Z"
   },
   {
    "duration": 4,
    "start_time": "2022-09-14T14:47:46.746Z"
   },
   {
    "duration": 30,
    "start_time": "2022-09-14T14:47:46.751Z"
   },
   {
    "duration": 118,
    "start_time": "2022-09-14T14:47:46.783Z"
   },
   {
    "duration": 0,
    "start_time": "2022-09-14T14:47:46.903Z"
   },
   {
    "duration": 10,
    "start_time": "2022-09-14T14:48:39.962Z"
   },
   {
    "duration": 416,
    "start_time": "2022-09-14T14:48:46.117Z"
   },
   {
    "duration": 7,
    "start_time": "2022-09-14T14:48:48.344Z"
   },
   {
    "duration": 1343,
    "start_time": "2022-09-14T14:51:33.947Z"
   },
   {
    "duration": 36,
    "start_time": "2022-09-14T14:51:35.292Z"
   },
   {
    "duration": 17,
    "start_time": "2022-09-14T14:51:35.329Z"
   },
   {
    "duration": 14,
    "start_time": "2022-09-14T14:51:35.348Z"
   },
   {
    "duration": 10,
    "start_time": "2022-09-14T14:51:35.363Z"
   },
   {
    "duration": 18,
    "start_time": "2022-09-14T14:51:35.375Z"
   },
   {
    "duration": 13,
    "start_time": "2022-09-14T14:51:35.395Z"
   },
   {
    "duration": 16,
    "start_time": "2022-09-14T14:51:35.409Z"
   },
   {
    "duration": 25,
    "start_time": "2022-09-14T14:51:35.427Z"
   },
   {
    "duration": 3,
    "start_time": "2022-09-14T14:51:35.455Z"
   },
   {
    "duration": 11,
    "start_time": "2022-09-14T14:51:35.460Z"
   },
   {
    "duration": 10,
    "start_time": "2022-09-14T14:51:35.472Z"
   },
   {
    "duration": 56,
    "start_time": "2022-09-14T14:51:35.483Z"
   },
   {
    "duration": 10,
    "start_time": "2022-09-14T14:51:35.541Z"
   },
   {
    "duration": 6088,
    "start_time": "2022-09-14T14:51:35.552Z"
   },
   {
    "duration": 1490,
    "start_time": "2022-09-14T14:51:41.642Z"
   },
   {
    "duration": 6,
    "start_time": "2022-09-14T14:51:43.134Z"
   },
   {
    "duration": 11,
    "start_time": "2022-09-14T14:51:43.141Z"
   },
   {
    "duration": 4,
    "start_time": "2022-09-14T14:51:43.154Z"
   },
   {
    "duration": 28,
    "start_time": "2022-09-14T14:51:43.159Z"
   },
   {
    "duration": 358,
    "start_time": "2022-09-14T14:51:43.188Z"
   },
   {
    "duration": 9,
    "start_time": "2022-09-14T14:51:43.548Z"
   },
   {
    "duration": 1379,
    "start_time": "2022-09-14T14:52:08.720Z"
   },
   {
    "duration": 34,
    "start_time": "2022-09-14T14:52:10.101Z"
   },
   {
    "duration": 18,
    "start_time": "2022-09-14T14:52:10.137Z"
   },
   {
    "duration": 18,
    "start_time": "2022-09-14T14:52:10.158Z"
   },
   {
    "duration": 10,
    "start_time": "2022-09-14T14:52:10.178Z"
   },
   {
    "duration": 8,
    "start_time": "2022-09-14T14:52:10.190Z"
   },
   {
    "duration": 19,
    "start_time": "2022-09-14T14:52:10.200Z"
   },
   {
    "duration": 18,
    "start_time": "2022-09-14T14:52:10.221Z"
   },
   {
    "duration": 10,
    "start_time": "2022-09-14T14:52:10.241Z"
   },
   {
    "duration": 6,
    "start_time": "2022-09-14T14:52:10.253Z"
   },
   {
    "duration": 16,
    "start_time": "2022-09-14T14:52:10.260Z"
   },
   {
    "duration": 27,
    "start_time": "2022-09-14T14:52:10.278Z"
   },
   {
    "duration": 45,
    "start_time": "2022-09-14T14:52:10.307Z"
   },
   {
    "duration": 11,
    "start_time": "2022-09-14T14:52:10.354Z"
   },
   {
    "duration": 6549,
    "start_time": "2022-09-14T14:52:10.367Z"
   },
   {
    "duration": 1467,
    "start_time": "2022-09-14T14:52:16.917Z"
   },
   {
    "duration": 5,
    "start_time": "2022-09-14T14:52:18.385Z"
   },
   {
    "duration": 12,
    "start_time": "2022-09-14T14:52:18.391Z"
   },
   {
    "duration": 7,
    "start_time": "2022-09-14T14:52:18.404Z"
   },
   {
    "duration": 24,
    "start_time": "2022-09-14T14:52:18.412Z"
   },
   {
    "duration": 322,
    "start_time": "2022-09-14T14:52:18.437Z"
   },
   {
    "duration": 8,
    "start_time": "2022-09-14T14:52:18.760Z"
   },
   {
    "duration": 350,
    "start_time": "2022-09-14T14:54:49.819Z"
   },
   {
    "duration": 1503,
    "start_time": "2022-09-14T14:55:19.173Z"
   },
   {
    "duration": 33,
    "start_time": "2022-09-14T14:55:20.678Z"
   },
   {
    "duration": 15,
    "start_time": "2022-09-14T14:55:20.713Z"
   },
   {
    "duration": 16,
    "start_time": "2022-09-14T14:55:20.729Z"
   },
   {
    "duration": 4,
    "start_time": "2022-09-14T14:55:20.747Z"
   },
   {
    "duration": 5,
    "start_time": "2022-09-14T14:55:20.753Z"
   },
   {
    "duration": 7,
    "start_time": "2022-09-14T14:55:20.760Z"
   },
   {
    "duration": 8,
    "start_time": "2022-09-14T14:55:20.769Z"
   },
   {
    "duration": 14,
    "start_time": "2022-09-14T14:55:20.779Z"
   },
   {
    "duration": 30,
    "start_time": "2022-09-14T14:55:20.794Z"
   },
   {
    "duration": 10,
    "start_time": "2022-09-14T14:55:20.826Z"
   },
   {
    "duration": 10,
    "start_time": "2022-09-14T14:55:20.838Z"
   },
   {
    "duration": 44,
    "start_time": "2022-09-14T14:55:20.850Z"
   },
   {
    "duration": 34,
    "start_time": "2022-09-14T14:55:20.897Z"
   },
   {
    "duration": 6453,
    "start_time": "2022-09-14T14:55:20.933Z"
   },
   {
    "duration": 1500,
    "start_time": "2022-09-14T14:55:27.388Z"
   },
   {
    "duration": 4,
    "start_time": "2022-09-14T14:55:28.890Z"
   },
   {
    "duration": 7,
    "start_time": "2022-09-14T14:55:28.896Z"
   },
   {
    "duration": 25,
    "start_time": "2022-09-14T14:55:28.904Z"
   },
   {
    "duration": 338,
    "start_time": "2022-09-14T14:55:28.931Z"
   },
   {
    "duration": 6,
    "start_time": "2022-09-14T14:55:29.271Z"
   },
   {
    "duration": 9,
    "start_time": "2022-09-14T14:56:14.569Z"
   },
   {
    "duration": 1358,
    "start_time": "2022-09-14T14:56:19.269Z"
   },
   {
    "duration": 34,
    "start_time": "2022-09-14T14:56:20.629Z"
   },
   {
    "duration": 17,
    "start_time": "2022-09-14T14:56:20.665Z"
   },
   {
    "duration": 15,
    "start_time": "2022-09-14T14:56:20.684Z"
   },
   {
    "duration": 4,
    "start_time": "2022-09-14T14:56:20.701Z"
   },
   {
    "duration": 6,
    "start_time": "2022-09-14T14:56:20.706Z"
   },
   {
    "duration": 7,
    "start_time": "2022-09-14T14:56:20.713Z"
   },
   {
    "duration": 9,
    "start_time": "2022-09-14T14:56:20.721Z"
   },
   {
    "duration": 13,
    "start_time": "2022-09-14T14:56:20.732Z"
   },
   {
    "duration": 3,
    "start_time": "2022-09-14T14:56:20.748Z"
   },
   {
    "duration": 9,
    "start_time": "2022-09-14T14:56:20.753Z"
   },
   {
    "duration": 11,
    "start_time": "2022-09-14T14:56:20.763Z"
   },
   {
    "duration": 57,
    "start_time": "2022-09-14T14:56:20.776Z"
   },
   {
    "duration": 10,
    "start_time": "2022-09-14T14:56:20.835Z"
   },
   {
    "duration": 6763,
    "start_time": "2022-09-14T14:56:20.847Z"
   },
   {
    "duration": 1488,
    "start_time": "2022-09-14T14:56:27.612Z"
   },
   {
    "duration": 4,
    "start_time": "2022-09-14T14:56:29.102Z"
   },
   {
    "duration": 10,
    "start_time": "2022-09-14T14:56:29.107Z"
   },
   {
    "duration": 26,
    "start_time": "2022-09-14T14:56:29.121Z"
   },
   {
    "duration": 359,
    "start_time": "2022-09-14T14:56:29.149Z"
   },
   {
    "duration": 14,
    "start_time": "2022-09-14T14:56:29.509Z"
   },
   {
    "duration": 1406,
    "start_time": "2022-09-14T14:56:36.685Z"
   },
   {
    "duration": 35,
    "start_time": "2022-09-14T14:56:38.097Z"
   },
   {
    "duration": 15,
    "start_time": "2022-09-14T14:56:38.133Z"
   },
   {
    "duration": 12,
    "start_time": "2022-09-14T14:56:38.150Z"
   },
   {
    "duration": 7,
    "start_time": "2022-09-14T14:56:38.163Z"
   },
   {
    "duration": 7,
    "start_time": "2022-09-14T14:56:38.172Z"
   },
   {
    "duration": 6,
    "start_time": "2022-09-14T14:56:38.180Z"
   },
   {
    "duration": 7,
    "start_time": "2022-09-14T14:56:38.188Z"
   },
   {
    "duration": 30,
    "start_time": "2022-09-14T14:56:38.197Z"
   },
   {
    "duration": 4,
    "start_time": "2022-09-14T14:56:38.229Z"
   },
   {
    "duration": 13,
    "start_time": "2022-09-14T14:56:38.234Z"
   },
   {
    "duration": 10,
    "start_time": "2022-09-14T14:56:38.248Z"
   },
   {
    "duration": 41,
    "start_time": "2022-09-14T14:56:38.260Z"
   },
   {
    "duration": 25,
    "start_time": "2022-09-14T14:56:38.303Z"
   },
   {
    "duration": 6154,
    "start_time": "2022-09-14T14:56:38.330Z"
   },
   {
    "duration": 1447,
    "start_time": "2022-09-14T14:56:44.485Z"
   },
   {
    "duration": 4,
    "start_time": "2022-09-14T14:56:45.934Z"
   },
   {
    "duration": 13,
    "start_time": "2022-09-14T14:56:45.939Z"
   },
   {
    "duration": 27,
    "start_time": "2022-09-14T14:56:45.954Z"
   },
   {
    "duration": 388,
    "start_time": "2022-09-14T14:56:45.982Z"
   },
   {
    "duration": 7,
    "start_time": "2022-09-14T14:56:46.372Z"
   },
   {
    "duration": 1375,
    "start_time": "2022-09-14T14:56:57.786Z"
   },
   {
    "duration": 33,
    "start_time": "2022-09-14T14:56:59.163Z"
   },
   {
    "duration": 15,
    "start_time": "2022-09-14T14:56:59.198Z"
   },
   {
    "duration": 12,
    "start_time": "2022-09-14T14:56:59.215Z"
   },
   {
    "duration": 11,
    "start_time": "2022-09-14T14:56:59.230Z"
   },
   {
    "duration": 7,
    "start_time": "2022-09-14T14:56:59.242Z"
   },
   {
    "duration": 7,
    "start_time": "2022-09-14T14:56:59.251Z"
   },
   {
    "duration": 10,
    "start_time": "2022-09-14T14:56:59.260Z"
   },
   {
    "duration": 12,
    "start_time": "2022-09-14T14:56:59.272Z"
   },
   {
    "duration": 3,
    "start_time": "2022-09-14T14:56:59.286Z"
   },
   {
    "duration": 6,
    "start_time": "2022-09-14T14:56:59.291Z"
   },
   {
    "duration": 29,
    "start_time": "2022-09-14T14:56:59.298Z"
   },
   {
    "duration": 44,
    "start_time": "2022-09-14T14:56:59.329Z"
   },
   {
    "duration": 11,
    "start_time": "2022-09-14T14:56:59.376Z"
   },
   {
    "duration": 5991,
    "start_time": "2022-09-14T14:56:59.389Z"
   },
   {
    "duration": 1510,
    "start_time": "2022-09-14T14:57:05.382Z"
   },
   {
    "duration": 5,
    "start_time": "2022-09-14T14:57:06.894Z"
   },
   {
    "duration": 15,
    "start_time": "2022-09-14T14:57:06.901Z"
   },
   {
    "duration": 33,
    "start_time": "2022-09-14T14:57:06.918Z"
   },
   {
    "duration": 365,
    "start_time": "2022-09-14T14:57:06.952Z"
   },
   {
    "duration": 7,
    "start_time": "2022-09-14T14:57:07.321Z"
   },
   {
    "duration": 1500,
    "start_time": "2022-09-15T13:19:19.700Z"
   },
   {
    "duration": 125,
    "start_time": "2022-09-15T13:19:21.202Z"
   },
   {
    "duration": 15,
    "start_time": "2022-09-15T13:19:21.329Z"
   },
   {
    "duration": 21,
    "start_time": "2022-09-15T13:19:21.346Z"
   },
   {
    "duration": 22,
    "start_time": "2022-09-15T13:19:21.368Z"
   },
   {
    "duration": 11,
    "start_time": "2022-09-15T13:19:21.392Z"
   },
   {
    "duration": 18,
    "start_time": "2022-09-15T13:19:21.405Z"
   },
   {
    "duration": 20,
    "start_time": "2022-09-15T13:19:21.425Z"
   },
   {
    "duration": 17,
    "start_time": "2022-09-15T13:19:21.446Z"
   },
   {
    "duration": 4,
    "start_time": "2022-09-15T13:19:21.465Z"
   },
   {
    "duration": 11,
    "start_time": "2022-09-15T13:19:21.470Z"
   },
   {
    "duration": 24,
    "start_time": "2022-09-15T13:19:21.483Z"
   },
   {
    "duration": 52,
    "start_time": "2022-09-15T13:19:21.509Z"
   },
   {
    "duration": 10,
    "start_time": "2022-09-15T13:19:21.562Z"
   },
   {
    "duration": 6140,
    "start_time": "2022-09-15T13:19:21.573Z"
   },
   {
    "duration": 1465,
    "start_time": "2022-09-15T13:19:27.715Z"
   },
   {
    "duration": 3,
    "start_time": "2022-09-15T13:19:29.182Z"
   },
   {
    "duration": 10,
    "start_time": "2022-09-15T13:19:29.187Z"
   },
   {
    "duration": 26,
    "start_time": "2022-09-15T13:19:29.198Z"
   },
   {
    "duration": 329,
    "start_time": "2022-09-15T13:19:29.226Z"
   },
   {
    "duration": 6,
    "start_time": "2022-09-15T13:19:29.556Z"
   },
   {
    "duration": 1245,
    "start_time": "2022-09-15T13:19:52.270Z"
   },
   {
    "duration": 33,
    "start_time": "2022-09-15T13:19:53.517Z"
   },
   {
    "duration": 13,
    "start_time": "2022-09-15T13:19:53.551Z"
   },
   {
    "duration": 11,
    "start_time": "2022-09-15T13:19:53.565Z"
   },
   {
    "duration": 3,
    "start_time": "2022-09-15T13:19:53.577Z"
   },
   {
    "duration": 8,
    "start_time": "2022-09-15T13:19:53.581Z"
   },
   {
    "duration": 6,
    "start_time": "2022-09-15T13:19:53.590Z"
   },
   {
    "duration": 6,
    "start_time": "2022-09-15T13:19:53.598Z"
   },
   {
    "duration": 9,
    "start_time": "2022-09-15T13:19:53.605Z"
   },
   {
    "duration": 6,
    "start_time": "2022-09-15T13:19:53.616Z"
   },
   {
    "duration": 8,
    "start_time": "2022-09-15T13:19:53.624Z"
   },
   {
    "duration": 16,
    "start_time": "2022-09-15T13:19:53.633Z"
   },
   {
    "duration": 39,
    "start_time": "2022-09-15T13:19:53.650Z"
   },
   {
    "duration": 9,
    "start_time": "2022-09-15T13:19:53.690Z"
   },
   {
    "duration": 6103,
    "start_time": "2022-09-15T13:19:53.700Z"
   },
   {
    "duration": 1443,
    "start_time": "2022-09-15T13:19:59.805Z"
   },
   {
    "duration": 4,
    "start_time": "2022-09-15T13:20:01.249Z"
   },
   {
    "duration": 10,
    "start_time": "2022-09-15T13:20:01.254Z"
   },
   {
    "duration": 27,
    "start_time": "2022-09-15T13:20:01.266Z"
   },
   {
    "duration": 307,
    "start_time": "2022-09-15T13:20:01.294Z"
   },
   {
    "duration": 6,
    "start_time": "2022-09-15T13:20:01.603Z"
   },
   {
    "duration": 1600,
    "start_time": "2022-09-15T13:20:08.330Z"
   },
   {
    "duration": 37,
    "start_time": "2022-09-15T13:20:09.932Z"
   },
   {
    "duration": 15,
    "start_time": "2022-09-15T13:20:09.971Z"
   },
   {
    "duration": 17,
    "start_time": "2022-09-15T13:20:09.987Z"
   },
   {
    "duration": 3,
    "start_time": "2022-09-15T13:20:10.006Z"
   },
   {
    "duration": 7,
    "start_time": "2022-09-15T13:20:10.011Z"
   },
   {
    "duration": 9,
    "start_time": "2022-09-15T13:20:10.019Z"
   },
   {
    "duration": 13,
    "start_time": "2022-09-15T13:20:10.030Z"
   },
   {
    "duration": 10,
    "start_time": "2022-09-15T13:20:10.044Z"
   },
   {
    "duration": 3,
    "start_time": "2022-09-15T13:20:10.057Z"
   },
   {
    "duration": 5,
    "start_time": "2022-09-15T13:20:10.061Z"
   },
   {
    "duration": 8,
    "start_time": "2022-09-15T13:20:10.068Z"
   },
   {
    "duration": 63,
    "start_time": "2022-09-15T13:20:10.077Z"
   },
   {
    "duration": 11,
    "start_time": "2022-09-15T13:20:10.142Z"
   },
   {
    "duration": 6433,
    "start_time": "2022-09-15T13:20:10.154Z"
   },
   {
    "duration": 1567,
    "start_time": "2022-09-15T13:20:16.589Z"
   },
   {
    "duration": 3,
    "start_time": "2022-09-15T13:20:18.158Z"
   },
   {
    "duration": 10,
    "start_time": "2022-09-15T13:20:18.163Z"
   },
   {
    "duration": 25,
    "start_time": "2022-09-15T13:20:18.174Z"
   },
   {
    "duration": 306,
    "start_time": "2022-09-15T13:20:18.200Z"
   },
   {
    "duration": 6,
    "start_time": "2022-09-15T13:20:18.507Z"
   },
   {
    "duration": 86,
    "start_time": "2022-09-15T13:58:37.154Z"
   },
   {
    "duration": 7,
    "start_time": "2022-09-15T14:04:05.600Z"
   },
   {
    "duration": 92,
    "start_time": "2022-09-15T14:16:01.283Z"
   },
   {
    "duration": 1383,
    "start_time": "2022-09-15T14:24:31.693Z"
   },
   {
    "duration": 31,
    "start_time": "2022-09-15T14:24:33.078Z"
   },
   {
    "duration": 18,
    "start_time": "2022-09-15T14:24:33.110Z"
   },
   {
    "duration": 17,
    "start_time": "2022-09-15T14:24:33.130Z"
   },
   {
    "duration": 5,
    "start_time": "2022-09-15T14:24:33.148Z"
   },
   {
    "duration": 6,
    "start_time": "2022-09-15T14:24:33.154Z"
   },
   {
    "duration": 7,
    "start_time": "2022-09-15T14:24:33.163Z"
   },
   {
    "duration": 9,
    "start_time": "2022-09-15T14:24:33.172Z"
   },
   {
    "duration": 18,
    "start_time": "2022-09-15T14:24:33.182Z"
   },
   {
    "duration": 24,
    "start_time": "2022-09-15T14:24:33.202Z"
   },
   {
    "duration": 14,
    "start_time": "2022-09-15T14:24:33.228Z"
   },
   {
    "duration": 12,
    "start_time": "2022-09-15T14:24:33.243Z"
   },
   {
    "duration": 40,
    "start_time": "2022-09-15T14:24:33.256Z"
   },
   {
    "duration": 9,
    "start_time": "2022-09-15T14:24:33.297Z"
   },
   {
    "duration": 6200,
    "start_time": "2022-09-15T14:24:33.308Z"
   },
   {
    "duration": 1594,
    "start_time": "2022-09-15T14:24:39.510Z"
   },
   {
    "duration": 5,
    "start_time": "2022-09-15T14:24:41.107Z"
   },
   {
    "duration": 10,
    "start_time": "2022-09-15T14:24:41.113Z"
   },
   {
    "duration": 35,
    "start_time": "2022-09-15T14:24:41.125Z"
   },
   {
    "duration": 362,
    "start_time": "2022-09-15T14:24:41.162Z"
   },
   {
    "duration": 9,
    "start_time": "2022-09-15T14:24:41.526Z"
   },
   {
    "duration": 24,
    "start_time": "2022-09-15T14:24:41.536Z"
   },
   {
    "duration": 9,
    "start_time": "2022-09-15T14:32:22.302Z"
   },
   {
    "duration": 72,
    "start_time": "2022-09-15T14:33:02.988Z"
   },
   {
    "duration": 108,
    "start_time": "2022-09-15T14:51:56.763Z"
   },
   {
    "duration": 7,
    "start_time": "2022-09-15T14:52:10.555Z"
   },
   {
    "duration": 596,
    "start_time": "2022-09-15T14:52:11.026Z"
   },
   {
    "duration": 107471,
    "start_time": "2022-09-15T14:56:42.296Z"
   },
   {
    "duration": 1548,
    "start_time": "2022-09-16T10:34:41.092Z"
   },
   {
    "duration": 71,
    "start_time": "2022-09-16T10:34:42.642Z"
   },
   {
    "duration": 15,
    "start_time": "2022-09-16T10:34:42.714Z"
   },
   {
    "duration": 12,
    "start_time": "2022-09-16T10:34:42.730Z"
   },
   {
    "duration": 6,
    "start_time": "2022-09-16T10:34:42.744Z"
   },
   {
    "duration": 6,
    "start_time": "2022-09-16T10:34:42.751Z"
   },
   {
    "duration": 6,
    "start_time": "2022-09-16T10:34:42.758Z"
   },
   {
    "duration": 6,
    "start_time": "2022-09-16T10:34:42.766Z"
   },
   {
    "duration": 12,
    "start_time": "2022-09-16T10:34:42.773Z"
   },
   {
    "duration": 15,
    "start_time": "2022-09-16T10:34:42.786Z"
   },
   {
    "duration": 6,
    "start_time": "2022-09-16T10:34:42.803Z"
   },
   {
    "duration": 19,
    "start_time": "2022-09-16T10:34:42.810Z"
   },
   {
    "duration": 55,
    "start_time": "2022-09-16T10:34:42.831Z"
   },
   {
    "duration": 10,
    "start_time": "2022-09-16T10:34:42.888Z"
   },
   {
    "duration": 6333,
    "start_time": "2022-09-16T10:34:42.899Z"
   },
   {
    "duration": 1437,
    "start_time": "2022-09-16T10:34:49.234Z"
   },
   {
    "duration": 4,
    "start_time": "2022-09-16T10:34:50.673Z"
   },
   {
    "duration": 113,
    "start_time": "2022-09-16T10:34:50.679Z"
   },
   {
    "duration": 33,
    "start_time": "2022-09-16T10:34:50.795Z"
   },
   {
    "duration": 327,
    "start_time": "2022-09-16T10:34:50.831Z"
   },
   {
    "duration": 8,
    "start_time": "2022-09-16T10:34:51.159Z"
   },
   {
    "duration": 7,
    "start_time": "2022-09-16T10:34:51.169Z"
   },
   {
    "duration": 24,
    "start_time": "2022-09-16T10:34:51.178Z"
   },
   {
    "duration": 480,
    "start_time": "2022-09-16T10:34:51.204Z"
   },
   {
    "duration": 99153,
    "start_time": "2022-09-16T10:34:51.685Z"
   },
   {
    "duration": 104,
    "start_time": "2022-09-16T10:45:03.773Z"
   },
   {
    "duration": 18,
    "start_time": "2022-09-16T10:45:25.183Z"
   },
   {
    "duration": 1051,
    "start_time": "2022-09-16T10:45:30.054Z"
   },
   {
    "duration": 3,
    "start_time": "2022-09-16T10:51:57.887Z"
   },
   {
    "duration": 12,
    "start_time": "2022-09-16T11:14:20.580Z"
   },
   {
    "duration": 6,
    "start_time": "2022-09-16T11:14:42.114Z"
   },
   {
    "duration": 15,
    "start_time": "2022-09-16T11:14:53.620Z"
   },
   {
    "duration": 13,
    "start_time": "2022-09-16T11:15:03.196Z"
   },
   {
    "duration": 18,
    "start_time": "2022-09-16T11:17:46.652Z"
   },
   {
    "duration": 17,
    "start_time": "2022-09-16T11:18:56.435Z"
   },
   {
    "duration": 14,
    "start_time": "2022-09-16T12:04:08.464Z"
   },
   {
    "duration": 14,
    "start_time": "2022-09-16T12:04:30.171Z"
   },
   {
    "duration": 183,
    "start_time": "2022-09-16T12:04:41.198Z"
   },
   {
    "duration": 114516,
    "start_time": "2022-09-16T12:04:57.487Z"
   },
   {
    "duration": 134,
    "start_time": "2022-09-16T12:07:13.021Z"
   },
   {
    "duration": 1327,
    "start_time": "2022-09-16T12:12:31.800Z"
   },
   {
    "duration": 34,
    "start_time": "2022-09-16T12:12:33.129Z"
   },
   {
    "duration": 70,
    "start_time": "2022-09-16T12:12:33.164Z"
   },
   {
    "duration": 10,
    "start_time": "2022-09-16T12:12:33.236Z"
   },
   {
    "duration": 3,
    "start_time": "2022-09-16T12:12:33.248Z"
   },
   {
    "duration": 5,
    "start_time": "2022-09-16T12:12:33.253Z"
   },
   {
    "duration": 7,
    "start_time": "2022-09-16T12:12:33.259Z"
   },
   {
    "duration": 7,
    "start_time": "2022-09-16T12:12:33.267Z"
   },
   {
    "duration": 9,
    "start_time": "2022-09-16T12:12:33.276Z"
   },
   {
    "duration": 4,
    "start_time": "2022-09-16T12:12:33.287Z"
   },
   {
    "duration": 9,
    "start_time": "2022-09-16T12:12:33.293Z"
   },
   {
    "duration": 13,
    "start_time": "2022-09-16T12:12:33.303Z"
   },
   {
    "duration": 72,
    "start_time": "2022-09-16T12:12:33.318Z"
   },
   {
    "duration": 25,
    "start_time": "2022-09-16T12:12:33.392Z"
   },
   {
    "duration": 6042,
    "start_time": "2022-09-16T12:12:33.419Z"
   },
   {
    "duration": 1400,
    "start_time": "2022-09-16T12:12:39.463Z"
   },
   {
    "duration": 4,
    "start_time": "2022-09-16T12:12:40.865Z"
   },
   {
    "duration": 11,
    "start_time": "2022-09-16T12:12:40.870Z"
   },
   {
    "duration": 25,
    "start_time": "2022-09-16T12:12:40.883Z"
   },
   {
    "duration": 303,
    "start_time": "2022-09-16T12:12:40.910Z"
   },
   {
    "duration": 7,
    "start_time": "2022-09-16T12:12:41.214Z"
   },
   {
    "duration": 20,
    "start_time": "2022-09-16T12:12:41.222Z"
   },
   {
    "duration": 6,
    "start_time": "2022-09-16T12:12:41.243Z"
   },
   {
    "duration": 549,
    "start_time": "2022-09-16T12:12:41.251Z"
   },
   {
    "duration": 98966,
    "start_time": "2022-09-16T12:12:41.801Z"
   },
   {
    "duration": 1131,
    "start_time": "2022-09-16T12:14:20.769Z"
   },
   {
    "duration": 4,
    "start_time": "2022-09-16T12:14:21.902Z"
   },
   {
    "duration": 128,
    "start_time": "2022-09-16T12:14:21.909Z"
   },
   {
    "duration": 8686,
    "start_time": "2022-09-16T12:16:20.478Z"
   },
   {
    "duration": 219,
    "start_time": "2022-09-16T12:17:18.940Z"
   },
   {
    "duration": 11889,
    "start_time": "2022-09-16T12:17:23.347Z"
   },
   {
    "duration": 9944,
    "start_time": "2022-09-16T12:19:04.836Z"
   },
   {
    "duration": 13736,
    "start_time": "2022-09-16T12:20:27.155Z"
   },
   {
    "duration": 228524,
    "start_time": "2022-09-16T12:25:16.746Z"
   },
   {
    "duration": 17,
    "start_time": "2022-09-16T12:38:09.918Z"
   },
   {
    "duration": 149,
    "start_time": "2022-09-16T12:38:21.213Z"
   },
   {
    "duration": 314,
    "start_time": "2022-09-16T12:38:43.862Z"
   },
   {
    "duration": 203278,
    "start_time": "2022-09-16T12:39:48.806Z"
   },
   {
    "duration": 817,
    "start_time": "2022-09-16T12:47:34.382Z"
   },
   {
    "duration": 1493,
    "start_time": "2022-09-16T12:48:53.281Z"
   },
   {
    "duration": 33,
    "start_time": "2022-09-16T12:48:54.776Z"
   },
   {
    "duration": 15,
    "start_time": "2022-09-16T12:48:54.811Z"
   },
   {
    "duration": 10,
    "start_time": "2022-09-16T12:48:54.829Z"
   },
   {
    "duration": 6,
    "start_time": "2022-09-16T12:48:54.841Z"
   },
   {
    "duration": 8,
    "start_time": "2022-09-16T12:48:54.849Z"
   },
   {
    "duration": 11,
    "start_time": "2022-09-16T12:48:54.859Z"
   },
   {
    "duration": 18,
    "start_time": "2022-09-16T12:48:54.872Z"
   },
   {
    "duration": 16,
    "start_time": "2022-09-16T12:48:54.891Z"
   },
   {
    "duration": 3,
    "start_time": "2022-09-16T12:48:54.910Z"
   },
   {
    "duration": 6,
    "start_time": "2022-09-16T12:48:54.915Z"
   },
   {
    "duration": 17,
    "start_time": "2022-09-16T12:48:54.923Z"
   },
   {
    "duration": 60,
    "start_time": "2022-09-16T12:48:54.941Z"
   },
   {
    "duration": 11,
    "start_time": "2022-09-16T12:48:55.002Z"
   },
   {
    "duration": 6041,
    "start_time": "2022-09-16T12:48:55.015Z"
   },
   {
    "duration": 1342,
    "start_time": "2022-09-16T12:49:01.057Z"
   },
   {
    "duration": 4,
    "start_time": "2022-09-16T12:49:02.401Z"
   },
   {
    "duration": 14,
    "start_time": "2022-09-16T12:49:02.406Z"
   },
   {
    "duration": 34,
    "start_time": "2022-09-16T12:49:02.422Z"
   },
   {
    "duration": 342,
    "start_time": "2022-09-16T12:49:02.457Z"
   },
   {
    "duration": 7,
    "start_time": "2022-09-16T12:49:02.800Z"
   },
   {
    "duration": 6,
    "start_time": "2022-09-16T12:49:02.809Z"
   },
   {
    "duration": 7,
    "start_time": "2022-09-16T12:49:02.817Z"
   },
   {
    "duration": 554,
    "start_time": "2022-09-16T12:49:02.825Z"
   },
   {
    "duration": 100020,
    "start_time": "2022-09-16T12:49:03.381Z"
   },
   {
    "duration": 1204,
    "start_time": "2022-09-16T12:50:43.403Z"
   },
   {
    "duration": 92,
    "start_time": "2022-09-16T12:50:44.609Z"
   },
   {
    "duration": 27,
    "start_time": "2022-09-16T12:50:44.704Z"
   },
   {
    "duration": 200564,
    "start_time": "2022-09-16T12:50:44.733Z"
   },
   {
    "duration": 1349,
    "start_time": "2022-09-16T12:58:10.604Z"
   },
   {
    "duration": 34,
    "start_time": "2022-09-16T12:58:11.955Z"
   },
   {
    "duration": 14,
    "start_time": "2022-09-16T12:58:11.991Z"
   },
   {
    "duration": 12,
    "start_time": "2022-09-16T12:58:12.007Z"
   },
   {
    "duration": 8,
    "start_time": "2022-09-16T12:58:12.020Z"
   },
   {
    "duration": 25,
    "start_time": "2022-09-16T12:58:12.029Z"
   },
   {
    "duration": 7,
    "start_time": "2022-09-16T12:58:12.056Z"
   },
   {
    "duration": 10,
    "start_time": "2022-09-16T12:58:12.064Z"
   },
   {
    "duration": 15,
    "start_time": "2022-09-16T12:58:12.075Z"
   },
   {
    "duration": 3,
    "start_time": "2022-09-16T12:58:12.092Z"
   },
   {
    "duration": 9,
    "start_time": "2022-09-16T12:58:12.096Z"
   },
   {
    "duration": 12,
    "start_time": "2022-09-16T12:58:12.106Z"
   },
   {
    "duration": 43,
    "start_time": "2022-09-16T12:58:12.120Z"
   },
   {
    "duration": 10,
    "start_time": "2022-09-16T12:58:12.164Z"
   },
   {
    "duration": 6068,
    "start_time": "2022-09-16T12:58:12.175Z"
   },
   {
    "duration": 1286,
    "start_time": "2022-09-16T12:58:18.245Z"
   },
   {
    "duration": 4,
    "start_time": "2022-09-16T12:58:19.533Z"
   },
   {
    "duration": 12,
    "start_time": "2022-09-16T12:58:19.538Z"
   },
   {
    "duration": 27,
    "start_time": "2022-09-16T12:58:19.551Z"
   },
   {
    "duration": 321,
    "start_time": "2022-09-16T12:58:19.579Z"
   },
   {
    "duration": 8,
    "start_time": "2022-09-16T12:58:19.902Z"
   },
   {
    "duration": 11,
    "start_time": "2022-09-16T12:58:19.911Z"
   },
   {
    "duration": 16,
    "start_time": "2022-09-16T12:58:19.924Z"
   },
   {
    "duration": 555,
    "start_time": "2022-09-16T12:58:19.941Z"
   },
   {
    "duration": 100587,
    "start_time": "2022-09-16T12:58:20.498Z"
   },
   {
    "duration": 1213,
    "start_time": "2022-09-16T13:00:01.087Z"
   },
   {
    "duration": 3,
    "start_time": "2022-09-16T13:00:02.302Z"
   },
   {
    "duration": 123,
    "start_time": "2022-09-16T13:00:02.308Z"
   },
   {
    "duration": 1373,
    "start_time": "2022-09-16T13:03:40.013Z"
   },
   {
    "duration": 33,
    "start_time": "2022-09-16T13:03:41.388Z"
   },
   {
    "duration": 18,
    "start_time": "2022-09-16T13:03:41.423Z"
   },
   {
    "duration": 15,
    "start_time": "2022-09-16T13:03:41.442Z"
   },
   {
    "duration": 5,
    "start_time": "2022-09-16T13:03:41.459Z"
   },
   {
    "duration": 15,
    "start_time": "2022-09-16T13:03:41.466Z"
   },
   {
    "duration": 7,
    "start_time": "2022-09-16T13:03:41.483Z"
   },
   {
    "duration": 10,
    "start_time": "2022-09-16T13:03:41.491Z"
   },
   {
    "duration": 11,
    "start_time": "2022-09-16T13:03:41.502Z"
   },
   {
    "duration": 4,
    "start_time": "2022-09-16T13:03:41.514Z"
   },
   {
    "duration": 7,
    "start_time": "2022-09-16T13:03:41.519Z"
   },
   {
    "duration": 11,
    "start_time": "2022-09-16T13:03:41.528Z"
   },
   {
    "duration": 70,
    "start_time": "2022-09-16T13:03:41.541Z"
   },
   {
    "duration": 12,
    "start_time": "2022-09-16T13:03:41.614Z"
   },
   {
    "duration": 6096,
    "start_time": "2022-09-16T13:03:41.628Z"
   },
   {
    "duration": 1261,
    "start_time": "2022-09-16T13:03:47.726Z"
   },
   {
    "duration": 5,
    "start_time": "2022-09-16T13:03:48.989Z"
   },
   {
    "duration": 21,
    "start_time": "2022-09-16T13:03:48.996Z"
   },
   {
    "duration": 41,
    "start_time": "2022-09-16T13:03:49.018Z"
   },
   {
    "duration": 334,
    "start_time": "2022-09-16T13:03:49.060Z"
   },
   {
    "duration": 10,
    "start_time": "2022-09-16T13:03:49.395Z"
   },
   {
    "duration": 18,
    "start_time": "2022-09-16T13:03:49.406Z"
   },
   {
    "duration": 34,
    "start_time": "2022-09-16T13:03:49.426Z"
   },
   {
    "duration": 551,
    "start_time": "2022-09-16T13:03:49.462Z"
   },
   {
    "duration": 1364,
    "start_time": "2022-09-16T13:04:00.443Z"
   },
   {
    "duration": 38,
    "start_time": "2022-09-16T13:04:01.809Z"
   },
   {
    "duration": 16,
    "start_time": "2022-09-16T13:04:01.848Z"
   },
   {
    "duration": 22,
    "start_time": "2022-09-16T13:04:01.866Z"
   },
   {
    "duration": 9,
    "start_time": "2022-09-16T13:04:01.890Z"
   },
   {
    "duration": 13,
    "start_time": "2022-09-16T13:04:01.900Z"
   },
   {
    "duration": 11,
    "start_time": "2022-09-16T13:04:01.914Z"
   },
   {
    "duration": 9,
    "start_time": "2022-09-16T13:04:01.926Z"
   },
   {
    "duration": 15,
    "start_time": "2022-09-16T13:04:01.936Z"
   },
   {
    "duration": 3,
    "start_time": "2022-09-16T13:04:01.953Z"
   },
   {
    "duration": 7,
    "start_time": "2022-09-16T13:04:01.957Z"
   },
   {
    "duration": 13,
    "start_time": "2022-09-16T13:04:01.965Z"
   },
   {
    "duration": 50,
    "start_time": "2022-09-16T13:04:01.980Z"
   },
   {
    "duration": 11,
    "start_time": "2022-09-16T13:04:02.031Z"
   },
   {
    "duration": 6097,
    "start_time": "2022-09-16T13:04:02.043Z"
   },
   {
    "duration": 1289,
    "start_time": "2022-09-16T13:04:08.142Z"
   },
   {
    "duration": 4,
    "start_time": "2022-09-16T13:04:09.433Z"
   },
   {
    "duration": 21,
    "start_time": "2022-09-16T13:04:09.439Z"
   },
   {
    "duration": 51,
    "start_time": "2022-09-16T13:04:09.462Z"
   },
   {
    "duration": 331,
    "start_time": "2022-09-16T13:04:09.515Z"
   },
   {
    "duration": 8,
    "start_time": "2022-09-16T13:04:09.848Z"
   },
   {
    "duration": 24,
    "start_time": "2022-09-16T13:04:09.858Z"
   },
   {
    "duration": 9,
    "start_time": "2022-09-16T13:04:09.884Z"
   },
   {
    "duration": 557,
    "start_time": "2022-09-16T13:04:09.894Z"
   },
   {
    "duration": 1353,
    "start_time": "2022-09-16T13:04:32.530Z"
   },
   {
    "duration": 51,
    "start_time": "2022-09-16T13:04:33.885Z"
   },
   {
    "duration": 14,
    "start_time": "2022-09-16T13:04:33.937Z"
   },
   {
    "duration": 10,
    "start_time": "2022-09-16T13:04:33.952Z"
   },
   {
    "duration": 4,
    "start_time": "2022-09-16T13:04:33.963Z"
   },
   {
    "duration": 5,
    "start_time": "2022-09-16T13:04:33.968Z"
   },
   {
    "duration": 5,
    "start_time": "2022-09-16T13:04:33.975Z"
   },
   {
    "duration": 7,
    "start_time": "2022-09-16T13:04:33.982Z"
   },
   {
    "duration": 10,
    "start_time": "2022-09-16T13:04:33.990Z"
   },
   {
    "duration": 3,
    "start_time": "2022-09-16T13:04:34.003Z"
   },
   {
    "duration": 6,
    "start_time": "2022-09-16T13:04:34.007Z"
   },
   {
    "duration": 13,
    "start_time": "2022-09-16T13:04:34.015Z"
   },
   {
    "duration": 45,
    "start_time": "2022-09-16T13:04:34.029Z"
   },
   {
    "duration": 12,
    "start_time": "2022-09-16T13:04:34.076Z"
   },
   {
    "duration": 6112,
    "start_time": "2022-09-16T13:04:34.101Z"
   },
   {
    "duration": 1348,
    "start_time": "2022-09-16T13:04:40.215Z"
   },
   {
    "duration": 5,
    "start_time": "2022-09-16T13:04:41.564Z"
   },
   {
    "duration": 11,
    "start_time": "2022-09-16T13:04:41.571Z"
   },
   {
    "duration": 30,
    "start_time": "2022-09-16T13:04:41.584Z"
   },
   {
    "duration": 336,
    "start_time": "2022-09-16T13:04:41.616Z"
   },
   {
    "duration": 6,
    "start_time": "2022-09-16T13:04:41.953Z"
   },
   {
    "duration": 12,
    "start_time": "2022-09-16T13:04:41.961Z"
   },
   {
    "duration": 8,
    "start_time": "2022-09-16T13:04:41.975Z"
   },
   {
    "duration": 577,
    "start_time": "2022-09-16T13:04:41.984Z"
   },
   {
    "duration": 1321,
    "start_time": "2022-09-16T13:05:45.527Z"
   },
   {
    "duration": 33,
    "start_time": "2022-09-16T13:05:46.850Z"
   },
   {
    "duration": 14,
    "start_time": "2022-09-16T13:05:46.885Z"
   },
   {
    "duration": 13,
    "start_time": "2022-09-16T13:05:46.901Z"
   },
   {
    "duration": 4,
    "start_time": "2022-09-16T13:05:46.916Z"
   },
   {
    "duration": 5,
    "start_time": "2022-09-16T13:05:46.921Z"
   },
   {
    "duration": 9,
    "start_time": "2022-09-16T13:05:46.928Z"
   },
   {
    "duration": 6,
    "start_time": "2022-09-16T13:05:46.939Z"
   },
   {
    "duration": 11,
    "start_time": "2022-09-16T13:05:46.947Z"
   },
   {
    "duration": 3,
    "start_time": "2022-09-16T13:05:46.959Z"
   },
   {
    "duration": 6,
    "start_time": "2022-09-16T13:05:46.963Z"
   },
   {
    "duration": 34,
    "start_time": "2022-09-16T13:05:46.971Z"
   },
   {
    "duration": 42,
    "start_time": "2022-09-16T13:05:47.007Z"
   },
   {
    "duration": 12,
    "start_time": "2022-09-16T13:05:47.051Z"
   },
   {
    "duration": 5898,
    "start_time": "2022-09-16T13:05:47.065Z"
   },
   {
    "duration": 1363,
    "start_time": "2022-09-16T13:05:52.964Z"
   },
   {
    "duration": 4,
    "start_time": "2022-09-16T13:05:54.329Z"
   },
   {
    "duration": 11,
    "start_time": "2022-09-16T13:05:54.335Z"
   },
   {
    "duration": 35,
    "start_time": "2022-09-16T13:05:54.347Z"
   },
   {
    "duration": 376,
    "start_time": "2022-09-16T13:05:54.384Z"
   },
   {
    "duration": 7,
    "start_time": "2022-09-16T13:05:54.761Z"
   },
   {
    "duration": 6,
    "start_time": "2022-09-16T13:05:54.769Z"
   },
   {
    "duration": 9,
    "start_time": "2022-09-16T13:05:54.777Z"
   },
   {
    "duration": 548,
    "start_time": "2022-09-16T13:05:54.799Z"
   },
   {
    "duration": 99821,
    "start_time": "2022-09-16T13:05:55.349Z"
   },
   {
    "duration": 1031,
    "start_time": "2022-09-16T13:07:35.172Z"
   },
   {
    "duration": 4,
    "start_time": "2022-09-16T13:07:36.204Z"
   },
   {
    "duration": 108,
    "start_time": "2022-09-16T13:07:36.209Z"
   },
   {
    "duration": 198846,
    "start_time": "2022-09-16T13:07:36.319Z"
   },
   {
    "duration": 1302,
    "start_time": "2022-09-16T13:19:10.254Z"
   },
   {
    "duration": 33,
    "start_time": "2022-09-16T13:19:11.558Z"
   },
   {
    "duration": 16,
    "start_time": "2022-09-16T13:19:11.593Z"
   },
   {
    "duration": 12,
    "start_time": "2022-09-16T13:19:11.611Z"
   },
   {
    "duration": 9,
    "start_time": "2022-09-16T13:19:11.624Z"
   },
   {
    "duration": 7,
    "start_time": "2022-09-16T13:19:11.635Z"
   },
   {
    "duration": 8,
    "start_time": "2022-09-16T13:19:11.643Z"
   },
   {
    "duration": 18,
    "start_time": "2022-09-16T13:19:11.652Z"
   },
   {
    "duration": 13,
    "start_time": "2022-09-16T13:19:11.671Z"
   },
   {
    "duration": 14,
    "start_time": "2022-09-16T13:19:11.687Z"
   },
   {
    "duration": 9,
    "start_time": "2022-09-16T13:19:11.703Z"
   },
   {
    "duration": 10,
    "start_time": "2022-09-16T13:19:11.713Z"
   },
   {
    "duration": 41,
    "start_time": "2022-09-16T13:19:11.724Z"
   },
   {
    "duration": 10,
    "start_time": "2022-09-16T13:19:11.766Z"
   },
   {
    "duration": 6055,
    "start_time": "2022-09-16T13:19:11.777Z"
   },
   {
    "duration": 1258,
    "start_time": "2022-09-16T13:19:17.833Z"
   },
   {
    "duration": 4,
    "start_time": "2022-09-16T13:19:19.093Z"
   },
   {
    "duration": 15,
    "start_time": "2022-09-16T13:19:19.098Z"
   },
   {
    "duration": 29,
    "start_time": "2022-09-16T13:19:19.114Z"
   },
   {
    "duration": 343,
    "start_time": "2022-09-16T13:19:19.145Z"
   },
   {
    "duration": 14,
    "start_time": "2022-09-16T13:19:19.490Z"
   },
   {
    "duration": 8,
    "start_time": "2022-09-16T13:19:19.506Z"
   },
   {
    "duration": 9,
    "start_time": "2022-09-16T13:19:19.516Z"
   },
   {
    "duration": 565,
    "start_time": "2022-09-16T13:19:19.527Z"
   },
   {
    "duration": 2,
    "start_time": "2022-09-16T13:19:20.094Z"
   },
   {
    "duration": 1204,
    "start_time": "2022-09-16T13:19:20.097Z"
   },
   {
    "duration": 3,
    "start_time": "2022-09-16T13:19:21.303Z"
   },
   {
    "duration": 135,
    "start_time": "2022-09-16T13:19:21.311Z"
   },
   {
    "duration": 1364,
    "start_time": "2022-09-16T13:25:17.487Z"
   },
   {
    "duration": 52,
    "start_time": "2022-09-16T13:25:18.853Z"
   },
   {
    "duration": 14,
    "start_time": "2022-09-16T13:25:18.906Z"
   },
   {
    "duration": 11,
    "start_time": "2022-09-16T13:25:18.922Z"
   },
   {
    "duration": 4,
    "start_time": "2022-09-16T13:25:18.935Z"
   },
   {
    "duration": 4,
    "start_time": "2022-09-16T13:25:18.940Z"
   },
   {
    "duration": 10,
    "start_time": "2022-09-16T13:25:18.946Z"
   },
   {
    "duration": 9,
    "start_time": "2022-09-16T13:25:18.957Z"
   },
   {
    "duration": 10,
    "start_time": "2022-09-16T13:25:18.968Z"
   },
   {
    "duration": 3,
    "start_time": "2022-09-16T13:25:19.002Z"
   },
   {
    "duration": 9,
    "start_time": "2022-09-16T13:25:19.006Z"
   },
   {
    "duration": 9,
    "start_time": "2022-09-16T13:25:19.017Z"
   },
   {
    "duration": 45,
    "start_time": "2022-09-16T13:25:19.027Z"
   },
   {
    "duration": 9,
    "start_time": "2022-09-16T13:25:19.074Z"
   },
   {
    "duration": 6228,
    "start_time": "2022-09-16T13:25:19.099Z"
   },
   {
    "duration": 1307,
    "start_time": "2022-09-16T13:25:25.328Z"
   },
   {
    "duration": 4,
    "start_time": "2022-09-16T13:25:26.637Z"
   },
   {
    "duration": 9,
    "start_time": "2022-09-16T13:25:26.643Z"
   },
   {
    "duration": 28,
    "start_time": "2022-09-16T13:25:26.653Z"
   },
   {
    "duration": 311,
    "start_time": "2022-09-16T13:25:26.683Z"
   },
   {
    "duration": 8,
    "start_time": "2022-09-16T13:25:26.996Z"
   },
   {
    "duration": 6,
    "start_time": "2022-09-16T13:25:27.005Z"
   },
   {
    "duration": 6,
    "start_time": "2022-09-16T13:25:27.013Z"
   },
   {
    "duration": 533,
    "start_time": "2022-09-16T13:25:27.020Z"
   },
   {
    "duration": 2,
    "start_time": "2022-09-16T13:25:27.555Z"
   },
   {
    "duration": 1144,
    "start_time": "2022-09-16T13:25:27.558Z"
   },
   {
    "duration": 3,
    "start_time": "2022-09-16T13:25:28.704Z"
   },
   {
    "duration": 24,
    "start_time": "2022-09-16T13:25:28.801Z"
   },
   {
    "duration": 1321,
    "start_time": "2022-09-16T13:26:08.311Z"
   },
   {
    "duration": 34,
    "start_time": "2022-09-16T13:26:09.634Z"
   },
   {
    "duration": 15,
    "start_time": "2022-09-16T13:26:09.670Z"
   },
   {
    "duration": 10,
    "start_time": "2022-09-16T13:26:09.687Z"
   },
   {
    "duration": 6,
    "start_time": "2022-09-16T13:26:09.698Z"
   },
   {
    "duration": 5,
    "start_time": "2022-09-16T13:26:09.706Z"
   },
   {
    "duration": 9,
    "start_time": "2022-09-16T13:26:09.713Z"
   },
   {
    "duration": 8,
    "start_time": "2022-09-16T13:26:09.724Z"
   },
   {
    "duration": 13,
    "start_time": "2022-09-16T13:26:09.733Z"
   },
   {
    "duration": 4,
    "start_time": "2022-09-16T13:26:09.748Z"
   },
   {
    "duration": 7,
    "start_time": "2022-09-16T13:26:09.753Z"
   },
   {
    "duration": 12,
    "start_time": "2022-09-16T13:26:09.761Z"
   },
   {
    "duration": 59,
    "start_time": "2022-09-16T13:26:09.775Z"
   },
   {
    "duration": 12,
    "start_time": "2022-09-16T13:26:09.836Z"
   },
   {
    "duration": 6196,
    "start_time": "2022-09-16T13:26:09.850Z"
   },
   {
    "duration": 1320,
    "start_time": "2022-09-16T13:26:16.047Z"
   },
   {
    "duration": 5,
    "start_time": "2022-09-16T13:26:17.369Z"
   },
   {
    "duration": 30,
    "start_time": "2022-09-16T13:26:17.376Z"
   },
   {
    "duration": 52,
    "start_time": "2022-09-16T13:26:17.408Z"
   },
   {
    "duration": 346,
    "start_time": "2022-09-16T13:26:17.463Z"
   },
   {
    "duration": 7,
    "start_time": "2022-09-16T13:26:17.811Z"
   },
   {
    "duration": 9,
    "start_time": "2022-09-16T13:26:17.819Z"
   },
   {
    "duration": 9,
    "start_time": "2022-09-16T13:26:17.830Z"
   },
   {
    "duration": 537,
    "start_time": "2022-09-16T13:26:17.840Z"
   },
   {
    "duration": 2,
    "start_time": "2022-09-16T13:26:18.379Z"
   },
   {
    "duration": 1126,
    "start_time": "2022-09-16T13:26:18.383Z"
   },
   {
    "duration": 3,
    "start_time": "2022-09-16T13:26:19.602Z"
   },
   {
    "duration": 23,
    "start_time": "2022-09-16T13:26:19.607Z"
   },
   {
    "duration": 182536,
    "start_time": "2022-09-16T13:26:19.631Z"
   },
   {
    "duration": 3910,
    "start_time": "2022-09-16T13:30:05.120Z"
   },
   {
    "duration": 1650,
    "start_time": "2022-09-16T13:30:24.664Z"
   },
   {
    "duration": 896,
    "start_time": "2022-09-16T13:47:14.950Z"
   },
   {
    "duration": 1543,
    "start_time": "2022-09-16T13:51:00.101Z"
   },
   {
    "duration": 1473,
    "start_time": "2022-09-16T13:51:14.846Z"
   },
   {
    "duration": 634,
    "start_time": "2022-09-16T13:51:30.037Z"
   },
   {
    "duration": 772,
    "start_time": "2022-09-16T13:52:37.828Z"
   },
   {
    "duration": 787,
    "start_time": "2022-09-16T13:53:18.740Z"
   },
   {
    "duration": 19,
    "start_time": "2022-09-16T13:53:37.101Z"
   },
   {
    "duration": 984,
    "start_time": "2022-09-16T13:53:43.429Z"
   },
   {
    "duration": 1053,
    "start_time": "2022-09-16T13:54:37.126Z"
   },
   {
    "duration": 1008,
    "start_time": "2022-09-16T13:55:07.876Z"
   },
   {
    "duration": 1097,
    "start_time": "2022-09-16T13:55:15.708Z"
   },
   {
    "duration": 1137,
    "start_time": "2022-09-16T13:55:28.511Z"
   },
   {
    "duration": 1061,
    "start_time": "2022-09-16T13:56:35.668Z"
   },
   {
    "duration": 49,
    "start_time": "2022-09-16T16:02:40.224Z"
   },
   {
    "duration": 6,
    "start_time": "2022-09-16T16:02:46.618Z"
   },
   {
    "duration": 1647,
    "start_time": "2022-09-16T16:03:02.786Z"
   },
   {
    "duration": 77,
    "start_time": "2022-09-16T16:03:04.436Z"
   },
   {
    "duration": 22,
    "start_time": "2022-09-16T16:03:04.515Z"
   },
   {
    "duration": 13,
    "start_time": "2022-09-16T16:03:04.540Z"
   },
   {
    "duration": 9,
    "start_time": "2022-09-16T16:03:04.555Z"
   },
   {
    "duration": 8,
    "start_time": "2022-09-16T16:03:04.565Z"
   },
   {
    "duration": 13,
    "start_time": "2022-09-16T16:03:04.575Z"
   },
   {
    "duration": 24,
    "start_time": "2022-09-16T16:03:04.590Z"
   },
   {
    "duration": 11,
    "start_time": "2022-09-16T16:03:04.615Z"
   },
   {
    "duration": 9,
    "start_time": "2022-09-16T16:03:04.629Z"
   },
   {
    "duration": 13,
    "start_time": "2022-09-16T16:03:04.640Z"
   },
   {
    "duration": 8,
    "start_time": "2022-09-16T16:03:04.655Z"
   },
   {
    "duration": 54,
    "start_time": "2022-09-16T16:03:04.665Z"
   },
   {
    "duration": 10,
    "start_time": "2022-09-16T16:03:04.721Z"
   },
   {
    "duration": 5880,
    "start_time": "2022-09-16T16:03:04.732Z"
   },
   {
    "duration": 1290,
    "start_time": "2022-09-16T16:03:10.614Z"
   },
   {
    "duration": 6,
    "start_time": "2022-09-16T16:03:11.905Z"
   },
   {
    "duration": 10,
    "start_time": "2022-09-16T16:03:11.912Z"
   },
   {
    "duration": 33,
    "start_time": "2022-09-16T16:03:11.924Z"
   },
   {
    "duration": 357,
    "start_time": "2022-09-16T16:03:11.958Z"
   },
   {
    "duration": 7,
    "start_time": "2022-09-16T16:03:12.316Z"
   },
   {
    "duration": 8,
    "start_time": "2022-09-16T16:03:12.325Z"
   },
   {
    "duration": 8,
    "start_time": "2022-09-16T16:03:12.334Z"
   },
   {
    "duration": 489,
    "start_time": "2022-09-16T16:03:12.344Z"
   },
   {
    "duration": 2,
    "start_time": "2022-09-16T16:03:12.834Z"
   },
   {
    "duration": 984,
    "start_time": "2022-09-16T16:03:12.837Z"
   },
   {
    "duration": 5,
    "start_time": "2022-09-16T16:03:13.913Z"
   },
   {
    "duration": 20,
    "start_time": "2022-09-16T16:03:14.011Z"
   },
   {
    "duration": 5,
    "start_time": "2022-09-16T16:03:14.032Z"
   },
   {
    "duration": 932,
    "start_time": "2022-09-16T16:03:14.038Z"
   },
   {
    "duration": 1173,
    "start_time": "2022-09-16T16:03:14.971Z"
   },
   {
    "duration": 123,
    "start_time": "2022-09-16T16:04:47.630Z"
   },
   {
    "duration": 27,
    "start_time": "2022-09-16T16:07:05.140Z"
   },
   {
    "duration": 5,
    "start_time": "2022-09-16T16:07:34.493Z"
   },
   {
    "duration": 871,
    "start_time": "2022-09-16T16:07:39.417Z"
   },
   {
    "duration": 1390,
    "start_time": "2022-09-16T16:08:11.010Z"
   },
   {
    "duration": 33,
    "start_time": "2022-09-16T16:08:12.402Z"
   },
   {
    "duration": 15,
    "start_time": "2022-09-16T16:08:12.436Z"
   },
   {
    "duration": 10,
    "start_time": "2022-09-16T16:08:12.452Z"
   },
   {
    "duration": 3,
    "start_time": "2022-09-16T16:08:12.464Z"
   },
   {
    "duration": 5,
    "start_time": "2022-09-16T16:08:12.468Z"
   },
   {
    "duration": 5,
    "start_time": "2022-09-16T16:08:12.474Z"
   },
   {
    "duration": 7,
    "start_time": "2022-09-16T16:08:12.480Z"
   },
   {
    "duration": 12,
    "start_time": "2022-09-16T16:08:12.488Z"
   },
   {
    "duration": 3,
    "start_time": "2022-09-16T16:08:12.508Z"
   },
   {
    "duration": 8,
    "start_time": "2022-09-16T16:08:12.512Z"
   },
   {
    "duration": 7,
    "start_time": "2022-09-16T16:08:12.522Z"
   },
   {
    "duration": 35,
    "start_time": "2022-09-16T16:08:12.530Z"
   },
   {
    "duration": 9,
    "start_time": "2022-09-16T16:08:12.567Z"
   },
   {
    "duration": 5935,
    "start_time": "2022-09-16T16:08:12.578Z"
   },
   {
    "duration": 1254,
    "start_time": "2022-09-16T16:08:18.514Z"
   },
   {
    "duration": 4,
    "start_time": "2022-09-16T16:08:19.770Z"
   },
   {
    "duration": 12,
    "start_time": "2022-09-16T16:08:19.776Z"
   },
   {
    "duration": 27,
    "start_time": "2022-09-16T16:08:19.789Z"
   },
   {
    "duration": 360,
    "start_time": "2022-09-16T16:08:19.817Z"
   },
   {
    "duration": 8,
    "start_time": "2022-09-16T16:08:20.179Z"
   },
   {
    "duration": 20,
    "start_time": "2022-09-16T16:08:20.189Z"
   },
   {
    "duration": 11,
    "start_time": "2022-09-16T16:08:20.210Z"
   },
   {
    "duration": 453,
    "start_time": "2022-09-16T16:08:20.222Z"
   },
   {
    "duration": 2,
    "start_time": "2022-09-16T16:08:20.676Z"
   },
   {
    "duration": 1041,
    "start_time": "2022-09-16T16:08:20.680Z"
   },
   {
    "duration": 4,
    "start_time": "2022-09-16T16:08:21.811Z"
   },
   {
    "duration": 110,
    "start_time": "2022-09-16T16:08:21.818Z"
   },
   {
    "duration": 895,
    "start_time": "2022-09-16T16:08:21.929Z"
   },
   {
    "duration": 1155,
    "start_time": "2022-09-16T16:08:22.825Z"
   },
   {
    "duration": 18,
    "start_time": "2022-09-16T16:09:11.425Z"
   },
   {
    "duration": 6,
    "start_time": "2022-09-16T16:34:19.744Z"
   },
   {
    "duration": 9,
    "start_time": "2022-09-16T16:34:32.765Z"
   },
   {
    "duration": 128,
    "start_time": "2022-09-16T16:35:44.011Z"
   },
   {
    "duration": 15,
    "start_time": "2022-09-16T16:35:56.782Z"
   },
   {
    "duration": 5,
    "start_time": "2022-09-16T16:36:23.083Z"
   },
   {
    "duration": 8,
    "start_time": "2022-09-16T16:36:37.194Z"
   },
   {
    "duration": 104,
    "start_time": "2022-09-16T16:48:29.611Z"
   },
   {
    "duration": 10,
    "start_time": "2022-09-16T16:50:10.073Z"
   },
   {
    "duration": 83,
    "start_time": "2022-09-16T16:50:39.176Z"
   },
   {
    "duration": 31,
    "start_time": "2022-09-16T16:50:47.988Z"
   },
   {
    "duration": 4,
    "start_time": "2022-09-16T16:51:06.942Z"
   },
   {
    "duration": 151,
    "start_time": "2022-09-16T16:52:24.473Z"
   },
   {
    "duration": 104,
    "start_time": "2022-09-16T16:53:06.547Z"
   },
   {
    "duration": 104,
    "start_time": "2022-09-16T16:53:29.525Z"
   },
   {
    "duration": 65,
    "start_time": "2022-09-16T16:57:28.701Z"
   },
   {
    "duration": 118,
    "start_time": "2022-09-16T16:58:02.347Z"
   },
   {
    "duration": 131,
    "start_time": "2022-09-16T16:58:11.855Z"
   },
   {
    "duration": 243,
    "start_time": "2022-09-16T17:02:22.460Z"
   },
   {
    "duration": 136,
    "start_time": "2022-09-16T17:02:49.392Z"
   },
   {
    "duration": 1548,
    "start_time": "2022-09-17T09:38:11.152Z"
   },
   {
    "duration": 133,
    "start_time": "2022-09-17T09:38:12.702Z"
   },
   {
    "duration": 15,
    "start_time": "2022-09-17T09:38:12.836Z"
   },
   {
    "duration": 10,
    "start_time": "2022-09-17T09:38:12.853Z"
   },
   {
    "duration": 4,
    "start_time": "2022-09-17T09:38:12.865Z"
   },
   {
    "duration": 6,
    "start_time": "2022-09-17T09:38:12.870Z"
   },
   {
    "duration": 7,
    "start_time": "2022-09-17T09:38:12.877Z"
   },
   {
    "duration": 6,
    "start_time": "2022-09-17T09:38:12.885Z"
   },
   {
    "duration": 10,
    "start_time": "2022-09-17T09:38:12.893Z"
   },
   {
    "duration": 3,
    "start_time": "2022-09-17T09:38:12.905Z"
   },
   {
    "duration": 5,
    "start_time": "2022-09-17T09:38:12.910Z"
   },
   {
    "duration": 8,
    "start_time": "2022-09-17T09:38:12.916Z"
   },
   {
    "duration": 67,
    "start_time": "2022-09-17T09:38:12.925Z"
   },
   {
    "duration": 10,
    "start_time": "2022-09-17T09:38:12.994Z"
   },
   {
    "duration": 5966,
    "start_time": "2022-09-17T09:38:13.005Z"
   },
   {
    "duration": 1323,
    "start_time": "2022-09-17T09:38:18.973Z"
   },
   {
    "duration": 4,
    "start_time": "2022-09-17T09:38:20.297Z"
   },
   {
    "duration": 12,
    "start_time": "2022-09-17T09:38:20.303Z"
   },
   {
    "duration": 31,
    "start_time": "2022-09-17T09:38:20.317Z"
   },
   {
    "duration": 311,
    "start_time": "2022-09-17T09:38:20.349Z"
   },
   {
    "duration": 7,
    "start_time": "2022-09-17T09:38:20.661Z"
   },
   {
    "duration": 12,
    "start_time": "2022-09-17T09:38:20.670Z"
   },
   {
    "duration": 7,
    "start_time": "2022-09-17T09:38:20.684Z"
   },
   {
    "duration": 525,
    "start_time": "2022-09-17T09:38:20.693Z"
   },
   {
    "duration": 2,
    "start_time": "2022-09-17T09:38:21.220Z"
   },
   {
    "duration": 1155,
    "start_time": "2022-09-17T09:38:21.223Z"
   },
   {
    "duration": 4,
    "start_time": "2022-09-17T09:38:22.379Z"
   },
   {
    "duration": 107,
    "start_time": "2022-09-17T09:38:22.387Z"
   },
   {
    "duration": 916,
    "start_time": "2022-09-17T09:38:22.495Z"
   },
   {
    "duration": 1171,
    "start_time": "2022-09-17T09:38:23.413Z"
   },
   {
    "duration": 7,
    "start_time": "2022-09-17T09:38:24.586Z"
   },
   {
    "duration": 151,
    "start_time": "2022-09-17T09:38:24.594Z"
   },
   {
    "duration": 126,
    "start_time": "2022-09-17T09:38:38.199Z"
   },
   {
    "duration": 1317,
    "start_time": "2022-09-17T10:09:23.341Z"
   },
   {
    "duration": 32,
    "start_time": "2022-09-17T10:09:24.660Z"
   },
   {
    "duration": 15,
    "start_time": "2022-09-17T10:09:24.693Z"
   },
   {
    "duration": 11,
    "start_time": "2022-09-17T10:09:24.709Z"
   },
   {
    "duration": 7,
    "start_time": "2022-09-17T10:09:24.721Z"
   },
   {
    "duration": 7,
    "start_time": "2022-09-17T10:09:24.729Z"
   },
   {
    "duration": 6,
    "start_time": "2022-09-17T10:09:24.737Z"
   },
   {
    "duration": 10,
    "start_time": "2022-09-17T10:09:24.744Z"
   },
   {
    "duration": 22,
    "start_time": "2022-09-17T10:09:24.755Z"
   },
   {
    "duration": 3,
    "start_time": "2022-09-17T10:09:24.780Z"
   },
   {
    "duration": 5,
    "start_time": "2022-09-17T10:09:24.784Z"
   },
   {
    "duration": 9,
    "start_time": "2022-09-17T10:09:24.791Z"
   },
   {
    "duration": 40,
    "start_time": "2022-09-17T10:09:24.801Z"
   },
   {
    "duration": 34,
    "start_time": "2022-09-17T10:09:24.843Z"
   },
   {
    "duration": 6225,
    "start_time": "2022-09-17T10:09:24.879Z"
   },
   {
    "duration": 1286,
    "start_time": "2022-09-17T10:09:31.106Z"
   },
   {
    "duration": 4,
    "start_time": "2022-09-17T10:09:32.393Z"
   },
   {
    "duration": 11,
    "start_time": "2022-09-17T10:09:32.398Z"
   },
   {
    "duration": 27,
    "start_time": "2022-09-17T10:09:32.410Z"
   },
   {
    "duration": 321,
    "start_time": "2022-09-17T10:09:32.439Z"
   },
   {
    "duration": 15,
    "start_time": "2022-09-17T10:09:32.762Z"
   },
   {
    "duration": 8,
    "start_time": "2022-09-17T10:09:32.779Z"
   },
   {
    "duration": 7,
    "start_time": "2022-09-17T10:09:32.789Z"
   },
   {
    "duration": 509,
    "start_time": "2022-09-17T10:09:32.797Z"
   },
   {
    "duration": 2,
    "start_time": "2022-09-17T10:09:33.307Z"
   },
   {
    "duration": 1071,
    "start_time": "2022-09-17T10:09:33.310Z"
   },
   {
    "duration": 3,
    "start_time": "2022-09-17T10:09:34.383Z"
   },
   {
    "duration": 28,
    "start_time": "2022-09-17T10:09:34.480Z"
   },
   {
    "duration": 885,
    "start_time": "2022-09-17T10:09:34.509Z"
   },
   {
    "duration": 1226,
    "start_time": "2022-09-17T10:09:35.396Z"
   },
   {
    "duration": 7,
    "start_time": "2022-09-17T10:09:36.624Z"
   },
   {
    "duration": 156,
    "start_time": "2022-09-17T10:09:36.633Z"
   },
   {
    "duration": 78,
    "start_time": "2022-09-17T10:12:44.265Z"
   },
   {
    "duration": 1670,
    "start_time": "2022-09-17T20:57:26.395Z"
   },
   {
    "duration": 71,
    "start_time": "2022-09-17T20:57:28.067Z"
   },
   {
    "duration": 14,
    "start_time": "2022-09-17T20:57:28.140Z"
   },
   {
    "duration": 11,
    "start_time": "2022-09-17T20:57:28.157Z"
   },
   {
    "duration": 4,
    "start_time": "2022-09-17T20:57:28.169Z"
   },
   {
    "duration": 11,
    "start_time": "2022-09-17T20:57:28.174Z"
   },
   {
    "duration": 5,
    "start_time": "2022-09-17T20:57:28.186Z"
   },
   {
    "duration": 8,
    "start_time": "2022-09-17T20:57:28.192Z"
   },
   {
    "duration": 9,
    "start_time": "2022-09-17T20:57:28.201Z"
   },
   {
    "duration": 3,
    "start_time": "2022-09-17T20:57:28.213Z"
   },
   {
    "duration": 6,
    "start_time": "2022-09-17T20:57:28.217Z"
   },
   {
    "duration": 8,
    "start_time": "2022-09-17T20:57:28.224Z"
   },
   {
    "duration": 41,
    "start_time": "2022-09-17T20:57:28.234Z"
   },
   {
    "duration": 37,
    "start_time": "2022-09-17T20:57:28.276Z"
   },
   {
    "duration": 5816,
    "start_time": "2022-09-17T20:57:28.314Z"
   },
   {
    "duration": 1291,
    "start_time": "2022-09-17T20:57:34.132Z"
   },
   {
    "duration": 4,
    "start_time": "2022-09-17T20:57:35.424Z"
   },
   {
    "duration": 9,
    "start_time": "2022-09-17T20:57:35.429Z"
   },
   {
    "duration": 32,
    "start_time": "2022-09-17T20:57:35.439Z"
   },
   {
    "duration": 348,
    "start_time": "2022-09-17T20:57:35.472Z"
   },
   {
    "duration": 7,
    "start_time": "2022-09-17T20:57:35.822Z"
   },
   {
    "duration": 7,
    "start_time": "2022-09-17T20:57:35.830Z"
   },
   {
    "duration": 8,
    "start_time": "2022-09-17T20:57:35.838Z"
   },
   {
    "duration": 464,
    "start_time": "2022-09-17T20:57:35.847Z"
   },
   {
    "duration": 93045,
    "start_time": "2022-09-17T20:57:36.312Z"
   },
   {
    "duration": 954,
    "start_time": "2022-09-17T20:59:09.358Z"
   },
   {
    "duration": 3,
    "start_time": "2022-09-17T20:59:10.314Z"
   },
   {
    "duration": 108,
    "start_time": "2022-09-17T20:59:10.320Z"
   },
   {
    "duration": 903,
    "start_time": "2022-09-17T20:59:10.430Z"
   },
   {
    "duration": 1289,
    "start_time": "2022-09-17T20:59:11.334Z"
   },
   {
    "duration": 7,
    "start_time": "2022-09-17T20:59:12.625Z"
   },
   {
    "duration": 148,
    "start_time": "2022-09-17T20:59:12.633Z"
   },
   {
    "duration": 1565,
    "start_time": "2022-09-18T13:29:04.296Z"
   },
   {
    "duration": 67,
    "start_time": "2022-09-18T13:29:05.862Z"
   },
   {
    "duration": 14,
    "start_time": "2022-09-18T13:29:05.931Z"
   },
   {
    "duration": 11,
    "start_time": "2022-09-18T13:29:05.946Z"
   },
   {
    "duration": 3,
    "start_time": "2022-09-18T13:29:05.958Z"
   },
   {
    "duration": 4,
    "start_time": "2022-09-18T13:29:05.962Z"
   },
   {
    "duration": 5,
    "start_time": "2022-09-18T13:29:05.968Z"
   },
   {
    "duration": 7,
    "start_time": "2022-09-18T13:29:05.974Z"
   },
   {
    "duration": 10,
    "start_time": "2022-09-18T13:29:05.982Z"
   },
   {
    "duration": 3,
    "start_time": "2022-09-18T13:29:06.008Z"
   },
   {
    "duration": 6,
    "start_time": "2022-09-18T13:29:06.012Z"
   },
   {
    "duration": 9,
    "start_time": "2022-09-18T13:29:06.019Z"
   },
   {
    "duration": 38,
    "start_time": "2022-09-18T13:29:06.029Z"
   },
   {
    "duration": 11,
    "start_time": "2022-09-18T13:29:06.069Z"
   },
   {
    "duration": 5845,
    "start_time": "2022-09-18T13:29:06.081Z"
   },
   {
    "duration": 1350,
    "start_time": "2022-09-18T13:29:11.927Z"
   },
   {
    "duration": 4,
    "start_time": "2022-09-18T13:29:13.278Z"
   },
   {
    "duration": 24,
    "start_time": "2022-09-18T13:29:13.283Z"
   },
   {
    "duration": 28,
    "start_time": "2022-09-18T13:29:13.308Z"
   },
   {
    "duration": 349,
    "start_time": "2022-09-18T13:29:13.337Z"
   },
   {
    "duration": 7,
    "start_time": "2022-09-18T13:29:13.688Z"
   },
   {
    "duration": 15,
    "start_time": "2022-09-18T13:29:13.697Z"
   },
   {
    "duration": 8,
    "start_time": "2022-09-18T13:29:13.714Z"
   },
   {
    "duration": 489,
    "start_time": "2022-09-18T13:29:13.723Z"
   },
   {
    "duration": 92656,
    "start_time": "2022-09-18T13:29:14.214Z"
   },
   {
    "duration": 1038,
    "start_time": "2022-09-18T13:30:46.871Z"
   },
   {
    "duration": 4,
    "start_time": "2022-09-18T13:30:47.911Z"
   },
   {
    "duration": 111,
    "start_time": "2022-09-18T13:30:47.917Z"
   },
   {
    "duration": 890,
    "start_time": "2022-09-18T13:30:48.029Z"
   },
   {
    "duration": 1259,
    "start_time": "2022-09-18T13:30:48.921Z"
   },
   {
    "duration": 6,
    "start_time": "2022-09-18T13:30:50.181Z"
   },
   {
    "duration": 149,
    "start_time": "2022-09-18T13:30:50.189Z"
   },
   {
    "duration": 10,
    "start_time": "2022-09-18T13:33:03.804Z"
   },
   {
    "duration": 2,
    "start_time": "2022-09-18T13:33:18.143Z"
   },
   {
    "duration": 1348,
    "start_time": "2022-09-18T13:33:22.943Z"
   },
   {
    "duration": 31,
    "start_time": "2022-09-18T13:33:24.293Z"
   },
   {
    "duration": 14,
    "start_time": "2022-09-18T13:33:24.326Z"
   },
   {
    "duration": 13,
    "start_time": "2022-09-18T13:33:24.341Z"
   },
   {
    "duration": 12,
    "start_time": "2022-09-18T13:33:24.356Z"
   },
   {
    "duration": 4,
    "start_time": "2022-09-18T13:33:24.369Z"
   },
   {
    "duration": 6,
    "start_time": "2022-09-18T13:33:24.374Z"
   },
   {
    "duration": 7,
    "start_time": "2022-09-18T13:33:24.381Z"
   },
   {
    "duration": 20,
    "start_time": "2022-09-18T13:33:24.389Z"
   },
   {
    "duration": 3,
    "start_time": "2022-09-18T13:33:24.411Z"
   },
   {
    "duration": 6,
    "start_time": "2022-09-18T13:33:24.415Z"
   },
   {
    "duration": 8,
    "start_time": "2022-09-18T13:33:24.423Z"
   },
   {
    "duration": 37,
    "start_time": "2022-09-18T13:33:24.432Z"
   },
   {
    "duration": 10,
    "start_time": "2022-09-18T13:33:24.471Z"
   },
   {
    "duration": 5801,
    "start_time": "2022-09-18T13:33:24.509Z"
   },
   {
    "duration": 1257,
    "start_time": "2022-09-18T13:33:30.312Z"
   },
   {
    "duration": 5,
    "start_time": "2022-09-18T13:33:31.571Z"
   },
   {
    "duration": 51,
    "start_time": "2022-09-18T13:33:31.577Z"
   },
   {
    "duration": 43,
    "start_time": "2022-09-18T13:33:31.629Z"
   },
   {
    "duration": 330,
    "start_time": "2022-09-18T13:33:31.674Z"
   },
   {
    "duration": 8,
    "start_time": "2022-09-18T13:33:32.005Z"
   },
   {
    "duration": 28,
    "start_time": "2022-09-18T13:33:32.015Z"
   },
   {
    "duration": 31,
    "start_time": "2022-09-18T13:33:32.045Z"
   },
   {
    "duration": 476,
    "start_time": "2022-09-18T13:33:32.078Z"
   },
   {
    "duration": 2,
    "start_time": "2022-09-18T13:33:32.556Z"
   },
   {
    "duration": 958,
    "start_time": "2022-09-18T13:33:32.560Z"
   },
   {
    "duration": 4,
    "start_time": "2022-09-18T13:33:33.609Z"
   },
   {
    "duration": 20,
    "start_time": "2022-09-18T13:33:33.615Z"
   },
   {
    "duration": 908,
    "start_time": "2022-09-18T13:33:33.637Z"
   },
   {
    "duration": 1167,
    "start_time": "2022-09-18T13:33:34.546Z"
   },
   {
    "duration": 6,
    "start_time": "2022-09-18T13:33:35.715Z"
   },
   {
    "duration": 148,
    "start_time": "2022-09-18T13:33:35.723Z"
   },
   {
    "duration": 1336,
    "start_time": "2022-09-18T13:33:53.620Z"
   },
   {
    "duration": 32,
    "start_time": "2022-09-18T13:33:54.958Z"
   },
   {
    "duration": 14,
    "start_time": "2022-09-18T13:33:54.991Z"
   },
   {
    "duration": 10,
    "start_time": "2022-09-18T13:33:55.007Z"
   },
   {
    "duration": 4,
    "start_time": "2022-09-18T13:33:55.018Z"
   },
   {
    "duration": 13,
    "start_time": "2022-09-18T13:33:55.024Z"
   },
   {
    "duration": 13,
    "start_time": "2022-09-18T13:33:55.038Z"
   },
   {
    "duration": 8,
    "start_time": "2022-09-18T13:33:55.052Z"
   },
   {
    "duration": 13,
    "start_time": "2022-09-18T13:33:55.061Z"
   },
   {
    "duration": 3,
    "start_time": "2022-09-18T13:33:55.076Z"
   },
   {
    "duration": 7,
    "start_time": "2022-09-18T13:33:55.080Z"
   },
   {
    "duration": 9,
    "start_time": "2022-09-18T13:33:55.089Z"
   },
   {
    "duration": 38,
    "start_time": "2022-09-18T13:33:55.108Z"
   },
   {
    "duration": 10,
    "start_time": "2022-09-18T13:33:55.148Z"
   },
   {
    "duration": 5853,
    "start_time": "2022-09-18T13:33:55.160Z"
   },
   {
    "duration": 1242,
    "start_time": "2022-09-18T13:34:01.015Z"
   },
   {
    "duration": 4,
    "start_time": "2022-09-18T13:34:02.258Z"
   },
   {
    "duration": 29,
    "start_time": "2022-09-18T13:34:02.264Z"
   },
   {
    "duration": 37,
    "start_time": "2022-09-18T13:34:02.295Z"
   },
   {
    "duration": 362,
    "start_time": "2022-09-18T13:34:02.333Z"
   },
   {
    "duration": 14,
    "start_time": "2022-09-18T13:34:02.697Z"
   },
   {
    "duration": 18,
    "start_time": "2022-09-18T13:34:02.713Z"
   },
   {
    "duration": 6,
    "start_time": "2022-09-18T13:34:02.732Z"
   },
   {
    "duration": 484,
    "start_time": "2022-09-18T13:34:02.740Z"
   },
   {
    "duration": 2,
    "start_time": "2022-09-18T13:34:03.225Z"
   },
   {
    "duration": 1081,
    "start_time": "2022-09-18T13:34:03.228Z"
   },
   {
    "duration": 5,
    "start_time": "2022-09-18T13:34:04.314Z"
   },
   {
    "duration": 18,
    "start_time": "2022-09-18T13:34:04.411Z"
   },
   {
    "duration": 936,
    "start_time": "2022-09-18T13:34:04.431Z"
   },
   {
    "duration": 1176,
    "start_time": "2022-09-18T13:34:05.368Z"
   },
   {
    "duration": 7,
    "start_time": "2022-09-18T13:34:06.546Z"
   },
   {
    "duration": 166,
    "start_time": "2022-09-18T13:34:06.554Z"
   },
   {
    "duration": 1397,
    "start_time": "2022-09-18T13:34:13.303Z"
   },
   {
    "duration": 32,
    "start_time": "2022-09-18T13:34:14.702Z"
   },
   {
    "duration": 15,
    "start_time": "2022-09-18T13:34:14.736Z"
   },
   {
    "duration": 10,
    "start_time": "2022-09-18T13:34:14.754Z"
   },
   {
    "duration": 3,
    "start_time": "2022-09-18T13:34:14.766Z"
   },
   {
    "duration": 4,
    "start_time": "2022-09-18T13:34:14.771Z"
   },
   {
    "duration": 5,
    "start_time": "2022-09-18T13:34:14.777Z"
   },
   {
    "duration": 7,
    "start_time": "2022-09-18T13:34:14.783Z"
   },
   {
    "duration": 22,
    "start_time": "2022-09-18T13:34:14.792Z"
   },
   {
    "duration": 4,
    "start_time": "2022-09-18T13:34:14.816Z"
   },
   {
    "duration": 6,
    "start_time": "2022-09-18T13:34:14.821Z"
   },
   {
    "duration": 9,
    "start_time": "2022-09-18T13:34:14.829Z"
   },
   {
    "duration": 38,
    "start_time": "2022-09-18T13:34:14.839Z"
   },
   {
    "duration": 35,
    "start_time": "2022-09-18T13:34:14.878Z"
   },
   {
    "duration": 5903,
    "start_time": "2022-09-18T13:34:14.914Z"
   },
   {
    "duration": 1299,
    "start_time": "2022-09-18T13:34:20.818Z"
   },
   {
    "duration": 4,
    "start_time": "2022-09-18T13:34:22.118Z"
   },
   {
    "duration": 12,
    "start_time": "2022-09-18T13:34:22.124Z"
   },
   {
    "duration": 25,
    "start_time": "2022-09-18T13:34:22.137Z"
   },
   {
    "duration": 332,
    "start_time": "2022-09-18T13:34:22.163Z"
   },
   {
    "duration": 7,
    "start_time": "2022-09-18T13:34:22.496Z"
   },
   {
    "duration": 6,
    "start_time": "2022-09-18T13:34:22.509Z"
   },
   {
    "duration": 12,
    "start_time": "2022-09-18T13:34:22.517Z"
   },
   {
    "duration": 525,
    "start_time": "2022-09-18T13:34:22.530Z"
   },
   {
    "duration": 2,
    "start_time": "2022-09-18T13:34:23.056Z"
   },
   {
    "duration": 1060,
    "start_time": "2022-09-18T13:34:23.060Z"
   },
   {
    "duration": 4,
    "start_time": "2022-09-18T13:34:24.212Z"
   },
   {
    "duration": 20,
    "start_time": "2022-09-18T13:34:24.309Z"
   },
   {
    "duration": 905,
    "start_time": "2022-09-18T13:34:24.330Z"
   },
   {
    "duration": 1151,
    "start_time": "2022-09-18T13:34:25.237Z"
   },
   {
    "duration": 7,
    "start_time": "2022-09-18T13:34:26.389Z"
   },
   {
    "duration": 146,
    "start_time": "2022-09-18T13:34:26.398Z"
   },
   {
    "duration": 1370,
    "start_time": "2022-09-18T13:53:30.139Z"
   },
   {
    "duration": 31,
    "start_time": "2022-09-18T13:53:31.511Z"
   },
   {
    "duration": 14,
    "start_time": "2022-09-18T13:53:31.543Z"
   },
   {
    "duration": 17,
    "start_time": "2022-09-18T13:53:31.558Z"
   },
   {
    "duration": 16,
    "start_time": "2022-09-18T13:53:31.577Z"
   },
   {
    "duration": 10,
    "start_time": "2022-09-18T13:53:31.594Z"
   },
   {
    "duration": 14,
    "start_time": "2022-09-18T13:53:31.606Z"
   },
   {
    "duration": 20,
    "start_time": "2022-09-18T13:53:31.621Z"
   },
   {
    "duration": 16,
    "start_time": "2022-09-18T13:53:31.643Z"
   },
   {
    "duration": 4,
    "start_time": "2022-09-18T13:53:31.660Z"
   },
   {
    "duration": 9,
    "start_time": "2022-09-18T13:53:31.665Z"
   },
   {
    "duration": 10,
    "start_time": "2022-09-18T13:53:31.676Z"
   },
   {
    "duration": 37,
    "start_time": "2022-09-18T13:53:31.688Z"
   },
   {
    "duration": 10,
    "start_time": "2022-09-18T13:53:31.728Z"
   },
   {
    "duration": 5992,
    "start_time": "2022-09-18T13:53:31.740Z"
   },
   {
    "duration": 1276,
    "start_time": "2022-09-18T13:53:37.733Z"
   },
   {
    "duration": 5,
    "start_time": "2022-09-18T13:53:39.010Z"
   },
   {
    "duration": 36,
    "start_time": "2022-09-18T13:53:39.016Z"
   },
   {
    "duration": 48,
    "start_time": "2022-09-18T13:53:39.053Z"
   },
   {
    "duration": 330,
    "start_time": "2022-09-18T13:53:39.102Z"
   },
   {
    "duration": 6,
    "start_time": "2022-09-18T13:53:39.434Z"
   },
   {
    "duration": 13,
    "start_time": "2022-09-18T13:53:39.441Z"
   },
   {
    "duration": 23,
    "start_time": "2022-09-18T13:53:39.456Z"
   },
   {
    "duration": 498,
    "start_time": "2022-09-18T13:53:39.480Z"
   },
   {
    "duration": 94778,
    "start_time": "2022-09-18T13:53:39.979Z"
   },
   {
    "duration": 962,
    "start_time": "2022-09-18T13:55:14.758Z"
   },
   {
    "duration": 4,
    "start_time": "2022-09-18T13:55:15.810Z"
   },
   {
    "duration": 113,
    "start_time": "2022-09-18T13:55:15.816Z"
   },
   {
    "duration": 910,
    "start_time": "2022-09-18T13:55:15.930Z"
   },
   {
    "duration": 1321,
    "start_time": "2022-09-18T13:55:16.842Z"
   },
   {
    "duration": 8,
    "start_time": "2022-09-18T13:55:18.165Z"
   },
   {
    "duration": 159,
    "start_time": "2022-09-18T13:55:18.174Z"
   }
  ],
  "kernelspec": {
   "display_name": "Python 3 (ipykernel)",
   "language": "python",
   "name": "python3"
  },
  "language_info": {
   "codemirror_mode": {
    "name": "ipython",
    "version": 3
   },
   "file_extension": ".py",
   "mimetype": "text/x-python",
   "name": "python",
   "nbconvert_exporter": "python",
   "pygments_lexer": "ipython3",
   "version": "3.9.5"
  },
  "toc": {
   "base_numbering": 1,
   "nav_menu": {},
   "number_sections": true,
   "sideBar": true,
   "skip_h1_title": true,
   "title_cell": "Содержание",
   "title_sidebar": "Contents",
   "toc_cell": true,
   "toc_position": {},
   "toc_section_display": true,
   "toc_window_display": false
  }
 },
 "nbformat": 4,
 "nbformat_minor": 2
}
