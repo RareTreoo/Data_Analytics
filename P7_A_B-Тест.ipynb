{
 "cells": [
  {
   "cell_type": "markdown",
   "metadata": {
    "toc": true
   },
   "source": [
    "<h1>Содержание<span class=\"tocSkip\"></span></h1>\n",
    "<div class=\"toc\"><ul class=\"toc-item\"><li><span><a href=\"#Приоритизация-гипотез.\" data-toc-modified-id=\"Приоритизация-гипотез.-1\"><span class=\"toc-item-num\">1&nbsp;&nbsp;</span>Приоритизация гипотез.</a></span></li><li><span><a href=\"#Анализ-A/B-теста\" data-toc-modified-id=\"Анализ-A/B-теста-2\"><span class=\"toc-item-num\">2&nbsp;&nbsp;</span>Анализ A/B теста</a></span><ul class=\"toc-item\"><li><span><a href=\"#График-кумулятивной-выручки-по-группам\" data-toc-modified-id=\"График-кумулятивной-выручки-по-группам-2.1\"><span class=\"toc-item-num\">2.1&nbsp;&nbsp;</span>График кумулятивной выручки по группам</a></span></li><li><span><a href=\"#График-кумулятивного-среднего-чека-по-группам\" data-toc-modified-id=\"График-кумулятивного-среднего-чека-по-группам-2.2\"><span class=\"toc-item-num\">2.2&nbsp;&nbsp;</span>График кумулятивного среднего чека по группам</a></span></li><li><span><a href=\"#График-относительного-изменения-кумулятивного-среднего-чека-группы-B-к-группе-A\" data-toc-modified-id=\"График-относительного-изменения-кумулятивного-среднего-чека-группы-B-к-группе-A-2.3\"><span class=\"toc-item-num\">2.3&nbsp;&nbsp;</span>График относительного изменения кумулятивного среднего чека группы B к группе A</a></span></li><li><span><a href=\"#График-кумулятивной-конверсии-по-группам\" data-toc-modified-id=\"График-кумулятивной-конверсии-по-группам-2.4\"><span class=\"toc-item-num\">2.4&nbsp;&nbsp;</span>График кумулятивной конверсии по группам</a></span></li><li><span><a href=\"#График-относительного-изменения-кумулятивной-конверсии-группы-B-к-группе-A\" data-toc-modified-id=\"График-относительного-изменения-кумулятивной-конверсии-группы-B-к-группе-A-2.5\"><span class=\"toc-item-num\">2.5&nbsp;&nbsp;</span>График относительного изменения кумулятивной конверсии группы B к группе A</a></span></li><li><span><a href=\"#Точечный-график-количества-заказов-по-пользователям\" data-toc-modified-id=\"Точечный-график-количества-заказов-по-пользователям-2.6\"><span class=\"toc-item-num\">2.6&nbsp;&nbsp;</span>Точечный график количества заказов по пользователям</a></span></li><li><span><a href=\"#Перцентили-количества-заказов-на-пользователя\" data-toc-modified-id=\"Перцентили-количества-заказов-на-пользователя-2.7\"><span class=\"toc-item-num\">2.7&nbsp;&nbsp;</span>Перцентили количества заказов на пользователя</a></span></li><li><span><a href=\"#Точечный-график-стоимостей-заказов\" data-toc-modified-id=\"Точечный-график-стоимостей-заказов-2.8\"><span class=\"toc-item-num\">2.8&nbsp;&nbsp;</span>Точечный график стоимостей заказов</a></span></li><li><span><a href=\"#Перцентили-стоимости-заказов\" data-toc-modified-id=\"Перцентили-стоимости-заказов-2.9\"><span class=\"toc-item-num\">2.9&nbsp;&nbsp;</span>Перцентили стоимости заказов</a></span></li><li><span><a href=\"#Расчет-статистической-значимости-различий-в-конверсии-между-группами-по-«сырым»-данным\" data-toc-modified-id=\"Расчет-статистической-значимости-различий-в-конверсии-между-группами-по-«сырым»-данным-2.10\"><span class=\"toc-item-num\">2.10&nbsp;&nbsp;</span>Расчет статистической значимости различий в конверсии между группами по «сырым» данным</a></span></li><li><span><a href=\"#Расчет-статистической-значимости-различий-в-среднем-чеке-заказа-между-группами-по-«сырым»-данным\" data-toc-modified-id=\"Расчет-статистической-значимости-различий-в-среднем-чеке-заказа-между-группами-по-«сырым»-данным-2.11\"><span class=\"toc-item-num\">2.11&nbsp;&nbsp;</span>Расчет статистической значимости различий в среднем чеке заказа между группами по «сырым» данным</a></span></li><li><span><a href=\"#Расчет-статистической-значимости-различий-в-конверсии-между-группами-по-«очищенным»-данным\" data-toc-modified-id=\"Расчет-статистической-значимости-различий-в-конверсии-между-группами-по-«очищенным»-данным-2.12\"><span class=\"toc-item-num\">2.12&nbsp;&nbsp;</span>Расчет статистической значимости различий в конверсии между группами по «очищенным» данным</a></span></li><li><span><a href=\"#Расчет-статистической-значимости-различий-в-среднем-чеке-заказа-между-группами-по-«очищенным»-данным\" data-toc-modified-id=\"Расчет-статистической-значимости-различий-в-среднем-чеке-заказа-между-группами-по-«очищенным»-данным-2.13\"><span class=\"toc-item-num\">2.13&nbsp;&nbsp;</span>Расчет статистической значимости различий в среднем чеке заказа между группами по «очищенным» данным</a></span></li></ul></li></ul></div>"
   ]
  },
  {
   "cell_type": "markdown",
   "metadata": {},
   "source": [
    "# A/B тест\n",
    "\n",
    "В данном проекте необходимо провести анализ результатов A/B теста для крупного интернет-магазина. \n",
    "\n",
    "Определнен ряд гипотез для увеличения выручки, которые нам необходимо приоретизировать, запустить A/B-тест и проанализировать полученные данные.\n",
    "\n",
    "Задачей данного проекта является - анализ результатов A/B теста и принятие одного из решений: \n",
    "\n",
    "* 1. Остановить тест, зафиксировать победу одной из групп; \n",
    "* 2. Остановить тест, зафиксировать отсутствие различий между группами;\n",
    "* 3. Продолжить тест."
   ]
  },
  {
   "cell_type": "markdown",
   "metadata": {},
   "source": [
    "## Приоритизация гипотез.\n"
   ]
  },
  {
   "cell_type": "markdown",
   "metadata": {},
   "source": [
    "Первым делом импортируем необходимые библиотеки для анализа."
   ]
  },
  {
   "cell_type": "code",
   "execution_count": 1,
   "metadata": {},
   "outputs": [],
   "source": [
    "import pandas as pd # импорт библиотеки pandas\n",
    "import numpy as np # импорт библиотеки numpy\n",
    "import seaborn as sns # импорт библиотеки seaborn\n",
    "import matplotlib.pyplot as plt # импорт библиотеки matplotlib\n",
    "from scipy import stats as stats # импорт библиотеки scipy\n",
    "import math as mth # импорт библиотеки math\n",
    "import datetime as dt # импорт библиотеки datetime"
   ]
  },
  {
   "cell_type": "markdown",
   "metadata": {},
   "source": [
    "Запишем файл с гипотезами в переменную `df_hypothesis`."
   ]
  },
  {
   "cell_type": "code",
   "execution_count": 2,
   "metadata": {},
   "outputs": [],
   "source": [
    "df_hypothesis = pd.read_csv('/datasets/hypothesis.csv') # чтение файла с гипотезами"
   ]
  },
  {
   "cell_type": "markdown",
   "metadata": {},
   "source": [
    "Посмотрим на гипотезы подготовленные совместно с отделом маркетинга."
   ]
  },
  {
   "cell_type": "code",
   "execution_count": 3,
   "metadata": {},
   "outputs": [
    {
     "data": {
      "text/html": [
       "<div>\n",
       "<style scoped>\n",
       "    .dataframe tbody tr th:only-of-type {\n",
       "        vertical-align: middle;\n",
       "    }\n",
       "\n",
       "    .dataframe tbody tr th {\n",
       "        vertical-align: top;\n",
       "    }\n",
       "\n",
       "    .dataframe thead th {\n",
       "        text-align: right;\n",
       "    }\n",
       "</style>\n",
       "<table border=\"1\" class=\"dataframe\">\n",
       "  <thead>\n",
       "    <tr style=\"text-align: right;\">\n",
       "      <th></th>\n",
       "      <th>Hypothesis</th>\n",
       "      <th>Reach</th>\n",
       "      <th>Impact</th>\n",
       "      <th>Confidence</th>\n",
       "      <th>Efforts</th>\n",
       "    </tr>\n",
       "  </thead>\n",
       "  <tbody>\n",
       "    <tr>\n",
       "      <th>0</th>\n",
       "      <td>Добавить два новых канала привлечения трафика,...</td>\n",
       "      <td>3</td>\n",
       "      <td>10</td>\n",
       "      <td>8</td>\n",
       "      <td>6</td>\n",
       "    </tr>\n",
       "    <tr>\n",
       "      <th>1</th>\n",
       "      <td>Запустить собственную службу доставки, что сок...</td>\n",
       "      <td>2</td>\n",
       "      <td>5</td>\n",
       "      <td>4</td>\n",
       "      <td>10</td>\n",
       "    </tr>\n",
       "    <tr>\n",
       "      <th>2</th>\n",
       "      <td>Добавить блоки рекомендаций товаров на сайт ин...</td>\n",
       "      <td>8</td>\n",
       "      <td>3</td>\n",
       "      <td>7</td>\n",
       "      <td>3</td>\n",
       "    </tr>\n",
       "    <tr>\n",
       "      <th>3</th>\n",
       "      <td>Изменить структура категорий, что увеличит кон...</td>\n",
       "      <td>8</td>\n",
       "      <td>3</td>\n",
       "      <td>3</td>\n",
       "      <td>8</td>\n",
       "    </tr>\n",
       "    <tr>\n",
       "      <th>4</th>\n",
       "      <td>Изменить цвет фона главной страницы, чтобы уве...</td>\n",
       "      <td>3</td>\n",
       "      <td>1</td>\n",
       "      <td>1</td>\n",
       "      <td>1</td>\n",
       "    </tr>\n",
       "    <tr>\n",
       "      <th>5</th>\n",
       "      <td>Добавить страницу отзывов клиентов о магазине,...</td>\n",
       "      <td>3</td>\n",
       "      <td>2</td>\n",
       "      <td>2</td>\n",
       "      <td>3</td>\n",
       "    </tr>\n",
       "    <tr>\n",
       "      <th>6</th>\n",
       "      <td>Показать на главной странице баннеры с актуаль...</td>\n",
       "      <td>5</td>\n",
       "      <td>3</td>\n",
       "      <td>8</td>\n",
       "      <td>3</td>\n",
       "    </tr>\n",
       "    <tr>\n",
       "      <th>7</th>\n",
       "      <td>Добавить форму подписки на все основные страни...</td>\n",
       "      <td>10</td>\n",
       "      <td>7</td>\n",
       "      <td>8</td>\n",
       "      <td>5</td>\n",
       "    </tr>\n",
       "    <tr>\n",
       "      <th>8</th>\n",
       "      <td>Запустить акцию, дающую скидку на товар в день...</td>\n",
       "      <td>1</td>\n",
       "      <td>9</td>\n",
       "      <td>9</td>\n",
       "      <td>5</td>\n",
       "    </tr>\n",
       "  </tbody>\n",
       "</table>\n",
       "</div>"
      ],
      "text/plain": [
       "                                          Hypothesis  Reach  Impact  \\\n",
       "0  Добавить два новых канала привлечения трафика,...      3      10   \n",
       "1  Запустить собственную службу доставки, что сок...      2       5   \n",
       "2  Добавить блоки рекомендаций товаров на сайт ин...      8       3   \n",
       "3  Изменить структура категорий, что увеличит кон...      8       3   \n",
       "4  Изменить цвет фона главной страницы, чтобы уве...      3       1   \n",
       "5  Добавить страницу отзывов клиентов о магазине,...      3       2   \n",
       "6  Показать на главной странице баннеры с актуаль...      5       3   \n",
       "7  Добавить форму подписки на все основные страни...     10       7   \n",
       "8  Запустить акцию, дающую скидку на товар в день...      1       9   \n",
       "\n",
       "   Confidence  Efforts  \n",
       "0           8        6  \n",
       "1           4       10  \n",
       "2           7        3  \n",
       "3           3        8  \n",
       "4           1        1  \n",
       "5           2        3  \n",
       "6           8        3  \n",
       "7           8        5  \n",
       "8           9        5  "
      ]
     },
     "execution_count": 3,
     "metadata": {},
     "output_type": "execute_result"
    }
   ],
   "source": [
    "df_hypothesis "
   ]
  },
  {
   "cell_type": "markdown",
   "metadata": {},
   "source": [
    "У нас есть 9 гипотез, которые мы приоретизируем, чтобы их увидеть полностью сделаем небольшую хитрость."
   ]
  },
  {
   "cell_type": "code",
   "execution_count": 4,
   "metadata": {},
   "outputs": [],
   "source": [
    "pd.set_option('display.max_columns', None)\n",
    "pd.set_option('display.max_rows', None)\n",
    "pd.set_option('display.max_colwidth', None)"
   ]
  },
  {
   "cell_type": "code",
   "execution_count": 5,
   "metadata": {},
   "outputs": [
    {
     "data": {
      "text/html": [
       "<div>\n",
       "<style scoped>\n",
       "    .dataframe tbody tr th:only-of-type {\n",
       "        vertical-align: middle;\n",
       "    }\n",
       "\n",
       "    .dataframe tbody tr th {\n",
       "        vertical-align: top;\n",
       "    }\n",
       "\n",
       "    .dataframe thead th {\n",
       "        text-align: right;\n",
       "    }\n",
       "</style>\n",
       "<table border=\"1\" class=\"dataframe\">\n",
       "  <thead>\n",
       "    <tr style=\"text-align: right;\">\n",
       "      <th></th>\n",
       "      <th>Hypothesis</th>\n",
       "      <th>Reach</th>\n",
       "      <th>Impact</th>\n",
       "      <th>Confidence</th>\n",
       "      <th>Efforts</th>\n",
       "    </tr>\n",
       "  </thead>\n",
       "  <tbody>\n",
       "    <tr>\n",
       "      <th>0</th>\n",
       "      <td>Добавить два новых канала привлечения трафика, что позволит привлекать на 30% больше пользователей</td>\n",
       "      <td>3</td>\n",
       "      <td>10</td>\n",
       "      <td>8</td>\n",
       "      <td>6</td>\n",
       "    </tr>\n",
       "    <tr>\n",
       "      <th>1</th>\n",
       "      <td>Запустить собственную службу доставки, что сократит срок доставки заказов</td>\n",
       "      <td>2</td>\n",
       "      <td>5</td>\n",
       "      <td>4</td>\n",
       "      <td>10</td>\n",
       "    </tr>\n",
       "    <tr>\n",
       "      <th>2</th>\n",
       "      <td>Добавить блоки рекомендаций товаров на сайт интернет магазина, чтобы повысить конверсию и средний чек заказа</td>\n",
       "      <td>8</td>\n",
       "      <td>3</td>\n",
       "      <td>7</td>\n",
       "      <td>3</td>\n",
       "    </tr>\n",
       "    <tr>\n",
       "      <th>3</th>\n",
       "      <td>Изменить структура категорий, что увеличит конверсию, т.к. пользователи быстрее найдут нужный товар</td>\n",
       "      <td>8</td>\n",
       "      <td>3</td>\n",
       "      <td>3</td>\n",
       "      <td>8</td>\n",
       "    </tr>\n",
       "    <tr>\n",
       "      <th>4</th>\n",
       "      <td>Изменить цвет фона главной страницы, чтобы увеличить вовлеченность пользователей</td>\n",
       "      <td>3</td>\n",
       "      <td>1</td>\n",
       "      <td>1</td>\n",
       "      <td>1</td>\n",
       "    </tr>\n",
       "    <tr>\n",
       "      <th>5</th>\n",
       "      <td>Добавить страницу отзывов клиентов о магазине, что позволит увеличить количество заказов</td>\n",
       "      <td>3</td>\n",
       "      <td>2</td>\n",
       "      <td>2</td>\n",
       "      <td>3</td>\n",
       "    </tr>\n",
       "    <tr>\n",
       "      <th>6</th>\n",
       "      <td>Показать на главной странице баннеры с актуальными акциями и распродажами, чтобы увеличить конверсию</td>\n",
       "      <td>5</td>\n",
       "      <td>3</td>\n",
       "      <td>8</td>\n",
       "      <td>3</td>\n",
       "    </tr>\n",
       "    <tr>\n",
       "      <th>7</th>\n",
       "      <td>Добавить форму подписки на все основные страницы, чтобы собрать базу клиентов для email-рассылок</td>\n",
       "      <td>10</td>\n",
       "      <td>7</td>\n",
       "      <td>8</td>\n",
       "      <td>5</td>\n",
       "    </tr>\n",
       "    <tr>\n",
       "      <th>8</th>\n",
       "      <td>Запустить акцию, дающую скидку на товар в день рождения</td>\n",
       "      <td>1</td>\n",
       "      <td>9</td>\n",
       "      <td>9</td>\n",
       "      <td>5</td>\n",
       "    </tr>\n",
       "  </tbody>\n",
       "</table>\n",
       "</div>"
      ],
      "text/plain": [
       "                                                                                                     Hypothesis  \\\n",
       "0            Добавить два новых канала привлечения трафика, что позволит привлекать на 30% больше пользователей   \n",
       "1                                     Запустить собственную службу доставки, что сократит срок доставки заказов   \n",
       "2  Добавить блоки рекомендаций товаров на сайт интернет магазина, чтобы повысить конверсию и средний чек заказа   \n",
       "3           Изменить структура категорий, что увеличит конверсию, т.к. пользователи быстрее найдут нужный товар   \n",
       "4                              Изменить цвет фона главной страницы, чтобы увеличить вовлеченность пользователей   \n",
       "5                      Добавить страницу отзывов клиентов о магазине, что позволит увеличить количество заказов   \n",
       "6          Показать на главной странице баннеры с актуальными акциями и распродажами, чтобы увеличить конверсию   \n",
       "7              Добавить форму подписки на все основные страницы, чтобы собрать базу клиентов для email-рассылок   \n",
       "8                                                       Запустить акцию, дающую скидку на товар в день рождения   \n",
       "\n",
       "   Reach  Impact  Confidence  Efforts  \n",
       "0      3      10           8        6  \n",
       "1      2       5           4       10  \n",
       "2      8       3           7        3  \n",
       "3      8       3           3        8  \n",
       "4      3       1           1        1  \n",
       "5      3       2           2        3  \n",
       "6      5       3           8        3  \n",
       "7     10       7           8        5  \n",
       "8      1       9           9        5  "
      ]
     },
     "execution_count": 5,
     "metadata": {},
     "output_type": "execute_result"
    }
   ],
   "source": [
    "df_hypothesis # смотрим гипотезы"
   ]
  },
  {
   "cell_type": "markdown",
   "metadata": {},
   "source": [
    "Согласно документации к данным:\n",
    "\n",
    "* Hypothesis — краткое описание гипотезы;\n",
    "* Reach — охват пользователей по 10-балльной шкале;\n",
    "* Impact — влияние на пользователей по 10-балльной шкале;\n",
    "* Confidence — уверенность в гипотезе по 10-балльной шкале;\n",
    "* Efforts — затраты ресурсов на проверку гипотезы по 10-балльной шкале. Чем больше значение Efforts, тем дороже проверка гипотезы."
   ]
  },
  {
   "cell_type": "markdown",
   "metadata": {},
   "source": [
    "Приведем к единому стилю названия столбцов, приведем их к нижнему регистру."
   ]
  },
  {
   "cell_type": "code",
   "execution_count": 6,
   "metadata": {},
   "outputs": [],
   "source": [
    "df_hypothesis.columns = df_hypothesis.columns.str.lower()"
   ]
  },
  {
   "cell_type": "code",
   "execution_count": 7,
   "metadata": {
    "scrolled": true
   },
   "outputs": [
    {
     "data": {
      "text/plain": [
       "Index(['hypothesis', 'reach', 'impact', 'confidence', 'efforts'], dtype='object')"
      ]
     },
     "execution_count": 7,
     "metadata": {},
     "output_type": "execute_result"
    }
   ],
   "source": [
    "df_hypothesis.columns # смотрим названия столбцов после изменений"
   ]
  },
  {
   "cell_type": "markdown",
   "metadata": {},
   "source": [
    "Успех, начнем приоретизировать гипотезы, метод ICE."
   ]
  },
  {
   "cell_type": "markdown",
   "metadata": {},
   "source": [
    "**ICE**"
   ]
  },
  {
   "cell_type": "markdown",
   "metadata": {},
   "source": [
    "ICE состоит из трех элементов:\n",
    "* Impact — насколько сильно изменение повлияет на пользователей, их опыт и удовлетворение от продукта;\n",
    "* Confidence — насколько вы уверены, что это изменение повлияет на пользователей именно так;\n",
    "* Efforts — сколько стоит протестировать эту гипотезу."
   ]
  },
  {
   "cell_type": "code",
   "execution_count": 8,
   "metadata": {
    "scrolled": true
   },
   "outputs": [
    {
     "data": {
      "text/html": [
       "<div>\n",
       "<style scoped>\n",
       "    .dataframe tbody tr th:only-of-type {\n",
       "        vertical-align: middle;\n",
       "    }\n",
       "\n",
       "    .dataframe tbody tr th {\n",
       "        vertical-align: top;\n",
       "    }\n",
       "\n",
       "    .dataframe thead th {\n",
       "        text-align: right;\n",
       "    }\n",
       "</style>\n",
       "<table border=\"1\" class=\"dataframe\">\n",
       "  <thead>\n",
       "    <tr style=\"text-align: right;\">\n",
       "      <th></th>\n",
       "      <th>hypothesis</th>\n",
       "      <th>ICE</th>\n",
       "    </tr>\n",
       "  </thead>\n",
       "  <tbody>\n",
       "    <tr>\n",
       "      <th>8</th>\n",
       "      <td>Запустить акцию, дающую скидку на товар в день рождения</td>\n",
       "      <td>16.200000</td>\n",
       "    </tr>\n",
       "    <tr>\n",
       "      <th>0</th>\n",
       "      <td>Добавить два новых канала привлечения трафика, что позволит привлекать на 30% больше пользователей</td>\n",
       "      <td>13.333333</td>\n",
       "    </tr>\n",
       "    <tr>\n",
       "      <th>7</th>\n",
       "      <td>Добавить форму подписки на все основные страницы, чтобы собрать базу клиентов для email-рассылок</td>\n",
       "      <td>11.200000</td>\n",
       "    </tr>\n",
       "    <tr>\n",
       "      <th>6</th>\n",
       "      <td>Показать на главной странице баннеры с актуальными акциями и распродажами, чтобы увеличить конверсию</td>\n",
       "      <td>8.000000</td>\n",
       "    </tr>\n",
       "    <tr>\n",
       "      <th>2</th>\n",
       "      <td>Добавить блоки рекомендаций товаров на сайт интернет магазина, чтобы повысить конверсию и средний чек заказа</td>\n",
       "      <td>7.000000</td>\n",
       "    </tr>\n",
       "    <tr>\n",
       "      <th>1</th>\n",
       "      <td>Запустить собственную службу доставки, что сократит срок доставки заказов</td>\n",
       "      <td>2.000000</td>\n",
       "    </tr>\n",
       "    <tr>\n",
       "      <th>5</th>\n",
       "      <td>Добавить страницу отзывов клиентов о магазине, что позволит увеличить количество заказов</td>\n",
       "      <td>1.333333</td>\n",
       "    </tr>\n",
       "    <tr>\n",
       "      <th>3</th>\n",
       "      <td>Изменить структура категорий, что увеличит конверсию, т.к. пользователи быстрее найдут нужный товар</td>\n",
       "      <td>1.125000</td>\n",
       "    </tr>\n",
       "    <tr>\n",
       "      <th>4</th>\n",
       "      <td>Изменить цвет фона главной страницы, чтобы увеличить вовлеченность пользователей</td>\n",
       "      <td>1.000000</td>\n",
       "    </tr>\n",
       "  </tbody>\n",
       "</table>\n",
       "</div>"
      ],
      "text/plain": [
       "                                                                                                     hypothesis  \\\n",
       "8                                                       Запустить акцию, дающую скидку на товар в день рождения   \n",
       "0            Добавить два новых канала привлечения трафика, что позволит привлекать на 30% больше пользователей   \n",
       "7              Добавить форму подписки на все основные страницы, чтобы собрать базу клиентов для email-рассылок   \n",
       "6          Показать на главной странице баннеры с актуальными акциями и распродажами, чтобы увеличить конверсию   \n",
       "2  Добавить блоки рекомендаций товаров на сайт интернет магазина, чтобы повысить конверсию и средний чек заказа   \n",
       "1                                     Запустить собственную службу доставки, что сократит срок доставки заказов   \n",
       "5                      Добавить страницу отзывов клиентов о магазине, что позволит увеличить количество заказов   \n",
       "3           Изменить структура категорий, что увеличит конверсию, т.к. пользователи быстрее найдут нужный товар   \n",
       "4                              Изменить цвет фона главной страницы, чтобы увеличить вовлеченность пользователей   \n",
       "\n",
       "         ICE  \n",
       "8  16.200000  \n",
       "0  13.333333  \n",
       "7  11.200000  \n",
       "6   8.000000  \n",
       "2   7.000000  \n",
       "1   2.000000  \n",
       "5   1.333333  \n",
       "3   1.125000  \n",
       "4   1.000000  "
      ]
     },
     "execution_count": 8,
     "metadata": {},
     "output_type": "execute_result"
    }
   ],
   "source": [
    "df_hypothesis['ICE'] = df_hypothesis['impact'] * df_hypothesis['confidence'] / df_hypothesis['efforts']\n",
    "df_hypothesis[['hypothesis','ICE']].sort_values(by='ICE', ascending=False)"
   ]
  },
  {
   "cell_type": "markdown",
   "metadata": {},
   "source": [
    "Перспективными гипотезами по методу ICE являются: \n",
    "* 8 - Запустить акцию, дающую скидку на товар в день рождения - ICE: 16.2\n",
    "* 0 - Добавить два новых канала привлечения трафика, что позволит привлекать на 30% больше пользователей - ICE: 13.33\n",
    "* 7 - Добавить форму подписки на все основные страницы, чтобы собрать базу клиентов для email-рассылок - ICE: 11.2\n",
    "* 6 - Показать на главной странице баннеры с актуальными акциями и распродажами, чтобы увеличить конверсию - ICE: 8"
   ]
  },
  {
   "cell_type": "markdown",
   "metadata": {},
   "source": [
    "Посмотрим на приоретизацию гипотез по методу RICE."
   ]
  },
  {
   "cell_type": "markdown",
   "metadata": {},
   "source": [
    "**RICE**"
   ]
  },
  {
   "cell_type": "markdown",
   "metadata": {},
   "source": [
    "RICE состоит из четырех элементов:\n",
    "* Impact — насколько сильно изменение повлияет на пользователей, их опыт и удовлетворение от продукта;\n",
    "* Confidence — насколько вы уверены, что это изменение повлияет на пользователей именно так;\n",
    "* Reach - показывает охват пользователей, чем больше показатель, тем больше охват и наоборот;\n",
    "* Efforts — сколько стоит протестировать эту гипотезу."
   ]
  },
  {
   "cell_type": "code",
   "execution_count": 9,
   "metadata": {},
   "outputs": [
    {
     "data": {
      "text/html": [
       "<div>\n",
       "<style scoped>\n",
       "    .dataframe tbody tr th:only-of-type {\n",
       "        vertical-align: middle;\n",
       "    }\n",
       "\n",
       "    .dataframe tbody tr th {\n",
       "        vertical-align: top;\n",
       "    }\n",
       "\n",
       "    .dataframe thead th {\n",
       "        text-align: right;\n",
       "    }\n",
       "</style>\n",
       "<table border=\"1\" class=\"dataframe\">\n",
       "  <thead>\n",
       "    <tr style=\"text-align: right;\">\n",
       "      <th></th>\n",
       "      <th>hypothesis</th>\n",
       "      <th>RICE</th>\n",
       "    </tr>\n",
       "  </thead>\n",
       "  <tbody>\n",
       "    <tr>\n",
       "      <th>7</th>\n",
       "      <td>Добавить форму подписки на все основные страницы, чтобы собрать базу клиентов для email-рассылок</td>\n",
       "      <td>112.0</td>\n",
       "    </tr>\n",
       "    <tr>\n",
       "      <th>2</th>\n",
       "      <td>Добавить блоки рекомендаций товаров на сайт интернет магазина, чтобы повысить конверсию и средний чек заказа</td>\n",
       "      <td>56.0</td>\n",
       "    </tr>\n",
       "    <tr>\n",
       "      <th>0</th>\n",
       "      <td>Добавить два новых канала привлечения трафика, что позволит привлекать на 30% больше пользователей</td>\n",
       "      <td>40.0</td>\n",
       "    </tr>\n",
       "    <tr>\n",
       "      <th>6</th>\n",
       "      <td>Показать на главной странице баннеры с актуальными акциями и распродажами, чтобы увеличить конверсию</td>\n",
       "      <td>40.0</td>\n",
       "    </tr>\n",
       "    <tr>\n",
       "      <th>8</th>\n",
       "      <td>Запустить акцию, дающую скидку на товар в день рождения</td>\n",
       "      <td>16.2</td>\n",
       "    </tr>\n",
       "    <tr>\n",
       "      <th>3</th>\n",
       "      <td>Изменить структура категорий, что увеличит конверсию, т.к. пользователи быстрее найдут нужный товар</td>\n",
       "      <td>9.0</td>\n",
       "    </tr>\n",
       "    <tr>\n",
       "      <th>1</th>\n",
       "      <td>Запустить собственную службу доставки, что сократит срок доставки заказов</td>\n",
       "      <td>4.0</td>\n",
       "    </tr>\n",
       "    <tr>\n",
       "      <th>5</th>\n",
       "      <td>Добавить страницу отзывов клиентов о магазине, что позволит увеличить количество заказов</td>\n",
       "      <td>4.0</td>\n",
       "    </tr>\n",
       "    <tr>\n",
       "      <th>4</th>\n",
       "      <td>Изменить цвет фона главной страницы, чтобы увеличить вовлеченность пользователей</td>\n",
       "      <td>3.0</td>\n",
       "    </tr>\n",
       "  </tbody>\n",
       "</table>\n",
       "</div>"
      ],
      "text/plain": [
       "                                                                                                     hypothesis  \\\n",
       "7              Добавить форму подписки на все основные страницы, чтобы собрать базу клиентов для email-рассылок   \n",
       "2  Добавить блоки рекомендаций товаров на сайт интернет магазина, чтобы повысить конверсию и средний чек заказа   \n",
       "0            Добавить два новых канала привлечения трафика, что позволит привлекать на 30% больше пользователей   \n",
       "6          Показать на главной странице баннеры с актуальными акциями и распродажами, чтобы увеличить конверсию   \n",
       "8                                                       Запустить акцию, дающую скидку на товар в день рождения   \n",
       "3           Изменить структура категорий, что увеличит конверсию, т.к. пользователи быстрее найдут нужный товар   \n",
       "1                                     Запустить собственную службу доставки, что сократит срок доставки заказов   \n",
       "5                      Добавить страницу отзывов клиентов о магазине, что позволит увеличить количество заказов   \n",
       "4                              Изменить цвет фона главной страницы, чтобы увеличить вовлеченность пользователей   \n",
       "\n",
       "    RICE  \n",
       "7  112.0  \n",
       "2   56.0  \n",
       "0   40.0  \n",
       "6   40.0  \n",
       "8   16.2  \n",
       "3    9.0  \n",
       "1    4.0  \n",
       "5    4.0  \n",
       "4    3.0  "
      ]
     },
     "execution_count": 9,
     "metadata": {},
     "output_type": "execute_result"
    }
   ],
   "source": [
    "df_hypothesis['RICE'] = df_hypothesis['reach'] * df_hypothesis['impact'] * df_hypothesis['confidence'] / df_hypothesis['efforts']\n",
    "df_hypothesis[['hypothesis','RICE']].sort_values(by='RICE', ascending=False)"
   ]
  },
  {
   "cell_type": "markdown",
   "metadata": {},
   "source": [
    "Перспективными гипотезами по методу RICE являются:\n",
    "\n",
    "* 7 - Добавить форму подписки на все основные страницы, чтобы собрать базу клиентов для email-рассылок - RICE: 112\n",
    "* 2 - Добавить блоки рекомендаций товаров на сайт интернет магазина, чтобы повысить конверсию и средний чек заказа - RICE: 56\n",
    "* 0 - Добавить два новых канала привлечения трафика, что позволит привлекать на 30% больше пользователей - RICE: 40\n",
    "* 6 - Показать на главной странице баннеры с актуальными акциями и распродажами, чтобы увеличить конверсию - RICE: 40"
   ]
  },
  {
   "cell_type": "markdown",
   "metadata": {},
   "source": [
    "**Выводы по приоретизации:**"
   ]
  },
  {
   "cell_type": "markdown",
   "metadata": {},
   "source": [
    "Перспективные гипотезы по RICE и ICE: 0,7,6. Однако на первом месте гипотеза под номером 7. Это произошло, потому что ее параметр Reach равен 10, в то время как у других гипотез он меньше."
   ]
  },
  {
   "cell_type": "code",
   "execution_count": 71,
   "metadata": {},
   "outputs": [
    {
     "data": {
      "image/png": "[encoded data removed]",
      "text/plain": [
       "<Figure size 1368x648 with 1 Axes>"
      ]
     },
     "metadata": {
      "needs_background": "light"
     },
     "output_type": "display_data"
    }
   ],
   "source": [
    "plt.figure(figsize=(19,9))\n",
    "sns.scatterplot(data=df_hypothesis, x='ICE', y='RICE', hue='hypothesis', s=500)\n",
    "plt.show()"
   ]
  },
  {
   "cell_type": "markdown",
   "metadata": {},
   "source": [
    "**Вывод:**\n",
    "\n",
    "Мы провели визуализацию по приоретизации гипотез по методам RICE и ICE, значения которых находиться на координатах X и Y, по графику видно, что отмеченные гипотезы под номерами: 0, 7, 6 находятся на отличном уровне, чего нельзя сказать о четырех гипотезах под номерами: 4, 5, 3 и 1. "
   ]
  },
  {
   "cell_type": "markdown",
   "metadata": {},
   "source": [
    "## Анализ A/B теста"
   ]
  },
  {
   "cell_type": "markdown",
   "metadata": {},
   "source": [
    "Первым делом прочитаем файлы с полученными в ходе теста результатами. "
   ]
  },
  {
   "cell_type": "markdown",
   "metadata": {},
   "source": [
    "**ORDERS**"
   ]
  },
  {
   "cell_type": "code",
   "execution_count": 11,
   "metadata": {},
   "outputs": [],
   "source": [
    "orders = pd.read_csv('/datasets/orders.csv') # чтение файла с продажами"
   ]
  },
  {
   "cell_type": "code",
   "execution_count": 12,
   "metadata": {
    "scrolled": true
   },
   "outputs": [
    {
     "data": {
      "text/html": [
       "<div>\n",
       "<style scoped>\n",
       "    .dataframe tbody tr th:only-of-type {\n",
       "        vertical-align: middle;\n",
       "    }\n",
       "\n",
       "    .dataframe tbody tr th {\n",
       "        vertical-align: top;\n",
       "    }\n",
       "\n",
       "    .dataframe thead th {\n",
       "        text-align: right;\n",
       "    }\n",
       "</style>\n",
       "<table border=\"1\" class=\"dataframe\">\n",
       "  <thead>\n",
       "    <tr style=\"text-align: right;\">\n",
       "      <th></th>\n",
       "      <th>transactionId</th>\n",
       "      <th>visitorId</th>\n",
       "      <th>date</th>\n",
       "      <th>revenue</th>\n",
       "      <th>group</th>\n",
       "    </tr>\n",
       "  </thead>\n",
       "  <tbody>\n",
       "    <tr>\n",
       "      <th>0</th>\n",
       "      <td>3667963787</td>\n",
       "      <td>3312258926</td>\n",
       "      <td>2019-08-15</td>\n",
       "      <td>1650</td>\n",
       "      <td>B</td>\n",
       "    </tr>\n",
       "    <tr>\n",
       "      <th>1</th>\n",
       "      <td>2804400009</td>\n",
       "      <td>3642806036</td>\n",
       "      <td>2019-08-15</td>\n",
       "      <td>730</td>\n",
       "      <td>B</td>\n",
       "    </tr>\n",
       "    <tr>\n",
       "      <th>2</th>\n",
       "      <td>2961555356</td>\n",
       "      <td>4069496402</td>\n",
       "      <td>2019-08-15</td>\n",
       "      <td>400</td>\n",
       "      <td>A</td>\n",
       "    </tr>\n",
       "    <tr>\n",
       "      <th>3</th>\n",
       "      <td>3797467345</td>\n",
       "      <td>1196621759</td>\n",
       "      <td>2019-08-15</td>\n",
       "      <td>9759</td>\n",
       "      <td>B</td>\n",
       "    </tr>\n",
       "    <tr>\n",
       "      <th>4</th>\n",
       "      <td>2282983706</td>\n",
       "      <td>2322279887</td>\n",
       "      <td>2019-08-15</td>\n",
       "      <td>2308</td>\n",
       "      <td>B</td>\n",
       "    </tr>\n",
       "  </tbody>\n",
       "</table>\n",
       "</div>"
      ],
      "text/plain": [
       "   transactionId   visitorId        date  revenue group\n",
       "0     3667963787  3312258926  2019-08-15     1650     B\n",
       "1     2804400009  3642806036  2019-08-15      730     B\n",
       "2     2961555356  4069496402  2019-08-15      400     A\n",
       "3     3797467345  1196621759  2019-08-15     9759     B\n",
       "4     2282983706  2322279887  2019-08-15     2308     B"
      ]
     },
     "execution_count": 12,
     "metadata": {},
     "output_type": "execute_result"
    }
   ],
   "source": [
    "orders.head()"
   ]
  },
  {
   "cell_type": "markdown",
   "metadata": {},
   "source": [
    "Посмотрим основную информацию о данных в orders."
   ]
  },
  {
   "cell_type": "code",
   "execution_count": 13,
   "metadata": {},
   "outputs": [
    {
     "name": "stdout",
     "output_type": "stream",
     "text": [
      "<class 'pandas.core.frame.DataFrame'>\n",
      "RangeIndex: 1197 entries, 0 to 1196\n",
      "Data columns (total 5 columns):\n",
      " #   Column         Non-Null Count  Dtype \n",
      "---  ------         --------------  ----- \n",
      " 0   transactionId  1197 non-null   int64 \n",
      " 1   visitorId      1197 non-null   int64 \n",
      " 2   date           1197 non-null   object\n",
      " 3   revenue        1197 non-null   int64 \n",
      " 4   group          1197 non-null   object\n",
      "dtypes: int64(3), object(2)\n",
      "memory usage: 46.9+ KB\n"
     ]
    }
   ],
   "source": [
    "orders.info()"
   ]
  },
  {
   "cell_type": "markdown",
   "metadata": {},
   "source": [
    "Видим, что у столбца с датами тип данных object, исправим это. Также изменим названия столбцов, чтобы все было по Госту."
   ]
  },
  {
   "cell_type": "code",
   "execution_count": 14,
   "metadata": {},
   "outputs": [],
   "source": [
    "orders.columns = orders.columns.str.lower() # приводим к нижнему регистру"
   ]
  },
  {
   "cell_type": "code",
   "execution_count": 15,
   "metadata": {},
   "outputs": [],
   "source": [
    "orders.rename(columns = {'transactionid' : 'transaction_id', 'visitorid' : 'visitor_id'}, inplace = True) "
   ]
  },
  {
   "cell_type": "code",
   "execution_count": 16,
   "metadata": {
    "scrolled": true
   },
   "outputs": [
    {
     "data": {
      "text/plain": [
       "Index(['transaction_id', 'visitor_id', 'date', 'revenue', 'group'], dtype='object')"
      ]
     },
     "execution_count": 16,
     "metadata": {},
     "output_type": "execute_result"
    }
   ],
   "source": [
    "orders.columns # проверка названий после изменений"
   ]
  },
  {
   "cell_type": "markdown",
   "metadata": {},
   "source": [
    "Успех, далее приведем даты к необходимому типу данных."
   ]
  },
  {
   "cell_type": "code",
   "execution_count": 17,
   "metadata": {},
   "outputs": [],
   "source": [
    "orders['date'] = pd.to_datetime(orders['date'])"
   ]
  },
  {
   "cell_type": "markdown",
   "metadata": {},
   "source": [
    "Посмотрим на основную информацию после изменений в датафрейме orders."
   ]
  },
  {
   "cell_type": "code",
   "execution_count": 18,
   "metadata": {
    "scrolled": false
   },
   "outputs": [
    {
     "name": "stdout",
     "output_type": "stream",
     "text": [
      "<class 'pandas.core.frame.DataFrame'>\n",
      "RangeIndex: 1197 entries, 0 to 1196\n",
      "Data columns (total 5 columns):\n",
      " #   Column          Non-Null Count  Dtype         \n",
      "---  ------          --------------  -----         \n",
      " 0   transaction_id  1197 non-null   int64         \n",
      " 1   visitor_id      1197 non-null   int64         \n",
      " 2   date            1197 non-null   datetime64[ns]\n",
      " 3   revenue         1197 non-null   int64         \n",
      " 4   group           1197 non-null   object        \n",
      "dtypes: datetime64[ns](1), int64(3), object(1)\n",
      "memory usage: 46.9+ KB\n"
     ]
    }
   ],
   "source": [
    "orders.info()"
   ]
  },
  {
   "cell_type": "markdown",
   "metadata": {},
   "source": [
    "Преобразование прошло успешно, посмотрим на максимальную и минимальную дату тестирования."
   ]
  },
  {
   "cell_type": "code",
   "execution_count": 19,
   "metadata": {},
   "outputs": [
    {
     "data": {
      "text/plain": [
       "min   2019-08-01\n",
       "max   2019-08-31\n",
       "Name: date, dtype: datetime64[ns]"
      ]
     },
     "execution_count": 19,
     "metadata": {},
     "output_type": "execute_result"
    }
   ],
   "source": [
    "orders['date'].agg(['min','max'])"
   ]
  },
  {
   "cell_type": "markdown",
   "metadata": {},
   "source": [
    "* Минимальная дата теста: 2019-08-01\n",
    "* Максимальная дата теста: 2019-08-31\n",
    "\n",
    "По полученной информации можно сделать вывод, что тест проходил один месяц."
   ]
  },
  {
   "cell_type": "markdown",
   "metadata": {},
   "source": [
    "Посмотрим на налчие дубликатов:"
   ]
  },
  {
   "cell_type": "code",
   "execution_count": 20,
   "metadata": {
    "scrolled": false
   },
   "outputs": [
    {
     "data": {
      "text/plain": [
       "nunique    1197\n",
       "count      1197\n",
       "Name: transaction_id, dtype: int64"
      ]
     },
     "execution_count": 20,
     "metadata": {},
     "output_type": "execute_result"
    }
   ],
   "source": [
    "orders['transaction_id'].agg(['nunique', 'count'])"
   ]
  },
  {
   "cell_type": "markdown",
   "metadata": {},
   "source": [
    "Дубликаты отсутствуют, все прошло успешно."
   ]
  },
  {
   "cell_type": "markdown",
   "metadata": {},
   "source": [
    "Далее посмотрим на соотношение по группам нашего теста."
   ]
  },
  {
   "cell_type": "code",
   "execution_count": 21,
   "metadata": {},
   "outputs": [],
   "source": [
    "test_group = orders.groupby(['group'], as_index=False)['visitor_id'].agg(['nunique', 'count']).reset_index()\n",
    "test_group.rename(columns={'nunique' : 'user_id', 'count' : 'orders'}, inplace=True)"
   ]
  },
  {
   "cell_type": "code",
   "execution_count": 22,
   "metadata": {
    "scrolled": true
   },
   "outputs": [
    {
     "data": {
      "text/html": [
       "<div>\n",
       "<style scoped>\n",
       "    .dataframe tbody tr th:only-of-type {\n",
       "        vertical-align: middle;\n",
       "    }\n",
       "\n",
       "    .dataframe tbody tr th {\n",
       "        vertical-align: top;\n",
       "    }\n",
       "\n",
       "    .dataframe thead th {\n",
       "        text-align: right;\n",
       "    }\n",
       "</style>\n",
       "<table border=\"1\" class=\"dataframe\">\n",
       "  <thead>\n",
       "    <tr style=\"text-align: right;\">\n",
       "      <th></th>\n",
       "      <th>group</th>\n",
       "      <th>user_id</th>\n",
       "      <th>orders</th>\n",
       "    </tr>\n",
       "  </thead>\n",
       "  <tbody>\n",
       "    <tr>\n",
       "      <th>0</th>\n",
       "      <td>A</td>\n",
       "      <td>503</td>\n",
       "      <td>557</td>\n",
       "    </tr>\n",
       "    <tr>\n",
       "      <th>1</th>\n",
       "      <td>B</td>\n",
       "      <td>586</td>\n",
       "      <td>640</td>\n",
       "    </tr>\n",
       "  </tbody>\n",
       "</table>\n",
       "</div>"
      ],
      "text/plain": [
       "  group  user_id  orders\n",
       "0     A      503     557\n",
       "1     B      586     640"
      ]
     },
     "execution_count": 22,
     "metadata": {},
     "output_type": "execute_result"
    }
   ],
   "source": [
    "test_group"
   ]
  },
  {
   "cell_type": "markdown",
   "metadata": {},
   "source": [
    "Получены следующие результаты: \n",
    "* Группа A - Число пользователей: 503, покупки пользователей: 557;\n",
    "* Группа B - Число пользоватеелй : 586, покупки пользователей: 640.\n",
    "\n",
    "\n",
    "* Всего пользователей в двух группах: 1089;\n",
    "* Всего покупок в двух группах: 1197."
   ]
  },
  {
   "cell_type": "markdown",
   "metadata": {},
   "source": [
    "Посмотрим есть ли пользователи которые попали в две группы теста."
   ]
  },
  {
   "cell_type": "code",
   "execution_count": 23,
   "metadata": {
    "scrolled": false
   },
   "outputs": [
    {
     "data": {
      "text/html": [
       "<div>\n",
       "<style scoped>\n",
       "    .dataframe tbody tr th:only-of-type {\n",
       "        vertical-align: middle;\n",
       "    }\n",
       "\n",
       "    .dataframe tbody tr th {\n",
       "        vertical-align: top;\n",
       "    }\n",
       "\n",
       "    .dataframe thead th {\n",
       "        text-align: right;\n",
       "    }\n",
       "</style>\n",
       "<table border=\"1\" class=\"dataframe\">\n",
       "  <thead>\n",
       "    <tr style=\"text-align: right;\">\n",
       "      <th></th>\n",
       "      <th>visitor_id</th>\n",
       "      <th>group</th>\n",
       "    </tr>\n",
       "  </thead>\n",
       "  <tbody>\n",
       "    <tr>\n",
       "      <th>2</th>\n",
       "      <td>8300375</td>\n",
       "      <td>2</td>\n",
       "    </tr>\n",
       "    <tr>\n",
       "      <th>44</th>\n",
       "      <td>199603092</td>\n",
       "      <td>2</td>\n",
       "    </tr>\n",
       "    <tr>\n",
       "      <th>51</th>\n",
       "      <td>232979603</td>\n",
       "      <td>2</td>\n",
       "    </tr>\n",
       "    <tr>\n",
       "      <th>55</th>\n",
       "      <td>237748145</td>\n",
       "      <td>2</td>\n",
       "    </tr>\n",
       "    <tr>\n",
       "      <th>66</th>\n",
       "      <td>276558944</td>\n",
       "      <td>2</td>\n",
       "    </tr>\n",
       "  </tbody>\n",
       "</table>\n",
       "</div>"
      ],
      "text/plain": [
       "    visitor_id  group\n",
       "2      8300375      2\n",
       "44   199603092      2\n",
       "51   232979603      2\n",
       "55   237748145      2\n",
       "66   276558944      2"
      ]
     },
     "execution_count": 23,
     "metadata": {},
     "output_type": "execute_result"
    }
   ],
   "source": [
    "visitor_double = orders.groupby(['visitor_id']).agg({'group' : 'nunique'}).reset_index()\n",
    "visitor_double.query('group > 1').head(5)"
   ]
  },
  {
   "cell_type": "markdown",
   "metadata": {},
   "source": [
    "Видим, что у нас встречаются пользователи из двух групп, посмотрим сколько их."
   ]
  },
  {
   "cell_type": "code",
   "execution_count": 24,
   "metadata": {
    "scrolled": true
   },
   "outputs": [
    {
     "name": "stdout",
     "output_type": "stream",
     "text": [
      "Количество пользователей которые попали в две группы теста: 58\n"
     ]
    }
   ],
   "source": [
    "print('Количество пользователей которые попали в две группы теста:', len(visitor_double.query('group > 1')))"
   ]
  },
  {
   "cell_type": "markdown",
   "metadata": {},
   "source": [
    "В наших данных достаточно большое количество людей которые попали в две группы. Достаточно не приятный момент так как 58 человек достаточно много для наших данных, но на данном этапе мы можем только убрать из данных тех пользователей, которые попали в две группы."
   ]
  },
  {
   "cell_type": "code",
   "execution_count": 25,
   "metadata": {},
   "outputs": [],
   "source": [
    "orders_new = orders.groupby('visitor_id')['group'].nunique().reset_index()\n",
    "orders_new = orders_new.query('group > 1') \n",
    "orders_new_1 = orders[~orders['visitor_id'].isin(orders_new.visitor_id)]"
   ]
  },
  {
   "cell_type": "code",
   "execution_count": 26,
   "metadata": {
    "scrolled": true
   },
   "outputs": [
    {
     "data": {
      "text/html": [
       "<div>\n",
       "<style scoped>\n",
       "    .dataframe tbody tr th:only-of-type {\n",
       "        vertical-align: middle;\n",
       "    }\n",
       "\n",
       "    .dataframe tbody tr th {\n",
       "        vertical-align: top;\n",
       "    }\n",
       "\n",
       "    .dataframe thead th {\n",
       "        text-align: right;\n",
       "    }\n",
       "</style>\n",
       "<table border=\"1\" class=\"dataframe\">\n",
       "  <thead>\n",
       "    <tr style=\"text-align: right;\">\n",
       "      <th></th>\n",
       "      <th>transaction_id</th>\n",
       "      <th>visitor_id</th>\n",
       "      <th>date</th>\n",
       "      <th>revenue</th>\n",
       "      <th>group</th>\n",
       "    </tr>\n",
       "  </thead>\n",
       "  <tbody>\n",
       "    <tr>\n",
       "      <th>0</th>\n",
       "      <td>3667963787</td>\n",
       "      <td>3312258926</td>\n",
       "      <td>2019-08-15</td>\n",
       "      <td>1650</td>\n",
       "      <td>B</td>\n",
       "    </tr>\n",
       "    <tr>\n",
       "      <th>1</th>\n",
       "      <td>2804400009</td>\n",
       "      <td>3642806036</td>\n",
       "      <td>2019-08-15</td>\n",
       "      <td>730</td>\n",
       "      <td>B</td>\n",
       "    </tr>\n",
       "    <tr>\n",
       "      <th>3</th>\n",
       "      <td>3797467345</td>\n",
       "      <td>1196621759</td>\n",
       "      <td>2019-08-15</td>\n",
       "      <td>9759</td>\n",
       "      <td>B</td>\n",
       "    </tr>\n",
       "    <tr>\n",
       "      <th>4</th>\n",
       "      <td>2282983706</td>\n",
       "      <td>2322279887</td>\n",
       "      <td>2019-08-15</td>\n",
       "      <td>2308</td>\n",
       "      <td>B</td>\n",
       "    </tr>\n",
       "    <tr>\n",
       "      <th>5</th>\n",
       "      <td>182168103</td>\n",
       "      <td>935554773</td>\n",
       "      <td>2019-08-15</td>\n",
       "      <td>2210</td>\n",
       "      <td>B</td>\n",
       "    </tr>\n",
       "  </tbody>\n",
       "</table>\n",
       "</div>"
      ],
      "text/plain": [
       "   transaction_id  visitor_id       date  revenue group\n",
       "0      3667963787  3312258926 2019-08-15     1650     B\n",
       "1      2804400009  3642806036 2019-08-15      730     B\n",
       "3      3797467345  1196621759 2019-08-15     9759     B\n",
       "4      2282983706  2322279887 2019-08-15     2308     B\n",
       "5       182168103   935554773 2019-08-15     2210     B"
      ]
     },
     "execution_count": 26,
     "metadata": {},
     "output_type": "execute_result"
    }
   ],
   "source": [
    "orders_new_1.head()"
   ]
  },
  {
   "cell_type": "markdown",
   "metadata": {},
   "source": [
    "Проверим наши данные на наличие пользователей которые попали в две группы теста."
   ]
  },
  {
   "cell_type": "code",
   "execution_count": 27,
   "metadata": {
    "scrolled": false
   },
   "outputs": [
    {
     "name": "stdout",
     "output_type": "stream",
     "text": [
      "Количество пользователей которые попали в две группы теста: 0\n"
     ]
    }
   ],
   "source": [
    "print('Количество пользователей которые попали в две группы теста:', len(orders_new_1.query('group == \"A\" and group == \"B\"')))"
   ]
  },
  {
   "cell_type": "code",
   "execution_count": 28,
   "metadata": {},
   "outputs": [
    {
     "data": {
      "text/plain": [
       "58"
      ]
     },
     "execution_count": 28,
     "metadata": {},
     "output_type": "execute_result"
    }
   ],
   "source": [
    "examination = orders['visitor_id'].nunique() - orders_new_1['visitor_id'].nunique() # проверка\n",
    "examination"
   ]
  },
  {
   "cell_type": "markdown",
   "metadata": {},
   "source": [
    "После фильтрации, пользователи, которые попали в две группы отсутствуют, но то, что мы столкнулись с такой проблемой несомненно не хорошо и было бы здорово исправить, чтобы пользователи попадали в одну группу и мы не теряли данные."
   ]
  },
  {
   "cell_type": "markdown",
   "metadata": {},
   "source": [
    "Посмотрим на соотношение по группам нашего теста после фильтрации пользователей."
   ]
  },
  {
   "cell_type": "code",
   "execution_count": 29,
   "metadata": {
    "scrolled": true
   },
   "outputs": [
    {
     "data": {
      "text/html": [
       "<div>\n",
       "<style scoped>\n",
       "    .dataframe tbody tr th:only-of-type {\n",
       "        vertical-align: middle;\n",
       "    }\n",
       "\n",
       "    .dataframe tbody tr th {\n",
       "        vertical-align: top;\n",
       "    }\n",
       "\n",
       "    .dataframe thead th {\n",
       "        text-align: right;\n",
       "    }\n",
       "</style>\n",
       "<table border=\"1\" class=\"dataframe\">\n",
       "  <thead>\n",
       "    <tr style=\"text-align: right;\">\n",
       "      <th></th>\n",
       "      <th>group</th>\n",
       "      <th>user_id</th>\n",
       "      <th>orders</th>\n",
       "    </tr>\n",
       "  </thead>\n",
       "  <tbody>\n",
       "    <tr>\n",
       "      <th>0</th>\n",
       "      <td>A</td>\n",
       "      <td>445</td>\n",
       "      <td>468</td>\n",
       "    </tr>\n",
       "    <tr>\n",
       "      <th>1</th>\n",
       "      <td>B</td>\n",
       "      <td>528</td>\n",
       "      <td>548</td>\n",
       "    </tr>\n",
       "  </tbody>\n",
       "</table>\n",
       "</div>"
      ],
      "text/plain": [
       "  group  user_id  orders\n",
       "0     A      445     468\n",
       "1     B      528     548"
      ]
     },
     "execution_count": 29,
     "metadata": {},
     "output_type": "execute_result"
    }
   ],
   "source": [
    "test_group_after = orders_new_1.groupby(('group'), as_index=False)['visitor_id'].agg(['nunique', 'count']).reset_index()\n",
    "test_group_after.rename(columns={'nunique' : 'user_id', 'count' : 'orders'}, inplace=True)\n",
    "test_group_after"
   ]
  },
  {
   "cell_type": "markdown",
   "metadata": {},
   "source": [
    "После фильтрации у нас многое изменилось и мы получили следующие результаты: \n",
    "\n",
    "* Группа A - Число пользователей: 445, покупки пользователей: 468;\n",
    "* Группа B - Число пользоватеелй : 528, покупки пользователей: 548.\n",
    "\n",
    "\n",
    "* Всего пользователей в двух группах: 973;\n",
    "* Всего покупок в двух группах: 1016."
   ]
  },
  {
   "cell_type": "markdown",
   "metadata": {},
   "source": [
    "**VISITORS**"
   ]
  },
  {
   "cell_type": "code",
   "execution_count": 30,
   "metadata": {},
   "outputs": [],
   "source": [
    "visitors = pd.read_csv('/datasets/visitors.csv') # чтение файла с визитами пользователей "
   ]
  },
  {
   "cell_type": "code",
   "execution_count": 31,
   "metadata": {
    "scrolled": true
   },
   "outputs": [
    {
     "data": {
      "text/html": [
       "<div>\n",
       "<style scoped>\n",
       "    .dataframe tbody tr th:only-of-type {\n",
       "        vertical-align: middle;\n",
       "    }\n",
       "\n",
       "    .dataframe tbody tr th {\n",
       "        vertical-align: top;\n",
       "    }\n",
       "\n",
       "    .dataframe thead th {\n",
       "        text-align: right;\n",
       "    }\n",
       "</style>\n",
       "<table border=\"1\" class=\"dataframe\">\n",
       "  <thead>\n",
       "    <tr style=\"text-align: right;\">\n",
       "      <th></th>\n",
       "      <th>date</th>\n",
       "      <th>group</th>\n",
       "      <th>visitors</th>\n",
       "    </tr>\n",
       "  </thead>\n",
       "  <tbody>\n",
       "    <tr>\n",
       "      <th>0</th>\n",
       "      <td>2019-08-01</td>\n",
       "      <td>A</td>\n",
       "      <td>719</td>\n",
       "    </tr>\n",
       "    <tr>\n",
       "      <th>1</th>\n",
       "      <td>2019-08-02</td>\n",
       "      <td>A</td>\n",
       "      <td>619</td>\n",
       "    </tr>\n",
       "    <tr>\n",
       "      <th>2</th>\n",
       "      <td>2019-08-03</td>\n",
       "      <td>A</td>\n",
       "      <td>507</td>\n",
       "    </tr>\n",
       "    <tr>\n",
       "      <th>3</th>\n",
       "      <td>2019-08-04</td>\n",
       "      <td>A</td>\n",
       "      <td>717</td>\n",
       "    </tr>\n",
       "    <tr>\n",
       "      <th>4</th>\n",
       "      <td>2019-08-05</td>\n",
       "      <td>A</td>\n",
       "      <td>756</td>\n",
       "    </tr>\n",
       "  </tbody>\n",
       "</table>\n",
       "</div>"
      ],
      "text/plain": [
       "         date group  visitors\n",
       "0  2019-08-01     A       719\n",
       "1  2019-08-02     A       619\n",
       "2  2019-08-03     A       507\n",
       "3  2019-08-04     A       717\n",
       "4  2019-08-05     A       756"
      ]
     },
     "execution_count": 31,
     "metadata": {},
     "output_type": "execute_result"
    }
   ],
   "source": [
    "visitors.head() # вывод первых пяти строк visitors"
   ]
  },
  {
   "cell_type": "markdown",
   "metadata": {},
   "source": [
    "Посмотрим основную информацию о данных в visitors."
   ]
  },
  {
   "cell_type": "code",
   "execution_count": 32,
   "metadata": {},
   "outputs": [
    {
     "name": "stdout",
     "output_type": "stream",
     "text": [
      "<class 'pandas.core.frame.DataFrame'>\n",
      "RangeIndex: 62 entries, 0 to 61\n",
      "Data columns (total 3 columns):\n",
      " #   Column    Non-Null Count  Dtype \n",
      "---  ------    --------------  ----- \n",
      " 0   date      62 non-null     object\n",
      " 1   group     62 non-null     object\n",
      " 2   visitors  62 non-null     int64 \n",
      "dtypes: int64(1), object(2)\n",
      "memory usage: 1.6+ KB\n"
     ]
    }
   ],
   "source": [
    "visitors.info()"
   ]
  },
  {
   "cell_type": "markdown",
   "metadata": {},
   "source": [
    "Названия столбцов нас устраивают, но необходимо изменить формат даты."
   ]
  },
  {
   "cell_type": "code",
   "execution_count": 33,
   "metadata": {},
   "outputs": [],
   "source": [
    "visitors['date'] = pd.to_datetime(visitors['date'])"
   ]
  },
  {
   "cell_type": "code",
   "execution_count": 34,
   "metadata": {
    "scrolled": true
   },
   "outputs": [
    {
     "name": "stdout",
     "output_type": "stream",
     "text": [
      "<class 'pandas.core.frame.DataFrame'>\n",
      "RangeIndex: 62 entries, 0 to 61\n",
      "Data columns (total 3 columns):\n",
      " #   Column    Non-Null Count  Dtype         \n",
      "---  ------    --------------  -----         \n",
      " 0   date      62 non-null     datetime64[ns]\n",
      " 1   group     62 non-null     object        \n",
      " 2   visitors  62 non-null     int64         \n",
      "dtypes: datetime64[ns](1), int64(1), object(1)\n",
      "memory usage: 1.6+ KB\n"
     ]
    }
   ],
   "source": [
    "visitors.info()"
   ]
  },
  {
   "cell_type": "markdown",
   "metadata": {},
   "source": [
    "Готово, предобработка закончена. Можно начать анализ A/B теста."
   ]
  },
  {
   "cell_type": "markdown",
   "metadata": {},
   "source": [
    "**Вывод:**\n",
    "\n",
    "В данном этапе мы поработали c файлами orders и visitors, в которых содержатся необходимые для анализа данные о пользователях и и их покупках. В ходе работы мы изменили типы данных и изменили названия столбцов, для более удобной работы. Также мы нашли достаточно неприятный результат - в данные попали 58 пользователей которые оказались в двух группах теста (A и B), таких пользователей мы убрали из анализа и по итогу у нас получилась такая картина:\n",
    "\n",
    "* Группа A - Число пользователей: 445, покупки пользователей: 468;\n",
    "* Группа B - Число пользоватеелй : 528, покупки пользователей: 548.\n",
    "\n",
    "\n",
    "* Всего пользователей в двух группах: 973;\n",
    "* Всего покупок в двух группах: 1016."
   ]
  },
  {
   "cell_type": "markdown",
   "metadata": {},
   "source": [
    "### График кумулятивной выручки по группам"
   ]
  },
  {
   "cell_type": "markdown",
   "metadata": {},
   "source": [
    "Прежде чем перейти к построению графиков кумулятивных метрик, необходимо создать датафрейм `cumulativeData` в которм будет содержаться следующая информация:\n",
    "\n",
    "* Дата;\n",
    "* Группа A/B-теста (A или B);\n",
    "* Общее количество заказов на указанную дату в указанной группе;\n",
    "* Общее количество пользователей, совершивших хотя бы один заказ, на указанную дату в указанной группе;\n",
    "* Общая выручка на указанную дату в указанной группе (средний чек);\n",
    "* Общее количество посетителей интернет-магазина на указанную дату в определённой группе.\n"
   ]
  },
  {
   "cell_type": "code",
   "execution_count": 35,
   "metadata": {},
   "outputs": [],
   "source": [
    "datesGroups = orders_new_1[['date', 'group']].drop_duplicates()\n",
    "\n",
    "ordersAggregated = datesGroups.apply(lambda x: orders_new_1[np.logical_and(orders_new_1['date'] <= x['date'], orders_new_1['group'] == x['group'])].agg({\n",
    "'date' : 'max',\n",
    "'group' : 'max',\n",
    "'transaction_id' : pd.Series.nunique,\n",
    "'visitor_id' : pd.Series.nunique,\n",
    "'revenue' : 'sum'}), axis=1).sort_values(by=['date','group']) # получаем агрегированные кумулятивные по дням данные о заказах "
   ]
  },
  {
   "cell_type": "code",
   "execution_count": 36,
   "metadata": {
    "scrolled": true
   },
   "outputs": [],
   "source": [
    "visitorsAggregated = datesGroups.apply(lambda x: visitors[np.logical_and(visitors['date'] <= x['date'], visitors['group'] == x['group'])].agg({\n",
    "'date' : 'max', \n",
    "'group' : 'max',\n",
    "'visitors' : 'sum'}), axis=1).sort_values(by=['date','group']) # получаем агрегированные кумулятивные по дням данные о посетителях интернет-магазина "
   ]
  },
  {
   "cell_type": "markdown",
   "metadata": {},
   "source": [
    "Объеденим полученные результаты в датафрейм cumulativeData с помощью метода merge и выведем первые пять строк."
   ]
  },
  {
   "cell_type": "code",
   "execution_count": 37,
   "metadata": {
    "scrolled": true
   },
   "outputs": [
    {
     "data": {
      "text/html": [
       "<div>\n",
       "<style scoped>\n",
       "    .dataframe tbody tr th:only-of-type {\n",
       "        vertical-align: middle;\n",
       "    }\n",
       "\n",
       "    .dataframe tbody tr th {\n",
       "        vertical-align: top;\n",
       "    }\n",
       "\n",
       "    .dataframe thead th {\n",
       "        text-align: right;\n",
       "    }\n",
       "</style>\n",
       "<table border=\"1\" class=\"dataframe\">\n",
       "  <thead>\n",
       "    <tr style=\"text-align: right;\">\n",
       "      <th></th>\n",
       "      <th>date</th>\n",
       "      <th>group</th>\n",
       "      <th>orders</th>\n",
       "      <th>buyers</th>\n",
       "      <th>revenue</th>\n",
       "      <th>visitors</th>\n",
       "    </tr>\n",
       "  </thead>\n",
       "  <tbody>\n",
       "    <tr>\n",
       "      <th>0</th>\n",
       "      <td>2019-08-01</td>\n",
       "      <td>A</td>\n",
       "      <td>23</td>\n",
       "      <td>19</td>\n",
       "      <td>142779</td>\n",
       "      <td>719</td>\n",
       "    </tr>\n",
       "    <tr>\n",
       "      <th>1</th>\n",
       "      <td>2019-08-01</td>\n",
       "      <td>B</td>\n",
       "      <td>17</td>\n",
       "      <td>17</td>\n",
       "      <td>59758</td>\n",
       "      <td>713</td>\n",
       "    </tr>\n",
       "    <tr>\n",
       "      <th>2</th>\n",
       "      <td>2019-08-02</td>\n",
       "      <td>A</td>\n",
       "      <td>42</td>\n",
       "      <td>36</td>\n",
       "      <td>234381</td>\n",
       "      <td>1338</td>\n",
       "    </tr>\n",
       "    <tr>\n",
       "      <th>3</th>\n",
       "      <td>2019-08-02</td>\n",
       "      <td>B</td>\n",
       "      <td>40</td>\n",
       "      <td>39</td>\n",
       "      <td>221801</td>\n",
       "      <td>1294</td>\n",
       "    </tr>\n",
       "    <tr>\n",
       "      <th>4</th>\n",
       "      <td>2019-08-03</td>\n",
       "      <td>A</td>\n",
       "      <td>66</td>\n",
       "      <td>60</td>\n",
       "      <td>346854</td>\n",
       "      <td>1845</td>\n",
       "    </tr>\n",
       "  </tbody>\n",
       "</table>\n",
       "</div>"
      ],
      "text/plain": [
       "        date group  orders  buyers  revenue  visitors\n",
       "0 2019-08-01     A      23      19   142779       719\n",
       "1 2019-08-01     B      17      17    59758       713\n",
       "2 2019-08-02     A      42      36   234381      1338\n",
       "3 2019-08-02     B      40      39   221801      1294\n",
       "4 2019-08-03     A      66      60   346854      1845"
      ]
     },
     "execution_count": 37,
     "metadata": {},
     "output_type": "execute_result"
    }
   ],
   "source": [
    "cumulativeData = ordersAggregated.merge(visitorsAggregated, left_on=['date', 'group'], right_on=['date', 'group']) # объединяем кумулятивные данные в одной таблице\n",
    "\n",
    "cumulativeData.columns =  ['date', 'group', 'orders', 'buyers', 'revenue', 'visitors']\n",
    "\n",
    "cumulativeData.head(5)"
   ]
  },
  {
   "cell_type": "markdown",
   "metadata": {},
   "source": [
    "Успех, далее на основе датафрейма cumulativeData можем строить график который будет отражать кумулятивную выручку двух групп A и B."
   ]
  },
  {
   "cell_type": "code",
   "execution_count": 72,
   "metadata": {},
   "outputs": [
    {
     "data": {
      "image/png": "[encoded data removed]",
      "text/plain": [
       "<Figure size 1080x360 with 1 Axes>"
      ]
     },
     "metadata": {
      "needs_background": "light"
     },
     "output_type": "display_data"
    }
   ],
   "source": [
    "cumulativeRevenueA = cumulativeData[cumulativeData['group'] == 'A'][['date','revenue','orders']] # кумулятивная выручка группы A\n",
    "cumulativeRevenueB = cumulativeData[cumulativeData['group'] == 'B'][['date','revenue','orders']] # кумулятивная выручка группы B\n",
    "\n",
    "plt.figure(figsize=(15,5))\n",
    "plt.title('График кумулятивной выручки')\n",
    "plt.xlabel('Дата')\n",
    "plt.ylabel('Выручка, руб.')\n",
    "plt.grid(True)\n",
    "plt.plot(cumulativeRevenueA['date'], cumulativeRevenueA['revenue'], label='A')\n",
    "plt.plot(cumulativeRevenueB['date'], cumulativeRevenueB['revenue'], label='B')\n",
    "plt.legend()\n",
    "plt.show()"
   ]
  },
  {
   "cell_type": "markdown",
   "metadata": {},
   "source": [
    "**Вывод:**\n",
    "\n",
    "После построения графика кумулятивной выручки можно сказать, что до 18 августа заметных отличий в группах не было, но на 19 августа произошел резкий скачок общей выручки в группе B, это могло произойти по причине крупного чека в группе, либо по причине большого числа заказов в магазине. После 19 августа наплюдается постепенное увеличение выручки в двух группах без резких скачков."
   ]
  },
  {
   "cell_type": "markdown",
   "metadata": {},
   "source": [
    "###  График кумулятивного среднего чека по группам"
   ]
  },
  {
   "cell_type": "markdown",
   "metadata": {},
   "source": [
    "Построим график кумулятивного среднего чека по группам:"
   ]
  },
  {
   "cell_type": "code",
   "execution_count": 73,
   "metadata": {},
   "outputs": [
    {
     "data": {
      "image/png": "[encoded data removed]",
      "text/plain": [
       "<Figure size 1080x360 with 1 Axes>"
      ]
     },
     "metadata": {
      "needs_background": "light"
     },
     "output_type": "display_data"
    }
   ],
   "source": [
    "plt.figure(figsize=(15,5))\n",
    "plt.title('График кумулятивного среднего чека')\n",
    "plt.xlabel('Дата')\n",
    "plt.ylabel('Средний чек, руб.')\n",
    "plt.grid(True)\n",
    "plt.plot(cumulativeRevenueA['date'], cumulativeRevenueA['revenue'] / cumulativeRevenueA['orders'], label = 'A')\n",
    "plt.plot(cumulativeRevenueB['date'], cumulativeRevenueB['revenue'] / cumulativeRevenueB['orders'], label = 'B')\n",
    "plt.legend()\n",
    "plt.show()"
   ]
  },
  {
   "cell_type": "markdown",
   "metadata": {},
   "source": [
    "**Вывод:**\n",
    "\n",
    "График кумулятивного среднего чека также показывает резкий скачок 19 августа, скорее всего крупный чек в этот день и был обозначен резким скачком на графике кумулятивной выручки, средний чек в этот день был более 10 000 руб., требуется анализ выбросов, чтобы увидеть результаты без сильных искажений."
   ]
  },
  {
   "cell_type": "markdown",
   "metadata": {},
   "source": [
    "### График относительного изменения кумулятивного среднего чека группы B к группе A"
   ]
  },
  {
   "cell_type": "markdown",
   "metadata": {},
   "source": [
    "Посмотрим на относительное изменение кумулятивного среднего чека группы B к группе A, благодоря этому мы наглядно увидим в какие дни были скачки среднего чека в группе B относительно средних чеков группы A."
   ]
  },
  {
   "cell_type": "code",
   "execution_count": 74,
   "metadata": {},
   "outputs": [
    {
     "data": {
      "image/png": "[encoded data removed]",
      "text/plain": [
       "<Figure size 1080x360 with 1 Axes>"
      ]
     },
     "metadata": {
      "needs_background": "light"
     },
     "output_type": "display_data"
    }
   ],
   "source": [
    "mergedCumulativeRevenue = cumulativeRevenueA.merge(cumulativeRevenueB, left_on='date', right_on='date', how='left', suffixes=['A', 'B'])\n",
    "\n",
    "plt.figure(figsize=(15,5))\n",
    "plt.title('График относительного изменения кумулятивного среднего чека группы B к группе A')\n",
    "plt.xlabel('Дата')\n",
    "plt.ylabel('Относительное изменение, доли.ед.')\n",
    "plt.grid(True)\n",
    "plt.plot(mergedCumulativeRevenue['date'], (mergedCumulativeRevenue['revenueB']/mergedCumulativeRevenue['ordersB'])/(mergedCumulativeRevenue['revenueA']/mergedCumulativeRevenue['ordersA'])-1)\n",
    "plt.axhline(y=0, color='black', linestyle='--') \n",
    "plt.show()"
   ]
  },
  {
   "cell_type": "markdown",
   "metadata": {},
   "source": [
    "**Вывод:**\n",
    "\n",
    "Все как и предполагалось после построения первых графиков по нашим данным. Мы видим, что график относительного изменения кумулятивного среднего чека группы B к группе A резко меняется в разные дни. Далее мы рассмотрим на конверсию по группам."
   ]
  },
  {
   "cell_type": "markdown",
   "metadata": {},
   "source": [
    "### График кумулятивной конверсии по группам"
   ]
  },
  {
   "cell_type": "markdown",
   "metadata": {},
   "source": [
    "В этом этапе мы построим график кумулятивной конверсии по группам. Начнем с того, что добавим в наш датафрейм столбец conversion для этого необходимо поделить общее число заказов на количество пришедших пользователей в конкретный день."
   ]
  },
  {
   "cell_type": "code",
   "execution_count": 75,
   "metadata": {},
   "outputs": [
    {
     "data": {
      "image/png": "[encoded data removed]",
      "text/plain": [
       "<Figure size 1080x360 with 1 Axes>"
      ]
     },
     "metadata": {
      "needs_background": "light"
     },
     "output_type": "display_data"
    }
   ],
   "source": [
    "cumulativeData['conversion'] = cumulativeData['orders']/cumulativeData['visitors'] # считаем кумулятивную конверсию\n",
    "\n",
    "cumulativeDataA = cumulativeData[cumulativeData['group']=='A'] \n",
    "cumulativeDataB = cumulativeData[cumulativeData['group']=='B']\n",
    "\n",
    "plt.figure(figsize=(15,5))\n",
    "plt.title('График кумулятивной конверсии по группам')\n",
    "plt.xlabel('Дата')\n",
    "plt.ylabel('Значение конверсии, доли.ед.')\n",
    "plt.grid(True)\n",
    "plt.plot(cumulativeDataA['date'], cumulativeDataA['conversion'], label='A')\n",
    "plt.plot(cumulativeDataB['date'], cumulativeDataB['conversion'], label='B')\n",
    "plt.legend()\n",
    "\n",
    "plt.axis([dt.datetime(2019, 8, 1), dt.datetime(2019, 9, 1), 0, 0.05])\n",
    "plt.show()"
   ]
  },
  {
   "cell_type": "markdown",
   "metadata": {},
   "source": [
    "**Вывод:**\n",
    "\n",
    "В начале теста группа B имела конверсию меньше, чем группа A, но после 6 августа группы поменялись ролями по показателю кумулятивной конверсии и в течении остального периода показатель конверсии в группе B был выше. Далее мы посмотрим на относительное изменение и узнаем на сколько процентов составляет прирост конверсии в группе B."
   ]
  },
  {
   "cell_type": "markdown",
   "metadata": {},
   "source": [
    "### График относительного изменения кумулятивной конверсии группы B к группе A"
   ]
  },
  {
   "cell_type": "markdown",
   "metadata": {},
   "source": [
    "В данном этапе посмотрим на очень важный график относительного изменения кумулятивной конверсии группы B к группе A и узнаем насколько отличалась кумулятивная конверсия в группах. "
   ]
  },
  {
   "cell_type": "code",
   "execution_count": 76,
   "metadata": {},
   "outputs": [
    {
     "data": {
      "image/png": "[encoded data removed]",
      "text/plain": [
       "<Figure size 1080x360 with 1 Axes>"
      ]
     },
     "metadata": {
      "needs_background": "light"
     },
     "output_type": "display_data"
    }
   ],
   "source": [
    "mergedCumulativeConversions = cumulativeDataA[['date','conversion']].merge(cumulativeDataB[['date','conversion']],\n",
    "left_on='date', right_on='date', how='left', suffixes=['A', 'B'])\n",
    "\n",
    "plt.figure(figsize=(15,5))\n",
    "plt.title('График относительного изменения кумулятивной конверсии группы B к группе A')\n",
    "plt.xlabel('Дата')\n",
    "plt.ylabel('Относительное изменение, доли.ед.')\n",
    "plt.grid(True)\n",
    "plt.plot(mergedCumulativeConversions['date'], mergedCumulativeConversions['conversionB']/mergedCumulativeConversions['conversionA']-1, label=\"Относительный прирост конверсии группы B относительно группы A\")\n",
    "plt.axhline(y=0, color='black', linestyle='--')\n",
    "plt.axhline(y=0.1, color='grey', linestyle='--')\n",
    "plt.axis([dt.datetime(2019, 8, 1), dt.datetime(2019, 9, 1), -0.5, 0.5])\n",
    "plt.legend()\n",
    "plt.show()"
   ]
  },
  {
   "cell_type": "markdown",
   "metadata": {},
   "source": [
    "**Вывод:**\n",
    "\n",
    "В начале теста показатель конверсии группы B был меньше чем у группы A, но после 6 августа и до конца месяца конверсия группы B значительно преобладала. Относительный прирост группы B на конец периода составил примерно 18%, примерно такое же значение показателя было 11 августа и с тех пор показатель относительного прироста конверсии группы B стабильно был выше 10%, это безусловно хорошее изменение."
   ]
  },
  {
   "cell_type": "markdown",
   "metadata": {},
   "source": [
    "### Точечный график количества заказов по пользователям"
   ]
  },
  {
   "cell_type": "markdown",
   "metadata": {},
   "source": [
    "Для начала найдем число заказов по пользователям, отсортируем по столбец с заказами убыванию и посмотрим на первую пятерку пользователей с самым большим числом заказов, скорее всего это и будут \"шумные пользователи\"."
   ]
  },
  {
   "cell_type": "code",
   "execution_count": 43,
   "metadata": {},
   "outputs": [
    {
     "data": {
      "text/html": [
       "<div>\n",
       "<style scoped>\n",
       "    .dataframe tbody tr th:only-of-type {\n",
       "        vertical-align: middle;\n",
       "    }\n",
       "\n",
       "    .dataframe tbody tr th {\n",
       "        vertical-align: top;\n",
       "    }\n",
       "\n",
       "    .dataframe thead th {\n",
       "        text-align: right;\n",
       "    }\n",
       "</style>\n",
       "<table border=\"1\" class=\"dataframe\">\n",
       "  <thead>\n",
       "    <tr style=\"text-align: right;\">\n",
       "      <th></th>\n",
       "      <th>user_id</th>\n",
       "      <th>orders</th>\n",
       "    </tr>\n",
       "  </thead>\n",
       "  <tbody>\n",
       "    <tr>\n",
       "      <th>908</th>\n",
       "      <td>3967698036</td>\n",
       "      <td>3</td>\n",
       "    </tr>\n",
       "    <tr>\n",
       "      <th>55</th>\n",
       "      <td>249864742</td>\n",
       "      <td>3</td>\n",
       "    </tr>\n",
       "    <tr>\n",
       "      <th>478</th>\n",
       "      <td>2108163459</td>\n",
       "      <td>3</td>\n",
       "    </tr>\n",
       "    <tr>\n",
       "      <th>687</th>\n",
       "      <td>2988190573</td>\n",
       "      <td>3</td>\n",
       "    </tr>\n",
       "    <tr>\n",
       "      <th>890</th>\n",
       "      <td>3908431265</td>\n",
       "      <td>3</td>\n",
       "    </tr>\n",
       "  </tbody>\n",
       "</table>\n",
       "</div>"
      ],
      "text/plain": [
       "        user_id  orders\n",
       "908  3967698036       3\n",
       "55    249864742       3\n",
       "478  2108163459       3\n",
       "687  2988190573       3\n",
       "890  3908431265       3"
      ]
     },
     "execution_count": 43,
     "metadata": {},
     "output_type": "execute_result"
    }
   ],
   "source": [
    "ordersByUsers = (\n",
    "    orders_new_1.groupby('visitor_id', as_index=False)\n",
    "    .agg({'transaction_id': 'nunique'})\n",
    ")\n",
    "ordersByUsers.columns = ['user_id', 'orders']\n",
    "\n",
    "ordersByUsers.sort_values(by='orders', ascending=False).head() "
   ]
  },
  {
   "cell_type": "markdown",
   "metadata": {},
   "source": [
    "В наших данных самыми активными пользователями оказались те, кто совершил три покупки. Построим график количества заказов на основе переменной ordersByUsers."
   ]
  },
  {
   "cell_type": "code",
   "execution_count": 77,
   "metadata": {
    "scrolled": false
   },
   "outputs": [
    {
     "data": {
      "image/png": "[encoded data removed]",
      "text/plain": [
       "<Figure size 1080x360 with 1 Axes>"
      ]
     },
     "metadata": {
      "needs_background": "light"
     },
     "output_type": "display_data"
    }
   ],
   "source": [
    "plt.figure(figsize=(15,5))\n",
    "plt.title('Точечный график количества заказов по пользователям')\n",
    "plt.xlabel('Уникальные покупатели')\n",
    "plt.ylabel('Кол-во заказов, ед.')\n",
    "x_values = pd.Series(range(0, len(ordersByUsers)))\n",
    "plt.scatter(x_values, ordersByUsers['orders'])\n",
    "plt.show()"
   ]
  },
  {
   "cell_type": "markdown",
   "metadata": {},
   "source": [
    "Видим малое количество пользователей которые совершили более двух заказов, посмотрим сколько таких пользователей."
   ]
  },
  {
   "cell_type": "code",
   "execution_count": 45,
   "metadata": {
    "scrolled": false
   },
   "outputs": [
    {
     "name": "stdout",
     "output_type": "stream",
     "text": [
      "Количество пользователей с двумя и более заказами: 36\n"
     ]
    }
   ],
   "source": [
    "print('Количество пользователей с двумя и более заказами:', len(ordersByUsers.query('orders >= 2')))"
   ]
  },
  {
   "cell_type": "markdown",
   "metadata": {},
   "source": [
    "Всего 36 пользователей сделали на сайте два или три заказа, учитывая колличество всех пользователей это достаточно маленькая доля пользователей (около 3 %), подробно разберем этот момент в следующем шаге."
   ]
  },
  {
   "cell_type": "markdown",
   "metadata": {},
   "source": [
    "**Вывод:**\n",
    "\n",
    "Рассмотрев точечный график количества заказов по пользователям мы увидели, что более трех покупок никто из пользователей не совершал, а две и более покупки совершали всего 36 пользователей. В основном мы видим сплошную линию на графике напротив цифры 1 и очень редкие точки напротив двух заказов, предполагаю, что те пользователи которые совершили 2 или 3 заказа являются \"шумными\"."
   ]
  },
  {
   "cell_type": "markdown",
   "metadata": {},
   "source": [
    "### Перцентили количества заказов на пользователя"
   ]
  },
  {
   "cell_type": "markdown",
   "metadata": {},
   "source": [
    "На данном этапе необходимо найти 95 и 99 прецентили, найдем их с помощью метода `np.percentile`. С помощью полученных данных сделаем вывод об аномальном числе заказов, в будущем это позволит нам отсечь шумы."
   ]
  },
  {
   "cell_type": "code",
   "execution_count": 46,
   "metadata": {},
   "outputs": [
    {
     "name": "stdout",
     "output_type": "stream",
     "text": [
      "        user_id  orders\n",
      "908  3967698036       3\n",
      "55    249864742       3\n",
      "478  2108163459       3\n",
      "687  2988190573       3\n",
      "890  3908431265       3\n",
      "\n",
      "[1. 2.]\n"
     ]
    }
   ],
   "source": [
    "print(ordersByUsers.sort_values(by='orders', ascending=False).head(5))\n",
    "print()\n",
    "print(np.percentile(ordersByUsers['orders'], [95, 99]))"
   ]
  },
  {
   "cell_type": "markdown",
   "metadata": {},
   "source": [
    "**Вывод:**\n",
    "\n",
    "Мы нашли 95 и 99 прецентиль и узнали, что не более 5 % пользователей совершили более 2 заказов, и менее 1 процента пользователей совершили 3 заказа. Если 3 заказа на одного пользователя по нашим данным это очень редкий показатель, то насчет 2 заказов мы не можем так сказать, более трех процентов пользователей сделали 2 заказа, учтем это в будущих этапах."
   ]
  },
  {
   "cell_type": "markdown",
   "metadata": {},
   "source": [
    "### Точечный график стоимостей заказов"
   ]
  },
  {
   "cell_type": "markdown",
   "metadata": {},
   "source": [
    "На данном этапе найдем 95 и 99 прецентили стоимости заказов. С помощью полученных данных также сделаем вывод об аномальной стоимости заказов."
   ]
  },
  {
   "cell_type": "code",
   "execution_count": 78,
   "metadata": {},
   "outputs": [
    {
     "data": {
      "image/png": "[encoded data removed]",
      "text/plain": [
       "<Figure size 1080x360 with 1 Axes>"
      ]
     },
     "metadata": {
      "needs_background": "light"
     },
     "output_type": "display_data"
    }
   ],
   "source": [
    "x_values = pd.Series(range(0, len(orders_new_1['revenue'])))\n",
    "\n",
    "plt.figure(figsize=(15,5))\n",
    "plt.title('Точечный график стоимостей заказов')\n",
    "plt.xlabel('Число заказов')\n",
    "plt.ylabel('Стоимость, руб.')\n",
    "plt.scatter(x_values, orders_new_1['revenue'])\n",
    "plt.show()"
   ]
  },
  {
   "cell_type": "markdown",
   "metadata": {},
   "source": [
    "Все точки на графике слиплись в кучу кроме двух точек которые отлетели от огромного числа заказов, посмотрим 99 прецентиль и определим границу по которой мы построим новый график и уже на его основе будем делать выводы."
   ]
  },
  {
   "cell_type": "code",
   "execution_count": 48,
   "metadata": {
    "scrolled": true
   },
   "outputs": [
    {
     "data": {
      "text/plain": [
       "53904.0"
      ]
     },
     "execution_count": 48,
     "metadata": {},
     "output_type": "execute_result"
    }
   ],
   "source": [
    "np.percentile(orders_new_1['revenue'], 99) # смотрим адекватную границу по которой будем строить новый точечный график"
   ]
  },
  {
   "cell_type": "markdown",
   "metadata": {},
   "source": [
    "Не более 1 процента пользователей совершали заказ стоимостью более 53 904 рубля. Построим новый график с учетом 99 прецентиля, он станет более наглядным."
   ]
  },
  {
   "cell_type": "code",
   "execution_count": 79,
   "metadata": {},
   "outputs": [
    {
     "data": {
      "image/png": "[encoded data removed]",
      "text/plain": [
       "<Figure size 1080x360 with 1 Axes>"
      ]
     },
     "metadata": {
      "needs_background": "light"
     },
     "output_type": "display_data"
    }
   ],
   "source": [
    "x_values = pd.Series(range(0, len(orders_new_1['revenue'])))\n",
    "\n",
    "plt.figure(figsize=(15,5))\n",
    "plt.title('Точечный график стоимостей заказов')\n",
    "plt.xlabel('Число заказов')\n",
    "plt.ylabel('Стоимость, руб.')\n",
    "plt.ylim(0, 54000)\n",
    "plt.scatter(x_values, orders_new_1['revenue'])\n",
    "plt.show()"
   ]
  },
  {
   "cell_type": "markdown",
   "metadata": {},
   "source": [
    "**Вывод:**\n",
    "\n",
    "Убрав дорогие заказы, с помощью 99 прецентиля мы получили сумму 53 904 рубля и построили новый график на котором наглядно видно как расположены точки, до 5 тысяч рублей очень много заказов, после 20 тысяч точки начинают редеют, но надо смотреть прецентили, займемся этим в следующем шаге. За аномальные заказы примем заказы дороже 42 тысяч рублей, так как заказов до этой сумм не так уж и мало."
   ]
  },
  {
   "cell_type": "markdown",
   "metadata": {},
   "source": [
    "### Перцентили стоимости заказов"
   ]
  },
  {
   "cell_type": "markdown",
   "metadata": {},
   "source": [
    "Как и на предыдущем этапе будем искать прецентили, но на этот раз по показателю стоимости одного заказа, начнем."
   ]
  },
  {
   "cell_type": "code",
   "execution_count": 50,
   "metadata": {
    "scrolled": false
   },
   "outputs": [
    {
     "name": "stdout",
     "output_type": "stream",
     "text": [
      "      transaction_id  visitor_id       date  revenue group\n",
      "425        590470918  1920142716 2019-08-19  1294500     B\n",
      "1196      3936777065  2108080724 2019-08-15   202740     B\n",
      "1136       666610489  1307669133 2019-08-13    92550     A\n",
      "744       3668308183   888512513 2019-08-27    86620     B\n",
      "743       3603576309  4133034833 2019-08-09    67990     A\n",
      "1103      1348774318  1164614297 2019-08-12    66350     A\n",
      "1099       316924019   148427295 2019-08-12    65710     A\n",
      "949       1347999392   887908475 2019-08-21    60450     A\n",
      "940       2420050534  4003628586 2019-08-08    58550     B\n",
      "131       3163614039  2254586615 2019-08-22    53904     A\n",
      "\n",
      "[26785. 53904.]\n"
     ]
    }
   ],
   "source": [
    "print(orders_new_1.sort_values(by='revenue', ascending=False).head(10))\n",
    "print()\n",
    "print(np.percentile(orders_new_1['revenue'], [95, 99]))"
   ]
  },
  {
   "cell_type": "markdown",
   "metadata": {},
   "source": [
    "Видим огромные заказы 1 294 500 и 202 740 рублей, что однозначно является аномалией. "
   ]
  },
  {
   "cell_type": "markdown",
   "metadata": {},
   "source": [
    "В предыдущем шаге мы определили, что заказы до 42 000 рублей являются нормальными, посмотрим на прецентиль по этой сумме."
   ]
  },
  {
   "cell_type": "code",
   "execution_count": 51,
   "metadata": {},
   "outputs": [
    {
     "name": "stdout",
     "output_type": "stream",
     "text": [
      "[42353.]\n"
     ]
    }
   ],
   "source": [
    "print(np.percentile(orders_new_1['revenue'], [98]))"
   ]
  },
  {
   "cell_type": "markdown",
   "metadata": {},
   "source": [
    "**Вывод:**\n",
    "\n",
    "Мы нашли 95 и 99 прецентиль и узнали, что не более 5 % пользователей потратили на один заказ более 26 785 рублей, и менее 1 процента пользователей сделали заказ на сумму более 53 904 рубля. По границе которую мы определили как аномальную был рассмотрен еще 98 прецентиль и мы узнали, что 2 % пользователей потратили на один заказ более 42 353 рубля."
   ]
  },
  {
   "cell_type": "markdown",
   "metadata": {},
   "source": [
    "### Расчет статистической значимости различий в конверсии между группами по «сырым» данным"
   ]
  },
  {
   "cell_type": "markdown",
   "metadata": {},
   "source": [
    "Для начала мы создадим датафрейм с комулятивными показателями двух групп. Начнем работу с таблиц визитов пользователей."
   ]
  },
  {
   "cell_type": "code",
   "execution_count": 52,
   "metadata": {},
   "outputs": [],
   "source": [
    "visitors_a = visitors.query('group == \"A\"')[['date', 'visitors']] "
   ]
  },
  {
   "cell_type": "code",
   "execution_count": 53,
   "metadata": {},
   "outputs": [],
   "source": [
    "visitors_a.columns = ['date', 'visitors_per_date_a']\n",
    "\n",
    "visitors_a_cummulative = visitors_a.apply(\n",
    "    lambda x: visitors_a[visitors_a['date'] <= x['date']].agg(\n",
    "        {'date': 'max', 'visitors_per_date_a': 'sum'}\n",
    "    ),\n",
    "    axis=1, \n",
    ") # находим сумму визитов пользователей группы A\n",
    "\n",
    "visitors_a_cummulative.columns = ['date', 'visitors_cummulative_a']"
   ]
  },
  {
   "cell_type": "markdown",
   "metadata": {},
   "source": [
    "Проделаем такой же порядок действий с группой B."
   ]
  },
  {
   "cell_type": "code",
   "execution_count": 54,
   "metadata": {},
   "outputs": [],
   "source": [
    "visitors_b = visitors.query('group == \"B\"')[['date', 'visitors']]"
   ]
  },
  {
   "cell_type": "code",
   "execution_count": 55,
   "metadata": {},
   "outputs": [],
   "source": [
    "visitors_b.columns = ['date', 'visitors_per_date_b']\n",
    "\n",
    "visitors_b_cummulative = visitors_b.apply(\n",
    "    lambda x: visitors_b[visitors_b['date'] <= x['date']].agg(\n",
    "        {'date': 'max', 'visitors_per_date_b': 'sum'}\n",
    "    ),\n",
    "    axis=1,\n",
    ") # находим сумму визитов пользователей группы B\n",
    "\n",
    "visitors_b_cummulative.columns = ['date', 'visitors_cummulative_b'] "
   ]
  },
  {
   "cell_type": "markdown",
   "metadata": {},
   "source": [
    "Далее поработаем с самими покупками пользователей, начнем с группы A."
   ]
  },
  {
   "cell_type": "code",
   "execution_count": 56,
   "metadata": {},
   "outputs": [],
   "source": [
    "orders_a_daily = (\n",
    "    orders_new_1[orders_new_1['group'] == 'A'][['date', 'transaction_id', 'visitor_id', 'revenue']]\n",
    "    .groupby('date', as_index=False)\n",
    "    .agg({'transaction_id': pd.Series.nunique, 'revenue': 'sum'})\n",
    ")\n",
    "orders_a_daily.columns = ['date', 'orders_per_date_a', 'revenue_per_date_a']\n",
    "\n",
    "orders_a_cummulative = orders_a_daily.apply(\n",
    "    lambda x: orders_a_daily[orders_a_daily['date'] <= x['date']].agg(\n",
    "        {'date': 'max', 'orders_per_date_a': 'sum', 'revenue_per_date_a': 'sum'}\n",
    "    ),\n",
    "    axis=1,\n",
    ").sort_values(by=['date']) # находим сумму выручки пользователей группы A\n",
    "\n",
    "orders_a_cummulative.columns = [\n",
    "    'date',\n",
    "    'orders_cummulative_a',\n",
    "    'revenue_cummulative_a',\n",
    "]"
   ]
  },
  {
   "cell_type": "markdown",
   "metadata": {},
   "source": [
    "Делаем аналогичные действия с группой B."
   ]
  },
  {
   "cell_type": "code",
   "execution_count": 57,
   "metadata": {},
   "outputs": [],
   "source": [
    "orders_b_daily = (\n",
    "    orders_new_1[orders_new_1['group'] == 'B'][['date', 'transaction_id', 'visitor_id', 'revenue']]\n",
    "    .groupby('date', as_index=False)\n",
    "    .agg({'transaction_id': pd.Series.nunique, 'revenue': 'sum'})\n",
    ")\n",
    "orders_b_daily.columns = ['date', 'orders_per_date_b', 'revenue_per_date_b']\n",
    "\n",
    "orders_b_cummulative = orders_b_daily.apply(\n",
    "    lambda x: orders_b_daily[orders_b_daily['date'] <= x['date']].agg(\n",
    "        {'date': 'max', 'orders_per_date_b': 'sum', 'revenue_per_date_b': 'sum'}\n",
    "    ),\n",
    "    axis=1,\n",
    ").sort_values(by=['date']) # находим сумму выручки пользователей группы B\n",
    "\n",
    "orders_b_cummulative.columns = [\n",
    "    'date',\n",
    "    'orders_cummulative_b',\n",
    "    'revenue_cummulative_b',\n",
    "]"
   ]
  },
  {
   "cell_type": "markdown",
   "metadata": {},
   "source": [
    "Начнем объединять наши таблицы в одну с помощью метода merge, назовем новый датафрейм `data`."
   ]
  },
  {
   "cell_type": "code",
   "execution_count": 58,
   "metadata": {},
   "outputs": [],
   "source": [
    "data = (\n",
    "    orders_a_daily.merge(\n",
    "        orders_b_daily, left_on='date', right_on='date', how='left'\n",
    "    )\n",
    "    .merge(orders_a_cummulative, left_on='date', right_on='date', how='left')\n",
    "    .merge(orders_b_cummulative, left_on='date', right_on='date', how='left')\n",
    "    .merge(visitors_a, left_on='date', right_on='date', how='left')\n",
    "    .merge(visitors_b, left_on='date', right_on='date', how='left')\n",
    "    .merge(visitors_a_cummulative, left_on='date', right_on='date', how='left')\n",
    "    .merge(visitors_b_cummulative, left_on='date', right_on='date', how='left')\n",
    ")"
   ]
  },
  {
   "cell_type": "markdown",
   "metadata": {},
   "source": [
    "Посмотрим на наш новый датафрейм, выведем первые две строчки."
   ]
  },
  {
   "cell_type": "code",
   "execution_count": 59,
   "metadata": {
    "scrolled": true
   },
   "outputs": [
    {
     "data": {
      "text/html": [
       "<div>\n",
       "<style scoped>\n",
       "    .dataframe tbody tr th:only-of-type {\n",
       "        vertical-align: middle;\n",
       "    }\n",
       "\n",
       "    .dataframe tbody tr th {\n",
       "        vertical-align: top;\n",
       "    }\n",
       "\n",
       "    .dataframe thead th {\n",
       "        text-align: right;\n",
       "    }\n",
       "</style>\n",
       "<table border=\"1\" class=\"dataframe\">\n",
       "  <thead>\n",
       "    <tr style=\"text-align: right;\">\n",
       "      <th></th>\n",
       "      <th>date</th>\n",
       "      <th>orders_per_date_a</th>\n",
       "      <th>revenue_per_date_a</th>\n",
       "      <th>orders_per_date_b</th>\n",
       "      <th>revenue_per_date_b</th>\n",
       "      <th>orders_cummulative_a</th>\n",
       "      <th>revenue_cummulative_a</th>\n",
       "      <th>orders_cummulative_b</th>\n",
       "      <th>revenue_cummulative_b</th>\n",
       "      <th>visitors_per_date_a</th>\n",
       "      <th>visitors_per_date_b</th>\n",
       "      <th>visitors_cummulative_a</th>\n",
       "      <th>visitors_cummulative_b</th>\n",
       "    </tr>\n",
       "  </thead>\n",
       "  <tbody>\n",
       "    <tr>\n",
       "      <th>0</th>\n",
       "      <td>2019-08-01</td>\n",
       "      <td>23</td>\n",
       "      <td>142779</td>\n",
       "      <td>17</td>\n",
       "      <td>59758</td>\n",
       "      <td>23</td>\n",
       "      <td>142779</td>\n",
       "      <td>17</td>\n",
       "      <td>59758</td>\n",
       "      <td>719</td>\n",
       "      <td>713</td>\n",
       "      <td>719</td>\n",
       "      <td>713</td>\n",
       "    </tr>\n",
       "    <tr>\n",
       "      <th>1</th>\n",
       "      <td>2019-08-02</td>\n",
       "      <td>19</td>\n",
       "      <td>91602</td>\n",
       "      <td>23</td>\n",
       "      <td>162043</td>\n",
       "      <td>42</td>\n",
       "      <td>234381</td>\n",
       "      <td>40</td>\n",
       "      <td>221801</td>\n",
       "      <td>619</td>\n",
       "      <td>581</td>\n",
       "      <td>1338</td>\n",
       "      <td>1294</td>\n",
       "    </tr>\n",
       "  </tbody>\n",
       "</table>\n",
       "</div>"
      ],
      "text/plain": [
       "        date  orders_per_date_a  revenue_per_date_a  orders_per_date_b  \\\n",
       "0 2019-08-01                 23              142779                 17   \n",
       "1 2019-08-02                 19               91602                 23   \n",
       "\n",
       "   revenue_per_date_b  orders_cummulative_a  revenue_cummulative_a  \\\n",
       "0               59758                    23                 142779   \n",
       "1              162043                    42                 234381   \n",
       "\n",
       "   orders_cummulative_b  revenue_cummulative_b  visitors_per_date_a  \\\n",
       "0                    17                  59758                  719   \n",
       "1                    40                 221801                  619   \n",
       "\n",
       "   visitors_per_date_b  visitors_cummulative_a  visitors_cummulative_b  \n",
       "0                  713                     719                     713  \n",
       "1                  581                    1338                    1294  "
      ]
     },
     "execution_count": 59,
     "metadata": {},
     "output_type": "execute_result"
    }
   ],
   "source": [
    "data.head(2)"
   ]
  },
  {
   "cell_type": "markdown",
   "metadata": {},
   "source": [
    "Успех, также проверим последние две строки и убедимся, что в них содержится информация на последние числа августа."
   ]
  },
  {
   "cell_type": "code",
   "execution_count": 60,
   "metadata": {
    "scrolled": true
   },
   "outputs": [
    {
     "data": {
      "text/html": [
       "<div>\n",
       "<style scoped>\n",
       "    .dataframe tbody tr th:only-of-type {\n",
       "        vertical-align: middle;\n",
       "    }\n",
       "\n",
       "    .dataframe tbody tr th {\n",
       "        vertical-align: top;\n",
       "    }\n",
       "\n",
       "    .dataframe thead th {\n",
       "        text-align: right;\n",
       "    }\n",
       "</style>\n",
       "<table border=\"1\" class=\"dataframe\">\n",
       "  <thead>\n",
       "    <tr style=\"text-align: right;\">\n",
       "      <th></th>\n",
       "      <th>date</th>\n",
       "      <th>orders_per_date_a</th>\n",
       "      <th>revenue_per_date_a</th>\n",
       "      <th>orders_per_date_b</th>\n",
       "      <th>revenue_per_date_b</th>\n",
       "      <th>orders_cummulative_a</th>\n",
       "      <th>revenue_cummulative_a</th>\n",
       "      <th>orders_cummulative_b</th>\n",
       "      <th>revenue_cummulative_b</th>\n",
       "      <th>visitors_per_date_a</th>\n",
       "      <th>visitors_per_date_b</th>\n",
       "      <th>visitors_cummulative_a</th>\n",
       "      <th>visitors_cummulative_b</th>\n",
       "    </tr>\n",
       "  </thead>\n",
       "  <tbody>\n",
       "    <tr>\n",
       "      <th>29</th>\n",
       "      <td>2019-08-30</td>\n",
       "      <td>9</td>\n",
       "      <td>78180</td>\n",
       "      <td>21</td>\n",
       "      <td>209223</td>\n",
       "      <td>460</td>\n",
       "      <td>3311413</td>\n",
       "      <td>531</td>\n",
       "      <td>4955833</td>\n",
       "      <td>490</td>\n",
       "      <td>490</td>\n",
       "      <td>18037</td>\n",
       "      <td>18198</td>\n",
       "    </tr>\n",
       "    <tr>\n",
       "      <th>30</th>\n",
       "      <td>2019-08-31</td>\n",
       "      <td>8</td>\n",
       "      <td>53243</td>\n",
       "      <td>17</td>\n",
       "      <td>113139</td>\n",
       "      <td>468</td>\n",
       "      <td>3364656</td>\n",
       "      <td>548</td>\n",
       "      <td>5068972</td>\n",
       "      <td>699</td>\n",
       "      <td>718</td>\n",
       "      <td>18736</td>\n",
       "      <td>18916</td>\n",
       "    </tr>\n",
       "  </tbody>\n",
       "</table>\n",
       "</div>"
      ],
      "text/plain": [
       "         date  orders_per_date_a  revenue_per_date_a  orders_per_date_b  \\\n",
       "29 2019-08-30                  9               78180                 21   \n",
       "30 2019-08-31                  8               53243                 17   \n",
       "\n",
       "    revenue_per_date_b  orders_cummulative_a  revenue_cummulative_a  \\\n",
       "29              209223                   460                3311413   \n",
       "30              113139                   468                3364656   \n",
       "\n",
       "    orders_cummulative_b  revenue_cummulative_b  visitors_per_date_a  \\\n",
       "29                   531                4955833                  490   \n",
       "30                   548                5068972                  699   \n",
       "\n",
       "    visitors_per_date_b  visitors_cummulative_a  visitors_cummulative_b  \n",
       "29                  490                   18037                   18198  \n",
       "30                  718                   18736                   18916  "
      ]
     },
     "execution_count": 60,
     "metadata": {},
     "output_type": "execute_result"
    }
   ],
   "source": [
    "data.tail(2)"
   ]
  },
  {
   "cell_type": "markdown",
   "metadata": {},
   "source": [
    "С датафреймом все отлично, самое время определить гипотезы."
   ]
  },
  {
   "cell_type": "markdown",
   "metadata": {},
   "source": [
    "**Сформируем две гипотезы:**\n",
    "\n",
    "* H0 - конверсии в двух группах не различаются;\n",
    "* H1 - конверсии в двух группах различаются."
   ]
  },
  {
   "cell_type": "code",
   "execution_count": 61,
   "metadata": {
    "scrolled": true
   },
   "outputs": [
    {
     "name": "stdout",
     "output_type": "stream",
     "text": [
      "p-значение:  0.016851380434703023\n",
      "Отвергаем нулевую гипотезу: между долями есть значимая разница\n"
     ]
    }
   ],
   "source": [
    "alfa = 0.05\n",
    "purchases = np.array([468, 548])\n",
    "leads = np.array([18736, 18916])\n",
    "\n",
    "p1 = purchases[0] / leads[0] # пророрция успехов в группе А\n",
    "p2 = purchases[1] / leads[1] # пророрция успехов в группе B\n",
    "\n",
    "p_combined = (purchases[0] + purchases[1]) / (leads[0] + leads[1]) # пророрция успехов в двух группах\n",
    "\n",
    "difference = p1 - p2 # разница пропорций в датасете\n",
    "\n",
    "z_value = difference / mth.sqrt(p_combined * (1-p_combined) * (1/leads[0] + 1/leads[1])) # считаем статистику в ст.отклонениях нормального распределения\n",
    " \n",
    "distr = stats.norm(0, 1)\n",
    " \n",
    "p_value = (1 - distr.cdf(abs(z_value))) * 2\n",
    " \n",
    "print('p-значение: ', p_value)\n",
    " \n",
    "if p_value < alfa:\n",
    "    print('Отвергаем нулевую гипотезу: между долями есть значимая разница')\n",
    "else: \n",
    "    print('Не получилось отвергнуть нулевую гипотезу, нет оснований считать доли разными')"
   ]
  },
  {
   "cell_type": "code",
   "execution_count": 62,
   "metadata": {},
   "outputs": [
    {
     "name": "stdout",
     "output_type": "stream",
     "text": [
      "Относительный прирост конверсии группы B к конверсии группы A: 15.98%\n"
     ]
    }
   ],
   "source": [
    "relative = (p2 / p1) - 1 \n",
    "print('Относительный прирост конверсии группы B к конверсии группы A:', '{:.2%}'.format(relative))"
   ]
  },
  {
   "cell_type": "markdown",
   "metadata": {},
   "source": [
    "**Вывод:**\n",
    "\n",
    "В данном этапе мы отвергли нулевую гипотезу о том, что конверсии в двух группах не различаются. Также мы узнали, что относительный прирост конверсии группы B к конверсии группы A: 15.98%"
   ]
  },
  {
   "cell_type": "markdown",
   "metadata": {},
   "source": [
    "### Расчет статистической значимости различий в среднем чеке заказа между группами по «сырым» данным"
   ]
  },
  {
   "cell_type": "markdown",
   "metadata": {},
   "source": [
    "В этом этапе мы посмотрим на статистическую значимость различий в среднем чеке заказа между группами A и B по сырым данным. Первым делом займемся гипотезами."
   ]
  },
  {
   "cell_type": "markdown",
   "metadata": {},
   "source": [
    "Сформируем две гипотезы: \n",
    "\n",
    "* H0 - средний чек в двух группах не различается;\n",
    "* H1 - средний чек в двух группах различается."
   ]
  },
  {
   "cell_type": "code",
   "execution_count": 63,
   "metadata": {},
   "outputs": [
    {
     "name": "stdout",
     "output_type": "stream",
     "text": [
      "P-value: 0.829\n",
      "\n",
      "Относительное различие среднего чека между группами: 0.287\n"
     ]
    }
   ],
   "source": [
    "orders_by_users_a = (\n",
    "    orders_new_1[orders_new_1['group'] == 'A']\n",
    "    .groupby('visitor_id', as_index=False)\n",
    "    .agg({'transaction_id': pd.Series.nunique})\n",
    ")\n",
    "\n",
    "orders_by_users_a.columns = ['user_id', 'orders']\n",
    " \n",
    "    \n",
    "orders_by_users_b = (\n",
    "    orders_new_1[orders_new_1['group'] == 'B']\n",
    "    .groupby('visitor_id', as_index=False)\n",
    "    .agg({'transaction_id': pd.Series.nunique})\n",
    ")\n",
    "\n",
    "orders_by_users_b.columns = ['user_id', 'orders']\n",
    "\n",
    "\n",
    "print('P-value:','{0:.3f}'.format(stats.mannwhitneyu(orders_new_1[orders_new_1['group']=='A']['revenue'], orders_new_1[orders_new_1['group']=='B']['revenue'])[1]))\n",
    "print()\n",
    "print('Относительное различие среднего чека между группами:','{0:.3f}'.format(orders_new_1[orders_new_1['group']=='B']['revenue'].mean()/orders_new_1[orders_new_1['group']=='A']['revenue'].mean()-1)) "
   ]
  },
  {
   "cell_type": "markdown",
   "metadata": {},
   "source": [
    "**Вывод:**\n",
    "\n",
    "P-value значительно больше значения alpha(0.05) - это означает, что статестически значимых отличий между группами нет, не отвергаем нулевую гипотезу нулевую гипотезу. Относительное различие среднего чека между группами почти 28%, нельзя считать статистически значимым."
   ]
  },
  {
   "cell_type": "markdown",
   "metadata": {},
   "source": [
    "### Расчет статистической значимости различий в конверсии между группами по «очищенным» данным"
   ]
  },
  {
   "cell_type": "markdown",
   "metadata": {},
   "source": [
    "Прежде чем начать расчет стат.значимости, необходимо почистить наши данные от шумов."
   ]
  },
  {
   "cell_type": "markdown",
   "metadata": {},
   "source": [
    "**Чистка данных от шумов**"
   ]
  },
  {
   "cell_type": "markdown",
   "metadata": {},
   "source": [
    "На основе точечных графиков числа заказов и стоимости заказов, а так же прецентилей мы можем убрать аномальные заказы и почистить данные, займемся этим делом. За аномальные заказы примем тех пользователей, которые сделали три заказа и те заказы которые дороже 42 000 рублей."
   ]
  },
  {
   "cell_type": "code",
   "execution_count": 64,
   "metadata": {
    "scrolled": true
   },
   "outputs": [
    {
     "name": "stdout",
     "output_type": "stream",
     "text": [
      "1099    148427295\n",
      "33      249864742\n",
      "684     358944393\n",
      "648     382846391\n",
      "58      611059232\n",
      "dtype: int64\n"
     ]
    }
   ],
   "source": [
    "users_with_many_orders = pd.concat(\n",
    "    [\n",
    "        orders_by_users_a[orders_by_users_a['orders'] > 2]['user_id'],\n",
    "        orders_by_users_b[orders_by_users_b['orders'] > 2]['user_id'],\n",
    "    ],\n",
    "    axis=0,\n",
    ") # отсекаем пользователей с большим числом заказов\n",
    "\n",
    "users_with_expensive_orders = orders_new_1[orders_new_1['revenue'] > 42000]['visitor_id']  # отсекаем пользователей с дорогими заказами\n",
    "\n",
    "abnormal_users = (\n",
    "    pd.concat([users_with_many_orders, users_with_expensive_orders], axis=0)\n",
    "    .drop_duplicates()\n",
    "    .sort_values()\n",
    ")\n",
    "\n",
    "print(abnormal_users.head(5))"
   ]
  },
  {
   "cell_type": "markdown",
   "metadata": {},
   "source": [
    "Готово, на основе abnormal_users отфильтруем пользователей и проверим значимость с помощью теста Манна-Уитни, первым шагом сформируем гипотезы."
   ]
  },
  {
   "cell_type": "markdown",
   "metadata": {},
   "source": [
    "* H0 - после чистки датафрейма конверсии в двух группах не различается;\n",
    "* H1 - после чистки датафрейма конверсии в двух группах различается."
   ]
  },
  {
   "cell_type": "code",
   "execution_count": 65,
   "metadata": {
    "scrolled": true
   },
   "outputs": [
    {
     "name": "stdout",
     "output_type": "stream",
     "text": [
      "P-value: 0.00364\n",
      "\n",
      "Относительное различие конверсии между группами: 0.209\n"
     ]
    }
   ],
   "source": [
    "sample_a_filtered = pd.concat(\n",
    "    [\n",
    "        orders_by_users_a[\n",
    "            np.logical_not(orders_by_users_a['user_id'].isin(abnormal_users))\n",
    "        ]['orders'],\n",
    "        pd.Series(\n",
    "            0,\n",
    "            index=np.arange(\n",
    "                data['visitors_per_date_a'].sum() - len(orders_by_users_a['orders'])\n",
    "            ),\n",
    "            name='orders',\n",
    "        ),\n",
    "    ],\n",
    "    axis=0,\n",
    ")\n",
    "\n",
    "sample_b_filtered = pd.concat(\n",
    "    [\n",
    "        orders_by_users_b[\n",
    "            np.logical_not(orders_by_users_b['user_id'].isin(abnormal_users))\n",
    "        ]['orders'],\n",
    "        pd.Series(\n",
    "            0,\n",
    "            index=np.arange(\n",
    "                data['visitors_per_date_b'].sum() - len(orders_by_users_b['orders'])\n",
    "            ),\n",
    "            name='orders',\n",
    "        ),\n",
    "    ],\n",
    "    axis=0,\n",
    ")\n",
    "\n",
    "print('P-value:','{0:.5f}'.format(stats.mannwhitneyu(sample_a_filtered, sample_b_filtered)[1]))\n",
    "print()\n",
    "print('Относительное различие конверсии между группами:','{0:.3f}'.format(sample_b_filtered.mean()/sample_a_filtered.mean()-1)) "
   ]
  },
  {
   "cell_type": "markdown",
   "metadata": {},
   "source": [
    "**Вывод:**\n",
    "\n",
    "После получения результатов теста Манна-Уитни по очищеным данным, мы получили значение P-value: 0.00364, что меньше уровня alpha(0.05) и поэтому мы отвергаем нулевую гипотезу о том, что после чистки датафрейма конверсии в двух группах не различается. Также мы получили относительное различие между группами в 21%."
   ]
  },
  {
   "cell_type": "markdown",
   "metadata": {},
   "source": [
    "<div class=\"alert alert-block alert-success\">\n",
    "<b>Комментарий ревьюера✅:</b> Отлично👍"
   ]
  },
  {
   "cell_type": "markdown",
   "metadata": {},
   "source": [
    "<div class=\"alert alert-block alert-info\">\n",
    "<b>Комментарий студента:</b> \n",
    "☑️\n",
    "</div>"
   ]
  },
  {
   "cell_type": "markdown",
   "metadata": {},
   "source": [
    "### Расчет статистической значимости различий в среднем чеке заказа между группами по «очищенным» данным"
   ]
  },
  {
   "cell_type": "markdown",
   "metadata": {},
   "source": [
    "Определим гипотезы:\n",
    "    \n",
    "* H0 - после чистки датафрейма средний чек в двух группах не различается;\n",
    "* H1 - после чистки датафрейма средний чек в двух группах различается."
   ]
  },
  {
   "cell_type": "code",
   "execution_count": 66,
   "metadata": {},
   "outputs": [
    {
     "name": "stdout",
     "output_type": "stream",
     "text": [
      "P-value: 0.858\n",
      "\n",
      "Относительное различие среднего чека между группами: 0.079\n"
     ]
    }
   ],
   "source": [
    "print(\n",
    "    'P-value:',\n",
    "    '{0:.3f}'.format(\n",
    "        stats.mannwhitneyu(\n",
    "            orders_new_1[\n",
    "                np.logical_and(\n",
    "                    orders_new_1['group'] == 'A',\n",
    "                    np.logical_not(orders_new_1['visitor_id'].isin(abnormal_users)),\n",
    "                )\n",
    "            ]['revenue'],\n",
    "            orders_new_1[\n",
    "                np.logical_and(\n",
    "                    orders_new_1['group'] == 'B',\n",
    "                    np.logical_not(orders_new_1['visitor_id'].isin(abnormal_users)),\n",
    "                )\n",
    "            ]['revenue'],\n",
    "        )[1]\n",
    "    )\n",
    ")\n",
    "\n",
    "print()\n",
    "\n",
    "print(\n",
    "    'Относительное различие среднего чека между группами:',\n",
    "    \"{0:.3f}\".format(\n",
    "        orders_new_1[\n",
    "            np.logical_and(\n",
    "                orders_new_1['group'] == 'B',\n",
    "                np.logical_not(orders_new_1['visitor_id'].isin(abnormal_users)),\n",
    "            )\n",
    "        ]['revenue'].mean()\n",
    "        / orders_new_1[\n",
    "            np.logical_and(\n",
    "                orders_new_1['group'] == 'A',\n",
    "                np.logical_not(orders_new_1['visitor_id'].isin(abnormal_users)),\n",
    "            )\n",
    "        ]['revenue'].mean()\n",
    "        - 1\n",
    "    )\n",
    ") "
   ]
  },
  {
   "cell_type": "markdown",
   "metadata": {},
   "source": [
    "**Вывод:**\n",
    "\n",
    "После получения результатов теста Манна-Уитни по очищеным данным, мы получили значение P-value: 0.858 это говорит о том, что у нас не получилось отвергнуть нулевую гипотезу о том, что после чистки датафрейма средний чек в двух группах различается. Также мы получили относительное различие между группами в почти 8%, которое нельзя считать статестически значимым."
   ]
  },
  {
   "cell_type": "markdown",
   "metadata": {},
   "source": [
    "В нашем проекте была поставлена задача - принять решение после анализа результатов A/B теста. Решение будет расписано в итоговом выводе."
   ]
  },
  {
   "cell_type": "markdown",
   "metadata": {},
   "source": [
    "# Выводы по анализу A/B теста"
   ]
  },
  {
   "cell_type": "markdown",
   "metadata": {},
   "source": [
    "В данном проекте мы занимались приоретизацией гипотез по увеличению выручки интернет-магазина. Всего было 9 гипотез и мы провели приоретизацию с помощью фреймворков ICE и RICE. В ходе приоретизации мы выделили следующие гипотезы:\n",
    "\n",
    "* Добавить два новых канала привлечения трафика, что позволит привлекать на 30% больше пользователей;\n",
    "* Добавить форму подписки на все основные страницы, чтобы собрать базу клиентов для email-рассылок;\n",
    "* Показать на главной странице баннеры с актуальными акциями и распродажами, чтобы увеличить конверсию.\n",
    "\n",
    "Подробные расчеты расположены в самом первом этапе проекта, также в этом этапе расположена визуализация гипотез с помощью графика, где на осях расположились фреймворки RICE и ICE, а точками обозначены сами гипотезы.\n",
    "\n",
    "\n",
    "В ходе самого анализа A/B теста, расположенного во втором этапе проекта, первым делом мы принялись за обработку представленных данных с информацией о пользователях и их покупках (файлы `orders` и `visitors`) \n",
    "\n",
    "В ходе работы мы изменили типы данных и изменили названия столбцов, для более удобной работы, еще мы узнали, что тест проходил ровно один месяц с 2019-08-01 по 2019-08-31. Также мы нашли достаточно неприятный результат - в данные попали 58 пользователей которые оказались в двух группах теста (A и B), таких пользователей мы убрали из анализа и по итогу у нас получилась такая картина:\n",
    "\n",
    "* Группа A - Число пользователей: 445, покупки пользователей: 468;\n",
    "* Группа B - Число пользоватеелй : 528, покупки пользователей: 548.\n",
    "\n",
    "\n",
    "* Всего пользователей в двух группах: 973;\n",
    "* Всего покупок в двух группах: 1016.\n",
    "\n",
    "**Графики, расчеты и выводы:**\n",
    "\n",
    "`График кумулятивной выручки` показал, что до 18 августа заметных отличий в группах не было, но на 19 августа произошел резкий скачок общей выручки в группе B, что произошло по причине крупного чека в группе. После 19 августа наплюдается постепенное увеличение выручки в двух группах без резких скачков.\n",
    "\n",
    "`График кумулятивного среднего чека` также показывает резкий скачок 19 августа, крупный чек в этот день и был обозначен резким скачком на графике кумулятивной выручки, средний чек в этот день был более 10 000 руб.\n",
    "\n",
    "`График относительного изменения кумулятивного среднего чека группы B к группе A` резко меняется в разные дни, подобные колебания мы видели на предыдущих графиках.\n",
    "\n",
    "`График кумулятивной конверсии` показал, что в начале теста группа B имела конверсию меньше, чем группа A, но после 6 августа группы поменялись ролями и в течении остального периода показатель конверсии в группе B был выше. \n",
    "\n",
    "`График относительного изменения кумулятивной конверсии` показал, что в начале теста показатель конверсии группы B был меньше чем у группы A, но после 6 августа и до конца месяца конверсия группы B значительно преобладала. Относительный прирост группы B на конец периода составил примерно 18%, примерно такое же значение показателя было 11 августа и с тех пор показатель относительного прироста конверсии группы B стабильно был выше 10%.\n",
    "\n",
    "`Точечный график количества заказов по пользователям` показал, что более трех покупок никто из пользователей не совершал, а две и более покупки совершали всего 36 пользователей.\n",
    "\n",
    "`95-й и 99-й перцентили количества заказов на пользователя.` В ходе анализа мы нашли 95 и 99 прецентиль и узнали, что не более 5 % пользователей совершили более 2 заказов, и менее 1 процента пользователей совершили 3 заказа. Также мы узнали, что более трех процентов пользователей сделали 2 заказа, мы учли это для этапа чистки от шумов.\n",
    "\n",
    "`Точечный график стоимостей заказов` изначально был не информативен и с помощью 99 прецентиля мы получили сумму 53 904 рубля и построили новый точечный график на котором наглядно видно как расположены точки, до 5 тысяч рублей очень много заказов, после 20 тысяч точки начинают редеют. Визуально аномальной границей была отмечена сумма сверх 42 000 руб.\n",
    "\n",
    "`95-й и 99-й перцентили стоимости заказов.` Мы нашли 95 и 99 прецентиль и узнали, что не более 5 % пользователей потратили на один заказ более 26 785 рублей, и менее 1 процента пользователей сделали заказ на сумму более 53 904 рубля. По границе которую мы определили как аномальную был рассмотрен еще 98 прецентиль и мы узнали, что 2 % пользователей потратили на один заказ более 42 353 рубля.\n",
    "\n",
    "Далее мы провели расчет `статистической значимости различий конверсий между группами по «сырым» данным.` В ходе расчета мы отвергли нулевую гипотезу о том, что конверсии в двух группах не различаются. Также мы узнали, что относительный прирост конверсии группы B к конверсии группы A равен 15.98% и является стат. значимым.\n",
    "\n",
    "`Расчет статистической значимости различий в среднем чеке заказа между группами по «сырым» данным` показал, что статестически значимых отличий между группами нет. Относительное различие среднего чека между группами почти 28%, нельзя считать статистически значимым.\n",
    "\n",
    "*После проделанных расчетов мы принялись за чистку данных от аномалий. Делали это на основе точечных графиков и прецентилей числа заказов и стоимости заказов. За аномальные заказы мы приняли тех пользователей, которые сделали три заказа и те заказы которые дороже 42 000 рублей.*\n",
    "\n",
    "После чистки мы сделали `расчет статистической значимости различий в конверсии между группами по «очищенным» данным`. По итогам результата теста Манна-Уитни по очищеным данным, мы отвергли нулевую гипотезу о том, что после чистки датафрейма конверсии в двух группах не различается. Также мы получили относительное различие между группами в 21% это различие является стат.значимым.\n",
    "\n",
    "`Расчет статистической значимости различий в среднем чеке заказа между группами по «очищенным» данным`. После получения результатов теста Манна-Уитни по очищеным данным, мы получили значение P-value: 0.858 это говорит о том, что у нас не получилось отвергнуть нулевую гипотезу о том, что после чистки датафрейма средний чек в двух группах различается, вывод о различии между группами A и B сделать не можем. Также мы получили относительное различие между группами в почти 8%, которое нельзя считать статестически значимым.\n",
    "\n",
    "По итогу приведенных результатов мы узнали, что между конверсиями групп есть значимая разница и относительное различие в 21% в пользу группы B является стат.значимым. А при равном среднем чеке подтвержденном тестами и учете предыдущего вывода можем подвести итог о том, что группа B будет приносить больше выручки нашему бизнесу, чем группа A. Исходя из этого можем сделать `решение по результатам теста:` \n",
    "\n",
    "**Остановить тест, зафиксировать победу группы B**"
   ]
  }
 ],
 "metadata": {
  "ExecuteTimeLog": [
   {
    "duration": 1458,
    "start_time": "2022-06-15T15:59:58.982Z"
   },
   {
    "duration": 57,
    "start_time": "2022-06-15T16:07:28.727Z"
   },
   {
    "duration": 25,
    "start_time": "2022-06-15T16:08:29.934Z"
   },
   {
    "duration": 13,
    "start_time": "2022-06-15T16:08:52.762Z"
   },
   {
    "duration": 9,
    "start_time": "2022-06-15T16:09:09.690Z"
   },
   {
    "duration": 4,
    "start_time": "2022-06-15T16:54:17.022Z"
   },
   {
    "duration": 9,
    "start_time": "2022-06-15T16:54:22.512Z"
   },
   {
    "duration": 129,
    "start_time": "2022-06-15T16:56:33.958Z"
   },
   {
    "duration": 34,
    "start_time": "2022-06-15T16:57:10.816Z"
   },
   {
    "duration": 58,
    "start_time": "2022-06-15T19:34:25.459Z"
   },
   {
    "duration": 1399,
    "start_time": "2022-06-15T19:34:36.180Z"
   },
   {
    "duration": 64,
    "start_time": "2022-06-15T19:34:37.581Z"
   },
   {
    "duration": 26,
    "start_time": "2022-06-15T19:34:37.647Z"
   },
   {
    "duration": 131,
    "start_time": "2022-06-15T19:34:37.676Z"
   },
   {
    "duration": 0,
    "start_time": "2022-06-15T19:34:37.809Z"
   },
   {
    "duration": 4,
    "start_time": "2022-06-15T19:34:47.821Z"
   },
   {
    "duration": 10,
    "start_time": "2022-06-15T19:34:52.217Z"
   },
   {
    "duration": 1165,
    "start_time": "2022-06-15T19:36:32.068Z"
   },
   {
    "duration": 26,
    "start_time": "2022-06-15T19:36:33.236Z"
   },
   {
    "duration": 15,
    "start_time": "2022-06-15T19:36:33.263Z"
   },
   {
    "duration": 4,
    "start_time": "2022-06-15T19:36:33.281Z"
   },
   {
    "duration": 16,
    "start_time": "2022-06-15T19:36:33.287Z"
   },
   {
    "duration": 7,
    "start_time": "2022-06-15T19:46:37.061Z"
   },
   {
    "duration": 122,
    "start_time": "2022-06-15T20:24:07.325Z"
   },
   {
    "duration": 5,
    "start_time": "2022-06-15T20:24:16.037Z"
   },
   {
    "duration": 5,
    "start_time": "2022-06-15T20:24:37.923Z"
   },
   {
    "duration": 9,
    "start_time": "2022-06-15T20:24:53.686Z"
   },
   {
    "duration": 5,
    "start_time": "2022-06-15T20:24:59.393Z"
   },
   {
    "duration": 3,
    "start_time": "2022-06-15T20:25:09.977Z"
   },
   {
    "duration": 16,
    "start_time": "2022-06-15T20:25:10.354Z"
   },
   {
    "duration": 1255,
    "start_time": "2022-06-15T20:25:21.165Z"
   },
   {
    "duration": 26,
    "start_time": "2022-06-15T20:25:22.422Z"
   },
   {
    "duration": 25,
    "start_time": "2022-06-15T20:25:22.450Z"
   },
   {
    "duration": 14,
    "start_time": "2022-06-15T20:25:22.477Z"
   },
   {
    "duration": 23,
    "start_time": "2022-06-15T20:25:22.495Z"
   },
   {
    "duration": 17,
    "start_time": "2022-06-15T20:25:22.521Z"
   },
   {
    "duration": 16,
    "start_time": "2022-06-15T20:25:22.540Z"
   },
   {
    "duration": 142,
    "start_time": "2022-06-15T20:25:22.558Z"
   },
   {
    "duration": 6,
    "start_time": "2022-06-15T20:25:40.123Z"
   },
   {
    "duration": 44,
    "start_time": "2022-06-15T22:03:47.773Z"
   },
   {
    "duration": 1147,
    "start_time": "2022-06-15T22:05:38.154Z"
   },
   {
    "duration": 61,
    "start_time": "2022-06-15T22:05:39.303Z"
   },
   {
    "duration": 11,
    "start_time": "2022-06-15T22:05:39.366Z"
   },
   {
    "duration": 7,
    "start_time": "2022-06-15T22:05:39.379Z"
   },
   {
    "duration": 10,
    "start_time": "2022-06-15T22:05:39.387Z"
   },
   {
    "duration": 5,
    "start_time": "2022-06-15T22:05:39.399Z"
   },
   {
    "duration": 6,
    "start_time": "2022-06-15T22:05:39.405Z"
   },
   {
    "duration": 13,
    "start_time": "2022-06-15T22:05:39.412Z"
   },
   {
    "duration": 12,
    "start_time": "2022-06-15T22:11:53.256Z"
   },
   {
    "duration": 97,
    "start_time": "2022-06-15T22:45:38.787Z"
   },
   {
    "duration": 16,
    "start_time": "2022-06-15T22:46:12.396Z"
   },
   {
    "duration": 564,
    "start_time": "2022-06-15T22:46:38.819Z"
   },
   {
    "duration": 429,
    "start_time": "2022-06-15T22:46:53.029Z"
   },
   {
    "duration": 1073,
    "start_time": "2022-06-15T22:47:12.872Z"
   },
   {
    "duration": 28,
    "start_time": "2022-06-15T22:47:13.947Z"
   },
   {
    "duration": 10,
    "start_time": "2022-06-15T22:47:13.977Z"
   },
   {
    "duration": 6,
    "start_time": "2022-06-15T22:47:13.989Z"
   },
   {
    "duration": 14,
    "start_time": "2022-06-15T22:47:13.997Z"
   },
   {
    "duration": 8,
    "start_time": "2022-06-15T22:47:14.013Z"
   },
   {
    "duration": 9,
    "start_time": "2022-06-15T22:47:14.023Z"
   },
   {
    "duration": 16,
    "start_time": "2022-06-15T22:47:14.034Z"
   },
   {
    "duration": 13,
    "start_time": "2022-06-15T22:47:14.052Z"
   },
   {
    "duration": 523,
    "start_time": "2022-06-15T22:47:14.067Z"
   },
   {
    "duration": 1008,
    "start_time": "2022-06-15T22:50:34.673Z"
   },
   {
    "duration": 28,
    "start_time": "2022-06-15T22:50:35.683Z"
   },
   {
    "duration": 11,
    "start_time": "2022-06-15T22:50:35.713Z"
   },
   {
    "duration": 4,
    "start_time": "2022-06-15T22:50:35.726Z"
   },
   {
    "duration": 11,
    "start_time": "2022-06-15T22:50:35.731Z"
   },
   {
    "duration": 6,
    "start_time": "2022-06-15T22:50:35.744Z"
   },
   {
    "duration": 7,
    "start_time": "2022-06-15T22:50:35.751Z"
   },
   {
    "duration": 19,
    "start_time": "2022-06-15T22:50:35.760Z"
   },
   {
    "duration": 10,
    "start_time": "2022-06-15T22:50:35.780Z"
   },
   {
    "duration": 466,
    "start_time": "2022-06-15T22:50:35.793Z"
   },
   {
    "duration": 405,
    "start_time": "2022-06-15T22:50:48.083Z"
   },
   {
    "duration": 415,
    "start_time": "2022-06-15T22:50:58.731Z"
   },
   {
    "duration": 424,
    "start_time": "2022-06-15T22:51:09.451Z"
   },
   {
    "duration": 435,
    "start_time": "2022-06-15T22:51:19.543Z"
   },
   {
    "duration": 408,
    "start_time": "2022-06-15T22:51:27.999Z"
   },
   {
    "duration": 43,
    "start_time": "2022-06-16T10:15:18.117Z"
   },
   {
    "duration": 1379,
    "start_time": "2022-06-16T10:15:26.572Z"
   },
   {
    "duration": 67,
    "start_time": "2022-06-16T10:15:27.953Z"
   },
   {
    "duration": 15,
    "start_time": "2022-06-16T10:15:28.021Z"
   },
   {
    "duration": 3,
    "start_time": "2022-06-16T10:15:28.038Z"
   },
   {
    "duration": 16,
    "start_time": "2022-06-16T10:15:28.044Z"
   },
   {
    "duration": 26,
    "start_time": "2022-06-16T10:15:28.062Z"
   },
   {
    "duration": 19,
    "start_time": "2022-06-16T10:15:28.089Z"
   },
   {
    "duration": 18,
    "start_time": "2022-06-16T10:15:28.110Z"
   },
   {
    "duration": 14,
    "start_time": "2022-06-16T10:15:28.130Z"
   },
   {
    "duration": 430,
    "start_time": "2022-06-16T10:15:28.146Z"
   },
   {
    "duration": 66,
    "start_time": "2022-06-16T10:15:28.579Z"
   },
   {
    "duration": 8,
    "start_time": "2022-06-16T10:22:45.490Z"
   },
   {
    "duration": 12,
    "start_time": "2022-06-16T10:23:22.966Z"
   },
   {
    "duration": 83,
    "start_time": "2022-06-16T10:24:24.856Z"
   },
   {
    "duration": 6,
    "start_time": "2022-06-16T10:25:13.874Z"
   },
   {
    "duration": 1080,
    "start_time": "2022-06-16T10:25:21.897Z"
   },
   {
    "duration": 27,
    "start_time": "2022-06-16T10:25:22.980Z"
   },
   {
    "duration": 18,
    "start_time": "2022-06-16T10:25:23.009Z"
   },
   {
    "duration": 4,
    "start_time": "2022-06-16T10:25:23.031Z"
   },
   {
    "duration": 14,
    "start_time": "2022-06-16T10:25:23.037Z"
   },
   {
    "duration": 6,
    "start_time": "2022-06-16T10:25:23.053Z"
   },
   {
    "duration": 7,
    "start_time": "2022-06-16T10:25:23.060Z"
   },
   {
    "duration": 29,
    "start_time": "2022-06-16T10:25:23.069Z"
   },
   {
    "duration": 14,
    "start_time": "2022-06-16T10:25:23.099Z"
   },
   {
    "duration": 540,
    "start_time": "2022-06-16T10:25:23.116Z"
   },
   {
    "duration": 36,
    "start_time": "2022-06-16T10:25:23.659Z"
   },
   {
    "duration": 12,
    "start_time": "2022-06-16T10:25:23.697Z"
   },
   {
    "duration": 22,
    "start_time": "2022-06-16T10:25:23.711Z"
   },
   {
    "duration": 4,
    "start_time": "2022-06-16T10:30:17.945Z"
   },
   {
    "duration": 4,
    "start_time": "2022-06-16T10:30:24.687Z"
   },
   {
    "duration": 3,
    "start_time": "2022-06-16T10:37:11.501Z"
   },
   {
    "duration": 4,
    "start_time": "2022-06-16T10:38:34.392Z"
   },
   {
    "duration": 225,
    "start_time": "2022-06-16T10:42:07.784Z"
   },
   {
    "duration": 1055,
    "start_time": "2022-06-16T10:42:43.601Z"
   },
   {
    "duration": 25,
    "start_time": "2022-06-16T10:42:44.658Z"
   },
   {
    "duration": 11,
    "start_time": "2022-06-16T10:42:44.685Z"
   },
   {
    "duration": 3,
    "start_time": "2022-06-16T10:42:44.697Z"
   },
   {
    "duration": 17,
    "start_time": "2022-06-16T10:42:44.701Z"
   },
   {
    "duration": 12,
    "start_time": "2022-06-16T10:42:44.720Z"
   },
   {
    "duration": 8,
    "start_time": "2022-06-16T10:42:44.733Z"
   },
   {
    "duration": 14,
    "start_time": "2022-06-16T10:42:44.743Z"
   },
   {
    "duration": 11,
    "start_time": "2022-06-16T10:42:44.759Z"
   },
   {
    "duration": 469,
    "start_time": "2022-06-16T10:42:44.771Z"
   },
   {
    "duration": 35,
    "start_time": "2022-06-16T10:42:45.242Z"
   },
   {
    "duration": 7,
    "start_time": "2022-06-16T10:42:45.279Z"
   },
   {
    "duration": 11,
    "start_time": "2022-06-16T10:42:45.288Z"
   },
   {
    "duration": 3,
    "start_time": "2022-06-16T10:42:45.302Z"
   },
   {
    "duration": 6,
    "start_time": "2022-06-16T10:42:45.306Z"
   },
   {
    "duration": 7,
    "start_time": "2022-06-16T10:42:45.313Z"
   },
   {
    "duration": 120,
    "start_time": "2022-06-16T10:42:45.321Z"
   },
   {
    "duration": 17,
    "start_time": "2022-06-16T10:43:04.577Z"
   },
   {
    "duration": 24,
    "start_time": "2022-06-16T10:43:37.485Z"
   },
   {
    "duration": 133,
    "start_time": "2022-06-16T10:43:45.911Z"
   },
   {
    "duration": 122,
    "start_time": "2022-06-16T10:44:37.257Z"
   },
   {
    "duration": 199,
    "start_time": "2022-06-16T10:44:46.009Z"
   },
   {
    "duration": 5,
    "start_time": "2022-06-16T10:48:12.447Z"
   },
   {
    "duration": 10,
    "start_time": "2022-06-16T10:48:22.205Z"
   },
   {
    "duration": 1013,
    "start_time": "2022-06-16T10:48:37.987Z"
   },
   {
    "duration": 31,
    "start_time": "2022-06-16T10:48:39.002Z"
   },
   {
    "duration": 11,
    "start_time": "2022-06-16T10:48:39.034Z"
   },
   {
    "duration": 3,
    "start_time": "2022-06-16T10:48:39.047Z"
   },
   {
    "duration": 14,
    "start_time": "2022-06-16T10:48:39.051Z"
   },
   {
    "duration": 5,
    "start_time": "2022-06-16T10:48:39.066Z"
   },
   {
    "duration": 7,
    "start_time": "2022-06-16T10:48:39.072Z"
   },
   {
    "duration": 13,
    "start_time": "2022-06-16T10:48:39.080Z"
   },
   {
    "duration": 9,
    "start_time": "2022-06-16T10:48:39.095Z"
   },
   {
    "duration": 472,
    "start_time": "2022-06-16T10:48:39.105Z"
   },
   {
    "duration": 36,
    "start_time": "2022-06-16T10:48:39.578Z"
   },
   {
    "duration": 8,
    "start_time": "2022-06-16T10:48:39.615Z"
   },
   {
    "duration": 17,
    "start_time": "2022-06-16T10:48:39.625Z"
   },
   {
    "duration": 4,
    "start_time": "2022-06-16T10:48:39.645Z"
   },
   {
    "duration": 11,
    "start_time": "2022-06-16T10:48:39.651Z"
   },
   {
    "duration": 7,
    "start_time": "2022-06-16T10:48:39.664Z"
   },
   {
    "duration": 8,
    "start_time": "2022-06-16T10:48:39.673Z"
   },
   {
    "duration": 10,
    "start_time": "2022-06-16T10:49:47.351Z"
   },
   {
    "duration": 1281,
    "start_time": "2022-06-17T20:32:51.533Z"
   },
   {
    "duration": 59,
    "start_time": "2022-06-17T20:32:52.816Z"
   },
   {
    "duration": 11,
    "start_time": "2022-06-17T20:32:52.876Z"
   },
   {
    "duration": 3,
    "start_time": "2022-06-17T20:32:52.889Z"
   },
   {
    "duration": 10,
    "start_time": "2022-06-17T20:32:52.893Z"
   },
   {
    "duration": 6,
    "start_time": "2022-06-17T20:32:52.904Z"
   },
   {
    "duration": 6,
    "start_time": "2022-06-17T20:32:52.911Z"
   },
   {
    "duration": 14,
    "start_time": "2022-06-17T20:32:52.918Z"
   },
   {
    "duration": 10,
    "start_time": "2022-06-17T20:32:52.933Z"
   },
   {
    "duration": 473,
    "start_time": "2022-06-17T20:32:52.945Z"
   },
   {
    "duration": 129,
    "start_time": "2022-06-17T20:32:53.420Z"
   },
   {
    "duration": 8,
    "start_time": "2022-06-17T20:32:53.551Z"
   },
   {
    "duration": 13,
    "start_time": "2022-06-17T20:32:53.560Z"
   },
   {
    "duration": 5,
    "start_time": "2022-06-17T20:32:53.575Z"
   },
   {
    "duration": 5,
    "start_time": "2022-06-17T20:32:53.582Z"
   },
   {
    "duration": 9,
    "start_time": "2022-06-17T20:32:53.588Z"
   },
   {
    "duration": 7,
    "start_time": "2022-06-17T20:32:53.599Z"
   },
   {
    "duration": 20,
    "start_time": "2022-06-17T20:32:53.607Z"
   },
   {
    "duration": 104,
    "start_time": "2022-06-17T20:32:53.629Z"
   },
   {
    "duration": 125,
    "start_time": "2022-06-17T20:34:30.840Z"
   },
   {
    "duration": 8,
    "start_time": "2022-06-17T20:34:55.274Z"
   },
   {
    "duration": 8,
    "start_time": "2022-06-17T20:35:16.042Z"
   },
   {
    "duration": 5,
    "start_time": "2022-06-17T20:35:21.494Z"
   },
   {
    "duration": 10,
    "start_time": "2022-06-17T20:35:35.450Z"
   },
   {
    "duration": 7,
    "start_time": "2022-06-17T20:36:30.513Z"
   },
   {
    "duration": 1104,
    "start_time": "2022-06-17T20:36:38.127Z"
   },
   {
    "duration": 27,
    "start_time": "2022-06-17T20:36:39.233Z"
   },
   {
    "duration": 17,
    "start_time": "2022-06-17T20:36:39.262Z"
   },
   {
    "duration": 4,
    "start_time": "2022-06-17T20:36:39.280Z"
   },
   {
    "duration": 11,
    "start_time": "2022-06-17T20:36:39.285Z"
   },
   {
    "duration": 6,
    "start_time": "2022-06-17T20:36:39.297Z"
   },
   {
    "duration": 5,
    "start_time": "2022-06-17T20:36:39.305Z"
   },
   {
    "duration": 12,
    "start_time": "2022-06-17T20:36:39.311Z"
   },
   {
    "duration": 10,
    "start_time": "2022-06-17T20:36:39.325Z"
   },
   {
    "duration": 502,
    "start_time": "2022-06-17T20:36:39.336Z"
   },
   {
    "duration": 37,
    "start_time": "2022-06-17T20:36:39.840Z"
   },
   {
    "duration": 8,
    "start_time": "2022-06-17T20:36:39.878Z"
   },
   {
    "duration": 14,
    "start_time": "2022-06-17T20:36:39.887Z"
   },
   {
    "duration": 3,
    "start_time": "2022-06-17T20:36:39.903Z"
   },
   {
    "duration": 6,
    "start_time": "2022-06-17T20:36:39.907Z"
   },
   {
    "duration": 6,
    "start_time": "2022-06-17T20:36:39.915Z"
   },
   {
    "duration": 6,
    "start_time": "2022-06-17T20:36:39.923Z"
   },
   {
    "duration": 12,
    "start_time": "2022-06-17T20:36:39.930Z"
   },
   {
    "duration": 18,
    "start_time": "2022-06-17T20:36:39.943Z"
   },
   {
    "duration": 6,
    "start_time": "2022-06-17T20:36:39.962Z"
   },
   {
    "duration": 11,
    "start_time": "2022-06-17T20:36:39.970Z"
   },
   {
    "duration": 5,
    "start_time": "2022-06-17T20:38:33.322Z"
   },
   {
    "duration": 4,
    "start_time": "2022-06-17T20:38:54.594Z"
   },
   {
    "duration": 95,
    "start_time": "2022-06-17T20:39:08.070Z"
   },
   {
    "duration": 9,
    "start_time": "2022-06-17T20:42:16.091Z"
   },
   {
    "duration": 10,
    "start_time": "2022-06-17T20:42:34.125Z"
   },
   {
    "duration": 1148,
    "start_time": "2022-06-17T20:43:48.015Z"
   },
   {
    "duration": 27,
    "start_time": "2022-06-17T20:43:49.165Z"
   },
   {
    "duration": 11,
    "start_time": "2022-06-17T20:43:49.194Z"
   },
   {
    "duration": 4,
    "start_time": "2022-06-17T20:43:49.207Z"
   },
   {
    "duration": 13,
    "start_time": "2022-06-17T20:43:49.214Z"
   },
   {
    "duration": 5,
    "start_time": "2022-06-17T20:43:49.229Z"
   },
   {
    "duration": 8,
    "start_time": "2022-06-17T20:43:49.236Z"
   },
   {
    "duration": 15,
    "start_time": "2022-06-17T20:43:49.246Z"
   },
   {
    "duration": 12,
    "start_time": "2022-06-17T20:43:49.262Z"
   },
   {
    "duration": 482,
    "start_time": "2022-06-17T20:43:49.276Z"
   },
   {
    "duration": 36,
    "start_time": "2022-06-17T20:43:49.760Z"
   },
   {
    "duration": 8,
    "start_time": "2022-06-17T20:43:49.798Z"
   },
   {
    "duration": 12,
    "start_time": "2022-06-17T20:43:49.807Z"
   },
   {
    "duration": 5,
    "start_time": "2022-06-17T20:43:49.822Z"
   },
   {
    "duration": 5,
    "start_time": "2022-06-17T20:43:49.828Z"
   },
   {
    "duration": 8,
    "start_time": "2022-06-17T20:43:49.835Z"
   },
   {
    "duration": 6,
    "start_time": "2022-06-17T20:43:49.844Z"
   },
   {
    "duration": 16,
    "start_time": "2022-06-17T20:43:49.851Z"
   },
   {
    "duration": 20,
    "start_time": "2022-06-17T20:43:49.869Z"
   },
   {
    "duration": 7,
    "start_time": "2022-06-17T20:43:49.890Z"
   },
   {
    "duration": 16,
    "start_time": "2022-06-17T20:43:49.899Z"
   },
   {
    "duration": 7,
    "start_time": "2022-06-17T20:43:49.916Z"
   },
   {
    "duration": 11,
    "start_time": "2022-06-17T20:43:49.926Z"
   },
   {
    "duration": 43,
    "start_time": "2022-06-20T11:49:59.220Z"
   },
   {
    "duration": 1212,
    "start_time": "2022-06-20T11:50:04.428Z"
   },
   {
    "duration": 67,
    "start_time": "2022-06-20T11:50:05.643Z"
   },
   {
    "duration": 11,
    "start_time": "2022-06-20T11:50:05.712Z"
   },
   {
    "duration": 18,
    "start_time": "2022-06-20T11:50:05.725Z"
   },
   {
    "duration": 46,
    "start_time": "2022-06-20T11:50:05.744Z"
   },
   {
    "duration": 10,
    "start_time": "2022-06-20T11:50:05.791Z"
   },
   {
    "duration": 17,
    "start_time": "2022-06-20T11:50:05.802Z"
   },
   {
    "duration": 19,
    "start_time": "2022-06-20T11:50:05.820Z"
   },
   {
    "duration": 10,
    "start_time": "2022-06-20T11:50:05.841Z"
   },
   {
    "duration": 435,
    "start_time": "2022-06-20T11:50:05.853Z"
   },
   {
    "duration": 92,
    "start_time": "2022-06-20T11:50:06.289Z"
   },
   {
    "duration": 7,
    "start_time": "2022-06-20T11:50:06.383Z"
   },
   {
    "duration": 14,
    "start_time": "2022-06-20T11:50:06.392Z"
   },
   {
    "duration": 9,
    "start_time": "2022-06-20T11:50:06.408Z"
   },
   {
    "duration": 9,
    "start_time": "2022-06-20T11:50:06.418Z"
   },
   {
    "duration": 9,
    "start_time": "2022-06-20T11:50:06.428Z"
   },
   {
    "duration": 6,
    "start_time": "2022-06-20T11:50:06.439Z"
   },
   {
    "duration": 12,
    "start_time": "2022-06-20T11:50:06.446Z"
   },
   {
    "duration": 11,
    "start_time": "2022-06-20T11:50:06.460Z"
   },
   {
    "duration": 79,
    "start_time": "2022-06-20T11:50:06.472Z"
   },
   {
    "duration": 7,
    "start_time": "2022-06-20T11:50:06.552Z"
   },
   {
    "duration": 12,
    "start_time": "2022-06-20T11:50:06.560Z"
   },
   {
    "duration": 10,
    "start_time": "2022-06-20T11:50:06.574Z"
   },
   {
    "duration": 11,
    "start_time": "2022-06-20T11:50:06.586Z"
   },
   {
    "duration": 6,
    "start_time": "2022-06-20T11:54:31.114Z"
   },
   {
    "duration": 86,
    "start_time": "2022-06-20T11:56:49.763Z"
   },
   {
    "duration": 14,
    "start_time": "2022-06-20T11:57:36.158Z"
   },
   {
    "duration": 5,
    "start_time": "2022-06-20T11:57:45.864Z"
   },
   {
    "duration": 5,
    "start_time": "2022-06-20T11:58:10.699Z"
   },
   {
    "duration": 5,
    "start_time": "2022-06-20T11:58:30.857Z"
   },
   {
    "duration": 87,
    "start_time": "2022-06-20T12:06:48.625Z"
   },
   {
    "duration": 8,
    "start_time": "2022-06-20T12:09:30.791Z"
   },
   {
    "duration": 3,
    "start_time": "2022-06-20T12:09:44.914Z"
   },
   {
    "duration": 4,
    "start_time": "2022-06-20T12:09:52.434Z"
   },
   {
    "duration": 3,
    "start_time": "2022-06-20T12:10:16.172Z"
   },
   {
    "duration": 3,
    "start_time": "2022-06-20T12:10:17.904Z"
   },
   {
    "duration": 6,
    "start_time": "2022-06-20T12:10:34.441Z"
   },
   {
    "duration": 6,
    "start_time": "2022-06-20T12:10:35.756Z"
   },
   {
    "duration": 5,
    "start_time": "2022-06-20T12:10:44.842Z"
   },
   {
    "duration": 5,
    "start_time": "2022-06-20T12:10:45.168Z"
   },
   {
    "duration": 13,
    "start_time": "2022-06-20T12:11:56.590Z"
   },
   {
    "duration": 14,
    "start_time": "2022-06-20T12:12:24.390Z"
   },
   {
    "duration": 11,
    "start_time": "2022-06-20T12:12:31.366Z"
   },
   {
    "duration": 6,
    "start_time": "2022-06-20T12:12:37.106Z"
   },
   {
    "duration": 6,
    "start_time": "2022-06-20T12:12:37.660Z"
   },
   {
    "duration": 10,
    "start_time": "2022-06-20T12:15:31.416Z"
   },
   {
    "duration": 6,
    "start_time": "2022-06-20T12:15:52.396Z"
   },
   {
    "duration": 6,
    "start_time": "2022-06-20T12:15:53.321Z"
   },
   {
    "duration": 1112,
    "start_time": "2022-06-20T12:16:00.102Z"
   },
   {
    "duration": 37,
    "start_time": "2022-06-20T12:16:01.216Z"
   },
   {
    "duration": 11,
    "start_time": "2022-06-20T12:16:01.255Z"
   },
   {
    "duration": 19,
    "start_time": "2022-06-20T12:16:01.268Z"
   },
   {
    "duration": 21,
    "start_time": "2022-06-20T12:16:01.289Z"
   },
   {
    "duration": 18,
    "start_time": "2022-06-20T12:16:01.312Z"
   },
   {
    "duration": 26,
    "start_time": "2022-06-20T12:16:01.332Z"
   },
   {
    "duration": 34,
    "start_time": "2022-06-20T12:16:01.360Z"
   },
   {
    "duration": 24,
    "start_time": "2022-06-20T12:16:01.396Z"
   },
   {
    "duration": 466,
    "start_time": "2022-06-20T12:16:01.422Z"
   },
   {
    "duration": 36,
    "start_time": "2022-06-20T12:16:01.890Z"
   },
   {
    "duration": 15,
    "start_time": "2022-06-20T12:16:01.928Z"
   },
   {
    "duration": 44,
    "start_time": "2022-06-20T12:16:01.944Z"
   },
   {
    "duration": 35,
    "start_time": "2022-06-20T12:16:01.991Z"
   },
   {
    "duration": 52,
    "start_time": "2022-06-20T12:16:02.028Z"
   },
   {
    "duration": 66,
    "start_time": "2022-06-20T12:16:02.082Z"
   },
   {
    "duration": 36,
    "start_time": "2022-06-20T12:16:02.150Z"
   },
   {
    "duration": 32,
    "start_time": "2022-06-20T12:16:02.188Z"
   },
   {
    "duration": 28,
    "start_time": "2022-06-20T12:16:02.222Z"
   },
   {
    "duration": 34,
    "start_time": "2022-06-20T12:16:02.251Z"
   },
   {
    "duration": 32,
    "start_time": "2022-06-20T12:16:02.286Z"
   },
   {
    "duration": 41,
    "start_time": "2022-06-20T12:16:02.319Z"
   },
   {
    "duration": 61,
    "start_time": "2022-06-20T12:16:02.361Z"
   },
   {
    "duration": 23,
    "start_time": "2022-06-20T12:16:02.423Z"
   },
   {
    "duration": 45,
    "start_time": "2022-06-20T12:16:02.448Z"
   },
   {
    "duration": 47,
    "start_time": "2022-06-20T12:16:02.494Z"
   },
   {
    "duration": 59,
    "start_time": "2022-06-20T12:16:02.542Z"
   },
   {
    "duration": 12,
    "start_time": "2022-06-20T12:35:29.197Z"
   },
   {
    "duration": 37,
    "start_time": "2022-06-20T12:35:52.129Z"
   },
   {
    "duration": 16,
    "start_time": "2022-06-20T12:36:11.515Z"
   },
   {
    "duration": 74,
    "start_time": "2022-06-20T12:37:02.959Z"
   },
   {
    "duration": 11,
    "start_time": "2022-06-20T12:37:10.928Z"
   },
   {
    "duration": 1249,
    "start_time": "2022-06-22T08:38:42.768Z"
   },
   {
    "duration": 58,
    "start_time": "2022-06-22T08:38:44.020Z"
   },
   {
    "duration": 11,
    "start_time": "2022-06-22T08:38:44.079Z"
   },
   {
    "duration": 4,
    "start_time": "2022-06-22T08:38:44.092Z"
   },
   {
    "duration": 16,
    "start_time": "2022-06-22T08:38:44.097Z"
   },
   {
    "duration": 10,
    "start_time": "2022-06-22T08:38:44.114Z"
   },
   {
    "duration": 11,
    "start_time": "2022-06-22T08:38:44.125Z"
   },
   {
    "duration": 14,
    "start_time": "2022-06-22T08:38:44.138Z"
   },
   {
    "duration": 10,
    "start_time": "2022-06-22T08:38:44.154Z"
   },
   {
    "duration": 578,
    "start_time": "2022-06-22T08:38:44.167Z"
   },
   {
    "duration": 80,
    "start_time": "2022-06-22T08:38:44.747Z"
   },
   {
    "duration": 8,
    "start_time": "2022-06-22T08:38:44.829Z"
   },
   {
    "duration": 17,
    "start_time": "2022-06-22T08:38:44.838Z"
   },
   {
    "duration": 6,
    "start_time": "2022-06-22T08:38:44.857Z"
   },
   {
    "duration": 6,
    "start_time": "2022-06-22T08:38:44.864Z"
   },
   {
    "duration": 7,
    "start_time": "2022-06-22T08:38:44.871Z"
   },
   {
    "duration": 7,
    "start_time": "2022-06-22T08:38:44.879Z"
   },
   {
    "duration": 16,
    "start_time": "2022-06-22T08:38:44.888Z"
   },
   {
    "duration": 7,
    "start_time": "2022-06-22T08:38:44.906Z"
   },
   {
    "duration": 6,
    "start_time": "2022-06-22T08:38:44.926Z"
   },
   {
    "duration": 8,
    "start_time": "2022-06-22T08:38:44.933Z"
   },
   {
    "duration": 11,
    "start_time": "2022-06-22T08:38:44.942Z"
   },
   {
    "duration": 14,
    "start_time": "2022-06-22T08:38:44.955Z"
   },
   {
    "duration": 49,
    "start_time": "2022-06-22T08:38:44.971Z"
   },
   {
    "duration": 9,
    "start_time": "2022-06-22T08:38:45.021Z"
   },
   {
    "duration": 20,
    "start_time": "2022-06-22T08:38:45.031Z"
   },
   {
    "duration": 13,
    "start_time": "2022-06-22T08:38:45.053Z"
   },
   {
    "duration": 16,
    "start_time": "2022-06-22T08:38:45.068Z"
   },
   {
    "duration": 12,
    "start_time": "2022-06-22T08:38:51.715Z"
   },
   {
    "duration": 12,
    "start_time": "2022-06-22T08:38:59.780Z"
   },
   {
    "duration": 12,
    "start_time": "2022-06-22T08:39:03.289Z"
   },
   {
    "duration": 12,
    "start_time": "2022-06-22T08:39:29.429Z"
   },
   {
    "duration": 9,
    "start_time": "2022-06-22T08:40:01.976Z"
   },
   {
    "duration": 5,
    "start_time": "2022-06-22T08:40:24.348Z"
   },
   {
    "duration": 45,
    "start_time": "2022-06-22T08:40:47.233Z"
   },
   {
    "duration": 13,
    "start_time": "2022-06-22T08:40:53.188Z"
   },
   {
    "duration": 72,
    "start_time": "2022-06-22T08:41:15.288Z"
   },
   {
    "duration": 15,
    "start_time": "2022-06-22T08:41:20.183Z"
   },
   {
    "duration": 1376,
    "start_time": "2022-06-22T13:53:57.482Z"
   },
   {
    "duration": 56,
    "start_time": "2022-06-22T13:53:58.861Z"
   },
   {
    "duration": 27,
    "start_time": "2022-06-22T13:53:58.919Z"
   },
   {
    "duration": 14,
    "start_time": "2022-06-22T13:53:58.948Z"
   },
   {
    "duration": 14,
    "start_time": "2022-06-22T13:53:58.963Z"
   },
   {
    "duration": 9,
    "start_time": "2022-06-22T13:53:58.979Z"
   },
   {
    "duration": 8,
    "start_time": "2022-06-22T13:53:58.990Z"
   },
   {
    "duration": 23,
    "start_time": "2022-06-22T13:53:58.999Z"
   },
   {
    "duration": 13,
    "start_time": "2022-06-22T13:53:59.023Z"
   },
   {
    "duration": 530,
    "start_time": "2022-06-22T13:53:59.039Z"
   },
   {
    "duration": 87,
    "start_time": "2022-06-22T13:53:59.571Z"
   },
   {
    "duration": 9,
    "start_time": "2022-06-22T13:53:59.660Z"
   },
   {
    "duration": 15,
    "start_time": "2022-06-22T13:53:59.670Z"
   },
   {
    "duration": 4,
    "start_time": "2022-06-22T13:53:59.687Z"
   },
   {
    "duration": 6,
    "start_time": "2022-06-22T13:53:59.693Z"
   },
   {
    "duration": 11,
    "start_time": "2022-06-22T13:53:59.700Z"
   },
   {
    "duration": 8,
    "start_time": "2022-06-22T13:53:59.712Z"
   },
   {
    "duration": 15,
    "start_time": "2022-06-22T13:53:59.721Z"
   },
   {
    "duration": 27,
    "start_time": "2022-06-22T13:53:59.737Z"
   },
   {
    "duration": 7,
    "start_time": "2022-06-22T13:53:59.765Z"
   },
   {
    "duration": 6,
    "start_time": "2022-06-22T13:53:59.774Z"
   },
   {
    "duration": 8,
    "start_time": "2022-06-22T13:53:59.781Z"
   },
   {
    "duration": 14,
    "start_time": "2022-06-22T13:53:59.791Z"
   },
   {
    "duration": 70,
    "start_time": "2022-06-22T13:53:59.807Z"
   },
   {
    "duration": 8,
    "start_time": "2022-06-22T13:53:59.878Z"
   },
   {
    "duration": 11,
    "start_time": "2022-06-22T13:53:59.887Z"
   },
   {
    "duration": 6,
    "start_time": "2022-06-22T13:53:59.899Z"
   },
   {
    "duration": 11,
    "start_time": "2022-06-22T13:53:59.907Z"
   },
   {
    "duration": 47,
    "start_time": "2022-06-22T14:00:56.043Z"
   },
   {
    "duration": 6,
    "start_time": "2022-06-22T14:01:04.078Z"
   },
   {
    "duration": 30,
    "start_time": "2022-06-22T14:01:36.817Z"
   },
   {
    "duration": 14,
    "start_time": "2022-06-22T14:01:47.796Z"
   },
   {
    "duration": 13,
    "start_time": "2022-06-22T14:03:06.355Z"
   },
   {
    "duration": 1406,
    "start_time": "2022-06-24T12:36:59.436Z"
   },
   {
    "duration": 74,
    "start_time": "2022-06-24T12:37:00.844Z"
   },
   {
    "duration": 13,
    "start_time": "2022-06-24T12:37:00.920Z"
   },
   {
    "duration": 7,
    "start_time": "2022-06-24T12:37:00.934Z"
   },
   {
    "duration": 14,
    "start_time": "2022-06-24T12:37:00.943Z"
   },
   {
    "duration": 56,
    "start_time": "2022-06-24T12:37:00.958Z"
   },
   {
    "duration": 26,
    "start_time": "2022-06-24T12:37:01.016Z"
   },
   {
    "duration": 36,
    "start_time": "2022-06-24T12:37:01.043Z"
   },
   {
    "duration": 30,
    "start_time": "2022-06-24T12:37:01.083Z"
   },
   {
    "duration": 606,
    "start_time": "2022-06-24T12:37:01.115Z"
   },
   {
    "duration": 162,
    "start_time": "2022-06-24T12:37:01.724Z"
   },
   {
    "duration": 13,
    "start_time": "2022-06-24T12:37:01.890Z"
   },
   {
    "duration": 44,
    "start_time": "2022-06-24T12:37:01.906Z"
   },
   {
    "duration": 38,
    "start_time": "2022-06-24T12:37:01.954Z"
   },
   {
    "duration": 11,
    "start_time": "2022-06-24T12:37:01.994Z"
   },
   {
    "duration": 30,
    "start_time": "2022-06-24T12:37:02.008Z"
   },
   {
    "duration": 11,
    "start_time": "2022-06-24T12:37:02.040Z"
   },
   {
    "duration": 59,
    "start_time": "2022-06-24T12:37:02.053Z"
   },
   {
    "duration": 21,
    "start_time": "2022-06-24T12:37:02.114Z"
   },
   {
    "duration": 29,
    "start_time": "2022-06-24T12:37:02.137Z"
   },
   {
    "duration": 31,
    "start_time": "2022-06-24T12:37:02.170Z"
   },
   {
    "duration": 22,
    "start_time": "2022-06-24T12:37:02.203Z"
   },
   {
    "duration": 18,
    "start_time": "2022-06-24T12:37:02.227Z"
   },
   {
    "duration": 7,
    "start_time": "2022-06-24T12:37:02.247Z"
   },
   {
    "duration": 176,
    "start_time": "2022-06-24T12:37:02.256Z"
   },
   {
    "duration": 0,
    "start_time": "2022-06-24T12:37:02.434Z"
   },
   {
    "duration": 0,
    "start_time": "2022-06-24T12:37:02.435Z"
   },
   {
    "duration": 0,
    "start_time": "2022-06-24T12:37:02.437Z"
   },
   {
    "duration": 0,
    "start_time": "2022-06-24T12:37:02.438Z"
   },
   {
    "duration": 0,
    "start_time": "2022-06-24T12:37:02.439Z"
   },
   {
    "duration": 1327,
    "start_time": "2022-06-24T12:44:09.042Z"
   },
   {
    "duration": 9,
    "start_time": "2022-06-24T12:47:11.046Z"
   },
   {
    "duration": 4,
    "start_time": "2022-06-24T12:47:29.626Z"
   },
   {
    "duration": 6,
    "start_time": "2022-06-24T12:49:53.434Z"
   },
   {
    "duration": 1150,
    "start_time": "2022-06-24T12:56:55.545Z"
   },
   {
    "duration": 27,
    "start_time": "2022-06-24T12:56:56.697Z"
   },
   {
    "duration": 15,
    "start_time": "2022-06-24T12:56:56.725Z"
   },
   {
    "duration": 2,
    "start_time": "2022-06-24T12:56:56.742Z"
   },
   {
    "duration": 13,
    "start_time": "2022-06-24T12:56:56.746Z"
   },
   {
    "duration": 21,
    "start_time": "2022-06-24T12:56:56.761Z"
   },
   {
    "duration": 10,
    "start_time": "2022-06-24T12:56:56.784Z"
   },
   {
    "duration": 16,
    "start_time": "2022-06-24T12:56:56.796Z"
   },
   {
    "duration": 10,
    "start_time": "2022-06-24T12:56:56.814Z"
   },
   {
    "duration": 506,
    "start_time": "2022-06-24T12:56:56.827Z"
   },
   {
    "duration": 47,
    "start_time": "2022-06-24T12:56:57.335Z"
   },
   {
    "duration": 8,
    "start_time": "2022-06-24T12:56:57.384Z"
   },
   {
    "duration": 13,
    "start_time": "2022-06-24T12:56:57.393Z"
   },
   {
    "duration": 10,
    "start_time": "2022-06-24T12:56:57.408Z"
   },
   {
    "duration": 6,
    "start_time": "2022-06-24T12:56:57.420Z"
   },
   {
    "duration": 8,
    "start_time": "2022-06-24T12:56:57.428Z"
   },
   {
    "duration": 7,
    "start_time": "2022-06-24T12:56:57.437Z"
   },
   {
    "duration": 18,
    "start_time": "2022-06-24T12:56:57.445Z"
   },
   {
    "duration": 23,
    "start_time": "2022-06-24T12:56:57.467Z"
   },
   {
    "duration": 14,
    "start_time": "2022-06-24T12:56:57.492Z"
   },
   {
    "duration": 15,
    "start_time": "2022-06-24T12:56:57.508Z"
   },
   {
    "duration": 15,
    "start_time": "2022-06-24T12:56:57.525Z"
   },
   {
    "duration": 20,
    "start_time": "2022-06-24T12:56:57.542Z"
   },
   {
    "duration": 13,
    "start_time": "2022-06-24T12:56:57.563Z"
   },
   {
    "duration": 21,
    "start_time": "2022-06-24T12:56:57.581Z"
   },
   {
    "duration": 11,
    "start_time": "2022-06-24T12:56:57.604Z"
   },
   {
    "duration": 68,
    "start_time": "2022-06-24T12:56:57.617Z"
   },
   {
    "duration": 8,
    "start_time": "2022-06-24T12:56:57.687Z"
   },
   {
    "duration": 11,
    "start_time": "2022-06-24T12:56:57.696Z"
   },
   {
    "duration": 7,
    "start_time": "2022-06-24T12:56:57.708Z"
   },
   {
    "duration": 12,
    "start_time": "2022-06-24T12:56:57.716Z"
   },
   {
    "duration": 1111,
    "start_time": "2022-06-24T13:08:25.318Z"
   },
   {
    "duration": 28,
    "start_time": "2022-06-24T13:08:26.432Z"
   },
   {
    "duration": 12,
    "start_time": "2022-06-24T13:08:26.461Z"
   },
   {
    "duration": 3,
    "start_time": "2022-06-24T13:08:26.475Z"
   },
   {
    "duration": 11,
    "start_time": "2022-06-24T13:08:26.480Z"
   },
   {
    "duration": 11,
    "start_time": "2022-06-24T13:08:26.493Z"
   },
   {
    "duration": 8,
    "start_time": "2022-06-24T13:08:26.506Z"
   },
   {
    "duration": 15,
    "start_time": "2022-06-24T13:08:26.516Z"
   },
   {
    "duration": 36,
    "start_time": "2022-06-24T13:08:26.533Z"
   },
   {
    "duration": 558,
    "start_time": "2022-06-24T13:08:26.571Z"
   },
   {
    "duration": 38,
    "start_time": "2022-06-24T13:08:27.131Z"
   },
   {
    "duration": 9,
    "start_time": "2022-06-24T13:08:27.171Z"
   },
   {
    "duration": 17,
    "start_time": "2022-06-24T13:08:27.182Z"
   },
   {
    "duration": 8,
    "start_time": "2022-06-24T13:08:27.204Z"
   },
   {
    "duration": 16,
    "start_time": "2022-06-24T13:08:27.214Z"
   },
   {
    "duration": 23,
    "start_time": "2022-06-24T13:08:27.231Z"
   },
   {
    "duration": 15,
    "start_time": "2022-06-24T13:08:27.257Z"
   },
   {
    "duration": 22,
    "start_time": "2022-06-24T13:08:27.274Z"
   },
   {
    "duration": 14,
    "start_time": "2022-06-24T13:08:27.299Z"
   },
   {
    "duration": 30,
    "start_time": "2022-06-24T13:08:27.315Z"
   },
   {
    "duration": 9,
    "start_time": "2022-06-24T13:08:27.347Z"
   },
   {
    "duration": 13,
    "start_time": "2022-06-24T13:08:27.358Z"
   },
   {
    "duration": 18,
    "start_time": "2022-06-24T13:08:27.373Z"
   },
   {
    "duration": 9,
    "start_time": "2022-06-24T13:08:27.393Z"
   },
   {
    "duration": 7,
    "start_time": "2022-06-24T13:08:27.404Z"
   },
   {
    "duration": 9,
    "start_time": "2022-06-24T13:08:27.413Z"
   },
   {
    "duration": 28,
    "start_time": "2022-06-24T13:08:27.423Z"
   },
   {
    "duration": 16,
    "start_time": "2022-06-24T13:08:27.453Z"
   },
   {
    "duration": 17,
    "start_time": "2022-06-24T13:08:27.471Z"
   },
   {
    "duration": 9,
    "start_time": "2022-06-24T13:08:27.490Z"
   },
   {
    "duration": 22,
    "start_time": "2022-06-24T13:08:27.501Z"
   },
   {
    "duration": 8,
    "start_time": "2022-06-24T13:09:18.185Z"
   },
   {
    "duration": 8,
    "start_time": "2022-06-24T13:09:24.658Z"
   },
   {
    "duration": 21,
    "start_time": "2022-06-24T13:11:08.918Z"
   },
   {
    "duration": 8,
    "start_time": "2022-06-24T13:11:21.481Z"
   },
   {
    "duration": 6,
    "start_time": "2022-06-24T13:11:23.123Z"
   },
   {
    "duration": 468,
    "start_time": "2022-06-24T13:11:24.534Z"
   },
   {
    "duration": 6,
    "start_time": "2022-06-24T13:11:48.943Z"
   },
   {
    "duration": 9,
    "start_time": "2022-06-24T13:11:50.445Z"
   },
   {
    "duration": 9,
    "start_time": "2022-06-24T13:11:51.996Z"
   },
   {
    "duration": 109,
    "start_time": "2022-06-24T13:30:31.352Z"
   },
   {
    "duration": 6,
    "start_time": "2022-06-24T13:30:39.973Z"
   },
   {
    "duration": 5,
    "start_time": "2022-06-24T13:32:00.875Z"
   },
   {
    "duration": 226,
    "start_time": "2022-06-24T13:32:02.693Z"
   },
   {
    "duration": 123,
    "start_time": "2022-06-24T13:32:07.171Z"
   },
   {
    "duration": 12,
    "start_time": "2022-06-24T13:32:39.744Z"
   },
   {
    "duration": 34,
    "start_time": "2022-06-24T13:33:23.979Z"
   },
   {
    "duration": 6,
    "start_time": "2022-06-24T13:33:38.626Z"
   },
   {
    "duration": 7,
    "start_time": "2022-06-24T13:34:03.179Z"
   },
   {
    "duration": 7,
    "start_time": "2022-06-24T13:34:07.968Z"
   },
   {
    "duration": 9,
    "start_time": "2022-06-24T13:34:20.245Z"
   },
   {
    "duration": 44,
    "start_time": "2022-06-24T13:35:18.301Z"
   },
   {
    "duration": 6,
    "start_time": "2022-06-24T13:35:30.628Z"
   },
   {
    "duration": 7,
    "start_time": "2022-06-24T13:35:36.076Z"
   },
   {
    "duration": 1278,
    "start_time": "2022-06-24T13:36:16.938Z"
   },
   {
    "duration": 28,
    "start_time": "2022-06-24T13:36:18.218Z"
   },
   {
    "duration": 14,
    "start_time": "2022-06-24T13:36:18.248Z"
   },
   {
    "duration": 16,
    "start_time": "2022-06-24T13:36:18.265Z"
   },
   {
    "duration": 27,
    "start_time": "2022-06-24T13:36:18.283Z"
   },
   {
    "duration": 32,
    "start_time": "2022-06-24T13:36:18.312Z"
   },
   {
    "duration": 22,
    "start_time": "2022-06-24T13:36:18.345Z"
   },
   {
    "duration": 47,
    "start_time": "2022-06-24T13:36:18.369Z"
   },
   {
    "duration": 34,
    "start_time": "2022-06-24T13:36:18.418Z"
   },
   {
    "duration": 654,
    "start_time": "2022-06-24T13:36:18.455Z"
   },
   {
    "duration": 40,
    "start_time": "2022-06-24T13:36:19.112Z"
   },
   {
    "duration": 11,
    "start_time": "2022-06-24T13:36:19.154Z"
   },
   {
    "duration": 25,
    "start_time": "2022-06-24T13:36:19.168Z"
   },
   {
    "duration": 15,
    "start_time": "2022-06-24T13:36:19.195Z"
   },
   {
    "duration": 7,
    "start_time": "2022-06-24T13:36:19.213Z"
   },
   {
    "duration": 11,
    "start_time": "2022-06-24T13:36:19.222Z"
   },
   {
    "duration": 7,
    "start_time": "2022-06-24T13:36:19.235Z"
   },
   {
    "duration": 14,
    "start_time": "2022-06-24T13:36:19.244Z"
   },
   {
    "duration": 19,
    "start_time": "2022-06-24T13:36:19.260Z"
   },
   {
    "duration": 15,
    "start_time": "2022-06-24T13:36:19.281Z"
   },
   {
    "duration": 10,
    "start_time": "2022-06-24T13:36:19.298Z"
   },
   {
    "duration": 14,
    "start_time": "2022-06-24T13:36:19.310Z"
   },
   {
    "duration": 23,
    "start_time": "2022-06-24T13:36:19.326Z"
   },
   {
    "duration": 6,
    "start_time": "2022-06-24T13:36:19.368Z"
   },
   {
    "duration": 7,
    "start_time": "2022-06-24T13:36:19.377Z"
   },
   {
    "duration": 20,
    "start_time": "2022-06-24T13:36:19.387Z"
   },
   {
    "duration": 17,
    "start_time": "2022-06-24T13:36:19.409Z"
   },
   {
    "duration": 38,
    "start_time": "2022-06-24T13:36:19.429Z"
   },
   {
    "duration": 10,
    "start_time": "2022-06-24T13:36:19.469Z"
   },
   {
    "duration": 16,
    "start_time": "2022-06-24T13:36:19.481Z"
   },
   {
    "duration": 7,
    "start_time": "2022-06-24T13:36:19.499Z"
   },
   {
    "duration": 26,
    "start_time": "2022-06-24T13:36:19.509Z"
   },
   {
    "duration": 18,
    "start_time": "2022-06-24T13:37:09.683Z"
   },
   {
    "duration": 7,
    "start_time": "2022-06-24T13:37:10.783Z"
   },
   {
    "duration": 5,
    "start_time": "2022-06-24T13:37:11.506Z"
   },
   {
    "duration": 7,
    "start_time": "2022-06-24T13:37:12.483Z"
   },
   {
    "duration": 9,
    "start_time": "2022-06-24T13:37:13.813Z"
   },
   {
    "duration": 121,
    "start_time": "2022-06-24T13:37:41.488Z"
   },
   {
    "duration": 9,
    "start_time": "2022-06-24T13:37:54.118Z"
   },
   {
    "duration": 8,
    "start_time": "2022-06-24T13:38:02.974Z"
   },
   {
    "duration": 6,
    "start_time": "2022-06-24T13:41:59.970Z"
   },
   {
    "duration": 159,
    "start_time": "2022-06-24T13:42:09.110Z"
   },
   {
    "duration": 10,
    "start_time": "2022-06-24T13:42:32.741Z"
   },
   {
    "duration": 6,
    "start_time": "2022-06-24T13:42:44.915Z"
   },
   {
    "duration": 9,
    "start_time": "2022-06-24T13:42:47.407Z"
   },
   {
    "duration": 1214,
    "start_time": "2022-06-24T13:42:52.884Z"
   },
   {
    "duration": 28,
    "start_time": "2022-06-24T13:42:54.100Z"
   },
   {
    "duration": 12,
    "start_time": "2022-06-24T13:42:54.130Z"
   },
   {
    "duration": 3,
    "start_time": "2022-06-24T13:42:54.144Z"
   },
   {
    "duration": 10,
    "start_time": "2022-06-24T13:42:54.149Z"
   },
   {
    "duration": 10,
    "start_time": "2022-06-24T13:42:54.166Z"
   },
   {
    "duration": 6,
    "start_time": "2022-06-24T13:42:54.178Z"
   },
   {
    "duration": 15,
    "start_time": "2022-06-24T13:42:54.186Z"
   },
   {
    "duration": 12,
    "start_time": "2022-06-24T13:42:54.202Z"
   },
   {
    "duration": 621,
    "start_time": "2022-06-24T13:42:54.216Z"
   },
   {
    "duration": 46,
    "start_time": "2022-06-24T13:42:54.839Z"
   },
   {
    "duration": 9,
    "start_time": "2022-06-24T13:42:54.887Z"
   },
   {
    "duration": 13,
    "start_time": "2022-06-24T13:42:54.898Z"
   },
   {
    "duration": 9,
    "start_time": "2022-06-24T13:42:54.914Z"
   },
   {
    "duration": 5,
    "start_time": "2022-06-24T13:42:54.925Z"
   },
   {
    "duration": 7,
    "start_time": "2022-06-24T13:42:54.932Z"
   },
   {
    "duration": 8,
    "start_time": "2022-06-24T13:42:54.941Z"
   },
   {
    "duration": 28,
    "start_time": "2022-06-24T13:42:54.951Z"
   },
   {
    "duration": 17,
    "start_time": "2022-06-24T13:42:54.981Z"
   },
   {
    "duration": 13,
    "start_time": "2022-06-24T13:42:55.001Z"
   },
   {
    "duration": 9,
    "start_time": "2022-06-24T13:42:55.016Z"
   },
   {
    "duration": 9,
    "start_time": "2022-06-24T13:42:55.027Z"
   },
   {
    "duration": 45,
    "start_time": "2022-06-24T13:42:55.038Z"
   },
   {
    "duration": 6,
    "start_time": "2022-06-24T13:42:55.086Z"
   },
   {
    "duration": 9,
    "start_time": "2022-06-24T13:42:55.094Z"
   },
   {
    "duration": 11,
    "start_time": "2022-06-24T13:42:55.105Z"
   },
   {
    "duration": 9,
    "start_time": "2022-06-24T13:42:55.118Z"
   },
   {
    "duration": 11,
    "start_time": "2022-06-24T13:42:55.128Z"
   },
   {
    "duration": 42,
    "start_time": "2022-06-24T13:42:55.140Z"
   },
   {
    "duration": 8,
    "start_time": "2022-06-24T13:42:55.185Z"
   },
   {
    "duration": 12,
    "start_time": "2022-06-24T13:42:55.194Z"
   },
   {
    "duration": 11,
    "start_time": "2022-06-24T13:42:55.208Z"
   },
   {
    "duration": 14,
    "start_time": "2022-06-24T13:42:55.221Z"
   },
   {
    "duration": 6,
    "start_time": "2022-06-24T13:43:55.304Z"
   },
   {
    "duration": 14,
    "start_time": "2022-06-24T13:44:10.881Z"
   },
   {
    "duration": 6,
    "start_time": "2022-06-24T13:44:43.459Z"
   },
   {
    "duration": 6,
    "start_time": "2022-06-24T13:44:44.089Z"
   },
   {
    "duration": 15,
    "start_time": "2022-06-24T13:44:53.017Z"
   },
   {
    "duration": 6,
    "start_time": "2022-06-24T13:44:57.478Z"
   },
   {
    "duration": 130,
    "start_time": "2022-06-24T13:44:59.497Z"
   },
   {
    "duration": 7,
    "start_time": "2022-06-24T13:44:59.730Z"
   },
   {
    "duration": 5,
    "start_time": "2022-06-24T13:45:23.487Z"
   },
   {
    "duration": 7,
    "start_time": "2022-06-24T13:45:24.425Z"
   },
   {
    "duration": 1125,
    "start_time": "2022-06-24T13:45:31.501Z"
   },
   {
    "duration": 27,
    "start_time": "2022-06-24T13:45:32.628Z"
   },
   {
    "duration": 23,
    "start_time": "2022-06-24T13:45:32.657Z"
   },
   {
    "duration": 5,
    "start_time": "2022-06-24T13:45:32.682Z"
   },
   {
    "duration": 10,
    "start_time": "2022-06-24T13:45:32.689Z"
   },
   {
    "duration": 4,
    "start_time": "2022-06-24T13:45:32.700Z"
   },
   {
    "duration": 6,
    "start_time": "2022-06-24T13:45:32.705Z"
   },
   {
    "duration": 12,
    "start_time": "2022-06-24T13:45:32.713Z"
   },
   {
    "duration": 13,
    "start_time": "2022-06-24T13:45:32.727Z"
   },
   {
    "duration": 548,
    "start_time": "2022-06-24T13:45:32.770Z"
   },
   {
    "duration": 38,
    "start_time": "2022-06-24T13:45:33.320Z"
   },
   {
    "duration": 19,
    "start_time": "2022-06-24T13:45:33.360Z"
   },
   {
    "duration": 22,
    "start_time": "2022-06-24T13:45:33.381Z"
   },
   {
    "duration": 5,
    "start_time": "2022-06-24T13:45:33.405Z"
   },
   {
    "duration": 7,
    "start_time": "2022-06-24T13:45:33.412Z"
   },
   {
    "duration": 6,
    "start_time": "2022-06-24T13:45:33.421Z"
   },
   {
    "duration": 6,
    "start_time": "2022-06-24T13:45:33.429Z"
   },
   {
    "duration": 15,
    "start_time": "2022-06-24T13:45:33.437Z"
   },
   {
    "duration": 8,
    "start_time": "2022-06-24T13:45:33.468Z"
   },
   {
    "duration": 11,
    "start_time": "2022-06-24T13:45:33.480Z"
   },
   {
    "duration": 9,
    "start_time": "2022-06-24T13:45:33.493Z"
   },
   {
    "duration": 8,
    "start_time": "2022-06-24T13:45:33.504Z"
   },
   {
    "duration": 18,
    "start_time": "2022-06-24T13:45:33.514Z"
   },
   {
    "duration": 6,
    "start_time": "2022-06-24T13:45:33.534Z"
   },
   {
    "duration": 15,
    "start_time": "2022-06-24T13:45:33.567Z"
   },
   {
    "duration": 10,
    "start_time": "2022-06-24T13:45:33.585Z"
   },
   {
    "duration": 9,
    "start_time": "2022-06-24T13:45:33.596Z"
   },
   {
    "duration": 10,
    "start_time": "2022-06-24T13:45:33.610Z"
   },
   {
    "duration": 23,
    "start_time": "2022-06-24T13:45:33.622Z"
   },
   {
    "duration": 7,
    "start_time": "2022-06-24T13:45:33.647Z"
   },
   {
    "duration": 26,
    "start_time": "2022-06-24T13:45:33.656Z"
   },
   {
    "duration": 7,
    "start_time": "2022-06-24T13:45:33.684Z"
   },
   {
    "duration": 11,
    "start_time": "2022-06-24T13:45:33.692Z"
   },
   {
    "duration": 4,
    "start_time": "2022-06-24T13:46:23.498Z"
   },
   {
    "duration": 9,
    "start_time": "2022-06-24T13:46:24.268Z"
   },
   {
    "duration": 8,
    "start_time": "2022-06-24T13:46:44.486Z"
   },
   {
    "duration": 7,
    "start_time": "2022-06-24T13:47:04.779Z"
   },
   {
    "duration": 19,
    "start_time": "2022-06-24T13:47:05.163Z"
   },
   {
    "duration": 8,
    "start_time": "2022-06-24T13:47:17.292Z"
   },
   {
    "duration": 8,
    "start_time": "2022-06-24T13:47:17.684Z"
   },
   {
    "duration": 21,
    "start_time": "2022-06-24T13:47:20.783Z"
   },
   {
    "duration": 6,
    "start_time": "2022-06-24T13:47:22.403Z"
   },
   {
    "duration": 6,
    "start_time": "2022-06-24T13:47:23.780Z"
   },
   {
    "duration": 10,
    "start_time": "2022-06-24T13:47:24.162Z"
   },
   {
    "duration": 1205,
    "start_time": "2022-06-24T13:48:40.678Z"
   },
   {
    "duration": 28,
    "start_time": "2022-06-24T13:48:41.885Z"
   },
   {
    "duration": 12,
    "start_time": "2022-06-24T13:48:41.915Z"
   },
   {
    "duration": 3,
    "start_time": "2022-06-24T13:48:41.929Z"
   },
   {
    "duration": 13,
    "start_time": "2022-06-24T13:48:41.934Z"
   },
   {
    "duration": 8,
    "start_time": "2022-06-24T13:48:41.949Z"
   },
   {
    "duration": 8,
    "start_time": "2022-06-24T13:48:41.960Z"
   },
   {
    "duration": 18,
    "start_time": "2022-06-24T13:48:41.970Z"
   },
   {
    "duration": 15,
    "start_time": "2022-06-24T13:48:41.990Z"
   },
   {
    "duration": 534,
    "start_time": "2022-06-24T13:48:42.007Z"
   },
   {
    "duration": 37,
    "start_time": "2022-06-24T13:48:42.543Z"
   },
   {
    "duration": 8,
    "start_time": "2022-06-24T13:48:42.582Z"
   },
   {
    "duration": 18,
    "start_time": "2022-06-24T13:48:42.592Z"
   },
   {
    "duration": 4,
    "start_time": "2022-06-24T13:48:42.613Z"
   },
   {
    "duration": 6,
    "start_time": "2022-06-24T13:48:42.619Z"
   },
   {
    "duration": 8,
    "start_time": "2022-06-24T13:48:42.627Z"
   },
   {
    "duration": 10,
    "start_time": "2022-06-24T13:48:42.636Z"
   },
   {
    "duration": 26,
    "start_time": "2022-06-24T13:48:42.648Z"
   },
   {
    "duration": 6,
    "start_time": "2022-06-24T13:48:42.676Z"
   },
   {
    "duration": 7,
    "start_time": "2022-06-24T13:48:42.684Z"
   },
   {
    "duration": 7,
    "start_time": "2022-06-24T13:48:42.692Z"
   },
   {
    "duration": 10,
    "start_time": "2022-06-24T13:48:42.701Z"
   },
   {
    "duration": 16,
    "start_time": "2022-06-24T13:48:42.712Z"
   },
   {
    "duration": 5,
    "start_time": "2022-06-24T13:48:42.768Z"
   },
   {
    "duration": 6,
    "start_time": "2022-06-24T13:48:42.775Z"
   },
   {
    "duration": 8,
    "start_time": "2022-06-24T13:48:42.782Z"
   },
   {
    "duration": 10,
    "start_time": "2022-06-24T13:48:42.791Z"
   },
   {
    "duration": 14,
    "start_time": "2022-06-24T13:48:42.803Z"
   },
   {
    "duration": 18,
    "start_time": "2022-06-24T13:48:42.819Z"
   },
   {
    "duration": 34,
    "start_time": "2022-06-24T13:48:42.839Z"
   },
   {
    "duration": 14,
    "start_time": "2022-06-24T13:48:42.875Z"
   },
   {
    "duration": 7,
    "start_time": "2022-06-24T13:48:42.891Z"
   },
   {
    "duration": 25,
    "start_time": "2022-06-24T13:48:42.900Z"
   },
   {
    "duration": 7,
    "start_time": "2022-06-24T13:52:58.004Z"
   },
   {
    "duration": 1221,
    "start_time": "2022-06-24T13:53:03.716Z"
   },
   {
    "duration": 41,
    "start_time": "2022-06-24T13:53:04.939Z"
   },
   {
    "duration": 12,
    "start_time": "2022-06-24T13:53:04.982Z"
   },
   {
    "duration": 5,
    "start_time": "2022-06-24T13:53:04.996Z"
   },
   {
    "duration": 10,
    "start_time": "2022-06-24T13:53:05.003Z"
   },
   {
    "duration": 7,
    "start_time": "2022-06-24T13:53:05.014Z"
   },
   {
    "duration": 11,
    "start_time": "2022-06-24T13:53:05.023Z"
   },
   {
    "duration": 37,
    "start_time": "2022-06-24T13:53:05.036Z"
   },
   {
    "duration": 14,
    "start_time": "2022-06-24T13:53:05.074Z"
   },
   {
    "duration": 599,
    "start_time": "2022-06-24T13:53:05.090Z"
   },
   {
    "duration": 44,
    "start_time": "2022-06-24T13:53:05.691Z"
   },
   {
    "duration": 8,
    "start_time": "2022-06-24T13:53:05.737Z"
   },
   {
    "duration": 23,
    "start_time": "2022-06-24T13:53:05.747Z"
   },
   {
    "duration": 18,
    "start_time": "2022-06-24T13:53:05.779Z"
   },
   {
    "duration": 9,
    "start_time": "2022-06-24T13:53:05.799Z"
   },
   {
    "duration": 15,
    "start_time": "2022-06-24T13:53:05.810Z"
   },
   {
    "duration": 16,
    "start_time": "2022-06-24T13:53:05.827Z"
   },
   {
    "duration": 14,
    "start_time": "2022-06-24T13:53:05.845Z"
   },
   {
    "duration": 28,
    "start_time": "2022-06-24T13:53:05.861Z"
   },
   {
    "duration": 30,
    "start_time": "2022-06-24T13:53:05.891Z"
   },
   {
    "duration": 9,
    "start_time": "2022-06-24T13:53:05.923Z"
   },
   {
    "duration": 10,
    "start_time": "2022-06-24T13:53:05.934Z"
   },
   {
    "duration": 21,
    "start_time": "2022-06-24T13:53:05.946Z"
   },
   {
    "duration": 12,
    "start_time": "2022-06-24T13:53:05.972Z"
   },
   {
    "duration": 7,
    "start_time": "2022-06-24T13:53:05.986Z"
   },
   {
    "duration": 10,
    "start_time": "2022-06-24T13:53:05.995Z"
   },
   {
    "duration": 12,
    "start_time": "2022-06-24T13:53:06.007Z"
   },
   {
    "duration": 16,
    "start_time": "2022-06-24T13:53:06.021Z"
   },
   {
    "duration": 36,
    "start_time": "2022-06-24T13:53:06.039Z"
   },
   {
    "duration": 9,
    "start_time": "2022-06-24T13:53:06.077Z"
   },
   {
    "duration": 12,
    "start_time": "2022-06-24T13:53:06.089Z"
   },
   {
    "duration": 5,
    "start_time": "2022-06-24T13:53:06.104Z"
   },
   {
    "duration": 28,
    "start_time": "2022-06-24T13:53:06.111Z"
   },
   {
    "duration": 7,
    "start_time": "2022-06-24T13:55:30.432Z"
   },
   {
    "duration": 7,
    "start_time": "2022-06-24T13:55:32.286Z"
   },
   {
    "duration": 11,
    "start_time": "2022-06-24T13:55:52.784Z"
   },
   {
    "duration": 8,
    "start_time": "2022-06-24T13:55:53.526Z"
   },
   {
    "duration": 9,
    "start_time": "2022-06-24T13:56:05.074Z"
   },
   {
    "duration": 8,
    "start_time": "2022-06-24T13:56:05.689Z"
   },
   {
    "duration": 7,
    "start_time": "2022-06-24T13:56:26.516Z"
   },
   {
    "duration": 7,
    "start_time": "2022-06-24T13:56:26.887Z"
   },
   {
    "duration": 7,
    "start_time": "2022-06-24T13:56:34.743Z"
   },
   {
    "duration": 7,
    "start_time": "2022-06-24T13:56:35.177Z"
   },
   {
    "duration": 1190,
    "start_time": "2022-06-24T13:56:47.755Z"
   },
   {
    "duration": 29,
    "start_time": "2022-06-24T13:56:48.948Z"
   },
   {
    "duration": 17,
    "start_time": "2022-06-24T13:56:48.980Z"
   },
   {
    "duration": 11,
    "start_time": "2022-06-24T13:56:48.999Z"
   },
   {
    "duration": 20,
    "start_time": "2022-06-24T13:56:49.012Z"
   },
   {
    "duration": 14,
    "start_time": "2022-06-24T13:56:49.034Z"
   },
   {
    "duration": 12,
    "start_time": "2022-06-24T13:56:49.051Z"
   },
   {
    "duration": 26,
    "start_time": "2022-06-24T13:56:49.065Z"
   },
   {
    "duration": 16,
    "start_time": "2022-06-24T13:56:49.094Z"
   },
   {
    "duration": 568,
    "start_time": "2022-06-24T13:56:49.113Z"
   },
   {
    "duration": 40,
    "start_time": "2022-06-24T13:56:49.684Z"
   },
   {
    "duration": 11,
    "start_time": "2022-06-24T13:56:49.726Z"
   },
   {
    "duration": 19,
    "start_time": "2022-06-24T13:56:49.739Z"
   },
   {
    "duration": 8,
    "start_time": "2022-06-24T13:56:49.760Z"
   },
   {
    "duration": 8,
    "start_time": "2022-06-24T13:56:49.770Z"
   },
   {
    "duration": 9,
    "start_time": "2022-06-24T13:56:49.780Z"
   },
   {
    "duration": 9,
    "start_time": "2022-06-24T13:56:49.791Z"
   },
   {
    "duration": 20,
    "start_time": "2022-06-24T13:56:49.801Z"
   },
   {
    "duration": 11,
    "start_time": "2022-06-24T13:56:49.823Z"
   },
   {
    "duration": 10,
    "start_time": "2022-06-24T13:56:49.836Z"
   },
   {
    "duration": 26,
    "start_time": "2022-06-24T13:56:49.848Z"
   },
   {
    "duration": 10,
    "start_time": "2022-06-24T13:56:49.875Z"
   },
   {
    "duration": 22,
    "start_time": "2022-06-24T13:56:49.887Z"
   },
   {
    "duration": 5,
    "start_time": "2022-06-24T13:56:49.911Z"
   },
   {
    "duration": 14,
    "start_time": "2022-06-24T13:56:49.918Z"
   },
   {
    "duration": 9,
    "start_time": "2022-06-24T13:56:49.934Z"
   },
   {
    "duration": 8,
    "start_time": "2022-06-24T13:56:49.968Z"
   },
   {
    "duration": 13,
    "start_time": "2022-06-24T13:56:49.979Z"
   },
   {
    "duration": 38,
    "start_time": "2022-06-24T13:56:49.994Z"
   },
   {
    "duration": 8,
    "start_time": "2022-06-24T13:56:50.034Z"
   },
   {
    "duration": 19,
    "start_time": "2022-06-24T13:56:50.044Z"
   },
   {
    "duration": 18,
    "start_time": "2022-06-24T13:56:50.065Z"
   },
   {
    "duration": 22,
    "start_time": "2022-06-24T13:56:50.084Z"
   },
   {
    "duration": 12,
    "start_time": "2022-06-24T13:59:55.540Z"
   },
   {
    "duration": 52,
    "start_time": "2022-06-24T14:00:20.386Z"
   },
   {
    "duration": 11,
    "start_time": "2022-06-24T14:00:26.815Z"
   },
   {
    "duration": 4,
    "start_time": "2022-06-24T14:00:37.497Z"
   },
   {
    "duration": 12,
    "start_time": "2022-06-24T14:01:54.750Z"
   },
   {
    "duration": 4,
    "start_time": "2022-06-24T14:01:55.874Z"
   },
   {
    "duration": 115,
    "start_time": "2022-06-24T14:02:13.249Z"
   },
   {
    "duration": 13,
    "start_time": "2022-06-24T14:02:17.885Z"
   },
   {
    "duration": 4,
    "start_time": "2022-06-24T14:02:20.988Z"
   },
   {
    "duration": 12,
    "start_time": "2022-06-24T14:02:25.152Z"
   },
   {
    "duration": 4,
    "start_time": "2022-06-24T14:02:26.316Z"
   },
   {
    "duration": 7,
    "start_time": "2022-06-24T14:03:05.967Z"
   },
   {
    "duration": 13,
    "start_time": "2022-06-24T14:03:14.987Z"
   },
   {
    "duration": 6,
    "start_time": "2022-06-24T14:03:15.992Z"
   },
   {
    "duration": 6,
    "start_time": "2022-06-24T14:03:26.415Z"
   },
   {
    "duration": 11,
    "start_time": "2022-06-24T14:03:55.343Z"
   },
   {
    "duration": 5,
    "start_time": "2022-06-24T14:03:56.165Z"
   },
   {
    "duration": 5,
    "start_time": "2022-06-24T14:04:01.768Z"
   },
   {
    "duration": 8,
    "start_time": "2022-06-24T14:04:02.915Z"
   },
   {
    "duration": 6,
    "start_time": "2022-06-24T14:04:05.740Z"
   },
   {
    "duration": 10,
    "start_time": "2022-06-24T14:04:09.171Z"
   },
   {
    "duration": 19,
    "start_time": "2022-06-24T14:04:44.375Z"
   },
   {
    "duration": 12,
    "start_time": "2022-06-24T14:04:50.841Z"
   },
   {
    "duration": 12,
    "start_time": "2022-06-24T14:05:01.888Z"
   },
   {
    "duration": 12,
    "start_time": "2022-06-24T14:05:28.717Z"
   },
   {
    "duration": 6,
    "start_time": "2022-06-24T14:05:30.484Z"
   },
   {
    "duration": 1109,
    "start_time": "2022-06-24T14:05:35.115Z"
   },
   {
    "duration": 28,
    "start_time": "2022-06-24T14:05:36.226Z"
   },
   {
    "duration": 14,
    "start_time": "2022-06-24T14:05:36.258Z"
   },
   {
    "duration": 15,
    "start_time": "2022-06-24T14:05:36.275Z"
   },
   {
    "duration": 32,
    "start_time": "2022-06-24T14:05:36.292Z"
   },
   {
    "duration": 18,
    "start_time": "2022-06-24T14:05:36.325Z"
   },
   {
    "duration": 18,
    "start_time": "2022-06-24T14:05:36.345Z"
   },
   {
    "duration": 37,
    "start_time": "2022-06-24T14:05:36.365Z"
   },
   {
    "duration": 17,
    "start_time": "2022-06-24T14:05:36.404Z"
   },
   {
    "duration": 530,
    "start_time": "2022-06-24T14:05:36.423Z"
   },
   {
    "duration": 38,
    "start_time": "2022-06-24T14:05:36.956Z"
   },
   {
    "duration": 8,
    "start_time": "2022-06-24T14:05:36.995Z"
   },
   {
    "duration": 32,
    "start_time": "2022-06-24T14:05:37.007Z"
   },
   {
    "duration": 24,
    "start_time": "2022-06-24T14:05:37.041Z"
   },
   {
    "duration": 23,
    "start_time": "2022-06-24T14:05:37.067Z"
   },
   {
    "duration": 34,
    "start_time": "2022-06-24T14:05:37.092Z"
   },
   {
    "duration": 19,
    "start_time": "2022-06-24T14:05:37.128Z"
   },
   {
    "duration": 32,
    "start_time": "2022-06-24T14:05:37.148Z"
   },
   {
    "duration": 24,
    "start_time": "2022-06-24T14:05:37.182Z"
   },
   {
    "duration": 27,
    "start_time": "2022-06-24T14:05:37.207Z"
   },
   {
    "duration": 24,
    "start_time": "2022-06-24T14:05:37.236Z"
   },
   {
    "duration": 21,
    "start_time": "2022-06-24T14:05:37.262Z"
   },
   {
    "duration": 13,
    "start_time": "2022-06-24T14:05:37.285Z"
   },
   {
    "duration": 6,
    "start_time": "2022-06-24T14:05:37.300Z"
   },
   {
    "duration": 6,
    "start_time": "2022-06-24T14:05:37.308Z"
   },
   {
    "duration": 10,
    "start_time": "2022-06-24T14:05:37.316Z"
   },
   {
    "duration": 8,
    "start_time": "2022-06-24T14:05:37.327Z"
   },
   {
    "duration": 35,
    "start_time": "2022-06-24T14:05:37.336Z"
   },
   {
    "duration": 28,
    "start_time": "2022-06-24T14:05:37.372Z"
   },
   {
    "duration": 9,
    "start_time": "2022-06-24T14:05:37.402Z"
   },
   {
    "duration": 14,
    "start_time": "2022-06-24T14:05:37.413Z"
   },
   {
    "duration": 6,
    "start_time": "2022-06-24T14:05:37.429Z"
   },
   {
    "duration": 18,
    "start_time": "2022-06-24T14:05:37.437Z"
   },
   {
    "duration": 5,
    "start_time": "2022-06-24T14:28:58.254Z"
   },
   {
    "duration": 10,
    "start_time": "2022-06-24T14:28:58.686Z"
   },
   {
    "duration": 110,
    "start_time": "2022-06-24T14:29:57.708Z"
   },
   {
    "duration": 9,
    "start_time": "2022-06-24T14:29:58.185Z"
   },
   {
    "duration": 10,
    "start_time": "2022-06-24T14:30:20.257Z"
   },
   {
    "duration": 1191,
    "start_time": "2022-06-24T14:30:39.685Z"
   },
   {
    "duration": 29,
    "start_time": "2022-06-24T14:30:40.881Z"
   },
   {
    "duration": 13,
    "start_time": "2022-06-24T14:30:40.912Z"
   },
   {
    "duration": 3,
    "start_time": "2022-06-24T14:30:40.927Z"
   },
   {
    "duration": 14,
    "start_time": "2022-06-24T14:30:40.932Z"
   },
   {
    "duration": 7,
    "start_time": "2022-06-24T14:30:40.947Z"
   },
   {
    "duration": 13,
    "start_time": "2022-06-24T14:30:40.956Z"
   },
   {
    "duration": 31,
    "start_time": "2022-06-24T14:30:40.970Z"
   },
   {
    "duration": 13,
    "start_time": "2022-06-24T14:30:41.003Z"
   },
   {
    "duration": 563,
    "start_time": "2022-06-24T14:30:41.020Z"
   },
   {
    "duration": 38,
    "start_time": "2022-06-24T14:30:41.586Z"
   },
   {
    "duration": 9,
    "start_time": "2022-06-24T14:30:41.626Z"
   },
   {
    "duration": 17,
    "start_time": "2022-06-24T14:30:41.637Z"
   },
   {
    "duration": 10,
    "start_time": "2022-06-24T14:30:41.655Z"
   },
   {
    "duration": 24,
    "start_time": "2022-06-24T14:30:41.667Z"
   },
   {
    "duration": 9,
    "start_time": "2022-06-24T14:30:41.693Z"
   },
   {
    "duration": 6,
    "start_time": "2022-06-24T14:30:41.704Z"
   },
   {
    "duration": 16,
    "start_time": "2022-06-24T14:30:41.712Z"
   },
   {
    "duration": 10,
    "start_time": "2022-06-24T14:30:41.730Z"
   },
   {
    "duration": 7,
    "start_time": "2022-06-24T14:30:41.742Z"
   },
   {
    "duration": 21,
    "start_time": "2022-06-24T14:30:41.751Z"
   },
   {
    "duration": 9,
    "start_time": "2022-06-24T14:30:41.774Z"
   },
   {
    "duration": 16,
    "start_time": "2022-06-24T14:30:41.785Z"
   },
   {
    "duration": 5,
    "start_time": "2022-06-24T14:30:41.803Z"
   },
   {
    "duration": 7,
    "start_time": "2022-06-24T14:30:41.810Z"
   },
   {
    "duration": 14,
    "start_time": "2022-06-24T14:30:41.819Z"
   },
   {
    "duration": 36,
    "start_time": "2022-06-24T14:30:41.834Z"
   },
   {
    "duration": 7,
    "start_time": "2022-06-24T14:30:41.875Z"
   },
   {
    "duration": 15,
    "start_time": "2022-06-24T14:30:41.884Z"
   },
   {
    "duration": 27,
    "start_time": "2022-06-24T14:30:41.901Z"
   },
   {
    "duration": 8,
    "start_time": "2022-06-24T14:30:41.930Z"
   },
   {
    "duration": 15,
    "start_time": "2022-06-24T14:30:41.940Z"
   },
   {
    "duration": 15,
    "start_time": "2022-06-24T14:30:41.957Z"
   },
   {
    "duration": 24,
    "start_time": "2022-06-24T14:30:41.973Z"
   },
   {
    "duration": 4,
    "start_time": "2022-06-24T14:31:06.952Z"
   },
   {
    "duration": 9,
    "start_time": "2022-06-24T14:31:07.809Z"
   },
   {
    "duration": 9,
    "start_time": "2022-06-24T14:31:13.581Z"
   },
   {
    "duration": 60,
    "start_time": "2022-06-24T14:33:01.246Z"
   },
   {
    "duration": 130,
    "start_time": "2022-06-24T14:33:14.785Z"
   },
   {
    "duration": 36,
    "start_time": "2022-06-24T14:33:32.100Z"
   },
   {
    "duration": 15,
    "start_time": "2022-06-24T14:33:36.777Z"
   },
   {
    "duration": 26,
    "start_time": "2022-06-24T14:34:12.424Z"
   },
   {
    "duration": 22,
    "start_time": "2022-06-24T14:34:20.825Z"
   },
   {
    "duration": 12,
    "start_time": "2022-06-24T14:34:54.672Z"
   },
   {
    "duration": 9,
    "start_time": "2022-06-24T14:34:57.139Z"
   },
   {
    "duration": 7,
    "start_time": "2022-06-24T14:35:01.955Z"
   },
   {
    "duration": 5,
    "start_time": "2022-06-24T14:37:29.079Z"
   },
   {
    "duration": 9,
    "start_time": "2022-06-24T14:37:29.949Z"
   },
   {
    "duration": 7,
    "start_time": "2022-06-24T14:37:32.094Z"
   },
   {
    "duration": 1230,
    "start_time": "2022-06-24T14:37:38.425Z"
   },
   {
    "duration": 35,
    "start_time": "2022-06-24T14:37:39.657Z"
   },
   {
    "duration": 12,
    "start_time": "2022-06-24T14:37:39.693Z"
   },
   {
    "duration": 5,
    "start_time": "2022-06-24T14:37:39.707Z"
   },
   {
    "duration": 9,
    "start_time": "2022-06-24T14:37:39.714Z"
   },
   {
    "duration": 5,
    "start_time": "2022-06-24T14:37:39.725Z"
   },
   {
    "duration": 6,
    "start_time": "2022-06-24T14:37:39.732Z"
   },
   {
    "duration": 15,
    "start_time": "2022-06-24T14:37:39.739Z"
   },
   {
    "duration": 14,
    "start_time": "2022-06-24T14:37:39.755Z"
   },
   {
    "duration": 550,
    "start_time": "2022-06-24T14:37:39.771Z"
   },
   {
    "duration": 38,
    "start_time": "2022-06-24T14:37:40.323Z"
   },
   {
    "duration": 21,
    "start_time": "2022-06-24T14:37:40.363Z"
   },
   {
    "duration": 26,
    "start_time": "2022-06-24T14:37:40.386Z"
   },
   {
    "duration": 14,
    "start_time": "2022-06-24T14:37:40.415Z"
   },
   {
    "duration": 13,
    "start_time": "2022-06-24T14:37:40.431Z"
   },
   {
    "duration": 9,
    "start_time": "2022-06-24T14:37:40.446Z"
   },
   {
    "duration": 8,
    "start_time": "2022-06-24T14:37:40.457Z"
   },
   {
    "duration": 31,
    "start_time": "2022-06-24T14:37:40.466Z"
   },
   {
    "duration": 12,
    "start_time": "2022-06-24T14:37:40.499Z"
   },
   {
    "duration": 9,
    "start_time": "2022-06-24T14:37:40.513Z"
   },
   {
    "duration": 13,
    "start_time": "2022-06-24T14:37:40.523Z"
   },
   {
    "duration": 11,
    "start_time": "2022-06-24T14:37:40.538Z"
   },
   {
    "duration": 24,
    "start_time": "2022-06-24T14:37:40.551Z"
   },
   {
    "duration": 7,
    "start_time": "2022-06-24T14:37:40.578Z"
   },
   {
    "duration": 10,
    "start_time": "2022-06-24T14:37:40.586Z"
   },
   {
    "duration": 15,
    "start_time": "2022-06-24T14:37:40.598Z"
   },
   {
    "duration": 10,
    "start_time": "2022-06-24T14:37:40.614Z"
   },
   {
    "duration": 10,
    "start_time": "2022-06-24T14:37:40.626Z"
   },
   {
    "duration": 14,
    "start_time": "2022-06-24T14:37:40.638Z"
   },
   {
    "duration": 30,
    "start_time": "2022-06-24T14:37:40.654Z"
   },
   {
    "duration": 8,
    "start_time": "2022-06-24T14:37:40.690Z"
   },
   {
    "duration": 17,
    "start_time": "2022-06-24T14:37:40.700Z"
   },
   {
    "duration": 9,
    "start_time": "2022-06-24T14:37:40.719Z"
   },
   {
    "duration": 12,
    "start_time": "2022-06-24T14:37:40.729Z"
   },
   {
    "duration": 98,
    "start_time": "2022-06-24T14:40:56.701Z"
   },
   {
    "duration": 9,
    "start_time": "2022-06-24T14:41:16.216Z"
   },
   {
    "duration": 117,
    "start_time": "2022-06-24T14:45:04.689Z"
   },
   {
    "duration": 7,
    "start_time": "2022-06-24T14:45:54.242Z"
   },
   {
    "duration": 107,
    "start_time": "2022-06-24T14:45:58.549Z"
   },
   {
    "duration": 4,
    "start_time": "2022-06-24T14:46:08.250Z"
   },
   {
    "duration": 3,
    "start_time": "2022-06-24T14:46:43.826Z"
   },
   {
    "duration": 14,
    "start_time": "2022-06-24T14:49:03.622Z"
   },
   {
    "duration": 10,
    "start_time": "2022-06-24T14:49:15.722Z"
   },
   {
    "duration": 104,
    "start_time": "2022-06-24T14:49:38.294Z"
   },
   {
    "duration": 6,
    "start_time": "2022-06-24T14:50:26.232Z"
   },
   {
    "duration": 47,
    "start_time": "2022-06-24T14:50:58.016Z"
   },
   {
    "duration": 49,
    "start_time": "2022-06-24T14:51:00.479Z"
   },
   {
    "duration": 15,
    "start_time": "2022-06-24T14:51:39.091Z"
   },
   {
    "duration": 102,
    "start_time": "2022-06-24T14:52:00.826Z"
   },
   {
    "duration": 1169,
    "start_time": "2022-06-24T14:52:17.946Z"
   },
   {
    "duration": 29,
    "start_time": "2022-06-24T14:52:19.118Z"
   },
   {
    "duration": 26,
    "start_time": "2022-06-24T14:52:19.150Z"
   },
   {
    "duration": 11,
    "start_time": "2022-06-24T14:52:19.178Z"
   },
   {
    "duration": 17,
    "start_time": "2022-06-24T14:52:19.192Z"
   },
   {
    "duration": 5,
    "start_time": "2022-06-24T14:52:19.210Z"
   },
   {
    "duration": 15,
    "start_time": "2022-06-24T14:52:19.217Z"
   },
   {
    "duration": 39,
    "start_time": "2022-06-24T14:52:19.235Z"
   },
   {
    "duration": 14,
    "start_time": "2022-06-24T14:52:19.275Z"
   },
   {
    "duration": 619,
    "start_time": "2022-06-24T14:52:19.291Z"
   },
   {
    "duration": 38,
    "start_time": "2022-06-24T14:52:19.912Z"
   },
   {
    "duration": 9,
    "start_time": "2022-06-24T14:52:19.952Z"
   },
   {
    "duration": 13,
    "start_time": "2022-06-24T14:52:19.963Z"
   },
   {
    "duration": 4,
    "start_time": "2022-06-24T14:52:19.979Z"
   },
   {
    "duration": 7,
    "start_time": "2022-06-24T14:52:19.984Z"
   },
   {
    "duration": 8,
    "start_time": "2022-06-24T14:52:19.993Z"
   },
   {
    "duration": 11,
    "start_time": "2022-06-24T14:52:20.003Z"
   },
   {
    "duration": 14,
    "start_time": "2022-06-24T14:52:20.016Z"
   },
   {
    "duration": 25,
    "start_time": "2022-06-24T14:52:20.032Z"
   },
   {
    "duration": 19,
    "start_time": "2022-06-24T14:52:20.059Z"
   },
   {
    "duration": 14,
    "start_time": "2022-06-24T14:52:20.080Z"
   },
   {
    "duration": 28,
    "start_time": "2022-06-24T14:52:20.096Z"
   },
   {
    "duration": 19,
    "start_time": "2022-06-24T14:52:20.126Z"
   },
   {
    "duration": 116,
    "start_time": "2022-06-24T14:52:20.147Z"
   },
   {
    "duration": 15,
    "start_time": "2022-06-24T14:52:20.268Z"
   },
   {
    "duration": 5,
    "start_time": "2022-06-24T14:52:20.284Z"
   },
   {
    "duration": 12,
    "start_time": "2022-06-24T14:52:20.291Z"
   },
   {
    "duration": 15,
    "start_time": "2022-06-24T14:52:20.305Z"
   },
   {
    "duration": 9,
    "start_time": "2022-06-24T14:52:20.321Z"
   },
   {
    "duration": 38,
    "start_time": "2022-06-24T14:52:20.331Z"
   },
   {
    "duration": 9,
    "start_time": "2022-06-24T14:52:20.371Z"
   },
   {
    "duration": 34,
    "start_time": "2022-06-24T14:52:20.381Z"
   },
   {
    "duration": 8,
    "start_time": "2022-06-24T14:52:20.417Z"
   },
   {
    "duration": 13,
    "start_time": "2022-06-24T14:52:20.426Z"
   },
   {
    "duration": 12,
    "start_time": "2022-06-24T14:52:20.440Z"
   },
   {
    "duration": 13,
    "start_time": "2022-06-24T14:52:20.454Z"
   },
   {
    "duration": 46,
    "start_time": "2022-06-24T14:52:51.351Z"
   },
   {
    "duration": 9,
    "start_time": "2022-06-24T14:53:21.073Z"
   },
   {
    "duration": 45,
    "start_time": "2022-06-24T14:53:21.979Z"
   },
   {
    "duration": 12,
    "start_time": "2022-06-24T14:53:49.521Z"
   },
   {
    "duration": 11,
    "start_time": "2022-06-24T14:53:53.561Z"
   },
   {
    "duration": 118,
    "start_time": "2022-06-24T14:53:56.301Z"
   },
   {
    "duration": 23,
    "start_time": "2022-06-24T14:53:59.023Z"
   },
   {
    "duration": 56,
    "start_time": "2022-06-24T14:54:02.603Z"
   },
   {
    "duration": 61,
    "start_time": "2022-06-24T14:54:10.046Z"
   },
   {
    "duration": 47,
    "start_time": "2022-06-24T14:54:14.130Z"
   },
   {
    "duration": 20,
    "start_time": "2022-06-24T14:54:19.813Z"
   },
   {
    "duration": 50,
    "start_time": "2022-06-24T14:54:26.918Z"
   },
   {
    "duration": 8,
    "start_time": "2022-06-24T14:56:08.226Z"
   },
   {
    "duration": 1102,
    "start_time": "2022-06-24T14:58:05.014Z"
   },
   {
    "duration": 28,
    "start_time": "2022-06-24T14:58:06.119Z"
   },
   {
    "duration": 12,
    "start_time": "2022-06-24T14:58:06.149Z"
   },
   {
    "duration": 23,
    "start_time": "2022-06-24T14:58:06.164Z"
   },
   {
    "duration": 16,
    "start_time": "2022-06-24T14:58:06.189Z"
   },
   {
    "duration": 11,
    "start_time": "2022-06-24T14:58:06.207Z"
   },
   {
    "duration": 7,
    "start_time": "2022-06-24T14:58:06.220Z"
   },
   {
    "duration": 18,
    "start_time": "2022-06-24T14:58:06.229Z"
   },
   {
    "duration": 16,
    "start_time": "2022-06-24T14:58:06.249Z"
   },
   {
    "duration": 513,
    "start_time": "2022-06-24T14:58:06.268Z"
   },
   {
    "duration": 41,
    "start_time": "2022-06-24T14:58:06.783Z"
   },
   {
    "duration": 9,
    "start_time": "2022-06-24T14:58:06.826Z"
   },
   {
    "duration": 12,
    "start_time": "2022-06-24T14:58:06.836Z"
   },
   {
    "duration": 6,
    "start_time": "2022-06-24T14:58:06.849Z"
   },
   {
    "duration": 5,
    "start_time": "2022-06-24T14:58:06.856Z"
   },
   {
    "duration": 12,
    "start_time": "2022-06-24T14:58:06.863Z"
   },
   {
    "duration": 12,
    "start_time": "2022-06-24T14:58:06.877Z"
   },
   {
    "duration": 15,
    "start_time": "2022-06-24T14:58:06.891Z"
   },
   {
    "duration": 8,
    "start_time": "2022-06-24T14:58:06.908Z"
   },
   {
    "duration": 9,
    "start_time": "2022-06-24T14:58:06.918Z"
   },
   {
    "duration": 8,
    "start_time": "2022-06-24T14:58:06.929Z"
   },
   {
    "duration": 7,
    "start_time": "2022-06-24T14:58:06.939Z"
   },
   {
    "duration": 25,
    "start_time": "2022-06-24T14:58:06.948Z"
   },
   {
    "duration": 5,
    "start_time": "2022-06-24T14:58:06.974Z"
   },
   {
    "duration": 23,
    "start_time": "2022-06-24T14:58:06.981Z"
   },
   {
    "duration": 9,
    "start_time": "2022-06-24T14:58:07.005Z"
   },
   {
    "duration": 116,
    "start_time": "2022-06-24T14:58:07.016Z"
   },
   {
    "duration": 0,
    "start_time": "2022-06-24T14:58:07.134Z"
   },
   {
    "duration": 0,
    "start_time": "2022-06-24T14:58:07.136Z"
   },
   {
    "duration": 0,
    "start_time": "2022-06-24T14:58:07.138Z"
   },
   {
    "duration": 0,
    "start_time": "2022-06-24T14:58:07.138Z"
   },
   {
    "duration": 0,
    "start_time": "2022-06-24T14:58:07.139Z"
   },
   {
    "duration": 0,
    "start_time": "2022-06-24T14:58:07.141Z"
   },
   {
    "duration": 8,
    "start_time": "2022-06-24T14:58:41.453Z"
   },
   {
    "duration": 10,
    "start_time": "2022-06-24T14:59:04.832Z"
   },
   {
    "duration": 1104,
    "start_time": "2022-06-24T14:59:27.183Z"
   },
   {
    "duration": 28,
    "start_time": "2022-06-24T14:59:28.289Z"
   },
   {
    "duration": 11,
    "start_time": "2022-06-24T14:59:28.319Z"
   },
   {
    "duration": 3,
    "start_time": "2022-06-24T14:59:28.332Z"
   },
   {
    "duration": 10,
    "start_time": "2022-06-24T14:59:28.338Z"
   },
   {
    "duration": 6,
    "start_time": "2022-06-24T14:59:28.350Z"
   },
   {
    "duration": 10,
    "start_time": "2022-06-24T14:59:28.358Z"
   },
   {
    "duration": 22,
    "start_time": "2022-06-24T14:59:28.377Z"
   },
   {
    "duration": 11,
    "start_time": "2022-06-24T14:59:28.400Z"
   },
   {
    "duration": 531,
    "start_time": "2022-06-24T14:59:28.413Z"
   },
   {
    "duration": 54,
    "start_time": "2022-06-24T14:59:28.946Z"
   },
   {
    "duration": 11,
    "start_time": "2022-06-24T14:59:29.002Z"
   },
   {
    "duration": 26,
    "start_time": "2022-06-24T14:59:29.015Z"
   },
   {
    "duration": 6,
    "start_time": "2022-06-24T14:59:29.045Z"
   },
   {
    "duration": 13,
    "start_time": "2022-06-24T14:59:29.053Z"
   },
   {
    "duration": 25,
    "start_time": "2022-06-24T14:59:29.068Z"
   },
   {
    "duration": 12,
    "start_time": "2022-06-24T14:59:29.095Z"
   },
   {
    "duration": 14,
    "start_time": "2022-06-24T14:59:29.111Z"
   },
   {
    "duration": 18,
    "start_time": "2022-06-24T14:59:29.128Z"
   },
   {
    "duration": 14,
    "start_time": "2022-06-24T14:59:29.149Z"
   },
   {
    "duration": 30,
    "start_time": "2022-06-24T14:59:29.165Z"
   },
   {
    "duration": 14,
    "start_time": "2022-06-24T14:59:29.197Z"
   },
   {
    "duration": 22,
    "start_time": "2022-06-24T14:59:29.213Z"
   },
   {
    "duration": 5,
    "start_time": "2022-06-24T14:59:29.237Z"
   },
   {
    "duration": 12,
    "start_time": "2022-06-24T14:59:29.244Z"
   },
   {
    "duration": 8,
    "start_time": "2022-06-24T14:59:29.258Z"
   },
   {
    "duration": 25,
    "start_time": "2022-06-24T14:59:29.268Z"
   },
   {
    "duration": 12,
    "start_time": "2022-06-24T14:59:29.295Z"
   },
   {
    "duration": 27,
    "start_time": "2022-06-24T14:59:29.308Z"
   },
   {
    "duration": 7,
    "start_time": "2022-06-24T14:59:29.336Z"
   },
   {
    "duration": 15,
    "start_time": "2022-06-24T14:59:29.344Z"
   },
   {
    "duration": 10,
    "start_time": "2022-06-24T14:59:29.361Z"
   },
   {
    "duration": 26,
    "start_time": "2022-06-24T14:59:29.373Z"
   },
   {
    "duration": 9,
    "start_time": "2022-06-24T14:59:49.280Z"
   },
   {
    "duration": 5,
    "start_time": "2022-06-24T14:59:54.811Z"
   },
   {
    "duration": 66,
    "start_time": "2022-06-24T15:01:08.032Z"
   },
   {
    "duration": 4,
    "start_time": "2022-06-24T15:01:14.083Z"
   },
   {
    "duration": 105,
    "start_time": "2022-06-24T15:02:05.617Z"
   },
   {
    "duration": 89,
    "start_time": "2022-06-24T15:02:26.750Z"
   },
   {
    "duration": 117,
    "start_time": "2022-06-24T15:02:33.384Z"
   },
   {
    "duration": 4,
    "start_time": "2022-06-24T15:02:45.285Z"
   },
   {
    "duration": 13,
    "start_time": "2022-06-24T15:02:57.687Z"
   },
   {
    "duration": 4,
    "start_time": "2022-06-24T15:03:15.443Z"
   },
   {
    "duration": 16,
    "start_time": "2022-06-24T15:03:19.364Z"
   },
   {
    "duration": 11,
    "start_time": "2022-06-24T15:03:29.265Z"
   },
   {
    "duration": 5,
    "start_time": "2022-06-24T15:03:37.986Z"
   },
   {
    "duration": 5,
    "start_time": "2022-06-24T15:03:53.856Z"
   },
   {
    "duration": 6,
    "start_time": "2022-06-24T15:04:32.587Z"
   },
   {
    "duration": 5,
    "start_time": "2022-06-24T15:05:31.218Z"
   },
   {
    "duration": 1159,
    "start_time": "2022-06-24T15:06:05.200Z"
   },
   {
    "duration": 47,
    "start_time": "2022-06-24T15:06:06.362Z"
   },
   {
    "duration": 16,
    "start_time": "2022-06-24T15:06:06.411Z"
   },
   {
    "duration": 8,
    "start_time": "2022-06-24T15:06:06.429Z"
   },
   {
    "duration": 21,
    "start_time": "2022-06-24T15:06:06.439Z"
   },
   {
    "duration": 25,
    "start_time": "2022-06-24T15:06:06.462Z"
   },
   {
    "duration": 11,
    "start_time": "2022-06-24T15:06:06.489Z"
   },
   {
    "duration": 15,
    "start_time": "2022-06-24T15:06:06.501Z"
   },
   {
    "duration": 12,
    "start_time": "2022-06-24T15:06:06.518Z"
   },
   {
    "duration": 570,
    "start_time": "2022-06-24T15:06:06.531Z"
   },
   {
    "duration": 39,
    "start_time": "2022-06-24T15:06:07.103Z"
   },
   {
    "duration": 8,
    "start_time": "2022-06-24T15:06:07.143Z"
   },
   {
    "duration": 13,
    "start_time": "2022-06-24T15:06:07.153Z"
   },
   {
    "duration": 14,
    "start_time": "2022-06-24T15:06:07.174Z"
   },
   {
    "duration": 6,
    "start_time": "2022-06-24T15:06:07.191Z"
   },
   {
    "duration": 6,
    "start_time": "2022-06-24T15:06:07.198Z"
   },
   {
    "duration": 5,
    "start_time": "2022-06-24T15:06:07.206Z"
   },
   {
    "duration": 13,
    "start_time": "2022-06-24T15:06:07.213Z"
   },
   {
    "duration": 9,
    "start_time": "2022-06-24T15:06:07.229Z"
   },
   {
    "duration": 30,
    "start_time": "2022-06-24T15:06:07.240Z"
   },
   {
    "duration": 8,
    "start_time": "2022-06-24T15:06:07.282Z"
   },
   {
    "duration": 12,
    "start_time": "2022-06-24T15:06:07.292Z"
   },
   {
    "duration": 14,
    "start_time": "2022-06-24T15:06:07.306Z"
   },
   {
    "duration": 6,
    "start_time": "2022-06-24T15:06:07.323Z"
   },
   {
    "duration": 19,
    "start_time": "2022-06-24T15:06:07.331Z"
   },
   {
    "duration": 28,
    "start_time": "2022-06-24T15:06:07.351Z"
   },
   {
    "duration": 11,
    "start_time": "2022-06-24T15:06:07.386Z"
   },
   {
    "duration": 12,
    "start_time": "2022-06-24T15:06:07.399Z"
   },
   {
    "duration": 21,
    "start_time": "2022-06-24T15:06:07.413Z"
   },
   {
    "duration": 28,
    "start_time": "2022-06-24T15:06:07.436Z"
   },
   {
    "duration": 10,
    "start_time": "2022-06-24T15:06:07.466Z"
   },
   {
    "duration": 28,
    "start_time": "2022-06-24T15:06:07.480Z"
   },
   {
    "duration": 9,
    "start_time": "2022-06-24T15:06:07.510Z"
   },
   {
    "duration": 16,
    "start_time": "2022-06-24T15:06:07.521Z"
   },
   {
    "duration": 14,
    "start_time": "2022-06-24T15:10:50.583Z"
   },
   {
    "duration": 1298,
    "start_time": "2022-06-24T15:10:57.386Z"
   },
   {
    "duration": 30,
    "start_time": "2022-06-24T15:10:58.686Z"
   },
   {
    "duration": 15,
    "start_time": "2022-06-24T15:10:58.718Z"
   },
   {
    "duration": 9,
    "start_time": "2022-06-24T15:10:58.735Z"
   },
   {
    "duration": 15,
    "start_time": "2022-06-24T15:10:58.746Z"
   },
   {
    "duration": 10,
    "start_time": "2022-06-24T15:10:58.763Z"
   },
   {
    "duration": 18,
    "start_time": "2022-06-24T15:10:58.775Z"
   },
   {
    "duration": 16,
    "start_time": "2022-06-24T15:10:58.794Z"
   },
   {
    "duration": 12,
    "start_time": "2022-06-24T15:10:58.812Z"
   },
   {
    "duration": 754,
    "start_time": "2022-06-24T15:10:58.828Z"
   },
   {
    "duration": 52,
    "start_time": "2022-06-24T15:10:59.584Z"
   },
   {
    "duration": 11,
    "start_time": "2022-06-24T15:10:59.638Z"
   },
   {
    "duration": 32,
    "start_time": "2022-06-24T15:10:59.651Z"
   },
   {
    "duration": 15,
    "start_time": "2022-06-24T15:10:59.688Z"
   },
   {
    "duration": 5,
    "start_time": "2022-06-24T15:10:59.705Z"
   },
   {
    "duration": 8,
    "start_time": "2022-06-24T15:10:59.712Z"
   },
   {
    "duration": 7,
    "start_time": "2022-06-24T15:10:59.722Z"
   },
   {
    "duration": 17,
    "start_time": "2022-06-24T15:10:59.732Z"
   },
   {
    "duration": 26,
    "start_time": "2022-06-24T15:10:59.752Z"
   },
   {
    "duration": 14,
    "start_time": "2022-06-24T15:10:59.782Z"
   },
   {
    "duration": 9,
    "start_time": "2022-06-24T15:10:59.798Z"
   },
   {
    "duration": 17,
    "start_time": "2022-06-24T15:10:59.809Z"
   },
   {
    "duration": 16,
    "start_time": "2022-06-24T15:10:59.828Z"
   },
   {
    "duration": 7,
    "start_time": "2022-06-24T15:10:59.846Z"
   },
   {
    "duration": 19,
    "start_time": "2022-06-24T15:10:59.867Z"
   },
   {
    "duration": 17,
    "start_time": "2022-06-24T15:10:59.890Z"
   },
   {
    "duration": 12,
    "start_time": "2022-06-24T15:10:59.910Z"
   },
   {
    "duration": 12,
    "start_time": "2022-06-24T15:10:59.927Z"
   },
   {
    "duration": 45,
    "start_time": "2022-06-24T15:10:59.941Z"
   },
   {
    "duration": 35,
    "start_time": "2022-06-24T15:10:59.988Z"
   },
   {
    "duration": 14,
    "start_time": "2022-06-24T15:11:00.026Z"
   },
   {
    "duration": 23,
    "start_time": "2022-06-24T15:11:00.042Z"
   },
   {
    "duration": 30,
    "start_time": "2022-06-24T15:11:00.069Z"
   },
   {
    "duration": 36,
    "start_time": "2022-06-24T15:11:00.101Z"
   },
   {
    "duration": 4,
    "start_time": "2022-06-24T15:14:01.961Z"
   },
   {
    "duration": 5,
    "start_time": "2022-06-24T15:14:12.310Z"
   },
   {
    "duration": 5,
    "start_time": "2022-06-24T15:14:26.525Z"
   },
   {
    "duration": 109,
    "start_time": "2022-06-24T15:58:12.682Z"
   },
   {
    "duration": 25,
    "start_time": "2022-06-24T15:58:42.099Z"
   },
   {
    "duration": 9,
    "start_time": "2022-06-24T15:59:21.078Z"
   },
   {
    "duration": 177,
    "start_time": "2022-06-24T16:00:05.246Z"
   },
   {
    "duration": 12,
    "start_time": "2022-06-24T16:00:44.237Z"
   },
   {
    "duration": 224,
    "start_time": "2022-06-24T16:02:08.388Z"
   },
   {
    "duration": 139,
    "start_time": "2022-06-24T16:02:09.593Z"
   },
   {
    "duration": 147,
    "start_time": "2022-06-24T16:02:22.599Z"
   },
   {
    "duration": 230,
    "start_time": "2022-06-24T16:04:05.693Z"
   },
   {
    "duration": 303,
    "start_time": "2022-06-24T16:06:56.708Z"
   },
   {
    "duration": 224,
    "start_time": "2022-06-24T16:07:14.089Z"
   },
   {
    "duration": 219,
    "start_time": "2022-06-24T16:07:29.242Z"
   },
   {
    "duration": 186,
    "start_time": "2022-06-24T16:07:37.729Z"
   },
   {
    "duration": 196,
    "start_time": "2022-06-24T16:08:02.589Z"
   },
   {
    "duration": 264,
    "start_time": "2022-06-24T16:08:53.183Z"
   },
   {
    "duration": 199,
    "start_time": "2022-06-24T16:09:57.032Z"
   },
   {
    "duration": 228,
    "start_time": "2022-06-24T16:10:30.245Z"
   },
   {
    "duration": 132,
    "start_time": "2022-06-24T16:10:51.615Z"
   },
   {
    "duration": 4,
    "start_time": "2022-06-24T16:15:18.325Z"
   },
   {
    "duration": 4,
    "start_time": "2022-06-24T16:15:35.928Z"
   },
   {
    "duration": 26,
    "start_time": "2022-06-24T16:15:51.996Z"
   },
   {
    "duration": 4,
    "start_time": "2022-06-24T16:16:06.730Z"
   },
   {
    "duration": 3,
    "start_time": "2022-06-24T16:16:13.696Z"
   },
   {
    "duration": 5,
    "start_time": "2022-06-24T16:16:15.880Z"
   },
   {
    "duration": 2,
    "start_time": "2022-06-24T16:16:30.481Z"
   },
   {
    "duration": 4,
    "start_time": "2022-06-24T16:16:31.450Z"
   },
   {
    "duration": 15,
    "start_time": "2022-06-24T16:17:30.636Z"
   },
   {
    "duration": 34,
    "start_time": "2022-06-24T16:18:08.605Z"
   },
   {
    "duration": 11,
    "start_time": "2022-06-24T16:18:59.899Z"
   },
   {
    "duration": 9,
    "start_time": "2022-06-24T16:19:31.957Z"
   },
   {
    "duration": 265,
    "start_time": "2022-06-24T16:28:58.162Z"
   },
   {
    "duration": 1095,
    "start_time": "2022-06-24T16:29:58.419Z"
   },
   {
    "duration": 28,
    "start_time": "2022-06-24T16:29:59.516Z"
   },
   {
    "duration": 11,
    "start_time": "2022-06-24T16:29:59.546Z"
   },
   {
    "duration": 3,
    "start_time": "2022-06-24T16:29:59.558Z"
   },
   {
    "duration": 10,
    "start_time": "2022-06-24T16:29:59.564Z"
   },
   {
    "duration": 8,
    "start_time": "2022-06-24T16:29:59.576Z"
   },
   {
    "duration": 8,
    "start_time": "2022-06-24T16:29:59.585Z"
   },
   {
    "duration": 14,
    "start_time": "2022-06-24T16:29:59.594Z"
   },
   {
    "duration": 11,
    "start_time": "2022-06-24T16:29:59.609Z"
   },
   {
    "duration": 511,
    "start_time": "2022-06-24T16:29:59.622Z"
   },
   {
    "duration": 39,
    "start_time": "2022-06-24T16:30:00.135Z"
   },
   {
    "duration": 9,
    "start_time": "2022-06-24T16:30:00.177Z"
   },
   {
    "duration": 23,
    "start_time": "2022-06-24T16:30:00.188Z"
   },
   {
    "duration": 9,
    "start_time": "2022-06-24T16:30:00.214Z"
   },
   {
    "duration": 26,
    "start_time": "2022-06-24T16:30:00.225Z"
   },
   {
    "duration": 11,
    "start_time": "2022-06-24T16:30:00.252Z"
   },
   {
    "duration": 17,
    "start_time": "2022-06-24T16:30:00.265Z"
   },
   {
    "duration": 17,
    "start_time": "2022-06-24T16:30:00.284Z"
   },
   {
    "duration": 26,
    "start_time": "2022-06-24T16:30:00.303Z"
   },
   {
    "duration": 12,
    "start_time": "2022-06-24T16:30:00.331Z"
   },
   {
    "duration": 8,
    "start_time": "2022-06-24T16:30:00.345Z"
   },
   {
    "duration": 11,
    "start_time": "2022-06-24T16:30:00.354Z"
   },
   {
    "duration": 29,
    "start_time": "2022-06-24T16:30:00.366Z"
   },
   {
    "duration": 8,
    "start_time": "2022-06-24T16:30:00.397Z"
   },
   {
    "duration": 19,
    "start_time": "2022-06-24T16:30:00.406Z"
   },
   {
    "duration": 20,
    "start_time": "2022-06-24T16:30:00.427Z"
   },
   {
    "duration": 14,
    "start_time": "2022-06-24T16:30:00.449Z"
   },
   {
    "duration": 10,
    "start_time": "2022-06-24T16:30:00.465Z"
   },
   {
    "duration": 21,
    "start_time": "2022-06-24T16:30:00.476Z"
   },
   {
    "duration": 35,
    "start_time": "2022-06-24T16:30:00.499Z"
   },
   {
    "duration": 18,
    "start_time": "2022-06-24T16:30:00.537Z"
   },
   {
    "duration": 59,
    "start_time": "2022-06-24T16:30:00.557Z"
   },
   {
    "duration": 13,
    "start_time": "2022-06-24T16:30:00.618Z"
   },
   {
    "duration": 44,
    "start_time": "2022-06-24T16:30:00.634Z"
   },
   {
    "duration": 31,
    "start_time": "2022-06-24T16:30:00.680Z"
   },
   {
    "duration": 200,
    "start_time": "2022-06-24T16:30:00.714Z"
   },
   {
    "duration": 139,
    "start_time": "2022-06-24T16:30:00.915Z"
   },
   {
    "duration": 280,
    "start_time": "2022-06-24T16:30:01.066Z"
   },
   {
    "duration": 231,
    "start_time": "2022-06-24T16:30:01.348Z"
   },
   {
    "duration": 346,
    "start_time": "2022-06-24T16:32:29.031Z"
   },
   {
    "duration": 307,
    "start_time": "2022-06-24T16:32:48.569Z"
   },
   {
    "duration": 318,
    "start_time": "2022-06-24T16:33:08.185Z"
   },
   {
    "duration": 180,
    "start_time": "2022-06-24T16:38:54.493Z"
   },
   {
    "duration": 201,
    "start_time": "2022-06-24T16:39:09.851Z"
   },
   {
    "duration": 289,
    "start_time": "2022-06-24T16:39:29.199Z"
   },
   {
    "duration": 407,
    "start_time": "2022-06-24T16:52:48.246Z"
   },
   {
    "duration": 319,
    "start_time": "2022-06-24T16:53:25.933Z"
   },
   {
    "duration": 262,
    "start_time": "2022-06-24T16:54:03.609Z"
   },
   {
    "duration": 347,
    "start_time": "2022-06-24T16:54:16.889Z"
   },
   {
    "duration": 324,
    "start_time": "2022-06-24T16:54:54.852Z"
   },
   {
    "duration": 346,
    "start_time": "2022-06-24T16:55:20.741Z"
   },
   {
    "duration": 309,
    "start_time": "2022-06-24T16:56:05.340Z"
   },
   {
    "duration": 321,
    "start_time": "2022-06-24T16:56:32.529Z"
   },
   {
    "duration": 308,
    "start_time": "2022-06-24T16:56:51.943Z"
   },
   {
    "duration": 11,
    "start_time": "2022-06-24T17:00:40.444Z"
   },
   {
    "duration": 10,
    "start_time": "2022-06-24T17:01:01.190Z"
   },
   {
    "duration": 14,
    "start_time": "2022-06-24T17:02:10.460Z"
   },
   {
    "duration": 14,
    "start_time": "2022-06-24T17:02:59.491Z"
   },
   {
    "duration": 134,
    "start_time": "2022-06-24T17:03:53.963Z"
   },
   {
    "duration": 129,
    "start_time": "2022-06-24T17:05:25.428Z"
   },
   {
    "duration": 8,
    "start_time": "2022-06-24T17:06:29.145Z"
   },
   {
    "duration": 140,
    "start_time": "2022-06-24T17:06:40.470Z"
   },
   {
    "duration": 14,
    "start_time": "2022-06-24T17:06:56.566Z"
   },
   {
    "duration": 1079,
    "start_time": "2022-06-24T17:07:53.223Z"
   },
   {
    "duration": 28,
    "start_time": "2022-06-24T17:07:54.304Z"
   },
   {
    "duration": 11,
    "start_time": "2022-06-24T17:07:54.333Z"
   },
   {
    "duration": 3,
    "start_time": "2022-06-24T17:07:54.346Z"
   },
   {
    "duration": 9,
    "start_time": "2022-06-24T17:07:54.351Z"
   },
   {
    "duration": 5,
    "start_time": "2022-06-24T17:07:54.362Z"
   },
   {
    "duration": 6,
    "start_time": "2022-06-24T17:07:54.369Z"
   },
   {
    "duration": 17,
    "start_time": "2022-06-24T17:07:54.377Z"
   },
   {
    "duration": 11,
    "start_time": "2022-06-24T17:07:54.395Z"
   },
   {
    "duration": 505,
    "start_time": "2022-06-24T17:07:54.408Z"
   },
   {
    "duration": 38,
    "start_time": "2022-06-24T17:07:54.915Z"
   },
   {
    "duration": 8,
    "start_time": "2022-06-24T17:07:54.955Z"
   },
   {
    "duration": 12,
    "start_time": "2022-06-24T17:07:54.965Z"
   },
   {
    "duration": 4,
    "start_time": "2022-06-24T17:07:54.981Z"
   },
   {
    "duration": 4,
    "start_time": "2022-06-24T17:07:54.987Z"
   },
   {
    "duration": 5,
    "start_time": "2022-06-24T17:07:54.993Z"
   },
   {
    "duration": 6,
    "start_time": "2022-06-24T17:07:54.999Z"
   },
   {
    "duration": 18,
    "start_time": "2022-06-24T17:07:55.006Z"
   },
   {
    "duration": 10,
    "start_time": "2022-06-24T17:07:55.026Z"
   },
   {
    "duration": 31,
    "start_time": "2022-06-24T17:07:55.037Z"
   },
   {
    "duration": 8,
    "start_time": "2022-06-24T17:07:55.070Z"
   },
   {
    "duration": 9,
    "start_time": "2022-06-24T17:07:55.079Z"
   },
   {
    "duration": 13,
    "start_time": "2022-06-24T17:07:55.090Z"
   },
   {
    "duration": 5,
    "start_time": "2022-06-24T17:07:55.104Z"
   },
   {
    "duration": 11,
    "start_time": "2022-06-24T17:07:55.111Z"
   },
   {
    "duration": 49,
    "start_time": "2022-06-24T17:07:55.123Z"
   },
   {
    "duration": 9,
    "start_time": "2022-06-24T17:07:55.174Z"
   },
   {
    "duration": 11,
    "start_time": "2022-06-24T17:07:55.185Z"
   },
   {
    "duration": 10,
    "start_time": "2022-06-24T17:07:55.197Z"
   },
   {
    "duration": 16,
    "start_time": "2022-06-24T17:07:55.209Z"
   },
   {
    "duration": 7,
    "start_time": "2022-06-24T17:07:55.227Z"
   },
   {
    "duration": 14,
    "start_time": "2022-06-24T17:07:55.235Z"
   },
   {
    "duration": 4,
    "start_time": "2022-06-24T17:07:55.268Z"
   },
   {
    "duration": 11,
    "start_time": "2022-06-24T17:07:55.273Z"
   },
   {
    "duration": 10,
    "start_time": "2022-06-24T17:07:55.286Z"
   },
   {
    "duration": 192,
    "start_time": "2022-06-24T17:07:55.298Z"
   },
   {
    "duration": 153,
    "start_time": "2022-06-24T17:07:55.492Z"
   },
   {
    "duration": 303,
    "start_time": "2022-06-24T17:07:55.647Z"
   },
   {
    "duration": 225,
    "start_time": "2022-06-24T17:07:55.952Z"
   },
   {
    "duration": 283,
    "start_time": "2022-06-24T17:07:56.178Z"
   },
   {
    "duration": 186,
    "start_time": "2022-06-24T17:07:56.466Z"
   },
   {
    "duration": 325,
    "start_time": "2022-06-24T17:07:56.654Z"
   },
   {
    "duration": 13,
    "start_time": "2022-06-24T17:07:56.981Z"
   },
   {
    "duration": 148,
    "start_time": "2022-06-24T17:07:56.995Z"
   },
   {
    "duration": 142,
    "start_time": "2022-06-24T17:24:58.104Z"
   },
   {
    "duration": 221,
    "start_time": "2022-06-24T17:26:35.726Z"
   },
   {
    "duration": 142,
    "start_time": "2022-06-24T17:26:42.286Z"
   },
   {
    "duration": 7,
    "start_time": "2022-06-24T17:41:43.942Z"
   },
   {
    "duration": 7,
    "start_time": "2022-06-24T17:43:00.479Z"
   },
   {
    "duration": 7,
    "start_time": "2022-06-24T17:43:24.547Z"
   },
   {
    "duration": 7,
    "start_time": "2022-06-24T17:43:28.710Z"
   },
   {
    "duration": 8,
    "start_time": "2022-06-24T17:43:32.458Z"
   },
   {
    "duration": 7,
    "start_time": "2022-06-24T17:43:37.062Z"
   },
   {
    "duration": 75,
    "start_time": "2022-06-24T20:17:53.443Z"
   },
   {
    "duration": 1689,
    "start_time": "2022-06-24T20:18:08.185Z"
   },
   {
    "duration": 86,
    "start_time": "2022-06-24T20:18:09.877Z"
   },
   {
    "duration": 15,
    "start_time": "2022-06-24T20:18:09.965Z"
   },
   {
    "duration": 4,
    "start_time": "2022-06-24T20:18:09.982Z"
   },
   {
    "duration": 11,
    "start_time": "2022-06-24T20:18:09.989Z"
   },
   {
    "duration": 25,
    "start_time": "2022-06-24T20:18:10.002Z"
   },
   {
    "duration": 64,
    "start_time": "2022-06-24T20:18:10.030Z"
   },
   {
    "duration": 27,
    "start_time": "2022-06-24T20:18:10.096Z"
   },
   {
    "duration": 13,
    "start_time": "2022-06-24T20:18:10.126Z"
   },
   {
    "duration": 660,
    "start_time": "2022-06-24T20:18:10.141Z"
   },
   {
    "duration": 118,
    "start_time": "2022-06-24T20:18:10.804Z"
   },
   {
    "duration": 12,
    "start_time": "2022-06-24T20:18:10.924Z"
   },
   {
    "duration": 23,
    "start_time": "2022-06-24T20:18:10.938Z"
   },
   {
    "duration": 6,
    "start_time": "2022-06-24T20:18:10.970Z"
   },
   {
    "duration": 6,
    "start_time": "2022-06-24T20:18:10.978Z"
   },
   {
    "duration": 7,
    "start_time": "2022-06-24T20:18:10.986Z"
   },
   {
    "duration": 12,
    "start_time": "2022-06-24T20:18:10.994Z"
   },
   {
    "duration": 14,
    "start_time": "2022-06-24T20:18:11.008Z"
   },
   {
    "duration": 45,
    "start_time": "2022-06-24T20:18:11.024Z"
   },
   {
    "duration": 14,
    "start_time": "2022-06-24T20:18:11.072Z"
   },
   {
    "duration": 9,
    "start_time": "2022-06-24T20:18:11.088Z"
   },
   {
    "duration": 15,
    "start_time": "2022-06-24T20:18:11.100Z"
   },
   {
    "duration": 31,
    "start_time": "2022-06-24T20:18:11.117Z"
   },
   {
    "duration": 6,
    "start_time": "2022-06-24T20:18:11.159Z"
   },
   {
    "duration": 23,
    "start_time": "2022-06-24T20:18:11.168Z"
   },
   {
    "duration": 14,
    "start_time": "2022-06-24T20:18:11.193Z"
   },
   {
    "duration": 14,
    "start_time": "2022-06-24T20:18:11.210Z"
   },
   {
    "duration": 24,
    "start_time": "2022-06-24T20:18:11.226Z"
   },
   {
    "duration": 24,
    "start_time": "2022-06-24T20:18:11.259Z"
   },
   {
    "duration": 81,
    "start_time": "2022-06-24T20:18:11.285Z"
   },
   {
    "duration": 10,
    "start_time": "2022-06-24T20:18:11.368Z"
   },
   {
    "duration": 22,
    "start_time": "2022-06-24T20:18:11.380Z"
   },
   {
    "duration": 5,
    "start_time": "2022-06-24T20:18:11.404Z"
   },
   {
    "duration": 14,
    "start_time": "2022-06-24T20:18:11.411Z"
   },
   {
    "duration": 21,
    "start_time": "2022-06-24T20:18:11.427Z"
   },
   {
    "duration": 235,
    "start_time": "2022-06-24T20:18:11.450Z"
   },
   {
    "duration": 161,
    "start_time": "2022-06-24T20:18:11.687Z"
   },
   {
    "duration": 415,
    "start_time": "2022-06-24T20:18:11.857Z"
   },
   {
    "duration": 278,
    "start_time": "2022-06-24T20:18:12.274Z"
   },
   {
    "duration": 350,
    "start_time": "2022-06-24T20:18:12.557Z"
   },
   {
    "duration": 257,
    "start_time": "2022-06-24T20:18:12.912Z"
   },
   {
    "duration": 323,
    "start_time": "2022-06-24T20:18:13.171Z"
   },
   {
    "duration": 14,
    "start_time": "2022-06-24T20:18:13.496Z"
   },
   {
    "duration": 216,
    "start_time": "2022-06-24T20:18:13.516Z"
   },
   {
    "duration": 11,
    "start_time": "2022-06-24T20:18:13.734Z"
   },
   {
    "duration": 142,
    "start_time": "2022-06-24T20:35:51.561Z"
   },
   {
    "duration": 240,
    "start_time": "2022-06-24T20:35:58.983Z"
   },
   {
    "duration": 49,
    "start_time": "2022-06-24T20:38:59.458Z"
   },
   {
    "duration": 23,
    "start_time": "2022-06-24T20:39:46.777Z"
   },
   {
    "duration": 111,
    "start_time": "2022-06-24T20:40:00.838Z"
   },
   {
    "duration": 133,
    "start_time": "2022-06-24T20:40:17.098Z"
   },
   {
    "duration": 11,
    "start_time": "2022-06-24T20:42:41.820Z"
   },
   {
    "duration": 135,
    "start_time": "2022-06-24T20:43:19.222Z"
   },
   {
    "duration": 251,
    "start_time": "2022-06-24T20:43:53.432Z"
   },
   {
    "duration": 308,
    "start_time": "2022-06-24T20:45:00.871Z"
   },
   {
    "duration": 316,
    "start_time": "2022-06-24T20:45:26.380Z"
   },
   {
    "duration": 241,
    "start_time": "2022-06-24T20:45:46.319Z"
   },
   {
    "duration": 241,
    "start_time": "2022-06-24T20:46:07.590Z"
   },
   {
    "duration": 345,
    "start_time": "2022-06-24T20:46:36.917Z"
   },
   {
    "duration": 166,
    "start_time": "2022-06-24T20:47:16.953Z"
   },
   {
    "duration": 177,
    "start_time": "2022-06-24T20:47:51.953Z"
   },
   {
    "duration": 10,
    "start_time": "2022-06-24T21:04:23.372Z"
   },
   {
    "duration": 8,
    "start_time": "2022-06-24T21:05:52.086Z"
   },
   {
    "duration": 10,
    "start_time": "2022-06-24T21:06:14.487Z"
   },
   {
    "duration": 8,
    "start_time": "2022-06-24T21:06:33.074Z"
   },
   {
    "duration": 8,
    "start_time": "2022-06-24T21:06:39.257Z"
   },
   {
    "duration": 11,
    "start_time": "2022-06-24T21:06:45.567Z"
   },
   {
    "duration": 9,
    "start_time": "2022-06-24T21:42:13.654Z"
   },
   {
    "duration": 11,
    "start_time": "2022-06-24T21:42:23.308Z"
   },
   {
    "duration": 8,
    "start_time": "2022-06-24T21:43:09.014Z"
   },
   {
    "duration": 12,
    "start_time": "2022-06-24T21:43:10.305Z"
   },
   {
    "duration": 1350,
    "start_time": "2022-06-25T11:10:52.525Z"
   },
   {
    "duration": 86,
    "start_time": "2022-06-25T11:10:53.877Z"
   },
   {
    "duration": 12,
    "start_time": "2022-06-25T11:10:53.965Z"
   },
   {
    "duration": 5,
    "start_time": "2022-06-25T11:10:53.980Z"
   },
   {
    "duration": 11,
    "start_time": "2022-06-25T11:10:53.986Z"
   },
   {
    "duration": 5,
    "start_time": "2022-06-25T11:10:53.999Z"
   },
   {
    "duration": 6,
    "start_time": "2022-06-25T11:10:54.006Z"
   },
   {
    "duration": 14,
    "start_time": "2022-06-25T11:10:54.013Z"
   },
   {
    "duration": 24,
    "start_time": "2022-06-25T11:10:54.028Z"
   },
   {
    "duration": 536,
    "start_time": "2022-06-25T11:10:54.055Z"
   },
   {
    "duration": 71,
    "start_time": "2022-06-25T11:10:54.593Z"
   },
   {
    "duration": 12,
    "start_time": "2022-06-25T11:10:54.666Z"
   },
   {
    "duration": 17,
    "start_time": "2022-06-25T11:10:54.680Z"
   },
   {
    "duration": 5,
    "start_time": "2022-06-25T11:10:54.699Z"
   },
   {
    "duration": 5,
    "start_time": "2022-06-25T11:10:54.706Z"
   },
   {
    "duration": 7,
    "start_time": "2022-06-25T11:10:54.713Z"
   },
   {
    "duration": 8,
    "start_time": "2022-06-25T11:10:54.722Z"
   },
   {
    "duration": 13,
    "start_time": "2022-06-25T11:10:54.731Z"
   },
   {
    "duration": 8,
    "start_time": "2022-06-25T11:10:54.746Z"
   },
   {
    "duration": 8,
    "start_time": "2022-06-25T11:10:54.756Z"
   },
   {
    "duration": 7,
    "start_time": "2022-06-25T11:10:54.766Z"
   },
   {
    "duration": 11,
    "start_time": "2022-06-25T11:10:54.774Z"
   },
   {
    "duration": 15,
    "start_time": "2022-06-25T11:10:54.787Z"
   },
   {
    "duration": 27,
    "start_time": "2022-06-25T11:10:54.804Z"
   },
   {
    "duration": 8,
    "start_time": "2022-06-25T11:10:54.833Z"
   },
   {
    "duration": 8,
    "start_time": "2022-06-25T11:10:54.843Z"
   },
   {
    "duration": 12,
    "start_time": "2022-06-25T11:10:54.852Z"
   },
   {
    "duration": 9,
    "start_time": "2022-06-25T11:10:54.867Z"
   },
   {
    "duration": 13,
    "start_time": "2022-06-25T11:10:54.878Z"
   },
   {
    "duration": 65,
    "start_time": "2022-06-25T11:10:54.892Z"
   },
   {
    "duration": 7,
    "start_time": "2022-06-25T11:10:54.959Z"
   },
   {
    "duration": 17,
    "start_time": "2022-06-25T11:10:54.967Z"
   },
   {
    "duration": 8,
    "start_time": "2022-06-25T11:10:54.985Z"
   },
   {
    "duration": 13,
    "start_time": "2022-06-25T11:10:54.994Z"
   },
   {
    "duration": 11,
    "start_time": "2022-06-25T11:10:55.009Z"
   },
   {
    "duration": 190,
    "start_time": "2022-06-25T11:10:55.021Z"
   },
   {
    "duration": 135,
    "start_time": "2022-06-25T11:10:55.224Z"
   },
   {
    "duration": 307,
    "start_time": "2022-06-25T11:10:55.360Z"
   },
   {
    "duration": 232,
    "start_time": "2022-06-25T11:10:55.669Z"
   },
   {
    "duration": 396,
    "start_time": "2022-06-25T11:10:55.903Z"
   },
   {
    "duration": 210,
    "start_time": "2022-06-25T11:10:56.301Z"
   },
   {
    "duration": 338,
    "start_time": "2022-06-25T11:10:56.513Z"
   },
   {
    "duration": 12,
    "start_time": "2022-06-25T11:10:56.853Z"
   },
   {
    "duration": 165,
    "start_time": "2022-06-25T11:10:56.867Z"
   },
   {
    "duration": 12,
    "start_time": "2022-06-25T11:10:57.033Z"
   },
   {
    "duration": 142,
    "start_time": "2022-06-25T11:10:57.047Z"
   },
   {
    "duration": 6,
    "start_time": "2022-06-25T11:10:57.191Z"
   },
   {
    "duration": 10,
    "start_time": "2022-06-25T11:10:57.199Z"
   },
   {
    "duration": 30,
    "start_time": "2022-06-25T11:10:57.210Z"
   },
   {
    "duration": 260,
    "start_time": "2022-06-25T11:10:57.243Z"
   },
   {
    "duration": 1144,
    "start_time": "2022-06-25T11:15:33.263Z"
   },
   {
    "duration": 34,
    "start_time": "2022-06-25T11:15:34.409Z"
   },
   {
    "duration": 11,
    "start_time": "2022-06-25T11:15:34.445Z"
   },
   {
    "duration": 2,
    "start_time": "2022-06-25T11:15:34.459Z"
   },
   {
    "duration": 11,
    "start_time": "2022-06-25T11:15:34.463Z"
   },
   {
    "duration": 6,
    "start_time": "2022-06-25T11:15:34.476Z"
   },
   {
    "duration": 5,
    "start_time": "2022-06-25T11:15:34.484Z"
   },
   {
    "duration": 16,
    "start_time": "2022-06-25T11:15:34.491Z"
   },
   {
    "duration": 30,
    "start_time": "2022-06-25T11:15:34.508Z"
   },
   {
    "duration": 537,
    "start_time": "2022-06-25T11:15:34.542Z"
   },
   {
    "duration": 37,
    "start_time": "2022-06-25T11:15:35.082Z"
   },
   {
    "duration": 12,
    "start_time": "2022-06-25T11:15:35.121Z"
   },
   {
    "duration": 22,
    "start_time": "2022-06-25T11:15:35.134Z"
   },
   {
    "duration": 14,
    "start_time": "2022-06-25T11:15:35.157Z"
   },
   {
    "duration": 10,
    "start_time": "2022-06-25T11:15:35.174Z"
   },
   {
    "duration": 8,
    "start_time": "2022-06-25T11:15:35.186Z"
   },
   {
    "duration": 10,
    "start_time": "2022-06-25T11:15:35.196Z"
   },
   {
    "duration": 15,
    "start_time": "2022-06-25T11:15:35.207Z"
   },
   {
    "duration": 14,
    "start_time": "2022-06-25T11:15:35.224Z"
   },
   {
    "duration": 11,
    "start_time": "2022-06-25T11:15:35.244Z"
   },
   {
    "duration": 8,
    "start_time": "2022-06-25T11:15:35.256Z"
   },
   {
    "duration": 7,
    "start_time": "2022-06-25T11:15:35.265Z"
   },
   {
    "duration": 13,
    "start_time": "2022-06-25T11:15:35.273Z"
   },
   {
    "duration": 5,
    "start_time": "2022-06-25T11:15:35.287Z"
   },
   {
    "duration": 11,
    "start_time": "2022-06-25T11:15:35.294Z"
   },
   {
    "duration": 36,
    "start_time": "2022-06-25T11:15:35.306Z"
   },
   {
    "duration": 8,
    "start_time": "2022-06-25T11:15:35.344Z"
   },
   {
    "duration": 5,
    "start_time": "2022-06-25T11:15:35.355Z"
   },
   {
    "duration": 10,
    "start_time": "2022-06-25T11:15:35.362Z"
   },
   {
    "duration": 16,
    "start_time": "2022-06-25T11:15:35.373Z"
   },
   {
    "duration": 8,
    "start_time": "2022-06-25T11:15:35.391Z"
   },
   {
    "duration": 14,
    "start_time": "2022-06-25T11:15:35.400Z"
   },
   {
    "duration": 10,
    "start_time": "2022-06-25T11:15:35.429Z"
   },
   {
    "duration": 14,
    "start_time": "2022-06-25T11:15:35.441Z"
   },
   {
    "duration": 10,
    "start_time": "2022-06-25T11:15:35.457Z"
   },
   {
    "duration": 198,
    "start_time": "2022-06-25T11:15:35.468Z"
   },
   {
    "duration": 139,
    "start_time": "2022-06-25T11:15:35.667Z"
   },
   {
    "duration": 351,
    "start_time": "2022-06-25T11:15:35.807Z"
   },
   {
    "duration": 251,
    "start_time": "2022-06-25T11:15:36.160Z"
   },
   {
    "duration": 343,
    "start_time": "2022-06-25T11:15:36.412Z"
   },
   {
    "duration": 226,
    "start_time": "2022-06-25T11:15:36.756Z"
   },
   {
    "duration": 341,
    "start_time": "2022-06-25T11:15:36.984Z"
   },
   {
    "duration": 18,
    "start_time": "2022-06-25T11:15:37.328Z"
   },
   {
    "duration": 200,
    "start_time": "2022-06-25T11:15:37.348Z"
   },
   {
    "duration": 8,
    "start_time": "2022-06-25T11:15:37.550Z"
   },
   {
    "duration": 172,
    "start_time": "2022-06-25T11:15:37.560Z"
   },
   {
    "duration": 11,
    "start_time": "2022-06-25T11:15:37.733Z"
   },
   {
    "duration": 8,
    "start_time": "2022-06-25T11:15:37.746Z"
   },
   {
    "duration": 10,
    "start_time": "2022-06-25T11:15:37.756Z"
   },
   {
    "duration": 276,
    "start_time": "2022-06-25T11:15:37.768Z"
   },
   {
    "duration": 55,
    "start_time": "2022-06-25T11:24:24.893Z"
   },
   {
    "duration": 1112,
    "start_time": "2022-06-25T11:26:11.511Z"
   },
   {
    "duration": 31,
    "start_time": "2022-06-25T11:26:12.625Z"
   },
   {
    "duration": 11,
    "start_time": "2022-06-25T11:26:12.657Z"
   },
   {
    "duration": 6,
    "start_time": "2022-06-25T11:26:12.670Z"
   },
   {
    "duration": 11,
    "start_time": "2022-06-25T11:26:12.677Z"
   },
   {
    "duration": 4,
    "start_time": "2022-06-25T11:26:12.689Z"
   },
   {
    "duration": 7,
    "start_time": "2022-06-25T11:26:12.694Z"
   },
   {
    "duration": 13,
    "start_time": "2022-06-25T11:26:12.702Z"
   },
   {
    "duration": 9,
    "start_time": "2022-06-25T11:26:12.716Z"
   },
   {
    "duration": 537,
    "start_time": "2022-06-25T11:26:12.730Z"
   },
   {
    "duration": 36,
    "start_time": "2022-06-25T11:26:13.269Z"
   },
   {
    "duration": 7,
    "start_time": "2022-06-25T11:26:13.307Z"
   },
   {
    "duration": 18,
    "start_time": "2022-06-25T11:26:13.316Z"
   },
   {
    "duration": 14,
    "start_time": "2022-06-25T11:26:13.336Z"
   },
   {
    "duration": 11,
    "start_time": "2022-06-25T11:26:13.354Z"
   },
   {
    "duration": 10,
    "start_time": "2022-06-25T11:26:13.367Z"
   },
   {
    "duration": 11,
    "start_time": "2022-06-25T11:26:13.379Z"
   },
   {
    "duration": 11,
    "start_time": "2022-06-25T11:26:13.391Z"
   },
   {
    "duration": 7,
    "start_time": "2022-06-25T11:26:13.404Z"
   },
   {
    "duration": 6,
    "start_time": "2022-06-25T11:26:13.412Z"
   },
   {
    "duration": 25,
    "start_time": "2022-06-25T11:26:13.419Z"
   },
   {
    "duration": 21,
    "start_time": "2022-06-25T11:26:13.445Z"
   },
   {
    "duration": 16,
    "start_time": "2022-06-25T11:26:13.468Z"
   },
   {
    "duration": 5,
    "start_time": "2022-06-25T11:26:13.486Z"
   },
   {
    "duration": 9,
    "start_time": "2022-06-25T11:26:13.492Z"
   },
   {
    "duration": 7,
    "start_time": "2022-06-25T11:26:13.503Z"
   },
   {
    "duration": 8,
    "start_time": "2022-06-25T11:26:13.511Z"
   },
   {
    "duration": 10,
    "start_time": "2022-06-25T11:26:13.528Z"
   },
   {
    "duration": 26,
    "start_time": "2022-06-25T11:26:13.539Z"
   },
   {
    "duration": 24,
    "start_time": "2022-06-25T11:26:13.567Z"
   },
   {
    "duration": 7,
    "start_time": "2022-06-25T11:26:13.593Z"
   },
   {
    "duration": 16,
    "start_time": "2022-06-25T11:26:13.602Z"
   },
   {
    "duration": 6,
    "start_time": "2022-06-25T11:26:13.619Z"
   },
   {
    "duration": 16,
    "start_time": "2022-06-25T11:26:13.627Z"
   },
   {
    "duration": 23,
    "start_time": "2022-06-25T11:26:13.644Z"
   },
   {
    "duration": 187,
    "start_time": "2022-06-25T11:26:13.668Z"
   },
   {
    "duration": 160,
    "start_time": "2022-06-25T11:26:13.857Z"
   },
   {
    "duration": 292,
    "start_time": "2022-06-25T11:26:14.019Z"
   },
   {
    "duration": 246,
    "start_time": "2022-06-25T11:26:14.313Z"
   },
   {
    "duration": 310,
    "start_time": "2022-06-25T11:26:14.561Z"
   },
   {
    "duration": 263,
    "start_time": "2022-06-25T11:26:14.872Z"
   },
   {
    "duration": 336,
    "start_time": "2022-06-25T11:26:15.141Z"
   },
   {
    "duration": 10,
    "start_time": "2022-06-25T11:26:15.479Z"
   },
   {
    "duration": 184,
    "start_time": "2022-06-25T11:26:15.490Z"
   },
   {
    "duration": 9,
    "start_time": "2022-06-25T11:26:15.675Z"
   },
   {
    "duration": 164,
    "start_time": "2022-06-25T11:26:15.685Z"
   },
   {
    "duration": 9,
    "start_time": "2022-06-25T11:26:15.851Z"
   },
   {
    "duration": 10,
    "start_time": "2022-06-25T11:26:15.861Z"
   },
   {
    "duration": 123,
    "start_time": "2022-06-25T11:26:15.873Z"
   },
   {
    "duration": 12,
    "start_time": "2022-06-25T11:26:16.003Z"
   },
   {
    "duration": 25,
    "start_time": "2022-06-25T11:26:16.017Z"
   },
   {
    "duration": 205,
    "start_time": "2022-06-25T11:26:16.056Z"
   },
   {
    "duration": 52,
    "start_time": "2022-06-25T11:32:05.435Z"
   },
   {
    "duration": 1192,
    "start_time": "2022-06-25T12:00:44.233Z"
   },
   {
    "duration": 54,
    "start_time": "2022-06-25T12:00:45.427Z"
   },
   {
    "duration": 12,
    "start_time": "2022-06-25T12:00:45.482Z"
   },
   {
    "duration": 3,
    "start_time": "2022-06-25T12:00:45.496Z"
   },
   {
    "duration": 10,
    "start_time": "2022-06-25T12:00:45.500Z"
   },
   {
    "duration": 4,
    "start_time": "2022-06-25T12:00:45.512Z"
   },
   {
    "duration": 7,
    "start_time": "2022-06-25T12:00:45.518Z"
   },
   {
    "duration": 56,
    "start_time": "2022-06-25T12:00:45.527Z"
   },
   {
    "duration": 12,
    "start_time": "2022-06-25T12:00:45.584Z"
   },
   {
    "duration": 544,
    "start_time": "2022-06-25T12:00:45.598Z"
   },
   {
    "duration": 52,
    "start_time": "2022-06-25T12:00:46.146Z"
   },
   {
    "duration": 10,
    "start_time": "2022-06-25T12:00:46.200Z"
   },
   {
    "duration": 29,
    "start_time": "2022-06-25T12:00:46.212Z"
   },
   {
    "duration": 72,
    "start_time": "2022-06-25T12:00:46.243Z"
   },
   {
    "duration": 11,
    "start_time": "2022-06-25T12:00:46.317Z"
   },
   {
    "duration": 61,
    "start_time": "2022-06-25T12:00:46.329Z"
   },
   {
    "duration": 11,
    "start_time": "2022-06-25T12:00:46.393Z"
   },
   {
    "duration": 14,
    "start_time": "2022-06-25T12:00:46.406Z"
   },
   {
    "duration": 45,
    "start_time": "2022-06-25T12:00:46.423Z"
   },
   {
    "duration": 20,
    "start_time": "2022-06-25T12:00:46.473Z"
   },
   {
    "duration": 17,
    "start_time": "2022-06-25T12:00:46.495Z"
   },
   {
    "duration": 6,
    "start_time": "2022-06-25T12:00:46.514Z"
   },
   {
    "duration": 18,
    "start_time": "2022-06-25T12:00:46.522Z"
   },
   {
    "duration": 54,
    "start_time": "2022-06-25T12:00:46.542Z"
   },
   {
    "duration": 14,
    "start_time": "2022-06-25T12:00:46.597Z"
   },
   {
    "duration": 9,
    "start_time": "2022-06-25T12:00:46.613Z"
   },
   {
    "duration": 57,
    "start_time": "2022-06-25T12:00:46.624Z"
   },
   {
    "duration": 6,
    "start_time": "2022-06-25T12:00:46.685Z"
   },
   {
    "duration": 14,
    "start_time": "2022-06-25T12:00:46.693Z"
   },
   {
    "duration": 51,
    "start_time": "2022-06-25T12:00:46.708Z"
   },
   {
    "duration": 13,
    "start_time": "2022-06-25T12:00:46.760Z"
   },
   {
    "duration": 15,
    "start_time": "2022-06-25T12:00:46.777Z"
   },
   {
    "duration": 6,
    "start_time": "2022-06-25T12:00:46.793Z"
   },
   {
    "duration": 26,
    "start_time": "2022-06-25T12:00:46.800Z"
   },
   {
    "duration": 65,
    "start_time": "2022-06-25T12:00:46.827Z"
   },
   {
    "duration": 211,
    "start_time": "2022-06-25T12:00:46.894Z"
   },
   {
    "duration": 168,
    "start_time": "2022-06-25T12:00:47.106Z"
   },
   {
    "duration": 313,
    "start_time": "2022-06-25T12:00:47.279Z"
   },
   {
    "duration": 237,
    "start_time": "2022-06-25T12:00:47.594Z"
   },
   {
    "duration": 329,
    "start_time": "2022-06-25T12:00:47.833Z"
   },
   {
    "duration": 217,
    "start_time": "2022-06-25T12:00:48.164Z"
   },
   {
    "duration": 307,
    "start_time": "2022-06-25T12:00:48.385Z"
   },
   {
    "duration": 10,
    "start_time": "2022-06-25T12:00:48.694Z"
   },
   {
    "duration": 193,
    "start_time": "2022-06-25T12:00:48.705Z"
   },
   {
    "duration": 6,
    "start_time": "2022-06-25T12:00:48.900Z"
   },
   {
    "duration": 166,
    "start_time": "2022-06-25T12:00:48.907Z"
   },
   {
    "duration": 8,
    "start_time": "2022-06-25T12:00:49.074Z"
   },
   {
    "duration": 20,
    "start_time": "2022-06-25T12:00:49.083Z"
   },
   {
    "duration": 129,
    "start_time": "2022-06-25T12:00:49.105Z"
   },
   {
    "duration": 48,
    "start_time": "2022-06-25T12:00:49.237Z"
   },
   {
    "duration": 59,
    "start_time": "2022-06-25T12:00:49.287Z"
   },
   {
    "duration": 149,
    "start_time": "2022-06-25T12:00:49.347Z"
   },
   {
    "duration": 0,
    "start_time": "2022-06-25T12:00:49.497Z"
   },
   {
    "duration": 0,
    "start_time": "2022-06-25T12:00:49.499Z"
   },
   {
    "duration": 13,
    "start_time": "2022-06-25T12:02:04.768Z"
   },
   {
    "duration": 65,
    "start_time": "2022-06-25T12:02:45.214Z"
   },
   {
    "duration": 9,
    "start_time": "2022-06-25T12:03:08.304Z"
   },
   {
    "duration": 17,
    "start_time": "2022-06-25T12:03:31.413Z"
   },
   {
    "duration": 62,
    "start_time": "2022-06-25T12:04:05.362Z"
   },
   {
    "duration": 1122,
    "start_time": "2022-06-25T12:04:11.069Z"
   },
   {
    "duration": 26,
    "start_time": "2022-06-25T12:04:12.193Z"
   },
   {
    "duration": 22,
    "start_time": "2022-06-25T12:04:12.221Z"
   },
   {
    "duration": 29,
    "start_time": "2022-06-25T12:04:12.250Z"
   },
   {
    "duration": 11,
    "start_time": "2022-06-25T12:04:12.281Z"
   },
   {
    "duration": 4,
    "start_time": "2022-06-25T12:04:12.294Z"
   },
   {
    "duration": 5,
    "start_time": "2022-06-25T12:04:12.300Z"
   },
   {
    "duration": 12,
    "start_time": "2022-06-25T12:04:12.307Z"
   },
   {
    "duration": 20,
    "start_time": "2022-06-25T12:04:12.320Z"
   },
   {
    "duration": 560,
    "start_time": "2022-06-25T12:04:12.343Z"
   },
   {
    "duration": 41,
    "start_time": "2022-06-25T12:04:12.905Z"
   },
   {
    "duration": 11,
    "start_time": "2022-06-25T12:04:12.948Z"
   },
   {
    "duration": 33,
    "start_time": "2022-06-25T12:04:12.961Z"
   },
   {
    "duration": 5,
    "start_time": "2022-06-25T12:04:12.996Z"
   },
   {
    "duration": 6,
    "start_time": "2022-06-25T12:04:13.003Z"
   },
   {
    "duration": 6,
    "start_time": "2022-06-25T12:04:13.011Z"
   },
   {
    "duration": 7,
    "start_time": "2022-06-25T12:04:13.018Z"
   },
   {
    "duration": 53,
    "start_time": "2022-06-25T12:04:13.027Z"
   },
   {
    "duration": 7,
    "start_time": "2022-06-25T12:04:13.082Z"
   },
   {
    "duration": 7,
    "start_time": "2022-06-25T12:04:13.090Z"
   },
   {
    "duration": 6,
    "start_time": "2022-06-25T12:04:13.099Z"
   },
   {
    "duration": 11,
    "start_time": "2022-06-25T12:04:13.106Z"
   },
   {
    "duration": 18,
    "start_time": "2022-06-25T12:04:13.118Z"
   },
   {
    "duration": 15,
    "start_time": "2022-06-25T12:04:13.136Z"
   },
   {
    "duration": 13,
    "start_time": "2022-06-25T12:04:13.157Z"
   },
   {
    "duration": 14,
    "start_time": "2022-06-25T12:04:13.173Z"
   },
   {
    "duration": 6,
    "start_time": "2022-06-25T12:04:13.189Z"
   },
   {
    "duration": 10,
    "start_time": "2022-06-25T12:04:13.197Z"
   },
   {
    "duration": 14,
    "start_time": "2022-06-25T12:04:13.208Z"
   },
   {
    "duration": 31,
    "start_time": "2022-06-25T12:04:13.223Z"
   },
   {
    "duration": 22,
    "start_time": "2022-06-25T12:04:13.256Z"
   },
   {
    "duration": 16,
    "start_time": "2022-06-25T12:04:13.282Z"
   },
   {
    "duration": 4,
    "start_time": "2022-06-25T12:04:13.299Z"
   },
   {
    "duration": 11,
    "start_time": "2022-06-25T12:04:13.305Z"
   },
   {
    "duration": 10,
    "start_time": "2022-06-25T12:04:13.317Z"
   },
   {
    "duration": 234,
    "start_time": "2022-06-25T12:04:13.328Z"
   },
   {
    "duration": 154,
    "start_time": "2022-06-25T12:04:13.566Z"
   },
   {
    "duration": 351,
    "start_time": "2022-06-25T12:04:13.722Z"
   },
   {
    "duration": 257,
    "start_time": "2022-06-25T12:04:14.075Z"
   },
   {
    "duration": 325,
    "start_time": "2022-06-25T12:04:14.342Z"
   },
   {
    "duration": 235,
    "start_time": "2022-06-25T12:04:14.675Z"
   },
   {
    "duration": 370,
    "start_time": "2022-06-25T12:04:14.912Z"
   },
   {
    "duration": 10,
    "start_time": "2022-06-25T12:04:15.284Z"
   },
   {
    "duration": 171,
    "start_time": "2022-06-25T12:04:15.296Z"
   },
   {
    "duration": 11,
    "start_time": "2022-06-25T12:04:15.469Z"
   },
   {
    "duration": 174,
    "start_time": "2022-06-25T12:04:15.482Z"
   },
   {
    "duration": 11,
    "start_time": "2022-06-25T12:04:15.662Z"
   },
   {
    "duration": 6,
    "start_time": "2022-06-25T12:04:15.677Z"
   },
   {
    "duration": 117,
    "start_time": "2022-06-25T12:04:15.685Z"
   },
   {
    "duration": 8,
    "start_time": "2022-06-25T12:04:15.804Z"
   },
   {
    "duration": 53,
    "start_time": "2022-06-25T12:04:15.814Z"
   },
   {
    "duration": 20,
    "start_time": "2022-06-25T12:04:15.869Z"
   },
   {
    "duration": 66,
    "start_time": "2022-06-25T12:04:15.890Z"
   },
   {
    "duration": 80,
    "start_time": "2022-06-25T12:04:15.964Z"
   },
   {
    "duration": 120,
    "start_time": "2022-06-25T12:04:16.045Z"
   },
   {
    "duration": 25,
    "start_time": "2022-06-25T12:05:43.265Z"
   },
   {
    "duration": 31,
    "start_time": "2022-06-25T12:06:22.651Z"
   },
   {
    "duration": 10,
    "start_time": "2022-06-25T12:06:40.503Z"
   },
   {
    "duration": 10,
    "start_time": "2022-06-25T12:07:52.268Z"
   },
   {
    "duration": 10,
    "start_time": "2022-06-25T12:20:33.308Z"
   },
   {
    "duration": 10,
    "start_time": "2022-06-25T12:21:21.628Z"
   },
   {
    "duration": 1086,
    "start_time": "2022-06-25T12:21:32.260Z"
   },
   {
    "duration": 39,
    "start_time": "2022-06-25T12:21:33.348Z"
   },
   {
    "duration": 12,
    "start_time": "2022-06-25T12:21:33.388Z"
   },
   {
    "duration": 2,
    "start_time": "2022-06-25T12:21:33.402Z"
   },
   {
    "duration": 13,
    "start_time": "2022-06-25T12:21:33.406Z"
   },
   {
    "duration": 7,
    "start_time": "2022-06-25T12:21:33.421Z"
   },
   {
    "duration": 16,
    "start_time": "2022-06-25T12:21:33.438Z"
   },
   {
    "duration": 23,
    "start_time": "2022-06-25T12:21:33.460Z"
   },
   {
    "duration": 12,
    "start_time": "2022-06-25T12:21:33.485Z"
   },
   {
    "duration": 592,
    "start_time": "2022-06-25T12:21:33.499Z"
   },
   {
    "duration": 40,
    "start_time": "2022-06-25T12:21:34.093Z"
   },
   {
    "duration": 13,
    "start_time": "2022-06-25T12:21:34.135Z"
   },
   {
    "duration": 37,
    "start_time": "2022-06-25T12:21:34.152Z"
   },
   {
    "duration": 14,
    "start_time": "2022-06-25T12:21:34.193Z"
   },
   {
    "duration": 11,
    "start_time": "2022-06-25T12:21:34.209Z"
   },
   {
    "duration": 48,
    "start_time": "2022-06-25T12:21:34.222Z"
   },
   {
    "duration": 23,
    "start_time": "2022-06-25T12:21:34.272Z"
   },
   {
    "duration": 22,
    "start_time": "2022-06-25T12:21:34.296Z"
   },
   {
    "duration": 54,
    "start_time": "2022-06-25T12:21:34.320Z"
   },
   {
    "duration": 11,
    "start_time": "2022-06-25T12:21:34.375Z"
   },
   {
    "duration": 16,
    "start_time": "2022-06-25T12:21:34.387Z"
   },
   {
    "duration": 20,
    "start_time": "2022-06-25T12:21:34.404Z"
   },
   {
    "duration": 47,
    "start_time": "2022-06-25T12:21:34.426Z"
   },
   {
    "duration": 13,
    "start_time": "2022-06-25T12:21:34.475Z"
   },
   {
    "duration": 22,
    "start_time": "2022-06-25T12:21:34.490Z"
   },
   {
    "duration": 15,
    "start_time": "2022-06-25T12:21:34.513Z"
   },
   {
    "duration": 51,
    "start_time": "2022-06-25T12:21:34.530Z"
   },
   {
    "duration": 9,
    "start_time": "2022-06-25T12:21:34.583Z"
   },
   {
    "duration": 12,
    "start_time": "2022-06-25T12:21:34.593Z"
   },
   {
    "duration": 55,
    "start_time": "2022-06-25T12:21:34.606Z"
   },
   {
    "duration": 9,
    "start_time": "2022-06-25T12:21:34.662Z"
   },
   {
    "duration": 13,
    "start_time": "2022-06-25T12:21:34.672Z"
   },
   {
    "duration": 6,
    "start_time": "2022-06-25T12:21:34.687Z"
   },
   {
    "duration": 13,
    "start_time": "2022-06-25T12:21:34.695Z"
   },
   {
    "duration": 11,
    "start_time": "2022-06-25T12:21:34.710Z"
   },
   {
    "duration": 250,
    "start_time": "2022-06-25T12:21:34.723Z"
   },
   {
    "duration": 164,
    "start_time": "2022-06-25T12:21:34.975Z"
   },
   {
    "duration": 345,
    "start_time": "2022-06-25T12:21:35.144Z"
   },
   {
    "duration": 271,
    "start_time": "2022-06-25T12:21:35.490Z"
   },
   {
    "duration": 325,
    "start_time": "2022-06-25T12:21:35.765Z"
   },
   {
    "duration": 285,
    "start_time": "2022-06-25T12:21:36.096Z"
   },
   {
    "duration": 338,
    "start_time": "2022-06-25T12:21:36.383Z"
   },
   {
    "duration": 30,
    "start_time": "2022-06-25T12:21:36.722Z"
   },
   {
    "duration": 198,
    "start_time": "2022-06-25T12:21:36.753Z"
   },
   {
    "duration": 14,
    "start_time": "2022-06-25T12:21:36.957Z"
   },
   {
    "duration": 171,
    "start_time": "2022-06-25T12:21:36.975Z"
   },
   {
    "duration": 27,
    "start_time": "2022-06-25T12:21:37.150Z"
   },
   {
    "duration": 22,
    "start_time": "2022-06-25T12:21:37.179Z"
   },
   {
    "duration": 149,
    "start_time": "2022-06-25T12:21:37.203Z"
   },
   {
    "duration": 14,
    "start_time": "2022-06-25T12:21:37.358Z"
   },
   {
    "duration": 53,
    "start_time": "2022-06-25T12:21:37.374Z"
   },
   {
    "duration": 122,
    "start_time": "2022-06-25T12:21:37.438Z"
   },
   {
    "duration": 76,
    "start_time": "2022-06-25T12:21:37.568Z"
   },
   {
    "duration": 31,
    "start_time": "2022-06-25T12:21:37.648Z"
   },
   {
    "duration": 22,
    "start_time": "2022-06-25T12:21:37.681Z"
   },
   {
    "duration": 16,
    "start_time": "2022-06-25T12:21:37.705Z"
   },
   {
    "duration": 45,
    "start_time": "2022-06-26T13:00:59.868Z"
   },
   {
    "duration": 1437,
    "start_time": "2022-06-26T13:01:05.858Z"
   },
   {
    "duration": 64,
    "start_time": "2022-06-26T13:01:07.297Z"
   },
   {
    "duration": 16,
    "start_time": "2022-06-26T13:01:07.363Z"
   },
   {
    "duration": 11,
    "start_time": "2022-06-26T13:01:07.382Z"
   },
   {
    "duration": 20,
    "start_time": "2022-06-26T13:01:07.395Z"
   },
   {
    "duration": 8,
    "start_time": "2022-06-26T13:01:07.417Z"
   },
   {
    "duration": 21,
    "start_time": "2022-06-26T13:01:07.427Z"
   },
   {
    "duration": 16,
    "start_time": "2022-06-26T13:01:07.450Z"
   },
   {
    "duration": 14,
    "start_time": "2022-06-26T13:01:07.468Z"
   },
   {
    "duration": 572,
    "start_time": "2022-06-26T13:01:07.485Z"
   },
   {
    "duration": 84,
    "start_time": "2022-06-26T13:01:08.060Z"
   },
   {
    "duration": 11,
    "start_time": "2022-06-26T13:01:08.147Z"
   },
   {
    "duration": 25,
    "start_time": "2022-06-26T13:01:08.160Z"
   },
   {
    "duration": 14,
    "start_time": "2022-06-26T13:01:08.188Z"
   },
   {
    "duration": 20,
    "start_time": "2022-06-26T13:01:08.204Z"
   },
   {
    "duration": 13,
    "start_time": "2022-06-26T13:01:08.226Z"
   },
   {
    "duration": 38,
    "start_time": "2022-06-26T13:01:08.241Z"
   },
   {
    "duration": 42,
    "start_time": "2022-06-26T13:01:08.281Z"
   },
   {
    "duration": 25,
    "start_time": "2022-06-26T13:01:08.325Z"
   },
   {
    "duration": 48,
    "start_time": "2022-06-26T13:01:08.352Z"
   },
   {
    "duration": 28,
    "start_time": "2022-06-26T13:01:08.402Z"
   },
   {
    "duration": 25,
    "start_time": "2022-06-26T13:01:08.432Z"
   },
   {
    "duration": 27,
    "start_time": "2022-06-26T13:01:08.459Z"
   },
   {
    "duration": 20,
    "start_time": "2022-06-26T13:01:08.488Z"
   },
   {
    "duration": 32,
    "start_time": "2022-06-26T13:01:08.510Z"
   },
   {
    "duration": 24,
    "start_time": "2022-06-26T13:01:08.543Z"
   },
   {
    "duration": 24,
    "start_time": "2022-06-26T13:01:08.568Z"
   },
   {
    "duration": 6,
    "start_time": "2022-06-26T13:01:08.597Z"
   },
   {
    "duration": 23,
    "start_time": "2022-06-26T13:01:08.605Z"
   },
   {
    "duration": 69,
    "start_time": "2022-06-26T13:01:08.630Z"
   },
   {
    "duration": 8,
    "start_time": "2022-06-26T13:01:08.701Z"
   },
   {
    "duration": 37,
    "start_time": "2022-06-26T13:01:08.711Z"
   },
   {
    "duration": 27,
    "start_time": "2022-06-26T13:01:08.750Z"
   },
   {
    "duration": 30,
    "start_time": "2022-06-26T13:01:08.779Z"
   },
   {
    "duration": 43,
    "start_time": "2022-06-26T13:01:08.811Z"
   },
   {
    "duration": 196,
    "start_time": "2022-06-26T13:01:08.856Z"
   },
   {
    "duration": 147,
    "start_time": "2022-06-26T13:01:09.054Z"
   },
   {
    "duration": 315,
    "start_time": "2022-06-26T13:01:09.203Z"
   },
   {
    "duration": 246,
    "start_time": "2022-06-26T13:01:09.520Z"
   },
   {
    "duration": 363,
    "start_time": "2022-06-26T13:01:09.767Z"
   },
   {
    "duration": 230,
    "start_time": "2022-06-26T13:01:10.132Z"
   },
   {
    "duration": 310,
    "start_time": "2022-06-26T13:01:10.363Z"
   },
   {
    "duration": 12,
    "start_time": "2022-06-26T13:01:10.675Z"
   },
   {
    "duration": 187,
    "start_time": "2022-06-26T13:01:10.688Z"
   },
   {
    "duration": 8,
    "start_time": "2022-06-26T13:01:10.877Z"
   },
   {
    "duration": 213,
    "start_time": "2022-06-26T13:01:10.887Z"
   },
   {
    "duration": 8,
    "start_time": "2022-06-26T13:01:11.102Z"
   },
   {
    "duration": 15,
    "start_time": "2022-06-26T13:01:11.112Z"
   },
   {
    "duration": 140,
    "start_time": "2022-06-26T13:01:11.129Z"
   },
   {
    "duration": 14,
    "start_time": "2022-06-26T13:01:11.271Z"
   },
   {
    "duration": 55,
    "start_time": "2022-06-26T13:01:11.287Z"
   },
   {
    "duration": 59,
    "start_time": "2022-06-26T13:01:11.345Z"
   },
   {
    "duration": 96,
    "start_time": "2022-06-26T13:01:11.407Z"
   },
   {
    "duration": 40,
    "start_time": "2022-06-26T13:01:11.505Z"
   },
   {
    "duration": 17,
    "start_time": "2022-06-26T13:01:11.548Z"
   },
   {
    "duration": 22,
    "start_time": "2022-06-26T13:01:11.567Z"
   },
   {
    "duration": 26,
    "start_time": "2022-06-26T13:01:11.591Z"
   },
   {
    "duration": 4,
    "start_time": "2022-06-26T13:15:37.751Z"
   },
   {
    "duration": 4,
    "start_time": "2022-06-26T13:15:52.445Z"
   },
   {
    "duration": 5,
    "start_time": "2022-06-26T13:21:29.842Z"
   },
   {
    "duration": 4,
    "start_time": "2022-06-26T13:21:38.195Z"
   },
   {
    "duration": 3,
    "start_time": "2022-06-26T13:22:16.732Z"
   },
   {
    "duration": 4,
    "start_time": "2022-06-26T13:22:37.977Z"
   },
   {
    "duration": 6,
    "start_time": "2022-06-26T13:23:09.551Z"
   },
   {
    "duration": 3,
    "start_time": "2022-06-26T13:24:59.973Z"
   },
   {
    "duration": 4,
    "start_time": "2022-06-26T13:25:06.753Z"
   },
   {
    "duration": 4,
    "start_time": "2022-06-26T13:25:39.256Z"
   },
   {
    "duration": 3,
    "start_time": "2022-06-26T13:29:34.787Z"
   },
   {
    "duration": 3,
    "start_time": "2022-06-26T13:30:02.448Z"
   },
   {
    "duration": 3,
    "start_time": "2022-06-26T13:31:45.445Z"
   },
   {
    "duration": 3,
    "start_time": "2022-06-26T13:32:01.288Z"
   },
   {
    "duration": 3,
    "start_time": "2022-06-26T13:32:14.154Z"
   },
   {
    "duration": 8,
    "start_time": "2022-06-26T14:06:09.466Z"
   },
   {
    "duration": 230,
    "start_time": "2022-06-26T14:18:18.665Z"
   },
   {
    "duration": 1193,
    "start_time": "2022-06-26T14:19:32.365Z"
   },
   {
    "duration": 28,
    "start_time": "2022-06-26T14:19:33.560Z"
   },
   {
    "duration": 10,
    "start_time": "2022-06-26T14:19:33.589Z"
   },
   {
    "duration": 3,
    "start_time": "2022-06-26T14:19:33.601Z"
   },
   {
    "duration": 9,
    "start_time": "2022-06-26T14:19:33.606Z"
   },
   {
    "duration": 6,
    "start_time": "2022-06-26T14:19:33.617Z"
   },
   {
    "duration": 19,
    "start_time": "2022-06-26T14:19:33.625Z"
   },
   {
    "duration": 12,
    "start_time": "2022-06-26T14:19:33.646Z"
   },
   {
    "duration": 9,
    "start_time": "2022-06-26T14:19:33.660Z"
   },
   {
    "duration": 506,
    "start_time": "2022-06-26T14:19:33.671Z"
   },
   {
    "duration": 38,
    "start_time": "2022-06-26T14:19:34.179Z"
   },
   {
    "duration": 17,
    "start_time": "2022-06-26T14:19:34.219Z"
   },
   {
    "duration": 17,
    "start_time": "2022-06-26T14:19:34.238Z"
   },
   {
    "duration": 9,
    "start_time": "2022-06-26T14:19:34.257Z"
   },
   {
    "duration": 10,
    "start_time": "2022-06-26T14:19:34.267Z"
   },
   {
    "duration": 7,
    "start_time": "2022-06-26T14:19:34.279Z"
   },
   {
    "duration": 9,
    "start_time": "2022-06-26T14:19:34.287Z"
   },
   {
    "duration": 13,
    "start_time": "2022-06-26T14:19:34.298Z"
   },
   {
    "duration": 11,
    "start_time": "2022-06-26T14:19:34.313Z"
   },
   {
    "duration": 20,
    "start_time": "2022-06-26T14:19:34.326Z"
   },
   {
    "duration": 19,
    "start_time": "2022-06-26T14:19:34.349Z"
   },
   {
    "duration": 8,
    "start_time": "2022-06-26T14:19:34.369Z"
   },
   {
    "duration": 17,
    "start_time": "2022-06-26T14:19:34.378Z"
   },
   {
    "duration": 5,
    "start_time": "2022-06-26T14:19:34.396Z"
   },
   {
    "duration": 9,
    "start_time": "2022-06-26T14:19:34.403Z"
   },
   {
    "duration": 7,
    "start_time": "2022-06-26T14:19:34.414Z"
   },
   {
    "duration": 25,
    "start_time": "2022-06-26T14:19:34.423Z"
   },
   {
    "duration": 5,
    "start_time": "2022-06-26T14:19:34.452Z"
   },
   {
    "duration": 9,
    "start_time": "2022-06-26T14:19:34.458Z"
   },
   {
    "duration": 15,
    "start_time": "2022-06-26T14:19:34.469Z"
   },
   {
    "duration": 6,
    "start_time": "2022-06-26T14:19:34.486Z"
   },
   {
    "duration": 11,
    "start_time": "2022-06-26T14:19:34.494Z"
   },
   {
    "duration": 9,
    "start_time": "2022-06-26T14:19:34.506Z"
   },
   {
    "duration": 23,
    "start_time": "2022-06-26T14:19:34.517Z"
   },
   {
    "duration": 10,
    "start_time": "2022-06-26T14:19:34.542Z"
   },
   {
    "duration": 191,
    "start_time": "2022-06-26T14:19:34.554Z"
   },
   {
    "duration": 138,
    "start_time": "2022-06-26T14:19:34.747Z"
   },
   {
    "duration": 317,
    "start_time": "2022-06-26T14:19:34.886Z"
   },
   {
    "duration": 237,
    "start_time": "2022-06-26T14:19:35.204Z"
   },
   {
    "duration": 320,
    "start_time": "2022-06-26T14:19:35.443Z"
   },
   {
    "duration": 218,
    "start_time": "2022-06-26T14:19:35.765Z"
   },
   {
    "duration": 321,
    "start_time": "2022-06-26T14:19:35.984Z"
   },
   {
    "duration": 9,
    "start_time": "2022-06-26T14:19:36.307Z"
   },
   {
    "duration": 160,
    "start_time": "2022-06-26T14:19:36.318Z"
   },
   {
    "duration": 6,
    "start_time": "2022-06-26T14:19:36.480Z"
   },
   {
    "duration": 171,
    "start_time": "2022-06-26T14:19:36.487Z"
   },
   {
    "duration": 8,
    "start_time": "2022-06-26T14:19:36.660Z"
   },
   {
    "duration": 8,
    "start_time": "2022-06-26T14:19:36.670Z"
   },
   {
    "duration": 130,
    "start_time": "2022-06-26T14:19:36.680Z"
   },
   {
    "duration": 6,
    "start_time": "2022-06-26T14:19:36.811Z"
   },
   {
    "duration": 64,
    "start_time": "2022-06-26T14:19:36.819Z"
   },
   {
    "duration": 68,
    "start_time": "2022-06-26T14:19:36.884Z"
   },
   {
    "duration": 60,
    "start_time": "2022-06-26T14:19:36.954Z"
   },
   {
    "duration": 35,
    "start_time": "2022-06-26T14:19:37.015Z"
   },
   {
    "duration": 10,
    "start_time": "2022-06-26T14:19:37.052Z"
   },
   {
    "duration": 15,
    "start_time": "2022-06-26T14:19:37.063Z"
   },
   {
    "duration": 10,
    "start_time": "2022-06-26T14:19:37.080Z"
   },
   {
    "duration": 6,
    "start_time": "2022-06-26T14:19:37.092Z"
   },
   {
    "duration": 10,
    "start_time": "2022-06-26T14:19:37.100Z"
   },
   {
    "duration": 261,
    "start_time": "2022-06-26T14:19:37.127Z"
   },
   {
    "duration": 85,
    "start_time": "2022-06-26T14:21:38.007Z"
   },
   {
    "duration": 0,
    "start_time": "2022-06-26T14:21:38.094Z"
   },
   {
    "duration": 0,
    "start_time": "2022-06-26T14:21:38.095Z"
   },
   {
    "duration": 0,
    "start_time": "2022-06-26T14:21:38.096Z"
   },
   {
    "duration": 0,
    "start_time": "2022-06-26T14:21:38.097Z"
   },
   {
    "duration": 0,
    "start_time": "2022-06-26T14:21:38.098Z"
   },
   {
    "duration": 0,
    "start_time": "2022-06-26T14:21:38.099Z"
   },
   {
    "duration": 0,
    "start_time": "2022-06-26T14:21:38.100Z"
   },
   {
    "duration": 0,
    "start_time": "2022-06-26T14:21:38.101Z"
   },
   {
    "duration": 0,
    "start_time": "2022-06-26T14:21:38.102Z"
   },
   {
    "duration": 0,
    "start_time": "2022-06-26T14:21:38.103Z"
   },
   {
    "duration": 0,
    "start_time": "2022-06-26T14:21:38.104Z"
   },
   {
    "duration": 0,
    "start_time": "2022-06-26T14:21:38.106Z"
   },
   {
    "duration": 0,
    "start_time": "2022-06-26T14:21:38.107Z"
   },
   {
    "duration": 0,
    "start_time": "2022-06-26T14:21:38.108Z"
   },
   {
    "duration": 0,
    "start_time": "2022-06-26T14:21:38.109Z"
   },
   {
    "duration": 0,
    "start_time": "2022-06-26T14:21:38.110Z"
   },
   {
    "duration": 0,
    "start_time": "2022-06-26T14:21:38.111Z"
   },
   {
    "duration": 0,
    "start_time": "2022-06-26T14:21:38.112Z"
   },
   {
    "duration": 0,
    "start_time": "2022-06-26T14:21:38.112Z"
   },
   {
    "duration": 55,
    "start_time": "2022-06-26T14:21:38.115Z"
   },
   {
    "duration": 0,
    "start_time": "2022-06-26T14:21:38.172Z"
   },
   {
    "duration": 0,
    "start_time": "2022-06-26T14:21:38.173Z"
   },
   {
    "duration": 0,
    "start_time": "2022-06-26T14:21:38.174Z"
   },
   {
    "duration": 0,
    "start_time": "2022-06-26T14:21:38.174Z"
   },
   {
    "duration": 0,
    "start_time": "2022-06-26T14:21:38.176Z"
   },
   {
    "duration": 0,
    "start_time": "2022-06-26T14:21:38.177Z"
   },
   {
    "duration": 0,
    "start_time": "2022-06-26T14:21:38.177Z"
   },
   {
    "duration": 0,
    "start_time": "2022-06-26T14:21:38.178Z"
   },
   {
    "duration": 0,
    "start_time": "2022-06-26T14:21:38.179Z"
   },
   {
    "duration": 0,
    "start_time": "2022-06-26T14:21:38.180Z"
   },
   {
    "duration": 0,
    "start_time": "2022-06-26T14:21:38.181Z"
   },
   {
    "duration": 0,
    "start_time": "2022-06-26T14:21:38.182Z"
   },
   {
    "duration": 0,
    "start_time": "2022-06-26T14:21:38.183Z"
   },
   {
    "duration": 0,
    "start_time": "2022-06-26T14:21:38.184Z"
   },
   {
    "duration": 0,
    "start_time": "2022-06-26T14:21:38.185Z"
   },
   {
    "duration": 0,
    "start_time": "2022-06-26T14:21:38.185Z"
   },
   {
    "duration": 0,
    "start_time": "2022-06-26T14:21:38.186Z"
   },
   {
    "duration": 52,
    "start_time": "2022-06-26T14:21:38.188Z"
   },
   {
    "duration": 0,
    "start_time": "2022-06-26T14:21:38.242Z"
   },
   {
    "duration": 0,
    "start_time": "2022-06-26T14:21:38.243Z"
   },
   {
    "duration": 0,
    "start_time": "2022-06-26T14:21:38.244Z"
   },
   {
    "duration": 0,
    "start_time": "2022-06-26T14:21:38.245Z"
   },
   {
    "duration": 0,
    "start_time": "2022-06-26T14:21:38.247Z"
   },
   {
    "duration": 0,
    "start_time": "2022-06-26T14:21:38.248Z"
   },
   {
    "duration": 0,
    "start_time": "2022-06-26T14:21:38.249Z"
   },
   {
    "duration": 0,
    "start_time": "2022-06-26T14:21:38.250Z"
   },
   {
    "duration": 7,
    "start_time": "2022-06-26T14:21:38.252Z"
   },
   {
    "duration": 0,
    "start_time": "2022-06-26T14:21:38.260Z"
   },
   {
    "duration": 0,
    "start_time": "2022-06-26T14:21:38.262Z"
   },
   {
    "duration": 0,
    "start_time": "2022-06-26T14:21:38.263Z"
   },
   {
    "duration": 0,
    "start_time": "2022-06-26T14:21:38.265Z"
   },
   {
    "duration": 0,
    "start_time": "2022-06-26T14:21:38.266Z"
   },
   {
    "duration": 0,
    "start_time": "2022-06-26T14:21:38.267Z"
   },
   {
    "duration": 70,
    "start_time": "2022-06-26T14:21:38.270Z"
   },
   {
    "duration": 0,
    "start_time": "2022-06-26T14:21:38.342Z"
   },
   {
    "duration": 0,
    "start_time": "2022-06-26T14:21:38.343Z"
   },
   {
    "duration": 0,
    "start_time": "2022-06-26T14:21:38.344Z"
   },
   {
    "duration": 0,
    "start_time": "2022-06-26T14:21:38.344Z"
   },
   {
    "duration": 0,
    "start_time": "2022-06-26T14:21:38.345Z"
   },
   {
    "duration": 63,
    "start_time": "2022-06-26T14:22:01.542Z"
   },
   {
    "duration": 0,
    "start_time": "2022-06-26T14:22:01.607Z"
   },
   {
    "duration": 0,
    "start_time": "2022-06-26T14:22:01.609Z"
   },
   {
    "duration": 0,
    "start_time": "2022-06-26T14:22:01.610Z"
   },
   {
    "duration": 0,
    "start_time": "2022-06-26T14:22:01.612Z"
   },
   {
    "duration": 0,
    "start_time": "2022-06-26T14:22:01.613Z"
   },
   {
    "duration": 0,
    "start_time": "2022-06-26T14:22:01.615Z"
   },
   {
    "duration": 0,
    "start_time": "2022-06-26T14:22:01.616Z"
   },
   {
    "duration": 0,
    "start_time": "2022-06-26T14:22:01.618Z"
   },
   {
    "duration": 0,
    "start_time": "2022-06-26T14:22:01.620Z"
   },
   {
    "duration": 0,
    "start_time": "2022-06-26T14:22:01.621Z"
   },
   {
    "duration": 0,
    "start_time": "2022-06-26T14:22:01.623Z"
   },
   {
    "duration": 0,
    "start_time": "2022-06-26T14:22:01.625Z"
   },
   {
    "duration": 0,
    "start_time": "2022-06-26T14:22:01.628Z"
   },
   {
    "duration": 0,
    "start_time": "2022-06-26T14:22:01.630Z"
   },
   {
    "duration": 0,
    "start_time": "2022-06-26T14:22:01.631Z"
   },
   {
    "duration": 0,
    "start_time": "2022-06-26T14:22:01.631Z"
   },
   {
    "duration": 63,
    "start_time": "2022-06-26T14:22:01.636Z"
   },
   {
    "duration": 0,
    "start_time": "2022-06-26T14:22:01.727Z"
   },
   {
    "duration": 0,
    "start_time": "2022-06-26T14:22:01.727Z"
   },
   {
    "duration": 0,
    "start_time": "2022-06-26T14:22:01.728Z"
   },
   {
    "duration": 0,
    "start_time": "2022-06-26T14:22:01.729Z"
   },
   {
    "duration": 0,
    "start_time": "2022-06-26T14:22:01.729Z"
   },
   {
    "duration": 0,
    "start_time": "2022-06-26T14:22:01.730Z"
   },
   {
    "duration": 0,
    "start_time": "2022-06-26T14:22:01.732Z"
   },
   {
    "duration": 0,
    "start_time": "2022-06-26T14:22:01.733Z"
   },
   {
    "duration": 0,
    "start_time": "2022-06-26T14:22:01.734Z"
   },
   {
    "duration": 0,
    "start_time": "2022-06-26T14:22:01.734Z"
   },
   {
    "duration": 0,
    "start_time": "2022-06-26T14:22:01.735Z"
   },
   {
    "duration": 0,
    "start_time": "2022-06-26T14:22:01.736Z"
   },
   {
    "duration": 0,
    "start_time": "2022-06-26T14:22:01.737Z"
   },
   {
    "duration": 0,
    "start_time": "2022-06-26T14:22:01.737Z"
   },
   {
    "duration": 0,
    "start_time": "2022-06-26T14:22:01.740Z"
   },
   {
    "duration": 0,
    "start_time": "2022-06-26T14:22:01.741Z"
   },
   {
    "duration": 0,
    "start_time": "2022-06-26T14:22:01.742Z"
   },
   {
    "duration": 0,
    "start_time": "2022-06-26T14:22:01.743Z"
   },
   {
    "duration": 0,
    "start_time": "2022-06-26T14:22:01.750Z"
   },
   {
    "duration": 0,
    "start_time": "2022-06-26T14:22:01.751Z"
   },
   {
    "duration": 0,
    "start_time": "2022-06-26T14:22:01.753Z"
   },
   {
    "duration": 11,
    "start_time": "2022-06-26T14:22:01.758Z"
   },
   {
    "duration": 0,
    "start_time": "2022-06-26T14:22:01.771Z"
   },
   {
    "duration": 0,
    "start_time": "2022-06-26T14:22:01.773Z"
   },
   {
    "duration": 0,
    "start_time": "2022-06-26T14:22:01.833Z"
   },
   {
    "duration": 0,
    "start_time": "2022-06-26T14:22:01.834Z"
   },
   {
    "duration": 0,
    "start_time": "2022-06-26T14:22:01.835Z"
   },
   {
    "duration": 0,
    "start_time": "2022-06-26T14:22:01.836Z"
   },
   {
    "duration": 0,
    "start_time": "2022-06-26T14:22:01.837Z"
   },
   {
    "duration": 0,
    "start_time": "2022-06-26T14:22:01.838Z"
   },
   {
    "duration": 0,
    "start_time": "2022-06-26T14:22:01.839Z"
   },
   {
    "duration": 0,
    "start_time": "2022-06-26T14:22:01.840Z"
   },
   {
    "duration": 0,
    "start_time": "2022-06-26T14:22:01.840Z"
   },
   {
    "duration": 0,
    "start_time": "2022-06-26T14:22:01.841Z"
   },
   {
    "duration": 0,
    "start_time": "2022-06-26T14:22:01.843Z"
   },
   {
    "duration": 0,
    "start_time": "2022-06-26T14:22:01.845Z"
   },
   {
    "duration": 6,
    "start_time": "2022-06-26T14:22:01.848Z"
   },
   {
    "duration": 0,
    "start_time": "2022-06-26T14:22:01.855Z"
   },
   {
    "duration": 0,
    "start_time": "2022-06-26T14:22:01.856Z"
   },
   {
    "duration": 0,
    "start_time": "2022-06-26T14:22:01.857Z"
   },
   {
    "duration": 0,
    "start_time": "2022-06-26T14:22:01.858Z"
   },
   {
    "duration": 0,
    "start_time": "2022-06-26T14:22:01.859Z"
   },
   {
    "duration": 51,
    "start_time": "2022-06-26T14:22:28.538Z"
   },
   {
    "duration": 1082,
    "start_time": "2022-06-26T14:22:44.724Z"
   },
   {
    "duration": 1138,
    "start_time": "2022-06-26T14:22:51.132Z"
   },
   {
    "duration": 28,
    "start_time": "2022-06-26T14:22:52.271Z"
   },
   {
    "duration": 10,
    "start_time": "2022-06-26T14:22:52.301Z"
   },
   {
    "duration": 3,
    "start_time": "2022-06-26T14:22:52.312Z"
   },
   {
    "duration": 9,
    "start_time": "2022-06-26T14:22:52.317Z"
   },
   {
    "duration": 7,
    "start_time": "2022-06-26T14:22:52.341Z"
   },
   {
    "duration": 7,
    "start_time": "2022-06-26T14:22:52.349Z"
   },
   {
    "duration": 12,
    "start_time": "2022-06-26T14:22:52.357Z"
   },
   {
    "duration": 10,
    "start_time": "2022-06-26T14:22:52.370Z"
   },
   {
    "duration": 98,
    "start_time": "2022-06-26T14:22:52.381Z"
   },
   {
    "duration": 0,
    "start_time": "2022-06-26T14:22:52.482Z"
   },
   {
    "duration": 0,
    "start_time": "2022-06-26T14:22:52.483Z"
   },
   {
    "duration": 0,
    "start_time": "2022-06-26T14:22:52.484Z"
   },
   {
    "duration": 0,
    "start_time": "2022-06-26T14:22:52.485Z"
   },
   {
    "duration": 0,
    "start_time": "2022-06-26T14:22:52.486Z"
   },
   {
    "duration": 0,
    "start_time": "2022-06-26T14:22:52.486Z"
   },
   {
    "duration": 0,
    "start_time": "2022-06-26T14:22:52.488Z"
   },
   {
    "duration": 0,
    "start_time": "2022-06-26T14:22:52.489Z"
   },
   {
    "duration": 0,
    "start_time": "2022-06-26T14:22:52.490Z"
   },
   {
    "duration": 0,
    "start_time": "2022-06-26T14:22:52.491Z"
   },
   {
    "duration": 0,
    "start_time": "2022-06-26T14:22:52.492Z"
   },
   {
    "duration": 0,
    "start_time": "2022-06-26T14:22:52.494Z"
   },
   {
    "duration": 0,
    "start_time": "2022-06-26T14:22:52.495Z"
   },
   {
    "duration": 0,
    "start_time": "2022-06-26T14:22:52.497Z"
   },
   {
    "duration": 0,
    "start_time": "2022-06-26T14:22:52.497Z"
   },
   {
    "duration": 0,
    "start_time": "2022-06-26T14:22:52.526Z"
   },
   {
    "duration": 0,
    "start_time": "2022-06-26T14:22:52.527Z"
   },
   {
    "duration": 0,
    "start_time": "2022-06-26T14:22:52.532Z"
   },
   {
    "duration": 0,
    "start_time": "2022-06-26T14:22:52.532Z"
   },
   {
    "duration": 0,
    "start_time": "2022-06-26T14:22:52.533Z"
   },
   {
    "duration": 0,
    "start_time": "2022-06-26T14:22:52.540Z"
   },
   {
    "duration": 0,
    "start_time": "2022-06-26T14:22:52.541Z"
   },
   {
    "duration": 0,
    "start_time": "2022-06-26T14:22:52.542Z"
   },
   {
    "duration": 0,
    "start_time": "2022-06-26T14:22:52.543Z"
   },
   {
    "duration": 0,
    "start_time": "2022-06-26T14:22:52.544Z"
   },
   {
    "duration": 0,
    "start_time": "2022-06-26T14:22:52.545Z"
   },
   {
    "duration": 0,
    "start_time": "2022-06-26T14:22:52.546Z"
   },
   {
    "duration": 0,
    "start_time": "2022-06-26T14:22:52.547Z"
   },
   {
    "duration": 0,
    "start_time": "2022-06-26T14:22:52.548Z"
   },
   {
    "duration": 0,
    "start_time": "2022-06-26T14:22:52.549Z"
   },
   {
    "duration": 0,
    "start_time": "2022-06-26T14:22:52.550Z"
   },
   {
    "duration": 0,
    "start_time": "2022-06-26T14:22:52.551Z"
   },
   {
    "duration": 0,
    "start_time": "2022-06-26T14:22:52.552Z"
   },
   {
    "duration": 0,
    "start_time": "2022-06-26T14:22:52.553Z"
   },
   {
    "duration": 0,
    "start_time": "2022-06-26T14:22:52.554Z"
   },
   {
    "duration": 0,
    "start_time": "2022-06-26T14:22:52.555Z"
   },
   {
    "duration": 0,
    "start_time": "2022-06-26T14:22:52.556Z"
   },
   {
    "duration": 0,
    "start_time": "2022-06-26T14:22:52.557Z"
   },
   {
    "duration": 0,
    "start_time": "2022-06-26T14:22:52.558Z"
   },
   {
    "duration": 0,
    "start_time": "2022-06-26T14:22:52.559Z"
   },
   {
    "duration": 0,
    "start_time": "2022-06-26T14:22:52.560Z"
   },
   {
    "duration": 0,
    "start_time": "2022-06-26T14:22:52.560Z"
   },
   {
    "duration": 0,
    "start_time": "2022-06-26T14:22:52.561Z"
   },
   {
    "duration": 0,
    "start_time": "2022-06-26T14:22:52.562Z"
   },
   {
    "duration": 0,
    "start_time": "2022-06-26T14:22:52.563Z"
   },
   {
    "duration": 0,
    "start_time": "2022-06-26T14:22:52.564Z"
   },
   {
    "duration": 0,
    "start_time": "2022-06-26T14:22:52.565Z"
   },
   {
    "duration": 0,
    "start_time": "2022-06-26T14:22:52.565Z"
   },
   {
    "duration": 0,
    "start_time": "2022-06-26T14:22:52.566Z"
   },
   {
    "duration": 0,
    "start_time": "2022-06-26T14:22:52.567Z"
   },
   {
    "duration": 52,
    "start_time": "2022-06-26T14:24:02.595Z"
   },
   {
    "duration": 1129,
    "start_time": "2022-06-26T14:24:07.727Z"
   },
   {
    "duration": 28,
    "start_time": "2022-06-26T14:24:08.857Z"
   },
   {
    "duration": 11,
    "start_time": "2022-06-26T14:24:08.886Z"
   },
   {
    "duration": 6,
    "start_time": "2022-06-26T14:24:08.898Z"
   },
   {
    "duration": 10,
    "start_time": "2022-06-26T14:24:08.906Z"
   },
   {
    "duration": 7,
    "start_time": "2022-06-26T14:24:08.917Z"
   },
   {
    "duration": 9,
    "start_time": "2022-06-26T14:24:08.926Z"
   },
   {
    "duration": 12,
    "start_time": "2022-06-26T14:24:08.936Z"
   },
   {
    "duration": 9,
    "start_time": "2022-06-26T14:24:08.950Z"
   },
   {
    "duration": 472,
    "start_time": "2022-06-26T14:24:08.961Z"
   },
   {
    "duration": 39,
    "start_time": "2022-06-26T14:24:09.434Z"
   },
   {
    "duration": 9,
    "start_time": "2022-06-26T14:24:09.474Z"
   },
   {
    "duration": 16,
    "start_time": "2022-06-26T14:24:09.484Z"
   },
   {
    "duration": 12,
    "start_time": "2022-06-26T14:24:09.503Z"
   },
   {
    "duration": 14,
    "start_time": "2022-06-26T14:24:09.517Z"
   },
   {
    "duration": 17,
    "start_time": "2022-06-26T14:24:09.533Z"
   },
   {
    "duration": 9,
    "start_time": "2022-06-26T14:24:09.551Z"
   },
   {
    "duration": 17,
    "start_time": "2022-06-26T14:24:09.562Z"
   },
   {
    "duration": 14,
    "start_time": "2022-06-26T14:24:09.581Z"
   },
   {
    "duration": 12,
    "start_time": "2022-06-26T14:24:09.597Z"
   },
   {
    "duration": 9,
    "start_time": "2022-06-26T14:24:09.610Z"
   },
   {
    "duration": 7,
    "start_time": "2022-06-26T14:24:09.621Z"
   },
   {
    "duration": 14,
    "start_time": "2022-06-26T14:24:09.630Z"
   },
   {
    "duration": 6,
    "start_time": "2022-06-26T14:24:09.646Z"
   },
   {
    "duration": 23,
    "start_time": "2022-06-26T14:24:09.653Z"
   },
   {
    "duration": 16,
    "start_time": "2022-06-26T14:24:09.678Z"
   },
   {
    "duration": 11,
    "start_time": "2022-06-26T14:24:09.696Z"
   },
   {
    "duration": 10,
    "start_time": "2022-06-26T14:24:09.709Z"
   },
   {
    "duration": 12,
    "start_time": "2022-06-26T14:24:09.721Z"
   },
   {
    "duration": 17,
    "start_time": "2022-06-26T14:24:09.735Z"
   },
   {
    "duration": 7,
    "start_time": "2022-06-26T14:24:09.754Z"
   },
   {
    "duration": 24,
    "start_time": "2022-06-26T14:24:09.762Z"
   },
   {
    "duration": 7,
    "start_time": "2022-06-26T14:24:09.787Z"
   },
   {
    "duration": 25,
    "start_time": "2022-06-26T14:24:09.796Z"
   },
   {
    "duration": 13,
    "start_time": "2022-06-26T14:24:09.823Z"
   },
   {
    "duration": 179,
    "start_time": "2022-06-26T14:24:09.838Z"
   },
   {
    "duration": 140,
    "start_time": "2022-06-26T14:24:10.018Z"
   },
   {
    "duration": 281,
    "start_time": "2022-06-26T14:24:10.160Z"
   },
   {
    "duration": 214,
    "start_time": "2022-06-26T14:24:10.442Z"
   },
   {
    "duration": 279,
    "start_time": "2022-06-26T14:24:10.658Z"
   },
   {
    "duration": 203,
    "start_time": "2022-06-26T14:24:10.941Z"
   },
   {
    "duration": 298,
    "start_time": "2022-06-26T14:24:11.146Z"
   },
   {
    "duration": 13,
    "start_time": "2022-06-26T14:24:11.446Z"
   },
   {
    "duration": 208,
    "start_time": "2022-06-26T14:24:11.462Z"
   },
   {
    "duration": 9,
    "start_time": "2022-06-26T14:24:11.672Z"
   },
   {
    "duration": 155,
    "start_time": "2022-06-26T14:24:11.682Z"
   },
   {
    "duration": 7,
    "start_time": "2022-06-26T14:24:11.839Z"
   },
   {
    "duration": 9,
    "start_time": "2022-06-26T14:24:11.848Z"
   },
   {
    "duration": 132,
    "start_time": "2022-06-26T14:24:11.859Z"
   },
   {
    "duration": 11,
    "start_time": "2022-06-26T14:24:11.993Z"
   },
   {
    "duration": 53,
    "start_time": "2022-06-26T14:24:12.005Z"
   },
   {
    "duration": 56,
    "start_time": "2022-06-26T14:24:12.060Z"
   },
   {
    "duration": 55,
    "start_time": "2022-06-26T14:24:12.126Z"
   },
   {
    "duration": 23,
    "start_time": "2022-06-26T14:24:12.182Z"
   },
   {
    "duration": 21,
    "start_time": "2022-06-26T14:24:12.206Z"
   },
   {
    "duration": 9,
    "start_time": "2022-06-26T14:24:12.228Z"
   },
   {
    "duration": 108,
    "start_time": "2022-06-26T14:24:12.238Z"
   },
   {
    "duration": 0,
    "start_time": "2022-06-26T14:24:12.348Z"
   },
   {
    "duration": 0,
    "start_time": "2022-06-26T14:24:12.349Z"
   },
   {
    "duration": 0,
    "start_time": "2022-06-26T14:24:12.350Z"
   },
   {
    "duration": 7,
    "start_time": "2022-06-26T14:24:40.928Z"
   },
   {
    "duration": 3,
    "start_time": "2022-06-26T14:24:46.272Z"
   },
   {
    "duration": 1188,
    "start_time": "2022-06-26T14:25:07.146Z"
   },
   {
    "duration": 28,
    "start_time": "2022-06-26T14:25:08.337Z"
   },
   {
    "duration": 14,
    "start_time": "2022-06-26T14:25:08.367Z"
   },
   {
    "duration": 3,
    "start_time": "2022-06-26T14:25:08.384Z"
   },
   {
    "duration": 10,
    "start_time": "2022-06-26T14:25:08.389Z"
   },
   {
    "duration": 8,
    "start_time": "2022-06-26T14:25:08.400Z"
   },
   {
    "duration": 9,
    "start_time": "2022-06-26T14:25:08.409Z"
   },
   {
    "duration": 22,
    "start_time": "2022-06-26T14:25:08.420Z"
   },
   {
    "duration": 12,
    "start_time": "2022-06-26T14:25:08.444Z"
   },
   {
    "duration": 505,
    "start_time": "2022-06-26T14:25:08.460Z"
   },
   {
    "duration": 39,
    "start_time": "2022-06-26T14:25:08.967Z"
   },
   {
    "duration": 9,
    "start_time": "2022-06-26T14:25:09.008Z"
   },
   {
    "duration": 12,
    "start_time": "2022-06-26T14:25:09.019Z"
   },
   {
    "duration": 10,
    "start_time": "2022-06-26T14:25:09.033Z"
   },
   {
    "duration": 7,
    "start_time": "2022-06-26T14:25:09.044Z"
   },
   {
    "duration": 16,
    "start_time": "2022-06-26T14:25:09.052Z"
   },
   {
    "duration": 9,
    "start_time": "2022-06-26T14:25:09.069Z"
   },
   {
    "duration": 12,
    "start_time": "2022-06-26T14:25:09.080Z"
   },
   {
    "duration": 8,
    "start_time": "2022-06-26T14:25:09.093Z"
   },
   {
    "duration": 10,
    "start_time": "2022-06-26T14:25:09.102Z"
   },
   {
    "duration": 6,
    "start_time": "2022-06-26T14:25:09.113Z"
   },
   {
    "duration": 5,
    "start_time": "2022-06-26T14:25:09.126Z"
   },
   {
    "duration": 14,
    "start_time": "2022-06-26T14:25:09.133Z"
   },
   {
    "duration": 6,
    "start_time": "2022-06-26T14:25:09.148Z"
   },
   {
    "duration": 10,
    "start_time": "2022-06-26T14:25:09.155Z"
   },
   {
    "duration": 14,
    "start_time": "2022-06-26T14:25:09.167Z"
   },
   {
    "duration": 13,
    "start_time": "2022-06-26T14:25:09.183Z"
   },
   {
    "duration": 6,
    "start_time": "2022-06-26T14:25:09.200Z"
   },
   {
    "duration": 26,
    "start_time": "2022-06-26T14:25:09.208Z"
   },
   {
    "duration": 16,
    "start_time": "2022-06-26T14:25:09.236Z"
   },
   {
    "duration": 7,
    "start_time": "2022-06-26T14:25:09.253Z"
   },
   {
    "duration": 11,
    "start_time": "2022-06-26T14:25:09.262Z"
   },
   {
    "duration": 5,
    "start_time": "2022-06-26T14:25:09.275Z"
   },
   {
    "duration": 14,
    "start_time": "2022-06-26T14:25:09.281Z"
   },
   {
    "duration": 31,
    "start_time": "2022-06-26T14:25:09.296Z"
   },
   {
    "duration": 192,
    "start_time": "2022-06-26T14:25:09.328Z"
   },
   {
    "duration": 141,
    "start_time": "2022-06-26T14:25:09.521Z"
   },
   {
    "duration": 286,
    "start_time": "2022-06-26T14:25:09.663Z"
   },
   {
    "duration": 224,
    "start_time": "2022-06-26T14:25:09.951Z"
   },
   {
    "duration": 285,
    "start_time": "2022-06-26T14:25:10.177Z"
   },
   {
    "duration": 220,
    "start_time": "2022-06-26T14:25:10.464Z"
   },
   {
    "duration": 330,
    "start_time": "2022-06-26T14:25:10.686Z"
   },
   {
    "duration": 17,
    "start_time": "2022-06-26T14:25:11.018Z"
   },
   {
    "duration": 161,
    "start_time": "2022-06-26T14:25:11.036Z"
   },
   {
    "duration": 7,
    "start_time": "2022-06-26T14:25:11.198Z"
   },
   {
    "duration": 157,
    "start_time": "2022-06-26T14:25:11.206Z"
   },
   {
    "duration": 7,
    "start_time": "2022-06-26T14:25:11.365Z"
   },
   {
    "duration": 18,
    "start_time": "2022-06-26T14:25:11.373Z"
   },
   {
    "duration": 142,
    "start_time": "2022-06-26T14:25:11.393Z"
   },
   {
    "duration": 18,
    "start_time": "2022-06-26T14:25:11.538Z"
   },
   {
    "duration": 62,
    "start_time": "2022-06-26T14:25:11.558Z"
   },
   {
    "duration": 78,
    "start_time": "2022-06-26T14:25:11.622Z"
   },
   {
    "duration": 73,
    "start_time": "2022-06-26T14:25:11.702Z"
   },
   {
    "duration": 21,
    "start_time": "2022-06-26T14:25:11.776Z"
   },
   {
    "duration": 10,
    "start_time": "2022-06-26T14:25:11.799Z"
   },
   {
    "duration": 24,
    "start_time": "2022-06-26T14:25:11.811Z"
   },
   {
    "duration": 7,
    "start_time": "2022-06-26T14:25:11.837Z"
   },
   {
    "duration": 10,
    "start_time": "2022-06-26T14:25:11.846Z"
   },
   {
    "duration": 13,
    "start_time": "2022-06-26T14:25:11.858Z"
   },
   {
    "duration": 162,
    "start_time": "2022-06-26T14:25:11.872Z"
   },
   {
    "duration": 138,
    "start_time": "2022-06-26T14:26:20.454Z"
   },
   {
    "duration": 4,
    "start_time": "2022-06-26T14:30:09.417Z"
   },
   {
    "duration": 128,
    "start_time": "2022-06-26T14:31:54.064Z"
   },
   {
    "duration": 164,
    "start_time": "2022-06-26T14:33:35.835Z"
   },
   {
    "duration": 163,
    "start_time": "2022-06-26T14:34:41.281Z"
   },
   {
    "duration": 149,
    "start_time": "2022-06-26T14:35:24.754Z"
   },
   {
    "duration": 156,
    "start_time": "2022-06-26T14:36:10.356Z"
   },
   {
    "duration": 24,
    "start_time": "2022-06-26T14:54:10.489Z"
   },
   {
    "duration": 25,
    "start_time": "2022-06-26T14:54:52.652Z"
   },
   {
    "duration": 94,
    "start_time": "2022-06-26T15:00:41.664Z"
   },
   {
    "duration": 9,
    "start_time": "2022-06-26T15:02:26.533Z"
   },
   {
    "duration": 97,
    "start_time": "2022-06-26T15:05:50.805Z"
   },
   {
    "duration": 30,
    "start_time": "2022-06-26T15:16:49.897Z"
   },
   {
    "duration": 26,
    "start_time": "2022-06-26T15:17:00.706Z"
   },
   {
    "duration": 7,
    "start_time": "2022-06-26T15:17:43.313Z"
   },
   {
    "duration": 7,
    "start_time": "2022-06-26T15:18:30.817Z"
   },
   {
    "duration": 7,
    "start_time": "2022-06-26T15:18:44.509Z"
   },
   {
    "duration": 7,
    "start_time": "2022-06-26T15:18:53.317Z"
   },
   {
    "duration": 8,
    "start_time": "2022-06-26T15:18:58.835Z"
   },
   {
    "duration": 10,
    "start_time": "2022-06-26T15:21:09.901Z"
   },
   {
    "duration": 4,
    "start_time": "2022-06-26T15:25:48.705Z"
   },
   {
    "duration": 5,
    "start_time": "2022-06-26T15:25:57.571Z"
   },
   {
    "duration": 10,
    "start_time": "2022-06-26T15:27:08.848Z"
   },
   {
    "duration": 192,
    "start_time": "2022-06-26T15:28:51.306Z"
   },
   {
    "duration": 144,
    "start_time": "2022-06-26T15:30:04.734Z"
   },
   {
    "duration": 144,
    "start_time": "2022-06-26T15:30:57.261Z"
   },
   {
    "duration": 151,
    "start_time": "2022-06-26T15:31:50.193Z"
   },
   {
    "duration": 8,
    "start_time": "2022-06-26T15:33:17.106Z"
   },
   {
    "duration": 26,
    "start_time": "2022-06-26T15:33:25.962Z"
   },
   {
    "duration": 1133,
    "start_time": "2022-06-26T15:33:33.797Z"
   },
   {
    "duration": 28,
    "start_time": "2022-06-26T15:33:34.932Z"
   },
   {
    "duration": 10,
    "start_time": "2022-06-26T15:33:34.961Z"
   },
   {
    "duration": 16,
    "start_time": "2022-06-26T15:33:34.973Z"
   },
   {
    "duration": 23,
    "start_time": "2022-06-26T15:33:34.991Z"
   },
   {
    "duration": 19,
    "start_time": "2022-06-26T15:33:35.015Z"
   },
   {
    "duration": 16,
    "start_time": "2022-06-26T15:33:35.035Z"
   },
   {
    "duration": 30,
    "start_time": "2022-06-26T15:33:35.052Z"
   },
   {
    "duration": 17,
    "start_time": "2022-06-26T15:33:35.083Z"
   },
   {
    "duration": 472,
    "start_time": "2022-06-26T15:33:35.101Z"
   },
   {
    "duration": 38,
    "start_time": "2022-06-26T15:33:35.574Z"
   },
   {
    "duration": 8,
    "start_time": "2022-06-26T15:33:35.613Z"
   },
   {
    "duration": 21,
    "start_time": "2022-06-26T15:33:35.622Z"
   },
   {
    "duration": 43,
    "start_time": "2022-06-26T15:33:35.646Z"
   },
   {
    "duration": 31,
    "start_time": "2022-06-26T15:33:35.692Z"
   },
   {
    "duration": 18,
    "start_time": "2022-06-26T15:33:35.724Z"
   },
   {
    "duration": 33,
    "start_time": "2022-06-26T15:33:35.743Z"
   },
   {
    "duration": 19,
    "start_time": "2022-06-26T15:33:35.777Z"
   },
   {
    "duration": 9,
    "start_time": "2022-06-26T15:33:35.798Z"
   },
   {
    "duration": 10,
    "start_time": "2022-06-26T15:33:35.808Z"
   },
   {
    "duration": 6,
    "start_time": "2022-06-26T15:33:35.820Z"
   },
   {
    "duration": 6,
    "start_time": "2022-06-26T15:33:35.828Z"
   },
   {
    "duration": 12,
    "start_time": "2022-06-26T15:33:35.836Z"
   },
   {
    "duration": 4,
    "start_time": "2022-06-26T15:33:35.849Z"
   },
   {
    "duration": 8,
    "start_time": "2022-06-26T15:33:35.855Z"
   },
   {
    "duration": 10,
    "start_time": "2022-06-26T15:33:35.864Z"
   },
   {
    "duration": 19,
    "start_time": "2022-06-26T15:33:35.875Z"
   },
   {
    "duration": 9,
    "start_time": "2022-06-26T15:33:35.896Z"
   },
   {
    "duration": 26,
    "start_time": "2022-06-26T15:33:35.907Z"
   },
   {
    "duration": 16,
    "start_time": "2022-06-26T15:33:35.935Z"
   },
   {
    "duration": 7,
    "start_time": "2022-06-26T15:33:35.952Z"
   },
   {
    "duration": 20,
    "start_time": "2022-06-26T15:33:35.960Z"
   },
   {
    "duration": 9,
    "start_time": "2022-06-26T15:33:35.981Z"
   },
   {
    "duration": 13,
    "start_time": "2022-06-26T15:33:35.991Z"
   },
   {
    "duration": 9,
    "start_time": "2022-06-26T15:33:36.005Z"
   },
   {
    "duration": 180,
    "start_time": "2022-06-26T15:33:36.016Z"
   },
   {
    "duration": 130,
    "start_time": "2022-06-26T15:33:36.198Z"
   },
   {
    "duration": 275,
    "start_time": "2022-06-26T15:33:36.329Z"
   },
   {
    "duration": 212,
    "start_time": "2022-06-26T15:33:36.606Z"
   },
   {
    "duration": 306,
    "start_time": "2022-06-26T15:33:36.820Z"
   },
   {
    "duration": 198,
    "start_time": "2022-06-26T15:33:37.130Z"
   },
   {
    "duration": 330,
    "start_time": "2022-06-26T15:33:37.330Z"
   },
   {
    "duration": 10,
    "start_time": "2022-06-26T15:33:37.662Z"
   },
   {
    "duration": 161,
    "start_time": "2022-06-26T15:33:37.673Z"
   },
   {
    "duration": 6,
    "start_time": "2022-06-26T15:33:37.836Z"
   },
   {
    "duration": 148,
    "start_time": "2022-06-26T15:33:37.844Z"
   },
   {
    "duration": 5,
    "start_time": "2022-06-26T15:33:37.993Z"
   },
   {
    "duration": 229,
    "start_time": "2022-06-26T15:33:37.999Z"
   },
   {
    "duration": 7,
    "start_time": "2022-06-26T15:33:38.230Z"
   },
   {
    "duration": 7,
    "start_time": "2022-06-26T15:33:38.238Z"
   },
   {
    "duration": 43,
    "start_time": "2022-06-26T15:33:38.246Z"
   },
   {
    "duration": 7,
    "start_time": "2022-06-26T15:33:38.291Z"
   },
   {
    "duration": 55,
    "start_time": "2022-06-26T15:33:38.299Z"
   },
   {
    "duration": 57,
    "start_time": "2022-06-26T15:33:38.355Z"
   },
   {
    "duration": 61,
    "start_time": "2022-06-26T15:33:38.426Z"
   },
   {
    "duration": 19,
    "start_time": "2022-06-26T15:33:38.489Z"
   },
   {
    "duration": 24,
    "start_time": "2022-06-26T15:33:38.509Z"
   },
   {
    "duration": 10,
    "start_time": "2022-06-26T15:33:38.534Z"
   },
   {
    "duration": 6,
    "start_time": "2022-06-26T15:33:38.546Z"
   },
   {
    "duration": 13,
    "start_time": "2022-06-26T15:33:38.554Z"
   },
   {
    "duration": 140,
    "start_time": "2022-06-26T15:33:38.568Z"
   },
   {
    "duration": 21,
    "start_time": "2022-06-26T15:33:38.710Z"
   },
   {
    "duration": 31,
    "start_time": "2022-06-26T15:33:38.732Z"
   },
   {
    "duration": 86,
    "start_time": "2022-06-26T16:05:13.059Z"
   },
   {
    "duration": 1291,
    "start_time": "2022-06-27T15:37:38.210Z"
   },
   {
    "duration": 35,
    "start_time": "2022-06-27T15:37:39.503Z"
   },
   {
    "duration": 12,
    "start_time": "2022-06-27T15:37:39.540Z"
   },
   {
    "duration": 3,
    "start_time": "2022-06-27T15:37:39.554Z"
   },
   {
    "duration": 15,
    "start_time": "2022-06-27T15:37:39.559Z"
   },
   {
    "duration": 15,
    "start_time": "2022-06-27T15:37:39.575Z"
   },
   {
    "duration": 13,
    "start_time": "2022-06-27T15:37:39.592Z"
   },
   {
    "duration": 16,
    "start_time": "2022-06-27T15:37:39.606Z"
   },
   {
    "duration": 10,
    "start_time": "2022-06-27T15:37:39.623Z"
   },
   {
    "duration": 536,
    "start_time": "2022-06-27T15:37:39.636Z"
   },
   {
    "duration": 39,
    "start_time": "2022-06-27T15:37:40.174Z"
   },
   {
    "duration": 8,
    "start_time": "2022-06-27T15:37:40.215Z"
   },
   {
    "duration": 17,
    "start_time": "2022-06-27T15:37:40.225Z"
   },
   {
    "duration": 4,
    "start_time": "2022-06-27T15:37:40.244Z"
   },
   {
    "duration": 9,
    "start_time": "2022-06-27T15:37:40.250Z"
   },
   {
    "duration": 30,
    "start_time": "2022-06-27T15:37:40.260Z"
   },
   {
    "duration": 10,
    "start_time": "2022-06-27T15:37:40.292Z"
   },
   {
    "duration": 31,
    "start_time": "2022-06-27T15:37:40.303Z"
   },
   {
    "duration": 13,
    "start_time": "2022-06-27T15:37:40.336Z"
   },
   {
    "duration": 10,
    "start_time": "2022-06-27T15:37:40.351Z"
   },
   {
    "duration": 14,
    "start_time": "2022-06-27T15:37:40.363Z"
   },
   {
    "duration": 18,
    "start_time": "2022-06-27T15:37:40.378Z"
   },
   {
    "duration": 29,
    "start_time": "2022-06-27T15:37:40.398Z"
   },
   {
    "duration": 7,
    "start_time": "2022-06-27T15:37:40.429Z"
   },
   {
    "duration": 13,
    "start_time": "2022-06-27T15:37:40.439Z"
   },
   {
    "duration": 8,
    "start_time": "2022-06-27T15:37:40.454Z"
   },
   {
    "duration": 9,
    "start_time": "2022-06-27T15:37:40.464Z"
   },
   {
    "duration": 16,
    "start_time": "2022-06-27T15:37:40.477Z"
   },
   {
    "duration": 12,
    "start_time": "2022-06-27T15:37:40.494Z"
   },
   {
    "duration": 44,
    "start_time": "2022-06-27T15:37:40.508Z"
   },
   {
    "duration": 8,
    "start_time": "2022-06-27T15:37:40.554Z"
   },
   {
    "duration": 25,
    "start_time": "2022-06-27T15:37:40.564Z"
   },
   {
    "duration": 6,
    "start_time": "2022-06-27T15:37:40.591Z"
   },
   {
    "duration": 16,
    "start_time": "2022-06-27T15:37:40.598Z"
   },
   {
    "duration": 11,
    "start_time": "2022-06-27T15:37:40.616Z"
   },
   {
    "duration": 191,
    "start_time": "2022-06-27T15:37:40.628Z"
   },
   {
    "duration": 144,
    "start_time": "2022-06-27T15:37:40.821Z"
   },
   {
    "duration": 294,
    "start_time": "2022-06-27T15:37:40.967Z"
   },
   {
    "duration": 230,
    "start_time": "2022-06-27T15:37:41.263Z"
   },
   {
    "duration": 403,
    "start_time": "2022-06-27T15:37:41.495Z"
   },
   {
    "duration": 244,
    "start_time": "2022-06-27T15:37:41.900Z"
   },
   {
    "duration": 342,
    "start_time": "2022-06-27T15:37:42.146Z"
   },
   {
    "duration": 12,
    "start_time": "2022-06-27T15:37:42.490Z"
   },
   {
    "duration": 199,
    "start_time": "2022-06-27T15:37:42.505Z"
   },
   {
    "duration": 8,
    "start_time": "2022-06-27T15:37:42.706Z"
   },
   {
    "duration": 164,
    "start_time": "2022-06-27T15:37:42.717Z"
   },
   {
    "duration": 6,
    "start_time": "2022-06-27T15:37:42.882Z"
   },
   {
    "duration": 250,
    "start_time": "2022-06-27T15:37:42.889Z"
   },
   {
    "duration": 13,
    "start_time": "2022-06-27T15:37:43.141Z"
   },
   {
    "duration": 8,
    "start_time": "2022-06-27T15:37:43.156Z"
   },
   {
    "duration": 60,
    "start_time": "2022-06-27T15:37:43.165Z"
   },
   {
    "duration": 39,
    "start_time": "2022-06-27T15:37:43.227Z"
   },
   {
    "duration": 49,
    "start_time": "2022-06-27T15:37:43.269Z"
   },
   {
    "duration": 68,
    "start_time": "2022-06-27T15:37:43.320Z"
   },
   {
    "duration": 67,
    "start_time": "2022-06-27T15:37:43.390Z"
   },
   {
    "duration": 22,
    "start_time": "2022-06-27T15:37:43.459Z"
   },
   {
    "duration": 13,
    "start_time": "2022-06-27T15:37:43.482Z"
   },
   {
    "duration": 18,
    "start_time": "2022-06-27T15:37:43.496Z"
   },
   {
    "duration": 13,
    "start_time": "2022-06-27T15:37:43.516Z"
   },
   {
    "duration": 13,
    "start_time": "2022-06-27T15:37:43.531Z"
   },
   {
    "duration": 157,
    "start_time": "2022-06-27T15:37:43.545Z"
   },
   {
    "duration": 9,
    "start_time": "2022-06-27T15:37:43.703Z"
   },
   {
    "duration": 45,
    "start_time": "2022-06-27T15:37:43.713Z"
   },
   {
    "duration": 1113,
    "start_time": "2022-06-27T15:38:47.199Z"
   },
   {
    "duration": 15,
    "start_time": "2022-06-27T15:38:48.314Z"
   },
   {
    "duration": 11,
    "start_time": "2022-06-27T15:38:48.330Z"
   },
   {
    "duration": 7,
    "start_time": "2022-06-27T15:38:48.343Z"
   },
   {
    "duration": 16,
    "start_time": "2022-06-27T15:38:48.352Z"
   },
   {
    "duration": 14,
    "start_time": "2022-06-27T15:38:48.371Z"
   },
   {
    "duration": 10,
    "start_time": "2022-06-27T15:38:48.388Z"
   },
   {
    "duration": 16,
    "start_time": "2022-06-27T15:38:48.400Z"
   },
   {
    "duration": 18,
    "start_time": "2022-06-27T15:38:48.418Z"
   },
   {
    "duration": 516,
    "start_time": "2022-06-27T15:38:48.440Z"
   },
   {
    "duration": 20,
    "start_time": "2022-06-27T15:38:48.958Z"
   },
   {
    "duration": 8,
    "start_time": "2022-06-27T15:38:48.980Z"
   },
   {
    "duration": 21,
    "start_time": "2022-06-27T15:38:48.990Z"
   },
   {
    "duration": 16,
    "start_time": "2022-06-27T15:38:49.013Z"
   },
   {
    "duration": 13,
    "start_time": "2022-06-27T15:38:49.031Z"
   },
   {
    "duration": 15,
    "start_time": "2022-06-27T15:38:49.046Z"
   },
   {
    "duration": 7,
    "start_time": "2022-06-27T15:38:49.062Z"
   },
   {
    "duration": 14,
    "start_time": "2022-06-27T15:38:49.071Z"
   },
   {
    "duration": 6,
    "start_time": "2022-06-27T15:38:49.087Z"
   },
   {
    "duration": 23,
    "start_time": "2022-06-27T15:38:49.094Z"
   },
   {
    "duration": 37,
    "start_time": "2022-06-27T15:38:49.119Z"
   },
   {
    "duration": 23,
    "start_time": "2022-06-27T15:38:49.158Z"
   },
   {
    "duration": 13,
    "start_time": "2022-06-27T15:38:49.183Z"
   },
   {
    "duration": 6,
    "start_time": "2022-06-27T15:38:49.198Z"
   },
   {
    "duration": 9,
    "start_time": "2022-06-27T15:38:49.206Z"
   },
   {
    "duration": 12,
    "start_time": "2022-06-27T15:38:49.216Z"
   },
   {
    "duration": 8,
    "start_time": "2022-06-27T15:38:49.230Z"
   },
   {
    "duration": 6,
    "start_time": "2022-06-27T15:38:49.251Z"
   },
   {
    "duration": 11,
    "start_time": "2022-06-27T15:38:49.259Z"
   },
   {
    "duration": 10,
    "start_time": "2022-06-27T15:38:49.272Z"
   },
   {
    "duration": 8,
    "start_time": "2022-06-27T15:38:49.283Z"
   },
   {
    "duration": 12,
    "start_time": "2022-06-27T15:38:49.293Z"
   },
   {
    "duration": 8,
    "start_time": "2022-06-27T15:38:49.307Z"
   },
   {
    "duration": 37,
    "start_time": "2022-06-27T15:38:49.317Z"
   },
   {
    "duration": 10,
    "start_time": "2022-06-27T15:38:49.356Z"
   },
   {
    "duration": 192,
    "start_time": "2022-06-27T15:38:49.368Z"
   },
   {
    "duration": 144,
    "start_time": "2022-06-27T15:38:49.562Z"
   },
   {
    "duration": 300,
    "start_time": "2022-06-27T15:38:49.707Z"
   },
   {
    "duration": 236,
    "start_time": "2022-06-27T15:38:50.009Z"
   },
   {
    "duration": 335,
    "start_time": "2022-06-27T15:38:50.247Z"
   },
   {
    "duration": 220,
    "start_time": "2022-06-27T15:38:50.584Z"
   },
   {
    "duration": 320,
    "start_time": "2022-06-27T15:38:50.806Z"
   },
   {
    "duration": 11,
    "start_time": "2022-06-27T15:38:51.127Z"
   },
   {
    "duration": 163,
    "start_time": "2022-06-27T15:38:51.152Z"
   },
   {
    "duration": 8,
    "start_time": "2022-06-27T15:38:51.316Z"
   },
   {
    "duration": 168,
    "start_time": "2022-06-27T15:38:51.326Z"
   },
   {
    "duration": 5,
    "start_time": "2022-06-27T15:38:51.496Z"
   },
   {
    "duration": 268,
    "start_time": "2022-06-27T15:38:51.503Z"
   },
   {
    "duration": 8,
    "start_time": "2022-06-27T15:38:51.772Z"
   },
   {
    "duration": 9,
    "start_time": "2022-06-27T15:38:51.781Z"
   },
   {
    "duration": 71,
    "start_time": "2022-06-27T15:38:51.793Z"
   },
   {
    "duration": 5,
    "start_time": "2022-06-27T15:38:51.866Z"
   },
   {
    "duration": 52,
    "start_time": "2022-06-27T15:38:51.873Z"
   },
   {
    "duration": 72,
    "start_time": "2022-06-27T15:38:51.926Z"
   },
   {
    "duration": 76,
    "start_time": "2022-06-27T15:38:52.000Z"
   },
   {
    "duration": 24,
    "start_time": "2022-06-27T15:38:52.077Z"
   },
   {
    "duration": 22,
    "start_time": "2022-06-27T15:38:52.103Z"
   },
   {
    "duration": 41,
    "start_time": "2022-06-27T15:38:52.127Z"
   },
   {
    "duration": 18,
    "start_time": "2022-06-27T15:38:52.171Z"
   },
   {
    "duration": 10,
    "start_time": "2022-06-27T15:38:52.192Z"
   },
   {
    "duration": 168,
    "start_time": "2022-06-27T15:38:52.204Z"
   },
   {
    "duration": 11,
    "start_time": "2022-06-27T15:38:52.374Z"
   },
   {
    "duration": 37,
    "start_time": "2022-06-27T15:38:52.388Z"
   },
   {
    "duration": 865,
    "start_time": "2022-06-27T15:41:44.284Z"
   },
   {
    "duration": 89,
    "start_time": "2022-06-27T15:44:09.179Z"
   },
   {
    "duration": 12,
    "start_time": "2022-06-27T15:46:04.263Z"
   },
   {
    "duration": 9,
    "start_time": "2022-06-27T15:46:28.291Z"
   },
   {
    "duration": 8,
    "start_time": "2022-06-27T15:48:00.881Z"
   },
   {
    "duration": 12,
    "start_time": "2022-06-27T15:48:12.042Z"
   },
   {
    "duration": 13,
    "start_time": "2022-06-27T15:48:20.861Z"
   },
   {
    "duration": 4,
    "start_time": "2022-06-27T16:15:28.097Z"
   },
   {
    "duration": 1097,
    "start_time": "2022-06-27T21:03:27.777Z"
   },
   {
    "duration": 16,
    "start_time": "2022-06-27T21:03:28.875Z"
   },
   {
    "duration": 11,
    "start_time": "2022-06-27T21:03:28.892Z"
   },
   {
    "duration": 4,
    "start_time": "2022-06-27T21:03:28.905Z"
   },
   {
    "duration": 12,
    "start_time": "2022-06-27T21:03:28.910Z"
   },
   {
    "duration": 7,
    "start_time": "2022-06-27T21:03:28.923Z"
   },
   {
    "duration": 7,
    "start_time": "2022-06-27T21:03:28.931Z"
   },
   {
    "duration": 19,
    "start_time": "2022-06-27T21:03:28.940Z"
   },
   {
    "duration": 14,
    "start_time": "2022-06-27T21:03:28.960Z"
   },
   {
    "duration": 474,
    "start_time": "2022-06-27T21:03:28.977Z"
   },
   {
    "duration": 19,
    "start_time": "2022-06-27T21:03:29.453Z"
   },
   {
    "duration": 8,
    "start_time": "2022-06-27T21:03:29.473Z"
   },
   {
    "duration": 23,
    "start_time": "2022-06-27T21:03:29.483Z"
   },
   {
    "duration": 22,
    "start_time": "2022-06-27T21:03:29.508Z"
   },
   {
    "duration": 14,
    "start_time": "2022-06-27T21:03:29.532Z"
   },
   {
    "duration": 19,
    "start_time": "2022-06-27T21:03:29.548Z"
   },
   {
    "duration": 10,
    "start_time": "2022-06-27T21:03:29.569Z"
   },
   {
    "duration": 24,
    "start_time": "2022-06-27T21:03:29.580Z"
   },
   {
    "duration": 14,
    "start_time": "2022-06-27T21:03:29.605Z"
   },
   {
    "duration": 18,
    "start_time": "2022-06-27T21:03:29.620Z"
   },
   {
    "duration": 21,
    "start_time": "2022-06-27T21:03:29.639Z"
   },
   {
    "duration": 13,
    "start_time": "2022-06-27T21:03:29.661Z"
   },
   {
    "duration": 35,
    "start_time": "2022-06-27T21:03:29.675Z"
   },
   {
    "duration": 11,
    "start_time": "2022-06-27T21:03:29.712Z"
   },
   {
    "duration": 15,
    "start_time": "2022-06-27T21:03:29.725Z"
   },
   {
    "duration": 22,
    "start_time": "2022-06-27T21:03:29.741Z"
   },
   {
    "duration": 21,
    "start_time": "2022-06-27T21:03:29.765Z"
   },
   {
    "duration": 15,
    "start_time": "2022-06-27T21:03:29.790Z"
   },
   {
    "duration": 25,
    "start_time": "2022-06-27T21:03:29.806Z"
   },
   {
    "duration": 15,
    "start_time": "2022-06-27T21:03:29.833Z"
   },
   {
    "duration": 16,
    "start_time": "2022-06-27T21:03:29.850Z"
   },
   {
    "duration": 26,
    "start_time": "2022-06-27T21:03:29.867Z"
   },
   {
    "duration": 15,
    "start_time": "2022-06-27T21:03:29.894Z"
   },
   {
    "duration": 24,
    "start_time": "2022-06-27T21:03:29.910Z"
   },
   {
    "duration": 14,
    "start_time": "2022-06-27T21:03:29.936Z"
   },
   {
    "duration": 197,
    "start_time": "2022-06-27T21:03:29.952Z"
   },
   {
    "duration": 152,
    "start_time": "2022-06-27T21:03:30.151Z"
   },
   {
    "duration": 279,
    "start_time": "2022-06-27T21:03:30.305Z"
   },
   {
    "duration": 231,
    "start_time": "2022-06-27T21:03:30.586Z"
   },
   {
    "duration": 4,
    "start_time": "2022-06-27T21:03:30.818Z"
   },
   {
    "duration": 348,
    "start_time": "2022-06-27T21:03:30.823Z"
   },
   {
    "duration": 203,
    "start_time": "2022-06-27T21:03:31.172Z"
   },
   {
    "duration": 305,
    "start_time": "2022-06-27T21:03:31.377Z"
   },
   {
    "duration": 10,
    "start_time": "2022-06-27T21:03:31.684Z"
   },
   {
    "duration": 169,
    "start_time": "2022-06-27T21:03:31.696Z"
   },
   {
    "duration": 6,
    "start_time": "2022-06-27T21:03:31.868Z"
   },
   {
    "duration": 166,
    "start_time": "2022-06-27T21:03:31.875Z"
   },
   {
    "duration": 10,
    "start_time": "2022-06-27T21:03:32.042Z"
   },
   {
    "duration": 227,
    "start_time": "2022-06-27T21:03:32.054Z"
   },
   {
    "duration": 9,
    "start_time": "2022-06-27T21:03:32.282Z"
   },
   {
    "duration": 12,
    "start_time": "2022-06-27T21:03:32.292Z"
   },
   {
    "duration": 54,
    "start_time": "2022-06-27T21:03:32.305Z"
   },
   {
    "duration": 10,
    "start_time": "2022-06-27T21:03:32.360Z"
   },
   {
    "duration": 46,
    "start_time": "2022-06-27T21:03:32.371Z"
   },
   {
    "duration": 68,
    "start_time": "2022-06-27T21:03:32.418Z"
   },
   {
    "duration": 85,
    "start_time": "2022-06-27T21:03:32.488Z"
   },
   {
    "duration": 31,
    "start_time": "2022-06-27T21:03:32.576Z"
   },
   {
    "duration": 10,
    "start_time": "2022-06-27T21:03:32.610Z"
   },
   {
    "duration": 14,
    "start_time": "2022-06-27T21:03:32.621Z"
   },
   {
    "duration": 20,
    "start_time": "2022-06-27T21:03:32.636Z"
   },
   {
    "duration": 13,
    "start_time": "2022-06-27T21:03:32.658Z"
   },
   {
    "duration": 136,
    "start_time": "2022-06-27T21:03:32.673Z"
   },
   {
    "duration": 8,
    "start_time": "2022-06-27T21:03:32.810Z"
   },
   {
    "duration": 37,
    "start_time": "2022-06-27T21:03:32.820Z"
   },
   {
    "duration": 17,
    "start_time": "2022-06-27T21:03:32.859Z"
   },
   {
    "duration": 1281,
    "start_time": "2022-06-28T08:27:01.542Z"
   },
   {
    "duration": 38,
    "start_time": "2022-06-28T08:27:02.826Z"
   },
   {
    "duration": 11,
    "start_time": "2022-06-28T08:27:02.865Z"
   },
   {
    "duration": 4,
    "start_time": "2022-06-28T08:27:02.878Z"
   },
   {
    "duration": 14,
    "start_time": "2022-06-28T08:27:02.883Z"
   },
   {
    "duration": 6,
    "start_time": "2022-06-28T08:27:02.898Z"
   },
   {
    "duration": 9,
    "start_time": "2022-06-28T08:27:02.906Z"
   },
   {
    "duration": 15,
    "start_time": "2022-06-28T08:27:02.916Z"
   },
   {
    "duration": 10,
    "start_time": "2022-06-28T08:27:02.932Z"
   },
   {
    "duration": 475,
    "start_time": "2022-06-28T08:27:02.944Z"
   },
   {
    "duration": 42,
    "start_time": "2022-06-28T08:27:03.420Z"
   },
   {
    "duration": 9,
    "start_time": "2022-06-28T08:27:03.463Z"
   },
   {
    "duration": 17,
    "start_time": "2022-06-28T08:27:03.473Z"
   },
   {
    "duration": 11,
    "start_time": "2022-06-28T08:27:03.491Z"
   },
   {
    "duration": 10,
    "start_time": "2022-06-28T08:27:03.503Z"
   },
   {
    "duration": 12,
    "start_time": "2022-06-28T08:27:03.514Z"
   },
   {
    "duration": 11,
    "start_time": "2022-06-28T08:27:03.528Z"
   },
   {
    "duration": 15,
    "start_time": "2022-06-28T08:27:03.541Z"
   },
   {
    "duration": 18,
    "start_time": "2022-06-28T08:27:03.557Z"
   },
   {
    "duration": 11,
    "start_time": "2022-06-28T08:27:03.577Z"
   },
   {
    "duration": 13,
    "start_time": "2022-06-28T08:27:03.590Z"
   },
   {
    "duration": 27,
    "start_time": "2022-06-28T08:27:03.605Z"
   },
   {
    "duration": 13,
    "start_time": "2022-06-28T08:27:03.634Z"
   },
   {
    "duration": 5,
    "start_time": "2022-06-28T08:27:03.649Z"
   },
   {
    "duration": 20,
    "start_time": "2022-06-28T08:27:03.655Z"
   },
   {
    "duration": 25,
    "start_time": "2022-06-28T08:27:03.676Z"
   },
   {
    "duration": 10,
    "start_time": "2022-06-28T08:27:03.703Z"
   },
   {
    "duration": 7,
    "start_time": "2022-06-28T08:27:03.716Z"
   },
   {
    "duration": 11,
    "start_time": "2022-06-28T08:27:03.725Z"
   },
   {
    "duration": 39,
    "start_time": "2022-06-28T08:27:03.737Z"
   },
   {
    "duration": 7,
    "start_time": "2022-06-28T08:27:03.778Z"
   },
   {
    "duration": 19,
    "start_time": "2022-06-28T08:27:03.787Z"
   },
   {
    "duration": 9,
    "start_time": "2022-06-28T08:27:03.807Z"
   },
   {
    "duration": 21,
    "start_time": "2022-06-28T08:27:03.817Z"
   },
   {
    "duration": 10,
    "start_time": "2022-06-28T08:27:03.840Z"
   },
   {
    "duration": 187,
    "start_time": "2022-06-28T08:27:03.852Z"
   },
   {
    "duration": 132,
    "start_time": "2022-06-28T08:27:04.041Z"
   },
   {
    "duration": 302,
    "start_time": "2022-06-28T08:27:04.175Z"
   },
   {
    "duration": 224,
    "start_time": "2022-06-28T08:27:04.480Z"
   },
   {
    "duration": 4,
    "start_time": "2022-06-28T08:27:04.706Z"
   },
   {
    "duration": 364,
    "start_time": "2022-06-28T08:27:04.712Z"
   },
   {
    "duration": 209,
    "start_time": "2022-06-28T08:27:05.078Z"
   },
   {
    "duration": 354,
    "start_time": "2022-06-28T08:27:05.288Z"
   },
   {
    "duration": 11,
    "start_time": "2022-06-28T08:27:05.644Z"
   },
   {
    "duration": 170,
    "start_time": "2022-06-28T08:27:05.657Z"
   },
   {
    "duration": 7,
    "start_time": "2022-06-28T08:27:05.829Z"
   },
   {
    "duration": 154,
    "start_time": "2022-06-28T08:27:05.838Z"
   },
   {
    "duration": 5,
    "start_time": "2022-06-28T08:27:05.994Z"
   },
   {
    "duration": 240,
    "start_time": "2022-06-28T08:27:06.001Z"
   },
   {
    "duration": 9,
    "start_time": "2022-06-28T08:27:06.244Z"
   },
   {
    "duration": 26,
    "start_time": "2022-06-28T08:27:06.255Z"
   },
   {
    "duration": 79,
    "start_time": "2022-06-28T08:27:06.283Z"
   },
   {
    "duration": 27,
    "start_time": "2022-06-28T08:27:06.364Z"
   },
   {
    "duration": 71,
    "start_time": "2022-06-28T08:27:06.393Z"
   },
   {
    "duration": 76,
    "start_time": "2022-06-28T08:27:06.466Z"
   },
   {
    "duration": 60,
    "start_time": "2022-06-28T08:27:06.544Z"
   },
   {
    "duration": 25,
    "start_time": "2022-06-28T08:27:06.605Z"
   },
   {
    "duration": 11,
    "start_time": "2022-06-28T08:27:06.632Z"
   },
   {
    "duration": 14,
    "start_time": "2022-06-28T08:27:06.644Z"
   },
   {
    "duration": 8,
    "start_time": "2022-06-28T08:27:06.659Z"
   },
   {
    "duration": 13,
    "start_time": "2022-06-28T08:27:06.668Z"
   },
   {
    "duration": 135,
    "start_time": "2022-06-28T08:27:06.682Z"
   },
   {
    "duration": 11,
    "start_time": "2022-06-28T08:27:06.819Z"
   },
   {
    "duration": 28,
    "start_time": "2022-06-28T08:27:06.832Z"
   },
   {
    "duration": 12,
    "start_time": "2022-06-28T08:27:06.862Z"
   },
   {
    "duration": 119,
    "start_time": "2022-06-28T11:49:41.591Z"
   },
   {
    "duration": 12,
    "start_time": "2022-06-28T11:49:51.671Z"
   },
   {
    "duration": 13,
    "start_time": "2022-06-28T11:51:30.038Z"
   },
   {
    "duration": 13,
    "start_time": "2022-06-28T11:51:33.589Z"
   },
   {
    "duration": 8,
    "start_time": "2022-06-28T11:52:53.051Z"
   },
   {
    "duration": 24,
    "start_time": "2022-06-28T11:52:53.061Z"
   },
   {
    "duration": 8,
    "start_time": "2022-06-28T11:52:53.087Z"
   },
   {
    "duration": 6,
    "start_time": "2022-06-28T11:52:53.097Z"
   },
   {
    "duration": 11,
    "start_time": "2022-06-28T11:52:53.105Z"
   },
   {
    "duration": 4,
    "start_time": "2022-06-28T11:52:53.127Z"
   },
   {
    "duration": 8,
    "start_time": "2022-06-28T11:52:53.133Z"
   },
   {
    "duration": 17,
    "start_time": "2022-06-28T11:52:53.143Z"
   },
   {
    "duration": 19,
    "start_time": "2022-06-28T11:52:53.162Z"
   },
   {
    "duration": 515,
    "start_time": "2022-06-28T11:52:53.183Z"
   },
   {
    "duration": 21,
    "start_time": "2022-06-28T11:52:53.699Z"
   },
   {
    "duration": 8,
    "start_time": "2022-06-28T11:52:53.722Z"
   },
   {
    "duration": 18,
    "start_time": "2022-06-28T11:52:53.734Z"
   },
   {
    "duration": 14,
    "start_time": "2022-06-28T11:52:53.754Z"
   },
   {
    "duration": 5,
    "start_time": "2022-06-28T11:52:53.770Z"
   },
   {
    "duration": 11,
    "start_time": "2022-06-28T11:52:53.777Z"
   },
   {
    "duration": 6,
    "start_time": "2022-06-28T11:52:53.790Z"
   },
   {
    "duration": 17,
    "start_time": "2022-06-28T11:52:53.798Z"
   },
   {
    "duration": 12,
    "start_time": "2022-06-28T11:52:53.817Z"
   },
   {
    "duration": 14,
    "start_time": "2022-06-28T11:52:53.831Z"
   },
   {
    "duration": 9,
    "start_time": "2022-06-28T11:52:53.847Z"
   },
   {
    "duration": 16,
    "start_time": "2022-06-28T11:52:53.858Z"
   },
   {
    "duration": 29,
    "start_time": "2022-06-28T11:52:53.876Z"
   },
   {
    "duration": 6,
    "start_time": "2022-06-28T11:52:53.906Z"
   },
   {
    "duration": 20,
    "start_time": "2022-06-28T11:52:53.914Z"
   },
   {
    "duration": 10,
    "start_time": "2022-06-28T11:52:53.936Z"
   },
   {
    "duration": 29,
    "start_time": "2022-06-28T11:52:53.948Z"
   },
   {
    "duration": 19,
    "start_time": "2022-06-28T11:52:53.979Z"
   },
   {
    "duration": 26,
    "start_time": "2022-06-28T11:52:54.000Z"
   },
   {
    "duration": 30,
    "start_time": "2022-06-28T11:52:54.028Z"
   },
   {
    "duration": 12,
    "start_time": "2022-06-28T11:52:54.060Z"
   },
   {
    "duration": 42,
    "start_time": "2022-06-28T11:52:54.074Z"
   },
   {
    "duration": 18,
    "start_time": "2022-06-28T11:52:54.118Z"
   },
   {
    "duration": 32,
    "start_time": "2022-06-28T11:52:54.138Z"
   },
   {
    "duration": 187,
    "start_time": "2022-06-28T11:52:54.172Z"
   },
   {
    "duration": 131,
    "start_time": "2022-06-28T11:52:54.361Z"
   },
   {
    "duration": 38,
    "start_time": "2022-06-28T11:52:54.494Z"
   },
   {
    "duration": 236,
    "start_time": "2022-06-28T11:52:54.534Z"
   },
   {
    "duration": 355,
    "start_time": "2022-06-28T11:52:54.772Z"
   },
   {
    "duration": 4,
    "start_time": "2022-06-28T11:52:55.129Z"
   },
   {
    "duration": 350,
    "start_time": "2022-06-28T11:52:55.135Z"
   },
   {
    "duration": 226,
    "start_time": "2022-06-28T11:52:55.487Z"
   },
   {
    "duration": 356,
    "start_time": "2022-06-28T11:52:55.715Z"
   },
   {
    "duration": 11,
    "start_time": "2022-06-28T11:52:56.072Z"
   },
   {
    "duration": 207,
    "start_time": "2022-06-28T11:52:56.085Z"
   },
   {
    "duration": 9,
    "start_time": "2022-06-28T11:52:56.294Z"
   },
   {
    "duration": 236,
    "start_time": "2022-06-28T11:52:56.305Z"
   },
   {
    "duration": 5,
    "start_time": "2022-06-28T11:52:56.543Z"
   },
   {
    "duration": 161,
    "start_time": "2022-06-28T11:52:56.550Z"
   },
   {
    "duration": 23,
    "start_time": "2022-06-28T11:52:56.712Z"
   },
   {
    "duration": 5,
    "start_time": "2022-06-28T11:52:56.736Z"
   },
   {
    "duration": 48,
    "start_time": "2022-06-28T11:52:56.745Z"
   },
   {
    "duration": 18,
    "start_time": "2022-06-28T11:52:56.795Z"
   },
   {
    "duration": 56,
    "start_time": "2022-06-28T11:52:56.815Z"
   },
   {
    "duration": 61,
    "start_time": "2022-06-28T11:52:56.873Z"
   },
   {
    "duration": 66,
    "start_time": "2022-06-28T11:52:56.935Z"
   },
   {
    "duration": 29,
    "start_time": "2022-06-28T11:52:57.008Z"
   },
   {
    "duration": 9,
    "start_time": "2022-06-28T11:52:57.039Z"
   },
   {
    "duration": 12,
    "start_time": "2022-06-28T11:52:57.050Z"
   },
   {
    "duration": 12,
    "start_time": "2022-06-28T11:52:57.063Z"
   },
   {
    "duration": 10,
    "start_time": "2022-06-28T11:52:57.077Z"
   },
   {
    "duration": 214,
    "start_time": "2022-06-28T11:52:57.089Z"
   },
   {
    "duration": 27,
    "start_time": "2022-06-28T11:52:57.305Z"
   },
   {
    "duration": 34,
    "start_time": "2022-06-28T11:52:57.334Z"
   },
   {
    "duration": 17,
    "start_time": "2022-06-28T11:52:57.370Z"
   },
   {
    "duration": 1267,
    "start_time": "2022-06-28T14:03:29.683Z"
   },
   {
    "duration": 17,
    "start_time": "2022-06-28T14:03:30.952Z"
   },
   {
    "duration": 11,
    "start_time": "2022-06-28T14:03:30.971Z"
   },
   {
    "duration": 4,
    "start_time": "2022-06-28T14:03:30.983Z"
   },
   {
    "duration": 21,
    "start_time": "2022-06-28T14:03:30.990Z"
   },
   {
    "duration": 21,
    "start_time": "2022-06-28T14:03:31.013Z"
   },
   {
    "duration": 8,
    "start_time": "2022-06-28T14:03:31.035Z"
   },
   {
    "duration": 13,
    "start_time": "2022-06-28T14:03:31.045Z"
   },
   {
    "duration": 10,
    "start_time": "2022-06-28T14:03:31.060Z"
   },
   {
    "duration": 499,
    "start_time": "2022-06-28T14:03:31.071Z"
   },
   {
    "duration": 21,
    "start_time": "2022-06-28T14:03:31.572Z"
   },
   {
    "duration": 8,
    "start_time": "2022-06-28T14:03:31.595Z"
   },
   {
    "duration": 16,
    "start_time": "2022-06-28T14:03:31.604Z"
   },
   {
    "duration": 9,
    "start_time": "2022-06-28T14:03:31.623Z"
   },
   {
    "duration": 11,
    "start_time": "2022-06-28T14:03:31.634Z"
   },
   {
    "duration": 9,
    "start_time": "2022-06-28T14:03:31.646Z"
   },
   {
    "duration": 8,
    "start_time": "2022-06-28T14:03:31.656Z"
   },
   {
    "duration": 12,
    "start_time": "2022-06-28T14:03:31.666Z"
   },
   {
    "duration": 10,
    "start_time": "2022-06-28T14:03:31.680Z"
   },
   {
    "duration": 10,
    "start_time": "2022-06-28T14:03:31.691Z"
   },
   {
    "duration": 7,
    "start_time": "2022-06-28T14:03:31.703Z"
   },
   {
    "duration": 11,
    "start_time": "2022-06-28T14:03:31.711Z"
   },
   {
    "duration": 30,
    "start_time": "2022-06-28T14:03:31.723Z"
   },
   {
    "duration": 9,
    "start_time": "2022-06-28T14:03:31.754Z"
   },
   {
    "duration": 12,
    "start_time": "2022-06-28T14:03:31.765Z"
   },
   {
    "duration": 8,
    "start_time": "2022-06-28T14:03:31.779Z"
   },
   {
    "duration": 7,
    "start_time": "2022-06-28T14:03:31.788Z"
   },
   {
    "duration": 6,
    "start_time": "2022-06-28T14:03:31.797Z"
   },
   {
    "duration": 25,
    "start_time": "2022-06-28T14:03:31.805Z"
   },
   {
    "duration": 10,
    "start_time": "2022-06-28T14:03:31.832Z"
   },
   {
    "duration": 18,
    "start_time": "2022-06-28T14:03:31.843Z"
   },
   {
    "duration": 14,
    "start_time": "2022-06-28T14:03:31.862Z"
   },
   {
    "duration": 6,
    "start_time": "2022-06-28T14:03:31.878Z"
   },
   {
    "duration": 14,
    "start_time": "2022-06-28T14:03:31.886Z"
   },
   {
    "duration": 185,
    "start_time": "2022-06-28T14:03:31.902Z"
   },
   {
    "duration": 123,
    "start_time": "2022-06-28T14:03:32.089Z"
   },
   {
    "duration": 23,
    "start_time": "2022-06-28T14:03:32.213Z"
   },
   {
    "duration": 293,
    "start_time": "2022-06-28T14:03:32.238Z"
   },
   {
    "duration": 216,
    "start_time": "2022-06-28T14:03:32.532Z"
   },
   {
    "duration": 291,
    "start_time": "2022-06-28T14:03:32.750Z"
   },
   {
    "duration": 206,
    "start_time": "2022-06-28T14:03:33.045Z"
   },
   {
    "duration": 324,
    "start_time": "2022-06-28T14:03:33.253Z"
   },
   {
    "duration": 11,
    "start_time": "2022-06-28T14:03:33.578Z"
   },
   {
    "duration": 181,
    "start_time": "2022-06-28T14:03:33.590Z"
   },
   {
    "duration": 7,
    "start_time": "2022-06-28T14:03:33.773Z"
   },
   {
    "duration": 178,
    "start_time": "2022-06-28T14:03:33.782Z"
   },
   {
    "duration": 5,
    "start_time": "2022-06-28T14:03:33.962Z"
   },
   {
    "duration": 229,
    "start_time": "2022-06-28T14:03:33.968Z"
   },
   {
    "duration": 7,
    "start_time": "2022-06-28T14:03:34.198Z"
   },
   {
    "duration": 5,
    "start_time": "2022-06-28T14:03:34.207Z"
   },
   {
    "duration": 53,
    "start_time": "2022-06-28T14:03:34.213Z"
   },
   {
    "duration": 7,
    "start_time": "2022-06-28T14:03:34.268Z"
   },
   {
    "duration": 52,
    "start_time": "2022-06-28T14:03:34.277Z"
   },
   {
    "duration": 55,
    "start_time": "2022-06-28T14:03:34.331Z"
   },
   {
    "duration": 66,
    "start_time": "2022-06-28T14:03:34.388Z"
   },
   {
    "duration": 19,
    "start_time": "2022-06-28T14:03:34.455Z"
   },
   {
    "duration": 9,
    "start_time": "2022-06-28T14:03:34.476Z"
   },
   {
    "duration": 10,
    "start_time": "2022-06-28T14:03:34.487Z"
   },
   {
    "duration": 30,
    "start_time": "2022-06-28T14:03:34.499Z"
   },
   {
    "duration": 14,
    "start_time": "2022-06-28T14:03:34.531Z"
   },
   {
    "duration": 134,
    "start_time": "2022-06-28T14:03:34.547Z"
   },
   {
    "duration": 9,
    "start_time": "2022-06-28T14:03:34.683Z"
   },
   {
    "duration": 42,
    "start_time": "2022-06-28T14:03:34.694Z"
   },
   {
    "duration": 13,
    "start_time": "2022-06-28T14:03:34.737Z"
   },
   {
    "duration": 1432,
    "start_time": "2022-06-29T12:36:26.088Z"
   },
   {
    "duration": 35,
    "start_time": "2022-06-29T12:36:27.522Z"
   },
   {
    "duration": 13,
    "start_time": "2022-06-29T12:36:27.559Z"
   },
   {
    "duration": 3,
    "start_time": "2022-06-29T12:36:27.575Z"
   },
   {
    "duration": 40,
    "start_time": "2022-06-29T12:36:27.580Z"
   },
   {
    "duration": 12,
    "start_time": "2022-06-29T12:36:27.623Z"
   },
   {
    "duration": 15,
    "start_time": "2022-06-29T12:36:27.637Z"
   },
   {
    "duration": 24,
    "start_time": "2022-06-29T12:36:27.654Z"
   },
   {
    "duration": 19,
    "start_time": "2022-06-29T12:36:27.680Z"
   },
   {
    "duration": 582,
    "start_time": "2022-06-29T12:36:27.703Z"
   },
   {
    "duration": 40,
    "start_time": "2022-06-29T12:36:28.288Z"
   },
   {
    "duration": 9,
    "start_time": "2022-06-29T12:36:28.330Z"
   },
   {
    "duration": 24,
    "start_time": "2022-06-29T12:36:28.341Z"
   },
   {
    "duration": 20,
    "start_time": "2022-06-29T12:36:28.367Z"
   },
   {
    "duration": 17,
    "start_time": "2022-06-29T12:36:28.389Z"
   },
   {
    "duration": 12,
    "start_time": "2022-06-29T12:36:28.408Z"
   },
   {
    "duration": 27,
    "start_time": "2022-06-29T12:36:28.422Z"
   },
   {
    "duration": 33,
    "start_time": "2022-06-29T12:36:28.450Z"
   },
   {
    "duration": 10,
    "start_time": "2022-06-29T12:36:28.485Z"
   },
   {
    "duration": 24,
    "start_time": "2022-06-29T12:36:28.497Z"
   },
   {
    "duration": 20,
    "start_time": "2022-06-29T12:36:28.523Z"
   },
   {
    "duration": 11,
    "start_time": "2022-06-29T12:36:28.545Z"
   },
   {
    "duration": 14,
    "start_time": "2022-06-29T12:36:28.558Z"
   },
   {
    "duration": 5,
    "start_time": "2022-06-29T12:36:28.574Z"
   },
   {
    "duration": 11,
    "start_time": "2022-06-29T12:36:28.581Z"
   },
   {
    "duration": 8,
    "start_time": "2022-06-29T12:36:28.594Z"
   },
   {
    "duration": 8,
    "start_time": "2022-06-29T12:36:28.604Z"
   },
   {
    "duration": 6,
    "start_time": "2022-06-29T12:36:28.617Z"
   },
   {
    "duration": 48,
    "start_time": "2022-06-29T12:36:28.625Z"
   },
   {
    "duration": 84,
    "start_time": "2022-06-29T12:36:28.675Z"
   },
   {
    "duration": 11,
    "start_time": "2022-06-29T12:36:28.761Z"
   },
   {
    "duration": 13,
    "start_time": "2022-06-29T12:36:28.774Z"
   },
   {
    "duration": 8,
    "start_time": "2022-06-29T12:36:28.789Z"
   },
   {
    "duration": 16,
    "start_time": "2022-06-29T12:36:28.798Z"
   },
   {
    "duration": 286,
    "start_time": "2022-06-29T12:36:28.816Z"
   },
   {
    "duration": 173,
    "start_time": "2022-06-29T12:36:29.104Z"
   },
   {
    "duration": 13,
    "start_time": "2022-06-29T12:36:29.279Z"
   },
   {
    "duration": 345,
    "start_time": "2022-06-29T12:36:29.294Z"
   },
   {
    "duration": 252,
    "start_time": "2022-06-29T12:36:29.641Z"
   },
   {
    "duration": 376,
    "start_time": "2022-06-29T12:36:29.895Z"
   },
   {
    "duration": 233,
    "start_time": "2022-06-29T12:36:30.273Z"
   },
   {
    "duration": 322,
    "start_time": "2022-06-29T12:36:30.508Z"
   },
   {
    "duration": 14,
    "start_time": "2022-06-29T12:36:30.832Z"
   },
   {
    "duration": 197,
    "start_time": "2022-06-29T12:36:30.848Z"
   },
   {
    "duration": 24,
    "start_time": "2022-06-29T12:36:31.048Z"
   },
   {
    "duration": 185,
    "start_time": "2022-06-29T12:36:31.074Z"
   },
   {
    "duration": 10,
    "start_time": "2022-06-29T12:36:31.260Z"
   },
   {
    "duration": 248,
    "start_time": "2022-06-29T12:36:31.272Z"
   },
   {
    "duration": 9,
    "start_time": "2022-06-29T12:36:31.522Z"
   },
   {
    "duration": 8,
    "start_time": "2022-06-29T12:36:31.533Z"
   },
   {
    "duration": 76,
    "start_time": "2022-06-29T12:36:31.543Z"
   },
   {
    "duration": 11,
    "start_time": "2022-06-29T12:36:31.621Z"
   },
   {
    "duration": 65,
    "start_time": "2022-06-29T12:36:31.634Z"
   },
   {
    "duration": 85,
    "start_time": "2022-06-29T12:36:31.701Z"
   },
   {
    "duration": 79,
    "start_time": "2022-06-29T12:36:31.788Z"
   },
   {
    "duration": 25,
    "start_time": "2022-06-29T12:36:31.869Z"
   },
   {
    "duration": 11,
    "start_time": "2022-06-29T12:36:31.897Z"
   },
   {
    "duration": 22,
    "start_time": "2022-06-29T12:36:31.910Z"
   },
   {
    "duration": 8,
    "start_time": "2022-06-29T12:36:31.935Z"
   },
   {
    "duration": 32,
    "start_time": "2022-06-29T12:36:31.944Z"
   },
   {
    "duration": 159,
    "start_time": "2022-06-29T12:36:31.978Z"
   },
   {
    "duration": 27,
    "start_time": "2022-06-29T12:36:32.141Z"
   },
   {
    "duration": 31,
    "start_time": "2022-06-29T12:36:32.171Z"
   },
   {
    "duration": 15,
    "start_time": "2022-06-29T12:36:32.204Z"
   },
   {
    "duration": 11,
    "start_time": "2022-06-29T13:07:54.984Z"
   },
   {
    "duration": 13,
    "start_time": "2022-06-29T13:07:58.411Z"
   },
   {
    "duration": 10,
    "start_time": "2022-06-29T13:08:00.725Z"
   },
   {
    "duration": 11,
    "start_time": "2022-06-29T13:08:04.380Z"
   },
   {
    "duration": 12,
    "start_time": "2022-06-29T13:08:39.948Z"
   },
   {
    "duration": 13,
    "start_time": "2022-06-29T13:08:42.239Z"
   },
   {
    "duration": 10,
    "start_time": "2022-06-29T13:08:44.349Z"
   },
   {
    "duration": 11,
    "start_time": "2022-06-29T13:09:01.482Z"
   },
   {
    "duration": 6,
    "start_time": "2022-06-29T13:30:23.033Z"
   },
   {
    "duration": 7,
    "start_time": "2022-06-29T13:30:42.330Z"
   },
   {
    "duration": 64,
    "start_time": "2022-06-29T14:50:11.257Z"
   },
   {
    "duration": 11,
    "start_time": "2022-06-29T14:50:38.073Z"
   },
   {
    "duration": 10,
    "start_time": "2022-06-29T14:50:54.339Z"
   },
   {
    "duration": 115,
    "start_time": "2022-06-29T14:51:12.490Z"
   },
   {
    "duration": 13,
    "start_time": "2022-06-29T14:52:17.274Z"
   },
   {
    "duration": 8,
    "start_time": "2022-06-29T14:52:25.230Z"
   },
   {
    "duration": 6,
    "start_time": "2022-06-29T14:52:46.511Z"
   },
   {
    "duration": 12,
    "start_time": "2022-06-29T14:53:29.633Z"
   },
   {
    "duration": 6,
    "start_time": "2022-06-29T14:53:42.802Z"
   },
   {
    "duration": 6,
    "start_time": "2022-06-29T14:54:31.275Z"
   },
   {
    "duration": 5,
    "start_time": "2022-06-29T14:55:37.088Z"
   },
   {
    "duration": 5,
    "start_time": "2022-06-29T14:55:45.398Z"
   },
   {
    "duration": 4,
    "start_time": "2022-06-29T14:56:00.465Z"
   },
   {
    "duration": 5,
    "start_time": "2022-06-29T14:56:10.625Z"
   },
   {
    "duration": 8,
    "start_time": "2022-06-29T14:56:27.976Z"
   },
   {
    "duration": 9,
    "start_time": "2022-06-29T14:56:32.560Z"
   },
   {
    "duration": 17,
    "start_time": "2022-06-29T14:58:52.042Z"
   },
   {
    "duration": 22,
    "start_time": "2022-06-29T14:58:58.353Z"
   },
   {
    "duration": 17,
    "start_time": "2022-06-29T14:59:08.976Z"
   },
   {
    "duration": 15,
    "start_time": "2022-06-29T14:59:19.808Z"
   },
   {
    "duration": 7,
    "start_time": "2022-06-29T16:11:43.973Z"
   },
   {
    "duration": 9,
    "start_time": "2022-06-29T16:11:49.067Z"
   },
   {
    "duration": 7,
    "start_time": "2022-06-29T16:11:53.833Z"
   },
   {
    "duration": 8,
    "start_time": "2022-06-29T16:11:58.664Z"
   },
   {
    "duration": 8,
    "start_time": "2022-06-29T16:12:03.005Z"
   },
   {
    "duration": 9,
    "start_time": "2022-06-29T16:12:09.284Z"
   },
   {
    "duration": 10,
    "start_time": "2022-06-29T16:12:17.814Z"
   },
   {
    "duration": 9,
    "start_time": "2022-06-29T16:12:23.585Z"
   },
   {
    "duration": 8,
    "start_time": "2022-06-29T16:12:28.585Z"
   },
   {
    "duration": 7,
    "start_time": "2022-06-29T16:20:20.630Z"
   },
   {
    "duration": 10,
    "start_time": "2022-06-29T16:20:28.439Z"
   },
   {
    "duration": 7,
    "start_time": "2022-06-29T16:20:32.923Z"
   },
   {
    "duration": 8,
    "start_time": "2022-06-29T16:20:39.410Z"
   },
   {
    "duration": 1249,
    "start_time": "2022-06-30T06:33:59.838Z"
   },
   {
    "duration": 96,
    "start_time": "2022-06-30T06:34:01.088Z"
   },
   {
    "duration": 12,
    "start_time": "2022-06-30T06:34:01.186Z"
   },
   {
    "duration": 3,
    "start_time": "2022-06-30T06:34:01.200Z"
   },
   {
    "duration": 13,
    "start_time": "2022-06-30T06:34:01.204Z"
   },
   {
    "duration": 6,
    "start_time": "2022-06-30T06:34:01.218Z"
   },
   {
    "duration": 7,
    "start_time": "2022-06-30T06:34:01.225Z"
   },
   {
    "duration": 16,
    "start_time": "2022-06-30T06:34:01.233Z"
   },
   {
    "duration": 12,
    "start_time": "2022-06-30T06:34:01.250Z"
   },
   {
    "duration": 504,
    "start_time": "2022-06-30T06:34:01.263Z"
   },
   {
    "duration": 94,
    "start_time": "2022-06-30T06:34:01.769Z"
   },
   {
    "duration": 10,
    "start_time": "2022-06-30T06:34:01.865Z"
   },
   {
    "duration": 17,
    "start_time": "2022-06-30T06:34:01.877Z"
   },
   {
    "duration": 6,
    "start_time": "2022-06-30T06:34:01.897Z"
   },
   {
    "duration": 8,
    "start_time": "2022-06-30T06:34:01.904Z"
   },
   {
    "duration": 6,
    "start_time": "2022-06-30T06:34:01.913Z"
   },
   {
    "duration": 10,
    "start_time": "2022-06-30T06:34:01.920Z"
   },
   {
    "duration": 13,
    "start_time": "2022-06-30T06:34:01.932Z"
   },
   {
    "duration": 5,
    "start_time": "2022-06-30T06:34:01.947Z"
   },
   {
    "duration": 26,
    "start_time": "2022-06-30T06:34:01.954Z"
   },
   {
    "duration": 11,
    "start_time": "2022-06-30T06:34:01.982Z"
   },
   {
    "duration": 31,
    "start_time": "2022-06-30T06:34:01.995Z"
   },
   {
    "duration": 44,
    "start_time": "2022-06-30T06:34:02.028Z"
   },
   {
    "duration": 25,
    "start_time": "2022-06-30T06:34:02.073Z"
   },
   {
    "duration": 30,
    "start_time": "2022-06-30T06:34:02.099Z"
   },
   {
    "duration": 27,
    "start_time": "2022-06-30T06:34:02.131Z"
   },
   {
    "duration": 30,
    "start_time": "2022-06-30T06:34:02.160Z"
   },
   {
    "duration": 33,
    "start_time": "2022-06-30T06:34:02.191Z"
   },
   {
    "duration": 26,
    "start_time": "2022-06-30T06:34:02.225Z"
   },
   {
    "duration": 116,
    "start_time": "2022-06-30T06:34:02.252Z"
   },
   {
    "duration": 8,
    "start_time": "2022-06-30T06:34:02.369Z"
   },
   {
    "duration": 46,
    "start_time": "2022-06-30T06:34:02.379Z"
   },
   {
    "duration": 23,
    "start_time": "2022-06-30T06:34:02.427Z"
   },
   {
    "duration": 41,
    "start_time": "2022-06-30T06:34:02.452Z"
   },
   {
    "duration": 239,
    "start_time": "2022-06-30T06:34:02.494Z"
   },
   {
    "duration": 130,
    "start_time": "2022-06-30T06:34:02.735Z"
   },
   {
    "duration": 13,
    "start_time": "2022-06-30T06:34:02.867Z"
   },
   {
    "duration": 302,
    "start_time": "2022-06-30T06:34:02.881Z"
   },
   {
    "duration": 235,
    "start_time": "2022-06-30T06:34:03.184Z"
   },
   {
    "duration": 393,
    "start_time": "2022-06-30T06:34:03.420Z"
   },
   {
    "duration": 230,
    "start_time": "2022-06-30T06:34:03.817Z"
   },
   {
    "duration": 312,
    "start_time": "2022-06-30T06:34:04.048Z"
   },
   {
    "duration": 11,
    "start_time": "2022-06-30T06:34:04.362Z"
   },
   {
    "duration": 178,
    "start_time": "2022-06-30T06:34:04.375Z"
   },
   {
    "duration": 5,
    "start_time": "2022-06-30T06:34:04.555Z"
   },
   {
    "duration": 15,
    "start_time": "2022-06-30T06:34:04.562Z"
   },
   {
    "duration": 195,
    "start_time": "2022-06-30T06:34:04.579Z"
   },
   {
    "duration": 5,
    "start_time": "2022-06-30T06:34:04.776Z"
   },
   {
    "duration": 216,
    "start_time": "2022-06-30T06:34:04.783Z"
   },
   {
    "duration": 8,
    "start_time": "2022-06-30T06:34:05.000Z"
   },
   {
    "duration": 20,
    "start_time": "2022-06-30T06:34:05.009Z"
   },
   {
    "duration": 45,
    "start_time": "2022-06-30T06:34:05.031Z"
   },
   {
    "duration": 15,
    "start_time": "2022-06-30T06:34:05.078Z"
   },
   {
    "duration": 51,
    "start_time": "2022-06-30T06:34:05.095Z"
   },
   {
    "duration": 76,
    "start_time": "2022-06-30T06:34:05.147Z"
   },
   {
    "duration": 57,
    "start_time": "2022-06-30T06:34:05.225Z"
   },
   {
    "duration": 20,
    "start_time": "2022-06-30T06:34:05.283Z"
   },
   {
    "duration": 24,
    "start_time": "2022-06-30T06:34:05.305Z"
   },
   {
    "duration": 10,
    "start_time": "2022-06-30T06:34:05.330Z"
   },
   {
    "duration": 19,
    "start_time": "2022-06-30T06:34:05.341Z"
   },
   {
    "duration": 16,
    "start_time": "2022-06-30T06:34:05.362Z"
   },
   {
    "duration": 130,
    "start_time": "2022-06-30T06:34:05.379Z"
   },
   {
    "duration": 18,
    "start_time": "2022-06-30T06:34:05.511Z"
   },
   {
    "duration": 25,
    "start_time": "2022-06-30T06:34:05.530Z"
   },
   {
    "duration": 13,
    "start_time": "2022-06-30T06:34:05.556Z"
   },
   {
    "duration": 1185,
    "start_time": "2022-06-30T07:51:17.262Z"
   },
   {
    "duration": 30,
    "start_time": "2022-06-30T07:51:18.451Z"
   },
   {
    "duration": 12,
    "start_time": "2022-06-30T07:51:18.483Z"
   },
   {
    "duration": 3,
    "start_time": "2022-06-30T07:51:18.497Z"
   },
   {
    "duration": 20,
    "start_time": "2022-06-30T07:51:18.501Z"
   },
   {
    "duration": 11,
    "start_time": "2022-06-30T07:51:18.523Z"
   },
   {
    "duration": 29,
    "start_time": "2022-06-30T07:51:18.540Z"
   },
   {
    "duration": 17,
    "start_time": "2022-06-30T07:51:18.571Z"
   },
   {
    "duration": 12,
    "start_time": "2022-06-30T07:51:18.590Z"
   },
   {
    "duration": 567,
    "start_time": "2022-06-30T07:51:18.604Z"
   },
   {
    "duration": 43,
    "start_time": "2022-06-30T07:51:19.173Z"
   },
   {
    "duration": 8,
    "start_time": "2022-06-30T07:51:19.218Z"
   },
   {
    "duration": 46,
    "start_time": "2022-06-30T07:51:19.228Z"
   },
   {
    "duration": 12,
    "start_time": "2022-06-30T07:51:19.276Z"
   },
   {
    "duration": 6,
    "start_time": "2022-06-30T07:51:19.290Z"
   },
   {
    "duration": 6,
    "start_time": "2022-06-30T07:51:19.298Z"
   },
   {
    "duration": 8,
    "start_time": "2022-06-30T07:51:19.306Z"
   },
   {
    "duration": 32,
    "start_time": "2022-06-30T07:51:19.315Z"
   },
   {
    "duration": 16,
    "start_time": "2022-06-30T07:51:19.352Z"
   },
   {
    "duration": 9,
    "start_time": "2022-06-30T07:51:19.369Z"
   },
   {
    "duration": 10,
    "start_time": "2022-06-30T07:51:19.380Z"
   },
   {
    "duration": 8,
    "start_time": "2022-06-30T07:51:19.392Z"
   },
   {
    "duration": 14,
    "start_time": "2022-06-30T07:51:19.402Z"
   },
   {
    "duration": 5,
    "start_time": "2022-06-30T07:51:19.417Z"
   },
   {
    "duration": 19,
    "start_time": "2022-06-30T07:51:19.424Z"
   },
   {
    "duration": 28,
    "start_time": "2022-06-30T07:51:19.445Z"
   },
   {
    "duration": 7,
    "start_time": "2022-06-30T07:51:19.475Z"
   },
   {
    "duration": 6,
    "start_time": "2022-06-30T07:51:19.486Z"
   },
   {
    "duration": 11,
    "start_time": "2022-06-30T07:51:19.493Z"
   },
   {
    "duration": 53,
    "start_time": "2022-06-30T07:51:19.505Z"
   },
   {
    "duration": 6,
    "start_time": "2022-06-30T07:51:19.560Z"
   },
   {
    "duration": 12,
    "start_time": "2022-06-30T07:51:19.567Z"
   },
   {
    "duration": 5,
    "start_time": "2022-06-30T07:51:19.581Z"
   },
   {
    "duration": 11,
    "start_time": "2022-06-30T07:51:19.588Z"
   },
   {
    "duration": 202,
    "start_time": "2022-06-30T07:51:19.600Z"
   },
   {
    "duration": 168,
    "start_time": "2022-06-30T07:51:19.803Z"
   },
   {
    "duration": 13,
    "start_time": "2022-06-30T07:51:19.977Z"
   },
   {
    "duration": 332,
    "start_time": "2022-06-30T07:51:19.992Z"
   },
   {
    "duration": 258,
    "start_time": "2022-06-30T07:51:20.325Z"
   },
   {
    "duration": 298,
    "start_time": "2022-06-30T07:51:20.585Z"
   },
   {
    "duration": 244,
    "start_time": "2022-06-30T07:51:20.885Z"
   },
   {
    "duration": 357,
    "start_time": "2022-06-30T07:51:21.131Z"
   },
   {
    "duration": 13,
    "start_time": "2022-06-30T07:51:21.490Z"
   },
   {
    "duration": 196,
    "start_time": "2022-06-30T07:51:21.505Z"
   },
   {
    "duration": 6,
    "start_time": "2022-06-30T07:51:21.703Z"
   },
   {
    "duration": 22,
    "start_time": "2022-06-30T07:51:21.710Z"
   },
   {
    "duration": 159,
    "start_time": "2022-06-30T07:51:21.741Z"
   },
   {
    "duration": 6,
    "start_time": "2022-06-30T07:51:21.902Z"
   },
   {
    "duration": 270,
    "start_time": "2022-06-30T07:51:21.909Z"
   },
   {
    "duration": 9,
    "start_time": "2022-06-30T07:51:22.181Z"
   },
   {
    "duration": 8,
    "start_time": "2022-06-30T07:51:22.192Z"
   },
   {
    "duration": 68,
    "start_time": "2022-06-30T07:51:22.202Z"
   },
   {
    "duration": 5,
    "start_time": "2022-06-30T07:51:22.272Z"
   },
   {
    "duration": 59,
    "start_time": "2022-06-30T07:51:22.278Z"
   },
   {
    "duration": 95,
    "start_time": "2022-06-30T07:51:22.339Z"
   },
   {
    "duration": 99,
    "start_time": "2022-06-30T07:51:22.436Z"
   },
   {
    "duration": 35,
    "start_time": "2022-06-30T07:51:22.537Z"
   },
   {
    "duration": 15,
    "start_time": "2022-06-30T07:51:22.577Z"
   },
   {
    "duration": 15,
    "start_time": "2022-06-30T07:51:22.594Z"
   },
   {
    "duration": 11,
    "start_time": "2022-06-30T07:51:22.611Z"
   },
   {
    "duration": 16,
    "start_time": "2022-06-30T07:51:22.623Z"
   },
   {
    "duration": 167,
    "start_time": "2022-06-30T07:51:22.644Z"
   },
   {
    "duration": 24,
    "start_time": "2022-06-30T07:51:22.812Z"
   },
   {
    "duration": 45,
    "start_time": "2022-06-30T07:51:22.848Z"
   },
   {
    "duration": 14,
    "start_time": "2022-06-30T07:51:22.895Z"
   },
   {
    "duration": 9,
    "start_time": "2022-06-30T08:19:43.683Z"
   },
   {
    "duration": 7,
    "start_time": "2022-06-30T08:20:08.109Z"
   },
   {
    "duration": 144,
    "start_time": "2022-06-30T08:20:43.769Z"
   },
   {
    "duration": 32,
    "start_time": "2022-06-30T08:20:50.160Z"
   },
   {
    "duration": 16,
    "start_time": "2022-06-30T08:21:19.724Z"
   },
   {
    "duration": 10,
    "start_time": "2022-06-30T08:21:46.280Z"
   },
   {
    "duration": 8,
    "start_time": "2022-06-30T14:00:24.553Z"
   },
   {
    "duration": 8,
    "start_time": "2022-06-30T14:00:28.449Z"
   },
   {
    "duration": 7,
    "start_time": "2022-06-30T14:00:32.966Z"
   },
   {
    "duration": 4,
    "start_time": "2022-06-30T14:13:58.541Z"
   },
   {
    "duration": 5,
    "start_time": "2022-06-30T14:16:23.627Z"
   },
   {
    "duration": 5,
    "start_time": "2022-06-30T14:16:26.811Z"
   },
   {
    "duration": 3,
    "start_time": "2022-06-30T14:31:50.048Z"
   },
   {
    "duration": 1366,
    "start_time": "2022-07-02T13:11:13.811Z"
   },
   {
    "duration": 38,
    "start_time": "2022-07-02T13:11:15.179Z"
   },
   {
    "duration": 12,
    "start_time": "2022-07-02T13:11:15.219Z"
   },
   {
    "duration": 7,
    "start_time": "2022-07-02T13:11:15.233Z"
   },
   {
    "duration": 31,
    "start_time": "2022-07-02T13:11:15.242Z"
   },
   {
    "duration": 10,
    "start_time": "2022-07-02T13:11:15.275Z"
   },
   {
    "duration": 12,
    "start_time": "2022-07-02T13:11:15.287Z"
   },
   {
    "duration": 18,
    "start_time": "2022-07-02T13:11:15.300Z"
   },
   {
    "duration": 20,
    "start_time": "2022-07-02T13:11:15.320Z"
   },
   {
    "duration": 531,
    "start_time": "2022-07-02T13:11:15.343Z"
   },
   {
    "duration": 55,
    "start_time": "2022-07-02T13:11:15.876Z"
   },
   {
    "duration": 8,
    "start_time": "2022-07-02T13:11:15.933Z"
   },
   {
    "duration": 13,
    "start_time": "2022-07-02T13:11:15.943Z"
   },
   {
    "duration": 7,
    "start_time": "2022-07-02T13:11:15.959Z"
   },
   {
    "duration": 10,
    "start_time": "2022-07-02T13:11:15.967Z"
   },
   {
    "duration": 6,
    "start_time": "2022-07-02T13:11:15.978Z"
   },
   {
    "duration": 35,
    "start_time": "2022-07-02T13:11:15.986Z"
   },
   {
    "duration": 23,
    "start_time": "2022-07-02T13:11:16.023Z"
   },
   {
    "duration": 8,
    "start_time": "2022-07-02T13:11:16.048Z"
   },
   {
    "duration": 7,
    "start_time": "2022-07-02T13:11:16.058Z"
   },
   {
    "duration": 6,
    "start_time": "2022-07-02T13:11:16.067Z"
   },
   {
    "duration": 10,
    "start_time": "2022-07-02T13:11:16.075Z"
   },
   {
    "duration": 15,
    "start_time": "2022-07-02T13:11:16.086Z"
   },
   {
    "duration": 5,
    "start_time": "2022-07-02T13:11:16.103Z"
   },
   {
    "duration": 11,
    "start_time": "2022-07-02T13:11:16.128Z"
   },
   {
    "duration": 9,
    "start_time": "2022-07-02T13:11:16.141Z"
   },
   {
    "duration": 8,
    "start_time": "2022-07-02T13:11:16.151Z"
   },
   {
    "duration": 9,
    "start_time": "2022-07-02T13:11:16.161Z"
   },
   {
    "duration": 14,
    "start_time": "2022-07-02T13:11:16.172Z"
   },
   {
    "duration": 44,
    "start_time": "2022-07-02T13:11:16.189Z"
   },
   {
    "duration": 9,
    "start_time": "2022-07-02T13:11:16.235Z"
   },
   {
    "duration": 30,
    "start_time": "2022-07-02T13:11:16.246Z"
   },
   {
    "duration": 13,
    "start_time": "2022-07-02T13:11:16.279Z"
   },
   {
    "duration": 23,
    "start_time": "2022-07-02T13:11:16.294Z"
   },
   {
    "duration": 258,
    "start_time": "2022-07-02T13:11:16.319Z"
   },
   {
    "duration": 120,
    "start_time": "2022-07-02T13:11:16.579Z"
   },
   {
    "duration": 39,
    "start_time": "2022-07-02T13:11:16.701Z"
   },
   {
    "duration": 323,
    "start_time": "2022-07-02T13:11:16.743Z"
   },
   {
    "duration": 236,
    "start_time": "2022-07-02T13:11:17.068Z"
   },
   {
    "duration": 385,
    "start_time": "2022-07-02T13:11:17.306Z"
   },
   {
    "duration": 213,
    "start_time": "2022-07-02T13:11:17.695Z"
   },
   {
    "duration": 344,
    "start_time": "2022-07-02T13:11:17.922Z"
   },
   {
    "duration": 13,
    "start_time": "2022-07-02T13:11:18.267Z"
   },
   {
    "duration": 186,
    "start_time": "2022-07-02T13:11:18.282Z"
   },
   {
    "duration": 6,
    "start_time": "2022-07-02T13:11:18.470Z"
   },
   {
    "duration": 10,
    "start_time": "2022-07-02T13:11:18.478Z"
   },
   {
    "duration": 177,
    "start_time": "2022-07-02T13:11:18.490Z"
   },
   {
    "duration": 5,
    "start_time": "2022-07-02T13:11:18.669Z"
   },
   {
    "duration": 274,
    "start_time": "2022-07-02T13:11:18.676Z"
   },
   {
    "duration": 8,
    "start_time": "2022-07-02T13:11:18.952Z"
   },
   {
    "duration": 5,
    "start_time": "2022-07-02T13:11:18.961Z"
   },
   {
    "duration": 13,
    "start_time": "2022-07-02T13:11:18.968Z"
   },
   {
    "duration": 78,
    "start_time": "2022-07-02T13:11:18.983Z"
   },
   {
    "duration": 8,
    "start_time": "2022-07-02T13:11:19.063Z"
   },
   {
    "duration": 49,
    "start_time": "2022-07-02T13:11:19.073Z"
   },
   {
    "duration": 72,
    "start_time": "2022-07-02T13:11:19.129Z"
   },
   {
    "duration": 66,
    "start_time": "2022-07-02T13:11:19.203Z"
   },
   {
    "duration": 21,
    "start_time": "2022-07-02T13:11:19.271Z"
   },
   {
    "duration": 16,
    "start_time": "2022-07-02T13:11:19.294Z"
   },
   {
    "duration": 23,
    "start_time": "2022-07-02T13:11:19.311Z"
   },
   {
    "duration": 8,
    "start_time": "2022-07-02T13:11:19.335Z"
   },
   {
    "duration": 14,
    "start_time": "2022-07-02T13:11:19.345Z"
   },
   {
    "duration": 182,
    "start_time": "2022-07-02T13:11:19.361Z"
   },
   {
    "duration": 13,
    "start_time": "2022-07-02T13:11:19.545Z"
   },
   {
    "duration": 46,
    "start_time": "2022-07-02T13:11:19.559Z"
   },
   {
    "duration": 34,
    "start_time": "2022-07-02T13:11:19.607Z"
   },
   {
    "duration": 110,
    "start_time": "2022-07-02T13:11:38.596Z"
   },
   {
    "duration": 157,
    "start_time": "2022-07-02T13:12:06.985Z"
   },
   {
    "duration": 149,
    "start_time": "2022-07-02T13:12:16.879Z"
   },
   {
    "duration": 167,
    "start_time": "2022-07-02T13:12:24.986Z"
   },
   {
    "duration": 135,
    "start_time": "2022-07-02T13:15:14.580Z"
   },
   {
    "duration": 146,
    "start_time": "2022-07-02T13:15:18.984Z"
   },
   {
    "duration": 56,
    "start_time": "2022-07-02T13:27:59.716Z"
   },
   {
    "duration": 27,
    "start_time": "2022-07-02T13:36:17.975Z"
   },
   {
    "duration": 35,
    "start_time": "2022-07-02T13:36:31.425Z"
   },
   {
    "duration": 142,
    "start_time": "2022-07-02T13:38:04.075Z"
   },
   {
    "duration": 10,
    "start_time": "2022-07-02T13:38:09.433Z"
   },
   {
    "duration": 30,
    "start_time": "2022-07-02T13:38:13.397Z"
   },
   {
    "duration": 138,
    "start_time": "2022-07-02T13:38:31.681Z"
   },
   {
    "duration": 10,
    "start_time": "2022-07-02T13:38:33.910Z"
   },
   {
    "duration": 27,
    "start_time": "2022-07-02T13:38:35.090Z"
   },
   {
    "duration": 38,
    "start_time": "2022-07-02T13:46:01.007Z"
   },
   {
    "duration": 29,
    "start_time": "2022-07-02T13:46:48.594Z"
   },
   {
    "duration": 16,
    "start_time": "2022-07-02T14:04:26.672Z"
   },
   {
    "duration": 18,
    "start_time": "2022-07-02T14:07:20.935Z"
   },
   {
    "duration": 26,
    "start_time": "2022-07-02T14:07:55.720Z"
   },
   {
    "duration": 17,
    "start_time": "2022-07-02T14:08:14.149Z"
   },
   {
    "duration": 1143,
    "start_time": "2022-07-02T14:36:27.908Z"
   },
   {
    "duration": 16,
    "start_time": "2022-07-02T14:36:29.053Z"
   },
   {
    "duration": 11,
    "start_time": "2022-07-02T14:36:29.070Z"
   },
   {
    "duration": 3,
    "start_time": "2022-07-02T14:36:29.083Z"
   },
   {
    "duration": 11,
    "start_time": "2022-07-02T14:36:29.087Z"
   },
   {
    "duration": 6,
    "start_time": "2022-07-02T14:36:29.100Z"
   },
   {
    "duration": 8,
    "start_time": "2022-07-02T14:36:29.107Z"
   },
   {
    "duration": 19,
    "start_time": "2022-07-02T14:36:29.116Z"
   },
   {
    "duration": 10,
    "start_time": "2022-07-02T14:36:29.136Z"
   },
   {
    "duration": 477,
    "start_time": "2022-07-02T14:36:29.149Z"
   },
   {
    "duration": 19,
    "start_time": "2022-07-02T14:36:29.628Z"
   },
   {
    "duration": 8,
    "start_time": "2022-07-02T14:36:29.648Z"
   },
   {
    "duration": 14,
    "start_time": "2022-07-02T14:36:29.657Z"
   },
   {
    "duration": 6,
    "start_time": "2022-07-02T14:36:29.672Z"
   },
   {
    "duration": 7,
    "start_time": "2022-07-02T14:36:29.679Z"
   },
   {
    "duration": 7,
    "start_time": "2022-07-02T14:36:29.687Z"
   },
   {
    "duration": 7,
    "start_time": "2022-07-02T14:36:29.695Z"
   },
   {
    "duration": 15,
    "start_time": "2022-07-02T14:36:29.704Z"
   },
   {
    "duration": 11,
    "start_time": "2022-07-02T14:36:29.720Z"
   },
   {
    "duration": 8,
    "start_time": "2022-07-02T14:36:29.732Z"
   },
   {
    "duration": 6,
    "start_time": "2022-07-02T14:36:29.741Z"
   },
   {
    "duration": 7,
    "start_time": "2022-07-02T14:36:29.748Z"
   },
   {
    "duration": 12,
    "start_time": "2022-07-02T14:36:29.757Z"
   },
   {
    "duration": 5,
    "start_time": "2022-07-02T14:36:29.770Z"
   },
   {
    "duration": 11,
    "start_time": "2022-07-02T14:36:29.776Z"
   },
   {
    "duration": 11,
    "start_time": "2022-07-02T14:36:29.788Z"
   },
   {
    "duration": 7,
    "start_time": "2022-07-02T14:36:29.827Z"
   },
   {
    "duration": 10,
    "start_time": "2022-07-02T14:36:29.837Z"
   },
   {
    "duration": 11,
    "start_time": "2022-07-02T14:36:29.849Z"
   },
   {
    "duration": 15,
    "start_time": "2022-07-02T14:36:29.861Z"
   },
   {
    "duration": 12,
    "start_time": "2022-07-02T14:36:29.878Z"
   },
   {
    "duration": 17,
    "start_time": "2022-07-02T14:36:29.892Z"
   },
   {
    "duration": 5,
    "start_time": "2022-07-02T14:36:29.911Z"
   },
   {
    "duration": 15,
    "start_time": "2022-07-02T14:36:29.918Z"
   },
   {
    "duration": 183,
    "start_time": "2022-07-02T14:36:29.935Z"
   },
   {
    "duration": 128,
    "start_time": "2022-07-02T14:36:30.120Z"
   },
   {
    "duration": 14,
    "start_time": "2022-07-02T14:36:30.250Z"
   },
   {
    "duration": 293,
    "start_time": "2022-07-02T14:36:30.266Z"
   },
   {
    "duration": 226,
    "start_time": "2022-07-02T14:36:30.561Z"
   },
   {
    "duration": 327,
    "start_time": "2022-07-02T14:36:30.789Z"
   },
   {
    "duration": 225,
    "start_time": "2022-07-02T14:36:31.117Z"
   },
   {
    "duration": 315,
    "start_time": "2022-07-02T14:36:31.344Z"
   },
   {
    "duration": 11,
    "start_time": "2022-07-02T14:36:31.660Z"
   },
   {
    "duration": 163,
    "start_time": "2022-07-02T14:36:31.673Z"
   },
   {
    "duration": 6,
    "start_time": "2022-07-02T14:36:31.837Z"
   },
   {
    "duration": 22,
    "start_time": "2022-07-02T14:36:31.844Z"
   },
   {
    "duration": 154,
    "start_time": "2022-07-02T14:36:31.868Z"
   },
   {
    "duration": 5,
    "start_time": "2022-07-02T14:36:32.026Z"
   },
   {
    "duration": 220,
    "start_time": "2022-07-02T14:36:32.032Z"
   },
   {
    "duration": 8,
    "start_time": "2022-07-02T14:36:32.253Z"
   },
   {
    "duration": 7,
    "start_time": "2022-07-02T14:36:32.262Z"
   },
   {
    "duration": 10,
    "start_time": "2022-07-02T14:36:32.270Z"
   },
   {
    "duration": 57,
    "start_time": "2022-07-02T14:36:32.281Z"
   },
   {
    "duration": 8,
    "start_time": "2022-07-02T14:36:32.340Z"
   },
   {
    "duration": 48,
    "start_time": "2022-07-02T14:36:32.349Z"
   },
   {
    "duration": 70,
    "start_time": "2022-07-02T14:36:32.398Z"
   },
   {
    "duration": 67,
    "start_time": "2022-07-02T14:36:32.469Z"
   },
   {
    "duration": 24,
    "start_time": "2022-07-02T14:36:32.538Z"
   },
   {
    "duration": 13,
    "start_time": "2022-07-02T14:36:32.563Z"
   },
   {
    "duration": 11,
    "start_time": "2022-07-02T14:36:32.578Z"
   },
   {
    "duration": 9,
    "start_time": "2022-07-02T14:36:32.590Z"
   },
   {
    "duration": 5,
    "start_time": "2022-07-02T14:36:32.600Z"
   },
   {
    "duration": 149,
    "start_time": "2022-07-02T14:36:32.607Z"
   },
   {
    "duration": 9,
    "start_time": "2022-07-02T14:36:32.758Z"
   },
   {
    "duration": 53,
    "start_time": "2022-07-02T14:36:32.768Z"
   },
   {
    "duration": 14,
    "start_time": "2022-07-02T14:36:32.822Z"
   },
   {
    "duration": 1304,
    "start_time": "2022-07-03T15:34:00.791Z"
   },
   {
    "duration": 1126,
    "start_time": "2022-07-04T08:34:24.673Z"
   },
   {
    "duration": 17,
    "start_time": "2022-07-04T08:34:25.801Z"
   },
   {
    "duration": 27,
    "start_time": "2022-07-04T08:34:25.820Z"
   },
   {
    "duration": 21,
    "start_time": "2022-07-04T08:34:25.857Z"
   },
   {
    "duration": 10,
    "start_time": "2022-07-04T08:34:25.880Z"
   },
   {
    "duration": 5,
    "start_time": "2022-07-04T08:34:25.892Z"
   },
   {
    "duration": 3,
    "start_time": "2022-07-04T08:34:27.907Z"
   },
   {
    "duration": 28,
    "start_time": "2022-07-04T08:34:27.912Z"
   },
   {
    "duration": 35,
    "start_time": "2022-07-04T08:34:27.941Z"
   },
   {
    "duration": 523,
    "start_time": "2022-07-04T08:34:27.978Z"
   },
   {
    "duration": 35,
    "start_time": "2022-07-04T08:34:28.503Z"
   },
   {
    "duration": 8,
    "start_time": "2022-07-04T08:34:28.544Z"
   },
   {
    "duration": 11,
    "start_time": "2022-07-04T08:34:28.557Z"
   },
   {
    "duration": 10,
    "start_time": "2022-07-04T08:34:28.570Z"
   },
   {
    "duration": 9,
    "start_time": "2022-07-04T08:34:28.581Z"
   },
   {
    "duration": 6,
    "start_time": "2022-07-04T08:34:28.592Z"
   },
   {
    "duration": 20,
    "start_time": "2022-07-04T08:34:28.600Z"
   },
   {
    "duration": 66,
    "start_time": "2022-07-04T08:34:28.622Z"
   },
   {
    "duration": 24,
    "start_time": "2022-07-04T08:34:28.690Z"
   },
   {
    "duration": 70,
    "start_time": "2022-07-04T08:34:28.716Z"
   },
   {
    "duration": 25,
    "start_time": "2022-07-04T08:34:28.788Z"
   },
   {
    "duration": 38,
    "start_time": "2022-07-04T08:34:28.815Z"
   },
   {
    "duration": 49,
    "start_time": "2022-07-04T08:34:28.854Z"
   },
   {
    "duration": 14,
    "start_time": "2022-07-04T08:34:28.905Z"
   },
   {
    "duration": 53,
    "start_time": "2022-07-04T08:34:28.921Z"
   },
   {
    "duration": 14,
    "start_time": "2022-07-04T08:34:28.975Z"
   },
   {
    "duration": 21,
    "start_time": "2022-07-04T08:34:28.990Z"
   },
   {
    "duration": 24,
    "start_time": "2022-07-04T08:34:29.012Z"
   },
   {
    "duration": 45,
    "start_time": "2022-07-04T08:34:29.038Z"
   },
   {
    "duration": 29,
    "start_time": "2022-07-04T08:34:29.085Z"
   },
   {
    "duration": 55,
    "start_time": "2022-07-04T08:34:29.116Z"
   },
   {
    "duration": 17,
    "start_time": "2022-07-04T08:34:29.173Z"
   },
   {
    "duration": 9,
    "start_time": "2022-07-04T08:34:29.191Z"
   },
   {
    "duration": 38,
    "start_time": "2022-07-04T08:34:29.201Z"
   },
   {
    "duration": 225,
    "start_time": "2022-07-04T08:34:29.243Z"
   },
   {
    "duration": 134,
    "start_time": "2022-07-04T08:34:29.470Z"
   },
   {
    "duration": 81,
    "start_time": "2022-07-04T08:34:29.606Z"
   },
   {
    "duration": 315,
    "start_time": "2022-07-04T08:34:29.689Z"
   },
   {
    "duration": 267,
    "start_time": "2022-07-04T08:34:30.006Z"
   },
   {
    "duration": 297,
    "start_time": "2022-07-04T08:34:30.274Z"
   },
   {
    "duration": 224,
    "start_time": "2022-07-04T08:34:30.573Z"
   },
   {
    "duration": 341,
    "start_time": "2022-07-04T08:34:30.799Z"
   },
   {
    "duration": 23,
    "start_time": "2022-07-04T08:34:31.146Z"
   },
   {
    "duration": 192,
    "start_time": "2022-07-04T08:34:31.174Z"
   },
   {
    "duration": 6,
    "start_time": "2022-07-04T08:34:31.367Z"
   },
   {
    "duration": 20,
    "start_time": "2022-07-04T08:34:31.377Z"
   },
   {
    "duration": 174,
    "start_time": "2022-07-04T08:34:31.398Z"
   },
   {
    "duration": 4,
    "start_time": "2022-07-04T08:34:31.574Z"
   },
   {
    "duration": 276,
    "start_time": "2022-07-04T08:34:31.580Z"
   },
   {
    "duration": 14,
    "start_time": "2022-07-04T08:34:31.860Z"
   },
   {
    "duration": 29,
    "start_time": "2022-07-04T08:34:31.875Z"
   },
   {
    "duration": 73,
    "start_time": "2022-07-04T08:34:31.905Z"
   },
   {
    "duration": 82,
    "start_time": "2022-07-04T08:34:31.980Z"
   },
   {
    "duration": 115,
    "start_time": "2022-07-04T08:34:32.064Z"
   },
   {
    "duration": 70,
    "start_time": "2022-07-04T08:34:32.182Z"
   },
   {
    "duration": 88,
    "start_time": "2022-07-04T08:34:32.254Z"
   },
   {
    "duration": 62,
    "start_time": "2022-07-04T08:34:32.348Z"
   },
   {
    "duration": 23,
    "start_time": "2022-07-04T08:34:32.412Z"
   },
   {
    "duration": 57,
    "start_time": "2022-07-04T08:34:32.436Z"
   },
   {
    "duration": 16,
    "start_time": "2022-07-04T08:34:32.495Z"
   },
   {
    "duration": 56,
    "start_time": "2022-07-04T08:34:32.513Z"
   },
   {
    "duration": 17,
    "start_time": "2022-07-04T08:34:32.570Z"
   },
   {
    "duration": 130,
    "start_time": "2022-07-04T08:34:32.589Z"
   },
   {
    "duration": 26,
    "start_time": "2022-07-04T08:34:32.721Z"
   },
   {
    "duration": 51,
    "start_time": "2022-07-04T08:34:32.749Z"
   },
   {
    "duration": 12,
    "start_time": "2022-07-04T08:34:32.801Z"
   },
   {
    "duration": 1213,
    "start_time": "2022-07-04T08:39:35.991Z"
   },
   {
    "duration": 16,
    "start_time": "2022-07-04T08:39:37.207Z"
   },
   {
    "duration": 30,
    "start_time": "2022-07-04T08:39:37.225Z"
   },
   {
    "duration": 19,
    "start_time": "2022-07-04T08:39:37.261Z"
   },
   {
    "duration": 17,
    "start_time": "2022-07-04T08:39:37.283Z"
   },
   {
    "duration": 11,
    "start_time": "2022-07-04T08:39:37.302Z"
   },
   {
    "duration": 9,
    "start_time": "2022-07-04T08:39:37.315Z"
   },
   {
    "duration": 65,
    "start_time": "2022-07-04T08:39:37.326Z"
   },
   {
    "duration": 11,
    "start_time": "2022-07-04T08:39:37.393Z"
   },
   {
    "duration": 553,
    "start_time": "2022-07-04T08:39:37.406Z"
   },
   {
    "duration": 25,
    "start_time": "2022-07-04T08:39:37.961Z"
   },
   {
    "duration": 8,
    "start_time": "2022-07-04T08:39:37.988Z"
   },
   {
    "duration": 16,
    "start_time": "2022-07-04T08:39:37.998Z"
   },
   {
    "duration": 3,
    "start_time": "2022-07-04T08:39:38.018Z"
   },
   {
    "duration": 33,
    "start_time": "2022-07-04T08:39:38.023Z"
   },
   {
    "duration": 18,
    "start_time": "2022-07-04T08:39:38.058Z"
   },
   {
    "duration": 7,
    "start_time": "2022-07-04T08:39:38.077Z"
   },
   {
    "duration": 12,
    "start_time": "2022-07-04T08:39:38.086Z"
   },
   {
    "duration": 10,
    "start_time": "2022-07-04T08:39:38.100Z"
   },
   {
    "duration": 9,
    "start_time": "2022-07-04T08:39:38.111Z"
   },
   {
    "duration": 13,
    "start_time": "2022-07-04T08:39:38.122Z"
   },
   {
    "duration": 42,
    "start_time": "2022-07-04T08:39:38.136Z"
   },
   {
    "duration": 13,
    "start_time": "2022-07-04T08:39:38.179Z"
   },
   {
    "duration": 5,
    "start_time": "2022-07-04T08:39:38.193Z"
   },
   {
    "duration": 9,
    "start_time": "2022-07-04T08:39:38.199Z"
   },
   {
    "duration": 8,
    "start_time": "2022-07-04T08:39:38.210Z"
   },
   {
    "duration": 18,
    "start_time": "2022-07-04T08:39:38.219Z"
   },
   {
    "duration": 30,
    "start_time": "2022-07-04T08:39:38.248Z"
   },
   {
    "duration": 9,
    "start_time": "2022-07-04T08:39:38.280Z"
   },
   {
    "duration": 14,
    "start_time": "2022-07-04T08:39:38.291Z"
   },
   {
    "duration": 7,
    "start_time": "2022-07-04T08:39:38.307Z"
   },
   {
    "duration": 48,
    "start_time": "2022-07-04T08:39:38.316Z"
   },
   {
    "duration": 22,
    "start_time": "2022-07-04T08:39:38.365Z"
   },
   {
    "duration": 13,
    "start_time": "2022-07-04T08:39:38.389Z"
   },
   {
    "duration": 198,
    "start_time": "2022-07-04T08:39:38.403Z"
   },
   {
    "duration": 119,
    "start_time": "2022-07-04T08:39:38.603Z"
   },
   {
    "duration": 16,
    "start_time": "2022-07-04T08:39:38.723Z"
   },
   {
    "duration": 331,
    "start_time": "2022-07-04T08:39:38.740Z"
   },
   {
    "duration": 252,
    "start_time": "2022-07-04T08:39:39.073Z"
   },
   {
    "duration": 355,
    "start_time": "2022-07-04T08:39:39.327Z"
   },
   {
    "duration": 229,
    "start_time": "2022-07-04T08:39:39.688Z"
   },
   {
    "duration": 354,
    "start_time": "2022-07-04T08:39:39.919Z"
   },
   {
    "duration": 11,
    "start_time": "2022-07-04T08:39:40.275Z"
   },
   {
    "duration": 188,
    "start_time": "2022-07-04T08:39:40.288Z"
   },
   {
    "duration": 6,
    "start_time": "2022-07-04T08:39:40.477Z"
   },
   {
    "duration": 18,
    "start_time": "2022-07-04T08:39:40.484Z"
   },
   {
    "duration": 173,
    "start_time": "2022-07-04T08:39:40.504Z"
   },
   {
    "duration": 4,
    "start_time": "2022-07-04T08:39:40.679Z"
   },
   {
    "duration": 265,
    "start_time": "2022-07-04T08:39:40.685Z"
   },
   {
    "duration": 13,
    "start_time": "2022-07-04T08:39:40.952Z"
   },
   {
    "duration": 27,
    "start_time": "2022-07-04T08:39:40.967Z"
   },
   {
    "duration": 27,
    "start_time": "2022-07-04T08:39:40.996Z"
   },
   {
    "duration": 96,
    "start_time": "2022-07-04T08:39:41.024Z"
   },
   {
    "duration": 50,
    "start_time": "2022-07-04T08:39:41.122Z"
   },
   {
    "duration": 49,
    "start_time": "2022-07-04T08:39:41.174Z"
   },
   {
    "duration": 122,
    "start_time": "2022-07-04T08:39:41.225Z"
   },
   {
    "duration": 73,
    "start_time": "2022-07-04T08:39:41.352Z"
   },
   {
    "duration": 55,
    "start_time": "2022-07-04T08:39:41.431Z"
   },
   {
    "duration": 14,
    "start_time": "2022-07-04T08:39:41.488Z"
   },
   {
    "duration": 10,
    "start_time": "2022-07-04T08:39:41.503Z"
   },
   {
    "duration": 8,
    "start_time": "2022-07-04T08:39:41.514Z"
   },
   {
    "duration": 8,
    "start_time": "2022-07-04T08:39:41.523Z"
   },
   {
    "duration": 161,
    "start_time": "2022-07-04T08:39:41.537Z"
   },
   {
    "duration": 9,
    "start_time": "2022-07-04T08:39:41.700Z"
   },
   {
    "duration": 55,
    "start_time": "2022-07-04T08:39:41.710Z"
   },
   {
    "duration": 16,
    "start_time": "2022-07-04T08:39:41.767Z"
   },
   {
    "duration": 55,
    "start_time": "2022-07-04T09:36:06.686Z"
   },
   {
    "duration": 1295,
    "start_time": "2022-07-04T09:36:13.910Z"
   },
   {
    "duration": 90,
    "start_time": "2022-07-04T09:36:15.207Z"
   },
   {
    "duration": 11,
    "start_time": "2022-07-04T09:36:15.299Z"
   },
   {
    "duration": 3,
    "start_time": "2022-07-04T09:36:15.312Z"
   },
   {
    "duration": 9,
    "start_time": "2022-07-04T09:36:15.316Z"
   },
   {
    "duration": 20,
    "start_time": "2022-07-04T09:36:15.327Z"
   },
   {
    "duration": 9,
    "start_time": "2022-07-04T09:36:15.348Z"
   },
   {
    "duration": 15,
    "start_time": "2022-07-04T09:36:15.358Z"
   },
   {
    "duration": 10,
    "start_time": "2022-07-04T09:36:15.375Z"
   },
   {
    "duration": 483,
    "start_time": "2022-07-04T09:36:15.388Z"
   },
   {
    "duration": 102,
    "start_time": "2022-07-04T09:36:15.873Z"
   },
   {
    "duration": 8,
    "start_time": "2022-07-04T09:36:15.977Z"
   },
   {
    "duration": 16,
    "start_time": "2022-07-04T09:36:15.987Z"
   },
   {
    "duration": 6,
    "start_time": "2022-07-04T09:36:16.005Z"
   },
   {
    "duration": 47,
    "start_time": "2022-07-04T09:36:16.013Z"
   },
   {
    "duration": 9,
    "start_time": "2022-07-04T09:36:16.062Z"
   },
   {
    "duration": 7,
    "start_time": "2022-07-04T09:36:16.075Z"
   },
   {
    "duration": 15,
    "start_time": "2022-07-04T09:36:16.084Z"
   },
   {
    "duration": 10,
    "start_time": "2022-07-04T09:36:16.100Z"
   },
   {
    "duration": 8,
    "start_time": "2022-07-04T09:36:16.112Z"
   },
   {
    "duration": 16,
    "start_time": "2022-07-04T09:36:16.122Z"
   },
   {
    "duration": 16,
    "start_time": "2022-07-04T09:36:16.139Z"
   },
   {
    "duration": 21,
    "start_time": "2022-07-04T09:36:16.157Z"
   },
   {
    "duration": 6,
    "start_time": "2022-07-04T09:36:16.180Z"
   },
   {
    "duration": 14,
    "start_time": "2022-07-04T09:36:16.188Z"
   },
   {
    "duration": 13,
    "start_time": "2022-07-04T09:36:16.204Z"
   },
   {
    "duration": 19,
    "start_time": "2022-07-04T09:36:16.219Z"
   },
   {
    "duration": 11,
    "start_time": "2022-07-04T09:36:16.247Z"
   },
   {
    "duration": 14,
    "start_time": "2022-07-04T09:36:16.260Z"
   },
   {
    "duration": 91,
    "start_time": "2022-07-04T09:36:16.276Z"
   },
   {
    "duration": 8,
    "start_time": "2022-07-04T09:36:16.369Z"
   },
   {
    "duration": 11,
    "start_time": "2022-07-04T09:36:16.378Z"
   },
   {
    "duration": 5,
    "start_time": "2022-07-04T09:36:16.391Z"
   },
   {
    "duration": 12,
    "start_time": "2022-07-04T09:36:16.397Z"
   },
   {
    "duration": 178,
    "start_time": "2022-07-04T09:36:16.410Z"
   },
   {
    "duration": 122,
    "start_time": "2022-07-04T09:36:16.590Z"
   },
   {
    "duration": 34,
    "start_time": "2022-07-04T09:36:16.714Z"
   },
   {
    "duration": 313,
    "start_time": "2022-07-04T09:36:16.749Z"
   },
   {
    "duration": 250,
    "start_time": "2022-07-04T09:36:17.063Z"
   },
   {
    "duration": 347,
    "start_time": "2022-07-04T09:36:17.315Z"
   },
   {
    "duration": 209,
    "start_time": "2022-07-04T09:36:17.664Z"
   },
   {
    "duration": 286,
    "start_time": "2022-07-04T09:36:17.874Z"
   },
   {
    "duration": 10,
    "start_time": "2022-07-04T09:36:18.162Z"
   },
   {
    "duration": 169,
    "start_time": "2022-07-04T09:36:18.173Z"
   },
   {
    "duration": 8,
    "start_time": "2022-07-04T09:36:18.344Z"
   },
   {
    "duration": 8,
    "start_time": "2022-07-04T09:36:18.353Z"
   },
   {
    "duration": 145,
    "start_time": "2022-07-04T09:36:18.363Z"
   },
   {
    "duration": 6,
    "start_time": "2022-07-04T09:36:18.509Z"
   },
   {
    "duration": 226,
    "start_time": "2022-07-04T09:36:18.516Z"
   },
   {
    "duration": 7,
    "start_time": "2022-07-04T09:36:18.744Z"
   },
   {
    "duration": 5,
    "start_time": "2022-07-04T09:36:18.752Z"
   },
   {
    "duration": 6,
    "start_time": "2022-07-04T09:36:18.758Z"
   },
   {
    "duration": 46,
    "start_time": "2022-07-04T09:36:18.765Z"
   },
   {
    "duration": 21,
    "start_time": "2022-07-04T09:36:18.812Z"
   },
   {
    "duration": 56,
    "start_time": "2022-07-04T09:36:18.835Z"
   },
   {
    "duration": 63,
    "start_time": "2022-07-04T09:36:18.893Z"
   },
   {
    "duration": 58,
    "start_time": "2022-07-04T09:36:18.958Z"
   },
   {
    "duration": 31,
    "start_time": "2022-07-04T09:36:19.028Z"
   },
   {
    "duration": 11,
    "start_time": "2022-07-04T09:36:19.061Z"
   },
   {
    "duration": 12,
    "start_time": "2022-07-04T09:36:19.074Z"
   },
   {
    "duration": 7,
    "start_time": "2022-07-04T09:36:19.088Z"
   },
   {
    "duration": 8,
    "start_time": "2022-07-04T09:36:19.096Z"
   },
   {
    "duration": 193,
    "start_time": "2022-07-04T09:36:19.106Z"
   },
   {
    "duration": 9,
    "start_time": "2022-07-04T09:36:19.301Z"
   },
   {
    "duration": 47,
    "start_time": "2022-07-04T09:36:19.312Z"
   },
   {
    "duration": 17,
    "start_time": "2022-07-04T09:36:19.361Z"
   },
   {
    "duration": 338,
    "start_time": "2022-07-04T09:37:52.385Z"
   },
   {
    "duration": 193,
    "start_time": "2022-07-04T09:40:32.852Z"
   },
   {
    "duration": 189,
    "start_time": "2022-07-04T09:41:00.541Z"
   },
   {
    "duration": 317,
    "start_time": "2022-07-04T09:42:37.944Z"
   },
   {
    "duration": 166,
    "start_time": "2022-07-04T09:43:52.946Z"
   },
   {
    "duration": 179,
    "start_time": "2022-07-04T09:44:26.134Z"
   },
   {
    "duration": 195,
    "start_time": "2022-07-04T09:44:46.154Z"
   },
   {
    "duration": 214,
    "start_time": "2022-07-04T09:45:39.347Z"
   },
   {
    "duration": 357,
    "start_time": "2022-07-04T09:45:49.637Z"
   },
   {
    "duration": 182,
    "start_time": "2022-07-04T09:46:03.504Z"
   },
   {
    "duration": 167,
    "start_time": "2022-07-04T09:46:17.226Z"
   },
   {
    "duration": 175,
    "start_time": "2022-07-04T09:46:26.816Z"
   },
   {
    "duration": 305,
    "start_time": "2022-07-04T09:47:31.708Z"
   },
   {
    "duration": 128,
    "start_time": "2022-07-04T09:48:21.346Z"
   },
   {
    "duration": 1240,
    "start_time": "2022-07-05T09:18:43.534Z"
   },
   {
    "duration": 56,
    "start_time": "2022-07-05T09:18:44.777Z"
   },
   {
    "duration": 16,
    "start_time": "2022-07-05T09:18:44.835Z"
   },
   {
    "duration": 21,
    "start_time": "2022-07-05T09:18:44.853Z"
   },
   {
    "duration": 62,
    "start_time": "2022-07-05T09:18:44.878Z"
   },
   {
    "duration": 30,
    "start_time": "2022-07-05T09:18:44.942Z"
   },
   {
    "duration": 60,
    "start_time": "2022-07-05T09:18:44.974Z"
   },
   {
    "duration": 29,
    "start_time": "2022-07-05T09:18:45.037Z"
   },
   {
    "duration": 13,
    "start_time": "2022-07-05T09:18:45.068Z"
   },
   {
    "duration": 579,
    "start_time": "2022-07-05T09:18:45.083Z"
   },
   {
    "duration": 67,
    "start_time": "2022-07-05T09:18:45.665Z"
   },
   {
    "duration": 11,
    "start_time": "2022-07-05T09:18:45.735Z"
   },
   {
    "duration": 30,
    "start_time": "2022-07-05T09:18:45.748Z"
   },
   {
    "duration": 14,
    "start_time": "2022-07-05T09:18:45.782Z"
   },
   {
    "duration": 32,
    "start_time": "2022-07-05T09:18:45.798Z"
   },
   {
    "duration": 9,
    "start_time": "2022-07-05T09:18:45.833Z"
   },
   {
    "duration": 11,
    "start_time": "2022-07-05T09:18:45.844Z"
   },
   {
    "duration": 14,
    "start_time": "2022-07-05T09:18:45.857Z"
   },
   {
    "duration": 13,
    "start_time": "2022-07-05T09:18:45.874Z"
   },
   {
    "duration": 13,
    "start_time": "2022-07-05T09:18:45.889Z"
   },
   {
    "duration": 13,
    "start_time": "2022-07-05T09:18:45.910Z"
   },
   {
    "duration": 9,
    "start_time": "2022-07-05T09:18:45.925Z"
   },
   {
    "duration": 15,
    "start_time": "2022-07-05T09:18:45.937Z"
   },
   {
    "duration": 6,
    "start_time": "2022-07-05T09:18:45.954Z"
   },
   {
    "duration": 11,
    "start_time": "2022-07-05T09:18:45.962Z"
   },
   {
    "duration": 43,
    "start_time": "2022-07-05T09:18:45.975Z"
   },
   {
    "duration": 8,
    "start_time": "2022-07-05T09:18:46.020Z"
   },
   {
    "duration": 14,
    "start_time": "2022-07-05T09:18:46.030Z"
   },
   {
    "duration": 13,
    "start_time": "2022-07-05T09:18:46.046Z"
   },
   {
    "duration": 51,
    "start_time": "2022-07-05T09:18:46.060Z"
   },
   {
    "duration": 11,
    "start_time": "2022-07-05T09:18:46.113Z"
   },
   {
    "duration": 12,
    "start_time": "2022-07-05T09:18:46.126Z"
   },
   {
    "duration": 6,
    "start_time": "2022-07-05T09:18:46.140Z"
   },
   {
    "duration": 15,
    "start_time": "2022-07-05T09:18:46.148Z"
   },
   {
    "duration": 212,
    "start_time": "2022-07-05T09:18:46.165Z"
   },
   {
    "duration": 139,
    "start_time": "2022-07-05T09:18:46.380Z"
   },
   {
    "duration": 18,
    "start_time": "2022-07-05T09:18:46.521Z"
   },
   {
    "duration": 330,
    "start_time": "2022-07-05T09:18:46.541Z"
   },
   {
    "duration": 295,
    "start_time": "2022-07-05T09:18:46.873Z"
   },
   {
    "duration": 384,
    "start_time": "2022-07-05T09:18:47.170Z"
   },
   {
    "duration": 269,
    "start_time": "2022-07-05T09:18:47.558Z"
   },
   {
    "duration": 365,
    "start_time": "2022-07-05T09:18:47.829Z"
   },
   {
    "duration": 25,
    "start_time": "2022-07-05T09:18:48.196Z"
   },
   {
    "duration": 193,
    "start_time": "2022-07-05T09:18:48.223Z"
   },
   {
    "duration": 6,
    "start_time": "2022-07-05T09:18:48.418Z"
   },
   {
    "duration": 21,
    "start_time": "2022-07-05T09:18:48.426Z"
   },
   {
    "duration": 180,
    "start_time": "2022-07-05T09:18:48.449Z"
   },
   {
    "duration": 6,
    "start_time": "2022-07-05T09:18:48.631Z"
   },
   {
    "duration": 259,
    "start_time": "2022-07-05T09:18:48.638Z"
   },
   {
    "duration": 22,
    "start_time": "2022-07-05T09:18:48.899Z"
   },
   {
    "duration": 9,
    "start_time": "2022-07-05T09:18:48.924Z"
   },
   {
    "duration": 11,
    "start_time": "2022-07-05T09:18:48.935Z"
   },
   {
    "duration": 67,
    "start_time": "2022-07-05T09:18:48.948Z"
   },
   {
    "duration": 10,
    "start_time": "2022-07-05T09:18:49.017Z"
   },
   {
    "duration": 51,
    "start_time": "2022-07-05T09:18:49.029Z"
   },
   {
    "duration": 69,
    "start_time": "2022-07-05T09:18:49.081Z"
   },
   {
    "duration": 75,
    "start_time": "2022-07-05T09:18:49.152Z"
   },
   {
    "duration": 20,
    "start_time": "2022-07-05T09:18:49.228Z"
   },
   {
    "duration": 10,
    "start_time": "2022-07-05T09:18:49.250Z"
   },
   {
    "duration": 13,
    "start_time": "2022-07-05T09:18:49.261Z"
   },
   {
    "duration": 33,
    "start_time": "2022-07-05T09:18:49.276Z"
   },
   {
    "duration": 17,
    "start_time": "2022-07-05T09:18:49.311Z"
   },
   {
    "duration": 174,
    "start_time": "2022-07-05T09:18:49.330Z"
   },
   {
    "duration": 12,
    "start_time": "2022-07-05T09:18:49.511Z"
   },
   {
    "duration": 29,
    "start_time": "2022-07-05T09:18:49.525Z"
   },
   {
    "duration": 14,
    "start_time": "2022-07-05T09:18:49.557Z"
   },
   {
    "duration": 1404,
    "start_time": "2022-11-18T13:15:13.942Z"
   },
   {
    "duration": 85,
    "start_time": "2022-11-18T13:15:15.348Z"
   },
   {
    "duration": 13,
    "start_time": "2022-11-18T13:15:15.434Z"
   },
   {
    "duration": 11,
    "start_time": "2022-11-18T13:15:15.448Z"
   },
   {
    "duration": 12,
    "start_time": "2022-11-18T13:15:15.461Z"
   },
   {
    "duration": 16,
    "start_time": "2022-11-18T13:15:15.475Z"
   },
   {
    "duration": 14,
    "start_time": "2022-11-18T13:15:15.492Z"
   },
   {
    "duration": 19,
    "start_time": "2022-11-18T13:15:15.507Z"
   },
   {
    "duration": 12,
    "start_time": "2022-11-18T13:15:15.528Z"
   },
   {
    "duration": 534,
    "start_time": "2022-11-18T13:15:15.542Z"
   },
   {
    "duration": 73,
    "start_time": "2022-11-18T13:15:16.078Z"
   },
   {
    "duration": 9,
    "start_time": "2022-11-18T13:15:16.152Z"
   },
   {
    "duration": 17,
    "start_time": "2022-11-18T13:15:16.162Z"
   },
   {
    "duration": 83,
    "start_time": "2022-11-18T13:15:16.180Z"
   },
   {
    "duration": 11,
    "start_time": "2022-11-18T13:15:16.265Z"
   },
   {
    "duration": 8,
    "start_time": "2022-11-18T13:15:16.278Z"
   },
   {
    "duration": 12,
    "start_time": "2022-11-18T13:15:16.288Z"
   },
   {
    "duration": 18,
    "start_time": "2022-11-18T13:15:16.302Z"
   },
   {
    "duration": 11,
    "start_time": "2022-11-18T13:15:16.322Z"
   },
   {
    "duration": 8,
    "start_time": "2022-11-18T13:15:16.335Z"
   },
   {
    "duration": 12,
    "start_time": "2022-11-18T13:15:16.345Z"
   },
   {
    "duration": 8,
    "start_time": "2022-11-18T13:15:16.359Z"
   },
   {
    "duration": 15,
    "start_time": "2022-11-18T13:15:16.368Z"
   },
   {
    "duration": 5,
    "start_time": "2022-11-18T13:15:16.384Z"
   },
   {
    "duration": 33,
    "start_time": "2022-11-18T13:15:16.391Z"
   },
   {
    "duration": 9,
    "start_time": "2022-11-18T13:15:16.426Z"
   },
   {
    "duration": 17,
    "start_time": "2022-11-18T13:15:16.436Z"
   },
   {
    "duration": 5,
    "start_time": "2022-11-18T13:15:16.457Z"
   },
   {
    "duration": 14,
    "start_time": "2022-11-18T13:15:16.463Z"
   },
   {
    "duration": 79,
    "start_time": "2022-11-18T13:15:16.479Z"
   },
   {
    "duration": 7,
    "start_time": "2022-11-18T13:15:16.560Z"
   },
   {
    "duration": 12,
    "start_time": "2022-11-18T13:15:16.569Z"
   },
   {
    "duration": 6,
    "start_time": "2022-11-18T13:15:16.583Z"
   },
   {
    "duration": 12,
    "start_time": "2022-11-18T13:15:16.591Z"
   },
   {
    "duration": 181,
    "start_time": "2022-11-18T13:15:16.605Z"
   },
   {
    "duration": 123,
    "start_time": "2022-11-18T13:15:16.787Z"
   },
   {
    "duration": 21,
    "start_time": "2022-11-18T13:15:16.912Z"
   },
   {
    "duration": 303,
    "start_time": "2022-11-18T13:15:16.935Z"
   },
   {
    "duration": 232,
    "start_time": "2022-11-18T13:15:17.240Z"
   },
   {
    "duration": 358,
    "start_time": "2022-11-18T13:15:17.474Z"
   },
   {
    "duration": 245,
    "start_time": "2022-11-18T13:15:17.834Z"
   },
   {
    "duration": 324,
    "start_time": "2022-11-18T13:15:18.080Z"
   },
   {
    "duration": 19,
    "start_time": "2022-11-18T13:15:18.406Z"
   },
   {
    "duration": 184,
    "start_time": "2022-11-18T13:15:18.426Z"
   },
   {
    "duration": 11,
    "start_time": "2022-11-18T13:15:18.612Z"
   },
   {
    "duration": 23,
    "start_time": "2022-11-18T13:15:18.625Z"
   },
   {
    "duration": 167,
    "start_time": "2022-11-18T13:15:18.649Z"
   },
   {
    "duration": 6,
    "start_time": "2022-11-18T13:15:18.818Z"
   },
   {
    "duration": 263,
    "start_time": "2022-11-18T13:15:18.826Z"
   },
   {
    "duration": 9,
    "start_time": "2022-11-18T13:15:19.090Z"
   },
   {
    "duration": 8,
    "start_time": "2022-11-18T13:15:19.101Z"
   },
   {
    "duration": 15,
    "start_time": "2022-11-18T13:15:19.111Z"
   },
   {
    "duration": 57,
    "start_time": "2022-11-18T13:15:19.128Z"
   },
   {
    "duration": 10,
    "start_time": "2022-11-18T13:15:19.187Z"
   },
   {
    "duration": 63,
    "start_time": "2022-11-18T13:15:19.199Z"
   },
   {
    "duration": 74,
    "start_time": "2022-11-18T13:15:19.264Z"
   },
   {
    "duration": 73,
    "start_time": "2022-11-18T13:15:19.340Z"
   },
   {
    "duration": 28,
    "start_time": "2022-11-18T13:15:19.415Z"
   },
   {
    "duration": 13,
    "start_time": "2022-11-18T13:15:19.445Z"
   },
   {
    "duration": 15,
    "start_time": "2022-11-18T13:15:19.459Z"
   },
   {
    "duration": 10,
    "start_time": "2022-11-18T13:15:19.476Z"
   },
   {
    "duration": 35,
    "start_time": "2022-11-18T13:15:19.488Z"
   },
   {
    "duration": 197,
    "start_time": "2022-11-18T13:15:19.525Z"
   },
   {
    "duration": 10,
    "start_time": "2022-11-18T13:15:19.724Z"
   },
   {
    "duration": 30,
    "start_time": "2022-11-18T13:15:19.736Z"
   },
   {
    "duration": 15,
    "start_time": "2022-11-18T13:15:19.768Z"
   },
   {
    "duration": 3,
    "start_time": "2022-11-18T13:18:45.756Z"
   },
   {
    "duration": 8,
    "start_time": "2022-11-18T13:18:47.940Z"
   },
   {
    "duration": 13,
    "start_time": "2022-11-18T13:19:35.469Z"
   },
   {
    "duration": 96,
    "start_time": "2022-11-18T13:22:50.956Z"
   },
   {
    "duration": 7,
    "start_time": "2022-11-18T13:24:34.581Z"
   },
   {
    "duration": 6,
    "start_time": "2022-11-18T13:24:52.613Z"
   },
   {
    "duration": 1390,
    "start_time": "2023-07-04T11:25:09.157Z"
   },
   {
    "duration": 74,
    "start_time": "2023-07-04T11:25:10.550Z"
   },
   {
    "duration": 13,
    "start_time": "2023-07-04T11:25:10.626Z"
   },
   {
    "duration": 3,
    "start_time": "2023-07-04T11:25:10.642Z"
   },
   {
    "duration": 11,
    "start_time": "2023-07-04T11:25:10.647Z"
   },
   {
    "duration": 4,
    "start_time": "2023-07-04T11:25:10.660Z"
   },
   {
    "duration": 11,
    "start_time": "2023-07-04T11:25:10.666Z"
   },
   {
    "duration": 15,
    "start_time": "2023-07-04T11:25:10.679Z"
   },
   {
    "duration": 26,
    "start_time": "2023-07-04T11:25:10.695Z"
   },
   {
    "duration": 508,
    "start_time": "2023-07-04T11:25:10.723Z"
   },
   {
    "duration": 105,
    "start_time": "2023-07-04T11:25:11.233Z"
   },
   {
    "duration": 8,
    "start_time": "2023-07-04T11:25:11.340Z"
   },
   {
    "duration": 20,
    "start_time": "2023-07-04T11:25:11.350Z"
   },
   {
    "duration": 4,
    "start_time": "2023-07-04T11:25:11.372Z"
   },
   {
    "duration": 5,
    "start_time": "2023-07-04T11:25:11.378Z"
   },
   {
    "duration": 6,
    "start_time": "2023-07-04T11:25:11.384Z"
   },
   {
    "duration": 7,
    "start_time": "2023-07-04T11:25:11.391Z"
   },
   {
    "duration": 15,
    "start_time": "2023-07-04T11:25:11.399Z"
   },
   {
    "duration": 6,
    "start_time": "2023-07-04T11:25:11.416Z"
   },
   {
    "duration": 22,
    "start_time": "2023-07-04T11:25:11.424Z"
   },
   {
    "duration": 6,
    "start_time": "2023-07-04T11:25:11.448Z"
   },
   {
    "duration": 17,
    "start_time": "2023-07-04T11:25:11.456Z"
   },
   {
    "duration": 14,
    "start_time": "2023-07-04T11:25:11.474Z"
   },
   {
    "duration": 4,
    "start_time": "2023-07-04T11:25:11.490Z"
   },
   {
    "duration": 17,
    "start_time": "2023-07-04T11:25:11.496Z"
   },
   {
    "duration": 10,
    "start_time": "2023-07-04T11:25:11.515Z"
   },
   {
    "duration": 37,
    "start_time": "2023-07-04T11:25:11.527Z"
   },
   {
    "duration": 6,
    "start_time": "2023-07-04T11:25:11.568Z"
   },
   {
    "duration": 11,
    "start_time": "2023-07-04T11:25:11.576Z"
   },
   {
    "duration": 69,
    "start_time": "2023-07-04T11:25:11.589Z"
   },
   {
    "duration": 8,
    "start_time": "2023-07-04T11:25:11.660Z"
   },
   {
    "duration": 11,
    "start_time": "2023-07-04T11:25:11.669Z"
   },
   {
    "duration": 13,
    "start_time": "2023-07-04T11:25:11.682Z"
   },
   {
    "duration": 26,
    "start_time": "2023-07-04T11:25:11.697Z"
   },
   {
    "duration": 201,
    "start_time": "2023-07-04T11:25:11.725Z"
   },
   {
    "duration": 138,
    "start_time": "2023-07-04T11:25:11.928Z"
   },
   {
    "duration": 13,
    "start_time": "2023-07-04T11:25:12.068Z"
   },
   {
    "duration": 327,
    "start_time": "2023-07-04T11:25:12.083Z"
   },
   {
    "duration": 243,
    "start_time": "2023-07-04T11:25:12.413Z"
   },
   {
    "duration": 375,
    "start_time": "2023-07-04T11:25:12.658Z"
   },
   {
    "duration": 258,
    "start_time": "2023-07-04T11:25:13.035Z"
   },
   {
    "duration": 376,
    "start_time": "2023-07-04T11:25:13.295Z"
   },
   {
    "duration": 12,
    "start_time": "2023-07-04T11:25:13.673Z"
   },
   {
    "duration": 203,
    "start_time": "2023-07-04T11:25:13.687Z"
   },
   {
    "duration": 21,
    "start_time": "2023-07-04T11:25:13.892Z"
   },
   {
    "duration": 9,
    "start_time": "2023-07-04T11:25:13.915Z"
   },
   {
    "duration": 186,
    "start_time": "2023-07-04T11:25:13.925Z"
   },
   {
    "duration": 6,
    "start_time": "2023-07-04T11:25:14.113Z"
   },
   {
    "duration": 254,
    "start_time": "2023-07-04T11:25:14.121Z"
   },
   {
    "duration": 9,
    "start_time": "2023-07-04T11:25:14.377Z"
   },
   {
    "duration": 19,
    "start_time": "2023-07-04T11:25:14.388Z"
   },
   {
    "duration": 8,
    "start_time": "2023-07-04T11:25:14.412Z"
   },
   {
    "duration": 50,
    "start_time": "2023-07-04T11:25:14.421Z"
   },
   {
    "duration": 11,
    "start_time": "2023-07-04T11:25:14.473Z"
   },
   {
    "duration": 63,
    "start_time": "2023-07-04T11:25:14.486Z"
   },
   {
    "duration": 99,
    "start_time": "2023-07-04T11:25:14.551Z"
   },
   {
    "duration": 77,
    "start_time": "2023-07-04T11:25:14.652Z"
   },
   {
    "duration": 21,
    "start_time": "2023-07-04T11:25:14.731Z"
   },
   {
    "duration": 10,
    "start_time": "2023-07-04T11:25:14.754Z"
   },
   {
    "duration": 32,
    "start_time": "2023-07-04T11:25:14.766Z"
   },
   {
    "duration": 18,
    "start_time": "2023-07-04T11:25:14.800Z"
   },
   {
    "duration": 5,
    "start_time": "2023-07-04T11:25:14.820Z"
   },
   {
    "duration": 155,
    "start_time": "2023-07-04T11:25:14.826Z"
   },
   {
    "duration": 9,
    "start_time": "2023-07-04T11:25:14.983Z"
   },
   {
    "duration": 44,
    "start_time": "2023-07-04T11:25:14.995Z"
   },
   {
    "duration": 49,
    "start_time": "2023-07-04T11:25:15.041Z"
   },
   {
    "duration": 25,
    "start_time": "2023-07-04T11:25:15.092Z"
   },
   {
    "duration": 28,
    "start_time": "2023-07-04T11:25:15.119Z"
   },
   {
    "duration": 1173,
    "start_time": "2024-01-28T19:02:13.957Z"
   },
   {
    "duration": 61,
    "start_time": "2024-01-28T19:02:15.132Z"
   },
   {
    "duration": 11,
    "start_time": "2024-01-28T19:02:15.194Z"
   },
   {
    "duration": 25,
    "start_time": "2024-01-28T19:02:15.207Z"
   },
   {
    "duration": 26,
    "start_time": "2024-01-28T19:02:15.233Z"
   },
   {
    "duration": 31,
    "start_time": "2024-01-28T19:02:15.260Z"
   },
   {
    "duration": 22,
    "start_time": "2024-01-28T19:02:15.293Z"
   },
   {
    "duration": 31,
    "start_time": "2024-01-28T19:02:15.317Z"
   },
   {
    "duration": 17,
    "start_time": "2024-01-28T19:02:15.350Z"
   },
   {
    "duration": 513,
    "start_time": "2024-01-28T19:02:15.370Z"
   },
   {
    "duration": 82,
    "start_time": "2024-01-28T19:02:15.885Z"
   },
   {
    "duration": 8,
    "start_time": "2024-01-28T19:02:15.968Z"
   },
   {
    "duration": 31,
    "start_time": "2024-01-28T19:02:15.977Z"
   },
   {
    "duration": 27,
    "start_time": "2024-01-28T19:02:16.010Z"
   },
   {
    "duration": 30,
    "start_time": "2024-01-28T19:02:16.039Z"
   },
   {
    "duration": 34,
    "start_time": "2024-01-28T19:02:16.073Z"
   },
   {
    "duration": 25,
    "start_time": "2024-01-28T19:02:16.109Z"
   },
   {
    "duration": 36,
    "start_time": "2024-01-28T19:02:16.136Z"
   },
   {
    "duration": 36,
    "start_time": "2024-01-28T19:02:16.173Z"
   },
   {
    "duration": 16,
    "start_time": "2024-01-28T19:02:16.211Z"
   },
   {
    "duration": 38,
    "start_time": "2024-01-28T19:02:16.229Z"
   },
   {
    "duration": 48,
    "start_time": "2024-01-28T19:02:16.269Z"
   },
   {
    "duration": 52,
    "start_time": "2024-01-28T19:02:16.319Z"
   },
   {
    "duration": 30,
    "start_time": "2024-01-28T19:02:16.373Z"
   },
   {
    "duration": 25,
    "start_time": "2024-01-28T19:02:16.404Z"
   },
   {
    "duration": 18,
    "start_time": "2024-01-28T19:02:16.431Z"
   },
   {
    "duration": 44,
    "start_time": "2024-01-28T19:02:16.451Z"
   },
   {
    "duration": 26,
    "start_time": "2024-01-28T19:02:16.498Z"
   },
   {
    "duration": 17,
    "start_time": "2024-01-28T19:02:16.526Z"
   },
   {
    "duration": 106,
    "start_time": "2024-01-28T19:02:16.545Z"
   },
   {
    "duration": 8,
    "start_time": "2024-01-28T19:02:16.653Z"
   },
   {
    "duration": 79,
    "start_time": "2024-01-28T19:02:16.662Z"
   },
   {
    "duration": 19,
    "start_time": "2024-01-28T19:02:16.742Z"
   },
   {
    "duration": 28,
    "start_time": "2024-01-28T19:02:16.762Z"
   },
   {
    "duration": 187,
    "start_time": "2024-01-28T19:02:16.792Z"
   },
   {
    "duration": 122,
    "start_time": "2024-01-28T19:02:16.981Z"
   },
   {
    "duration": 14,
    "start_time": "2024-01-28T19:02:17.104Z"
   },
   {
    "duration": 294,
    "start_time": "2024-01-28T19:02:17.120Z"
   },
   {
    "duration": 222,
    "start_time": "2024-01-28T19:02:17.416Z"
   },
   {
    "duration": 357,
    "start_time": "2024-01-28T19:02:17.640Z"
   },
   {
    "duration": 216,
    "start_time": "2024-01-28T19:02:17.999Z"
   },
   {
    "duration": 307,
    "start_time": "2024-01-28T19:02:18.217Z"
   },
   {
    "duration": 11,
    "start_time": "2024-01-28T19:02:18.526Z"
   },
   {
    "duration": 182,
    "start_time": "2024-01-28T19:02:18.538Z"
   },
   {
    "duration": 5,
    "start_time": "2024-01-28T19:02:18.721Z"
   },
   {
    "duration": 10,
    "start_time": "2024-01-28T19:02:18.728Z"
   },
   {
    "duration": 170,
    "start_time": "2024-01-28T19:02:18.740Z"
   },
   {
    "duration": 5,
    "start_time": "2024-01-28T19:02:18.913Z"
   },
   {
    "duration": 241,
    "start_time": "2024-01-28T19:02:18.920Z"
   },
   {
    "duration": 7,
    "start_time": "2024-01-28T19:02:19.166Z"
   },
   {
    "duration": 6,
    "start_time": "2024-01-28T19:02:19.174Z"
   },
   {
    "duration": 5,
    "start_time": "2024-01-28T19:02:19.181Z"
   },
   {
    "duration": 52,
    "start_time": "2024-01-28T19:02:19.188Z"
   },
   {
    "duration": 23,
    "start_time": "2024-01-28T19:02:19.242Z"
   },
   {
    "duration": 45,
    "start_time": "2024-01-28T19:02:19.267Z"
   },
   {
    "duration": 66,
    "start_time": "2024-01-28T19:02:19.313Z"
   },
   {
    "duration": 58,
    "start_time": "2024-01-28T19:02:19.381Z"
   },
   {
    "duration": 37,
    "start_time": "2024-01-28T19:02:19.441Z"
   },
   {
    "duration": 9,
    "start_time": "2024-01-28T19:02:19.479Z"
   },
   {
    "duration": 20,
    "start_time": "2024-01-28T19:02:19.489Z"
   },
   {
    "duration": 8,
    "start_time": "2024-01-28T19:02:19.510Z"
   },
   {
    "duration": 8,
    "start_time": "2024-01-28T19:02:19.519Z"
   },
   {
    "duration": 125,
    "start_time": "2024-01-28T19:02:19.529Z"
   },
   {
    "duration": 15,
    "start_time": "2024-01-28T19:02:19.656Z"
   },
   {
    "duration": 28,
    "start_time": "2024-01-28T19:02:19.673Z"
   },
   {
    "duration": 12,
    "start_time": "2024-01-28T19:02:19.703Z"
   },
   {
    "duration": 3,
    "start_time": "2024-01-28T19:02:19.717Z"
   },
   {
    "duration": 16,
    "start_time": "2024-01-28T19:02:19.721Z"
   },
   {
    "duration": 454,
    "start_time": "2024-01-28T19:03:17.192Z"
   },
   {
    "duration": 428,
    "start_time": "2024-01-28T19:03:26.186Z"
   },
   {
    "duration": 434,
    "start_time": "2024-01-28T19:03:31.166Z"
   },
   {
    "duration": 203,
    "start_time": "2024-01-28T19:05:22.364Z"
   },
   {
    "duration": 205,
    "start_time": "2024-01-28T19:05:35.357Z"
   },
   {
    "duration": 324,
    "start_time": "2024-01-28T19:05:44.247Z"
   },
   {
    "duration": 223,
    "start_time": "2024-01-28T19:06:05.842Z"
   },
   {
    "duration": 302,
    "start_time": "2024-01-28T19:06:16.395Z"
   },
   {
    "duration": 153,
    "start_time": "2024-01-28T19:06:31.374Z"
   },
   {
    "duration": 152,
    "start_time": "2024-01-28T19:07:01.457Z"
   },
   {
    "duration": 148,
    "start_time": "2024-01-28T19:07:52.113Z"
   }
  ],
  "kernelspec": {
   "display_name": "Python 3 (ipykernel)",
   "language": "python",
   "name": "python3"
  },
  "language_info": {
   "codemirror_mode": {
    "name": "ipython",
    "version": 3
   },
   "file_extension": ".py",
   "mimetype": "text/x-python",
   "name": "python",
   "nbconvert_exporter": "python",
   "pygments_lexer": "ipython3",
   "version": "3.9.5"
  },
  "toc": {
   "base_numbering": 1,
   "nav_menu": {},
   "number_sections": true,
   "sideBar": true,
   "skip_h1_title": true,
   "title_cell": "Содержание",
   "title_sidebar": "Contents",
   "toc_cell": true,
   "toc_position": {},
   "toc_section_display": true,
   "toc_window_display": false
  }
 },
 "nbformat": 4,
 "nbformat_minor": 2
}
